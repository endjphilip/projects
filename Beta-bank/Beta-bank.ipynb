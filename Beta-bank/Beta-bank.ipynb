{
 "cells": [
  {
   "cell_type": "markdown",
   "metadata": {
    "toc": true
   },
   "source": [
    "<h1>Содержание<span class=\"tocSkip\"></span></h1>\n",
    "<div class=\"toc\"><ul class=\"toc-item\"><li><span><a href=\"#Подготовка-данных\" data-toc-modified-id=\"Подготовка-данных-1\"><span class=\"toc-item-num\">1&nbsp;&nbsp;</span>Подготовка данных</a></span></li><li><span><a href=\"#Исследование-задачи\" data-toc-modified-id=\"Исследование-задачи-2\"><span class=\"toc-item-num\">2&nbsp;&nbsp;</span>Исследование задачи</a></span></li><li><span><a href=\"#Борьба-с-дисбалансом\" data-toc-modified-id=\"Борьба-с-дисбалансом-3\"><span class=\"toc-item-num\">3&nbsp;&nbsp;</span>Борьба с дисбалансом</a></span></li><li><span><a href=\"#Тестирование-модели\" data-toc-modified-id=\"Тестирование-модели-4\"><span class=\"toc-item-num\">4&nbsp;&nbsp;</span>Тестирование модели</a></span></li><li><span><a href=\"#Общий-вывод\" data-toc-modified-id=\"Общий-вывод-5\"><span class=\"toc-item-num\">5&nbsp;&nbsp;</span>Общий вывод</a></span></li><li><span><a href=\"#Чек-лист-готовности-проекта\" data-toc-modified-id=\"Чек-лист-готовности-проекта-6\"><span class=\"toc-item-num\">6&nbsp;&nbsp;</span>Чек-лист готовности проекта</a></span></li></ul></div>"
   ]
  },
  {
   "cell_type": "markdown",
   "metadata": {},
   "source": [
    "# Отток клиентов"
   ]
  },
  {
   "cell_type": "markdown",
   "metadata": {},
   "source": [
    "Из «Бета-Банка» стали уходить клиенты. Каждый месяц. Немного, но заметно. Банковские маркетологи посчитали: сохранять текущих клиентов дешевле, чем привлекать новых.\n",
    "\n",
    "Нужно спрогнозировать, уйдёт клиент из банка в ближайшее время или нет. Нам предоставлены исторические данные о поведении клиентов и расторжении договоров с банком. \n",
    "\n",
    "Нужно построить модель с предельно большим значением *F1*-меры. Условие заказчика: нужно довести метрику до 0.59. Проверить *F1*-меру на тестовой выборке самостоятельно.\n",
    "\n",
    "Дополнительно измерить *AUC-ROC*, сравнить её значение с *F1*-мерой.\n",
    "\n",
    "Источник данных: [https://www.kaggle.com/barelydedicated/bank-customer-churn-modeling](https://www.kaggle.com/barelydedicated/bank-customer-churn-modeling)"
   ]
  },
  {
   "cell_type": "code",
   "execution_count": 17,
   "metadata": {},
   "outputs": [],
   "source": [
    "import pandas as pd\n",
    "import numpy as np\n",
    "import matplotlib.pyplot as plt\n",
    "import seaborn as sns\n",
    "from joblib import dump\n",
    "from sklearn.model_selection import train_test_split, GridSearchCV \n",
    "from sklearn.tree import DecisionTreeClassifier, DecisionTreeRegressor\n",
    "from sklearn.metrics import accuracy_score, f1_score, precision_score, recall_score, roc_auc_score, precision_recall_curve, roc_curve, confusion_matrix\n",
    "from sklearn.ensemble import RandomForestClassifier, RandomForestRegressor\n",
    "from sklearn.linear_model import LogisticRegression, LinearRegression"
   ]
  },
  {
   "cell_type": "markdown",
   "metadata": {},
   "source": [
    "## Подготовка данных"
   ]
  },
  {
   "cell_type": "markdown",
   "metadata": {},
   "source": [
    "Для начала откроем файл и ознакомимся с общей информацией."
   ]
  },
  {
   "cell_type": "code",
   "execution_count": 6,
   "metadata": {},
   "outputs": [],
   "source": [
    "df = pd.read_csv('datasets/Churn.csv')"
   ]
  },
  {
   "cell_type": "code",
   "execution_count": 7,
   "metadata": {},
   "outputs": [
    {
     "data": {
      "text/html": [
       "<div>\n",
       "<style scoped>\n",
       "    .dataframe tbody tr th:only-of-type {\n",
       "        vertical-align: middle;\n",
       "    }\n",
       "\n",
       "    .dataframe tbody tr th {\n",
       "        vertical-align: top;\n",
       "    }\n",
       "\n",
       "    .dataframe thead th {\n",
       "        text-align: right;\n",
       "    }\n",
       "</style>\n",
       "<table border=\"1\" class=\"dataframe\">\n",
       "  <thead>\n",
       "    <tr style=\"text-align: right;\">\n",
       "      <th></th>\n",
       "      <th>RowNumber</th>\n",
       "      <th>CustomerId</th>\n",
       "      <th>Surname</th>\n",
       "      <th>CreditScore</th>\n",
       "      <th>Geography</th>\n",
       "      <th>Gender</th>\n",
       "      <th>Age</th>\n",
       "      <th>Tenure</th>\n",
       "      <th>Balance</th>\n",
       "      <th>NumOfProducts</th>\n",
       "      <th>HasCrCard</th>\n",
       "      <th>IsActiveMember</th>\n",
       "      <th>EstimatedSalary</th>\n",
       "      <th>Exited</th>\n",
       "    </tr>\n",
       "  </thead>\n",
       "  <tbody>\n",
       "    <tr>\n",
       "      <th>0</th>\n",
       "      <td>1</td>\n",
       "      <td>15634602</td>\n",
       "      <td>Hargrave</td>\n",
       "      <td>619</td>\n",
       "      <td>France</td>\n",
       "      <td>Female</td>\n",
       "      <td>42</td>\n",
       "      <td>2.0</td>\n",
       "      <td>0.00</td>\n",
       "      <td>1</td>\n",
       "      <td>1</td>\n",
       "      <td>1</td>\n",
       "      <td>101348.88</td>\n",
       "      <td>1</td>\n",
       "    </tr>\n",
       "    <tr>\n",
       "      <th>1</th>\n",
       "      <td>2</td>\n",
       "      <td>15647311</td>\n",
       "      <td>Hill</td>\n",
       "      <td>608</td>\n",
       "      <td>Spain</td>\n",
       "      <td>Female</td>\n",
       "      <td>41</td>\n",
       "      <td>1.0</td>\n",
       "      <td>83807.86</td>\n",
       "      <td>1</td>\n",
       "      <td>0</td>\n",
       "      <td>1</td>\n",
       "      <td>112542.58</td>\n",
       "      <td>0</td>\n",
       "    </tr>\n",
       "    <tr>\n",
       "      <th>2</th>\n",
       "      <td>3</td>\n",
       "      <td>15619304</td>\n",
       "      <td>Onio</td>\n",
       "      <td>502</td>\n",
       "      <td>France</td>\n",
       "      <td>Female</td>\n",
       "      <td>42</td>\n",
       "      <td>8.0</td>\n",
       "      <td>159660.80</td>\n",
       "      <td>3</td>\n",
       "      <td>1</td>\n",
       "      <td>0</td>\n",
       "      <td>113931.57</td>\n",
       "      <td>1</td>\n",
       "    </tr>\n",
       "    <tr>\n",
       "      <th>3</th>\n",
       "      <td>4</td>\n",
       "      <td>15701354</td>\n",
       "      <td>Boni</td>\n",
       "      <td>699</td>\n",
       "      <td>France</td>\n",
       "      <td>Female</td>\n",
       "      <td>39</td>\n",
       "      <td>1.0</td>\n",
       "      <td>0.00</td>\n",
       "      <td>2</td>\n",
       "      <td>0</td>\n",
       "      <td>0</td>\n",
       "      <td>93826.63</td>\n",
       "      <td>0</td>\n",
       "    </tr>\n",
       "    <tr>\n",
       "      <th>4</th>\n",
       "      <td>5</td>\n",
       "      <td>15737888</td>\n",
       "      <td>Mitchell</td>\n",
       "      <td>850</td>\n",
       "      <td>Spain</td>\n",
       "      <td>Female</td>\n",
       "      <td>43</td>\n",
       "      <td>2.0</td>\n",
       "      <td>125510.82</td>\n",
       "      <td>1</td>\n",
       "      <td>1</td>\n",
       "      <td>1</td>\n",
       "      <td>79084.10</td>\n",
       "      <td>0</td>\n",
       "    </tr>\n",
       "    <tr>\n",
       "      <th>5</th>\n",
       "      <td>6</td>\n",
       "      <td>15574012</td>\n",
       "      <td>Chu</td>\n",
       "      <td>645</td>\n",
       "      <td>Spain</td>\n",
       "      <td>Male</td>\n",
       "      <td>44</td>\n",
       "      <td>8.0</td>\n",
       "      <td>113755.78</td>\n",
       "      <td>2</td>\n",
       "      <td>1</td>\n",
       "      <td>0</td>\n",
       "      <td>149756.71</td>\n",
       "      <td>1</td>\n",
       "    </tr>\n",
       "    <tr>\n",
       "      <th>6</th>\n",
       "      <td>7</td>\n",
       "      <td>15592531</td>\n",
       "      <td>Bartlett</td>\n",
       "      <td>822</td>\n",
       "      <td>France</td>\n",
       "      <td>Male</td>\n",
       "      <td>50</td>\n",
       "      <td>7.0</td>\n",
       "      <td>0.00</td>\n",
       "      <td>2</td>\n",
       "      <td>1</td>\n",
       "      <td>1</td>\n",
       "      <td>10062.80</td>\n",
       "      <td>0</td>\n",
       "    </tr>\n",
       "    <tr>\n",
       "      <th>7</th>\n",
       "      <td>8</td>\n",
       "      <td>15656148</td>\n",
       "      <td>Obinna</td>\n",
       "      <td>376</td>\n",
       "      <td>Germany</td>\n",
       "      <td>Female</td>\n",
       "      <td>29</td>\n",
       "      <td>4.0</td>\n",
       "      <td>115046.74</td>\n",
       "      <td>4</td>\n",
       "      <td>1</td>\n",
       "      <td>0</td>\n",
       "      <td>119346.88</td>\n",
       "      <td>1</td>\n",
       "    </tr>\n",
       "    <tr>\n",
       "      <th>8</th>\n",
       "      <td>9</td>\n",
       "      <td>15792365</td>\n",
       "      <td>He</td>\n",
       "      <td>501</td>\n",
       "      <td>France</td>\n",
       "      <td>Male</td>\n",
       "      <td>44</td>\n",
       "      <td>4.0</td>\n",
       "      <td>142051.07</td>\n",
       "      <td>2</td>\n",
       "      <td>0</td>\n",
       "      <td>1</td>\n",
       "      <td>74940.50</td>\n",
       "      <td>0</td>\n",
       "    </tr>\n",
       "    <tr>\n",
       "      <th>9</th>\n",
       "      <td>10</td>\n",
       "      <td>15592389</td>\n",
       "      <td>H?</td>\n",
       "      <td>684</td>\n",
       "      <td>France</td>\n",
       "      <td>Male</td>\n",
       "      <td>27</td>\n",
       "      <td>2.0</td>\n",
       "      <td>134603.88</td>\n",
       "      <td>1</td>\n",
       "      <td>1</td>\n",
       "      <td>1</td>\n",
       "      <td>71725.73</td>\n",
       "      <td>0</td>\n",
       "    </tr>\n",
       "  </tbody>\n",
       "</table>\n",
       "</div>"
      ],
      "text/plain": [
       "   RowNumber  CustomerId   Surname  CreditScore Geography  Gender  Age  \\\n",
       "0          1    15634602  Hargrave          619    France  Female   42   \n",
       "1          2    15647311      Hill          608     Spain  Female   41   \n",
       "2          3    15619304      Onio          502    France  Female   42   \n",
       "3          4    15701354      Boni          699    France  Female   39   \n",
       "4          5    15737888  Mitchell          850     Spain  Female   43   \n",
       "5          6    15574012       Chu          645     Spain    Male   44   \n",
       "6          7    15592531  Bartlett          822    France    Male   50   \n",
       "7          8    15656148    Obinna          376   Germany  Female   29   \n",
       "8          9    15792365        He          501    France    Male   44   \n",
       "9         10    15592389        H?          684    France    Male   27   \n",
       "\n",
       "   Tenure    Balance  NumOfProducts  HasCrCard  IsActiveMember  \\\n",
       "0     2.0       0.00              1          1               1   \n",
       "1     1.0   83807.86              1          0               1   \n",
       "2     8.0  159660.80              3          1               0   \n",
       "3     1.0       0.00              2          0               0   \n",
       "4     2.0  125510.82              1          1               1   \n",
       "5     8.0  113755.78              2          1               0   \n",
       "6     7.0       0.00              2          1               1   \n",
       "7     4.0  115046.74              4          1               0   \n",
       "8     4.0  142051.07              2          0               1   \n",
       "9     2.0  134603.88              1          1               1   \n",
       "\n",
       "   EstimatedSalary  Exited  \n",
       "0        101348.88       1  \n",
       "1        112542.58       0  \n",
       "2        113931.57       1  \n",
       "3         93826.63       0  \n",
       "4         79084.10       0  \n",
       "5        149756.71       1  \n",
       "6         10062.80       0  \n",
       "7        119346.88       1  \n",
       "8         74940.50       0  \n",
       "9         71725.73       0  "
      ]
     },
     "metadata": {},
     "output_type": "display_data"
    },
    {
     "name": "stdout",
     "output_type": "stream",
     "text": [
      "<class 'pandas.core.frame.DataFrame'>\n",
      "RangeIndex: 10000 entries, 0 to 9999\n",
      "Data columns (total 14 columns):\n",
      " #   Column           Non-Null Count  Dtype  \n",
      "---  ------           --------------  -----  \n",
      " 0   RowNumber        10000 non-null  int64  \n",
      " 1   CustomerId       10000 non-null  int64  \n",
      " 2   Surname          10000 non-null  object \n",
      " 3   CreditScore      10000 non-null  int64  \n",
      " 4   Geography        10000 non-null  object \n",
      " 5   Gender           10000 non-null  object \n",
      " 6   Age              10000 non-null  int64  \n",
      " 7   Tenure           9091 non-null   float64\n",
      " 8   Balance          10000 non-null  float64\n",
      " 9   NumOfProducts    10000 non-null  int64  \n",
      " 10  HasCrCard        10000 non-null  int64  \n",
      " 11  IsActiveMember   10000 non-null  int64  \n",
      " 12  EstimatedSalary  10000 non-null  float64\n",
      " 13  Exited           10000 non-null  int64  \n",
      "dtypes: float64(3), int64(8), object(3)\n",
      "memory usage: 1.1+ MB\n"
     ]
    }
   ],
   "source": [
    "display(df.head(10));\n",
    "df.info()"
   ]
  },
  {
   "cell_type": "markdown",
   "metadata": {},
   "source": [
    "Мы будем иметь дело с 10000 клиентами. Необходимые признаки присутствуют, целевой признак тоже, что облегчит нам работу."
   ]
  },
  {
   "cell_type": "markdown",
   "metadata": {},
   "source": [
    "Для удобства работы приведем названия столбцов к нижнему регистру."
   ]
  },
  {
   "cell_type": "code",
   "execution_count": 8,
   "metadata": {},
   "outputs": [],
   "source": [
    "df.columns = df.columns.str.lower()"
   ]
  },
  {
   "cell_type": "markdown",
   "metadata": {},
   "source": [
    "Для начала посмотрим какую часть от общего объема данных составляют пропуски в столбце `Tenure(сколько лет человек является клиентом банка)`. Если менее 10% - целесообразно будет их удалить."
   ]
  },
  {
   "cell_type": "code",
   "execution_count": 9,
   "metadata": {},
   "outputs": [
    {
     "data": {
      "text/plain": [
       "0.0909"
      ]
     },
     "execution_count": 9,
     "metadata": {},
     "output_type": "execute_result"
    }
   ],
   "source": [
    "df['tenure'].isna().sum() / len(df)"
   ]
  },
  {
   "cell_type": "code",
   "execution_count": 10,
   "metadata": {},
   "outputs": [
    {
     "data": {
      "text/plain": [
       "(9091, 14)"
      ]
     },
     "execution_count": 10,
     "metadata": {},
     "output_type": "execute_result"
    }
   ],
   "source": [
    "df = df.dropna().reset_index(drop=True)\n",
    "df.shape"
   ]
  },
  {
   "cell_type": "markdown",
   "metadata": {},
   "source": [
    "Фамилии клиентов, их ID и номер строки никак не влияют на целевой признак, можно удалить данные столбцы для упращения прямого кодирования."
   ]
  },
  {
   "cell_type": "code",
   "execution_count": 11,
   "metadata": {},
   "outputs": [
    {
     "data": {
      "text/html": [
       "<div>\n",
       "<style scoped>\n",
       "    .dataframe tbody tr th:only-of-type {\n",
       "        vertical-align: middle;\n",
       "    }\n",
       "\n",
       "    .dataframe tbody tr th {\n",
       "        vertical-align: top;\n",
       "    }\n",
       "\n",
       "    .dataframe thead th {\n",
       "        text-align: right;\n",
       "    }\n",
       "</style>\n",
       "<table border=\"1\" class=\"dataframe\">\n",
       "  <thead>\n",
       "    <tr style=\"text-align: right;\">\n",
       "      <th></th>\n",
       "      <th>creditscore</th>\n",
       "      <th>geography</th>\n",
       "      <th>gender</th>\n",
       "      <th>age</th>\n",
       "      <th>tenure</th>\n",
       "      <th>balance</th>\n",
       "      <th>numofproducts</th>\n",
       "      <th>hascrcard</th>\n",
       "      <th>isactivemember</th>\n",
       "      <th>estimatedsalary</th>\n",
       "      <th>exited</th>\n",
       "    </tr>\n",
       "  </thead>\n",
       "  <tbody>\n",
       "    <tr>\n",
       "      <th>0</th>\n",
       "      <td>619</td>\n",
       "      <td>France</td>\n",
       "      <td>Female</td>\n",
       "      <td>42</td>\n",
       "      <td>2.0</td>\n",
       "      <td>0.00</td>\n",
       "      <td>1</td>\n",
       "      <td>1</td>\n",
       "      <td>1</td>\n",
       "      <td>101348.88</td>\n",
       "      <td>1</td>\n",
       "    </tr>\n",
       "    <tr>\n",
       "      <th>1</th>\n",
       "      <td>608</td>\n",
       "      <td>Spain</td>\n",
       "      <td>Female</td>\n",
       "      <td>41</td>\n",
       "      <td>1.0</td>\n",
       "      <td>83807.86</td>\n",
       "      <td>1</td>\n",
       "      <td>0</td>\n",
       "      <td>1</td>\n",
       "      <td>112542.58</td>\n",
       "      <td>0</td>\n",
       "    </tr>\n",
       "    <tr>\n",
       "      <th>2</th>\n",
       "      <td>502</td>\n",
       "      <td>France</td>\n",
       "      <td>Female</td>\n",
       "      <td>42</td>\n",
       "      <td>8.0</td>\n",
       "      <td>159660.80</td>\n",
       "      <td>3</td>\n",
       "      <td>1</td>\n",
       "      <td>0</td>\n",
       "      <td>113931.57</td>\n",
       "      <td>1</td>\n",
       "    </tr>\n",
       "    <tr>\n",
       "      <th>3</th>\n",
       "      <td>699</td>\n",
       "      <td>France</td>\n",
       "      <td>Female</td>\n",
       "      <td>39</td>\n",
       "      <td>1.0</td>\n",
       "      <td>0.00</td>\n",
       "      <td>2</td>\n",
       "      <td>0</td>\n",
       "      <td>0</td>\n",
       "      <td>93826.63</td>\n",
       "      <td>0</td>\n",
       "    </tr>\n",
       "    <tr>\n",
       "      <th>4</th>\n",
       "      <td>850</td>\n",
       "      <td>Spain</td>\n",
       "      <td>Female</td>\n",
       "      <td>43</td>\n",
       "      <td>2.0</td>\n",
       "      <td>125510.82</td>\n",
       "      <td>1</td>\n",
       "      <td>1</td>\n",
       "      <td>1</td>\n",
       "      <td>79084.10</td>\n",
       "      <td>0</td>\n",
       "    </tr>\n",
       "    <tr>\n",
       "      <th>5</th>\n",
       "      <td>645</td>\n",
       "      <td>Spain</td>\n",
       "      <td>Male</td>\n",
       "      <td>44</td>\n",
       "      <td>8.0</td>\n",
       "      <td>113755.78</td>\n",
       "      <td>2</td>\n",
       "      <td>1</td>\n",
       "      <td>0</td>\n",
       "      <td>149756.71</td>\n",
       "      <td>1</td>\n",
       "    </tr>\n",
       "    <tr>\n",
       "      <th>6</th>\n",
       "      <td>822</td>\n",
       "      <td>France</td>\n",
       "      <td>Male</td>\n",
       "      <td>50</td>\n",
       "      <td>7.0</td>\n",
       "      <td>0.00</td>\n",
       "      <td>2</td>\n",
       "      <td>1</td>\n",
       "      <td>1</td>\n",
       "      <td>10062.80</td>\n",
       "      <td>0</td>\n",
       "    </tr>\n",
       "    <tr>\n",
       "      <th>7</th>\n",
       "      <td>376</td>\n",
       "      <td>Germany</td>\n",
       "      <td>Female</td>\n",
       "      <td>29</td>\n",
       "      <td>4.0</td>\n",
       "      <td>115046.74</td>\n",
       "      <td>4</td>\n",
       "      <td>1</td>\n",
       "      <td>0</td>\n",
       "      <td>119346.88</td>\n",
       "      <td>1</td>\n",
       "    </tr>\n",
       "    <tr>\n",
       "      <th>8</th>\n",
       "      <td>501</td>\n",
       "      <td>France</td>\n",
       "      <td>Male</td>\n",
       "      <td>44</td>\n",
       "      <td>4.0</td>\n",
       "      <td>142051.07</td>\n",
       "      <td>2</td>\n",
       "      <td>0</td>\n",
       "      <td>1</td>\n",
       "      <td>74940.50</td>\n",
       "      <td>0</td>\n",
       "    </tr>\n",
       "    <tr>\n",
       "      <th>9</th>\n",
       "      <td>684</td>\n",
       "      <td>France</td>\n",
       "      <td>Male</td>\n",
       "      <td>27</td>\n",
       "      <td>2.0</td>\n",
       "      <td>134603.88</td>\n",
       "      <td>1</td>\n",
       "      <td>1</td>\n",
       "      <td>1</td>\n",
       "      <td>71725.73</td>\n",
       "      <td>0</td>\n",
       "    </tr>\n",
       "  </tbody>\n",
       "</table>\n",
       "</div>"
      ],
      "text/plain": [
       "   creditscore geography  gender  age  tenure    balance  numofproducts  \\\n",
       "0          619    France  Female   42     2.0       0.00              1   \n",
       "1          608     Spain  Female   41     1.0   83807.86              1   \n",
       "2          502    France  Female   42     8.0  159660.80              3   \n",
       "3          699    France  Female   39     1.0       0.00              2   \n",
       "4          850     Spain  Female   43     2.0  125510.82              1   \n",
       "5          645     Spain    Male   44     8.0  113755.78              2   \n",
       "6          822    France    Male   50     7.0       0.00              2   \n",
       "7          376   Germany  Female   29     4.0  115046.74              4   \n",
       "8          501    France    Male   44     4.0  142051.07              2   \n",
       "9          684    France    Male   27     2.0  134603.88              1   \n",
       "\n",
       "   hascrcard  isactivemember  estimatedsalary  exited  \n",
       "0          1               1        101348.88       1  \n",
       "1          0               1        112542.58       0  \n",
       "2          1               0        113931.57       1  \n",
       "3          0               0         93826.63       0  \n",
       "4          1               1         79084.10       0  \n",
       "5          1               0        149756.71       1  \n",
       "6          1               1         10062.80       0  \n",
       "7          1               0        119346.88       1  \n",
       "8          0               1         74940.50       0  \n",
       "9          1               1         71725.73       0  "
      ]
     },
     "execution_count": 11,
     "metadata": {},
     "output_type": "execute_result"
    }
   ],
   "source": [
    "df = df.drop(['customerid', 'rownumber', 'surname'], axis=1)\n",
    "df.head(10)"
   ]
  },
  {
   "cell_type": "markdown",
   "metadata": {},
   "source": [
    "Далее воспользуемся техникой прямого кодирования `One-Hot Encoding` для создания фиктивных переменных и переноса всех данных таблицы в численный вид."
   ]
  },
  {
   "cell_type": "code",
   "execution_count": 12,
   "metadata": {},
   "outputs": [],
   "source": [
    "df_ohe = pd.get_dummies(df, drop_first=True)"
   ]
  },
  {
   "cell_type": "code",
   "execution_count": 13,
   "metadata": {},
   "outputs": [
    {
     "data": {
      "text/html": [
       "<div>\n",
       "<style scoped>\n",
       "    .dataframe tbody tr th:only-of-type {\n",
       "        vertical-align: middle;\n",
       "    }\n",
       "\n",
       "    .dataframe tbody tr th {\n",
       "        vertical-align: top;\n",
       "    }\n",
       "\n",
       "    .dataframe thead th {\n",
       "        text-align: right;\n",
       "    }\n",
       "</style>\n",
       "<table border=\"1\" class=\"dataframe\">\n",
       "  <thead>\n",
       "    <tr style=\"text-align: right;\">\n",
       "      <th></th>\n",
       "      <th>creditscore</th>\n",
       "      <th>age</th>\n",
       "      <th>tenure</th>\n",
       "      <th>balance</th>\n",
       "      <th>numofproducts</th>\n",
       "      <th>hascrcard</th>\n",
       "      <th>isactivemember</th>\n",
       "      <th>estimatedsalary</th>\n",
       "      <th>exited</th>\n",
       "      <th>geography_Germany</th>\n",
       "      <th>geography_Spain</th>\n",
       "      <th>gender_Male</th>\n",
       "    </tr>\n",
       "  </thead>\n",
       "  <tbody>\n",
       "    <tr>\n",
       "      <th>0</th>\n",
       "      <td>619</td>\n",
       "      <td>42</td>\n",
       "      <td>2.0</td>\n",
       "      <td>0.00</td>\n",
       "      <td>1</td>\n",
       "      <td>1</td>\n",
       "      <td>1</td>\n",
       "      <td>101348.88</td>\n",
       "      <td>1</td>\n",
       "      <td>0</td>\n",
       "      <td>0</td>\n",
       "      <td>0</td>\n",
       "    </tr>\n",
       "    <tr>\n",
       "      <th>1</th>\n",
       "      <td>608</td>\n",
       "      <td>41</td>\n",
       "      <td>1.0</td>\n",
       "      <td>83807.86</td>\n",
       "      <td>1</td>\n",
       "      <td>0</td>\n",
       "      <td>1</td>\n",
       "      <td>112542.58</td>\n",
       "      <td>0</td>\n",
       "      <td>0</td>\n",
       "      <td>1</td>\n",
       "      <td>0</td>\n",
       "    </tr>\n",
       "    <tr>\n",
       "      <th>2</th>\n",
       "      <td>502</td>\n",
       "      <td>42</td>\n",
       "      <td>8.0</td>\n",
       "      <td>159660.80</td>\n",
       "      <td>3</td>\n",
       "      <td>1</td>\n",
       "      <td>0</td>\n",
       "      <td>113931.57</td>\n",
       "      <td>1</td>\n",
       "      <td>0</td>\n",
       "      <td>0</td>\n",
       "      <td>0</td>\n",
       "    </tr>\n",
       "    <tr>\n",
       "      <th>3</th>\n",
       "      <td>699</td>\n",
       "      <td>39</td>\n",
       "      <td>1.0</td>\n",
       "      <td>0.00</td>\n",
       "      <td>2</td>\n",
       "      <td>0</td>\n",
       "      <td>0</td>\n",
       "      <td>93826.63</td>\n",
       "      <td>0</td>\n",
       "      <td>0</td>\n",
       "      <td>0</td>\n",
       "      <td>0</td>\n",
       "    </tr>\n",
       "    <tr>\n",
       "      <th>4</th>\n",
       "      <td>850</td>\n",
       "      <td>43</td>\n",
       "      <td>2.0</td>\n",
       "      <td>125510.82</td>\n",
       "      <td>1</td>\n",
       "      <td>1</td>\n",
       "      <td>1</td>\n",
       "      <td>79084.10</td>\n",
       "      <td>0</td>\n",
       "      <td>0</td>\n",
       "      <td>1</td>\n",
       "      <td>0</td>\n",
       "    </tr>\n",
       "    <tr>\n",
       "      <th>5</th>\n",
       "      <td>645</td>\n",
       "      <td>44</td>\n",
       "      <td>8.0</td>\n",
       "      <td>113755.78</td>\n",
       "      <td>2</td>\n",
       "      <td>1</td>\n",
       "      <td>0</td>\n",
       "      <td>149756.71</td>\n",
       "      <td>1</td>\n",
       "      <td>0</td>\n",
       "      <td>1</td>\n",
       "      <td>1</td>\n",
       "    </tr>\n",
       "    <tr>\n",
       "      <th>6</th>\n",
       "      <td>822</td>\n",
       "      <td>50</td>\n",
       "      <td>7.0</td>\n",
       "      <td>0.00</td>\n",
       "      <td>2</td>\n",
       "      <td>1</td>\n",
       "      <td>1</td>\n",
       "      <td>10062.80</td>\n",
       "      <td>0</td>\n",
       "      <td>0</td>\n",
       "      <td>0</td>\n",
       "      <td>1</td>\n",
       "    </tr>\n",
       "    <tr>\n",
       "      <th>7</th>\n",
       "      <td>376</td>\n",
       "      <td>29</td>\n",
       "      <td>4.0</td>\n",
       "      <td>115046.74</td>\n",
       "      <td>4</td>\n",
       "      <td>1</td>\n",
       "      <td>0</td>\n",
       "      <td>119346.88</td>\n",
       "      <td>1</td>\n",
       "      <td>1</td>\n",
       "      <td>0</td>\n",
       "      <td>0</td>\n",
       "    </tr>\n",
       "    <tr>\n",
       "      <th>8</th>\n",
       "      <td>501</td>\n",
       "      <td>44</td>\n",
       "      <td>4.0</td>\n",
       "      <td>142051.07</td>\n",
       "      <td>2</td>\n",
       "      <td>0</td>\n",
       "      <td>1</td>\n",
       "      <td>74940.50</td>\n",
       "      <td>0</td>\n",
       "      <td>0</td>\n",
       "      <td>0</td>\n",
       "      <td>1</td>\n",
       "    </tr>\n",
       "    <tr>\n",
       "      <th>9</th>\n",
       "      <td>684</td>\n",
       "      <td>27</td>\n",
       "      <td>2.0</td>\n",
       "      <td>134603.88</td>\n",
       "      <td>1</td>\n",
       "      <td>1</td>\n",
       "      <td>1</td>\n",
       "      <td>71725.73</td>\n",
       "      <td>0</td>\n",
       "      <td>0</td>\n",
       "      <td>0</td>\n",
       "      <td>1</td>\n",
       "    </tr>\n",
       "  </tbody>\n",
       "</table>\n",
       "</div>"
      ],
      "text/plain": [
       "   creditscore  age  tenure    balance  numofproducts  hascrcard  \\\n",
       "0          619   42     2.0       0.00              1          1   \n",
       "1          608   41     1.0   83807.86              1          0   \n",
       "2          502   42     8.0  159660.80              3          1   \n",
       "3          699   39     1.0       0.00              2          0   \n",
       "4          850   43     2.0  125510.82              1          1   \n",
       "5          645   44     8.0  113755.78              2          1   \n",
       "6          822   50     7.0       0.00              2          1   \n",
       "7          376   29     4.0  115046.74              4          1   \n",
       "8          501   44     4.0  142051.07              2          0   \n",
       "9          684   27     2.0  134603.88              1          1   \n",
       "\n",
       "   isactivemember  estimatedsalary  exited  geography_Germany  \\\n",
       "0               1        101348.88       1                  0   \n",
       "1               1        112542.58       0                  0   \n",
       "2               0        113931.57       1                  0   \n",
       "3               0         93826.63       0                  0   \n",
       "4               1         79084.10       0                  0   \n",
       "5               0        149756.71       1                  0   \n",
       "6               1         10062.80       0                  0   \n",
       "7               0        119346.88       1                  1   \n",
       "8               1         74940.50       0                  0   \n",
       "9               1         71725.73       0                  0   \n",
       "\n",
       "   geography_Spain  gender_Male  \n",
       "0                0            0  \n",
       "1                1            0  \n",
       "2                0            0  \n",
       "3                0            0  \n",
       "4                1            0  \n",
       "5                1            1  \n",
       "6                0            1  \n",
       "7                0            0  \n",
       "8                0            1  \n",
       "9                0            1  "
      ]
     },
     "execution_count": 13,
     "metadata": {},
     "output_type": "execute_result"
    }
   ],
   "source": [
    "pd.set_option('display.max_columns', None)\n",
    "df_ohe.head(10)"
   ]
  },
  {
   "cell_type": "markdown",
   "metadata": {},
   "source": [
    "Нужно разбить данные на 3 выборки\n",
    "- обучающая выборка\n",
    "- валидационная выборка\n",
    "- тестовая выборка"
   ]
  },
  {
   "cell_type": "code",
   "execution_count": 14,
   "metadata": {},
   "outputs": [
    {
     "name": "stdout",
     "output_type": "stream",
     "text": [
      "(9091, 11)\n",
      "(9091,)\n",
      "\n",
      "Размеры обучающей выборки:\n",
      "(5454, 11)\n",
      "(5454,)\n",
      "\n",
      "Размеры валидационной выборки:\n",
      "(1818, 11)\n",
      "(1818,)\n",
      "\n",
      "Размеры тестовой выборки:\n",
      "(1819, 11)\n",
      "(1819,)\n"
     ]
    }
   ],
   "source": [
    "features = df_ohe.drop(['exited'], axis=1)\n",
    "target = df_ohe['exited']\n",
    "\n",
    "df_train, df_valid_and_test = train_test_split(df_ohe, test_size=0.4, random_state=12345)\n",
    "df_valid, df_test = train_test_split(df_valid_and_test, test_size=0.50, random_state=12345)\n",
    "\n",
    "features_train = df_train.drop(['exited'], axis=1)\n",
    "target_train = df_train['exited']\n",
    "\n",
    "features_valid = df_valid.drop(['exited'], axis=1)\n",
    "target_valid = df_valid['exited']\n",
    "\n",
    "features_test = df_test.drop(['exited'], axis=1)\n",
    "target_test = df_test['exited']\n",
    "\n",
    "print(features.shape)\n",
    "print(target.shape)\n",
    "print()\n",
    "print('Размеры обучающей выборки:')\n",
    "print(features_train.shape)\n",
    "print(target_train.shape)\n",
    "print()\n",
    "print('Размеры валидационной выборки:')\n",
    "print(features_valid.shape)\n",
    "print(target_valid.shape)\n",
    "print()\n",
    "print('Размеры тестовой выборки:')\n",
    "print(features_test.shape)\n",
    "print(target_test.shape)"
   ]
  },
  {
   "cell_type": "markdown",
   "metadata": {},
   "source": [
    "Мы получили 3 выборки в пропорциях 60/20/20. Обучающая выборка забрала 60% данных, тестовая и валидационная поделили оставшиеся 40%."
   ]
  },
  {
   "cell_type": "markdown",
   "metadata": {},
   "source": [
    "## Исследование задачи"
   ]
  },
  {
   "cell_type": "markdown",
   "metadata": {},
   "source": [
    "Для начала исследуем баланс классов."
   ]
  },
  {
   "cell_type": "code",
   "execution_count": 15,
   "metadata": {},
   "outputs": [
    {
     "data": {
      "text/plain": [
       "0.2039379606203938"
      ]
     },
     "metadata": {},
     "output_type": "display_data"
    },
    {
     "data": {
      "text/plain": [
       "0.7960620393796062"
      ]
     },
     "metadata": {},
     "output_type": "display_data"
    }
   ],
   "source": [
    "display(df['exited'].loc[df['exited'] == 1].count() / len(df))\n",
    "display(df['exited'].loc[df['exited'] == 0].count() / len(df))"
   ]
  },
  {
   "cell_type": "markdown",
   "metadata": {},
   "source": [
    "20% от общего числа клиентов прекратили пользоваться банком. Дисбаланс классов на лицо в соотношении 20/80."
   ]
  },
  {
   "cell_type": "markdown",
   "metadata": {},
   "source": [
    "Обучим модель не взирая на дисбаланс классов."
   ]
  },
  {
   "cell_type": "code",
   "execution_count": 21,
   "metadata": {},
   "outputs": [
    {
     "data": {
      "text/plain": [
       "0.4920212765957447"
      ]
     },
     "execution_count": 21,
     "metadata": {},
     "output_type": "execute_result"
    }
   ],
   "source": [
    "model = DecisionTreeClassifier(random_state=12345)\n",
    "model.fit(features_train, target_train)\n",
    "predicted_valid = model.predict(features_valid)\n",
    "\n",
    "f1_score(target_valid, predicted_valid)"
   ]
  },
  {
   "cell_type": "code",
   "execution_count": 22,
   "metadata": {},
   "outputs": [
    {
     "data": {
      "text/plain": [
       "0.5874587458745875"
      ]
     },
     "execution_count": 22,
     "metadata": {},
     "output_type": "execute_result"
    }
   ],
   "source": [
    "model = RandomForestClassifier(random_state=12345)\n",
    "model.fit(features_train, target_train)\n",
    "predicted_valid = model.predict(features_valid)\n",
    "\n",
    "f1_score(target_valid, predicted_valid)"
   ]
  },
  {
   "cell_type": "markdown",
   "metadata": {},
   "source": [
    "Значение F1-меры 0.587 - ниже требуемого. Нужно поработать с дисбалансом."
   ]
  },
  {
   "cell_type": "markdown",
   "metadata": {},
   "source": [
    "## Борьба с дисбалансом"
   ]
  },
  {
   "cell_type": "markdown",
   "metadata": {},
   "source": [
    "Постараемся подобрать наилучшие гиперпараметры для моделей, а также поработаем над балансом. Для начала укажем в гиперпараметрах моделей `class_weight = 'balanced'` и посмотрим на показатели. Примечание: совмещать up(down)sampling и class_weight нельзя, так как совмещения двух методов балансирования приводит к новому дисбалансу."
   ]
  },
  {
   "cell_type": "code",
   "execution_count": 23,
   "metadata": {},
   "outputs": [],
   "source": [
    "model = DecisionTreeClassifier()\n",
    "parametrs = { 'max_depth': range (1, 11),\n",
    "             'min_samples_leaf': range (1, 11),\n",
    "             'min_samples_split': range (2, 10) }\n",
    "\n",
    "# с помощью gridSearch находим лучшие гиперпараметры для модели, \n",
    "#обработка этих строк кода занимает много времени, поэтому после вывода делаю строки невидимыми\n",
    "\n",
    "#grid = GridSearchCV(model, parametrs); \n",
    "#grid.fit(features_train, target_train);                                         "
   ]
  },
  {
   "cell_type": "markdown",
   "metadata": {},
   "source": [
    "Получаем лучшие гиперпараметры для дерева решений."
   ]
  },
  {
   "cell_type": "code",
   "execution_count": 24,
   "metadata": {},
   "outputs": [],
   "source": [
    "#grid.best_params_ "
   ]
  },
  {
   "cell_type": "code",
   "execution_count": 25,
   "metadata": {},
   "outputs": [
    {
     "name": "stdout",
     "output_type": "stream",
     "text": [
      "F1: 0.4673629242819843\n"
     ]
    }
   ],
   "source": [
    "for depth in range(1, 16, 1):\n",
    "    model = DecisionTreeClassifier(random_state=12345, max_depth=depth, class_weight = 'balanced')\n",
    "    model.fit(features_train, target_train)\n",
    "    predicted_valid = model.predict(features_valid)\n",
    "    \n",
    "print(\"F1:\", f1_score(target_valid, predicted_valid))"
   ]
  },
  {
   "cell_type": "code",
   "execution_count": 26,
   "metadata": {},
   "outputs": [
    {
     "data": {
      "text/plain": [
       "0.5560791705937794"
      ]
     },
     "execution_count": 26,
     "metadata": {},
     "output_type": "execute_result"
    }
   ],
   "source": [
    "#подставляем наилучшие гиперпараметры\n",
    "\n",
    "model = DecisionTreeClassifier(random_state=12345, max_depth=7, min_samples_leaf = 9, \n",
    "                               min_samples_split = 3, class_weight = 'balanced') \n",
    "\n",
    "model.fit(features_train, target_train)\n",
    "predicted_valid = model.predict(features_valid)\n",
    "\n",
    "f1_score(target_valid, predicted_valid)   "
   ]
  },
  {
   "cell_type": "markdown",
   "metadata": {},
   "source": [
    "Для дерева решений показатель Ф1-меры при подобранных гиперпараметрах и `class_weight = 'balanced`: 0.55"
   ]
  },
  {
   "cell_type": "code",
   "execution_count": 27,
   "metadata": {
    "scrolled": true
   },
   "outputs": [
    {
     "name": "stdout",
     "output_type": "stream",
     "text": [
      "Порог = 0.00 | Точность = 0.219, Полнота = 0.981\n",
      "0.3578336557059962\n",
      "Порог = 0.02 | Точность = 0.244, Полнота = 0.968\n",
      "0.38933333333333336\n",
      "Порог = 0.04 | Точность = 0.249, Полнота = 0.966\n",
      "0.39629831246597713\n",
      "Порог = 0.06 | Точность = 0.292, Полнота = 0.934\n",
      "0.4447252053063803\n",
      "Порог = 0.08 | Точность = 0.363, Полнота = 0.894\n",
      "0.5160796324655437\n",
      "Порог = 0.10 | Точность = 0.391, Полнота = 0.851\n",
      "0.5363408521303258\n",
      "Порог = 0.12 | Точность = 0.397, Полнота = 0.846\n",
      "0.5406779661016949\n",
      "Порог = 0.14 | Точность = 0.407, Полнота = 0.841\n",
      "0.5489177489177489\n",
      "Порог = 0.16 | Точность = 0.410, Полнота = 0.817\n",
      "0.545615589016829\n",
      "Порог = 0.18 | Точность = 0.441, Полнота = 0.798\n",
      "0.5679245283018869\n",
      "Порог = 0.20 | Точность = 0.446, Полнота = 0.793\n",
      "0.5711556829035338\n",
      "Порог = 0.22 | Точность = 0.446, Полнота = 0.793\n",
      "0.5711556829035338\n",
      "Порог = 0.24 | Точность = 0.547, Полнота = 0.676\n",
      "0.6049822064056939\n",
      "Порог = 0.26 | Точность = 0.547, Полнота = 0.676\n",
      "0.6049822064056939\n",
      "Порог = 0.28 | Точность = 0.620, Полнота = 0.637\n",
      "0.6282722513089005\n",
      "Порог = 0.30 | Точность = 0.637, Полнота = 0.615\n",
      "0.6261808367071524\n",
      "Порог = 0.32 | Точность = 0.652, Полнота = 0.607\n",
      "0.6291208791208791\n",
      "Порог = 0.34 | Точность = 0.652, Полнота = 0.607\n",
      "0.6291208791208791\n",
      "Порог = 0.36 | Точность = 0.677, Полнота = 0.544\n",
      "0.6029411764705881\n",
      "Порог = 0.38 | Точность = 0.677, Полнота = 0.544\n",
      "0.6029411764705881\n",
      "Порог = 0.40 | Точность = 0.677, Полнота = 0.544\n",
      "0.6029411764705881\n",
      "Порог = 0.42 | Точность = 0.708, Полнота = 0.509\n",
      "0.5925925925925926\n",
      "Порог = 0.44 | Точность = 0.708, Полнота = 0.509\n",
      "0.5925925925925926\n",
      "Порог = 0.46 | Точность = 0.708, Полнота = 0.509\n",
      "0.5925925925925926\n",
      "Порог = 0.48 | Точность = 0.708, Полнота = 0.509\n",
      "0.5925925925925926\n",
      "Порог = 0.50 | Точность = 0.746, Полнота = 0.475\n",
      "0.5802269043760129\n",
      "Порог = 0.52 | Точность = 0.756, Полнота = 0.469\n",
      "0.5793780687397708\n",
      "Порог = 0.54 | Точность = 0.756, Полнота = 0.469\n",
      "0.5793780687397708\n",
      "Порог = 0.56 | Точность = 0.785, Полнота = 0.435\n",
      "0.5597269624573379\n",
      "Порог = 0.58 | Точность = 0.814, Полнота = 0.406\n",
      "0.5415929203539824\n",
      "Порог = 0.60 | Точность = 0.811, Полнота = 0.398\n",
      "0.5338078291814946\n",
      "Порог = 0.62 | Точность = 0.819, Полнота = 0.395\n",
      "0.5330948121645795\n",
      "Порог = 0.64 | Точность = 0.858, Полнота = 0.353\n",
      "0.5\n",
      "Порог = 0.66 | Точность = 0.868, Полнота = 0.350\n",
      "0.49905482041587906\n",
      "Порог = 0.68 | Точность = 0.868, Полнота = 0.350\n",
      "0.49905482041587906\n",
      "Порог = 0.70 | Точность = 0.868, Полнота = 0.350\n",
      "0.49905482041587906\n",
      "Порог = 0.72 | Точность = 0.868, Полнота = 0.350\n",
      "0.49905482041587906\n",
      "Порог = 0.74 | Точность = 0.868, Полнота = 0.350\n",
      "0.49905482041587906\n",
      "Порог = 0.76 | Точность = 0.866, Полнота = 0.326\n",
      "0.47398843930635837\n",
      "Порог = 0.78 | Точность = 0.864, Полнота = 0.271\n",
      "0.4121212121212121\n",
      "Порог = 0.80 | Точность = 0.898, Полнота = 0.210\n",
      "0.33978494623655914\n",
      "Порог = 0.82 | Точность = 0.898, Полнота = 0.210\n",
      "0.33978494623655914\n",
      "Порог = 0.84 | Точность = 0.898, Полнота = 0.210\n",
      "0.33978494623655914\n",
      "Порог = 0.86 | Точность = 0.898, Полнота = 0.210\n",
      "0.33978494623655914\n",
      "Порог = 0.88 | Точность = 0.898, Полнота = 0.210\n",
      "0.33978494623655914\n"
     ]
    }
   ],
   "source": [
    "model = DecisionTreeClassifier(random_state=12345, max_depth=7, min_samples_leaf = 10, min_samples_split = 3)\n",
    "model.fit(features_train, target_train)\n",
    "probabilities_valid = model.predict_proba(features_valid)\n",
    "probabilities_one_valid = probabilities_valid[:, 1]\n",
    "\n",
    "for threshold in np.arange(0, 0.9, 0.02):\n",
    "    predicted_valid = probabilities_one_valid > threshold\n",
    "    precision = precision_score(target_valid, predicted_valid)\n",
    "    recall = recall_score(target_valid, predicted_valid)\n",
    "    f1score = f1_score(target_valid, predicted_valid) \n",
    "    print(\"Порог = {:.2f} | Точность = {:.3f}, Полнота = {:.3f}\".format(\n",
    "        threshold, precision, recall))\n",
    "    print(f1score)"
   ]
  },
  {
   "cell_type": "markdown",
   "metadata": {},
   "source": [
    "При пороге в 0.32 для дерева решений достигается значение ф1-меры в 0.629"
   ]
  },
  {
   "cell_type": "markdown",
   "metadata": {},
   "source": [
    "Далее попробуем случайный лес."
   ]
  },
  {
   "cell_type": "code",
   "execution_count": 28,
   "metadata": {},
   "outputs": [
    {
     "name": "stdout",
     "output_type": "stream",
     "text": [
      "Accuracy наилучшей модели на валидационной выборке: 0.8624862486248625, Количество деревьев: 30, Максимальная глубина: 13\n"
     ]
    }
   ],
   "source": [
    "best_depth = 0\n",
    "best_est = 0\n",
    "best_result = 0\n",
    "for depth in range(1, 16, 1):\n",
    "    for est in range(10, 60, 10):   \n",
    "        model = RandomForestClassifier(max_depth=depth, random_state=12345, n_estimators=est, class_weight = 'balanced')\n",
    "        model.fit(features_train, target_train)\n",
    "        result = model.score(features_valid, target_valid) \n",
    "        if result > best_result:        \n",
    "            best_result = result   \n",
    "            best_est = est\n",
    "            best_depth = depth\n",
    "        \n",
    "print(f\"Accuracy наилучшей модели на валидационной выборке: {best_result}, Количество деревьев: {best_est}, Максимальная глубина: {best_depth}\")"
   ]
  },
  {
   "cell_type": "markdown",
   "metadata": {},
   "source": [
    "Сейчас снова обратимся к инструменту GridSearchCV, закомментированы строки по тому же принципу, что при работе с моделью дерева решений (для случайного леса время обработки может занимать более 10 минут, поэтому после запуска ячейки можно смело идти пить кофе :) )"
   ]
  },
  {
   "cell_type": "code",
   "execution_count": 29,
   "metadata": {},
   "outputs": [],
   "source": [
    "model = RandomForestClassifier()\n",
    "parametrs = { 'max_depth': range (1, 13, 2),\n",
    "             'n_estimators': range (10, 51, 10),\n",
    "             'min_samples_leaf': range (1, 11),\n",
    "             'min_samples_split': range (2, 10, 2) }\n",
    "#grid = GridSearchCV(model, parametrs);\n",
    "#grid.fit(features_train, target_train);"
   ]
  },
  {
   "cell_type": "code",
   "execution_count": 30,
   "metadata": {},
   "outputs": [],
   "source": [
    "#grid.best_params_"
   ]
  },
  {
   "cell_type": "code",
   "execution_count": 32,
   "metadata": {},
   "outputs": [
    {
     "data": {
      "text/plain": [
       "0.6355382619974059"
      ]
     },
     "execution_count": 32,
     "metadata": {},
     "output_type": "execute_result"
    }
   ],
   "source": [
    "model = RandomForestClassifier(max_depth=11, random_state=12345, min_samples_leaf = 3, min_samples_split = 4, n_estimators=50, class_weight = 'balanced')\n",
    "model.fit(features_train, target_train)\n",
    "predicted_valid = model.predict(features_valid)\n",
    "\n",
    "f1_score(target_valid, predicted_valid)   "
   ]
  },
  {
   "cell_type": "markdown",
   "metadata": {},
   "source": [
    "Для случайного леса показатель Ф1-меры при подобранных гиперпараметрах и `class_weight = 'balanced`: 0.635"
   ]
  },
  {
   "cell_type": "code",
   "execution_count": 33,
   "metadata": {
    "scrolled": true
   },
   "outputs": [
    {
     "name": "stdout",
     "output_type": "stream",
     "text": [
      "Порог = 0.00 | Точность = 0.207, Полнота = 1.000\n",
      "0.34350797266514804\n",
      "Порог = 0.02 | Точность = 0.224, Полнота = 0.995\n",
      "0.36585365853658536\n",
      "Порог = 0.04 | Точность = 0.245, Полнота = 0.981\n",
      "0.39215686274509803\n",
      "Порог = 0.06 | Точность = 0.277, Полнота = 0.971\n",
      "0.43058823529411766\n",
      "Порог = 0.08 | Точность = 0.310, Полнота = 0.955\n",
      "0.4675324675324676\n",
      "Порог = 0.10 | Точность = 0.338, Полнота = 0.931\n",
      "0.4964639321074964\n",
      "Порог = 0.12 | Точность = 0.367, Полнота = 0.910\n",
      "0.5232646834477498\n",
      "Порог = 0.14 | Точность = 0.396, Полнота = 0.886\n",
      "0.5475409836065575\n",
      "Порог = 0.16 | Точность = 0.426, Полнота = 0.859\n",
      "0.5694200351493849\n",
      "Порог = 0.18 | Точность = 0.445, Полнота = 0.830\n",
      "0.5796296296296296\n",
      "Порог = 0.20 | Точность = 0.467, Полнота = 0.796\n",
      "0.5888125613346418\n",
      "Порог = 0.22 | Точность = 0.503, Полнота = 0.772\n",
      "0.608786610878661\n",
      "Порог = 0.24 | Точность = 0.540, Полнота = 0.751\n",
      "0.62819089900111\n",
      "Порог = 0.26 | Точность = 0.556, Полнота = 0.719\n",
      "0.6273148148148148\n",
      "Порог = 0.28 | Точность = 0.575, Полнота = 0.684\n",
      "0.6246973365617433\n",
      "Порог = 0.30 | Точность = 0.607, Полнота = 0.663\n",
      "0.6337135614702154\n",
      "Порог = 0.32 | Точность = 0.640, Полнота = 0.647\n",
      "0.6437994722955145\n",
      "Порог = 0.34 | Точность = 0.665, Полнота = 0.610\n",
      "0.6362378976486861\n",
      "Порог = 0.36 | Точность = 0.699, Полнота = 0.597\n",
      "0.6437768240343348\n",
      "Порог = 0.38 | Точность = 0.726, Полнота = 0.576\n",
      "0.6420118343195265\n",
      "Порог = 0.40 | Точность = 0.742, Полнота = 0.549\n",
      "0.6310975609756099\n",
      "Порог = 0.42 | Точность = 0.756, Полнота = 0.533\n",
      "0.6251944012441679\n",
      "Порог = 0.44 | Точность = 0.765, Полнота = 0.509\n",
      "0.6114649681528662\n",
      "Порог = 0.46 | Точность = 0.784, Полнота = 0.491\n",
      "0.6035889070146819\n",
      "Порог = 0.48 | Точность = 0.795, Полнота = 0.464\n",
      "0.5862646566164154\n",
      "Порог = 0.50 | Точность = 0.817, Полнота = 0.451\n",
      "0.5811965811965811\n",
      "Порог = 0.52 | Точность = 0.832, Полнота = 0.435\n",
      "0.5714285714285714\n",
      "Порог = 0.54 | Точность = 0.840, Полнота = 0.419\n",
      "0.55929203539823\n",
      "Порог = 0.56 | Точность = 0.841, Полнота = 0.406\n",
      "0.5474060822898033\n",
      "Порог = 0.58 | Точность = 0.844, Полнота = 0.401\n",
      "0.5431654676258993\n",
      "Порог = 0.60 | Точность = 0.855, Полнота = 0.393\n",
      "0.5381818181818182\n",
      "Порог = 0.62 | Точность = 0.881, Полнота = 0.371\n",
      "0.5223880597014925\n",
      "Порог = 0.64 | Точность = 0.892, Полнота = 0.350\n",
      "0.5028571428571429\n",
      "Порог = 0.66 | Точность = 0.914, Полнота = 0.337\n",
      "0.49224806201550386\n",
      "Порог = 0.68 | Точность = 0.911, Полнота = 0.326\n",
      "0.48046875000000006\n",
      "Порог = 0.70 | Точность = 0.938, Полнота = 0.281\n",
      "0.4326530612244897\n",
      "Порог = 0.72 | Точность = 0.950, Полнота = 0.255\n",
      "0.40167364016736407\n",
      "Порог = 0.74 | Точность = 0.944, Полнота = 0.225\n",
      "0.3640256959314775\n",
      "Порог = 0.76 | Точность = 0.952, Полнота = 0.212\n",
      "0.3470715835140998\n",
      "Порог = 0.78 | Точность = 0.944, Полнота = 0.180\n",
      "0.3028953229398664\n"
     ]
    },
    {
     "data": {
      "image/png": "[encoded data removed]",
      "text/plain": [
       "<Figure size 600x600 with 1 Axes>"
      ]
     },
     "metadata": {},
     "output_type": "display_data"
    }
   ],
   "source": [
    "model = RandomForestClassifier(max_depth=11, random_state=12345, min_samples_leaf = 3, min_samples_split = 4, n_estimators=50)\n",
    "model.fit(features_train, target_train)\n",
    "probabilities_valid = model.predict_proba(features_valid)\n",
    "probabilities_one_valid = probabilities_valid[:, 1]\n",
    "\n",
    "for threshold in np.arange(0, 0.8, 0.02):\n",
    "    predicted_valid = probabilities_one_valid > threshold\n",
    "    precision = precision_score(target_valid, predicted_valid)\n",
    "    recall = recall_score(target_valid, predicted_valid)\n",
    "    f1score = f1_score(target_valid, predicted_valid) \n",
    "    print(\"Порог = {:.2f} | Точность = {:.3f}, Полнота = {:.3f}\".format(\n",
    "        threshold, precision, recall))\n",
    "    print(f1score)\n",
    "    \n",
    "precision, recall, thresholds = precision_recall_curve(target_valid, probabilities_valid[:, 1])\n",
    "\n",
    "plt.figure(figsize=(6, 6))\n",
    "plt.step(recall, precision, where='post')\n",
    "plt.xlabel('Recall')\n",
    "plt.ylabel('Precision')\n",
    "plt.ylim([0.0, 1.05])\n",
    "plt.xlim([0.0, 1.0])\n",
    "plt.title('Кривая Precision-Recall')\n",
    "plt.show() "
   ]
  },
  {
   "cell_type": "markdown",
   "metadata": {},
   "source": [
    "При пороге в 0.36 для случайного леса достигается значение ф1-меры в 0.643"
   ]
  },
  {
   "cell_type": "markdown",
   "metadata": {},
   "source": [
    "Cудя по всем показателям графиков и метрик, модель случайного леса должна нам подойти и выдать результат Ф1-меры выше 0.59."
   ]
  },
  {
   "cell_type": "markdown",
   "metadata": {},
   "source": [
    "## Тестирование модели"
   ]
  },
  {
   "cell_type": "markdown",
   "metadata": {},
   "source": [
    "Протестируем нашу лучшую модель на тестировочной выборке."
   ]
  },
  {
   "cell_type": "code",
   "execution_count": 34,
   "metadata": {},
   "outputs": [
    {
     "data": {
      "text/plain": [
       "0.6041958041958041"
      ]
     },
     "execution_count": 34,
     "metadata": {},
     "output_type": "execute_result"
    }
   ],
   "source": [
    "#первый способ с использованием class_weight = 'balanced'\n",
    "\n",
    "model = RandomForestClassifier(max_depth=11, random_state=12345, min_samples_leaf = 3, \n",
    "                               min_samples_split = 4, n_estimators=50, class_weight = 'balanced')\n",
    "model.fit(features_train, target_train)\n",
    "predicted_test = model.predict(features_test)\n",
    "\n",
    "f1_score(target_test, predicted_test) "
   ]
  },
  {
   "cell_type": "code",
   "execution_count": 35,
   "metadata": {},
   "outputs": [
    {
     "data": {
      "text/plain": [
       "0.6149162861491629"
      ]
     },
     "execution_count": 35,
     "metadata": {},
     "output_type": "execute_result"
    }
   ],
   "source": [
    "#второй способ с использованием порога \n",
    "\n",
    "#сначала указываем найденные гиперпараметры\n",
    "\n",
    "model = RandomForestClassifier(random_state=12345, max_depth=11, min_samples_leaf=3, min_samples_split=4, n_estimators= 50)\n",
    "model.fit(features_train, target_train)\n",
    "probabilities_test = model.predict_proba(features_test)\n",
    "probabilities_one_test = probabilities_test[:, 1]\n",
    "\n",
    "#далее указываем значение порога\n",
    "\n",
    "threshold = 0.36\n",
    "predicted_test = probabilities_one_test > threshold\n",
    "f1score = f1_score(target_test, predicted_test) \n",
    "f1score"
   ]
  },
  {
   "cell_type": "code",
   "execution_count": 36,
   "metadata": {},
   "outputs": [
    {
     "data": {
      "image/png": "[encoded data removed]",
      "text/plain": [
       "<Figure size 640x480 with 1 Axes>"
      ]
     },
     "metadata": {},
     "output_type": "display_data"
    },
    {
     "data": {
      "text/plain": [
       "0.8591703734755507"
      ]
     },
     "execution_count": 36,
     "metadata": {},
     "output_type": "execute_result"
    }
   ],
   "source": [
    "fpr, tpr, thresholds = roc_curve(target_test, probabilities_one_test)\n",
    "\n",
    "plt.figure()\n",
    "plt.plot(fpr, tpr)\n",
    "\n",
    "plt.plot([0, 1], [0, 1], linestyle='--')\n",
    "\n",
    "plt.xlim([0.0, 1.0])\n",
    "plt.ylim([0.0, 1.0])\n",
    "\n",
    "plt.xlabel('False Positive Rate')\n",
    "plt.ylabel('True Positive Rate')\n",
    "\n",
    "plt.title('ROC-кривая')\n",
    "\n",
    "plt.show()\n",
    "\n",
    "auc_roc = roc_auc_score(target_test, probabilities_one_test)\n",
    "auc_roc"
   ]
  },
  {
   "cell_type": "markdown",
   "metadata": {},
   "source": [
    "Нам удалось достичь метрики Ф1-меры в 0.6149 с помощью модели случайного леса."
   ]
  },
  {
   "cell_type": "markdown",
   "metadata": {},
   "source": [
    "Метрика AUC-ROC лучше, чем у случайной модели."
   ]
  },
  {
   "cell_type": "markdown",
   "metadata": {},
   "source": [
    "## Общий вывод"
   ]
  },
  {
   "cell_type": "markdown",
   "metadata": {},
   "source": [
    "**Мне была поставлена задача построить модель с предельно большим значением F1-меры (более 0.59).**\n",
    "\n",
    "Первым этапом, после ознакомления с данными, была проведена их предобработка.\n",
    "1. Из фрейма были удалены строки с пропусками в столбце `Tenure(сколько лет человек является клиентом банка)`. От первоначального объема в 10.000 клиентов банка осталось 9091.\n",
    "\n",
    "\n",
    "2. Были удалены столбцы, которые никак не помогут исследованию и никак не влияют на целевой признак ('customerid', 'rownumber', 'surname')\n",
    "\n",
    "\n",
    "3. Общая выборка была разбита на 3 части в пропорциях 3:1:1  \n",
    " - обучающая выборка\n",
    " - валидационная выборка\n",
    " - тестовая выборка\n",
    "\n",
    "Далее было определено, что 20% от общего числа клиентов прекратили пользоваться банком. Дисбаланс классов на лицо в соотношении 20/80.\n",
    "\n",
    "\n",
    "    В результате исследования задачи без обработки дизбаланса классов и тщательной настройки моделей, было получено значение Ф1-меры 0.5874587458745875. Этот результат меньше требуемого, поэтому его требуется улучшать. \n",
    "    \n",
    "Мной было принято решение начать борьбу с дисбалансом начиная с использования гиперпараметра модели `class_weight = 'balanced'`, а также найти наилучшие остальные гиперпараметры.\n",
    "\n",
    "\n",
    "Вторым способом улучшить баланс и показатели Ф1-меры стало изменение порога классификации.\n",
    "\n",
    "\n",
    "**Лучшей моделью оказался случайный лес, который на валидационной выборке выдавал значение Ф1-меры в 0.64.**\n",
    "\n",
    "\n",
    "После того, как были подобраны гиперпараметры на валидации  - модель была протестирована на тестовой выборке. \n",
    " - Значение Ф1-меры достигло 0.6149, **поставленная заказчиком задача выполнена**\n",
    " - Показатель эффективности модели (AUC-ROC) - 0.859 "
   ]
  }
 ],
 "metadata": {
  "ExecuteTimeLog": [
   {
    "duration": 1832,
    "start_time": "2023-07-21T13:30:48.949Z"
   },
   {
    "duration": 199,
    "start_time": "2023-07-21T13:31:37.495Z"
   },
   {
    "duration": 41,
    "start_time": "2023-07-21T13:31:39.203Z"
   },
   {
    "duration": 169,
    "start_time": "2023-07-21T13:35:30.621Z"
   },
   {
    "duration": 24,
    "start_time": "2023-07-21T13:36:03.603Z"
   },
   {
    "duration": 4,
    "start_time": "2023-07-21T13:37:33.126Z"
   },
   {
    "duration": 13,
    "start_time": "2023-07-21T13:42:04.695Z"
   },
   {
    "duration": 9,
    "start_time": "2023-07-21T13:42:09.727Z"
   },
   {
    "duration": 5,
    "start_time": "2023-07-21T13:42:14.325Z"
   },
   {
    "duration": 5,
    "start_time": "2023-07-21T13:49:05.446Z"
   },
   {
    "duration": 16,
    "start_time": "2023-07-21T13:49:14.214Z"
   },
   {
    "duration": 195,
    "start_time": "2023-07-21T13:52:43.169Z"
   },
   {
    "duration": 35,
    "start_time": "2023-07-21T13:52:58.064Z"
   },
   {
    "duration": 918,
    "start_time": "2023-07-21T13:54:10.582Z"
   },
   {
    "duration": 17,
    "start_time": "2023-07-21T13:54:50.395Z"
   },
   {
    "duration": 195,
    "start_time": "2023-07-21T13:55:19.988Z"
   },
   {
    "duration": 16,
    "start_time": "2023-07-21T13:56:14.252Z"
   },
   {
    "duration": 52,
    "start_time": "2023-07-21T13:56:18.956Z"
   },
   {
    "duration": 148,
    "start_time": "2023-07-21T13:56:20.313Z"
   },
   {
    "duration": 135,
    "start_time": "2023-07-21T13:59:10.841Z"
   },
   {
    "duration": 836,
    "start_time": "2023-07-21T14:01:14.193Z"
   },
   {
    "duration": 565,
    "start_time": "2023-07-21T14:03:01.758Z"
   },
   {
    "duration": 503,
    "start_time": "2023-07-21T14:03:16.381Z"
   },
   {
    "duration": 925,
    "start_time": "2023-07-21T14:03:34.809Z"
   },
   {
    "duration": 8,
    "start_time": "2023-07-21T14:06:14.482Z"
   },
   {
    "duration": 878,
    "start_time": "2023-07-21T14:08:59.947Z"
   },
   {
    "duration": 1487,
    "start_time": "2023-07-21T14:09:09.431Z"
   },
   {
    "duration": 42,
    "start_time": "2023-07-21T14:09:10.920Z"
   },
   {
    "duration": 32,
    "start_time": "2023-07-21T14:09:10.964Z"
   },
   {
    "duration": 4,
    "start_time": "2023-07-21T14:09:10.998Z"
   },
   {
    "duration": 25,
    "start_time": "2023-07-21T14:09:11.003Z"
   },
   {
    "duration": 199,
    "start_time": "2023-07-21T14:09:11.030Z"
   },
   {
    "duration": 14,
    "start_time": "2023-07-21T14:09:11.231Z"
   },
   {
    "duration": 91,
    "start_time": "2023-07-21T14:09:11.246Z"
   },
   {
    "duration": 7,
    "start_time": "2023-07-21T14:09:11.338Z"
   },
   {
    "duration": 141,
    "start_time": "2023-07-21T14:09:11.347Z"
   },
   {
    "duration": 12,
    "start_time": "2023-07-21T14:10:01.080Z"
   },
   {
    "duration": 11,
    "start_time": "2023-07-21T14:10:19.144Z"
   },
   {
    "duration": 15,
    "start_time": "2023-07-21T14:10:35.677Z"
   },
   {
    "duration": 4,
    "start_time": "2023-07-21T14:10:51.413Z"
   },
   {
    "duration": 20,
    "start_time": "2023-07-21T14:10:55.626Z"
   },
   {
    "duration": 1518,
    "start_time": "2023-07-21T14:11:31.715Z"
   },
   {
    "duration": 48,
    "start_time": "2023-07-21T14:11:33.235Z"
   },
   {
    "duration": 27,
    "start_time": "2023-07-21T14:11:33.285Z"
   },
   {
    "duration": 3,
    "start_time": "2023-07-21T14:11:33.314Z"
   },
   {
    "duration": 18,
    "start_time": "2023-07-21T14:11:33.319Z"
   },
   {
    "duration": 206,
    "start_time": "2023-07-21T14:11:33.339Z"
   },
   {
    "duration": 13,
    "start_time": "2023-07-21T14:11:33.547Z"
   },
   {
    "duration": 93,
    "start_time": "2023-07-21T14:11:33.562Z"
   },
   {
    "duration": 8,
    "start_time": "2023-07-21T14:11:33.657Z"
   },
   {
    "duration": 134,
    "start_time": "2023-07-21T14:11:33.668Z"
   },
   {
    "duration": 923,
    "start_time": "2023-07-21T14:11:51.937Z"
   },
   {
    "duration": 19,
    "start_time": "2023-07-21T14:12:36.433Z"
   },
   {
    "duration": 13,
    "start_time": "2023-07-21T14:13:31.202Z"
   },
   {
    "duration": 26,
    "start_time": "2023-07-21T14:13:44.761Z"
   },
   {
    "duration": 1628,
    "start_time": "2023-07-21T14:14:56.086Z"
   },
   {
    "duration": 45,
    "start_time": "2023-07-21T14:14:57.716Z"
   },
   {
    "duration": 41,
    "start_time": "2023-07-21T14:14:57.763Z"
   },
   {
    "duration": 4,
    "start_time": "2023-07-21T14:14:57.807Z"
   },
   {
    "duration": 4,
    "start_time": "2023-07-21T14:14:57.815Z"
   },
   {
    "duration": 4,
    "start_time": "2023-07-21T14:14:57.821Z"
   },
   {
    "duration": 7,
    "start_time": "2023-07-21T14:14:57.827Z"
   },
   {
    "duration": 41,
    "start_time": "2023-07-21T14:14:57.836Z"
   },
   {
    "duration": 15,
    "start_time": "2023-07-21T14:14:57.879Z"
   },
   {
    "duration": 133,
    "start_time": "2023-07-21T14:14:57.896Z"
   },
   {
    "duration": 29,
    "start_time": "2023-07-21T14:16:43.567Z"
   },
   {
    "duration": 25,
    "start_time": "2023-07-21T14:17:33.796Z"
   },
   {
    "duration": 1521,
    "start_time": "2023-07-21T14:17:50.966Z"
   },
   {
    "duration": 41,
    "start_time": "2023-07-21T14:17:52.491Z"
   },
   {
    "duration": 45,
    "start_time": "2023-07-21T14:17:52.534Z"
   },
   {
    "duration": 4,
    "start_time": "2023-07-21T14:17:52.588Z"
   },
   {
    "duration": 4,
    "start_time": "2023-07-21T14:17:52.595Z"
   },
   {
    "duration": 20,
    "start_time": "2023-07-21T14:17:52.605Z"
   },
   {
    "duration": 12,
    "start_time": "2023-07-21T14:17:52.626Z"
   },
   {
    "duration": 19,
    "start_time": "2023-07-21T14:17:52.639Z"
   },
   {
    "duration": 9,
    "start_time": "2023-07-21T14:17:52.660Z"
   },
   {
    "duration": 138,
    "start_time": "2023-07-21T14:17:52.671Z"
   },
   {
    "duration": 16,
    "start_time": "2023-07-21T14:19:54.920Z"
   },
   {
    "duration": 21,
    "start_time": "2023-07-21T14:19:59.004Z"
   },
   {
    "duration": 1526,
    "start_time": "2023-07-21T14:20:18.341Z"
   },
   {
    "duration": 44,
    "start_time": "2023-07-21T14:20:19.872Z"
   },
   {
    "duration": 28,
    "start_time": "2023-07-21T14:20:19.918Z"
   },
   {
    "duration": 3,
    "start_time": "2023-07-21T14:20:19.948Z"
   },
   {
    "duration": 13,
    "start_time": "2023-07-21T14:20:19.952Z"
   },
   {
    "duration": 8,
    "start_time": "2023-07-21T14:20:19.967Z"
   },
   {
    "duration": 15,
    "start_time": "2023-07-21T14:20:19.977Z"
   },
   {
    "duration": 72,
    "start_time": "2023-07-21T14:20:19.993Z"
   },
   {
    "duration": 78,
    "start_time": "2023-07-21T14:20:20.067Z"
   },
   {
    "duration": 136,
    "start_time": "2023-07-21T14:20:20.147Z"
   },
   {
    "duration": 12,
    "start_time": "2023-07-21T14:20:55.895Z"
   },
   {
    "duration": 1596,
    "start_time": "2023-07-21T14:21:02.814Z"
   },
   {
    "duration": 42,
    "start_time": "2023-07-21T14:21:04.412Z"
   },
   {
    "duration": 40,
    "start_time": "2023-07-21T14:21:04.456Z"
   },
   {
    "duration": 7,
    "start_time": "2023-07-21T14:21:04.499Z"
   },
   {
    "duration": 6,
    "start_time": "2023-07-21T14:21:04.508Z"
   },
   {
    "duration": 201,
    "start_time": "2023-07-21T14:21:04.515Z"
   },
   {
    "duration": 933,
    "start_time": "2023-07-21T14:21:04.718Z"
   },
   {
    "duration": 22,
    "start_time": "2023-07-21T14:21:05.653Z"
   },
   {
    "duration": 19,
    "start_time": "2023-07-21T14:21:05.676Z"
   },
   {
    "duration": 151,
    "start_time": "2023-07-21T14:21:05.698Z"
   },
   {
    "duration": 2039,
    "start_time": "2023-07-21T14:21:32.802Z"
   },
   {
    "duration": 16,
    "start_time": "2023-07-21T14:21:51.547Z"
   },
   {
    "duration": 19,
    "start_time": "2023-07-21T14:21:56.833Z"
   },
   {
    "duration": 1657,
    "start_time": "2023-07-21T14:22:15.884Z"
   },
   {
    "duration": 56,
    "start_time": "2023-07-21T14:22:17.544Z"
   },
   {
    "duration": 28,
    "start_time": "2023-07-21T14:22:17.602Z"
   },
   {
    "duration": 3,
    "start_time": "2023-07-21T14:22:17.632Z"
   },
   {
    "duration": 5,
    "start_time": "2023-07-21T14:22:17.637Z"
   },
   {
    "duration": 239,
    "start_time": "2023-07-21T14:22:17.644Z"
   },
   {
    "duration": 948,
    "start_time": "2023-07-21T14:22:17.888Z"
   },
   {
    "duration": 148,
    "start_time": "2023-07-21T14:22:18.837Z"
   },
   {
    "duration": 0,
    "start_time": "2023-07-21T14:22:18.987Z"
   },
   {
    "duration": 0,
    "start_time": "2023-07-21T14:22:18.988Z"
   },
   {
    "duration": 224,
    "start_time": "2023-07-21T14:23:48.154Z"
   },
   {
    "duration": 1064,
    "start_time": "2023-07-21T14:23:49.724Z"
   },
   {
    "duration": 5,
    "start_time": "2023-07-21T14:26:16.284Z"
   },
   {
    "duration": 10,
    "start_time": "2023-07-21T14:26:22.385Z"
   },
   {
    "duration": 13,
    "start_time": "2023-07-21T14:26:23.315Z"
   },
   {
    "duration": 18,
    "start_time": "2023-07-21T14:26:49.886Z"
   },
   {
    "duration": 8,
    "start_time": "2023-07-21T14:26:52.384Z"
   },
   {
    "duration": 19,
    "start_time": "2023-07-21T14:26:54.246Z"
   },
   {
    "duration": 1588,
    "start_time": "2023-07-21T14:27:13.965Z"
   },
   {
    "duration": 52,
    "start_time": "2023-07-21T14:27:15.555Z"
   },
   {
    "duration": 27,
    "start_time": "2023-07-21T14:27:15.609Z"
   },
   {
    "duration": 3,
    "start_time": "2023-07-21T14:27:15.638Z"
   },
   {
    "duration": 8,
    "start_time": "2023-07-21T14:27:15.643Z"
   },
   {
    "duration": 6,
    "start_time": "2023-07-21T14:27:15.652Z"
   },
   {
    "duration": 18,
    "start_time": "2023-07-21T14:27:15.660Z"
   },
   {
    "duration": 16,
    "start_time": "2023-07-21T14:27:15.682Z"
   },
   {
    "duration": 25,
    "start_time": "2023-07-21T14:27:15.699Z"
   },
   {
    "duration": 8,
    "start_time": "2023-07-21T14:27:15.726Z"
   },
   {
    "duration": 129,
    "start_time": "2023-07-21T14:27:15.736Z"
   },
   {
    "duration": 19,
    "start_time": "2023-07-21T14:27:49.902Z"
   },
   {
    "duration": 10,
    "start_time": "2023-07-21T14:27:51.885Z"
   },
   {
    "duration": 46,
    "start_time": "2023-07-21T14:27:52.885Z"
   },
   {
    "duration": 58,
    "start_time": "2023-07-21T14:28:17.461Z"
   },
   {
    "duration": 54,
    "start_time": "2023-07-21T14:28:34.489Z"
   },
   {
    "duration": 599,
    "start_time": "2023-07-21T14:31:50.180Z"
   },
   {
    "duration": 849,
    "start_time": "2023-07-21T14:31:52.285Z"
   },
   {
    "duration": 15,
    "start_time": "2023-07-21T14:32:04.065Z"
   },
   {
    "duration": 9,
    "start_time": "2023-07-21T14:32:27.521Z"
   },
   {
    "duration": 4,
    "start_time": "2023-07-21T14:32:47.989Z"
   },
   {
    "duration": 13,
    "start_time": "2023-07-21T14:32:57.119Z"
   },
   {
    "duration": 1301,
    "start_time": "2023-07-21T14:33:09.484Z"
   },
   {
    "duration": 4,
    "start_time": "2023-07-21T14:47:36.749Z"
   },
   {
    "duration": 1440,
    "start_time": "2023-07-21T14:47:55.735Z"
   },
   {
    "duration": 900,
    "start_time": "2023-07-21T14:48:11.393Z"
   },
   {
    "duration": 170,
    "start_time": "2023-07-21T14:51:41.423Z"
   },
   {
    "duration": 48,
    "start_time": "2023-07-21T14:52:17.289Z"
   },
   {
    "duration": 4,
    "start_time": "2023-07-21T14:52:50.427Z"
   },
   {
    "duration": 2214,
    "start_time": "2023-07-21T14:52:58.308Z"
   },
   {
    "duration": 865,
    "start_time": "2023-07-21T14:53:20.395Z"
   },
   {
    "duration": 857,
    "start_time": "2023-07-21T14:53:26.109Z"
   },
   {
    "duration": 13748,
    "start_time": "2023-07-21T14:53:34.267Z"
   },
   {
    "duration": 1489,
    "start_time": "2023-07-21T14:56:08.097Z"
   },
   {
    "duration": 1468,
    "start_time": "2023-07-21T14:56:26.924Z"
   },
   {
    "duration": 41,
    "start_time": "2023-07-21T14:56:28.402Z"
   },
   {
    "duration": 36,
    "start_time": "2023-07-21T14:56:28.444Z"
   },
   {
    "duration": 7,
    "start_time": "2023-07-21T14:56:28.486Z"
   },
   {
    "duration": 7,
    "start_time": "2023-07-21T14:56:28.495Z"
   },
   {
    "duration": 16,
    "start_time": "2023-07-21T14:56:28.504Z"
   },
   {
    "duration": 12,
    "start_time": "2023-07-21T14:56:28.522Z"
   },
   {
    "duration": 23,
    "start_time": "2023-07-21T14:56:28.536Z"
   },
   {
    "duration": 20,
    "start_time": "2023-07-21T14:56:28.561Z"
   },
   {
    "duration": 11,
    "start_time": "2023-07-21T14:56:28.584Z"
   },
   {
    "duration": 45,
    "start_time": "2023-07-21T14:56:28.597Z"
   },
   {
    "duration": 887,
    "start_time": "2023-07-21T14:56:28.644Z"
   },
   {
    "duration": 2068,
    "start_time": "2023-07-21T14:56:29.533Z"
   },
   {
    "duration": 209,
    "start_time": "2023-07-21T14:56:31.604Z"
   },
   {
    "duration": 14138,
    "start_time": "2023-07-21T14:56:31.816Z"
   },
   {
    "duration": 783,
    "start_time": "2023-07-21T14:57:16.104Z"
   },
   {
    "duration": 444,
    "start_time": "2023-07-21T15:00:16.707Z"
   },
   {
    "duration": 117,
    "start_time": "2023-07-21T15:02:11.704Z"
   },
   {
    "duration": 331,
    "start_time": "2023-07-21T15:02:26.285Z"
   },
   {
    "duration": 343,
    "start_time": "2023-07-21T15:05:04.813Z"
   },
   {
    "duration": 389,
    "start_time": "2023-07-21T15:05:21.135Z"
   },
   {
    "duration": 331,
    "start_time": "2023-07-21T15:05:26.002Z"
   },
   {
    "duration": 81372,
    "start_time": "2023-07-21T15:31:28.066Z"
   },
   {
    "duration": 6,
    "start_time": "2023-07-21T15:33:03.206Z"
   },
   {
    "duration": 460,
    "start_time": "2023-07-21T15:33:31.635Z"
   },
   {
    "duration": 792111,
    "start_time": "2023-07-21T15:33:43.335Z"
   },
   {
    "duration": 5,
    "start_time": "2023-07-21T16:01:32.204Z"
   },
   {
    "duration": 455,
    "start_time": "2023-07-21T16:02:02.309Z"
   },
   {
    "duration": 503,
    "start_time": "2023-07-21T16:03:56.861Z"
   },
   {
    "duration": 393,
    "start_time": "2023-07-21T16:08:13.089Z"
   },
   {
    "duration": 384,
    "start_time": "2023-07-21T16:09:05.806Z"
   },
   {
    "duration": 446,
    "start_time": "2023-07-21T16:10:44.099Z"
   },
   {
    "duration": 34,
    "start_time": "2023-07-21T16:10:46.085Z"
   },
   {
    "duration": 36,
    "start_time": "2023-07-21T16:11:36.716Z"
   },
   {
    "duration": 43,
    "start_time": "2023-07-22T08:12:50.856Z"
   },
   {
    "duration": 1588,
    "start_time": "2023-07-22T08:12:54.266Z"
   },
   {
    "duration": 166,
    "start_time": "2023-07-22T08:12:55.856Z"
   },
   {
    "duration": 29,
    "start_time": "2023-07-22T08:12:56.024Z"
   },
   {
    "duration": 3,
    "start_time": "2023-07-22T08:12:56.055Z"
   },
   {
    "duration": 30,
    "start_time": "2023-07-22T08:12:56.059Z"
   },
   {
    "duration": 6,
    "start_time": "2023-07-22T08:12:56.091Z"
   },
   {
    "duration": 18,
    "start_time": "2023-07-22T08:12:56.099Z"
   },
   {
    "duration": 18,
    "start_time": "2023-07-22T08:12:56.119Z"
   },
   {
    "duration": 15,
    "start_time": "2023-07-22T08:12:56.139Z"
   },
   {
    "duration": 8,
    "start_time": "2023-07-22T08:12:56.156Z"
   },
   {
    "duration": 61,
    "start_time": "2023-07-22T08:12:56.165Z"
   },
   {
    "duration": 763,
    "start_time": "2023-07-22T08:12:56.228Z"
   },
   {
    "duration": 1434,
    "start_time": "2023-07-22T08:13:43.613Z"
   },
   {
    "duration": 46,
    "start_time": "2023-07-22T08:13:45.049Z"
   },
   {
    "duration": 36,
    "start_time": "2023-07-22T08:13:45.096Z"
   },
   {
    "duration": 4,
    "start_time": "2023-07-22T08:13:45.133Z"
   },
   {
    "duration": 4,
    "start_time": "2023-07-22T08:13:45.140Z"
   },
   {
    "duration": 9,
    "start_time": "2023-07-22T08:13:45.146Z"
   },
   {
    "duration": 15,
    "start_time": "2023-07-22T08:13:45.156Z"
   },
   {
    "duration": 37,
    "start_time": "2023-07-22T08:13:45.173Z"
   },
   {
    "duration": 20,
    "start_time": "2023-07-22T08:13:45.211Z"
   },
   {
    "duration": 10,
    "start_time": "2023-07-22T08:13:45.233Z"
   },
   {
    "duration": 78,
    "start_time": "2023-07-22T08:13:45.245Z"
   },
   {
    "duration": 738,
    "start_time": "2023-07-22T08:13:45.325Z"
   },
   {
    "duration": 3,
    "start_time": "2023-07-22T08:13:46.065Z"
   },
   {
    "duration": 5,
    "start_time": "2023-07-22T08:13:46.070Z"
   },
   {
    "duration": 384,
    "start_time": "2023-07-22T08:13:46.076Z"
   },
   {
    "duration": 29,
    "start_time": "2023-07-22T08:13:46.461Z"
   },
   {
    "duration": 11055,
    "start_time": "2023-07-22T08:13:46.492Z"
   },
   {
    "duration": 3,
    "start_time": "2023-07-22T08:13:57.549Z"
   },
   {
    "duration": 7,
    "start_time": "2023-07-22T08:13:57.553Z"
   },
   {
    "duration": 314,
    "start_time": "2023-07-22T08:13:57.561Z"
   },
   {
    "duration": 462,
    "start_time": "2023-07-22T08:14:16.836Z"
   },
   {
    "duration": 3,
    "start_time": "2023-07-22T08:14:57.379Z"
   },
   {
    "duration": 336,
    "start_time": "2023-07-22T08:15:03.144Z"
   },
   {
    "duration": 3,
    "start_time": "2023-07-22T08:15:22.933Z"
   },
   {
    "duration": 366,
    "start_time": "2023-07-22T08:15:28.444Z"
   },
   {
    "duration": 368,
    "start_time": "2023-07-22T08:15:40.198Z"
   },
   {
    "duration": 448,
    "start_time": "2023-07-22T08:15:47.664Z"
   },
   {
    "duration": 420,
    "start_time": "2023-07-22T08:16:04.559Z"
   },
   {
    "duration": 481,
    "start_time": "2023-07-22T08:19:35.949Z"
   },
   {
    "duration": 482,
    "start_time": "2023-07-22T08:21:13.589Z"
   },
   {
    "duration": 1280,
    "start_time": "2023-07-22T08:22:14.251Z"
   },
   {
    "duration": 40,
    "start_time": "2023-07-22T08:22:15.532Z"
   },
   {
    "duration": 23,
    "start_time": "2023-07-22T08:22:15.573Z"
   },
   {
    "duration": 3,
    "start_time": "2023-07-22T08:22:15.598Z"
   },
   {
    "duration": 11,
    "start_time": "2023-07-22T08:22:15.603Z"
   },
   {
    "duration": 5,
    "start_time": "2023-07-22T08:22:15.616Z"
   },
   {
    "duration": 16,
    "start_time": "2023-07-22T08:22:15.622Z"
   },
   {
    "duration": 11,
    "start_time": "2023-07-22T08:22:15.639Z"
   },
   {
    "duration": 15,
    "start_time": "2023-07-22T08:22:15.651Z"
   },
   {
    "duration": 7,
    "start_time": "2023-07-22T08:22:15.668Z"
   },
   {
    "duration": 54,
    "start_time": "2023-07-22T08:22:15.676Z"
   },
   {
    "duration": 727,
    "start_time": "2023-07-22T08:22:15.731Z"
   },
   {
    "duration": 3,
    "start_time": "2023-07-22T08:22:16.460Z"
   },
   {
    "duration": 21,
    "start_time": "2023-07-22T08:22:16.466Z"
   },
   {
    "duration": 392,
    "start_time": "2023-07-22T08:22:16.488Z"
   },
   {
    "duration": 40,
    "start_time": "2023-07-22T08:22:16.882Z"
   },
   {
    "duration": 201,
    "start_time": "2023-07-22T08:22:19.891Z"
   },
   {
    "duration": 208,
    "start_time": "2023-07-22T08:23:47.412Z"
   },
   {
    "duration": 221,
    "start_time": "2023-07-22T08:24:13.518Z"
   },
   {
    "duration": 375,
    "start_time": "2023-07-22T08:24:28.185Z"
   },
   {
    "duration": 324,
    "start_time": "2023-07-22T08:24:36.012Z"
   },
   {
    "duration": 11025,
    "start_time": "2023-07-22T08:25:56.450Z"
   },
   {
    "duration": 4,
    "start_time": "2023-07-22T08:26:11.547Z"
   },
   {
    "duration": 2,
    "start_time": "2023-07-22T08:26:12.020Z"
   },
   {
    "duration": 324,
    "start_time": "2023-07-22T08:26:12.579Z"
   },
   {
    "duration": 478,
    "start_time": "2023-07-22T08:26:21.167Z"
   },
   {
    "duration": 496,
    "start_time": "2023-07-22T08:27:51.320Z"
   },
   {
    "duration": 446,
    "start_time": "2023-07-22T08:28:09.273Z"
   },
   {
    "duration": 4,
    "start_time": "2023-07-22T08:29:28.797Z"
   },
   {
    "duration": 454,
    "start_time": "2023-07-22T08:29:51.530Z"
   },
   {
    "duration": 462,
    "start_time": "2023-07-22T08:30:02.819Z"
   },
   {
    "duration": 4,
    "start_time": "2023-07-22T08:31:04.123Z"
   },
   {
    "duration": 512,
    "start_time": "2023-07-22T08:31:27.406Z"
   },
   {
    "duration": 554,
    "start_time": "2023-07-22T08:32:06.864Z"
   },
   {
    "duration": 5,
    "start_time": "2023-07-22T08:32:22.600Z"
   },
   {
    "duration": 569,
    "start_time": "2023-07-22T08:32:28.981Z"
   },
   {
    "duration": 564,
    "start_time": "2023-07-22T08:33:45.191Z"
   },
   {
    "duration": 11,
    "start_time": "2023-07-22T08:36:17.229Z"
   },
   {
    "duration": 4,
    "start_time": "2023-07-22T08:36:39.499Z"
   },
   {
    "duration": 106,
    "start_time": "2023-07-22T08:36:43.630Z"
   },
   {
    "duration": 668,
    "start_time": "2023-07-22T08:37:49.855Z"
   },
   {
    "duration": 105,
    "start_time": "2023-07-22T08:37:55.262Z"
   },
   {
    "duration": 9,
    "start_time": "2023-07-22T08:44:15.691Z"
   },
   {
    "duration": 22,
    "start_time": "2023-07-22T08:44:21.215Z"
   },
   {
    "duration": 333,
    "start_time": "2023-07-22T09:01:08.796Z"
   },
   {
    "duration": 327,
    "start_time": "2023-07-22T09:01:13.158Z"
   },
   {
    "duration": 330,
    "start_time": "2023-07-22T09:02:48.235Z"
   },
   {
    "duration": 340,
    "start_time": "2023-07-22T09:02:59.605Z"
   },
   {
    "duration": 159,
    "start_time": "2023-07-22T09:05:21.957Z"
   },
   {
    "duration": 120,
    "start_time": "2023-07-22T09:06:27.291Z"
   },
   {
    "duration": 3460,
    "start_time": "2023-07-22T09:38:07.711Z"
   },
   {
    "duration": 227,
    "start_time": "2023-07-22T09:38:11.175Z"
   },
   {
    "duration": 36,
    "start_time": "2023-07-22T09:38:11.405Z"
   },
   {
    "duration": 4,
    "start_time": "2023-07-22T09:38:11.444Z"
   },
   {
    "duration": 13,
    "start_time": "2023-07-22T09:38:11.450Z"
   },
   {
    "duration": 18,
    "start_time": "2023-07-22T09:38:11.465Z"
   },
   {
    "duration": 23,
    "start_time": "2023-07-22T09:38:11.485Z"
   },
   {
    "duration": 28,
    "start_time": "2023-07-22T09:38:11.510Z"
   },
   {
    "duration": 25,
    "start_time": "2023-07-22T09:38:11.540Z"
   },
   {
    "duration": 28,
    "start_time": "2023-07-22T09:38:11.571Z"
   },
   {
    "duration": 62,
    "start_time": "2023-07-22T09:38:11.601Z"
   },
   {
    "duration": 1040,
    "start_time": "2023-07-22T09:38:11.671Z"
   },
   {
    "duration": 4,
    "start_time": "2023-07-22T09:38:12.713Z"
   },
   {
    "duration": 15,
    "start_time": "2023-07-22T09:38:12.721Z"
   },
   {
    "duration": 584,
    "start_time": "2023-07-22T09:38:12.738Z"
   },
   {
    "duration": 67,
    "start_time": "2023-07-22T09:38:13.325Z"
   },
   {
    "duration": 309,
    "start_time": "2023-07-22T09:38:13.397Z"
   },
   {
    "duration": 15555,
    "start_time": "2023-07-22T09:38:13.709Z"
   },
   {
    "duration": 12,
    "start_time": "2023-07-22T09:38:29.269Z"
   },
   {
    "duration": 3,
    "start_time": "2023-07-22T09:38:29.285Z"
   },
   {
    "duration": 438,
    "start_time": "2023-07-22T09:38:29.290Z"
   },
   {
    "duration": 878,
    "start_time": "2023-07-22T09:38:29.730Z"
   },
   {
    "duration": 472,
    "start_time": "2023-07-22T09:38:30.610Z"
   },
   {
    "duration": 212,
    "start_time": "2023-07-22T09:38:31.084Z"
   },
   {
    "duration": 1560,
    "start_time": "2023-07-22T10:21:49.390Z"
   },
   {
    "duration": 42,
    "start_time": "2023-07-22T10:21:50.952Z"
   },
   {
    "duration": 39,
    "start_time": "2023-07-22T10:21:50.996Z"
   },
   {
    "duration": 8,
    "start_time": "2023-07-22T10:21:51.037Z"
   },
   {
    "duration": 6,
    "start_time": "2023-07-22T10:21:51.053Z"
   },
   {
    "duration": 12,
    "start_time": "2023-07-22T10:21:51.060Z"
   },
   {
    "duration": 43,
    "start_time": "2023-07-22T10:21:51.073Z"
   },
   {
    "duration": 27,
    "start_time": "2023-07-22T10:21:51.124Z"
   },
   {
    "duration": 18,
    "start_time": "2023-07-22T10:21:51.156Z"
   },
   {
    "duration": 15,
    "start_time": "2023-07-22T10:21:51.176Z"
   },
   {
    "duration": 57,
    "start_time": "2023-07-22T10:21:51.192Z"
   },
   {
    "duration": 1056,
    "start_time": "2023-07-22T10:21:51.251Z"
   },
   {
    "duration": 5,
    "start_time": "2023-07-22T10:21:52.309Z"
   },
   {
    "duration": 19,
    "start_time": "2023-07-22T10:21:52.326Z"
   },
   {
    "duration": 703,
    "start_time": "2023-07-22T10:21:52.355Z"
   },
   {
    "duration": 71,
    "start_time": "2023-07-22T10:21:53.074Z"
   },
   {
    "duration": 339,
    "start_time": "2023-07-22T10:21:53.151Z"
   },
   {
    "duration": 14418,
    "start_time": "2023-07-22T10:21:53.495Z"
   },
   {
    "duration": 5,
    "start_time": "2023-07-22T10:22:07.923Z"
   },
   {
    "duration": 41,
    "start_time": "2023-07-22T10:22:07.929Z"
   },
   {
    "duration": 395,
    "start_time": "2023-07-22T10:22:07.972Z"
   },
   {
    "duration": 678,
    "start_time": "2023-07-22T10:22:08.368Z"
   },
   {
    "duration": 363,
    "start_time": "2023-07-22T10:22:09.051Z"
   },
   {
    "duration": 127,
    "start_time": "2023-07-22T10:22:09.416Z"
   },
   {
    "duration": 449,
    "start_time": "2023-07-22T10:23:22.488Z"
   },
   {
    "duration": 295,
    "start_time": "2023-07-22T10:23:49.631Z"
   },
   {
    "duration": 346,
    "start_time": "2023-07-22T10:24:06.280Z"
   },
   {
    "duration": 3,
    "start_time": "2023-07-22T10:26:58.477Z"
   },
   {
    "duration": 1422,
    "start_time": "2023-07-22T10:27:17.661Z"
   },
   {
    "duration": 66,
    "start_time": "2023-07-22T10:27:19.085Z"
   },
   {
    "duration": 27,
    "start_time": "2023-07-22T10:27:19.153Z"
   },
   {
    "duration": 3,
    "start_time": "2023-07-22T10:27:19.181Z"
   },
   {
    "duration": 6,
    "start_time": "2023-07-22T10:27:20.741Z"
   },
   {
    "duration": 5,
    "start_time": "2023-07-22T10:27:27.766Z"
   },
   {
    "duration": 10,
    "start_time": "2023-07-22T10:27:48.803Z"
   },
   {
    "duration": 7,
    "start_time": "2023-07-22T10:37:40.437Z"
   },
   {
    "duration": 7,
    "start_time": "2023-07-22T10:37:56.045Z"
   },
   {
    "duration": 3,
    "start_time": "2023-07-22T10:38:10.749Z"
   },
   {
    "duration": 1915,
    "start_time": "2023-07-22T10:38:13.075Z"
   },
   {
    "duration": 1451,
    "start_time": "2023-07-22T10:38:29.638Z"
   },
   {
    "duration": 65,
    "start_time": "2023-07-22T10:38:31.092Z"
   },
   {
    "duration": 36,
    "start_time": "2023-07-22T10:38:31.159Z"
   },
   {
    "duration": 26,
    "start_time": "2023-07-22T10:38:31.197Z"
   },
   {
    "duration": 19,
    "start_time": "2023-07-22T10:38:31.228Z"
   },
   {
    "duration": 8,
    "start_time": "2023-07-22T10:38:33.001Z"
   },
   {
    "duration": 1845,
    "start_time": "2023-07-22T10:38:47.556Z"
   },
   {
    "duration": 1531,
    "start_time": "2023-07-22T10:39:03.336Z"
   },
   {
    "duration": 46,
    "start_time": "2023-07-22T10:39:04.870Z"
   },
   {
    "duration": 37,
    "start_time": "2023-07-22T10:39:04.925Z"
   },
   {
    "duration": 3,
    "start_time": "2023-07-22T10:39:04.964Z"
   },
   {
    "duration": 27,
    "start_time": "2023-07-22T10:39:04.969Z"
   },
   {
    "duration": 115,
    "start_time": "2023-07-22T10:39:06.149Z"
   },
   {
    "duration": 5,
    "start_time": "2023-07-22T10:39:56.502Z"
   },
   {
    "duration": 12,
    "start_time": "2023-07-22T10:40:00.535Z"
   },
   {
    "duration": 1661,
    "start_time": "2023-07-22T10:40:16.735Z"
   },
   {
    "duration": 70,
    "start_time": "2023-07-22T10:40:18.398Z"
   },
   {
    "duration": 29,
    "start_time": "2023-07-22T10:40:18.469Z"
   },
   {
    "duration": 3,
    "start_time": "2023-07-22T10:40:18.500Z"
   },
   {
    "duration": 24,
    "start_time": "2023-07-22T10:40:18.505Z"
   },
   {
    "duration": 5,
    "start_time": "2023-07-22T10:40:19.912Z"
   },
   {
    "duration": 136,
    "start_time": "2023-07-22T10:40:26.944Z"
   },
   {
    "duration": 1560,
    "start_time": "2023-07-22T10:40:33.085Z"
   },
   {
    "duration": 49,
    "start_time": "2023-07-22T10:40:34.649Z"
   },
   {
    "duration": 51,
    "start_time": "2023-07-22T10:40:34.699Z"
   },
   {
    "duration": 3,
    "start_time": "2023-07-22T10:40:34.753Z"
   },
   {
    "duration": 24,
    "start_time": "2023-07-22T10:40:34.759Z"
   },
   {
    "duration": 18,
    "start_time": "2023-07-22T10:40:34.784Z"
   },
   {
    "duration": 168,
    "start_time": "2023-07-22T10:40:44.499Z"
   },
   {
    "duration": 1530,
    "start_time": "2023-07-22T10:41:30.796Z"
   },
   {
    "duration": 54,
    "start_time": "2023-07-22T10:41:32.329Z"
   },
   {
    "duration": 52,
    "start_time": "2023-07-22T10:41:32.385Z"
   },
   {
    "duration": 9,
    "start_time": "2023-07-22T10:41:32.441Z"
   },
   {
    "duration": 15,
    "start_time": "2023-07-22T10:41:32.453Z"
   },
   {
    "duration": 5,
    "start_time": "2023-07-22T10:41:33.848Z"
   },
   {
    "duration": 17,
    "start_time": "2023-07-22T10:41:39.138Z"
   },
   {
    "duration": 9,
    "start_time": "2023-07-22T10:41:49.134Z"
   },
   {
    "duration": 13,
    "start_time": "2023-07-22T10:42:20.466Z"
   },
   {
    "duration": 22,
    "start_time": "2023-07-22T10:44:24.312Z"
   },
   {
    "duration": 166,
    "start_time": "2023-07-22T10:45:41.745Z"
   },
   {
    "duration": 1595,
    "start_time": "2023-07-22T10:45:50.932Z"
   },
   {
    "duration": 58,
    "start_time": "2023-07-22T10:45:52.537Z"
   },
   {
    "duration": 76,
    "start_time": "2023-07-22T10:45:52.597Z"
   },
   {
    "duration": 5,
    "start_time": "2023-07-22T10:45:52.675Z"
   },
   {
    "duration": 16,
    "start_time": "2023-07-22T10:45:52.682Z"
   },
   {
    "duration": 32,
    "start_time": "2023-07-22T10:45:52.699Z"
   },
   {
    "duration": 32,
    "start_time": "2023-07-22T10:45:52.741Z"
   },
   {
    "duration": 1800,
    "start_time": "2023-07-22T18:03:27.497Z"
   },
   {
    "duration": 178,
    "start_time": "2023-07-22T18:03:29.300Z"
   },
   {
    "duration": 31,
    "start_time": "2023-07-22T18:03:29.479Z"
   },
   {
    "duration": 13,
    "start_time": "2023-07-22T18:03:29.512Z"
   },
   {
    "duration": 5,
    "start_time": "2023-07-22T18:03:29.528Z"
   },
   {
    "duration": 14,
    "start_time": "2023-07-22T18:03:29.534Z"
   },
   {
    "duration": 15,
    "start_time": "2023-07-22T18:03:29.550Z"
   },
   {
    "duration": 12,
    "start_time": "2023-07-22T18:03:29.567Z"
   },
   {
    "duration": 12,
    "start_time": "2023-07-22T18:03:29.581Z"
   },
   {
    "duration": 250,
    "start_time": "2023-07-22T18:03:33.335Z"
   },
   {
    "duration": 23,
    "start_time": "2023-07-22T18:24:29.176Z"
   },
   {
    "duration": 16,
    "start_time": "2023-07-22T18:24:38.179Z"
   },
   {
    "duration": 8,
    "start_time": "2023-07-22T18:31:38.932Z"
   },
   {
    "duration": 30,
    "start_time": "2023-07-22T18:31:41.034Z"
   },
   {
    "duration": 663,
    "start_time": "2023-07-22T18:31:44.553Z"
   },
   {
    "duration": 4,
    "start_time": "2023-07-22T18:38:36.316Z"
   },
   {
    "duration": 3,
    "start_time": "2023-07-22T18:38:37.087Z"
   },
   {
    "duration": 272,
    "start_time": "2023-07-22T18:38:38.219Z"
   },
   {
    "duration": 25,
    "start_time": "2023-07-22T18:38:41.007Z"
   },
   {
    "duration": 51522,
    "start_time": "2023-07-22T18:40:13.853Z"
   },
   {
    "duration": 3,
    "start_time": "2023-07-22T18:42:31.516Z"
   },
   {
    "duration": 341,
    "start_time": "2023-07-22T18:43:41.212Z"
   },
   {
    "duration": 28,
    "start_time": "2023-07-22T18:43:51.814Z"
   },
   {
    "duration": 26,
    "start_time": "2023-07-22T18:45:33.536Z"
   },
   {
    "duration": 215,
    "start_time": "2023-07-22T18:49:13.180Z"
   },
   {
    "duration": 632695,
    "start_time": "2023-07-22T18:51:15.818Z"
   },
   {
    "duration": 10532,
    "start_time": "2023-07-22T19:01:48.515Z"
   },
   {
    "duration": 5,
    "start_time": "2023-07-22T19:19:33.644Z"
   },
   {
    "duration": 292,
    "start_time": "2023-07-22T19:19:52.299Z"
   },
   {
    "duration": 613,
    "start_time": "2023-07-22T19:52:37.250Z"
   },
   {
    "duration": 588,
    "start_time": "2023-07-22T19:55:36.753Z"
   },
   {
    "duration": 299,
    "start_time": "2023-07-22T23:40:22.349Z"
   },
   {
    "duration": 267,
    "start_time": "2023-07-22T23:40:45.204Z"
   },
   {
    "duration": 313,
    "start_time": "2023-07-22T23:45:03.178Z"
   },
   {
    "duration": 1488,
    "start_time": "2023-07-22T23:45:27.528Z"
   },
   {
    "duration": 42,
    "start_time": "2023-07-22T23:45:29.018Z"
   },
   {
    "duration": 28,
    "start_time": "2023-07-22T23:45:29.062Z"
   },
   {
    "duration": 3,
    "start_time": "2023-07-22T23:45:29.092Z"
   },
   {
    "duration": 8,
    "start_time": "2023-07-22T23:45:29.097Z"
   },
   {
    "duration": 11,
    "start_time": "2023-07-22T23:45:29.107Z"
   },
   {
    "duration": 14,
    "start_time": "2023-07-22T23:45:29.120Z"
   },
   {
    "duration": 14,
    "start_time": "2023-07-22T23:45:29.136Z"
   },
   {
    "duration": 12,
    "start_time": "2023-07-22T23:45:29.152Z"
   },
   {
    "duration": 16,
    "start_time": "2023-07-22T23:45:29.167Z"
   },
   {
    "duration": 34,
    "start_time": "2023-07-22T23:45:29.184Z"
   },
   {
    "duration": 33,
    "start_time": "2023-07-22T23:45:29.220Z"
   },
   {
    "duration": 707,
    "start_time": "2023-07-22T23:45:29.255Z"
   },
   {
    "duration": 4,
    "start_time": "2023-07-22T23:45:29.964Z"
   },
   {
    "duration": 129,
    "start_time": "2023-07-22T23:45:29.970Z"
   },
   {
    "duration": 0,
    "start_time": "2023-07-22T23:45:30.101Z"
   },
   {
    "duration": 0,
    "start_time": "2023-07-22T23:45:30.102Z"
   },
   {
    "duration": 0,
    "start_time": "2023-07-22T23:45:30.103Z"
   },
   {
    "duration": 0,
    "start_time": "2023-07-22T23:45:30.104Z"
   },
   {
    "duration": 0,
    "start_time": "2023-07-22T23:45:30.105Z"
   },
   {
    "duration": 0,
    "start_time": "2023-07-22T23:45:30.114Z"
   },
   {
    "duration": 0,
    "start_time": "2023-07-22T23:45:30.114Z"
   },
   {
    "duration": 0,
    "start_time": "2023-07-22T23:45:30.115Z"
   },
   {
    "duration": 0,
    "start_time": "2023-07-22T23:45:30.116Z"
   },
   {
    "duration": 0,
    "start_time": "2023-07-22T23:45:30.117Z"
   },
   {
    "duration": 0,
    "start_time": "2023-07-22T23:45:30.118Z"
   },
   {
    "duration": 1456,
    "start_time": "2023-07-22T23:45:55.135Z"
   },
   {
    "duration": 41,
    "start_time": "2023-07-22T23:45:56.593Z"
   },
   {
    "duration": 29,
    "start_time": "2023-07-22T23:45:56.636Z"
   },
   {
    "duration": 3,
    "start_time": "2023-07-22T23:45:56.666Z"
   },
   {
    "duration": 10,
    "start_time": "2023-07-22T23:45:56.670Z"
   },
   {
    "duration": 18,
    "start_time": "2023-07-22T23:45:56.681Z"
   },
   {
    "duration": 23,
    "start_time": "2023-07-22T23:45:56.700Z"
   },
   {
    "duration": 18,
    "start_time": "2023-07-22T23:45:56.724Z"
   },
   {
    "duration": 24,
    "start_time": "2023-07-22T23:45:56.743Z"
   },
   {
    "duration": 16,
    "start_time": "2023-07-22T23:45:56.768Z"
   },
   {
    "duration": 6,
    "start_time": "2023-07-22T23:45:56.785Z"
   },
   {
    "duration": 40,
    "start_time": "2023-07-22T23:45:56.792Z"
   },
   {
    "duration": 638,
    "start_time": "2023-07-22T23:45:56.834Z"
   },
   {
    "duration": 4,
    "start_time": "2023-07-22T23:45:57.475Z"
   },
   {
    "duration": 10,
    "start_time": "2023-07-22T23:45:57.481Z"
   },
   {
    "duration": 277,
    "start_time": "2023-07-22T23:45:57.492Z"
   },
   {
    "duration": 24,
    "start_time": "2023-07-22T23:45:57.770Z"
   },
   {
    "duration": 222,
    "start_time": "2023-07-22T23:45:57.796Z"
   },
   {
    "duration": 10439,
    "start_time": "2023-07-22T23:45:58.020Z"
   },
   {
    "duration": 1554,
    "start_time": "2023-07-22T23:47:18.300Z"
   },
   {
    "duration": 39,
    "start_time": "2023-07-22T23:47:19.856Z"
   },
   {
    "duration": 30,
    "start_time": "2023-07-22T23:47:19.897Z"
   },
   {
    "duration": 3,
    "start_time": "2023-07-22T23:47:19.929Z"
   },
   {
    "duration": 11,
    "start_time": "2023-07-22T23:47:19.934Z"
   },
   {
    "duration": 13,
    "start_time": "2023-07-22T23:47:19.947Z"
   },
   {
    "duration": 18,
    "start_time": "2023-07-22T23:47:19.961Z"
   },
   {
    "duration": 17,
    "start_time": "2023-07-22T23:47:19.980Z"
   },
   {
    "duration": 25,
    "start_time": "2023-07-22T23:47:19.999Z"
   },
   {
    "duration": 32,
    "start_time": "2023-07-22T23:47:20.026Z"
   },
   {
    "duration": 7,
    "start_time": "2023-07-22T23:47:20.060Z"
   },
   {
    "duration": 34,
    "start_time": "2023-07-22T23:47:20.069Z"
   },
   {
    "duration": 655,
    "start_time": "2023-07-22T23:47:20.104Z"
   },
   {
    "duration": 5,
    "start_time": "2023-07-22T23:47:20.762Z"
   },
   {
    "duration": 43,
    "start_time": "2023-07-22T23:47:20.768Z"
   },
   {
    "duration": 302,
    "start_time": "2023-07-22T23:47:20.813Z"
   },
   {
    "duration": 25,
    "start_time": "2023-07-22T23:47:21.117Z"
   },
   {
    "duration": 244,
    "start_time": "2023-07-22T23:47:21.143Z"
   },
   {
    "duration": 10432,
    "start_time": "2023-07-22T23:47:21.389Z"
   },
   {
    "duration": 3,
    "start_time": "2023-07-22T23:47:31.823Z"
   },
   {
    "duration": 108,
    "start_time": "2023-07-22T23:47:31.828Z"
   },
   {
    "duration": 285,
    "start_time": "2023-07-22T23:47:31.938Z"
   },
   {
    "duration": 588,
    "start_time": "2023-07-22T23:47:32.225Z"
   },
   {
    "duration": 408,
    "start_time": "2023-07-22T23:47:32.815Z"
   },
   {
    "duration": 0,
    "start_time": "2023-07-22T23:47:33.224Z"
   },
   {
    "duration": 0,
    "start_time": "2023-07-22T23:47:33.225Z"
   },
   {
    "duration": 280,
    "start_time": "2023-07-22T23:53:37.013Z"
   },
   {
    "duration": 152,
    "start_time": "2023-07-22T23:53:50.844Z"
   },
   {
    "duration": 287,
    "start_time": "2023-07-22T23:56:21.260Z"
   },
   {
    "duration": 249,
    "start_time": "2023-07-22T23:56:36.469Z"
   },
   {
    "duration": 155,
    "start_time": "2023-07-22T23:56:39.176Z"
   },
   {
    "duration": 280,
    "start_time": "2023-07-22T23:58:07.080Z"
   },
   {
    "duration": 437,
    "start_time": "2023-07-23T00:00:42.144Z"
   },
   {
    "duration": 285,
    "start_time": "2023-07-23T00:02:12.148Z"
   },
   {
    "duration": 431,
    "start_time": "2023-07-23T00:02:48.235Z"
   },
   {
    "duration": 334,
    "start_time": "2023-07-23T00:03:59.414Z"
   },
   {
    "duration": 446,
    "start_time": "2023-07-23T00:04:16.728Z"
   },
   {
    "duration": 280,
    "start_time": "2023-07-23T00:05:36.135Z"
   },
   {
    "duration": 436,
    "start_time": "2023-07-23T00:05:48.232Z"
   },
   {
    "duration": 278,
    "start_time": "2023-07-23T00:07:11.388Z"
   },
   {
    "duration": 300,
    "start_time": "2023-07-23T00:11:44.092Z"
   },
   {
    "duration": 311,
    "start_time": "2023-07-23T00:11:52.898Z"
   },
   {
    "duration": 324,
    "start_time": "2023-07-23T00:11:59.460Z"
   },
   {
    "duration": 128,
    "start_time": "2023-07-23T00:12:45.629Z"
   },
   {
    "duration": 293,
    "start_time": "2023-07-23T00:13:24.286Z"
   },
   {
    "duration": 132,
    "start_time": "2023-07-23T00:13:25.710Z"
   },
   {
    "duration": 1487,
    "start_time": "2023-07-23T00:33:41.282Z"
   },
   {
    "duration": 41,
    "start_time": "2023-07-23T00:33:42.771Z"
   },
   {
    "duration": 29,
    "start_time": "2023-07-23T00:33:42.814Z"
   },
   {
    "duration": 3,
    "start_time": "2023-07-23T00:33:42.845Z"
   },
   {
    "duration": 20,
    "start_time": "2023-07-23T00:33:42.850Z"
   },
   {
    "duration": 12,
    "start_time": "2023-07-23T00:33:42.872Z"
   },
   {
    "duration": 29,
    "start_time": "2023-07-23T00:33:42.885Z"
   },
   {
    "duration": 45,
    "start_time": "2023-07-23T00:33:42.916Z"
   },
   {
    "duration": 16,
    "start_time": "2023-07-23T00:33:42.963Z"
   },
   {
    "duration": 17,
    "start_time": "2023-07-23T00:33:42.981Z"
   },
   {
    "duration": 7,
    "start_time": "2023-07-23T00:33:42.999Z"
   },
   {
    "duration": 45,
    "start_time": "2023-07-23T00:33:43.007Z"
   },
   {
    "duration": 703,
    "start_time": "2023-07-23T00:33:43.054Z"
   },
   {
    "duration": 4,
    "start_time": "2023-07-23T00:33:43.758Z"
   },
   {
    "duration": 9,
    "start_time": "2023-07-23T00:33:43.764Z"
   },
   {
    "duration": 310,
    "start_time": "2023-07-23T00:33:43.774Z"
   },
   {
    "duration": 33,
    "start_time": "2023-07-23T00:33:44.085Z"
   },
   {
    "duration": 218,
    "start_time": "2023-07-23T00:33:44.120Z"
   },
   {
    "duration": 11651,
    "start_time": "2023-07-23T00:33:44.340Z"
   },
   {
    "duration": 4,
    "start_time": "2023-07-23T00:33:55.993Z"
   },
   {
    "duration": 22,
    "start_time": "2023-07-23T00:33:55.998Z"
   },
   {
    "duration": 325,
    "start_time": "2023-07-23T00:33:56.022Z"
   },
   {
    "duration": 594,
    "start_time": "2023-07-23T00:33:56.349Z"
   },
   {
    "duration": 280,
    "start_time": "2023-07-23T00:33:56.945Z"
   },
   {
    "duration": 128,
    "start_time": "2023-07-23T00:33:57.227Z"
   },
   {
    "duration": 294,
    "start_time": "2023-07-23T00:37:20.363Z"
   },
   {
    "duration": 298,
    "start_time": "2023-07-23T00:38:26.220Z"
   },
   {
    "duration": 295,
    "start_time": "2023-07-23T00:39:02.934Z"
   },
   {
    "duration": 1487,
    "start_time": "2023-07-23T00:51:45.826Z"
   },
   {
    "duration": 40,
    "start_time": "2023-07-23T00:51:47.315Z"
   },
   {
    "duration": 28,
    "start_time": "2023-07-23T00:51:47.357Z"
   },
   {
    "duration": 3,
    "start_time": "2023-07-23T00:51:47.386Z"
   },
   {
    "duration": 10,
    "start_time": "2023-07-23T00:51:47.391Z"
   },
   {
    "duration": 11,
    "start_time": "2023-07-23T00:51:47.402Z"
   },
   {
    "duration": 14,
    "start_time": "2023-07-23T00:51:47.415Z"
   },
   {
    "duration": 11,
    "start_time": "2023-07-23T00:51:47.431Z"
   },
   {
    "duration": 12,
    "start_time": "2023-07-23T00:51:47.444Z"
   },
   {
    "duration": 17,
    "start_time": "2023-07-23T00:51:47.457Z"
   },
   {
    "duration": 6,
    "start_time": "2023-07-23T00:51:47.475Z"
   },
   {
    "duration": 60,
    "start_time": "2023-07-23T00:51:47.483Z"
   },
   {
    "duration": 658,
    "start_time": "2023-07-23T00:51:47.545Z"
   },
   {
    "duration": 8,
    "start_time": "2023-07-23T00:51:48.207Z"
   },
   {
    "duration": 8,
    "start_time": "2023-07-23T00:51:48.217Z"
   },
   {
    "duration": 288,
    "start_time": "2023-07-23T00:51:48.228Z"
   },
   {
    "duration": 27,
    "start_time": "2023-07-23T00:51:48.519Z"
   },
   {
    "duration": 218,
    "start_time": "2023-07-23T00:51:48.548Z"
   },
   {
    "duration": 11296,
    "start_time": "2023-07-23T00:51:48.768Z"
   },
   {
    "duration": 4,
    "start_time": "2023-07-23T00:52:00.066Z"
   },
   {
    "duration": 40,
    "start_time": "2023-07-23T00:52:00.071Z"
   },
   {
    "duration": 331,
    "start_time": "2023-07-23T00:52:00.113Z"
   },
   {
    "duration": 592,
    "start_time": "2023-07-23T00:52:00.445Z"
   },
   {
    "duration": 292,
    "start_time": "2023-07-23T00:52:01.038Z"
   },
   {
    "duration": 286,
    "start_time": "2023-07-23T00:52:01.332Z"
   },
   {
    "duration": 134,
    "start_time": "2023-07-23T00:52:01.619Z"
   },
   {
    "duration": 1548,
    "start_time": "2023-07-23T00:52:13.888Z"
   },
   {
    "duration": 40,
    "start_time": "2023-07-23T00:52:15.439Z"
   },
   {
    "duration": 31,
    "start_time": "2023-07-23T00:52:15.481Z"
   },
   {
    "duration": 3,
    "start_time": "2023-07-23T00:52:15.514Z"
   },
   {
    "duration": 11,
    "start_time": "2023-07-23T00:52:15.519Z"
   },
   {
    "duration": 14,
    "start_time": "2023-07-23T00:52:15.531Z"
   },
   {
    "duration": 20,
    "start_time": "2023-07-23T00:52:15.547Z"
   },
   {
    "duration": 13,
    "start_time": "2023-07-23T00:52:15.569Z"
   },
   {
    "duration": 44,
    "start_time": "2023-07-23T00:52:15.584Z"
   },
   {
    "duration": 24,
    "start_time": "2023-07-23T00:52:15.633Z"
   },
   {
    "duration": 11,
    "start_time": "2023-07-23T00:52:15.714Z"
   },
   {
    "duration": 109,
    "start_time": "2023-07-23T00:52:15.727Z"
   },
   {
    "duration": 1318,
    "start_time": "2023-07-23T00:52:15.838Z"
   },
   {
    "duration": 55,
    "start_time": "2023-07-23T00:52:17.158Z"
   },
   {
    "duration": 23,
    "start_time": "2023-07-23T00:52:17.215Z"
   },
   {
    "duration": 329,
    "start_time": "2023-07-23T00:52:17.239Z"
   },
   {
    "duration": 25,
    "start_time": "2023-07-23T00:52:17.570Z"
   },
   {
    "duration": 225,
    "start_time": "2023-07-23T00:52:17.596Z"
   },
   {
    "duration": 10603,
    "start_time": "2023-07-23T00:52:17.823Z"
   },
   {
    "duration": 3,
    "start_time": "2023-07-23T00:52:28.428Z"
   },
   {
    "duration": 19,
    "start_time": "2023-07-23T00:52:28.432Z"
   },
   {
    "duration": 318,
    "start_time": "2023-07-23T00:52:28.453Z"
   },
   {
    "duration": 584,
    "start_time": "2023-07-23T00:52:28.773Z"
   },
   {
    "duration": 300,
    "start_time": "2023-07-23T00:52:29.358Z"
   },
   {
    "duration": 309,
    "start_time": "2023-07-23T00:52:29.661Z"
   },
   {
    "duration": 132,
    "start_time": "2023-07-23T00:52:29.971Z"
   },
   {
    "duration": 10441,
    "start_time": "2023-07-23T01:06:15.286Z"
   }
  ],
  "kernelspec": {
   "display_name": "Python 3 (ipykernel)",
   "language": "python",
   "name": "python3"
  },
  "language_info": {
   "codemirror_mode": {
    "name": "ipython",
    "version": 3
   },
   "file_extension": ".py",
   "mimetype": "text/x-python",
   "name": "python",
   "nbconvert_exporter": "python",
   "pygments_lexer": "ipython3",
   "version": "3.10.9"
  },
  "toc": {
   "base_numbering": 1,
   "nav_menu": {},
   "number_sections": true,
   "sideBar": true,
   "skip_h1_title": true,
   "title_cell": "Содержание",
   "title_sidebar": "Contents",
   "toc_cell": true,
   "toc_position": {
    "height": "calc(100% - 180px)",
    "left": "10px",
    "top": "150px",
    "width": "363px"
   },
   "toc_section_display": true,
   "toc_window_display": true
  }
 },
 "nbformat": 4,
 "nbformat_minor": 2
}
