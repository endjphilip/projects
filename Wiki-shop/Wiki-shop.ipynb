{
 "cells": [
  {
   "cell_type": "markdown",
   "id": "56e34045",
   "metadata": {},
   "source": [
    "# Проект для «Викишоп» c BERT"
   ]
  },
  {
   "cell_type": "markdown",
   "id": "f4ef4f8e",
   "metadata": {},
   "source": [
    "Интернет-магазин «Викишоп» запускает новый сервис. Теперь пользователи могут редактировать и дополнять описания товаров, как в вики-сообществах. То есть клиенты предлагают свои правки и комментируют изменения других. Магазину нужен инструмент, который будет искать токсичные комментарии и отправлять их на модерацию. \n",
    "\n",
    "Обучите модель классифицировать комментарии на позитивные и негативные. В вашем распоряжении набор данных с разметкой о токсичности правок.\n",
    "\n",
    "Постройте модель со значением метрики качества *F1* не меньше 0.75. \n",
    "\n",
    "\n",
    "**Описание данных**\n",
    "\n",
    "Данные находятся в файле `toxic_comments.csv`. Столбец *text* в нём содержит текст комментария, а *toxic* — целевой признак."
   ]
  },
  {
   "cell_type": "markdown",
   "id": "e1499649",
   "metadata": {},
   "source": [
    "## 1 Подготовка"
   ]
  },
  {
   "cell_type": "code",
   "execution_count": 1,
   "id": "478f5487",
   "metadata": {},
   "outputs": [],
   "source": [
    "import numpy as np\n",
    "import pandas as pd\n",
    "import torch\n",
    "import re\n",
    "from sklearn.dummy import DummyRegressor\n",
    "from transformers import AutoTokenizer, AutoModelForSequenceClassification\n",
    "from tqdm import notebook\n",
    "from sklearn.linear_model import LogisticRegression\n",
    "from sklearn.tree import DecisionTreeClassifier\n",
    "from sklearn.ensemble import RandomForestClassifier\n",
    "from sklearn.model_selection import train_test_split, GridSearchCV\n",
    "from sklearn.metrics import f1_score"
   ]
  },
  {
   "cell_type": "markdown",
   "id": "06e4980c",
   "metadata": {},
   "source": [
    "Загрузим наши данные."
   ]
  },
  {
   "cell_type": "code",
   "execution_count": 2,
   "id": "22e4714d",
   "metadata": {},
   "outputs": [
    {
     "data": {
      "text/html": [
       "<div>\n",
       "<style scoped>\n",
       "    .dataframe tbody tr th:only-of-type {\n",
       "        vertical-align: middle;\n",
       "    }\n",
       "\n",
       "    .dataframe tbody tr th {\n",
       "        vertical-align: top;\n",
       "    }\n",
       "\n",
       "    .dataframe thead th {\n",
       "        text-align: right;\n",
       "    }\n",
       "</style>\n",
       "<table border=\"1\" class=\"dataframe\">\n",
       "  <thead>\n",
       "    <tr style=\"text-align: right;\">\n",
       "      <th></th>\n",
       "      <th>Unnamed: 0</th>\n",
       "      <th>text</th>\n",
       "      <th>toxic</th>\n",
       "    </tr>\n",
       "  </thead>\n",
       "  <tbody>\n",
       "    <tr>\n",
       "      <th>0</th>\n",
       "      <td>0</td>\n",
       "      <td>Explanation\\nWhy the edits made under my usern...</td>\n",
       "      <td>0</td>\n",
       "    </tr>\n",
       "    <tr>\n",
       "      <th>1</th>\n",
       "      <td>1</td>\n",
       "      <td>D'aww! He matches this background colour I'm s...</td>\n",
       "      <td>0</td>\n",
       "    </tr>\n",
       "    <tr>\n",
       "      <th>2</th>\n",
       "      <td>2</td>\n",
       "      <td>Hey man, I'm really not trying to edit war. It...</td>\n",
       "      <td>0</td>\n",
       "    </tr>\n",
       "    <tr>\n",
       "      <th>3</th>\n",
       "      <td>3</td>\n",
       "      <td>\"\\nMore\\nI can't make any real suggestions on ...</td>\n",
       "      <td>0</td>\n",
       "    </tr>\n",
       "    <tr>\n",
       "      <th>4</th>\n",
       "      <td>4</td>\n",
       "      <td>You, sir, are my hero. Any chance you remember...</td>\n",
       "      <td>0</td>\n",
       "    </tr>\n",
       "    <tr>\n",
       "      <th>5</th>\n",
       "      <td>5</td>\n",
       "      <td>\"\\n\\nCongratulations from me as well, use the ...</td>\n",
       "      <td>0</td>\n",
       "    </tr>\n",
       "    <tr>\n",
       "      <th>6</th>\n",
       "      <td>6</td>\n",
       "      <td>COCKSUCKER BEFORE YOU PISS AROUND ON MY WORK</td>\n",
       "      <td>1</td>\n",
       "    </tr>\n",
       "    <tr>\n",
       "      <th>7</th>\n",
       "      <td>7</td>\n",
       "      <td>Your vandalism to the Matt Shirvington article...</td>\n",
       "      <td>0</td>\n",
       "    </tr>\n",
       "    <tr>\n",
       "      <th>8</th>\n",
       "      <td>8</td>\n",
       "      <td>Sorry if the word 'nonsense' was offensive to ...</td>\n",
       "      <td>0</td>\n",
       "    </tr>\n",
       "    <tr>\n",
       "      <th>9</th>\n",
       "      <td>9</td>\n",
       "      <td>alignment on this subject and which are contra...</td>\n",
       "      <td>0</td>\n",
       "    </tr>\n",
       "    <tr>\n",
       "      <th>10</th>\n",
       "      <td>10</td>\n",
       "      <td>\"\\nFair use rationale for Image:Wonju.jpg\\n\\nT...</td>\n",
       "      <td>0</td>\n",
       "    </tr>\n",
       "    <tr>\n",
       "      <th>11</th>\n",
       "      <td>11</td>\n",
       "      <td>bbq \\n\\nbe a man and lets discuss it-maybe ove...</td>\n",
       "      <td>0</td>\n",
       "    </tr>\n",
       "    <tr>\n",
       "      <th>12</th>\n",
       "      <td>12</td>\n",
       "      <td>Hey... what is it..\\n@ | talk .\\nWhat is it......</td>\n",
       "      <td>1</td>\n",
       "    </tr>\n",
       "    <tr>\n",
       "      <th>13</th>\n",
       "      <td>13</td>\n",
       "      <td>Before you start throwing accusations and warn...</td>\n",
       "      <td>0</td>\n",
       "    </tr>\n",
       "    <tr>\n",
       "      <th>14</th>\n",
       "      <td>14</td>\n",
       "      <td>Oh, and the girl above started her arguments w...</td>\n",
       "      <td>0</td>\n",
       "    </tr>\n",
       "    <tr>\n",
       "      <th>15</th>\n",
       "      <td>15</td>\n",
       "      <td>\"\\n\\nJuelz Santanas Age\\n\\nIn 2002, Juelz Sant...</td>\n",
       "      <td>0</td>\n",
       "    </tr>\n",
       "    <tr>\n",
       "      <th>16</th>\n",
       "      <td>16</td>\n",
       "      <td>Bye! \\n\\nDon't look, come or think of comming ...</td>\n",
       "      <td>1</td>\n",
       "    </tr>\n",
       "    <tr>\n",
       "      <th>17</th>\n",
       "      <td>17</td>\n",
       "      <td>REDIRECT Talk:Voydan Pop Georgiev- Chernodrinski</td>\n",
       "      <td>0</td>\n",
       "    </tr>\n",
       "    <tr>\n",
       "      <th>18</th>\n",
       "      <td>18</td>\n",
       "      <td>The Mitsurugi point made no sense - why not ar...</td>\n",
       "      <td>0</td>\n",
       "    </tr>\n",
       "    <tr>\n",
       "      <th>19</th>\n",
       "      <td>19</td>\n",
       "      <td>Don't mean to bother you \\n\\nI see that you're...</td>\n",
       "      <td>0</td>\n",
       "    </tr>\n",
       "  </tbody>\n",
       "</table>\n",
       "</div>"
      ],
      "text/plain": [
       "    Unnamed: 0                                               text  toxic\n",
       "0            0  Explanation\\nWhy the edits made under my usern...      0\n",
       "1            1  D'aww! He matches this background colour I'm s...      0\n",
       "2            2  Hey man, I'm really not trying to edit war. It...      0\n",
       "3            3  \"\\nMore\\nI can't make any real suggestions on ...      0\n",
       "4            4  You, sir, are my hero. Any chance you remember...      0\n",
       "5            5  \"\\n\\nCongratulations from me as well, use the ...      0\n",
       "6            6       COCKSUCKER BEFORE YOU PISS AROUND ON MY WORK      1\n",
       "7            7  Your vandalism to the Matt Shirvington article...      0\n",
       "8            8  Sorry if the word 'nonsense' was offensive to ...      0\n",
       "9            9  alignment on this subject and which are contra...      0\n",
       "10          10  \"\\nFair use rationale for Image:Wonju.jpg\\n\\nT...      0\n",
       "11          11  bbq \\n\\nbe a man and lets discuss it-maybe ove...      0\n",
       "12          12  Hey... what is it..\\n@ | talk .\\nWhat is it......      1\n",
       "13          13  Before you start throwing accusations and warn...      0\n",
       "14          14  Oh, and the girl above started her arguments w...      0\n",
       "15          15  \"\\n\\nJuelz Santanas Age\\n\\nIn 2002, Juelz Sant...      0\n",
       "16          16  Bye! \\n\\nDon't look, come or think of comming ...      1\n",
       "17          17   REDIRECT Talk:Voydan Pop Georgiev- Chernodrinski      0\n",
       "18          18  The Mitsurugi point made no sense - why not ar...      0\n",
       "19          19  Don't mean to bother you \\n\\nI see that you're...      0"
      ]
     },
     "execution_count": 2,
     "metadata": {},
     "output_type": "execute_result"
    }
   ],
   "source": [
    "df = pd.read_csv('https://code.s3.yandex.net/datasets/toxic_comments.csv') \n",
    "df.head(20)"
   ]
  },
  {
   "cell_type": "markdown",
   "id": "9e5c7fce",
   "metadata": {},
   "source": [
    "Далее мы оставляем только 400 строк, сокращая время эмбендинга."
   ]
  },
  {
   "cell_type": "code",
   "execution_count": 3,
   "id": "ebf5dc40",
   "metadata": {},
   "outputs": [],
   "source": [
    "data = df.sample(1000).reset_index(drop=True) "
   ]
  },
  {
   "cell_type": "markdown",
   "id": "12309870",
   "metadata": {},
   "source": [
    "Очистим текст от всего лишнего перед токенизацией."
   ]
  },
  {
   "cell_type": "code",
   "execution_count": 4,
   "id": "b9368d93",
   "metadata": {},
   "outputs": [],
   "source": [
    "def clear_text(text):\n",
    "    i = re.sub(r'[^a-zA-Z,]', ' ', text)\n",
    "    i = i.split()\n",
    "    return \" \".join(i)"
   ]
  },
  {
   "cell_type": "code",
   "execution_count": 5,
   "id": "88f0fdb1",
   "metadata": {},
   "outputs": [],
   "source": [
    "data['clear_text'] = data['text'].apply(clear_text)"
   ]
  },
  {
   "cell_type": "code",
   "execution_count": 6,
   "id": "ccddf74b",
   "metadata": {},
   "outputs": [
    {
     "data": {
      "text/html": [
       "<div>\n",
       "<style scoped>\n",
       "    .dataframe tbody tr th:only-of-type {\n",
       "        vertical-align: middle;\n",
       "    }\n",
       "\n",
       "    .dataframe tbody tr th {\n",
       "        vertical-align: top;\n",
       "    }\n",
       "\n",
       "    .dataframe thead th {\n",
       "        text-align: right;\n",
       "    }\n",
       "</style>\n",
       "<table border=\"1\" class=\"dataframe\">\n",
       "  <thead>\n",
       "    <tr style=\"text-align: right;\">\n",
       "      <th></th>\n",
       "      <th>Unnamed: 0</th>\n",
       "      <th>text</th>\n",
       "      <th>toxic</th>\n",
       "      <th>clear_text</th>\n",
       "    </tr>\n",
       "  </thead>\n",
       "  <tbody>\n",
       "    <tr>\n",
       "      <th>0</th>\n",
       "      <td>58300</td>\n",
       "      <td>Georgi Kinkladze \\n\\nI took the article to FAC...</td>\n",
       "      <td>0</td>\n",
       "      <td>Georgi Kinkladze I took the article to FAC twi...</td>\n",
       "    </tr>\n",
       "    <tr>\n",
       "      <th>1</th>\n",
       "      <td>41365</td>\n",
       "      <td>January 2014 (UTC)\\n\\nJust a further reply to ...</td>\n",
       "      <td>0</td>\n",
       "      <td>January UTC Just a further reply to the editor...</td>\n",
       "    </tr>\n",
       "    <tr>\n",
       "      <th>2</th>\n",
       "      <td>79460</td>\n",
       "      <td>3RR warning\\nNice try, but I read and it was s...</td>\n",
       "      <td>0</td>\n",
       "      <td>RR warning Nice try, but I read and it was sou...</td>\n",
       "    </tr>\n",
       "    <tr>\n",
       "      <th>3</th>\n",
       "      <td>85014</td>\n",
       "      <td>\"\\n\\nI know you posted a source but unfortunat...</td>\n",
       "      <td>0</td>\n",
       "      <td>I know you posted a source but unfortunately i...</td>\n",
       "    </tr>\n",
       "    <tr>\n",
       "      <th>4</th>\n",
       "      <td>152968</td>\n",
       "      <td>Wikipedia:Requests for arbitration/Free Republ...</td>\n",
       "      <td>0</td>\n",
       "      <td>Wikipedia Requests for arbitration Free Republ...</td>\n",
       "    </tr>\n",
       "    <tr>\n",
       "      <th>5</th>\n",
       "      <td>150045</td>\n",
       "      <td>\"\\nI propose to amend the biography section al...</td>\n",
       "      <td>0</td>\n",
       "      <td>I propose to amend the biography section along...</td>\n",
       "    </tr>\n",
       "    <tr>\n",
       "      <th>6</th>\n",
       "      <td>143486</td>\n",
       "      <td>. It picks up on weasel words when they are pr...</td>\n",
       "      <td>0</td>\n",
       "      <td>It picks up on weasel words when they are pres...</td>\n",
       "    </tr>\n",
       "    <tr>\n",
       "      <th>7</th>\n",
       "      <td>79269</td>\n",
       "      <td>not done\\n\\nIt is seriously not done to remove...</td>\n",
       "      <td>0</td>\n",
       "      <td>not done It is seriously not done to remove th...</td>\n",
       "    </tr>\n",
       "    <tr>\n",
       "      <th>8</th>\n",
       "      <td>12374</td>\n",
       "      <td>If people revert my edits for no good reason, ...</td>\n",
       "      <td>1</td>\n",
       "      <td>If people revert my edits for no good reason, ...</td>\n",
       "    </tr>\n",
       "    <tr>\n",
       "      <th>9</th>\n",
       "      <td>10227</td>\n",
       "      <td>Cite a reliable source for your edits.</td>\n",
       "      <td>0</td>\n",
       "      <td>Cite a reliable source for your edits</td>\n",
       "    </tr>\n",
       "    <tr>\n",
       "      <th>10</th>\n",
       "      <td>32443</td>\n",
       "      <td>You see this as an attack..?\\n\\nGet a life.\\n\\...</td>\n",
       "      <td>1</td>\n",
       "      <td>You see this as an attack Get a life Peterklutz</td>\n",
       "    </tr>\n",
       "    <tr>\n",
       "      <th>11</th>\n",
       "      <td>124221</td>\n",
       "      <td>Everything I said about Merle was true. I did ...</td>\n",
       "      <td>0</td>\n",
       "      <td>Everything I said about Merle was true I did f...</td>\n",
       "    </tr>\n",
       "    <tr>\n",
       "      <th>12</th>\n",
       "      <td>16047</td>\n",
       "      <td>(a person can choose to see the glass as half ...</td>\n",
       "      <td>0</td>\n",
       "      <td>a person can choose to see the glass as half e...</td>\n",
       "    </tr>\n",
       "    <tr>\n",
       "      <th>13</th>\n",
       "      <td>88295</td>\n",
       "      <td>Redirect\\nIs there any reason why this should ...</td>\n",
       "      <td>0</td>\n",
       "      <td>Redirect Is there any reason why this should n...</td>\n",
       "    </tr>\n",
       "    <tr>\n",
       "      <th>14</th>\n",
       "      <td>55550</td>\n",
       "      <td>\"\\n\\nOh, and content disputes aren't vandalism...</td>\n",
       "      <td>0</td>\n",
       "      <td>Oh, and content disputes aren t vandalism Chan...</td>\n",
       "    </tr>\n",
       "    <tr>\n",
       "      <th>15</th>\n",
       "      <td>137778</td>\n",
       "      <td>Black Kite  I do not understand your silence o...</td>\n",
       "      <td>0</td>\n",
       "      <td>Black Kite I do not understand your silence on...</td>\n",
       "    </tr>\n",
       "    <tr>\n",
       "      <th>16</th>\n",
       "      <td>151023</td>\n",
       "      <td>\"\\n\\n Ben Gurion Airport \\n\\nAssaf050, Please ...</td>\n",
       "      <td>0</td>\n",
       "      <td>Ben Gurion Airport Assaf , Please Read Careful...</td>\n",
       "    </tr>\n",
       "    <tr>\n",
       "      <th>17</th>\n",
       "      <td>65655</td>\n",
       "      <td>\"\\n no consensus. take it to the npov-noticebo...</td>\n",
       "      <td>0</td>\n",
       "      <td>no consensus take it to the npov noticeboard a...</td>\n",
       "    </tr>\n",
       "    <tr>\n",
       "      <th>18</th>\n",
       "      <td>73312</td>\n",
       "      <td>\"\\nI would note that the article doesn't attem...</td>\n",
       "      <td>0</td>\n",
       "      <td>I would note that the article doesn t attempt ...</td>\n",
       "    </tr>\n",
       "    <tr>\n",
       "      <th>19</th>\n",
       "      <td>44409</td>\n",
       "      <td>, 5 October 2012 (UTC)\\nI first sent you messa...</td>\n",
       "      <td>0</td>\n",
       "      <td>, October UTC I first sent you message, then a...</td>\n",
       "    </tr>\n",
       "  </tbody>\n",
       "</table>\n",
       "</div>"
      ],
      "text/plain": [
       "    Unnamed: 0                                               text  toxic  \\\n",
       "0        58300  Georgi Kinkladze \\n\\nI took the article to FAC...      0   \n",
       "1        41365  January 2014 (UTC)\\n\\nJust a further reply to ...      0   \n",
       "2        79460  3RR warning\\nNice try, but I read and it was s...      0   \n",
       "3        85014  \"\\n\\nI know you posted a source but unfortunat...      0   \n",
       "4       152968  Wikipedia:Requests for arbitration/Free Republ...      0   \n",
       "5       150045  \"\\nI propose to amend the biography section al...      0   \n",
       "6       143486  . It picks up on weasel words when they are pr...      0   \n",
       "7        79269  not done\\n\\nIt is seriously not done to remove...      0   \n",
       "8        12374  If people revert my edits for no good reason, ...      1   \n",
       "9        10227             Cite a reliable source for your edits.      0   \n",
       "10       32443  You see this as an attack..?\\n\\nGet a life.\\n\\...      1   \n",
       "11      124221  Everything I said about Merle was true. I did ...      0   \n",
       "12       16047  (a person can choose to see the glass as half ...      0   \n",
       "13       88295  Redirect\\nIs there any reason why this should ...      0   \n",
       "14       55550  \"\\n\\nOh, and content disputes aren't vandalism...      0   \n",
       "15      137778  Black Kite  I do not understand your silence o...      0   \n",
       "16      151023  \"\\n\\n Ben Gurion Airport \\n\\nAssaf050, Please ...      0   \n",
       "17       65655  \"\\n no consensus. take it to the npov-noticebo...      0   \n",
       "18       73312  \"\\nI would note that the article doesn't attem...      0   \n",
       "19       44409  , 5 October 2012 (UTC)\\nI first sent you messa...      0   \n",
       "\n",
       "                                           clear_text  \n",
       "0   Georgi Kinkladze I took the article to FAC twi...  \n",
       "1   January UTC Just a further reply to the editor...  \n",
       "2   RR warning Nice try, but I read and it was sou...  \n",
       "3   I know you posted a source but unfortunately i...  \n",
       "4   Wikipedia Requests for arbitration Free Republ...  \n",
       "5   I propose to amend the biography section along...  \n",
       "6   It picks up on weasel words when they are pres...  \n",
       "7   not done It is seriously not done to remove th...  \n",
       "8   If people revert my edits for no good reason, ...  \n",
       "9               Cite a reliable source for your edits  \n",
       "10    You see this as an attack Get a life Peterklutz  \n",
       "11  Everything I said about Merle was true I did f...  \n",
       "12  a person can choose to see the glass as half e...  \n",
       "13  Redirect Is there any reason why this should n...  \n",
       "14  Oh, and content disputes aren t vandalism Chan...  \n",
       "15  Black Kite I do not understand your silence on...  \n",
       "16  Ben Gurion Airport Assaf , Please Read Careful...  \n",
       "17  no consensus take it to the npov noticeboard a...  \n",
       "18  I would note that the article doesn t attempt ...  \n",
       "19  , October UTC I first sent you message, then a...  "
      ]
     },
     "execution_count": 6,
     "metadata": {},
     "output_type": "execute_result"
    }
   ],
   "source": [
    "data.head(20)"
   ]
  },
  {
   "cell_type": "code",
   "execution_count": 7,
   "id": "f65444ed",
   "metadata": {},
   "outputs": [],
   "source": [
    "# инициализируем токенизатор\n",
    "tokenizer = AutoTokenizer.from_pretrained(\"unitary/toxic-bert\")\n",
    "features = data['clear_text']"
   ]
  },
  {
   "cell_type": "code",
   "execution_count": 8,
   "id": "375a09b6",
   "metadata": {},
   "outputs": [],
   "source": [
    "#tokenizer = AutoTokenizer.from_pretrained(\"distilbert-base-uncased\", do_lower_case=True)\n",
    "#features = data['clear_text']"
   ]
  },
  {
   "cell_type": "code",
   "execution_count": 9,
   "id": "35619303",
   "metadata": {},
   "outputs": [],
   "source": [
    "# создадим функцию, которая токенизирует каждый твит,\n",
    "# находит максимальную длину векторов после токенизации\n",
    "# применяет к векторам padding\n",
    "# создает маску для выделения важных токенов\n",
    "\n",
    "def tokenize(features, max_len=0):\n",
    "    tokenized = features.apply(lambda x: tokenizer.encode(x, truncation=True, add_special_tokens=True))\n",
    "        \n",
    "    max_len = 0\n",
    "    for i in tokenized.values:\n",
    "        if len(i) > max_len:\n",
    "            max_len = len(i)\n",
    "    \n",
    "    padded = np.array([i + [0]*(max_len - len(i)) for i in tokenized.values])\n",
    "    attention_mask = np.where(padded != 0, 1, 0)\n",
    "    return padded, attention_mask, max_len"
   ]
  },
  {
   "cell_type": "code",
   "execution_count": 10,
   "id": "8b282a0f",
   "metadata": {},
   "outputs": [],
   "source": [
    "padded, attention_mask, max_len = tokenize(features, 0)"
   ]
  },
  {
   "cell_type": "code",
   "execution_count": 11,
   "id": "f85e0f98",
   "metadata": {},
   "outputs": [
    {
     "data": {
      "text/plain": [
       "(1000, 512)"
      ]
     },
     "execution_count": 11,
     "metadata": {},
     "output_type": "execute_result"
    }
   ],
   "source": [
    "padded.shape"
   ]
  },
  {
   "cell_type": "code",
   "execution_count": 12,
   "id": "bace963f",
   "metadata": {},
   "outputs": [],
   "source": [
    "device = torch.device('cuda' if torch.cuda.is_available() else 'cpu')"
   ]
  },
  {
   "cell_type": "code",
   "execution_count": 13,
   "id": "c77d7a57",
   "metadata": {},
   "outputs": [],
   "source": [
    "# затем инициализируем саму модель класса BertModel. Передадим ей файл с предобученной моделью и конфигурацией: \n",
    "model = AutoModelForSequenceClassification.from_pretrained(\"unitary/toxic-bert\", output_hidden_states=True).to(device)"
   ]
  },
  {
   "cell_type": "code",
   "execution_count": 14,
   "id": "b20a464e",
   "metadata": {},
   "outputs": [
    {
     "data": {
      "application/vnd.jupyter.widget-view+json": {
       "model_id": "beebb5bc074542ef9f44fc266341335d",
       "version_major": 2,
       "version_minor": 0
      },
      "text/plain": [
       "  0%|          | 0/20 [00:00<?, ?it/s]"
      ]
     },
     "metadata": {},
     "output_type": "display_data"
    }
   ],
   "source": [
    "# Эмбеддинги модель BERT создаёт батчами. Чтобы хватило оперативной памяти, сделаем размер батча небольшим:\n",
    "batch_size = 50\n",
    "\n",
    "# Сделаем цикл по батчам. Отображать прогресс будет функция notebook():\n",
    "embeddings = []\n",
    "for i in notebook.tqdm(range(padded.shape[0] // batch_size)):\n",
    "\n",
    "        # Преобразуем данные в формат тензоров (англ. tensor) — многомерных векторов в библиотеке torch.\n",
    "        #Тип данных LongTensor (англ. «длинный тензор») хранит числа в «длинном формате»,\n",
    "        #то есть выделяет на каждое число 64 бита.\n",
    "\n",
    "    batch = torch.LongTensor(padded[batch_size*i:batch_size*(i+1)])\n",
    "    attention_mask_batch = torch.LongTensor(attention_mask[batch_size*i:batch_size*(i+1)])\n",
    "\n",
    "    with torch.no_grad(): \n",
    "        #Для ускорения вычисления пользуемся функцией no_grad() \n",
    "        #Чтобы получить эмбеддинги для батча, передадим модели данные и маску:\n",
    "        batch_embeddings = model(batch.to(device), attention_mask=attention_mask_batch.to(device))\n",
    "        \n",
    "        # Из полученного тензора извлечём нужные элементы и добавим в список всех эмбеддингов:\n",
    "        embeddings.append(batch_embeddings.hidden_states[-1][:, 0, :].cpu().numpy())"
   ]
  },
  {
   "cell_type": "markdown",
   "id": "bbc8c699",
   "metadata": {},
   "source": [
    "## Обучение модели"
   ]
  },
  {
   "cell_type": "code",
   "execution_count": 15,
   "id": "d008597a",
   "metadata": {
    "scrolled": true
   },
   "outputs": [
    {
     "name": "stdout",
     "output_type": "stream",
     "text": [
      "Размеры обучающей выборки:\n",
      "(800, 768)\n",
      "(800,)\n",
      "\n",
      "Размеры тестовой выборки:\n",
      "(200, 768)\n",
      "(200,)\n"
     ]
    }
   ],
   "source": [
    "# Соберём все эмбеддинги в матрицу признаков вызовом функции concatenate():\n",
    "features = np.concatenate(embeddings)\n",
    "\n",
    "\n",
    "target = data['toxic']\n",
    "x_train, x_test, y_train, y_test = train_test_split(features, target,  test_size = 0.2, random_state=12345)\n",
    "\n",
    "# проверим размеры полученных выборок\n",
    "print('Размеры обучающей выборки:')\n",
    "print(x_train.shape)\n",
    "print(y_train.shape)\n",
    "print()\n",
    "print('Размеры тестовой выборки:')\n",
    "print(x_test.shape)\n",
    "print(y_test.shape) "
   ]
  },
  {
   "cell_type": "code",
   "execution_count": 16,
   "id": "cedc2aad",
   "metadata": {},
   "outputs": [],
   "source": [
    "# создадим функцию, которая будет подбирать гиперпараметры для указанной ей модели\n",
    "# затем данная функция будет проводить кросс-валидацию по метрике F1_score\n",
    "\n",
    "def score(model_name, params, features, target):\n",
    "    model = model_name\n",
    "    parametrs = params    \n",
    "    grid = GridSearchCV(model, parametrs, scoring='f1', cv=3) \n",
    "    grid.fit(features, target)    \n",
    "    print('f1_score модели:', grid.best_score_)\n",
    "    print('лучшие параметры:', grid.best_estimator_)\n",
    "    return"
   ]
  },
  {
   "cell_type": "code",
   "execution_count": 17,
   "id": "c2b02a66",
   "metadata": {
    "scrolled": true
   },
   "outputs": [
    {
     "name": "stderr",
     "output_type": "stream",
     "text": [
      "C:\\Users\\123\\anaconda3\\lib\\site-packages\\sklearn\\linear_model\\_logistic.py:460: ConvergenceWarning: lbfgs failed to converge (status=1):\n",
      "STOP: TOTAL NO. of ITERATIONS REACHED LIMIT.\n",
      "\n",
      "Increase the number of iterations (max_iter) or scale the data as shown in:\n",
      "    https://scikit-learn.org/stable/modules/preprocessing.html\n",
      "Please also refer to the documentation for alternative solver options:\n",
      "    https://scikit-learn.org/stable/modules/linear_model.html#logistic-regression\n",
      "  n_iter_i = _check_optimize_result(\n",
      "C:\\Users\\123\\anaconda3\\lib\\site-packages\\sklearn\\linear_model\\_logistic.py:460: ConvergenceWarning: lbfgs failed to converge (status=1):\n",
      "STOP: TOTAL NO. of ITERATIONS REACHED LIMIT.\n",
      "\n",
      "Increase the number of iterations (max_iter) or scale the data as shown in:\n",
      "    https://scikit-learn.org/stable/modules/preprocessing.html\n",
      "Please also refer to the documentation for alternative solver options:\n",
      "    https://scikit-learn.org/stable/modules/linear_model.html#logistic-regression\n",
      "  n_iter_i = _check_optimize_result(\n",
      "C:\\Users\\123\\anaconda3\\lib\\site-packages\\sklearn\\linear_model\\_logistic.py:460: ConvergenceWarning: lbfgs failed to converge (status=1):\n",
      "STOP: TOTAL NO. of ITERATIONS REACHED LIMIT.\n",
      "\n",
      "Increase the number of iterations (max_iter) or scale the data as shown in:\n",
      "    https://scikit-learn.org/stable/modules/preprocessing.html\n",
      "Please also refer to the documentation for alternative solver options:\n",
      "    https://scikit-learn.org/stable/modules/linear_model.html#logistic-regression\n",
      "  n_iter_i = _check_optimize_result(\n",
      "C:\\Users\\123\\anaconda3\\lib\\site-packages\\sklearn\\linear_model\\_logistic.py:460: ConvergenceWarning: lbfgs failed to converge (status=1):\n",
      "STOP: TOTAL NO. of ITERATIONS REACHED LIMIT.\n",
      "\n",
      "Increase the number of iterations (max_iter) or scale the data as shown in:\n",
      "    https://scikit-learn.org/stable/modules/preprocessing.html\n",
      "Please also refer to the documentation for alternative solver options:\n",
      "    https://scikit-learn.org/stable/modules/linear_model.html#logistic-regression\n",
      "  n_iter_i = _check_optimize_result(\n",
      "C:\\Users\\123\\anaconda3\\lib\\site-packages\\sklearn\\linear_model\\_logistic.py:460: ConvergenceWarning: lbfgs failed to converge (status=1):\n",
      "STOP: TOTAL NO. of ITERATIONS REACHED LIMIT.\n",
      "\n",
      "Increase the number of iterations (max_iter) or scale the data as shown in:\n",
      "    https://scikit-learn.org/stable/modules/preprocessing.html\n",
      "Please also refer to the documentation for alternative solver options:\n",
      "    https://scikit-learn.org/stable/modules/linear_model.html#logistic-regression\n",
      "  n_iter_i = _check_optimize_result(\n",
      "C:\\Users\\123\\anaconda3\\lib\\site-packages\\sklearn\\linear_model\\_logistic.py:460: ConvergenceWarning: lbfgs failed to converge (status=1):\n",
      "STOP: TOTAL NO. of ITERATIONS REACHED LIMIT.\n",
      "\n",
      "Increase the number of iterations (max_iter) or scale the data as shown in:\n",
      "    https://scikit-learn.org/stable/modules/preprocessing.html\n",
      "Please also refer to the documentation for alternative solver options:\n",
      "    https://scikit-learn.org/stable/modules/linear_model.html#logistic-regression\n",
      "  n_iter_i = _check_optimize_result(\n",
      "C:\\Users\\123\\anaconda3\\lib\\site-packages\\sklearn\\linear_model\\_logistic.py:460: ConvergenceWarning: lbfgs failed to converge (status=1):\n",
      "STOP: TOTAL NO. of ITERATIONS REACHED LIMIT.\n",
      "\n",
      "Increase the number of iterations (max_iter) or scale the data as shown in:\n",
      "    https://scikit-learn.org/stable/modules/preprocessing.html\n",
      "Please also refer to the documentation for alternative solver options:\n",
      "    https://scikit-learn.org/stable/modules/linear_model.html#logistic-regression\n",
      "  n_iter_i = _check_optimize_result(\n"
     ]
    },
    {
     "name": "stdout",
     "output_type": "stream",
     "text": [
      "f1_score модели: 0.9177553813612045\n",
      "лучшие параметры: LogisticRegression(C=100, random_state=12345)\n"
     ]
    }
   ],
   "source": [
    "score(LogisticRegression(random_state=12345), {'C':[1, 10, 100]}, \n",
    "                                                x_train, y_train)"
   ]
  },
  {
   "cell_type": "markdown",
   "id": "fa4441b4",
   "metadata": {},
   "source": [
    "Модель показала следующие результаты: f1_score модели: 0.917, лучшие параметры: LogisticRegression(C=100,random_state=12345)"
   ]
  },
  {
   "cell_type": "code",
   "execution_count": 18,
   "id": "7a87dfe9",
   "metadata": {},
   "outputs": [
    {
     "name": "stdout",
     "output_type": "stream",
     "text": [
      "f1_score модели: 0.8744398875977822\n",
      "лучшие параметры: DecisionTreeClassifier(max_depth=3, min_samples_leaf=2, random_state=12345)\n"
     ]
    }
   ],
   "source": [
    "score(DecisionTreeClassifier(random_state=12345),{'max_depth': range (1, 13, 2),\n",
    "                                                   'min_samples_leaf': range (1, 11)}, \n",
    "                                                    x_train, y_train) "
   ]
  },
  {
   "cell_type": "markdown",
   "id": "33d683c7",
   "metadata": {},
   "source": [
    "Модель показала следующие результаты: f1_score модели: 0.874,\n",
    "лучшие параметры: DecisionTreeClassifier(max_depth=3, min_samples_leaf=2, random_state=12345)"
   ]
  },
  {
   "cell_type": "code",
   "execution_count": 19,
   "id": "32aaee7b",
   "metadata": {
    "scrolled": true
   },
   "outputs": [
    {
     "name": "stdout",
     "output_type": "stream",
     "text": [
      "f1_score модели: 0.9319727891156463\n",
      "лучшие параметры: RandomForestClassifier(max_depth=5, n_estimators=50, random_state=12345)\n"
     ]
    }
   ],
   "source": [
    "score(RandomForestClassifier(random_state=12345),{'max_depth': range (5, 10, 1),                          \n",
    "                                                  'n_estimators': range (50, 100, 10)}, \n",
    "                                                   x_train, y_train)"
   ]
  },
  {
   "cell_type": "markdown",
   "id": "08185b3a",
   "metadata": {},
   "source": [
    "Модель показала следующие результаты: f1_score модели: 0.904, лучшие параметры: RandomForestClassifier(max_depth=5, n_estimators=60, random_state=12345)"
   ]
  },
  {
   "cell_type": "markdown",
   "id": "6aa6d05a",
   "metadata": {},
   "source": [
    "## Проверка модели"
   ]
  },
  {
   "cell_type": "markdown",
   "id": "ce6105ff",
   "metadata": {},
   "source": [
    "**Подводя итоги, можно сделать следующие выводы:**\n",
    "\n",
    "1. LogisticRegression(C=100,random_state=12345) - Результат подходит под требуемый: f1_score модели:  0.917.\n",
    "\n",
    "\n",
    "2. DecisionTreeClassifier(max_depth=3, min_samples_leaf=2, random_state=12345) - Результат подходит под требуемый: f1_score модели: 0.874\n",
    "\n",
    "\n",
    "3. RandomForestClassifier(max_depth=5, n_estimators=50, random_state=12345) - Результат подходит под требуемый: f1_score модели: 0.931\n",
    "\n",
    "\n",
    "Лучше всего себя показала модель `RandomForestClassifier`, она имеет лучший показатель метрики F1."
   ]
  },
  {
   "cell_type": "code",
   "execution_count": 20,
   "id": "a4693d17",
   "metadata": {},
   "outputs": [
    {
     "data": {
      "text/plain": [
       "0.8823529411764706"
      ]
     },
     "execution_count": 20,
     "metadata": {},
     "output_type": "execute_result"
    }
   ],
   "source": [
    "# на основе вышесказанного проверим модель RandomForestClassifier на тестовой выборке\n",
    "\n",
    "\n",
    "model = RandomForestClassifier(max_depth=5, n_estimators=50, random_state=12345)\n",
    "model.fit(x_train, y_train)\n",
    "\n",
    "pred = model.predict(x_test)\n",
    "f1_score(y_test, pred)"
   ]
  },
  {
   "cell_type": "code",
   "execution_count": 21,
   "id": "72a50fc1",
   "metadata": {},
   "outputs": [],
   "source": [
    "# создаём модель DummyRegressor,\n",
    "# которая предсказывает все значения\n",
    "# как медиану массива x_test \n",
    "\n",
    "#dummy_regr = DummyRegressor(strategy='median')\n",
    "#dummy_regr.fit(x_train, y_train)\n",
    "\n",
    "#predict_for_check = dummy_regr.predict(x_test)\n",
    "#f1_score(y_test, predict_for_check)\n",
    "\n",
    "\n",
    "# Здесь была попытка создать константную модель, но у нее как ни крути F1 = 0, слишком нелепо выглядит "
   ]
  }
 ],
 "metadata": {
  "ExecuteTimeLog": [
   {
    "duration": 45999,
    "start_time": "2023-09-06T20:58:15.268Z"
   },
   {
    "duration": 2604,
    "start_time": "2023-09-06T20:59:01.366Z"
   },
   {
    "duration": 4245,
    "start_time": "2023-09-07T06:10:41.369Z"
   },
   {
    "duration": 4315,
    "start_time": "2023-09-07T06:10:51.739Z"
   },
   {
    "duration": 2108,
    "start_time": "2023-09-07T06:10:59.066Z"
   },
   {
    "duration": 7,
    "start_time": "2023-09-07T06:15:09.624Z"
   },
   {
    "duration": 5,
    "start_time": "2023-09-07T06:15:12.202Z"
   },
   {
    "duration": 3,
    "start_time": "2023-09-07T06:21:29.772Z"
   },
   {
    "duration": 310,
    "start_time": "2023-09-07T06:22:37.120Z"
   },
   {
    "duration": 102,
    "start_time": "2023-09-07T06:23:24.145Z"
   },
   {
    "duration": 24,
    "start_time": "2023-09-07T06:23:36.775Z"
   },
   {
    "duration": 15,
    "start_time": "2023-09-07T06:24:02.821Z"
   },
   {
    "duration": 4094,
    "start_time": "2023-09-07T06:31:07.875Z"
   },
   {
    "duration": 2071,
    "start_time": "2023-09-07T06:31:11.971Z"
   },
   {
    "duration": 11,
    "start_time": "2023-09-07T06:32:15.950Z"
   },
   {
    "duration": 290,
    "start_time": "2023-09-07T06:33:14.994Z"
   },
   {
    "duration": 3,
    "start_time": "2023-09-07T06:33:22.480Z"
   },
   {
    "duration": 14,
    "start_time": "2023-09-07T06:34:43.083Z"
   },
   {
    "duration": 11,
    "start_time": "2023-09-07T06:34:58.069Z"
   },
   {
    "duration": 10050,
    "start_time": "2023-09-07T06:37:18.070Z"
   },
   {
    "duration": 5,
    "start_time": "2023-09-07T06:37:31.333Z"
   },
   {
    "duration": 124,
    "start_time": "2023-09-07T06:37:48.387Z"
   },
   {
    "duration": 3,
    "start_time": "2023-09-07T06:37:49.408Z"
   },
   {
    "duration": 3,
    "start_time": "2023-09-07T06:40:17.977Z"
   },
   {
    "duration": 6198,
    "start_time": "2023-09-07T06:40:19.945Z"
   },
   {
    "duration": 4492,
    "start_time": "2023-09-07T06:43:04.872Z"
   },
   {
    "duration": 1762,
    "start_time": "2023-09-07T06:43:09.366Z"
   },
   {
    "duration": 12,
    "start_time": "2023-09-07T06:43:11.131Z"
   },
   {
    "duration": 23,
    "start_time": "2023-09-07T06:43:11.145Z"
   },
   {
    "duration": 39,
    "start_time": "2023-09-07T06:43:11.170Z"
   },
   {
    "duration": 27,
    "start_time": "2023-09-07T06:43:11.211Z"
   },
   {
    "duration": 7224,
    "start_time": "2023-09-07T06:43:11.239Z"
   },
   {
    "duration": 4,
    "start_time": "2023-09-07T06:43:18.467Z"
   },
   {
    "duration": 150,
    "start_time": "2023-09-07T06:43:18.474Z"
   },
   {
    "duration": 5,
    "start_time": "2023-09-07T06:43:18.626Z"
   },
   {
    "duration": 10,
    "start_time": "2023-09-07T06:43:18.632Z"
   },
   {
    "duration": 2700,
    "start_time": "2023-09-07T06:43:18.644Z"
   },
   {
    "duration": 415903,
    "start_time": "2023-09-07T06:43:23.246Z"
   },
   {
    "duration": 9,
    "start_time": "2023-09-07T06:50:26.907Z"
   },
   {
    "duration": 299,
    "start_time": "2023-09-07T06:52:11.047Z"
   },
   {
    "duration": 3967,
    "start_time": "2023-09-07T06:55:53.867Z"
   },
   {
    "duration": 2246,
    "start_time": "2023-09-07T06:55:57.835Z"
   },
   {
    "duration": 8,
    "start_time": "2023-09-07T06:56:00.082Z"
   },
   {
    "duration": 30,
    "start_time": "2023-09-07T06:56:00.091Z"
   },
   {
    "duration": 64,
    "start_time": "2023-09-07T06:56:00.123Z"
   },
   {
    "duration": 10,
    "start_time": "2023-09-07T06:56:00.190Z"
   },
   {
    "duration": 3181,
    "start_time": "2023-09-07T06:56:00.202Z"
   },
   {
    "duration": 4,
    "start_time": "2023-09-07T06:56:03.385Z"
   },
   {
    "duration": 379,
    "start_time": "2023-09-07T06:56:03.391Z"
   },
   {
    "duration": 4,
    "start_time": "2023-09-07T06:56:03.773Z"
   },
   {
    "duration": 16,
    "start_time": "2023-09-07T06:56:03.779Z"
   },
   {
    "duration": 1530,
    "start_time": "2023-09-07T06:56:03.797Z"
   },
   {
    "duration": 4321,
    "start_time": "2023-09-07T06:56:50.048Z"
   },
   {
    "duration": 2092,
    "start_time": "2023-09-07T06:56:54.371Z"
   },
   {
    "duration": 7,
    "start_time": "2023-09-07T06:56:56.464Z"
   },
   {
    "duration": 187,
    "start_time": "2023-09-07T06:56:56.472Z"
   },
   {
    "duration": 279,
    "start_time": "2023-09-07T06:56:56.661Z"
   },
   {
    "duration": 255,
    "start_time": "2023-09-07T06:56:56.941Z"
   },
   {
    "duration": 3409,
    "start_time": "2023-09-07T06:56:57.198Z"
   },
   {
    "duration": 5,
    "start_time": "2023-09-07T06:57:00.609Z"
   },
   {
    "duration": 455,
    "start_time": "2023-09-07T06:57:00.616Z"
   },
   {
    "duration": 4,
    "start_time": "2023-09-07T06:57:01.073Z"
   },
   {
    "duration": 100,
    "start_time": "2023-09-07T06:57:01.078Z"
   },
   {
    "duration": 1845,
    "start_time": "2023-09-07T06:57:01.180Z"
   },
   {
    "duration": 4396,
    "start_time": "2023-09-07T06:57:38.001Z"
   },
   {
    "duration": 1460,
    "start_time": "2023-09-07T06:57:42.399Z"
   },
   {
    "duration": 7,
    "start_time": "2023-09-07T06:57:43.861Z"
   },
   {
    "duration": 22,
    "start_time": "2023-09-07T06:57:43.870Z"
   },
   {
    "duration": 60,
    "start_time": "2023-09-07T06:57:43.896Z"
   },
   {
    "duration": 10,
    "start_time": "2023-09-07T06:57:43.959Z"
   },
   {
    "duration": 3384,
    "start_time": "2023-09-07T06:57:43.971Z"
   },
   {
    "duration": 4,
    "start_time": "2023-09-07T06:57:47.357Z"
   },
   {
    "duration": 369,
    "start_time": "2023-09-07T06:57:47.363Z"
   },
   {
    "duration": 4,
    "start_time": "2023-09-07T06:57:47.734Z"
   },
   {
    "duration": 18,
    "start_time": "2023-09-07T06:57:47.739Z"
   },
   {
    "duration": 6081,
    "start_time": "2023-09-07T06:57:47.759Z"
   },
   {
    "duration": 4486,
    "start_time": "2023-09-07T06:58:22.246Z"
   },
   {
    "duration": 1640,
    "start_time": "2023-09-07T06:58:26.734Z"
   },
   {
    "duration": 9,
    "start_time": "2023-09-07T06:58:28.376Z"
   },
   {
    "duration": 88,
    "start_time": "2023-09-07T06:58:28.387Z"
   },
   {
    "duration": 41,
    "start_time": "2023-09-07T06:58:28.477Z"
   },
   {
    "duration": 10,
    "start_time": "2023-09-07T06:58:28.520Z"
   },
   {
    "duration": 6978,
    "start_time": "2023-09-07T06:58:28.532Z"
   },
   {
    "duration": 4,
    "start_time": "2023-09-07T06:58:35.512Z"
   },
   {
    "duration": 525,
    "start_time": "2023-09-07T06:58:35.517Z"
   },
   {
    "duration": 5,
    "start_time": "2023-09-07T06:58:36.045Z"
   },
   {
    "duration": 10,
    "start_time": "2023-09-07T06:58:36.052Z"
   },
   {
    "duration": 6774,
    "start_time": "2023-09-07T06:58:36.064Z"
   },
   {
    "duration": 1021125,
    "start_time": "2023-09-07T06:58:42.840Z"
   },
   {
    "duration": 70,
    "start_time": "2023-09-07T07:15:43.967Z"
   },
   {
    "duration": 4,
    "start_time": "2023-09-07T07:19:35.082Z"
   },
   {
    "duration": 103,
    "start_time": "2023-09-07T07:21:39.485Z"
   },
   {
    "duration": 81,
    "start_time": "2023-09-07T07:21:44.510Z"
   },
   {
    "duration": 308,
    "start_time": "2023-09-07T07:21:59.362Z"
   },
   {
    "duration": 43,
    "start_time": "2023-09-07T07:22:21.448Z"
   },
   {
    "duration": 5,
    "start_time": "2023-09-07T07:22:57.497Z"
   },
   {
    "duration": 33,
    "start_time": "2023-09-07T07:23:04.027Z"
   },
   {
    "duration": 4,
    "start_time": "2023-09-07T07:23:18.326Z"
   },
   {
    "duration": 35,
    "start_time": "2023-09-07T07:23:19.603Z"
   },
   {
    "duration": 4,
    "start_time": "2023-09-07T07:23:46.213Z"
   },
   {
    "duration": 22674,
    "start_time": "2023-09-07T07:23:46.852Z"
   },
   {
    "duration": 16627,
    "start_time": "2023-09-07T07:24:33.505Z"
   },
   {
    "duration": 8171,
    "start_time": "2023-09-07T07:25:02.455Z"
   },
   {
    "duration": 15885,
    "start_time": "2023-09-07T07:27:23.549Z"
   },
   {
    "duration": 1412,
    "start_time": "2023-09-07T07:27:58.115Z"
   },
   {
    "duration": 11142,
    "start_time": "2023-09-07T07:28:20.785Z"
   },
   {
    "duration": 9315,
    "start_time": "2023-09-07T07:29:39.717Z"
   },
   {
    "duration": 16517,
    "start_time": "2023-09-07T07:32:10.510Z"
   },
   {
    "duration": 22,
    "start_time": "2023-09-07T07:33:53.218Z"
   },
   {
    "duration": 23,
    "start_time": "2023-09-07T07:34:11.820Z"
   },
   {
    "duration": 31125,
    "start_time": "2023-09-07T07:34:16.761Z"
   },
   {
    "duration": 5,
    "start_time": "2023-09-07T07:35:27.190Z"
   },
   {
    "duration": 22845,
    "start_time": "2023-09-07T07:35:27.887Z"
   },
   {
    "duration": 4,
    "start_time": "2023-09-07T07:36:17.842Z"
   },
   {
    "duration": 23707,
    "start_time": "2023-09-07T07:36:18.523Z"
   },
   {
    "duration": 6,
    "start_time": "2023-09-07T07:37:33.020Z"
   },
   {
    "duration": 3,
    "start_time": "2023-09-07T07:38:08.650Z"
   },
   {
    "duration": 11272,
    "start_time": "2023-09-07T07:38:09.655Z"
   },
   {
    "duration": 10320,
    "start_time": "2023-09-07T07:38:42.806Z"
   },
   {
    "duration": 12,
    "start_time": "2023-09-07T07:40:27.074Z"
   },
   {
    "duration": 32747,
    "start_time": "2023-09-07T07:41:10.233Z"
   },
   {
    "duration": 4,
    "start_time": "2023-09-07T07:43:28.035Z"
   },
   {
    "duration": 4526,
    "start_time": "2023-09-07T07:43:57.789Z"
   },
   {
    "duration": 15794,
    "start_time": "2023-09-07T07:44:12.454Z"
   },
   {
    "duration": 4205,
    "start_time": "2023-09-07T07:44:42.822Z"
   },
   {
    "duration": 1928,
    "start_time": "2023-09-07T07:44:47.029Z"
   },
   {
    "duration": 8,
    "start_time": "2023-09-07T07:44:48.959Z"
   },
   {
    "duration": 9,
    "start_time": "2023-09-07T07:44:48.968Z"
   },
   {
    "duration": 70,
    "start_time": "2023-09-07T07:44:48.979Z"
   },
   {
    "duration": 10,
    "start_time": "2023-09-07T07:44:49.050Z"
   },
   {
    "duration": 3567,
    "start_time": "2023-09-07T07:44:49.061Z"
   },
   {
    "duration": 4,
    "start_time": "2023-09-07T07:44:52.630Z"
   },
   {
    "duration": 327,
    "start_time": "2023-09-07T07:44:52.636Z"
   },
   {
    "duration": 4,
    "start_time": "2023-09-07T07:44:52.967Z"
   },
   {
    "duration": 20,
    "start_time": "2023-09-07T07:44:52.973Z"
   },
   {
    "duration": 2134,
    "start_time": "2023-09-07T07:44:52.995Z"
   },
   {
    "duration": 95861,
    "start_time": "2023-09-07T07:44:55.131Z"
   },
   {
    "duration": 0,
    "start_time": "2023-09-07T07:46:30.993Z"
   },
   {
    "duration": 0,
    "start_time": "2023-09-07T07:46:30.995Z"
   },
   {
    "duration": 0,
    "start_time": "2023-09-07T07:46:30.995Z"
   },
   {
    "duration": 0,
    "start_time": "2023-09-07T07:46:30.997Z"
   },
   {
    "duration": 0,
    "start_time": "2023-09-07T07:46:30.998Z"
   },
   {
    "duration": 100615,
    "start_time": "2023-09-07T07:48:40.638Z"
   },
   {
    "duration": 5608,
    "start_time": "2023-09-07T08:13:46.120Z"
   },
   {
    "duration": 2135,
    "start_time": "2023-09-07T08:13:51.730Z"
   },
   {
    "duration": 9,
    "start_time": "2023-09-07T08:13:53.866Z"
   },
   {
    "duration": 25,
    "start_time": "2023-09-07T08:13:53.877Z"
   },
   {
    "duration": 49,
    "start_time": "2023-09-07T08:13:53.904Z"
   },
   {
    "duration": 37,
    "start_time": "2023-09-07T08:13:53.954Z"
   },
   {
    "duration": 4463,
    "start_time": "2023-09-07T08:13:53.993Z"
   },
   {
    "duration": 4,
    "start_time": "2023-09-07T08:13:58.458Z"
   },
   {
    "duration": 359,
    "start_time": "2023-09-07T08:13:58.464Z"
   },
   {
    "duration": 3,
    "start_time": "2023-09-07T08:13:58.826Z"
   },
   {
    "duration": 22,
    "start_time": "2023-09-07T08:13:58.830Z"
   },
   {
    "duration": 2273,
    "start_time": "2023-09-07T08:13:58.854Z"
   },
   {
    "duration": 2087895,
    "start_time": "2023-09-07T08:14:01.129Z"
   },
   {
    "duration": 8,
    "start_time": "2023-09-07T08:48:49.026Z"
   },
   {
    "duration": 21,
    "start_time": "2023-09-07T08:48:49.036Z"
   },
   {
    "duration": 213,
    "start_time": "2023-09-07T08:48:49.058Z"
   },
   {
    "duration": 543,
    "start_time": "2023-09-07T08:48:49.272Z"
   },
   {
    "duration": 7643,
    "start_time": "2023-09-07T08:48:49.817Z"
   },
   {
    "duration": 6,
    "start_time": "2023-09-07T08:52:07.436Z"
   },
   {
    "duration": 5,
    "start_time": "2023-09-07T08:52:39.008Z"
   },
   {
    "duration": 4222,
    "start_time": "2023-09-07T08:54:21.414Z"
   },
   {
    "duration": 2132,
    "start_time": "2023-09-07T08:54:25.638Z"
   },
   {
    "duration": 8,
    "start_time": "2023-09-07T08:54:27.771Z"
   },
   {
    "duration": 29,
    "start_time": "2023-09-07T08:54:27.780Z"
   },
   {
    "duration": 38,
    "start_time": "2023-09-07T08:54:27.811Z"
   },
   {
    "duration": 58,
    "start_time": "2023-09-07T08:54:27.851Z"
   },
   {
    "duration": 3652,
    "start_time": "2023-09-07T08:54:27.911Z"
   },
   {
    "duration": 5,
    "start_time": "2023-09-07T08:54:31.565Z"
   },
   {
    "duration": 71,
    "start_time": "2023-09-07T08:54:31.571Z"
   },
   {
    "duration": 82,
    "start_time": "2023-09-07T08:54:31.644Z"
   },
   {
    "duration": 122,
    "start_time": "2023-09-07T08:54:31.728Z"
   },
   {
    "duration": 2092,
    "start_time": "2023-09-07T08:54:31.852Z"
   },
   {
    "duration": 197239,
    "start_time": "2023-09-07T08:54:36.916Z"
   },
   {
    "duration": 55,
    "start_time": "2023-09-07T08:58:30.655Z"
   },
   {
    "duration": 298,
    "start_time": "2023-09-07T09:05:58.630Z"
   },
   {
    "duration": 4807,
    "start_time": "2023-09-07T09:20:44.349Z"
   },
   {
    "duration": 2028,
    "start_time": "2023-09-07T09:20:49.158Z"
   },
   {
    "duration": 9,
    "start_time": "2023-09-07T09:20:51.187Z"
   },
   {
    "duration": 32,
    "start_time": "2023-09-07T09:20:51.198Z"
   },
   {
    "duration": 22,
    "start_time": "2023-09-07T09:20:51.232Z"
   },
   {
    "duration": 22,
    "start_time": "2023-09-07T09:20:51.256Z"
   },
   {
    "duration": 8359,
    "start_time": "2023-09-07T09:20:55.670Z"
   },
   {
    "duration": 5,
    "start_time": "2023-09-07T09:21:04.032Z"
   },
   {
    "duration": 27,
    "start_time": "2023-09-07T09:21:11.049Z"
   },
   {
    "duration": 3,
    "start_time": "2023-09-07T09:21:11.772Z"
   },
   {
    "duration": 3,
    "start_time": "2023-09-07T09:21:13.761Z"
   },
   {
    "duration": 4987,
    "start_time": "2023-09-07T09:21:16.357Z"
   },
   {
    "duration": 92155,
    "start_time": "2023-09-07T09:21:22.791Z"
   },
   {
    "duration": 10,
    "start_time": "2023-09-07T09:22:54.948Z"
   },
   {
    "duration": 4414,
    "start_time": "2023-09-07T09:26:37.571Z"
   },
   {
    "duration": 1839,
    "start_time": "2023-09-07T09:26:41.987Z"
   },
   {
    "duration": 9,
    "start_time": "2023-09-07T09:26:46.719Z"
   },
   {
    "duration": 3,
    "start_time": "2023-09-07T09:26:47.617Z"
   },
   {
    "duration": 7,
    "start_time": "2023-09-07T09:26:50.213Z"
   },
   {
    "duration": 10,
    "start_time": "2023-09-07T09:26:50.627Z"
   },
   {
    "duration": 4563,
    "start_time": "2023-09-07T09:26:53.818Z"
   },
   {
    "duration": 5,
    "start_time": "2023-09-07T09:27:01.353Z"
   },
   {
    "duration": 37,
    "start_time": "2023-09-07T09:27:03.481Z"
   },
   {
    "duration": 4,
    "start_time": "2023-09-07T09:27:03.954Z"
   },
   {
    "duration": 4,
    "start_time": "2023-09-07T09:27:05.793Z"
   },
   {
    "duration": 2587,
    "start_time": "2023-09-07T09:27:09.049Z"
   },
   {
    "duration": 97827,
    "start_time": "2023-09-07T09:27:12.990Z"
   },
   {
    "duration": 0,
    "start_time": "2023-09-07T09:28:50.818Z"
   },
   {
    "duration": 8709,
    "start_time": "2023-09-07T09:29:17.310Z"
   },
   {
    "duration": 4,
    "start_time": "2023-09-07T09:29:27.360Z"
   },
   {
    "duration": 48,
    "start_time": "2023-09-07T09:29:30.375Z"
   },
   {
    "duration": 4,
    "start_time": "2023-09-07T09:29:30.880Z"
   },
   {
    "duration": 2,
    "start_time": "2023-09-07T09:29:31.891Z"
   },
   {
    "duration": 3877,
    "start_time": "2023-09-07T09:29:32.375Z"
   },
   {
    "duration": 1615,
    "start_time": "2023-09-07T09:29:39.522Z"
   },
   {
    "duration": 87890,
    "start_time": "2023-09-07T09:29:43.160Z"
   },
   {
    "duration": 7,
    "start_time": "2023-09-07T09:31:13.861Z"
   },
   {
    "duration": 7,
    "start_time": "2023-09-07T09:31:19.471Z"
   },
   {
    "duration": 4,
    "start_time": "2023-09-07T09:31:24.636Z"
   },
   {
    "duration": 5509,
    "start_time": "2023-09-07T09:31:26.619Z"
   },
   {
    "duration": 1012,
    "start_time": "2023-09-07T09:31:40.541Z"
   },
   {
    "duration": 6585,
    "start_time": "2023-09-07T09:31:50.650Z"
   },
   {
    "duration": 2666,
    "start_time": "2023-09-07T09:32:20.865Z"
   },
   {
    "duration": 90578,
    "start_time": "2023-09-07T09:32:28.455Z"
   },
   {
    "duration": 68,
    "start_time": "2023-09-07T09:35:25.933Z"
   },
   {
    "duration": 5885,
    "start_time": "2023-09-07T09:35:30.620Z"
   },
   {
    "duration": 1907,
    "start_time": "2023-09-07T09:35:36.507Z"
   },
   {
    "duration": 9,
    "start_time": "2023-09-07T09:35:38.416Z"
   },
   {
    "duration": 4,
    "start_time": "2023-09-07T09:35:38.427Z"
   },
   {
    "duration": 8,
    "start_time": "2023-09-07T09:35:38.432Z"
   },
   {
    "duration": 33,
    "start_time": "2023-09-07T09:35:38.441Z"
   },
   {
    "duration": 3319,
    "start_time": "2023-09-07T09:35:39.355Z"
   },
   {
    "duration": 4,
    "start_time": "2023-09-07T09:35:44.460Z"
   },
   {
    "duration": 29,
    "start_time": "2023-09-07T09:35:45.965Z"
   },
   {
    "duration": 4,
    "start_time": "2023-09-07T09:35:46.336Z"
   },
   {
    "duration": 4,
    "start_time": "2023-09-07T09:35:46.816Z"
   },
   {
    "duration": 2041,
    "start_time": "2023-09-07T09:35:48.294Z"
   },
   {
    "duration": 1700,
    "start_time": "2023-09-07T09:35:50.337Z"
   },
   {
    "duration": 2039,
    "start_time": "2023-09-07T09:35:56.994Z"
   },
   {
    "duration": 200880,
    "start_time": "2023-09-07T09:39:28.744Z"
   },
   {
    "duration": 284,
    "start_time": "2023-09-07T09:42:49.626Z"
   },
   {
    "duration": 7,
    "start_time": "2023-09-07T09:45:24.044Z"
   },
   {
    "duration": 17,
    "start_time": "2023-09-07T09:45:57.321Z"
   },
   {
    "duration": 17,
    "start_time": "2023-09-07T09:46:01.803Z"
   },
   {
    "duration": 8,
    "start_time": "2023-09-07T09:46:08.882Z"
   },
   {
    "duration": 4,
    "start_time": "2023-09-07T09:47:00.198Z"
   },
   {
    "duration": 7,
    "start_time": "2023-09-07T09:48:39.844Z"
   },
   {
    "duration": 3,
    "start_time": "2023-09-07T09:51:23.936Z"
   },
   {
    "duration": 3,
    "start_time": "2023-09-07T09:51:30.479Z"
   },
   {
    "duration": 17,
    "start_time": "2023-09-07T09:54:12.140Z"
   },
   {
    "duration": 16,
    "start_time": "2023-09-07T09:54:19.543Z"
   },
   {
    "duration": 19,
    "start_time": "2023-09-07T09:54:30.211Z"
   },
   {
    "duration": 4937,
    "start_time": "2023-09-07T10:03:17.682Z"
   },
   {
    "duration": 1827,
    "start_time": "2023-09-07T10:03:22.620Z"
   },
   {
    "duration": 8,
    "start_time": "2023-09-07T10:03:24.448Z"
   },
   {
    "duration": 74,
    "start_time": "2023-09-07T10:03:24.458Z"
   },
   {
    "duration": 38,
    "start_time": "2023-09-07T10:03:24.534Z"
   },
   {
    "duration": 26,
    "start_time": "2023-09-07T10:03:24.574Z"
   },
   {
    "duration": 9254,
    "start_time": "2023-09-07T10:03:30.489Z"
   },
   {
    "duration": 4,
    "start_time": "2023-09-07T10:03:39.745Z"
   },
   {
    "duration": 32,
    "start_time": "2023-09-07T10:03:42.697Z"
   },
   {
    "duration": 4,
    "start_time": "2023-09-07T10:03:43.096Z"
   },
   {
    "duration": 3,
    "start_time": "2023-09-07T10:03:43.692Z"
   },
   {
    "duration": 2349,
    "start_time": "2023-09-07T10:03:48.277Z"
   },
   {
    "duration": 215522,
    "start_time": "2023-09-07T10:03:57.344Z"
   },
   {
    "duration": 8,
    "start_time": "2023-09-07T10:07:36.967Z"
   },
   {
    "duration": 9,
    "start_time": "2023-09-07T10:07:42.273Z"
   },
   {
    "duration": 4356,
    "start_time": "2023-09-07T10:08:50.175Z"
   },
   {
    "duration": 2187,
    "start_time": "2023-09-07T10:08:54.533Z"
   },
   {
    "duration": 15,
    "start_time": "2023-09-07T10:08:56.725Z"
   },
   {
    "duration": 94,
    "start_time": "2023-09-07T10:08:56.742Z"
   },
   {
    "duration": 126,
    "start_time": "2023-09-07T10:08:56.838Z"
   },
   {
    "duration": 40,
    "start_time": "2023-09-07T10:08:56.965Z"
   },
   {
    "duration": 4872,
    "start_time": "2023-09-07T10:08:57.557Z"
   },
   {
    "duration": 8,
    "start_time": "2023-09-07T10:09:08.421Z"
   },
   {
    "duration": 151,
    "start_time": "2023-09-07T10:09:10.516Z"
   },
   {
    "duration": 4,
    "start_time": "2023-09-07T10:09:10.883Z"
   },
   {
    "duration": 3,
    "start_time": "2023-09-07T10:09:11.325Z"
   },
   {
    "duration": 2527,
    "start_time": "2023-09-07T10:09:12.310Z"
   },
   {
    "duration": 4736,
    "start_time": "2023-09-07T10:22:23.775Z"
   },
   {
    "duration": 2025,
    "start_time": "2023-09-07T10:22:28.513Z"
   },
   {
    "duration": 9,
    "start_time": "2023-09-07T10:22:30.540Z"
   },
   {
    "duration": 48,
    "start_time": "2023-09-07T10:22:30.551Z"
   },
   {
    "duration": 97,
    "start_time": "2023-09-07T10:22:30.601Z"
   },
   {
    "duration": 61,
    "start_time": "2023-09-07T10:22:30.700Z"
   },
   {
    "duration": 9914,
    "start_time": "2023-09-07T10:22:30.763Z"
   },
   {
    "duration": 2,
    "start_time": "2023-09-07T10:22:40.679Z"
   },
   {
    "duration": 7,
    "start_time": "2023-09-07T10:22:40.683Z"
   },
   {
    "duration": 129,
    "start_time": "2023-09-07T10:22:40.693Z"
   },
   {
    "duration": 5,
    "start_time": "2023-09-07T10:22:40.833Z"
   },
   {
    "duration": 17,
    "start_time": "2023-09-07T10:22:40.839Z"
   },
   {
    "duration": 4288,
    "start_time": "2023-09-07T10:22:40.858Z"
   },
   {
    "duration": 4293,
    "start_time": "2023-09-07T10:23:37.739Z"
   },
   {
    "duration": 1936,
    "start_time": "2023-09-07T10:23:42.034Z"
   },
   {
    "duration": 9,
    "start_time": "2023-09-07T10:23:43.972Z"
   },
   {
    "duration": 27,
    "start_time": "2023-09-07T10:23:43.982Z"
   },
   {
    "duration": 32,
    "start_time": "2023-09-07T10:23:44.011Z"
   },
   {
    "duration": 45,
    "start_time": "2023-09-07T10:23:44.045Z"
   },
   {
    "duration": 4432,
    "start_time": "2023-09-07T10:23:44.092Z"
   },
   {
    "duration": 6,
    "start_time": "2023-09-07T10:23:48.526Z"
   },
   {
    "duration": 51,
    "start_time": "2023-09-07T10:23:48.537Z"
   },
   {
    "duration": 209,
    "start_time": "2023-09-07T10:23:48.590Z"
   },
   {
    "duration": 106,
    "start_time": "2023-09-07T10:23:48.801Z"
   },
   {
    "duration": 138,
    "start_time": "2023-09-07T10:23:48.909Z"
   },
   {
    "duration": 2306,
    "start_time": "2023-09-07T10:23:49.049Z"
   },
   {
    "duration": 4566,
    "start_time": "2023-09-07T10:27:28.037Z"
   },
   {
    "duration": 2201,
    "start_time": "2023-09-07T10:27:32.605Z"
   },
   {
    "duration": 8,
    "start_time": "2023-09-07T10:27:34.808Z"
   },
   {
    "duration": 56,
    "start_time": "2023-09-07T10:27:34.817Z"
   },
   {
    "duration": 46,
    "start_time": "2023-09-07T10:27:34.874Z"
   },
   {
    "duration": 26,
    "start_time": "2023-09-07T10:27:34.921Z"
   },
   {
    "duration": 7146,
    "start_time": "2023-09-07T10:27:34.949Z"
   },
   {
    "duration": 2,
    "start_time": "2023-09-07T10:27:42.097Z"
   },
   {
    "duration": 25,
    "start_time": "2023-09-07T10:27:42.101Z"
   },
   {
    "duration": 44,
    "start_time": "2023-09-07T10:27:42.137Z"
   },
   {
    "duration": 3,
    "start_time": "2023-09-07T10:27:42.183Z"
   },
   {
    "duration": 14,
    "start_time": "2023-09-07T10:27:42.188Z"
   },
   {
    "duration": 9150,
    "start_time": "2023-09-07T10:27:42.203Z"
   }
  ],
  "kernelspec": {
   "display_name": "Python 3 (ipykernel)",
   "language": "python",
   "name": "python3"
  },
  "language_info": {
   "codemirror_mode": {
    "name": "ipython",
    "version": 3
   },
   "file_extension": ".py",
   "mimetype": "text/x-python",
   "name": "python",
   "nbconvert_exporter": "python",
   "pygments_lexer": "ipython3",
   "version": "3.10.9"
  },
  "toc": {
   "base_numbering": 1,
   "nav_menu": {},
   "number_sections": true,
   "sideBar": true,
   "skip_h1_title": true,
   "title_cell": "Table of Contents",
   "title_sidebar": "Contents",
   "toc_cell": false,
   "toc_position": {},
   "toc_section_display": true,
   "toc_window_display": false
  }
 },
 "nbformat": 4,
 "nbformat_minor": 5
}
