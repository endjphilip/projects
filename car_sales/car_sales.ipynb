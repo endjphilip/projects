{
 "cells": [
  {
   "cell_type": "markdown",
   "metadata": {},
   "source": [
    "# Определение стоимости автомобилей"
   ]
  },
  {
   "cell_type": "markdown",
   "metadata": {},
   "source": [
    "Сервис по продаже автомобилей с пробегом «Не бит, не крашен» разрабатывает приложение для привлечения новых клиентов. В нём можно быстро узнать рыночную стоимость своего автомобиля. В нашем распоряжении исторические данные: технические характеристики, комплектации и цены автомобилей. Нужно построить модель для определения стоимости. \n",
    "\n",
    "Заказчику важны:\n",
    "\n",
    "- качество предсказания;\n",
    "- скорость предсказания;\n",
    "- время обучения."
   ]
  },
  {
   "cell_type": "markdown",
   "metadata": {},
   "source": [
    "## Подготовка данных"
   ]
  },
  {
   "cell_type": "code",
   "execution_count": 2,
   "metadata": {},
   "outputs": [],
   "source": [
    "import pandas as pd\n",
    "import seaborn as sns\n",
    "import numpy as np\n",
    "import lightgbm as lgb\n",
    "import warnings\n",
    "warnings.filterwarnings(\"ignore\")\n",
    "import matplotlib.pyplot as plt\n",
    "from sklearn.model_selection import train_test_split, GridSearchCV, RandomizedSearchCV\n",
    "from sklearn.compose import ColumnTransformer, make_column_transformer, \n",
    "from sklearn.pipeline import Pipeline\n",
    "from sklearn.preprocessing import StandardScaler, OneHotEncoder, OrdinalEncoder\n",
    "from sklearn.linear_model import LinearRegression\n",
    "from sklearn.metrics import mean_squared_error\n",
    "from sklearn.tree import DecisionTreeRegressor\n",
    "from sklearn.ensemble import RandomForestRegressor\n",
    "from lightgbm import LGBMRegressor, log_evaluation\n",
    "from sklearn.dummy import DummyRegressor\n",
    "plt.rcParams[\"figure.figsize\"] = (7,9)\n",
    "pd.options.mode.chained_assignment = None"
   ]
  },
  {
   "cell_type": "markdown",
   "metadata": {},
   "source": [
    "### Изучим данные"
   ]
  },
  {
   "cell_type": "code",
   "execution_count": 3,
   "metadata": {},
   "outputs": [],
   "source": [
    "data = pd.read_csv('/datasets/autos.csv')"
   ]
  },
  {
   "cell_type": "code",
   "execution_count": 4,
   "metadata": {
    "scrolled": false
   },
   "outputs": [
    {
     "data": {
      "text/html": [
       "<div>\n",
       "<style scoped>\n",
       "    .dataframe tbody tr th:only-of-type {\n",
       "        vertical-align: middle;\n",
       "    }\n",
       "\n",
       "    .dataframe tbody tr th {\n",
       "        vertical-align: top;\n",
       "    }\n",
       "\n",
       "    .dataframe thead th {\n",
       "        text-align: right;\n",
       "    }\n",
       "</style>\n",
       "<table border=\"1\" class=\"dataframe\">\n",
       "  <thead>\n",
       "    <tr style=\"text-align: right;\">\n",
       "      <th></th>\n",
       "      <th>DateCrawled</th>\n",
       "      <th>Price</th>\n",
       "      <th>VehicleType</th>\n",
       "      <th>RegistrationYear</th>\n",
       "      <th>Gearbox</th>\n",
       "      <th>Power</th>\n",
       "      <th>Model</th>\n",
       "      <th>Kilometer</th>\n",
       "      <th>RegistrationMonth</th>\n",
       "      <th>FuelType</th>\n",
       "      <th>Brand</th>\n",
       "      <th>Repaired</th>\n",
       "      <th>DateCreated</th>\n",
       "      <th>NumberOfPictures</th>\n",
       "      <th>PostalCode</th>\n",
       "      <th>LastSeen</th>\n",
       "    </tr>\n",
       "  </thead>\n",
       "  <tbody>\n",
       "    <tr>\n",
       "      <th>0</th>\n",
       "      <td>2016-03-24 11:52:17</td>\n",
       "      <td>480</td>\n",
       "      <td>NaN</td>\n",
       "      <td>1993</td>\n",
       "      <td>manual</td>\n",
       "      <td>0</td>\n",
       "      <td>golf</td>\n",
       "      <td>150000</td>\n",
       "      <td>0</td>\n",
       "      <td>petrol</td>\n",
       "      <td>volkswagen</td>\n",
       "      <td>NaN</td>\n",
       "      <td>2016-03-24 00:00:00</td>\n",
       "      <td>0</td>\n",
       "      <td>70435</td>\n",
       "      <td>2016-04-07 03:16:57</td>\n",
       "    </tr>\n",
       "    <tr>\n",
       "      <th>1</th>\n",
       "      <td>2016-03-24 10:58:45</td>\n",
       "      <td>18300</td>\n",
       "      <td>coupe</td>\n",
       "      <td>2011</td>\n",
       "      <td>manual</td>\n",
       "      <td>190</td>\n",
       "      <td>NaN</td>\n",
       "      <td>125000</td>\n",
       "      <td>5</td>\n",
       "      <td>gasoline</td>\n",
       "      <td>audi</td>\n",
       "      <td>yes</td>\n",
       "      <td>2016-03-24 00:00:00</td>\n",
       "      <td>0</td>\n",
       "      <td>66954</td>\n",
       "      <td>2016-04-07 01:46:50</td>\n",
       "    </tr>\n",
       "    <tr>\n",
       "      <th>2</th>\n",
       "      <td>2016-03-14 12:52:21</td>\n",
       "      <td>9800</td>\n",
       "      <td>suv</td>\n",
       "      <td>2004</td>\n",
       "      <td>auto</td>\n",
       "      <td>163</td>\n",
       "      <td>grand</td>\n",
       "      <td>125000</td>\n",
       "      <td>8</td>\n",
       "      <td>gasoline</td>\n",
       "      <td>jeep</td>\n",
       "      <td>NaN</td>\n",
       "      <td>2016-03-14 00:00:00</td>\n",
       "      <td>0</td>\n",
       "      <td>90480</td>\n",
       "      <td>2016-04-05 12:47:46</td>\n",
       "    </tr>\n",
       "    <tr>\n",
       "      <th>3</th>\n",
       "      <td>2016-03-17 16:54:04</td>\n",
       "      <td>1500</td>\n",
       "      <td>small</td>\n",
       "      <td>2001</td>\n",
       "      <td>manual</td>\n",
       "      <td>75</td>\n",
       "      <td>golf</td>\n",
       "      <td>150000</td>\n",
       "      <td>6</td>\n",
       "      <td>petrol</td>\n",
       "      <td>volkswagen</td>\n",
       "      <td>no</td>\n",
       "      <td>2016-03-17 00:00:00</td>\n",
       "      <td>0</td>\n",
       "      <td>91074</td>\n",
       "      <td>2016-03-17 17:40:17</td>\n",
       "    </tr>\n",
       "    <tr>\n",
       "      <th>4</th>\n",
       "      <td>2016-03-31 17:25:20</td>\n",
       "      <td>3600</td>\n",
       "      <td>small</td>\n",
       "      <td>2008</td>\n",
       "      <td>manual</td>\n",
       "      <td>69</td>\n",
       "      <td>fabia</td>\n",
       "      <td>90000</td>\n",
       "      <td>7</td>\n",
       "      <td>gasoline</td>\n",
       "      <td>skoda</td>\n",
       "      <td>no</td>\n",
       "      <td>2016-03-31 00:00:00</td>\n",
       "      <td>0</td>\n",
       "      <td>60437</td>\n",
       "      <td>2016-04-06 10:17:21</td>\n",
       "    </tr>\n",
       "    <tr>\n",
       "      <th>...</th>\n",
       "      <td>...</td>\n",
       "      <td>...</td>\n",
       "      <td>...</td>\n",
       "      <td>...</td>\n",
       "      <td>...</td>\n",
       "      <td>...</td>\n",
       "      <td>...</td>\n",
       "      <td>...</td>\n",
       "      <td>...</td>\n",
       "      <td>...</td>\n",
       "      <td>...</td>\n",
       "      <td>...</td>\n",
       "      <td>...</td>\n",
       "      <td>...</td>\n",
       "      <td>...</td>\n",
       "      <td>...</td>\n",
       "    </tr>\n",
       "    <tr>\n",
       "      <th>354364</th>\n",
       "      <td>2016-03-21 09:50:58</td>\n",
       "      <td>0</td>\n",
       "      <td>NaN</td>\n",
       "      <td>2005</td>\n",
       "      <td>manual</td>\n",
       "      <td>0</td>\n",
       "      <td>colt</td>\n",
       "      <td>150000</td>\n",
       "      <td>7</td>\n",
       "      <td>petrol</td>\n",
       "      <td>mitsubishi</td>\n",
       "      <td>yes</td>\n",
       "      <td>2016-03-21 00:00:00</td>\n",
       "      <td>0</td>\n",
       "      <td>2694</td>\n",
       "      <td>2016-03-21 10:42:49</td>\n",
       "    </tr>\n",
       "    <tr>\n",
       "      <th>354365</th>\n",
       "      <td>2016-03-14 17:48:27</td>\n",
       "      <td>2200</td>\n",
       "      <td>NaN</td>\n",
       "      <td>2005</td>\n",
       "      <td>NaN</td>\n",
       "      <td>0</td>\n",
       "      <td>NaN</td>\n",
       "      <td>20000</td>\n",
       "      <td>1</td>\n",
       "      <td>NaN</td>\n",
       "      <td>sonstige_autos</td>\n",
       "      <td>NaN</td>\n",
       "      <td>2016-03-14 00:00:00</td>\n",
       "      <td>0</td>\n",
       "      <td>39576</td>\n",
       "      <td>2016-04-06 00:46:52</td>\n",
       "    </tr>\n",
       "    <tr>\n",
       "      <th>354366</th>\n",
       "      <td>2016-03-05 19:56:21</td>\n",
       "      <td>1199</td>\n",
       "      <td>convertible</td>\n",
       "      <td>2000</td>\n",
       "      <td>auto</td>\n",
       "      <td>101</td>\n",
       "      <td>fortwo</td>\n",
       "      <td>125000</td>\n",
       "      <td>3</td>\n",
       "      <td>petrol</td>\n",
       "      <td>smart</td>\n",
       "      <td>no</td>\n",
       "      <td>2016-03-05 00:00:00</td>\n",
       "      <td>0</td>\n",
       "      <td>26135</td>\n",
       "      <td>2016-03-11 18:17:12</td>\n",
       "    </tr>\n",
       "    <tr>\n",
       "      <th>354367</th>\n",
       "      <td>2016-03-19 18:57:12</td>\n",
       "      <td>9200</td>\n",
       "      <td>bus</td>\n",
       "      <td>1996</td>\n",
       "      <td>manual</td>\n",
       "      <td>102</td>\n",
       "      <td>transporter</td>\n",
       "      <td>150000</td>\n",
       "      <td>3</td>\n",
       "      <td>gasoline</td>\n",
       "      <td>volkswagen</td>\n",
       "      <td>no</td>\n",
       "      <td>2016-03-19 00:00:00</td>\n",
       "      <td>0</td>\n",
       "      <td>87439</td>\n",
       "      <td>2016-04-07 07:15:26</td>\n",
       "    </tr>\n",
       "    <tr>\n",
       "      <th>354368</th>\n",
       "      <td>2016-03-20 19:41:08</td>\n",
       "      <td>3400</td>\n",
       "      <td>wagon</td>\n",
       "      <td>2002</td>\n",
       "      <td>manual</td>\n",
       "      <td>100</td>\n",
       "      <td>golf</td>\n",
       "      <td>150000</td>\n",
       "      <td>6</td>\n",
       "      <td>gasoline</td>\n",
       "      <td>volkswagen</td>\n",
       "      <td>NaN</td>\n",
       "      <td>2016-03-20 00:00:00</td>\n",
       "      <td>0</td>\n",
       "      <td>40764</td>\n",
       "      <td>2016-03-24 12:45:21</td>\n",
       "    </tr>\n",
       "  </tbody>\n",
       "</table>\n",
       "<p>354369 rows × 16 columns</p>\n",
       "</div>"
      ],
      "text/plain": [
       "                DateCrawled  Price  VehicleType  RegistrationYear Gearbox  \\\n",
       "0       2016-03-24 11:52:17    480          NaN              1993  manual   \n",
       "1       2016-03-24 10:58:45  18300        coupe              2011  manual   \n",
       "2       2016-03-14 12:52:21   9800          suv              2004    auto   \n",
       "3       2016-03-17 16:54:04   1500        small              2001  manual   \n",
       "4       2016-03-31 17:25:20   3600        small              2008  manual   \n",
       "...                     ...    ...          ...               ...     ...   \n",
       "354364  2016-03-21 09:50:58      0          NaN              2005  manual   \n",
       "354365  2016-03-14 17:48:27   2200          NaN              2005     NaN   \n",
       "354366  2016-03-05 19:56:21   1199  convertible              2000    auto   \n",
       "354367  2016-03-19 18:57:12   9200          bus              1996  manual   \n",
       "354368  2016-03-20 19:41:08   3400        wagon              2002  manual   \n",
       "\n",
       "        Power        Model  Kilometer  RegistrationMonth  FuelType  \\\n",
       "0           0         golf     150000                  0    petrol   \n",
       "1         190          NaN     125000                  5  gasoline   \n",
       "2         163        grand     125000                  8  gasoline   \n",
       "3          75         golf     150000                  6    petrol   \n",
       "4          69        fabia      90000                  7  gasoline   \n",
       "...       ...          ...        ...                ...       ...   \n",
       "354364      0         colt     150000                  7    petrol   \n",
       "354365      0          NaN      20000                  1       NaN   \n",
       "354366    101       fortwo     125000                  3    petrol   \n",
       "354367    102  transporter     150000                  3  gasoline   \n",
       "354368    100         golf     150000                  6  gasoline   \n",
       "\n",
       "                 Brand Repaired          DateCreated  NumberOfPictures  \\\n",
       "0           volkswagen      NaN  2016-03-24 00:00:00                 0   \n",
       "1                 audi      yes  2016-03-24 00:00:00                 0   \n",
       "2                 jeep      NaN  2016-03-14 00:00:00                 0   \n",
       "3           volkswagen       no  2016-03-17 00:00:00                 0   \n",
       "4                skoda       no  2016-03-31 00:00:00                 0   \n",
       "...                ...      ...                  ...               ...   \n",
       "354364      mitsubishi      yes  2016-03-21 00:00:00                 0   \n",
       "354365  sonstige_autos      NaN  2016-03-14 00:00:00                 0   \n",
       "354366           smart       no  2016-03-05 00:00:00                 0   \n",
       "354367      volkswagen       no  2016-03-19 00:00:00                 0   \n",
       "354368      volkswagen      NaN  2016-03-20 00:00:00                 0   \n",
       "\n",
       "        PostalCode             LastSeen  \n",
       "0            70435  2016-04-07 03:16:57  \n",
       "1            66954  2016-04-07 01:46:50  \n",
       "2            90480  2016-04-05 12:47:46  \n",
       "3            91074  2016-03-17 17:40:17  \n",
       "4            60437  2016-04-06 10:17:21  \n",
       "...            ...                  ...  \n",
       "354364        2694  2016-03-21 10:42:49  \n",
       "354365       39576  2016-04-06 00:46:52  \n",
       "354366       26135  2016-03-11 18:17:12  \n",
       "354367       87439  2016-04-07 07:15:26  \n",
       "354368       40764  2016-03-24 12:45:21  \n",
       "\n",
       "[354369 rows x 16 columns]"
      ]
     },
     "execution_count": 4,
     "metadata": {},
     "output_type": "execute_result"
    }
   ],
   "source": [
    "data"
   ]
  },
  {
   "cell_type": "code",
   "execution_count": 5,
   "metadata": {},
   "outputs": [
    {
     "name": "stdout",
     "output_type": "stream",
     "text": [
      "<class 'pandas.core.frame.DataFrame'>\n",
      "RangeIndex: 354369 entries, 0 to 354368\n",
      "Data columns (total 16 columns):\n",
      " #   Column             Non-Null Count   Dtype \n",
      "---  ------             --------------   ----- \n",
      " 0   DateCrawled        354369 non-null  object\n",
      " 1   Price              354369 non-null  int64 \n",
      " 2   VehicleType        316879 non-null  object\n",
      " 3   RegistrationYear   354369 non-null  int64 \n",
      " 4   Gearbox            334536 non-null  object\n",
      " 5   Power              354369 non-null  int64 \n",
      " 6   Model              334664 non-null  object\n",
      " 7   Kilometer          354369 non-null  int64 \n",
      " 8   RegistrationMonth  354369 non-null  int64 \n",
      " 9   FuelType           321474 non-null  object\n",
      " 10  Brand              354369 non-null  object\n",
      " 11  Repaired           283215 non-null  object\n",
      " 12  DateCreated        354369 non-null  object\n",
      " 13  NumberOfPictures   354369 non-null  int64 \n",
      " 14  PostalCode         354369 non-null  int64 \n",
      " 15  LastSeen           354369 non-null  object\n",
      "dtypes: int64(7), object(9)\n",
      "memory usage: 43.3+ MB\n"
     ]
    }
   ],
   "source": [
    "data.info()"
   ]
  },
  {
   "cell_type": "markdown",
   "metadata": {},
   "source": [
    "Сразу в нескольких столбцах присутствуют пропущенные значения."
   ]
  },
  {
   "cell_type": "code",
   "execution_count": 6,
   "metadata": {
    "scrolled": true
   },
   "outputs": [
    {
     "data": {
      "text/html": [
       "<div>\n",
       "<style scoped>\n",
       "    .dataframe tbody tr th:only-of-type {\n",
       "        vertical-align: middle;\n",
       "    }\n",
       "\n",
       "    .dataframe tbody tr th {\n",
       "        vertical-align: top;\n",
       "    }\n",
       "\n",
       "    .dataframe thead th {\n",
       "        text-align: right;\n",
       "    }\n",
       "</style>\n",
       "<table border=\"1\" class=\"dataframe\">\n",
       "  <thead>\n",
       "    <tr style=\"text-align: right;\">\n",
       "      <th></th>\n",
       "      <th>Price</th>\n",
       "      <th>RegistrationYear</th>\n",
       "      <th>Power</th>\n",
       "      <th>Kilometer</th>\n",
       "      <th>RegistrationMonth</th>\n",
       "      <th>NumberOfPictures</th>\n",
       "      <th>PostalCode</th>\n",
       "    </tr>\n",
       "  </thead>\n",
       "  <tbody>\n",
       "    <tr>\n",
       "      <th>count</th>\n",
       "      <td>354369.000000</td>\n",
       "      <td>354369.000000</td>\n",
       "      <td>354369.000000</td>\n",
       "      <td>354369.000000</td>\n",
       "      <td>354369.000000</td>\n",
       "      <td>354369.0</td>\n",
       "      <td>354369.000000</td>\n",
       "    </tr>\n",
       "    <tr>\n",
       "      <th>mean</th>\n",
       "      <td>4416.656776</td>\n",
       "      <td>2004.234448</td>\n",
       "      <td>110.094337</td>\n",
       "      <td>128211.172535</td>\n",
       "      <td>5.714645</td>\n",
       "      <td>0.0</td>\n",
       "      <td>50508.689087</td>\n",
       "    </tr>\n",
       "    <tr>\n",
       "      <th>std</th>\n",
       "      <td>4514.158514</td>\n",
       "      <td>90.227958</td>\n",
       "      <td>189.850405</td>\n",
       "      <td>37905.341530</td>\n",
       "      <td>3.726421</td>\n",
       "      <td>0.0</td>\n",
       "      <td>25783.096248</td>\n",
       "    </tr>\n",
       "    <tr>\n",
       "      <th>min</th>\n",
       "      <td>0.000000</td>\n",
       "      <td>1000.000000</td>\n",
       "      <td>0.000000</td>\n",
       "      <td>5000.000000</td>\n",
       "      <td>0.000000</td>\n",
       "      <td>0.0</td>\n",
       "      <td>1067.000000</td>\n",
       "    </tr>\n",
       "    <tr>\n",
       "      <th>25%</th>\n",
       "      <td>1050.000000</td>\n",
       "      <td>1999.000000</td>\n",
       "      <td>69.000000</td>\n",
       "      <td>125000.000000</td>\n",
       "      <td>3.000000</td>\n",
       "      <td>0.0</td>\n",
       "      <td>30165.000000</td>\n",
       "    </tr>\n",
       "    <tr>\n",
       "      <th>50%</th>\n",
       "      <td>2700.000000</td>\n",
       "      <td>2003.000000</td>\n",
       "      <td>105.000000</td>\n",
       "      <td>150000.000000</td>\n",
       "      <td>6.000000</td>\n",
       "      <td>0.0</td>\n",
       "      <td>49413.000000</td>\n",
       "    </tr>\n",
       "    <tr>\n",
       "      <th>75%</th>\n",
       "      <td>6400.000000</td>\n",
       "      <td>2008.000000</td>\n",
       "      <td>143.000000</td>\n",
       "      <td>150000.000000</td>\n",
       "      <td>9.000000</td>\n",
       "      <td>0.0</td>\n",
       "      <td>71083.000000</td>\n",
       "    </tr>\n",
       "    <tr>\n",
       "      <th>max</th>\n",
       "      <td>20000.000000</td>\n",
       "      <td>9999.000000</td>\n",
       "      <td>20000.000000</td>\n",
       "      <td>150000.000000</td>\n",
       "      <td>12.000000</td>\n",
       "      <td>0.0</td>\n",
       "      <td>99998.000000</td>\n",
       "    </tr>\n",
       "  </tbody>\n",
       "</table>\n",
       "</div>"
      ],
      "text/plain": [
       "               Price  RegistrationYear          Power      Kilometer  \\\n",
       "count  354369.000000     354369.000000  354369.000000  354369.000000   \n",
       "mean     4416.656776       2004.234448     110.094337  128211.172535   \n",
       "std      4514.158514         90.227958     189.850405   37905.341530   \n",
       "min         0.000000       1000.000000       0.000000    5000.000000   \n",
       "25%      1050.000000       1999.000000      69.000000  125000.000000   \n",
       "50%      2700.000000       2003.000000     105.000000  150000.000000   \n",
       "75%      6400.000000       2008.000000     143.000000  150000.000000   \n",
       "max     20000.000000       9999.000000   20000.000000  150000.000000   \n",
       "\n",
       "       RegistrationMonth  NumberOfPictures     PostalCode  \n",
       "count      354369.000000          354369.0  354369.000000  \n",
       "mean            5.714645               0.0   50508.689087  \n",
       "std             3.726421               0.0   25783.096248  \n",
       "min             0.000000               0.0    1067.000000  \n",
       "25%             3.000000               0.0   30165.000000  \n",
       "50%             6.000000               0.0   49413.000000  \n",
       "75%             9.000000               0.0   71083.000000  \n",
       "max            12.000000               0.0   99998.000000  "
      ]
     },
     "execution_count": 6,
     "metadata": {},
     "output_type": "execute_result"
    }
   ],
   "source": [
    "data.describe()"
   ]
  },
  {
   "cell_type": "markdown",
   "metadata": {},
   "source": [
    "Сразу заметны аномальные значения в столбце с мощностью автомобилей, годом регистрации."
   ]
  },
  {
   "cell_type": "markdown",
   "metadata": {},
   "source": [
    "### Предобработка данных"
   ]
  },
  {
   "cell_type": "markdown",
   "metadata": {},
   "source": [
    "Для начала, приведем все названия столбцов к нижнему регистру и придадим им правильный вид."
   ]
  },
  {
   "cell_type": "code",
   "execution_count": 7,
   "metadata": {},
   "outputs": [
    {
     "data": {
      "text/html": [
       "<div>\n",
       "<style scoped>\n",
       "    .dataframe tbody tr th:only-of-type {\n",
       "        vertical-align: middle;\n",
       "    }\n",
       "\n",
       "    .dataframe tbody tr th {\n",
       "        vertical-align: top;\n",
       "    }\n",
       "\n",
       "    .dataframe thead th {\n",
       "        text-align: right;\n",
       "    }\n",
       "</style>\n",
       "<table border=\"1\" class=\"dataframe\">\n",
       "  <thead>\n",
       "    <tr style=\"text-align: right;\">\n",
       "      <th></th>\n",
       "      <th>date_crawled</th>\n",
       "      <th>price</th>\n",
       "      <th>vehicle_type</th>\n",
       "      <th>registration_year</th>\n",
       "      <th>gearbox</th>\n",
       "      <th>power</th>\n",
       "      <th>model</th>\n",
       "      <th>kilometer</th>\n",
       "      <th>registration_month</th>\n",
       "      <th>fuel_type</th>\n",
       "      <th>brand</th>\n",
       "      <th>repaired</th>\n",
       "      <th>date_created</th>\n",
       "      <th>number_of_pictures</th>\n",
       "      <th>postal_code</th>\n",
       "      <th>last_seen</th>\n",
       "    </tr>\n",
       "  </thead>\n",
       "  <tbody>\n",
       "    <tr>\n",
       "      <th>0</th>\n",
       "      <td>2016-03-24 11:52:17</td>\n",
       "      <td>480</td>\n",
       "      <td>NaN</td>\n",
       "      <td>1993</td>\n",
       "      <td>manual</td>\n",
       "      <td>0</td>\n",
       "      <td>golf</td>\n",
       "      <td>150000</td>\n",
       "      <td>0</td>\n",
       "      <td>petrol</td>\n",
       "      <td>volkswagen</td>\n",
       "      <td>NaN</td>\n",
       "      <td>2016-03-24 00:00:00</td>\n",
       "      <td>0</td>\n",
       "      <td>70435</td>\n",
       "      <td>2016-04-07 03:16:57</td>\n",
       "    </tr>\n",
       "    <tr>\n",
       "      <th>1</th>\n",
       "      <td>2016-03-24 10:58:45</td>\n",
       "      <td>18300</td>\n",
       "      <td>coupe</td>\n",
       "      <td>2011</td>\n",
       "      <td>manual</td>\n",
       "      <td>190</td>\n",
       "      <td>NaN</td>\n",
       "      <td>125000</td>\n",
       "      <td>5</td>\n",
       "      <td>gasoline</td>\n",
       "      <td>audi</td>\n",
       "      <td>yes</td>\n",
       "      <td>2016-03-24 00:00:00</td>\n",
       "      <td>0</td>\n",
       "      <td>66954</td>\n",
       "      <td>2016-04-07 01:46:50</td>\n",
       "    </tr>\n",
       "    <tr>\n",
       "      <th>2</th>\n",
       "      <td>2016-03-14 12:52:21</td>\n",
       "      <td>9800</td>\n",
       "      <td>suv</td>\n",
       "      <td>2004</td>\n",
       "      <td>auto</td>\n",
       "      <td>163</td>\n",
       "      <td>grand</td>\n",
       "      <td>125000</td>\n",
       "      <td>8</td>\n",
       "      <td>gasoline</td>\n",
       "      <td>jeep</td>\n",
       "      <td>NaN</td>\n",
       "      <td>2016-03-14 00:00:00</td>\n",
       "      <td>0</td>\n",
       "      <td>90480</td>\n",
       "      <td>2016-04-05 12:47:46</td>\n",
       "    </tr>\n",
       "    <tr>\n",
       "      <th>3</th>\n",
       "      <td>2016-03-17 16:54:04</td>\n",
       "      <td>1500</td>\n",
       "      <td>small</td>\n",
       "      <td>2001</td>\n",
       "      <td>manual</td>\n",
       "      <td>75</td>\n",
       "      <td>golf</td>\n",
       "      <td>150000</td>\n",
       "      <td>6</td>\n",
       "      <td>petrol</td>\n",
       "      <td>volkswagen</td>\n",
       "      <td>no</td>\n",
       "      <td>2016-03-17 00:00:00</td>\n",
       "      <td>0</td>\n",
       "      <td>91074</td>\n",
       "      <td>2016-03-17 17:40:17</td>\n",
       "    </tr>\n",
       "    <tr>\n",
       "      <th>4</th>\n",
       "      <td>2016-03-31 17:25:20</td>\n",
       "      <td>3600</td>\n",
       "      <td>small</td>\n",
       "      <td>2008</td>\n",
       "      <td>manual</td>\n",
       "      <td>69</td>\n",
       "      <td>fabia</td>\n",
       "      <td>90000</td>\n",
       "      <td>7</td>\n",
       "      <td>gasoline</td>\n",
       "      <td>skoda</td>\n",
       "      <td>no</td>\n",
       "      <td>2016-03-31 00:00:00</td>\n",
       "      <td>0</td>\n",
       "      <td>60437</td>\n",
       "      <td>2016-04-06 10:17:21</td>\n",
       "    </tr>\n",
       "    <tr>\n",
       "      <th>5</th>\n",
       "      <td>2016-04-04 17:36:23</td>\n",
       "      <td>650</td>\n",
       "      <td>sedan</td>\n",
       "      <td>1995</td>\n",
       "      <td>manual</td>\n",
       "      <td>102</td>\n",
       "      <td>3er</td>\n",
       "      <td>150000</td>\n",
       "      <td>10</td>\n",
       "      <td>petrol</td>\n",
       "      <td>bmw</td>\n",
       "      <td>yes</td>\n",
       "      <td>2016-04-04 00:00:00</td>\n",
       "      <td>0</td>\n",
       "      <td>33775</td>\n",
       "      <td>2016-04-06 19:17:07</td>\n",
       "    </tr>\n",
       "    <tr>\n",
       "      <th>6</th>\n",
       "      <td>2016-04-01 20:48:51</td>\n",
       "      <td>2200</td>\n",
       "      <td>convertible</td>\n",
       "      <td>2004</td>\n",
       "      <td>manual</td>\n",
       "      <td>109</td>\n",
       "      <td>2_reihe</td>\n",
       "      <td>150000</td>\n",
       "      <td>8</td>\n",
       "      <td>petrol</td>\n",
       "      <td>peugeot</td>\n",
       "      <td>no</td>\n",
       "      <td>2016-04-01 00:00:00</td>\n",
       "      <td>0</td>\n",
       "      <td>67112</td>\n",
       "      <td>2016-04-05 18:18:39</td>\n",
       "    </tr>\n",
       "    <tr>\n",
       "      <th>7</th>\n",
       "      <td>2016-03-21 18:54:38</td>\n",
       "      <td>0</td>\n",
       "      <td>sedan</td>\n",
       "      <td>1980</td>\n",
       "      <td>manual</td>\n",
       "      <td>50</td>\n",
       "      <td>other</td>\n",
       "      <td>40000</td>\n",
       "      <td>7</td>\n",
       "      <td>petrol</td>\n",
       "      <td>volkswagen</td>\n",
       "      <td>no</td>\n",
       "      <td>2016-03-21 00:00:00</td>\n",
       "      <td>0</td>\n",
       "      <td>19348</td>\n",
       "      <td>2016-03-25 16:47:58</td>\n",
       "    </tr>\n",
       "    <tr>\n",
       "      <th>8</th>\n",
       "      <td>2016-04-04 23:42:13</td>\n",
       "      <td>14500</td>\n",
       "      <td>bus</td>\n",
       "      <td>2014</td>\n",
       "      <td>manual</td>\n",
       "      <td>125</td>\n",
       "      <td>c_max</td>\n",
       "      <td>30000</td>\n",
       "      <td>8</td>\n",
       "      <td>petrol</td>\n",
       "      <td>ford</td>\n",
       "      <td>NaN</td>\n",
       "      <td>2016-04-04 00:00:00</td>\n",
       "      <td>0</td>\n",
       "      <td>94505</td>\n",
       "      <td>2016-04-04 23:42:13</td>\n",
       "    </tr>\n",
       "    <tr>\n",
       "      <th>9</th>\n",
       "      <td>2016-03-17 10:53:50</td>\n",
       "      <td>999</td>\n",
       "      <td>small</td>\n",
       "      <td>1998</td>\n",
       "      <td>manual</td>\n",
       "      <td>101</td>\n",
       "      <td>golf</td>\n",
       "      <td>150000</td>\n",
       "      <td>0</td>\n",
       "      <td>NaN</td>\n",
       "      <td>volkswagen</td>\n",
       "      <td>NaN</td>\n",
       "      <td>2016-03-17 00:00:00</td>\n",
       "      <td>0</td>\n",
       "      <td>27472</td>\n",
       "      <td>2016-03-31 17:17:06</td>\n",
       "    </tr>\n",
       "  </tbody>\n",
       "</table>\n",
       "</div>"
      ],
      "text/plain": [
       "          date_crawled  price vehicle_type  registration_year gearbox  power  \\\n",
       "0  2016-03-24 11:52:17    480          NaN               1993  manual      0   \n",
       "1  2016-03-24 10:58:45  18300        coupe               2011  manual    190   \n",
       "2  2016-03-14 12:52:21   9800          suv               2004    auto    163   \n",
       "3  2016-03-17 16:54:04   1500        small               2001  manual     75   \n",
       "4  2016-03-31 17:25:20   3600        small               2008  manual     69   \n",
       "5  2016-04-04 17:36:23    650        sedan               1995  manual    102   \n",
       "6  2016-04-01 20:48:51   2200  convertible               2004  manual    109   \n",
       "7  2016-03-21 18:54:38      0        sedan               1980  manual     50   \n",
       "8  2016-04-04 23:42:13  14500          bus               2014  manual    125   \n",
       "9  2016-03-17 10:53:50    999        small               1998  manual    101   \n",
       "\n",
       "     model  kilometer  registration_month fuel_type       brand repaired  \\\n",
       "0     golf     150000                   0    petrol  volkswagen      NaN   \n",
       "1      NaN     125000                   5  gasoline        audi      yes   \n",
       "2    grand     125000                   8  gasoline        jeep      NaN   \n",
       "3     golf     150000                   6    petrol  volkswagen       no   \n",
       "4    fabia      90000                   7  gasoline       skoda       no   \n",
       "5      3er     150000                  10    petrol         bmw      yes   \n",
       "6  2_reihe     150000                   8    petrol     peugeot       no   \n",
       "7    other      40000                   7    petrol  volkswagen       no   \n",
       "8    c_max      30000                   8    petrol        ford      NaN   \n",
       "9     golf     150000                   0       NaN  volkswagen      NaN   \n",
       "\n",
       "          date_created  number_of_pictures  postal_code            last_seen  \n",
       "0  2016-03-24 00:00:00                   0        70435  2016-04-07 03:16:57  \n",
       "1  2016-03-24 00:00:00                   0        66954  2016-04-07 01:46:50  \n",
       "2  2016-03-14 00:00:00                   0        90480  2016-04-05 12:47:46  \n",
       "3  2016-03-17 00:00:00                   0        91074  2016-03-17 17:40:17  \n",
       "4  2016-03-31 00:00:00                   0        60437  2016-04-06 10:17:21  \n",
       "5  2016-04-04 00:00:00                   0        33775  2016-04-06 19:17:07  \n",
       "6  2016-04-01 00:00:00                   0        67112  2016-04-05 18:18:39  \n",
       "7  2016-03-21 00:00:00                   0        19348  2016-03-25 16:47:58  \n",
       "8  2016-04-04 00:00:00                   0        94505  2016-04-04 23:42:13  \n",
       "9  2016-03-17 00:00:00                   0        27472  2016-03-31 17:17:06  "
      ]
     },
     "execution_count": 7,
     "metadata": {},
     "output_type": "execute_result"
    }
   ],
   "source": [
    "data.columns = data.columns.str.lower()\n",
    "data.rename(columns = {'datecrawled':'date_crawled', \n",
    "                     'vehicletype':'vehicle_type',\n",
    "                    'registrationyear': 'registration_year',\n",
    "                    'registrationmonth': 'registration_month',\n",
    "                    'fueltype': 'fuel_type',\n",
    "                    'datecreated': 'date_created',\n",
    "                    'numberofpictures': 'number_of_pictures',\n",
    "                    'postalcode': 'postal_code',\n",
    "                    'lastseen': 'last_seen'}, inplace = True )\n",
    "data.head(10)"
   ]
  },
  {
   "cell_type": "markdown",
   "metadata": {},
   "source": [
    "Теперь избавимся от аномальных значений в столбцах."
   ]
  },
  {
   "cell_type": "markdown",
   "metadata": {},
   "source": [
    "Сначала рассмотрим столбец `price`."
   ]
  },
  {
   "cell_type": "code",
   "execution_count": 8,
   "metadata": {},
   "outputs": [
    {
     "data": {
      "image/png": "[encoded data removed]",
      "text/plain": [
       "<Figure size 504x648 with 1 Axes>"
      ]
     },
     "metadata": {
      "needs_background": "light"
     },
     "output_type": "display_data"
    }
   ],
   "source": [
    "data['price'].plot.box();\n",
    "plt.title('Цены на автомобили');\n",
    "plt.xlabel('Стоимость авто');\n",
    "plt.ylabel('Объявления');"
   ]
  },
  {
   "cell_type": "markdown",
   "metadata": {},
   "source": [
    "По цене автомобили, тем более новые, могут продаваться за высокую цену. Ранее мы узнали, что в столбце есть значения = 0. Это аномально низкое значение, машину не могут отдавать бесплатно (а если и могут, то это единичные случаи). Удалим значения ниже 100 для данного столбца, чтобы отсеять черезчур щедрых продавцов ."
   ]
  },
  {
   "cell_type": "code",
   "execution_count": 9,
   "metadata": {},
   "outputs": [
    {
     "data": {
      "text/html": [
       "<div>\n",
       "<style scoped>\n",
       "    .dataframe tbody tr th:only-of-type {\n",
       "        vertical-align: middle;\n",
       "    }\n",
       "\n",
       "    .dataframe tbody tr th {\n",
       "        vertical-align: top;\n",
       "    }\n",
       "\n",
       "    .dataframe thead th {\n",
       "        text-align: right;\n",
       "    }\n",
       "</style>\n",
       "<table border=\"1\" class=\"dataframe\">\n",
       "  <thead>\n",
       "    <tr style=\"text-align: right;\">\n",
       "      <th></th>\n",
       "      <th>date_crawled</th>\n",
       "      <th>price</th>\n",
       "      <th>vehicle_type</th>\n",
       "      <th>registration_year</th>\n",
       "      <th>gearbox</th>\n",
       "      <th>power</th>\n",
       "      <th>model</th>\n",
       "      <th>kilometer</th>\n",
       "      <th>registration_month</th>\n",
       "      <th>fuel_type</th>\n",
       "      <th>brand</th>\n",
       "      <th>repaired</th>\n",
       "      <th>date_created</th>\n",
       "      <th>number_of_pictures</th>\n",
       "      <th>postal_code</th>\n",
       "      <th>last_seen</th>\n",
       "    </tr>\n",
       "  </thead>\n",
       "  <tbody>\n",
       "    <tr>\n",
       "      <th>7</th>\n",
       "      <td>2016-03-21 18:54:38</td>\n",
       "      <td>0</td>\n",
       "      <td>sedan</td>\n",
       "      <td>1980</td>\n",
       "      <td>manual</td>\n",
       "      <td>50</td>\n",
       "      <td>other</td>\n",
       "      <td>40000</td>\n",
       "      <td>7</td>\n",
       "      <td>petrol</td>\n",
       "      <td>volkswagen</td>\n",
       "      <td>no</td>\n",
       "      <td>2016-03-21 00:00:00</td>\n",
       "      <td>0</td>\n",
       "      <td>19348</td>\n",
       "      <td>2016-03-25 16:47:58</td>\n",
       "    </tr>\n",
       "  </tbody>\n",
       "</table>\n",
       "</div>"
      ],
      "text/plain": [
       "          date_crawled  price vehicle_type  registration_year gearbox  power  \\\n",
       "7  2016-03-21 18:54:38      0        sedan               1980  manual     50   \n",
       "\n",
       "   model  kilometer  registration_month fuel_type       brand repaired  \\\n",
       "7  other      40000                   7    petrol  volkswagen       no   \n",
       "\n",
       "          date_created  number_of_pictures  postal_code            last_seen  \n",
       "7  2016-03-21 00:00:00                   0        19348  2016-03-25 16:47:58  "
      ]
     },
     "execution_count": 9,
     "metadata": {},
     "output_type": "execute_result"
    }
   ],
   "source": [
    "data[data.index==7]"
   ]
  },
  {
   "cell_type": "code",
   "execution_count": 10,
   "metadata": {},
   "outputs": [],
   "source": [
    "data['price'] = data['price'].replace(range(0, 100), np.nan)"
   ]
  },
  {
   "cell_type": "code",
   "execution_count": 11,
   "metadata": {},
   "outputs": [
    {
     "data": {
      "text/html": [
       "<div>\n",
       "<style scoped>\n",
       "    .dataframe tbody tr th:only-of-type {\n",
       "        vertical-align: middle;\n",
       "    }\n",
       "\n",
       "    .dataframe tbody tr th {\n",
       "        vertical-align: top;\n",
       "    }\n",
       "\n",
       "    .dataframe thead th {\n",
       "        text-align: right;\n",
       "    }\n",
       "</style>\n",
       "<table border=\"1\" class=\"dataframe\">\n",
       "  <thead>\n",
       "    <tr style=\"text-align: right;\">\n",
       "      <th></th>\n",
       "      <th>date_crawled</th>\n",
       "      <th>price</th>\n",
       "      <th>vehicle_type</th>\n",
       "      <th>registration_year</th>\n",
       "      <th>gearbox</th>\n",
       "      <th>power</th>\n",
       "      <th>model</th>\n",
       "      <th>kilometer</th>\n",
       "      <th>registration_month</th>\n",
       "      <th>fuel_type</th>\n",
       "      <th>brand</th>\n",
       "      <th>repaired</th>\n",
       "      <th>date_created</th>\n",
       "      <th>number_of_pictures</th>\n",
       "      <th>postal_code</th>\n",
       "      <th>last_seen</th>\n",
       "    </tr>\n",
       "  </thead>\n",
       "  <tbody>\n",
       "    <tr>\n",
       "      <th>7</th>\n",
       "      <td>2016-03-21 18:54:38</td>\n",
       "      <td>NaN</td>\n",
       "      <td>sedan</td>\n",
       "      <td>1980</td>\n",
       "      <td>manual</td>\n",
       "      <td>50</td>\n",
       "      <td>other</td>\n",
       "      <td>40000</td>\n",
       "      <td>7</td>\n",
       "      <td>petrol</td>\n",
       "      <td>volkswagen</td>\n",
       "      <td>no</td>\n",
       "      <td>2016-03-21 00:00:00</td>\n",
       "      <td>0</td>\n",
       "      <td>19348</td>\n",
       "      <td>2016-03-25 16:47:58</td>\n",
       "    </tr>\n",
       "  </tbody>\n",
       "</table>\n",
       "</div>"
      ],
      "text/plain": [
       "          date_crawled  price vehicle_type  registration_year gearbox  power  \\\n",
       "7  2016-03-21 18:54:38    NaN        sedan               1980  manual     50   \n",
       "\n",
       "   model  kilometer  registration_month fuel_type       brand repaired  \\\n",
       "7  other      40000                   7    petrol  volkswagen       no   \n",
       "\n",
       "          date_created  number_of_pictures  postal_code            last_seen  \n",
       "7  2016-03-21 00:00:00                   0        19348  2016-03-25 16:47:58  "
      ]
     },
     "execution_count": 11,
     "metadata": {},
     "output_type": "execute_result"
    }
   ],
   "source": [
    "data[data.index==7]"
   ]
  },
  {
   "cell_type": "code",
   "execution_count": 12,
   "metadata": {},
   "outputs": [
    {
     "data": {
      "text/plain": [
       "13314"
      ]
     },
     "execution_count": 12,
     "metadata": {},
     "output_type": "execute_result"
    }
   ],
   "source": [
    "data['price'].isna().sum()"
   ]
  },
  {
   "cell_type": "code",
   "execution_count": 13,
   "metadata": {},
   "outputs": [],
   "source": [
    "data = data.dropna(subset=['price'])"
   ]
  },
  {
   "cell_type": "markdown",
   "metadata": {},
   "source": [
    "Далее столбец `registration_year`."
   ]
  },
  {
   "cell_type": "code",
   "execution_count": 14,
   "metadata": {},
   "outputs": [
    {
     "data": {
      "image/png": "[encoded data removed]",
      "text/plain": [
       "<Figure size 504x648 with 1 Axes>"
      ]
     },
     "metadata": {
      "needs_background": "light"
     },
     "output_type": "display_data"
    }
   ],
   "source": [
    "data['registration_year'].plot.box();\n",
    "plt.title('Год регистрации');\n",
    "plt.ylabel('Год регистрации');"
   ]
  },
  {
   "cell_type": "code",
   "execution_count": 15,
   "metadata": {},
   "outputs": [
    {
     "data": {
      "text/plain": [
       "array([1993, 2011, 2004, 2001, 2008, 1995, 2014, 1998, 2005, 1910, 2016,\n",
       "       2007, 2009, 2002, 2018, 1997, 1990, 2017, 1981, 2003, 1994, 1991,\n",
       "       1984, 2006, 1999, 2012, 2010, 2000, 1992, 2013, 1996, 1985, 1989,\n",
       "       2015, 1982, 1976, 1983, 1973, 1969, 1971, 1987, 1986, 1988, 1980,\n",
       "       1970, 1965, 1945, 1925, 1974, 1979, 1955, 1978, 1972, 1968, 1977,\n",
       "       1961, 1966, 1975, 1963, 1964, 1960, 1958, 1967, 1956, 3200, 1000,\n",
       "       1941, 9999, 8888, 1500, 2200, 4100, 1962, 1929, 1957, 1940, 3000,\n",
       "       2066, 1949, 2019, 1937, 1951, 1800, 1959, 1953, 1954, 1234, 5300,\n",
       "       9000, 2900, 6000, 5900, 5911, 1400, 5000, 1950, 4000, 1948, 1952,\n",
       "       8500, 1932, 1255, 3700, 3800, 4800, 1942, 7000, 1935, 1933, 1936,\n",
       "       1923, 2290, 1930, 1001, 9450, 1944, 2500, 1943, 1938, 1934, 1928,\n",
       "       5555, 5600, 1600, 1111, 2222, 1039, 1300, 2800, 1931, 4500, 1602,\n",
       "       7800, 1947, 1927, 7100, 8200, 1946])"
      ]
     },
     "execution_count": 15,
     "metadata": {},
     "output_type": "execute_result"
    }
   ],
   "source": [
    "data['registration_year'].unique()"
   ]
  },
  {
   "cell_type": "markdown",
   "metadata": {},
   "source": [
    "В данном столбце очень много аномальных значений с огромным разбросом. Избавимся от данных объявлений, так как заполнить какими-либо значениями не представляется возможным."
   ]
  },
  {
   "cell_type": "code",
   "execution_count": 16,
   "metadata": {},
   "outputs": [
    {
     "data": {
      "text/plain": [
       "array([1993, 2011, 2004, 2001, 2008, 1995, 2014, 1998, 2005, 2016, 2007,\n",
       "       2009, 2002, 1997, 1990, 2003, 1994, 1991, 2006, 1999, 2012, 2010,\n",
       "       2000, 1992, 2013, 1996, 1989, 2015, 1988])"
      ]
     },
     "execution_count": 16,
     "metadata": {},
     "output_type": "execute_result"
    }
   ],
   "source": [
    "data = data.query('registration_year > 1987 and  registration_year <= 2016')\n",
    "data['registration_year'].unique()"
   ]
  },
  {
   "cell_type": "code",
   "execution_count": 17,
   "metadata": {},
   "outputs": [
    {
     "data": {
      "image/png": "[encoded data removed]",
      "text/plain": [
       "<Figure size 504x648 with 1 Axes>"
      ]
     },
     "metadata": {
      "needs_background": "light"
     },
     "output_type": "display_data"
    }
   ],
   "source": [
    "data['registration_year'].plot.box();\n",
    "plt.title('Год регистрации');\n",
    "plt.ylabel('Год регистрации');"
   ]
  },
  {
   "cell_type": "markdown",
   "metadata": {},
   "source": [
    "Выглядит отлично!"
   ]
  },
  {
   "cell_type": "markdown",
   "metadata": {},
   "source": [
    "Теперь рассмотрим столбец `power`."
   ]
  },
  {
   "cell_type": "code",
   "execution_count": 18,
   "metadata": {},
   "outputs": [
    {
     "data": {
      "image/png": "[encoded data removed]",
      "text/plain": [
       "<Figure size 504x648 with 1 Axes>"
      ]
     },
     "metadata": {
      "needs_background": "light"
     },
     "output_type": "display_data"
    }
   ],
   "source": [
    "data['power'].plot.box();\n",
    "plt.title('Мощность автомобиля');\n",
    "plt.ylabel('мощность');"
   ]
  },
  {
   "cell_type": "code",
   "execution_count": 19,
   "metadata": {},
   "outputs": [],
   "source": [
    "def scatter (column, yname, title):\n",
    "    \n",
    "    plt.plot(data['power'], data[column].astype(str), 'o')\n",
    "\n",
    "    plt.xlabel('Мощность автомобиля')\n",
    "    plt.ylabel(yname)\n",
    "    plt.title(title);"
   ]
  },
  {
   "cell_type": "code",
   "execution_count": 20,
   "metadata": {},
   "outputs": [
    {
     "data": {
      "image/png": "[encoded data removed]",
      "text/plain": [
       "<Figure size 504x648 with 1 Axes>"
      ]
     },
     "metadata": {
      "needs_background": "light"
     },
     "output_type": "display_data"
    }
   ],
   "source": [
    "scatter ('fuel_type', 'Тип топлива', 'зависимость мощности от типа топлива')"
   ]
  },
  {
   "cell_type": "code",
   "execution_count": 21,
   "metadata": {},
   "outputs": [
    {
     "data": {
      "image/png": "[encoded data removed]",
      "text/plain": [
       "<Figure size 504x648 with 1 Axes>"
      ]
     },
     "metadata": {
      "needs_background": "light"
     },
     "output_type": "display_data"
    }
   ],
   "source": [
    "scatter ('vehicle_type', 'Тип кузова', 'зависимость мощности от типа кузова')"
   ]
  },
  {
   "cell_type": "code",
   "execution_count": 22,
   "metadata": {},
   "outputs": [
    {
     "data": {
      "image/png": "[encoded data removed]",
      "text/plain": [
       "<Figure size 504x648 with 1 Axes>"
      ]
     },
     "metadata": {
      "needs_background": "light"
     },
     "output_type": "display_data"
    }
   ],
   "source": [
    "scatter ('repaired', 'Ремонтировалось ли авто', 'зависимость мощности от ремонта автомобиля')"
   ]
  },
  {
   "cell_type": "code",
   "execution_count": 23,
   "metadata": {},
   "outputs": [
    {
     "data": {
      "image/png": "[encoded data removed]",
      "text/plain": [
       "<Figure size 504x648 with 1 Axes>"
      ]
     },
     "metadata": {
      "needs_background": "light"
     },
     "output_type": "display_data"
    }
   ],
   "source": [
    "scatter ('registration_year', 'Год регистрации', 'зависимость мощности от года регистрации авто')"
   ]
  },
  {
   "cell_type": "code",
   "execution_count": 24,
   "metadata": {},
   "outputs": [
    {
     "data": {
      "image/png": "[encoded data removed]",
      "text/plain": [
       "<Figure size 504x648 with 1 Axes>"
      ]
     },
     "metadata": {
      "needs_background": "light"
     },
     "output_type": "display_data"
    }
   ],
   "source": [
    "scatter ('brand', 'Брэнд авто', 'зависимость мощности от брэнда автомобиля')"
   ]
  },
  {
   "cell_type": "markdown",
   "metadata": {},
   "source": [
    "Нельзя сказать, что данный параметр сильно зависит от другого. Удалим все невалидные наблюдения."
   ]
  },
  {
   "cell_type": "code",
   "execution_count": 25,
   "metadata": {},
   "outputs": [],
   "source": [
    "Low = data['power'].quantile(0.1)\n",
    "High = data['power'].quantile(0.75)\n",
    "data = data[data['power'] >= Low]\n",
    "data = data[data['power'] <= High]"
   ]
  },
  {
   "cell_type": "code",
   "execution_count": 26,
   "metadata": {},
   "outputs": [
    {
     "data": {
      "image/png": "[encoded data removed]",
      "text/plain": [
       "<Figure size 504x648 with 1 Axes>"
      ]
     },
     "metadata": {
      "needs_background": "light"
     },
     "output_type": "display_data"
    }
   ],
   "source": [
    "data['power'].plot.box();\n",
    "plt.title('Мощность автомобиля');\n",
    "plt.ylabel('мощность');"
   ]
  },
  {
   "cell_type": "markdown",
   "metadata": {},
   "source": [
    "Хотелось бы понять, от каких столбцов нам следует избавиться для дальнейшей работы.\n",
    "\n",
    "Поставленная задача - быстро узнать рыночную стоимость своего автомобиля автовладельцем. Не факт, что все признаки будут влиять на стоимость авто. Например, столбцы с датами и время последней активности пользователя для нас не играют никакой роли.\n",
    "\n",
    "А также количество фото и почтовый индекс пользователя."
   ]
  },
  {
   "cell_type": "code",
   "execution_count": 27,
   "metadata": {},
   "outputs": [],
   "source": [
    "data = data.drop(['date_crawled', 'date_created', 'registration_month', 'last_seen', 'number_of_pictures', 'postal_code'], axis=1)"
   ]
  },
  {
   "cell_type": "markdown",
   "metadata": {},
   "source": [
    "Узнаем в каких столбцах есть пропуски. "
   ]
  },
  {
   "cell_type": "code",
   "execution_count": 28,
   "metadata": {},
   "outputs": [
    {
     "data": {
      "text/plain": [
       "price                    0\n",
       "vehicle_type          8781\n",
       "registration_year        0\n",
       "gearbox               4132\n",
       "power                    0\n",
       "model                 7307\n",
       "kilometer                0\n",
       "fuel_type            11592\n",
       "brand                    0\n",
       "repaired             31984\n",
       "dtype: int64"
      ]
     },
     "execution_count": 28,
     "metadata": {},
     "output_type": "execute_result"
    }
   ],
   "source": [
    "data.isna().sum() "
   ]
  },
  {
   "cell_type": "markdown",
   "metadata": {},
   "source": [
    "Проверим, от чего сильнее всего зависит стоимость авто на рынке."
   ]
  },
  {
   "cell_type": "code",
   "execution_count": 29,
   "metadata": {},
   "outputs": [],
   "source": [
    "def scatter (column, yname, title):\n",
    "    \n",
    "    plt.plot(data['price'], data[column].astype(str), 'o')\n",
    "\n",
    "    plt.xlabel('Стоимость авто')\n",
    "    plt.ylabel(yname)\n",
    "    plt.title(title);"
   ]
  },
  {
   "cell_type": "code",
   "execution_count": 30,
   "metadata": {},
   "outputs": [
    {
     "data": {
      "image/png": "[encoded data removed]",
      "text/plain": [
       "<Figure size 504x648 with 1 Axes>"
      ]
     },
     "metadata": {
      "needs_background": "light"
     },
     "output_type": "display_data"
    }
   ],
   "source": [
    "scatter ('fuel_type', 'Тип топлива', 'зависимость цены от типа топлива')"
   ]
  },
  {
   "cell_type": "code",
   "execution_count": 31,
   "metadata": {},
   "outputs": [
    {
     "data": {
      "image/png": "[encoded data removed]",
      "text/plain": [
       "<Figure size 504x648 with 1 Axes>"
      ]
     },
     "metadata": {
      "needs_background": "light"
     },
     "output_type": "display_data"
    }
   ],
   "source": [
    "scatter ('vehicle_type', 'Тип кузова', 'зависимость цены от типа кузова')"
   ]
  },
  {
   "cell_type": "code",
   "execution_count": 32,
   "metadata": {},
   "outputs": [
    {
     "data": {
      "image/png": "[encoded data removed]",
      "text/plain": [
       "<Figure size 504x648 with 1 Axes>"
      ]
     },
     "metadata": {
      "needs_background": "light"
     },
     "output_type": "display_data"
    }
   ],
   "source": [
    "scatter ('repaired', 'Ремонтировалась ли машина', 'зависимость цены от ремонта машины')"
   ]
  },
  {
   "cell_type": "code",
   "execution_count": 33,
   "metadata": {},
   "outputs": [
    {
     "data": {
      "image/png": "[encoded data removed]",
      "text/plain": [
       "<Figure size 504x648 with 1 Axes>"
      ]
     },
     "metadata": {
      "needs_background": "light"
     },
     "output_type": "display_data"
    }
   ],
   "source": [
    "scatter ('gearbox', 'Тип коробки передач', 'зависимость цены от типа коробки передач         ')"
   ]
  },
  {
   "cell_type": "markdown",
   "metadata": {},
   "source": [
    "Явной зависимости не наблюдается."
   ]
  },
  {
   "cell_type": "markdown",
   "metadata": {},
   "source": [
    "К сожалению, мы не можем заменить значения в этих столбцах на какие-либо, так как это исказит данные. Придется избавиться от пропусков, заменив их заглушкой . \n",
    "\n",
    "Также столбец `model` заполнить мы тоже не можем, моделей очень большое количество и нельзя угадать ту самую."
   ]
  },
  {
   "cell_type": "code",
   "execution_count": 34,
   "metadata": {},
   "outputs": [],
   "source": [
    "data = data.fillna('unknown')"
   ]
  },
  {
   "cell_type": "code",
   "execution_count": 35,
   "metadata": {},
   "outputs": [
    {
     "data": {
      "text/plain": [
       "price                0\n",
       "vehicle_type         0\n",
       "registration_year    0\n",
       "gearbox              0\n",
       "power                0\n",
       "model                0\n",
       "kilometer            0\n",
       "fuel_type            0\n",
       "brand                0\n",
       "repaired             0\n",
       "dtype: int64"
      ]
     },
     "execution_count": 35,
     "metadata": {},
     "output_type": "execute_result"
    }
   ],
   "source": [
    "data.isna().sum() "
   ]
  },
  {
   "cell_type": "markdown",
   "metadata": {},
   "source": [
    "Теперь, когда мы имеем данные без пропусков в них, еще раз проверим на аномальные значения и избавимся от оставшихся."
   ]
  },
  {
   "cell_type": "code",
   "execution_count": 36,
   "metadata": {},
   "outputs": [
    {
     "data": {
      "text/html": [
       "<div>\n",
       "<style scoped>\n",
       "    .dataframe tbody tr th:only-of-type {\n",
       "        vertical-align: middle;\n",
       "    }\n",
       "\n",
       "    .dataframe tbody tr th {\n",
       "        vertical-align: top;\n",
       "    }\n",
       "\n",
       "    .dataframe thead th {\n",
       "        text-align: right;\n",
       "    }\n",
       "</style>\n",
       "<table border=\"1\" class=\"dataframe\">\n",
       "  <thead>\n",
       "    <tr style=\"text-align: right;\">\n",
       "      <th></th>\n",
       "      <th>price</th>\n",
       "      <th>vehicle_type</th>\n",
       "      <th>registration_year</th>\n",
       "      <th>gearbox</th>\n",
       "      <th>power</th>\n",
       "      <th>model</th>\n",
       "      <th>kilometer</th>\n",
       "      <th>fuel_type</th>\n",
       "      <th>brand</th>\n",
       "      <th>repaired</th>\n",
       "    </tr>\n",
       "  </thead>\n",
       "  <tbody>\n",
       "    <tr>\n",
       "      <th>0</th>\n",
       "      <td>1500.0</td>\n",
       "      <td>small</td>\n",
       "      <td>2001</td>\n",
       "      <td>manual</td>\n",
       "      <td>75</td>\n",
       "      <td>golf</td>\n",
       "      <td>150000</td>\n",
       "      <td>petrol</td>\n",
       "      <td>volkswagen</td>\n",
       "      <td>no</td>\n",
       "    </tr>\n",
       "    <tr>\n",
       "      <th>1</th>\n",
       "      <td>3600.0</td>\n",
       "      <td>small</td>\n",
       "      <td>2008</td>\n",
       "      <td>manual</td>\n",
       "      <td>69</td>\n",
       "      <td>fabia</td>\n",
       "      <td>90000</td>\n",
       "      <td>gasoline</td>\n",
       "      <td>skoda</td>\n",
       "      <td>no</td>\n",
       "    </tr>\n",
       "    <tr>\n",
       "      <th>2</th>\n",
       "      <td>650.0</td>\n",
       "      <td>sedan</td>\n",
       "      <td>1995</td>\n",
       "      <td>manual</td>\n",
       "      <td>102</td>\n",
       "      <td>3er</td>\n",
       "      <td>150000</td>\n",
       "      <td>petrol</td>\n",
       "      <td>bmw</td>\n",
       "      <td>yes</td>\n",
       "    </tr>\n",
       "    <tr>\n",
       "      <th>3</th>\n",
       "      <td>2200.0</td>\n",
       "      <td>convertible</td>\n",
       "      <td>2004</td>\n",
       "      <td>manual</td>\n",
       "      <td>109</td>\n",
       "      <td>2_reihe</td>\n",
       "      <td>150000</td>\n",
       "      <td>petrol</td>\n",
       "      <td>peugeot</td>\n",
       "      <td>no</td>\n",
       "    </tr>\n",
       "    <tr>\n",
       "      <th>4</th>\n",
       "      <td>14500.0</td>\n",
       "      <td>bus</td>\n",
       "      <td>2014</td>\n",
       "      <td>manual</td>\n",
       "      <td>125</td>\n",
       "      <td>c_max</td>\n",
       "      <td>30000</td>\n",
       "      <td>petrol</td>\n",
       "      <td>ford</td>\n",
       "      <td>unknown</td>\n",
       "    </tr>\n",
       "    <tr>\n",
       "      <th>...</th>\n",
       "      <td>...</td>\n",
       "      <td>...</td>\n",
       "      <td>...</td>\n",
       "      <td>...</td>\n",
       "      <td>...</td>\n",
       "      <td>...</td>\n",
       "      <td>...</td>\n",
       "      <td>...</td>\n",
       "      <td>...</td>\n",
       "      <td>...</td>\n",
       "    </tr>\n",
       "    <tr>\n",
       "      <th>210578</th>\n",
       "      <td>1490.0</td>\n",
       "      <td>small</td>\n",
       "      <td>1998</td>\n",
       "      <td>manual</td>\n",
       "      <td>50</td>\n",
       "      <td>lupo</td>\n",
       "      <td>150000</td>\n",
       "      <td>petrol</td>\n",
       "      <td>volkswagen</td>\n",
       "      <td>no</td>\n",
       "    </tr>\n",
       "    <tr>\n",
       "      <th>210579</th>\n",
       "      <td>7900.0</td>\n",
       "      <td>sedan</td>\n",
       "      <td>2010</td>\n",
       "      <td>manual</td>\n",
       "      <td>140</td>\n",
       "      <td>golf</td>\n",
       "      <td>150000</td>\n",
       "      <td>gasoline</td>\n",
       "      <td>volkswagen</td>\n",
       "      <td>no</td>\n",
       "    </tr>\n",
       "    <tr>\n",
       "      <th>210580</th>\n",
       "      <td>1199.0</td>\n",
       "      <td>convertible</td>\n",
       "      <td>2000</td>\n",
       "      <td>auto</td>\n",
       "      <td>101</td>\n",
       "      <td>fortwo</td>\n",
       "      <td>125000</td>\n",
       "      <td>petrol</td>\n",
       "      <td>smart</td>\n",
       "      <td>no</td>\n",
       "    </tr>\n",
       "    <tr>\n",
       "      <th>210581</th>\n",
       "      <td>9200.0</td>\n",
       "      <td>bus</td>\n",
       "      <td>1996</td>\n",
       "      <td>manual</td>\n",
       "      <td>102</td>\n",
       "      <td>transporter</td>\n",
       "      <td>150000</td>\n",
       "      <td>gasoline</td>\n",
       "      <td>volkswagen</td>\n",
       "      <td>no</td>\n",
       "    </tr>\n",
       "    <tr>\n",
       "      <th>210582</th>\n",
       "      <td>3400.0</td>\n",
       "      <td>wagon</td>\n",
       "      <td>2002</td>\n",
       "      <td>manual</td>\n",
       "      <td>100</td>\n",
       "      <td>golf</td>\n",
       "      <td>150000</td>\n",
       "      <td>gasoline</td>\n",
       "      <td>volkswagen</td>\n",
       "      <td>unknown</td>\n",
       "    </tr>\n",
       "  </tbody>\n",
       "</table>\n",
       "<p>210583 rows × 10 columns</p>\n",
       "</div>"
      ],
      "text/plain": [
       "          price vehicle_type  registration_year gearbox  power        model  \\\n",
       "0        1500.0        small               2001  manual     75         golf   \n",
       "1        3600.0        small               2008  manual     69        fabia   \n",
       "2         650.0        sedan               1995  manual    102          3er   \n",
       "3        2200.0  convertible               2004  manual    109      2_reihe   \n",
       "4       14500.0          bus               2014  manual    125        c_max   \n",
       "...         ...          ...                ...     ...    ...          ...   \n",
       "210578   1490.0        small               1998  manual     50         lupo   \n",
       "210579   7900.0        sedan               2010  manual    140         golf   \n",
       "210580   1199.0  convertible               2000    auto    101       fortwo   \n",
       "210581   9200.0          bus               1996  manual    102  transporter   \n",
       "210582   3400.0        wagon               2002  manual    100         golf   \n",
       "\n",
       "        kilometer fuel_type       brand repaired  \n",
       "0          150000    petrol  volkswagen       no  \n",
       "1           90000  gasoline       skoda       no  \n",
       "2          150000    petrol         bmw      yes  \n",
       "3          150000    petrol     peugeot       no  \n",
       "4           30000    petrol        ford  unknown  \n",
       "...           ...       ...         ...      ...  \n",
       "210578     150000    petrol  volkswagen       no  \n",
       "210579     150000  gasoline  volkswagen       no  \n",
       "210580     125000    petrol       smart       no  \n",
       "210581     150000  gasoline  volkswagen       no  \n",
       "210582     150000  gasoline  volkswagen  unknown  \n",
       "\n",
       "[210583 rows x 10 columns]"
      ]
     },
     "execution_count": 36,
     "metadata": {},
     "output_type": "execute_result"
    }
   ],
   "source": [
    "data.reset_index(drop= True , inplace= True )\n",
    "data"
   ]
  },
  {
   "cell_type": "code",
   "execution_count": 37,
   "metadata": {},
   "outputs": [],
   "source": [
    "def visual (column, xname, bins, title):          \n",
    "    sns.histplot(data=data[column], bins=bins);\n",
    "    plt.xlabel(xname);\n",
    "    plt.ylabel('Количество объявлений');\n",
    "    plt.title(title)\n",
    "    plt.show()      "
   ]
  },
  {
   "cell_type": "code",
   "execution_count": 38,
   "metadata": {},
   "outputs": [
    {
     "data": {
      "image/png": "[encoded data removed]",
      "text/plain": [
       "<Figure size 504x648 with 1 Axes>"
      ]
     },
     "metadata": {
      "needs_background": "light"
     },
     "output_type": "display_data"
    }
   ],
   "source": [
    "visual ('price', 'Цена', 70, 'Распределение объявлений по цене авто')  "
   ]
  },
  {
   "cell_type": "code",
   "execution_count": 39,
   "metadata": {
    "scrolled": false
   },
   "outputs": [
    {
     "data": {
      "image/png": "[encoded data removed]",
      "text/plain": [
       "<Figure size 504x648 with 1 Axes>"
      ]
     },
     "metadata": {
      "needs_background": "light"
     },
     "output_type": "display_data"
    }
   ],
   "source": [
    "visual ('registration_year', 'Год регистрации авто', 20, 'Распределение объявлений по году регистрации автомобиля')  "
   ]
  },
  {
   "cell_type": "code",
   "execution_count": 40,
   "metadata": {},
   "outputs": [
    {
     "data": {
      "image/png": "[encoded data removed]",
      "text/plain": [
       "<Figure size 504x648 with 1 Axes>"
      ]
     },
     "metadata": {
      "needs_background": "light"
     },
     "output_type": "display_data"
    }
   ],
   "source": [
    "visual ('kilometer', 'Километраж', 40, 'Распределение объявлений по пробегу автомобиля ')"
   ]
  },
  {
   "cell_type": "markdown",
   "metadata": {},
   "source": [
    "Так как основная масса автомобилей с пробегом, такой показатель - норма."
   ]
  },
  {
   "cell_type": "markdown",
   "metadata": {},
   "source": [
    "Все показатели без явных выбросов, пропуски заполнены, где это было возможно, остальные данные очищены."
   ]
  },
  {
   "cell_type": "markdown",
   "metadata": {},
   "source": [
    "**Разделим выборку на признаки и целевую переменную**. "
   ]
  },
  {
   "cell_type": "code",
   "execution_count": 42,
   "metadata": {},
   "outputs": [],
   "source": [
    "# Разделение на признаки (X) и целевую переменную (y)\n",
    "\n",
    "X = data.drop(columns=['price'], axis=1)\n",
    "y = data['price']"
   ]
  },
  {
   "cell_type": "code",
   "execution_count": 43,
   "metadata": {},
   "outputs": [
    {
     "name": "stdout",
     "output_type": "stream",
     "text": [
      "(210583, 9)\n",
      "(210583,)\n",
      "\n",
      "Размеры обучающей выборки:\n",
      "(168466, 9)\n",
      "(168466,)\n",
      "\n",
      "Размеры тестовой выборки:\n",
      "(42117, 9)\n",
      "(42117,)\n"
     ]
    }
   ],
   "source": [
    "# 2. Разделение данных на обучающую, валидационную и тестовую выборки\n",
    "\n",
    "X_train, X_test, y_train, y_test = train_test_split(X, y, test_size=0.2, random_state=42)\n",
    "\n",
    "print(X.shape)\n",
    "print(y.shape)\n",
    "print()\n",
    "print('Размеры обучающей выборки:')\n",
    "print(X_train.shape)\n",
    "print(y_train.shape)\n",
    "print()\n",
    "print('Размеры тестовой выборки:')\n",
    "print(X_test.shape)\n",
    "print(y_test.shape)"
   ]
  },
  {
   "cell_type": "markdown",
   "metadata": {},
   "source": [
    "## Обучение моделей"
   ]
  },
  {
   "cell_type": "code",
   "execution_count": 44,
   "metadata": {},
   "outputs": [],
   "source": [
    "# создадим функцию, которая будет подбирать гиперпараметры для указанной ей модели\n",
    "# затем данная функция будет проводить кросс-валидацию по метрике RMSE\n",
    "\n",
    "def score(model_name, params, features, target):\n",
    "    model = model_name\n",
    "    parametrs = params    \n",
    "    grid = GridSearchCV(model, parametrs, scoring='neg_mean_squared_error', cv=3) \n",
    "    grid.fit(features, target)    \n",
    "    print('RMSE модели:', (-grid.best_score_)**0.5)\n",
    "    print('лучшие параметры:', grid.best_estimator_)"
   ]
  },
  {
   "cell_type": "markdown",
   "metadata": {},
   "source": [
    "Воспользуемся кодировкой данных для линейной регрессии с помощью `OneHotEncoder`."
   ]
  },
  {
   "cell_type": "code",
   "execution_count": 45,
   "metadata": {},
   "outputs": [],
   "source": [
    "X_train_ohe = X_train.copy()"
   ]
  },
  {
   "cell_type": "code",
   "execution_count": 46,
   "metadata": {},
   "outputs": [],
   "source": [
    "# признак repaired уже бинарный, его не будем кодировать/масштабировать\n",
    "# добавляем remainder='passthrough', чтобы он не пропал\n",
    "\n",
    "X_features_ohe = X_train_ohe.select_dtypes(include='object').columns.to_list()\n",
    "numeric_features = ['power', 'registration_year', 'kilometer']\n",
    "\n",
    "col_transformer = make_column_transformer(\n",
    "    (OneHotEncoder(drop='first', handle_unknown='ignore'), X_features_ohe),\n",
    "    (StandardScaler(), numeric_features),\n",
    "    remainder='passthrough',\n",
    "    verbose_feature_names_out=False)\n",
    "\n",
    "# всё готово в пару строк кода\n",
    "X_train_ohe = pd.DataFrame.sparse.from_spmatrix(\n",
    "    col_transformer.fit_transform(X_train_ohe),\n",
    "    columns=col_transformer.get_feature_names_out())"
   ]
  },
  {
   "cell_type": "code",
   "execution_count": 47,
   "metadata": {},
   "outputs": [
    {
     "name": "stdout",
     "output_type": "stream",
     "text": [
      "RMSE модели: 1880.6536386710554\n",
      "лучшие параметры: LinearRegression()\n"
     ]
    }
   ],
   "source": [
    "# для начала рассмотрим модель линейной регрессии\n",
    "\n",
    "score(LinearRegression(), {}, X_train_ohe, y_train)"
   ]
  },
  {
   "cell_type": "code",
   "execution_count": 48,
   "metadata": {},
   "outputs": [
    {
     "name": "stdout",
     "output_type": "stream",
     "text": [
      "CPU times: user 9.01 s, sys: 17.4 s, total: 26.4 s\n",
      "Wall time: 26.5 s\n"
     ]
    },
    {
     "data": {
      "text/html": [
       "<style>#sk-container-id-1 {color: black;background-color: white;}#sk-container-id-1 pre{padding: 0;}#sk-container-id-1 div.sk-toggleable {background-color: white;}#sk-container-id-1 label.sk-toggleable__label {cursor: pointer;display: block;width: 100%;margin-bottom: 0;padding: 0.3em;box-sizing: border-box;text-align: center;}#sk-container-id-1 label.sk-toggleable__label-arrow:before {content: \"▸\";float: left;margin-right: 0.25em;color: #696969;}#sk-container-id-1 label.sk-toggleable__label-arrow:hover:before {color: black;}#sk-container-id-1 div.sk-estimator:hover label.sk-toggleable__label-arrow:before {color: black;}#sk-container-id-1 div.sk-toggleable__content {max-height: 0;max-width: 0;overflow: hidden;text-align: left;background-color: #f0f8ff;}#sk-container-id-1 div.sk-toggleable__content pre {margin: 0.2em;color: black;border-radius: 0.25em;background-color: #f0f8ff;}#sk-container-id-1 input.sk-toggleable__control:checked~div.sk-toggleable__content {max-height: 200px;max-width: 100%;overflow: auto;}#sk-container-id-1 input.sk-toggleable__control:checked~label.sk-toggleable__label-arrow:before {content: \"▾\";}#sk-container-id-1 div.sk-estimator input.sk-toggleable__control:checked~label.sk-toggleable__label {background-color: #d4ebff;}#sk-container-id-1 div.sk-label input.sk-toggleable__control:checked~label.sk-toggleable__label {background-color: #d4ebff;}#sk-container-id-1 input.sk-hidden--visually {border: 0;clip: rect(1px 1px 1px 1px);clip: rect(1px, 1px, 1px, 1px);height: 1px;margin: -1px;overflow: hidden;padding: 0;position: absolute;width: 1px;}#sk-container-id-1 div.sk-estimator {font-family: monospace;background-color: #f0f8ff;border: 1px dotted black;border-radius: 0.25em;box-sizing: border-box;margin-bottom: 0.5em;}#sk-container-id-1 div.sk-estimator:hover {background-color: #d4ebff;}#sk-container-id-1 div.sk-parallel-item::after {content: \"\";width: 100%;border-bottom: 1px solid gray;flex-grow: 1;}#sk-container-id-1 div.sk-label:hover label.sk-toggleable__label {background-color: #d4ebff;}#sk-container-id-1 div.sk-serial::before {content: \"\";position: absolute;border-left: 1px solid gray;box-sizing: border-box;top: 0;bottom: 0;left: 50%;z-index: 0;}#sk-container-id-1 div.sk-serial {display: flex;flex-direction: column;align-items: center;background-color: white;padding-right: 0.2em;padding-left: 0.2em;position: relative;}#sk-container-id-1 div.sk-item {position: relative;z-index: 1;}#sk-container-id-1 div.sk-parallel {display: flex;align-items: stretch;justify-content: center;background-color: white;position: relative;}#sk-container-id-1 div.sk-item::before, #sk-container-id-1 div.sk-parallel-item::before {content: \"\";position: absolute;border-left: 1px solid gray;box-sizing: border-box;top: 0;bottom: 0;left: 50%;z-index: -1;}#sk-container-id-1 div.sk-parallel-item {display: flex;flex-direction: column;z-index: 1;position: relative;background-color: white;}#sk-container-id-1 div.sk-parallel-item:first-child::after {align-self: flex-end;width: 50%;}#sk-container-id-1 div.sk-parallel-item:last-child::after {align-self: flex-start;width: 50%;}#sk-container-id-1 div.sk-parallel-item:only-child::after {width: 0;}#sk-container-id-1 div.sk-dashed-wrapped {border: 1px dashed gray;margin: 0 0.4em 0.5em 0.4em;box-sizing: border-box;padding-bottom: 0.4em;background-color: white;}#sk-container-id-1 div.sk-label label {font-family: monospace;font-weight: bold;display: inline-block;line-height: 1.2em;}#sk-container-id-1 div.sk-label-container {text-align: center;}#sk-container-id-1 div.sk-container {/* jupyter's `normalize.less` sets `[hidden] { display: none; }` but bootstrap.min.css set `[hidden] { display: none !important; }` so we also need the `!important` here to be able to override the default hidden behavior on the sphinx rendered scikit-learn.org. See: https://github.com/scikit-learn/scikit-learn/issues/21755 */display: inline-block !important;position: relative;}#sk-container-id-1 div.sk-text-repr-fallback {display: none;}</style><div id=\"sk-container-id-1\" class=\"sk-top-container\"><div class=\"sk-text-repr-fallback\"><pre>LinearRegression()</pre><b>In a Jupyter environment, please rerun this cell to show the HTML representation or trust the notebook. <br />On GitHub, the HTML representation is unable to render, please try loading this page with nbviewer.org.</b></div><div class=\"sk-container\" hidden><div class=\"sk-item\"><div class=\"sk-estimator sk-toggleable\"><input class=\"sk-toggleable__control sk-hidden--visually\" id=\"sk-estimator-id-1\" type=\"checkbox\" checked><label for=\"sk-estimator-id-1\" class=\"sk-toggleable__label sk-toggleable__label-arrow\">LinearRegression</label><div class=\"sk-toggleable__content\"><pre>LinearRegression()</pre></div></div></div></div></div>"
      ],
      "text/plain": [
       "LinearRegression()"
      ]
     },
     "execution_count": 48,
     "metadata": {},
     "output_type": "execute_result"
    }
   ],
   "source": [
    "%%time\n",
    "model = LinearRegression()\n",
    "model.fit(X_train_ohe, y_train);"
   ]
  },
  {
   "cell_type": "code",
   "execution_count": 49,
   "metadata": {},
   "outputs": [
    {
     "name": "stdout",
     "output_type": "stream",
     "text": [
      "CPU times: user 62.3 ms, sys: 79.9 ms, total: 142 ms\n",
      "Wall time: 202 ms\n"
     ]
    }
   ],
   "source": [
    "%%time\n",
    "predicts = model.predict(X_train_ohe)"
   ]
  },
  {
   "cell_type": "markdown",
   "metadata": {},
   "source": [
    "Результат подходит под требуемый: Значение метрики RMSE - 1880.\n",
    "Время затраченное на обработку ячейки обучения: 26 секунд. Предсказание - 51 мсекунда."
   ]
  },
  {
   "cell_type": "markdown",
   "metadata": {},
   "source": [
    "И воспользуемся `OrdinalEncoder` для кодировки признаков для древесных моделей."
   ]
  },
  {
   "cell_type": "code",
   "execution_count": 50,
   "metadata": {},
   "outputs": [],
   "source": [
    "X_train_ordinal = X_train.copy()\n",
    "X_test_ordinal = X_test.copy()"
   ]
  },
  {
   "cell_type": "code",
   "execution_count": 51,
   "metadata": {},
   "outputs": [
    {
     "data": {
      "text/html": [
       "<div>\n",
       "<style scoped>\n",
       "    .dataframe tbody tr th:only-of-type {\n",
       "        vertical-align: middle;\n",
       "    }\n",
       "\n",
       "    .dataframe tbody tr th {\n",
       "        vertical-align: top;\n",
       "    }\n",
       "\n",
       "    .dataframe thead th {\n",
       "        text-align: right;\n",
       "    }\n",
       "</style>\n",
       "<table border=\"1\" class=\"dataframe\">\n",
       "  <thead>\n",
       "    <tr style=\"text-align: right;\">\n",
       "      <th></th>\n",
       "      <th>vehicle_type</th>\n",
       "      <th>registration_year</th>\n",
       "      <th>gearbox</th>\n",
       "      <th>power</th>\n",
       "      <th>model</th>\n",
       "      <th>kilometer</th>\n",
       "      <th>fuel_type</th>\n",
       "      <th>brand</th>\n",
       "      <th>repaired</th>\n",
       "    </tr>\n",
       "  </thead>\n",
       "  <tbody>\n",
       "    <tr>\n",
       "      <th>158898</th>\n",
       "      <td>5.0</td>\n",
       "      <td>2010</td>\n",
       "      <td>1.0</td>\n",
       "      <td>69</td>\n",
       "      <td>119.0</td>\n",
       "      <td>100000</td>\n",
       "      <td>6.0</td>\n",
       "      <td>10.0</td>\n",
       "      <td>0.0</td>\n",
       "    </tr>\n",
       "    <tr>\n",
       "      <th>192037</th>\n",
       "      <td>5.0</td>\n",
       "      <td>2000</td>\n",
       "      <td>1.0</td>\n",
       "      <td>75</td>\n",
       "      <td>94.0</td>\n",
       "      <td>125000</td>\n",
       "      <td>6.0</td>\n",
       "      <td>10.0</td>\n",
       "      <td>0.0</td>\n",
       "    </tr>\n",
       "    <tr>\n",
       "      <th>136798</th>\n",
       "      <td>8.0</td>\n",
       "      <td>2002</td>\n",
       "      <td>1.0</td>\n",
       "      <td>131</td>\n",
       "      <td>161.0</td>\n",
       "      <td>150000</td>\n",
       "      <td>2.0</td>\n",
       "      <td>38.0</td>\n",
       "      <td>0.0</td>\n",
       "    </tr>\n",
       "    <tr>\n",
       "      <th>165492</th>\n",
       "      <td>5.0</td>\n",
       "      <td>2009</td>\n",
       "      <td>1.0</td>\n",
       "      <td>76</td>\n",
       "      <td>210.0</td>\n",
       "      <td>125000</td>\n",
       "      <td>6.0</td>\n",
       "      <td>27.0</td>\n",
       "      <td>0.0</td>\n",
       "    </tr>\n",
       "    <tr>\n",
       "      <th>155193</th>\n",
       "      <td>4.0</td>\n",
       "      <td>2004</td>\n",
       "      <td>1.0</td>\n",
       "      <td>85</td>\n",
       "      <td>107.0</td>\n",
       "      <td>150000</td>\n",
       "      <td>6.0</td>\n",
       "      <td>38.0</td>\n",
       "      <td>1.0</td>\n",
       "    </tr>\n",
       "  </tbody>\n",
       "</table>\n",
       "</div>"
      ],
      "text/plain": [
       "        vehicle_type  registration_year  gearbox  power  model  kilometer  \\\n",
       "158898           5.0               2010      1.0     69  119.0     100000   \n",
       "192037           5.0               2000      1.0     75   94.0     125000   \n",
       "136798           8.0               2002      1.0    131  161.0     150000   \n",
       "165492           5.0               2009      1.0     76  210.0     125000   \n",
       "155193           4.0               2004      1.0     85  107.0     150000   \n",
       "\n",
       "        fuel_type  brand  repaired  \n",
       "158898        6.0   10.0       0.0  \n",
       "192037        6.0   10.0       0.0  \n",
       "136798        2.0   38.0       0.0  \n",
       "165492        6.0   27.0       0.0  \n",
       "155193        6.0   38.0       1.0  "
      ]
     },
     "metadata": {},
     "output_type": "display_data"
    },
    {
     "data": {
      "text/html": [
       "<div>\n",
       "<style scoped>\n",
       "    .dataframe tbody tr th:only-of-type {\n",
       "        vertical-align: middle;\n",
       "    }\n",
       "\n",
       "    .dataframe tbody tr th {\n",
       "        vertical-align: top;\n",
       "    }\n",
       "\n",
       "    .dataframe thead th {\n",
       "        text-align: right;\n",
       "    }\n",
       "</style>\n",
       "<table border=\"1\" class=\"dataframe\">\n",
       "  <thead>\n",
       "    <tr style=\"text-align: right;\">\n",
       "      <th></th>\n",
       "      <th>vehicle_type</th>\n",
       "      <th>registration_year</th>\n",
       "      <th>gearbox</th>\n",
       "      <th>power</th>\n",
       "      <th>model</th>\n",
       "      <th>kilometer</th>\n",
       "      <th>fuel_type</th>\n",
       "      <th>brand</th>\n",
       "      <th>repaired</th>\n",
       "    </tr>\n",
       "  </thead>\n",
       "  <tbody>\n",
       "    <tr>\n",
       "      <th>29762</th>\n",
       "      <td>5.0</td>\n",
       "      <td>2004</td>\n",
       "      <td>1.0</td>\n",
       "      <td>63</td>\n",
       "      <td>101.0</td>\n",
       "      <td>150000</td>\n",
       "      <td>6.0</td>\n",
       "      <td>12.0</td>\n",
       "      <td>1.0</td>\n",
       "    </tr>\n",
       "    <tr>\n",
       "      <th>33343</th>\n",
       "      <td>8.0</td>\n",
       "      <td>2000</td>\n",
       "      <td>1.0</td>\n",
       "      <td>116</td>\n",
       "      <td>14.0</td>\n",
       "      <td>150000</td>\n",
       "      <td>4.0</td>\n",
       "      <td>19.0</td>\n",
       "      <td>0.0</td>\n",
       "    </tr>\n",
       "    <tr>\n",
       "      <th>71571</th>\n",
       "      <td>1.0</td>\n",
       "      <td>2005</td>\n",
       "      <td>1.0</td>\n",
       "      <td>109</td>\n",
       "      <td>7.0</td>\n",
       "      <td>125000</td>\n",
       "      <td>6.0</td>\n",
       "      <td>25.0</td>\n",
       "      <td>0.0</td>\n",
       "    </tr>\n",
       "    <tr>\n",
       "      <th>137734</th>\n",
       "      <td>8.0</td>\n",
       "      <td>2003</td>\n",
       "      <td>1.0</td>\n",
       "      <td>75</td>\n",
       "      <td>89.0</td>\n",
       "      <td>150000</td>\n",
       "      <td>6.0</td>\n",
       "      <td>30.0</td>\n",
       "      <td>1.0</td>\n",
       "    </tr>\n",
       "    <tr>\n",
       "      <th>198368</th>\n",
       "      <td>1.0</td>\n",
       "      <td>1998</td>\n",
       "      <td>1.0</td>\n",
       "      <td>110</td>\n",
       "      <td>140.0</td>\n",
       "      <td>150000</td>\n",
       "      <td>6.0</td>\n",
       "      <td>19.0</td>\n",
       "      <td>0.0</td>\n",
       "    </tr>\n",
       "  </tbody>\n",
       "</table>\n",
       "</div>"
      ],
      "text/plain": [
       "        vehicle_type  registration_year  gearbox  power  model  kilometer  \\\n",
       "29762            5.0               2004      1.0     63  101.0     150000   \n",
       "33343            8.0               2000      1.0    116   14.0     150000   \n",
       "71571            1.0               2005      1.0    109    7.0     125000   \n",
       "137734           8.0               2003      1.0     75   89.0     150000   \n",
       "198368           1.0               1998      1.0    110  140.0     150000   \n",
       "\n",
       "        fuel_type  brand  repaired  \n",
       "29762         6.0   12.0       1.0  \n",
       "33343         4.0   19.0       0.0  \n",
       "71571         6.0   25.0       0.0  \n",
       "137734        6.0   30.0       1.0  \n",
       "198368        6.0   19.0       0.0  "
      ]
     },
     "metadata": {},
     "output_type": "display_data"
    }
   ],
   "source": [
    "X_features_ordinal = X_train_ordinal.select_dtypes(include='object').columns.to_list() \n",
    "encoder_ordinal = OrdinalEncoder(handle_unknown='use_encoded_value', unknown_value = y.median().astype(int))\n",
    "\n",
    "# обучаем энкодер на заданных категориальных признаках тренировочной выборки\n",
    "encoder_ordinal.fit(X_train_ordinal[X_features_ordinal])\n",
    "\n",
    "# кодируем тренировочную выборку\n",
    "X_train_ordinal[encoder_ordinal.get_feature_names_out()] = encoder_ordinal.transform(X_train_ordinal[X_features_ordinal])\n",
    "\n",
    "display(X_train_ordinal.head(5))\n",
    "\n",
    "# обучаем энкодер на заданных категориальных признаках тестовой выборки\n",
    "encoder_ordinal.fit(X_test_ordinal[X_features_ordinal])\n",
    "\n",
    "# кодируем тестовую выборку\n",
    "X_test_ordinal[encoder_ordinal.get_feature_names_out()] = encoder_ordinal.transform(X_test_ordinal[X_features_ordinal])\n",
    "\n",
    "display(X_test_ordinal.head(5))"
   ]
  },
  {
   "cell_type": "code",
   "execution_count": 52,
   "metadata": {},
   "outputs": [
    {
     "name": "stdout",
     "output_type": "stream",
     "text": [
      "RMSE модели: 1459.1305076115832\n",
      "лучшие параметры: DecisionTreeRegressor(max_depth=11, min_samples_leaf=4, random_state=12345)\n"
     ]
    }
   ],
   "source": [
    "# Теперь модель дерева решений\n",
    "score(DecisionTreeRegressor(random_state=12345),{'max_depth': range (1, 13, 2),\n",
    "                               'min_samples_leaf': range (1, 11)}, \n",
    "                                X_train_ordinal, y_train)"
   ]
  },
  {
   "cell_type": "code",
   "execution_count": 53,
   "metadata": {},
   "outputs": [
    {
     "name": "stdout",
     "output_type": "stream",
     "text": [
      "CPU times: user 271 ms, sys: 0 ns, total: 271 ms\n",
      "Wall time: 278 ms\n"
     ]
    },
    {
     "data": {
      "text/html": [
       "<style>#sk-container-id-2 {color: black;background-color: white;}#sk-container-id-2 pre{padding: 0;}#sk-container-id-2 div.sk-toggleable {background-color: white;}#sk-container-id-2 label.sk-toggleable__label {cursor: pointer;display: block;width: 100%;margin-bottom: 0;padding: 0.3em;box-sizing: border-box;text-align: center;}#sk-container-id-2 label.sk-toggleable__label-arrow:before {content: \"▸\";float: left;margin-right: 0.25em;color: #696969;}#sk-container-id-2 label.sk-toggleable__label-arrow:hover:before {color: black;}#sk-container-id-2 div.sk-estimator:hover label.sk-toggleable__label-arrow:before {color: black;}#sk-container-id-2 div.sk-toggleable__content {max-height: 0;max-width: 0;overflow: hidden;text-align: left;background-color: #f0f8ff;}#sk-container-id-2 div.sk-toggleable__content pre {margin: 0.2em;color: black;border-radius: 0.25em;background-color: #f0f8ff;}#sk-container-id-2 input.sk-toggleable__control:checked~div.sk-toggleable__content {max-height: 200px;max-width: 100%;overflow: auto;}#sk-container-id-2 input.sk-toggleable__control:checked~label.sk-toggleable__label-arrow:before {content: \"▾\";}#sk-container-id-2 div.sk-estimator input.sk-toggleable__control:checked~label.sk-toggleable__label {background-color: #d4ebff;}#sk-container-id-2 div.sk-label input.sk-toggleable__control:checked~label.sk-toggleable__label {background-color: #d4ebff;}#sk-container-id-2 input.sk-hidden--visually {border: 0;clip: rect(1px 1px 1px 1px);clip: rect(1px, 1px, 1px, 1px);height: 1px;margin: -1px;overflow: hidden;padding: 0;position: absolute;width: 1px;}#sk-container-id-2 div.sk-estimator {font-family: monospace;background-color: #f0f8ff;border: 1px dotted black;border-radius: 0.25em;box-sizing: border-box;margin-bottom: 0.5em;}#sk-container-id-2 div.sk-estimator:hover {background-color: #d4ebff;}#sk-container-id-2 div.sk-parallel-item::after {content: \"\";width: 100%;border-bottom: 1px solid gray;flex-grow: 1;}#sk-container-id-2 div.sk-label:hover label.sk-toggleable__label {background-color: #d4ebff;}#sk-container-id-2 div.sk-serial::before {content: \"\";position: absolute;border-left: 1px solid gray;box-sizing: border-box;top: 0;bottom: 0;left: 50%;z-index: 0;}#sk-container-id-2 div.sk-serial {display: flex;flex-direction: column;align-items: center;background-color: white;padding-right: 0.2em;padding-left: 0.2em;position: relative;}#sk-container-id-2 div.sk-item {position: relative;z-index: 1;}#sk-container-id-2 div.sk-parallel {display: flex;align-items: stretch;justify-content: center;background-color: white;position: relative;}#sk-container-id-2 div.sk-item::before, #sk-container-id-2 div.sk-parallel-item::before {content: \"\";position: absolute;border-left: 1px solid gray;box-sizing: border-box;top: 0;bottom: 0;left: 50%;z-index: -1;}#sk-container-id-2 div.sk-parallel-item {display: flex;flex-direction: column;z-index: 1;position: relative;background-color: white;}#sk-container-id-2 div.sk-parallel-item:first-child::after {align-self: flex-end;width: 50%;}#sk-container-id-2 div.sk-parallel-item:last-child::after {align-self: flex-start;width: 50%;}#sk-container-id-2 div.sk-parallel-item:only-child::after {width: 0;}#sk-container-id-2 div.sk-dashed-wrapped {border: 1px dashed gray;margin: 0 0.4em 0.5em 0.4em;box-sizing: border-box;padding-bottom: 0.4em;background-color: white;}#sk-container-id-2 div.sk-label label {font-family: monospace;font-weight: bold;display: inline-block;line-height: 1.2em;}#sk-container-id-2 div.sk-label-container {text-align: center;}#sk-container-id-2 div.sk-container {/* jupyter's `normalize.less` sets `[hidden] { display: none; }` but bootstrap.min.css set `[hidden] { display: none !important; }` so we also need the `!important` here to be able to override the default hidden behavior on the sphinx rendered scikit-learn.org. See: https://github.com/scikit-learn/scikit-learn/issues/21755 */display: inline-block !important;position: relative;}#sk-container-id-2 div.sk-text-repr-fallback {display: none;}</style><div id=\"sk-container-id-2\" class=\"sk-top-container\"><div class=\"sk-text-repr-fallback\"><pre>DecisionTreeRegressor(max_depth=11, min_samples_leaf=4, random_state=12345)</pre><b>In a Jupyter environment, please rerun this cell to show the HTML representation or trust the notebook. <br />On GitHub, the HTML representation is unable to render, please try loading this page with nbviewer.org.</b></div><div class=\"sk-container\" hidden><div class=\"sk-item\"><div class=\"sk-estimator sk-toggleable\"><input class=\"sk-toggleable__control sk-hidden--visually\" id=\"sk-estimator-id-2\" type=\"checkbox\" checked><label for=\"sk-estimator-id-2\" class=\"sk-toggleable__label sk-toggleable__label-arrow\">DecisionTreeRegressor</label><div class=\"sk-toggleable__content\"><pre>DecisionTreeRegressor(max_depth=11, min_samples_leaf=4, random_state=12345)</pre></div></div></div></div></div>"
      ],
      "text/plain": [
       "DecisionTreeRegressor(max_depth=11, min_samples_leaf=4, random_state=12345)"
      ]
     },
     "execution_count": 53,
     "metadata": {},
     "output_type": "execute_result"
    }
   ],
   "source": [
    "%%time\n",
    "\n",
    "model = DecisionTreeRegressor(max_depth=11, min_samples_leaf=4, random_state=12345)\n",
    "model.fit(X_train_ordinal, y_train)"
   ]
  },
  {
   "cell_type": "code",
   "execution_count": 54,
   "metadata": {},
   "outputs": [
    {
     "name": "stdout",
     "output_type": "stream",
     "text": [
      "CPU times: user 23.7 ms, sys: 0 ns, total: 23.7 ms\n",
      "Wall time: 26 ms\n"
     ]
    }
   ],
   "source": [
    "%%time\n",
    "predicts = model.predict(X_train_ordinal)"
   ]
  },
  {
   "cell_type": "markdown",
   "metadata": {},
   "source": [
    "Результат подходит под требуемый: Значение метрики RMSE - 1459. Время затраченное на обработку ячейки обучения: 359 мсекунд. Предсказание - 23.2 мсекунды."
   ]
  },
  {
   "cell_type": "code",
   "execution_count": 56,
   "metadata": {},
   "outputs": [
    {
     "name": "stdout",
     "output_type": "stream",
     "text": [
      "RMSE модели: 1468.8056458642786\n",
      "лучшие параметры: RandomForestRegressor(max_depth=9, n_estimators=90, random_state=12345)\n",
      "CPU times: user 7min 31s, sys: 0 ns, total: 7min 31s\n",
      "Wall time: 7min 32s\n"
     ]
    }
   ],
   "source": [
    "%%time \n",
    "# и случайный лес \n",
    "\n",
    "score(RandomForestRegressor(random_state=12345),{'max_depth': range (5, 10, 1),                          \n",
    "                          'n_estimators': range (50, 100, 10)}, \n",
    "                           X_train_ordinal, y_train)"
   ]
  },
  {
   "cell_type": "code",
   "execution_count": 57,
   "metadata": {},
   "outputs": [
    {
     "name": "stdout",
     "output_type": "stream",
     "text": [
      "CPU times: user 14 s, sys: 0 ns, total: 14 s\n",
      "Wall time: 14 s\n"
     ]
    },
    {
     "data": {
      "text/html": [
       "<style>#sk-container-id-3 {color: black;background-color: white;}#sk-container-id-3 pre{padding: 0;}#sk-container-id-3 div.sk-toggleable {background-color: white;}#sk-container-id-3 label.sk-toggleable__label {cursor: pointer;display: block;width: 100%;margin-bottom: 0;padding: 0.3em;box-sizing: border-box;text-align: center;}#sk-container-id-3 label.sk-toggleable__label-arrow:before {content: \"▸\";float: left;margin-right: 0.25em;color: #696969;}#sk-container-id-3 label.sk-toggleable__label-arrow:hover:before {color: black;}#sk-container-id-3 div.sk-estimator:hover label.sk-toggleable__label-arrow:before {color: black;}#sk-container-id-3 div.sk-toggleable__content {max-height: 0;max-width: 0;overflow: hidden;text-align: left;background-color: #f0f8ff;}#sk-container-id-3 div.sk-toggleable__content pre {margin: 0.2em;color: black;border-radius: 0.25em;background-color: #f0f8ff;}#sk-container-id-3 input.sk-toggleable__control:checked~div.sk-toggleable__content {max-height: 200px;max-width: 100%;overflow: auto;}#sk-container-id-3 input.sk-toggleable__control:checked~label.sk-toggleable__label-arrow:before {content: \"▾\";}#sk-container-id-3 div.sk-estimator input.sk-toggleable__control:checked~label.sk-toggleable__label {background-color: #d4ebff;}#sk-container-id-3 div.sk-label input.sk-toggleable__control:checked~label.sk-toggleable__label {background-color: #d4ebff;}#sk-container-id-3 input.sk-hidden--visually {border: 0;clip: rect(1px 1px 1px 1px);clip: rect(1px, 1px, 1px, 1px);height: 1px;margin: -1px;overflow: hidden;padding: 0;position: absolute;width: 1px;}#sk-container-id-3 div.sk-estimator {font-family: monospace;background-color: #f0f8ff;border: 1px dotted black;border-radius: 0.25em;box-sizing: border-box;margin-bottom: 0.5em;}#sk-container-id-3 div.sk-estimator:hover {background-color: #d4ebff;}#sk-container-id-3 div.sk-parallel-item::after {content: \"\";width: 100%;border-bottom: 1px solid gray;flex-grow: 1;}#sk-container-id-3 div.sk-label:hover label.sk-toggleable__label {background-color: #d4ebff;}#sk-container-id-3 div.sk-serial::before {content: \"\";position: absolute;border-left: 1px solid gray;box-sizing: border-box;top: 0;bottom: 0;left: 50%;z-index: 0;}#sk-container-id-3 div.sk-serial {display: flex;flex-direction: column;align-items: center;background-color: white;padding-right: 0.2em;padding-left: 0.2em;position: relative;}#sk-container-id-3 div.sk-item {position: relative;z-index: 1;}#sk-container-id-3 div.sk-parallel {display: flex;align-items: stretch;justify-content: center;background-color: white;position: relative;}#sk-container-id-3 div.sk-item::before, #sk-container-id-3 div.sk-parallel-item::before {content: \"\";position: absolute;border-left: 1px solid gray;box-sizing: border-box;top: 0;bottom: 0;left: 50%;z-index: -1;}#sk-container-id-3 div.sk-parallel-item {display: flex;flex-direction: column;z-index: 1;position: relative;background-color: white;}#sk-container-id-3 div.sk-parallel-item:first-child::after {align-self: flex-end;width: 50%;}#sk-container-id-3 div.sk-parallel-item:last-child::after {align-self: flex-start;width: 50%;}#sk-container-id-3 div.sk-parallel-item:only-child::after {width: 0;}#sk-container-id-3 div.sk-dashed-wrapped {border: 1px dashed gray;margin: 0 0.4em 0.5em 0.4em;box-sizing: border-box;padding-bottom: 0.4em;background-color: white;}#sk-container-id-3 div.sk-label label {font-family: monospace;font-weight: bold;display: inline-block;line-height: 1.2em;}#sk-container-id-3 div.sk-label-container {text-align: center;}#sk-container-id-3 div.sk-container {/* jupyter's `normalize.less` sets `[hidden] { display: none; }` but bootstrap.min.css set `[hidden] { display: none !important; }` so we also need the `!important` here to be able to override the default hidden behavior on the sphinx rendered scikit-learn.org. See: https://github.com/scikit-learn/scikit-learn/issues/21755 */display: inline-block !important;position: relative;}#sk-container-id-3 div.sk-text-repr-fallback {display: none;}</style><div id=\"sk-container-id-3\" class=\"sk-top-container\"><div class=\"sk-text-repr-fallback\"><pre>RandomForestRegressor(max_depth=9, n_estimators=90, random_state=12345)</pre><b>In a Jupyter environment, please rerun this cell to show the HTML representation or trust the notebook. <br />On GitHub, the HTML representation is unable to render, please try loading this page with nbviewer.org.</b></div><div class=\"sk-container\" hidden><div class=\"sk-item\"><div class=\"sk-estimator sk-toggleable\"><input class=\"sk-toggleable__control sk-hidden--visually\" id=\"sk-estimator-id-3\" type=\"checkbox\" checked><label for=\"sk-estimator-id-3\" class=\"sk-toggleable__label sk-toggleable__label-arrow\">RandomForestRegressor</label><div class=\"sk-toggleable__content\"><pre>RandomForestRegressor(max_depth=9, n_estimators=90, random_state=12345)</pre></div></div></div></div></div>"
      ],
      "text/plain": [
       "RandomForestRegressor(max_depth=9, n_estimators=90, random_state=12345)"
      ]
     },
     "execution_count": 57,
     "metadata": {},
     "output_type": "execute_result"
    }
   ],
   "source": [
    "%%time\n",
    "\n",
    "model = RandomForestRegressor(max_depth=9, n_estimators=90, random_state=12345)\n",
    "model.fit(X_train_ordinal, y_train)"
   ]
  },
  {
   "cell_type": "code",
   "execution_count": 58,
   "metadata": {},
   "outputs": [
    {
     "name": "stdout",
     "output_type": "stream",
     "text": [
      "CPU times: user 938 ms, sys: 0 ns, total: 938 ms\n",
      "Wall time: 953 ms\n"
     ]
    }
   ],
   "source": [
    "%%time\n",
    "predicts = model.predict(X_train_ordinal) "
   ]
  },
  {
   "cell_type": "markdown",
   "metadata": {},
   "source": [
    "Результат подходит под требуемый: Значение метрики RMSE - 1468 . Время затраченное на обработку ячейки обучения: 14 секунд. Предсказание - 1.15 секунды. "
   ]
  },
  {
   "cell_type": "markdown",
   "metadata": {},
   "source": [
    "Используем библиотеку LightGBM и её средствами построим модель градиентного бустинга."
   ]
  },
  {
   "cell_type": "code",
   "execution_count": 59,
   "metadata": {},
   "outputs": [
    {
     "name": "stdout",
     "output_type": "stream",
     "text": [
      "RMSE модели: 1260.7858752106229\n",
      "лучшие параметры: LGBMRegressor(n_estimators=90, random_state=12345)\n"
     ]
    }
   ],
   "source": [
    "score(LGBMRegressor(random_state=12345),{'n_estimators': range (50, 100, 10)}, X_train_ordinal, y_train)"
   ]
  },
  {
   "cell_type": "code",
   "execution_count": 60,
   "metadata": {},
   "outputs": [
    {
     "name": "stdout",
     "output_type": "stream",
     "text": [
      "CPU times: user 2.76 s, sys: 0 ns, total: 2.76 s\n",
      "Wall time: 2.8 s\n"
     ]
    },
    {
     "data": {
      "text/html": [
       "<style>#sk-container-id-4 {color: black;background-color: white;}#sk-container-id-4 pre{padding: 0;}#sk-container-id-4 div.sk-toggleable {background-color: white;}#sk-container-id-4 label.sk-toggleable__label {cursor: pointer;display: block;width: 100%;margin-bottom: 0;padding: 0.3em;box-sizing: border-box;text-align: center;}#sk-container-id-4 label.sk-toggleable__label-arrow:before {content: \"▸\";float: left;margin-right: 0.25em;color: #696969;}#sk-container-id-4 label.sk-toggleable__label-arrow:hover:before {color: black;}#sk-container-id-4 div.sk-estimator:hover label.sk-toggleable__label-arrow:before {color: black;}#sk-container-id-4 div.sk-toggleable__content {max-height: 0;max-width: 0;overflow: hidden;text-align: left;background-color: #f0f8ff;}#sk-container-id-4 div.sk-toggleable__content pre {margin: 0.2em;color: black;border-radius: 0.25em;background-color: #f0f8ff;}#sk-container-id-4 input.sk-toggleable__control:checked~div.sk-toggleable__content {max-height: 200px;max-width: 100%;overflow: auto;}#sk-container-id-4 input.sk-toggleable__control:checked~label.sk-toggleable__label-arrow:before {content: \"▾\";}#sk-container-id-4 div.sk-estimator input.sk-toggleable__control:checked~label.sk-toggleable__label {background-color: #d4ebff;}#sk-container-id-4 div.sk-label input.sk-toggleable__control:checked~label.sk-toggleable__label {background-color: #d4ebff;}#sk-container-id-4 input.sk-hidden--visually {border: 0;clip: rect(1px 1px 1px 1px);clip: rect(1px, 1px, 1px, 1px);height: 1px;margin: -1px;overflow: hidden;padding: 0;position: absolute;width: 1px;}#sk-container-id-4 div.sk-estimator {font-family: monospace;background-color: #f0f8ff;border: 1px dotted black;border-radius: 0.25em;box-sizing: border-box;margin-bottom: 0.5em;}#sk-container-id-4 div.sk-estimator:hover {background-color: #d4ebff;}#sk-container-id-4 div.sk-parallel-item::after {content: \"\";width: 100%;border-bottom: 1px solid gray;flex-grow: 1;}#sk-container-id-4 div.sk-label:hover label.sk-toggleable__label {background-color: #d4ebff;}#sk-container-id-4 div.sk-serial::before {content: \"\";position: absolute;border-left: 1px solid gray;box-sizing: border-box;top: 0;bottom: 0;left: 50%;z-index: 0;}#sk-container-id-4 div.sk-serial {display: flex;flex-direction: column;align-items: center;background-color: white;padding-right: 0.2em;padding-left: 0.2em;position: relative;}#sk-container-id-4 div.sk-item {position: relative;z-index: 1;}#sk-container-id-4 div.sk-parallel {display: flex;align-items: stretch;justify-content: center;background-color: white;position: relative;}#sk-container-id-4 div.sk-item::before, #sk-container-id-4 div.sk-parallel-item::before {content: \"\";position: absolute;border-left: 1px solid gray;box-sizing: border-box;top: 0;bottom: 0;left: 50%;z-index: -1;}#sk-container-id-4 div.sk-parallel-item {display: flex;flex-direction: column;z-index: 1;position: relative;background-color: white;}#sk-container-id-4 div.sk-parallel-item:first-child::after {align-self: flex-end;width: 50%;}#sk-container-id-4 div.sk-parallel-item:last-child::after {align-self: flex-start;width: 50%;}#sk-container-id-4 div.sk-parallel-item:only-child::after {width: 0;}#sk-container-id-4 div.sk-dashed-wrapped {border: 1px dashed gray;margin: 0 0.4em 0.5em 0.4em;box-sizing: border-box;padding-bottom: 0.4em;background-color: white;}#sk-container-id-4 div.sk-label label {font-family: monospace;font-weight: bold;display: inline-block;line-height: 1.2em;}#sk-container-id-4 div.sk-label-container {text-align: center;}#sk-container-id-4 div.sk-container {/* jupyter's `normalize.less` sets `[hidden] { display: none; }` but bootstrap.min.css set `[hidden] { display: none !important; }` so we also need the `!important` here to be able to override the default hidden behavior on the sphinx rendered scikit-learn.org. See: https://github.com/scikit-learn/scikit-learn/issues/21755 */display: inline-block !important;position: relative;}#sk-container-id-4 div.sk-text-repr-fallback {display: none;}</style><div id=\"sk-container-id-4\" class=\"sk-top-container\"><div class=\"sk-text-repr-fallback\"><pre>LGBMRegressor(n_estimators=90, random_state=12345)</pre><b>In a Jupyter environment, please rerun this cell to show the HTML representation or trust the notebook. <br />On GitHub, the HTML representation is unable to render, please try loading this page with nbviewer.org.</b></div><div class=\"sk-container\" hidden><div class=\"sk-item\"><div class=\"sk-estimator sk-toggleable\"><input class=\"sk-toggleable__control sk-hidden--visually\" id=\"sk-estimator-id-4\" type=\"checkbox\" checked><label for=\"sk-estimator-id-4\" class=\"sk-toggleable__label sk-toggleable__label-arrow\">LGBMRegressor</label><div class=\"sk-toggleable__content\"><pre>LGBMRegressor(n_estimators=90, random_state=12345)</pre></div></div></div></div></div>"
      ],
      "text/plain": [
       "LGBMRegressor(n_estimators=90, random_state=12345)"
      ]
     },
     "execution_count": 60,
     "metadata": {},
     "output_type": "execute_result"
    }
   ],
   "source": [
    "%%time\n",
    "model = LGBMRegressor(random_state=12345, n_estimators=90)\n",
    "model.fit(X_train_ordinal, y_train)"
   ]
  },
  {
   "cell_type": "code",
   "execution_count": 61,
   "metadata": {},
   "outputs": [
    {
     "name": "stdout",
     "output_type": "stream",
     "text": [
      "CPU times: user 1.03 s, sys: 0 ns, total: 1.03 s\n",
      "Wall time: 1.01 s\n"
     ]
    }
   ],
   "source": [
    "%%time\n",
    "predicts = model.predict(X_train_ordinal) "
   ]
  },
  {
   "cell_type": "markdown",
   "metadata": {},
   "source": [
    "Результат подходит под требуемый: Значение метрики RMSE - 1260. Время затраченное на обработку ячейки обучения: 2.8 секунды. Предсказание - 1.28 секунд."
   ]
  },
  {
   "cell_type": "markdown",
   "metadata": {},
   "source": [
    "## Анализ моделей"
   ]
  },
  {
   "cell_type": "markdown",
   "metadata": {},
   "source": [
    "Подводя итоги, можно сделать следующие выводы:\n",
    "\n",
    "1. LinearRegression() - Результат подходит под требуемый: Значение метрики RMSE - 1880. Время затраченное на обработку ячейки обучения: 26 секунд. Предсказание - 51 мсекунда.\n",
    "\n",
    "\n",
    "2. DecisionTreeRegressor(max_depth=11, min_samples_leaf=6, random_state=12345) - Значение метрики RMSE - 1459. Время затраченное на обработку ячейки обучения: 359 мсекунд. Предсказание - 23.2 мсекунды.\n",
    "\n",
    "\n",
    "3. RandomForestRegressor(max_depth=9, n_estimators=70, random_state=12345) - Значение метрики RMSE - 1468 . Время затраченное на обработку ячейки обучения: 14 секунд. Предсказание - 1.15 секунды. \n",
    "\n",
    "\n",
    "4. LGBMRegressor(random_state=12345, n_estimators=90) - Значение метрики RMSE - 1260. Время затраченное на обработку ячейки обучения: 2.8 секунд. Предсказание - 1.28 секунд.\n",
    "\n",
    "Лучше всего себя показала модель `LGBMRegressor`, она имеет лучший показатель метрики RMSE и отличную скорость обучения."
   ]
  },
  {
   "cell_type": "code",
   "execution_count": 62,
   "metadata": {},
   "outputs": [
    {
     "name": "stdout",
     "output_type": "stream",
     "text": [
      "CPU times: user 3.16 s, sys: 0 ns, total: 3.16 s\n",
      "Wall time: 3.3 s\n"
     ]
    },
    {
     "data": {
      "text/plain": [
       "1346.7019638984677"
      ]
     },
     "execution_count": 62,
     "metadata": {},
     "output_type": "execute_result"
    }
   ],
   "source": [
    "%%time\n",
    "# на основе вышесказанного проверим модель LGBMRegressor на тестовой выборке\n",
    "\n",
    "\n",
    "model = LGBMRegressor(random_state=12345, n_estimators=90)\n",
    "model.fit(X_train_ordinal, y_train)\n",
    "\n",
    "pred = model.predict(X_test_ordinal)\n",
    "result = mean_squared_error(y_test, pred) **0.5\n",
    "result"
   ]
  },
  {
   "cell_type": "markdown",
   "metadata": {},
   "source": [
    "Проверяем наши модели на адекватность с помощью константной модели."
   ]
  },
  {
   "cell_type": "code",
   "execution_count": 63,
   "metadata": {},
   "outputs": [
    {
     "data": {
      "text/plain": [
       "3776.160457798124"
      ]
     },
     "execution_count": 63,
     "metadata": {},
     "output_type": "execute_result"
    }
   ],
   "source": [
    "# создаём модель DummyRegressor,\n",
    "# которая предсказывает все значения\n",
    "# как среднее из массива X_test\n",
    "\n",
    "dummy_regr = DummyRegressor(strategy=\"mean\")\n",
    "dummy_regr.fit(X_train_ordinal, y_train)\n",
    "\n",
    "predict_for_check = dummy_regr.predict(X_test_ordinal)\n",
    "mean_squared_error(y_test, predict_for_check) **0.5"
   ]
  }
 ],
 "metadata": {
  "ExecuteTimeLog": [
   {
    "duration": 390,
    "start_time": "2023-08-24T18:02:49.445Z"
   },
   {
    "duration": 1113,
    "start_time": "2023-08-24T18:03:03.779Z"
   },
   {
    "duration": 25,
    "start_time": "2023-08-24T18:03:12.758Z"
   },
   {
    "duration": 13,
    "start_time": "2023-08-24T18:03:44.762Z"
   },
   {
    "duration": 140,
    "start_time": "2023-08-24T18:03:51.887Z"
   },
   {
    "duration": 121,
    "start_time": "2023-08-24T18:07:23.076Z"
   },
   {
    "duration": 60,
    "start_time": "2023-08-25T13:10:08.284Z"
   },
   {
    "duration": 455,
    "start_time": "2023-08-25T13:10:13.859Z"
   },
   {
    "duration": 2932,
    "start_time": "2023-08-25T13:10:14.316Z"
   },
   {
    "duration": 31,
    "start_time": "2023-08-25T13:10:17.250Z"
   },
   {
    "duration": 133,
    "start_time": "2023-08-25T13:10:17.283Z"
   },
   {
    "duration": 119,
    "start_time": "2023-08-25T13:10:17.418Z"
   },
   {
    "duration": 4,
    "start_time": "2023-08-25T13:13:15.441Z"
   },
   {
    "duration": 23,
    "start_time": "2023-08-25T13:13:21.620Z"
   },
   {
    "duration": 17,
    "start_time": "2023-08-25T13:17:44.742Z"
   },
   {
    "duration": 83,
    "start_time": "2023-08-25T13:18:53.182Z"
   },
   {
    "duration": 114,
    "start_time": "2023-08-25T13:20:34.938Z"
   },
   {
    "duration": 116,
    "start_time": "2023-08-25T13:20:39.045Z"
   },
   {
    "duration": 108,
    "start_time": "2023-08-25T13:20:51.593Z"
   },
   {
    "duration": 113,
    "start_time": "2023-08-25T13:20:57.720Z"
   },
   {
    "duration": 81,
    "start_time": "2023-08-25T13:23:00.366Z"
   },
   {
    "duration": 8,
    "start_time": "2023-08-25T13:31:00.348Z"
   },
   {
    "duration": 46,
    "start_time": "2023-08-25T13:32:53.427Z"
   },
   {
    "duration": 442,
    "start_time": "2023-08-25T13:33:00.855Z"
   },
   {
    "duration": 2993,
    "start_time": "2023-08-25T13:33:01.299Z"
   },
   {
    "duration": 30,
    "start_time": "2023-08-25T13:33:04.294Z"
   },
   {
    "duration": 611,
    "start_time": "2023-08-25T13:33:04.325Z"
   },
   {
    "duration": 124,
    "start_time": "2023-08-25T13:33:38.574Z"
   },
   {
    "duration": 104,
    "start_time": "2023-08-25T13:33:40.178Z"
   },
   {
    "duration": 16,
    "start_time": "2023-08-25T13:33:42.513Z"
   },
   {
    "duration": 265,
    "start_time": "2023-08-25T13:35:27.445Z"
   },
   {
    "duration": 109,
    "start_time": "2023-08-25T13:37:32.314Z"
   },
   {
    "duration": 100,
    "start_time": "2023-08-25T13:37:36.728Z"
   },
   {
    "duration": 17,
    "start_time": "2023-08-25T13:37:40.391Z"
   },
   {
    "duration": 17,
    "start_time": "2023-08-25T13:41:27.833Z"
   },
   {
    "duration": 21,
    "start_time": "2023-08-25T13:41:37.094Z"
   },
   {
    "duration": 115,
    "start_time": "2023-08-25T13:41:48.144Z"
   },
   {
    "duration": 138,
    "start_time": "2023-08-25T13:42:29.028Z"
   },
   {
    "duration": 12,
    "start_time": "2023-08-25T13:44:56.162Z"
   },
   {
    "duration": 39,
    "start_time": "2023-08-25T13:45:00.204Z"
   },
   {
    "duration": 405,
    "start_time": "2023-08-25T13:46:16.578Z"
   },
   {
    "duration": 803,
    "start_time": "2023-08-25T13:46:16.985Z"
   },
   {
    "duration": 29,
    "start_time": "2023-08-25T13:46:17.789Z"
   },
   {
    "duration": 134,
    "start_time": "2023-08-25T13:46:17.820Z"
   },
   {
    "duration": 138,
    "start_time": "2023-08-25T13:46:17.957Z"
   },
   {
    "duration": 15,
    "start_time": "2023-08-25T13:46:18.097Z"
   },
   {
    "duration": 123,
    "start_time": "2023-08-25T13:46:18.114Z"
   },
   {
    "duration": 16,
    "start_time": "2023-08-25T13:46:18.238Z"
   },
   {
    "duration": 72,
    "start_time": "2023-08-25T13:46:18.266Z"
   },
   {
    "duration": 0,
    "start_time": "2023-08-25T13:46:18.340Z"
   },
   {
    "duration": 0,
    "start_time": "2023-08-25T13:46:18.341Z"
   },
   {
    "duration": 78,
    "start_time": "2023-08-25T13:47:30.745Z"
   },
   {
    "duration": 12,
    "start_time": "2023-08-25T13:49:23.307Z"
   },
   {
    "duration": 420,
    "start_time": "2023-08-25T13:49:35.099Z"
   },
   {
    "duration": 869,
    "start_time": "2023-08-25T13:49:35.521Z"
   },
   {
    "duration": 28,
    "start_time": "2023-08-25T13:49:36.392Z"
   },
   {
    "duration": 120,
    "start_time": "2023-08-25T13:49:36.422Z"
   },
   {
    "duration": 147,
    "start_time": "2023-08-25T13:49:36.544Z"
   },
   {
    "duration": 17,
    "start_time": "2023-08-25T13:49:36.692Z"
   },
   {
    "duration": 126,
    "start_time": "2023-08-25T13:49:36.710Z"
   },
   {
    "duration": 20,
    "start_time": "2023-08-25T13:49:36.837Z"
   },
   {
    "duration": 34,
    "start_time": "2023-08-25T13:49:49.483Z"
   },
   {
    "duration": 370,
    "start_time": "2023-08-25T13:51:51.219Z"
   },
   {
    "duration": 822,
    "start_time": "2023-08-25T13:51:51.591Z"
   },
   {
    "duration": 29,
    "start_time": "2023-08-25T13:51:52.415Z"
   },
   {
    "duration": 133,
    "start_time": "2023-08-25T13:51:52.445Z"
   },
   {
    "duration": 120,
    "start_time": "2023-08-25T13:51:52.580Z"
   },
   {
    "duration": 17,
    "start_time": "2023-08-25T13:51:52.702Z"
   },
   {
    "duration": 155,
    "start_time": "2023-08-25T13:51:52.720Z"
   },
   {
    "duration": 17,
    "start_time": "2023-08-25T13:51:52.877Z"
   },
   {
    "duration": 64,
    "start_time": "2023-08-25T13:51:52.896Z"
   },
   {
    "duration": 1238,
    "start_time": "2023-08-25T13:51:58.413Z"
   },
   {
    "duration": 81,
    "start_time": "2023-08-25T13:52:13.920Z"
   },
   {
    "duration": 15,
    "start_time": "2023-08-25T13:52:19.861Z"
   },
   {
    "duration": 358,
    "start_time": "2023-08-25T13:55:16.115Z"
   },
   {
    "duration": 880,
    "start_time": "2023-08-25T13:55:16.476Z"
   },
   {
    "duration": 32,
    "start_time": "2023-08-25T13:55:17.357Z"
   },
   {
    "duration": 131,
    "start_time": "2023-08-25T13:55:17.390Z"
   },
   {
    "duration": 111,
    "start_time": "2023-08-25T13:55:17.523Z"
   },
   {
    "duration": 16,
    "start_time": "2023-08-25T13:55:17.635Z"
   },
   {
    "duration": 125,
    "start_time": "2023-08-25T13:55:17.668Z"
   },
   {
    "duration": 17,
    "start_time": "2023-08-25T13:55:17.794Z"
   },
   {
    "duration": 45,
    "start_time": "2023-08-25T13:55:17.813Z"
   },
   {
    "duration": 1360,
    "start_time": "2023-08-25T13:55:17.860Z"
   },
   {
    "duration": 16,
    "start_time": "2023-08-25T13:55:20.577Z"
   },
   {
    "duration": 160,
    "start_time": "2023-08-25T13:55:39.961Z"
   },
   {
    "duration": 76,
    "start_time": "2023-08-25T13:59:18.173Z"
   },
   {
    "duration": 16,
    "start_time": "2023-08-25T13:59:23.528Z"
   },
   {
    "duration": 16,
    "start_time": "2023-08-25T14:06:44.657Z"
   },
   {
    "duration": 103,
    "start_time": "2023-08-25T14:08:28.693Z"
   },
   {
    "duration": 59,
    "start_time": "2023-08-25T14:08:35.286Z"
   },
   {
    "duration": 62,
    "start_time": "2023-08-25T14:08:41.551Z"
   },
   {
    "duration": 805,
    "start_time": "2023-08-25T14:15:26.954Z"
   },
   {
    "duration": 151,
    "start_time": "2023-08-25T14:18:27.283Z"
   },
   {
    "duration": 154,
    "start_time": "2023-08-25T14:18:31.985Z"
   },
   {
    "duration": 154,
    "start_time": "2023-08-25T14:18:42.626Z"
   },
   {
    "duration": 1882,
    "start_time": "2023-08-25T14:19:39.810Z"
   },
   {
    "duration": 1086,
    "start_time": "2023-08-25T14:19:50.120Z"
   },
   {
    "duration": 825,
    "start_time": "2023-08-25T14:19:51.209Z"
   },
   {
    "duration": 33,
    "start_time": "2023-08-25T14:19:52.036Z"
   },
   {
    "duration": 117,
    "start_time": "2023-08-25T14:19:52.071Z"
   },
   {
    "duration": 105,
    "start_time": "2023-08-25T14:19:52.189Z"
   },
   {
    "duration": 17,
    "start_time": "2023-08-25T14:19:52.296Z"
   },
   {
    "duration": 100,
    "start_time": "2023-08-25T14:19:52.315Z"
   },
   {
    "duration": 120,
    "start_time": "2023-08-25T14:20:39.976Z"
   },
   {
    "duration": 103,
    "start_time": "2023-08-25T14:21:17.763Z"
   },
   {
    "duration": 155,
    "start_time": "2023-08-25T14:21:19.470Z"
   },
   {
    "duration": 16,
    "start_time": "2023-08-25T14:21:21.028Z"
   },
   {
    "duration": 32,
    "start_time": "2023-08-25T14:21:22.549Z"
   },
   {
    "duration": 15,
    "start_time": "2023-08-25T14:24:04.297Z"
   },
   {
    "duration": 74,
    "start_time": "2023-08-25T19:10:54.493Z"
   },
   {
    "duration": 1078,
    "start_time": "2023-08-25T19:10:57.127Z"
   },
   {
    "duration": 1162,
    "start_time": "2023-08-25T19:10:58.207Z"
   },
   {
    "duration": 27,
    "start_time": "2023-08-25T19:10:59.371Z"
   },
   {
    "duration": 126,
    "start_time": "2023-08-25T19:10:59.399Z"
   },
   {
    "duration": 97,
    "start_time": "2023-08-25T19:10:59.528Z"
   },
   {
    "duration": 15,
    "start_time": "2023-08-25T19:10:59.626Z"
   },
   {
    "duration": 123,
    "start_time": "2023-08-25T19:10:59.643Z"
   },
   {
    "duration": 11,
    "start_time": "2023-08-25T19:10:59.767Z"
   },
   {
    "duration": 18,
    "start_time": "2023-08-25T19:11:27.367Z"
   },
   {
    "duration": 21,
    "start_time": "2023-08-25T19:12:02.398Z"
   },
   {
    "duration": 69,
    "start_time": "2023-08-25T19:15:28.441Z"
   },
   {
    "duration": 5,
    "start_time": "2023-08-25T19:15:30.510Z"
   },
   {
    "duration": 82,
    "start_time": "2023-08-25T19:15:31.286Z"
   },
   {
    "duration": 203,
    "start_time": "2023-08-25T19:16:55.161Z"
   },
   {
    "duration": 485,
    "start_time": "2023-08-25T19:17:34.030Z"
   },
   {
    "duration": 719,
    "start_time": "2023-08-25T19:17:38.822Z"
   },
   {
    "duration": 4,
    "start_time": "2023-08-25T19:17:53.092Z"
   },
   {
    "duration": 605,
    "start_time": "2023-08-25T19:17:56.384Z"
   },
   {
    "duration": 659,
    "start_time": "2023-08-25T19:19:11.989Z"
   },
   {
    "duration": 5,
    "start_time": "2023-08-25T19:19:17.835Z"
   },
   {
    "duration": 507,
    "start_time": "2023-08-25T19:19:19.482Z"
   },
   {
    "duration": 6,
    "start_time": "2023-08-25T19:19:47.690Z"
   },
   {
    "duration": 572,
    "start_time": "2023-08-25T19:19:48.262Z"
   },
   {
    "duration": 558,
    "start_time": "2023-08-25T19:20:52.712Z"
   },
   {
    "duration": 530,
    "start_time": "2023-08-25T19:20:58.538Z"
   },
   {
    "duration": 510,
    "start_time": "2023-08-25T19:21:03.152Z"
   },
   {
    "duration": 4,
    "start_time": "2023-08-25T19:22:03.281Z"
   },
   {
    "duration": 328,
    "start_time": "2023-08-25T19:22:04.760Z"
   },
   {
    "duration": 388,
    "start_time": "2023-08-25T19:22:23.246Z"
   },
   {
    "duration": 1638,
    "start_time": "2023-08-25T19:22:27.387Z"
   },
   {
    "duration": 297,
    "start_time": "2023-08-25T19:22:33.937Z"
   },
   {
    "duration": 5,
    "start_time": "2023-08-25T19:22:50.793Z"
   },
   {
    "duration": 522,
    "start_time": "2023-08-25T19:22:51.245Z"
   },
   {
    "duration": 587,
    "start_time": "2023-08-25T19:22:55.348Z"
   },
   {
    "duration": 5,
    "start_time": "2023-08-25T19:26:03.360Z"
   },
   {
    "duration": 5,
    "start_time": "2023-08-25T19:26:15.731Z"
   },
   {
    "duration": 9,
    "start_time": "2023-08-25T19:26:19.512Z"
   },
   {
    "duration": 148,
    "start_time": "2023-08-25T19:27:45.211Z"
   },
   {
    "duration": 136,
    "start_time": "2023-08-25T19:27:58.093Z"
   },
   {
    "duration": 144,
    "start_time": "2023-08-25T19:28:09.125Z"
   },
   {
    "duration": 150,
    "start_time": "2023-08-25T19:28:58.966Z"
   },
   {
    "duration": 85,
    "start_time": "2023-08-25T19:29:03.409Z"
   },
   {
    "duration": 136,
    "start_time": "2023-08-25T19:29:05.454Z"
   },
   {
    "duration": 7,
    "start_time": "2023-08-25T19:31:41.382Z"
   },
   {
    "duration": 11,
    "start_time": "2023-08-25T19:31:53.495Z"
   },
   {
    "duration": 21,
    "start_time": "2023-08-25T19:33:38.168Z"
   },
   {
    "duration": 198,
    "start_time": "2023-08-25T19:33:46.392Z"
   },
   {
    "duration": 207,
    "start_time": "2023-08-25T19:33:53.074Z"
   },
   {
    "duration": 120,
    "start_time": "2023-08-25T19:35:03.692Z"
   },
   {
    "duration": 202,
    "start_time": "2023-08-25T19:36:27.719Z"
   },
   {
    "duration": 221,
    "start_time": "2023-08-25T19:36:48.186Z"
   },
   {
    "duration": 154,
    "start_time": "2023-08-25T19:37:40.855Z"
   },
   {
    "duration": 198,
    "start_time": "2023-08-25T19:37:42.482Z"
   },
   {
    "duration": 272,
    "start_time": "2023-08-25T19:37:45.460Z"
   },
   {
    "duration": 204,
    "start_time": "2023-08-25T19:37:46.982Z"
   },
   {
    "duration": 1359,
    "start_time": "2023-08-25T19:41:47.087Z"
   },
   {
    "duration": 827,
    "start_time": "2023-08-25T19:41:48.448Z"
   },
   {
    "duration": 27,
    "start_time": "2023-08-25T19:41:49.277Z"
   },
   {
    "duration": 139,
    "start_time": "2023-08-25T19:41:49.306Z"
   },
   {
    "duration": 107,
    "start_time": "2023-08-25T19:41:49.447Z"
   },
   {
    "duration": 18,
    "start_time": "2023-08-25T19:41:49.556Z"
   },
   {
    "duration": 163,
    "start_time": "2023-08-25T19:41:49.577Z"
   },
   {
    "duration": 201,
    "start_time": "2023-08-25T19:41:49.742Z"
   },
   {
    "duration": 128,
    "start_time": "2023-08-25T19:41:49.945Z"
   },
   {
    "duration": 298,
    "start_time": "2023-08-25T19:41:54.088Z"
   },
   {
    "duration": 7,
    "start_time": "2023-08-25T19:44:51.281Z"
   },
   {
    "duration": 11,
    "start_time": "2023-08-25T19:45:09.507Z"
   },
   {
    "duration": 16,
    "start_time": "2023-08-25T19:45:19.222Z"
   },
   {
    "duration": 12,
    "start_time": "2023-08-25T19:45:23.769Z"
   },
   {
    "duration": 8,
    "start_time": "2023-08-25T19:45:27.157Z"
   },
   {
    "duration": 13,
    "start_time": "2023-08-25T19:46:41.456Z"
   },
   {
    "duration": 11,
    "start_time": "2023-08-25T19:47:12.937Z"
   },
   {
    "duration": 6,
    "start_time": "2023-08-25T19:47:20.206Z"
   },
   {
    "duration": 14,
    "start_time": "2023-08-25T19:48:11.161Z"
   },
   {
    "duration": 26,
    "start_time": "2023-08-25T19:49:35.110Z"
   },
   {
    "duration": 1437,
    "start_time": "2023-08-25T19:49:47.314Z"
   },
   {
    "duration": 863,
    "start_time": "2023-08-25T19:49:48.752Z"
   },
   {
    "duration": 29,
    "start_time": "2023-08-25T19:49:49.616Z"
   },
   {
    "duration": 198,
    "start_time": "2023-08-25T19:49:49.646Z"
   },
   {
    "duration": 149,
    "start_time": "2023-08-25T19:49:49.847Z"
   },
   {
    "duration": 26,
    "start_time": "2023-08-25T19:49:49.998Z"
   },
   {
    "duration": 166,
    "start_time": "2023-08-25T19:49:50.026Z"
   },
   {
    "duration": 236,
    "start_time": "2023-08-25T19:49:50.194Z"
   },
   {
    "duration": 143,
    "start_time": "2023-08-25T19:49:50.433Z"
   },
   {
    "duration": 8,
    "start_time": "2023-08-25T19:49:50.578Z"
   },
   {
    "duration": 9,
    "start_time": "2023-08-25T19:49:55.783Z"
   },
   {
    "duration": 11,
    "start_time": "2023-08-25T19:49:58.336Z"
   },
   {
    "duration": 1374,
    "start_time": "2023-08-25T19:50:33.926Z"
   },
   {
    "duration": 885,
    "start_time": "2023-08-25T19:50:35.302Z"
   },
   {
    "duration": 25,
    "start_time": "2023-08-25T19:50:36.189Z"
   },
   {
    "duration": 139,
    "start_time": "2023-08-25T19:50:36.224Z"
   },
   {
    "duration": 115,
    "start_time": "2023-08-25T19:50:36.365Z"
   },
   {
    "duration": 16,
    "start_time": "2023-08-25T19:50:36.482Z"
   },
   {
    "duration": 169,
    "start_time": "2023-08-25T19:50:36.500Z"
   },
   {
    "duration": 194,
    "start_time": "2023-08-25T19:50:36.670Z"
   },
   {
    "duration": 131,
    "start_time": "2023-08-25T19:50:36.866Z"
   },
   {
    "duration": 6,
    "start_time": "2023-08-25T19:50:36.999Z"
   },
   {
    "duration": 65,
    "start_time": "2023-08-25T19:50:38.719Z"
   },
   {
    "duration": 12,
    "start_time": "2023-08-25T19:50:56.120Z"
   },
   {
    "duration": 7,
    "start_time": "2023-08-25T19:50:58.890Z"
   },
   {
    "duration": 65,
    "start_time": "2023-08-25T19:51:45.590Z"
   },
   {
    "duration": 124,
    "start_time": "2023-08-25T19:52:30.057Z"
   },
   {
    "duration": 5,
    "start_time": "2023-08-25T19:55:50.485Z"
   },
   {
    "duration": 14,
    "start_time": "2023-08-25T19:56:01.720Z"
   },
   {
    "duration": 4,
    "start_time": "2023-08-25T19:56:22.712Z"
   },
   {
    "duration": 4,
    "start_time": "2023-08-25T19:56:33.754Z"
   },
   {
    "duration": 4,
    "start_time": "2023-08-25T19:56:48.361Z"
   },
   {
    "duration": 1558,
    "start_time": "2023-08-25T19:57:01.493Z"
   },
   {
    "duration": 855,
    "start_time": "2023-08-25T19:57:03.052Z"
   },
   {
    "duration": 32,
    "start_time": "2023-08-25T19:57:03.909Z"
   },
   {
    "duration": 131,
    "start_time": "2023-08-25T19:57:03.943Z"
   },
   {
    "duration": 148,
    "start_time": "2023-08-25T19:57:04.077Z"
   },
   {
    "duration": 17,
    "start_time": "2023-08-25T19:57:04.226Z"
   },
   {
    "duration": 178,
    "start_time": "2023-08-25T19:57:04.245Z"
   },
   {
    "duration": 203,
    "start_time": "2023-08-25T19:57:04.424Z"
   },
   {
    "duration": 128,
    "start_time": "2023-08-25T19:57:04.635Z"
   },
   {
    "duration": 7,
    "start_time": "2023-08-25T19:57:04.765Z"
   },
   {
    "duration": 72,
    "start_time": "2023-08-25T19:57:04.774Z"
   },
   {
    "duration": 144,
    "start_time": "2023-08-25T19:57:04.847Z"
   },
   {
    "duration": 23,
    "start_time": "2023-08-25T19:57:11.217Z"
   },
   {
    "duration": 38,
    "start_time": "2023-08-25T19:58:21.465Z"
   },
   {
    "duration": 31,
    "start_time": "2023-08-25T19:58:28.787Z"
   },
   {
    "duration": 36,
    "start_time": "2023-08-25T19:58:34.369Z"
   },
   {
    "duration": 38,
    "start_time": "2023-08-25T19:59:30.830Z"
   },
   {
    "duration": 32,
    "start_time": "2023-08-25T20:04:54.189Z"
   },
   {
    "duration": 36,
    "start_time": "2023-08-25T20:04:59.231Z"
   },
   {
    "duration": 91,
    "start_time": "2023-08-25T20:06:47.639Z"
   },
   {
    "duration": 11,
    "start_time": "2023-08-25T20:06:58.850Z"
   },
   {
    "duration": 7,
    "start_time": "2023-08-25T20:07:20.872Z"
   },
   {
    "duration": 12,
    "start_time": "2023-08-25T20:07:25.382Z"
   },
   {
    "duration": 22,
    "start_time": "2023-08-25T20:07:54.100Z"
   },
   {
    "duration": 70,
    "start_time": "2023-08-25T20:08:03.673Z"
   },
   {
    "duration": 23,
    "start_time": "2023-08-25T20:08:15.661Z"
   },
   {
    "duration": 69,
    "start_time": "2023-08-25T20:08:21.255Z"
   },
   {
    "duration": 37,
    "start_time": "2023-08-25T20:09:32.643Z"
   },
   {
    "duration": 46,
    "start_time": "2023-08-25T20:10:10.000Z"
   },
   {
    "duration": 43,
    "start_time": "2023-08-25T20:10:39.817Z"
   },
   {
    "duration": 37,
    "start_time": "2023-08-25T20:10:52.005Z"
   },
   {
    "duration": 46,
    "start_time": "2023-08-25T20:10:58.828Z"
   },
   {
    "duration": 40,
    "start_time": "2023-08-25T20:12:06.609Z"
   },
   {
    "duration": 32,
    "start_time": "2023-08-25T20:12:54.355Z"
   },
   {
    "duration": 58,
    "start_time": "2023-08-25T20:13:01.200Z"
   },
   {
    "duration": 2494,
    "start_time": "2023-08-25T20:16:20.287Z"
   },
   {
    "duration": 43,
    "start_time": "2023-08-25T20:16:49.324Z"
   },
   {
    "duration": 28,
    "start_time": "2023-08-25T20:17:44.196Z"
   },
   {
    "duration": 41,
    "start_time": "2023-08-25T20:19:01.780Z"
   },
   {
    "duration": 76,
    "start_time": "2023-08-25T20:19:34.494Z"
   },
   {
    "duration": 30,
    "start_time": "2023-08-25T20:20:25.408Z"
   },
   {
    "duration": 32,
    "start_time": "2023-08-25T20:20:28.693Z"
   },
   {
    "duration": 31,
    "start_time": "2023-08-25T20:21:49.445Z"
   },
   {
    "duration": 43,
    "start_time": "2023-08-25T20:22:05.989Z"
   },
   {
    "duration": 44,
    "start_time": "2023-08-25T20:22:42.310Z"
   },
   {
    "duration": 41,
    "start_time": "2023-08-25T20:22:55.152Z"
   },
   {
    "duration": 39,
    "start_time": "2023-08-25T20:23:35.825Z"
   },
   {
    "duration": 51,
    "start_time": "2023-08-25T20:23:39.492Z"
   },
   {
    "duration": 34,
    "start_time": "2023-08-25T20:24:23.398Z"
   },
   {
    "duration": 34,
    "start_time": "2023-08-25T20:24:46.856Z"
   },
   {
    "duration": 38,
    "start_time": "2023-08-25T20:25:19.978Z"
   },
   {
    "duration": 34,
    "start_time": "2023-08-25T20:26:14.735Z"
   },
   {
    "duration": 25,
    "start_time": "2023-08-25T20:26:46.345Z"
   },
   {
    "duration": 36,
    "start_time": "2023-08-25T20:26:54.865Z"
   },
   {
    "duration": 36,
    "start_time": "2023-08-25T20:27:04.394Z"
   },
   {
    "duration": 33,
    "start_time": "2023-08-25T20:27:17.131Z"
   },
   {
    "duration": 22,
    "start_time": "2023-08-25T20:28:04.552Z"
   },
   {
    "duration": 40,
    "start_time": "2023-08-25T20:28:17.788Z"
   },
   {
    "duration": 35,
    "start_time": "2023-08-25T20:28:56.706Z"
   },
   {
    "duration": 37,
    "start_time": "2023-08-25T20:29:17.977Z"
   },
   {
    "duration": 23,
    "start_time": "2023-08-25T20:30:15.699Z"
   },
   {
    "duration": 29,
    "start_time": "2023-08-25T20:30:30.361Z"
   },
   {
    "duration": 24,
    "start_time": "2023-08-25T20:30:58.147Z"
   },
   {
    "duration": 24,
    "start_time": "2023-08-25T20:31:11.548Z"
   },
   {
    "duration": 107,
    "start_time": "2023-08-25T20:32:09.042Z"
   },
   {
    "duration": 46,
    "start_time": "2023-08-25T20:32:49.713Z"
   },
   {
    "duration": 33,
    "start_time": "2023-08-25T20:33:10.705Z"
   },
   {
    "duration": 35,
    "start_time": "2023-08-25T20:33:25.226Z"
   },
   {
    "duration": 45,
    "start_time": "2023-08-25T20:34:47.107Z"
   },
   {
    "duration": 50,
    "start_time": "2023-08-25T20:34:59.955Z"
   },
   {
    "duration": 20,
    "start_time": "2023-08-25T20:35:14.690Z"
   },
   {
    "duration": 24,
    "start_time": "2023-08-25T20:35:39.538Z"
   },
   {
    "duration": 22,
    "start_time": "2023-08-25T20:35:48.471Z"
   },
   {
    "duration": 23,
    "start_time": "2023-08-25T20:35:50.897Z"
   },
   {
    "duration": 6,
    "start_time": "2023-08-25T20:36:50.578Z"
   },
   {
    "duration": 15,
    "start_time": "2023-08-25T20:38:13.540Z"
   },
   {
    "duration": 27,
    "start_time": "2023-08-25T20:39:33.715Z"
   },
   {
    "duration": 29,
    "start_time": "2023-08-25T20:40:14.529Z"
   },
   {
    "duration": 29,
    "start_time": "2023-08-25T20:41:01.629Z"
   },
   {
    "duration": 36,
    "start_time": "2023-08-25T20:42:11.516Z"
   },
   {
    "duration": 18,
    "start_time": "2023-08-25T20:42:34.612Z"
   },
   {
    "duration": 37,
    "start_time": "2023-08-25T20:42:39.781Z"
   },
   {
    "duration": 42,
    "start_time": "2023-08-25T20:43:28.018Z"
   },
   {
    "duration": 45,
    "start_time": "2023-08-25T20:43:47.487Z"
   },
   {
    "duration": 1445,
    "start_time": "2023-08-25T20:44:00.744Z"
   },
   {
    "duration": 866,
    "start_time": "2023-08-25T20:44:02.192Z"
   },
   {
    "duration": 27,
    "start_time": "2023-08-25T20:44:03.060Z"
   },
   {
    "duration": 157,
    "start_time": "2023-08-25T20:44:03.088Z"
   },
   {
    "duration": 113,
    "start_time": "2023-08-25T20:44:03.248Z"
   },
   {
    "duration": 19,
    "start_time": "2023-08-25T20:44:03.363Z"
   },
   {
    "duration": 180,
    "start_time": "2023-08-25T20:44:03.384Z"
   },
   {
    "duration": 237,
    "start_time": "2023-08-25T20:44:03.566Z"
   },
   {
    "duration": 127,
    "start_time": "2023-08-25T20:44:03.805Z"
   },
   {
    "duration": 9,
    "start_time": "2023-08-25T20:44:03.935Z"
   },
   {
    "duration": 101,
    "start_time": "2023-08-25T20:44:03.946Z"
   },
   {
    "duration": 157,
    "start_time": "2023-08-25T20:44:04.050Z"
   },
   {
    "duration": 44,
    "start_time": "2023-08-25T20:44:04.209Z"
   },
   {
    "duration": 53,
    "start_time": "2023-08-25T20:44:04.256Z"
   },
   {
    "duration": 57,
    "start_time": "2023-08-25T20:44:32.413Z"
   },
   {
    "duration": 56,
    "start_time": "2023-08-25T20:45:45.533Z"
   },
   {
    "duration": 122,
    "start_time": "2023-08-25T20:46:20.999Z"
   },
   {
    "duration": 28,
    "start_time": "2023-08-25T20:46:38.404Z"
   },
   {
    "duration": 37,
    "start_time": "2023-08-25T20:46:56.123Z"
   },
   {
    "duration": 1324,
    "start_time": "2023-08-25T20:47:03.059Z"
   },
   {
    "duration": 835,
    "start_time": "2023-08-25T20:47:04.385Z"
   },
   {
    "duration": 26,
    "start_time": "2023-08-25T20:47:05.221Z"
   },
   {
    "duration": 165,
    "start_time": "2023-08-25T20:47:05.249Z"
   },
   {
    "duration": 109,
    "start_time": "2023-08-25T20:47:05.416Z"
   },
   {
    "duration": 16,
    "start_time": "2023-08-25T20:47:05.527Z"
   },
   {
    "duration": 220,
    "start_time": "2023-08-25T20:47:05.545Z"
   },
   {
    "duration": 311,
    "start_time": "2023-08-25T20:47:05.767Z"
   },
   {
    "duration": 126,
    "start_time": "2023-08-25T20:47:06.080Z"
   },
   {
    "duration": 17,
    "start_time": "2023-08-25T20:47:06.208Z"
   },
   {
    "duration": 53,
    "start_time": "2023-08-25T20:47:06.227Z"
   },
   {
    "duration": 151,
    "start_time": "2023-08-25T20:47:06.282Z"
   },
   {
    "duration": 37,
    "start_time": "2023-08-25T20:47:06.435Z"
   },
   {
    "duration": 23,
    "start_time": "2023-08-25T20:47:06.474Z"
   },
   {
    "duration": 124,
    "start_time": "2023-08-25T20:49:05.955Z"
   },
   {
    "duration": 1526,
    "start_time": "2023-08-25T20:49:14.711Z"
   },
   {
    "duration": 833,
    "start_time": "2023-08-25T20:49:16.239Z"
   },
   {
    "duration": 26,
    "start_time": "2023-08-25T20:49:17.074Z"
   },
   {
    "duration": 159,
    "start_time": "2023-08-25T20:49:17.103Z"
   },
   {
    "duration": 109,
    "start_time": "2023-08-25T20:49:17.264Z"
   },
   {
    "duration": 15,
    "start_time": "2023-08-25T20:49:17.375Z"
   },
   {
    "duration": 176,
    "start_time": "2023-08-25T20:49:17.391Z"
   },
   {
    "duration": 202,
    "start_time": "2023-08-25T20:49:17.569Z"
   },
   {
    "duration": 121,
    "start_time": "2023-08-25T20:49:17.773Z"
   },
   {
    "duration": 6,
    "start_time": "2023-08-25T20:49:17.897Z"
   },
   {
    "duration": 67,
    "start_time": "2023-08-25T20:49:17.904Z"
   },
   {
    "duration": 132,
    "start_time": "2023-08-25T20:49:17.973Z"
   },
   {
    "duration": 39,
    "start_time": "2023-08-25T20:49:18.107Z"
   },
   {
    "duration": 135,
    "start_time": "2023-08-25T20:49:18.148Z"
   },
   {
    "duration": 20,
    "start_time": "2023-08-25T20:49:33.830Z"
   },
   {
    "duration": 40,
    "start_time": "2023-08-25T20:49:39.792Z"
   },
   {
    "duration": 68,
    "start_time": "2023-08-25T20:51:21.215Z"
   },
   {
    "duration": 1407,
    "start_time": "2023-08-25T20:51:38.447Z"
   },
   {
    "duration": 915,
    "start_time": "2023-08-25T20:51:39.856Z"
   },
   {
    "duration": 28,
    "start_time": "2023-08-25T20:51:40.772Z"
   },
   {
    "duration": 154,
    "start_time": "2023-08-25T20:51:40.801Z"
   },
   {
    "duration": 182,
    "start_time": "2023-08-25T20:51:40.957Z"
   },
   {
    "duration": 24,
    "start_time": "2023-08-25T20:51:41.142Z"
   },
   {
    "duration": 181,
    "start_time": "2023-08-25T20:51:41.169Z"
   },
   {
    "duration": 213,
    "start_time": "2023-08-25T20:51:41.352Z"
   },
   {
    "duration": 133,
    "start_time": "2023-08-25T20:51:41.567Z"
   },
   {
    "duration": 7,
    "start_time": "2023-08-25T20:51:41.702Z"
   },
   {
    "duration": 56,
    "start_time": "2023-08-25T20:51:41.723Z"
   },
   {
    "duration": 154,
    "start_time": "2023-08-25T20:51:41.781Z"
   },
   {
    "duration": 37,
    "start_time": "2023-08-25T20:51:41.937Z"
   },
   {
    "duration": 61,
    "start_time": "2023-08-25T20:51:41.977Z"
   },
   {
    "duration": 1411,
    "start_time": "2023-08-25T20:54:50.075Z"
   },
   {
    "duration": 866,
    "start_time": "2023-08-25T20:54:51.488Z"
   },
   {
    "duration": 26,
    "start_time": "2023-08-25T20:54:52.356Z"
   },
   {
    "duration": 155,
    "start_time": "2023-08-25T20:54:52.384Z"
   },
   {
    "duration": 108,
    "start_time": "2023-08-25T20:54:52.541Z"
   },
   {
    "duration": 17,
    "start_time": "2023-08-25T20:54:52.651Z"
   },
   {
    "duration": 193,
    "start_time": "2023-08-25T20:54:52.670Z"
   },
   {
    "duration": 212,
    "start_time": "2023-08-25T20:54:52.865Z"
   },
   {
    "duration": 124,
    "start_time": "2023-08-25T20:54:53.078Z"
   },
   {
    "duration": 8,
    "start_time": "2023-08-25T20:54:53.204Z"
   },
   {
    "duration": 104,
    "start_time": "2023-08-25T20:54:53.224Z"
   },
   {
    "duration": 146,
    "start_time": "2023-08-25T20:54:53.330Z"
   },
   {
    "duration": 51,
    "start_time": "2023-08-25T20:54:53.479Z"
   },
   {
    "duration": 40,
    "start_time": "2023-08-25T20:54:55.106Z"
   },
   {
    "duration": 5,
    "start_time": "2023-08-25T20:55:12.401Z"
   },
   {
    "duration": 1598,
    "start_time": "2023-08-25T20:55:22.637Z"
   },
   {
    "duration": 1638,
    "start_time": "2023-08-25T20:55:30.103Z"
   },
   {
    "duration": 42,
    "start_time": "2023-08-25T20:55:34.810Z"
   },
   {
    "duration": 10,
    "start_time": "2023-08-25T20:57:47.732Z"
   },
   {
    "duration": 325,
    "start_time": "2023-08-25T20:57:57.618Z"
   },
   {
    "duration": 76,
    "start_time": "2023-08-25T20:58:08.025Z"
   },
   {
    "duration": 73,
    "start_time": "2023-08-25T20:58:14.743Z"
   },
   {
    "duration": 6,
    "start_time": "2023-08-25T20:58:19.799Z"
   },
   {
    "duration": 5,
    "start_time": "2023-08-25T20:58:41.066Z"
   },
   {
    "duration": 49,
    "start_time": "2023-08-25T20:58:49.857Z"
   },
   {
    "duration": 88,
    "start_time": "2023-08-25T21:01:33.061Z"
   },
   {
    "duration": 99,
    "start_time": "2023-08-25T21:02:18.795Z"
   },
   {
    "duration": 73,
    "start_time": "2023-08-25T21:03:27.254Z"
   },
   {
    "duration": 77,
    "start_time": "2023-08-25T21:03:51.663Z"
   },
   {
    "duration": 22,
    "start_time": "2023-08-25T21:04:07.743Z"
   },
   {
    "duration": 18,
    "start_time": "2023-08-25T21:04:46.301Z"
   },
   {
    "duration": 140,
    "start_time": "2023-08-25T21:05:01.845Z"
   },
   {
    "duration": 34,
    "start_time": "2023-08-25T21:05:16.230Z"
   },
   {
    "duration": 114,
    "start_time": "2023-08-25T21:05:28.971Z"
   },
   {
    "duration": 61,
    "start_time": "2023-08-25T21:06:23.822Z"
   },
   {
    "duration": 1465,
    "start_time": "2023-08-25T21:07:37.460Z"
   },
   {
    "duration": 848,
    "start_time": "2023-08-25T21:07:38.927Z"
   },
   {
    "duration": 25,
    "start_time": "2023-08-25T21:07:39.776Z"
   },
   {
    "duration": 141,
    "start_time": "2023-08-25T21:07:39.803Z"
   },
   {
    "duration": 151,
    "start_time": "2023-08-25T21:07:39.947Z"
   },
   {
    "duration": 16,
    "start_time": "2023-08-25T21:07:40.100Z"
   },
   {
    "duration": 176,
    "start_time": "2023-08-25T21:07:40.125Z"
   },
   {
    "duration": 230,
    "start_time": "2023-08-25T21:07:40.303Z"
   },
   {
    "duration": 130,
    "start_time": "2023-08-25T21:07:40.535Z"
   },
   {
    "duration": 6,
    "start_time": "2023-08-25T21:07:40.667Z"
   },
   {
    "duration": 69,
    "start_time": "2023-08-25T21:07:40.674Z"
   },
   {
    "duration": 151,
    "start_time": "2023-08-25T21:07:40.745Z"
   },
   {
    "duration": 57,
    "start_time": "2023-08-25T21:07:40.898Z"
   },
   {
    "duration": 326,
    "start_time": "2023-08-25T21:07:40.958Z"
   },
   {
    "duration": 125,
    "start_time": "2023-08-25T21:07:43.232Z"
   },
   {
    "duration": 49,
    "start_time": "2023-08-25T21:08:46.864Z"
   },
   {
    "duration": 147,
    "start_time": "2023-08-25T21:08:58.592Z"
   },
   {
    "duration": 30,
    "start_time": "2023-08-25T21:09:32.512Z"
   },
   {
    "duration": 15,
    "start_time": "2023-08-25T21:09:36.681Z"
   },
   {
    "duration": 8,
    "start_time": "2023-08-25T21:09:43.040Z"
   },
   {
    "duration": 994,
    "start_time": "2023-08-25T21:09:43.050Z"
   },
   {
    "duration": 30,
    "start_time": "2023-08-25T21:09:44.046Z"
   },
   {
    "duration": 228,
    "start_time": "2023-08-25T21:09:44.079Z"
   },
   {
    "duration": 102,
    "start_time": "2023-08-25T21:09:44.309Z"
   },
   {
    "duration": 35,
    "start_time": "2023-08-25T21:09:44.414Z"
   },
   {
    "duration": 206,
    "start_time": "2023-08-25T21:09:44.452Z"
   },
   {
    "duration": 290,
    "start_time": "2023-08-25T21:09:44.660Z"
   },
   {
    "duration": 131,
    "start_time": "2023-08-25T21:09:44.958Z"
   },
   {
    "duration": 9,
    "start_time": "2023-08-25T21:09:45.092Z"
   },
   {
    "duration": 61,
    "start_time": "2023-08-25T21:09:45.104Z"
   },
   {
    "duration": 246,
    "start_time": "2023-08-25T21:09:45.167Z"
   },
   {
    "duration": 62,
    "start_time": "2023-08-25T21:09:45.415Z"
   },
   {
    "duration": 327,
    "start_time": "2023-08-25T21:09:47.603Z"
   },
   {
    "duration": 94,
    "start_time": "2023-08-25T21:10:02.163Z"
   },
   {
    "duration": 105,
    "start_time": "2023-08-25T21:12:20.891Z"
   },
   {
    "duration": 10,
    "start_time": "2023-08-25T21:12:29.943Z"
   },
   {
    "duration": 132,
    "start_time": "2023-08-25T21:16:52.591Z"
   },
   {
    "duration": 88,
    "start_time": "2023-08-25T21:16:57.006Z"
   },
   {
    "duration": 3,
    "start_time": "2023-08-25T21:17:04.848Z"
   },
   {
    "duration": 16,
    "start_time": "2023-08-25T21:17:15.979Z"
   },
   {
    "duration": 17,
    "start_time": "2023-08-25T21:17:53.645Z"
   },
   {
    "duration": 338,
    "start_time": "2023-08-25T21:17:58.639Z"
   },
   {
    "duration": 33,
    "start_time": "2023-08-25T21:18:09.586Z"
   },
   {
    "duration": 47,
    "start_time": "2023-08-25T21:18:19.095Z"
   },
   {
    "duration": 309,
    "start_time": "2023-08-25T21:18:20.471Z"
   },
   {
    "duration": 33,
    "start_time": "2023-08-25T21:18:22.588Z"
   },
   {
    "duration": 23,
    "start_time": "2023-08-25T21:19:24.147Z"
   },
   {
    "duration": 41,
    "start_time": "2023-08-25T21:19:25.045Z"
   },
   {
    "duration": 40,
    "start_time": "2023-08-25T21:19:25.823Z"
   },
   {
    "duration": 184,
    "start_time": "2023-08-25T21:20:20.924Z"
   },
   {
    "duration": 133,
    "start_time": "2023-08-25T21:20:24.858Z"
   },
   {
    "duration": 45,
    "start_time": "2023-08-25T21:20:35.289Z"
   },
   {
    "duration": 37,
    "start_time": "2023-08-25T21:20:43.322Z"
   },
   {
    "duration": 19,
    "start_time": "2023-08-25T21:20:54.160Z"
   },
   {
    "duration": 188,
    "start_time": "2023-08-25T21:23:00.377Z"
   },
   {
    "duration": 23,
    "start_time": "2023-08-25T21:23:16.627Z"
   },
   {
    "duration": 17,
    "start_time": "2023-08-25T21:25:50.850Z"
   },
   {
    "duration": 436,
    "start_time": "2023-08-25T21:27:20.582Z"
   },
   {
    "duration": 501,
    "start_time": "2023-08-25T21:27:46.315Z"
   },
   {
    "duration": 657,
    "start_time": "2023-08-25T21:27:53.584Z"
   },
   {
    "duration": 1346,
    "start_time": "2023-08-25T21:28:20.740Z"
   },
   {
    "duration": 816,
    "start_time": "2023-08-25T21:28:22.088Z"
   },
   {
    "duration": 32,
    "start_time": "2023-08-25T21:28:22.906Z"
   },
   {
    "duration": 151,
    "start_time": "2023-08-25T21:28:22.940Z"
   },
   {
    "duration": 103,
    "start_time": "2023-08-25T21:28:23.092Z"
   },
   {
    "duration": 15,
    "start_time": "2023-08-25T21:28:23.197Z"
   },
   {
    "duration": 160,
    "start_time": "2023-08-25T21:28:23.224Z"
   },
   {
    "duration": 202,
    "start_time": "2023-08-25T21:28:23.385Z"
   },
   {
    "duration": 125,
    "start_time": "2023-08-25T21:28:23.589Z"
   },
   {
    "duration": 9,
    "start_time": "2023-08-25T21:28:23.716Z"
   },
   {
    "duration": 51,
    "start_time": "2023-08-25T21:28:23.726Z"
   },
   {
    "duration": 151,
    "start_time": "2023-08-25T21:28:23.778Z"
   },
   {
    "duration": 38,
    "start_time": "2023-08-25T21:28:23.931Z"
   },
   {
    "duration": 34,
    "start_time": "2023-08-25T21:28:23.971Z"
   },
   {
    "duration": 16,
    "start_time": "2023-08-25T21:28:24.025Z"
   },
   {
    "duration": 31,
    "start_time": "2023-08-25T21:28:24.043Z"
   },
   {
    "duration": 59,
    "start_time": "2023-08-25T21:28:24.075Z"
   },
   {
    "duration": 401,
    "start_time": "2023-08-25T21:28:26.323Z"
   },
   {
    "duration": 586,
    "start_time": "2023-08-25T21:28:30.295Z"
   },
   {
    "duration": 489,
    "start_time": "2023-08-25T21:30:41.201Z"
   },
   {
    "duration": 411,
    "start_time": "2023-08-25T21:30:52.618Z"
   },
   {
    "duration": 1331,
    "start_time": "2023-08-25T21:31:07.060Z"
   },
   {
    "duration": 844,
    "start_time": "2023-08-25T21:31:08.394Z"
   },
   {
    "duration": 29,
    "start_time": "2023-08-25T21:31:09.240Z"
   },
   {
    "duration": 130,
    "start_time": "2023-08-25T21:31:09.271Z"
   },
   {
    "duration": 153,
    "start_time": "2023-08-25T21:31:09.423Z"
   },
   {
    "duration": 17,
    "start_time": "2023-08-25T21:31:09.578Z"
   },
   {
    "duration": 187,
    "start_time": "2023-08-25T21:31:09.597Z"
   },
   {
    "duration": 206,
    "start_time": "2023-08-25T21:31:09.785Z"
   },
   {
    "duration": 131,
    "start_time": "2023-08-25T21:31:09.993Z"
   },
   {
    "duration": 6,
    "start_time": "2023-08-25T21:31:10.125Z"
   },
   {
    "duration": 55,
    "start_time": "2023-08-25T21:31:10.133Z"
   },
   {
    "duration": 169,
    "start_time": "2023-08-25T21:31:10.190Z"
   },
   {
    "duration": 51,
    "start_time": "2023-08-25T21:31:10.361Z"
   },
   {
    "duration": 34,
    "start_time": "2023-08-25T21:31:10.426Z"
   },
   {
    "duration": 21,
    "start_time": "2023-08-25T21:31:14.354Z"
   },
   {
    "duration": 40,
    "start_time": "2023-08-25T21:31:14.920Z"
   },
   {
    "duration": 31,
    "start_time": "2023-08-25T21:31:16.023Z"
   },
   {
    "duration": 24,
    "start_time": "2023-08-25T21:31:21.470Z"
   },
   {
    "duration": 6,
    "start_time": "2023-08-25T21:31:33.535Z"
   },
   {
    "duration": 20,
    "start_time": "2023-08-25T21:32:29.394Z"
   },
   {
    "duration": 504,
    "start_time": "2023-08-25T21:32:29.953Z"
   },
   {
    "duration": 418,
    "start_time": "2023-08-25T21:33:05.774Z"
   },
   {
    "duration": 584,
    "start_time": "2023-08-25T21:33:08.874Z"
   },
   {
    "duration": 23,
    "start_time": "2023-08-25T21:33:38.711Z"
   },
   {
    "duration": 117,
    "start_time": "2023-08-25T21:34:08.636Z"
   },
   {
    "duration": 24,
    "start_time": "2023-08-25T21:36:22.024Z"
   },
   {
    "duration": 19,
    "start_time": "2023-08-25T21:36:29.867Z"
   },
   {
    "duration": 1408,
    "start_time": "2023-08-25T21:36:36.585Z"
   },
   {
    "duration": 843,
    "start_time": "2023-08-25T21:36:37.995Z"
   },
   {
    "duration": 26,
    "start_time": "2023-08-25T21:36:38.840Z"
   },
   {
    "duration": 161,
    "start_time": "2023-08-25T21:36:38.868Z"
   },
   {
    "duration": 105,
    "start_time": "2023-08-25T21:36:39.032Z"
   },
   {
    "duration": 15,
    "start_time": "2023-08-25T21:36:39.139Z"
   },
   {
    "duration": 198,
    "start_time": "2023-08-25T21:36:39.156Z"
   },
   {
    "duration": 203,
    "start_time": "2023-08-25T21:36:39.356Z"
   },
   {
    "duration": 135,
    "start_time": "2023-08-25T21:36:39.561Z"
   },
   {
    "duration": 5,
    "start_time": "2023-08-25T21:36:39.698Z"
   },
   {
    "duration": 71,
    "start_time": "2023-08-25T21:36:39.705Z"
   },
   {
    "duration": 147,
    "start_time": "2023-08-25T21:36:39.778Z"
   },
   {
    "duration": 37,
    "start_time": "2023-08-25T21:36:39.927Z"
   },
   {
    "duration": 36,
    "start_time": "2023-08-25T21:36:39.966Z"
   },
   {
    "duration": 44,
    "start_time": "2023-08-25T21:36:40.023Z"
   },
   {
    "duration": 33,
    "start_time": "2023-08-25T21:36:40.069Z"
   },
   {
    "duration": 33,
    "start_time": "2023-08-25T21:36:40.103Z"
   },
   {
    "duration": 8,
    "start_time": "2023-08-25T21:36:40.138Z"
   },
   {
    "duration": 23,
    "start_time": "2023-08-25T21:36:40.147Z"
   },
   {
    "duration": 20,
    "start_time": "2023-08-25T21:37:26.307Z"
   },
   {
    "duration": 145,
    "start_time": "2023-08-25T21:40:02.949Z"
   },
   {
    "duration": 52,
    "start_time": "2023-08-25T21:40:11.319Z"
   },
   {
    "duration": 401,
    "start_time": "2023-08-25T21:40:27.030Z"
   },
   {
    "duration": 37,
    "start_time": "2023-08-25T21:40:52.781Z"
   },
   {
    "duration": 42,
    "start_time": "2023-08-25T21:40:54.397Z"
   },
   {
    "duration": 31,
    "start_time": "2023-08-25T21:41:40.207Z"
   },
   {
    "duration": 1397,
    "start_time": "2023-08-25T21:41:46.217Z"
   },
   {
    "duration": 851,
    "start_time": "2023-08-25T21:41:47.616Z"
   },
   {
    "duration": 28,
    "start_time": "2023-08-25T21:41:48.469Z"
   },
   {
    "duration": 151,
    "start_time": "2023-08-25T21:41:48.499Z"
   },
   {
    "duration": 178,
    "start_time": "2023-08-25T21:41:48.651Z"
   },
   {
    "duration": 19,
    "start_time": "2023-08-25T21:41:48.831Z"
   },
   {
    "duration": 171,
    "start_time": "2023-08-25T21:41:48.852Z"
   },
   {
    "duration": 203,
    "start_time": "2023-08-25T21:41:49.025Z"
   },
   {
    "duration": 131,
    "start_time": "2023-08-25T21:41:49.230Z"
   },
   {
    "duration": 5,
    "start_time": "2023-08-25T21:41:49.363Z"
   },
   {
    "duration": 70,
    "start_time": "2023-08-25T21:41:49.369Z"
   },
   {
    "duration": 138,
    "start_time": "2023-08-25T21:41:49.441Z"
   },
   {
    "duration": 50,
    "start_time": "2023-08-25T21:41:49.581Z"
   },
   {
    "duration": 33,
    "start_time": "2023-08-25T21:41:49.633Z"
   },
   {
    "duration": 16,
    "start_time": "2023-08-25T21:41:49.667Z"
   },
   {
    "duration": 54,
    "start_time": "2023-08-25T21:41:49.685Z"
   },
   {
    "duration": 21,
    "start_time": "2023-08-25T21:41:49.741Z"
   },
   {
    "duration": 6,
    "start_time": "2023-08-25T21:41:49.764Z"
   },
   {
    "duration": 160,
    "start_time": "2023-08-25T21:41:49.771Z"
   },
   {
    "duration": 56,
    "start_time": "2023-08-25T21:42:35.491Z"
   },
   {
    "duration": 23,
    "start_time": "2023-08-25T21:42:40.137Z"
   },
   {
    "duration": 83,
    "start_time": "2023-08-25T21:46:13.110Z"
   },
   {
    "duration": 69,
    "start_time": "2023-08-25T21:46:17.062Z"
   },
   {
    "duration": 24,
    "start_time": "2023-08-25T21:46:19.130Z"
   },
   {
    "duration": 1522,
    "start_time": "2023-08-25T21:46:29.893Z"
   },
   {
    "duration": 888,
    "start_time": "2023-08-25T21:46:31.417Z"
   },
   {
    "duration": 35,
    "start_time": "2023-08-25T21:46:32.307Z"
   },
   {
    "duration": 153,
    "start_time": "2023-08-25T21:46:32.345Z"
   },
   {
    "duration": 103,
    "start_time": "2023-08-25T21:46:32.501Z"
   },
   {
    "duration": 23,
    "start_time": "2023-08-25T21:46:32.606Z"
   },
   {
    "duration": 170,
    "start_time": "2023-08-25T21:46:32.632Z"
   },
   {
    "duration": 226,
    "start_time": "2023-08-25T21:46:32.803Z"
   },
   {
    "duration": 126,
    "start_time": "2023-08-25T21:46:33.031Z"
   },
   {
    "duration": 5,
    "start_time": "2023-08-25T21:46:33.159Z"
   },
   {
    "duration": 72,
    "start_time": "2023-08-25T21:46:33.166Z"
   },
   {
    "duration": 135,
    "start_time": "2023-08-25T21:46:33.240Z"
   },
   {
    "duration": 52,
    "start_time": "2023-08-25T21:46:33.377Z"
   },
   {
    "duration": 33,
    "start_time": "2023-08-25T21:46:33.431Z"
   },
   {
    "duration": 17,
    "start_time": "2023-08-25T21:46:33.465Z"
   },
   {
    "duration": 59,
    "start_time": "2023-08-25T21:46:33.485Z"
   },
   {
    "duration": 22,
    "start_time": "2023-08-25T21:46:33.546Z"
   },
   {
    "duration": 108,
    "start_time": "2023-08-25T21:46:33.570Z"
   },
   {
    "duration": 22,
    "start_time": "2023-08-25T21:46:33.680Z"
   },
   {
    "duration": 1457,
    "start_time": "2023-08-25T21:47:15.076Z"
   },
   {
    "duration": 847,
    "start_time": "2023-08-25T21:47:16.534Z"
   },
   {
    "duration": 24,
    "start_time": "2023-08-25T21:47:17.383Z"
   },
   {
    "duration": 151,
    "start_time": "2023-08-25T21:47:17.409Z"
   },
   {
    "duration": 104,
    "start_time": "2023-08-25T21:47:17.562Z"
   },
   {
    "duration": 17,
    "start_time": "2023-08-25T21:47:17.667Z"
   },
   {
    "duration": 198,
    "start_time": "2023-08-25T21:47:17.687Z"
   },
   {
    "duration": 230,
    "start_time": "2023-08-25T21:47:17.887Z"
   },
   {
    "duration": 134,
    "start_time": "2023-08-25T21:47:18.119Z"
   },
   {
    "duration": 9,
    "start_time": "2023-08-25T21:47:18.255Z"
   },
   {
    "duration": 70,
    "start_time": "2023-08-25T21:47:18.266Z"
   },
   {
    "duration": 149,
    "start_time": "2023-08-25T21:47:18.338Z"
   },
   {
    "duration": 69,
    "start_time": "2023-08-25T21:47:18.489Z"
   },
   {
    "duration": 34,
    "start_time": "2023-08-25T21:47:18.560Z"
   },
   {
    "duration": 34,
    "start_time": "2023-08-25T21:47:18.596Z"
   },
   {
    "duration": 32,
    "start_time": "2023-08-25T21:47:18.632Z"
   },
   {
    "duration": 22,
    "start_time": "2023-08-25T21:47:18.665Z"
   },
   {
    "duration": 22,
    "start_time": "2023-08-25T21:47:21.130Z"
   },
   {
    "duration": 69,
    "start_time": "2023-08-25T21:47:23.215Z"
   },
   {
    "duration": 35,
    "start_time": "2023-08-25T21:47:23.938Z"
   },
   {
    "duration": 29,
    "start_time": "2023-08-25T21:47:36.079Z"
   },
   {
    "duration": 63,
    "start_time": "2023-08-25T21:47:47.528Z"
   },
   {
    "duration": 21,
    "start_time": "2023-08-25T21:47:48.241Z"
   },
   {
    "duration": 19,
    "start_time": "2023-08-25T21:47:56.899Z"
   },
   {
    "duration": 1436,
    "start_time": "2023-08-25T21:48:14.723Z"
   },
   {
    "duration": 840,
    "start_time": "2023-08-25T21:48:16.161Z"
   },
   {
    "duration": 32,
    "start_time": "2023-08-25T21:48:17.004Z"
   },
   {
    "duration": 163,
    "start_time": "2023-08-25T21:48:17.038Z"
   },
   {
    "duration": 102,
    "start_time": "2023-08-25T21:48:17.204Z"
   },
   {
    "duration": 24,
    "start_time": "2023-08-25T21:48:17.308Z"
   },
   {
    "duration": 173,
    "start_time": "2023-08-25T21:48:17.334Z"
   },
   {
    "duration": 205,
    "start_time": "2023-08-25T21:48:17.508Z"
   },
   {
    "duration": 132,
    "start_time": "2023-08-25T21:48:17.715Z"
   },
   {
    "duration": 7,
    "start_time": "2023-08-25T21:48:17.849Z"
   },
   {
    "duration": 75,
    "start_time": "2023-08-25T21:48:17.858Z"
   },
   {
    "duration": 141,
    "start_time": "2023-08-25T21:48:17.935Z"
   },
   {
    "duration": 47,
    "start_time": "2023-08-25T21:48:18.078Z"
   },
   {
    "duration": 33,
    "start_time": "2023-08-25T21:48:18.128Z"
   },
   {
    "duration": 17,
    "start_time": "2023-08-25T21:48:18.164Z"
   },
   {
    "duration": 57,
    "start_time": "2023-08-25T21:48:18.183Z"
   },
   {
    "duration": 23,
    "start_time": "2023-08-25T21:48:18.242Z"
   },
   {
    "duration": 19,
    "start_time": "2023-08-25T21:48:18.266Z"
   },
   {
    "duration": 112,
    "start_time": "2023-08-25T21:48:18.287Z"
   },
   {
    "duration": 26,
    "start_time": "2023-08-25T21:48:18.401Z"
   },
   {
    "duration": 52,
    "start_time": "2023-08-25T21:48:46.196Z"
   },
   {
    "duration": 22,
    "start_time": "2023-08-25T21:48:49.042Z"
   },
   {
    "duration": 1421,
    "start_time": "2023-08-25T21:53:20.775Z"
   },
   {
    "duration": 864,
    "start_time": "2023-08-25T21:53:22.198Z"
   },
   {
    "duration": 25,
    "start_time": "2023-08-25T21:53:23.064Z"
   },
   {
    "duration": 155,
    "start_time": "2023-08-25T21:53:23.091Z"
   },
   {
    "duration": 106,
    "start_time": "2023-08-25T21:53:23.249Z"
   },
   {
    "duration": 16,
    "start_time": "2023-08-25T21:53:23.357Z"
   },
   {
    "duration": 178,
    "start_time": "2023-08-25T21:53:23.374Z"
   },
   {
    "duration": 199,
    "start_time": "2023-08-25T21:53:23.554Z"
   },
   {
    "duration": 125,
    "start_time": "2023-08-25T21:53:23.755Z"
   },
   {
    "duration": 7,
    "start_time": "2023-08-25T21:53:23.881Z"
   },
   {
    "duration": 84,
    "start_time": "2023-08-25T21:53:23.889Z"
   },
   {
    "duration": 125,
    "start_time": "2023-08-25T21:53:26.434Z"
   },
   {
    "duration": 47,
    "start_time": "2023-08-25T21:53:31.401Z"
   },
   {
    "duration": 37,
    "start_time": "2023-08-25T21:53:38.208Z"
   },
   {
    "duration": 19,
    "start_time": "2023-08-25T21:54:05.797Z"
   },
   {
    "duration": 1510,
    "start_time": "2023-08-25T21:54:06.232Z"
   },
   {
    "duration": 42,
    "start_time": "2023-08-25T21:54:57.171Z"
   },
   {
    "duration": 32,
    "start_time": "2023-08-25T21:54:59.960Z"
   },
   {
    "duration": 18,
    "start_time": "2023-08-25T21:55:03.213Z"
   },
   {
    "duration": 41,
    "start_time": "2023-08-25T21:55:03.527Z"
   },
   {
    "duration": 21,
    "start_time": "2023-08-25T21:55:18.597Z"
   },
   {
    "duration": 26,
    "start_time": "2023-08-25T22:00:32.605Z"
   },
   {
    "duration": 35,
    "start_time": "2023-08-25T22:00:46.937Z"
   },
   {
    "duration": 20,
    "start_time": "2023-08-25T22:01:31.569Z"
   },
   {
    "duration": 1371,
    "start_time": "2023-08-25T22:02:01.567Z"
   },
   {
    "duration": 879,
    "start_time": "2023-08-25T22:02:02.939Z"
   },
   {
    "duration": 27,
    "start_time": "2023-08-25T22:02:03.819Z"
   },
   {
    "duration": 153,
    "start_time": "2023-08-25T22:02:03.847Z"
   },
   {
    "duration": 100,
    "start_time": "2023-08-25T22:02:04.002Z"
   },
   {
    "duration": 24,
    "start_time": "2023-08-25T22:02:04.104Z"
   },
   {
    "duration": 174,
    "start_time": "2023-08-25T22:02:04.129Z"
   },
   {
    "duration": 209,
    "start_time": "2023-08-25T22:02:04.304Z"
   },
   {
    "duration": 126,
    "start_time": "2023-08-25T22:02:04.515Z"
   },
   {
    "duration": 7,
    "start_time": "2023-08-25T22:02:04.643Z"
   },
   {
    "duration": 53,
    "start_time": "2023-08-25T22:02:04.652Z"
   },
   {
    "duration": 154,
    "start_time": "2023-08-25T22:02:04.706Z"
   },
   {
    "duration": 41,
    "start_time": "2023-08-25T22:02:04.862Z"
   },
   {
    "duration": 39,
    "start_time": "2023-08-25T22:02:04.923Z"
   },
   {
    "duration": 17,
    "start_time": "2023-08-25T22:02:04.964Z"
   },
   {
    "duration": 21,
    "start_time": "2023-08-25T22:02:07.970Z"
   },
   {
    "duration": 32,
    "start_time": "2023-08-25T22:02:08.631Z"
   },
   {
    "duration": 22,
    "start_time": "2023-08-25T22:02:09.705Z"
   },
   {
    "duration": 20,
    "start_time": "2023-08-25T22:02:11.572Z"
   },
   {
    "duration": 15,
    "start_time": "2023-08-25T22:04:43.221Z"
   },
   {
    "duration": 131,
    "start_time": "2023-08-25T22:09:14.575Z"
   },
   {
    "duration": 1688,
    "start_time": "2023-08-26T10:36:50.284Z"
   },
   {
    "duration": 1152,
    "start_time": "2023-08-26T10:36:51.975Z"
   },
   {
    "duration": 27,
    "start_time": "2023-08-26T10:36:53.129Z"
   },
   {
    "duration": 159,
    "start_time": "2023-08-26T10:36:53.157Z"
   },
   {
    "duration": 103,
    "start_time": "2023-08-26T10:36:53.318Z"
   },
   {
    "duration": 18,
    "start_time": "2023-08-26T10:36:53.423Z"
   },
   {
    "duration": 180,
    "start_time": "2023-08-26T10:36:53.443Z"
   },
   {
    "duration": 213,
    "start_time": "2023-08-26T10:36:53.625Z"
   },
   {
    "duration": 131,
    "start_time": "2023-08-26T10:36:53.840Z"
   },
   {
    "duration": 6,
    "start_time": "2023-08-26T10:36:53.981Z"
   },
   {
    "duration": 53,
    "start_time": "2023-08-26T10:36:53.989Z"
   },
   {
    "duration": 151,
    "start_time": "2023-08-26T10:36:54.043Z"
   },
   {
    "duration": 38,
    "start_time": "2023-08-26T10:36:54.195Z"
   },
   {
    "duration": 49,
    "start_time": "2023-08-26T10:36:54.236Z"
   },
   {
    "duration": 16,
    "start_time": "2023-08-26T10:36:54.287Z"
   },
   {
    "duration": 31,
    "start_time": "2023-08-26T10:36:54.304Z"
   },
   {
    "duration": 13,
    "start_time": "2023-08-26T10:36:54.336Z"
   },
   {
    "duration": 304,
    "start_time": "2023-08-26T10:36:57.925Z"
   },
   {
    "duration": 119,
    "start_time": "2023-08-26T10:37:08.308Z"
   },
   {
    "duration": 2,
    "start_time": "2023-08-26T10:37:16.101Z"
   },
   {
    "duration": 3,
    "start_time": "2023-08-26T10:37:18.590Z"
   },
   {
    "duration": 1646,
    "start_time": "2023-08-26T10:37:31.693Z"
   },
   {
    "duration": 849,
    "start_time": "2023-08-26T10:37:33.341Z"
   },
   {
    "duration": 27,
    "start_time": "2023-08-26T10:37:34.192Z"
   },
   {
    "duration": 149,
    "start_time": "2023-08-26T10:37:34.221Z"
   },
   {
    "duration": 108,
    "start_time": "2023-08-26T10:37:34.380Z"
   },
   {
    "duration": 17,
    "start_time": "2023-08-26T10:37:34.490Z"
   },
   {
    "duration": 178,
    "start_time": "2023-08-26T10:37:34.509Z"
   },
   {
    "duration": 220,
    "start_time": "2023-08-26T10:37:34.689Z"
   },
   {
    "duration": 133,
    "start_time": "2023-08-26T10:37:34.912Z"
   },
   {
    "duration": 7,
    "start_time": "2023-08-26T10:37:35.048Z"
   },
   {
    "duration": 86,
    "start_time": "2023-08-26T10:37:35.057Z"
   },
   {
    "duration": 144,
    "start_time": "2023-08-26T10:37:35.145Z"
   },
   {
    "duration": 40,
    "start_time": "2023-08-26T10:37:35.292Z"
   },
   {
    "duration": 52,
    "start_time": "2023-08-26T10:37:35.335Z"
   },
   {
    "duration": 18,
    "start_time": "2023-08-26T10:37:35.389Z"
   },
   {
    "duration": 34,
    "start_time": "2023-08-26T10:37:35.408Z"
   },
   {
    "duration": 39,
    "start_time": "2023-08-26T10:37:35.444Z"
   },
   {
    "duration": 296,
    "start_time": "2023-08-26T10:37:35.485Z"
   },
   {
    "duration": 32,
    "start_time": "2023-08-26T10:37:40.551Z"
   },
   {
    "duration": 38,
    "start_time": "2023-08-26T10:37:49.891Z"
   },
   {
    "duration": 29,
    "start_time": "2023-08-26T10:38:10.413Z"
   },
   {
    "duration": 22,
    "start_time": "2023-08-26T10:38:24.997Z"
   },
   {
    "duration": 206,
    "start_time": "2023-08-26T10:39:28.433Z"
   },
   {
    "duration": 17,
    "start_time": "2023-08-26T10:40:16.573Z"
   },
   {
    "duration": 17,
    "start_time": "2023-08-26T10:40:20.666Z"
   },
   {
    "duration": 130,
    "start_time": "2023-08-26T10:40:49.611Z"
   },
   {
    "duration": 29,
    "start_time": "2023-08-26T10:46:14.553Z"
   },
   {
    "duration": 15,
    "start_time": "2023-08-26T10:47:03.705Z"
   },
   {
    "duration": 90,
    "start_time": "2023-08-26T10:47:12.121Z"
   },
   {
    "duration": 110,
    "start_time": "2023-08-26T10:47:44.205Z"
   },
   {
    "duration": 30,
    "start_time": "2023-08-26T10:47:53.671Z"
   },
   {
    "duration": 21,
    "start_time": "2023-08-26T10:50:24.916Z"
   },
   {
    "duration": 12,
    "start_time": "2023-08-26T10:50:32.391Z"
   },
   {
    "duration": 35,
    "start_time": "2023-08-26T10:50:35.486Z"
   },
   {
    "duration": 35,
    "start_time": "2023-08-26T10:50:46.813Z"
   },
   {
    "duration": 20,
    "start_time": "2023-08-26T10:53:08.206Z"
   },
   {
    "duration": 173,
    "start_time": "2023-08-26T10:53:41.892Z"
   },
   {
    "duration": 128,
    "start_time": "2023-08-26T10:53:45.446Z"
   },
   {
    "duration": 97,
    "start_time": "2023-08-26T10:54:16.123Z"
   },
   {
    "duration": 28,
    "start_time": "2023-08-26T10:54:43.884Z"
   },
   {
    "duration": 33,
    "start_time": "2023-08-26T10:56:56.188Z"
   },
   {
    "duration": 20,
    "start_time": "2023-08-26T10:57:17.924Z"
   },
   {
    "duration": 11,
    "start_time": "2023-08-26T10:57:32.669Z"
   },
   {
    "duration": 13,
    "start_time": "2023-08-26T10:57:46.725Z"
   },
   {
    "duration": 27,
    "start_time": "2023-08-26T10:57:58.142Z"
   },
   {
    "duration": 31,
    "start_time": "2023-08-26T10:59:20.287Z"
   },
   {
    "duration": 1933,
    "start_time": "2023-08-26T13:16:03.398Z"
   },
   {
    "duration": 3,
    "start_time": "2023-08-26T13:24:25.425Z"
   },
   {
    "duration": 1184,
    "start_time": "2023-08-26T13:24:25.430Z"
   },
   {
    "duration": 26,
    "start_time": "2023-08-26T13:24:26.615Z"
   },
   {
    "duration": 180,
    "start_time": "2023-08-26T13:24:26.643Z"
   },
   {
    "duration": 113,
    "start_time": "2023-08-26T13:24:26.825Z"
   },
   {
    "duration": 17,
    "start_time": "2023-08-26T13:24:26.939Z"
   },
   {
    "duration": 181,
    "start_time": "2023-08-26T13:24:26.958Z"
   },
   {
    "duration": 245,
    "start_time": "2023-08-26T13:24:27.140Z"
   },
   {
    "duration": 134,
    "start_time": "2023-08-26T13:24:27.387Z"
   },
   {
    "duration": 7,
    "start_time": "2023-08-26T13:24:27.523Z"
   },
   {
    "duration": 68,
    "start_time": "2023-08-26T13:24:27.531Z"
   },
   {
    "duration": 145,
    "start_time": "2023-08-26T13:24:27.601Z"
   },
   {
    "duration": 45,
    "start_time": "2023-08-26T13:24:27.748Z"
   },
   {
    "duration": 19,
    "start_time": "2023-08-26T13:24:27.794Z"
   },
   {
    "duration": 32,
    "start_time": "2023-08-26T13:24:27.815Z"
   },
   {
    "duration": 337,
    "start_time": "2023-08-26T13:24:27.849Z"
   },
   {
    "duration": 37,
    "start_time": "2023-08-26T13:24:28.187Z"
   },
   {
    "duration": 91,
    "start_time": "2023-08-26T13:24:33.158Z"
   },
   {
    "duration": 50,
    "start_time": "2023-08-26T13:24:35.414Z"
   },
   {
    "duration": 52,
    "start_time": "2023-08-26T13:24:39.573Z"
   },
   {
    "duration": 131,
    "start_time": "2023-08-26T13:26:01.853Z"
   },
   {
    "duration": 52,
    "start_time": "2023-08-26T13:27:10.295Z"
   },
   {
    "duration": 47,
    "start_time": "2023-08-26T13:29:51.263Z"
   },
   {
    "duration": 79,
    "start_time": "2023-08-26T13:29:59.192Z"
   },
   {
    "duration": 42,
    "start_time": "2023-08-26T13:30:05.084Z"
   },
   {
    "duration": 80,
    "start_time": "2023-08-26T13:30:06.482Z"
   },
   {
    "duration": 51,
    "start_time": "2023-08-26T13:31:57.381Z"
   },
   {
    "duration": 71,
    "start_time": "2023-08-26T13:31:59.274Z"
   },
   {
    "duration": 20,
    "start_time": "2023-08-26T13:35:01.025Z"
   },
   {
    "duration": 6,
    "start_time": "2023-08-26T13:35:04.514Z"
   },
   {
    "duration": 1603,
    "start_time": "2023-08-26T13:35:23.164Z"
   },
   {
    "duration": 936,
    "start_time": "2023-08-26T13:35:24.769Z"
   },
   {
    "duration": 29,
    "start_time": "2023-08-26T13:35:25.707Z"
   },
   {
    "duration": 164,
    "start_time": "2023-08-26T13:35:25.738Z"
   },
   {
    "duration": 114,
    "start_time": "2023-08-26T13:35:25.904Z"
   },
   {
    "duration": 21,
    "start_time": "2023-08-26T13:35:26.019Z"
   },
   {
    "duration": 205,
    "start_time": "2023-08-26T13:35:26.042Z"
   },
   {
    "duration": 292,
    "start_time": "2023-08-26T13:35:26.249Z"
   },
   {
    "duration": 149,
    "start_time": "2023-08-26T13:35:26.543Z"
   },
   {
    "duration": 7,
    "start_time": "2023-08-26T13:35:26.695Z"
   },
   {
    "duration": 79,
    "start_time": "2023-08-26T13:35:26.703Z"
   },
   {
    "duration": 206,
    "start_time": "2023-08-26T13:35:26.785Z"
   },
   {
    "duration": 50,
    "start_time": "2023-08-26T13:35:26.993Z"
   },
   {
    "duration": 36,
    "start_time": "2023-08-26T13:35:27.047Z"
   },
   {
    "duration": 42,
    "start_time": "2023-08-26T13:35:27.086Z"
   },
   {
    "duration": 333,
    "start_time": "2023-08-26T13:35:27.129Z"
   },
   {
    "duration": 40,
    "start_time": "2023-08-26T13:35:27.463Z"
   },
   {
    "duration": 89,
    "start_time": "2023-08-26T13:35:27.505Z"
   },
   {
    "duration": 54,
    "start_time": "2023-08-26T13:35:27.596Z"
   },
   {
    "duration": 78,
    "start_time": "2023-08-26T13:35:27.651Z"
   },
   {
    "duration": 50,
    "start_time": "2023-08-26T13:35:27.731Z"
   },
   {
    "duration": 33,
    "start_time": "2023-08-26T13:35:36.100Z"
   },
   {
    "duration": 86,
    "start_time": "2023-08-26T13:35:36.668Z"
   },
   {
    "duration": 34,
    "start_time": "2023-08-26T13:35:59.323Z"
   },
   {
    "duration": 64,
    "start_time": "2023-08-26T13:36:01.540Z"
   },
   {
    "duration": 16,
    "start_time": "2023-08-26T13:36:40.669Z"
   },
   {
    "duration": 118,
    "start_time": "2023-08-26T13:36:55.341Z"
   },
   {
    "duration": 12,
    "start_time": "2023-08-26T13:37:05.180Z"
   },
   {
    "duration": 25,
    "start_time": "2023-08-26T13:37:08.998Z"
   },
   {
    "duration": 51,
    "start_time": "2023-08-26T13:38:54.142Z"
   },
   {
    "duration": 62,
    "start_time": "2023-08-26T13:38:54.705Z"
   },
   {
    "duration": 23,
    "start_time": "2023-08-26T13:39:58.374Z"
   },
   {
    "duration": 88,
    "start_time": "2023-08-26T13:40:26.321Z"
   },
   {
    "duration": 24,
    "start_time": "2023-08-26T13:40:28.974Z"
   },
   {
    "duration": 84,
    "start_time": "2023-08-26T13:41:48.693Z"
   },
   {
    "duration": 25,
    "start_time": "2023-08-26T13:41:50.778Z"
   },
   {
    "duration": 62,
    "start_time": "2023-08-26T13:42:36.458Z"
   },
   {
    "duration": 2,
    "start_time": "2023-08-26T13:42:38.251Z"
   },
   {
    "duration": 2,
    "start_time": "2023-08-26T13:42:42.356Z"
   },
   {
    "duration": 1509,
    "start_time": "2023-08-26T13:42:53.214Z"
   },
   {
    "duration": 888,
    "start_time": "2023-08-26T13:42:54.725Z"
   },
   {
    "duration": 29,
    "start_time": "2023-08-26T13:42:55.614Z"
   },
   {
    "duration": 177,
    "start_time": "2023-08-26T13:42:55.645Z"
   },
   {
    "duration": 107,
    "start_time": "2023-08-26T13:42:55.825Z"
   },
   {
    "duration": 16,
    "start_time": "2023-08-26T13:42:55.934Z"
   },
   {
    "duration": 178,
    "start_time": "2023-08-26T13:42:55.952Z"
   },
   {
    "duration": 245,
    "start_time": "2023-08-26T13:42:56.132Z"
   },
   {
    "duration": 139,
    "start_time": "2023-08-26T13:42:56.381Z"
   },
   {
    "duration": 6,
    "start_time": "2023-08-26T13:42:56.521Z"
   },
   {
    "duration": 74,
    "start_time": "2023-08-26T13:42:56.529Z"
   },
   {
    "duration": 198,
    "start_time": "2023-08-26T13:42:56.605Z"
   },
   {
    "duration": 52,
    "start_time": "2023-08-26T13:42:56.805Z"
   },
   {
    "duration": 38,
    "start_time": "2023-08-26T13:42:56.860Z"
   },
   {
    "duration": 33,
    "start_time": "2023-08-26T13:42:56.900Z"
   },
   {
    "duration": 347,
    "start_time": "2023-08-26T13:42:56.934Z"
   },
   {
    "duration": 36,
    "start_time": "2023-08-26T13:42:57.283Z"
   },
   {
    "duration": 100,
    "start_time": "2023-08-26T13:42:57.321Z"
   },
   {
    "duration": 59,
    "start_time": "2023-08-26T13:42:57.422Z"
   },
   {
    "duration": 66,
    "start_time": "2023-08-26T13:42:57.483Z"
   },
   {
    "duration": 61,
    "start_time": "2023-08-26T13:42:59.483Z"
   },
   {
    "duration": 3,
    "start_time": "2023-08-26T13:43:01.408Z"
   },
   {
    "duration": 123,
    "start_time": "2023-08-26T13:43:07.296Z"
   },
   {
    "duration": 2143,
    "start_time": "2023-08-26T13:45:14.028Z"
   },
   {
    "duration": 909,
    "start_time": "2023-08-26T13:45:16.173Z"
   },
   {
    "duration": 36,
    "start_time": "2023-08-26T13:45:17.085Z"
   },
   {
    "duration": 225,
    "start_time": "2023-08-26T13:45:17.124Z"
   },
   {
    "duration": 192,
    "start_time": "2023-08-26T13:45:17.351Z"
   },
   {
    "duration": 18,
    "start_time": "2023-08-26T13:45:17.544Z"
   },
   {
    "duration": 196,
    "start_time": "2023-08-26T13:45:17.564Z"
   },
   {
    "duration": 230,
    "start_time": "2023-08-26T13:45:17.762Z"
   },
   {
    "duration": 133,
    "start_time": "2023-08-26T13:45:17.994Z"
   },
   {
    "duration": 6,
    "start_time": "2023-08-26T13:45:18.129Z"
   },
   {
    "duration": 69,
    "start_time": "2023-08-26T13:45:18.136Z"
   },
   {
    "duration": 151,
    "start_time": "2023-08-26T13:45:18.206Z"
   },
   {
    "duration": 45,
    "start_time": "2023-08-26T13:45:18.358Z"
   },
   {
    "duration": 17,
    "start_time": "2023-08-26T13:45:18.405Z"
   },
   {
    "duration": 34,
    "start_time": "2023-08-26T13:45:18.424Z"
   },
   {
    "duration": 332,
    "start_time": "2023-08-26T13:45:18.481Z"
   },
   {
    "duration": 41,
    "start_time": "2023-08-26T13:45:18.815Z"
   },
   {
    "duration": 96,
    "start_time": "2023-08-26T13:45:18.857Z"
   },
   {
    "duration": 67,
    "start_time": "2023-08-26T13:45:18.955Z"
   },
   {
    "duration": 76,
    "start_time": "2023-08-26T13:45:19.024Z"
   },
   {
    "duration": 59,
    "start_time": "2023-08-26T13:45:29.280Z"
   },
   {
    "duration": 2,
    "start_time": "2023-08-26T13:45:30.876Z"
   },
   {
    "duration": 1874,
    "start_time": "2023-08-26T13:45:55.978Z"
   },
   {
    "duration": 856,
    "start_time": "2023-08-26T13:45:57.854Z"
   },
   {
    "duration": 26,
    "start_time": "2023-08-26T13:45:58.711Z"
   },
   {
    "duration": 165,
    "start_time": "2023-08-26T13:45:58.738Z"
   },
   {
    "duration": 106,
    "start_time": "2023-08-26T13:45:58.906Z"
   },
   {
    "duration": 18,
    "start_time": "2023-08-26T13:45:59.014Z"
   },
   {
    "duration": 204,
    "start_time": "2023-08-26T13:45:59.034Z"
   },
   {
    "duration": 235,
    "start_time": "2023-08-26T13:45:59.240Z"
   },
   {
    "duration": 128,
    "start_time": "2023-08-26T13:45:59.477Z"
   },
   {
    "duration": 6,
    "start_time": "2023-08-26T13:45:59.607Z"
   },
   {
    "duration": 71,
    "start_time": "2023-08-26T13:45:59.616Z"
   },
   {
    "duration": 145,
    "start_time": "2023-08-26T13:45:59.689Z"
   },
   {
    "duration": 57,
    "start_time": "2023-08-26T13:45:59.837Z"
   },
   {
    "duration": 16,
    "start_time": "2023-08-26T13:45:59.897Z"
   },
   {
    "duration": 33,
    "start_time": "2023-08-26T13:45:59.915Z"
   },
   {
    "duration": 349,
    "start_time": "2023-08-26T13:45:59.950Z"
   },
   {
    "duration": 35,
    "start_time": "2023-08-26T13:46:00.301Z"
   },
   {
    "duration": 89,
    "start_time": "2023-08-26T13:46:00.338Z"
   },
   {
    "duration": 58,
    "start_time": "2023-08-26T13:46:00.429Z"
   },
   {
    "duration": 66,
    "start_time": "2023-08-26T13:46:00.489Z"
   },
   {
    "duration": 66,
    "start_time": "2023-08-26T13:46:05.822Z"
   },
   {
    "duration": 3,
    "start_time": "2023-08-26T13:46:08.347Z"
   },
   {
    "duration": 117,
    "start_time": "2023-08-26T13:46:17.809Z"
   },
   {
    "duration": 2,
    "start_time": "2023-08-26T13:46:20.606Z"
   },
   {
    "duration": 3,
    "start_time": "2023-08-26T13:46:25.452Z"
   },
   {
    "duration": 4,
    "start_time": "2023-08-26T13:46:29.185Z"
   },
   {
    "duration": 865,
    "start_time": "2023-08-26T13:46:29.192Z"
   },
   {
    "duration": 29,
    "start_time": "2023-08-26T13:46:30.059Z"
   },
   {
    "duration": 155,
    "start_time": "2023-08-26T13:46:30.091Z"
   },
   {
    "duration": 112,
    "start_time": "2023-08-26T13:46:30.249Z"
   },
   {
    "duration": 23,
    "start_time": "2023-08-26T13:46:30.363Z"
   },
   {
    "duration": 174,
    "start_time": "2023-08-26T13:46:30.387Z"
   },
   {
    "duration": 208,
    "start_time": "2023-08-26T13:46:30.562Z"
   },
   {
    "duration": 142,
    "start_time": "2023-08-26T13:46:30.772Z"
   },
   {
    "duration": 21,
    "start_time": "2023-08-26T13:46:30.917Z"
   },
   {
    "duration": 69,
    "start_time": "2023-08-26T13:46:30.940Z"
   },
   {
    "duration": 130,
    "start_time": "2023-08-26T13:46:31.011Z"
   },
   {
    "duration": 57,
    "start_time": "2023-08-26T13:46:31.143Z"
   },
   {
    "duration": 20,
    "start_time": "2023-08-26T13:46:31.202Z"
   },
   {
    "duration": 124,
    "start_time": "2023-08-26T13:46:31.223Z"
   },
   {
    "duration": 308,
    "start_time": "2023-08-26T13:46:31.349Z"
   },
   {
    "duration": 37,
    "start_time": "2023-08-26T13:46:31.658Z"
   },
   {
    "duration": 88,
    "start_time": "2023-08-26T13:46:31.697Z"
   },
   {
    "duration": 52,
    "start_time": "2023-08-26T13:46:31.786Z"
   },
   {
    "duration": 80,
    "start_time": "2023-08-26T13:46:31.840Z"
   },
   {
    "duration": 68,
    "start_time": "2023-08-26T13:46:31.922Z"
   },
   {
    "duration": 12,
    "start_time": "2023-08-26T13:46:31.992Z"
   },
   {
    "duration": 23,
    "start_time": "2023-08-26T13:46:41.665Z"
   },
   {
    "duration": 3,
    "start_time": "2023-08-26T13:46:53.487Z"
   },
   {
    "duration": 21,
    "start_time": "2023-08-26T13:46:56.428Z"
   },
   {
    "duration": 4,
    "start_time": "2023-08-26T13:48:40.899Z"
   },
   {
    "duration": 176,
    "start_time": "2023-08-26T13:48:57.905Z"
   },
   {
    "duration": 13,
    "start_time": "2023-08-26T13:49:01.406Z"
   },
   {
    "duration": 9,
    "start_time": "2023-08-26T13:49:11.817Z"
   },
   {
    "duration": 4,
    "start_time": "2023-08-26T13:49:15.433Z"
   },
   {
    "duration": 322,
    "start_time": "2023-08-26T13:49:15.817Z"
   },
   {
    "duration": 363,
    "start_time": "2023-08-26T13:49:23.903Z"
   },
   {
    "duration": 6,
    "start_time": "2023-08-26T13:50:03.761Z"
   },
   {
    "duration": 16,
    "start_time": "2023-08-26T13:50:08.825Z"
   },
   {
    "duration": 3,
    "start_time": "2023-08-26T13:50:22.508Z"
   },
   {
    "duration": 4,
    "start_time": "2023-08-26T13:50:40.105Z"
   },
   {
    "duration": 4,
    "start_time": "2023-08-26T13:50:45.957Z"
   },
   {
    "duration": 70,
    "start_time": "2023-08-26T13:51:29.790Z"
   },
   {
    "duration": 251,
    "start_time": "2023-08-26T13:53:00.561Z"
   },
   {
    "duration": 112,
    "start_time": "2023-08-26T13:53:19.285Z"
   },
   {
    "duration": 173,
    "start_time": "2023-08-26T13:53:25.387Z"
   },
   {
    "duration": 156,
    "start_time": "2023-08-26T13:54:09.779Z"
   },
   {
    "duration": 119,
    "start_time": "2023-08-26T13:54:17.929Z"
   },
   {
    "duration": 110,
    "start_time": "2023-08-26T13:54:27.334Z"
   },
   {
    "duration": 71,
    "start_time": "2023-08-26T13:56:07.639Z"
   },
   {
    "duration": 24,
    "start_time": "2023-08-26T13:56:14.388Z"
   },
   {
    "duration": 97,
    "start_time": "2023-08-26T13:56:31.254Z"
   },
   {
    "duration": 7,
    "start_time": "2023-08-26T13:57:13.037Z"
   },
   {
    "duration": 6,
    "start_time": "2023-08-26T13:57:18.894Z"
   },
   {
    "duration": 5,
    "start_time": "2023-08-26T13:57:31.526Z"
   },
   {
    "duration": 218,
    "start_time": "2023-08-26T13:58:12.899Z"
   },
   {
    "duration": 81,
    "start_time": "2023-08-26T13:58:17.569Z"
   },
   {
    "duration": 118,
    "start_time": "2023-08-26T13:58:22.641Z"
   },
   {
    "duration": 614,
    "start_time": "2023-08-26T13:58:43.069Z"
   },
   {
    "duration": 0,
    "start_time": "2023-08-26T13:58:43.685Z"
   },
   {
    "duration": 2127,
    "start_time": "2023-08-26T13:59:06.085Z"
   },
   {
    "duration": 981,
    "start_time": "2023-08-26T13:59:08.214Z"
   },
   {
    "duration": 35,
    "start_time": "2023-08-26T13:59:09.198Z"
   },
   {
    "duration": 169,
    "start_time": "2023-08-26T13:59:09.235Z"
   },
   {
    "duration": 122,
    "start_time": "2023-08-26T13:59:09.407Z"
   },
   {
    "duration": 20,
    "start_time": "2023-08-26T13:59:09.531Z"
   },
   {
    "duration": 233,
    "start_time": "2023-08-26T13:59:09.553Z"
   },
   {
    "duration": 529,
    "start_time": "2023-08-26T13:59:09.789Z"
   },
   {
    "duration": 0,
    "start_time": "2023-08-26T13:59:10.320Z"
   },
   {
    "duration": 50,
    "start_time": "2023-08-26T13:59:49.183Z"
   },
   {
    "duration": 30,
    "start_time": "2023-08-26T13:59:59.117Z"
   },
   {
    "duration": 40,
    "start_time": "2023-08-26T14:00:24.720Z"
   },
   {
    "duration": 30,
    "start_time": "2023-08-26T14:00:27.910Z"
   },
   {
    "duration": 1932,
    "start_time": "2023-08-26T14:00:41.642Z"
   },
   {
    "duration": 1031,
    "start_time": "2023-08-26T14:00:43.578Z"
   },
   {
    "duration": 43,
    "start_time": "2023-08-26T14:00:44.611Z"
   },
   {
    "duration": 192,
    "start_time": "2023-08-26T14:00:44.657Z"
   },
   {
    "duration": 120,
    "start_time": "2023-08-26T14:00:44.852Z"
   },
   {
    "duration": 19,
    "start_time": "2023-08-26T14:00:44.974Z"
   },
   {
    "duration": 215,
    "start_time": "2023-08-26T14:00:44.995Z"
   },
   {
    "duration": 595,
    "start_time": "2023-08-26T14:00:45.213Z"
   },
   {
    "duration": 126,
    "start_time": "2023-08-26T14:01:08.283Z"
   },
   {
    "duration": 234,
    "start_time": "2023-08-26T14:01:10.090Z"
   },
   {
    "duration": 8,
    "start_time": "2023-08-26T14:01:21.254Z"
   },
   {
    "duration": 127,
    "start_time": "2023-08-26T14:01:29.842Z"
   },
   {
    "duration": 1960,
    "start_time": "2023-08-26T14:02:16.531Z"
   },
   {
    "duration": 1031,
    "start_time": "2023-08-26T14:02:18.495Z"
   },
   {
    "duration": 38,
    "start_time": "2023-08-26T14:02:19.530Z"
   },
   {
    "duration": 230,
    "start_time": "2023-08-26T14:02:19.576Z"
   },
   {
    "duration": 148,
    "start_time": "2023-08-26T14:02:19.808Z"
   },
   {
    "duration": 32,
    "start_time": "2023-08-26T14:02:19.958Z"
   },
   {
    "duration": 196,
    "start_time": "2023-08-26T14:02:19.993Z"
   },
   {
    "duration": 220,
    "start_time": "2023-08-26T14:02:24.314Z"
   },
   {
    "duration": 28,
    "start_time": "2023-08-26T14:03:34.833Z"
   },
   {
    "duration": 26,
    "start_time": "2023-08-26T14:03:42.329Z"
   },
   {
    "duration": 25,
    "start_time": "2023-08-26T14:03:46.527Z"
   },
   {
    "duration": 45,
    "start_time": "2023-08-26T14:07:19.151Z"
   },
   {
    "duration": 6,
    "start_time": "2023-08-26T14:10:39.847Z"
   },
   {
    "duration": 4,
    "start_time": "2023-08-26T14:10:48.435Z"
   },
   {
    "duration": 5,
    "start_time": "2023-08-26T14:10:52.737Z"
   },
   {
    "duration": 5,
    "start_time": "2023-08-26T14:11:05.342Z"
   },
   {
    "duration": 4,
    "start_time": "2023-08-26T14:11:13.668Z"
   },
   {
    "duration": 91,
    "start_time": "2023-08-26T14:11:23.742Z"
   },
   {
    "duration": 28,
    "start_time": "2023-08-26T14:11:35.881Z"
   },
   {
    "duration": 26,
    "start_time": "2023-08-26T14:11:43.801Z"
   },
   {
    "duration": 25,
    "start_time": "2023-08-26T14:11:50.448Z"
   },
   {
    "duration": 0,
    "start_time": "2023-08-26T14:16:40.068Z"
   },
   {
    "duration": 0,
    "start_time": "2023-08-26T14:16:40.069Z"
   },
   {
    "duration": 0,
    "start_time": "2023-08-26T14:16:40.070Z"
   },
   {
    "duration": 0,
    "start_time": "2023-08-26T14:16:40.071Z"
   },
   {
    "duration": 0,
    "start_time": "2023-08-26T14:16:40.081Z"
   },
   {
    "duration": 0,
    "start_time": "2023-08-26T14:16:40.082Z"
   },
   {
    "duration": 0,
    "start_time": "2023-08-26T14:16:40.082Z"
   },
   {
    "duration": 0,
    "start_time": "2023-08-26T14:16:40.083Z"
   },
   {
    "duration": 0,
    "start_time": "2023-08-26T14:16:40.085Z"
   },
   {
    "duration": 5,
    "start_time": "2023-08-26T14:17:07.894Z"
   },
   {
    "duration": 861,
    "start_time": "2023-08-26T14:17:07.902Z"
   },
   {
    "duration": 27,
    "start_time": "2023-08-26T14:17:08.765Z"
   },
   {
    "duration": 156,
    "start_time": "2023-08-26T14:17:08.794Z"
   },
   {
    "duration": 108,
    "start_time": "2023-08-26T14:17:08.952Z"
   },
   {
    "duration": 23,
    "start_time": "2023-08-26T14:17:09.062Z"
   },
   {
    "duration": 175,
    "start_time": "2023-08-26T14:17:09.087Z"
   },
   {
    "duration": 1479,
    "start_time": "2023-08-26T14:17:09.264Z"
   },
   {
    "duration": 75,
    "start_time": "2023-08-26T14:17:45.876Z"
   },
   {
    "duration": 26,
    "start_time": "2023-08-26T14:18:15.793Z"
   },
   {
    "duration": 26,
    "start_time": "2023-08-26T14:18:20.419Z"
   },
   {
    "duration": 22,
    "start_time": "2023-08-26T14:19:13.150Z"
   },
   {
    "duration": 26,
    "start_time": "2023-08-26T14:19:19.477Z"
   },
   {
    "duration": 21,
    "start_time": "2023-08-26T14:19:42.971Z"
   },
   {
    "duration": 2584,
    "start_time": "2023-08-26T14:19:48.070Z"
   },
   {
    "duration": 3279,
    "start_time": "2023-08-26T14:20:03.211Z"
   },
   {
    "duration": 54,
    "start_time": "2023-08-26T14:22:51.505Z"
   },
   {
    "duration": 13,
    "start_time": "2023-08-26T14:22:59.419Z"
   },
   {
    "duration": 3,
    "start_time": "2023-08-26T14:23:11.277Z"
   },
   {
    "duration": 13,
    "start_time": "2023-08-26T14:23:26.150Z"
   },
   {
    "duration": 10,
    "start_time": "2023-08-26T14:26:37.288Z"
   },
   {
    "duration": 28,
    "start_time": "2023-08-26T14:26:42.787Z"
   },
   {
    "duration": 38,
    "start_time": "2023-08-26T14:26:59.427Z"
   },
   {
    "duration": 34,
    "start_time": "2023-08-26T14:27:02.186Z"
   },
   {
    "duration": 1682,
    "start_time": "2023-08-26T14:27:26.216Z"
   },
   {
    "duration": 910,
    "start_time": "2023-08-26T14:27:27.900Z"
   },
   {
    "duration": 24,
    "start_time": "2023-08-26T14:27:28.812Z"
   },
   {
    "duration": 147,
    "start_time": "2023-08-26T14:27:28.838Z"
   },
   {
    "duration": 105,
    "start_time": "2023-08-26T14:27:28.987Z"
   },
   {
    "duration": 17,
    "start_time": "2023-08-26T14:27:29.094Z"
   },
   {
    "duration": 185,
    "start_time": "2023-08-26T14:27:29.113Z"
   },
   {
    "duration": 9,
    "start_time": "2023-08-26T14:27:38.417Z"
   },
   {
    "duration": 4,
    "start_time": "2023-08-26T14:27:40.337Z"
   },
   {
    "duration": 113,
    "start_time": "2023-08-26T14:27:50.780Z"
   },
   {
    "duration": 10,
    "start_time": "2023-08-26T14:27:55.949Z"
   },
   {
    "duration": 11,
    "start_time": "2023-08-26T14:28:02.356Z"
   },
   {
    "duration": 10,
    "start_time": "2023-08-26T14:28:09.616Z"
   },
   {
    "duration": 11,
    "start_time": "2023-08-26T14:28:25.079Z"
   },
   {
    "duration": 14,
    "start_time": "2023-08-26T14:28:28.680Z"
   },
   {
    "duration": 14,
    "start_time": "2023-08-26T14:28:37.832Z"
   },
   {
    "duration": 44,
    "start_time": "2023-08-26T14:29:11.621Z"
   },
   {
    "duration": 38,
    "start_time": "2023-08-26T14:29:19.778Z"
   },
   {
    "duration": 231,
    "start_time": "2023-08-26T14:29:40.442Z"
   },
   {
    "duration": 6,
    "start_time": "2023-08-26T14:31:37.464Z"
   },
   {
    "duration": 40,
    "start_time": "2023-08-26T14:31:40.047Z"
   },
   {
    "duration": 73,
    "start_time": "2023-08-26T14:32:11.560Z"
   },
   {
    "duration": 40,
    "start_time": "2023-08-26T14:32:13.027Z"
   },
   {
    "duration": 77,
    "start_time": "2023-08-26T14:33:01.606Z"
   },
   {
    "duration": 1513,
    "start_time": "2023-08-26T14:36:48.473Z"
   },
   {
    "duration": 899,
    "start_time": "2023-08-26T14:36:49.988Z"
   },
   {
    "duration": 28,
    "start_time": "2023-08-26T14:36:50.889Z"
   },
   {
    "duration": 159,
    "start_time": "2023-08-26T14:36:50.920Z"
   },
   {
    "duration": 110,
    "start_time": "2023-08-26T14:36:51.081Z"
   },
   {
    "duration": 18,
    "start_time": "2023-08-26T14:36:51.193Z"
   },
   {
    "duration": 177,
    "start_time": "2023-08-26T14:36:51.214Z"
   },
   {
    "duration": 24,
    "start_time": "2023-08-26T14:36:51.393Z"
   },
   {
    "duration": 73,
    "start_time": "2023-08-26T14:36:51.418Z"
   },
   {
    "duration": 41,
    "start_time": "2023-08-26T14:36:56.606Z"
   },
   {
    "duration": 114,
    "start_time": "2023-08-26T14:37:24.752Z"
   },
   {
    "duration": 13,
    "start_time": "2023-08-26T14:37:30.146Z"
   },
   {
    "duration": 9,
    "start_time": "2023-08-26T14:37:37.958Z"
   },
   {
    "duration": 12,
    "start_time": "2023-08-26T14:37:46.561Z"
   },
   {
    "duration": 149,
    "start_time": "2023-08-26T14:38:12.431Z"
   },
   {
    "duration": 123,
    "start_time": "2023-08-26T14:38:58.737Z"
   },
   {
    "duration": 8,
    "start_time": "2023-08-26T14:39:00.205Z"
   },
   {
    "duration": 67,
    "start_time": "2023-08-26T14:39:02.480Z"
   },
   {
    "duration": 135,
    "start_time": "2023-08-26T14:39:18.117Z"
   },
   {
    "duration": 66,
    "start_time": "2023-08-26T14:39:37.352Z"
   },
   {
    "duration": 124,
    "start_time": "2023-08-26T14:39:38.470Z"
   },
   {
    "duration": 133,
    "start_time": "2023-08-26T14:39:57.902Z"
   },
   {
    "duration": 41,
    "start_time": "2023-08-26T14:40:03.301Z"
   },
   {
    "duration": 19,
    "start_time": "2023-08-26T14:40:05.177Z"
   },
   {
    "duration": 119,
    "start_time": "2023-08-26T14:40:05.571Z"
   },
   {
    "duration": 357,
    "start_time": "2023-08-26T14:40:06.460Z"
   },
   {
    "duration": 36,
    "start_time": "2023-08-26T14:40:09.341Z"
   },
   {
    "duration": 80,
    "start_time": "2023-08-26T14:40:11.586Z"
   },
   {
    "duration": 135,
    "start_time": "2023-08-26T14:40:21.047Z"
   },
   {
    "duration": 161,
    "start_time": "2023-08-26T14:40:39.160Z"
   },
   {
    "duration": 52,
    "start_time": "2023-08-26T14:43:42.186Z"
   },
   {
    "duration": 64,
    "start_time": "2023-08-26T14:43:42.638Z"
   },
   {
    "duration": 53,
    "start_time": "2023-08-26T14:43:47.742Z"
   },
   {
    "duration": 22,
    "start_time": "2023-08-26T14:43:58.070Z"
   },
   {
    "duration": 3,
    "start_time": "2023-08-26T14:43:58.996Z"
   },
   {
    "duration": 363,
    "start_time": "2023-08-26T14:43:59.916Z"
   },
   {
    "duration": 329,
    "start_time": "2023-08-26T14:44:20.570Z"
   },
   {
    "duration": 4,
    "start_time": "2023-08-26T14:44:55.961Z"
   },
   {
    "duration": 362,
    "start_time": "2023-08-26T14:44:56.372Z"
   },
   {
    "duration": 334,
    "start_time": "2023-08-26T14:47:55.191Z"
   },
   {
    "duration": 322,
    "start_time": "2023-08-26T14:48:15.440Z"
   },
   {
    "duration": 400,
    "start_time": "2023-08-26T14:48:52.553Z"
   },
   {
    "duration": 246,
    "start_time": "2023-08-26T14:48:58.265Z"
   },
   {
    "duration": 268,
    "start_time": "2023-08-26T14:49:02.498Z"
   },
   {
    "duration": 251,
    "start_time": "2023-08-26T14:49:23.163Z"
   },
   {
    "duration": 299,
    "start_time": "2023-08-26T14:49:26.704Z"
   },
   {
    "duration": 253,
    "start_time": "2023-08-26T14:49:30.401Z"
   },
   {
    "duration": 289,
    "start_time": "2023-08-26T14:49:59.270Z"
   },
   {
    "duration": 1405,
    "start_time": "2023-08-26T14:53:29.794Z"
   },
   {
    "duration": 898,
    "start_time": "2023-08-26T14:53:31.203Z"
   },
   {
    "duration": 26,
    "start_time": "2023-08-26T14:53:32.103Z"
   },
   {
    "duration": 173,
    "start_time": "2023-08-26T14:53:32.131Z"
   },
   {
    "duration": 113,
    "start_time": "2023-08-26T14:53:32.308Z"
   },
   {
    "duration": 14,
    "start_time": "2023-08-26T14:53:32.422Z"
   },
   {
    "duration": 170,
    "start_time": "2023-08-26T14:53:32.438Z"
   },
   {
    "duration": 26,
    "start_time": "2023-08-26T14:53:32.610Z"
   },
   {
    "duration": 76,
    "start_time": "2023-08-26T14:53:32.638Z"
   },
   {
    "duration": 130,
    "start_time": "2023-08-26T14:53:32.716Z"
   },
   {
    "duration": 8,
    "start_time": "2023-08-26T14:53:32.848Z"
   },
   {
    "duration": 86,
    "start_time": "2023-08-26T14:53:32.858Z"
   },
   {
    "duration": 127,
    "start_time": "2023-08-26T14:53:32.946Z"
   },
   {
    "duration": 143,
    "start_time": "2023-08-26T14:53:33.080Z"
   },
   {
    "duration": 39,
    "start_time": "2023-08-26T14:53:33.226Z"
   },
   {
    "duration": 32,
    "start_time": "2023-08-26T14:53:33.267Z"
   },
   {
    "duration": 33,
    "start_time": "2023-08-26T14:53:33.300Z"
   },
   {
    "duration": 319,
    "start_time": "2023-08-26T14:53:33.335Z"
   },
   {
    "duration": 134,
    "start_time": "2023-08-26T14:53:33.656Z"
   },
   {
    "duration": 37,
    "start_time": "2023-08-26T14:53:33.791Z"
   },
   {
    "duration": 92,
    "start_time": "2023-08-26T14:53:33.830Z"
   },
   {
    "duration": 61,
    "start_time": "2023-08-26T14:53:33.923Z"
   },
   {
    "duration": 64,
    "start_time": "2023-08-26T14:53:33.986Z"
   },
   {
    "duration": 66,
    "start_time": "2023-08-26T14:53:34.052Z"
   },
   {
    "duration": 21,
    "start_time": "2023-08-26T14:53:34.120Z"
   },
   {
    "duration": 14,
    "start_time": "2023-08-26T14:53:34.143Z"
   },
   {
    "duration": 422,
    "start_time": "2023-08-26T14:53:34.158Z"
   },
   {
    "duration": 253,
    "start_time": "2023-08-26T14:53:34.582Z"
   },
   {
    "duration": 275,
    "start_time": "2023-08-26T14:53:34.836Z"
   },
   {
    "duration": 294,
    "start_time": "2023-08-26T14:53:35.113Z"
   },
   {
    "duration": 12,
    "start_time": "2023-08-26T14:53:35.408Z"
   },
   {
    "duration": 79,
    "start_time": "2023-08-26T15:02:27.048Z"
   },
   {
    "duration": 83,
    "start_time": "2023-08-26T15:05:55.588Z"
   },
   {
    "duration": 21,
    "start_time": "2023-08-26T15:06:30.265Z"
   },
   {
    "duration": 4,
    "start_time": "2023-08-26T15:08:07.475Z"
   },
   {
    "duration": 114,
    "start_time": "2023-08-26T15:08:50.347Z"
   },
   {
    "duration": 26,
    "start_time": "2023-08-26T15:09:06.295Z"
   },
   {
    "duration": 22465,
    "start_time": "2023-08-26T15:09:11.401Z"
   },
   {
    "duration": 4,
    "start_time": "2023-08-26T15:14:22.237Z"
   },
   {
    "duration": 22530,
    "start_time": "2023-08-26T15:14:32.773Z"
   },
   {
    "duration": 449,
    "start_time": "2023-08-26T15:16:08.328Z"
   },
   {
    "duration": 53,
    "start_time": "2023-08-26T15:16:17.157Z"
   },
   {
    "duration": 494,
    "start_time": "2023-08-26T15:16:57.374Z"
   },
   {
    "duration": 155,
    "start_time": "2023-08-26T15:17:17.275Z"
   },
   {
    "duration": 386,
    "start_time": "2023-08-26T15:17:18.858Z"
   },
   {
    "duration": 4,
    "start_time": "2023-08-26T15:20:57.904Z"
   },
   {
    "duration": 4,
    "start_time": "2023-08-26T15:21:17.789Z"
   },
   {
    "duration": 16,
    "start_time": "2023-08-26T15:21:55.769Z"
   },
   {
    "duration": 4,
    "start_time": "2023-08-26T15:22:27.049Z"
   },
   {
    "duration": 61832,
    "start_time": "2023-08-26T15:22:32.259Z"
   },
   {
    "duration": 3,
    "start_time": "2023-08-26T15:26:10.617Z"
   },
   {
    "duration": 19,
    "start_time": "2023-08-26T15:26:11.604Z"
   },
   {
    "duration": 4,
    "start_time": "2023-08-26T15:26:59.071Z"
   },
   {
    "duration": 63850,
    "start_time": "2023-08-26T15:26:59.736Z"
   },
   {
    "duration": 4,
    "start_time": "2023-08-26T15:28:13.299Z"
   },
   {
    "duration": 18,
    "start_time": "2023-08-26T15:28:13.902Z"
   },
   {
    "duration": 4,
    "start_time": "2023-08-26T15:28:28.401Z"
   },
   {
    "duration": 61340,
    "start_time": "2023-08-26T15:28:28.944Z"
   },
   {
    "duration": 4,
    "start_time": "2023-08-26T15:29:48.224Z"
   },
   {
    "duration": 63002,
    "start_time": "2023-08-26T15:29:48.682Z"
   },
   {
    "duration": 4,
    "start_time": "2023-08-26T15:31:19.219Z"
   },
   {
    "duration": 69084,
    "start_time": "2023-08-26T15:31:19.699Z"
   },
   {
    "duration": 4,
    "start_time": "2023-08-26T15:34:01.417Z"
   },
   {
    "duration": 80043,
    "start_time": "2023-08-26T15:34:01.846Z"
   },
   {
    "duration": 31,
    "start_time": "2023-08-26T15:36:24.737Z"
   },
   {
    "duration": 103,
    "start_time": "2023-08-26T15:37:28.669Z"
   },
   {
    "duration": 228574,
    "start_time": "2023-08-26T15:37:38.289Z"
   },
   {
    "duration": 4,
    "start_time": "2023-08-26T15:44:37.693Z"
   },
   {
    "duration": 4287724,
    "start_time": "2023-08-26T15:44:58.304Z"
   },
   {
    "duration": 27,
    "start_time": "2023-08-26T17:55:49.492Z"
   },
   {
    "duration": 4,
    "start_time": "2023-08-26T17:56:04.804Z"
   },
   {
    "duration": 13,
    "start_time": "2023-08-26T18:01:39.514Z"
   },
   {
    "duration": 13,
    "start_time": "2023-08-26T18:03:53.697Z"
   },
   {
    "duration": 12,
    "start_time": "2023-08-26T18:10:44.945Z"
   },
   {
    "duration": 212,
    "start_time": "2023-08-26T18:12:19.954Z"
   },
   {
    "duration": 216,
    "start_time": "2023-08-26T18:12:53.307Z"
   },
   {
    "duration": 3427,
    "start_time": "2023-08-26T18:13:16.159Z"
   },
   {
    "duration": 226,
    "start_time": "2023-08-26T18:16:53.957Z"
   },
   {
    "duration": 223,
    "start_time": "2023-08-26T18:22:20.280Z"
   },
   {
    "duration": 212,
    "start_time": "2023-08-26T18:22:24.670Z"
   },
   {
    "duration": 212,
    "start_time": "2023-08-26T18:22:36.454Z"
   },
   {
    "duration": 199,
    "start_time": "2023-08-26T18:23:40.547Z"
   },
   {
    "duration": 210,
    "start_time": "2023-08-26T18:24:12.905Z"
   },
   {
    "duration": 195,
    "start_time": "2023-08-26T18:25:41.119Z"
   },
   {
    "duration": 10,
    "start_time": "2023-08-26T18:27:15.310Z"
   },
   {
    "duration": 5,
    "start_time": "2023-08-26T18:27:29.865Z"
   },
   {
    "duration": 10,
    "start_time": "2023-08-26T18:27:35.191Z"
   },
   {
    "duration": 5717,
    "start_time": "2023-08-26T18:27:45.069Z"
   },
   {
    "duration": 205,
    "start_time": "2023-08-26T18:28:21.067Z"
   },
   {
    "duration": 10,
    "start_time": "2023-08-26T18:30:20.415Z"
   },
   {
    "duration": 10,
    "start_time": "2023-08-26T18:30:25.705Z"
   },
   {
    "duration": 3,
    "start_time": "2023-08-26T18:30:42.217Z"
   },
   {
    "duration": 9,
    "start_time": "2023-08-26T18:30:48.663Z"
   },
   {
    "duration": 3,
    "start_time": "2023-08-26T18:31:03.538Z"
   },
   {
    "duration": 9,
    "start_time": "2023-08-26T18:32:00.331Z"
   },
   {
    "duration": 3,
    "start_time": "2023-08-26T18:32:03.224Z"
   },
   {
    "duration": 692,
    "start_time": "2023-08-26T18:32:45.807Z"
   },
   {
    "duration": 10,
    "start_time": "2023-08-26T18:33:33.626Z"
   },
   {
    "duration": 741,
    "start_time": "2023-08-26T18:33:36.641Z"
   },
   {
    "duration": 3,
    "start_time": "2023-08-26T18:33:38.045Z"
   },
   {
    "duration": 5,
    "start_time": "2023-08-26T18:33:42.103Z"
   },
   {
    "duration": 5,
    "start_time": "2023-08-26T18:33:48.396Z"
   },
   {
    "duration": 6264,
    "start_time": "2023-08-26T18:34:02.023Z"
   },
   {
    "duration": 683,
    "start_time": "2023-08-26T18:36:52.414Z"
   },
   {
    "duration": 12,
    "start_time": "2023-08-26T18:39:37.163Z"
   },
   {
    "duration": 13,
    "start_time": "2023-08-26T18:39:42.846Z"
   },
   {
    "duration": 4,
    "start_time": "2023-08-26T18:39:51.807Z"
   },
   {
    "duration": 64275,
    "start_time": "2023-08-26T18:39:52.413Z"
   },
   {
    "duration": 180,
    "start_time": "2023-08-26T18:41:09.612Z"
   },
   {
    "duration": 91,
    "start_time": "2023-08-26T18:41:39.158Z"
   },
   {
    "duration": 183,
    "start_time": "2023-08-26T18:43:14.964Z"
   },
   {
    "duration": 11914,
    "start_time": "2023-08-26T18:43:41.866Z"
   },
   {
    "duration": 12064,
    "start_time": "2023-08-26T18:44:30.720Z"
   },
   {
    "duration": 83,
    "start_time": "2023-08-26T18:45:01.900Z"
   },
   {
    "duration": 2802,
    "start_time": "2023-08-26T18:46:21.008Z"
   },
   {
    "duration": 76,
    "start_time": "2023-08-26T18:46:35.537Z"
   },
   {
    "duration": 120909,
    "start_time": "2023-08-26T18:48:04.717Z"
   },
   {
    "duration": 326,
    "start_time": "2023-08-26T18:50:22.411Z"
   },
   {
    "duration": 5163,
    "start_time": "2023-08-26T18:57:05.423Z"
   },
   {
    "duration": 13,
    "start_time": "2023-08-26T18:57:23.889Z"
   },
   {
    "duration": 564,
    "start_time": "2023-08-26T18:57:38.634Z"
   },
   {
    "duration": 5,
    "start_time": "2023-08-26T18:57:41.267Z"
   },
   {
    "duration": 450,
    "start_time": "2023-08-26T18:58:33.445Z"
   },
   {
    "duration": 5,
    "start_time": "2023-08-26T18:58:35.269Z"
   },
   {
    "duration": 5080,
    "start_time": "2023-08-26T18:58:44.613Z"
   },
   {
    "duration": 481,
    "start_time": "2023-08-26T18:58:51.905Z"
   },
   {
    "duration": 5,
    "start_time": "2023-08-26T18:58:53.528Z"
   },
   {
    "duration": 5491,
    "start_time": "2023-08-26T18:59:55.999Z"
   },
   {
    "duration": 6075,
    "start_time": "2023-08-26T19:00:13.523Z"
   },
   {
    "duration": 5737,
    "start_time": "2023-08-26T19:00:35.554Z"
   },
   {
    "duration": 1481,
    "start_time": "2023-08-26T19:03:11.707Z"
   },
   {
    "duration": 872,
    "start_time": "2023-08-26T19:03:13.190Z"
   },
   {
    "duration": 31,
    "start_time": "2023-08-26T19:03:14.064Z"
   },
   {
    "duration": 137,
    "start_time": "2023-08-26T19:03:14.096Z"
   },
   {
    "duration": 149,
    "start_time": "2023-08-26T19:03:14.235Z"
   },
   {
    "duration": 17,
    "start_time": "2023-08-26T19:03:14.386Z"
   },
   {
    "duration": 176,
    "start_time": "2023-08-26T19:03:14.405Z"
   },
   {
    "duration": 25,
    "start_time": "2023-08-26T19:03:14.583Z"
   },
   {
    "duration": 55,
    "start_time": "2023-08-26T19:03:14.610Z"
   },
   {
    "duration": 125,
    "start_time": "2023-08-26T19:03:14.681Z"
   },
   {
    "duration": 7,
    "start_time": "2023-08-26T19:03:14.808Z"
   },
   {
    "duration": 90,
    "start_time": "2023-08-26T19:03:14.817Z"
   },
   {
    "duration": 121,
    "start_time": "2023-08-26T19:03:14.909Z"
   },
   {
    "duration": 142,
    "start_time": "2023-08-26T19:03:15.033Z"
   },
   {
    "duration": 38,
    "start_time": "2023-08-26T19:03:15.181Z"
   },
   {
    "duration": 29,
    "start_time": "2023-08-26T19:03:15.220Z"
   },
   {
    "duration": 114,
    "start_time": "2023-08-26T19:03:15.250Z"
   },
   {
    "duration": 316,
    "start_time": "2023-08-26T19:03:15.365Z"
   },
   {
    "duration": 129,
    "start_time": "2023-08-26T19:03:15.682Z"
   },
   {
    "duration": 36,
    "start_time": "2023-08-26T19:03:15.812Z"
   },
   {
    "duration": 91,
    "start_time": "2023-08-26T19:03:15.850Z"
   },
   {
    "duration": 62,
    "start_time": "2023-08-26T19:03:15.943Z"
   },
   {
    "duration": 62,
    "start_time": "2023-08-26T19:03:16.007Z"
   },
   {
    "duration": 60,
    "start_time": "2023-08-26T19:03:16.071Z"
   },
   {
    "duration": 19,
    "start_time": "2023-08-26T19:03:16.133Z"
   },
   {
    "duration": 12,
    "start_time": "2023-08-26T19:03:16.154Z"
   },
   {
    "duration": 361,
    "start_time": "2023-08-26T19:03:16.168Z"
   },
   {
    "duration": 269,
    "start_time": "2023-08-26T19:03:16.530Z"
   },
   {
    "duration": 267,
    "start_time": "2023-08-26T19:03:16.800Z"
   },
   {
    "duration": 315,
    "start_time": "2023-08-26T19:03:17.069Z"
   },
   {
    "duration": 471,
    "start_time": "2023-08-26T19:03:17.386Z"
   },
   {
    "duration": 157,
    "start_time": "2023-08-26T19:03:17.859Z"
   },
   {
    "duration": 384,
    "start_time": "2023-08-26T19:03:18.018Z"
   },
   {
    "duration": 4,
    "start_time": "2023-08-26T19:03:18.404Z"
   },
   {
    "duration": 61772,
    "start_time": "2023-08-26T19:03:18.409Z"
   },
   {
    "duration": 12298,
    "start_time": "2023-08-26T19:04:20.183Z"
   },
   {
    "duration": 105,
    "start_time": "2023-08-26T19:04:32.483Z"
   },
   {
    "duration": 269,
    "start_time": "2023-08-26T19:04:32.591Z"
   },
   {
    "duration": 0,
    "start_time": "2023-08-26T19:04:32.862Z"
   },
   {
    "duration": 0,
    "start_time": "2023-08-26T19:04:32.864Z"
   },
   {
    "duration": 0,
    "start_time": "2023-08-26T19:04:32.866Z"
   },
   {
    "duration": 0,
    "start_time": "2023-08-26T19:04:32.880Z"
   },
   {
    "duration": 0,
    "start_time": "2023-08-26T19:04:32.882Z"
   },
   {
    "duration": 0,
    "start_time": "2023-08-26T19:04:32.883Z"
   },
   {
    "duration": 0,
    "start_time": "2023-08-26T19:04:32.885Z"
   },
   {
    "duration": 0,
    "start_time": "2023-08-26T19:04:32.886Z"
   },
   {
    "duration": 0,
    "start_time": "2023-08-26T19:04:32.888Z"
   },
   {
    "duration": 0,
    "start_time": "2023-08-26T19:04:32.890Z"
   },
   {
    "duration": 1499,
    "start_time": "2023-08-26T19:05:14.443Z"
   },
   {
    "duration": 906,
    "start_time": "2023-08-26T19:05:15.944Z"
   },
   {
    "duration": 31,
    "start_time": "2023-08-26T19:05:16.851Z"
   },
   {
    "duration": 154,
    "start_time": "2023-08-26T19:05:16.883Z"
   },
   {
    "duration": 102,
    "start_time": "2023-08-26T19:05:17.040Z"
   },
   {
    "duration": 15,
    "start_time": "2023-08-26T19:05:17.144Z"
   },
   {
    "duration": 194,
    "start_time": "2023-08-26T19:05:17.161Z"
   },
   {
    "duration": 34,
    "start_time": "2023-08-26T19:05:17.357Z"
   },
   {
    "duration": 56,
    "start_time": "2023-08-26T19:05:17.393Z"
   },
   {
    "duration": 128,
    "start_time": "2023-08-26T19:05:17.451Z"
   },
   {
    "duration": 6,
    "start_time": "2023-08-26T19:05:17.581Z"
   },
   {
    "duration": 72,
    "start_time": "2023-08-26T19:05:17.589Z"
   },
   {
    "duration": 131,
    "start_time": "2023-08-26T19:05:17.662Z"
   },
   {
    "duration": 138,
    "start_time": "2023-08-26T19:05:17.796Z"
   },
   {
    "duration": 48,
    "start_time": "2023-08-26T19:05:17.936Z"
   },
   {
    "duration": 17,
    "start_time": "2023-08-26T19:05:17.986Z"
   },
   {
    "duration": 119,
    "start_time": "2023-08-26T19:05:18.005Z"
   },
   {
    "duration": 297,
    "start_time": "2023-08-26T19:05:18.125Z"
   },
   {
    "duration": 127,
    "start_time": "2023-08-26T19:05:18.424Z"
   },
   {
    "duration": 46,
    "start_time": "2023-08-26T19:05:18.553Z"
   },
   {
    "duration": 88,
    "start_time": "2023-08-26T19:05:18.601Z"
   },
   {
    "duration": 50,
    "start_time": "2023-08-26T19:05:18.690Z"
   },
   {
    "duration": 74,
    "start_time": "2023-08-26T19:05:18.742Z"
   },
   {
    "duration": 63,
    "start_time": "2023-08-26T19:05:18.818Z"
   },
   {
    "duration": 20,
    "start_time": "2023-08-26T19:05:18.883Z"
   },
   {
    "duration": 31,
    "start_time": "2023-08-26T19:05:18.905Z"
   },
   {
    "duration": 336,
    "start_time": "2023-08-26T19:05:18.938Z"
   },
   {
    "duration": 257,
    "start_time": "2023-08-26T19:05:19.276Z"
   },
   {
    "duration": 277,
    "start_time": "2023-08-26T19:05:19.535Z"
   },
   {
    "duration": 292,
    "start_time": "2023-08-26T19:05:19.814Z"
   },
   {
    "duration": 484,
    "start_time": "2023-08-26T19:05:20.108Z"
   },
   {
    "duration": 159,
    "start_time": "2023-08-26T19:05:20.594Z"
   },
   {
    "duration": 394,
    "start_time": "2023-08-26T19:05:20.754Z"
   },
   {
    "duration": 3,
    "start_time": "2023-08-26T19:05:21.150Z"
   },
   {
    "duration": 62033,
    "start_time": "2023-08-26T19:05:21.155Z"
   },
   {
    "duration": 12092,
    "start_time": "2023-08-26T19:06:23.190Z"
   },
   {
    "duration": 198,
    "start_time": "2023-08-26T19:06:35.284Z"
   },
   {
    "duration": 228219,
    "start_time": "2023-08-26T19:06:35.484Z"
   },
   {
    "duration": 2805,
    "start_time": "2023-08-26T19:10:23.705Z"
   },
   {
    "duration": 93,
    "start_time": "2023-08-26T19:10:26.511Z"
   },
   {
    "duration": 4,
    "start_time": "2023-08-26T19:10:26.609Z"
   },
   {
    "duration": 27,
    "start_time": "2023-08-26T19:10:26.616Z"
   },
   {
    "duration": 122116,
    "start_time": "2023-08-26T19:10:26.645Z"
   },
   {
    "duration": 328,
    "start_time": "2023-08-26T19:12:28.762Z"
   },
   {
    "duration": 5292,
    "start_time": "2023-08-26T19:12:29.092Z"
   },
   {
    "duration": 502,
    "start_time": "2023-08-26T19:12:34.386Z"
   },
   {
    "duration": 5,
    "start_time": "2023-08-26T19:12:34.890Z"
   },
   {
    "duration": 18,
    "start_time": "2023-08-26T19:12:34.897Z"
   },
   {
    "duration": 5816,
    "start_time": "2023-08-26T19:12:51.382Z"
   },
   {
    "duration": 1447,
    "start_time": "2023-08-26T23:43:18.550Z"
   },
   {
    "duration": 2882,
    "start_time": "2023-08-26T23:43:19.999Z"
   },
   {
    "duration": 23,
    "start_time": "2023-08-26T23:43:22.882Z"
   },
   {
    "duration": 100,
    "start_time": "2023-08-26T23:43:22.907Z"
   },
   {
    "duration": 113,
    "start_time": "2023-08-26T23:43:23.009Z"
   },
   {
    "duration": 18,
    "start_time": "2023-08-26T23:43:23.123Z"
   },
   {
    "duration": 161,
    "start_time": "2023-08-26T23:43:23.142Z"
   },
   {
    "duration": 24,
    "start_time": "2023-08-26T23:43:23.304Z"
   },
   {
    "duration": 64,
    "start_time": "2023-08-26T23:43:23.330Z"
   },
   {
    "duration": 1223,
    "start_time": "2023-08-26T23:45:42.374Z"
   },
   {
    "duration": 823,
    "start_time": "2023-08-26T23:45:43.598Z"
   },
   {
    "duration": 34,
    "start_time": "2023-08-26T23:45:44.423Z"
   },
   {
    "duration": 118,
    "start_time": "2023-08-26T23:45:44.459Z"
   },
   {
    "duration": 103,
    "start_time": "2023-08-26T23:45:44.578Z"
   },
   {
    "duration": 15,
    "start_time": "2023-08-26T23:45:44.683Z"
   },
   {
    "duration": 167,
    "start_time": "2023-08-26T23:45:44.699Z"
   },
   {
    "duration": 23,
    "start_time": "2023-08-26T23:45:44.868Z"
   },
   {
    "duration": 5,
    "start_time": "2023-08-26T23:45:57.427Z"
   },
   {
    "duration": 11,
    "start_time": "2023-08-26T23:46:08.769Z"
   },
   {
    "duration": 5,
    "start_time": "2023-08-26T23:46:29.899Z"
   },
   {
    "duration": 805,
    "start_time": "2023-08-26T23:46:29.906Z"
   },
   {
    "duration": 22,
    "start_time": "2023-08-26T23:46:30.713Z"
   },
   {
    "duration": 125,
    "start_time": "2023-08-26T23:46:30.737Z"
   },
   {
    "duration": 103,
    "start_time": "2023-08-26T23:46:30.863Z"
   },
   {
    "duration": 15,
    "start_time": "2023-08-26T23:46:30.968Z"
   },
   {
    "duration": 153,
    "start_time": "2023-08-26T23:46:30.984Z"
   },
   {
    "duration": 71,
    "start_time": "2023-08-26T23:46:31.139Z"
   },
   {
    "duration": 33,
    "start_time": "2023-08-26T23:46:31.212Z"
   },
   {
    "duration": 5,
    "start_time": "2023-08-26T23:46:57.302Z"
   },
   {
    "duration": 726,
    "start_time": "2023-08-26T23:46:57.309Z"
   },
   {
    "duration": 26,
    "start_time": "2023-08-26T23:46:58.037Z"
   },
   {
    "duration": 114,
    "start_time": "2023-08-26T23:46:58.064Z"
   },
   {
    "duration": 92,
    "start_time": "2023-08-26T23:46:58.179Z"
   },
   {
    "duration": 15,
    "start_time": "2023-08-26T23:46:58.272Z"
   },
   {
    "duration": 164,
    "start_time": "2023-08-26T23:46:58.288Z"
   },
   {
    "duration": 23,
    "start_time": "2023-08-26T23:46:58.455Z"
   },
   {
    "duration": 9,
    "start_time": "2023-08-26T23:46:59.728Z"
   },
   {
    "duration": 21,
    "start_time": "2023-08-26T23:47:09.101Z"
   },
   {
    "duration": 12,
    "start_time": "2023-08-26T23:47:22.915Z"
   },
   {
    "duration": 1965,
    "start_time": "2023-08-26T23:47:48.190Z"
   },
   {
    "duration": 9,
    "start_time": "2023-08-26T23:47:56.080Z"
   },
   {
    "duration": 1225,
    "start_time": "2023-08-26T23:48:20.461Z"
   },
   {
    "duration": 830,
    "start_time": "2023-08-26T23:48:21.688Z"
   },
   {
    "duration": 22,
    "start_time": "2023-08-26T23:48:22.520Z"
   },
   {
    "duration": 114,
    "start_time": "2023-08-26T23:48:22.544Z"
   },
   {
    "duration": 136,
    "start_time": "2023-08-26T23:48:22.659Z"
   },
   {
    "duration": 14,
    "start_time": "2023-08-26T23:48:22.797Z"
   },
   {
    "duration": 154,
    "start_time": "2023-08-26T23:48:22.813Z"
   },
   {
    "duration": 22,
    "start_time": "2023-08-26T23:48:22.968Z"
   },
   {
    "duration": 11,
    "start_time": "2023-08-26T23:48:33.615Z"
   },
   {
    "duration": 93,
    "start_time": "2023-08-26T23:48:45.450Z"
   },
   {
    "duration": 8,
    "start_time": "2023-08-26T23:49:10.489Z"
   },
   {
    "duration": 4,
    "start_time": "2023-08-26T23:49:16.883Z"
   },
   {
    "duration": 883,
    "start_time": "2023-08-26T23:49:16.889Z"
   },
   {
    "duration": 19,
    "start_time": "2023-08-26T23:49:17.773Z"
   },
   {
    "duration": 162,
    "start_time": "2023-08-26T23:49:17.794Z"
   },
   {
    "duration": 87,
    "start_time": "2023-08-26T23:49:17.958Z"
   },
   {
    "duration": 21,
    "start_time": "2023-08-26T23:49:18.046Z"
   },
   {
    "duration": 133,
    "start_time": "2023-08-26T23:49:18.068Z"
   },
   {
    "duration": 30,
    "start_time": "2023-08-26T23:49:18.203Z"
   },
   {
    "duration": 27,
    "start_time": "2023-08-26T23:49:18.234Z"
   },
   {
    "duration": 9,
    "start_time": "2023-08-26T23:49:18.263Z"
   },
   {
    "duration": 12,
    "start_time": "2023-08-26T23:49:28.986Z"
   },
   {
    "duration": 13,
    "start_time": "2023-08-26T23:49:59.923Z"
   },
   {
    "duration": 6,
    "start_time": "2023-08-26T23:50:05.304Z"
   },
   {
    "duration": 767,
    "start_time": "2023-08-26T23:50:05.312Z"
   },
   {
    "duration": 22,
    "start_time": "2023-08-26T23:50:06.081Z"
   },
   {
    "duration": 126,
    "start_time": "2023-08-26T23:50:06.105Z"
   },
   {
    "duration": 88,
    "start_time": "2023-08-26T23:50:06.233Z"
   },
   {
    "duration": 15,
    "start_time": "2023-08-26T23:50:06.322Z"
   },
   {
    "duration": 143,
    "start_time": "2023-08-26T23:50:06.338Z"
   },
   {
    "duration": 14,
    "start_time": "2023-08-26T23:50:06.482Z"
   },
   {
    "duration": 26,
    "start_time": "2023-08-26T23:50:06.498Z"
   },
   {
    "duration": 31,
    "start_time": "2023-08-26T23:50:06.527Z"
   },
   {
    "duration": 47,
    "start_time": "2023-08-27T05:14:43.378Z"
   },
   {
    "duration": 1588,
    "start_time": "2023-08-27T05:14:47.253Z"
   },
   {
    "duration": 1154,
    "start_time": "2023-08-27T05:14:48.843Z"
   },
   {
    "duration": 25,
    "start_time": "2023-08-27T05:14:49.999Z"
   },
   {
    "duration": 152,
    "start_time": "2023-08-27T05:14:50.026Z"
   },
   {
    "duration": 99,
    "start_time": "2023-08-27T05:14:50.180Z"
   },
   {
    "duration": 52,
    "start_time": "2023-08-27T05:14:50.281Z"
   },
   {
    "duration": 254,
    "start_time": "2023-08-27T05:15:02.304Z"
   },
   {
    "duration": 160,
    "start_time": "2023-08-27T05:15:49.851Z"
   },
   {
    "duration": 164,
    "start_time": "2023-08-27T05:15:59.704Z"
   },
   {
    "duration": 10,
    "start_time": "2023-08-27T05:16:26.362Z"
   },
   {
    "duration": 227,
    "start_time": "2023-08-27T05:16:52.138Z"
   },
   {
    "duration": 96,
    "start_time": "2023-08-27T05:18:03.262Z"
   },
   {
    "duration": 274,
    "start_time": "2023-08-27T05:18:07.295Z"
   },
   {
    "duration": 191,
    "start_time": "2023-08-27T05:18:11.192Z"
   },
   {
    "duration": 199,
    "start_time": "2023-08-27T05:18:39.579Z"
   },
   {
    "duration": 4,
    "start_time": "2023-08-27T05:19:40.207Z"
   },
   {
    "duration": 150,
    "start_time": "2023-08-27T05:19:47.047Z"
   },
   {
    "duration": 5,
    "start_time": "2023-08-27T05:20:00.643Z"
   },
   {
    "duration": 133,
    "start_time": "2023-08-27T05:20:06.122Z"
   },
   {
    "duration": 193,
    "start_time": "2023-08-27T05:20:13.779Z"
   },
   {
    "duration": 18,
    "start_time": "2023-08-27T05:20:37.572Z"
   },
   {
    "duration": 176,
    "start_time": "2023-08-27T05:20:42.903Z"
   },
   {
    "duration": 169,
    "start_time": "2023-08-27T05:20:48.027Z"
   },
   {
    "duration": 13,
    "start_time": "2023-08-27T05:21:00.391Z"
   },
   {
    "duration": 27,
    "start_time": "2023-08-27T05:21:18.705Z"
   },
   {
    "duration": 12,
    "start_time": "2023-08-27T05:21:23.878Z"
   },
   {
    "duration": 53,
    "start_time": "2023-08-27T05:21:43.701Z"
   },
   {
    "duration": 1683,
    "start_time": "2023-08-27T05:22:09.080Z"
   },
   {
    "duration": 837,
    "start_time": "2023-08-27T05:22:10.765Z"
   },
   {
    "duration": 27,
    "start_time": "2023-08-27T05:22:11.603Z"
   },
   {
    "duration": 171,
    "start_time": "2023-08-27T05:22:11.632Z"
   },
   {
    "duration": 108,
    "start_time": "2023-08-27T05:22:11.805Z"
   },
   {
    "duration": 16,
    "start_time": "2023-08-27T05:22:11.915Z"
   },
   {
    "duration": 212,
    "start_time": "2023-08-27T05:22:11.933Z"
   },
   {
    "duration": 14,
    "start_time": "2023-08-27T05:22:12.147Z"
   },
   {
    "duration": 39,
    "start_time": "2023-08-27T05:22:12.163Z"
   },
   {
    "duration": 12,
    "start_time": "2023-08-27T05:22:12.204Z"
   },
   {
    "duration": 6,
    "start_time": "2023-08-27T05:22:14.256Z"
   },
   {
    "duration": 117,
    "start_time": "2023-08-27T05:31:38.885Z"
   },
   {
    "duration": 115,
    "start_time": "2023-08-27T05:31:57.412Z"
   },
   {
    "duration": 90,
    "start_time": "2023-08-27T05:32:12.250Z"
   },
   {
    "duration": 169,
    "start_time": "2023-08-27T05:32:16.487Z"
   },
   {
    "duration": 17,
    "start_time": "2023-08-27T05:32:24.459Z"
   },
   {
    "duration": 8837,
    "start_time": "2023-08-27T05:33:10.809Z"
   },
   {
    "duration": 145,
    "start_time": "2023-08-27T05:33:22.519Z"
   },
   {
    "duration": 707,
    "start_time": "2023-08-27T05:33:33.437Z"
   },
   {
    "duration": 6903,
    "start_time": "2023-08-27T05:33:34.198Z"
   },
   {
    "duration": 13,
    "start_time": "2023-08-27T05:33:42.642Z"
   },
   {
    "duration": 1463,
    "start_time": "2023-08-27T05:33:51.051Z"
   },
   {
    "duration": 868,
    "start_time": "2023-08-27T05:33:52.516Z"
   },
   {
    "duration": 35,
    "start_time": "2023-08-27T05:33:53.386Z"
   },
   {
    "duration": 146,
    "start_time": "2023-08-27T05:33:53.423Z"
   },
   {
    "duration": 105,
    "start_time": "2023-08-27T05:33:53.570Z"
   },
   {
    "duration": 26,
    "start_time": "2023-08-27T05:33:53.677Z"
   },
   {
    "duration": 205,
    "start_time": "2023-08-27T05:33:53.705Z"
   },
   {
    "duration": 15,
    "start_time": "2023-08-27T05:33:53.912Z"
   },
   {
    "duration": 6201,
    "start_time": "2023-08-27T05:33:56.211Z"
   },
   {
    "duration": 173,
    "start_time": "2023-08-27T05:34:03.552Z"
   },
   {
    "duration": 116,
    "start_time": "2023-08-27T05:35:48.072Z"
   },
   {
    "duration": 14,
    "start_time": "2023-08-27T05:35:55.614Z"
   },
   {
    "duration": 99,
    "start_time": "2023-08-27T05:36:19.995Z"
   },
   {
    "duration": 6736,
    "start_time": "2023-08-27T05:36:35.875Z"
   },
   {
    "duration": 17,
    "start_time": "2023-08-27T05:37:34.568Z"
   },
   {
    "duration": 10247,
    "start_time": "2023-08-27T05:37:44.480Z"
   },
   {
    "duration": 12,
    "start_time": "2023-08-27T05:37:55.643Z"
   },
   {
    "duration": 10211,
    "start_time": "2023-08-27T05:41:01.533Z"
   },
   {
    "duration": 13,
    "start_time": "2023-08-27T05:41:12.494Z"
   },
   {
    "duration": 523,
    "start_time": "2023-08-27T05:41:22.943Z"
   },
   {
    "duration": 14,
    "start_time": "2023-08-27T05:41:24.347Z"
   },
   {
    "duration": 10,
    "start_time": "2023-08-27T05:41:59.902Z"
   },
   {
    "duration": 35,
    "start_time": "2023-08-27T05:42:05.422Z"
   },
   {
    "duration": 14,
    "start_time": "2023-08-27T05:42:06.725Z"
   },
   {
    "duration": 1488,
    "start_time": "2023-08-27T05:42:14.558Z"
   },
   {
    "duration": 854,
    "start_time": "2023-08-27T05:42:16.048Z"
   },
   {
    "duration": 24,
    "start_time": "2023-08-27T05:42:16.904Z"
   },
   {
    "duration": 146,
    "start_time": "2023-08-27T05:42:16.930Z"
   },
   {
    "duration": 103,
    "start_time": "2023-08-27T05:42:17.078Z"
   },
   {
    "duration": 24,
    "start_time": "2023-08-27T05:42:17.183Z"
   },
   {
    "duration": 192,
    "start_time": "2023-08-27T05:42:17.209Z"
   },
   {
    "duration": 13,
    "start_time": "2023-08-27T05:42:17.403Z"
   },
   {
    "duration": 7,
    "start_time": "2023-08-27T05:42:17.418Z"
   },
   {
    "duration": 19,
    "start_time": "2023-08-27T05:42:17.427Z"
   },
   {
    "duration": 12,
    "start_time": "2023-08-27T05:42:17.448Z"
   },
   {
    "duration": 105,
    "start_time": "2023-08-27T05:42:38.976Z"
   },
   {
    "duration": 14,
    "start_time": "2023-08-27T05:42:39.791Z"
   },
   {
    "duration": 1549,
    "start_time": "2023-08-27T05:42:46.067Z"
   },
   {
    "duration": 844,
    "start_time": "2023-08-27T05:42:47.618Z"
   },
   {
    "duration": 24,
    "start_time": "2023-08-27T05:42:48.463Z"
   },
   {
    "duration": 162,
    "start_time": "2023-08-27T05:42:48.489Z"
   },
   {
    "duration": 118,
    "start_time": "2023-08-27T05:42:48.653Z"
   },
   {
    "duration": 17,
    "start_time": "2023-08-27T05:42:48.773Z"
   },
   {
    "duration": 371,
    "start_time": "2023-08-27T05:42:48.792Z"
   },
   {
    "duration": 12,
    "start_time": "2023-08-27T05:42:49.165Z"
   },
   {
    "duration": 18,
    "start_time": "2023-08-27T05:42:49.179Z"
   },
   {
    "duration": 99,
    "start_time": "2023-08-27T05:42:49.199Z"
   },
   {
    "duration": 12,
    "start_time": "2023-08-27T05:42:49.300Z"
   },
   {
    "duration": 1508,
    "start_time": "2023-08-27T05:43:19.464Z"
   },
   {
    "duration": 878,
    "start_time": "2023-08-27T05:43:20.974Z"
   },
   {
    "duration": 26,
    "start_time": "2023-08-27T05:43:21.854Z"
   },
   {
    "duration": 154,
    "start_time": "2023-08-27T05:43:21.883Z"
   },
   {
    "duration": 111,
    "start_time": "2023-08-27T05:43:22.039Z"
   },
   {
    "duration": 18,
    "start_time": "2023-08-27T05:43:22.152Z"
   },
   {
    "duration": 210,
    "start_time": "2023-08-27T05:43:22.171Z"
   },
   {
    "duration": 24,
    "start_time": "2023-08-27T05:43:22.382Z"
   },
   {
    "duration": 3,
    "start_time": "2023-08-27T05:43:22.408Z"
   },
   {
    "duration": 28,
    "start_time": "2023-08-27T05:43:24.570Z"
   },
   {
    "duration": 12,
    "start_time": "2023-08-27T05:43:25.188Z"
   },
   {
    "duration": 53,
    "start_time": "2023-08-27T05:43:56.830Z"
   },
   {
    "duration": 12,
    "start_time": "2023-08-27T05:43:58.131Z"
   },
   {
    "duration": 1485,
    "start_time": "2023-08-27T05:44:04.987Z"
   },
   {
    "duration": 861,
    "start_time": "2023-08-27T05:44:06.474Z"
   },
   {
    "duration": 27,
    "start_time": "2023-08-27T05:44:07.337Z"
   },
   {
    "duration": 170,
    "start_time": "2023-08-27T05:44:07.367Z"
   },
   {
    "duration": 111,
    "start_time": "2023-08-27T05:44:07.539Z"
   },
   {
    "duration": 16,
    "start_time": "2023-08-27T05:44:07.652Z"
   },
   {
    "duration": 204,
    "start_time": "2023-08-27T05:44:07.670Z"
   },
   {
    "duration": 14,
    "start_time": "2023-08-27T05:44:07.876Z"
   },
   {
    "duration": 22,
    "start_time": "2023-08-27T05:44:07.891Z"
   },
   {
    "duration": 89,
    "start_time": "2023-08-27T05:44:07.915Z"
   },
   {
    "duration": 14,
    "start_time": "2023-08-27T05:44:08.005Z"
   },
   {
    "duration": 6,
    "start_time": "2023-08-27T05:44:12.621Z"
   },
   {
    "duration": 49,
    "start_time": "2023-08-27T05:44:17.135Z"
   },
   {
    "duration": 5,
    "start_time": "2023-08-27T05:45:27.868Z"
   },
   {
    "duration": 136,
    "start_time": "2023-08-27T05:45:35.398Z"
   },
   {
    "duration": 7,
    "start_time": "2023-08-27T05:45:37.169Z"
   },
   {
    "duration": 61,
    "start_time": "2023-08-27T05:45:40.263Z"
   },
   {
    "duration": 127,
    "start_time": "2023-08-27T05:46:36.815Z"
   },
   {
    "duration": 62,
    "start_time": "2023-08-27T05:49:01.758Z"
   },
   {
    "duration": 60,
    "start_time": "2023-08-27T05:50:53.071Z"
   },
   {
    "duration": 120,
    "start_time": "2023-08-27T05:51:19.469Z"
   },
   {
    "duration": 66,
    "start_time": "2023-08-27T05:51:38.704Z"
   },
   {
    "duration": 17,
    "start_time": "2023-08-27T05:52:08.726Z"
   },
   {
    "duration": 24,
    "start_time": "2023-08-27T05:52:21.884Z"
   },
   {
    "duration": 143,
    "start_time": "2023-08-27T05:52:40.374Z"
   },
   {
    "duration": 51,
    "start_time": "2023-08-27T05:53:17.041Z"
   },
   {
    "duration": 17,
    "start_time": "2023-08-27T05:53:18.768Z"
   },
   {
    "duration": 110,
    "start_time": "2023-08-27T05:53:19.178Z"
   },
   {
    "duration": 266,
    "start_time": "2023-08-27T05:53:19.742Z"
   },
   {
    "duration": 138,
    "start_time": "2023-08-27T05:53:20.305Z"
   },
   {
    "duration": 48,
    "start_time": "2023-08-27T05:56:59.035Z"
   },
   {
    "duration": 79,
    "start_time": "2023-08-27T05:57:05.852Z"
   },
   {
    "duration": 70,
    "start_time": "2023-08-27T05:57:48.429Z"
   },
   {
    "duration": 29,
    "start_time": "2023-08-27T05:58:12.106Z"
   },
   {
    "duration": 9,
    "start_time": "2023-08-27T05:59:56.991Z"
   },
   {
    "duration": 778,
    "start_time": "2023-08-27T05:59:59.905Z"
   },
   {
    "duration": 16,
    "start_time": "2023-08-27T06:00:03.866Z"
   },
   {
    "duration": 45942,
    "start_time": "2023-08-27T06:00:11.200Z"
   },
   {
    "duration": 46188,
    "start_time": "2023-08-27T06:02:21.317Z"
   },
   {
    "duration": 65,
    "start_time": "2023-08-27T06:05:35.147Z"
   },
   {
    "duration": 57,
    "start_time": "2023-08-27T06:05:43.762Z"
   },
   {
    "duration": 39,
    "start_time": "2023-08-27T06:11:56.969Z"
   },
   {
    "duration": 13,
    "start_time": "2023-08-27T06:15:09.280Z"
   },
   {
    "duration": 51,
    "start_time": "2023-08-27T06:15:13.144Z"
   },
   {
    "duration": 15,
    "start_time": "2023-08-27T06:18:43.087Z"
   },
   {
    "duration": 92,
    "start_time": "2023-08-27T06:18:46.459Z"
   },
   {
    "duration": 57,
    "start_time": "2023-08-27T06:19:43.082Z"
   },
   {
    "duration": 54,
    "start_time": "2023-08-27T06:19:57.431Z"
   },
   {
    "duration": 56,
    "start_time": "2023-08-27T06:20:13.378Z"
   },
   {
    "duration": 885,
    "start_time": "2023-08-27T06:22:06.579Z"
   },
   {
    "duration": 29,
    "start_time": "2023-08-27T06:23:39.545Z"
   },
   {
    "duration": 76,
    "start_time": "2023-08-27T06:23:51.735Z"
   },
   {
    "duration": 2,
    "start_time": "2023-08-27T06:24:08.114Z"
   },
   {
    "duration": 46422,
    "start_time": "2023-08-27T06:24:18.143Z"
   },
   {
    "duration": 13,
    "start_time": "2023-08-27T06:31:36.738Z"
   },
   {
    "duration": 22,
    "start_time": "2023-08-27T06:31:41.060Z"
   },
   {
    "duration": 106,
    "start_time": "2023-08-27T06:31:58.194Z"
   },
   {
    "duration": 22,
    "start_time": "2023-08-27T06:32:09.968Z"
   },
   {
    "duration": 75,
    "start_time": "2023-08-27T06:32:22.705Z"
   },
   {
    "duration": 21,
    "start_time": "2023-08-27T06:32:31.479Z"
   },
   {
    "duration": 4,
    "start_time": "2023-08-27T06:32:40.535Z"
   },
   {
    "duration": 86,
    "start_time": "2023-08-27T06:44:57.999Z"
   },
   {
    "duration": 81,
    "start_time": "2023-08-27T06:45:00.652Z"
   },
   {
    "duration": 23,
    "start_time": "2023-08-27T06:45:57.852Z"
   },
   {
    "duration": 3,
    "start_time": "2023-08-27T06:45:59.311Z"
   },
   {
    "duration": 360,
    "start_time": "2023-08-27T06:45:59.967Z"
   },
   {
    "duration": 305,
    "start_time": "2023-08-27T06:46:01.855Z"
   },
   {
    "duration": 310,
    "start_time": "2023-08-27T06:46:03.317Z"
   },
   {
    "duration": 302,
    "start_time": "2023-08-27T06:46:08.705Z"
   },
   {
    "duration": 96,
    "start_time": "2023-08-27T06:47:58.262Z"
   },
   {
    "duration": 272,
    "start_time": "2023-08-27T06:48:15.635Z"
   },
   {
    "duration": 385,
    "start_time": "2023-08-27T06:48:21.831Z"
   },
   {
    "duration": 378,
    "start_time": "2023-08-27T06:48:42.162Z"
   },
   {
    "duration": 596,
    "start_time": "2023-08-27T06:49:13.277Z"
   },
   {
    "duration": 503,
    "start_time": "2023-08-27T06:49:26.842Z"
   },
   {
    "duration": 21,
    "start_time": "2023-08-27T06:50:44.115Z"
   },
   {
    "duration": 60,
    "start_time": "2023-08-27T06:51:24.652Z"
   },
   {
    "duration": 1474,
    "start_time": "2023-08-27T06:51:37.156Z"
   },
   {
    "duration": 1137,
    "start_time": "2023-08-27T06:51:38.633Z"
   },
   {
    "duration": 39,
    "start_time": "2023-08-27T06:51:39.771Z"
   },
   {
    "duration": 140,
    "start_time": "2023-08-27T06:51:39.813Z"
   },
   {
    "duration": 107,
    "start_time": "2023-08-27T06:51:39.955Z"
   },
   {
    "duration": 17,
    "start_time": "2023-08-27T06:51:40.063Z"
   },
   {
    "duration": 196,
    "start_time": "2023-08-27T06:51:40.082Z"
   },
   {
    "duration": 21,
    "start_time": "2023-08-27T06:51:40.280Z"
   },
   {
    "duration": 98,
    "start_time": "2023-08-27T06:51:40.303Z"
   },
   {
    "duration": 13,
    "start_time": "2023-08-27T06:51:40.404Z"
   },
   {
    "duration": 8,
    "start_time": "2023-08-27T06:51:40.419Z"
   },
   {
    "duration": 50,
    "start_time": "2023-08-27T06:51:40.428Z"
   },
   {
    "duration": 149,
    "start_time": "2023-08-27T06:51:40.479Z"
   },
   {
    "duration": 7,
    "start_time": "2023-08-27T06:51:40.630Z"
   },
   {
    "duration": 81,
    "start_time": "2023-08-27T06:51:40.639Z"
   },
   {
    "duration": 131,
    "start_time": "2023-08-27T06:51:40.722Z"
   },
   {
    "duration": 24,
    "start_time": "2023-08-27T06:51:40.855Z"
   },
   {
    "duration": 735,
    "start_time": "2023-08-27T06:51:40.881Z"
   },
   {
    "duration": 2,
    "start_time": "2023-08-27T06:51:41.618Z"
   },
   {
    "duration": 154,
    "start_time": "2023-08-27T06:51:41.622Z"
   },
   {
    "duration": 46,
    "start_time": "2023-08-27T06:51:41.778Z"
   },
   {
    "duration": 17,
    "start_time": "2023-08-27T06:51:41.825Z"
   },
   {
    "duration": 124,
    "start_time": "2023-08-27T06:51:41.844Z"
   },
   {
    "duration": 300,
    "start_time": "2023-08-27T06:51:41.970Z"
   },
   {
    "duration": 49,
    "start_time": "2023-08-27T06:51:42.272Z"
   },
   {
    "duration": 21,
    "start_time": "2023-08-27T06:51:42.323Z"
   },
   {
    "duration": 7,
    "start_time": "2023-08-27T06:51:45.021Z"
   },
   {
    "duration": 47,
    "start_time": "2023-08-27T06:52:26.808Z"
   },
   {
    "duration": 1577,
    "start_time": "2023-08-27T06:52:31.417Z"
   },
   {
    "duration": 1138,
    "start_time": "2023-08-27T06:52:32.996Z"
   },
   {
    "duration": 25,
    "start_time": "2023-08-27T06:52:34.136Z"
   },
   {
    "duration": 183,
    "start_time": "2023-08-27T06:52:34.163Z"
   },
   {
    "duration": 102,
    "start_time": "2023-08-27T06:52:34.348Z"
   },
   {
    "duration": 14,
    "start_time": "2023-08-27T06:52:34.452Z"
   },
   {
    "duration": 219,
    "start_time": "2023-08-27T06:52:34.468Z"
   },
   {
    "duration": 27,
    "start_time": "2023-08-27T06:52:34.689Z"
   },
   {
    "duration": 107,
    "start_time": "2023-08-27T06:52:34.718Z"
   },
   {
    "duration": 15,
    "start_time": "2023-08-27T06:52:34.829Z"
   },
   {
    "duration": 36,
    "start_time": "2023-08-27T06:52:34.846Z"
   },
   {
    "duration": 81,
    "start_time": "2023-08-27T06:52:34.884Z"
   },
   {
    "duration": 139,
    "start_time": "2023-08-27T06:52:34.967Z"
   },
   {
    "duration": 7,
    "start_time": "2023-08-27T06:52:35.108Z"
   },
   {
    "duration": 68,
    "start_time": "2023-08-27T06:52:35.116Z"
   },
   {
    "duration": 143,
    "start_time": "2023-08-27T06:52:35.186Z"
   },
   {
    "duration": 24,
    "start_time": "2023-08-27T06:52:35.331Z"
   },
   {
    "duration": 740,
    "start_time": "2023-08-27T06:52:35.357Z"
   },
   {
    "duration": 3,
    "start_time": "2023-08-27T06:52:36.099Z"
   },
   {
    "duration": 162,
    "start_time": "2023-08-27T06:52:36.104Z"
   },
   {
    "duration": 45,
    "start_time": "2023-08-27T06:52:36.268Z"
   },
   {
    "duration": 22,
    "start_time": "2023-08-27T06:52:36.314Z"
   },
   {
    "duration": 109,
    "start_time": "2023-08-27T06:52:36.338Z"
   },
   {
    "duration": 284,
    "start_time": "2023-08-27T06:52:36.448Z"
   },
   {
    "duration": 43,
    "start_time": "2023-08-27T06:52:36.733Z"
   },
   {
    "duration": 86,
    "start_time": "2023-08-27T06:52:36.778Z"
   },
   {
    "duration": 52,
    "start_time": "2023-08-27T06:52:36.866Z"
   },
   {
    "duration": 10,
    "start_time": "2023-08-27T06:52:49.140Z"
   },
   {
    "duration": 9,
    "start_time": "2023-08-27T06:54:15.904Z"
   },
   {
    "duration": 179,
    "start_time": "2023-08-27T06:54:31.735Z"
   },
   {
    "duration": 40,
    "start_time": "2023-08-27T06:54:39.163Z"
   },
   {
    "duration": 9,
    "start_time": "2023-08-27T06:54:56.466Z"
   },
   {
    "duration": 1531,
    "start_time": "2023-08-27T06:55:20.450Z"
   },
   {
    "duration": 853,
    "start_time": "2023-08-27T06:55:21.982Z"
   },
   {
    "duration": 26,
    "start_time": "2023-08-27T06:55:22.836Z"
   },
   {
    "duration": 166,
    "start_time": "2023-08-27T06:55:22.864Z"
   },
   {
    "duration": 147,
    "start_time": "2023-08-27T06:55:23.031Z"
   },
   {
    "duration": 25,
    "start_time": "2023-08-27T06:55:23.179Z"
   },
   {
    "duration": 191,
    "start_time": "2023-08-27T06:55:23.206Z"
   },
   {
    "duration": 14,
    "start_time": "2023-08-27T06:55:23.401Z"
   },
   {
    "duration": 99,
    "start_time": "2023-08-27T06:55:23.417Z"
   },
   {
    "duration": 14,
    "start_time": "2023-08-27T06:55:23.518Z"
   },
   {
    "duration": 16,
    "start_time": "2023-08-27T06:55:23.533Z"
   },
   {
    "duration": 61,
    "start_time": "2023-08-27T06:55:23.551Z"
   },
   {
    "duration": 141,
    "start_time": "2023-08-27T06:55:23.614Z"
   },
   {
    "duration": 5,
    "start_time": "2023-08-27T06:55:23.757Z"
   },
   {
    "duration": 76,
    "start_time": "2023-08-27T06:55:23.764Z"
   },
   {
    "duration": 131,
    "start_time": "2023-08-27T06:55:23.842Z"
   },
   {
    "duration": 30,
    "start_time": "2023-08-27T06:55:23.974Z"
   },
   {
    "duration": 745,
    "start_time": "2023-08-27T06:55:24.006Z"
   },
   {
    "duration": 2,
    "start_time": "2023-08-27T06:55:24.753Z"
   },
   {
    "duration": 149,
    "start_time": "2023-08-27T06:55:24.757Z"
   },
   {
    "duration": 37,
    "start_time": "2023-08-27T06:55:24.908Z"
   },
   {
    "duration": 16,
    "start_time": "2023-08-27T06:55:24.947Z"
   },
   {
    "duration": 136,
    "start_time": "2023-08-27T06:55:24.965Z"
   },
   {
    "duration": 290,
    "start_time": "2023-08-27T06:55:25.103Z"
   },
   {
    "duration": 48,
    "start_time": "2023-08-27T06:55:25.395Z"
   },
   {
    "duration": 21,
    "start_time": "2023-08-27T06:55:25.445Z"
   },
   {
    "duration": 34,
    "start_time": "2023-08-27T06:55:25.467Z"
   },
   {
    "duration": 182,
    "start_time": "2023-08-27T06:55:25.504Z"
   },
   {
    "duration": 9,
    "start_time": "2023-08-27T06:55:28.134Z"
   },
   {
    "duration": 6,
    "start_time": "2023-08-27T06:56:48.243Z"
   },
   {
    "duration": 8,
    "start_time": "2023-08-27T06:56:50.153Z"
   },
   {
    "duration": 8,
    "start_time": "2023-08-27T06:57:04.659Z"
   },
   {
    "duration": 5,
    "start_time": "2023-08-27T06:57:08.041Z"
   },
   {
    "duration": 130,
    "start_time": "2023-08-27T06:57:18.220Z"
   },
   {
    "duration": 136,
    "start_time": "2023-08-27T06:59:27.646Z"
   },
   {
    "duration": 159,
    "start_time": "2023-08-27T06:59:46.497Z"
   },
   {
    "duration": 127,
    "start_time": "2023-08-27T06:59:56.787Z"
   },
   {
    "duration": 155,
    "start_time": "2023-08-27T07:00:52.534Z"
   },
   {
    "duration": 1496,
    "start_time": "2023-08-27T07:01:12.415Z"
   },
   {
    "duration": 906,
    "start_time": "2023-08-27T07:01:13.913Z"
   },
   {
    "duration": 27,
    "start_time": "2023-08-27T07:01:14.820Z"
   },
   {
    "duration": 158,
    "start_time": "2023-08-27T07:01:14.849Z"
   },
   {
    "duration": 147,
    "start_time": "2023-08-27T07:01:15.009Z"
   },
   {
    "duration": 16,
    "start_time": "2023-08-27T07:01:15.158Z"
   },
   {
    "duration": 268,
    "start_time": "2023-08-27T07:01:15.176Z"
   },
   {
    "duration": 12,
    "start_time": "2023-08-27T07:01:15.446Z"
   },
   {
    "duration": 195,
    "start_time": "2023-08-27T07:01:15.460Z"
   },
   {
    "duration": 50,
    "start_time": "2023-08-27T07:01:15.658Z"
   },
   {
    "duration": 65,
    "start_time": "2023-08-27T07:01:15.711Z"
   },
   {
    "duration": 79,
    "start_time": "2023-08-27T07:01:15.778Z"
   },
   {
    "duration": 142,
    "start_time": "2023-08-27T07:01:15.859Z"
   },
   {
    "duration": 7,
    "start_time": "2023-08-27T07:01:16.004Z"
   },
   {
    "duration": 84,
    "start_time": "2023-08-27T07:01:16.013Z"
   },
   {
    "duration": 142,
    "start_time": "2023-08-27T07:01:16.099Z"
   },
   {
    "duration": 734,
    "start_time": "2023-08-27T07:01:16.243Z"
   },
   {
    "duration": 3,
    "start_time": "2023-08-27T07:01:16.979Z"
   },
   {
    "duration": 160,
    "start_time": "2023-08-27T07:01:16.983Z"
   },
   {
    "duration": 37,
    "start_time": "2023-08-27T07:01:17.144Z"
   },
   {
    "duration": 29,
    "start_time": "2023-08-27T07:01:17.183Z"
   },
   {
    "duration": 115,
    "start_time": "2023-08-27T07:01:17.214Z"
   },
   {
    "duration": 306,
    "start_time": "2023-08-27T07:01:17.331Z"
   },
   {
    "duration": 49,
    "start_time": "2023-08-27T07:01:17.639Z"
   },
   {
    "duration": 23,
    "start_time": "2023-08-27T07:01:17.700Z"
   },
   {
    "duration": 20,
    "start_time": "2023-08-27T07:01:17.725Z"
   },
   {
    "duration": 5,
    "start_time": "2023-08-27T07:01:17.746Z"
   },
   {
    "duration": 4,
    "start_time": "2023-08-27T07:01:17.755Z"
   },
   {
    "duration": 143,
    "start_time": "2023-08-27T07:01:20.817Z"
   },
   {
    "duration": 24,
    "start_time": "2023-08-27T07:01:25.597Z"
   },
   {
    "duration": 78,
    "start_time": "2023-08-27T07:01:27.617Z"
   },
   {
    "duration": 740,
    "start_time": "2023-08-27T07:02:03.895Z"
   },
   {
    "duration": 149,
    "start_time": "2023-08-27T07:02:04.637Z"
   },
   {
    "duration": 16,
    "start_time": "2023-08-27T07:02:22.036Z"
   },
   {
    "duration": 31,
    "start_time": "2023-08-27T07:02:33.731Z"
   },
   {
    "duration": 420,
    "start_time": "2023-08-27T07:03:27.866Z"
   },
   {
    "duration": 87,
    "start_time": "2023-08-27T07:04:25.023Z"
   },
   {
    "duration": 23,
    "start_time": "2023-08-27T07:04:41.614Z"
   },
   {
    "duration": 3,
    "start_time": "2023-08-27T07:04:42.847Z"
   },
   {
    "duration": 371,
    "start_time": "2023-08-27T07:04:43.672Z"
   },
   {
    "duration": 321,
    "start_time": "2023-08-27T07:04:45.342Z"
   },
   {
    "duration": 306,
    "start_time": "2023-08-27T07:04:46.868Z"
   },
   {
    "duration": 103,
    "start_time": "2023-08-27T07:05:19.273Z"
   },
   {
    "duration": 78,
    "start_time": "2023-08-27T07:05:43.763Z"
   },
   {
    "duration": 302,
    "start_time": "2023-08-27T07:05:50.544Z"
   },
   {
    "duration": 11,
    "start_time": "2023-08-27T07:10:44.936Z"
   },
   {
    "duration": 84,
    "start_time": "2023-08-27T07:10:53.072Z"
   },
   {
    "duration": 165,
    "start_time": "2023-08-27T07:10:54.822Z"
   },
   {
    "duration": 4,
    "start_time": "2023-08-27T07:11:48.952Z"
   },
   {
    "duration": 18,
    "start_time": "2023-08-27T07:16:10.903Z"
   },
   {
    "duration": 20,
    "start_time": "2023-08-27T07:17:32.481Z"
   },
   {
    "duration": 18,
    "start_time": "2023-08-27T07:17:48.088Z"
   },
   {
    "duration": 18,
    "start_time": "2023-08-27T07:22:06.319Z"
   },
   {
    "duration": 18,
    "start_time": "2023-08-27T07:22:35.395Z"
   },
   {
    "duration": 445,
    "start_time": "2023-08-27T07:22:58.524Z"
   },
   {
    "duration": 6,
    "start_time": "2023-08-27T07:25:10.708Z"
   },
   {
    "duration": 11,
    "start_time": "2023-08-27T07:25:18.484Z"
   },
   {
    "duration": 5,
    "start_time": "2023-08-27T07:25:34.996Z"
   },
   {
    "duration": 17,
    "start_time": "2023-08-27T07:25:55.624Z"
   },
   {
    "duration": 164,
    "start_time": "2023-08-27T07:25:56.651Z"
   },
   {
    "duration": 116,
    "start_time": "2023-08-27T07:25:58.299Z"
   },
   {
    "duration": 87,
    "start_time": "2023-08-27T07:26:47.883Z"
   },
   {
    "duration": 87,
    "start_time": "2023-08-27T07:27:07.369Z"
   },
   {
    "duration": 94,
    "start_time": "2023-08-27T07:28:21.120Z"
   },
   {
    "duration": 1577,
    "start_time": "2023-08-27T07:29:50.520Z"
   },
   {
    "duration": 130,
    "start_time": "2023-08-27T07:30:53.366Z"
   },
   {
    "duration": 1566,
    "start_time": "2023-08-27T07:32:03.326Z"
   },
   {
    "duration": 884,
    "start_time": "2023-08-27T07:32:04.894Z"
   },
   {
    "duration": 33,
    "start_time": "2023-08-27T07:32:05.780Z"
   },
   {
    "duration": 149,
    "start_time": "2023-08-27T07:32:05.815Z"
   },
   {
    "duration": 157,
    "start_time": "2023-08-27T07:32:05.965Z"
   },
   {
    "duration": 17,
    "start_time": "2023-08-27T07:32:06.124Z"
   },
   {
    "duration": 204,
    "start_time": "2023-08-27T07:32:06.143Z"
   },
   {
    "duration": 17,
    "start_time": "2023-08-27T07:32:06.349Z"
   },
   {
    "duration": 116,
    "start_time": "2023-08-27T07:32:06.368Z"
   },
   {
    "duration": 18,
    "start_time": "2023-08-27T07:32:06.487Z"
   },
   {
    "duration": 5,
    "start_time": "2023-08-27T07:32:06.507Z"
   },
   {
    "duration": 87,
    "start_time": "2023-08-27T07:32:06.514Z"
   },
   {
    "duration": 154,
    "start_time": "2023-08-27T07:32:06.603Z"
   },
   {
    "duration": 6,
    "start_time": "2023-08-27T07:32:06.759Z"
   },
   {
    "duration": 88,
    "start_time": "2023-08-27T07:32:06.767Z"
   },
   {
    "duration": 146,
    "start_time": "2023-08-27T07:32:06.857Z"
   },
   {
    "duration": 787,
    "start_time": "2023-08-27T07:32:07.005Z"
   },
   {
    "duration": 2,
    "start_time": "2023-08-27T07:32:07.794Z"
   },
   {
    "duration": 175,
    "start_time": "2023-08-27T07:32:07.801Z"
   },
   {
    "duration": 47,
    "start_time": "2023-08-27T07:32:07.978Z"
   },
   {
    "duration": 17,
    "start_time": "2023-08-27T07:32:08.027Z"
   },
   {
    "duration": 133,
    "start_time": "2023-08-27T07:32:08.046Z"
   },
   {
    "duration": 306,
    "start_time": "2023-08-27T07:32:08.181Z"
   },
   {
    "duration": 58,
    "start_time": "2023-08-27T07:32:08.489Z"
   },
   {
    "duration": 22,
    "start_time": "2023-08-27T07:32:08.549Z"
   },
   {
    "duration": 38,
    "start_time": "2023-08-27T07:32:08.573Z"
   },
   {
    "duration": 5,
    "start_time": "2023-08-27T07:32:08.613Z"
   },
   {
    "duration": 30,
    "start_time": "2023-08-27T07:32:08.621Z"
   },
   {
    "duration": 159,
    "start_time": "2023-08-27T07:32:08.652Z"
   },
   {
    "duration": 25,
    "start_time": "2023-08-27T07:32:08.813Z"
   },
   {
    "duration": 96,
    "start_time": "2023-08-27T07:32:08.840Z"
   },
   {
    "duration": 813,
    "start_time": "2023-08-27T07:32:08.938Z"
   },
   {
    "duration": 3,
    "start_time": "2023-08-27T07:32:09.753Z"
   },
   {
    "duration": 470,
    "start_time": "2023-08-27T07:32:09.757Z"
   },
   {
    "duration": 96,
    "start_time": "2023-08-27T07:32:10.228Z"
   },
   {
    "duration": 21,
    "start_time": "2023-08-27T07:32:10.326Z"
   },
   {
    "duration": 41,
    "start_time": "2023-08-27T07:32:10.349Z"
   },
   {
    "duration": 434,
    "start_time": "2023-08-27T07:32:10.392Z"
   },
   {
    "duration": 337,
    "start_time": "2023-08-27T07:32:10.828Z"
   },
   {
    "duration": 338,
    "start_time": "2023-08-27T07:32:11.166Z"
   },
   {
    "duration": 2,
    "start_time": "2023-08-27T07:32:11.506Z"
   },
   {
    "duration": 97,
    "start_time": "2023-08-27T07:32:11.510Z"
   },
   {
    "duration": 168,
    "start_time": "2023-08-27T07:32:11.608Z"
   },
   {
    "duration": 251,
    "start_time": "2023-08-27T07:32:14.818Z"
   },
   {
    "duration": 15,
    "start_time": "2023-08-27T07:33:53.229Z"
   },
   {
    "duration": 16,
    "start_time": "2023-08-27T07:33:56.356Z"
   },
   {
    "duration": 183,
    "start_time": "2023-08-27T07:34:58.415Z"
   },
   {
    "duration": 174,
    "start_time": "2023-08-27T07:35:00.043Z"
   },
   {
    "duration": 6,
    "start_time": "2023-08-27T07:35:44.158Z"
   },
   {
    "duration": 1721,
    "start_time": "2023-08-27T07:36:15.689Z"
   },
   {
    "duration": 890,
    "start_time": "2023-08-27T07:36:17.412Z"
   },
   {
    "duration": 29,
    "start_time": "2023-08-27T07:36:18.303Z"
   },
   {
    "duration": 144,
    "start_time": "2023-08-27T07:36:18.334Z"
   },
   {
    "duration": 161,
    "start_time": "2023-08-27T07:36:18.480Z"
   },
   {
    "duration": 21,
    "start_time": "2023-08-27T07:36:18.643Z"
   },
   {
    "duration": 196,
    "start_time": "2023-08-27T07:36:18.665Z"
   },
   {
    "duration": 14,
    "start_time": "2023-08-27T07:36:18.862Z"
   },
   {
    "duration": 99,
    "start_time": "2023-08-27T07:36:18.877Z"
   },
   {
    "duration": 22,
    "start_time": "2023-08-27T07:36:18.979Z"
   },
   {
    "duration": 6,
    "start_time": "2023-08-27T07:36:19.003Z"
   },
   {
    "duration": 100,
    "start_time": "2023-08-27T07:36:19.010Z"
   },
   {
    "duration": 138,
    "start_time": "2023-08-27T07:36:19.111Z"
   },
   {
    "duration": 7,
    "start_time": "2023-08-27T07:36:19.251Z"
   },
   {
    "duration": 115,
    "start_time": "2023-08-27T07:36:19.260Z"
   },
   {
    "duration": 132,
    "start_time": "2023-08-27T07:36:19.377Z"
   },
   {
    "duration": 824,
    "start_time": "2023-08-27T07:36:19.511Z"
   },
   {
    "duration": 3,
    "start_time": "2023-08-27T07:36:20.336Z"
   },
   {
    "duration": 162,
    "start_time": "2023-08-27T07:36:20.341Z"
   },
   {
    "duration": 39,
    "start_time": "2023-08-27T07:36:20.506Z"
   },
   {
    "duration": 17,
    "start_time": "2023-08-27T07:36:20.547Z"
   },
   {
    "duration": 135,
    "start_time": "2023-08-27T07:36:20.566Z"
   },
   {
    "duration": 293,
    "start_time": "2023-08-27T07:36:20.703Z"
   },
   {
    "duration": 48,
    "start_time": "2023-08-27T07:36:20.998Z"
   },
   {
    "duration": 21,
    "start_time": "2023-08-27T07:36:31.516Z"
   },
   {
    "duration": 23,
    "start_time": "2023-08-27T07:37:25.327Z"
   },
   {
    "duration": 142,
    "start_time": "2023-08-27T07:37:29.321Z"
   },
   {
    "duration": 6,
    "start_time": "2023-08-27T07:37:36.079Z"
   },
   {
    "duration": 142,
    "start_time": "2023-08-27T07:37:38.691Z"
   },
   {
    "duration": 22,
    "start_time": "2023-08-27T07:37:46.114Z"
   },
   {
    "duration": 145,
    "start_time": "2023-08-27T07:37:47.540Z"
   },
   {
    "duration": 34,
    "start_time": "2023-08-27T07:37:59.058Z"
   },
   {
    "duration": 75,
    "start_time": "2023-08-27T07:38:00.547Z"
   },
   {
    "duration": 251,
    "start_time": "2023-08-27T07:38:24.047Z"
   },
   {
    "duration": 176,
    "start_time": "2023-08-27T07:38:26.034Z"
   },
   {
    "duration": 1584,
    "start_time": "2023-08-27T07:38:35.462Z"
   },
   {
    "duration": 961,
    "start_time": "2023-08-27T07:38:37.048Z"
   },
   {
    "duration": 28,
    "start_time": "2023-08-27T07:38:38.011Z"
   },
   {
    "duration": 187,
    "start_time": "2023-08-27T07:38:38.042Z"
   },
   {
    "duration": 118,
    "start_time": "2023-08-27T07:38:38.231Z"
   },
   {
    "duration": 18,
    "start_time": "2023-08-27T07:38:38.351Z"
   },
   {
    "duration": 247,
    "start_time": "2023-08-27T07:38:38.371Z"
   },
   {
    "duration": 18,
    "start_time": "2023-08-27T07:38:38.620Z"
   },
   {
    "duration": 131,
    "start_time": "2023-08-27T07:38:38.640Z"
   },
   {
    "duration": 14,
    "start_time": "2023-08-27T07:38:38.774Z"
   },
   {
    "duration": 44,
    "start_time": "2023-08-27T07:38:38.790Z"
   },
   {
    "duration": 65,
    "start_time": "2023-08-27T07:38:38.836Z"
   },
   {
    "duration": 150,
    "start_time": "2023-08-27T07:38:38.903Z"
   },
   {
    "duration": 7,
    "start_time": "2023-08-27T07:38:39.054Z"
   },
   {
    "duration": 97,
    "start_time": "2023-08-27T07:38:39.062Z"
   },
   {
    "duration": 149,
    "start_time": "2023-08-27T07:38:39.161Z"
   },
   {
    "duration": 915,
    "start_time": "2023-08-27T07:38:39.311Z"
   },
   {
    "duration": 3,
    "start_time": "2023-08-27T07:38:40.228Z"
   },
   {
    "duration": 157,
    "start_time": "2023-08-27T07:38:40.232Z"
   },
   {
    "duration": 48,
    "start_time": "2023-08-27T07:38:40.391Z"
   },
   {
    "duration": 17,
    "start_time": "2023-08-27T07:38:40.441Z"
   },
   {
    "duration": 132,
    "start_time": "2023-08-27T07:38:40.459Z"
   },
   {
    "duration": 299,
    "start_time": "2023-08-27T07:38:40.593Z"
   },
   {
    "duration": 46,
    "start_time": "2023-08-27T07:38:40.894Z"
   },
   {
    "duration": 22,
    "start_time": "2023-08-27T07:38:45.151Z"
   },
   {
    "duration": 5,
    "start_time": "2023-08-27T07:38:51.559Z"
   },
   {
    "duration": 26,
    "start_time": "2023-08-27T07:39:07.821Z"
   },
   {
    "duration": 416,
    "start_time": "2023-08-27T07:39:15.642Z"
   },
   {
    "duration": 136,
    "start_time": "2023-08-27T07:39:18.073Z"
   },
   {
    "duration": 1486,
    "start_time": "2023-08-27T07:41:08.703Z"
   },
   {
    "duration": 871,
    "start_time": "2023-08-27T07:41:10.190Z"
   },
   {
    "duration": 38,
    "start_time": "2023-08-27T07:41:11.063Z"
   },
   {
    "duration": 144,
    "start_time": "2023-08-27T07:41:11.104Z"
   },
   {
    "duration": 113,
    "start_time": "2023-08-27T07:41:11.250Z"
   },
   {
    "duration": 17,
    "start_time": "2023-08-27T07:41:11.365Z"
   },
   {
    "duration": 199,
    "start_time": "2023-08-27T07:41:11.383Z"
   },
   {
    "duration": 23,
    "start_time": "2023-08-27T07:41:11.584Z"
   },
   {
    "duration": 92,
    "start_time": "2023-08-27T07:41:11.609Z"
   },
   {
    "duration": 15,
    "start_time": "2023-08-27T07:41:11.704Z"
   },
   {
    "duration": 7,
    "start_time": "2023-08-27T07:41:11.720Z"
   },
   {
    "duration": 72,
    "start_time": "2023-08-27T07:41:11.729Z"
   },
   {
    "duration": 131,
    "start_time": "2023-08-27T07:41:11.803Z"
   },
   {
    "duration": 5,
    "start_time": "2023-08-27T07:41:11.936Z"
   },
   {
    "duration": 76,
    "start_time": "2023-08-27T07:41:11.943Z"
   },
   {
    "duration": 142,
    "start_time": "2023-08-27T07:41:12.021Z"
   },
   {
    "duration": 1522,
    "start_time": "2023-08-27T07:41:25.101Z"
   },
   {
    "duration": 837,
    "start_time": "2023-08-27T07:41:26.625Z"
   },
   {
    "duration": 37,
    "start_time": "2023-08-27T07:41:27.464Z"
   },
   {
    "duration": 147,
    "start_time": "2023-08-27T07:41:27.504Z"
   },
   {
    "duration": 105,
    "start_time": "2023-08-27T07:41:27.652Z"
   },
   {
    "duration": 17,
    "start_time": "2023-08-27T07:41:27.759Z"
   },
   {
    "duration": 213,
    "start_time": "2023-08-27T07:41:27.778Z"
   },
   {
    "duration": 20,
    "start_time": "2023-08-27T07:41:27.993Z"
   },
   {
    "duration": 99,
    "start_time": "2023-08-27T07:41:28.015Z"
   },
   {
    "duration": 15,
    "start_time": "2023-08-27T07:41:28.117Z"
   },
   {
    "duration": 85,
    "start_time": "2023-08-27T07:41:28.134Z"
   },
   {
    "duration": 51,
    "start_time": "2023-08-27T07:41:28.220Z"
   },
   {
    "duration": 139,
    "start_time": "2023-08-27T07:41:28.273Z"
   },
   {
    "duration": 5,
    "start_time": "2023-08-27T07:41:28.414Z"
   },
   {
    "duration": 63,
    "start_time": "2023-08-27T07:41:28.421Z"
   },
   {
    "duration": 164,
    "start_time": "2023-08-27T07:41:28.485Z"
   },
   {
    "duration": 790,
    "start_time": "2023-08-27T07:41:28.651Z"
   },
   {
    "duration": 3,
    "start_time": "2023-08-27T07:41:29.443Z"
   },
   {
    "duration": 170,
    "start_time": "2023-08-27T07:41:29.447Z"
   },
   {
    "duration": 40,
    "start_time": "2023-08-27T07:41:29.619Z"
   },
   {
    "duration": 17,
    "start_time": "2023-08-27T07:41:29.661Z"
   },
   {
    "duration": 136,
    "start_time": "2023-08-27T07:41:29.679Z"
   },
   {
    "duration": 275,
    "start_time": "2023-08-27T07:41:33.339Z"
   },
   {
    "duration": 26,
    "start_time": "2023-08-27T07:41:44.607Z"
   },
   {
    "duration": 7,
    "start_time": "2023-08-27T07:41:46.608Z"
   },
   {
    "duration": 25,
    "start_time": "2023-08-27T07:41:48.882Z"
   },
   {
    "duration": 147,
    "start_time": "2023-08-27T07:41:49.411Z"
   },
   {
    "duration": 40,
    "start_time": "2023-08-27T07:41:53.190Z"
   },
   {
    "duration": 88,
    "start_time": "2023-08-27T07:41:54.770Z"
   },
   {
    "duration": 24,
    "start_time": "2023-08-27T07:42:16.122Z"
   },
   {
    "duration": 147,
    "start_time": "2023-08-27T07:42:17.503Z"
   },
   {
    "duration": 75,
    "start_time": "2023-08-27T07:42:22.087Z"
   },
   {
    "duration": 1481,
    "start_time": "2023-08-27T07:42:34.055Z"
   },
   {
    "duration": 864,
    "start_time": "2023-08-27T07:42:35.538Z"
   },
   {
    "duration": 29,
    "start_time": "2023-08-27T07:42:36.403Z"
   },
   {
    "duration": 159,
    "start_time": "2023-08-27T07:42:36.434Z"
   },
   {
    "duration": 95,
    "start_time": "2023-08-27T07:42:36.595Z"
   },
   {
    "duration": 25,
    "start_time": "2023-08-27T07:42:36.691Z"
   },
   {
    "duration": 329,
    "start_time": "2023-08-27T07:42:36.718Z"
   },
   {
    "duration": 14,
    "start_time": "2023-08-27T07:42:37.048Z"
   },
   {
    "duration": 117,
    "start_time": "2023-08-27T07:42:37.063Z"
   },
   {
    "duration": 21,
    "start_time": "2023-08-27T07:42:37.183Z"
   },
   {
    "duration": 38,
    "start_time": "2023-08-27T07:42:37.206Z"
   },
   {
    "duration": 73,
    "start_time": "2023-08-27T07:42:37.246Z"
   },
   {
    "duration": 146,
    "start_time": "2023-08-27T07:42:37.321Z"
   },
   {
    "duration": 6,
    "start_time": "2023-08-27T07:42:37.468Z"
   },
   {
    "duration": 89,
    "start_time": "2023-08-27T07:42:37.475Z"
   },
   {
    "duration": 138,
    "start_time": "2023-08-27T07:42:37.565Z"
   },
   {
    "duration": 786,
    "start_time": "2023-08-27T07:42:37.704Z"
   },
   {
    "duration": 2,
    "start_time": "2023-08-27T07:42:38.492Z"
   },
   {
    "duration": 175,
    "start_time": "2023-08-27T07:42:38.496Z"
   },
   {
    "duration": 48,
    "start_time": "2023-08-27T07:42:38.672Z"
   },
   {
    "duration": 32,
    "start_time": "2023-08-27T07:42:38.722Z"
   },
   {
    "duration": 106,
    "start_time": "2023-08-27T07:42:38.756Z"
   },
   {
    "duration": 290,
    "start_time": "2023-08-27T07:42:38.864Z"
   },
   {
    "duration": 21,
    "start_time": "2023-08-27T07:42:40.529Z"
   },
   {
    "duration": 6,
    "start_time": "2023-08-27T07:42:41.039Z"
   },
   {
    "duration": 60,
    "start_time": "2023-08-27T07:42:42.139Z"
   },
   {
    "duration": 144,
    "start_time": "2023-08-27T07:42:43.337Z"
   },
   {
    "duration": 23,
    "start_time": "2023-08-27T07:42:48.858Z"
   },
   {
    "duration": 76,
    "start_time": "2023-08-27T07:42:50.175Z"
   },
   {
    "duration": 2,
    "start_time": "2023-08-27T07:43:05.359Z"
   },
   {
    "duration": 755,
    "start_time": "2023-08-27T07:43:07.198Z"
   },
   {
    "duration": 108,
    "start_time": "2023-08-27T07:43:10.552Z"
   },
   {
    "duration": 85,
    "start_time": "2023-08-27T07:43:14.242Z"
   },
   {
    "duration": 24,
    "start_time": "2023-08-27T07:43:18.057Z"
   },
   {
    "duration": 3,
    "start_time": "2023-08-27T07:43:19.488Z"
   },
   {
    "duration": 350,
    "start_time": "2023-08-27T07:43:20.482Z"
   },
   {
    "duration": 295,
    "start_time": "2023-08-27T07:43:21.918Z"
   },
   {
    "duration": 319,
    "start_time": "2023-08-27T07:43:23.455Z"
   },
   {
    "duration": 276,
    "start_time": "2023-08-27T07:43:40.318Z"
   },
   {
    "duration": 285,
    "start_time": "2023-08-27T07:43:56.527Z"
   },
   {
    "duration": 45,
    "start_time": "2023-08-27T07:44:40.962Z"
   },
   {
    "duration": 120,
    "start_time": "2023-08-27T07:44:42.317Z"
   },
   {
    "duration": 61561,
    "start_time": "2023-08-27T07:44:43.653Z"
   },
   {
    "duration": 30701,
    "start_time": "2023-08-27T07:47:11.655Z"
   },
   {
    "duration": 25498,
    "start_time": "2023-08-27T08:00:00.949Z"
   },
   {
    "duration": 5,
    "start_time": "2023-08-27T08:04:30.494Z"
   },
   {
    "duration": 341,
    "start_time": "2023-08-27T08:04:36.156Z"
   },
   {
    "duration": 5,
    "start_time": "2023-08-27T08:07:55.875Z"
   },
   {
    "duration": 4,
    "start_time": "2023-08-27T08:08:07.813Z"
   },
   {
    "duration": 13,
    "start_time": "2023-08-27T08:08:09.537Z"
   },
   {
    "duration": 36,
    "start_time": "2023-08-27T08:08:30.261Z"
   },
   {
    "duration": 4,
    "start_time": "2023-08-27T08:10:06.237Z"
   },
   {
    "duration": 25,
    "start_time": "2023-08-27T08:10:07.503Z"
   },
   {
    "duration": 4,
    "start_time": "2023-08-27T08:11:48.999Z"
   },
   {
    "duration": 16,
    "start_time": "2023-08-27T08:11:51.182Z"
   },
   {
    "duration": 5,
    "start_time": "2023-08-27T08:19:36.463Z"
   },
   {
    "duration": 1312,
    "start_time": "2023-08-28T08:18:47.967Z"
   },
   {
    "duration": 1154,
    "start_time": "2023-08-28T08:18:49.281Z"
   },
   {
    "duration": 28,
    "start_time": "2023-08-28T08:18:50.437Z"
   },
   {
    "duration": 141,
    "start_time": "2023-08-28T08:18:50.467Z"
   },
   {
    "duration": 152,
    "start_time": "2023-08-28T08:18:50.610Z"
   },
   {
    "duration": 17,
    "start_time": "2023-08-28T08:18:50.763Z"
   },
   {
    "duration": 198,
    "start_time": "2023-08-28T08:18:50.781Z"
   },
   {
    "duration": 21,
    "start_time": "2023-08-28T08:18:50.981Z"
   },
   {
    "duration": 99,
    "start_time": "2023-08-28T08:18:51.004Z"
   },
   {
    "duration": 13,
    "start_time": "2023-08-28T08:18:51.106Z"
   },
   {
    "duration": 32,
    "start_time": "2023-08-28T08:18:51.121Z"
   },
   {
    "duration": 75,
    "start_time": "2023-08-28T08:18:51.154Z"
   },
   {
    "duration": 135,
    "start_time": "2023-08-28T08:18:51.231Z"
   },
   {
    "duration": 6,
    "start_time": "2023-08-28T08:18:51.368Z"
   },
   {
    "duration": 75,
    "start_time": "2023-08-28T08:18:51.376Z"
   },
   {
    "duration": 150,
    "start_time": "2023-08-28T08:18:51.453Z"
   },
   {
    "duration": 755,
    "start_time": "2023-08-28T08:18:51.605Z"
   },
   {
    "duration": 3,
    "start_time": "2023-08-28T08:18:52.361Z"
   },
   {
    "duration": 170,
    "start_time": "2023-08-28T08:18:52.366Z"
   },
   {
    "duration": 44,
    "start_time": "2023-08-28T08:18:52.538Z"
   },
   {
    "duration": 33,
    "start_time": "2023-08-28T08:18:52.584Z"
   },
   {
    "duration": 33,
    "start_time": "2023-08-28T08:18:52.619Z"
   },
   {
    "duration": 312,
    "start_time": "2023-08-28T08:18:52.654Z"
   },
   {
    "duration": 21,
    "start_time": "2023-08-28T08:18:52.968Z"
   },
   {
    "duration": 6,
    "start_time": "2023-08-28T08:18:53.002Z"
   },
   {
    "duration": 78,
    "start_time": "2023-08-28T08:18:53.010Z"
   },
   {
    "duration": 146,
    "start_time": "2023-08-28T08:18:53.090Z"
   },
   {
    "duration": 22,
    "start_time": "2023-08-28T08:18:53.240Z"
   },
   {
    "duration": 94,
    "start_time": "2023-08-28T08:18:53.264Z"
   },
   {
    "duration": 775,
    "start_time": "2023-08-28T08:18:53.360Z"
   },
   {
    "duration": 2,
    "start_time": "2023-08-28T08:18:54.137Z"
   },
   {
    "duration": 140,
    "start_time": "2023-08-28T08:18:54.141Z"
   },
   {
    "duration": 88,
    "start_time": "2023-08-28T08:18:54.283Z"
   },
   {
    "duration": 33,
    "start_time": "2023-08-28T08:18:54.373Z"
   },
   {
    "duration": 5,
    "start_time": "2023-08-28T08:18:54.408Z"
   },
   {
    "duration": 510,
    "start_time": "2023-08-28T08:18:54.415Z"
   },
   {
    "duration": 307,
    "start_time": "2023-08-28T08:18:54.927Z"
   },
   {
    "duration": 297,
    "start_time": "2023-08-28T08:18:55.236Z"
   },
   {
    "duration": 335,
    "start_time": "2023-08-28T08:18:55.535Z"
   },
   {
    "duration": 3,
    "start_time": "2023-08-28T08:18:55.872Z"
   },
   {
    "duration": 53,
    "start_time": "2023-08-28T08:18:55.877Z"
   },
   {
    "duration": 140,
    "start_time": "2023-08-28T08:18:55.932Z"
   },
   {
    "duration": 4,
    "start_time": "2023-08-28T08:18:56.073Z"
   },
   {
    "duration": 18,
    "start_time": "2023-08-28T08:18:56.078Z"
   },
   {
    "duration": 17,
    "start_time": "2023-08-28T08:18:56.098Z"
   },
   {
    "duration": 5,
    "start_time": "2023-08-28T08:19:03.706Z"
   },
   {
    "duration": 126,
    "start_time": "2023-08-28T08:19:05.214Z"
   },
   {
    "duration": 4,
    "start_time": "2023-08-28T08:19:27.788Z"
   },
   {
    "duration": 37,
    "start_time": "2023-08-28T08:19:28.538Z"
   },
   {
    "duration": 5,
    "start_time": "2023-08-28T08:19:37.988Z"
   },
   {
    "duration": 21,
    "start_time": "2023-08-28T08:19:40.988Z"
   },
   {
    "duration": 52,
    "start_time": "2023-08-28T13:55:05.631Z"
   },
   {
    "duration": 1950,
    "start_time": "2023-08-28T13:55:11.883Z"
   },
   {
    "duration": 1468,
    "start_time": "2023-08-28T13:55:13.836Z"
   },
   {
    "duration": 38,
    "start_time": "2023-08-28T13:55:15.305Z"
   },
   {
    "duration": 183,
    "start_time": "2023-08-28T13:55:15.346Z"
   },
   {
    "duration": 119,
    "start_time": "2023-08-28T13:55:15.531Z"
   },
   {
    "duration": 23,
    "start_time": "2023-08-28T13:55:15.653Z"
   },
   {
    "duration": 214,
    "start_time": "2023-08-28T13:55:15.678Z"
   },
   {
    "duration": 22,
    "start_time": "2023-08-28T13:55:15.901Z"
   },
   {
    "duration": 101,
    "start_time": "2023-08-28T13:55:15.925Z"
   },
   {
    "duration": 15,
    "start_time": "2023-08-28T13:55:16.029Z"
   },
   {
    "duration": 18,
    "start_time": "2023-08-28T13:55:16.046Z"
   },
   {
    "duration": 73,
    "start_time": "2023-08-28T13:55:16.066Z"
   },
   {
    "duration": 156,
    "start_time": "2023-08-28T13:55:16.141Z"
   },
   {
    "duration": 20,
    "start_time": "2023-08-28T13:55:16.299Z"
   },
   {
    "duration": 73,
    "start_time": "2023-08-28T13:55:16.321Z"
   },
   {
    "duration": 157,
    "start_time": "2023-08-28T13:55:16.402Z"
   },
   {
    "duration": 837,
    "start_time": "2023-08-28T13:55:16.561Z"
   },
   {
    "duration": 14,
    "start_time": "2023-08-28T13:55:17.406Z"
   },
   {
    "duration": 195,
    "start_time": "2023-08-28T13:55:17.427Z"
   },
   {
    "duration": 42,
    "start_time": "2023-08-28T13:55:17.624Z"
   },
   {
    "duration": 45,
    "start_time": "2023-08-28T13:55:17.668Z"
   },
   {
    "duration": 123,
    "start_time": "2023-08-28T13:55:17.715Z"
   },
   {
    "duration": 328,
    "start_time": "2023-08-28T13:55:17.840Z"
   },
   {
    "duration": 23,
    "start_time": "2023-08-28T13:55:18.170Z"
   },
   {
    "duration": 8,
    "start_time": "2023-08-28T13:55:18.204Z"
   },
   {
    "duration": 77,
    "start_time": "2023-08-28T13:55:18.214Z"
   },
   {
    "duration": 187,
    "start_time": "2023-08-28T13:55:18.292Z"
   },
   {
    "duration": 55,
    "start_time": "2023-08-28T13:55:18.482Z"
   },
   {
    "duration": 141,
    "start_time": "2023-08-28T13:55:21.539Z"
   },
   {
    "duration": 1729,
    "start_time": "2023-08-28T13:55:30.670Z"
   },
   {
    "duration": 995,
    "start_time": "2023-08-28T13:55:32.401Z"
   },
   {
    "duration": 29,
    "start_time": "2023-08-28T13:55:33.402Z"
   },
   {
    "duration": 201,
    "start_time": "2023-08-28T13:55:33.433Z"
   },
   {
    "duration": 116,
    "start_time": "2023-08-28T13:55:33.636Z"
   },
   {
    "duration": 18,
    "start_time": "2023-08-28T13:55:33.753Z"
   },
   {
    "duration": 257,
    "start_time": "2023-08-28T13:55:33.772Z"
   },
   {
    "duration": 14,
    "start_time": "2023-08-28T13:55:34.031Z"
   },
   {
    "duration": 107,
    "start_time": "2023-08-28T13:55:34.047Z"
   },
   {
    "duration": 14,
    "start_time": "2023-08-28T13:55:34.157Z"
   },
   {
    "duration": 53,
    "start_time": "2023-08-28T13:55:34.173Z"
   },
   {
    "duration": 61,
    "start_time": "2023-08-28T13:55:34.228Z"
   },
   {
    "duration": 154,
    "start_time": "2023-08-28T13:55:34.291Z"
   },
   {
    "duration": 6,
    "start_time": "2023-08-28T13:55:34.447Z"
   },
   {
    "duration": 91,
    "start_time": "2023-08-28T13:55:34.454Z"
   },
   {
    "duration": 174,
    "start_time": "2023-08-28T13:55:34.547Z"
   },
   {
    "duration": 898,
    "start_time": "2023-08-28T13:55:34.723Z"
   },
   {
    "duration": 3,
    "start_time": "2023-08-28T13:55:35.623Z"
   },
   {
    "duration": 193,
    "start_time": "2023-08-28T13:55:35.628Z"
   },
   {
    "duration": 42,
    "start_time": "2023-08-28T13:55:35.822Z"
   },
   {
    "duration": 52,
    "start_time": "2023-08-28T13:55:35.867Z"
   },
   {
    "duration": 125,
    "start_time": "2023-08-28T13:55:35.921Z"
   },
   {
    "duration": 406,
    "start_time": "2023-08-28T13:55:36.048Z"
   },
   {
    "duration": 23,
    "start_time": "2023-08-28T13:55:36.455Z"
   },
   {
    "duration": 28,
    "start_time": "2023-08-28T13:55:36.480Z"
   },
   {
    "duration": 79,
    "start_time": "2023-08-28T13:55:36.510Z"
   },
   {
    "duration": 182,
    "start_time": "2023-08-28T13:55:36.592Z"
   },
   {
    "duration": 50,
    "start_time": "2023-08-28T13:55:36.777Z"
   },
   {
    "duration": 27,
    "start_time": "2023-08-28T13:55:40.182Z"
   },
   {
    "duration": 87,
    "start_time": "2023-08-28T13:55:53.348Z"
   },
   {
    "duration": 5,
    "start_time": "2023-08-28T13:59:22.065Z"
   },
   {
    "duration": 2852,
    "start_time": "2023-08-28T13:59:29.465Z"
   },
   {
    "duration": 3176,
    "start_time": "2023-08-28T13:59:39.352Z"
   },
   {
    "duration": 22,
    "start_time": "2023-08-28T14:00:12.672Z"
   },
   {
    "duration": 199,
    "start_time": "2023-08-28T14:01:16.072Z"
   },
   {
    "duration": 179,
    "start_time": "2023-08-28T14:02:10.877Z"
   },
   {
    "duration": 95,
    "start_time": "2023-08-28T14:02:26.118Z"
   },
   {
    "duration": 6,
    "start_time": "2023-08-28T14:02:54.341Z"
   },
   {
    "duration": 179,
    "start_time": "2023-08-28T14:02:56.241Z"
   },
   {
    "duration": 245,
    "start_time": "2023-08-28T14:03:02.431Z"
   },
   {
    "duration": 5036,
    "start_time": "2023-08-28T14:03:03.514Z"
   },
   {
    "duration": 60,
    "start_time": "2023-08-28T14:03:13.562Z"
   },
   {
    "duration": 93,
    "start_time": "2023-08-28T14:03:23.472Z"
   },
   {
    "duration": 15,
    "start_time": "2023-08-28T14:03:46.317Z"
   },
   {
    "duration": 40,
    "start_time": "2023-08-28T14:03:54.177Z"
   },
   {
    "duration": 736,
    "start_time": "2023-08-28T14:03:55.742Z"
   },
   {
    "duration": 744,
    "start_time": "2023-08-28T14:04:48.846Z"
   },
   {
    "duration": 178,
    "start_time": "2023-08-28T14:05:21.927Z"
   },
   {
    "duration": 22,
    "start_time": "2023-08-28T14:05:26.155Z"
   },
   {
    "duration": 196,
    "start_time": "2023-08-28T14:05:27.101Z"
   },
   {
    "duration": 27,
    "start_time": "2023-08-28T14:05:33.387Z"
   },
   {
    "duration": 842,
    "start_time": "2023-08-28T14:05:34.613Z"
   },
   {
    "duration": 3,
    "start_time": "2023-08-28T14:08:15.221Z"
   },
   {
    "duration": 792,
    "start_time": "2023-08-28T14:08:45.886Z"
   },
   {
    "duration": 1630,
    "start_time": "2023-08-28T14:09:05.060Z"
   },
   {
    "duration": 1045,
    "start_time": "2023-08-28T14:09:06.692Z"
   },
   {
    "duration": 28,
    "start_time": "2023-08-28T14:09:07.739Z"
   },
   {
    "duration": 172,
    "start_time": "2023-08-28T14:09:07.771Z"
   },
   {
    "duration": 177,
    "start_time": "2023-08-28T14:09:07.945Z"
   },
   {
    "duration": 20,
    "start_time": "2023-08-28T14:09:08.124Z"
   },
   {
    "duration": 273,
    "start_time": "2023-08-28T14:09:08.146Z"
   },
   {
    "duration": 15,
    "start_time": "2023-08-28T14:09:08.421Z"
   },
   {
    "duration": 133,
    "start_time": "2023-08-28T14:09:08.438Z"
   },
   {
    "duration": 259,
    "start_time": "2023-08-28T14:09:08.574Z"
   },
   {
    "duration": 49,
    "start_time": "2023-08-28T14:09:08.834Z"
   },
   {
    "duration": 126,
    "start_time": "2023-08-28T14:09:08.885Z"
   },
   {
    "duration": 158,
    "start_time": "2023-08-28T14:09:09.017Z"
   },
   {
    "duration": 6,
    "start_time": "2023-08-28T14:09:09.178Z"
   },
   {
    "duration": 88,
    "start_time": "2023-08-28T14:09:09.187Z"
   },
   {
    "duration": 158,
    "start_time": "2023-08-28T14:09:09.277Z"
   },
   {
    "duration": 927,
    "start_time": "2023-08-28T14:09:09.437Z"
   },
   {
    "duration": 2,
    "start_time": "2023-08-28T14:09:10.366Z"
   },
   {
    "duration": 212,
    "start_time": "2023-08-28T14:09:10.370Z"
   },
   {
    "duration": 53,
    "start_time": "2023-08-28T14:09:10.584Z"
   },
   {
    "duration": 27,
    "start_time": "2023-08-28T14:09:10.639Z"
   },
   {
    "duration": 136,
    "start_time": "2023-08-28T14:09:10.668Z"
   },
   {
    "duration": 375,
    "start_time": "2023-08-28T14:09:10.807Z"
   },
   {
    "duration": 37,
    "start_time": "2023-08-28T14:09:11.184Z"
   },
   {
    "duration": 6,
    "start_time": "2023-08-28T14:09:11.223Z"
   },
   {
    "duration": 113,
    "start_time": "2023-08-28T14:09:11.231Z"
   },
   {
    "duration": 178,
    "start_time": "2023-08-28T14:09:11.346Z"
   },
   {
    "duration": 38,
    "start_time": "2023-08-28T14:09:11.528Z"
   },
   {
    "duration": 54,
    "start_time": "2023-08-28T14:09:11.568Z"
   },
   {
    "duration": 202,
    "start_time": "2023-08-28T14:09:11.624Z"
   },
   {
    "duration": 5,
    "start_time": "2023-08-28T14:09:11.828Z"
   },
   {
    "duration": 786,
    "start_time": "2023-08-28T14:11:51.275Z"
   },
   {
    "duration": 789,
    "start_time": "2023-08-28T14:11:53.568Z"
   },
   {
    "duration": 4349,
    "start_time": "2023-08-28T14:11:55.969Z"
   },
   {
    "duration": 784,
    "start_time": "2023-08-28T14:12:08.138Z"
   },
   {
    "duration": 760,
    "start_time": "2023-08-28T14:12:10.195Z"
   },
   {
    "duration": 3,
    "start_time": "2023-08-28T14:12:38.821Z"
   },
   {
    "duration": 120,
    "start_time": "2023-08-28T14:14:41.690Z"
   },
   {
    "duration": 92,
    "start_time": "2023-08-28T14:14:44.977Z"
   },
   {
    "duration": 24,
    "start_time": "2023-08-28T14:14:53.335Z"
   },
   {
    "duration": 5,
    "start_time": "2023-08-28T14:14:54.826Z"
   },
   {
    "duration": 407,
    "start_time": "2023-08-28T14:15:19.721Z"
   },
   {
    "duration": 134,
    "start_time": "2023-08-28T14:17:08.961Z"
   },
   {
    "duration": 4,
    "start_time": "2023-08-28T14:17:22.470Z"
   },
   {
    "duration": 548,
    "start_time": "2023-08-28T14:17:23.310Z"
   },
   {
    "duration": 355,
    "start_time": "2023-08-28T14:17:27.490Z"
   },
   {
    "duration": 379,
    "start_time": "2023-08-28T14:17:29.564Z"
   },
   {
    "duration": 4,
    "start_time": "2023-08-28T14:17:54.035Z"
   },
   {
    "duration": 548,
    "start_time": "2023-08-28T14:17:54.724Z"
   },
   {
    "duration": 357,
    "start_time": "2023-08-28T14:17:57.456Z"
   },
   {
    "duration": 412,
    "start_time": "2023-08-28T14:17:58.903Z"
   },
   {
    "duration": 476,
    "start_time": "2023-08-28T14:18:11.920Z"
   },
   {
    "duration": 34,
    "start_time": "2023-08-28T14:20:02.022Z"
   },
   {
    "duration": 131,
    "start_time": "2023-08-28T14:20:05.509Z"
   },
   {
    "duration": 4,
    "start_time": "2023-08-28T14:20:17.319Z"
   },
   {
    "duration": 4,
    "start_time": "2023-08-28T14:22:34.258Z"
   },
   {
    "duration": 5,
    "start_time": "2023-08-28T14:23:50.088Z"
   },
   {
    "duration": 3587,
    "start_time": "2023-08-28T14:23:58.450Z"
   },
   {
    "duration": 6,
    "start_time": "2023-08-28T14:24:18.013Z"
   },
   {
    "duration": 4,
    "start_time": "2023-08-28T14:24:20.186Z"
   },
   {
    "duration": 4,
    "start_time": "2023-08-28T14:24:21.696Z"
   },
   {
    "duration": 97491,
    "start_time": "2023-08-28T14:24:23.918Z"
   },
   {
    "duration": 213,
    "start_time": "2023-08-28T14:27:34.831Z"
   },
   {
    "duration": 6,
    "start_time": "2023-08-28T14:27:36.878Z"
   },
   {
    "duration": 94183,
    "start_time": "2023-08-28T14:27:38.841Z"
   },
   {
    "duration": 115,
    "start_time": "2023-08-28T14:29:18.087Z"
   },
   {
    "duration": 96433,
    "start_time": "2023-08-28T14:29:26.174Z"
   },
   {
    "duration": 165,
    "start_time": "2023-08-28T14:33:10.053Z"
   },
   {
    "duration": 31185,
    "start_time": "2023-08-28T14:33:53.818Z"
   },
   {
    "duration": 29582,
    "start_time": "2023-08-28T14:35:13.926Z"
   },
   {
    "duration": 443,
    "start_time": "2023-08-28T14:36:14.071Z"
   },
   {
    "duration": 44,
    "start_time": "2023-08-28T14:37:26.418Z"
   },
   {
    "duration": 11,
    "start_time": "2023-08-28T14:39:11.219Z"
   },
   {
    "duration": 3,
    "start_time": "2023-08-28T14:40:22.886Z"
   },
   {
    "duration": 7,
    "start_time": "2023-08-28T14:40:25.387Z"
   },
   {
    "duration": 100644,
    "start_time": "2023-08-28T14:40:27.861Z"
   },
   {
    "duration": 29717,
    "start_time": "2023-08-28T14:42:16.694Z"
   },
   {
    "duration": 505,
    "start_time": "2023-08-28T14:42:46.416Z"
   },
   {
    "duration": 306,
    "start_time": "2023-08-28T14:42:46.923Z"
   },
   {
    "duration": 36,
    "start_time": "2023-08-28T14:42:57.335Z"
   },
   {
    "duration": 5,
    "start_time": "2023-08-28T14:43:44.572Z"
   },
   {
    "duration": 17,
    "start_time": "2023-08-28T14:43:48.215Z"
   },
   {
    "duration": 4,
    "start_time": "2023-08-28T14:44:06.327Z"
   },
   {
    "duration": 15,
    "start_time": "2023-08-28T14:44:10.077Z"
   },
   {
    "duration": 6,
    "start_time": "2023-08-28T14:44:21.116Z"
   },
   {
    "duration": 43,
    "start_time": "2023-08-28T14:44:24.301Z"
   },
   {
    "duration": 20,
    "start_time": "2023-08-28T14:44:49.898Z"
   },
   {
    "duration": 38,
    "start_time": "2023-08-28T14:47:45.721Z"
   },
   {
    "duration": 4,
    "start_time": "2023-08-28T14:48:57.154Z"
   },
   {
    "duration": 26,
    "start_time": "2023-08-28T14:49:00.797Z"
   },
   {
    "duration": 43,
    "start_time": "2023-08-28T14:49:14.900Z"
   },
   {
    "duration": 1113,
    "start_time": "2023-08-28T14:59:31.892Z"
   },
   {
    "duration": 1137,
    "start_time": "2023-08-28T15:00:21.678Z"
   },
   {
    "duration": 19,
    "start_time": "2023-08-28T15:00:30.828Z"
   },
   {
    "duration": 1648,
    "start_time": "2023-08-28T15:04:12.247Z"
   },
   {
    "duration": 1039,
    "start_time": "2023-08-28T15:04:13.897Z"
   },
   {
    "duration": 28,
    "start_time": "2023-08-28T15:04:14.938Z"
   },
   {
    "duration": 200,
    "start_time": "2023-08-28T15:04:14.968Z"
   },
   {
    "duration": 119,
    "start_time": "2023-08-28T15:04:15.170Z"
   },
   {
    "duration": 28,
    "start_time": "2023-08-28T15:04:15.291Z"
   },
   {
    "duration": 221,
    "start_time": "2023-08-28T15:04:15.321Z"
   },
   {
    "duration": 14,
    "start_time": "2023-08-28T15:04:15.544Z"
   },
   {
    "duration": 113,
    "start_time": "2023-08-28T15:04:15.560Z"
   },
   {
    "duration": 14,
    "start_time": "2023-08-28T15:04:15.676Z"
   },
   {
    "duration": 16,
    "start_time": "2023-08-28T15:04:15.702Z"
   },
   {
    "duration": 64,
    "start_time": "2023-08-28T15:04:15.720Z"
   },
   {
    "duration": 159,
    "start_time": "2023-08-28T15:04:15.786Z"
   },
   {
    "duration": 7,
    "start_time": "2023-08-28T15:04:15.947Z"
   },
   {
    "duration": 88,
    "start_time": "2023-08-28T15:04:15.955Z"
   },
   {
    "duration": 169,
    "start_time": "2023-08-28T15:04:16.046Z"
   },
   {
    "duration": 884,
    "start_time": "2023-08-28T15:04:16.218Z"
   },
   {
    "duration": 6,
    "start_time": "2023-08-28T15:04:17.107Z"
   },
   {
    "duration": 200,
    "start_time": "2023-08-28T15:04:17.118Z"
   },
   {
    "duration": 41,
    "start_time": "2023-08-28T15:04:17.319Z"
   },
   {
    "duration": 15,
    "start_time": "2023-08-28T15:04:17.362Z"
   },
   {
    "duration": 143,
    "start_time": "2023-08-28T15:04:17.379Z"
   },
   {
    "duration": 313,
    "start_time": "2023-08-28T15:04:17.524Z"
   },
   {
    "duration": 21,
    "start_time": "2023-08-28T15:04:17.839Z"
   },
   {
    "duration": 13,
    "start_time": "2023-08-28T15:04:17.862Z"
   },
   {
    "duration": 78,
    "start_time": "2023-08-28T15:04:17.876Z"
   },
   {
    "duration": 173,
    "start_time": "2023-08-28T15:04:17.956Z"
   },
   {
    "duration": 38,
    "start_time": "2023-08-28T15:04:18.133Z"
   },
   {
    "duration": 45,
    "start_time": "2023-08-28T15:04:18.173Z"
   },
   {
    "duration": 82,
    "start_time": "2023-08-28T15:04:18.220Z"
   },
   {
    "duration": 4,
    "start_time": "2023-08-28T15:04:18.308Z"
   },
   {
    "duration": 752,
    "start_time": "2023-08-28T15:04:18.314Z"
   },
   {
    "duration": 756,
    "start_time": "2023-08-28T15:04:19.069Z"
   },
   {
    "duration": 742,
    "start_time": "2023-08-28T15:04:19.828Z"
   },
   {
    "duration": 803,
    "start_time": "2023-08-28T15:04:20.573Z"
   },
   {
    "duration": 3,
    "start_time": "2023-08-28T15:04:21.377Z"
   },
   {
    "duration": 131,
    "start_time": "2023-08-28T15:04:21.381Z"
   },
   {
    "duration": 94,
    "start_time": "2023-08-28T15:04:21.514Z"
   },
   {
    "duration": 39,
    "start_time": "2023-08-28T15:04:21.614Z"
   },
   {
    "duration": 134,
    "start_time": "2023-08-28T15:04:21.655Z"
   },
   {
    "duration": 444,
    "start_time": "2023-08-28T15:04:21.791Z"
   },
   {
    "duration": 381,
    "start_time": "2023-08-28T15:04:22.236Z"
   },
   {
    "duration": 375,
    "start_time": "2023-08-28T15:04:22.619Z"
   },
   {
    "duration": 7,
    "start_time": "2023-08-28T15:04:23.001Z"
   },
   {
    "duration": 58,
    "start_time": "2023-08-28T15:04:27.065Z"
   },
   {
    "duration": 1084,
    "start_time": "2023-08-28T15:04:28.074Z"
   },
   {
    "duration": 81,
    "start_time": "2023-08-28T15:04:31.343Z"
   },
   {
    "duration": 1086,
    "start_time": "2023-08-28T15:04:58.316Z"
   },
   {
    "duration": 38,
    "start_time": "2023-08-28T15:05:00.123Z"
   },
   {
    "duration": 3,
    "start_time": "2023-08-28T15:05:29.192Z"
   },
   {
    "duration": 4,
    "start_time": "2023-08-28T15:05:32.468Z"
   },
   {
    "duration": 4,
    "start_time": "2023-08-28T15:06:13.098Z"
   },
   {
    "duration": 750,
    "start_time": "2023-08-28T15:06:15.155Z"
   },
   {
    "duration": 30351,
    "start_time": "2023-08-28T15:06:32.252Z"
   },
   {
    "duration": 71,
    "start_time": "2023-08-28T15:07:09.276Z"
   },
   {
    "duration": 10,
    "start_time": "2023-08-28T15:07:17.023Z"
   },
   {
    "duration": 10,
    "start_time": "2023-08-28T15:07:24.194Z"
   },
   {
    "duration": 37127,
    "start_time": "2023-08-28T15:08:11.041Z"
   },
   {
    "duration": 524,
    "start_time": "2023-08-28T15:09:02.656Z"
   },
   {
    "duration": 38,
    "start_time": "2023-08-28T15:09:23.344Z"
   },
   {
    "duration": 836426,
    "start_time": "2023-08-28T15:10:13.383Z"
   },
   {
    "duration": 21531,
    "start_time": "2023-08-28T15:26:52.339Z"
   },
   {
    "duration": 1413,
    "start_time": "2023-08-28T15:27:33.547Z"
   },
   {
    "duration": 1617,
    "start_time": "2023-08-28T15:44:51.601Z"
   },
   {
    "duration": 972,
    "start_time": "2023-08-28T15:44:53.221Z"
   },
   {
    "duration": 38,
    "start_time": "2023-08-28T15:44:54.195Z"
   },
   {
    "duration": 196,
    "start_time": "2023-08-28T15:44:54.236Z"
   },
   {
    "duration": 129,
    "start_time": "2023-08-28T15:44:54.434Z"
   },
   {
    "duration": 19,
    "start_time": "2023-08-28T15:44:54.565Z"
   },
   {
    "duration": 277,
    "start_time": "2023-08-28T15:44:54.586Z"
   },
   {
    "duration": 20,
    "start_time": "2023-08-28T15:44:54.865Z"
   },
   {
    "duration": 105,
    "start_time": "2023-08-28T15:44:54.887Z"
   },
   {
    "duration": 16,
    "start_time": "2023-08-28T15:44:55.005Z"
   },
   {
    "duration": 50,
    "start_time": "2023-08-28T15:44:55.023Z"
   },
   {
    "duration": 91,
    "start_time": "2023-08-28T15:44:55.075Z"
   },
   {
    "duration": 156,
    "start_time": "2023-08-28T15:44:55.168Z"
   },
   {
    "duration": 7,
    "start_time": "2023-08-28T15:44:55.326Z"
   },
   {
    "duration": 115,
    "start_time": "2023-08-28T15:44:55.334Z"
   },
   {
    "duration": 167,
    "start_time": "2023-08-28T15:44:55.451Z"
   },
   {
    "duration": 785,
    "start_time": "2023-08-28T15:44:55.619Z"
   },
   {
    "duration": 9,
    "start_time": "2023-08-28T15:44:56.406Z"
   },
   {
    "duration": 213,
    "start_time": "2023-08-28T15:44:56.416Z"
   },
   {
    "duration": 44,
    "start_time": "2023-08-28T15:44:56.631Z"
   },
   {
    "duration": 41,
    "start_time": "2023-08-28T15:44:56.677Z"
   },
   {
    "duration": 115,
    "start_time": "2023-08-28T15:44:56.720Z"
   },
   {
    "duration": 341,
    "start_time": "2023-08-28T15:44:56.837Z"
   },
   {
    "duration": 31,
    "start_time": "2023-08-28T15:44:57.180Z"
   },
   {
    "duration": 9,
    "start_time": "2023-08-28T15:44:57.213Z"
   },
   {
    "duration": 86,
    "start_time": "2023-08-28T15:44:57.224Z"
   },
   {
    "duration": 150,
    "start_time": "2023-08-28T15:44:57.311Z"
   },
   {
    "duration": 51,
    "start_time": "2023-08-28T15:44:57.465Z"
   },
   {
    "duration": 23,
    "start_time": "2023-08-28T15:44:57.518Z"
   },
   {
    "duration": 103,
    "start_time": "2023-08-28T15:44:57.543Z"
   },
   {
    "duration": 3,
    "start_time": "2023-08-28T15:44:57.648Z"
   },
   {
    "duration": 791,
    "start_time": "2023-08-28T15:44:57.653Z"
   },
   {
    "duration": 768,
    "start_time": "2023-08-28T15:44:58.446Z"
   },
   {
    "duration": 742,
    "start_time": "2023-08-28T15:44:59.216Z"
   },
   {
    "duration": 729,
    "start_time": "2023-08-28T15:44:59.960Z"
   },
   {
    "duration": 3,
    "start_time": "2023-08-28T15:45:00.691Z"
   },
   {
    "duration": 175,
    "start_time": "2023-08-28T15:45:00.695Z"
   },
   {
    "duration": 96,
    "start_time": "2023-08-28T15:45:00.873Z"
   },
   {
    "duration": 43,
    "start_time": "2023-08-28T15:45:00.971Z"
   },
   {
    "duration": 18,
    "start_time": "2023-08-28T15:45:01.018Z"
   },
   {
    "duration": 429,
    "start_time": "2023-08-28T15:45:01.037Z"
   },
   {
    "duration": 354,
    "start_time": "2023-08-28T15:45:01.468Z"
   },
   {
    "duration": 383,
    "start_time": "2023-08-28T15:45:01.824Z"
   },
   {
    "duration": 3,
    "start_time": "2023-08-28T15:45:02.210Z"
   },
   {
    "duration": 110,
    "start_time": "2023-08-28T15:45:02.215Z"
   },
   {
    "duration": 1082,
    "start_time": "2023-08-28T15:45:02.328Z"
   },
   {
    "duration": 34,
    "start_time": "2023-08-28T15:45:03.413Z"
   },
   {
    "duration": 8,
    "start_time": "2023-08-28T15:45:03.448Z"
   },
   {
    "duration": 10,
    "start_time": "2023-08-28T15:45:03.458Z"
   },
   {
    "duration": 29,
    "start_time": "2023-08-28T15:45:03.469Z"
   },
   {
    "duration": 643,
    "start_time": "2023-08-28T15:45:03.500Z"
   },
   {
    "duration": 165,
    "start_time": "2023-08-28T15:45:04.145Z"
   },
   {
    "duration": 18,
    "start_time": "2023-08-28T15:45:04.312Z"
   },
   {
    "duration": 35688,
    "start_time": "2023-08-28T15:45:04.403Z"
   },
   {
    "duration": 506,
    "start_time": "2023-08-28T15:45:40.093Z"
   },
   {
    "duration": 36,
    "start_time": "2023-08-28T15:45:40.600Z"
   },
   {
    "duration": 3,
    "start_time": "2023-08-28T15:45:40.638Z"
   },
   {
    "duration": 24,
    "start_time": "2023-08-28T15:45:40.642Z"
   },
   {
    "duration": 21140,
    "start_time": "2023-08-28T15:45:40.668Z"
   },
   {
    "duration": 1370,
    "start_time": "2023-08-28T15:46:01.810Z"
   },
   {
    "duration": 70397,
    "start_time": "2023-08-28T15:47:23.223Z"
   },
   {
    "duration": 386,
    "start_time": "2023-08-28T15:55:02.500Z"
   },
   {
    "duration": 553745,
    "start_time": "2023-08-28T15:55:25.957Z"
   },
   {
    "duration": 41243,
    "start_time": "2023-08-28T16:05:41.659Z"
   },
   {
    "duration": 1641,
    "start_time": "2023-08-28T16:06:38.081Z"
   },
   {
    "duration": 50505,
    "start_time": "2023-08-28T16:13:09.712Z"
   },
   {
    "duration": 47591,
    "start_time": "2023-08-28T16:14:47.032Z"
   },
   {
    "duration": 13,
    "start_time": "2023-08-28T16:18:07.109Z"
   },
   {
    "duration": 5,
    "start_time": "2023-08-28T16:18:25.485Z"
   },
   {
    "duration": 9,
    "start_time": "2023-08-28T16:18:29.311Z"
   },
   {
    "duration": 5906,
    "start_time": "2023-08-28T16:19:34.711Z"
   },
   {
    "duration": 5496,
    "start_time": "2023-08-28T16:19:54.617Z"
   },
   {
    "duration": 463,
    "start_time": "2023-08-28T16:20:29.268Z"
   },
   {
    "duration": 8,
    "start_time": "2023-08-28T16:22:35.131Z"
   },
   {
    "duration": 68234,
    "start_time": "2023-08-28T16:25:03.078Z"
   },
   {
    "duration": 69365,
    "start_time": "2023-08-28T16:26:59.843Z"
   },
   {
    "duration": 7,
    "start_time": "2023-08-28T16:28:23.805Z"
   },
   {
    "duration": 1528,
    "start_time": "2023-08-28T16:36:06.902Z"
   },
   {
    "duration": 974,
    "start_time": "2023-08-28T16:36:08.432Z"
   },
   {
    "duration": 26,
    "start_time": "2023-08-28T16:36:09.407Z"
   },
   {
    "duration": 312,
    "start_time": "2023-08-28T16:36:09.435Z"
   },
   {
    "duration": 273,
    "start_time": "2023-08-28T16:36:09.749Z"
   },
   {
    "duration": 18,
    "start_time": "2023-08-28T16:36:10.025Z"
   },
   {
    "duration": 393,
    "start_time": "2023-08-28T16:36:10.045Z"
   },
   {
    "duration": 67,
    "start_time": "2023-08-28T16:36:10.440Z"
   },
   {
    "duration": 206,
    "start_time": "2023-08-28T16:36:10.508Z"
   },
   {
    "duration": 14,
    "start_time": "2023-08-28T16:36:10.717Z"
   },
   {
    "duration": 9,
    "start_time": "2023-08-28T16:36:10.733Z"
   },
   {
    "duration": 105,
    "start_time": "2023-08-28T16:36:10.743Z"
   },
   {
    "duration": 303,
    "start_time": "2023-08-28T16:36:10.902Z"
   },
   {
    "duration": 7,
    "start_time": "2023-08-28T16:36:11.207Z"
   },
   {
    "duration": 106,
    "start_time": "2023-08-28T16:36:11.215Z"
   },
   {
    "duration": 146,
    "start_time": "2023-08-28T16:36:11.322Z"
   },
   {
    "duration": 856,
    "start_time": "2023-08-28T16:36:11.469Z"
   },
   {
    "duration": 3,
    "start_time": "2023-08-28T16:36:12.327Z"
   },
   {
    "duration": 183,
    "start_time": "2023-08-28T16:36:12.332Z"
   },
   {
    "duration": 43,
    "start_time": "2023-08-28T16:36:12.517Z"
   },
   {
    "duration": 16,
    "start_time": "2023-08-28T16:36:12.562Z"
   },
   {
    "duration": 136,
    "start_time": "2023-08-28T16:36:12.580Z"
   },
   {
    "duration": 301,
    "start_time": "2023-08-28T16:36:12.718Z"
   },
   {
    "duration": 23,
    "start_time": "2023-08-28T16:36:13.021Z"
   },
   {
    "duration": 17,
    "start_time": "2023-08-28T16:36:13.046Z"
   },
   {
    "duration": 100,
    "start_time": "2023-08-28T16:36:13.065Z"
   },
   {
    "duration": 144,
    "start_time": "2023-08-28T16:36:13.167Z"
   },
   {
    "duration": 37,
    "start_time": "2023-08-28T16:36:13.315Z"
   },
   {
    "duration": 23,
    "start_time": "2023-08-28T16:36:13.353Z"
   },
   {
    "duration": 98,
    "start_time": "2023-08-28T16:36:13.378Z"
   },
   {
    "duration": 4,
    "start_time": "2023-08-28T16:36:13.477Z"
   },
   {
    "duration": 768,
    "start_time": "2023-08-28T16:36:13.482Z"
   },
   {
    "duration": 756,
    "start_time": "2023-08-28T16:36:14.253Z"
   },
   {
    "duration": 685,
    "start_time": "2023-08-28T16:36:15.011Z"
   },
   {
    "duration": 689,
    "start_time": "2023-08-28T16:36:15.701Z"
   },
   {
    "duration": 9,
    "start_time": "2023-08-28T16:36:16.392Z"
   },
   {
    "duration": 130,
    "start_time": "2023-08-28T16:36:16.403Z"
   },
   {
    "duration": 88,
    "start_time": "2023-08-28T16:36:16.535Z"
   },
   {
    "duration": 23,
    "start_time": "2023-08-28T16:36:16.624Z"
   },
   {
    "duration": 23,
    "start_time": "2023-08-28T16:36:16.648Z"
   },
   {
    "duration": 424,
    "start_time": "2023-08-28T16:36:16.673Z"
   },
   {
    "duration": 326,
    "start_time": "2023-08-28T16:36:17.101Z"
   },
   {
    "duration": 367,
    "start_time": "2023-08-28T16:36:17.429Z"
   },
   {
    "duration": 3,
    "start_time": "2023-08-28T16:36:17.801Z"
   },
   {
    "duration": 98,
    "start_time": "2023-08-28T16:36:17.805Z"
   },
   {
    "duration": 1011,
    "start_time": "2023-08-28T16:36:17.905Z"
   },
   {
    "duration": 36,
    "start_time": "2023-08-28T16:36:18.918Z"
   },
   {
    "duration": 4,
    "start_time": "2023-08-28T16:36:18.956Z"
   },
   {
    "duration": 6,
    "start_time": "2023-08-28T16:36:18.963Z"
   },
   {
    "duration": 32,
    "start_time": "2023-08-28T16:36:18.971Z"
   },
   {
    "duration": 736,
    "start_time": "2023-08-28T16:36:19.005Z"
   },
   {
    "duration": 160,
    "start_time": "2023-08-28T16:36:19.743Z"
   },
   {
    "duration": 98,
    "start_time": "2023-08-28T16:36:19.905Z"
   },
   {
    "duration": 34472,
    "start_time": "2023-08-28T16:36:20.005Z"
   },
   {
    "duration": 575,
    "start_time": "2023-08-28T16:36:54.479Z"
   },
   {
    "duration": 47,
    "start_time": "2023-08-28T16:36:55.056Z"
   },
   {
    "duration": 3,
    "start_time": "2023-08-28T16:36:55.104Z"
   },
   {
    "duration": 1671,
    "start_time": "2023-08-28T16:39:26.374Z"
   },
   {
    "duration": 945,
    "start_time": "2023-08-28T16:39:28.047Z"
   },
   {
    "duration": 34,
    "start_time": "2023-08-28T16:39:28.994Z"
   },
   {
    "duration": 158,
    "start_time": "2023-08-28T16:39:29.030Z"
   },
   {
    "duration": 163,
    "start_time": "2023-08-28T16:39:29.190Z"
   },
   {
    "duration": 22,
    "start_time": "2023-08-28T16:39:29.361Z"
   },
   {
    "duration": 211,
    "start_time": "2023-08-28T16:39:29.386Z"
   },
   {
    "duration": 16,
    "start_time": "2023-08-28T16:39:29.599Z"
   },
   {
    "duration": 111,
    "start_time": "2023-08-28T16:39:29.617Z"
   },
   {
    "duration": 14,
    "start_time": "2023-08-28T16:39:29.730Z"
   },
   {
    "duration": 10,
    "start_time": "2023-08-28T16:39:29.746Z"
   },
   {
    "duration": 79,
    "start_time": "2023-08-28T16:39:29.758Z"
   },
   {
    "duration": 145,
    "start_time": "2023-08-28T16:39:29.839Z"
   },
   {
    "duration": 7,
    "start_time": "2023-08-28T16:39:29.986Z"
   },
   {
    "duration": 69,
    "start_time": "2023-08-28T16:39:30.002Z"
   },
   {
    "duration": 158,
    "start_time": "2023-08-28T16:39:30.072Z"
   },
   {
    "duration": 5,
    "start_time": "2023-08-28T16:39:34.279Z"
   },
   {
    "duration": 731,
    "start_time": "2023-08-28T16:39:35.778Z"
   },
   {
    "duration": 819,
    "start_time": "2023-08-28T16:39:45.626Z"
   },
   {
    "duration": 777,
    "start_time": "2023-08-28T16:40:02.417Z"
   },
   {
    "duration": 132,
    "start_time": "2023-08-28T16:40:52.982Z"
   },
   {
    "duration": 1032,
    "start_time": "2023-08-28T16:41:09.531Z"
   },
   {
    "duration": 1047,
    "start_time": "2023-08-28T16:41:32.547Z"
   },
   {
    "duration": 175,
    "start_time": "2023-08-28T16:42:08.643Z"
   },
   {
    "duration": 166,
    "start_time": "2023-08-28T16:42:41.166Z"
   },
   {
    "duration": 1657,
    "start_time": "2023-08-28T16:44:01.330Z"
   },
   {
    "duration": 1552,
    "start_time": "2023-08-28T16:44:02.990Z"
   },
   {
    "duration": 88,
    "start_time": "2023-08-28T16:44:04.545Z"
   },
   {
    "duration": 468,
    "start_time": "2023-08-28T16:44:04.637Z"
   },
   {
    "duration": 217,
    "start_time": "2023-08-28T16:44:05.107Z"
   },
   {
    "duration": 75,
    "start_time": "2023-08-28T16:44:05.326Z"
   },
   {
    "duration": 224,
    "start_time": "2023-08-28T16:44:05.404Z"
   },
   {
    "duration": 16,
    "start_time": "2023-08-28T16:44:05.630Z"
   },
   {
    "duration": 123,
    "start_time": "2023-08-28T16:44:05.647Z"
   },
   {
    "duration": 15,
    "start_time": "2023-08-28T16:44:05.773Z"
   },
   {
    "duration": 24,
    "start_time": "2023-08-28T16:44:05.790Z"
   },
   {
    "duration": 80,
    "start_time": "2023-08-28T16:44:05.816Z"
   },
   {
    "duration": 156,
    "start_time": "2023-08-28T16:44:05.899Z"
   },
   {
    "duration": 7,
    "start_time": "2023-08-28T16:44:06.057Z"
   },
   {
    "duration": 96,
    "start_time": "2023-08-28T16:44:06.066Z"
   },
   {
    "duration": 158,
    "start_time": "2023-08-28T16:44:06.164Z"
   },
   {
    "duration": 176,
    "start_time": "2023-08-28T16:44:06.324Z"
   },
   {
    "duration": 4,
    "start_time": "2023-08-28T16:44:06.503Z"
   },
   {
    "duration": 924,
    "start_time": "2023-08-28T16:44:06.510Z"
   },
   {
    "duration": 798,
    "start_time": "2023-08-28T16:44:07.436Z"
   },
   {
    "duration": 771,
    "start_time": "2023-08-28T16:44:08.236Z"
   },
   {
    "duration": 1064,
    "start_time": "2023-08-28T16:44:09.009Z"
   },
   {
    "duration": 1048,
    "start_time": "2023-08-28T16:44:10.075Z"
   },
   {
    "duration": 49,
    "start_time": "2023-08-28T16:44:11.125Z"
   },
   {
    "duration": 50,
    "start_time": "2023-08-28T16:44:11.176Z"
   },
   {
    "duration": 139,
    "start_time": "2023-08-28T16:44:11.228Z"
   },
   {
    "duration": 2180,
    "start_time": "2023-08-28T16:44:11.370Z"
   },
   {
    "duration": 0,
    "start_time": "2023-08-28T16:44:13.553Z"
   },
   {
    "duration": 0,
    "start_time": "2023-08-28T16:44:13.555Z"
   },
   {
    "duration": 0,
    "start_time": "2023-08-28T16:44:13.556Z"
   },
   {
    "duration": 0,
    "start_time": "2023-08-28T16:44:13.558Z"
   },
   {
    "duration": 0,
    "start_time": "2023-08-28T16:44:13.559Z"
   },
   {
    "duration": 0,
    "start_time": "2023-08-28T16:44:13.560Z"
   },
   {
    "duration": 0,
    "start_time": "2023-08-28T16:44:13.562Z"
   },
   {
    "duration": 0,
    "start_time": "2023-08-28T16:44:13.563Z"
   },
   {
    "duration": 0,
    "start_time": "2023-08-28T16:44:13.564Z"
   },
   {
    "duration": 0,
    "start_time": "2023-08-28T16:44:13.566Z"
   },
   {
    "duration": 0,
    "start_time": "2023-08-28T16:44:13.567Z"
   },
   {
    "duration": 0,
    "start_time": "2023-08-28T16:44:13.568Z"
   },
   {
    "duration": 0,
    "start_time": "2023-08-28T16:44:13.569Z"
   },
   {
    "duration": 0,
    "start_time": "2023-08-28T16:44:13.571Z"
   },
   {
    "duration": 0,
    "start_time": "2023-08-28T16:44:13.572Z"
   },
   {
    "duration": 0,
    "start_time": "2023-08-28T16:44:13.574Z"
   },
   {
    "duration": 0,
    "start_time": "2023-08-28T16:44:13.576Z"
   },
   {
    "duration": 0,
    "start_time": "2023-08-28T16:44:13.577Z"
   },
   {
    "duration": 0,
    "start_time": "2023-08-28T16:44:13.579Z"
   },
   {
    "duration": 0,
    "start_time": "2023-08-28T16:44:13.581Z"
   },
   {
    "duration": 0,
    "start_time": "2023-08-28T16:44:13.583Z"
   },
   {
    "duration": 0,
    "start_time": "2023-08-28T16:44:13.584Z"
   },
   {
    "duration": 0,
    "start_time": "2023-08-28T16:44:13.586Z"
   },
   {
    "duration": 0,
    "start_time": "2023-08-28T16:44:13.588Z"
   },
   {
    "duration": 0,
    "start_time": "2023-08-28T16:44:13.589Z"
   },
   {
    "duration": 0,
    "start_time": "2023-08-28T16:44:13.602Z"
   },
   {
    "duration": 0,
    "start_time": "2023-08-28T16:44:13.604Z"
   },
   {
    "duration": 0,
    "start_time": "2023-08-28T16:44:13.605Z"
   },
   {
    "duration": 0,
    "start_time": "2023-08-28T16:44:13.606Z"
   },
   {
    "duration": 0,
    "start_time": "2023-08-28T16:44:13.607Z"
   },
   {
    "duration": 0,
    "start_time": "2023-08-28T16:44:13.608Z"
   },
   {
    "duration": 0,
    "start_time": "2023-08-28T16:44:13.609Z"
   },
   {
    "duration": 0,
    "start_time": "2023-08-28T16:44:13.611Z"
   },
   {
    "duration": 0,
    "start_time": "2023-08-28T16:44:13.612Z"
   },
   {
    "duration": 1574,
    "start_time": "2023-08-28T16:44:55.975Z"
   },
   {
    "duration": 942,
    "start_time": "2023-08-28T16:44:57.551Z"
   },
   {
    "duration": 32,
    "start_time": "2023-08-28T16:44:58.496Z"
   },
   {
    "duration": 215,
    "start_time": "2023-08-28T16:44:58.531Z"
   },
   {
    "duration": 155,
    "start_time": "2023-08-28T16:44:58.747Z"
   },
   {
    "duration": 18,
    "start_time": "2023-08-28T16:44:58.904Z"
   },
   {
    "duration": 482,
    "start_time": "2023-08-28T16:44:58.924Z"
   },
   {
    "duration": 14,
    "start_time": "2023-08-28T16:44:59.408Z"
   },
   {
    "duration": 216,
    "start_time": "2023-08-28T16:44:59.424Z"
   },
   {
    "duration": 69,
    "start_time": "2023-08-28T16:44:59.643Z"
   },
   {
    "duration": 5,
    "start_time": "2023-08-28T16:44:59.714Z"
   },
   {
    "duration": 183,
    "start_time": "2023-08-28T16:44:59.720Z"
   },
   {
    "duration": 310,
    "start_time": "2023-08-28T16:44:59.905Z"
   },
   {
    "duration": 7,
    "start_time": "2023-08-28T16:45:00.217Z"
   },
   {
    "duration": 211,
    "start_time": "2023-08-28T16:45:00.227Z"
   },
   {
    "duration": 316,
    "start_time": "2023-08-28T16:45:00.440Z"
   },
   {
    "duration": 213,
    "start_time": "2023-08-28T16:45:00.758Z"
   },
   {
    "duration": 4,
    "start_time": "2023-08-28T16:45:00.974Z"
   },
   {
    "duration": 911,
    "start_time": "2023-08-28T16:45:00.979Z"
   },
   {
    "duration": 804,
    "start_time": "2023-08-28T16:45:01.900Z"
   },
   {
    "duration": 769,
    "start_time": "2023-08-28T16:45:02.706Z"
   },
   {
    "duration": 1065,
    "start_time": "2023-08-28T16:45:03.477Z"
   },
   {
    "duration": 1145,
    "start_time": "2023-08-28T16:45:04.546Z"
   },
   {
    "duration": 54,
    "start_time": "2023-08-28T16:45:05.693Z"
   },
   {
    "duration": 35,
    "start_time": "2023-08-28T16:45:05.749Z"
   },
   {
    "duration": 94,
    "start_time": "2023-08-28T16:45:05.802Z"
   },
   {
    "duration": 4,
    "start_time": "2023-08-28T16:45:05.898Z"
   },
   {
    "duration": 795,
    "start_time": "2023-08-28T16:45:05.906Z"
   },
   {
    "duration": 772,
    "start_time": "2023-08-28T16:45:06.703Z"
   },
   {
    "duration": 743,
    "start_time": "2023-08-28T16:45:07.477Z"
   },
   {
    "duration": 774,
    "start_time": "2023-08-28T16:45:08.222Z"
   },
   {
    "duration": 2,
    "start_time": "2023-08-28T16:45:09.001Z"
   },
   {
    "duration": 122,
    "start_time": "2023-08-28T16:45:09.005Z"
   },
   {
    "duration": 86,
    "start_time": "2023-08-28T16:45:09.129Z"
   },
   {
    "duration": 20,
    "start_time": "2023-08-28T16:45:09.217Z"
   },
   {
    "duration": 4,
    "start_time": "2023-08-28T16:45:09.239Z"
   },
   {
    "duration": 418,
    "start_time": "2023-08-28T16:45:09.245Z"
   },
   {
    "duration": 446,
    "start_time": "2023-08-28T16:45:09.665Z"
   },
   {
    "duration": 336,
    "start_time": "2023-08-28T16:45:10.113Z"
   },
   {
    "duration": 3,
    "start_time": "2023-08-28T16:45:10.450Z"
   },
   {
    "duration": 49,
    "start_time": "2023-08-28T16:45:10.455Z"
   },
   {
    "duration": 980,
    "start_time": "2023-08-28T16:45:10.506Z"
   },
   {
    "duration": 44,
    "start_time": "2023-08-28T16:45:11.488Z"
   },
   {
    "duration": 3,
    "start_time": "2023-08-28T16:45:11.534Z"
   },
   {
    "duration": 17,
    "start_time": "2023-08-28T16:45:11.539Z"
   },
   {
    "duration": 53,
    "start_time": "2023-08-28T16:45:11.558Z"
   },
   {
    "duration": 635,
    "start_time": "2023-08-28T16:45:11.613Z"
   },
   {
    "duration": 155,
    "start_time": "2023-08-28T16:45:12.250Z"
   },
   {
    "duration": 212,
    "start_time": "2023-08-28T16:45:12.408Z"
   },
   {
    "duration": 36210,
    "start_time": "2023-08-28T16:45:12.622Z"
   },
   {
    "duration": 539,
    "start_time": "2023-08-28T16:45:48.835Z"
   },
   {
    "duration": 53,
    "start_time": "2023-08-28T16:45:49.376Z"
   },
   {
    "duration": 4,
    "start_time": "2023-08-28T16:45:49.431Z"
   },
   {
    "duration": 841818,
    "start_time": "2023-08-28T16:45:49.437Z"
   },
   {
    "duration": 22278,
    "start_time": "2023-08-28T16:59:51.257Z"
   },
   {
    "duration": 1405,
    "start_time": "2023-08-28T17:00:13.536Z"
   },
   {
    "duration": 735670,
    "start_time": "2023-08-28T17:00:14.943Z"
   },
   {
    "duration": 49993,
    "start_time": "2023-08-28T17:12:30.615Z"
   },
   {
    "duration": 1818,
    "start_time": "2023-08-28T17:13:20.610Z"
   },
   {
    "duration": 61290,
    "start_time": "2023-08-28T17:13:22.430Z"
   },
   {
    "duration": 560,
    "start_time": "2023-08-28T17:14:23.722Z"
   },
   {
    "duration": 31,
    "start_time": "2023-08-28T17:14:24.284Z"
   },
   {
    "duration": 1928,
    "start_time": "2023-08-29T15:05:31.270Z"
   },
   {
    "duration": 1402,
    "start_time": "2023-08-29T15:05:33.207Z"
   },
   {
    "duration": 29,
    "start_time": "2023-08-29T15:05:34.611Z"
   },
   {
    "duration": 158,
    "start_time": "2023-08-29T15:05:34.643Z"
   },
   {
    "duration": 150,
    "start_time": "2023-08-29T15:05:34.803Z"
   },
   {
    "duration": 29,
    "start_time": "2023-08-29T15:05:34.955Z"
   },
   {
    "duration": 214,
    "start_time": "2023-08-29T15:05:34.997Z"
   },
   {
    "duration": 27,
    "start_time": "2023-08-29T15:05:35.212Z"
   },
   {
    "duration": 117,
    "start_time": "2023-08-29T15:05:35.241Z"
   },
   {
    "duration": 26,
    "start_time": "2023-08-29T15:05:35.361Z"
   },
   {
    "duration": 11,
    "start_time": "2023-08-29T15:05:35.388Z"
   },
   {
    "duration": 57,
    "start_time": "2023-08-29T15:05:35.401Z"
   },
   {
    "duration": 169,
    "start_time": "2023-08-29T15:05:35.460Z"
   },
   {
    "duration": 8,
    "start_time": "2023-08-29T15:05:35.631Z"
   },
   {
    "duration": 83,
    "start_time": "2023-08-29T15:05:35.641Z"
   },
   {
    "duration": 148,
    "start_time": "2023-08-29T15:05:35.726Z"
   },
   {
    "duration": 177,
    "start_time": "2023-08-29T15:05:35.881Z"
   },
   {
    "duration": 3,
    "start_time": "2023-08-29T15:05:36.061Z"
   },
   {
    "duration": 1247,
    "start_time": "2023-08-29T15:05:36.067Z"
   },
   {
    "duration": 919,
    "start_time": "2023-08-29T15:05:37.317Z"
   },
   {
    "duration": 837,
    "start_time": "2023-08-29T15:05:38.240Z"
   },
   {
    "duration": 1159,
    "start_time": "2023-08-29T15:05:39.080Z"
   },
   {
    "duration": 1093,
    "start_time": "2023-08-29T15:07:45.266Z"
   },
   {
    "duration": 32,
    "start_time": "2023-08-29T15:09:54.331Z"
   },
   {
    "duration": 41,
    "start_time": "2023-08-29T15:10:13.981Z"
   },
   {
    "duration": 37,
    "start_time": "2023-08-29T15:10:34.234Z"
   },
   {
    "duration": 60,
    "start_time": "2023-08-29T15:11:03.373Z"
   },
   {
    "duration": 157,
    "start_time": "2023-08-29T15:14:44.366Z"
   },
   {
    "duration": 1803,
    "start_time": "2023-08-29T15:14:54.526Z"
   },
   {
    "duration": 1858,
    "start_time": "2023-08-29T15:15:01.143Z"
   },
   {
    "duration": 38,
    "start_time": "2023-08-29T15:15:23.259Z"
   },
   {
    "duration": 33,
    "start_time": "2023-08-29T15:15:39.000Z"
   },
   {
    "duration": 1765,
    "start_time": "2023-08-29T15:15:54.768Z"
   },
   {
    "duration": 32,
    "start_time": "2023-08-29T15:15:58.218Z"
   },
   {
    "duration": 1778,
    "start_time": "2023-08-29T15:16:32.094Z"
   },
   {
    "duration": 32,
    "start_time": "2023-08-29T15:16:34.634Z"
   },
   {
    "duration": 11,
    "start_time": "2023-08-29T15:16:49.195Z"
   },
   {
    "duration": 4,
    "start_time": "2023-08-29T15:16:58.838Z"
   },
   {
    "duration": 1601,
    "start_time": "2023-08-29T15:17:04.210Z"
   },
   {
    "duration": 1000,
    "start_time": "2023-08-29T15:17:05.814Z"
   },
   {
    "duration": 42,
    "start_time": "2023-08-29T15:17:06.817Z"
   },
   {
    "duration": 235,
    "start_time": "2023-08-29T15:17:06.863Z"
   },
   {
    "duration": 136,
    "start_time": "2023-08-29T15:17:07.103Z"
   },
   {
    "duration": 23,
    "start_time": "2023-08-29T15:17:07.241Z"
   },
   {
    "duration": 231,
    "start_time": "2023-08-29T15:17:07.267Z"
   },
   {
    "duration": 17,
    "start_time": "2023-08-29T15:17:07.500Z"
   },
   {
    "duration": 137,
    "start_time": "2023-08-29T15:17:07.520Z"
   },
   {
    "duration": 37,
    "start_time": "2023-08-29T15:17:07.661Z"
   },
   {
    "duration": 8,
    "start_time": "2023-08-29T15:17:07.700Z"
   },
   {
    "duration": 77,
    "start_time": "2023-08-29T15:17:07.713Z"
   },
   {
    "duration": 172,
    "start_time": "2023-08-29T15:17:07.791Z"
   },
   {
    "duration": 30,
    "start_time": "2023-08-29T15:17:07.965Z"
   },
   {
    "duration": 143,
    "start_time": "2023-08-29T15:17:08.004Z"
   },
   {
    "duration": 167,
    "start_time": "2023-08-29T15:17:08.149Z"
   },
   {
    "duration": 235,
    "start_time": "2023-08-29T15:17:08.319Z"
   },
   {
    "duration": 4,
    "start_time": "2023-08-29T15:17:08.556Z"
   },
   {
    "duration": 915,
    "start_time": "2023-08-29T15:17:08.561Z"
   },
   {
    "duration": 811,
    "start_time": "2023-08-29T15:17:09.482Z"
   },
   {
    "duration": 811,
    "start_time": "2023-08-29T15:17:10.300Z"
   },
   {
    "duration": 1110,
    "start_time": "2023-08-29T15:17:11.113Z"
   },
   {
    "duration": 1090,
    "start_time": "2023-08-29T15:17:12.225Z"
   },
   {
    "duration": 32,
    "start_time": "2023-08-29T15:17:13.317Z"
   },
   {
    "duration": 4,
    "start_time": "2023-08-29T15:17:13.351Z"
   },
   {
    "duration": 1834,
    "start_time": "2023-08-29T15:17:13.385Z"
   },
   {
    "duration": 6,
    "start_time": "2023-08-29T15:17:15.220Z"
   },
   {
    "duration": 1823,
    "start_time": "2023-08-29T15:17:50.209Z"
   },
   {
    "duration": 5,
    "start_time": "2023-08-29T15:17:54.017Z"
   },
   {
    "duration": 161,
    "start_time": "2023-08-29T15:18:18.840Z"
   },
   {
    "duration": 6,
    "start_time": "2023-08-29T15:18:19.884Z"
   },
   {
    "duration": 159,
    "start_time": "2023-08-29T15:19:34.576Z"
   },
   {
    "duration": 24,
    "start_time": "2023-08-29T15:20:03.652Z"
   },
   {
    "duration": 150,
    "start_time": "2023-08-29T15:20:11.970Z"
   },
   {
    "duration": 121,
    "start_time": "2023-08-29T15:22:18.737Z"
   },
   {
    "duration": 4,
    "start_time": "2023-08-29T15:22:20.041Z"
   },
   {
    "duration": 185,
    "start_time": "2023-08-29T15:22:31.615Z"
   },
   {
    "duration": 27,
    "start_time": "2023-08-29T15:23:01.495Z"
   },
   {
    "duration": 21,
    "start_time": "2023-08-29T15:23:05.251Z"
   },
   {
    "duration": 33,
    "start_time": "2023-08-29T15:23:46.705Z"
   },
   {
    "duration": 21,
    "start_time": "2023-08-29T15:23:59.132Z"
   },
   {
    "duration": 2077,
    "start_time": "2023-08-29T15:25:24.734Z"
   },
   {
    "duration": 29,
    "start_time": "2023-08-29T15:27:15.202Z"
   },
   {
    "duration": 30,
    "start_time": "2023-08-29T15:27:27.697Z"
   },
   {
    "duration": 35,
    "start_time": "2023-08-29T15:27:51.874Z"
   },
   {
    "duration": 13341,
    "start_time": "2023-08-29T15:28:19.364Z"
   },
   {
    "duration": 27,
    "start_time": "2023-08-29T15:29:44.917Z"
   },
   {
    "duration": 25,
    "start_time": "2023-08-29T15:29:54.489Z"
   },
   {
    "duration": 99,
    "start_time": "2023-08-29T15:30:38.513Z"
   },
   {
    "duration": 1650,
    "start_time": "2023-08-29T15:32:12.137Z"
   },
   {
    "duration": 930,
    "start_time": "2023-08-29T15:32:13.789Z"
   },
   {
    "duration": 29,
    "start_time": "2023-08-29T15:32:14.721Z"
   },
   {
    "duration": 185,
    "start_time": "2023-08-29T15:32:14.753Z"
   },
   {
    "duration": 122,
    "start_time": "2023-08-29T15:32:14.939Z"
   },
   {
    "duration": 36,
    "start_time": "2023-08-29T15:32:15.065Z"
   },
   {
    "duration": 234,
    "start_time": "2023-08-29T15:32:15.103Z"
   },
   {
    "duration": 16,
    "start_time": "2023-08-29T15:32:15.339Z"
   },
   {
    "duration": 120,
    "start_time": "2023-08-29T15:32:15.357Z"
   },
   {
    "duration": 20,
    "start_time": "2023-08-29T15:32:15.481Z"
   },
   {
    "duration": 11,
    "start_time": "2023-08-29T15:32:15.503Z"
   },
   {
    "duration": 74,
    "start_time": "2023-08-29T15:32:15.516Z"
   },
   {
    "duration": 156,
    "start_time": "2023-08-29T15:32:15.591Z"
   },
   {
    "duration": 6,
    "start_time": "2023-08-29T15:32:15.749Z"
   },
   {
    "duration": 102,
    "start_time": "2023-08-29T15:32:15.757Z"
   },
   {
    "duration": 157,
    "start_time": "2023-08-29T15:32:15.861Z"
   },
   {
    "duration": 181,
    "start_time": "2023-08-29T15:32:16.020Z"
   },
   {
    "duration": 4,
    "start_time": "2023-08-29T15:32:16.203Z"
   },
   {
    "duration": 895,
    "start_time": "2023-08-29T15:32:16.209Z"
   },
   {
    "duration": 877,
    "start_time": "2023-08-29T15:32:17.106Z"
   },
   {
    "duration": 782,
    "start_time": "2023-08-29T15:32:17.988Z"
   },
   {
    "duration": 1101,
    "start_time": "2023-08-29T15:32:18.772Z"
   },
   {
    "duration": 1154,
    "start_time": "2023-08-29T15:32:19.875Z"
   },
   {
    "duration": 57,
    "start_time": "2023-08-29T15:32:21.030Z"
   },
   {
    "duration": 168,
    "start_time": "2023-08-29T15:32:21.090Z"
   },
   {
    "duration": 5,
    "start_time": "2023-08-29T15:32:21.262Z"
   },
   {
    "duration": 1602,
    "start_time": "2023-08-29T15:33:50.620Z"
   },
   {
    "duration": 920,
    "start_time": "2023-08-29T15:33:52.225Z"
   },
   {
    "duration": 39,
    "start_time": "2023-08-29T15:33:53.147Z"
   },
   {
    "duration": 186,
    "start_time": "2023-08-29T15:33:53.193Z"
   },
   {
    "duration": 109,
    "start_time": "2023-08-29T15:33:53.386Z"
   },
   {
    "duration": 21,
    "start_time": "2023-08-29T15:33:53.497Z"
   },
   {
    "duration": 238,
    "start_time": "2023-08-29T15:33:53.520Z"
   },
   {
    "duration": 37,
    "start_time": "2023-08-29T15:33:53.760Z"
   },
   {
    "duration": 114,
    "start_time": "2023-08-29T15:33:53.799Z"
   },
   {
    "duration": 13,
    "start_time": "2023-08-29T15:33:53.916Z"
   },
   {
    "duration": 19,
    "start_time": "2023-08-29T15:33:53.931Z"
   },
   {
    "duration": 78,
    "start_time": "2023-08-29T15:33:53.952Z"
   },
   {
    "duration": 164,
    "start_time": "2023-08-29T15:33:54.032Z"
   },
   {
    "duration": 9,
    "start_time": "2023-08-29T15:33:54.198Z"
   },
   {
    "duration": 119,
    "start_time": "2023-08-29T15:33:54.209Z"
   },
   {
    "duration": 181,
    "start_time": "2023-08-29T15:33:54.330Z"
   },
   {
    "duration": 187,
    "start_time": "2023-08-29T15:33:54.513Z"
   },
   {
    "duration": 4,
    "start_time": "2023-08-29T15:33:54.703Z"
   },
   {
    "duration": 884,
    "start_time": "2023-08-29T15:33:54.710Z"
   },
   {
    "duration": 874,
    "start_time": "2023-08-29T15:33:55.597Z"
   },
   {
    "duration": 876,
    "start_time": "2023-08-29T15:33:56.473Z"
   },
   {
    "duration": 1099,
    "start_time": "2023-08-29T15:33:57.351Z"
   },
   {
    "duration": 1207,
    "start_time": "2023-08-29T15:33:58.452Z"
   },
   {
    "duration": 48,
    "start_time": "2023-08-29T15:33:59.663Z"
   },
   {
    "duration": 217,
    "start_time": "2023-08-29T15:33:59.713Z"
   },
   {
    "duration": 5,
    "start_time": "2023-08-29T15:33:59.932Z"
   },
   {
    "duration": 227,
    "start_time": "2023-08-29T15:34:02.721Z"
   },
   {
    "duration": 36,
    "start_time": "2023-08-29T15:34:12.771Z"
   },
   {
    "duration": 82,
    "start_time": "2023-08-29T15:36:23.856Z"
   },
   {
    "duration": 4,
    "start_time": "2023-08-29T15:36:26.121Z"
   },
   {
    "duration": 34,
    "start_time": "2023-08-29T15:36:52.236Z"
   },
   {
    "duration": 30,
    "start_time": "2023-08-29T15:36:56.629Z"
   },
   {
    "duration": 31,
    "start_time": "2023-08-29T15:37:00.145Z"
   },
   {
    "duration": 39,
    "start_time": "2023-08-29T15:37:05.503Z"
   },
   {
    "duration": 107,
    "start_time": "2023-08-29T15:37:24.424Z"
   },
   {
    "duration": 6,
    "start_time": "2023-08-29T15:37:25.169Z"
   },
   {
    "duration": 43,
    "start_time": "2023-08-29T15:37:25.952Z"
   },
   {
    "duration": 150,
    "start_time": "2023-08-29T15:37:42.407Z"
   },
   {
    "duration": 88,
    "start_time": "2023-08-29T15:37:51.332Z"
   },
   {
    "duration": 151,
    "start_time": "2023-08-29T15:37:52.096Z"
   },
   {
    "duration": 61,
    "start_time": "2023-08-29T15:38:19.370Z"
   },
   {
    "duration": 159,
    "start_time": "2023-08-29T15:38:20.310Z"
   },
   {
    "duration": 12,
    "start_time": "2023-08-29T15:38:30.393Z"
   },
   {
    "duration": 1017,
    "start_time": "2023-08-29T15:38:30.409Z"
   },
   {
    "duration": 24,
    "start_time": "2023-08-29T15:38:31.427Z"
   },
   {
    "duration": 292,
    "start_time": "2023-08-29T15:38:31.452Z"
   },
   {
    "duration": 154,
    "start_time": "2023-08-29T15:38:31.747Z"
   },
   {
    "duration": 23,
    "start_time": "2023-08-29T15:38:31.903Z"
   },
   {
    "duration": 235,
    "start_time": "2023-08-29T15:38:31.929Z"
   },
   {
    "duration": 18,
    "start_time": "2023-08-29T15:38:32.166Z"
   },
   {
    "duration": 95,
    "start_time": "2023-08-29T15:38:32.191Z"
   },
   {
    "duration": 20,
    "start_time": "2023-08-29T15:38:32.288Z"
   },
   {
    "duration": 14,
    "start_time": "2023-08-29T15:38:32.310Z"
   },
   {
    "duration": 76,
    "start_time": "2023-08-29T15:38:32.326Z"
   },
   {
    "duration": 164,
    "start_time": "2023-08-29T15:38:32.411Z"
   },
   {
    "duration": 31,
    "start_time": "2023-08-29T15:38:32.591Z"
   },
   {
    "duration": 80,
    "start_time": "2023-08-29T15:38:32.624Z"
   },
   {
    "duration": 251,
    "start_time": "2023-08-29T15:38:32.711Z"
   },
   {
    "duration": 208,
    "start_time": "2023-08-29T15:38:32.966Z"
   },
   {
    "duration": 15,
    "start_time": "2023-08-29T15:38:33.179Z"
   },
   {
    "duration": 965,
    "start_time": "2023-08-29T15:38:33.208Z"
   },
   {
    "duration": 867,
    "start_time": "2023-08-29T15:38:34.175Z"
   },
   {
    "duration": 895,
    "start_time": "2023-08-29T15:38:35.044Z"
   },
   {
    "duration": 1282,
    "start_time": "2023-08-29T15:38:35.941Z"
   },
   {
    "duration": 1233,
    "start_time": "2023-08-29T15:38:37.227Z"
   },
   {
    "duration": 105,
    "start_time": "2023-08-29T15:38:38.463Z"
   },
   {
    "duration": 163,
    "start_time": "2023-08-29T15:38:38.570Z"
   },
   {
    "duration": 67,
    "start_time": "2023-08-29T15:38:50.149Z"
   },
   {
    "duration": 143,
    "start_time": "2023-08-29T15:38:50.915Z"
   },
   {
    "duration": 6,
    "start_time": "2023-08-29T15:38:54.524Z"
   },
   {
    "duration": 986,
    "start_time": "2023-08-29T15:38:54.533Z"
   },
   {
    "duration": 24,
    "start_time": "2023-08-29T15:38:55.522Z"
   },
   {
    "duration": 209,
    "start_time": "2023-08-29T15:38:55.550Z"
   },
   {
    "duration": 100,
    "start_time": "2023-08-29T15:38:55.761Z"
   },
   {
    "duration": 46,
    "start_time": "2023-08-29T15:38:55.863Z"
   },
   {
    "duration": 201,
    "start_time": "2023-08-29T15:38:55.913Z"
   },
   {
    "duration": 17,
    "start_time": "2023-08-29T15:38:56.116Z"
   },
   {
    "duration": 83,
    "start_time": "2023-08-29T15:38:56.134Z"
   },
   {
    "duration": 21,
    "start_time": "2023-08-29T15:38:56.221Z"
   },
   {
    "duration": 7,
    "start_time": "2023-08-29T15:38:56.245Z"
   },
   {
    "duration": 82,
    "start_time": "2023-08-29T15:38:56.254Z"
   },
   {
    "duration": 185,
    "start_time": "2023-08-29T15:38:56.338Z"
   },
   {
    "duration": 6,
    "start_time": "2023-08-29T15:38:56.525Z"
   },
   {
    "duration": 86,
    "start_time": "2023-08-29T15:38:56.533Z"
   },
   {
    "duration": 185,
    "start_time": "2023-08-29T15:38:56.623Z"
   },
   {
    "duration": 190,
    "start_time": "2023-08-29T15:38:56.813Z"
   },
   {
    "duration": 3,
    "start_time": "2023-08-29T15:38:57.005Z"
   },
   {
    "duration": 891,
    "start_time": "2023-08-29T15:38:57.010Z"
   },
   {
    "duration": 963,
    "start_time": "2023-08-29T15:38:57.903Z"
   },
   {
    "duration": 858,
    "start_time": "2023-08-29T15:38:58.868Z"
   },
   {
    "duration": 1182,
    "start_time": "2023-08-29T15:38:59.729Z"
   },
   {
    "duration": 1181,
    "start_time": "2023-08-29T15:39:00.920Z"
   },
   {
    "duration": 113,
    "start_time": "2023-08-29T15:39:02.102Z"
   },
   {
    "duration": 200,
    "start_time": "2023-08-29T15:39:02.216Z"
   },
   {
    "duration": 11,
    "start_time": "2023-08-29T15:39:13.213Z"
   },
   {
    "duration": 919,
    "start_time": "2023-08-29T15:39:13.226Z"
   },
   {
    "duration": 40,
    "start_time": "2023-08-29T15:39:14.147Z"
   },
   {
    "duration": 173,
    "start_time": "2023-08-29T15:39:14.193Z"
   },
   {
    "duration": 107,
    "start_time": "2023-08-29T15:39:14.368Z"
   },
   {
    "duration": 39,
    "start_time": "2023-08-29T15:39:14.483Z"
   },
   {
    "duration": 207,
    "start_time": "2023-08-29T15:39:14.525Z"
   },
   {
    "duration": 15,
    "start_time": "2023-08-29T15:39:14.734Z"
   },
   {
    "duration": 103,
    "start_time": "2023-08-29T15:39:14.751Z"
   },
   {
    "duration": 40,
    "start_time": "2023-08-29T15:39:14.856Z"
   },
   {
    "duration": 11,
    "start_time": "2023-08-29T15:39:14.898Z"
   },
   {
    "duration": 40,
    "start_time": "2023-08-29T15:39:14.910Z"
   },
   {
    "duration": 169,
    "start_time": "2023-08-29T15:39:14.952Z"
   },
   {
    "duration": 7,
    "start_time": "2023-08-29T15:39:15.126Z"
   },
   {
    "duration": 80,
    "start_time": "2023-08-29T15:39:15.134Z"
   },
   {
    "duration": 174,
    "start_time": "2023-08-29T15:39:15.215Z"
   },
   {
    "duration": 169,
    "start_time": "2023-08-29T15:39:15.391Z"
   },
   {
    "duration": 4,
    "start_time": "2023-08-29T15:39:15.562Z"
   },
   {
    "duration": 893,
    "start_time": "2023-08-29T15:39:15.568Z"
   },
   {
    "duration": 927,
    "start_time": "2023-08-29T15:39:16.463Z"
   },
   {
    "duration": 866,
    "start_time": "2023-08-29T15:39:17.391Z"
   },
   {
    "duration": 1383,
    "start_time": "2023-08-29T15:39:18.259Z"
   },
   {
    "duration": 1207,
    "start_time": "2023-08-29T15:39:19.644Z"
   },
   {
    "duration": 90,
    "start_time": "2023-08-29T15:39:23.720Z"
   },
   {
    "duration": 141,
    "start_time": "2023-08-29T15:39:24.529Z"
   },
   {
    "duration": 20,
    "start_time": "2023-08-29T15:39:44.413Z"
   },
   {
    "duration": 84,
    "start_time": "2023-08-29T15:39:46.454Z"
   },
   {
    "duration": 3,
    "start_time": "2023-08-29T15:39:48.256Z"
   },
   {
    "duration": 604,
    "start_time": "2023-08-29T15:39:53.643Z"
   },
   {
    "duration": 599,
    "start_time": "2023-08-29T15:39:54.249Z"
   },
   {
    "duration": 627,
    "start_time": "2023-08-29T15:39:54.905Z"
   },
   {
    "duration": 610,
    "start_time": "2023-08-29T15:39:56.228Z"
   },
   {
    "duration": 84,
    "start_time": "2023-08-29T15:40:05.422Z"
   },
   {
    "duration": 84,
    "start_time": "2023-08-29T15:40:41.361Z"
   },
   {
    "duration": 26,
    "start_time": "2023-08-29T15:40:44.496Z"
   },
   {
    "duration": 5,
    "start_time": "2023-08-29T15:40:46.921Z"
   },
   {
    "duration": 409,
    "start_time": "2023-08-29T15:40:48.672Z"
   },
   {
    "duration": 303,
    "start_time": "2023-08-29T15:40:51.537Z"
   },
   {
    "duration": 328,
    "start_time": "2023-08-29T15:40:53.220Z"
   },
   {
    "duration": 27,
    "start_time": "2023-08-29T15:51:54.340Z"
   },
   {
    "duration": 15,
    "start_time": "2023-08-29T15:51:55.006Z"
   },
   {
    "duration": 81,
    "start_time": "2023-08-29T15:52:03.704Z"
   },
   {
    "duration": 21,
    "start_time": "2023-08-29T15:54:19.273Z"
   },
   {
    "duration": 687,
    "start_time": "2023-08-29T15:54:38.050Z"
   },
   {
    "duration": 798,
    "start_time": "2023-08-29T15:55:06.660Z"
   },
   {
    "duration": 934,
    "start_time": "2023-08-29T15:55:26.846Z"
   },
   {
    "duration": 4,
    "start_time": "2023-08-29T15:55:35.166Z"
   },
   {
    "duration": 5,
    "start_time": "2023-08-29T15:55:56.176Z"
   },
   {
    "duration": 117,
    "start_time": "2023-08-29T15:56:34.516Z"
   },
   {
    "duration": 82251,
    "start_time": "2023-08-29T15:56:39.547Z"
   },
   {
    "duration": 6,
    "start_time": "2023-08-29T16:03:48.639Z"
   },
   {
    "duration": 903,
    "start_time": "2023-08-29T16:03:48.647Z"
   },
   {
    "duration": 36,
    "start_time": "2023-08-29T16:03:49.551Z"
   },
   {
    "duration": 158,
    "start_time": "2023-08-29T16:03:49.593Z"
   },
   {
    "duration": 108,
    "start_time": "2023-08-29T16:03:49.753Z"
   },
   {
    "duration": 38,
    "start_time": "2023-08-29T16:03:49.862Z"
   },
   {
    "duration": 193,
    "start_time": "2023-08-29T16:03:49.902Z"
   },
   {
    "duration": 14,
    "start_time": "2023-08-29T16:03:50.097Z"
   },
   {
    "duration": 87,
    "start_time": "2023-08-29T16:03:50.114Z"
   },
   {
    "duration": 16,
    "start_time": "2023-08-29T16:03:50.203Z"
   },
   {
    "duration": 20,
    "start_time": "2023-08-29T16:03:50.221Z"
   },
   {
    "duration": 68,
    "start_time": "2023-08-29T16:03:50.243Z"
   },
   {
    "duration": 155,
    "start_time": "2023-08-29T16:03:50.313Z"
   },
   {
    "duration": 14,
    "start_time": "2023-08-29T16:03:50.470Z"
   },
   {
    "duration": 63,
    "start_time": "2023-08-29T16:03:50.485Z"
   },
   {
    "duration": 188,
    "start_time": "2023-08-29T16:03:50.550Z"
   },
   {
    "duration": 178,
    "start_time": "2023-08-29T16:03:50.740Z"
   },
   {
    "duration": 3,
    "start_time": "2023-08-29T16:03:50.920Z"
   },
   {
    "duration": 818,
    "start_time": "2023-08-29T16:03:50.925Z"
   },
   {
    "duration": 801,
    "start_time": "2023-08-29T16:03:51.744Z"
   },
   {
    "duration": 766,
    "start_time": "2023-08-29T16:03:52.547Z"
   },
   {
    "duration": 1111,
    "start_time": "2023-08-29T16:03:53.315Z"
   },
   {
    "duration": 1112,
    "start_time": "2023-08-29T16:03:54.428Z"
   },
   {
    "duration": 115,
    "start_time": "2023-08-29T16:03:55.544Z"
   },
   {
    "duration": 142,
    "start_time": "2023-08-29T16:03:55.661Z"
   },
   {
    "duration": 19,
    "start_time": "2023-08-29T16:03:55.806Z"
   },
   {
    "duration": 88,
    "start_time": "2023-08-29T16:03:55.826Z"
   },
   {
    "duration": 4,
    "start_time": "2023-08-29T16:03:55.916Z"
   },
   {
    "duration": 588,
    "start_time": "2023-08-29T16:03:55.922Z"
   },
   {
    "duration": 602,
    "start_time": "2023-08-29T16:03:56.512Z"
   },
   {
    "duration": 705,
    "start_time": "2023-08-29T16:03:57.116Z"
   },
   {
    "duration": 538,
    "start_time": "2023-08-29T16:03:57.823Z"
   },
   {
    "duration": 83,
    "start_time": "2023-08-29T16:03:58.363Z"
   },
   {
    "duration": 82,
    "start_time": "2023-08-29T16:03:58.449Z"
   },
   {
    "duration": 23,
    "start_time": "2023-08-29T16:03:58.533Z"
   },
   {
    "duration": 31,
    "start_time": "2023-08-29T16:03:58.558Z"
   },
   {
    "duration": 368,
    "start_time": "2023-08-29T16:03:58.596Z"
   },
   {
    "duration": 284,
    "start_time": "2023-08-29T16:03:58.966Z"
   },
   {
    "duration": 337,
    "start_time": "2023-08-29T16:03:59.253Z"
   },
   {
    "duration": 9,
    "start_time": "2023-08-29T16:03:59.592Z"
   },
   {
    "duration": 36,
    "start_time": "2023-08-29T16:03:59.602Z"
   },
   {
    "duration": 56,
    "start_time": "2023-08-29T16:03:59.645Z"
   },
   {
    "duration": 4,
    "start_time": "2023-08-29T16:03:59.702Z"
   },
   {
    "duration": 7,
    "start_time": "2023-08-29T16:03:59.708Z"
   },
   {
    "duration": 782,
    "start_time": "2023-08-29T16:03:59.718Z"
   },
   {
    "duration": 6,
    "start_time": "2023-08-29T16:04:12.813Z"
   },
   {
    "duration": 85198,
    "start_time": "2023-08-29T16:04:15.608Z"
   },
   {
    "duration": 3,
    "start_time": "2023-08-29T16:06:49.402Z"
   },
   {
    "duration": 5,
    "start_time": "2023-08-29T16:06:49.866Z"
   },
   {
    "duration": 765,
    "start_time": "2023-08-29T16:06:53.046Z"
   },
   {
    "duration": 5,
    "start_time": "2023-08-29T16:06:56.156Z"
   },
   {
    "duration": 67394,
    "start_time": "2023-08-29T16:06:57.601Z"
   },
   {
    "duration": 160,
    "start_time": "2023-08-29T16:08:45.017Z"
   },
   {
    "duration": 7,
    "start_time": "2023-08-29T16:15:45.708Z"
   },
   {
    "duration": 68472,
    "start_time": "2023-08-29T16:15:48.334Z"
   },
   {
    "duration": 13,
    "start_time": "2023-08-29T16:17:16.226Z"
   },
   {
    "duration": 15,
    "start_time": "2023-08-29T16:18:02.561Z"
   },
   {
    "duration": 20,
    "start_time": "2023-08-29T16:18:10.211Z"
   },
   {
    "duration": 806,
    "start_time": "2023-08-29T16:18:25.948Z"
   },
   {
    "duration": 5,
    "start_time": "2023-08-29T16:18:36.016Z"
   },
   {
    "duration": 67269,
    "start_time": "2023-08-29T16:18:37.927Z"
   },
   {
    "duration": 12,
    "start_time": "2023-08-29T16:21:20.908Z"
   },
   {
    "duration": 1106,
    "start_time": "2023-08-29T16:21:20.924Z"
   },
   {
    "duration": 24,
    "start_time": "2023-08-29T16:21:22.032Z"
   },
   {
    "duration": 201,
    "start_time": "2023-08-29T16:21:22.059Z"
   },
   {
    "duration": 127,
    "start_time": "2023-08-29T16:21:22.262Z"
   },
   {
    "duration": 40,
    "start_time": "2023-08-29T16:21:22.392Z"
   },
   {
    "duration": 223,
    "start_time": "2023-08-29T16:21:22.434Z"
   },
   {
    "duration": 27,
    "start_time": "2023-08-29T16:21:22.659Z"
   },
   {
    "duration": 98,
    "start_time": "2023-08-29T16:21:22.690Z"
   },
   {
    "duration": 24,
    "start_time": "2023-08-29T16:21:22.791Z"
   },
   {
    "duration": 13,
    "start_time": "2023-08-29T16:21:22.818Z"
   },
   {
    "duration": 93,
    "start_time": "2023-08-29T16:21:22.832Z"
   },
   {
    "duration": 188,
    "start_time": "2023-08-29T16:21:22.932Z"
   },
   {
    "duration": 9,
    "start_time": "2023-08-29T16:21:23.123Z"
   },
   {
    "duration": 87,
    "start_time": "2023-08-29T16:21:23.134Z"
   },
   {
    "duration": 192,
    "start_time": "2023-08-29T16:21:23.226Z"
   },
   {
    "duration": 188,
    "start_time": "2023-08-29T16:21:23.420Z"
   },
   {
    "duration": 4,
    "start_time": "2023-08-29T16:21:23.610Z"
   },
   {
    "duration": 929,
    "start_time": "2023-08-29T16:21:23.616Z"
   },
   {
    "duration": 1133,
    "start_time": "2023-08-29T16:21:24.547Z"
   },
   {
    "duration": 928,
    "start_time": "2023-08-29T16:21:25.695Z"
   },
   {
    "duration": 1348,
    "start_time": "2023-08-29T16:21:26.626Z"
   },
   {
    "duration": 1347,
    "start_time": "2023-08-29T16:21:27.976Z"
   },
   {
    "duration": 110,
    "start_time": "2023-08-29T16:21:29.328Z"
   },
   {
    "duration": 154,
    "start_time": "2023-08-29T16:21:29.440Z"
   },
   {
    "duration": 30,
    "start_time": "2023-08-29T16:21:29.596Z"
   },
   {
    "duration": 97,
    "start_time": "2023-08-29T16:21:29.629Z"
   },
   {
    "duration": 8,
    "start_time": "2023-08-29T16:21:29.728Z"
   },
   {
    "duration": 728,
    "start_time": "2023-08-29T16:21:29.739Z"
   },
   {
    "duration": 676,
    "start_time": "2023-08-29T16:21:30.469Z"
   },
   {
    "duration": 626,
    "start_time": "2023-08-29T16:21:31.147Z"
   },
   {
    "duration": 622,
    "start_time": "2023-08-29T16:21:31.776Z"
   },
   {
    "duration": 95,
    "start_time": "2023-08-29T16:21:32.400Z"
   },
   {
    "duration": 70,
    "start_time": "2023-08-29T16:21:32.509Z"
   },
   {
    "duration": 29,
    "start_time": "2023-08-29T16:21:32.580Z"
   },
   {
    "duration": 11,
    "start_time": "2023-08-29T16:21:32.619Z"
   },
   {
    "duration": 511,
    "start_time": "2023-08-29T16:21:32.632Z"
   },
   {
    "duration": 494,
    "start_time": "2023-08-29T16:21:33.145Z"
   },
   {
    "duration": 387,
    "start_time": "2023-08-29T16:21:33.641Z"
   },
   {
    "duration": 3,
    "start_time": "2023-08-29T16:21:34.031Z"
   },
   {
    "duration": 40,
    "start_time": "2023-08-29T16:21:34.036Z"
   },
   {
    "duration": 64,
    "start_time": "2023-08-29T16:21:34.078Z"
   },
   {
    "duration": 4,
    "start_time": "2023-08-29T16:21:34.144Z"
   },
   {
    "duration": 13,
    "start_time": "2023-08-29T16:21:34.149Z"
   },
   {
    "duration": 0,
    "start_time": "2023-08-29T16:21:34.164Z"
   },
   {
    "duration": 11,
    "start_time": "2023-08-29T16:21:57.878Z"
   },
   {
    "duration": 5,
    "start_time": "2023-08-29T16:22:00.833Z"
   },
   {
    "duration": 68287,
    "start_time": "2023-08-29T16:22:04.412Z"
   },
   {
    "duration": 1883,
    "start_time": "2023-08-29T16:23:53.932Z"
   },
   {
    "duration": 1106,
    "start_time": "2023-08-29T16:23:55.818Z"
   },
   {
    "duration": 42,
    "start_time": "2023-08-29T16:23:56.926Z"
   },
   {
    "duration": 228,
    "start_time": "2023-08-29T16:23:56.971Z"
   },
   {
    "duration": 167,
    "start_time": "2023-08-29T16:23:57.205Z"
   },
   {
    "duration": 44,
    "start_time": "2023-08-29T16:23:57.374Z"
   },
   {
    "duration": 227,
    "start_time": "2023-08-29T16:23:57.420Z"
   },
   {
    "duration": 20,
    "start_time": "2023-08-29T16:23:57.650Z"
   },
   {
    "duration": 122,
    "start_time": "2023-08-29T16:23:57.685Z"
   },
   {
    "duration": 22,
    "start_time": "2023-08-29T16:23:57.811Z"
   },
   {
    "duration": 6,
    "start_time": "2023-08-29T16:23:57.835Z"
   },
   {
    "duration": 84,
    "start_time": "2023-08-29T16:23:57.842Z"
   },
   {
    "duration": 218,
    "start_time": "2023-08-29T16:23:57.927Z"
   },
   {
    "duration": 9,
    "start_time": "2023-08-29T16:23:58.147Z"
   },
   {
    "duration": 96,
    "start_time": "2023-08-29T16:23:58.158Z"
   },
   {
    "duration": 185,
    "start_time": "2023-08-29T16:23:58.257Z"
   },
   {
    "duration": 225,
    "start_time": "2023-08-29T16:23:58.444Z"
   },
   {
    "duration": 17,
    "start_time": "2023-08-29T16:23:58.671Z"
   },
   {
    "duration": 964,
    "start_time": "2023-08-29T16:23:58.694Z"
   },
   {
    "duration": 887,
    "start_time": "2023-08-29T16:23:59.660Z"
   },
   {
    "duration": 879,
    "start_time": "2023-08-29T16:24:00.549Z"
   },
   {
    "duration": 1223,
    "start_time": "2023-08-29T16:24:01.431Z"
   },
   {
    "duration": 1195,
    "start_time": "2023-08-29T16:24:02.656Z"
   },
   {
    "duration": 125,
    "start_time": "2023-08-29T16:24:03.853Z"
   },
   {
    "duration": 161,
    "start_time": "2023-08-29T16:24:03.981Z"
   },
   {
    "duration": 19,
    "start_time": "2023-08-29T16:24:04.144Z"
   },
   {
    "duration": 84,
    "start_time": "2023-08-29T16:24:04.165Z"
   },
   {
    "duration": 4,
    "start_time": "2023-08-29T16:24:04.252Z"
   },
   {
    "duration": 647,
    "start_time": "2023-08-29T16:24:04.257Z"
   },
   {
    "duration": 658,
    "start_time": "2023-08-29T16:24:04.908Z"
   },
   {
    "duration": 577,
    "start_time": "2023-08-29T16:24:05.568Z"
   },
   {
    "duration": 619,
    "start_time": "2023-08-29T16:24:06.147Z"
   },
   {
    "duration": 122,
    "start_time": "2023-08-29T16:24:06.769Z"
   },
   {
    "duration": 83,
    "start_time": "2023-08-29T16:24:06.892Z"
   },
   {
    "duration": 51,
    "start_time": "2023-08-29T16:24:06.978Z"
   },
   {
    "duration": 5,
    "start_time": "2023-08-29T16:24:07.032Z"
   },
   {
    "duration": 685,
    "start_time": "2023-08-29T16:24:07.039Z"
   },
   {
    "duration": 364,
    "start_time": "2023-08-29T16:24:07.727Z"
   },
   {
    "duration": 366,
    "start_time": "2023-08-29T16:24:08.101Z"
   },
   {
    "duration": 5,
    "start_time": "2023-08-29T16:24:08.470Z"
   },
   {
    "duration": 53,
    "start_time": "2023-08-29T16:24:08.477Z"
   },
   {
    "duration": 65,
    "start_time": "2023-08-29T16:24:08.533Z"
   },
   {
    "duration": 4,
    "start_time": "2023-08-29T16:24:08.606Z"
   },
   {
    "duration": 3,
    "start_time": "2023-08-29T16:24:08.613Z"
   },
   {
    "duration": 6,
    "start_time": "2023-08-29T16:24:08.618Z"
   },
   {
    "duration": 64061,
    "start_time": "2023-08-29T16:24:08.626Z"
   },
   {
    "duration": 203,
    "start_time": "2023-08-29T16:26:48.921Z"
   },
   {
    "duration": 808,
    "start_time": "2023-08-29T16:26:57.808Z"
   },
   {
    "duration": 35,
    "start_time": "2023-08-29T16:27:09.320Z"
   },
   {
    "duration": 4,
    "start_time": "2023-08-29T16:27:19.641Z"
   },
   {
    "duration": 28020,
    "start_time": "2023-08-29T16:27:26.233Z"
   },
   {
    "duration": 9,
    "start_time": "2023-08-29T16:28:24.044Z"
   },
   {
    "duration": 17,
    "start_time": "2023-08-29T16:28:28.580Z"
   },
   {
    "duration": 4,
    "start_time": "2023-08-29T16:28:41.708Z"
   },
   {
    "duration": 4,
    "start_time": "2023-08-29T16:28:45.465Z"
   },
   {
    "duration": 71904,
    "start_time": "2023-08-29T16:28:47.691Z"
   },
   {
    "duration": 27906,
    "start_time": "2023-08-29T16:29:59.598Z"
   },
   {
    "duration": 241,
    "start_time": "2023-08-29T16:30:56.361Z"
   },
   {
    "duration": 366,
    "start_time": "2023-08-29T16:31:12.706Z"
   },
   {
    "duration": 27,
    "start_time": "2023-08-29T16:31:17.518Z"
   },
   {
    "duration": 602592,
    "start_time": "2023-08-29T16:33:23.113Z"
   },
   {
    "duration": 15060,
    "start_time": "2023-08-29T16:43:25.709Z"
   },
   {
    "duration": 983,
    "start_time": "2023-08-29T16:43:40.772Z"
   },
   {
    "duration": 303,
    "start_time": "2023-08-29T16:44:27.025Z"
   },
   {
    "duration": 3443696,
    "start_time": "2023-08-29T16:44:42.836Z"
   },
   {
    "duration": 344188,
    "start_time": "2023-08-29T17:42:06.535Z"
   },
   {
    "duration": 1286,
    "start_time": "2023-08-29T17:47:50.727Z"
   },
   {
    "duration": 396198,
    "start_time": "2023-08-29T17:48:20.318Z"
   },
   {
    "duration": 6,
    "start_time": "2023-08-29T17:55:04.657Z"
   },
   {
    "duration": 410722,
    "start_time": "2023-08-29T17:55:41.339Z"
   },
   {
    "duration": 1380,
    "start_time": "2023-08-29T18:02:37.899Z"
   },
   {
    "duration": 542,
    "start_time": "2023-08-29T18:04:39.517Z"
   },
   {
    "duration": 694,
    "start_time": "2023-08-29T18:05:07.421Z"
   },
   {
    "duration": 65871,
    "start_time": "2023-08-29T18:05:27.814Z"
   },
   {
    "duration": 20192,
    "start_time": "2023-08-29T18:06:50.399Z"
   },
   {
    "duration": 21,
    "start_time": "2023-08-29T18:07:10.613Z"
   },
   {
    "duration": 25,
    "start_time": "2023-08-29T18:10:42.239Z"
   },
   {
    "duration": 12,
    "start_time": "2023-08-29T18:10:53.933Z"
   },
   {
    "duration": 785,
    "start_time": "2023-08-29T18:11:01.682Z"
   },
   {
    "duration": 2386,
    "start_time": "2023-08-29T18:11:11.970Z"
   },
   {
    "duration": 3113,
    "start_time": "2023-08-29T18:11:14.358Z"
   },
   {
    "duration": 154,
    "start_time": "2023-08-29T18:11:17.485Z"
   },
   {
    "duration": 548,
    "start_time": "2023-08-29T18:11:17.658Z"
   },
   {
    "duration": 215,
    "start_time": "2023-08-29T18:11:18.213Z"
   },
   {
    "duration": 28,
    "start_time": "2023-08-29T18:11:18.438Z"
   },
   {
    "duration": 284,
    "start_time": "2023-08-29T18:11:18.468Z"
   },
   {
    "duration": 30,
    "start_time": "2023-08-29T18:11:18.754Z"
   },
   {
    "duration": 132,
    "start_time": "2023-08-29T18:11:18.787Z"
   },
   {
    "duration": 28,
    "start_time": "2023-08-29T18:11:18.927Z"
   },
   {
    "duration": 15,
    "start_time": "2023-08-29T18:11:18.964Z"
   },
   {
    "duration": 133,
    "start_time": "2023-08-29T18:11:18.981Z"
   },
   {
    "duration": 261,
    "start_time": "2023-08-29T18:11:19.124Z"
   },
   {
    "duration": 16,
    "start_time": "2023-08-29T18:11:19.391Z"
   },
   {
    "duration": 129,
    "start_time": "2023-08-29T18:11:19.413Z"
   },
   {
    "duration": 245,
    "start_time": "2023-08-29T18:11:19.554Z"
   },
   {
    "duration": 275,
    "start_time": "2023-08-29T18:11:19.808Z"
   },
   {
    "duration": 10,
    "start_time": "2023-08-29T18:11:20.086Z"
   },
   {
    "duration": 1282,
    "start_time": "2023-08-29T18:11:20.099Z"
   },
   {
    "duration": 1132,
    "start_time": "2023-08-29T18:11:21.388Z"
   },
   {
    "duration": 1332,
    "start_time": "2023-08-29T18:11:22.533Z"
   },
   {
    "duration": 1759,
    "start_time": "2023-08-29T18:11:23.867Z"
   },
   {
    "duration": 1983,
    "start_time": "2023-08-29T18:11:25.628Z"
   },
   {
    "duration": 224,
    "start_time": "2023-08-29T18:11:27.614Z"
   },
   {
    "duration": 225,
    "start_time": "2023-08-29T18:11:27.844Z"
   },
   {
    "duration": 41,
    "start_time": "2023-08-29T18:11:28.075Z"
   },
   {
    "duration": 134,
    "start_time": "2023-08-29T18:11:28.125Z"
   },
   {
    "duration": 7,
    "start_time": "2023-08-29T18:11:28.269Z"
   },
   {
    "duration": 868,
    "start_time": "2023-08-29T18:11:28.283Z"
   },
   {
    "duration": 913,
    "start_time": "2023-08-29T18:11:29.158Z"
   },
   {
    "duration": 795,
    "start_time": "2023-08-29T18:11:30.080Z"
   },
   {
    "duration": 797,
    "start_time": "2023-08-29T18:11:30.878Z"
   },
   {
    "duration": 143,
    "start_time": "2023-08-29T18:11:31.679Z"
   },
   {
    "duration": 141,
    "start_time": "2023-08-29T18:11:31.829Z"
   },
   {
    "duration": 31,
    "start_time": "2023-08-29T18:11:31.976Z"
   },
   {
    "duration": 16,
    "start_time": "2023-08-29T18:11:32.012Z"
   },
   {
    "duration": 840,
    "start_time": "2023-08-29T18:11:32.032Z"
   },
   {
    "duration": 462,
    "start_time": "2023-08-29T18:11:32.875Z"
   },
   {
    "duration": 526,
    "start_time": "2023-08-29T18:11:33.339Z"
   },
   {
    "duration": 8,
    "start_time": "2023-08-29T18:11:33.867Z"
   },
   {
    "duration": 74,
    "start_time": "2023-08-29T18:11:33.878Z"
   },
   {
    "duration": 108,
    "start_time": "2023-08-29T18:11:33.956Z"
   },
   {
    "duration": 8,
    "start_time": "2023-08-29T18:11:34.069Z"
   },
   {
    "duration": 1201,
    "start_time": "2023-08-29T18:11:34.079Z"
   },
   {
    "duration": 118249,
    "start_time": "2023-08-29T18:11:35.282Z"
   },
   {
    "duration": 3052,
    "start_time": "2023-08-29T18:14:04.093Z"
   },
   {
    "duration": 2823,
    "start_time": "2023-08-29T18:14:07.150Z"
   },
   {
    "duration": 110,
    "start_time": "2023-08-29T18:14:09.993Z"
   },
   {
    "duration": 440,
    "start_time": "2023-08-29T18:14:10.117Z"
   },
   {
    "duration": 205,
    "start_time": "2023-08-29T18:14:10.564Z"
   },
   {
    "duration": 27,
    "start_time": "2023-08-29T18:14:10.772Z"
   },
   {
    "duration": 402,
    "start_time": "2023-08-29T18:14:10.801Z"
   },
   {
    "duration": 30,
    "start_time": "2023-08-29T18:14:11.213Z"
   },
   {
    "duration": 141,
    "start_time": "2023-08-29T18:14:11.251Z"
   },
   {
    "duration": 24,
    "start_time": "2023-08-29T18:14:11.400Z"
   },
   {
    "duration": 12,
    "start_time": "2023-08-29T18:14:11.432Z"
   },
   {
    "duration": 77,
    "start_time": "2023-08-29T18:14:11.450Z"
   },
   {
    "duration": 303,
    "start_time": "2023-08-29T18:14:11.533Z"
   },
   {
    "duration": 23,
    "start_time": "2023-08-29T18:14:11.846Z"
   },
   {
    "duration": 112,
    "start_time": "2023-08-29T18:14:11.872Z"
   },
   {
    "duration": 252,
    "start_time": "2023-08-29T18:14:11.989Z"
   },
   {
    "duration": 271,
    "start_time": "2023-08-29T18:14:12.243Z"
   },
   {
    "duration": 12,
    "start_time": "2023-08-29T18:14:12.517Z"
   },
   {
    "duration": 1337,
    "start_time": "2023-08-29T18:14:12.532Z"
   },
   {
    "duration": 1236,
    "start_time": "2023-08-29T18:14:13.879Z"
   },
   {
    "duration": 1184,
    "start_time": "2023-08-29T18:14:15.123Z"
   },
   {
    "duration": 1916,
    "start_time": "2023-08-29T18:14:16.315Z"
   },
   {
    "duration": 1708,
    "start_time": "2023-08-29T18:14:18.247Z"
   },
   {
    "duration": 299,
    "start_time": "2023-08-29T18:14:19.964Z"
   },
   {
    "duration": 378,
    "start_time": "2023-08-29T18:14:20.280Z"
   },
   {
    "duration": 28,
    "start_time": "2023-08-29T18:14:20.661Z"
   },
   {
    "duration": 123,
    "start_time": "2023-08-29T18:14:20.692Z"
   },
   {
    "duration": 10,
    "start_time": "2023-08-29T18:14:20.825Z"
   },
   {
    "duration": 872,
    "start_time": "2023-08-29T18:14:20.842Z"
   },
   {
    "duration": 802,
    "start_time": "2023-08-29T18:14:21.721Z"
   },
   {
    "duration": 1076,
    "start_time": "2023-08-29T18:14:22.530Z"
   },
   {
    "duration": 1255,
    "start_time": "2023-08-29T18:14:23.608Z"
   },
   {
    "duration": 175,
    "start_time": "2023-08-29T18:14:24.875Z"
   },
   {
    "duration": 202,
    "start_time": "2023-08-29T18:14:25.052Z"
   },
   {
    "duration": 45,
    "start_time": "2023-08-29T18:14:25.258Z"
   },
   {
    "duration": 18,
    "start_time": "2023-08-29T18:14:25.306Z"
   },
   {
    "duration": 907,
    "start_time": "2023-08-29T18:14:25.327Z"
   },
   {
    "duration": 498,
    "start_time": "2023-08-29T18:14:26.239Z"
   },
   {
    "duration": 647,
    "start_time": "2023-08-29T18:14:26.743Z"
   },
   {
    "duration": 9,
    "start_time": "2023-08-29T18:14:27.396Z"
   },
   {
    "duration": 66,
    "start_time": "2023-08-29T18:14:27.412Z"
   },
   {
    "duration": 146,
    "start_time": "2023-08-29T18:14:27.494Z"
   },
   {
    "duration": 11,
    "start_time": "2023-08-29T18:14:27.647Z"
   },
   {
    "duration": 1111,
    "start_time": "2023-08-29T18:14:27.669Z"
   },
   {
    "duration": 95672,
    "start_time": "2023-08-29T18:14:28.795Z"
   },
   {
    "duration": 34256,
    "start_time": "2023-08-29T18:16:04.503Z"
   },
   {
    "duration": 77,
    "start_time": "2023-08-29T18:16:38.768Z"
   },
   {
    "duration": 1300,
    "start_time": "2023-08-29T18:16:38.852Z"
   },
   {
    "duration": 41287,
    "start_time": "2023-08-29T18:16:40.154Z"
   },
   {
    "duration": 563,
    "start_time": "2023-08-29T18:17:21.443Z"
   },
   {
    "duration": 47,
    "start_time": "2023-08-29T18:17:22.008Z"
   },
   {
    "duration": 5,
    "start_time": "2023-08-29T18:17:22.062Z"
   },
   {
    "duration": 3273,
    "start_time": "2023-08-29T18:20:29.458Z"
   },
   {
    "duration": 1973,
    "start_time": "2023-08-29T18:20:32.734Z"
   },
   {
    "duration": 54,
    "start_time": "2023-08-29T18:20:34.712Z"
   },
   {
    "duration": 442,
    "start_time": "2023-08-29T18:20:34.769Z"
   },
   {
    "duration": 184,
    "start_time": "2023-08-29T18:20:35.219Z"
   },
   {
    "duration": 38,
    "start_time": "2023-08-29T18:20:35.411Z"
   },
   {
    "duration": 347,
    "start_time": "2023-08-29T18:20:35.460Z"
   },
   {
    "duration": 29,
    "start_time": "2023-08-29T18:20:35.815Z"
   },
   {
    "duration": 150,
    "start_time": "2023-08-29T18:20:35.853Z"
   },
   {
    "duration": 48,
    "start_time": "2023-08-29T18:20:36.015Z"
   },
   {
    "duration": 17,
    "start_time": "2023-08-29T18:20:36.074Z"
   },
   {
    "duration": 97,
    "start_time": "2023-08-29T18:20:36.102Z"
   },
   {
    "duration": 287,
    "start_time": "2023-08-29T18:20:36.208Z"
   },
   {
    "duration": 15,
    "start_time": "2023-08-29T18:20:36.505Z"
   },
   {
    "duration": 101,
    "start_time": "2023-08-29T18:20:36.527Z"
   },
   {
    "duration": 325,
    "start_time": "2023-08-29T18:20:36.635Z"
   },
   {
    "duration": 371,
    "start_time": "2023-08-29T18:20:36.966Z"
   },
   {
    "duration": 12,
    "start_time": "2023-08-29T18:20:37.344Z"
   },
   {
    "duration": 1588,
    "start_time": "2023-08-29T18:20:37.364Z"
   },
   {
    "duration": 1588,
    "start_time": "2023-08-29T18:20:38.958Z"
   },
   {
    "duration": 1596,
    "start_time": "2023-08-29T18:20:40.557Z"
   },
   {
    "duration": 2131,
    "start_time": "2023-08-29T18:20:42.159Z"
   },
   {
    "duration": 1991,
    "start_time": "2023-08-29T18:20:44.297Z"
   },
   {
    "duration": 233,
    "start_time": "2023-08-29T18:20:46.302Z"
   },
   {
    "duration": 401,
    "start_time": "2023-08-29T18:20:46.542Z"
   },
   {
    "duration": 70,
    "start_time": "2023-08-29T18:20:46.961Z"
   },
   {
    "duration": 222,
    "start_time": "2023-08-29T18:20:47.049Z"
   },
   {
    "duration": 17,
    "start_time": "2023-08-29T18:20:47.282Z"
   },
   {
    "duration": 1128,
    "start_time": "2023-08-29T18:20:47.306Z"
   },
   {
    "duration": 848,
    "start_time": "2023-08-29T18:20:48.440Z"
   },
   {
    "duration": 869,
    "start_time": "2023-08-29T18:20:49.294Z"
   },
   {
    "duration": 942,
    "start_time": "2023-08-29T18:20:50.165Z"
   },
   {
    "duration": 155,
    "start_time": "2023-08-29T18:20:51.114Z"
   },
   {
    "duration": 127,
    "start_time": "2023-08-29T18:20:51.276Z"
   },
   {
    "duration": 34,
    "start_time": "2023-08-29T18:20:51.410Z"
   },
   {
    "duration": 6,
    "start_time": "2023-08-29T18:20:51.451Z"
   },
   {
    "duration": 731,
    "start_time": "2023-08-29T18:20:51.464Z"
   },
   {
    "duration": 468,
    "start_time": "2023-08-29T18:20:52.202Z"
   },
   {
    "duration": 516,
    "start_time": "2023-08-29T18:20:52.677Z"
   },
   {
    "duration": 5,
    "start_time": "2023-08-29T18:20:53.200Z"
   },
   {
    "duration": 51,
    "start_time": "2023-08-29T18:20:53.216Z"
   },
   {
    "duration": 87,
    "start_time": "2023-08-29T18:20:53.275Z"
   },
   {
    "duration": 16,
    "start_time": "2023-08-29T18:20:53.375Z"
   },
   {
    "duration": 1325,
    "start_time": "2023-08-29T18:20:53.402Z"
   },
   {
    "duration": 118538,
    "start_time": "2023-08-29T18:20:54.744Z"
   },
   {
    "duration": 2332,
    "start_time": "2023-08-29T18:23:05.529Z"
   },
   {
    "duration": 1651,
    "start_time": "2023-08-29T18:23:07.863Z"
   },
   {
    "duration": 53,
    "start_time": "2023-08-29T18:23:09.518Z"
   },
   {
    "duration": 284,
    "start_time": "2023-08-29T18:23:09.579Z"
   },
   {
    "duration": 176,
    "start_time": "2023-08-29T18:23:09.875Z"
   },
   {
    "duration": 45,
    "start_time": "2023-08-29T18:23:10.058Z"
   },
   {
    "duration": 451,
    "start_time": "2023-08-29T18:23:10.111Z"
   },
   {
    "duration": 36,
    "start_time": "2023-08-29T18:23:10.570Z"
   },
   {
    "duration": 155,
    "start_time": "2023-08-29T18:23:10.613Z"
   },
   {
    "duration": 47,
    "start_time": "2023-08-29T18:23:10.777Z"
   },
   {
    "duration": 21,
    "start_time": "2023-08-29T18:23:10.831Z"
   },
   {
    "duration": 89,
    "start_time": "2023-08-29T18:23:10.858Z"
   },
   {
    "duration": 263,
    "start_time": "2023-08-29T18:23:10.955Z"
   },
   {
    "duration": 16,
    "start_time": "2023-08-29T18:23:11.225Z"
   },
   {
    "duration": 95,
    "start_time": "2023-08-29T18:23:11.247Z"
   },
   {
    "duration": 228,
    "start_time": "2023-08-29T18:23:11.349Z"
   },
   {
    "duration": 248,
    "start_time": "2023-08-29T18:23:11.581Z"
   },
   {
    "duration": 21,
    "start_time": "2023-08-29T18:23:11.840Z"
   },
   {
    "duration": 1258,
    "start_time": "2023-08-29T18:23:11.867Z"
   },
   {
    "duration": 1084,
    "start_time": "2023-08-29T18:23:13.129Z"
   },
   {
    "duration": 1037,
    "start_time": "2023-08-29T18:23:14.224Z"
   },
   {
    "duration": 1513,
    "start_time": "2023-08-29T18:23:15.267Z"
   },
   {
    "duration": 1473,
    "start_time": "2023-08-29T18:23:16.787Z"
   },
   {
    "duration": 192,
    "start_time": "2023-08-29T18:23:18.263Z"
   },
   {
    "duration": 237,
    "start_time": "2023-08-29T18:23:18.466Z"
   },
   {
    "duration": 33,
    "start_time": "2023-08-29T18:23:18.705Z"
   },
   {
    "duration": 122,
    "start_time": "2023-08-29T18:23:18.740Z"
   },
   {
    "duration": 14,
    "start_time": "2023-08-29T18:23:18.870Z"
   },
   {
    "duration": 864,
    "start_time": "2023-08-29T18:23:18.890Z"
   },
   {
    "duration": 845,
    "start_time": "2023-08-29T18:23:19.762Z"
   },
   {
    "duration": 805,
    "start_time": "2023-08-29T18:23:20.614Z"
   },
   {
    "duration": 789,
    "start_time": "2023-08-29T18:23:21.427Z"
   },
   {
    "duration": 141,
    "start_time": "2023-08-29T18:23:22.226Z"
   },
   {
    "duration": 122,
    "start_time": "2023-08-29T18:23:22.375Z"
   },
   {
    "duration": 36,
    "start_time": "2023-08-29T18:23:22.505Z"
   },
   {
    "duration": 6,
    "start_time": "2023-08-29T18:23:22.548Z"
   },
   {
    "duration": 817,
    "start_time": "2023-08-29T18:23:22.561Z"
   },
   {
    "duration": 439,
    "start_time": "2023-08-29T18:23:23.380Z"
   },
   {
    "duration": 496,
    "start_time": "2023-08-29T18:23:23.821Z"
   },
   {
    "duration": 8,
    "start_time": "2023-08-29T18:23:24.323Z"
   },
   {
    "duration": 38,
    "start_time": "2023-08-29T18:23:24.333Z"
   },
   {
    "duration": 90,
    "start_time": "2023-08-29T18:23:24.378Z"
   },
   {
    "duration": 9,
    "start_time": "2023-08-29T18:23:24.475Z"
   },
   {
    "duration": 887,
    "start_time": "2023-08-29T18:23:26.840Z"
   },
   {
    "duration": 8,
    "start_time": "2023-08-29T18:23:28.875Z"
   },
   {
    "duration": 15,
    "start_time": "2023-08-29T18:23:46.416Z"
   },
   {
    "duration": 423,
    "start_time": "2023-08-29T18:24:39.787Z"
   },
   {
    "duration": 1469,
    "start_time": "2023-08-29T18:26:03.491Z"
   },
   {
    "duration": 35,
    "start_time": "2023-08-29T18:26:27.335Z"
   },
   {
    "duration": 33,
    "start_time": "2023-08-29T18:26:46.105Z"
   },
   {
    "duration": 5,
    "start_time": "2023-08-29T18:28:38.803Z"
   },
   {
    "duration": 737,
    "start_time": "2023-08-29T18:30:58.512Z"
   },
   {
    "duration": 19,
    "start_time": "2023-08-29T18:31:02.335Z"
   },
   {
    "duration": 665,
    "start_time": "2023-08-29T18:33:01.026Z"
   },
   {
    "duration": 11994,
    "start_time": "2023-08-29T18:34:04.727Z"
   },
   {
    "duration": 7,
    "start_time": "2023-08-29T18:38:06.865Z"
   },
   {
    "duration": 73256,
    "start_time": "2023-08-29T18:39:00.914Z"
   },
   {
    "duration": 19,
    "start_time": "2023-08-29T18:42:49.913Z"
   },
   {
    "duration": 13,
    "start_time": "2023-08-29T18:44:04.841Z"
   },
   {
    "duration": 85,
    "start_time": "2023-08-29T18:44:26.614Z"
   },
   {
    "duration": 1111,
    "start_time": "2023-08-29T18:47:45.296Z"
   },
   {
    "duration": 1186,
    "start_time": "2023-08-29T18:47:50.576Z"
   },
   {
    "duration": 1118,
    "start_time": "2023-08-29T18:51:04.007Z"
   },
   {
    "duration": 1158,
    "start_time": "2023-08-29T18:51:14.567Z"
   },
   {
    "duration": 1381,
    "start_time": "2023-08-29T18:51:21.077Z"
   },
   {
    "duration": 1329,
    "start_time": "2023-08-29T18:51:40.816Z"
   },
   {
    "duration": 2925,
    "start_time": "2023-08-29T18:54:04.000Z"
   },
   {
    "duration": 1310,
    "start_time": "2023-08-29T18:55:55.897Z"
   },
   {
    "duration": 1715,
    "start_time": "2023-08-29T18:56:23.320Z"
   },
   {
    "duration": 1307,
    "start_time": "2023-08-29T18:56:31.788Z"
   },
   {
    "duration": 1769,
    "start_time": "2023-08-29T18:56:44.706Z"
   },
   {
    "duration": 2472,
    "start_time": "2023-08-29T18:57:29.965Z"
   },
   {
    "duration": 8,
    "start_time": "2023-08-29T19:08:13.098Z"
   },
   {
    "duration": 3167,
    "start_time": "2023-08-29T19:09:34.818Z"
   },
   {
    "duration": 2956,
    "start_time": "2023-08-29T19:10:00.548Z"
   },
   {
    "duration": 73,
    "start_time": "2023-08-29T19:10:47.258Z"
   },
   {
    "duration": 158,
    "start_time": "2023-08-29T19:10:55.373Z"
   },
   {
    "duration": 650,
    "start_time": "2023-08-29T19:12:52.262Z"
   },
   {
    "duration": 12301,
    "start_time": "2023-08-29T19:13:29.970Z"
   },
   {
    "duration": 580,
    "start_time": "2023-08-29T19:18:18.092Z"
   },
   {
    "duration": 126,
    "start_time": "2023-08-29T19:27:51.040Z"
   },
   {
    "duration": 431,
    "start_time": "2023-08-29T19:31:51.609Z"
   },
   {
    "duration": 89,
    "start_time": "2023-08-29T19:32:10.881Z"
   },
   {
    "duration": 534,
    "start_time": "2023-08-29T19:32:21.275Z"
   },
   {
    "duration": 504,
    "start_time": "2023-08-29T19:32:43.909Z"
   },
   {
    "duration": 10,
    "start_time": "2023-08-29T19:33:54.345Z"
   },
   {
    "duration": 16,
    "start_time": "2023-08-29T19:34:59.401Z"
   },
   {
    "duration": 5,
    "start_time": "2023-08-29T19:35:44.245Z"
   },
   {
    "duration": 538,
    "start_time": "2023-08-29T19:35:56.287Z"
   },
   {
    "duration": 17,
    "start_time": "2023-08-29T19:35:59.508Z"
   },
   {
    "duration": 17,
    "start_time": "2023-08-29T19:36:56.718Z"
   },
   {
    "duration": 113,
    "start_time": "2023-08-29T19:38:13.616Z"
   },
   {
    "duration": 14,
    "start_time": "2023-08-29T19:38:26.075Z"
   },
   {
    "duration": 9,
    "start_time": "2023-08-29T19:38:40.729Z"
   },
   {
    "duration": 104,
    "start_time": "2023-08-29T19:38:43.930Z"
   },
   {
    "duration": 2876,
    "start_time": "2023-08-29T19:39:13.812Z"
   },
   {
    "duration": 10325,
    "start_time": "2023-08-29T19:40:00.278Z"
   },
   {
    "duration": 1955,
    "start_time": "2023-08-29T19:43:10.097Z"
   },
   {
    "duration": 9259,
    "start_time": "2023-08-29T19:43:18.435Z"
   },
   {
    "duration": 9019,
    "start_time": "2023-08-29T19:46:36.195Z"
   },
   {
    "duration": 451,
    "start_time": "2023-08-29T19:46:59.307Z"
   },
   {
    "duration": 456,
    "start_time": "2023-08-29T19:48:00.645Z"
   },
   {
    "duration": 9804,
    "start_time": "2023-08-29T19:48:13.627Z"
   },
   {
    "duration": 1932,
    "start_time": "2023-08-29T19:49:08.372Z"
   },
   {
    "duration": 9144,
    "start_time": "2023-08-29T19:49:18.934Z"
   },
   {
    "duration": 12903,
    "start_time": "2023-08-29T19:50:28.878Z"
   },
   {
    "duration": 6,
    "start_time": "2023-08-29T19:52:14.302Z"
   },
   {
    "duration": 37,
    "start_time": "2023-08-29T19:52:51.506Z"
   },
   {
    "duration": 10,
    "start_time": "2023-08-29T19:52:54.549Z"
   },
   {
    "duration": 35,
    "start_time": "2023-08-29T19:58:17.101Z"
   },
   {
    "duration": 4416,
    "start_time": "2023-08-29T19:58:30.807Z"
   },
   {
    "duration": 6,
    "start_time": "2023-08-29T19:58:35.226Z"
   },
   {
    "duration": 1037,
    "start_time": "2023-08-29T19:58:35.234Z"
   },
   {
    "duration": 37,
    "start_time": "2023-08-29T19:58:36.273Z"
   },
   {
    "duration": 166,
    "start_time": "2023-08-29T19:58:36.316Z"
   },
   {
    "duration": 96,
    "start_time": "2023-08-29T19:58:36.494Z"
   },
   {
    "duration": 29,
    "start_time": "2023-08-29T19:58:36.594Z"
   },
   {
    "duration": 211,
    "start_time": "2023-08-29T19:58:36.626Z"
   },
   {
    "duration": 18,
    "start_time": "2023-08-29T19:58:36.842Z"
   },
   {
    "duration": 112,
    "start_time": "2023-08-29T19:58:36.862Z"
   },
   {
    "duration": 32,
    "start_time": "2023-08-29T19:58:36.977Z"
   },
   {
    "duration": 6,
    "start_time": "2023-08-29T19:58:37.010Z"
   },
   {
    "duration": 54,
    "start_time": "2023-08-29T19:58:37.018Z"
   },
   {
    "duration": 188,
    "start_time": "2023-08-29T19:58:37.079Z"
   },
   {
    "duration": 16,
    "start_time": "2023-08-29T19:58:37.269Z"
   },
   {
    "duration": 75,
    "start_time": "2023-08-29T19:58:37.287Z"
   },
   {
    "duration": 166,
    "start_time": "2023-08-29T19:58:37.364Z"
   },
   {
    "duration": 188,
    "start_time": "2023-08-29T19:58:37.532Z"
   },
   {
    "duration": 3,
    "start_time": "2023-08-29T19:58:37.722Z"
   },
   {
    "duration": 804,
    "start_time": "2023-08-29T19:58:37.727Z"
   },
   {
    "duration": 800,
    "start_time": "2023-08-29T19:58:38.533Z"
   },
   {
    "duration": 814,
    "start_time": "2023-08-29T19:58:39.335Z"
   },
   {
    "duration": 1145,
    "start_time": "2023-08-29T19:58:40.151Z"
   },
   {
    "duration": 1145,
    "start_time": "2023-08-29T19:58:41.300Z"
   },
   {
    "duration": 130,
    "start_time": "2023-08-29T19:58:42.448Z"
   },
   {
    "duration": 157,
    "start_time": "2023-08-29T19:58:42.580Z"
   },
   {
    "duration": 19,
    "start_time": "2023-08-29T19:58:42.739Z"
   },
   {
    "duration": 99,
    "start_time": "2023-08-29T19:58:42.761Z"
   },
   {
    "duration": 4,
    "start_time": "2023-08-29T19:58:42.862Z"
   },
   {
    "duration": 732,
    "start_time": "2023-08-29T19:58:42.868Z"
   },
   {
    "duration": 1599,
    "start_time": "2023-08-29T19:58:43.607Z"
   },
   {
    "duration": 1083,
    "start_time": "2023-08-29T19:58:45.208Z"
   },
   {
    "duration": 644,
    "start_time": "2023-08-29T19:58:46.293Z"
   },
   {
    "duration": 112,
    "start_time": "2023-08-29T19:58:46.939Z"
   },
   {
    "duration": 80,
    "start_time": "2023-08-29T19:58:47.053Z"
   },
   {
    "duration": 20,
    "start_time": "2023-08-29T19:58:47.135Z"
   },
   {
    "duration": 5,
    "start_time": "2023-08-29T19:58:47.157Z"
   },
   {
    "duration": 462,
    "start_time": "2023-08-29T19:58:47.192Z"
   },
   {
    "duration": 688,
    "start_time": "2023-08-29T19:58:47.655Z"
   },
   {
    "duration": 376,
    "start_time": "2023-08-29T19:58:48.345Z"
   },
   {
    "duration": 3,
    "start_time": "2023-08-29T19:58:48.728Z"
   },
   {
    "duration": 67,
    "start_time": "2023-08-29T19:58:48.732Z"
   },
   {
    "duration": 55,
    "start_time": "2023-08-29T19:58:48.800Z"
   },
   {
    "duration": 4,
    "start_time": "2023-08-29T19:58:48.857Z"
   },
   {
    "duration": 23,
    "start_time": "2023-08-29T19:58:48.862Z"
   },
   {
    "duration": 53,
    "start_time": "2023-08-29T19:58:48.887Z"
   },
   {
    "duration": 951,
    "start_time": "2023-08-29T19:59:12.314Z"
   },
   {
    "duration": 2733,
    "start_time": "2023-08-29T19:59:26.507Z"
   },
   {
    "duration": 1453,
    "start_time": "2023-08-29T19:59:29.243Z"
   },
   {
    "duration": 1048,
    "start_time": "2023-08-29T19:59:30.704Z"
   },
   {
    "duration": 41,
    "start_time": "2023-08-29T19:59:31.754Z"
   },
   {
    "duration": 191,
    "start_time": "2023-08-29T19:59:31.802Z"
   },
   {
    "duration": 123,
    "start_time": "2023-08-29T19:59:32.004Z"
   },
   {
    "duration": 16,
    "start_time": "2023-08-29T19:59:32.128Z"
   },
   {
    "duration": 286,
    "start_time": "2023-08-29T19:59:32.146Z"
   },
   {
    "duration": 14,
    "start_time": "2023-08-29T19:59:32.434Z"
   },
   {
    "duration": 122,
    "start_time": "2023-08-29T19:59:32.449Z"
   },
   {
    "duration": 21,
    "start_time": "2023-08-29T19:59:32.573Z"
   },
   {
    "duration": 22,
    "start_time": "2023-08-29T19:59:32.596Z"
   },
   {
    "duration": 55,
    "start_time": "2023-08-29T19:59:32.621Z"
   },
   {
    "duration": 167,
    "start_time": "2023-08-29T19:59:32.680Z"
   },
   {
    "duration": 6,
    "start_time": "2023-08-29T19:59:32.849Z"
   },
   {
    "duration": 92,
    "start_time": "2023-08-29T19:59:32.856Z"
   },
   {
    "duration": 162,
    "start_time": "2023-08-29T19:59:32.950Z"
   },
   {
    "duration": 211,
    "start_time": "2023-08-29T19:59:33.113Z"
   },
   {
    "duration": 4,
    "start_time": "2023-08-29T19:59:33.326Z"
   },
   {
    "duration": 826,
    "start_time": "2023-08-29T19:59:33.331Z"
   },
   {
    "duration": 881,
    "start_time": "2023-08-29T19:59:34.159Z"
   },
   {
    "duration": 981,
    "start_time": "2023-08-29T19:59:35.043Z"
   },
   {
    "duration": 1659,
    "start_time": "2023-08-29T19:59:36.026Z"
   },
   {
    "duration": 1176,
    "start_time": "2023-08-29T19:59:37.688Z"
   },
   {
    "duration": 125,
    "start_time": "2023-08-29T19:59:38.866Z"
   },
   {
    "duration": 145,
    "start_time": "2023-08-29T19:59:38.994Z"
   },
   {
    "duration": 19,
    "start_time": "2023-08-29T19:59:39.141Z"
   },
   {
    "duration": 100,
    "start_time": "2023-08-29T19:59:39.161Z"
   },
   {
    "duration": 14,
    "start_time": "2023-08-29T19:59:39.263Z"
   },
   {
    "duration": 659,
    "start_time": "2023-08-29T19:59:39.279Z"
   },
   {
    "duration": 623,
    "start_time": "2023-08-29T19:59:39.940Z"
   },
   {
    "duration": 569,
    "start_time": "2023-08-29T19:59:40.565Z"
   },
   {
    "duration": 607,
    "start_time": "2023-08-29T19:59:41.136Z"
   },
   {
    "duration": 97,
    "start_time": "2023-08-29T19:59:41.745Z"
   },
   {
    "duration": 83,
    "start_time": "2023-08-29T19:59:41.844Z"
   },
   {
    "duration": 19,
    "start_time": "2023-08-29T19:59:41.929Z"
   },
   {
    "duration": 9,
    "start_time": "2023-08-29T19:59:41.951Z"
   },
   {
    "duration": 460,
    "start_time": "2023-08-29T19:59:41.962Z"
   },
   {
    "duration": 302,
    "start_time": "2023-08-29T19:59:42.424Z"
   },
   {
    "duration": 459,
    "start_time": "2023-08-29T19:59:42.728Z"
   },
   {
    "duration": 13,
    "start_time": "2023-08-29T19:59:43.193Z"
   },
   {
    "duration": 42,
    "start_time": "2023-08-29T19:59:43.208Z"
   },
   {
    "duration": 58,
    "start_time": "2023-08-29T19:59:43.252Z"
   },
   {
    "duration": 4,
    "start_time": "2023-08-29T19:59:43.319Z"
   },
   {
    "duration": 9,
    "start_time": "2023-08-29T19:59:43.325Z"
   },
   {
    "duration": 47263,
    "start_time": "2023-08-29T19:59:50.407Z"
   },
   {
    "duration": 24,
    "start_time": "2023-08-29T20:01:23.884Z"
   },
   {
    "duration": 20,
    "start_time": "2023-08-29T20:01:35.199Z"
   },
   {
    "duration": 16,
    "start_time": "2023-08-29T20:01:39.718Z"
   },
   {
    "duration": 18,
    "start_time": "2023-08-29T20:01:45.770Z"
   },
   {
    "duration": 16,
    "start_time": "2023-08-29T20:01:49.115Z"
   },
   {
    "duration": 199,
    "start_time": "2023-08-29T20:01:51.615Z"
   },
   {
    "duration": 350,
    "start_time": "2023-08-29T20:02:10.917Z"
   },
   {
    "duration": 20,
    "start_time": "2023-08-29T20:02:57.055Z"
   },
   {
    "duration": 565,
    "start_time": "2023-08-29T20:03:33.501Z"
   },
   {
    "duration": 190,
    "start_time": "2023-08-29T20:05:43.520Z"
   },
   {
    "duration": 220,
    "start_time": "2023-08-29T20:05:44.810Z"
   },
   {
    "duration": 279,
    "start_time": "2023-08-29T20:06:16.723Z"
   },
   {
    "duration": 1465,
    "start_time": "2023-08-29T20:09:37.207Z"
   },
   {
    "duration": 1020,
    "start_time": "2023-08-29T20:09:38.675Z"
   },
   {
    "duration": 33,
    "start_time": "2023-08-29T20:09:39.696Z"
   },
   {
    "duration": 164,
    "start_time": "2023-08-29T20:09:39.731Z"
   },
   {
    "duration": 153,
    "start_time": "2023-08-29T20:09:39.897Z"
   },
   {
    "duration": 18,
    "start_time": "2023-08-29T20:09:40.051Z"
   },
   {
    "duration": 237,
    "start_time": "2023-08-29T20:09:40.071Z"
   },
   {
    "duration": 14,
    "start_time": "2023-08-29T20:09:40.312Z"
   },
   {
    "duration": 103,
    "start_time": "2023-08-29T20:09:40.327Z"
   },
   {
    "duration": 15,
    "start_time": "2023-08-29T20:09:40.433Z"
   },
   {
    "duration": 7,
    "start_time": "2023-08-29T20:09:40.450Z"
   },
   {
    "duration": 100,
    "start_time": "2023-08-29T20:09:40.458Z"
   },
   {
    "duration": 162,
    "start_time": "2023-08-29T20:09:40.560Z"
   },
   {
    "duration": 5,
    "start_time": "2023-08-29T20:09:40.724Z"
   },
   {
    "duration": 91,
    "start_time": "2023-08-29T20:09:40.731Z"
   },
   {
    "duration": 185,
    "start_time": "2023-08-29T20:09:40.824Z"
   },
   {
    "duration": 213,
    "start_time": "2023-08-29T20:09:41.011Z"
   },
   {
    "duration": 5,
    "start_time": "2023-08-29T20:09:41.226Z"
   },
   {
    "duration": 826,
    "start_time": "2023-08-29T20:09:41.233Z"
   },
   {
    "duration": 835,
    "start_time": "2023-08-29T20:09:42.061Z"
   },
   {
    "duration": 873,
    "start_time": "2023-08-29T20:09:42.898Z"
   },
   {
    "duration": 1129,
    "start_time": "2023-08-29T20:09:43.773Z"
   },
   {
    "duration": 1122,
    "start_time": "2023-08-29T20:09:44.904Z"
   },
   {
    "duration": 120,
    "start_time": "2023-08-29T20:09:46.027Z"
   },
   {
    "duration": 145,
    "start_time": "2023-08-29T20:09:46.149Z"
   },
   {
    "duration": 28,
    "start_time": "2023-08-29T20:09:46.296Z"
   },
   {
    "duration": 78,
    "start_time": "2023-08-29T20:09:46.325Z"
   },
   {
    "duration": 5,
    "start_time": "2023-08-29T20:09:46.411Z"
   },
   {
    "duration": 594,
    "start_time": "2023-08-29T20:09:46.418Z"
   },
   {
    "duration": 584,
    "start_time": "2023-08-29T20:09:47.014Z"
   },
   {
    "duration": 684,
    "start_time": "2023-08-29T20:09:47.606Z"
   },
   {
    "duration": 544,
    "start_time": "2023-08-29T20:09:48.292Z"
   },
   {
    "duration": 92,
    "start_time": "2023-08-29T20:09:48.838Z"
   },
   {
    "duration": 86,
    "start_time": "2023-08-29T20:09:48.932Z"
   },
   {
    "duration": 19,
    "start_time": "2023-08-29T20:09:49.020Z"
   },
   {
    "duration": 3,
    "start_time": "2023-08-29T20:09:49.041Z"
   },
   {
    "duration": 414,
    "start_time": "2023-08-29T20:09:49.046Z"
   },
   {
    "duration": 293,
    "start_time": "2023-08-29T20:09:49.461Z"
   },
   {
    "duration": 475,
    "start_time": "2023-08-29T20:09:49.755Z"
   },
   {
    "duration": 2,
    "start_time": "2023-08-29T20:09:50.232Z"
   },
   {
    "duration": 26,
    "start_time": "2023-08-29T20:09:50.237Z"
   },
   {
    "duration": 72,
    "start_time": "2023-08-29T20:09:50.265Z"
   },
   {
    "duration": 4,
    "start_time": "2023-08-29T20:09:50.339Z"
   },
   {
    "duration": 12,
    "start_time": "2023-08-29T20:09:50.345Z"
   },
   {
    "duration": 45851,
    "start_time": "2023-08-29T20:09:50.359Z"
   },
   {
    "duration": 0,
    "start_time": "2023-08-29T20:10:36.212Z"
   },
   {
    "duration": 0,
    "start_time": "2023-08-29T20:10:36.213Z"
   },
   {
    "duration": 0,
    "start_time": "2023-08-29T20:10:36.216Z"
   },
   {
    "duration": 0,
    "start_time": "2023-08-29T20:10:36.218Z"
   },
   {
    "duration": 0,
    "start_time": "2023-08-29T20:10:36.219Z"
   },
   {
    "duration": 0,
    "start_time": "2023-08-29T20:10:36.221Z"
   },
   {
    "duration": 0,
    "start_time": "2023-08-29T20:10:36.222Z"
   },
   {
    "duration": 0,
    "start_time": "2023-08-29T20:10:36.224Z"
   },
   {
    "duration": 0,
    "start_time": "2023-08-29T20:10:36.225Z"
   },
   {
    "duration": 0,
    "start_time": "2023-08-29T20:10:36.226Z"
   },
   {
    "duration": 0,
    "start_time": "2023-08-29T20:10:36.227Z"
   },
   {
    "duration": 0,
    "start_time": "2023-08-29T20:10:36.228Z"
   },
   {
    "duration": 0,
    "start_time": "2023-08-29T20:10:36.229Z"
   },
   {
    "duration": 0,
    "start_time": "2023-08-29T20:10:36.230Z"
   },
   {
    "duration": 0,
    "start_time": "2023-08-29T20:10:36.232Z"
   },
   {
    "duration": 0,
    "start_time": "2023-08-29T20:10:36.233Z"
   },
   {
    "duration": 12,
    "start_time": "2023-08-29T20:11:47.265Z"
   },
   {
    "duration": 20,
    "start_time": "2023-08-29T20:11:50.521Z"
   },
   {
    "duration": 303,
    "start_time": "2023-08-29T20:12:10.819Z"
   },
   {
    "duration": 1573,
    "start_time": "2023-08-29T20:12:25.628Z"
   },
   {
    "duration": 1185,
    "start_time": "2023-08-29T20:12:27.203Z"
   },
   {
    "duration": 44,
    "start_time": "2023-08-29T20:12:28.390Z"
   },
   {
    "duration": 193,
    "start_time": "2023-08-29T20:12:28.437Z"
   },
   {
    "duration": 125,
    "start_time": "2023-08-29T20:12:28.632Z"
   },
   {
    "duration": 16,
    "start_time": "2023-08-29T20:12:28.759Z"
   },
   {
    "duration": 232,
    "start_time": "2023-08-29T20:12:28.777Z"
   },
   {
    "duration": 20,
    "start_time": "2023-08-29T20:12:29.014Z"
   },
   {
    "duration": 122,
    "start_time": "2023-08-29T20:12:29.036Z"
   },
   {
    "duration": 14,
    "start_time": "2023-08-29T20:12:29.161Z"
   },
   {
    "duration": 16,
    "start_time": "2023-08-29T20:12:29.177Z"
   },
   {
    "duration": 62,
    "start_time": "2023-08-29T20:12:29.197Z"
   },
   {
    "duration": 184,
    "start_time": "2023-08-29T20:12:29.261Z"
   },
   {
    "duration": 8,
    "start_time": "2023-08-29T20:12:29.447Z"
   },
   {
    "duration": 100,
    "start_time": "2023-08-29T20:12:29.457Z"
   },
   {
    "duration": 191,
    "start_time": "2023-08-29T20:12:29.559Z"
   },
   {
    "duration": 200,
    "start_time": "2023-08-29T20:12:29.751Z"
   },
   {
    "duration": 5,
    "start_time": "2023-08-29T20:12:29.952Z"
   },
   {
    "duration": 910,
    "start_time": "2023-08-29T20:12:29.958Z"
   },
   {
    "duration": 891,
    "start_time": "2023-08-29T20:12:30.869Z"
   },
   {
    "duration": 960,
    "start_time": "2023-08-29T20:12:31.761Z"
   },
   {
    "duration": 1206,
    "start_time": "2023-08-29T20:12:32.723Z"
   },
   {
    "duration": 1199,
    "start_time": "2023-08-29T20:12:33.931Z"
   },
   {
    "duration": 120,
    "start_time": "2023-08-29T20:12:35.132Z"
   },
   {
    "duration": 154,
    "start_time": "2023-08-29T20:12:35.254Z"
   },
   {
    "duration": 21,
    "start_time": "2023-08-29T20:12:35.411Z"
   },
   {
    "duration": 95,
    "start_time": "2023-08-29T20:12:35.434Z"
   },
   {
    "duration": 33,
    "start_time": "2023-08-29T20:12:35.533Z"
   },
   {
    "duration": 624,
    "start_time": "2023-08-29T20:12:35.569Z"
   },
   {
    "duration": 667,
    "start_time": "2023-08-29T20:12:36.196Z"
   },
   {
    "duration": 691,
    "start_time": "2023-08-29T20:12:36.865Z"
   },
   {
    "duration": 611,
    "start_time": "2023-08-29T20:12:37.558Z"
   },
   {
    "duration": 94,
    "start_time": "2023-08-29T20:12:38.171Z"
   },
   {
    "duration": 76,
    "start_time": "2023-08-29T20:12:38.267Z"
   },
   {
    "duration": 38,
    "start_time": "2023-08-29T20:12:38.345Z"
   },
   {
    "duration": 4,
    "start_time": "2023-08-29T20:12:38.385Z"
   },
   {
    "duration": 436,
    "start_time": "2023-08-29T20:12:38.396Z"
   },
   {
    "duration": 305,
    "start_time": "2023-08-29T20:12:38.835Z"
   },
   {
    "duration": 460,
    "start_time": "2023-08-29T20:12:39.142Z"
   },
   {
    "duration": 3,
    "start_time": "2023-08-29T20:12:39.604Z"
   },
   {
    "duration": 32,
    "start_time": "2023-08-29T20:12:39.609Z"
   },
   {
    "duration": 59,
    "start_time": "2023-08-29T20:12:39.643Z"
   },
   {
    "duration": 7,
    "start_time": "2023-08-29T20:12:39.704Z"
   },
   {
    "duration": 7,
    "start_time": "2023-08-29T20:12:39.713Z"
   },
   {
    "duration": 59533,
    "start_time": "2023-08-29T20:12:39.722Z"
   },
   {
    "duration": 143,
    "start_time": "2023-08-29T20:13:39.256Z"
   },
   {
    "duration": 0,
    "start_time": "2023-08-29T20:13:39.401Z"
   },
   {
    "duration": 0,
    "start_time": "2023-08-29T20:13:39.403Z"
   },
   {
    "duration": 0,
    "start_time": "2023-08-29T20:13:39.404Z"
   },
   {
    "duration": 0,
    "start_time": "2023-08-29T20:13:39.406Z"
   },
   {
    "duration": 0,
    "start_time": "2023-08-29T20:13:39.408Z"
   },
   {
    "duration": 0,
    "start_time": "2023-08-29T20:13:39.409Z"
   },
   {
    "duration": 0,
    "start_time": "2023-08-29T20:13:39.410Z"
   },
   {
    "duration": 0,
    "start_time": "2023-08-29T20:13:39.411Z"
   },
   {
    "duration": 0,
    "start_time": "2023-08-29T20:13:39.413Z"
   },
   {
    "duration": 0,
    "start_time": "2023-08-29T20:13:39.414Z"
   },
   {
    "duration": 0,
    "start_time": "2023-08-29T20:13:39.416Z"
   },
   {
    "duration": 0,
    "start_time": "2023-08-29T20:13:39.417Z"
   },
   {
    "duration": 0,
    "start_time": "2023-08-29T20:13:39.418Z"
   },
   {
    "duration": 0,
    "start_time": "2023-08-29T20:13:39.419Z"
   },
   {
    "duration": 0,
    "start_time": "2023-08-29T20:13:39.420Z"
   },
   {
    "duration": 97538,
    "start_time": "2023-08-29T20:14:03.276Z"
   },
   {
    "duration": 133,
    "start_time": "2023-08-29T20:15:40.817Z"
   },
   {
    "duration": 109,
    "start_time": "2023-08-29T20:15:40.953Z"
   },
   {
    "duration": 755,
    "start_time": "2023-08-29T20:15:41.065Z"
   },
   {
    "duration": 29616,
    "start_time": "2023-08-29T20:15:41.822Z"
   },
   {
    "duration": 399,
    "start_time": "2023-08-29T20:16:11.440Z"
   },
   {
    "duration": 26,
    "start_time": "2023-08-29T20:16:11.841Z"
   },
   {
    "duration": 39,
    "start_time": "2023-08-29T20:16:11.881Z"
   },
   {
    "duration": 57,
    "start_time": "2023-08-29T20:18:03.514Z"
   },
   {
    "duration": 1642,
    "start_time": "2023-08-29T20:18:08.573Z"
   },
   {
    "duration": 1705,
    "start_time": "2023-08-29T20:18:10.217Z"
   },
   {
    "duration": 208,
    "start_time": "2023-08-29T20:18:16.323Z"
   },
   {
    "duration": 9,
    "start_time": "2023-08-29T20:18:30.008Z"
   },
   {
    "duration": 1279,
    "start_time": "2023-08-29T20:18:30.019Z"
   },
   {
    "duration": 37,
    "start_time": "2023-08-29T20:18:31.304Z"
   },
   {
    "duration": 198,
    "start_time": "2023-08-29T20:18:31.343Z"
   },
   {
    "duration": 125,
    "start_time": "2023-08-29T20:18:31.544Z"
   },
   {
    "duration": 25,
    "start_time": "2023-08-29T20:18:31.671Z"
   },
   {
    "duration": 254,
    "start_time": "2023-08-29T20:18:31.698Z"
   },
   {
    "duration": 15,
    "start_time": "2023-08-29T20:18:31.954Z"
   },
   {
    "duration": 131,
    "start_time": "2023-08-29T20:18:31.970Z"
   },
   {
    "duration": 19,
    "start_time": "2023-08-29T20:18:32.104Z"
   },
   {
    "duration": 11,
    "start_time": "2023-08-29T20:18:32.125Z"
   },
   {
    "duration": 82,
    "start_time": "2023-08-29T20:18:32.138Z"
   },
   {
    "duration": 204,
    "start_time": "2023-08-29T20:18:32.224Z"
   },
   {
    "duration": 7,
    "start_time": "2023-08-29T20:18:32.435Z"
   },
   {
    "duration": 105,
    "start_time": "2023-08-29T20:18:32.444Z"
   },
   {
    "duration": 190,
    "start_time": "2023-08-29T20:18:32.551Z"
   },
   {
    "duration": 197,
    "start_time": "2023-08-29T20:18:32.743Z"
   },
   {
    "duration": 4,
    "start_time": "2023-08-29T20:18:32.943Z"
   },
   {
    "duration": 895,
    "start_time": "2023-08-29T20:18:32.948Z"
   },
   {
    "duration": 982,
    "start_time": "2023-08-29T20:18:33.846Z"
   },
   {
    "duration": 1008,
    "start_time": "2023-08-29T20:18:34.832Z"
   },
   {
    "duration": 1332,
    "start_time": "2023-08-29T20:18:35.842Z"
   },
   {
    "duration": 1269,
    "start_time": "2023-08-29T20:18:37.177Z"
   },
   {
    "duration": 137,
    "start_time": "2023-08-29T20:18:38.449Z"
   },
   {
    "duration": 170,
    "start_time": "2023-08-29T20:18:38.589Z"
   },
   {
    "duration": 26,
    "start_time": "2023-08-29T20:18:38.761Z"
   },
   {
    "duration": 81,
    "start_time": "2023-08-29T20:18:38.789Z"
   },
   {
    "duration": 4,
    "start_time": "2023-08-29T20:18:38.882Z"
   },
   {
    "duration": 669,
    "start_time": "2023-08-29T20:18:38.888Z"
   },
   {
    "duration": 642,
    "start_time": "2023-08-29T20:18:39.558Z"
   },
   {
    "duration": 590,
    "start_time": "2023-08-29T20:18:40.203Z"
   },
   {
    "duration": 577,
    "start_time": "2023-08-29T20:18:40.796Z"
   },
   {
    "duration": 83,
    "start_time": "2023-08-29T20:18:41.375Z"
   },
   {
    "duration": 88,
    "start_time": "2023-08-29T20:18:41.460Z"
   },
   {
    "duration": 34,
    "start_time": "2023-08-29T20:18:41.550Z"
   },
   {
    "duration": 5,
    "start_time": "2023-08-29T20:18:41.586Z"
   },
   {
    "duration": 430,
    "start_time": "2023-08-29T20:18:41.593Z"
   },
   {
    "duration": 350,
    "start_time": "2023-08-29T20:18:42.025Z"
   },
   {
    "duration": 506,
    "start_time": "2023-08-29T20:18:42.377Z"
   },
   {
    "duration": 5,
    "start_time": "2023-08-29T20:18:42.887Z"
   },
   {
    "duration": 128,
    "start_time": "2023-08-29T20:18:42.897Z"
   },
   {
    "duration": 65,
    "start_time": "2023-08-29T20:18:45.779Z"
   },
   {
    "duration": 89,
    "start_time": "2023-08-29T20:18:50.268Z"
   },
   {
    "duration": 246,
    "start_time": "2023-08-29T20:20:35.473Z"
   },
   {
    "duration": 8,
    "start_time": "2023-08-29T20:21:23.714Z"
   },
   {
    "duration": 52896,
    "start_time": "2023-08-29T20:21:24.864Z"
   },
   {
    "duration": 31968,
    "start_time": "2023-08-29T20:22:17.761Z"
   },
   {
    "duration": 196,
    "start_time": "2023-08-29T20:22:49.891Z"
   },
   {
    "duration": 68,
    "start_time": "2023-08-29T20:23:34.327Z"
   },
   {
    "duration": 13,
    "start_time": "2023-08-29T20:23:44.645Z"
   },
   {
    "duration": 4,
    "start_time": "2023-08-29T20:23:48.479Z"
   },
   {
    "duration": 105146,
    "start_time": "2023-08-29T20:23:55.780Z"
   },
   {
    "duration": 118,
    "start_time": "2023-08-29T20:28:04.305Z"
   },
   {
    "duration": 161017,
    "start_time": "2023-08-29T20:29:04.518Z"
   },
   {
    "duration": 11,
    "start_time": "2023-08-29T20:32:06.173Z"
   },
   {
    "duration": 6,
    "start_time": "2023-08-29T20:32:32.869Z"
   },
   {
    "duration": 11,
    "start_time": "2023-08-29T20:32:38.231Z"
   },
   {
    "duration": 120673,
    "start_time": "2023-08-29T20:32:45.926Z"
   },
   {
    "duration": 117495,
    "start_time": "2023-08-29T20:39:07.717Z"
   },
   {
    "duration": 129759,
    "start_time": "2023-08-29T20:43:48.638Z"
   },
   {
    "duration": 164057,
    "start_time": "2023-08-29T20:46:46.567Z"
   },
   {
    "duration": 274,
    "start_time": "2023-08-29T20:49:30.627Z"
   },
   {
    "duration": 10,
    "start_time": "2023-08-29T20:53:09.624Z"
   },
   {
    "duration": 188,
    "start_time": "2023-08-29T20:58:34.339Z"
   },
   {
    "duration": 217,
    "start_time": "2023-08-29T20:58:38.531Z"
   },
   {
    "duration": 202,
    "start_time": "2023-08-29T21:00:14.760Z"
   },
   {
    "duration": 219,
    "start_time": "2023-08-29T21:00:33.656Z"
   },
   {
    "duration": 219,
    "start_time": "2023-08-29T21:00:43.526Z"
   },
   {
    "duration": 222,
    "start_time": "2023-08-29T21:01:47.266Z"
   },
   {
    "duration": 236,
    "start_time": "2023-08-29T21:02:28.370Z"
   },
   {
    "duration": 228,
    "start_time": "2023-08-29T21:03:57.680Z"
   },
   {
    "duration": 215,
    "start_time": "2023-08-29T21:04:47.423Z"
   },
   {
    "duration": 199,
    "start_time": "2023-08-29T21:06:19.076Z"
   },
   {
    "duration": 239106,
    "start_time": "2023-08-29T21:06:21.024Z"
   },
   {
    "duration": 229,
    "start_time": "2023-08-29T21:10:20.132Z"
   },
   {
    "duration": 4,
    "start_time": "2023-08-29T21:10:25.656Z"
   },
   {
    "duration": 8,
    "start_time": "2023-08-29T21:10:26.970Z"
   },
   {
    "duration": 209,
    "start_time": "2023-08-29T21:12:40.719Z"
   },
   {
    "duration": 6,
    "start_time": "2023-08-29T21:12:42.542Z"
   },
   {
    "duration": 7,
    "start_time": "2023-08-29T21:12:44.240Z"
   },
   {
    "duration": 211,
    "start_time": "2023-08-29T21:15:14.906Z"
   },
   {
    "duration": 4,
    "start_time": "2023-08-29T21:15:16.362Z"
   },
   {
    "duration": 5,
    "start_time": "2023-08-29T21:15:16.969Z"
   },
   {
    "duration": 4,
    "start_time": "2023-08-29T21:17:05.972Z"
   },
   {
    "duration": 1603,
    "start_time": "2023-08-29T21:20:59.470Z"
   },
   {
    "duration": 1066,
    "start_time": "2023-08-29T21:21:01.076Z"
   },
   {
    "duration": 24,
    "start_time": "2023-08-29T21:21:02.144Z"
   },
   {
    "duration": 190,
    "start_time": "2023-08-29T21:21:02.182Z"
   },
   {
    "duration": 182,
    "start_time": "2023-08-29T21:21:02.374Z"
   },
   {
    "duration": 19,
    "start_time": "2023-08-29T21:21:02.558Z"
   },
   {
    "duration": 247,
    "start_time": "2023-08-29T21:21:02.579Z"
   },
   {
    "duration": 14,
    "start_time": "2023-08-29T21:21:02.828Z"
   },
   {
    "duration": 109,
    "start_time": "2023-08-29T21:21:02.844Z"
   },
   {
    "duration": 13,
    "start_time": "2023-08-29T21:21:02.955Z"
   },
   {
    "duration": 39,
    "start_time": "2023-08-29T21:21:02.969Z"
   },
   {
    "duration": 67,
    "start_time": "2023-08-29T21:21:03.010Z"
   },
   {
    "duration": 175,
    "start_time": "2023-08-29T21:21:03.079Z"
   },
   {
    "duration": 6,
    "start_time": "2023-08-29T21:21:03.257Z"
   },
   {
    "duration": 83,
    "start_time": "2023-08-29T21:21:03.265Z"
   },
   {
    "duration": 179,
    "start_time": "2023-08-29T21:21:03.350Z"
   },
   {
    "duration": 187,
    "start_time": "2023-08-29T21:21:03.531Z"
   },
   {
    "duration": 4,
    "start_time": "2023-08-29T21:21:03.723Z"
   },
   {
    "duration": 837,
    "start_time": "2023-08-29T21:21:03.729Z"
   },
   {
    "duration": 855,
    "start_time": "2023-08-29T21:21:04.567Z"
   },
   {
    "duration": 902,
    "start_time": "2023-08-29T21:21:05.424Z"
   },
   {
    "duration": 1237,
    "start_time": "2023-08-29T21:21:06.330Z"
   },
   {
    "duration": 1170,
    "start_time": "2023-08-29T21:21:07.569Z"
   },
   {
    "duration": 121,
    "start_time": "2023-08-29T21:21:08.741Z"
   },
   {
    "duration": 157,
    "start_time": "2023-08-29T21:21:08.864Z"
   },
   {
    "duration": 19,
    "start_time": "2023-08-29T21:21:09.023Z"
   },
   {
    "duration": 87,
    "start_time": "2023-08-29T21:21:09.044Z"
   },
   {
    "duration": 6,
    "start_time": "2023-08-29T21:21:09.133Z"
   },
   {
    "duration": 621,
    "start_time": "2023-08-29T21:21:09.141Z"
   },
   {
    "duration": 612,
    "start_time": "2023-08-29T21:21:09.764Z"
   },
   {
    "duration": 585,
    "start_time": "2023-08-29T21:21:10.383Z"
   },
   {
    "duration": 570,
    "start_time": "2023-08-29T21:21:10.970Z"
   },
   {
    "duration": 101,
    "start_time": "2023-08-29T21:21:11.541Z"
   },
   {
    "duration": 82,
    "start_time": "2023-08-29T21:21:11.644Z"
   },
   {
    "duration": 18,
    "start_time": "2023-08-29T21:21:11.728Z"
   },
   {
    "duration": 3,
    "start_time": "2023-08-29T21:21:11.748Z"
   },
   {
    "duration": 416,
    "start_time": "2023-08-29T21:21:11.753Z"
   },
   {
    "duration": 312,
    "start_time": "2023-08-29T21:21:12.170Z"
   },
   {
    "duration": 470,
    "start_time": "2023-08-29T21:21:12.484Z"
   },
   {
    "duration": 3,
    "start_time": "2023-08-29T21:21:12.955Z"
   },
   {
    "duration": 53,
    "start_time": "2023-08-29T21:21:12.962Z"
   },
   {
    "duration": 48,
    "start_time": "2023-08-29T21:21:13.025Z"
   },
   {
    "duration": 4,
    "start_time": "2023-08-29T21:21:13.075Z"
   },
   {
    "duration": 22,
    "start_time": "2023-08-29T21:21:13.080Z"
   },
   {
    "duration": 59788,
    "start_time": "2023-08-29T21:21:13.117Z"
   },
   {
    "duration": 5,
    "start_time": "2023-08-29T21:22:12.907Z"
   },
   {
    "duration": 236260,
    "start_time": "2023-08-29T21:22:19.872Z"
   },
   {
    "duration": 142,
    "start_time": "2023-08-29T21:30:14.905Z"
   },
   {
    "duration": 5,
    "start_time": "2023-08-29T21:31:07.744Z"
   },
   {
    "duration": 1969,
    "start_time": "2023-08-29T21:31:12.070Z"
   },
   {
    "duration": 1961,
    "start_time": "2023-08-29T21:31:18.546Z"
   },
   {
    "duration": 1381,
    "start_time": "2023-08-29T21:31:32.049Z"
   },
   {
    "duration": 993,
    "start_time": "2023-08-29T21:31:33.432Z"
   },
   {
    "duration": 26,
    "start_time": "2023-08-29T21:31:34.427Z"
   },
   {
    "duration": 201,
    "start_time": "2023-08-29T21:31:34.455Z"
   },
   {
    "duration": 115,
    "start_time": "2023-08-29T21:31:34.658Z"
   },
   {
    "duration": 27,
    "start_time": "2023-08-29T21:31:34.775Z"
   },
   {
    "duration": 235,
    "start_time": "2023-08-29T21:31:34.805Z"
   },
   {
    "duration": 17,
    "start_time": "2023-08-29T21:31:35.041Z"
   },
   {
    "duration": 128,
    "start_time": "2023-08-29T21:31:35.059Z"
   },
   {
    "duration": 28,
    "start_time": "2023-08-29T21:31:35.190Z"
   },
   {
    "duration": 6,
    "start_time": "2023-08-29T21:31:35.220Z"
   },
   {
    "duration": 86,
    "start_time": "2023-08-29T21:31:35.228Z"
   },
   {
    "duration": 148,
    "start_time": "2023-08-29T21:31:35.319Z"
   },
   {
    "duration": 5,
    "start_time": "2023-08-29T21:31:35.469Z"
   },
   {
    "duration": 126,
    "start_time": "2023-08-29T21:31:35.476Z"
   },
   {
    "duration": 149,
    "start_time": "2023-08-29T21:31:35.603Z"
   },
   {
    "duration": 182,
    "start_time": "2023-08-29T21:31:35.754Z"
   },
   {
    "duration": 3,
    "start_time": "2023-08-29T21:31:35.938Z"
   },
   {
    "duration": 923,
    "start_time": "2023-08-29T21:31:35.943Z"
   },
   {
    "duration": 859,
    "start_time": "2023-08-29T21:31:36.868Z"
   },
   {
    "duration": 895,
    "start_time": "2023-08-29T21:31:37.728Z"
   },
   {
    "duration": 1393,
    "start_time": "2023-08-29T21:31:38.625Z"
   },
   {
    "duration": 1190,
    "start_time": "2023-08-29T21:31:40.021Z"
   },
   {
    "duration": 113,
    "start_time": "2023-08-29T21:31:41.216Z"
   },
   {
    "duration": 130,
    "start_time": "2023-08-29T21:31:41.331Z"
   },
   {
    "duration": 34,
    "start_time": "2023-08-29T21:31:41.463Z"
   },
   {
    "duration": 65,
    "start_time": "2023-08-29T21:31:41.503Z"
   },
   {
    "duration": 3,
    "start_time": "2023-08-29T21:31:41.571Z"
   },
   {
    "duration": 587,
    "start_time": "2023-08-29T21:31:41.576Z"
   },
   {
    "duration": 595,
    "start_time": "2023-08-29T21:31:42.165Z"
   },
   {
    "duration": 579,
    "start_time": "2023-08-29T21:31:42.762Z"
   },
   {
    "duration": 572,
    "start_time": "2023-08-29T21:31:43.343Z"
   },
   {
    "duration": 88,
    "start_time": "2023-08-29T21:31:43.916Z"
   },
   {
    "duration": 63,
    "start_time": "2023-08-29T21:31:44.010Z"
   },
   {
    "duration": 37,
    "start_time": "2023-08-29T21:31:44.074Z"
   },
   {
    "duration": 8,
    "start_time": "2023-08-29T21:31:44.113Z"
   },
   {
    "duration": 402,
    "start_time": "2023-08-29T21:31:44.125Z"
   },
   {
    "duration": 324,
    "start_time": "2023-08-29T21:31:44.529Z"
   },
   {
    "duration": 498,
    "start_time": "2023-08-29T21:31:44.855Z"
   },
   {
    "duration": 3,
    "start_time": "2023-08-29T21:31:45.354Z"
   },
   {
    "duration": 44,
    "start_time": "2023-08-29T21:31:45.359Z"
   },
   {
    "duration": 54,
    "start_time": "2023-08-29T21:31:45.405Z"
   },
   {
    "duration": 4,
    "start_time": "2023-08-29T21:31:45.461Z"
   },
   {
    "duration": 7,
    "start_time": "2023-08-29T21:31:47.770Z"
   },
   {
    "duration": 136,
    "start_time": "2023-08-29T21:31:50.136Z"
   },
   {
    "duration": 562,
    "start_time": "2023-08-29T21:32:17.928Z"
   },
   {
    "duration": 106528,
    "start_time": "2023-08-29T21:32:23.867Z"
   },
   {
    "duration": 33201,
    "start_time": "2023-08-29T21:35:00.925Z"
   },
   {
    "duration": 187,
    "start_time": "2023-08-29T21:35:34.128Z"
   },
   {
    "duration": 816,
    "start_time": "2023-08-29T21:35:50.320Z"
   },
   {
    "duration": 29382,
    "start_time": "2023-08-29T21:35:51.138Z"
   },
   {
    "duration": 400,
    "start_time": "2023-08-29T21:36:20.525Z"
   },
   {
    "duration": 24,
    "start_time": "2023-08-29T21:36:20.928Z"
   },
   {
    "duration": 2,
    "start_time": "2023-08-29T21:36:20.954Z"
   },
   {
    "duration": 641599,
    "start_time": "2023-08-29T21:36:20.958Z"
   },
   {
    "duration": 19860,
    "start_time": "2023-08-29T21:47:02.559Z"
   },
   {
    "duration": 1155,
    "start_time": "2023-08-29T21:47:22.420Z"
   },
   {
    "duration": 284,
    "start_time": "2023-08-29T21:47:23.577Z"
   },
   {
    "duration": 0,
    "start_time": "2023-08-29T21:47:23.864Z"
   },
   {
    "duration": 0,
    "start_time": "2023-08-29T21:47:23.865Z"
   },
   {
    "duration": 0,
    "start_time": "2023-08-29T21:47:23.866Z"
   },
   {
    "duration": 0,
    "start_time": "2023-08-29T21:47:23.867Z"
   },
   {
    "duration": 0,
    "start_time": "2023-08-29T21:47:23.868Z"
   },
   {
    "duration": 3038731,
    "start_time": "2023-08-29T21:48:57.396Z"
   },
   {
    "duration": 350181,
    "start_time": "2023-08-29T22:39:36.129Z"
   },
   {
    "duration": 1290,
    "start_time": "2023-08-29T22:45:26.312Z"
   },
   {
    "duration": 148396,
    "start_time": "2023-08-29T22:45:27.604Z"
   },
   {
    "duration": 11,
    "start_time": "2023-08-29T22:47:56.002Z"
   },
   {
    "duration": 6,
    "start_time": "2023-08-29T23:02:00.168Z"
   },
   {
    "duration": 6,
    "start_time": "2023-08-29T23:02:10.947Z"
   },
   {
    "duration": 1704,
    "start_time": "2023-08-30T22:18:19.961Z"
   },
   {
    "duration": 2950,
    "start_time": "2023-08-30T22:18:21.667Z"
   },
   {
    "duration": 23,
    "start_time": "2023-08-30T22:18:24.619Z"
   },
   {
    "duration": 112,
    "start_time": "2023-08-30T22:18:24.644Z"
   },
   {
    "duration": 106,
    "start_time": "2023-08-30T22:18:24.759Z"
   },
   {
    "duration": 17,
    "start_time": "2023-08-30T22:18:24.868Z"
   },
   {
    "duration": 193,
    "start_time": "2023-08-30T22:18:24.886Z"
   },
   {
    "duration": 16,
    "start_time": "2023-08-30T22:18:25.081Z"
   },
   {
    "duration": 96,
    "start_time": "2023-08-30T22:18:25.098Z"
   },
   {
    "duration": 12,
    "start_time": "2023-08-30T22:18:25.196Z"
   },
   {
    "duration": 4,
    "start_time": "2023-08-30T22:18:25.209Z"
   },
   {
    "duration": 73,
    "start_time": "2023-08-30T22:18:25.214Z"
   },
   {
    "duration": 132,
    "start_time": "2023-08-30T22:18:25.289Z"
   },
   {
    "duration": 5,
    "start_time": "2023-08-30T22:18:25.423Z"
   },
   {
    "duration": 80,
    "start_time": "2023-08-30T22:18:25.430Z"
   },
   {
    "duration": 133,
    "start_time": "2023-08-30T22:18:25.511Z"
   },
   {
    "duration": 158,
    "start_time": "2023-08-30T22:18:25.645Z"
   },
   {
    "duration": 3,
    "start_time": "2023-08-30T22:18:25.804Z"
   },
   {
    "duration": 737,
    "start_time": "2023-08-30T22:18:25.809Z"
   },
   {
    "duration": 686,
    "start_time": "2023-08-30T22:18:26.547Z"
   },
   {
    "duration": 633,
    "start_time": "2023-08-30T22:18:27.235Z"
   },
   {
    "duration": 920,
    "start_time": "2023-08-30T22:18:27.870Z"
   },
   {
    "duration": 914,
    "start_time": "2023-08-30T22:18:28.791Z"
   },
   {
    "duration": 121,
    "start_time": "2023-08-30T22:18:29.707Z"
   },
   {
    "duration": 107,
    "start_time": "2023-08-30T22:18:29.830Z"
   },
   {
    "duration": 27,
    "start_time": "2023-08-30T22:18:29.939Z"
   },
   {
    "duration": 41,
    "start_time": "2023-08-30T22:18:29.968Z"
   },
   {
    "duration": 58,
    "start_time": "2023-08-30T22:18:30.011Z"
   },
   {
    "duration": 489,
    "start_time": "2023-08-30T22:18:30.070Z"
   },
   {
    "duration": 481,
    "start_time": "2023-08-30T22:18:30.561Z"
   },
   {
    "duration": 503,
    "start_time": "2023-08-30T22:18:31.044Z"
   },
   {
    "duration": 466,
    "start_time": "2023-08-30T22:18:31.549Z"
   },
   {
    "duration": 67,
    "start_time": "2023-08-30T22:18:32.016Z"
   },
   {
    "duration": 148,
    "start_time": "2023-08-30T22:18:32.085Z"
   },
   {
    "duration": 32,
    "start_time": "2023-08-30T22:18:32.236Z"
   },
   {
    "duration": 11,
    "start_time": "2023-08-30T22:18:32.270Z"
   },
   {
    "duration": 446,
    "start_time": "2023-08-30T22:18:32.282Z"
   },
   {
    "duration": 281,
    "start_time": "2023-08-30T22:18:32.730Z"
   },
   {
    "duration": 275,
    "start_time": "2023-08-30T22:18:33.012Z"
   },
   {
    "duration": 2,
    "start_time": "2023-08-30T22:18:33.289Z"
   },
   {
    "duration": 28,
    "start_time": "2023-08-30T22:18:33.294Z"
   },
   {
    "duration": 60,
    "start_time": "2023-08-30T22:18:33.324Z"
   },
   {
    "duration": 4,
    "start_time": "2023-08-30T22:18:33.386Z"
   },
   {
    "duration": 30,
    "start_time": "2023-08-30T22:18:33.391Z"
   },
   {
    "duration": 124,
    "start_time": "2023-08-30T22:18:33.423Z"
   },
   {
    "duration": 0,
    "start_time": "2023-08-30T22:18:33.549Z"
   },
   {
    "duration": 0,
    "start_time": "2023-08-30T22:18:33.550Z"
   },
   {
    "duration": 0,
    "start_time": "2023-08-30T22:18:33.552Z"
   },
   {
    "duration": 0,
    "start_time": "2023-08-30T22:18:33.553Z"
   },
   {
    "duration": 0,
    "start_time": "2023-08-30T22:18:33.554Z"
   },
   {
    "duration": 0,
    "start_time": "2023-08-30T22:18:33.555Z"
   },
   {
    "duration": 0,
    "start_time": "2023-08-30T22:18:33.557Z"
   },
   {
    "duration": 0,
    "start_time": "2023-08-30T22:18:33.558Z"
   },
   {
    "duration": 0,
    "start_time": "2023-08-30T22:18:33.559Z"
   },
   {
    "duration": 0,
    "start_time": "2023-08-30T22:18:33.560Z"
   },
   {
    "duration": 0,
    "start_time": "2023-08-30T22:18:33.561Z"
   },
   {
    "duration": 0,
    "start_time": "2023-08-30T22:18:33.562Z"
   },
   {
    "duration": 0,
    "start_time": "2023-08-30T22:18:33.563Z"
   },
   {
    "duration": 0,
    "start_time": "2023-08-30T22:18:33.564Z"
   },
   {
    "duration": 0,
    "start_time": "2023-08-30T22:18:33.565Z"
   },
   {
    "duration": 0,
    "start_time": "2023-08-30T22:18:33.566Z"
   },
   {
    "duration": 0,
    "start_time": "2023-08-30T22:18:33.567Z"
   },
   {
    "duration": 114,
    "start_time": "2023-08-30T22:19:05.212Z"
   },
   {
    "duration": 1143,
    "start_time": "2023-08-30T22:19:32.379Z"
   },
   {
    "duration": 6520,
    "start_time": "2023-08-30T22:20:00.861Z"
   },
   {
    "duration": 2005,
    "start_time": "2023-08-30T22:20:48.992Z"
   },
   {
    "duration": 2162,
    "start_time": "2023-08-30T22:20:51.000Z"
   },
   {
    "duration": 866,
    "start_time": "2023-08-30T22:20:53.163Z"
   },
   {
    "duration": 33,
    "start_time": "2023-08-30T22:20:54.031Z"
   },
   {
    "duration": 113,
    "start_time": "2023-08-30T22:20:54.065Z"
   },
   {
    "duration": 107,
    "start_time": "2023-08-30T22:20:54.180Z"
   },
   {
    "duration": 16,
    "start_time": "2023-08-30T22:20:54.289Z"
   },
   {
    "duration": 187,
    "start_time": "2023-08-30T22:20:54.307Z"
   },
   {
    "duration": 14,
    "start_time": "2023-08-30T22:20:54.496Z"
   },
   {
    "duration": 107,
    "start_time": "2023-08-30T22:20:54.512Z"
   },
   {
    "duration": 12,
    "start_time": "2023-08-30T22:20:54.621Z"
   },
   {
    "duration": 6,
    "start_time": "2023-08-30T22:20:54.635Z"
   },
   {
    "duration": 55,
    "start_time": "2023-08-30T22:20:54.656Z"
   },
   {
    "duration": 139,
    "start_time": "2023-08-30T22:20:54.713Z"
   },
   {
    "duration": 7,
    "start_time": "2023-08-30T22:20:54.853Z"
   },
   {
    "duration": 70,
    "start_time": "2023-08-30T22:20:54.862Z"
   },
   {
    "duration": 132,
    "start_time": "2023-08-30T22:20:54.955Z"
   },
   {
    "duration": 148,
    "start_time": "2023-08-30T22:20:55.089Z"
   },
   {
    "duration": 3,
    "start_time": "2023-08-30T22:20:55.239Z"
   },
   {
    "duration": 664,
    "start_time": "2023-08-30T22:20:55.256Z"
   },
   {
    "duration": 654,
    "start_time": "2023-08-30T22:20:55.922Z"
   },
   {
    "duration": 752,
    "start_time": "2023-08-30T22:20:56.578Z"
   },
   {
    "duration": 930,
    "start_time": "2023-08-30T22:20:57.332Z"
   },
   {
    "duration": 929,
    "start_time": "2023-08-30T22:20:58.264Z"
   },
   {
    "duration": 124,
    "start_time": "2023-08-30T22:20:59.194Z"
   },
   {
    "duration": 114,
    "start_time": "2023-08-30T22:20:59.320Z"
   },
   {
    "duration": 29,
    "start_time": "2023-08-30T22:20:59.435Z"
   },
   {
    "duration": 41,
    "start_time": "2023-08-30T22:20:59.468Z"
   },
   {
    "duration": 4,
    "start_time": "2023-08-30T22:20:59.510Z"
   },
   {
    "duration": 478,
    "start_time": "2023-08-30T22:20:59.515Z"
   },
   {
    "duration": 497,
    "start_time": "2023-08-30T22:20:59.995Z"
   },
   {
    "duration": 474,
    "start_time": "2023-08-30T22:21:00.494Z"
   },
   {
    "duration": 453,
    "start_time": "2023-08-30T22:21:00.970Z"
   },
   {
    "duration": 70,
    "start_time": "2023-08-30T22:21:01.424Z"
   },
   {
    "duration": 42,
    "start_time": "2023-08-30T22:21:01.496Z"
   },
   {
    "duration": 41,
    "start_time": "2023-08-30T22:21:01.540Z"
   },
   {
    "duration": 36,
    "start_time": "2023-08-30T22:21:01.582Z"
   },
   {
    "duration": 345,
    "start_time": "2023-08-30T22:21:01.620Z"
   },
   {
    "duration": 256,
    "start_time": "2023-08-30T22:21:01.967Z"
   },
   {
    "duration": 410,
    "start_time": "2023-08-30T22:21:02.225Z"
   },
   {
    "duration": 2,
    "start_time": "2023-08-30T22:21:02.636Z"
   },
   {
    "duration": 39,
    "start_time": "2023-08-30T22:21:02.640Z"
   },
   {
    "duration": 48,
    "start_time": "2023-08-30T22:21:02.681Z"
   },
   {
    "duration": 4,
    "start_time": "2023-08-30T22:21:02.730Z"
   },
   {
    "duration": 23,
    "start_time": "2023-08-30T22:21:02.735Z"
   },
   {
    "duration": 354,
    "start_time": "2023-08-30T22:21:02.760Z"
   },
   {
    "duration": 81943,
    "start_time": "2023-08-30T22:21:03.116Z"
   },
   {
    "duration": 29892,
    "start_time": "2023-08-30T22:22:25.066Z"
   },
   {
    "duration": 118,
    "start_time": "2023-08-30T22:22:54.959Z"
   },
   {
    "duration": 7,
    "start_time": "2023-08-30T22:22:55.079Z"
   },
   {
    "duration": 149,
    "start_time": "2023-08-30T22:22:55.088Z"
   },
   {
    "duration": 0,
    "start_time": "2023-08-30T22:22:55.238Z"
   },
   {
    "duration": 0,
    "start_time": "2023-08-30T22:22:55.240Z"
   },
   {
    "duration": 0,
    "start_time": "2023-08-30T22:22:55.240Z"
   },
   {
    "duration": 0,
    "start_time": "2023-08-30T22:22:55.241Z"
   },
   {
    "duration": 0,
    "start_time": "2023-08-30T22:22:55.242Z"
   },
   {
    "duration": 0,
    "start_time": "2023-08-30T22:22:55.243Z"
   },
   {
    "duration": 0,
    "start_time": "2023-08-30T22:22:55.244Z"
   },
   {
    "duration": 0,
    "start_time": "2023-08-30T22:22:55.245Z"
   },
   {
    "duration": 0,
    "start_time": "2023-08-30T22:22:55.246Z"
   },
   {
    "duration": 0,
    "start_time": "2023-08-30T22:22:55.247Z"
   },
   {
    "duration": 0,
    "start_time": "2023-08-30T22:22:55.248Z"
   },
   {
    "duration": 0,
    "start_time": "2023-08-30T22:22:55.249Z"
   },
   {
    "duration": 10,
    "start_time": "2023-08-30T22:23:44.218Z"
   },
   {
    "duration": 129,
    "start_time": "2023-08-30T22:23:45.161Z"
   },
   {
    "duration": 337,
    "start_time": "2023-08-30T22:23:53.789Z"
   },
   {
    "duration": 249,
    "start_time": "2023-08-30T22:24:36.161Z"
   },
   {
    "duration": 237,
    "start_time": "2023-08-30T22:24:42.731Z"
   },
   {
    "duration": 15,
    "start_time": "2023-08-30T22:25:53.129Z"
   },
   {
    "duration": 227,
    "start_time": "2023-08-30T22:27:40.392Z"
   },
   {
    "duration": 9,
    "start_time": "2023-08-30T22:27:56.901Z"
   },
   {
    "duration": 243,
    "start_time": "2023-08-30T22:27:57.582Z"
   },
   {
    "duration": 235,
    "start_time": "2023-08-30T22:28:12.562Z"
   },
   {
    "duration": 24,
    "start_time": "2023-08-30T22:29:00.552Z"
   },
   {
    "duration": 232,
    "start_time": "2023-08-30T22:29:05.746Z"
   },
   {
    "duration": 21,
    "start_time": "2023-08-30T22:32:28.402Z"
   },
   {
    "duration": 14,
    "start_time": "2023-08-30T22:32:37.310Z"
   },
   {
    "duration": 226,
    "start_time": "2023-08-30T22:32:44.476Z"
   },
   {
    "duration": 233,
    "start_time": "2023-08-30T22:33:09.267Z"
   },
   {
    "duration": 225,
    "start_time": "2023-08-30T22:33:27.072Z"
   },
   {
    "duration": 235,
    "start_time": "2023-08-30T22:35:36.223Z"
   },
   {
    "duration": 221,
    "start_time": "2023-08-30T22:35:55.519Z"
   },
   {
    "duration": 38,
    "start_time": "2023-08-30T22:36:17.832Z"
   },
   {
    "duration": 6,
    "start_time": "2023-08-30T22:36:25.156Z"
   },
   {
    "duration": 309,
    "start_time": "2023-08-30T22:36:26.182Z"
   },
   {
    "duration": 329,
    "start_time": "2023-08-30T22:36:40.807Z"
   },
   {
    "duration": 1929,
    "start_time": "2023-08-30T22:36:49.632Z"
   },
   {
    "duration": 1242,
    "start_time": "2023-08-30T22:36:51.564Z"
   },
   {
    "duration": 782,
    "start_time": "2023-08-30T22:36:52.808Z"
   },
   {
    "duration": 24,
    "start_time": "2023-08-30T22:36:53.592Z"
   },
   {
    "duration": 127,
    "start_time": "2023-08-30T22:36:53.617Z"
   },
   {
    "duration": 100,
    "start_time": "2023-08-30T22:36:53.746Z"
   },
   {
    "duration": 15,
    "start_time": "2023-08-30T22:36:53.856Z"
   },
   {
    "duration": 186,
    "start_time": "2023-08-30T22:36:53.873Z"
   },
   {
    "duration": 14,
    "start_time": "2023-08-30T22:36:54.061Z"
   },
   {
    "duration": 106,
    "start_time": "2023-08-30T22:36:54.077Z"
   },
   {
    "duration": 12,
    "start_time": "2023-08-30T22:36:54.185Z"
   },
   {
    "duration": 4,
    "start_time": "2023-08-30T22:36:54.198Z"
   },
   {
    "duration": 71,
    "start_time": "2023-08-30T22:36:54.204Z"
   },
   {
    "duration": 127,
    "start_time": "2023-08-30T22:36:54.276Z"
   },
   {
    "duration": 5,
    "start_time": "2023-08-30T22:36:54.405Z"
   },
   {
    "duration": 82,
    "start_time": "2023-08-30T22:36:54.411Z"
   },
   {
    "duration": 128,
    "start_time": "2023-08-30T22:36:54.495Z"
   },
   {
    "duration": 146,
    "start_time": "2023-08-30T22:36:54.624Z"
   },
   {
    "duration": 3,
    "start_time": "2023-08-30T22:36:54.772Z"
   },
   {
    "duration": 664,
    "start_time": "2023-08-30T22:36:54.776Z"
   },
   {
    "duration": 649,
    "start_time": "2023-08-30T22:36:55.441Z"
   },
   {
    "duration": 742,
    "start_time": "2023-08-30T22:36:56.092Z"
   },
   {
    "duration": 909,
    "start_time": "2023-08-30T22:36:56.836Z"
   },
   {
    "duration": 933,
    "start_time": "2023-08-30T22:36:57.746Z"
   },
   {
    "duration": 115,
    "start_time": "2023-08-30T22:36:58.681Z"
   },
   {
    "duration": 143,
    "start_time": "2023-08-30T22:36:58.799Z"
   },
   {
    "duration": 23,
    "start_time": "2023-08-30T22:36:58.944Z"
   },
   {
    "duration": 42,
    "start_time": "2023-08-30T22:36:58.971Z"
   },
   {
    "duration": 4,
    "start_time": "2023-08-30T22:36:59.014Z"
   },
   {
    "duration": 481,
    "start_time": "2023-08-30T22:36:59.020Z"
   },
   {
    "duration": 472,
    "start_time": "2023-08-30T22:36:59.503Z"
   },
   {
    "duration": 447,
    "start_time": "2023-08-30T22:36:59.976Z"
   },
   {
    "duration": 443,
    "start_time": "2023-08-30T22:37:00.425Z"
   },
   {
    "duration": 57,
    "start_time": "2023-08-30T22:37:00.870Z"
   },
   {
    "duration": 56,
    "start_time": "2023-08-30T22:37:00.929Z"
   },
   {
    "duration": 28,
    "start_time": "2023-08-30T22:37:00.986Z"
   },
   {
    "duration": 32,
    "start_time": "2023-08-30T22:37:01.015Z"
   },
   {
    "duration": 324,
    "start_time": "2023-08-30T22:37:01.049Z"
   },
   {
    "duration": 237,
    "start_time": "2023-08-30T22:37:01.375Z"
   },
   {
    "duration": 393,
    "start_time": "2023-08-30T22:37:01.614Z"
   },
   {
    "duration": 2,
    "start_time": "2023-08-30T22:37:02.009Z"
   },
   {
    "duration": 41,
    "start_time": "2023-08-30T22:37:02.012Z"
   },
   {
    "duration": 45,
    "start_time": "2023-08-30T22:37:02.055Z"
   },
   {
    "duration": 3,
    "start_time": "2023-08-30T22:37:02.102Z"
   },
   {
    "duration": 17,
    "start_time": "2023-08-30T22:37:02.107Z"
   },
   {
    "duration": 340,
    "start_time": "2023-08-30T22:37:02.126Z"
   },
   {
    "duration": 80295,
    "start_time": "2023-08-30T22:37:02.468Z"
   },
   {
    "duration": 26193,
    "start_time": "2023-08-30T22:38:22.765Z"
   },
   {
    "duration": 124,
    "start_time": "2023-08-30T22:38:48.960Z"
   },
   {
    "duration": 8,
    "start_time": "2023-08-30T22:38:49.086Z"
   },
   {
    "duration": 338,
    "start_time": "2023-08-30T22:38:49.095Z"
   },
   {
    "duration": 1,
    "start_time": "2023-08-30T22:38:49.434Z"
   },
   {
    "duration": 0,
    "start_time": "2023-08-30T22:38:49.436Z"
   },
   {
    "duration": 0,
    "start_time": "2023-08-30T22:38:49.437Z"
   },
   {
    "duration": 0,
    "start_time": "2023-08-30T22:38:49.438Z"
   },
   {
    "duration": 0,
    "start_time": "2023-08-30T22:38:49.439Z"
   },
   {
    "duration": 0,
    "start_time": "2023-08-30T22:38:49.439Z"
   },
   {
    "duration": 0,
    "start_time": "2023-08-30T22:38:49.457Z"
   },
   {
    "duration": 0,
    "start_time": "2023-08-30T22:38:49.458Z"
   },
   {
    "duration": 0,
    "start_time": "2023-08-30T22:38:49.459Z"
   },
   {
    "duration": 0,
    "start_time": "2023-08-30T22:38:49.460Z"
   },
   {
    "duration": 0,
    "start_time": "2023-08-30T22:38:49.461Z"
   },
   {
    "duration": 0,
    "start_time": "2023-08-30T22:38:49.462Z"
   },
   {
    "duration": 0,
    "start_time": "2023-08-30T22:38:49.462Z"
   },
   {
    "duration": 14,
    "start_time": "2023-08-30T22:40:46.086Z"
   },
   {
    "duration": 46,
    "start_time": "2023-08-30T22:41:16.366Z"
   },
   {
    "duration": 524,
    "start_time": "2023-08-30T22:42:51.870Z"
   },
   {
    "duration": 12,
    "start_time": "2023-08-30T22:43:12.039Z"
   },
   {
    "duration": 89,
    "start_time": "2023-08-30T22:43:56.033Z"
   },
   {
    "duration": 1893,
    "start_time": "2023-08-30T22:44:20.242Z"
   },
   {
    "duration": 1244,
    "start_time": "2023-08-30T22:44:22.138Z"
   },
   {
    "duration": 794,
    "start_time": "2023-08-30T22:44:23.384Z"
   },
   {
    "duration": 24,
    "start_time": "2023-08-30T22:44:24.180Z"
   },
   {
    "duration": 120,
    "start_time": "2023-08-30T22:44:24.206Z"
   },
   {
    "duration": 98,
    "start_time": "2023-08-30T22:44:24.328Z"
   },
   {
    "duration": 40,
    "start_time": "2023-08-30T22:44:24.428Z"
   },
   {
    "duration": 202,
    "start_time": "2023-08-30T22:44:24.469Z"
   },
   {
    "duration": 13,
    "start_time": "2023-08-30T22:44:24.673Z"
   },
   {
    "duration": 100,
    "start_time": "2023-08-30T22:44:24.689Z"
   },
   {
    "duration": 13,
    "start_time": "2023-08-30T22:44:24.791Z"
   },
   {
    "duration": 5,
    "start_time": "2023-08-30T22:44:24.805Z"
   },
   {
    "duration": 71,
    "start_time": "2023-08-30T22:44:24.812Z"
   },
   {
    "duration": 134,
    "start_time": "2023-08-30T22:44:24.884Z"
   },
   {
    "duration": 5,
    "start_time": "2023-08-30T22:44:25.020Z"
   },
   {
    "duration": 81,
    "start_time": "2023-08-30T22:44:25.026Z"
   },
   {
    "duration": 123,
    "start_time": "2023-08-30T22:44:25.109Z"
   },
   {
    "duration": 139,
    "start_time": "2023-08-30T22:44:25.234Z"
   },
   {
    "duration": 3,
    "start_time": "2023-08-30T22:44:25.375Z"
   },
   {
    "duration": 630,
    "start_time": "2023-08-30T22:44:25.380Z"
   },
   {
    "duration": 647,
    "start_time": "2023-08-30T22:44:26.011Z"
   },
   {
    "duration": 738,
    "start_time": "2023-08-30T22:44:26.659Z"
   },
   {
    "duration": 889,
    "start_time": "2023-08-30T22:44:27.399Z"
   },
   {
    "duration": 878,
    "start_time": "2023-08-30T22:44:28.290Z"
   },
   {
    "duration": 119,
    "start_time": "2023-08-30T22:44:29.169Z"
   },
   {
    "duration": 117,
    "start_time": "2023-08-30T22:44:29.290Z"
   },
   {
    "duration": 18,
    "start_time": "2023-08-30T22:44:29.409Z"
   },
   {
    "duration": 52,
    "start_time": "2023-08-30T22:44:29.430Z"
   },
   {
    "duration": 4,
    "start_time": "2023-08-30T22:44:29.483Z"
   },
   {
    "duration": 507,
    "start_time": "2023-08-30T22:44:29.488Z"
   },
   {
    "duration": 474,
    "start_time": "2023-08-30T22:44:29.997Z"
   },
   {
    "duration": 454,
    "start_time": "2023-08-30T22:44:30.472Z"
   },
   {
    "duration": 454,
    "start_time": "2023-08-30T22:44:30.928Z"
   },
   {
    "duration": 73,
    "start_time": "2023-08-30T22:44:31.384Z"
   },
   {
    "duration": 43,
    "start_time": "2023-08-30T22:44:31.459Z"
   },
   {
    "duration": 18,
    "start_time": "2023-08-30T22:44:31.504Z"
   },
   {
    "duration": 26,
    "start_time": "2023-08-30T22:44:31.524Z"
   },
   {
    "duration": 374,
    "start_time": "2023-08-30T22:44:31.552Z"
   },
   {
    "duration": 255,
    "start_time": "2023-08-30T22:44:31.928Z"
   },
   {
    "duration": 404,
    "start_time": "2023-08-30T22:44:32.185Z"
   },
   {
    "duration": 2,
    "start_time": "2023-08-30T22:44:32.591Z"
   },
   {
    "duration": 42,
    "start_time": "2023-08-30T22:44:32.594Z"
   },
   {
    "duration": 43,
    "start_time": "2023-08-30T22:44:32.637Z"
   },
   {
    "duration": 4,
    "start_time": "2023-08-30T22:44:32.681Z"
   },
   {
    "duration": 32,
    "start_time": "2023-08-30T22:44:32.686Z"
   },
   {
    "duration": 348,
    "start_time": "2023-08-30T22:44:32.720Z"
   },
   {
    "duration": 82093,
    "start_time": "2023-08-30T22:44:33.070Z"
   },
   {
    "duration": 26702,
    "start_time": "2023-08-30T22:45:55.258Z"
   },
   {
    "duration": 205,
    "start_time": "2023-08-30T22:46:21.961Z"
   },
   {
    "duration": 8,
    "start_time": "2023-08-30T22:46:22.168Z"
   },
   {
    "duration": 572,
    "start_time": "2023-08-30T22:46:47.446Z"
   },
   {
    "duration": 36,
    "start_time": "2023-08-30T22:47:48.706Z"
   },
   {
    "duration": 19,
    "start_time": "2023-08-30T22:48:05.407Z"
   },
   {
    "duration": 21,
    "start_time": "2023-08-30T22:48:07.170Z"
   },
   {
    "duration": 9,
    "start_time": "2023-08-30T22:48:13.079Z"
   },
   {
    "duration": 495,
    "start_time": "2023-08-30T22:48:13.892Z"
   },
   {
    "duration": 10,
    "start_time": "2023-08-30T22:48:22.431Z"
   },
   {
    "duration": 532,
    "start_time": "2023-08-30T22:48:23.276Z"
   },
   {
    "duration": 1901,
    "start_time": "2023-08-30T22:49:02.389Z"
   },
   {
    "duration": 1189,
    "start_time": "2023-08-30T22:49:04.293Z"
   },
   {
    "duration": 791,
    "start_time": "2023-08-30T22:49:05.484Z"
   },
   {
    "duration": 24,
    "start_time": "2023-08-30T22:49:06.278Z"
   },
   {
    "duration": 123,
    "start_time": "2023-08-30T22:49:06.303Z"
   },
   {
    "duration": 100,
    "start_time": "2023-08-30T22:49:06.428Z"
   },
   {
    "duration": 16,
    "start_time": "2023-08-30T22:49:06.530Z"
   },
   {
    "duration": 174,
    "start_time": "2023-08-30T22:49:06.557Z"
   },
   {
    "duration": 12,
    "start_time": "2023-08-30T22:49:06.733Z"
   },
   {
    "duration": 89,
    "start_time": "2023-08-30T22:49:06.756Z"
   },
   {
    "duration": 18,
    "start_time": "2023-08-30T22:49:06.847Z"
   },
   {
    "duration": 12,
    "start_time": "2023-08-30T22:49:06.867Z"
   },
   {
    "duration": 52,
    "start_time": "2023-08-30T22:49:06.881Z"
   },
   {
    "duration": 155,
    "start_time": "2023-08-30T22:49:06.935Z"
   },
   {
    "duration": 6,
    "start_time": "2023-08-30T22:49:07.092Z"
   },
   {
    "duration": 82,
    "start_time": "2023-08-30T22:49:07.099Z"
   },
   {
    "duration": 123,
    "start_time": "2023-08-30T22:49:07.182Z"
   },
   {
    "duration": 135,
    "start_time": "2023-08-30T22:49:07.306Z"
   },
   {
    "duration": 3,
    "start_time": "2023-08-30T22:49:07.442Z"
   },
   {
    "duration": 656,
    "start_time": "2023-08-30T22:49:07.455Z"
   },
   {
    "duration": 648,
    "start_time": "2023-08-30T22:49:08.113Z"
   },
   {
    "duration": 731,
    "start_time": "2023-08-30T22:49:08.763Z"
   },
   {
    "duration": 867,
    "start_time": "2023-08-30T22:49:09.496Z"
   },
   {
    "duration": 886,
    "start_time": "2023-08-30T22:49:10.365Z"
   },
   {
    "duration": 110,
    "start_time": "2023-08-30T22:49:11.256Z"
   },
   {
    "duration": 107,
    "start_time": "2023-08-30T22:49:11.368Z"
   },
   {
    "duration": 21,
    "start_time": "2023-08-30T22:49:11.476Z"
   },
   {
    "duration": 39,
    "start_time": "2023-08-30T22:49:11.500Z"
   },
   {
    "duration": 3,
    "start_time": "2023-08-30T22:49:11.557Z"
   },
   {
    "duration": 480,
    "start_time": "2023-08-30T22:49:11.562Z"
   },
   {
    "duration": 459,
    "start_time": "2023-08-30T22:49:12.044Z"
   },
   {
    "duration": 461,
    "start_time": "2023-08-30T22:49:12.505Z"
   },
   {
    "duration": 458,
    "start_time": "2023-08-30T22:49:12.968Z"
   },
   {
    "duration": 65,
    "start_time": "2023-08-30T22:49:13.428Z"
   },
   {
    "duration": 43,
    "start_time": "2023-08-30T22:49:13.495Z"
   },
   {
    "duration": 33,
    "start_time": "2023-08-30T22:49:13.539Z"
   },
   {
    "duration": 3,
    "start_time": "2023-08-30T22:49:13.574Z"
   },
   {
    "duration": 325,
    "start_time": "2023-08-30T22:49:13.579Z"
   },
   {
    "duration": 241,
    "start_time": "2023-08-30T22:49:13.905Z"
   },
   {
    "duration": 370,
    "start_time": "2023-08-30T22:49:14.148Z"
   },
   {
    "duration": 1,
    "start_time": "2023-08-30T22:49:14.520Z"
   },
   {
    "duration": 34,
    "start_time": "2023-08-30T22:49:14.523Z"
   },
   {
    "duration": 45,
    "start_time": "2023-08-30T22:49:14.559Z"
   },
   {
    "duration": 9,
    "start_time": "2023-08-30T22:49:17.768Z"
   },
   {
    "duration": 513,
    "start_time": "2023-08-30T22:49:20.619Z"
   },
   {
    "duration": 100,
    "start_time": "2023-08-30T22:51:02.313Z"
   },
   {
    "duration": 27,
    "start_time": "2023-08-30T22:53:05.209Z"
   },
   {
    "duration": 8,
    "start_time": "2023-08-30T22:53:22.174Z"
   },
   {
    "duration": 597,
    "start_time": "2023-08-30T22:53:23.013Z"
   },
   {
    "duration": 1896,
    "start_time": "2023-08-30T22:54:02.508Z"
   },
   {
    "duration": 1172,
    "start_time": "2023-08-30T22:54:04.407Z"
   },
   {
    "duration": 757,
    "start_time": "2023-08-30T22:54:05.581Z"
   },
   {
    "duration": 27,
    "start_time": "2023-08-30T22:54:06.340Z"
   },
   {
    "duration": 111,
    "start_time": "2023-08-30T22:54:06.368Z"
   },
   {
    "duration": 102,
    "start_time": "2023-08-30T22:54:06.480Z"
   },
   {
    "duration": 15,
    "start_time": "2023-08-30T22:54:06.584Z"
   },
   {
    "duration": 173,
    "start_time": "2023-08-30T22:54:06.601Z"
   },
   {
    "duration": 12,
    "start_time": "2023-08-30T22:54:06.776Z"
   },
   {
    "duration": 105,
    "start_time": "2023-08-30T22:54:06.790Z"
   },
   {
    "duration": 12,
    "start_time": "2023-08-30T22:54:06.897Z"
   },
   {
    "duration": 7,
    "start_time": "2023-08-30T22:54:06.911Z"
   },
   {
    "duration": 73,
    "start_time": "2023-08-30T22:54:06.919Z"
   },
   {
    "duration": 136,
    "start_time": "2023-08-30T22:54:06.994Z"
   },
   {
    "duration": 6,
    "start_time": "2023-08-30T22:54:07.132Z"
   },
   {
    "duration": 85,
    "start_time": "2023-08-30T22:54:07.139Z"
   },
   {
    "duration": 134,
    "start_time": "2023-08-30T22:54:07.226Z"
   },
   {
    "duration": 141,
    "start_time": "2023-08-30T22:54:07.362Z"
   },
   {
    "duration": 3,
    "start_time": "2023-08-30T22:54:07.505Z"
   },
   {
    "duration": 666,
    "start_time": "2023-08-30T22:54:07.509Z"
   },
   {
    "duration": 648,
    "start_time": "2023-08-30T22:54:08.177Z"
   },
   {
    "duration": 719,
    "start_time": "2023-08-30T22:54:08.827Z"
   },
   {
    "duration": 858,
    "start_time": "2023-08-30T22:54:09.548Z"
   },
   {
    "duration": 858,
    "start_time": "2023-08-30T22:54:10.407Z"
   },
   {
    "duration": 110,
    "start_time": "2023-08-30T22:54:11.266Z"
   },
   {
    "duration": 110,
    "start_time": "2023-08-30T22:54:11.378Z"
   },
   {
    "duration": 18,
    "start_time": "2023-08-30T22:54:11.490Z"
   },
   {
    "duration": 48,
    "start_time": "2023-08-30T22:54:11.512Z"
   },
   {
    "duration": 5,
    "start_time": "2023-08-30T22:54:11.561Z"
   },
   {
    "duration": 472,
    "start_time": "2023-08-30T22:54:11.568Z"
   },
   {
    "duration": 453,
    "start_time": "2023-08-30T22:54:12.042Z"
   },
   {
    "duration": 461,
    "start_time": "2023-08-30T22:54:12.497Z"
   },
   {
    "duration": 443,
    "start_time": "2023-08-30T22:54:12.960Z"
   },
   {
    "duration": 68,
    "start_time": "2023-08-30T22:54:13.405Z"
   },
   {
    "duration": 41,
    "start_time": "2023-08-30T22:54:13.475Z"
   },
   {
    "duration": 17,
    "start_time": "2023-08-30T22:54:13.518Z"
   },
   {
    "duration": 20,
    "start_time": "2023-08-30T22:54:13.536Z"
   },
   {
    "duration": 317,
    "start_time": "2023-08-30T22:54:13.558Z"
   },
   {
    "duration": 236,
    "start_time": "2023-08-30T22:54:13.876Z"
   },
   {
    "duration": 377,
    "start_time": "2023-08-30T22:54:14.114Z"
   },
   {
    "duration": 2,
    "start_time": "2023-08-30T22:54:14.493Z"
   },
   {
    "duration": 26,
    "start_time": "2023-08-30T22:54:14.497Z"
   },
   {
    "duration": 60,
    "start_time": "2023-08-30T22:54:14.525Z"
   },
   {
    "duration": 3,
    "start_time": "2023-08-30T22:54:14.587Z"
   },
   {
    "duration": 11,
    "start_time": "2023-08-30T22:54:14.592Z"
   },
   {
    "duration": 352,
    "start_time": "2023-08-30T22:54:14.605Z"
   },
   {
    "duration": 81100,
    "start_time": "2023-08-30T22:54:14.958Z"
   },
   {
    "duration": 26500,
    "start_time": "2023-08-30T22:55:36.060Z"
   },
   {
    "duration": 205,
    "start_time": "2023-08-30T22:56:02.562Z"
   },
   {
    "duration": 8,
    "start_time": "2023-08-30T22:56:02.769Z"
   },
   {
    "duration": 637,
    "start_time": "2023-08-30T22:56:02.779Z"
   },
   {
    "duration": 21038,
    "start_time": "2023-08-30T22:56:03.418Z"
   },
   {
    "duration": 283,
    "start_time": "2023-08-30T22:56:24.458Z"
   },
   {
    "duration": 29,
    "start_time": "2023-08-30T22:56:24.743Z"
   },
   {
    "duration": 2,
    "start_time": "2023-08-30T22:56:24.774Z"
   },
   {
    "duration": 452607,
    "start_time": "2023-08-30T22:56:24.778Z"
   },
   {
    "duration": 14052,
    "start_time": "2023-08-30T23:03:57.387Z"
   },
   {
    "duration": 956,
    "start_time": "2023-08-30T23:04:11.441Z"
   },
   {
    "duration": 34866,
    "start_time": "2023-08-30T23:04:12.399Z"
   },
   {
    "duration": 2803,
    "start_time": "2023-08-30T23:04:47.267Z"
   },
   {
    "duration": 1009,
    "start_time": "2023-08-30T23:04:50.156Z"
   },
   {
    "duration": 3302,
    "start_time": "2023-08-30T23:04:51.167Z"
   },
   {
    "duration": 6,
    "start_time": "2023-08-30T23:04:54.471Z"
   }
  ],
  "kernelspec": {
   "display_name": "Python 3 (ipykernel)",
   "language": "python",
   "name": "python3"
  },
  "language_info": {
   "codemirror_mode": {
    "name": "ipython",
    "version": 3
   },
   "file_extension": ".py",
   "mimetype": "text/x-python",
   "name": "python",
   "nbconvert_exporter": "python",
   "pygments_lexer": "ipython3",
   "version": "3.10.9"
  },
  "toc": {
   "base_numbering": 1,
   "nav_menu": {},
   "number_sections": true,
   "sideBar": true,
   "skip_h1_title": true,
   "title_cell": "Table of Contents",
   "title_sidebar": "Contents",
   "toc_cell": false,
   "toc_position": {
    "height": "calc(100% - 180px)",
    "left": "10px",
    "top": "150px",
    "width": "359px"
   },
   "toc_section_display": true,
   "toc_window_display": true
  }
 },
 "nbformat": 4,
 "nbformat_minor": 2
}
