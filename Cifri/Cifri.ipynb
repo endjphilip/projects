{
 "cells": [
  {
   "cell_type": "markdown",
   "metadata": {
    "toc": true
   },
   "source": [
    "<h1>Содержание<span class=\"tocSkip\"></span></h1>\n",
    "<div class=\"toc\"><ul class=\"toc-item\"><li><span><a href=\"#Подготовка-данных\" data-toc-modified-id=\"Подготовка-данных-1\"><span class=\"toc-item-num\">1&nbsp;&nbsp;</span>Подготовка данных</a></span></li><li><span><a href=\"#Анализ-данных\" data-toc-modified-id=\"Анализ-данных-2\"><span class=\"toc-item-num\">2&nbsp;&nbsp;</span>Анализ данных</a></span></li><li><span><a href=\"#Модель\" data-toc-modified-id=\"Модель-3\"><span class=\"toc-item-num\">3&nbsp;&nbsp;</span>Модель</a></span><ul class=\"toc-item\"><li><span><a href=\"#Первая-модель\" data-toc-modified-id=\"Первая-модель-3.1\"><span class=\"toc-item-num\">3.1&nbsp;&nbsp;</span>Первая модель</a></span></li><li><span><a href=\"#Вторая-модель.\" data-toc-modified-id=\"Вторая-модель.-3.2\"><span class=\"toc-item-num\">3.2&nbsp;&nbsp;</span>Вторая модель.</a></span></li><li><span><a href=\"#Третья-модель\" data-toc-modified-id=\"Третья-модель-3.3\"><span class=\"toc-item-num\">3.3&nbsp;&nbsp;</span>Третья модель</a></span></li><li><span><a href=\"#Проверка-модели\" data-toc-modified-id=\"Проверка-модели-3.4\"><span class=\"toc-item-num\">3.4&nbsp;&nbsp;</span>Проверка модели</a></span></li></ul></li><li><span><a href=\"#Общий-вывод\" data-toc-modified-id=\"Общий-вывод-4\"><span class=\"toc-item-num\">4&nbsp;&nbsp;</span>Общий вывод</a></span></li><li><span><a href=\"#Чек-лист-готовности-проекта\" data-toc-modified-id=\"Чек-лист-готовности-проекта-5\"><span class=\"toc-item-num\">5&nbsp;&nbsp;</span>Чек-лист готовности проекта</a></span></li></ul></div>"
   ]
  },
  {
   "cell_type": "markdown",
   "metadata": {},
   "source": [
    "# Восстановление золота из руды"
   ]
  },
  {
   "cell_type": "markdown",
   "metadata": {},
   "source": [
    "Нужно подготовить прототип модели машинного обучения для «Цифры». Компания разрабатывает решения для эффективной работы промышленных предприятий.\n",
    "\n",
    "Модель должна предсказать коэффициент восстановления золота из золотосодержащей руды. Используем данные с параметрами добычи и очистки. \n",
    "\n",
    "Модель поможет оптимизировать производство, чтобы не запускать предприятие с убыточными характеристиками.\n",
    "\n",
    "Нам нужно:\n",
    "\n",
    "1. Подготовить данные;\n",
    "2. Провести исследовательский анализ данных;\n",
    "3. Построить и обучить модель."
   ]
  },
  {
   "cell_type": "code",
   "execution_count": 1,
   "metadata": {},
   "outputs": [],
   "source": [
    "import pandas as pd\n",
    "import matplotlib.pyplot as plt\n",
    "import seaborn as sns\n",
    "import numpy as np\n",
    "from sklearn.dummy import DummyRegressor\n",
    "from sklearn.metrics import mean_absolute_error, make_scorer\n",
    "from sklearn.model_selection import cross_val_score, GridSearchCV, RandomizedSearchCV\n",
    "from sklearn.linear_model import LinearRegression\n",
    "from sklearn.tree import DecisionTreeRegressor\n",
    "from sklearn.ensemble import RandomForestRegressor"
   ]
  },
  {
   "cell_type": "markdown",
   "metadata": {},
   "source": [
    "## Подготовка данных"
   ]
  },
  {
   "cell_type": "code",
   "execution_count": 2,
   "metadata": {},
   "outputs": [],
   "source": [
    "data = pd.read_csv('/datasets/gold_industry_full.csv')"
   ]
  },
  {
   "cell_type": "code",
   "execution_count": 3,
   "metadata": {},
   "outputs": [],
   "source": [
    "data_train = pd.read_csv('/datasets/gold_industry_train.csv')"
   ]
  },
  {
   "cell_type": "code",
   "execution_count": 4,
   "metadata": {},
   "outputs": [],
   "source": [
    "data_test = pd.read_csv('/datasets/gold_industry_test.csv')"
   ]
  },
  {
   "cell_type": "code",
   "execution_count": 5,
   "metadata": {},
   "outputs": [
    {
     "data": {
      "text/html": [
       "<div>\n",
       "<style scoped>\n",
       "    .dataframe tbody tr th:only-of-type {\n",
       "        vertical-align: middle;\n",
       "    }\n",
       "\n",
       "    .dataframe tbody tr th {\n",
       "        vertical-align: top;\n",
       "    }\n",
       "\n",
       "    .dataframe thead th {\n",
       "        text-align: right;\n",
       "    }\n",
       "</style>\n",
       "<table border=\"1\" class=\"dataframe\">\n",
       "  <thead>\n",
       "    <tr style=\"text-align: right;\">\n",
       "      <th></th>\n",
       "      <th>date</th>\n",
       "      <th>rougher.input.feed_au</th>\n",
       "      <th>rougher.input.feed_ag</th>\n",
       "      <th>rougher.input.feed_pb</th>\n",
       "      <th>rougher.input.feed_sol</th>\n",
       "      <th>rougher.input.feed_rate</th>\n",
       "      <th>rougher.input.feed_size</th>\n",
       "      <th>rougher.input.floatbank10_sulfate</th>\n",
       "      <th>rougher.input.floatbank10_xanthate</th>\n",
       "      <th>rougher.state.floatbank10_a_air</th>\n",
       "      <th>rougher.state.floatbank10_a_level</th>\n",
       "      <th>rougher.state.floatbank10_b_air</th>\n",
       "      <th>rougher.state.floatbank10_b_level</th>\n",
       "      <th>rougher.state.floatbank10_c_air</th>\n",
       "      <th>rougher.state.floatbank10_c_level</th>\n",
       "      <th>rougher.state.floatbank10_d_air</th>\n",
       "      <th>rougher.state.floatbank10_d_level</th>\n",
       "      <th>rougher.state.floatbank10_e_air</th>\n",
       "      <th>rougher.state.floatbank10_e_level</th>\n",
       "      <th>rougher.state.floatbank10_f_air</th>\n",
       "      <th>rougher.state.floatbank10_f_level</th>\n",
       "      <th>rougher.input.floatbank11_sulfate</th>\n",
       "      <th>rougher.input.floatbank11_xanthate</th>\n",
       "      <th>rougher.calculation.sulfate_to_au_concentrate</th>\n",
       "      <th>rougher.calculation.floatbank10_sulfate_to_au_feed</th>\n",
       "      <th>rougher.calculation.floatbank11_sulfate_to_au_feed</th>\n",
       "      <th>rougher.calculation.au_pb_ratio</th>\n",
       "      <th>rougher.output.concentrate_au</th>\n",
       "      <th>rougher.output.concentrate_ag</th>\n",
       "      <th>rougher.output.concentrate_pb</th>\n",
       "      <th>rougher.output.concentrate_sol</th>\n",
       "      <th>rougher.output.recovery</th>\n",
       "      <th>rougher.output.tail_au</th>\n",
       "      <th>rougher.output.tail_ag</th>\n",
       "      <th>rougher.output.tail_pb</th>\n",
       "      <th>rougher.output.tail_sol</th>\n",
       "      <th>primary_cleaner.input.sulfate</th>\n",
       "      <th>primary_cleaner.input.depressant</th>\n",
       "      <th>primary_cleaner.input.feed_size</th>\n",
       "      <th>primary_cleaner.input.xanthate</th>\n",
       "      <th>primary_cleaner.state.floatbank8_a_air</th>\n",
       "      <th>primary_cleaner.state.floatbank8_a_level</th>\n",
       "      <th>primary_cleaner.state.floatbank8_b_air</th>\n",
       "      <th>primary_cleaner.state.floatbank8_b_level</th>\n",
       "      <th>primary_cleaner.state.floatbank8_c_air</th>\n",
       "      <th>primary_cleaner.state.floatbank8_c_level</th>\n",
       "      <th>primary_cleaner.state.floatbank8_d_air</th>\n",
       "      <th>primary_cleaner.state.floatbank8_d_level</th>\n",
       "      <th>primary_cleaner.output.concentrate_au</th>\n",
       "      <th>primary_cleaner.output.concentrate_ag</th>\n",
       "      <th>primary_cleaner.output.concentrate_pb</th>\n",
       "      <th>primary_cleaner.output.concentrate_sol</th>\n",
       "      <th>primary_cleaner.output.tail_au</th>\n",
       "      <th>primary_cleaner.output.tail_ag</th>\n",
       "      <th>primary_cleaner.output.tail_pb</th>\n",
       "      <th>primary_cleaner.output.tail_sol</th>\n",
       "      <th>secondary_cleaner.state.floatbank2_a_air</th>\n",
       "      <th>secondary_cleaner.state.floatbank2_a_level</th>\n",
       "      <th>secondary_cleaner.state.floatbank2_b_air</th>\n",
       "      <th>secondary_cleaner.state.floatbank2_b_level</th>\n",
       "      <th>secondary_cleaner.state.floatbank3_a_air</th>\n",
       "      <th>secondary_cleaner.state.floatbank3_a_level</th>\n",
       "      <th>secondary_cleaner.state.floatbank3_b_air</th>\n",
       "      <th>secondary_cleaner.state.floatbank3_b_level</th>\n",
       "      <th>secondary_cleaner.state.floatbank4_a_air</th>\n",
       "      <th>secondary_cleaner.state.floatbank4_a_level</th>\n",
       "      <th>secondary_cleaner.state.floatbank4_b_air</th>\n",
       "      <th>secondary_cleaner.state.floatbank4_b_level</th>\n",
       "      <th>secondary_cleaner.state.floatbank5_a_air</th>\n",
       "      <th>secondary_cleaner.state.floatbank5_a_level</th>\n",
       "      <th>secondary_cleaner.state.floatbank5_b_air</th>\n",
       "      <th>secondary_cleaner.state.floatbank5_b_level</th>\n",
       "      <th>secondary_cleaner.state.floatbank6_a_air</th>\n",
       "      <th>secondary_cleaner.state.floatbank6_a_level</th>\n",
       "      <th>secondary_cleaner.output.tail_au</th>\n",
       "      <th>secondary_cleaner.output.tail_ag</th>\n",
       "      <th>secondary_cleaner.output.tail_pb</th>\n",
       "      <th>secondary_cleaner.output.tail_sol</th>\n",
       "      <th>final.output.concentrate_au</th>\n",
       "      <th>final.output.concentrate_ag</th>\n",
       "      <th>final.output.concentrate_pb</th>\n",
       "      <th>final.output.concentrate_sol</th>\n",
       "      <th>final.output.recovery</th>\n",
       "      <th>final.output.tail_au</th>\n",
       "      <th>final.output.tail_ag</th>\n",
       "      <th>final.output.tail_pb</th>\n",
       "      <th>final.output.tail_sol</th>\n",
       "    </tr>\n",
       "  </thead>\n",
       "  <tbody>\n",
       "    <tr>\n",
       "      <th>0</th>\n",
       "      <td>2016-01-15 00:00:00</td>\n",
       "      <td>6.486150</td>\n",
       "      <td>6.100378</td>\n",
       "      <td>2.284912</td>\n",
       "      <td>36.808594</td>\n",
       "      <td>523.546326</td>\n",
       "      <td>55.486599</td>\n",
       "      <td>11.986616</td>\n",
       "      <td>6.007990</td>\n",
       "      <td>999.706909</td>\n",
       "      <td>-404.066986</td>\n",
       "      <td>1603.011353</td>\n",
       "      <td>-434.715027</td>\n",
       "      <td>1602.375000</td>\n",
       "      <td>-442.204468</td>\n",
       "      <td>1598.937256</td>\n",
       "      <td>-451.294128</td>\n",
       "      <td>1404.472046</td>\n",
       "      <td>-455.462982</td>\n",
       "      <td>1416.354980</td>\n",
       "      <td>-451.939636</td>\n",
       "      <td>11.836743</td>\n",
       "      <td>6.005818</td>\n",
       "      <td>41885.707031</td>\n",
       "      <td>3481.779053</td>\n",
       "      <td>3520.337158</td>\n",
       "      <td>2.838687</td>\n",
       "      <td>19.793808</td>\n",
       "      <td>11.500771</td>\n",
       "      <td>7.101074</td>\n",
       "      <td>28.029297</td>\n",
       "      <td>87.107763</td>\n",
       "      <td>1.170244</td>\n",
       "      <td>5.008018</td>\n",
       "      <td>0.508728</td>\n",
       "      <td>19.154297</td>\n",
       "      <td>127.092003</td>\n",
       "      <td>10.128295</td>\n",
       "      <td>7.25</td>\n",
       "      <td>0.988759</td>\n",
       "      <td>1549.775757</td>\n",
       "      <td>-498.912140</td>\n",
       "      <td>1551.434204</td>\n",
       "      <td>-516.403442</td>\n",
       "      <td>1549.873901</td>\n",
       "      <td>-498.666595</td>\n",
       "      <td>1554.367432</td>\n",
       "      <td>-493.428131</td>\n",
       "      <td>34.174427</td>\n",
       "      <td>8.547551</td>\n",
       "      <td>10.389648</td>\n",
       "      <td>19.529297</td>\n",
       "      <td>2.106679</td>\n",
       "      <td>14.936526</td>\n",
       "      <td>2.534912</td>\n",
       "      <td>7.476074</td>\n",
       "      <td>25.853109</td>\n",
       "      <td>-498.526489</td>\n",
       "      <td>23.893660</td>\n",
       "      <td>-501.406281</td>\n",
       "      <td>23.961798</td>\n",
       "      <td>-495.262817</td>\n",
       "      <td>21.940409</td>\n",
       "      <td>-499.340973</td>\n",
       "      <td>14.016835</td>\n",
       "      <td>-502.488007</td>\n",
       "      <td>12.099931</td>\n",
       "      <td>-504.715942</td>\n",
       "      <td>9.925633</td>\n",
       "      <td>-498.310211</td>\n",
       "      <td>8.079666</td>\n",
       "      <td>-500.470978</td>\n",
       "      <td>14.151341</td>\n",
       "      <td>-605.841980</td>\n",
       "      <td>2.606185</td>\n",
       "      <td>14.500184</td>\n",
       "      <td>4.694824</td>\n",
       "      <td>8.764648</td>\n",
       "      <td>42.192020</td>\n",
       "      <td>6.055403</td>\n",
       "      <td>9.889648</td>\n",
       "      <td>5.507324</td>\n",
       "      <td>70.541216</td>\n",
       "      <td>2.143149</td>\n",
       "      <td>10.411962</td>\n",
       "      <td>0.895447</td>\n",
       "      <td>16.904297</td>\n",
       "    </tr>\n",
       "    <tr>\n",
       "      <th>1</th>\n",
       "      <td>2016-01-15 01:00:00</td>\n",
       "      <td>6.478583</td>\n",
       "      <td>6.161113</td>\n",
       "      <td>2.266033</td>\n",
       "      <td>35.753385</td>\n",
       "      <td>525.290581</td>\n",
       "      <td>57.278666</td>\n",
       "      <td>11.971193</td>\n",
       "      <td>6.005766</td>\n",
       "      <td>1000.286398</td>\n",
       "      <td>-400.065196</td>\n",
       "      <td>1600.754587</td>\n",
       "      <td>-449.953435</td>\n",
       "      <td>1600.479580</td>\n",
       "      <td>-449.830646</td>\n",
       "      <td>1600.527589</td>\n",
       "      <td>-449.953649</td>\n",
       "      <td>1399.227084</td>\n",
       "      <td>-450.869848</td>\n",
       "      <td>1399.719514</td>\n",
       "      <td>-450.119001</td>\n",
       "      <td>11.996163</td>\n",
       "      <td>6.012594</td>\n",
       "      <td>42050.861809</td>\n",
       "      <td>3498.370979</td>\n",
       "      <td>3489.981857</td>\n",
       "      <td>2.858998</td>\n",
       "      <td>20.050975</td>\n",
       "      <td>11.615865</td>\n",
       "      <td>7.278807</td>\n",
       "      <td>28.067063</td>\n",
       "      <td>86.843261</td>\n",
       "      <td>1.184827</td>\n",
       "      <td>4.955378</td>\n",
       "      <td>0.536689</td>\n",
       "      <td>18.965234</td>\n",
       "      <td>125.629232</td>\n",
       "      <td>10.296251</td>\n",
       "      <td>7.25</td>\n",
       "      <td>1.002663</td>\n",
       "      <td>1576.166671</td>\n",
       "      <td>-500.904965</td>\n",
       "      <td>1575.950626</td>\n",
       "      <td>-499.865889</td>\n",
       "      <td>1575.994189</td>\n",
       "      <td>-499.315107</td>\n",
       "      <td>1574.479259</td>\n",
       "      <td>-498.931665</td>\n",
       "      <td>34.118526</td>\n",
       "      <td>8.558743</td>\n",
       "      <td>10.497069</td>\n",
       "      <td>19.369147</td>\n",
       "      <td>2.353017</td>\n",
       "      <td>16.250511</td>\n",
       "      <td>3.049646</td>\n",
       "      <td>6.733907</td>\n",
       "      <td>25.880539</td>\n",
       "      <td>-499.989656</td>\n",
       "      <td>23.889530</td>\n",
       "      <td>-500.372428</td>\n",
       "      <td>23.970550</td>\n",
       "      <td>-500.085473</td>\n",
       "      <td>22.085714</td>\n",
       "      <td>-499.446897</td>\n",
       "      <td>13.992281</td>\n",
       "      <td>-505.503262</td>\n",
       "      <td>11.950531</td>\n",
       "      <td>-501.331529</td>\n",
       "      <td>10.039245</td>\n",
       "      <td>-500.169983</td>\n",
       "      <td>7.984757</td>\n",
       "      <td>-500.582168</td>\n",
       "      <td>13.998353</td>\n",
       "      <td>-599.787184</td>\n",
       "      <td>2.488248</td>\n",
       "      <td>14.265474</td>\n",
       "      <td>4.592547</td>\n",
       "      <td>9.001494</td>\n",
       "      <td>42.701629</td>\n",
       "      <td>6.029369</td>\n",
       "      <td>9.968944</td>\n",
       "      <td>5.257781</td>\n",
       "      <td>69.266198</td>\n",
       "      <td>2.224930</td>\n",
       "      <td>10.462676</td>\n",
       "      <td>0.927452</td>\n",
       "      <td>16.634514</td>\n",
       "    </tr>\n",
       "    <tr>\n",
       "      <th>2</th>\n",
       "      <td>2016-01-15 02:00:00</td>\n",
       "      <td>6.362222</td>\n",
       "      <td>6.116455</td>\n",
       "      <td>2.159622</td>\n",
       "      <td>35.971630</td>\n",
       "      <td>530.026610</td>\n",
       "      <td>57.510649</td>\n",
       "      <td>11.920603</td>\n",
       "      <td>6.197377</td>\n",
       "      <td>999.719565</td>\n",
       "      <td>-400.074028</td>\n",
       "      <td>1599.337330</td>\n",
       "      <td>-450.008530</td>\n",
       "      <td>1599.672797</td>\n",
       "      <td>-449.954491</td>\n",
       "      <td>1599.849325</td>\n",
       "      <td>-449.954185</td>\n",
       "      <td>1399.180945</td>\n",
       "      <td>-449.937588</td>\n",
       "      <td>1400.316682</td>\n",
       "      <td>-450.527147</td>\n",
       "      <td>11.920305</td>\n",
       "      <td>6.204633</td>\n",
       "      <td>42018.101184</td>\n",
       "      <td>3495.348910</td>\n",
       "      <td>3502.359819</td>\n",
       "      <td>2.945989</td>\n",
       "      <td>19.737170</td>\n",
       "      <td>11.695753</td>\n",
       "      <td>7.216833</td>\n",
       "      <td>27.454037</td>\n",
       "      <td>86.842308</td>\n",
       "      <td>1.162562</td>\n",
       "      <td>4.843460</td>\n",
       "      <td>0.546416</td>\n",
       "      <td>18.808533</td>\n",
       "      <td>123.819808</td>\n",
       "      <td>11.316280</td>\n",
       "      <td>7.25</td>\n",
       "      <td>0.991265</td>\n",
       "      <td>1601.556163</td>\n",
       "      <td>-499.997791</td>\n",
       "      <td>1600.386685</td>\n",
       "      <td>-500.607762</td>\n",
       "      <td>1602.003542</td>\n",
       "      <td>-500.870069</td>\n",
       "      <td>1599.541515</td>\n",
       "      <td>-499.827444</td>\n",
       "      <td>33.969464</td>\n",
       "      <td>8.603505</td>\n",
       "      <td>10.354494</td>\n",
       "      <td>19.167579</td>\n",
       "      <td>2.416800</td>\n",
       "      <td>16.491823</td>\n",
       "      <td>3.124664</td>\n",
       "      <td>6.471768</td>\n",
       "      <td>26.005245</td>\n",
       "      <td>-499.929616</td>\n",
       "      <td>23.886657</td>\n",
       "      <td>-499.951928</td>\n",
       "      <td>23.913535</td>\n",
       "      <td>-499.442343</td>\n",
       "      <td>23.957717</td>\n",
       "      <td>-499.901982</td>\n",
       "      <td>14.015015</td>\n",
       "      <td>-502.520901</td>\n",
       "      <td>11.912783</td>\n",
       "      <td>-501.133383</td>\n",
       "      <td>10.070913</td>\n",
       "      <td>-500.129135</td>\n",
       "      <td>8.013877</td>\n",
       "      <td>-500.517572</td>\n",
       "      <td>14.028663</td>\n",
       "      <td>-601.427363</td>\n",
       "      <td>2.458187</td>\n",
       "      <td>14.115662</td>\n",
       "      <td>4.624775</td>\n",
       "      <td>8.842896</td>\n",
       "      <td>42.657501</td>\n",
       "      <td>6.055926</td>\n",
       "      <td>10.213995</td>\n",
       "      <td>5.383759</td>\n",
       "      <td>68.116445</td>\n",
       "      <td>2.257889</td>\n",
       "      <td>10.507046</td>\n",
       "      <td>0.953716</td>\n",
       "      <td>16.208849</td>\n",
       "    </tr>\n",
       "    <tr>\n",
       "      <th>3</th>\n",
       "      <td>2016-01-15 03:00:00</td>\n",
       "      <td>6.118189</td>\n",
       "      <td>6.043309</td>\n",
       "      <td>2.037807</td>\n",
       "      <td>36.862241</td>\n",
       "      <td>542.590390</td>\n",
       "      <td>57.792734</td>\n",
       "      <td>11.630094</td>\n",
       "      <td>6.203177</td>\n",
       "      <td>999.814770</td>\n",
       "      <td>-400.200179</td>\n",
       "      <td>1600.059442</td>\n",
       "      <td>-450.619948</td>\n",
       "      <td>1600.012842</td>\n",
       "      <td>-449.910497</td>\n",
       "      <td>1597.725177</td>\n",
       "      <td>-450.130127</td>\n",
       "      <td>1400.943157</td>\n",
       "      <td>-450.030142</td>\n",
       "      <td>1400.234743</td>\n",
       "      <td>-449.790835</td>\n",
       "      <td>11.692450</td>\n",
       "      <td>6.196578</td>\n",
       "      <td>42029.447991</td>\n",
       "      <td>3498.578313</td>\n",
       "      <td>3499.162912</td>\n",
       "      <td>3.002340</td>\n",
       "      <td>19.320810</td>\n",
       "      <td>11.915047</td>\n",
       "      <td>7.175616</td>\n",
       "      <td>27.341277</td>\n",
       "      <td>87.226430</td>\n",
       "      <td>1.079755</td>\n",
       "      <td>4.655288</td>\n",
       "      <td>0.542525</td>\n",
       "      <td>19.330200</td>\n",
       "      <td>122.270188</td>\n",
       "      <td>11.322140</td>\n",
       "      <td>7.25</td>\n",
       "      <td>0.996739</td>\n",
       "      <td>1599.968720</td>\n",
       "      <td>-500.951778</td>\n",
       "      <td>1600.659236</td>\n",
       "      <td>-499.677094</td>\n",
       "      <td>1600.304144</td>\n",
       "      <td>-500.727997</td>\n",
       "      <td>1600.449520</td>\n",
       "      <td>-500.052575</td>\n",
       "      <td>28.260743</td>\n",
       "      <td>7.221879</td>\n",
       "      <td>8.496563</td>\n",
       "      <td>15.978538</td>\n",
       "      <td>2.262051</td>\n",
       "      <td>16.024359</td>\n",
       "      <td>2.960362</td>\n",
       "      <td>6.843791</td>\n",
       "      <td>25.942508</td>\n",
       "      <td>-499.176749</td>\n",
       "      <td>23.955516</td>\n",
       "      <td>-499.848796</td>\n",
       "      <td>23.966838</td>\n",
       "      <td>-500.008812</td>\n",
       "      <td>23.954443</td>\n",
       "      <td>-499.944710</td>\n",
       "      <td>14.036510</td>\n",
       "      <td>-500.857308</td>\n",
       "      <td>11.999550</td>\n",
       "      <td>-501.193686</td>\n",
       "      <td>9.970366</td>\n",
       "      <td>-499.201640</td>\n",
       "      <td>7.977324</td>\n",
       "      <td>-500.255908</td>\n",
       "      <td>14.005551</td>\n",
       "      <td>-599.996129</td>\n",
       "      <td>2.322062</td>\n",
       "      <td>13.732071</td>\n",
       "      <td>4.482453</td>\n",
       "      <td>9.122857</td>\n",
       "      <td>42.689819</td>\n",
       "      <td>6.047977</td>\n",
       "      <td>9.977019</td>\n",
       "      <td>4.858634</td>\n",
       "      <td>68.347543</td>\n",
       "      <td>2.146849</td>\n",
       "      <td>10.422762</td>\n",
       "      <td>0.883763</td>\n",
       "      <td>16.532835</td>\n",
       "    </tr>\n",
       "    <tr>\n",
       "      <th>4</th>\n",
       "      <td>2016-01-15 04:00:00</td>\n",
       "      <td>5.663707</td>\n",
       "      <td>6.060915</td>\n",
       "      <td>1.786875</td>\n",
       "      <td>34.347666</td>\n",
       "      <td>540.531893</td>\n",
       "      <td>56.047189</td>\n",
       "      <td>10.957755</td>\n",
       "      <td>6.198826</td>\n",
       "      <td>999.678690</td>\n",
       "      <td>-399.752729</td>\n",
       "      <td>1600.208824</td>\n",
       "      <td>-449.599614</td>\n",
       "      <td>1600.357732</td>\n",
       "      <td>-450.034364</td>\n",
       "      <td>1599.759049</td>\n",
       "      <td>-449.909799</td>\n",
       "      <td>1401.560902</td>\n",
       "      <td>-448.877187</td>\n",
       "      <td>1401.160227</td>\n",
       "      <td>-450.407128</td>\n",
       "      <td>10.960521</td>\n",
       "      <td>6.194897</td>\n",
       "      <td>42125.354245</td>\n",
       "      <td>3494.800771</td>\n",
       "      <td>3506.679315</td>\n",
       "      <td>3.169615</td>\n",
       "      <td>19.216101</td>\n",
       "      <td>12.411054</td>\n",
       "      <td>7.240205</td>\n",
       "      <td>27.041023</td>\n",
       "      <td>86.688794</td>\n",
       "      <td>1.012642</td>\n",
       "      <td>4.552800</td>\n",
       "      <td>0.515438</td>\n",
       "      <td>19.267422</td>\n",
       "      <td>117.988169</td>\n",
       "      <td>11.913613</td>\n",
       "      <td>7.25</td>\n",
       "      <td>1.009869</td>\n",
       "      <td>1601.339707</td>\n",
       "      <td>-498.975456</td>\n",
       "      <td>1601.437854</td>\n",
       "      <td>-500.323246</td>\n",
       "      <td>1599.581894</td>\n",
       "      <td>-500.888152</td>\n",
       "      <td>1602.649541</td>\n",
       "      <td>-500.593010</td>\n",
       "      <td>33.044932</td>\n",
       "      <td>9.089428</td>\n",
       "      <td>9.986786</td>\n",
       "      <td>19.199864</td>\n",
       "      <td>2.277073</td>\n",
       "      <td>16.480185</td>\n",
       "      <td>3.112100</td>\n",
       "      <td>6.550154</td>\n",
       "      <td>26.024787</td>\n",
       "      <td>-500.279091</td>\n",
       "      <td>23.955345</td>\n",
       "      <td>-500.593614</td>\n",
       "      <td>23.985703</td>\n",
       "      <td>-500.083811</td>\n",
       "      <td>23.958945</td>\n",
       "      <td>-499.990309</td>\n",
       "      <td>14.027298</td>\n",
       "      <td>-499.838632</td>\n",
       "      <td>11.953070</td>\n",
       "      <td>-501.053894</td>\n",
       "      <td>9.925709</td>\n",
       "      <td>-501.686727</td>\n",
       "      <td>7.894242</td>\n",
       "      <td>-500.356035</td>\n",
       "      <td>13.996647</td>\n",
       "      <td>-601.496691</td>\n",
       "      <td>2.330448</td>\n",
       "      <td>14.079996</td>\n",
       "      <td>4.470737</td>\n",
       "      <td>8.871028</td>\n",
       "      <td>42.774141</td>\n",
       "      <td>6.148599</td>\n",
       "      <td>10.142511</td>\n",
       "      <td>4.939416</td>\n",
       "      <td>66.927016</td>\n",
       "      <td>2.055292</td>\n",
       "      <td>10.360302</td>\n",
       "      <td>0.792826</td>\n",
       "      <td>16.525686</td>\n",
       "    </tr>\n",
       "    <tr>\n",
       "      <th>5</th>\n",
       "      <td>2016-01-15 05:00:00</td>\n",
       "      <td>5.687168</td>\n",
       "      <td>5.801920</td>\n",
       "      <td>1.879351</td>\n",
       "      <td>35.470082</td>\n",
       "      <td>546.173470</td>\n",
       "      <td>57.469578</td>\n",
       "      <td>11.072517</td>\n",
       "      <td>6.200383</td>\n",
       "      <td>999.934134</td>\n",
       "      <td>-400.599524</td>\n",
       "      <td>1601.080554</td>\n",
       "      <td>-450.120760</td>\n",
       "      <td>1603.164805</td>\n",
       "      <td>-450.097732</td>\n",
       "      <td>1603.368371</td>\n",
       "      <td>-446.306150</td>\n",
       "      <td>1403.393100</td>\n",
       "      <td>-447.899904</td>\n",
       "      <td>1402.903175</td>\n",
       "      <td>-448.872321</td>\n",
       "      <td>11.075009</td>\n",
       "      <td>6.202362</td>\n",
       "      <td>41973.280986</td>\n",
       "      <td>3501.916973</td>\n",
       "      <td>3499.527175</td>\n",
       "      <td>3.026134</td>\n",
       "      <td>18.950385</td>\n",
       "      <td>11.985584</td>\n",
       "      <td>7.121903</td>\n",
       "      <td>26.898046</td>\n",
       "      <td>88.156912</td>\n",
       "      <td>0.915835</td>\n",
       "      <td>4.397415</td>\n",
       "      <td>0.491350</td>\n",
       "      <td>19.640269</td>\n",
       "      <td>115.581252</td>\n",
       "      <td>12.470773</td>\n",
       "      <td>7.25</td>\n",
       "      <td>0.965760</td>\n",
       "      <td>1602.964922</td>\n",
       "      <td>-498.090944</td>\n",
       "      <td>1602.074298</td>\n",
       "      <td>-500.179481</td>\n",
       "      <td>1602.154812</td>\n",
       "      <td>-498.642614</td>\n",
       "      <td>1605.020106</td>\n",
       "      <td>-500.538177</td>\n",
       "      <td>32.070664</td>\n",
       "      <td>9.553724</td>\n",
       "      <td>9.816215</td>\n",
       "      <td>19.167328</td>\n",
       "      <td>2.114558</td>\n",
       "      <td>15.931540</td>\n",
       "      <td>2.844511</td>\n",
       "      <td>6.724197</td>\n",
       "      <td>26.014841</td>\n",
       "      <td>-498.864670</td>\n",
       "      <td>23.880214</td>\n",
       "      <td>-499.738447</td>\n",
       "      <td>23.982635</td>\n",
       "      <td>-500.495272</td>\n",
       "      <td>24.009749</td>\n",
       "      <td>-499.433825</td>\n",
       "      <td>13.938497</td>\n",
       "      <td>-500.970168</td>\n",
       "      <td>11.883350</td>\n",
       "      <td>-500.395298</td>\n",
       "      <td>10.054147</td>\n",
       "      <td>-496.374715</td>\n",
       "      <td>7.965083</td>\n",
       "      <td>-499.364752</td>\n",
       "      <td>14.017067</td>\n",
       "      <td>-599.707915</td>\n",
       "      <td>2.192127</td>\n",
       "      <td>13.615012</td>\n",
       "      <td>4.286817</td>\n",
       "      <td>9.302669</td>\n",
       "      <td>41.633678</td>\n",
       "      <td>6.482968</td>\n",
       "      <td>10.049416</td>\n",
       "      <td>5.480257</td>\n",
       "      <td>69.465816</td>\n",
       "      <td>1.918586</td>\n",
       "      <td>10.182708</td>\n",
       "      <td>0.664118</td>\n",
       "      <td>16.999638</td>\n",
       "    </tr>\n",
       "    <tr>\n",
       "      <th>6</th>\n",
       "      <td>2016-01-15 06:00:00</td>\n",
       "      <td>6.038436</td>\n",
       "      <td>6.056253</td>\n",
       "      <td>2.105501</td>\n",
       "      <td>34.920570</td>\n",
       "      <td>523.376439</td>\n",
       "      <td>56.674647</td>\n",
       "      <td>11.535899</td>\n",
       "      <td>6.204974</td>\n",
       "      <td>999.832373</td>\n",
       "      <td>-399.353521</td>\n",
       "      <td>1600.753019</td>\n",
       "      <td>-450.050089</td>\n",
       "      <td>1599.019966</td>\n",
       "      <td>-449.848507</td>\n",
       "      <td>1600.298267</td>\n",
       "      <td>-453.102891</td>\n",
       "      <td>1397.853265</td>\n",
       "      <td>-451.306640</td>\n",
       "      <td>1397.973670</td>\n",
       "      <td>-451.355626</td>\n",
       "      <td>11.539227</td>\n",
       "      <td>6.200515</td>\n",
       "      <td>41956.468979</td>\n",
       "      <td>3497.427365</td>\n",
       "      <td>3506.352790</td>\n",
       "      <td>2.867933</td>\n",
       "      <td>19.319591</td>\n",
       "      <td>11.684307</td>\n",
       "      <td>7.304849</td>\n",
       "      <td>27.063672</td>\n",
       "      <td>88.168065</td>\n",
       "      <td>0.986248</td>\n",
       "      <td>4.478080</td>\n",
       "      <td>0.518266</td>\n",
       "      <td>19.262491</td>\n",
       "      <td>117.322323</td>\n",
       "      <td>12.469088</td>\n",
       "      <td>7.25</td>\n",
       "      <td>0.895207</td>\n",
       "      <td>1597.532455</td>\n",
       "      <td>-500.985364</td>\n",
       "      <td>1602.816321</td>\n",
       "      <td>-500.696736</td>\n",
       "      <td>1603.572091</td>\n",
       "      <td>-500.256955</td>\n",
       "      <td>1597.597437</td>\n",
       "      <td>-500.378192</td>\n",
       "      <td>33.184823</td>\n",
       "      <td>8.968869</td>\n",
       "      <td>10.081306</td>\n",
       "      <td>18.930855</td>\n",
       "      <td>2.223152</td>\n",
       "      <td>16.078368</td>\n",
       "      <td>2.938979</td>\n",
       "      <td>6.623598</td>\n",
       "      <td>25.957594</td>\n",
       "      <td>-500.134472</td>\n",
       "      <td>24.077199</td>\n",
       "      <td>-500.089190</td>\n",
       "      <td>23.991710</td>\n",
       "      <td>-500.391528</td>\n",
       "      <td>23.954144</td>\n",
       "      <td>-501.872171</td>\n",
       "      <td>14.046819</td>\n",
       "      <td>-500.971133</td>\n",
       "      <td>12.091543</td>\n",
       "      <td>-500.501426</td>\n",
       "      <td>10.003247</td>\n",
       "      <td>-497.083180</td>\n",
       "      <td>8.010890</td>\n",
       "      <td>-500.002423</td>\n",
       "      <td>14.029649</td>\n",
       "      <td>-600.905470</td>\n",
       "      <td>2.316720</td>\n",
       "      <td>13.597056</td>\n",
       "      <td>4.487865</td>\n",
       "      <td>9.103047</td>\n",
       "      <td>41.995316</td>\n",
       "      <td>6.533849</td>\n",
       "      <td>10.058141</td>\n",
       "      <td>4.569100</td>\n",
       "      <td>69.300835</td>\n",
       "      <td>2.058913</td>\n",
       "      <td>10.304598</td>\n",
       "      <td>0.807342</td>\n",
       "      <td>16.723575</td>\n",
       "    </tr>\n",
       "    <tr>\n",
       "      <th>7</th>\n",
       "      <td>2016-01-15 07:00:00</td>\n",
       "      <td>6.433854</td>\n",
       "      <td>5.955053</td>\n",
       "      <td>2.310432</td>\n",
       "      <td>36.091386</td>\n",
       "      <td>549.842749</td>\n",
       "      <td>56.730325</td>\n",
       "      <td>12.557906</td>\n",
       "      <td>6.799275</td>\n",
       "      <td>1000.166602</td>\n",
       "      <td>-400.556601</td>\n",
       "      <td>1598.877246</td>\n",
       "      <td>-450.070980</td>\n",
       "      <td>1598.108717</td>\n",
       "      <td>-449.211334</td>\n",
       "      <td>1592.872844</td>\n",
       "      <td>-449.806802</td>\n",
       "      <td>1396.580752</td>\n",
       "      <td>-453.548352</td>\n",
       "      <td>1397.289884</td>\n",
       "      <td>-450.221696</td>\n",
       "      <td>12.583109</td>\n",
       "      <td>6.798354</td>\n",
       "      <td>41812.416893</td>\n",
       "      <td>3497.275828</td>\n",
       "      <td>3501.000030</td>\n",
       "      <td>2.784698</td>\n",
       "      <td>19.507897</td>\n",
       "      <td>11.182624</td>\n",
       "      <td>7.258496</td>\n",
       "      <td>27.231114</td>\n",
       "      <td>87.668336</td>\n",
       "      <td>1.116110</td>\n",
       "      <td>4.728325</td>\n",
       "      <td>0.548067</td>\n",
       "      <td>18.861866</td>\n",
       "      <td>124.592960</td>\n",
       "      <td>12.467403</td>\n",
       "      <td>7.25</td>\n",
       "      <td>0.901202</td>\n",
       "      <td>1597.946266</td>\n",
       "      <td>-501.592304</td>\n",
       "      <td>1601.078254</td>\n",
       "      <td>-499.494115</td>\n",
       "      <td>1602.630688</td>\n",
       "      <td>-500.173741</td>\n",
       "      <td>1595.937990</td>\n",
       "      <td>-498.929825</td>\n",
       "      <td>34.027719</td>\n",
       "      <td>8.545238</td>\n",
       "      <td>10.224540</td>\n",
       "      <td>18.735813</td>\n",
       "      <td>2.112025</td>\n",
       "      <td>15.797720</td>\n",
       "      <td>2.881529</td>\n",
       "      <td>6.872033</td>\n",
       "      <td>25.938026</td>\n",
       "      <td>-499.657795</td>\n",
       "      <td>24.020179</td>\n",
       "      <td>-499.798396</td>\n",
       "      <td>24.031555</td>\n",
       "      <td>-500.550436</td>\n",
       "      <td>23.968160</td>\n",
       "      <td>-499.836513</td>\n",
       "      <td>13.974691</td>\n",
       "      <td>-501.819696</td>\n",
       "      <td>12.101324</td>\n",
       "      <td>-500.583446</td>\n",
       "      <td>9.873169</td>\n",
       "      <td>-499.171928</td>\n",
       "      <td>7.993381</td>\n",
       "      <td>-499.794518</td>\n",
       "      <td>13.984498</td>\n",
       "      <td>-600.411070</td>\n",
       "      <td>2.192197</td>\n",
       "      <td>13.177237</td>\n",
       "      <td>4.432448</td>\n",
       "      <td>9.369209</td>\n",
       "      <td>42.452727</td>\n",
       "      <td>6.130823</td>\n",
       "      <td>9.935481</td>\n",
       "      <td>4.389813</td>\n",
       "      <td>70.230976</td>\n",
       "      <td>2.143437</td>\n",
       "      <td>10.443288</td>\n",
       "      <td>0.949346</td>\n",
       "      <td>16.689959</td>\n",
       "    </tr>\n",
       "    <tr>\n",
       "      <th>8</th>\n",
       "      <td>2016-01-15 08:00:00</td>\n",
       "      <td>6.526612</td>\n",
       "      <td>5.878084</td>\n",
       "      <td>2.391713</td>\n",
       "      <td>35.753879</td>\n",
       "      <td>560.115242</td>\n",
       "      <td>56.649893</td>\n",
       "      <td>13.166128</td>\n",
       "      <td>6.798659</td>\n",
       "      <td>1000.026864</td>\n",
       "      <td>-399.968583</td>\n",
       "      <td>1599.813104</td>\n",
       "      <td>-450.481122</td>\n",
       "      <td>1600.024621</td>\n",
       "      <td>-450.365493</td>\n",
       "      <td>1594.448648</td>\n",
       "      <td>-449.882428</td>\n",
       "      <td>1402.033682</td>\n",
       "      <td>-448.545552</td>\n",
       "      <td>1400.748347</td>\n",
       "      <td>-450.303991</td>\n",
       "      <td>13.184764</td>\n",
       "      <td>6.800021</td>\n",
       "      <td>41905.757985</td>\n",
       "      <td>3498.332166</td>\n",
       "      <td>3498.120075</td>\n",
       "      <td>2.728844</td>\n",
       "      <td>19.789465</td>\n",
       "      <td>11.051323</td>\n",
       "      <td>7.380043</td>\n",
       "      <td>27.404296</td>\n",
       "      <td>87.035862</td>\n",
       "      <td>1.186780</td>\n",
       "      <td>4.764300</td>\n",
       "      <td>0.599181</td>\n",
       "      <td>18.873082</td>\n",
       "      <td>131.781026</td>\n",
       "      <td>12.465718</td>\n",
       "      <td>7.25</td>\n",
       "      <td>0.885535</td>\n",
       "      <td>1601.670053</td>\n",
       "      <td>-499.548891</td>\n",
       "      <td>1598.804355</td>\n",
       "      <td>-499.689644</td>\n",
       "      <td>1601.689285</td>\n",
       "      <td>-500.484957</td>\n",
       "      <td>1602.431117</td>\n",
       "      <td>-500.650982</td>\n",
       "      <td>34.964974</td>\n",
       "      <td>8.046686</td>\n",
       "      <td>10.500065</td>\n",
       "      <td>18.560288</td>\n",
       "      <td>2.243817</td>\n",
       "      <td>16.195420</td>\n",
       "      <td>3.089922</td>\n",
       "      <td>6.705633</td>\n",
       "      <td>25.929511</td>\n",
       "      <td>-500.079889</td>\n",
       "      <td>23.977375</td>\n",
       "      <td>-500.005187</td>\n",
       "      <td>23.998809</td>\n",
       "      <td>-500.400133</td>\n",
       "      <td>23.982633</td>\n",
       "      <td>-499.826311</td>\n",
       "      <td>13.964030</td>\n",
       "      <td>-504.252450</td>\n",
       "      <td>12.060738</td>\n",
       "      <td>-501.174549</td>\n",
       "      <td>10.033838</td>\n",
       "      <td>-501.178133</td>\n",
       "      <td>7.881604</td>\n",
       "      <td>-499.729434</td>\n",
       "      <td>13.967135</td>\n",
       "      <td>-599.061188</td>\n",
       "      <td>2.212084</td>\n",
       "      <td>13.487870</td>\n",
       "      <td>4.608756</td>\n",
       "      <td>9.437044</td>\n",
       "      <td>43.404078</td>\n",
       "      <td>5.834140</td>\n",
       "      <td>10.071156</td>\n",
       "      <td>4.876389</td>\n",
       "      <td>69.688595</td>\n",
       "      <td>2.209881</td>\n",
       "      <td>10.420140</td>\n",
       "      <td>1.065453</td>\n",
       "      <td>17.201948</td>\n",
       "    </tr>\n",
       "    <tr>\n",
       "      <th>9</th>\n",
       "      <td>2016-01-15 09:00:00</td>\n",
       "      <td>6.747693</td>\n",
       "      <td>5.974832</td>\n",
       "      <td>2.539114</td>\n",
       "      <td>38.553938</td>\n",
       "      <td>566.616045</td>\n",
       "      <td>60.308763</td>\n",
       "      <td>13.996130</td>\n",
       "      <td>6.800263</td>\n",
       "      <td>1000.332327</td>\n",
       "      <td>-400.149341</td>\n",
       "      <td>1599.255585</td>\n",
       "      <td>-449.938835</td>\n",
       "      <td>1599.889681</td>\n",
       "      <td>-450.184036</td>\n",
       "      <td>1589.251641</td>\n",
       "      <td>-449.993434</td>\n",
       "      <td>1401.349036</td>\n",
       "      <td>-449.424506</td>\n",
       "      <td>1400.221018</td>\n",
       "      <td>-450.257027</td>\n",
       "      <td>14.018513</td>\n",
       "      <td>6.799799</td>\n",
       "      <td>41904.587200</td>\n",
       "      <td>3496.945733</td>\n",
       "      <td>3503.247805</td>\n",
       "      <td>2.657499</td>\n",
       "      <td>19.550973</td>\n",
       "      <td>11.354861</td>\n",
       "      <td>7.344956</td>\n",
       "      <td>27.742063</td>\n",
       "      <td>88.280699</td>\n",
       "      <td>1.137303</td>\n",
       "      <td>4.600020</td>\n",
       "      <td>0.619485</td>\n",
       "      <td>19.436276</td>\n",
       "      <td>146.153696</td>\n",
       "      <td>12.464385</td>\n",
       "      <td>7.25</td>\n",
       "      <td>0.897431</td>\n",
       "      <td>1601.066985</td>\n",
       "      <td>-499.830641</td>\n",
       "      <td>1599.806933</td>\n",
       "      <td>-500.600490</td>\n",
       "      <td>1599.164142</td>\n",
       "      <td>-499.334459</td>\n",
       "      <td>1599.697783</td>\n",
       "      <td>-500.263228</td>\n",
       "      <td>35.360817</td>\n",
       "      <td>7.862340</td>\n",
       "      <td>10.526890</td>\n",
       "      <td>18.504813</td>\n",
       "      <td>2.011642</td>\n",
       "      <td>15.823639</td>\n",
       "      <td>3.012419</td>\n",
       "      <td>7.214806</td>\n",
       "      <td>25.986485</td>\n",
       "      <td>-499.402963</td>\n",
       "      <td>23.961207</td>\n",
       "      <td>-499.986118</td>\n",
       "      <td>24.049918</td>\n",
       "      <td>-500.435620</td>\n",
       "      <td>23.972413</td>\n",
       "      <td>-499.751759</td>\n",
       "      <td>14.008944</td>\n",
       "      <td>-504.170807</td>\n",
       "      <td>11.995903</td>\n",
       "      <td>-501.269181</td>\n",
       "      <td>10.043100</td>\n",
       "      <td>-498.529996</td>\n",
       "      <td>8.002633</td>\n",
       "      <td>-499.761922</td>\n",
       "      <td>14.004767</td>\n",
       "      <td>-599.595324</td>\n",
       "      <td>2.067619</td>\n",
       "      <td>13.735810</td>\n",
       "      <td>4.721778</td>\n",
       "      <td>9.582874</td>\n",
       "      <td>43.487291</td>\n",
       "      <td>5.706261</td>\n",
       "      <td>10.242511</td>\n",
       "      <td>5.214161</td>\n",
       "      <td>70.973641</td>\n",
       "      <td>2.200997</td>\n",
       "      <td>10.473539</td>\n",
       "      <td>1.171183</td>\n",
       "      <td>17.717049</td>\n",
       "    </tr>\n",
       "  </tbody>\n",
       "</table>\n",
       "</div>"
      ],
      "text/plain": [
       "                  date  rougher.input.feed_au  rougher.input.feed_ag  \\\n",
       "0  2016-01-15 00:00:00               6.486150               6.100378   \n",
       "1  2016-01-15 01:00:00               6.478583               6.161113   \n",
       "2  2016-01-15 02:00:00               6.362222               6.116455   \n",
       "3  2016-01-15 03:00:00               6.118189               6.043309   \n",
       "4  2016-01-15 04:00:00               5.663707               6.060915   \n",
       "5  2016-01-15 05:00:00               5.687168               5.801920   \n",
       "6  2016-01-15 06:00:00               6.038436               6.056253   \n",
       "7  2016-01-15 07:00:00               6.433854               5.955053   \n",
       "8  2016-01-15 08:00:00               6.526612               5.878084   \n",
       "9  2016-01-15 09:00:00               6.747693               5.974832   \n",
       "\n",
       "   rougher.input.feed_pb  rougher.input.feed_sol  rougher.input.feed_rate  \\\n",
       "0               2.284912               36.808594               523.546326   \n",
       "1               2.266033               35.753385               525.290581   \n",
       "2               2.159622               35.971630               530.026610   \n",
       "3               2.037807               36.862241               542.590390   \n",
       "4               1.786875               34.347666               540.531893   \n",
       "5               1.879351               35.470082               546.173470   \n",
       "6               2.105501               34.920570               523.376439   \n",
       "7               2.310432               36.091386               549.842749   \n",
       "8               2.391713               35.753879               560.115242   \n",
       "9               2.539114               38.553938               566.616045   \n",
       "\n",
       "   rougher.input.feed_size  rougher.input.floatbank10_sulfate  \\\n",
       "0                55.486599                          11.986616   \n",
       "1                57.278666                          11.971193   \n",
       "2                57.510649                          11.920603   \n",
       "3                57.792734                          11.630094   \n",
       "4                56.047189                          10.957755   \n",
       "5                57.469578                          11.072517   \n",
       "6                56.674647                          11.535899   \n",
       "7                56.730325                          12.557906   \n",
       "8                56.649893                          13.166128   \n",
       "9                60.308763                          13.996130   \n",
       "\n",
       "   rougher.input.floatbank10_xanthate  rougher.state.floatbank10_a_air  \\\n",
       "0                            6.007990                       999.706909   \n",
       "1                            6.005766                      1000.286398   \n",
       "2                            6.197377                       999.719565   \n",
       "3                            6.203177                       999.814770   \n",
       "4                            6.198826                       999.678690   \n",
       "5                            6.200383                       999.934134   \n",
       "6                            6.204974                       999.832373   \n",
       "7                            6.799275                      1000.166602   \n",
       "8                            6.798659                      1000.026864   \n",
       "9                            6.800263                      1000.332327   \n",
       "\n",
       "   rougher.state.floatbank10_a_level  rougher.state.floatbank10_b_air  \\\n",
       "0                        -404.066986                      1603.011353   \n",
       "1                        -400.065196                      1600.754587   \n",
       "2                        -400.074028                      1599.337330   \n",
       "3                        -400.200179                      1600.059442   \n",
       "4                        -399.752729                      1600.208824   \n",
       "5                        -400.599524                      1601.080554   \n",
       "6                        -399.353521                      1600.753019   \n",
       "7                        -400.556601                      1598.877246   \n",
       "8                        -399.968583                      1599.813104   \n",
       "9                        -400.149341                      1599.255585   \n",
       "\n",
       "   rougher.state.floatbank10_b_level  rougher.state.floatbank10_c_air  \\\n",
       "0                        -434.715027                      1602.375000   \n",
       "1                        -449.953435                      1600.479580   \n",
       "2                        -450.008530                      1599.672797   \n",
       "3                        -450.619948                      1600.012842   \n",
       "4                        -449.599614                      1600.357732   \n",
       "5                        -450.120760                      1603.164805   \n",
       "6                        -450.050089                      1599.019966   \n",
       "7                        -450.070980                      1598.108717   \n",
       "8                        -450.481122                      1600.024621   \n",
       "9                        -449.938835                      1599.889681   \n",
       "\n",
       "   rougher.state.floatbank10_c_level  rougher.state.floatbank10_d_air  \\\n",
       "0                        -442.204468                      1598.937256   \n",
       "1                        -449.830646                      1600.527589   \n",
       "2                        -449.954491                      1599.849325   \n",
       "3                        -449.910497                      1597.725177   \n",
       "4                        -450.034364                      1599.759049   \n",
       "5                        -450.097732                      1603.368371   \n",
       "6                        -449.848507                      1600.298267   \n",
       "7                        -449.211334                      1592.872844   \n",
       "8                        -450.365493                      1594.448648   \n",
       "9                        -450.184036                      1589.251641   \n",
       "\n",
       "   rougher.state.floatbank10_d_level  rougher.state.floatbank10_e_air  \\\n",
       "0                        -451.294128                      1404.472046   \n",
       "1                        -449.953649                      1399.227084   \n",
       "2                        -449.954185                      1399.180945   \n",
       "3                        -450.130127                      1400.943157   \n",
       "4                        -449.909799                      1401.560902   \n",
       "5                        -446.306150                      1403.393100   \n",
       "6                        -453.102891                      1397.853265   \n",
       "7                        -449.806802                      1396.580752   \n",
       "8                        -449.882428                      1402.033682   \n",
       "9                        -449.993434                      1401.349036   \n",
       "\n",
       "   rougher.state.floatbank10_e_level  rougher.state.floatbank10_f_air  \\\n",
       "0                        -455.462982                      1416.354980   \n",
       "1                        -450.869848                      1399.719514   \n",
       "2                        -449.937588                      1400.316682   \n",
       "3                        -450.030142                      1400.234743   \n",
       "4                        -448.877187                      1401.160227   \n",
       "5                        -447.899904                      1402.903175   \n",
       "6                        -451.306640                      1397.973670   \n",
       "7                        -453.548352                      1397.289884   \n",
       "8                        -448.545552                      1400.748347   \n",
       "9                        -449.424506                      1400.221018   \n",
       "\n",
       "   rougher.state.floatbank10_f_level  rougher.input.floatbank11_sulfate  \\\n",
       "0                        -451.939636                          11.836743   \n",
       "1                        -450.119001                          11.996163   \n",
       "2                        -450.527147                          11.920305   \n",
       "3                        -449.790835                          11.692450   \n",
       "4                        -450.407128                          10.960521   \n",
       "5                        -448.872321                          11.075009   \n",
       "6                        -451.355626                          11.539227   \n",
       "7                        -450.221696                          12.583109   \n",
       "8                        -450.303991                          13.184764   \n",
       "9                        -450.257027                          14.018513   \n",
       "\n",
       "   rougher.input.floatbank11_xanthate  \\\n",
       "0                            6.005818   \n",
       "1                            6.012594   \n",
       "2                            6.204633   \n",
       "3                            6.196578   \n",
       "4                            6.194897   \n",
       "5                            6.202362   \n",
       "6                            6.200515   \n",
       "7                            6.798354   \n",
       "8                            6.800021   \n",
       "9                            6.799799   \n",
       "\n",
       "   rougher.calculation.sulfate_to_au_concentrate  \\\n",
       "0                                   41885.707031   \n",
       "1                                   42050.861809   \n",
       "2                                   42018.101184   \n",
       "3                                   42029.447991   \n",
       "4                                   42125.354245   \n",
       "5                                   41973.280986   \n",
       "6                                   41956.468979   \n",
       "7                                   41812.416893   \n",
       "8                                   41905.757985   \n",
       "9                                   41904.587200   \n",
       "\n",
       "   rougher.calculation.floatbank10_sulfate_to_au_feed  \\\n",
       "0                                        3481.779053    \n",
       "1                                        3498.370979    \n",
       "2                                        3495.348910    \n",
       "3                                        3498.578313    \n",
       "4                                        3494.800771    \n",
       "5                                        3501.916973    \n",
       "6                                        3497.427365    \n",
       "7                                        3497.275828    \n",
       "8                                        3498.332166    \n",
       "9                                        3496.945733    \n",
       "\n",
       "   rougher.calculation.floatbank11_sulfate_to_au_feed  \\\n",
       "0                                        3520.337158    \n",
       "1                                        3489.981857    \n",
       "2                                        3502.359819    \n",
       "3                                        3499.162912    \n",
       "4                                        3506.679315    \n",
       "5                                        3499.527175    \n",
       "6                                        3506.352790    \n",
       "7                                        3501.000030    \n",
       "8                                        3498.120075    \n",
       "9                                        3503.247805    \n",
       "\n",
       "   rougher.calculation.au_pb_ratio  rougher.output.concentrate_au  \\\n",
       "0                         2.838687                      19.793808   \n",
       "1                         2.858998                      20.050975   \n",
       "2                         2.945989                      19.737170   \n",
       "3                         3.002340                      19.320810   \n",
       "4                         3.169615                      19.216101   \n",
       "5                         3.026134                      18.950385   \n",
       "6                         2.867933                      19.319591   \n",
       "7                         2.784698                      19.507897   \n",
       "8                         2.728844                      19.789465   \n",
       "9                         2.657499                      19.550973   \n",
       "\n",
       "   rougher.output.concentrate_ag  rougher.output.concentrate_pb  \\\n",
       "0                      11.500771                       7.101074   \n",
       "1                      11.615865                       7.278807   \n",
       "2                      11.695753                       7.216833   \n",
       "3                      11.915047                       7.175616   \n",
       "4                      12.411054                       7.240205   \n",
       "5                      11.985584                       7.121903   \n",
       "6                      11.684307                       7.304849   \n",
       "7                      11.182624                       7.258496   \n",
       "8                      11.051323                       7.380043   \n",
       "9                      11.354861                       7.344956   \n",
       "\n",
       "   rougher.output.concentrate_sol  rougher.output.recovery  \\\n",
       "0                       28.029297                87.107763   \n",
       "1                       28.067063                86.843261   \n",
       "2                       27.454037                86.842308   \n",
       "3                       27.341277                87.226430   \n",
       "4                       27.041023                86.688794   \n",
       "5                       26.898046                88.156912   \n",
       "6                       27.063672                88.168065   \n",
       "7                       27.231114                87.668336   \n",
       "8                       27.404296                87.035862   \n",
       "9                       27.742063                88.280699   \n",
       "\n",
       "   rougher.output.tail_au  rougher.output.tail_ag  rougher.output.tail_pb  \\\n",
       "0                1.170244                5.008018                0.508728   \n",
       "1                1.184827                4.955378                0.536689   \n",
       "2                1.162562                4.843460                0.546416   \n",
       "3                1.079755                4.655288                0.542525   \n",
       "4                1.012642                4.552800                0.515438   \n",
       "5                0.915835                4.397415                0.491350   \n",
       "6                0.986248                4.478080                0.518266   \n",
       "7                1.116110                4.728325                0.548067   \n",
       "8                1.186780                4.764300                0.599181   \n",
       "9                1.137303                4.600020                0.619485   \n",
       "\n",
       "   rougher.output.tail_sol  primary_cleaner.input.sulfate  \\\n",
       "0                19.154297                     127.092003   \n",
       "1                18.965234                     125.629232   \n",
       "2                18.808533                     123.819808   \n",
       "3                19.330200                     122.270188   \n",
       "4                19.267422                     117.988169   \n",
       "5                19.640269                     115.581252   \n",
       "6                19.262491                     117.322323   \n",
       "7                18.861866                     124.592960   \n",
       "8                18.873082                     131.781026   \n",
       "9                19.436276                     146.153696   \n",
       "\n",
       "   primary_cleaner.input.depressant  primary_cleaner.input.feed_size  \\\n",
       "0                         10.128295                             7.25   \n",
       "1                         10.296251                             7.25   \n",
       "2                         11.316280                             7.25   \n",
       "3                         11.322140                             7.25   \n",
       "4                         11.913613                             7.25   \n",
       "5                         12.470773                             7.25   \n",
       "6                         12.469088                             7.25   \n",
       "7                         12.467403                             7.25   \n",
       "8                         12.465718                             7.25   \n",
       "9                         12.464385                             7.25   \n",
       "\n",
       "   primary_cleaner.input.xanthate  primary_cleaner.state.floatbank8_a_air  \\\n",
       "0                        0.988759                             1549.775757   \n",
       "1                        1.002663                             1576.166671   \n",
       "2                        0.991265                             1601.556163   \n",
       "3                        0.996739                             1599.968720   \n",
       "4                        1.009869                             1601.339707   \n",
       "5                        0.965760                             1602.964922   \n",
       "6                        0.895207                             1597.532455   \n",
       "7                        0.901202                             1597.946266   \n",
       "8                        0.885535                             1601.670053   \n",
       "9                        0.897431                             1601.066985   \n",
       "\n",
       "   primary_cleaner.state.floatbank8_a_level  \\\n",
       "0                               -498.912140   \n",
       "1                               -500.904965   \n",
       "2                               -499.997791   \n",
       "3                               -500.951778   \n",
       "4                               -498.975456   \n",
       "5                               -498.090944   \n",
       "6                               -500.985364   \n",
       "7                               -501.592304   \n",
       "8                               -499.548891   \n",
       "9                               -499.830641   \n",
       "\n",
       "   primary_cleaner.state.floatbank8_b_air  \\\n",
       "0                             1551.434204   \n",
       "1                             1575.950626   \n",
       "2                             1600.386685   \n",
       "3                             1600.659236   \n",
       "4                             1601.437854   \n",
       "5                             1602.074298   \n",
       "6                             1602.816321   \n",
       "7                             1601.078254   \n",
       "8                             1598.804355   \n",
       "9                             1599.806933   \n",
       "\n",
       "   primary_cleaner.state.floatbank8_b_level  \\\n",
       "0                               -516.403442   \n",
       "1                               -499.865889   \n",
       "2                               -500.607762   \n",
       "3                               -499.677094   \n",
       "4                               -500.323246   \n",
       "5                               -500.179481   \n",
       "6                               -500.696736   \n",
       "7                               -499.494115   \n",
       "8                               -499.689644   \n",
       "9                               -500.600490   \n",
       "\n",
       "   primary_cleaner.state.floatbank8_c_air  \\\n",
       "0                             1549.873901   \n",
       "1                             1575.994189   \n",
       "2                             1602.003542   \n",
       "3                             1600.304144   \n",
       "4                             1599.581894   \n",
       "5                             1602.154812   \n",
       "6                             1603.572091   \n",
       "7                             1602.630688   \n",
       "8                             1601.689285   \n",
       "9                             1599.164142   \n",
       "\n",
       "   primary_cleaner.state.floatbank8_c_level  \\\n",
       "0                               -498.666595   \n",
       "1                               -499.315107   \n",
       "2                               -500.870069   \n",
       "3                               -500.727997   \n",
       "4                               -500.888152   \n",
       "5                               -498.642614   \n",
       "6                               -500.256955   \n",
       "7                               -500.173741   \n",
       "8                               -500.484957   \n",
       "9                               -499.334459   \n",
       "\n",
       "   primary_cleaner.state.floatbank8_d_air  \\\n",
       "0                             1554.367432   \n",
       "1                             1574.479259   \n",
       "2                             1599.541515   \n",
       "3                             1600.449520   \n",
       "4                             1602.649541   \n",
       "5                             1605.020106   \n",
       "6                             1597.597437   \n",
       "7                             1595.937990   \n",
       "8                             1602.431117   \n",
       "9                             1599.697783   \n",
       "\n",
       "   primary_cleaner.state.floatbank8_d_level  \\\n",
       "0                               -493.428131   \n",
       "1                               -498.931665   \n",
       "2                               -499.827444   \n",
       "3                               -500.052575   \n",
       "4                               -500.593010   \n",
       "5                               -500.538177   \n",
       "6                               -500.378192   \n",
       "7                               -498.929825   \n",
       "8                               -500.650982   \n",
       "9                               -500.263228   \n",
       "\n",
       "   primary_cleaner.output.concentrate_au  \\\n",
       "0                              34.174427   \n",
       "1                              34.118526   \n",
       "2                              33.969464   \n",
       "3                              28.260743   \n",
       "4                              33.044932   \n",
       "5                              32.070664   \n",
       "6                              33.184823   \n",
       "7                              34.027719   \n",
       "8                              34.964974   \n",
       "9                              35.360817   \n",
       "\n",
       "   primary_cleaner.output.concentrate_ag  \\\n",
       "0                               8.547551   \n",
       "1                               8.558743   \n",
       "2                               8.603505   \n",
       "3                               7.221879   \n",
       "4                               9.089428   \n",
       "5                               9.553724   \n",
       "6                               8.968869   \n",
       "7                               8.545238   \n",
       "8                               8.046686   \n",
       "9                               7.862340   \n",
       "\n",
       "   primary_cleaner.output.concentrate_pb  \\\n",
       "0                              10.389648   \n",
       "1                              10.497069   \n",
       "2                              10.354494   \n",
       "3                               8.496563   \n",
       "4                               9.986786   \n",
       "5                               9.816215   \n",
       "6                              10.081306   \n",
       "7                              10.224540   \n",
       "8                              10.500065   \n",
       "9                              10.526890   \n",
       "\n",
       "   primary_cleaner.output.concentrate_sol  primary_cleaner.output.tail_au  \\\n",
       "0                               19.529297                        2.106679   \n",
       "1                               19.369147                        2.353017   \n",
       "2                               19.167579                        2.416800   \n",
       "3                               15.978538                        2.262051   \n",
       "4                               19.199864                        2.277073   \n",
       "5                               19.167328                        2.114558   \n",
       "6                               18.930855                        2.223152   \n",
       "7                               18.735813                        2.112025   \n",
       "8                               18.560288                        2.243817   \n",
       "9                               18.504813                        2.011642   \n",
       "\n",
       "   primary_cleaner.output.tail_ag  primary_cleaner.output.tail_pb  \\\n",
       "0                       14.936526                        2.534912   \n",
       "1                       16.250511                        3.049646   \n",
       "2                       16.491823                        3.124664   \n",
       "3                       16.024359                        2.960362   \n",
       "4                       16.480185                        3.112100   \n",
       "5                       15.931540                        2.844511   \n",
       "6                       16.078368                        2.938979   \n",
       "7                       15.797720                        2.881529   \n",
       "8                       16.195420                        3.089922   \n",
       "9                       15.823639                        3.012419   \n",
       "\n",
       "   primary_cleaner.output.tail_sol  secondary_cleaner.state.floatbank2_a_air  \\\n",
       "0                         7.476074                                 25.853109   \n",
       "1                         6.733907                                 25.880539   \n",
       "2                         6.471768                                 26.005245   \n",
       "3                         6.843791                                 25.942508   \n",
       "4                         6.550154                                 26.024787   \n",
       "5                         6.724197                                 26.014841   \n",
       "6                         6.623598                                 25.957594   \n",
       "7                         6.872033                                 25.938026   \n",
       "8                         6.705633                                 25.929511   \n",
       "9                         7.214806                                 25.986485   \n",
       "\n",
       "   secondary_cleaner.state.floatbank2_a_level  \\\n",
       "0                                 -498.526489   \n",
       "1                                 -499.989656   \n",
       "2                                 -499.929616   \n",
       "3                                 -499.176749   \n",
       "4                                 -500.279091   \n",
       "5                                 -498.864670   \n",
       "6                                 -500.134472   \n",
       "7                                 -499.657795   \n",
       "8                                 -500.079889   \n",
       "9                                 -499.402963   \n",
       "\n",
       "   secondary_cleaner.state.floatbank2_b_air  \\\n",
       "0                                 23.893660   \n",
       "1                                 23.889530   \n",
       "2                                 23.886657   \n",
       "3                                 23.955516   \n",
       "4                                 23.955345   \n",
       "5                                 23.880214   \n",
       "6                                 24.077199   \n",
       "7                                 24.020179   \n",
       "8                                 23.977375   \n",
       "9                                 23.961207   \n",
       "\n",
       "   secondary_cleaner.state.floatbank2_b_level  \\\n",
       "0                                 -501.406281   \n",
       "1                                 -500.372428   \n",
       "2                                 -499.951928   \n",
       "3                                 -499.848796   \n",
       "4                                 -500.593614   \n",
       "5                                 -499.738447   \n",
       "6                                 -500.089190   \n",
       "7                                 -499.798396   \n",
       "8                                 -500.005187   \n",
       "9                                 -499.986118   \n",
       "\n",
       "   secondary_cleaner.state.floatbank3_a_air  \\\n",
       "0                                 23.961798   \n",
       "1                                 23.970550   \n",
       "2                                 23.913535   \n",
       "3                                 23.966838   \n",
       "4                                 23.985703   \n",
       "5                                 23.982635   \n",
       "6                                 23.991710   \n",
       "7                                 24.031555   \n",
       "8                                 23.998809   \n",
       "9                                 24.049918   \n",
       "\n",
       "   secondary_cleaner.state.floatbank3_a_level  \\\n",
       "0                                 -495.262817   \n",
       "1                                 -500.085473   \n",
       "2                                 -499.442343   \n",
       "3                                 -500.008812   \n",
       "4                                 -500.083811   \n",
       "5                                 -500.495272   \n",
       "6                                 -500.391528   \n",
       "7                                 -500.550436   \n",
       "8                                 -500.400133   \n",
       "9                                 -500.435620   \n",
       "\n",
       "   secondary_cleaner.state.floatbank3_b_air  \\\n",
       "0                                 21.940409   \n",
       "1                                 22.085714   \n",
       "2                                 23.957717   \n",
       "3                                 23.954443   \n",
       "4                                 23.958945   \n",
       "5                                 24.009749   \n",
       "6                                 23.954144   \n",
       "7                                 23.968160   \n",
       "8                                 23.982633   \n",
       "9                                 23.972413   \n",
       "\n",
       "   secondary_cleaner.state.floatbank3_b_level  \\\n",
       "0                                 -499.340973   \n",
       "1                                 -499.446897   \n",
       "2                                 -499.901982   \n",
       "3                                 -499.944710   \n",
       "4                                 -499.990309   \n",
       "5                                 -499.433825   \n",
       "6                                 -501.872171   \n",
       "7                                 -499.836513   \n",
       "8                                 -499.826311   \n",
       "9                                 -499.751759   \n",
       "\n",
       "   secondary_cleaner.state.floatbank4_a_air  \\\n",
       "0                                 14.016835   \n",
       "1                                 13.992281   \n",
       "2                                 14.015015   \n",
       "3                                 14.036510   \n",
       "4                                 14.027298   \n",
       "5                                 13.938497   \n",
       "6                                 14.046819   \n",
       "7                                 13.974691   \n",
       "8                                 13.964030   \n",
       "9                                 14.008944   \n",
       "\n",
       "   secondary_cleaner.state.floatbank4_a_level  \\\n",
       "0                                 -502.488007   \n",
       "1                                 -505.503262   \n",
       "2                                 -502.520901   \n",
       "3                                 -500.857308   \n",
       "4                                 -499.838632   \n",
       "5                                 -500.970168   \n",
       "6                                 -500.971133   \n",
       "7                                 -501.819696   \n",
       "8                                 -504.252450   \n",
       "9                                 -504.170807   \n",
       "\n",
       "   secondary_cleaner.state.floatbank4_b_air  \\\n",
       "0                                 12.099931   \n",
       "1                                 11.950531   \n",
       "2                                 11.912783   \n",
       "3                                 11.999550   \n",
       "4                                 11.953070   \n",
       "5                                 11.883350   \n",
       "6                                 12.091543   \n",
       "7                                 12.101324   \n",
       "8                                 12.060738   \n",
       "9                                 11.995903   \n",
       "\n",
       "   secondary_cleaner.state.floatbank4_b_level  \\\n",
       "0                                 -504.715942   \n",
       "1                                 -501.331529   \n",
       "2                                 -501.133383   \n",
       "3                                 -501.193686   \n",
       "4                                 -501.053894   \n",
       "5                                 -500.395298   \n",
       "6                                 -500.501426   \n",
       "7                                 -500.583446   \n",
       "8                                 -501.174549   \n",
       "9                                 -501.269181   \n",
       "\n",
       "   secondary_cleaner.state.floatbank5_a_air  \\\n",
       "0                                  9.925633   \n",
       "1                                 10.039245   \n",
       "2                                 10.070913   \n",
       "3                                  9.970366   \n",
       "4                                  9.925709   \n",
       "5                                 10.054147   \n",
       "6                                 10.003247   \n",
       "7                                  9.873169   \n",
       "8                                 10.033838   \n",
       "9                                 10.043100   \n",
       "\n",
       "   secondary_cleaner.state.floatbank5_a_level  \\\n",
       "0                                 -498.310211   \n",
       "1                                 -500.169983   \n",
       "2                                 -500.129135   \n",
       "3                                 -499.201640   \n",
       "4                                 -501.686727   \n",
       "5                                 -496.374715   \n",
       "6                                 -497.083180   \n",
       "7                                 -499.171928   \n",
       "8                                 -501.178133   \n",
       "9                                 -498.529996   \n",
       "\n",
       "   secondary_cleaner.state.floatbank5_b_air  \\\n",
       "0                                  8.079666   \n",
       "1                                  7.984757   \n",
       "2                                  8.013877   \n",
       "3                                  7.977324   \n",
       "4                                  7.894242   \n",
       "5                                  7.965083   \n",
       "6                                  8.010890   \n",
       "7                                  7.993381   \n",
       "8                                  7.881604   \n",
       "9                                  8.002633   \n",
       "\n",
       "   secondary_cleaner.state.floatbank5_b_level  \\\n",
       "0                                 -500.470978   \n",
       "1                                 -500.582168   \n",
       "2                                 -500.517572   \n",
       "3                                 -500.255908   \n",
       "4                                 -500.356035   \n",
       "5                                 -499.364752   \n",
       "6                                 -500.002423   \n",
       "7                                 -499.794518   \n",
       "8                                 -499.729434   \n",
       "9                                 -499.761922   \n",
       "\n",
       "   secondary_cleaner.state.floatbank6_a_air  \\\n",
       "0                                 14.151341   \n",
       "1                                 13.998353   \n",
       "2                                 14.028663   \n",
       "3                                 14.005551   \n",
       "4                                 13.996647   \n",
       "5                                 14.017067   \n",
       "6                                 14.029649   \n",
       "7                                 13.984498   \n",
       "8                                 13.967135   \n",
       "9                                 14.004767   \n",
       "\n",
       "   secondary_cleaner.state.floatbank6_a_level  \\\n",
       "0                                 -605.841980   \n",
       "1                                 -599.787184   \n",
       "2                                 -601.427363   \n",
       "3                                 -599.996129   \n",
       "4                                 -601.496691   \n",
       "5                                 -599.707915   \n",
       "6                                 -600.905470   \n",
       "7                                 -600.411070   \n",
       "8                                 -599.061188   \n",
       "9                                 -599.595324   \n",
       "\n",
       "   secondary_cleaner.output.tail_au  secondary_cleaner.output.tail_ag  \\\n",
       "0                          2.606185                         14.500184   \n",
       "1                          2.488248                         14.265474   \n",
       "2                          2.458187                         14.115662   \n",
       "3                          2.322062                         13.732071   \n",
       "4                          2.330448                         14.079996   \n",
       "5                          2.192127                         13.615012   \n",
       "6                          2.316720                         13.597056   \n",
       "7                          2.192197                         13.177237   \n",
       "8                          2.212084                         13.487870   \n",
       "9                          2.067619                         13.735810   \n",
       "\n",
       "   secondary_cleaner.output.tail_pb  secondary_cleaner.output.tail_sol  \\\n",
       "0                          4.694824                           8.764648   \n",
       "1                          4.592547                           9.001494   \n",
       "2                          4.624775                           8.842896   \n",
       "3                          4.482453                           9.122857   \n",
       "4                          4.470737                           8.871028   \n",
       "5                          4.286817                           9.302669   \n",
       "6                          4.487865                           9.103047   \n",
       "7                          4.432448                           9.369209   \n",
       "8                          4.608756                           9.437044   \n",
       "9                          4.721778                           9.582874   \n",
       "\n",
       "   final.output.concentrate_au  final.output.concentrate_ag  \\\n",
       "0                    42.192020                     6.055403   \n",
       "1                    42.701629                     6.029369   \n",
       "2                    42.657501                     6.055926   \n",
       "3                    42.689819                     6.047977   \n",
       "4                    42.774141                     6.148599   \n",
       "5                    41.633678                     6.482968   \n",
       "6                    41.995316                     6.533849   \n",
       "7                    42.452727                     6.130823   \n",
       "8                    43.404078                     5.834140   \n",
       "9                    43.487291                     5.706261   \n",
       "\n",
       "   final.output.concentrate_pb  final.output.concentrate_sol  \\\n",
       "0                     9.889648                      5.507324   \n",
       "1                     9.968944                      5.257781   \n",
       "2                    10.213995                      5.383759   \n",
       "3                     9.977019                      4.858634   \n",
       "4                    10.142511                      4.939416   \n",
       "5                    10.049416                      5.480257   \n",
       "6                    10.058141                      4.569100   \n",
       "7                     9.935481                      4.389813   \n",
       "8                    10.071156                      4.876389   \n",
       "9                    10.242511                      5.214161   \n",
       "\n",
       "   final.output.recovery  final.output.tail_au  final.output.tail_ag  \\\n",
       "0              70.541216              2.143149             10.411962   \n",
       "1              69.266198              2.224930             10.462676   \n",
       "2              68.116445              2.257889             10.507046   \n",
       "3              68.347543              2.146849             10.422762   \n",
       "4              66.927016              2.055292             10.360302   \n",
       "5              69.465816              1.918586             10.182708   \n",
       "6              69.300835              2.058913             10.304598   \n",
       "7              70.230976              2.143437             10.443288   \n",
       "8              69.688595              2.209881             10.420140   \n",
       "9              70.973641              2.200997             10.473539   \n",
       "\n",
       "   final.output.tail_pb  final.output.tail_sol  \n",
       "0              0.895447              16.904297  \n",
       "1              0.927452              16.634514  \n",
       "2              0.953716              16.208849  \n",
       "3              0.883763              16.532835  \n",
       "4              0.792826              16.525686  \n",
       "5              0.664118              16.999638  \n",
       "6              0.807342              16.723575  \n",
       "7              0.949346              16.689959  \n",
       "8              1.065453              17.201948  \n",
       "9              1.171183              17.717049  "
      ]
     },
     "execution_count": 5,
     "metadata": {},
     "output_type": "execute_result"
    }
   ],
   "source": [
    "pd.set_option('display.max_columns', None)\n",
    "data.head(10)"
   ]
  },
  {
   "cell_type": "code",
   "execution_count": 6,
   "metadata": {},
   "outputs": [
    {
     "name": "stdout",
     "output_type": "stream",
     "text": [
      "<class 'pandas.core.frame.DataFrame'>\n",
      "RangeIndex: 19439 entries, 0 to 19438\n",
      "Data columns (total 87 columns):\n",
      " #   Column                                              Non-Null Count  Dtype  \n",
      "---  ------                                              --------------  -----  \n",
      " 0   date                                                19439 non-null  object \n",
      " 1   rougher.input.feed_au                               19439 non-null  float64\n",
      " 2   rougher.input.feed_ag                               19439 non-null  float64\n",
      " 3   rougher.input.feed_pb                               19339 non-null  float64\n",
      " 4   rougher.input.feed_sol                              19340 non-null  float64\n",
      " 5   rougher.input.feed_rate                             19428 non-null  float64\n",
      " 6   rougher.input.feed_size                             19294 non-null  float64\n",
      " 7   rougher.input.floatbank10_sulfate                   19405 non-null  float64\n",
      " 8   rougher.input.floatbank10_xanthate                  19431 non-null  float64\n",
      " 9   rougher.state.floatbank10_a_air                     19438 non-null  float64\n",
      " 10  rougher.state.floatbank10_a_level                   19438 non-null  float64\n",
      " 11  rougher.state.floatbank10_b_air                     19438 non-null  float64\n",
      " 12  rougher.state.floatbank10_b_level                   19438 non-null  float64\n",
      " 13  rougher.state.floatbank10_c_air                     19438 non-null  float64\n",
      " 14  rougher.state.floatbank10_c_level                   19438 non-null  float64\n",
      " 15  rougher.state.floatbank10_d_air                     19439 non-null  float64\n",
      " 16  rougher.state.floatbank10_d_level                   19439 non-null  float64\n",
      " 17  rougher.state.floatbank10_e_air                     19003 non-null  float64\n",
      " 18  rougher.state.floatbank10_e_level                   19439 non-null  float64\n",
      " 19  rougher.state.floatbank10_f_air                     19439 non-null  float64\n",
      " 20  rougher.state.floatbank10_f_level                   19439 non-null  float64\n",
      " 21  rougher.input.floatbank11_sulfate                   19395 non-null  float64\n",
      " 22  rougher.input.floatbank11_xanthate                  18986 non-null  float64\n",
      " 23  rougher.calculation.sulfate_to_au_concentrate       19437 non-null  float64\n",
      " 24  rougher.calculation.floatbank10_sulfate_to_au_feed  19437 non-null  float64\n",
      " 25  rougher.calculation.floatbank11_sulfate_to_au_feed  19437 non-null  float64\n",
      " 26  rougher.calculation.au_pb_ratio                     19439 non-null  float64\n",
      " 27  rougher.output.concentrate_au                       19439 non-null  float64\n",
      " 28  rougher.output.concentrate_ag                       19439 non-null  float64\n",
      " 29  rougher.output.concentrate_pb                       19439 non-null  float64\n",
      " 30  rougher.output.concentrate_sol                      19416 non-null  float64\n",
      " 31  rougher.output.recovery                             19439 non-null  float64\n",
      " 32  rougher.output.tail_au                              19439 non-null  float64\n",
      " 33  rougher.output.tail_ag                              19438 non-null  float64\n",
      " 34  rougher.output.tail_pb                              19439 non-null  float64\n",
      " 35  rougher.output.tail_sol                             19439 non-null  float64\n",
      " 36  primary_cleaner.input.sulfate                       19415 non-null  float64\n",
      " 37  primary_cleaner.input.depressant                    19402 non-null  float64\n",
      " 38  primary_cleaner.input.feed_size                     19439 non-null  float64\n",
      " 39  primary_cleaner.input.xanthate                      19335 non-null  float64\n",
      " 40  primary_cleaner.state.floatbank8_a_air              19435 non-null  float64\n",
      " 41  primary_cleaner.state.floatbank8_a_level            19438 non-null  float64\n",
      " 42  primary_cleaner.state.floatbank8_b_air              19435 non-null  float64\n",
      " 43  primary_cleaner.state.floatbank8_b_level            19438 non-null  float64\n",
      " 44  primary_cleaner.state.floatbank8_c_air              19437 non-null  float64\n",
      " 45  primary_cleaner.state.floatbank8_c_level            19438 non-null  float64\n",
      " 46  primary_cleaner.state.floatbank8_d_air              19436 non-null  float64\n",
      " 47  primary_cleaner.state.floatbank8_d_level            19438 non-null  float64\n",
      " 48  primary_cleaner.output.concentrate_au               19439 non-null  float64\n",
      " 49  primary_cleaner.output.concentrate_ag               19439 non-null  float64\n",
      " 50  primary_cleaner.output.concentrate_pb               19323 non-null  float64\n",
      " 51  primary_cleaner.output.concentrate_sol              19069 non-null  float64\n",
      " 52  primary_cleaner.output.tail_au                      19439 non-null  float64\n",
      " 53  primary_cleaner.output.tail_ag                      19435 non-null  float64\n",
      " 54  primary_cleaner.output.tail_pb                      19418 non-null  float64\n",
      " 55  primary_cleaner.output.tail_sol                     19377 non-null  float64\n",
      " 56  secondary_cleaner.state.floatbank2_a_air            19219 non-null  float64\n",
      " 57  secondary_cleaner.state.floatbank2_a_level          19438 non-null  float64\n",
      " 58  secondary_cleaner.state.floatbank2_b_air            19416 non-null  float64\n",
      " 59  secondary_cleaner.state.floatbank2_b_level          19438 non-null  float64\n",
      " 60  secondary_cleaner.state.floatbank3_a_air            19426 non-null  float64\n",
      " 61  secondary_cleaner.state.floatbank3_a_level          19438 non-null  float64\n",
      " 62  secondary_cleaner.state.floatbank3_b_air            19438 non-null  float64\n",
      " 63  secondary_cleaner.state.floatbank3_b_level          19438 non-null  float64\n",
      " 64  secondary_cleaner.state.floatbank4_a_air            19433 non-null  float64\n",
      " 65  secondary_cleaner.state.floatbank4_a_level          19438 non-null  float64\n",
      " 66  secondary_cleaner.state.floatbank4_b_air            19438 non-null  float64\n",
      " 67  secondary_cleaner.state.floatbank4_b_level          19438 non-null  float64\n",
      " 68  secondary_cleaner.state.floatbank5_a_air            19438 non-null  float64\n",
      " 69  secondary_cleaner.state.floatbank5_a_level          19438 non-null  float64\n",
      " 70  secondary_cleaner.state.floatbank5_b_air            19438 non-null  float64\n",
      " 71  secondary_cleaner.state.floatbank5_b_level          19438 non-null  float64\n",
      " 72  secondary_cleaner.state.floatbank6_a_air            19437 non-null  float64\n",
      " 73  secondary_cleaner.state.floatbank6_a_level          19438 non-null  float64\n",
      " 74  secondary_cleaner.output.tail_au                    19439 non-null  float64\n",
      " 75  secondary_cleaner.output.tail_ag                    19437 non-null  float64\n",
      " 76  secondary_cleaner.output.tail_pb                    19427 non-null  float64\n",
      " 77  secondary_cleaner.output.tail_sol                   17691 non-null  float64\n",
      " 78  final.output.concentrate_au                         19439 non-null  float64\n",
      " 79  final.output.concentrate_ag                         19438 non-null  float64\n",
      " 80  final.output.concentrate_pb                         19438 non-null  float64\n",
      " 81  final.output.concentrate_sol                        19228 non-null  float64\n",
      " 82  final.output.recovery                               19439 non-null  float64\n",
      " 83  final.output.tail_au                                19439 non-null  float64\n",
      " 84  final.output.tail_ag                                19438 non-null  float64\n",
      " 85  final.output.tail_pb                                19338 non-null  float64\n",
      " 86  final.output.tail_sol                               19433 non-null  float64\n",
      "dtypes: float64(86), object(1)\n",
      "memory usage: 12.9+ MB\n"
     ]
    }
   ],
   "source": [
    "data.info()"
   ]
  },
  {
   "cell_type": "code",
   "execution_count": 7,
   "metadata": {},
   "outputs": [
    {
     "data": {
      "text/html": [
       "<div>\n",
       "<style scoped>\n",
       "    .dataframe tbody tr th:only-of-type {\n",
       "        vertical-align: middle;\n",
       "    }\n",
       "\n",
       "    .dataframe tbody tr th {\n",
       "        vertical-align: top;\n",
       "    }\n",
       "\n",
       "    .dataframe thead th {\n",
       "        text-align: right;\n",
       "    }\n",
       "</style>\n",
       "<table border=\"1\" class=\"dataframe\">\n",
       "  <thead>\n",
       "    <tr style=\"text-align: right;\">\n",
       "      <th></th>\n",
       "      <th>date</th>\n",
       "      <th>rougher.input.feed_au</th>\n",
       "      <th>rougher.input.feed_ag</th>\n",
       "      <th>rougher.input.feed_pb</th>\n",
       "      <th>rougher.input.feed_sol</th>\n",
       "      <th>rougher.input.feed_rate</th>\n",
       "      <th>rougher.input.feed_size</th>\n",
       "      <th>rougher.input.floatbank10_sulfate</th>\n",
       "      <th>rougher.input.floatbank10_xanthate</th>\n",
       "      <th>rougher.state.floatbank10_a_air</th>\n",
       "      <th>rougher.state.floatbank10_a_level</th>\n",
       "      <th>rougher.state.floatbank10_b_air</th>\n",
       "      <th>rougher.state.floatbank10_b_level</th>\n",
       "      <th>rougher.state.floatbank10_c_air</th>\n",
       "      <th>rougher.state.floatbank10_c_level</th>\n",
       "      <th>rougher.state.floatbank10_d_air</th>\n",
       "      <th>rougher.state.floatbank10_d_level</th>\n",
       "      <th>rougher.state.floatbank10_e_air</th>\n",
       "      <th>rougher.state.floatbank10_e_level</th>\n",
       "      <th>rougher.state.floatbank10_f_air</th>\n",
       "      <th>rougher.state.floatbank10_f_level</th>\n",
       "      <th>rougher.input.floatbank11_sulfate</th>\n",
       "      <th>rougher.input.floatbank11_xanthate</th>\n",
       "      <th>rougher.calculation.sulfate_to_au_concentrate</th>\n",
       "      <th>rougher.calculation.floatbank10_sulfate_to_au_feed</th>\n",
       "      <th>rougher.calculation.floatbank11_sulfate_to_au_feed</th>\n",
       "      <th>rougher.calculation.au_pb_ratio</th>\n",
       "      <th>rougher.output.concentrate_au</th>\n",
       "      <th>rougher.output.concentrate_ag</th>\n",
       "      <th>rougher.output.concentrate_pb</th>\n",
       "      <th>rougher.output.concentrate_sol</th>\n",
       "      <th>rougher.output.recovery</th>\n",
       "      <th>rougher.output.tail_au</th>\n",
       "      <th>rougher.output.tail_ag</th>\n",
       "      <th>rougher.output.tail_pb</th>\n",
       "      <th>rougher.output.tail_sol</th>\n",
       "      <th>primary_cleaner.input.sulfate</th>\n",
       "      <th>primary_cleaner.input.depressant</th>\n",
       "      <th>primary_cleaner.input.feed_size</th>\n",
       "      <th>primary_cleaner.input.xanthate</th>\n",
       "      <th>primary_cleaner.state.floatbank8_a_air</th>\n",
       "      <th>primary_cleaner.state.floatbank8_a_level</th>\n",
       "      <th>primary_cleaner.state.floatbank8_b_air</th>\n",
       "      <th>primary_cleaner.state.floatbank8_b_level</th>\n",
       "      <th>primary_cleaner.state.floatbank8_c_air</th>\n",
       "      <th>primary_cleaner.state.floatbank8_c_level</th>\n",
       "      <th>primary_cleaner.state.floatbank8_d_air</th>\n",
       "      <th>primary_cleaner.state.floatbank8_d_level</th>\n",
       "      <th>primary_cleaner.output.concentrate_au</th>\n",
       "      <th>primary_cleaner.output.concentrate_ag</th>\n",
       "      <th>primary_cleaner.output.concentrate_pb</th>\n",
       "      <th>primary_cleaner.output.concentrate_sol</th>\n",
       "      <th>primary_cleaner.output.tail_au</th>\n",
       "      <th>primary_cleaner.output.tail_ag</th>\n",
       "      <th>primary_cleaner.output.tail_pb</th>\n",
       "      <th>primary_cleaner.output.tail_sol</th>\n",
       "      <th>secondary_cleaner.state.floatbank2_a_air</th>\n",
       "      <th>secondary_cleaner.state.floatbank2_a_level</th>\n",
       "      <th>secondary_cleaner.state.floatbank2_b_air</th>\n",
       "      <th>secondary_cleaner.state.floatbank2_b_level</th>\n",
       "      <th>secondary_cleaner.state.floatbank3_a_air</th>\n",
       "      <th>secondary_cleaner.state.floatbank3_a_level</th>\n",
       "      <th>secondary_cleaner.state.floatbank3_b_air</th>\n",
       "      <th>secondary_cleaner.state.floatbank3_b_level</th>\n",
       "      <th>secondary_cleaner.state.floatbank4_a_air</th>\n",
       "      <th>secondary_cleaner.state.floatbank4_a_level</th>\n",
       "      <th>secondary_cleaner.state.floatbank4_b_air</th>\n",
       "      <th>secondary_cleaner.state.floatbank4_b_level</th>\n",
       "      <th>secondary_cleaner.state.floatbank5_a_air</th>\n",
       "      <th>secondary_cleaner.state.floatbank5_a_level</th>\n",
       "      <th>secondary_cleaner.state.floatbank5_b_air</th>\n",
       "      <th>secondary_cleaner.state.floatbank5_b_level</th>\n",
       "      <th>secondary_cleaner.state.floatbank6_a_air</th>\n",
       "      <th>secondary_cleaner.state.floatbank6_a_level</th>\n",
       "      <th>secondary_cleaner.output.tail_au</th>\n",
       "      <th>secondary_cleaner.output.tail_ag</th>\n",
       "      <th>secondary_cleaner.output.tail_pb</th>\n",
       "      <th>secondary_cleaner.output.tail_sol</th>\n",
       "      <th>final.output.concentrate_au</th>\n",
       "      <th>final.output.concentrate_ag</th>\n",
       "      <th>final.output.concentrate_pb</th>\n",
       "      <th>final.output.concentrate_sol</th>\n",
       "      <th>final.output.recovery</th>\n",
       "      <th>final.output.tail_au</th>\n",
       "      <th>final.output.tail_ag</th>\n",
       "      <th>final.output.tail_pb</th>\n",
       "      <th>final.output.tail_sol</th>\n",
       "    </tr>\n",
       "  </thead>\n",
       "  <tbody>\n",
       "    <tr>\n",
       "      <th>0</th>\n",
       "      <td>2016-01-15 00:00:00</td>\n",
       "      <td>6.486150</td>\n",
       "      <td>6.100378</td>\n",
       "      <td>2.284912</td>\n",
       "      <td>36.808594</td>\n",
       "      <td>523.546326</td>\n",
       "      <td>55.486599</td>\n",
       "      <td>11.986616</td>\n",
       "      <td>6.007990</td>\n",
       "      <td>999.706909</td>\n",
       "      <td>-404.066986</td>\n",
       "      <td>1603.011353</td>\n",
       "      <td>-434.715027</td>\n",
       "      <td>1602.375000</td>\n",
       "      <td>-442.204468</td>\n",
       "      <td>1598.937256</td>\n",
       "      <td>-451.294128</td>\n",
       "      <td>1404.472046</td>\n",
       "      <td>-455.462982</td>\n",
       "      <td>1416.354980</td>\n",
       "      <td>-451.939636</td>\n",
       "      <td>11.836743</td>\n",
       "      <td>6.005818</td>\n",
       "      <td>41885.707031</td>\n",
       "      <td>3481.779053</td>\n",
       "      <td>3520.337158</td>\n",
       "      <td>2.838687</td>\n",
       "      <td>19.793808</td>\n",
       "      <td>11.500771</td>\n",
       "      <td>7.101074</td>\n",
       "      <td>28.029297</td>\n",
       "      <td>87.107763</td>\n",
       "      <td>1.170244</td>\n",
       "      <td>5.008018</td>\n",
       "      <td>0.508728</td>\n",
       "      <td>19.154297</td>\n",
       "      <td>127.092003</td>\n",
       "      <td>10.128295</td>\n",
       "      <td>7.25</td>\n",
       "      <td>0.988759</td>\n",
       "      <td>1549.775757</td>\n",
       "      <td>-498.912140</td>\n",
       "      <td>1551.434204</td>\n",
       "      <td>-516.403442</td>\n",
       "      <td>1549.873901</td>\n",
       "      <td>-498.666595</td>\n",
       "      <td>1554.367432</td>\n",
       "      <td>-493.428131</td>\n",
       "      <td>34.174427</td>\n",
       "      <td>8.547551</td>\n",
       "      <td>10.389648</td>\n",
       "      <td>19.529297</td>\n",
       "      <td>2.106679</td>\n",
       "      <td>14.936526</td>\n",
       "      <td>2.534912</td>\n",
       "      <td>7.476074</td>\n",
       "      <td>25.853109</td>\n",
       "      <td>-498.526489</td>\n",
       "      <td>23.893660</td>\n",
       "      <td>-501.406281</td>\n",
       "      <td>23.961798</td>\n",
       "      <td>-495.262817</td>\n",
       "      <td>21.940409</td>\n",
       "      <td>-499.340973</td>\n",
       "      <td>14.016835</td>\n",
       "      <td>-502.488007</td>\n",
       "      <td>12.099931</td>\n",
       "      <td>-504.715942</td>\n",
       "      <td>9.925633</td>\n",
       "      <td>-498.310211</td>\n",
       "      <td>8.079666</td>\n",
       "      <td>-500.470978</td>\n",
       "      <td>14.151341</td>\n",
       "      <td>-605.841980</td>\n",
       "      <td>2.606185</td>\n",
       "      <td>14.500184</td>\n",
       "      <td>4.694824</td>\n",
       "      <td>8.764648</td>\n",
       "      <td>42.192020</td>\n",
       "      <td>6.055403</td>\n",
       "      <td>9.889648</td>\n",
       "      <td>5.507324</td>\n",
       "      <td>70.541216</td>\n",
       "      <td>2.143149</td>\n",
       "      <td>10.411962</td>\n",
       "      <td>0.895447</td>\n",
       "      <td>16.904297</td>\n",
       "    </tr>\n",
       "    <tr>\n",
       "      <th>1</th>\n",
       "      <td>2016-01-15 01:00:00</td>\n",
       "      <td>6.478583</td>\n",
       "      <td>6.161113</td>\n",
       "      <td>2.266033</td>\n",
       "      <td>35.753385</td>\n",
       "      <td>525.290581</td>\n",
       "      <td>57.278666</td>\n",
       "      <td>11.971193</td>\n",
       "      <td>6.005766</td>\n",
       "      <td>1000.286398</td>\n",
       "      <td>-400.065196</td>\n",
       "      <td>1600.754587</td>\n",
       "      <td>-449.953435</td>\n",
       "      <td>1600.479580</td>\n",
       "      <td>-449.830646</td>\n",
       "      <td>1600.527589</td>\n",
       "      <td>-449.953649</td>\n",
       "      <td>1399.227084</td>\n",
       "      <td>-450.869848</td>\n",
       "      <td>1399.719514</td>\n",
       "      <td>-450.119001</td>\n",
       "      <td>11.996163</td>\n",
       "      <td>6.012594</td>\n",
       "      <td>42050.861809</td>\n",
       "      <td>3498.370979</td>\n",
       "      <td>3489.981857</td>\n",
       "      <td>2.858998</td>\n",
       "      <td>20.050975</td>\n",
       "      <td>11.615865</td>\n",
       "      <td>7.278807</td>\n",
       "      <td>28.067063</td>\n",
       "      <td>86.843261</td>\n",
       "      <td>1.184827</td>\n",
       "      <td>4.955378</td>\n",
       "      <td>0.536689</td>\n",
       "      <td>18.965234</td>\n",
       "      <td>125.629232</td>\n",
       "      <td>10.296251</td>\n",
       "      <td>7.25</td>\n",
       "      <td>1.002663</td>\n",
       "      <td>1576.166671</td>\n",
       "      <td>-500.904965</td>\n",
       "      <td>1575.950626</td>\n",
       "      <td>-499.865889</td>\n",
       "      <td>1575.994189</td>\n",
       "      <td>-499.315107</td>\n",
       "      <td>1574.479259</td>\n",
       "      <td>-498.931665</td>\n",
       "      <td>34.118526</td>\n",
       "      <td>8.558743</td>\n",
       "      <td>10.497069</td>\n",
       "      <td>19.369147</td>\n",
       "      <td>2.353017</td>\n",
       "      <td>16.250511</td>\n",
       "      <td>3.049646</td>\n",
       "      <td>6.733907</td>\n",
       "      <td>25.880539</td>\n",
       "      <td>-499.989656</td>\n",
       "      <td>23.889530</td>\n",
       "      <td>-500.372428</td>\n",
       "      <td>23.970550</td>\n",
       "      <td>-500.085473</td>\n",
       "      <td>22.085714</td>\n",
       "      <td>-499.446897</td>\n",
       "      <td>13.992281</td>\n",
       "      <td>-505.503262</td>\n",
       "      <td>11.950531</td>\n",
       "      <td>-501.331529</td>\n",
       "      <td>10.039245</td>\n",
       "      <td>-500.169983</td>\n",
       "      <td>7.984757</td>\n",
       "      <td>-500.582168</td>\n",
       "      <td>13.998353</td>\n",
       "      <td>-599.787184</td>\n",
       "      <td>2.488248</td>\n",
       "      <td>14.265474</td>\n",
       "      <td>4.592547</td>\n",
       "      <td>9.001494</td>\n",
       "      <td>42.701629</td>\n",
       "      <td>6.029369</td>\n",
       "      <td>9.968944</td>\n",
       "      <td>5.257781</td>\n",
       "      <td>69.266198</td>\n",
       "      <td>2.224930</td>\n",
       "      <td>10.462676</td>\n",
       "      <td>0.927452</td>\n",
       "      <td>16.634514</td>\n",
       "    </tr>\n",
       "    <tr>\n",
       "      <th>2</th>\n",
       "      <td>2016-01-15 02:00:00</td>\n",
       "      <td>6.362222</td>\n",
       "      <td>6.116455</td>\n",
       "      <td>2.159622</td>\n",
       "      <td>35.971630</td>\n",
       "      <td>530.026610</td>\n",
       "      <td>57.510649</td>\n",
       "      <td>11.920603</td>\n",
       "      <td>6.197377</td>\n",
       "      <td>999.719565</td>\n",
       "      <td>-400.074028</td>\n",
       "      <td>1599.337330</td>\n",
       "      <td>-450.008530</td>\n",
       "      <td>1599.672797</td>\n",
       "      <td>-449.954491</td>\n",
       "      <td>1599.849325</td>\n",
       "      <td>-449.954185</td>\n",
       "      <td>1399.180945</td>\n",
       "      <td>-449.937588</td>\n",
       "      <td>1400.316682</td>\n",
       "      <td>-450.527147</td>\n",
       "      <td>11.920305</td>\n",
       "      <td>6.204633</td>\n",
       "      <td>42018.101184</td>\n",
       "      <td>3495.348910</td>\n",
       "      <td>3502.359819</td>\n",
       "      <td>2.945989</td>\n",
       "      <td>19.737170</td>\n",
       "      <td>11.695753</td>\n",
       "      <td>7.216833</td>\n",
       "      <td>27.454037</td>\n",
       "      <td>86.842308</td>\n",
       "      <td>1.162562</td>\n",
       "      <td>4.843460</td>\n",
       "      <td>0.546416</td>\n",
       "      <td>18.808533</td>\n",
       "      <td>123.819808</td>\n",
       "      <td>11.316280</td>\n",
       "      <td>7.25</td>\n",
       "      <td>0.991265</td>\n",
       "      <td>1601.556163</td>\n",
       "      <td>-499.997791</td>\n",
       "      <td>1600.386685</td>\n",
       "      <td>-500.607762</td>\n",
       "      <td>1602.003542</td>\n",
       "      <td>-500.870069</td>\n",
       "      <td>1599.541515</td>\n",
       "      <td>-499.827444</td>\n",
       "      <td>33.969464</td>\n",
       "      <td>8.603505</td>\n",
       "      <td>10.354494</td>\n",
       "      <td>19.167579</td>\n",
       "      <td>2.416800</td>\n",
       "      <td>16.491823</td>\n",
       "      <td>3.124664</td>\n",
       "      <td>6.471768</td>\n",
       "      <td>26.005245</td>\n",
       "      <td>-499.929616</td>\n",
       "      <td>23.886657</td>\n",
       "      <td>-499.951928</td>\n",
       "      <td>23.913535</td>\n",
       "      <td>-499.442343</td>\n",
       "      <td>23.957717</td>\n",
       "      <td>-499.901982</td>\n",
       "      <td>14.015015</td>\n",
       "      <td>-502.520901</td>\n",
       "      <td>11.912783</td>\n",
       "      <td>-501.133383</td>\n",
       "      <td>10.070913</td>\n",
       "      <td>-500.129135</td>\n",
       "      <td>8.013877</td>\n",
       "      <td>-500.517572</td>\n",
       "      <td>14.028663</td>\n",
       "      <td>-601.427363</td>\n",
       "      <td>2.458187</td>\n",
       "      <td>14.115662</td>\n",
       "      <td>4.624775</td>\n",
       "      <td>8.842896</td>\n",
       "      <td>42.657501</td>\n",
       "      <td>6.055926</td>\n",
       "      <td>10.213995</td>\n",
       "      <td>5.383759</td>\n",
       "      <td>68.116445</td>\n",
       "      <td>2.257889</td>\n",
       "      <td>10.507046</td>\n",
       "      <td>0.953716</td>\n",
       "      <td>16.208849</td>\n",
       "    </tr>\n",
       "    <tr>\n",
       "      <th>3</th>\n",
       "      <td>2016-01-15 03:00:00</td>\n",
       "      <td>6.118189</td>\n",
       "      <td>6.043309</td>\n",
       "      <td>2.037807</td>\n",
       "      <td>36.862241</td>\n",
       "      <td>542.590390</td>\n",
       "      <td>57.792734</td>\n",
       "      <td>11.630094</td>\n",
       "      <td>6.203177</td>\n",
       "      <td>999.814770</td>\n",
       "      <td>-400.200179</td>\n",
       "      <td>1600.059442</td>\n",
       "      <td>-450.619948</td>\n",
       "      <td>1600.012842</td>\n",
       "      <td>-449.910497</td>\n",
       "      <td>1597.725177</td>\n",
       "      <td>-450.130127</td>\n",
       "      <td>1400.943157</td>\n",
       "      <td>-450.030142</td>\n",
       "      <td>1400.234743</td>\n",
       "      <td>-449.790835</td>\n",
       "      <td>11.692450</td>\n",
       "      <td>6.196578</td>\n",
       "      <td>42029.447991</td>\n",
       "      <td>3498.578313</td>\n",
       "      <td>3499.162912</td>\n",
       "      <td>3.002340</td>\n",
       "      <td>19.320810</td>\n",
       "      <td>11.915047</td>\n",
       "      <td>7.175616</td>\n",
       "      <td>27.341277</td>\n",
       "      <td>87.226430</td>\n",
       "      <td>1.079755</td>\n",
       "      <td>4.655288</td>\n",
       "      <td>0.542525</td>\n",
       "      <td>19.330200</td>\n",
       "      <td>122.270188</td>\n",
       "      <td>11.322140</td>\n",
       "      <td>7.25</td>\n",
       "      <td>0.996739</td>\n",
       "      <td>1599.968720</td>\n",
       "      <td>-500.951778</td>\n",
       "      <td>1600.659236</td>\n",
       "      <td>-499.677094</td>\n",
       "      <td>1600.304144</td>\n",
       "      <td>-500.727997</td>\n",
       "      <td>1600.449520</td>\n",
       "      <td>-500.052575</td>\n",
       "      <td>28.260743</td>\n",
       "      <td>7.221879</td>\n",
       "      <td>8.496563</td>\n",
       "      <td>15.978538</td>\n",
       "      <td>2.262051</td>\n",
       "      <td>16.024359</td>\n",
       "      <td>2.960362</td>\n",
       "      <td>6.843791</td>\n",
       "      <td>25.942508</td>\n",
       "      <td>-499.176749</td>\n",
       "      <td>23.955516</td>\n",
       "      <td>-499.848796</td>\n",
       "      <td>23.966838</td>\n",
       "      <td>-500.008812</td>\n",
       "      <td>23.954443</td>\n",
       "      <td>-499.944710</td>\n",
       "      <td>14.036510</td>\n",
       "      <td>-500.857308</td>\n",
       "      <td>11.999550</td>\n",
       "      <td>-501.193686</td>\n",
       "      <td>9.970366</td>\n",
       "      <td>-499.201640</td>\n",
       "      <td>7.977324</td>\n",
       "      <td>-500.255908</td>\n",
       "      <td>14.005551</td>\n",
       "      <td>-599.996129</td>\n",
       "      <td>2.322062</td>\n",
       "      <td>13.732071</td>\n",
       "      <td>4.482453</td>\n",
       "      <td>9.122857</td>\n",
       "      <td>42.689819</td>\n",
       "      <td>6.047977</td>\n",
       "      <td>9.977019</td>\n",
       "      <td>4.858634</td>\n",
       "      <td>68.347543</td>\n",
       "      <td>2.146849</td>\n",
       "      <td>10.422762</td>\n",
       "      <td>0.883763</td>\n",
       "      <td>16.532835</td>\n",
       "    </tr>\n",
       "    <tr>\n",
       "      <th>4</th>\n",
       "      <td>2016-01-15 04:00:00</td>\n",
       "      <td>5.663707</td>\n",
       "      <td>6.060915</td>\n",
       "      <td>1.786875</td>\n",
       "      <td>34.347666</td>\n",
       "      <td>540.531893</td>\n",
       "      <td>56.047189</td>\n",
       "      <td>10.957755</td>\n",
       "      <td>6.198826</td>\n",
       "      <td>999.678690</td>\n",
       "      <td>-399.752729</td>\n",
       "      <td>1600.208824</td>\n",
       "      <td>-449.599614</td>\n",
       "      <td>1600.357732</td>\n",
       "      <td>-450.034364</td>\n",
       "      <td>1599.759049</td>\n",
       "      <td>-449.909799</td>\n",
       "      <td>1401.560902</td>\n",
       "      <td>-448.877187</td>\n",
       "      <td>1401.160227</td>\n",
       "      <td>-450.407128</td>\n",
       "      <td>10.960521</td>\n",
       "      <td>6.194897</td>\n",
       "      <td>42125.354245</td>\n",
       "      <td>3494.800771</td>\n",
       "      <td>3506.679315</td>\n",
       "      <td>3.169615</td>\n",
       "      <td>19.216101</td>\n",
       "      <td>12.411054</td>\n",
       "      <td>7.240205</td>\n",
       "      <td>27.041023</td>\n",
       "      <td>86.688794</td>\n",
       "      <td>1.012642</td>\n",
       "      <td>4.552800</td>\n",
       "      <td>0.515438</td>\n",
       "      <td>19.267422</td>\n",
       "      <td>117.988169</td>\n",
       "      <td>11.913613</td>\n",
       "      <td>7.25</td>\n",
       "      <td>1.009869</td>\n",
       "      <td>1601.339707</td>\n",
       "      <td>-498.975456</td>\n",
       "      <td>1601.437854</td>\n",
       "      <td>-500.323246</td>\n",
       "      <td>1599.581894</td>\n",
       "      <td>-500.888152</td>\n",
       "      <td>1602.649541</td>\n",
       "      <td>-500.593010</td>\n",
       "      <td>33.044932</td>\n",
       "      <td>9.089428</td>\n",
       "      <td>9.986786</td>\n",
       "      <td>19.199864</td>\n",
       "      <td>2.277073</td>\n",
       "      <td>16.480185</td>\n",
       "      <td>3.112100</td>\n",
       "      <td>6.550154</td>\n",
       "      <td>26.024787</td>\n",
       "      <td>-500.279091</td>\n",
       "      <td>23.955345</td>\n",
       "      <td>-500.593614</td>\n",
       "      <td>23.985703</td>\n",
       "      <td>-500.083811</td>\n",
       "      <td>23.958945</td>\n",
       "      <td>-499.990309</td>\n",
       "      <td>14.027298</td>\n",
       "      <td>-499.838632</td>\n",
       "      <td>11.953070</td>\n",
       "      <td>-501.053894</td>\n",
       "      <td>9.925709</td>\n",
       "      <td>-501.686727</td>\n",
       "      <td>7.894242</td>\n",
       "      <td>-500.356035</td>\n",
       "      <td>13.996647</td>\n",
       "      <td>-601.496691</td>\n",
       "      <td>2.330448</td>\n",
       "      <td>14.079996</td>\n",
       "      <td>4.470737</td>\n",
       "      <td>8.871028</td>\n",
       "      <td>42.774141</td>\n",
       "      <td>6.148599</td>\n",
       "      <td>10.142511</td>\n",
       "      <td>4.939416</td>\n",
       "      <td>66.927016</td>\n",
       "      <td>2.055292</td>\n",
       "      <td>10.360302</td>\n",
       "      <td>0.792826</td>\n",
       "      <td>16.525686</td>\n",
       "    </tr>\n",
       "    <tr>\n",
       "      <th>5</th>\n",
       "      <td>2016-01-15 05:00:00</td>\n",
       "      <td>5.687168</td>\n",
       "      <td>5.801920</td>\n",
       "      <td>1.879351</td>\n",
       "      <td>35.470082</td>\n",
       "      <td>546.173470</td>\n",
       "      <td>57.469578</td>\n",
       "      <td>11.072517</td>\n",
       "      <td>6.200383</td>\n",
       "      <td>999.934134</td>\n",
       "      <td>-400.599524</td>\n",
       "      <td>1601.080554</td>\n",
       "      <td>-450.120760</td>\n",
       "      <td>1603.164805</td>\n",
       "      <td>-450.097732</td>\n",
       "      <td>1603.368371</td>\n",
       "      <td>-446.306150</td>\n",
       "      <td>1403.393100</td>\n",
       "      <td>-447.899904</td>\n",
       "      <td>1402.903175</td>\n",
       "      <td>-448.872321</td>\n",
       "      <td>11.075009</td>\n",
       "      <td>6.202362</td>\n",
       "      <td>41973.280986</td>\n",
       "      <td>3501.916973</td>\n",
       "      <td>3499.527175</td>\n",
       "      <td>3.026134</td>\n",
       "      <td>18.950385</td>\n",
       "      <td>11.985584</td>\n",
       "      <td>7.121903</td>\n",
       "      <td>26.898046</td>\n",
       "      <td>88.156912</td>\n",
       "      <td>0.915835</td>\n",
       "      <td>4.397415</td>\n",
       "      <td>0.491350</td>\n",
       "      <td>19.640269</td>\n",
       "      <td>115.581252</td>\n",
       "      <td>12.470773</td>\n",
       "      <td>7.25</td>\n",
       "      <td>0.965760</td>\n",
       "      <td>1602.964922</td>\n",
       "      <td>-498.090944</td>\n",
       "      <td>1602.074298</td>\n",
       "      <td>-500.179481</td>\n",
       "      <td>1602.154812</td>\n",
       "      <td>-498.642614</td>\n",
       "      <td>1605.020106</td>\n",
       "      <td>-500.538177</td>\n",
       "      <td>32.070664</td>\n",
       "      <td>9.553724</td>\n",
       "      <td>9.816215</td>\n",
       "      <td>19.167328</td>\n",
       "      <td>2.114558</td>\n",
       "      <td>15.931540</td>\n",
       "      <td>2.844511</td>\n",
       "      <td>6.724197</td>\n",
       "      <td>26.014841</td>\n",
       "      <td>-498.864670</td>\n",
       "      <td>23.880214</td>\n",
       "      <td>-499.738447</td>\n",
       "      <td>23.982635</td>\n",
       "      <td>-500.495272</td>\n",
       "      <td>24.009749</td>\n",
       "      <td>-499.433825</td>\n",
       "      <td>13.938497</td>\n",
       "      <td>-500.970168</td>\n",
       "      <td>11.883350</td>\n",
       "      <td>-500.395298</td>\n",
       "      <td>10.054147</td>\n",
       "      <td>-496.374715</td>\n",
       "      <td>7.965083</td>\n",
       "      <td>-499.364752</td>\n",
       "      <td>14.017067</td>\n",
       "      <td>-599.707915</td>\n",
       "      <td>2.192127</td>\n",
       "      <td>13.615012</td>\n",
       "      <td>4.286817</td>\n",
       "      <td>9.302669</td>\n",
       "      <td>41.633678</td>\n",
       "      <td>6.482968</td>\n",
       "      <td>10.049416</td>\n",
       "      <td>5.480257</td>\n",
       "      <td>69.465816</td>\n",
       "      <td>1.918586</td>\n",
       "      <td>10.182708</td>\n",
       "      <td>0.664118</td>\n",
       "      <td>16.999638</td>\n",
       "    </tr>\n",
       "    <tr>\n",
       "      <th>6</th>\n",
       "      <td>2016-01-15 06:00:00</td>\n",
       "      <td>6.038436</td>\n",
       "      <td>6.056253</td>\n",
       "      <td>2.105501</td>\n",
       "      <td>34.920570</td>\n",
       "      <td>523.376439</td>\n",
       "      <td>56.674647</td>\n",
       "      <td>11.535899</td>\n",
       "      <td>6.204974</td>\n",
       "      <td>999.832373</td>\n",
       "      <td>-399.353521</td>\n",
       "      <td>1600.753019</td>\n",
       "      <td>-450.050089</td>\n",
       "      <td>1599.019966</td>\n",
       "      <td>-449.848507</td>\n",
       "      <td>1600.298267</td>\n",
       "      <td>-453.102891</td>\n",
       "      <td>1397.853265</td>\n",
       "      <td>-451.306640</td>\n",
       "      <td>1397.973670</td>\n",
       "      <td>-451.355626</td>\n",
       "      <td>11.539227</td>\n",
       "      <td>6.200515</td>\n",
       "      <td>41956.468979</td>\n",
       "      <td>3497.427365</td>\n",
       "      <td>3506.352790</td>\n",
       "      <td>2.867933</td>\n",
       "      <td>19.319591</td>\n",
       "      <td>11.684307</td>\n",
       "      <td>7.304849</td>\n",
       "      <td>27.063672</td>\n",
       "      <td>88.168065</td>\n",
       "      <td>0.986248</td>\n",
       "      <td>4.478080</td>\n",
       "      <td>0.518266</td>\n",
       "      <td>19.262491</td>\n",
       "      <td>117.322323</td>\n",
       "      <td>12.469088</td>\n",
       "      <td>7.25</td>\n",
       "      <td>0.895207</td>\n",
       "      <td>1597.532455</td>\n",
       "      <td>-500.985364</td>\n",
       "      <td>1602.816321</td>\n",
       "      <td>-500.696736</td>\n",
       "      <td>1603.572091</td>\n",
       "      <td>-500.256955</td>\n",
       "      <td>1597.597437</td>\n",
       "      <td>-500.378192</td>\n",
       "      <td>33.184823</td>\n",
       "      <td>8.968869</td>\n",
       "      <td>10.081306</td>\n",
       "      <td>18.930855</td>\n",
       "      <td>2.223152</td>\n",
       "      <td>16.078368</td>\n",
       "      <td>2.938979</td>\n",
       "      <td>6.623598</td>\n",
       "      <td>25.957594</td>\n",
       "      <td>-500.134472</td>\n",
       "      <td>24.077199</td>\n",
       "      <td>-500.089190</td>\n",
       "      <td>23.991710</td>\n",
       "      <td>-500.391528</td>\n",
       "      <td>23.954144</td>\n",
       "      <td>-501.872171</td>\n",
       "      <td>14.046819</td>\n",
       "      <td>-500.971133</td>\n",
       "      <td>12.091543</td>\n",
       "      <td>-500.501426</td>\n",
       "      <td>10.003247</td>\n",
       "      <td>-497.083180</td>\n",
       "      <td>8.010890</td>\n",
       "      <td>-500.002423</td>\n",
       "      <td>14.029649</td>\n",
       "      <td>-600.905470</td>\n",
       "      <td>2.316720</td>\n",
       "      <td>13.597056</td>\n",
       "      <td>4.487865</td>\n",
       "      <td>9.103047</td>\n",
       "      <td>41.995316</td>\n",
       "      <td>6.533849</td>\n",
       "      <td>10.058141</td>\n",
       "      <td>4.569100</td>\n",
       "      <td>69.300835</td>\n",
       "      <td>2.058913</td>\n",
       "      <td>10.304598</td>\n",
       "      <td>0.807342</td>\n",
       "      <td>16.723575</td>\n",
       "    </tr>\n",
       "    <tr>\n",
       "      <th>7</th>\n",
       "      <td>2016-01-15 07:00:00</td>\n",
       "      <td>6.433854</td>\n",
       "      <td>5.955053</td>\n",
       "      <td>2.310432</td>\n",
       "      <td>36.091386</td>\n",
       "      <td>549.842749</td>\n",
       "      <td>56.730325</td>\n",
       "      <td>12.557906</td>\n",
       "      <td>6.799275</td>\n",
       "      <td>1000.166602</td>\n",
       "      <td>-400.556601</td>\n",
       "      <td>1598.877246</td>\n",
       "      <td>-450.070980</td>\n",
       "      <td>1598.108717</td>\n",
       "      <td>-449.211334</td>\n",
       "      <td>1592.872844</td>\n",
       "      <td>-449.806802</td>\n",
       "      <td>1396.580752</td>\n",
       "      <td>-453.548352</td>\n",
       "      <td>1397.289884</td>\n",
       "      <td>-450.221696</td>\n",
       "      <td>12.583109</td>\n",
       "      <td>6.798354</td>\n",
       "      <td>41812.416893</td>\n",
       "      <td>3497.275828</td>\n",
       "      <td>3501.000030</td>\n",
       "      <td>2.784698</td>\n",
       "      <td>19.507897</td>\n",
       "      <td>11.182624</td>\n",
       "      <td>7.258496</td>\n",
       "      <td>27.231114</td>\n",
       "      <td>87.668336</td>\n",
       "      <td>1.116110</td>\n",
       "      <td>4.728325</td>\n",
       "      <td>0.548067</td>\n",
       "      <td>18.861866</td>\n",
       "      <td>124.592960</td>\n",
       "      <td>12.467403</td>\n",
       "      <td>7.25</td>\n",
       "      <td>0.901202</td>\n",
       "      <td>1597.946266</td>\n",
       "      <td>-501.592304</td>\n",
       "      <td>1601.078254</td>\n",
       "      <td>-499.494115</td>\n",
       "      <td>1602.630688</td>\n",
       "      <td>-500.173741</td>\n",
       "      <td>1595.937990</td>\n",
       "      <td>-498.929825</td>\n",
       "      <td>34.027719</td>\n",
       "      <td>8.545238</td>\n",
       "      <td>10.224540</td>\n",
       "      <td>18.735813</td>\n",
       "      <td>2.112025</td>\n",
       "      <td>15.797720</td>\n",
       "      <td>2.881529</td>\n",
       "      <td>6.872033</td>\n",
       "      <td>25.938026</td>\n",
       "      <td>-499.657795</td>\n",
       "      <td>24.020179</td>\n",
       "      <td>-499.798396</td>\n",
       "      <td>24.031555</td>\n",
       "      <td>-500.550436</td>\n",
       "      <td>23.968160</td>\n",
       "      <td>-499.836513</td>\n",
       "      <td>13.974691</td>\n",
       "      <td>-501.819696</td>\n",
       "      <td>12.101324</td>\n",
       "      <td>-500.583446</td>\n",
       "      <td>9.873169</td>\n",
       "      <td>-499.171928</td>\n",
       "      <td>7.993381</td>\n",
       "      <td>-499.794518</td>\n",
       "      <td>13.984498</td>\n",
       "      <td>-600.411070</td>\n",
       "      <td>2.192197</td>\n",
       "      <td>13.177237</td>\n",
       "      <td>4.432448</td>\n",
       "      <td>9.369209</td>\n",
       "      <td>42.452727</td>\n",
       "      <td>6.130823</td>\n",
       "      <td>9.935481</td>\n",
       "      <td>4.389813</td>\n",
       "      <td>70.230976</td>\n",
       "      <td>2.143437</td>\n",
       "      <td>10.443288</td>\n",
       "      <td>0.949346</td>\n",
       "      <td>16.689959</td>\n",
       "    </tr>\n",
       "    <tr>\n",
       "      <th>8</th>\n",
       "      <td>2016-01-15 08:00:00</td>\n",
       "      <td>6.526612</td>\n",
       "      <td>5.878084</td>\n",
       "      <td>2.391713</td>\n",
       "      <td>35.753879</td>\n",
       "      <td>560.115242</td>\n",
       "      <td>56.649893</td>\n",
       "      <td>13.166128</td>\n",
       "      <td>6.798659</td>\n",
       "      <td>1000.026864</td>\n",
       "      <td>-399.968583</td>\n",
       "      <td>1599.813104</td>\n",
       "      <td>-450.481122</td>\n",
       "      <td>1600.024621</td>\n",
       "      <td>-450.365493</td>\n",
       "      <td>1594.448648</td>\n",
       "      <td>-449.882428</td>\n",
       "      <td>1402.033682</td>\n",
       "      <td>-448.545552</td>\n",
       "      <td>1400.748347</td>\n",
       "      <td>-450.303991</td>\n",
       "      <td>13.184764</td>\n",
       "      <td>6.800021</td>\n",
       "      <td>41905.757985</td>\n",
       "      <td>3498.332166</td>\n",
       "      <td>3498.120075</td>\n",
       "      <td>2.728844</td>\n",
       "      <td>19.789465</td>\n",
       "      <td>11.051323</td>\n",
       "      <td>7.380043</td>\n",
       "      <td>27.404296</td>\n",
       "      <td>87.035862</td>\n",
       "      <td>1.186780</td>\n",
       "      <td>4.764300</td>\n",
       "      <td>0.599181</td>\n",
       "      <td>18.873082</td>\n",
       "      <td>131.781026</td>\n",
       "      <td>12.465718</td>\n",
       "      <td>7.25</td>\n",
       "      <td>0.885535</td>\n",
       "      <td>1601.670053</td>\n",
       "      <td>-499.548891</td>\n",
       "      <td>1598.804355</td>\n",
       "      <td>-499.689644</td>\n",
       "      <td>1601.689285</td>\n",
       "      <td>-500.484957</td>\n",
       "      <td>1602.431117</td>\n",
       "      <td>-500.650982</td>\n",
       "      <td>34.964974</td>\n",
       "      <td>8.046686</td>\n",
       "      <td>10.500065</td>\n",
       "      <td>18.560288</td>\n",
       "      <td>2.243817</td>\n",
       "      <td>16.195420</td>\n",
       "      <td>3.089922</td>\n",
       "      <td>6.705633</td>\n",
       "      <td>25.929511</td>\n",
       "      <td>-500.079889</td>\n",
       "      <td>23.977375</td>\n",
       "      <td>-500.005187</td>\n",
       "      <td>23.998809</td>\n",
       "      <td>-500.400133</td>\n",
       "      <td>23.982633</td>\n",
       "      <td>-499.826311</td>\n",
       "      <td>13.964030</td>\n",
       "      <td>-504.252450</td>\n",
       "      <td>12.060738</td>\n",
       "      <td>-501.174549</td>\n",
       "      <td>10.033838</td>\n",
       "      <td>-501.178133</td>\n",
       "      <td>7.881604</td>\n",
       "      <td>-499.729434</td>\n",
       "      <td>13.967135</td>\n",
       "      <td>-599.061188</td>\n",
       "      <td>2.212084</td>\n",
       "      <td>13.487870</td>\n",
       "      <td>4.608756</td>\n",
       "      <td>9.437044</td>\n",
       "      <td>43.404078</td>\n",
       "      <td>5.834140</td>\n",
       "      <td>10.071156</td>\n",
       "      <td>4.876389</td>\n",
       "      <td>69.688595</td>\n",
       "      <td>2.209881</td>\n",
       "      <td>10.420140</td>\n",
       "      <td>1.065453</td>\n",
       "      <td>17.201948</td>\n",
       "    </tr>\n",
       "    <tr>\n",
       "      <th>9</th>\n",
       "      <td>2016-01-15 09:00:00</td>\n",
       "      <td>6.747693</td>\n",
       "      <td>5.974832</td>\n",
       "      <td>2.539114</td>\n",
       "      <td>38.553938</td>\n",
       "      <td>566.616045</td>\n",
       "      <td>60.308763</td>\n",
       "      <td>13.996130</td>\n",
       "      <td>6.800263</td>\n",
       "      <td>1000.332327</td>\n",
       "      <td>-400.149341</td>\n",
       "      <td>1599.255585</td>\n",
       "      <td>-449.938835</td>\n",
       "      <td>1599.889681</td>\n",
       "      <td>-450.184036</td>\n",
       "      <td>1589.251641</td>\n",
       "      <td>-449.993434</td>\n",
       "      <td>1401.349036</td>\n",
       "      <td>-449.424506</td>\n",
       "      <td>1400.221018</td>\n",
       "      <td>-450.257027</td>\n",
       "      <td>14.018513</td>\n",
       "      <td>6.799799</td>\n",
       "      <td>41904.587200</td>\n",
       "      <td>3496.945733</td>\n",
       "      <td>3503.247805</td>\n",
       "      <td>2.657499</td>\n",
       "      <td>19.550973</td>\n",
       "      <td>11.354861</td>\n",
       "      <td>7.344956</td>\n",
       "      <td>27.742063</td>\n",
       "      <td>88.280699</td>\n",
       "      <td>1.137303</td>\n",
       "      <td>4.600020</td>\n",
       "      <td>0.619485</td>\n",
       "      <td>19.436276</td>\n",
       "      <td>146.153696</td>\n",
       "      <td>12.464385</td>\n",
       "      <td>7.25</td>\n",
       "      <td>0.897431</td>\n",
       "      <td>1601.066985</td>\n",
       "      <td>-499.830641</td>\n",
       "      <td>1599.806933</td>\n",
       "      <td>-500.600490</td>\n",
       "      <td>1599.164142</td>\n",
       "      <td>-499.334459</td>\n",
       "      <td>1599.697783</td>\n",
       "      <td>-500.263228</td>\n",
       "      <td>35.360817</td>\n",
       "      <td>7.862340</td>\n",
       "      <td>10.526890</td>\n",
       "      <td>18.504813</td>\n",
       "      <td>2.011642</td>\n",
       "      <td>15.823639</td>\n",
       "      <td>3.012419</td>\n",
       "      <td>7.214806</td>\n",
       "      <td>25.986485</td>\n",
       "      <td>-499.402963</td>\n",
       "      <td>23.961207</td>\n",
       "      <td>-499.986118</td>\n",
       "      <td>24.049918</td>\n",
       "      <td>-500.435620</td>\n",
       "      <td>23.972413</td>\n",
       "      <td>-499.751759</td>\n",
       "      <td>14.008944</td>\n",
       "      <td>-504.170807</td>\n",
       "      <td>11.995903</td>\n",
       "      <td>-501.269181</td>\n",
       "      <td>10.043100</td>\n",
       "      <td>-498.529996</td>\n",
       "      <td>8.002633</td>\n",
       "      <td>-499.761922</td>\n",
       "      <td>14.004767</td>\n",
       "      <td>-599.595324</td>\n",
       "      <td>2.067619</td>\n",
       "      <td>13.735810</td>\n",
       "      <td>4.721778</td>\n",
       "      <td>9.582874</td>\n",
       "      <td>43.487291</td>\n",
       "      <td>5.706261</td>\n",
       "      <td>10.242511</td>\n",
       "      <td>5.214161</td>\n",
       "      <td>70.973641</td>\n",
       "      <td>2.200997</td>\n",
       "      <td>10.473539</td>\n",
       "      <td>1.171183</td>\n",
       "      <td>17.717049</td>\n",
       "    </tr>\n",
       "  </tbody>\n",
       "</table>\n",
       "</div>"
      ],
      "text/plain": [
       "                  date  rougher.input.feed_au  rougher.input.feed_ag  \\\n",
       "0  2016-01-15 00:00:00               6.486150               6.100378   \n",
       "1  2016-01-15 01:00:00               6.478583               6.161113   \n",
       "2  2016-01-15 02:00:00               6.362222               6.116455   \n",
       "3  2016-01-15 03:00:00               6.118189               6.043309   \n",
       "4  2016-01-15 04:00:00               5.663707               6.060915   \n",
       "5  2016-01-15 05:00:00               5.687168               5.801920   \n",
       "6  2016-01-15 06:00:00               6.038436               6.056253   \n",
       "7  2016-01-15 07:00:00               6.433854               5.955053   \n",
       "8  2016-01-15 08:00:00               6.526612               5.878084   \n",
       "9  2016-01-15 09:00:00               6.747693               5.974832   \n",
       "\n",
       "   rougher.input.feed_pb  rougher.input.feed_sol  rougher.input.feed_rate  \\\n",
       "0               2.284912               36.808594               523.546326   \n",
       "1               2.266033               35.753385               525.290581   \n",
       "2               2.159622               35.971630               530.026610   \n",
       "3               2.037807               36.862241               542.590390   \n",
       "4               1.786875               34.347666               540.531893   \n",
       "5               1.879351               35.470082               546.173470   \n",
       "6               2.105501               34.920570               523.376439   \n",
       "7               2.310432               36.091386               549.842749   \n",
       "8               2.391713               35.753879               560.115242   \n",
       "9               2.539114               38.553938               566.616045   \n",
       "\n",
       "   rougher.input.feed_size  rougher.input.floatbank10_sulfate  \\\n",
       "0                55.486599                          11.986616   \n",
       "1                57.278666                          11.971193   \n",
       "2                57.510649                          11.920603   \n",
       "3                57.792734                          11.630094   \n",
       "4                56.047189                          10.957755   \n",
       "5                57.469578                          11.072517   \n",
       "6                56.674647                          11.535899   \n",
       "7                56.730325                          12.557906   \n",
       "8                56.649893                          13.166128   \n",
       "9                60.308763                          13.996130   \n",
       "\n",
       "   rougher.input.floatbank10_xanthate  rougher.state.floatbank10_a_air  \\\n",
       "0                            6.007990                       999.706909   \n",
       "1                            6.005766                      1000.286398   \n",
       "2                            6.197377                       999.719565   \n",
       "3                            6.203177                       999.814770   \n",
       "4                            6.198826                       999.678690   \n",
       "5                            6.200383                       999.934134   \n",
       "6                            6.204974                       999.832373   \n",
       "7                            6.799275                      1000.166602   \n",
       "8                            6.798659                      1000.026864   \n",
       "9                            6.800263                      1000.332327   \n",
       "\n",
       "   rougher.state.floatbank10_a_level  rougher.state.floatbank10_b_air  \\\n",
       "0                        -404.066986                      1603.011353   \n",
       "1                        -400.065196                      1600.754587   \n",
       "2                        -400.074028                      1599.337330   \n",
       "3                        -400.200179                      1600.059442   \n",
       "4                        -399.752729                      1600.208824   \n",
       "5                        -400.599524                      1601.080554   \n",
       "6                        -399.353521                      1600.753019   \n",
       "7                        -400.556601                      1598.877246   \n",
       "8                        -399.968583                      1599.813104   \n",
       "9                        -400.149341                      1599.255585   \n",
       "\n",
       "   rougher.state.floatbank10_b_level  rougher.state.floatbank10_c_air  \\\n",
       "0                        -434.715027                      1602.375000   \n",
       "1                        -449.953435                      1600.479580   \n",
       "2                        -450.008530                      1599.672797   \n",
       "3                        -450.619948                      1600.012842   \n",
       "4                        -449.599614                      1600.357732   \n",
       "5                        -450.120760                      1603.164805   \n",
       "6                        -450.050089                      1599.019966   \n",
       "7                        -450.070980                      1598.108717   \n",
       "8                        -450.481122                      1600.024621   \n",
       "9                        -449.938835                      1599.889681   \n",
       "\n",
       "   rougher.state.floatbank10_c_level  rougher.state.floatbank10_d_air  \\\n",
       "0                        -442.204468                      1598.937256   \n",
       "1                        -449.830646                      1600.527589   \n",
       "2                        -449.954491                      1599.849325   \n",
       "3                        -449.910497                      1597.725177   \n",
       "4                        -450.034364                      1599.759049   \n",
       "5                        -450.097732                      1603.368371   \n",
       "6                        -449.848507                      1600.298267   \n",
       "7                        -449.211334                      1592.872844   \n",
       "8                        -450.365493                      1594.448648   \n",
       "9                        -450.184036                      1589.251641   \n",
       "\n",
       "   rougher.state.floatbank10_d_level  rougher.state.floatbank10_e_air  \\\n",
       "0                        -451.294128                      1404.472046   \n",
       "1                        -449.953649                      1399.227084   \n",
       "2                        -449.954185                      1399.180945   \n",
       "3                        -450.130127                      1400.943157   \n",
       "4                        -449.909799                      1401.560902   \n",
       "5                        -446.306150                      1403.393100   \n",
       "6                        -453.102891                      1397.853265   \n",
       "7                        -449.806802                      1396.580752   \n",
       "8                        -449.882428                      1402.033682   \n",
       "9                        -449.993434                      1401.349036   \n",
       "\n",
       "   rougher.state.floatbank10_e_level  rougher.state.floatbank10_f_air  \\\n",
       "0                        -455.462982                      1416.354980   \n",
       "1                        -450.869848                      1399.719514   \n",
       "2                        -449.937588                      1400.316682   \n",
       "3                        -450.030142                      1400.234743   \n",
       "4                        -448.877187                      1401.160227   \n",
       "5                        -447.899904                      1402.903175   \n",
       "6                        -451.306640                      1397.973670   \n",
       "7                        -453.548352                      1397.289884   \n",
       "8                        -448.545552                      1400.748347   \n",
       "9                        -449.424506                      1400.221018   \n",
       "\n",
       "   rougher.state.floatbank10_f_level  rougher.input.floatbank11_sulfate  \\\n",
       "0                        -451.939636                          11.836743   \n",
       "1                        -450.119001                          11.996163   \n",
       "2                        -450.527147                          11.920305   \n",
       "3                        -449.790835                          11.692450   \n",
       "4                        -450.407128                          10.960521   \n",
       "5                        -448.872321                          11.075009   \n",
       "6                        -451.355626                          11.539227   \n",
       "7                        -450.221696                          12.583109   \n",
       "8                        -450.303991                          13.184764   \n",
       "9                        -450.257027                          14.018513   \n",
       "\n",
       "   rougher.input.floatbank11_xanthate  \\\n",
       "0                            6.005818   \n",
       "1                            6.012594   \n",
       "2                            6.204633   \n",
       "3                            6.196578   \n",
       "4                            6.194897   \n",
       "5                            6.202362   \n",
       "6                            6.200515   \n",
       "7                            6.798354   \n",
       "8                            6.800021   \n",
       "9                            6.799799   \n",
       "\n",
       "   rougher.calculation.sulfate_to_au_concentrate  \\\n",
       "0                                   41885.707031   \n",
       "1                                   42050.861809   \n",
       "2                                   42018.101184   \n",
       "3                                   42029.447991   \n",
       "4                                   42125.354245   \n",
       "5                                   41973.280986   \n",
       "6                                   41956.468979   \n",
       "7                                   41812.416893   \n",
       "8                                   41905.757985   \n",
       "9                                   41904.587200   \n",
       "\n",
       "   rougher.calculation.floatbank10_sulfate_to_au_feed  \\\n",
       "0                                        3481.779053    \n",
       "1                                        3498.370979    \n",
       "2                                        3495.348910    \n",
       "3                                        3498.578313    \n",
       "4                                        3494.800771    \n",
       "5                                        3501.916973    \n",
       "6                                        3497.427365    \n",
       "7                                        3497.275828    \n",
       "8                                        3498.332166    \n",
       "9                                        3496.945733    \n",
       "\n",
       "   rougher.calculation.floatbank11_sulfate_to_au_feed  \\\n",
       "0                                        3520.337158    \n",
       "1                                        3489.981857    \n",
       "2                                        3502.359819    \n",
       "3                                        3499.162912    \n",
       "4                                        3506.679315    \n",
       "5                                        3499.527175    \n",
       "6                                        3506.352790    \n",
       "7                                        3501.000030    \n",
       "8                                        3498.120075    \n",
       "9                                        3503.247805    \n",
       "\n",
       "   rougher.calculation.au_pb_ratio  rougher.output.concentrate_au  \\\n",
       "0                         2.838687                      19.793808   \n",
       "1                         2.858998                      20.050975   \n",
       "2                         2.945989                      19.737170   \n",
       "3                         3.002340                      19.320810   \n",
       "4                         3.169615                      19.216101   \n",
       "5                         3.026134                      18.950385   \n",
       "6                         2.867933                      19.319591   \n",
       "7                         2.784698                      19.507897   \n",
       "8                         2.728844                      19.789465   \n",
       "9                         2.657499                      19.550973   \n",
       "\n",
       "   rougher.output.concentrate_ag  rougher.output.concentrate_pb  \\\n",
       "0                      11.500771                       7.101074   \n",
       "1                      11.615865                       7.278807   \n",
       "2                      11.695753                       7.216833   \n",
       "3                      11.915047                       7.175616   \n",
       "4                      12.411054                       7.240205   \n",
       "5                      11.985584                       7.121903   \n",
       "6                      11.684307                       7.304849   \n",
       "7                      11.182624                       7.258496   \n",
       "8                      11.051323                       7.380043   \n",
       "9                      11.354861                       7.344956   \n",
       "\n",
       "   rougher.output.concentrate_sol  rougher.output.recovery  \\\n",
       "0                       28.029297                87.107763   \n",
       "1                       28.067063                86.843261   \n",
       "2                       27.454037                86.842308   \n",
       "3                       27.341277                87.226430   \n",
       "4                       27.041023                86.688794   \n",
       "5                       26.898046                88.156912   \n",
       "6                       27.063672                88.168065   \n",
       "7                       27.231114                87.668336   \n",
       "8                       27.404296                87.035862   \n",
       "9                       27.742063                88.280699   \n",
       "\n",
       "   rougher.output.tail_au  rougher.output.tail_ag  rougher.output.tail_pb  \\\n",
       "0                1.170244                5.008018                0.508728   \n",
       "1                1.184827                4.955378                0.536689   \n",
       "2                1.162562                4.843460                0.546416   \n",
       "3                1.079755                4.655288                0.542525   \n",
       "4                1.012642                4.552800                0.515438   \n",
       "5                0.915835                4.397415                0.491350   \n",
       "6                0.986248                4.478080                0.518266   \n",
       "7                1.116110                4.728325                0.548067   \n",
       "8                1.186780                4.764300                0.599181   \n",
       "9                1.137303                4.600020                0.619485   \n",
       "\n",
       "   rougher.output.tail_sol  primary_cleaner.input.sulfate  \\\n",
       "0                19.154297                     127.092003   \n",
       "1                18.965234                     125.629232   \n",
       "2                18.808533                     123.819808   \n",
       "3                19.330200                     122.270188   \n",
       "4                19.267422                     117.988169   \n",
       "5                19.640269                     115.581252   \n",
       "6                19.262491                     117.322323   \n",
       "7                18.861866                     124.592960   \n",
       "8                18.873082                     131.781026   \n",
       "9                19.436276                     146.153696   \n",
       "\n",
       "   primary_cleaner.input.depressant  primary_cleaner.input.feed_size  \\\n",
       "0                         10.128295                             7.25   \n",
       "1                         10.296251                             7.25   \n",
       "2                         11.316280                             7.25   \n",
       "3                         11.322140                             7.25   \n",
       "4                         11.913613                             7.25   \n",
       "5                         12.470773                             7.25   \n",
       "6                         12.469088                             7.25   \n",
       "7                         12.467403                             7.25   \n",
       "8                         12.465718                             7.25   \n",
       "9                         12.464385                             7.25   \n",
       "\n",
       "   primary_cleaner.input.xanthate  primary_cleaner.state.floatbank8_a_air  \\\n",
       "0                        0.988759                             1549.775757   \n",
       "1                        1.002663                             1576.166671   \n",
       "2                        0.991265                             1601.556163   \n",
       "3                        0.996739                             1599.968720   \n",
       "4                        1.009869                             1601.339707   \n",
       "5                        0.965760                             1602.964922   \n",
       "6                        0.895207                             1597.532455   \n",
       "7                        0.901202                             1597.946266   \n",
       "8                        0.885535                             1601.670053   \n",
       "9                        0.897431                             1601.066985   \n",
       "\n",
       "   primary_cleaner.state.floatbank8_a_level  \\\n",
       "0                               -498.912140   \n",
       "1                               -500.904965   \n",
       "2                               -499.997791   \n",
       "3                               -500.951778   \n",
       "4                               -498.975456   \n",
       "5                               -498.090944   \n",
       "6                               -500.985364   \n",
       "7                               -501.592304   \n",
       "8                               -499.548891   \n",
       "9                               -499.830641   \n",
       "\n",
       "   primary_cleaner.state.floatbank8_b_air  \\\n",
       "0                             1551.434204   \n",
       "1                             1575.950626   \n",
       "2                             1600.386685   \n",
       "3                             1600.659236   \n",
       "4                             1601.437854   \n",
       "5                             1602.074298   \n",
       "6                             1602.816321   \n",
       "7                             1601.078254   \n",
       "8                             1598.804355   \n",
       "9                             1599.806933   \n",
       "\n",
       "   primary_cleaner.state.floatbank8_b_level  \\\n",
       "0                               -516.403442   \n",
       "1                               -499.865889   \n",
       "2                               -500.607762   \n",
       "3                               -499.677094   \n",
       "4                               -500.323246   \n",
       "5                               -500.179481   \n",
       "6                               -500.696736   \n",
       "7                               -499.494115   \n",
       "8                               -499.689644   \n",
       "9                               -500.600490   \n",
       "\n",
       "   primary_cleaner.state.floatbank8_c_air  \\\n",
       "0                             1549.873901   \n",
       "1                             1575.994189   \n",
       "2                             1602.003542   \n",
       "3                             1600.304144   \n",
       "4                             1599.581894   \n",
       "5                             1602.154812   \n",
       "6                             1603.572091   \n",
       "7                             1602.630688   \n",
       "8                             1601.689285   \n",
       "9                             1599.164142   \n",
       "\n",
       "   primary_cleaner.state.floatbank8_c_level  \\\n",
       "0                               -498.666595   \n",
       "1                               -499.315107   \n",
       "2                               -500.870069   \n",
       "3                               -500.727997   \n",
       "4                               -500.888152   \n",
       "5                               -498.642614   \n",
       "6                               -500.256955   \n",
       "7                               -500.173741   \n",
       "8                               -500.484957   \n",
       "9                               -499.334459   \n",
       "\n",
       "   primary_cleaner.state.floatbank8_d_air  \\\n",
       "0                             1554.367432   \n",
       "1                             1574.479259   \n",
       "2                             1599.541515   \n",
       "3                             1600.449520   \n",
       "4                             1602.649541   \n",
       "5                             1605.020106   \n",
       "6                             1597.597437   \n",
       "7                             1595.937990   \n",
       "8                             1602.431117   \n",
       "9                             1599.697783   \n",
       "\n",
       "   primary_cleaner.state.floatbank8_d_level  \\\n",
       "0                               -493.428131   \n",
       "1                               -498.931665   \n",
       "2                               -499.827444   \n",
       "3                               -500.052575   \n",
       "4                               -500.593010   \n",
       "5                               -500.538177   \n",
       "6                               -500.378192   \n",
       "7                               -498.929825   \n",
       "8                               -500.650982   \n",
       "9                               -500.263228   \n",
       "\n",
       "   primary_cleaner.output.concentrate_au  \\\n",
       "0                              34.174427   \n",
       "1                              34.118526   \n",
       "2                              33.969464   \n",
       "3                              28.260743   \n",
       "4                              33.044932   \n",
       "5                              32.070664   \n",
       "6                              33.184823   \n",
       "7                              34.027719   \n",
       "8                              34.964974   \n",
       "9                              35.360817   \n",
       "\n",
       "   primary_cleaner.output.concentrate_ag  \\\n",
       "0                               8.547551   \n",
       "1                               8.558743   \n",
       "2                               8.603505   \n",
       "3                               7.221879   \n",
       "4                               9.089428   \n",
       "5                               9.553724   \n",
       "6                               8.968869   \n",
       "7                               8.545238   \n",
       "8                               8.046686   \n",
       "9                               7.862340   \n",
       "\n",
       "   primary_cleaner.output.concentrate_pb  \\\n",
       "0                              10.389648   \n",
       "1                              10.497069   \n",
       "2                              10.354494   \n",
       "3                               8.496563   \n",
       "4                               9.986786   \n",
       "5                               9.816215   \n",
       "6                              10.081306   \n",
       "7                              10.224540   \n",
       "8                              10.500065   \n",
       "9                              10.526890   \n",
       "\n",
       "   primary_cleaner.output.concentrate_sol  primary_cleaner.output.tail_au  \\\n",
       "0                               19.529297                        2.106679   \n",
       "1                               19.369147                        2.353017   \n",
       "2                               19.167579                        2.416800   \n",
       "3                               15.978538                        2.262051   \n",
       "4                               19.199864                        2.277073   \n",
       "5                               19.167328                        2.114558   \n",
       "6                               18.930855                        2.223152   \n",
       "7                               18.735813                        2.112025   \n",
       "8                               18.560288                        2.243817   \n",
       "9                               18.504813                        2.011642   \n",
       "\n",
       "   primary_cleaner.output.tail_ag  primary_cleaner.output.tail_pb  \\\n",
       "0                       14.936526                        2.534912   \n",
       "1                       16.250511                        3.049646   \n",
       "2                       16.491823                        3.124664   \n",
       "3                       16.024359                        2.960362   \n",
       "4                       16.480185                        3.112100   \n",
       "5                       15.931540                        2.844511   \n",
       "6                       16.078368                        2.938979   \n",
       "7                       15.797720                        2.881529   \n",
       "8                       16.195420                        3.089922   \n",
       "9                       15.823639                        3.012419   \n",
       "\n",
       "   primary_cleaner.output.tail_sol  secondary_cleaner.state.floatbank2_a_air  \\\n",
       "0                         7.476074                                 25.853109   \n",
       "1                         6.733907                                 25.880539   \n",
       "2                         6.471768                                 26.005245   \n",
       "3                         6.843791                                 25.942508   \n",
       "4                         6.550154                                 26.024787   \n",
       "5                         6.724197                                 26.014841   \n",
       "6                         6.623598                                 25.957594   \n",
       "7                         6.872033                                 25.938026   \n",
       "8                         6.705633                                 25.929511   \n",
       "9                         7.214806                                 25.986485   \n",
       "\n",
       "   secondary_cleaner.state.floatbank2_a_level  \\\n",
       "0                                 -498.526489   \n",
       "1                                 -499.989656   \n",
       "2                                 -499.929616   \n",
       "3                                 -499.176749   \n",
       "4                                 -500.279091   \n",
       "5                                 -498.864670   \n",
       "6                                 -500.134472   \n",
       "7                                 -499.657795   \n",
       "8                                 -500.079889   \n",
       "9                                 -499.402963   \n",
       "\n",
       "   secondary_cleaner.state.floatbank2_b_air  \\\n",
       "0                                 23.893660   \n",
       "1                                 23.889530   \n",
       "2                                 23.886657   \n",
       "3                                 23.955516   \n",
       "4                                 23.955345   \n",
       "5                                 23.880214   \n",
       "6                                 24.077199   \n",
       "7                                 24.020179   \n",
       "8                                 23.977375   \n",
       "9                                 23.961207   \n",
       "\n",
       "   secondary_cleaner.state.floatbank2_b_level  \\\n",
       "0                                 -501.406281   \n",
       "1                                 -500.372428   \n",
       "2                                 -499.951928   \n",
       "3                                 -499.848796   \n",
       "4                                 -500.593614   \n",
       "5                                 -499.738447   \n",
       "6                                 -500.089190   \n",
       "7                                 -499.798396   \n",
       "8                                 -500.005187   \n",
       "9                                 -499.986118   \n",
       "\n",
       "   secondary_cleaner.state.floatbank3_a_air  \\\n",
       "0                                 23.961798   \n",
       "1                                 23.970550   \n",
       "2                                 23.913535   \n",
       "3                                 23.966838   \n",
       "4                                 23.985703   \n",
       "5                                 23.982635   \n",
       "6                                 23.991710   \n",
       "7                                 24.031555   \n",
       "8                                 23.998809   \n",
       "9                                 24.049918   \n",
       "\n",
       "   secondary_cleaner.state.floatbank3_a_level  \\\n",
       "0                                 -495.262817   \n",
       "1                                 -500.085473   \n",
       "2                                 -499.442343   \n",
       "3                                 -500.008812   \n",
       "4                                 -500.083811   \n",
       "5                                 -500.495272   \n",
       "6                                 -500.391528   \n",
       "7                                 -500.550436   \n",
       "8                                 -500.400133   \n",
       "9                                 -500.435620   \n",
       "\n",
       "   secondary_cleaner.state.floatbank3_b_air  \\\n",
       "0                                 21.940409   \n",
       "1                                 22.085714   \n",
       "2                                 23.957717   \n",
       "3                                 23.954443   \n",
       "4                                 23.958945   \n",
       "5                                 24.009749   \n",
       "6                                 23.954144   \n",
       "7                                 23.968160   \n",
       "8                                 23.982633   \n",
       "9                                 23.972413   \n",
       "\n",
       "   secondary_cleaner.state.floatbank3_b_level  \\\n",
       "0                                 -499.340973   \n",
       "1                                 -499.446897   \n",
       "2                                 -499.901982   \n",
       "3                                 -499.944710   \n",
       "4                                 -499.990309   \n",
       "5                                 -499.433825   \n",
       "6                                 -501.872171   \n",
       "7                                 -499.836513   \n",
       "8                                 -499.826311   \n",
       "9                                 -499.751759   \n",
       "\n",
       "   secondary_cleaner.state.floatbank4_a_air  \\\n",
       "0                                 14.016835   \n",
       "1                                 13.992281   \n",
       "2                                 14.015015   \n",
       "3                                 14.036510   \n",
       "4                                 14.027298   \n",
       "5                                 13.938497   \n",
       "6                                 14.046819   \n",
       "7                                 13.974691   \n",
       "8                                 13.964030   \n",
       "9                                 14.008944   \n",
       "\n",
       "   secondary_cleaner.state.floatbank4_a_level  \\\n",
       "0                                 -502.488007   \n",
       "1                                 -505.503262   \n",
       "2                                 -502.520901   \n",
       "3                                 -500.857308   \n",
       "4                                 -499.838632   \n",
       "5                                 -500.970168   \n",
       "6                                 -500.971133   \n",
       "7                                 -501.819696   \n",
       "8                                 -504.252450   \n",
       "9                                 -504.170807   \n",
       "\n",
       "   secondary_cleaner.state.floatbank4_b_air  \\\n",
       "0                                 12.099931   \n",
       "1                                 11.950531   \n",
       "2                                 11.912783   \n",
       "3                                 11.999550   \n",
       "4                                 11.953070   \n",
       "5                                 11.883350   \n",
       "6                                 12.091543   \n",
       "7                                 12.101324   \n",
       "8                                 12.060738   \n",
       "9                                 11.995903   \n",
       "\n",
       "   secondary_cleaner.state.floatbank4_b_level  \\\n",
       "0                                 -504.715942   \n",
       "1                                 -501.331529   \n",
       "2                                 -501.133383   \n",
       "3                                 -501.193686   \n",
       "4                                 -501.053894   \n",
       "5                                 -500.395298   \n",
       "6                                 -500.501426   \n",
       "7                                 -500.583446   \n",
       "8                                 -501.174549   \n",
       "9                                 -501.269181   \n",
       "\n",
       "   secondary_cleaner.state.floatbank5_a_air  \\\n",
       "0                                  9.925633   \n",
       "1                                 10.039245   \n",
       "2                                 10.070913   \n",
       "3                                  9.970366   \n",
       "4                                  9.925709   \n",
       "5                                 10.054147   \n",
       "6                                 10.003247   \n",
       "7                                  9.873169   \n",
       "8                                 10.033838   \n",
       "9                                 10.043100   \n",
       "\n",
       "   secondary_cleaner.state.floatbank5_a_level  \\\n",
       "0                                 -498.310211   \n",
       "1                                 -500.169983   \n",
       "2                                 -500.129135   \n",
       "3                                 -499.201640   \n",
       "4                                 -501.686727   \n",
       "5                                 -496.374715   \n",
       "6                                 -497.083180   \n",
       "7                                 -499.171928   \n",
       "8                                 -501.178133   \n",
       "9                                 -498.529996   \n",
       "\n",
       "   secondary_cleaner.state.floatbank5_b_air  \\\n",
       "0                                  8.079666   \n",
       "1                                  7.984757   \n",
       "2                                  8.013877   \n",
       "3                                  7.977324   \n",
       "4                                  7.894242   \n",
       "5                                  7.965083   \n",
       "6                                  8.010890   \n",
       "7                                  7.993381   \n",
       "8                                  7.881604   \n",
       "9                                  8.002633   \n",
       "\n",
       "   secondary_cleaner.state.floatbank5_b_level  \\\n",
       "0                                 -500.470978   \n",
       "1                                 -500.582168   \n",
       "2                                 -500.517572   \n",
       "3                                 -500.255908   \n",
       "4                                 -500.356035   \n",
       "5                                 -499.364752   \n",
       "6                                 -500.002423   \n",
       "7                                 -499.794518   \n",
       "8                                 -499.729434   \n",
       "9                                 -499.761922   \n",
       "\n",
       "   secondary_cleaner.state.floatbank6_a_air  \\\n",
       "0                                 14.151341   \n",
       "1                                 13.998353   \n",
       "2                                 14.028663   \n",
       "3                                 14.005551   \n",
       "4                                 13.996647   \n",
       "5                                 14.017067   \n",
       "6                                 14.029649   \n",
       "7                                 13.984498   \n",
       "8                                 13.967135   \n",
       "9                                 14.004767   \n",
       "\n",
       "   secondary_cleaner.state.floatbank6_a_level  \\\n",
       "0                                 -605.841980   \n",
       "1                                 -599.787184   \n",
       "2                                 -601.427363   \n",
       "3                                 -599.996129   \n",
       "4                                 -601.496691   \n",
       "5                                 -599.707915   \n",
       "6                                 -600.905470   \n",
       "7                                 -600.411070   \n",
       "8                                 -599.061188   \n",
       "9                                 -599.595324   \n",
       "\n",
       "   secondary_cleaner.output.tail_au  secondary_cleaner.output.tail_ag  \\\n",
       "0                          2.606185                         14.500184   \n",
       "1                          2.488248                         14.265474   \n",
       "2                          2.458187                         14.115662   \n",
       "3                          2.322062                         13.732071   \n",
       "4                          2.330448                         14.079996   \n",
       "5                          2.192127                         13.615012   \n",
       "6                          2.316720                         13.597056   \n",
       "7                          2.192197                         13.177237   \n",
       "8                          2.212084                         13.487870   \n",
       "9                          2.067619                         13.735810   \n",
       "\n",
       "   secondary_cleaner.output.tail_pb  secondary_cleaner.output.tail_sol  \\\n",
       "0                          4.694824                           8.764648   \n",
       "1                          4.592547                           9.001494   \n",
       "2                          4.624775                           8.842896   \n",
       "3                          4.482453                           9.122857   \n",
       "4                          4.470737                           8.871028   \n",
       "5                          4.286817                           9.302669   \n",
       "6                          4.487865                           9.103047   \n",
       "7                          4.432448                           9.369209   \n",
       "8                          4.608756                           9.437044   \n",
       "9                          4.721778                           9.582874   \n",
       "\n",
       "   final.output.concentrate_au  final.output.concentrate_ag  \\\n",
       "0                    42.192020                     6.055403   \n",
       "1                    42.701629                     6.029369   \n",
       "2                    42.657501                     6.055926   \n",
       "3                    42.689819                     6.047977   \n",
       "4                    42.774141                     6.148599   \n",
       "5                    41.633678                     6.482968   \n",
       "6                    41.995316                     6.533849   \n",
       "7                    42.452727                     6.130823   \n",
       "8                    43.404078                     5.834140   \n",
       "9                    43.487291                     5.706261   \n",
       "\n",
       "   final.output.concentrate_pb  final.output.concentrate_sol  \\\n",
       "0                     9.889648                      5.507324   \n",
       "1                     9.968944                      5.257781   \n",
       "2                    10.213995                      5.383759   \n",
       "3                     9.977019                      4.858634   \n",
       "4                    10.142511                      4.939416   \n",
       "5                    10.049416                      5.480257   \n",
       "6                    10.058141                      4.569100   \n",
       "7                     9.935481                      4.389813   \n",
       "8                    10.071156                      4.876389   \n",
       "9                    10.242511                      5.214161   \n",
       "\n",
       "   final.output.recovery  final.output.tail_au  final.output.tail_ag  \\\n",
       "0              70.541216              2.143149             10.411962   \n",
       "1              69.266198              2.224930             10.462676   \n",
       "2              68.116445              2.257889             10.507046   \n",
       "3              68.347543              2.146849             10.422762   \n",
       "4              66.927016              2.055292             10.360302   \n",
       "5              69.465816              1.918586             10.182708   \n",
       "6              69.300835              2.058913             10.304598   \n",
       "7              70.230976              2.143437             10.443288   \n",
       "8              69.688595              2.209881             10.420140   \n",
       "9              70.973641              2.200997             10.473539   \n",
       "\n",
       "   final.output.tail_pb  final.output.tail_sol  \n",
       "0              0.895447              16.904297  \n",
       "1              0.927452              16.634514  \n",
       "2              0.953716              16.208849  \n",
       "3              0.883763              16.532835  \n",
       "4              0.792826              16.525686  \n",
       "5              0.664118              16.999638  \n",
       "6              0.807342              16.723575  \n",
       "7              0.949346              16.689959  \n",
       "8              1.065453              17.201948  \n",
       "9              1.171183              17.717049  "
      ]
     },
     "execution_count": 7,
     "metadata": {},
     "output_type": "execute_result"
    }
   ],
   "source": [
    "pd.set_option('display.max_columns', None)\n",
    "data_train.head(10)"
   ]
  },
  {
   "cell_type": "code",
   "execution_count": 8,
   "metadata": {},
   "outputs": [
    {
     "name": "stdout",
     "output_type": "stream",
     "text": [
      "<class 'pandas.core.frame.DataFrame'>\n",
      "RangeIndex: 14579 entries, 0 to 14578\n",
      "Data columns (total 87 columns):\n",
      " #   Column                                              Non-Null Count  Dtype  \n",
      "---  ------                                              --------------  -----  \n",
      " 0   date                                                14579 non-null  object \n",
      " 1   rougher.input.feed_au                               14579 non-null  float64\n",
      " 2   rougher.input.feed_ag                               14579 non-null  float64\n",
      " 3   rougher.input.feed_pb                               14507 non-null  float64\n",
      " 4   rougher.input.feed_sol                              14502 non-null  float64\n",
      " 5   rougher.input.feed_rate                             14572 non-null  float64\n",
      " 6   rougher.input.feed_size                             14478 non-null  float64\n",
      " 7   rougher.input.floatbank10_sulfate                   14548 non-null  float64\n",
      " 8   rougher.input.floatbank10_xanthate                  14572 non-null  float64\n",
      " 9   rougher.state.floatbank10_a_air                     14579 non-null  float64\n",
      " 10  rougher.state.floatbank10_a_level                   14579 non-null  float64\n",
      " 11  rougher.state.floatbank10_b_air                     14579 non-null  float64\n",
      " 12  rougher.state.floatbank10_b_level                   14579 non-null  float64\n",
      " 13  rougher.state.floatbank10_c_air                     14579 non-null  float64\n",
      " 14  rougher.state.floatbank10_c_level                   14579 non-null  float64\n",
      " 15  rougher.state.floatbank10_d_air                     14579 non-null  float64\n",
      " 16  rougher.state.floatbank10_d_level                   14579 non-null  float64\n",
      " 17  rougher.state.floatbank10_e_air                     14150 non-null  float64\n",
      " 18  rougher.state.floatbank10_e_level                   14579 non-null  float64\n",
      " 19  rougher.state.floatbank10_f_air                     14579 non-null  float64\n",
      " 20  rougher.state.floatbank10_f_level                   14579 non-null  float64\n",
      " 21  rougher.input.floatbank11_sulfate                   14543 non-null  float64\n",
      " 22  rougher.input.floatbank11_xanthate                  14172 non-null  float64\n",
      " 23  rougher.calculation.sulfate_to_au_concentrate       14578 non-null  float64\n",
      " 24  rougher.calculation.floatbank10_sulfate_to_au_feed  14578 non-null  float64\n",
      " 25  rougher.calculation.floatbank11_sulfate_to_au_feed  14578 non-null  float64\n",
      " 26  rougher.calculation.au_pb_ratio                     14579 non-null  float64\n",
      " 27  rougher.output.concentrate_au                       14579 non-null  float64\n",
      " 28  rougher.output.concentrate_ag                       14579 non-null  float64\n",
      " 29  rougher.output.concentrate_pb                       14579 non-null  float64\n",
      " 30  rougher.output.concentrate_sol                      14561 non-null  float64\n",
      " 31  rougher.output.recovery                             14579 non-null  float64\n",
      " 32  rougher.output.tail_au                              14579 non-null  float64\n",
      " 33  rougher.output.tail_ag                              14578 non-null  float64\n",
      " 34  rougher.output.tail_pb                              14579 non-null  float64\n",
      " 35  rougher.output.tail_sol                             14579 non-null  float64\n",
      " 36  primary_cleaner.input.sulfate                       14556 non-null  float64\n",
      " 37  primary_cleaner.input.depressant                    14551 non-null  float64\n",
      " 38  primary_cleaner.input.feed_size                     14579 non-null  float64\n",
      " 39  primary_cleaner.input.xanthate                      14518 non-null  float64\n",
      " 40  primary_cleaner.state.floatbank8_a_air              14576 non-null  float64\n",
      " 41  primary_cleaner.state.floatbank8_a_level            14579 non-null  float64\n",
      " 42  primary_cleaner.state.floatbank8_b_air              14576 non-null  float64\n",
      " 43  primary_cleaner.state.floatbank8_b_level            14579 non-null  float64\n",
      " 44  primary_cleaner.state.floatbank8_c_air              14579 non-null  float64\n",
      " 45  primary_cleaner.state.floatbank8_c_level            14579 non-null  float64\n",
      " 46  primary_cleaner.state.floatbank8_d_air              14578 non-null  float64\n",
      " 47  primary_cleaner.state.floatbank8_d_level            14579 non-null  float64\n",
      " 48  primary_cleaner.output.concentrate_au               14579 non-null  float64\n",
      " 49  primary_cleaner.output.concentrate_ag               14579 non-null  float64\n",
      " 50  primary_cleaner.output.concentrate_pb               14491 non-null  float64\n",
      " 51  primary_cleaner.output.concentrate_sol              14314 non-null  float64\n",
      " 52  primary_cleaner.output.tail_au                      14579 non-null  float64\n",
      " 53  primary_cleaner.output.tail_ag                      14575 non-null  float64\n",
      " 54  primary_cleaner.output.tail_pb                      14573 non-null  float64\n",
      " 55  primary_cleaner.output.tail_sol                     14534 non-null  float64\n",
      " 56  secondary_cleaner.state.floatbank2_a_air            14485 non-null  float64\n",
      " 57  secondary_cleaner.state.floatbank2_a_level          14579 non-null  float64\n",
      " 58  secondary_cleaner.state.floatbank2_b_air            14557 non-null  float64\n",
      " 59  secondary_cleaner.state.floatbank2_b_level          14579 non-null  float64\n",
      " 60  secondary_cleaner.state.floatbank3_a_air            14567 non-null  float64\n",
      " 61  secondary_cleaner.state.floatbank3_a_level          14579 non-null  float64\n",
      " 62  secondary_cleaner.state.floatbank3_b_air            14579 non-null  float64\n",
      " 63  secondary_cleaner.state.floatbank3_b_level          14579 non-null  float64\n",
      " 64  secondary_cleaner.state.floatbank4_a_air            14574 non-null  float64\n",
      " 65  secondary_cleaner.state.floatbank4_a_level          14579 non-null  float64\n",
      " 66  secondary_cleaner.state.floatbank4_b_air            14579 non-null  float64\n",
      " 67  secondary_cleaner.state.floatbank4_b_level          14579 non-null  float64\n",
      " 68  secondary_cleaner.state.floatbank5_a_air            14579 non-null  float64\n",
      " 69  secondary_cleaner.state.floatbank5_a_level          14579 non-null  float64\n",
      " 70  secondary_cleaner.state.floatbank5_b_air            14579 non-null  float64\n",
      " 71  secondary_cleaner.state.floatbank5_b_level          14579 non-null  float64\n",
      " 72  secondary_cleaner.state.floatbank6_a_air            14578 non-null  float64\n",
      " 73  secondary_cleaner.state.floatbank6_a_level          14579 non-null  float64\n",
      " 74  secondary_cleaner.output.tail_au                    14579 non-null  float64\n",
      " 75  secondary_cleaner.output.tail_ag                    14578 non-null  float64\n",
      " 76  secondary_cleaner.output.tail_pb                    14575 non-null  float64\n",
      " 77  secondary_cleaner.output.tail_sol                   13659 non-null  float64\n",
      " 78  final.output.concentrate_au                         14579 non-null  float64\n",
      " 79  final.output.concentrate_ag                         14578 non-null  float64\n",
      " 80  final.output.concentrate_pb                         14578 non-null  float64\n",
      " 81  final.output.concentrate_sol                        14387 non-null  float64\n",
      " 82  final.output.recovery                               14579 non-null  float64\n",
      " 83  final.output.tail_au                                14579 non-null  float64\n",
      " 84  final.output.tail_ag                                14578 non-null  float64\n",
      " 85  final.output.tail_pb                                14504 non-null  float64\n",
      " 86  final.output.tail_sol                               14574 non-null  float64\n",
      "dtypes: float64(86), object(1)\n",
      "memory usage: 9.7+ MB\n"
     ]
    }
   ],
   "source": [
    "data_train.info()"
   ]
  },
  {
   "cell_type": "code",
   "execution_count": 9,
   "metadata": {},
   "outputs": [
    {
     "data": {
      "text/html": [
       "<div>\n",
       "<style scoped>\n",
       "    .dataframe tbody tr th:only-of-type {\n",
       "        vertical-align: middle;\n",
       "    }\n",
       "\n",
       "    .dataframe tbody tr th {\n",
       "        vertical-align: top;\n",
       "    }\n",
       "\n",
       "    .dataframe thead th {\n",
       "        text-align: right;\n",
       "    }\n",
       "</style>\n",
       "<table border=\"1\" class=\"dataframe\">\n",
       "  <thead>\n",
       "    <tr style=\"text-align: right;\">\n",
       "      <th></th>\n",
       "      <th>date</th>\n",
       "      <th>rougher.input.feed_au</th>\n",
       "      <th>rougher.input.feed_ag</th>\n",
       "      <th>rougher.input.feed_pb</th>\n",
       "      <th>rougher.input.feed_sol</th>\n",
       "      <th>rougher.input.feed_rate</th>\n",
       "      <th>rougher.input.feed_size</th>\n",
       "      <th>rougher.input.floatbank10_sulfate</th>\n",
       "      <th>rougher.input.floatbank10_xanthate</th>\n",
       "      <th>rougher.state.floatbank10_a_air</th>\n",
       "      <th>rougher.state.floatbank10_a_level</th>\n",
       "      <th>rougher.state.floatbank10_b_air</th>\n",
       "      <th>rougher.state.floatbank10_b_level</th>\n",
       "      <th>rougher.state.floatbank10_c_air</th>\n",
       "      <th>rougher.state.floatbank10_c_level</th>\n",
       "      <th>rougher.state.floatbank10_d_air</th>\n",
       "      <th>rougher.state.floatbank10_d_level</th>\n",
       "      <th>rougher.state.floatbank10_e_air</th>\n",
       "      <th>rougher.state.floatbank10_e_level</th>\n",
       "      <th>rougher.state.floatbank10_f_air</th>\n",
       "      <th>rougher.state.floatbank10_f_level</th>\n",
       "      <th>rougher.input.floatbank11_sulfate</th>\n",
       "      <th>rougher.input.floatbank11_xanthate</th>\n",
       "      <th>primary_cleaner.input.sulfate</th>\n",
       "      <th>primary_cleaner.input.depressant</th>\n",
       "      <th>primary_cleaner.input.feed_size</th>\n",
       "      <th>primary_cleaner.input.xanthate</th>\n",
       "      <th>primary_cleaner.state.floatbank8_a_air</th>\n",
       "      <th>primary_cleaner.state.floatbank8_a_level</th>\n",
       "      <th>primary_cleaner.state.floatbank8_b_air</th>\n",
       "      <th>primary_cleaner.state.floatbank8_b_level</th>\n",
       "      <th>primary_cleaner.state.floatbank8_c_air</th>\n",
       "      <th>primary_cleaner.state.floatbank8_c_level</th>\n",
       "      <th>primary_cleaner.state.floatbank8_d_air</th>\n",
       "      <th>primary_cleaner.state.floatbank8_d_level</th>\n",
       "      <th>secondary_cleaner.state.floatbank2_a_air</th>\n",
       "      <th>secondary_cleaner.state.floatbank2_a_level</th>\n",
       "      <th>secondary_cleaner.state.floatbank2_b_air</th>\n",
       "      <th>secondary_cleaner.state.floatbank2_b_level</th>\n",
       "      <th>secondary_cleaner.state.floatbank3_a_air</th>\n",
       "      <th>secondary_cleaner.state.floatbank3_a_level</th>\n",
       "      <th>secondary_cleaner.state.floatbank3_b_air</th>\n",
       "      <th>secondary_cleaner.state.floatbank3_b_level</th>\n",
       "      <th>secondary_cleaner.state.floatbank4_a_air</th>\n",
       "      <th>secondary_cleaner.state.floatbank4_a_level</th>\n",
       "      <th>secondary_cleaner.state.floatbank4_b_air</th>\n",
       "      <th>secondary_cleaner.state.floatbank4_b_level</th>\n",
       "      <th>secondary_cleaner.state.floatbank5_a_air</th>\n",
       "      <th>secondary_cleaner.state.floatbank5_a_level</th>\n",
       "      <th>secondary_cleaner.state.floatbank5_b_air</th>\n",
       "      <th>secondary_cleaner.state.floatbank5_b_level</th>\n",
       "      <th>secondary_cleaner.state.floatbank6_a_air</th>\n",
       "      <th>secondary_cleaner.state.floatbank6_a_level</th>\n",
       "    </tr>\n",
       "  </thead>\n",
       "  <tbody>\n",
       "    <tr>\n",
       "      <th>0</th>\n",
       "      <td>2017-12-09 14:59:59</td>\n",
       "      <td>4.365491</td>\n",
       "      <td>6.158718</td>\n",
       "      <td>3.875727</td>\n",
       "      <td>39.135119</td>\n",
       "      <td>555.820208</td>\n",
       "      <td>94.544358</td>\n",
       "      <td>6.146982</td>\n",
       "      <td>9.308612</td>\n",
       "      <td>1196.238112</td>\n",
       "      <td>-299.862743</td>\n",
       "      <td>1147.248241</td>\n",
       "      <td>-500.363165</td>\n",
       "      <td>1047.279065</td>\n",
       "      <td>-500.354091</td>\n",
       "      <td>948.756608</td>\n",
       "      <td>-498.439416</td>\n",
       "      <td>849.441918</td>\n",
       "      <td>-499.255503</td>\n",
       "      <td>850.112246</td>\n",
       "      <td>-499.407112</td>\n",
       "      <td>6.168939</td>\n",
       "      <td>9.309852</td>\n",
       "      <td>95.248427</td>\n",
       "      <td>8.078957</td>\n",
       "      <td>6.500000</td>\n",
       "      <td>1.283045</td>\n",
       "      <td>1648.759906</td>\n",
       "      <td>-399.862053</td>\n",
       "      <td>1650.135395</td>\n",
       "      <td>-399.957321</td>\n",
       "      <td>1648.831890</td>\n",
       "      <td>-400.586116</td>\n",
       "      <td>1649.464582</td>\n",
       "      <td>-400.673303</td>\n",
       "      <td>34.940919</td>\n",
       "      <td>-500.150510</td>\n",
       "      <td>30.031867</td>\n",
       "      <td>-500.328335</td>\n",
       "      <td>26.033990</td>\n",
       "      <td>-500.147792</td>\n",
       "      <td>22.952306</td>\n",
       "      <td>-500.037678</td>\n",
       "      <td>23.018622</td>\n",
       "      <td>-500.492702</td>\n",
       "      <td>20.020205</td>\n",
       "      <td>-500.220296</td>\n",
       "      <td>17.963512</td>\n",
       "      <td>-499.939490</td>\n",
       "      <td>12.990306</td>\n",
       "      <td>-500.080993</td>\n",
       "      <td>19.990336</td>\n",
       "      <td>-499.191575</td>\n",
       "    </tr>\n",
       "    <tr>\n",
       "      <th>1</th>\n",
       "      <td>2017-12-09 15:59:59</td>\n",
       "      <td>4.362781</td>\n",
       "      <td>6.048130</td>\n",
       "      <td>3.902537</td>\n",
       "      <td>39.713906</td>\n",
       "      <td>544.731687</td>\n",
       "      <td>123.742430</td>\n",
       "      <td>6.210119</td>\n",
       "      <td>9.297709</td>\n",
       "      <td>1201.904177</td>\n",
       "      <td>-299.907308</td>\n",
       "      <td>1154.087804</td>\n",
       "      <td>-500.036580</td>\n",
       "      <td>1054.009756</td>\n",
       "      <td>-500.237335</td>\n",
       "      <td>944.138793</td>\n",
       "      <td>-496.866953</td>\n",
       "      <td>851.589767</td>\n",
       "      <td>-499.040466</td>\n",
       "      <td>851.345606</td>\n",
       "      <td>-499.122561</td>\n",
       "      <td>6.209517</td>\n",
       "      <td>9.297194</td>\n",
       "      <td>98.880538</td>\n",
       "      <td>7.984164</td>\n",
       "      <td>6.500000</td>\n",
       "      <td>1.241969</td>\n",
       "      <td>1646.547763</td>\n",
       "      <td>-398.977083</td>\n",
       "      <td>1648.212240</td>\n",
       "      <td>-400.383265</td>\n",
       "      <td>1648.917387</td>\n",
       "      <td>-399.521344</td>\n",
       "      <td>1651.498591</td>\n",
       "      <td>-399.745329</td>\n",
       "      <td>34.980742</td>\n",
       "      <td>-498.131002</td>\n",
       "      <td>29.968453</td>\n",
       "      <td>-586.013330</td>\n",
       "      <td>25.971737</td>\n",
       "      <td>-499.608392</td>\n",
       "      <td>22.958448</td>\n",
       "      <td>-499.821308</td>\n",
       "      <td>23.024963</td>\n",
       "      <td>-501.153409</td>\n",
       "      <td>20.054122</td>\n",
       "      <td>-500.314711</td>\n",
       "      <td>17.979515</td>\n",
       "      <td>-499.272871</td>\n",
       "      <td>12.992404</td>\n",
       "      <td>-499.976268</td>\n",
       "      <td>20.013986</td>\n",
       "      <td>-500.625471</td>\n",
       "    </tr>\n",
       "    <tr>\n",
       "      <th>2</th>\n",
       "      <td>2017-12-09 16:59:59</td>\n",
       "      <td>5.081681</td>\n",
       "      <td>6.082745</td>\n",
       "      <td>4.564078</td>\n",
       "      <td>37.208683</td>\n",
       "      <td>558.155110</td>\n",
       "      <td>82.610855</td>\n",
       "      <td>7.363824</td>\n",
       "      <td>9.003562</td>\n",
       "      <td>1200.826926</td>\n",
       "      <td>-300.124116</td>\n",
       "      <td>1150.754676</td>\n",
       "      <td>-499.986009</td>\n",
       "      <td>1049.182824</td>\n",
       "      <td>-500.014696</td>\n",
       "      <td>948.085464</td>\n",
       "      <td>-499.997003</td>\n",
       "      <td>850.170086</td>\n",
       "      <td>-500.270334</td>\n",
       "      <td>849.557905</td>\n",
       "      <td>-500.198702</td>\n",
       "      <td>7.358308</td>\n",
       "      <td>9.000624</td>\n",
       "      <td>119.497545</td>\n",
       "      <td>8.003752</td>\n",
       "      <td>6.500000</td>\n",
       "      <td>1.259741</td>\n",
       "      <td>1647.368779</td>\n",
       "      <td>-399.788506</td>\n",
       "      <td>1648.395206</td>\n",
       "      <td>-400.166490</td>\n",
       "      <td>1648.953828</td>\n",
       "      <td>-400.468641</td>\n",
       "      <td>1649.821569</td>\n",
       "      <td>-400.071884</td>\n",
       "      <td>34.952967</td>\n",
       "      <td>-501.204647</td>\n",
       "      <td>29.927025</td>\n",
       "      <td>-500.106628</td>\n",
       "      <td>25.978253</td>\n",
       "      <td>-499.890060</td>\n",
       "      <td>23.004376</td>\n",
       "      <td>-500.014529</td>\n",
       "      <td>22.993827</td>\n",
       "      <td>-501.559663</td>\n",
       "      <td>20.029144</td>\n",
       "      <td>-500.000662</td>\n",
       "      <td>18.012723</td>\n",
       "      <td>-500.024764</td>\n",
       "      <td>13.016445</td>\n",
       "      <td>-500.058432</td>\n",
       "      <td>19.973767</td>\n",
       "      <td>-501.394155</td>\n",
       "    </tr>\n",
       "    <tr>\n",
       "      <th>3</th>\n",
       "      <td>2017-12-09 17:59:59</td>\n",
       "      <td>5.145949</td>\n",
       "      <td>6.084374</td>\n",
       "      <td>4.768124</td>\n",
       "      <td>36.808874</td>\n",
       "      <td>539.713765</td>\n",
       "      <td>77.984784</td>\n",
       "      <td>6.927072</td>\n",
       "      <td>8.955597</td>\n",
       "      <td>1199.292489</td>\n",
       "      <td>-299.778385</td>\n",
       "      <td>1152.512559</td>\n",
       "      <td>-500.338106</td>\n",
       "      <td>1052.601592</td>\n",
       "      <td>-499.695075</td>\n",
       "      <td>955.171539</td>\n",
       "      <td>-500.294989</td>\n",
       "      <td>851.957342</td>\n",
       "      <td>-499.779541</td>\n",
       "      <td>850.765662</td>\n",
       "      <td>-501.030559</td>\n",
       "      <td>6.929364</td>\n",
       "      <td>8.920717</td>\n",
       "      <td>108.080163</td>\n",
       "      <td>7.970121</td>\n",
       "      <td>6.660000</td>\n",
       "      <td>0.774909</td>\n",
       "      <td>1652.660845</td>\n",
       "      <td>-399.702218</td>\n",
       "      <td>1651.203128</td>\n",
       "      <td>-400.291472</td>\n",
       "      <td>1651.924848</td>\n",
       "      <td>-398.058033</td>\n",
       "      <td>1650.782696</td>\n",
       "      <td>-399.597977</td>\n",
       "      <td>35.038256</td>\n",
       "      <td>-500.102649</td>\n",
       "      <td>30.066959</td>\n",
       "      <td>-500.211499</td>\n",
       "      <td>26.013515</td>\n",
       "      <td>-500.054597</td>\n",
       "      <td>22.988928</td>\n",
       "      <td>-499.981410</td>\n",
       "      <td>23.032807</td>\n",
       "      <td>-501.287889</td>\n",
       "      <td>19.977466</td>\n",
       "      <td>-500.159903</td>\n",
       "      <td>17.980463</td>\n",
       "      <td>-500.504602</td>\n",
       "      <td>12.949071</td>\n",
       "      <td>-500.009937</td>\n",
       "      <td>20.010332</td>\n",
       "      <td>-508.337973</td>\n",
       "    </tr>\n",
       "    <tr>\n",
       "      <th>4</th>\n",
       "      <td>2017-12-09 18:59:59</td>\n",
       "      <td>5.735249</td>\n",
       "      <td>6.165220</td>\n",
       "      <td>4.512346</td>\n",
       "      <td>37.810642</td>\n",
       "      <td>558.713584</td>\n",
       "      <td>86.434874</td>\n",
       "      <td>7.823471</td>\n",
       "      <td>7.490356</td>\n",
       "      <td>1198.005449</td>\n",
       "      <td>-300.283401</td>\n",
       "      <td>1099.481500</td>\n",
       "      <td>-499.702465</td>\n",
       "      <td>999.539264</td>\n",
       "      <td>-499.306051</td>\n",
       "      <td>889.445596</td>\n",
       "      <td>-498.118617</td>\n",
       "      <td>800.533525</td>\n",
       "      <td>-499.765068</td>\n",
       "      <td>800.510356</td>\n",
       "      <td>-497.289533</td>\n",
       "      <td>7.824875</td>\n",
       "      <td>7.500678</td>\n",
       "      <td>117.750648</td>\n",
       "      <td>6.954311</td>\n",
       "      <td>6.426667</td>\n",
       "      <td>0.731271</td>\n",
       "      <td>1649.411497</td>\n",
       "      <td>-399.853156</td>\n",
       "      <td>1648.917211</td>\n",
       "      <td>-400.321866</td>\n",
       "      <td>1649.117753</td>\n",
       "      <td>-399.645348</td>\n",
       "      <td>1650.398209</td>\n",
       "      <td>-400.654533</td>\n",
       "      <td>34.894598</td>\n",
       "      <td>-498.444587</td>\n",
       "      <td>30.020745</td>\n",
       "      <td>-533.831343</td>\n",
       "      <td>26.022094</td>\n",
       "      <td>-499.725484</td>\n",
       "      <td>22.992992</td>\n",
       "      <td>-499.891405</td>\n",
       "      <td>23.001911</td>\n",
       "      <td>-499.947838</td>\n",
       "      <td>20.023735</td>\n",
       "      <td>-499.713680</td>\n",
       "      <td>17.990955</td>\n",
       "      <td>-500.334769</td>\n",
       "      <td>13.007523</td>\n",
       "      <td>-499.968459</td>\n",
       "      <td>19.995999</td>\n",
       "      <td>-499.788805</td>\n",
       "    </tr>\n",
       "    <tr>\n",
       "      <th>5</th>\n",
       "      <td>2017-12-09 19:59:59</td>\n",
       "      <td>5.848338</td>\n",
       "      <td>6.234198</td>\n",
       "      <td>4.468803</td>\n",
       "      <td>37.816555</td>\n",
       "      <td>547.515088</td>\n",
       "      <td>85.875864</td>\n",
       "      <td>8.040386</td>\n",
       "      <td>7.500718</td>\n",
       "      <td>1201.408796</td>\n",
       "      <td>-299.647294</td>\n",
       "      <td>1099.371712</td>\n",
       "      <td>-500.851578</td>\n",
       "      <td>1000.828849</td>\n",
       "      <td>-500.771063</td>\n",
       "      <td>908.440150</td>\n",
       "      <td>-499.396372</td>\n",
       "      <td>801.705348</td>\n",
       "      <td>-499.154561</td>\n",
       "      <td>800.806836</td>\n",
       "      <td>-501.758565</td>\n",
       "      <td>8.037074</td>\n",
       "      <td>7.500771</td>\n",
       "      <td>120.791379</td>\n",
       "      <td>7.030248</td>\n",
       "      <td>6.410000</td>\n",
       "      <td>0.803745</td>\n",
       "      <td>1650.458695</td>\n",
       "      <td>-399.463102</td>\n",
       "      <td>1649.728864</td>\n",
       "      <td>-400.035217</td>\n",
       "      <td>1650.220554</td>\n",
       "      <td>-399.584186</td>\n",
       "      <td>1651.197408</td>\n",
       "      <td>-400.045547</td>\n",
       "      <td>35.068975</td>\n",
       "      <td>-500.959366</td>\n",
       "      <td>30.060564</td>\n",
       "      <td>-513.400897</td>\n",
       "      <td>25.984428</td>\n",
       "      <td>-500.428575</td>\n",
       "      <td>22.959393</td>\n",
       "      <td>-499.870606</td>\n",
       "      <td>22.977833</td>\n",
       "      <td>-499.910098</td>\n",
       "      <td>20.000113</td>\n",
       "      <td>-500.584093</td>\n",
       "      <td>18.003899</td>\n",
       "      <td>-500.326371</td>\n",
       "      <td>12.978611</td>\n",
       "      <td>-499.966502</td>\n",
       "      <td>19.988673</td>\n",
       "      <td>-500.742891</td>\n",
       "    </tr>\n",
       "    <tr>\n",
       "      <th>6</th>\n",
       "      <td>2017-12-09 20:59:59</td>\n",
       "      <td>6.172839</td>\n",
       "      <td>6.213598</td>\n",
       "      <td>4.458071</td>\n",
       "      <td>36.829223</td>\n",
       "      <td>518.363800</td>\n",
       "      <td>73.426294</td>\n",
       "      <td>7.641859</td>\n",
       "      <td>7.498470</td>\n",
       "      <td>1198.551240</td>\n",
       "      <td>-300.152108</td>\n",
       "      <td>1100.164710</td>\n",
       "      <td>-500.079041</td>\n",
       "      <td>1000.841959</td>\n",
       "      <td>-500.284878</td>\n",
       "      <td>900.995475</td>\n",
       "      <td>-499.360944</td>\n",
       "      <td>799.547781</td>\n",
       "      <td>-500.186098</td>\n",
       "      <td>800.524543</td>\n",
       "      <td>-498.917191</td>\n",
       "      <td>7.642285</td>\n",
       "      <td>7.502294</td>\n",
       "      <td>109.589858</td>\n",
       "      <td>6.988212</td>\n",
       "      <td>6.213333</td>\n",
       "      <td>0.768212</td>\n",
       "      <td>1648.704904</td>\n",
       "      <td>-399.593373</td>\n",
       "      <td>1650.622955</td>\n",
       "      <td>-400.435259</td>\n",
       "      <td>1649.030046</td>\n",
       "      <td>-400.066896</td>\n",
       "      <td>1649.955094</td>\n",
       "      <td>-399.192795</td>\n",
       "      <td>34.886388</td>\n",
       "      <td>-499.818864</td>\n",
       "      <td>29.949877</td>\n",
       "      <td>-499.714348</td>\n",
       "      <td>25.997717</td>\n",
       "      <td>-499.568628</td>\n",
       "      <td>22.977375</td>\n",
       "      <td>-500.100956</td>\n",
       "      <td>22.964590</td>\n",
       "      <td>-500.083299</td>\n",
       "      <td>20.010567</td>\n",
       "      <td>-500.545746</td>\n",
       "      <td>18.040164</td>\n",
       "      <td>-498.936442</td>\n",
       "      <td>12.988702</td>\n",
       "      <td>-499.985412</td>\n",
       "      <td>20.014155</td>\n",
       "      <td>-499.443855</td>\n",
       "    </tr>\n",
       "    <tr>\n",
       "      <th>7</th>\n",
       "      <td>2017-12-09 21:59:59</td>\n",
       "      <td>5.743825</td>\n",
       "      <td>6.264367</td>\n",
       "      <td>4.428267</td>\n",
       "      <td>37.170131</td>\n",
       "      <td>500.494798</td>\n",
       "      <td>75.915232</td>\n",
       "      <td>7.230213</td>\n",
       "      <td>7.496599</td>\n",
       "      <td>1201.172468</td>\n",
       "      <td>-300.089700</td>\n",
       "      <td>1101.861501</td>\n",
       "      <td>-499.260271</td>\n",
       "      <td>1001.054631</td>\n",
       "      <td>-499.210366</td>\n",
       "      <td>904.609812</td>\n",
       "      <td>-498.553359</td>\n",
       "      <td>801.691575</td>\n",
       "      <td>-499.154987</td>\n",
       "      <td>800.990896</td>\n",
       "      <td>-499.567799</td>\n",
       "      <td>7.229649</td>\n",
       "      <td>7.503354</td>\n",
       "      <td>106.358575</td>\n",
       "      <td>7.009810</td>\n",
       "      <td>6.091666</td>\n",
       "      <td>0.948130</td>\n",
       "      <td>1649.830612</td>\n",
       "      <td>-400.275413</td>\n",
       "      <td>1650.641154</td>\n",
       "      <td>-400.216865</td>\n",
       "      <td>1649.477793</td>\n",
       "      <td>-401.298310</td>\n",
       "      <td>1651.683774</td>\n",
       "      <td>-400.680723</td>\n",
       "      <td>34.933307</td>\n",
       "      <td>-498.665718</td>\n",
       "      <td>29.998171</td>\n",
       "      <td>-500.217864</td>\n",
       "      <td>26.004774</td>\n",
       "      <td>-499.859184</td>\n",
       "      <td>23.039781</td>\n",
       "      <td>-499.954278</td>\n",
       "      <td>23.010484</td>\n",
       "      <td>-500.498525</td>\n",
       "      <td>20.043525</td>\n",
       "      <td>-499.701442</td>\n",
       "      <td>17.991164</td>\n",
       "      <td>-500.324632</td>\n",
       "      <td>13.000809</td>\n",
       "      <td>-500.181711</td>\n",
       "      <td>20.001605</td>\n",
       "      <td>-500.229965</td>\n",
       "    </tr>\n",
       "    <tr>\n",
       "      <th>8</th>\n",
       "      <td>2017-12-09 22:59:59</td>\n",
       "      <td>5.558520</td>\n",
       "      <td>6.167472</td>\n",
       "      <td>4.370640</td>\n",
       "      <td>37.356892</td>\n",
       "      <td>540.990643</td>\n",
       "      <td>79.668503</td>\n",
       "      <td>7.089240</td>\n",
       "      <td>7.524634</td>\n",
       "      <td>1195.305111</td>\n",
       "      <td>-300.229149</td>\n",
       "      <td>1099.810739</td>\n",
       "      <td>-499.432120</td>\n",
       "      <td>999.330796</td>\n",
       "      <td>-500.005040</td>\n",
       "      <td>895.017059</td>\n",
       "      <td>-498.478988</td>\n",
       "      <td>801.753445</td>\n",
       "      <td>-499.897202</td>\n",
       "      <td>801.838802</td>\n",
       "      <td>-498.664752</td>\n",
       "      <td>7.088842</td>\n",
       "      <td>7.537291</td>\n",
       "      <td>104.431450</td>\n",
       "      <td>6.976065</td>\n",
       "      <td>5.600000</td>\n",
       "      <td>0.744216</td>\n",
       "      <td>1649.305915</td>\n",
       "      <td>-399.607342</td>\n",
       "      <td>1650.047781</td>\n",
       "      <td>-400.191615</td>\n",
       "      <td>1649.688762</td>\n",
       "      <td>-401.429467</td>\n",
       "      <td>1651.279114</td>\n",
       "      <td>-399.473989</td>\n",
       "      <td>35.002981</td>\n",
       "      <td>-499.988965</td>\n",
       "      <td>30.035913</td>\n",
       "      <td>-499.860096</td>\n",
       "      <td>25.988798</td>\n",
       "      <td>-500.255302</td>\n",
       "      <td>22.961013</td>\n",
       "      <td>-500.074835</td>\n",
       "      <td>22.979813</td>\n",
       "      <td>-500.451722</td>\n",
       "      <td>19.995022</td>\n",
       "      <td>-500.415107</td>\n",
       "      <td>18.057379</td>\n",
       "      <td>-499.238503</td>\n",
       "      <td>13.011922</td>\n",
       "      <td>-500.067255</td>\n",
       "      <td>20.002796</td>\n",
       "      <td>-504.347015</td>\n",
       "    </tr>\n",
       "    <tr>\n",
       "      <th>9</th>\n",
       "      <td>2017-12-09 23:59:59</td>\n",
       "      <td>5.473143</td>\n",
       "      <td>6.076597</td>\n",
       "      <td>4.274908</td>\n",
       "      <td>38.631317</td>\n",
       "      <td>492.146649</td>\n",
       "      <td>90.792119</td>\n",
       "      <td>7.367698</td>\n",
       "      <td>6.543369</td>\n",
       "      <td>1203.076302</td>\n",
       "      <td>-299.896920</td>\n",
       "      <td>1098.645509</td>\n",
       "      <td>-500.783736</td>\n",
       "      <td>998.540356</td>\n",
       "      <td>-500.405253</td>\n",
       "      <td>902.825938</td>\n",
       "      <td>-501.677213</td>\n",
       "      <td>799.894361</td>\n",
       "      <td>-500.059247</td>\n",
       "      <td>799.310388</td>\n",
       "      <td>-501.880486</td>\n",
       "      <td>7.369183</td>\n",
       "      <td>5.396443</td>\n",
       "      <td>106.271973</td>\n",
       "      <td>7.017636</td>\n",
       "      <td>5.600000</td>\n",
       "      <td>0.426712</td>\n",
       "      <td>1650.858685</td>\n",
       "      <td>-399.827404</td>\n",
       "      <td>1650.334349</td>\n",
       "      <td>-399.638239</td>\n",
       "      <td>1650.609830</td>\n",
       "      <td>-397.994621</td>\n",
       "      <td>1649.454854</td>\n",
       "      <td>-399.646327</td>\n",
       "      <td>35.011562</td>\n",
       "      <td>-500.189061</td>\n",
       "      <td>30.002293</td>\n",
       "      <td>-499.901439</td>\n",
       "      <td>26.012464</td>\n",
       "      <td>-500.160530</td>\n",
       "      <td>23.014419</td>\n",
       "      <td>-500.056256</td>\n",
       "      <td>23.050901</td>\n",
       "      <td>-501.185001</td>\n",
       "      <td>20.016755</td>\n",
       "      <td>-499.840744</td>\n",
       "      <td>17.991566</td>\n",
       "      <td>-500.303770</td>\n",
       "      <td>13.023215</td>\n",
       "      <td>-500.018271</td>\n",
       "      <td>20.015115</td>\n",
       "      <td>-515.537548</td>\n",
       "    </tr>\n",
       "  </tbody>\n",
       "</table>\n",
       "</div>"
      ],
      "text/plain": [
       "                  date  rougher.input.feed_au  rougher.input.feed_ag  \\\n",
       "0  2017-12-09 14:59:59               4.365491               6.158718   \n",
       "1  2017-12-09 15:59:59               4.362781               6.048130   \n",
       "2  2017-12-09 16:59:59               5.081681               6.082745   \n",
       "3  2017-12-09 17:59:59               5.145949               6.084374   \n",
       "4  2017-12-09 18:59:59               5.735249               6.165220   \n",
       "5  2017-12-09 19:59:59               5.848338               6.234198   \n",
       "6  2017-12-09 20:59:59               6.172839               6.213598   \n",
       "7  2017-12-09 21:59:59               5.743825               6.264367   \n",
       "8  2017-12-09 22:59:59               5.558520               6.167472   \n",
       "9  2017-12-09 23:59:59               5.473143               6.076597   \n",
       "\n",
       "   rougher.input.feed_pb  rougher.input.feed_sol  rougher.input.feed_rate  \\\n",
       "0               3.875727               39.135119               555.820208   \n",
       "1               3.902537               39.713906               544.731687   \n",
       "2               4.564078               37.208683               558.155110   \n",
       "3               4.768124               36.808874               539.713765   \n",
       "4               4.512346               37.810642               558.713584   \n",
       "5               4.468803               37.816555               547.515088   \n",
       "6               4.458071               36.829223               518.363800   \n",
       "7               4.428267               37.170131               500.494798   \n",
       "8               4.370640               37.356892               540.990643   \n",
       "9               4.274908               38.631317               492.146649   \n",
       "\n",
       "   rougher.input.feed_size  rougher.input.floatbank10_sulfate  \\\n",
       "0                94.544358                           6.146982   \n",
       "1               123.742430                           6.210119   \n",
       "2                82.610855                           7.363824   \n",
       "3                77.984784                           6.927072   \n",
       "4                86.434874                           7.823471   \n",
       "5                85.875864                           8.040386   \n",
       "6                73.426294                           7.641859   \n",
       "7                75.915232                           7.230213   \n",
       "8                79.668503                           7.089240   \n",
       "9                90.792119                           7.367698   \n",
       "\n",
       "   rougher.input.floatbank10_xanthate  rougher.state.floatbank10_a_air  \\\n",
       "0                            9.308612                      1196.238112   \n",
       "1                            9.297709                      1201.904177   \n",
       "2                            9.003562                      1200.826926   \n",
       "3                            8.955597                      1199.292489   \n",
       "4                            7.490356                      1198.005449   \n",
       "5                            7.500718                      1201.408796   \n",
       "6                            7.498470                      1198.551240   \n",
       "7                            7.496599                      1201.172468   \n",
       "8                            7.524634                      1195.305111   \n",
       "9                            6.543369                      1203.076302   \n",
       "\n",
       "   rougher.state.floatbank10_a_level  rougher.state.floatbank10_b_air  \\\n",
       "0                        -299.862743                      1147.248241   \n",
       "1                        -299.907308                      1154.087804   \n",
       "2                        -300.124116                      1150.754676   \n",
       "3                        -299.778385                      1152.512559   \n",
       "4                        -300.283401                      1099.481500   \n",
       "5                        -299.647294                      1099.371712   \n",
       "6                        -300.152108                      1100.164710   \n",
       "7                        -300.089700                      1101.861501   \n",
       "8                        -300.229149                      1099.810739   \n",
       "9                        -299.896920                      1098.645509   \n",
       "\n",
       "   rougher.state.floatbank10_b_level  rougher.state.floatbank10_c_air  \\\n",
       "0                        -500.363165                      1047.279065   \n",
       "1                        -500.036580                      1054.009756   \n",
       "2                        -499.986009                      1049.182824   \n",
       "3                        -500.338106                      1052.601592   \n",
       "4                        -499.702465                       999.539264   \n",
       "5                        -500.851578                      1000.828849   \n",
       "6                        -500.079041                      1000.841959   \n",
       "7                        -499.260271                      1001.054631   \n",
       "8                        -499.432120                       999.330796   \n",
       "9                        -500.783736                       998.540356   \n",
       "\n",
       "   rougher.state.floatbank10_c_level  rougher.state.floatbank10_d_air  \\\n",
       "0                        -500.354091                       948.756608   \n",
       "1                        -500.237335                       944.138793   \n",
       "2                        -500.014696                       948.085464   \n",
       "3                        -499.695075                       955.171539   \n",
       "4                        -499.306051                       889.445596   \n",
       "5                        -500.771063                       908.440150   \n",
       "6                        -500.284878                       900.995475   \n",
       "7                        -499.210366                       904.609812   \n",
       "8                        -500.005040                       895.017059   \n",
       "9                        -500.405253                       902.825938   \n",
       "\n",
       "   rougher.state.floatbank10_d_level  rougher.state.floatbank10_e_air  \\\n",
       "0                        -498.439416                       849.441918   \n",
       "1                        -496.866953                       851.589767   \n",
       "2                        -499.997003                       850.170086   \n",
       "3                        -500.294989                       851.957342   \n",
       "4                        -498.118617                       800.533525   \n",
       "5                        -499.396372                       801.705348   \n",
       "6                        -499.360944                       799.547781   \n",
       "7                        -498.553359                       801.691575   \n",
       "8                        -498.478988                       801.753445   \n",
       "9                        -501.677213                       799.894361   \n",
       "\n",
       "   rougher.state.floatbank10_e_level  rougher.state.floatbank10_f_air  \\\n",
       "0                        -499.255503                       850.112246   \n",
       "1                        -499.040466                       851.345606   \n",
       "2                        -500.270334                       849.557905   \n",
       "3                        -499.779541                       850.765662   \n",
       "4                        -499.765068                       800.510356   \n",
       "5                        -499.154561                       800.806836   \n",
       "6                        -500.186098                       800.524543   \n",
       "7                        -499.154987                       800.990896   \n",
       "8                        -499.897202                       801.838802   \n",
       "9                        -500.059247                       799.310388   \n",
       "\n",
       "   rougher.state.floatbank10_f_level  rougher.input.floatbank11_sulfate  \\\n",
       "0                        -499.407112                           6.168939   \n",
       "1                        -499.122561                           6.209517   \n",
       "2                        -500.198702                           7.358308   \n",
       "3                        -501.030559                           6.929364   \n",
       "4                        -497.289533                           7.824875   \n",
       "5                        -501.758565                           8.037074   \n",
       "6                        -498.917191                           7.642285   \n",
       "7                        -499.567799                           7.229649   \n",
       "8                        -498.664752                           7.088842   \n",
       "9                        -501.880486                           7.369183   \n",
       "\n",
       "   rougher.input.floatbank11_xanthate  primary_cleaner.input.sulfate  \\\n",
       "0                            9.309852                      95.248427   \n",
       "1                            9.297194                      98.880538   \n",
       "2                            9.000624                     119.497545   \n",
       "3                            8.920717                     108.080163   \n",
       "4                            7.500678                     117.750648   \n",
       "5                            7.500771                     120.791379   \n",
       "6                            7.502294                     109.589858   \n",
       "7                            7.503354                     106.358575   \n",
       "8                            7.537291                     104.431450   \n",
       "9                            5.396443                     106.271973   \n",
       "\n",
       "   primary_cleaner.input.depressant  primary_cleaner.input.feed_size  \\\n",
       "0                          8.078957                         6.500000   \n",
       "1                          7.984164                         6.500000   \n",
       "2                          8.003752                         6.500000   \n",
       "3                          7.970121                         6.660000   \n",
       "4                          6.954311                         6.426667   \n",
       "5                          7.030248                         6.410000   \n",
       "6                          6.988212                         6.213333   \n",
       "7                          7.009810                         6.091666   \n",
       "8                          6.976065                         5.600000   \n",
       "9                          7.017636                         5.600000   \n",
       "\n",
       "   primary_cleaner.input.xanthate  primary_cleaner.state.floatbank8_a_air  \\\n",
       "0                        1.283045                             1648.759906   \n",
       "1                        1.241969                             1646.547763   \n",
       "2                        1.259741                             1647.368779   \n",
       "3                        0.774909                             1652.660845   \n",
       "4                        0.731271                             1649.411497   \n",
       "5                        0.803745                             1650.458695   \n",
       "6                        0.768212                             1648.704904   \n",
       "7                        0.948130                             1649.830612   \n",
       "8                        0.744216                             1649.305915   \n",
       "9                        0.426712                             1650.858685   \n",
       "\n",
       "   primary_cleaner.state.floatbank8_a_level  \\\n",
       "0                               -399.862053   \n",
       "1                               -398.977083   \n",
       "2                               -399.788506   \n",
       "3                               -399.702218   \n",
       "4                               -399.853156   \n",
       "5                               -399.463102   \n",
       "6                               -399.593373   \n",
       "7                               -400.275413   \n",
       "8                               -399.607342   \n",
       "9                               -399.827404   \n",
       "\n",
       "   primary_cleaner.state.floatbank8_b_air  \\\n",
       "0                             1650.135395   \n",
       "1                             1648.212240   \n",
       "2                             1648.395206   \n",
       "3                             1651.203128   \n",
       "4                             1648.917211   \n",
       "5                             1649.728864   \n",
       "6                             1650.622955   \n",
       "7                             1650.641154   \n",
       "8                             1650.047781   \n",
       "9                             1650.334349   \n",
       "\n",
       "   primary_cleaner.state.floatbank8_b_level  \\\n",
       "0                               -399.957321   \n",
       "1                               -400.383265   \n",
       "2                               -400.166490   \n",
       "3                               -400.291472   \n",
       "4                               -400.321866   \n",
       "5                               -400.035217   \n",
       "6                               -400.435259   \n",
       "7                               -400.216865   \n",
       "8                               -400.191615   \n",
       "9                               -399.638239   \n",
       "\n",
       "   primary_cleaner.state.floatbank8_c_air  \\\n",
       "0                             1648.831890   \n",
       "1                             1648.917387   \n",
       "2                             1648.953828   \n",
       "3                             1651.924848   \n",
       "4                             1649.117753   \n",
       "5                             1650.220554   \n",
       "6                             1649.030046   \n",
       "7                             1649.477793   \n",
       "8                             1649.688762   \n",
       "9                             1650.609830   \n",
       "\n",
       "   primary_cleaner.state.floatbank8_c_level  \\\n",
       "0                               -400.586116   \n",
       "1                               -399.521344   \n",
       "2                               -400.468641   \n",
       "3                               -398.058033   \n",
       "4                               -399.645348   \n",
       "5                               -399.584186   \n",
       "6                               -400.066896   \n",
       "7                               -401.298310   \n",
       "8                               -401.429467   \n",
       "9                               -397.994621   \n",
       "\n",
       "   primary_cleaner.state.floatbank8_d_air  \\\n",
       "0                             1649.464582   \n",
       "1                             1651.498591   \n",
       "2                             1649.821569   \n",
       "3                             1650.782696   \n",
       "4                             1650.398209   \n",
       "5                             1651.197408   \n",
       "6                             1649.955094   \n",
       "7                             1651.683774   \n",
       "8                             1651.279114   \n",
       "9                             1649.454854   \n",
       "\n",
       "   primary_cleaner.state.floatbank8_d_level  \\\n",
       "0                               -400.673303   \n",
       "1                               -399.745329   \n",
       "2                               -400.071884   \n",
       "3                               -399.597977   \n",
       "4                               -400.654533   \n",
       "5                               -400.045547   \n",
       "6                               -399.192795   \n",
       "7                               -400.680723   \n",
       "8                               -399.473989   \n",
       "9                               -399.646327   \n",
       "\n",
       "   secondary_cleaner.state.floatbank2_a_air  \\\n",
       "0                                 34.940919   \n",
       "1                                 34.980742   \n",
       "2                                 34.952967   \n",
       "3                                 35.038256   \n",
       "4                                 34.894598   \n",
       "5                                 35.068975   \n",
       "6                                 34.886388   \n",
       "7                                 34.933307   \n",
       "8                                 35.002981   \n",
       "9                                 35.011562   \n",
       "\n",
       "   secondary_cleaner.state.floatbank2_a_level  \\\n",
       "0                                 -500.150510   \n",
       "1                                 -498.131002   \n",
       "2                                 -501.204647   \n",
       "3                                 -500.102649   \n",
       "4                                 -498.444587   \n",
       "5                                 -500.959366   \n",
       "6                                 -499.818864   \n",
       "7                                 -498.665718   \n",
       "8                                 -499.988965   \n",
       "9                                 -500.189061   \n",
       "\n",
       "   secondary_cleaner.state.floatbank2_b_air  \\\n",
       "0                                 30.031867   \n",
       "1                                 29.968453   \n",
       "2                                 29.927025   \n",
       "3                                 30.066959   \n",
       "4                                 30.020745   \n",
       "5                                 30.060564   \n",
       "6                                 29.949877   \n",
       "7                                 29.998171   \n",
       "8                                 30.035913   \n",
       "9                                 30.002293   \n",
       "\n",
       "   secondary_cleaner.state.floatbank2_b_level  \\\n",
       "0                                 -500.328335   \n",
       "1                                 -586.013330   \n",
       "2                                 -500.106628   \n",
       "3                                 -500.211499   \n",
       "4                                 -533.831343   \n",
       "5                                 -513.400897   \n",
       "6                                 -499.714348   \n",
       "7                                 -500.217864   \n",
       "8                                 -499.860096   \n",
       "9                                 -499.901439   \n",
       "\n",
       "   secondary_cleaner.state.floatbank3_a_air  \\\n",
       "0                                 26.033990   \n",
       "1                                 25.971737   \n",
       "2                                 25.978253   \n",
       "3                                 26.013515   \n",
       "4                                 26.022094   \n",
       "5                                 25.984428   \n",
       "6                                 25.997717   \n",
       "7                                 26.004774   \n",
       "8                                 25.988798   \n",
       "9                                 26.012464   \n",
       "\n",
       "   secondary_cleaner.state.floatbank3_a_level  \\\n",
       "0                                 -500.147792   \n",
       "1                                 -499.608392   \n",
       "2                                 -499.890060   \n",
       "3                                 -500.054597   \n",
       "4                                 -499.725484   \n",
       "5                                 -500.428575   \n",
       "6                                 -499.568628   \n",
       "7                                 -499.859184   \n",
       "8                                 -500.255302   \n",
       "9                                 -500.160530   \n",
       "\n",
       "   secondary_cleaner.state.floatbank3_b_air  \\\n",
       "0                                 22.952306   \n",
       "1                                 22.958448   \n",
       "2                                 23.004376   \n",
       "3                                 22.988928   \n",
       "4                                 22.992992   \n",
       "5                                 22.959393   \n",
       "6                                 22.977375   \n",
       "7                                 23.039781   \n",
       "8                                 22.961013   \n",
       "9                                 23.014419   \n",
       "\n",
       "   secondary_cleaner.state.floatbank3_b_level  \\\n",
       "0                                 -500.037678   \n",
       "1                                 -499.821308   \n",
       "2                                 -500.014529   \n",
       "3                                 -499.981410   \n",
       "4                                 -499.891405   \n",
       "5                                 -499.870606   \n",
       "6                                 -500.100956   \n",
       "7                                 -499.954278   \n",
       "8                                 -500.074835   \n",
       "9                                 -500.056256   \n",
       "\n",
       "   secondary_cleaner.state.floatbank4_a_air  \\\n",
       "0                                 23.018622   \n",
       "1                                 23.024963   \n",
       "2                                 22.993827   \n",
       "3                                 23.032807   \n",
       "4                                 23.001911   \n",
       "5                                 22.977833   \n",
       "6                                 22.964590   \n",
       "7                                 23.010484   \n",
       "8                                 22.979813   \n",
       "9                                 23.050901   \n",
       "\n",
       "   secondary_cleaner.state.floatbank4_a_level  \\\n",
       "0                                 -500.492702   \n",
       "1                                 -501.153409   \n",
       "2                                 -501.559663   \n",
       "3                                 -501.287889   \n",
       "4                                 -499.947838   \n",
       "5                                 -499.910098   \n",
       "6                                 -500.083299   \n",
       "7                                 -500.498525   \n",
       "8                                 -500.451722   \n",
       "9                                 -501.185001   \n",
       "\n",
       "   secondary_cleaner.state.floatbank4_b_air  \\\n",
       "0                                 20.020205   \n",
       "1                                 20.054122   \n",
       "2                                 20.029144   \n",
       "3                                 19.977466   \n",
       "4                                 20.023735   \n",
       "5                                 20.000113   \n",
       "6                                 20.010567   \n",
       "7                                 20.043525   \n",
       "8                                 19.995022   \n",
       "9                                 20.016755   \n",
       "\n",
       "   secondary_cleaner.state.floatbank4_b_level  \\\n",
       "0                                 -500.220296   \n",
       "1                                 -500.314711   \n",
       "2                                 -500.000662   \n",
       "3                                 -500.159903   \n",
       "4                                 -499.713680   \n",
       "5                                 -500.584093   \n",
       "6                                 -500.545746   \n",
       "7                                 -499.701442   \n",
       "8                                 -500.415107   \n",
       "9                                 -499.840744   \n",
       "\n",
       "   secondary_cleaner.state.floatbank5_a_air  \\\n",
       "0                                 17.963512   \n",
       "1                                 17.979515   \n",
       "2                                 18.012723   \n",
       "3                                 17.980463   \n",
       "4                                 17.990955   \n",
       "5                                 18.003899   \n",
       "6                                 18.040164   \n",
       "7                                 17.991164   \n",
       "8                                 18.057379   \n",
       "9                                 17.991566   \n",
       "\n",
       "   secondary_cleaner.state.floatbank5_a_level  \\\n",
       "0                                 -499.939490   \n",
       "1                                 -499.272871   \n",
       "2                                 -500.024764   \n",
       "3                                 -500.504602   \n",
       "4                                 -500.334769   \n",
       "5                                 -500.326371   \n",
       "6                                 -498.936442   \n",
       "7                                 -500.324632   \n",
       "8                                 -499.238503   \n",
       "9                                 -500.303770   \n",
       "\n",
       "   secondary_cleaner.state.floatbank5_b_air  \\\n",
       "0                                 12.990306   \n",
       "1                                 12.992404   \n",
       "2                                 13.016445   \n",
       "3                                 12.949071   \n",
       "4                                 13.007523   \n",
       "5                                 12.978611   \n",
       "6                                 12.988702   \n",
       "7                                 13.000809   \n",
       "8                                 13.011922   \n",
       "9                                 13.023215   \n",
       "\n",
       "   secondary_cleaner.state.floatbank5_b_level  \\\n",
       "0                                 -500.080993   \n",
       "1                                 -499.976268   \n",
       "2                                 -500.058432   \n",
       "3                                 -500.009937   \n",
       "4                                 -499.968459   \n",
       "5                                 -499.966502   \n",
       "6                                 -499.985412   \n",
       "7                                 -500.181711   \n",
       "8                                 -500.067255   \n",
       "9                                 -500.018271   \n",
       "\n",
       "   secondary_cleaner.state.floatbank6_a_air  \\\n",
       "0                                 19.990336   \n",
       "1                                 20.013986   \n",
       "2                                 19.973767   \n",
       "3                                 20.010332   \n",
       "4                                 19.995999   \n",
       "5                                 19.988673   \n",
       "6                                 20.014155   \n",
       "7                                 20.001605   \n",
       "8                                 20.002796   \n",
       "9                                 20.015115   \n",
       "\n",
       "   secondary_cleaner.state.floatbank6_a_level  \n",
       "0                                 -499.191575  \n",
       "1                                 -500.625471  \n",
       "2                                 -501.394155  \n",
       "3                                 -508.337973  \n",
       "4                                 -499.788805  \n",
       "5                                 -500.742891  \n",
       "6                                 -499.443855  \n",
       "7                                 -500.229965  \n",
       "8                                 -504.347015  \n",
       "9                                 -515.537548  "
      ]
     },
     "execution_count": 9,
     "metadata": {},
     "output_type": "execute_result"
    }
   ],
   "source": [
    "pd.set_option('display.max_columns', None)\n",
    "data_test.head(10)"
   ]
  },
  {
   "cell_type": "code",
   "execution_count": 10,
   "metadata": {},
   "outputs": [
    {
     "name": "stdout",
     "output_type": "stream",
     "text": [
      "<class 'pandas.core.frame.DataFrame'>\n",
      "RangeIndex: 4860 entries, 0 to 4859\n",
      "Data columns (total 53 columns):\n",
      " #   Column                                      Non-Null Count  Dtype  \n",
      "---  ------                                      --------------  -----  \n",
      " 0   date                                        4860 non-null   object \n",
      " 1   rougher.input.feed_au                       4860 non-null   float64\n",
      " 2   rougher.input.feed_ag                       4860 non-null   float64\n",
      " 3   rougher.input.feed_pb                       4832 non-null   float64\n",
      " 4   rougher.input.feed_sol                      4838 non-null   float64\n",
      " 5   rougher.input.feed_rate                     4856 non-null   float64\n",
      " 6   rougher.input.feed_size                     4816 non-null   float64\n",
      " 7   rougher.input.floatbank10_sulfate           4857 non-null   float64\n",
      " 8   rougher.input.floatbank10_xanthate          4859 non-null   float64\n",
      " 9   rougher.state.floatbank10_a_air             4859 non-null   float64\n",
      " 10  rougher.state.floatbank10_a_level           4859 non-null   float64\n",
      " 11  rougher.state.floatbank10_b_air             4859 non-null   float64\n",
      " 12  rougher.state.floatbank10_b_level           4859 non-null   float64\n",
      " 13  rougher.state.floatbank10_c_air             4859 non-null   float64\n",
      " 14  rougher.state.floatbank10_c_level           4859 non-null   float64\n",
      " 15  rougher.state.floatbank10_d_air             4860 non-null   float64\n",
      " 16  rougher.state.floatbank10_d_level           4860 non-null   float64\n",
      " 17  rougher.state.floatbank10_e_air             4853 non-null   float64\n",
      " 18  rougher.state.floatbank10_e_level           4860 non-null   float64\n",
      " 19  rougher.state.floatbank10_f_air             4860 non-null   float64\n",
      " 20  rougher.state.floatbank10_f_level           4860 non-null   float64\n",
      " 21  rougher.input.floatbank11_sulfate           4852 non-null   float64\n",
      " 22  rougher.input.floatbank11_xanthate          4814 non-null   float64\n",
      " 23  primary_cleaner.input.sulfate               4859 non-null   float64\n",
      " 24  primary_cleaner.input.depressant            4851 non-null   float64\n",
      " 25  primary_cleaner.input.feed_size             4860 non-null   float64\n",
      " 26  primary_cleaner.input.xanthate              4817 non-null   float64\n",
      " 27  primary_cleaner.state.floatbank8_a_air      4859 non-null   float64\n",
      " 28  primary_cleaner.state.floatbank8_a_level    4859 non-null   float64\n",
      " 29  primary_cleaner.state.floatbank8_b_air      4859 non-null   float64\n",
      " 30  primary_cleaner.state.floatbank8_b_level    4859 non-null   float64\n",
      " 31  primary_cleaner.state.floatbank8_c_air      4858 non-null   float64\n",
      " 32  primary_cleaner.state.floatbank8_c_level    4859 non-null   float64\n",
      " 33  primary_cleaner.state.floatbank8_d_air      4858 non-null   float64\n",
      " 34  primary_cleaner.state.floatbank8_d_level    4859 non-null   float64\n",
      " 35  secondary_cleaner.state.floatbank2_a_air    4734 non-null   float64\n",
      " 36  secondary_cleaner.state.floatbank2_a_level  4859 non-null   float64\n",
      " 37  secondary_cleaner.state.floatbank2_b_air    4859 non-null   float64\n",
      " 38  secondary_cleaner.state.floatbank2_b_level  4859 non-null   float64\n",
      " 39  secondary_cleaner.state.floatbank3_a_air    4859 non-null   float64\n",
      " 40  secondary_cleaner.state.floatbank3_a_level  4859 non-null   float64\n",
      " 41  secondary_cleaner.state.floatbank3_b_air    4859 non-null   float64\n",
      " 42  secondary_cleaner.state.floatbank3_b_level  4859 non-null   float64\n",
      " 43  secondary_cleaner.state.floatbank4_a_air    4859 non-null   float64\n",
      " 44  secondary_cleaner.state.floatbank4_a_level  4859 non-null   float64\n",
      " 45  secondary_cleaner.state.floatbank4_b_air    4859 non-null   float64\n",
      " 46  secondary_cleaner.state.floatbank4_b_level  4859 non-null   float64\n",
      " 47  secondary_cleaner.state.floatbank5_a_air    4859 non-null   float64\n",
      " 48  secondary_cleaner.state.floatbank5_a_level  4859 non-null   float64\n",
      " 49  secondary_cleaner.state.floatbank5_b_air    4859 non-null   float64\n",
      " 50  secondary_cleaner.state.floatbank5_b_level  4859 non-null   float64\n",
      " 51  secondary_cleaner.state.floatbank6_a_air    4859 non-null   float64\n",
      " 52  secondary_cleaner.state.floatbank6_a_level  4859 non-null   float64\n",
      "dtypes: float64(52), object(1)\n",
      "memory usage: 2.0+ MB\n"
     ]
    }
   ],
   "source": [
    "data_test.info()"
   ]
  },
  {
   "cell_type": "code",
   "execution_count": 11,
   "metadata": {},
   "outputs": [
    {
     "data": {
      "text/plain": [
       "(19439, 87)"
      ]
     },
     "metadata": {},
     "output_type": "display_data"
    },
    {
     "data": {
      "text/plain": [
       "(14579, 87)"
      ]
     },
     "metadata": {},
     "output_type": "display_data"
    },
    {
     "data": {
      "text/plain": [
       "(4860, 53)"
      ]
     },
     "metadata": {},
     "output_type": "display_data"
    }
   ],
   "source": [
    "display(data.shape)\n",
    "display(data_train.shape)\n",
    "display(data_test.shape)"
   ]
  },
  {
   "cell_type": "markdown",
   "metadata": {},
   "source": [
    "Нам представлены данные в виде трёх выборок, каждая из который играет свою роль. \n",
    "\n",
    "Датафрейм data содержит обучающую и тестовую выборки со всеми признаками. data_train и data_test обучающая и тестовые выборки, соответственно.\n",
    "\n",
    "Для начала нам нужно убедиться в том, что эффективность обогащения рассчитана правильно. Вычислим её на обучающей выборке для признака `rougher.output.recovery`."
   ]
  },
  {
   "cell_type": "code",
   "execution_count": 12,
   "metadata": {},
   "outputs": [
    {
     "data": {
      "text/plain": [
       "0        87.107763\n",
       "1        86.843261\n",
       "2        86.842308\n",
       "3        87.226430\n",
       "4        86.688794\n",
       "           ...    \n",
       "14574    87.684717\n",
       "14575    90.677361\n",
       "14576    89.574376\n",
       "14577    87.724007\n",
       "14578    88.890579\n",
       "Name: rougher.output.recovery, Length: 14579, dtype: float64"
      ]
     },
     "execution_count": 12,
     "metadata": {},
     "output_type": "execute_result"
    }
   ],
   "source": [
    "data_train['rougher.output.recovery']"
   ]
  },
  {
   "cell_type": "code",
   "execution_count": 13,
   "metadata": {},
   "outputs": [],
   "source": [
    "# создадим переменные для расчета эффективности обогащения на этапе rougher\n",
    "C = data_train['rougher.output.concentrate_au'] \n",
    "F = data_train['rougher.input.feed_au']\n",
    "T = data_train['rougher.output.tail_au']"
   ]
  },
  {
   "cell_type": "code",
   "execution_count": 14,
   "metadata": {},
   "outputs": [
    {
     "data": {
      "text/plain": [
       "0        87.107763\n",
       "1        86.843261\n",
       "2        86.842308\n",
       "3        87.226430\n",
       "4        86.688794\n",
       "           ...    \n",
       "14574    87.684717\n",
       "14575    90.677361\n",
       "14576    89.574376\n",
       "14577    87.724007\n",
       "14578    88.890579\n",
       "Length: 14579, dtype: float64"
      ]
     },
     "execution_count": 14,
     "metadata": {},
     "output_type": "execute_result"
    }
   ],
   "source": [
    "# произведем рассчеты по формуле\n",
    "R = (C * (F - T))* 100 / (F * (C - T)) \n",
    "R"
   ]
  },
  {
   "cell_type": "code",
   "execution_count": 15,
   "metadata": {},
   "outputs": [
    {
     "data": {
      "text/plain": [
       "1.1181885454685472e-14"
      ]
     },
     "execution_count": 15,
     "metadata": {},
     "output_type": "execute_result"
    }
   ],
   "source": [
    "# рассчитаем MAE\n",
    "mae_for_recovery = mean_absolute_error(data_train['rougher.output.recovery'], R)\n",
    "mae_for_recovery"
   ]
  },
  {
   "cell_type": "markdown",
   "metadata": {},
   "source": [
    "Значение `MAE` 1.1e-14 , а это значит что эффективность обогащения в столбце `rougher.output.recovery` рассчитана правильно."
   ]
  },
  {
   "cell_type": "markdown",
   "metadata": {},
   "source": [
    "Далее нам требуется проанализировать признаки, недоступные в тестовой выборке."
   ]
  },
  {
   "cell_type": "code",
   "execution_count": 17,
   "metadata": {},
   "outputs": [
    {
     "data": {
      "text/plain": [
       "['rougher.output.recovery',\n",
       " 'rougher.output.tail_pb',\n",
       " 'rougher.calculation.floatbank10_sulfate_to_au_feed',\n",
       " 'final.output.concentrate_ag',\n",
       " 'primary_cleaner.output.concentrate_sol',\n",
       " 'primary_cleaner.output.tail_pb',\n",
       " 'rougher.output.tail_au',\n",
       " 'final.output.concentrate_sol',\n",
       " 'primary_cleaner.output.concentrate_au',\n",
       " 'final.output.tail_pb',\n",
       " 'final.output.concentrate_au',\n",
       " 'final.output.tail_sol',\n",
       " 'primary_cleaner.output.tail_sol',\n",
       " 'primary_cleaner.output.concentrate_ag',\n",
       " 'rougher.output.tail_sol',\n",
       " 'rougher.output.concentrate_pb',\n",
       " 'primary_cleaner.output.concentrate_pb',\n",
       " 'secondary_cleaner.output.tail_pb',\n",
       " 'primary_cleaner.output.tail_ag',\n",
       " 'rougher.output.concentrate_au',\n",
       " 'rougher.output.tail_ag',\n",
       " 'rougher.output.concentrate_ag',\n",
       " 'final.output.concentrate_pb',\n",
       " 'secondary_cleaner.output.tail_sol',\n",
       " 'rougher.calculation.au_pb_ratio',\n",
       " 'final.output.recovery',\n",
       " 'final.output.tail_au',\n",
       " 'primary_cleaner.output.tail_au',\n",
       " 'final.output.tail_ag',\n",
       " 'rougher.calculation.floatbank11_sulfate_to_au_feed',\n",
       " 'secondary_cleaner.output.tail_au',\n",
       " 'secondary_cleaner.output.tail_ag',\n",
       " 'rougher.output.concentrate_sol',\n",
       " 'rougher.calculation.sulfate_to_au_concentrate']"
      ]
     },
     "execution_count": 17,
     "metadata": {},
     "output_type": "execute_result"
    }
   ],
   "source": [
    "a = data_train.columns.tolist()\n",
    "b = data_test.columns.tolist()\n",
    "list(set(a).difference(b))"
   ]
  },
  {
   "cell_type": "markdown",
   "metadata": {},
   "source": [
    "В тестовой выборке из 34 пропущенных признака (9 пропущенных признаков этапа final, 8 primary_cleaner, 9 rougher, 4 secondary_cleaner): 30 относятся к параметрам продукта и только 4 к расчетным характеристикам.\n",
    "\n",
    "\n",
    "То есть нет типа признака output - это целевые признаки (отсутствуют данные по всем этапам обработки сырья):\n",
    "\n",
    "\n",
    "1. на всех этапах отсутствует информация о хвостовых частях,\n",
    "\n",
    "\n",
    "2. на всех этапах, кроме повторной очистки отсутствует информация о доле металлов,\n",
    "\n",
    "\n",
    "3. на финальном этапе и этапе флотации отсутствуют признаки эффективности обогащения,\n",
    "\n",
    "\n",
    "4. отсутствуют данные о некоторых реагентах на этапе флотации.\n",
    "\n",
    "\n",
    "В тестовой выборке отсутствуют типы признака calculation для этапа rougher (расчетная характеристика), скорее всего эти данные рассчитываются позднее и не доступны во время процесса.\n",
    "\n",
    "**Признаки относятся к рассчётным характеристикам и финальным характеристикам этапов, их отсутствие в тестовой выборке вполне ожидаемо.**"
   ]
  },
  {
   "cell_type": "markdown",
   "metadata": {},
   "source": [
    "Далее данные требуется предобработать. Для начала узнаем есть ли дубликаты."
   ]
  },
  {
   "cell_type": "code",
   "execution_count": 18,
   "metadata": {},
   "outputs": [
    {
     "data": {
      "text/plain": [
       "0"
      ]
     },
     "execution_count": 18,
     "metadata": {},
     "output_type": "execute_result"
    }
   ],
   "source": [
    "data_train.duplicated().sum()"
   ]
  },
  {
   "cell_type": "code",
   "execution_count": 19,
   "metadata": {},
   "outputs": [
    {
     "data": {
      "text/plain": [
       "0"
      ]
     },
     "execution_count": 19,
     "metadata": {},
     "output_type": "execute_result"
    }
   ],
   "source": [
    "data_test.duplicated().sum()"
   ]
  },
  {
   "cell_type": "markdown",
   "metadata": {},
   "source": [
    "Дубликатов нет. Мы знаем, что в данных присутствуют пропуски. Найдем их количество."
   ]
  },
  {
   "cell_type": "code",
   "execution_count": 20,
   "metadata": {},
   "outputs": [
    {
     "data": {
      "text/plain": [
       "3050"
      ]
     },
     "execution_count": 20,
     "metadata": {},
     "output_type": "execute_result"
    }
   ],
   "source": [
    "data_train.isna().sum().sum()"
   ]
  },
  {
   "cell_type": "code",
   "execution_count": 21,
   "metadata": {},
   "outputs": [
    {
     "data": {
      "text/plain": [
       "375"
      ]
     },
     "execution_count": 21,
     "metadata": {},
     "output_type": "execute_result"
    }
   ],
   "source": [
    "data_test.isna().sum().sum()"
   ]
  },
  {
   "cell_type": "markdown",
   "metadata": {},
   "source": [
    "Для последующего обучения модели нам нужно обработать столбцы в выборках"
   ]
  },
  {
   "cell_type": "markdown",
   "metadata": {},
   "source": [
    "Сначала нам нужно в обучающей выборке избавиться от всех столбцов, которые отсутствуют в тестовой выборке."
   ]
  },
  {
   "cell_type": "code",
   "execution_count": 22,
   "metadata": {},
   "outputs": [],
   "source": [
    "data_train = data_train.drop(list(set(a).difference(b)), axis=1)"
   ]
  },
  {
   "cell_type": "code",
   "execution_count": 23,
   "metadata": {},
   "outputs": [
    {
     "data": {
      "text/plain": [
       "(14579, 53)"
      ]
     },
     "execution_count": 23,
     "metadata": {},
     "output_type": "execute_result"
    }
   ],
   "source": [
    "data_train.shape"
   ]
  },
  {
   "cell_type": "code",
   "execution_count": 24,
   "metadata": {},
   "outputs": [
    {
     "data": {
      "text/plain": [
       "(4860, 53)"
      ]
     },
     "execution_count": 24,
     "metadata": {},
     "output_type": "execute_result"
    }
   ],
   "source": [
    "data_test.shape"
   ]
  },
  {
   "cell_type": "markdown",
   "metadata": {},
   "source": [
    "Далее добавим в каждую выборку целевые признаки из общей выборки, которые добавятся по индексу."
   ]
  },
  {
   "cell_type": "code",
   "execution_count": 25,
   "metadata": {},
   "outputs": [],
   "source": [
    "data_train = data_train.merge(data[['rougher.output.recovery', 'date']], on = 'date')                             \n",
    "data_train = data_train.merge(data[['final.output.recovery', 'date']], on = 'date') "
   ]
  },
  {
   "cell_type": "code",
   "execution_count": 26,
   "metadata": {},
   "outputs": [
    {
     "data": {
      "text/plain": [
       "(14579, 55)"
      ]
     },
     "execution_count": 26,
     "metadata": {},
     "output_type": "execute_result"
    }
   ],
   "source": [
    "data_train.shape"
   ]
  },
  {
   "cell_type": "code",
   "execution_count": 27,
   "metadata": {},
   "outputs": [],
   "source": [
    "data_test = data_test.merge(data[['rougher.output.recovery', 'date']], on = 'date')    \n",
    "data_test = data_test.merge(data[['final.output.recovery', 'date']], on = 'date')    "
   ]
  },
  {
   "cell_type": "code",
   "execution_count": 28,
   "metadata": {},
   "outputs": [
    {
     "data": {
      "text/plain": [
       "(4860, 55)"
      ]
     },
     "execution_count": 28,
     "metadata": {},
     "output_type": "execute_result"
    }
   ],
   "source": [
    "data_test.shape"
   ]
  },
  {
   "cell_type": "code",
   "execution_count": 29,
   "metadata": {},
   "outputs": [
    {
     "data": {
      "text/html": [
       "<div>\n",
       "<style scoped>\n",
       "    .dataframe tbody tr th:only-of-type {\n",
       "        vertical-align: middle;\n",
       "    }\n",
       "\n",
       "    .dataframe tbody tr th {\n",
       "        vertical-align: top;\n",
       "    }\n",
       "\n",
       "    .dataframe thead th {\n",
       "        text-align: right;\n",
       "    }\n",
       "</style>\n",
       "<table border=\"1\" class=\"dataframe\">\n",
       "  <thead>\n",
       "    <tr style=\"text-align: right;\">\n",
       "      <th></th>\n",
       "      <th>date</th>\n",
       "      <th>rougher.output.recovery</th>\n",
       "      <th>final.output.recovery</th>\n",
       "    </tr>\n",
       "  </thead>\n",
       "  <tbody>\n",
       "    <tr>\n",
       "      <th>0</th>\n",
       "      <td>2017-12-09 14:59:59</td>\n",
       "      <td>89.514960</td>\n",
       "      <td>70.281454</td>\n",
       "    </tr>\n",
       "    <tr>\n",
       "      <th>1</th>\n",
       "      <td>2017-12-09 15:59:59</td>\n",
       "      <td>89.858126</td>\n",
       "      <td>65.523246</td>\n",
       "    </tr>\n",
       "    <tr>\n",
       "      <th>2</th>\n",
       "      <td>2017-12-09 16:59:59</td>\n",
       "      <td>91.816623</td>\n",
       "      <td>74.817644</td>\n",
       "    </tr>\n",
       "    <tr>\n",
       "      <th>3</th>\n",
       "      <td>2017-12-09 17:59:59</td>\n",
       "      <td>88.478959</td>\n",
       "      <td>63.082720</td>\n",
       "    </tr>\n",
       "    <tr>\n",
       "      <th>4</th>\n",
       "      <td>2017-12-09 18:59:59</td>\n",
       "      <td>89.230316</td>\n",
       "      <td>74.463380</td>\n",
       "    </tr>\n",
       "  </tbody>\n",
       "</table>\n",
       "</div>"
      ],
      "text/plain": [
       "                  date  rougher.output.recovery  final.output.recovery\n",
       "0  2017-12-09 14:59:59                89.514960              70.281454\n",
       "1  2017-12-09 15:59:59                89.858126              65.523246\n",
       "2  2017-12-09 16:59:59                91.816623              74.817644\n",
       "3  2017-12-09 17:59:59                88.478959              63.082720\n",
       "4  2017-12-09 18:59:59                89.230316              74.463380"
      ]
     },
     "execution_count": 29,
     "metadata": {},
     "output_type": "execute_result"
    }
   ],
   "source": [
    "# КОД РЕВЬЮЕРА\n",
    "data_test[['date', 'rougher.output.recovery', 'final.output.recovery']].head()"
   ]
  },
  {
   "cell_type": "code",
   "execution_count": 30,
   "metadata": {},
   "outputs": [
    {
     "data": {
      "text/html": [
       "<div>\n",
       "<style scoped>\n",
       "    .dataframe tbody tr th:only-of-type {\n",
       "        vertical-align: middle;\n",
       "    }\n",
       "\n",
       "    .dataframe tbody tr th {\n",
       "        vertical-align: top;\n",
       "    }\n",
       "\n",
       "    .dataframe thead th {\n",
       "        text-align: right;\n",
       "    }\n",
       "</style>\n",
       "<table border=\"1\" class=\"dataframe\">\n",
       "  <thead>\n",
       "    <tr style=\"text-align: right;\">\n",
       "      <th></th>\n",
       "      <th>date</th>\n",
       "      <th>rougher.output.recovery</th>\n",
       "      <th>final.output.recovery</th>\n",
       "    </tr>\n",
       "  </thead>\n",
       "  <tbody>\n",
       "    <tr>\n",
       "      <th>0</th>\n",
       "      <td>2016-01-15 00:00:00</td>\n",
       "      <td>87.107763</td>\n",
       "      <td>70.541216</td>\n",
       "    </tr>\n",
       "    <tr>\n",
       "      <th>1</th>\n",
       "      <td>2016-01-15 01:00:00</td>\n",
       "      <td>86.843261</td>\n",
       "      <td>69.266198</td>\n",
       "    </tr>\n",
       "    <tr>\n",
       "      <th>2</th>\n",
       "      <td>2016-01-15 02:00:00</td>\n",
       "      <td>86.842308</td>\n",
       "      <td>68.116445</td>\n",
       "    </tr>\n",
       "    <tr>\n",
       "      <th>3</th>\n",
       "      <td>2016-01-15 03:00:00</td>\n",
       "      <td>87.226430</td>\n",
       "      <td>68.347543</td>\n",
       "    </tr>\n",
       "    <tr>\n",
       "      <th>4</th>\n",
       "      <td>2016-01-15 04:00:00</td>\n",
       "      <td>86.688794</td>\n",
       "      <td>66.927016</td>\n",
       "    </tr>\n",
       "  </tbody>\n",
       "</table>\n",
       "</div>"
      ],
      "text/plain": [
       "                  date  rougher.output.recovery  final.output.recovery\n",
       "0  2016-01-15 00:00:00                87.107763              70.541216\n",
       "1  2016-01-15 01:00:00                86.843261              69.266198\n",
       "2  2016-01-15 02:00:00                86.842308              68.116445\n",
       "3  2016-01-15 03:00:00                87.226430              68.347543\n",
       "4  2016-01-15 04:00:00                86.688794              66.927016"
      ]
     },
     "execution_count": 30,
     "metadata": {},
     "output_type": "execute_result"
    }
   ],
   "source": [
    "# КОД РЕВЬЮЕРА\n",
    "data[['date', 'rougher.output.recovery', 'final.output.recovery']].head()"
   ]
  },
  {
   "cell_type": "markdown",
   "metadata": {},
   "source": [
    "Удалим столбец `date` который никак не поможет в расчетах."
   ]
  },
  {
   "cell_type": "code",
   "execution_count": 31,
   "metadata": {},
   "outputs": [],
   "source": [
    "data_train = data_train.drop(['date'], axis=1)"
   ]
  },
  {
   "cell_type": "code",
   "execution_count": 32,
   "metadata": {},
   "outputs": [],
   "source": [
    "data_test = data_test.drop(['date'], axis=1)"
   ]
  },
  {
   "cell_type": "markdown",
   "metadata": {},
   "source": [
    "Так как мы знаем, что соседние по времени параметры часто похожи, то вместо удаления пропусков заменим их соседними значениями."
   ]
  },
  {
   "cell_type": "code",
   "execution_count": 33,
   "metadata": {},
   "outputs": [],
   "source": [
    "data_train = data_train.bfill()"
   ]
  },
  {
   "cell_type": "code",
   "execution_count": 34,
   "metadata": {},
   "outputs": [],
   "source": [
    "data_test = data_test.bfill()"
   ]
  },
  {
   "cell_type": "markdown",
   "metadata": {},
   "source": [
    "Создадим для обучения модели подвыборки с параметрами и таргетом."
   ]
  },
  {
   "cell_type": "code",
   "execution_count": 35,
   "metadata": {},
   "outputs": [],
   "source": [
    "# параметры\n",
    "features_train = data_train.drop(['rougher.output.recovery', 'final.output.recovery'], axis=1)\n",
    "\n",
    "# целевой признак\n",
    "target_train = data_train['rougher.output.recovery']\n",
    "target_train1 = data_train['final.output.recovery']"
   ]
  },
  {
   "cell_type": "code",
   "execution_count": 36,
   "metadata": {},
   "outputs": [],
   "source": [
    "# параметры\n",
    "features_test = data_test.drop(['rougher.output.recovery', 'final.output.recovery'], axis=1)\n",
    "\n",
    "# целевой признак\n",
    "target_test = data_test['rougher.output.recovery']\n",
    "target_test1 = data_test['final.output.recovery']"
   ]
  },
  {
   "cell_type": "code",
   "execution_count": 37,
   "metadata": {},
   "outputs": [
    {
     "name": "stdout",
     "output_type": "stream",
     "text": [
      "Размеры обучающей выборки:\n",
      "(14579, 52)\n",
      "(14579,)\n",
      "(14579,)\n",
      "\n",
      "Размеры тестовой выборки:\n",
      "(4860, 52)\n",
      "(4860,)\n",
      "(4860,)\n",
      "\n"
     ]
    }
   ],
   "source": [
    "print('Размеры обучающей выборки:')\n",
    "print(features_train.shape)\n",
    "print(target_train.shape)\n",
    "print(target_train1.shape)\n",
    "print()\n",
    "print('Размеры тестовой выборки:')\n",
    "print(features_test.shape)\n",
    "print(target_test.shape)\n",
    "print(target_test1.shape)\n",
    "print()"
   ]
  },
  {
   "cell_type": "markdown",
   "metadata": {},
   "source": [
    "## Анализ данных"
   ]
  },
  {
   "cell_type": "markdown",
   "metadata": {},
   "source": [
    "Посмотрим, как меняется концентрация металлов (Au, Ag, Pb) на различных этапах: в сырье, в черновом концентрате, в концентрате после первой очистки и в финальном концентрате. Удалим аномальные значения."
   ]
  },
  {
   "cell_type": "code",
   "execution_count": 38,
   "metadata": {},
   "outputs": [],
   "source": [
    "# создадим функцию для визуализации данных на различных этапах\n",
    "# также данная функция выявит и отсеет аномальные значения\n",
    "\n",
    "def visual (column, xname, yname):\n",
    "    clean=[]\n",
    "    Q1= data[column].quantile(0.25)\n",
    "    Q3= data[column].quantile(0.75)\n",
    "    IQR = Q3 - Q1\n",
    "    Low = Q1 - 1.5*IQR\n",
    "    High = Q3 + 1.5*IQR\n",
    "    for i in data[column]:\n",
    "        if i >= Low and i <= High:\n",
    "            clean.append(i)         \n",
    "    sns.histplot(data=clean, bins=100);\n",
    "    plt.xlabel(xname);\n",
    "    plt.ylabel(yname);\n",
    "    plt.show()    \n",
    "    return print(f'Строк в очищенных данных: {len(clean)}, строк изначально: {len(data[column])}')    "
   ]
  },
  {
   "cell_type": "code",
   "execution_count": 39,
   "metadata": {},
   "outputs": [
    {
     "data": {
      "image/png": "[encoded data removed]",
      "text/plain": [
       "<Figure size 432x288 with 1 Axes>"
      ]
     },
     "metadata": {
      "needs_background": "light"
     },
     "output_type": "display_data"
    },
    {
     "name": "stdout",
     "output_type": "stream",
     "text": [
      "Строк в очищенных данных: 19344, строк изначально: 19439\n"
     ]
    }
   ],
   "source": [
    "visual('rougher.input.feed_au','Концентрация золота в сырье','Количество замеров')"
   ]
  },
  {
   "cell_type": "code",
   "execution_count": 40,
   "metadata": {},
   "outputs": [
    {
     "data": {
      "image/png": "[encoded data removed]",
      "text/plain": [
       "<Figure size 432x288 with 1 Axes>"
      ]
     },
     "metadata": {
      "needs_background": "light"
     },
     "output_type": "display_data"
    },
    {
     "name": "stdout",
     "output_type": "stream",
     "text": [
      "Строк в очищенных данных: 19419, строк изначально: 19439\n"
     ]
    }
   ],
   "source": [
    "visual('rougher.input.feed_ag','Концентрация серебра в сырье','Количество замеров')"
   ]
  },
  {
   "cell_type": "code",
   "execution_count": 41,
   "metadata": {},
   "outputs": [
    {
     "data": {
      "image/png": "[encoded data removed]",
      "text/plain": [
       "<Figure size 432x288 with 1 Axes>"
      ]
     },
     "metadata": {
      "needs_background": "light"
     },
     "output_type": "display_data"
    },
    {
     "name": "stdout",
     "output_type": "stream",
     "text": [
      "Строк в очищенных данных: 19149, строк изначально: 19439\n"
     ]
    }
   ],
   "source": [
    "visual('rougher.input.feed_pb','Концентрация свинца в сырье','Количество замеров')"
   ]
  },
  {
   "cell_type": "code",
   "execution_count": 42,
   "metadata": {},
   "outputs": [
    {
     "data": {
      "image/png": "[encoded data removed]",
      "text/plain": [
       "<Figure size 432x288 with 1 Axes>"
      ]
     },
     "metadata": {
      "needs_background": "light"
     },
     "output_type": "display_data"
    },
    {
     "name": "stdout",
     "output_type": "stream",
     "text": [
      "Строк в очищенных данных: 18584, строк изначально: 19439\n"
     ]
    }
   ],
   "source": [
    "visual('rougher.output.concentrate_au','Концентрация золота в черновом концентрате','Количество замеров')"
   ]
  },
  {
   "cell_type": "code",
   "execution_count": 43,
   "metadata": {},
   "outputs": [
    {
     "data": {
      "image/png": "[encoded data removed]",
      "text/plain": [
       "<Figure size 432x288 with 1 Axes>"
      ]
     },
     "metadata": {
      "needs_background": "light"
     },
     "output_type": "display_data"
    },
    {
     "name": "stdout",
     "output_type": "stream",
     "text": [
      "Строк в очищенных данных: 18847, строк изначально: 19439\n"
     ]
    }
   ],
   "source": [
    "visual('rougher.output.concentrate_ag','Концентрация серебра в черновом концентрате','Количество замеров')"
   ]
  },
  {
   "cell_type": "code",
   "execution_count": 44,
   "metadata": {},
   "outputs": [
    {
     "data": {
      "image/png": "[encoded data removed]",
      "text/plain": [
       "<Figure size 432x288 with 1 Axes>"
      ]
     },
     "metadata": {
      "needs_background": "light"
     },
     "output_type": "display_data"
    },
    {
     "name": "stdout",
     "output_type": "stream",
     "text": [
      "Строк в очищенных данных: 18574, строк изначально: 19439\n"
     ]
    }
   ],
   "source": [
    "visual('rougher.output.concentrate_pb','Концентрация свинца в черновом концентрате','Количество замеров')"
   ]
  },
  {
   "cell_type": "code",
   "execution_count": 45,
   "metadata": {},
   "outputs": [
    {
     "data": {
      "image/png": "[encoded data removed]",
      "text/plain": [
       "<Figure size 432x288 with 1 Axes>"
      ]
     },
     "metadata": {
      "needs_background": "light"
     },
     "output_type": "display_data"
    },
    {
     "name": "stdout",
     "output_type": "stream",
     "text": [
      "Строк в очищенных данных: 18572, строк изначально: 19439\n"
     ]
    }
   ],
   "source": [
    "visual('primary_cleaner.output.concentrate_au','Концентрация золота после первой очистки','Количество замеров')"
   ]
  },
  {
   "cell_type": "code",
   "execution_count": 46,
   "metadata": {},
   "outputs": [
    {
     "data": {
      "image/png": "[encoded data removed]",
      "text/plain": [
       "<Figure size 432x288 with 1 Axes>"
      ]
     },
     "metadata": {
      "needs_background": "light"
     },
     "output_type": "display_data"
    },
    {
     "name": "stdout",
     "output_type": "stream",
     "text": [
      "Строк в очищенных данных: 19005, строк изначально: 19439\n"
     ]
    }
   ],
   "source": [
    "visual('primary_cleaner.output.concentrate_ag','Концентрация серебра после первой очистки','Количество замеров')"
   ]
  },
  {
   "cell_type": "code",
   "execution_count": 47,
   "metadata": {},
   "outputs": [
    {
     "data": {
      "image/png": "[encoded data removed]",
      "text/plain": [
       "<Figure size 432x288 with 1 Axes>"
      ]
     },
     "metadata": {
      "needs_background": "light"
     },
     "output_type": "display_data"
    },
    {
     "name": "stdout",
     "output_type": "stream",
     "text": [
      "Строк в очищенных данных: 18497, строк изначально: 19439\n"
     ]
    }
   ],
   "source": [
    "visual('primary_cleaner.output.concentrate_pb','Концентрация свинца после первой очистки','Количество замеров')"
   ]
  },
  {
   "cell_type": "code",
   "execution_count": 48,
   "metadata": {},
   "outputs": [
    {
     "data": {
      "image/png": "[encoded data removed]",
      "text/plain": [
       "<Figure size 432x288 with 1 Axes>"
      ]
     },
     "metadata": {
      "needs_background": "light"
     },
     "output_type": "display_data"
    },
    {
     "name": "stdout",
     "output_type": "stream",
     "text": [
      "Строк в очищенных данных: 18202, строк изначально: 19439\n"
     ]
    }
   ],
   "source": [
    "visual('final.output.concentrate_au','Концентрация золота в  финальном концентрате','Количество замеров')"
   ]
  },
  {
   "cell_type": "code",
   "execution_count": 49,
   "metadata": {},
   "outputs": [
    {
     "data": {
      "image/png": "[encoded data removed]",
      "text/plain": [
       "<Figure size 432x288 with 1 Axes>"
      ]
     },
     "metadata": {
      "needs_background": "light"
     },
     "output_type": "display_data"
    },
    {
     "name": "stdout",
     "output_type": "stream",
     "text": [
      "Строк в очищенных данных: 18834, строк изначально: 19439\n"
     ]
    }
   ],
   "source": [
    "visual('final.output.concentrate_ag','Концентрация серебра в  финальном концентрате','Количество замеров')"
   ]
  },
  {
   "cell_type": "code",
   "execution_count": 50,
   "metadata": {},
   "outputs": [
    {
     "data": {
      "image/png": "[encoded data removed]",
      "text/plain": [
       "<Figure size 432x288 with 1 Axes>"
      ]
     },
     "metadata": {
      "needs_background": "light"
     },
     "output_type": "display_data"
    },
    {
     "name": "stdout",
     "output_type": "stream",
     "text": [
      "Строк в очищенных данных: 18962, строк изначально: 19439\n"
     ]
    }
   ],
   "source": [
    "visual('final.output.concentrate_pb','Концентрация свинца в  финальном концентрате','Количество замеров')"
   ]
  },
  {
   "cell_type": "markdown",
   "metadata": {},
   "source": [
    "Судя по данным гистограммам, с каждым этапом концентрация золота увеличивается, в то время как концентрация серебра и свинца понижается. Это объяснимо тем, что компания занимается увеличением коэффициента восстановления золота из золотосодержащей руды."
   ]
  },
  {
   "cell_type": "markdown",
   "metadata": {},
   "source": [
    "Далее нам требуется сравнить распределения размеров гранул исходного сырья на обучающей и тестовой выборках."
   ]
  },
  {
   "cell_type": "code",
   "execution_count": 51,
   "metadata": {},
   "outputs": [
    {
     "data": {
      "image/png": "[encoded data removed]",
      "text/plain": [
       "<Figure size 432x288 with 1 Axes>"
      ]
     },
     "metadata": {
      "needs_background": "light"
     },
     "output_type": "display_data"
    }
   ],
   "source": [
    "sns.histplot(data=data_train['rougher.input.feed_size'], bins=50, color='blue', stat='density', common_norm=False);   \n",
    "sns.histplot(data=data_test['rougher.input.feed_size'], bins=50, color='red', stat='density', common_norm=False);\n",
    "sns.set(rc={'figure.figsize':(10.7,6.2)})\n",
    "plt.xlabel('размер гранулы');\n",
    "plt.ylabel('количество замеров');\n",
    "plt.xlim(0, 150);\n",
    "plt.show()"
   ]
  },
  {
   "cell_type": "markdown",
   "metadata": {},
   "source": [
    "Заметно, что в тестовой выборке размеры гранул в большинстве своем около 50, когда в обучающей размеры варьируются 40-60. В целом, распределения похожи. Они нормальные, с пиком значения размера гранулы примерно в 50."
   ]
  },
  {
   "cell_type": "markdown",
   "metadata": {},
   "source": [
    "Исследуем суммарную концентрацию металлов на разных стадиях: в сырье, в черновом концентрате, в концентрате после первой очистки и в финальном концентрате."
   ]
  },
  {
   "cell_type": "code",
   "execution_count": 53,
   "metadata": {},
   "outputs": [
    {
     "name": "stdout",
     "output_type": "stream",
     "text": [
      "160684.67\n",
      "170964.59\n",
      "69583.37\n"
     ]
    }
   ],
   "source": [
    "print(data['rougher.input.feed_au'].sum().round(2))\n",
    "print(data['rougher.input.feed_ag'].sum().round(2))\n",
    "print(data['rougher.input.feed_pb'].sum().round(2))"
   ]
  },
  {
   "cell_type": "code",
   "execution_count": 54,
   "metadata": {},
   "outputs": [
    {
     "name": "stdout",
     "output_type": "stream",
     "text": [
      "384347.91\n",
      "233166.13\n",
      "147858.33\n"
     ]
    }
   ],
   "source": [
    "print(data['rougher.output.concentrate_au'].sum().round(2))\n",
    "print(data['rougher.output.concentrate_ag'].sum().round(2))\n",
    "print(data['rougher.output.concentrate_pb'].sum().round(2))"
   ]
  },
  {
   "cell_type": "code",
   "execution_count": 55,
   "metadata": {},
   "outputs": [
    {
     "name": "stdout",
     "output_type": "stream",
     "text": [
      "624369.02\n",
      "164111.97\n",
      "189936.0\n"
     ]
    }
   ],
   "source": [
    "print(data['primary_cleaner.output.concentrate_au'].sum().round(2))\n",
    "print(data['primary_cleaner.output.concentrate_ag'].sum().round(2))\n",
    "print(data['primary_cleaner.output.concentrate_pb'].sum().round(2))"
   ]
  },
  {
   "cell_type": "code",
   "execution_count": 56,
   "metadata": {},
   "outputs": [
    {
     "name": "stdout",
     "output_type": "stream",
     "text": [
      "856803.34\n",
      "100464.73\n",
      "193969.76\n"
     ]
    }
   ],
   "source": [
    "print(data['final.output.concentrate_au'].sum().round(2))\n",
    "print(data['final.output.concentrate_ag'].sum().round(2))\n",
    "print(data['final.output.concentrate_pb'].sum().round(2))"
   ]
  },
  {
   "cell_type": "markdown",
   "metadata": {},
   "source": [
    "1. После каждого этапа заметно большое увеличение концентрации золота. \n",
    "2. В сырье концентрация серебра изначально даже выше, чем золота. После первой стадии флотации, концентрация серебра увеличивается, но уже не превосходит золото. После стадии очистки и к финальному концентрату серебра в сплаве становится все меньше.\n",
    "3. Концентрация свинца с каждым этапом становится выше, то есть в финальном концентрате количество свинца в составе сплава становится выше, чем серебра. "
   ]
  },
  {
   "cell_type": "markdown",
   "metadata": {},
   "source": [
    "## Модель"
   ]
  },
  {
   "cell_type": "markdown",
   "metadata": {},
   "source": [
    "Напишем функцию для вычисления sMAPE."
   ]
  },
  {
   "cell_type": "code",
   "execution_count": 57,
   "metadata": {},
   "outputs": [],
   "source": [
    "# с помощью данной функции в последующих расчетах мы сможем рассчитать итоговое sMAPE\n",
    "def smape(act,forc):\n",
    "    return 100/len(act) * np.sum(2 * np.abs(forc - act) / (np.abs(act) + np.abs(forc)))"
   ]
  },
  {
   "cell_type": "code",
   "execution_count": 58,
   "metadata": {},
   "outputs": [],
   "source": [
    "custom_score=make_scorer(smape, greater_is_better=False)"
   ]
  },
  {
   "cell_type": "markdown",
   "metadata": {},
   "source": [
    "Обучим разные модели и оценим их качество кросс-валидацией. Затем выберем лучшую модель и проверим её на тестовой выборке."
   ]
  },
  {
   "cell_type": "markdown",
   "metadata": {},
   "source": [
    "### Первая модель"
   ]
  },
  {
   "cell_type": "code",
   "execution_count": 60,
   "metadata": {},
   "outputs": [],
   "source": [
    "# создадим функцию, которая будет подбирать гиперпараметры для указанной ей модели\n",
    "# затем данная функция будет проводить кросс-валидацию по метрике sMAPE\n",
    "\n",
    "def score(model_name, params, features, target):\n",
    "    model = model_name\n",
    "    parametrs = params\n",
    "    grid = GridSearchCV(model, parametrs, scoring=custom_score, cv=3) \n",
    "    grid.fit(features, target)    \n",
    "    print('smape модели:', -grid.best_score_)\n",
    "    print('лучшие параметры:', grid.best_estimator_)"
   ]
  },
  {
   "cell_type": "code",
   "execution_count": 61,
   "metadata": {},
   "outputs": [
    {
     "name": "stdout",
     "output_type": "stream",
     "text": [
      "smape модели: 14.906695239550137\n",
      "лучшие параметры: LinearRegression(n_jobs=-1)\n"
     ]
    }
   ],
   "source": [
    "# первой опробуем модель линейной регрессии\n",
    "\n",
    "# для чернового концентрата\n",
    "score(LinearRegression(), {\"fit_intercept\": [True, False],\"n_jobs\": [-1]}, features_train, target_train)"
   ]
  },
  {
   "cell_type": "code",
   "execution_count": 62,
   "metadata": {},
   "outputs": [
    {
     "name": "stdout",
     "output_type": "stream",
     "text": [
      "smape модели: 13.071848749536898\n",
      "лучшие параметры: LinearRegression(n_jobs=-1)\n"
     ]
    }
   ],
   "source": [
    "# для финального концентрата\n",
    "score(LinearRegression(n_jobs=-1), { \"fit_intercept\": [True, False]}, features_train, target_train1)"
   ]
  },
  {
   "cell_type": "markdown",
   "metadata": {},
   "source": [
    "### Вторая модель."
   ]
  },
  {
   "cell_type": "code",
   "execution_count": 63,
   "metadata": {},
   "outputs": [
    {
     "name": "stdout",
     "output_type": "stream",
     "text": [
      "smape модели: 13.837823227732047\n",
      "лучшие параметры: DecisionTreeRegressor(max_depth=5, min_samples_leaf=3, random_state=12345)\n"
     ]
    }
   ],
   "source": [
    "# далее, дерево решений\n",
    "\n",
    "# для чернового концентрата \n",
    "score(DecisionTreeRegressor(),{'max_depth': range (1, 13, 2),                          \n",
    "                          'min_samples_leaf': range (1, 11),                          \n",
    "                          'random_state': [12345]}, \n",
    "                           features_train, target_train)"
   ]
  },
  {
   "cell_type": "code",
   "execution_count": 64,
   "metadata": {},
   "outputs": [
    {
     "name": "stdout",
     "output_type": "stream",
     "text": [
      "smape модели: 11.341116920076713\n",
      "лучшие параметры: DecisionTreeRegressor(max_depth=1, random_state=12345)\n"
     ]
    }
   ],
   "source": [
    "# для финального концентрата\n",
    "score(DecisionTreeRegressor(),{'max_depth': range (1, 13, 2),                          \n",
    "                          'min_samples_leaf': range (1, 11),                          \n",
    "                          'random_state': [12345]},    \n",
    "                           features_train, target_train1)"
   ]
  },
  {
   "cell_type": "markdown",
   "metadata": {},
   "source": [
    "### Третья модель"
   ]
  },
  {
   "cell_type": "code",
   "execution_count": 65,
   "metadata": {},
   "outputs": [],
   "source": [
    "# и случайный лес\n",
    "\n",
    "# для данной модели подбором гиперпараметров займется RandomizedSearchCV\n",
    "# для этого изменим функцию score \n",
    "\n",
    "def score(model_name, params, features, target):\n",
    "    model = model_name\n",
    "    parametrs = params\n",
    "    random = RandomizedSearchCV(model, parametrs, n_iter=25, scoring=custom_score, cv=3)\n",
    "    random.fit(features, target)     \n",
    "    print('smape модели:', -random.best_score_.mean())\n",
    "    print('лучшие параметры:', random.best_estimator_)"
   ]
  },
  {
   "cell_type": "code",
   "execution_count": 66,
   "metadata": {},
   "outputs": [
    {
     "name": "stdout",
     "output_type": "stream",
     "text": [
      "smape модели: 13.475439923519415\n",
      "лучшие параметры: RandomForestRegressor(max_depth=6, n_estimators=90, random_state=12345)\n",
      "CPU times: user 18min 34s, sys: 1.86 s, total: 18min 36s\n",
      "Wall time: 18min 43s\n"
     ]
    }
   ],
   "source": [
    "%%time\n",
    "\n",
    "# для чернового концентрата\n",
    "\n",
    "score(RandomForestRegressor(),{'max_depth': range (5, 10, 1),                          \n",
    "                          'n_estimators': range (50, 100, 10),                          \n",
    "                          'random_state': [12345]}, \n",
    "                           features_train, target_train)"
   ]
  },
  {
   "cell_type": "code",
   "execution_count": 67,
   "metadata": {},
   "outputs": [
    {
     "name": "stdout",
     "output_type": "stream",
     "text": [
      "smape модели: 11.868607598105848\n",
      "лучшие параметры: RandomForestRegressor(max_depth=5, n_estimators=80, random_state=12345)\n",
      "CPU times: user 18min 40s, sys: 1.33 s, total: 18min 41s\n",
      "Wall time: 18min 48s\n"
     ]
    }
   ],
   "source": [
    "%%time\n",
    "\n",
    "# для финального концентрата\n",
    "\n",
    "score(RandomForestRegressor(),{'max_depth': range (5, 10, 1),                          \n",
    "                          'n_estimators': range (50, 100, 10),                          \n",
    "                          'random_state': [12345]}, \n",
    "                           features_train, target_train1)"
   ]
  },
  {
   "cell_type": "markdown",
   "metadata": {},
   "source": [
    "**Лучшей моделью оказалось дерево решений. Используем ее для предсказания.**"
   ]
  },
  {
   "cell_type": "markdown",
   "metadata": {},
   "source": [
    "### Проверка модели"
   ]
  },
  {
   "cell_type": "code",
   "execution_count": 68,
   "metadata": {},
   "outputs": [
    {
     "data": {
      "text/plain": [
       "3.661985292079489"
      ]
     },
     "execution_count": 68,
     "metadata": {},
     "output_type": "execute_result"
    }
   ],
   "source": [
    "# для чернового концентрата \n",
    "\n",
    "model = DecisionTreeRegressor(max_depth=5, min_samples_leaf=6, random_state=12345)\n",
    "model.fit(features_test, target_test)\n",
    "\n",
    "predicts = model.predict(features_test)  \n",
    "smape(target_test, predicts)"
   ]
  },
  {
   "cell_type": "code",
   "execution_count": 69,
   "metadata": {},
   "outputs": [
    {
     "data": {
      "text/plain": [
       "8.59809574956562"
      ]
     },
     "execution_count": 69,
     "metadata": {},
     "output_type": "execute_result"
    }
   ],
   "source": [
    "# для финального концентрата \n",
    "\n",
    "model = DecisionTreeRegressor(max_depth=1, random_state=12345)\n",
    "model.fit(features_test, target_test1)\n",
    "\n",
    "predicts1 = model.predict(features_test) \n",
    "smape(target_test1, predicts1)"
   ]
  },
  {
   "cell_type": "markdown",
   "metadata": {},
   "source": [
    "Теперь, используя функцию для вычисления итоговой sMAPE, выведем результат."
   ]
  },
  {
   "cell_type": "code",
   "execution_count": 70,
   "metadata": {},
   "outputs": [
    {
     "name": "stdout",
     "output_type": "stream",
     "text": [
      "Итоговое sMAPE для прототипа модели машинного обучения: 7.36\n"
     ]
    }
   ],
   "source": [
    "print('Итоговое sMAPE для прототипа модели машинного обучения:', \n",
    "     (0.25 * smape(target_test, predicts) + 0.75 * smape(target_test1, predicts1)).round(2))"
   ]
  },
  {
   "cell_type": "markdown",
   "metadata": {},
   "source": [
    "Проверим наш прототип модели на адекватность. Сравним полученное значение метрики с результатом, который даст константная модель."
   ]
  },
  {
   "cell_type": "code",
   "execution_count": 71,
   "metadata": {},
   "outputs": [
    {
     "data": {
      "text/plain": [
       "5.896798901317001"
      ]
     },
     "execution_count": 71,
     "metadata": {},
     "output_type": "execute_result"
    }
   ],
   "source": [
    "# создаём модель DummyRegressor,\n",
    "# которая предсказывает все значения\n",
    "# как среднее из массива features_test\n",
    "\n",
    "\n",
    "# для чернового концентрата \n",
    "\n",
    "dummy_regr = DummyRegressor(strategy=\"mean\")\n",
    "dummy_regr.fit(features_test, target_test)\n",
    "\n",
    "predict_for_check = dummy_regr.predict(features_test)\n",
    "smape(target_test, predict_for_check)"
   ]
  },
  {
   "cell_type": "code",
   "execution_count": 72,
   "metadata": {},
   "outputs": [
    {
     "data": {
      "text/plain": [
       "9.133313373909653"
      ]
     },
     "execution_count": 72,
     "metadata": {},
     "output_type": "execute_result"
    }
   ],
   "source": [
    "# для финального концентрата \n",
    "\n",
    "dummy_regr = DummyRegressor(strategy=\"mean\")\n",
    "dummy_regr.fit(features_test, target_test1)\n",
    "\n",
    "predict_for_check1 = dummy_regr.predict(features_test)\n",
    "smape(target_test1, predict_for_check1)"
   ]
  },
  {
   "cell_type": "code",
   "execution_count": 73,
   "metadata": {},
   "outputs": [
    {
     "name": "stdout",
     "output_type": "stream",
     "text": [
      "Итоговое sMAPE для константной модели: 8.32\n"
     ]
    }
   ],
   "source": [
    "print('Итоговое sMAPE для константной модели:', \n",
    "     (0.25 * smape(target_test, predict_for_check) + 0.75 * smape(target_test1, predict_for_check1)).round(2))"
   ]
  },
  {
   "cell_type": "markdown",
   "metadata": {},
   "source": [
    "**Метрика sMAPE для нашей модели лучше, чем для константной, соответственно можно считать создание прототипа модели успешным**."
   ]
  },
  {
   "cell_type": "markdown",
   "metadata": {},
   "source": [
    "## Общий вывод"
   ]
  },
  {
   "cell_type": "markdown",
   "metadata": {},
   "source": [
    "В результате исследования был проведен анализ и сделаны следующие выводы.\n",
    "\n",
    "1. С каждым этапом обработки концентрация золота увеличивается, в то время как концентрация серебра и свинца понижается. Это объяснимо тем, что компания занимается увеличением коэффициента восстановления золота из золотосодержащей руды.\n",
    "2. \n",
    "- После каждого этапа заметно большое увеличение концентрации золота.\n",
    "- В сырье концентрация серебра изначально даже выше, чем золота. После первой стадии флотации, концентрация серебра увеличивается, но уже не превосходит золото. После стадии очистки и к финальному концентрату серебра в сплаве становится все меньше.\n",
    "- Концентрация свинца с каждым этапом становится выше, то есть в финальном концентрате количество свинца в составе сплава становится выше, чем серебра.\n",
    "\n",
    "\n",
    "Лучшей моделью для предсказания концентрации золота в черновом концентрате оказалась **DecisionTreeRegressor(max_depth=5, min_samples_leaf=6, random_state=12345)**. sMAPE = 3.66\n",
    "\n",
    "Лучшей моделью для предсказания концентрации золота в финальном концентрате оказалась **DecisionTreeRegressor(max_depth=1, random_state=12345)**. sMAPE = 8.59\n",
    "\n",
    "\n",
    "**Значение итогового  sMAPE =  7.36.**"
   ]
  }
 ],
 "metadata": {
  "ExecuteTimeLog": [
   {
    "duration": 392,
    "start_time": "2023-08-01T15:27:10.394Z"
   },
   {
    "duration": 72,
    "start_time": "2023-08-01T15:28:02.806Z"
   },
   {
    "duration": 1034,
    "start_time": "2023-08-01T15:28:14.393Z"
   },
   {
    "duration": 26,
    "start_time": "2023-08-01T15:28:30.576Z"
   },
   {
    "duration": 40,
    "start_time": "2023-08-01T15:30:37.773Z"
   },
   {
    "duration": 73,
    "start_time": "2023-08-01T15:30:42.170Z"
   },
   {
    "duration": 20,
    "start_time": "2023-08-01T15:31:00.313Z"
   },
   {
    "duration": 49,
    "start_time": "2023-08-02T12:45:28.354Z"
   },
   {
    "duration": 371,
    "start_time": "2023-08-02T12:45:31.522Z"
   },
   {
    "duration": 1277,
    "start_time": "2023-08-02T12:45:31.896Z"
   },
   {
    "duration": 96,
    "start_time": "2023-08-02T12:45:33.175Z"
   },
   {
    "duration": 20,
    "start_time": "2023-08-02T12:45:33.273Z"
   },
   {
    "duration": 322,
    "start_time": "2023-08-02T12:45:33.296Z"
   },
   {
    "duration": 297,
    "start_time": "2023-08-02T12:45:36.406Z"
   },
   {
    "duration": 93,
    "start_time": "2023-08-02T12:45:51.247Z"
   },
   {
    "duration": 41,
    "start_time": "2023-08-02T12:46:02.236Z"
   },
   {
    "duration": 5,
    "start_time": "2023-08-02T12:46:07.016Z"
   },
   {
    "duration": 39,
    "start_time": "2023-08-02T12:46:15.965Z"
   },
   {
    "duration": 77,
    "start_time": "2023-08-02T12:46:30.037Z"
   },
   {
    "duration": 4,
    "start_time": "2023-08-02T12:46:38.552Z"
   },
   {
    "duration": 5,
    "start_time": "2023-08-02T12:46:44.367Z"
   },
   {
    "duration": 5,
    "start_time": "2023-08-02T12:46:47.159Z"
   },
   {
    "duration": 4,
    "start_time": "2023-08-02T12:47:03.773Z"
   },
   {
    "duration": 41,
    "start_time": "2023-08-02T12:47:13.078Z"
   },
   {
    "duration": 19,
    "start_time": "2023-08-02T12:47:26.043Z"
   },
   {
    "duration": 422,
    "start_time": "2023-08-02T12:48:17.105Z"
   },
   {
    "duration": 315,
    "start_time": "2023-08-02T12:48:17.529Z"
   },
   {
    "duration": 290,
    "start_time": "2023-08-02T12:48:17.846Z"
   },
   {
    "duration": 382,
    "start_time": "2023-08-02T12:48:18.138Z"
   },
   {
    "duration": 83,
    "start_time": "2023-08-02T12:48:18.523Z"
   },
   {
    "duration": 21,
    "start_time": "2023-08-02T12:48:18.608Z"
   },
   {
    "duration": 107,
    "start_time": "2023-08-02T12:48:18.631Z"
   },
   {
    "duration": 35,
    "start_time": "2023-08-02T12:48:18.739Z"
   },
   {
    "duration": 48,
    "start_time": "2023-08-02T12:48:39.379Z"
   },
   {
    "duration": 14,
    "start_time": "2023-08-02T12:48:56.906Z"
   },
   {
    "duration": 80,
    "start_time": "2023-08-02T12:49:34.945Z"
   },
   {
    "duration": 8,
    "start_time": "2023-08-02T12:49:42.663Z"
   },
   {
    "duration": 1598,
    "start_time": "2023-08-02T12:53:55.423Z"
   },
   {
    "duration": 387,
    "start_time": "2023-08-02T12:54:03.014Z"
   },
   {
    "duration": 385,
    "start_time": "2023-08-02T12:54:03.404Z"
   },
   {
    "duration": 329,
    "start_time": "2023-08-02T12:54:03.791Z"
   },
   {
    "duration": 76,
    "start_time": "2023-08-02T12:54:04.122Z"
   },
   {
    "duration": 86,
    "start_time": "2023-08-02T12:54:04.201Z"
   },
   {
    "duration": 22,
    "start_time": "2023-08-02T12:54:04.289Z"
   },
   {
    "duration": 91,
    "start_time": "2023-08-02T12:54:04.314Z"
   },
   {
    "duration": 20,
    "start_time": "2023-08-02T12:54:04.407Z"
   },
   {
    "duration": 71,
    "start_time": "2023-08-02T12:54:04.429Z"
   },
   {
    "duration": 14,
    "start_time": "2023-08-02T12:54:04.503Z"
   },
   {
    "duration": 7,
    "start_time": "2023-08-02T12:54:04.520Z"
   },
   {
    "duration": 8,
    "start_time": "2023-08-02T12:58:25.347Z"
   },
   {
    "duration": 6,
    "start_time": "2023-08-02T13:00:56.943Z"
   },
   {
    "duration": 3,
    "start_time": "2023-08-02T13:01:34.566Z"
   },
   {
    "duration": 3,
    "start_time": "2023-08-02T13:03:57.021Z"
   },
   {
    "duration": 3,
    "start_time": "2023-08-02T13:05:08.413Z"
   },
   {
    "duration": 116,
    "start_time": "2023-08-02T13:06:40.376Z"
   },
   {
    "duration": 7,
    "start_time": "2023-08-02T13:07:04.412Z"
   },
   {
    "duration": 8,
    "start_time": "2023-08-02T13:07:07.202Z"
   },
   {
    "duration": 9,
    "start_time": "2023-08-02T13:07:16.801Z"
   },
   {
    "duration": 5,
    "start_time": "2023-08-02T13:12:34.425Z"
   },
   {
    "duration": 12,
    "start_time": "2023-08-02T13:12:34.932Z"
   },
   {
    "duration": 3,
    "start_time": "2023-08-02T13:13:13.353Z"
   },
   {
    "duration": 10,
    "start_time": "2023-08-02T13:13:13.897Z"
   },
   {
    "duration": 3,
    "start_time": "2023-08-02T13:17:28.998Z"
   },
   {
    "duration": 8,
    "start_time": "2023-08-02T13:17:29.710Z"
   },
   {
    "duration": 1258,
    "start_time": "2023-08-02T13:21:25.096Z"
   },
   {
    "duration": 5,
    "start_time": "2023-08-02T13:22:16.428Z"
   },
   {
    "duration": 9,
    "start_time": "2023-08-02T14:14:56.364Z"
   },
   {
    "duration": 8,
    "start_time": "2023-08-02T15:08:48.343Z"
   },
   {
    "duration": 5,
    "start_time": "2023-08-02T15:08:55.095Z"
   },
   {
    "duration": 3,
    "start_time": "2023-08-02T15:15:31.440Z"
   },
   {
    "duration": 9,
    "start_time": "2023-08-02T15:15:31.920Z"
   },
   {
    "duration": 3,
    "start_time": "2023-08-02T15:15:47.943Z"
   },
   {
    "duration": 7,
    "start_time": "2023-08-02T15:15:48.446Z"
   },
   {
    "duration": 4,
    "start_time": "2023-08-02T15:16:02.905Z"
   },
   {
    "duration": 8,
    "start_time": "2023-08-02T15:16:03.553Z"
   },
   {
    "duration": 1867,
    "start_time": "2023-08-02T15:23:57.037Z"
   },
   {
    "duration": 0,
    "start_time": "2023-08-02T15:23:58.906Z"
   },
   {
    "duration": 3,
    "start_time": "2023-08-02T15:24:09.768Z"
   },
   {
    "duration": 8,
    "start_time": "2023-08-02T15:24:13.460Z"
   },
   {
    "duration": 6,
    "start_time": "2023-08-02T15:24:17.017Z"
   },
   {
    "duration": 8,
    "start_time": "2023-08-02T15:25:47.952Z"
   },
   {
    "duration": 6,
    "start_time": "2023-08-02T15:25:50.031Z"
   },
   {
    "duration": 3,
    "start_time": "2023-08-02T15:29:19.326Z"
   },
   {
    "duration": 9,
    "start_time": "2023-08-02T15:29:31.928Z"
   },
   {
    "duration": 7,
    "start_time": "2023-08-02T15:29:34.083Z"
   },
   {
    "duration": 6,
    "start_time": "2023-08-02T15:29:47.115Z"
   },
   {
    "duration": 21,
    "start_time": "2023-08-02T15:32:17.159Z"
   },
   {
    "duration": 15,
    "start_time": "2023-08-02T15:32:29.443Z"
   },
   {
    "duration": 201,
    "start_time": "2023-08-02T15:34:14.258Z"
   },
   {
    "duration": 35,
    "start_time": "2023-08-02T15:35:01.166Z"
   },
   {
    "duration": 197,
    "start_time": "2023-08-02T15:35:18.424Z"
   },
   {
    "duration": 6,
    "start_time": "2023-08-02T15:52:18.741Z"
   },
   {
    "duration": 3,
    "start_time": "2023-08-02T15:52:59.140Z"
   },
   {
    "duration": 5,
    "start_time": "2023-08-02T15:53:07.650Z"
   },
   {
    "duration": 10,
    "start_time": "2023-08-02T15:53:47.506Z"
   },
   {
    "duration": 6,
    "start_time": "2023-08-02T15:55:54.700Z"
   },
   {
    "duration": 5,
    "start_time": "2023-08-02T15:56:01.942Z"
   },
   {
    "duration": 85,
    "start_time": "2023-08-02T17:05:54.583Z"
   },
   {
    "duration": 73,
    "start_time": "2023-08-02T17:06:03.884Z"
   },
   {
    "duration": 41,
    "start_time": "2023-08-02T17:06:11.091Z"
   },
   {
    "duration": 24,
    "start_time": "2023-08-02T17:06:13.700Z"
   },
   {
    "duration": 11,
    "start_time": "2023-08-02T17:06:34.525Z"
   },
   {
    "duration": 10,
    "start_time": "2023-08-02T17:06:41.634Z"
   },
   {
    "duration": 11,
    "start_time": "2023-08-02T17:06:45.884Z"
   },
   {
    "duration": 5,
    "start_time": "2023-08-02T17:06:56.396Z"
   },
   {
    "duration": 47,
    "start_time": "2023-08-03T10:38:23.385Z"
   },
   {
    "duration": 1534,
    "start_time": "2023-08-03T10:38:30.422Z"
   },
   {
    "duration": 1612,
    "start_time": "2023-08-03T10:38:31.958Z"
   },
   {
    "duration": 1188,
    "start_time": "2023-08-03T10:38:33.572Z"
   },
   {
    "duration": 385,
    "start_time": "2023-08-03T10:38:34.762Z"
   },
   {
    "duration": 72,
    "start_time": "2023-08-03T10:38:35.148Z"
   },
   {
    "duration": 19,
    "start_time": "2023-08-03T10:38:35.222Z"
   },
   {
    "duration": 83,
    "start_time": "2023-08-03T10:38:35.242Z"
   },
   {
    "duration": 17,
    "start_time": "2023-08-03T10:38:35.327Z"
   },
   {
    "duration": 60,
    "start_time": "2023-08-03T10:38:35.346Z"
   },
   {
    "duration": 14,
    "start_time": "2023-08-03T10:38:35.408Z"
   },
   {
    "duration": 19,
    "start_time": "2023-08-03T10:38:35.423Z"
   },
   {
    "duration": 30,
    "start_time": "2023-08-03T10:38:35.443Z"
   },
   {
    "duration": 8,
    "start_time": "2023-08-03T10:38:35.474Z"
   },
   {
    "duration": 12,
    "start_time": "2023-08-03T10:38:35.483Z"
   },
   {
    "duration": 4,
    "start_time": "2023-08-03T10:38:35.497Z"
   },
   {
    "duration": 10,
    "start_time": "2023-08-03T10:38:35.503Z"
   },
   {
    "duration": 18,
    "start_time": "2023-08-03T10:38:35.514Z"
   },
   {
    "duration": 126,
    "start_time": "2023-08-03T10:39:51.199Z"
   },
   {
    "duration": 113,
    "start_time": "2023-08-03T10:39:57.900Z"
   },
   {
    "duration": 21,
    "start_time": "2023-08-03T10:40:30.839Z"
   },
   {
    "duration": 3,
    "start_time": "2023-08-03T10:44:07.345Z"
   },
   {
    "duration": 117,
    "start_time": "2023-08-03T10:44:09.809Z"
   },
   {
    "duration": 9,
    "start_time": "2023-08-03T10:44:15.730Z"
   },
   {
    "duration": 7,
    "start_time": "2023-08-03T10:44:29.243Z"
   },
   {
    "duration": 95,
    "start_time": "2023-08-03T11:47:48.315Z"
   },
   {
    "duration": 15,
    "start_time": "2023-08-03T11:47:57.679Z"
   },
   {
    "duration": 11,
    "start_time": "2023-08-03T11:48:22.993Z"
   },
   {
    "duration": 14,
    "start_time": "2023-08-03T11:48:37.183Z"
   },
   {
    "duration": 12,
    "start_time": "2023-08-03T11:48:41.084Z"
   },
   {
    "duration": 8,
    "start_time": "2023-08-03T11:48:46.635Z"
   },
   {
    "duration": 18,
    "start_time": "2023-08-03T11:56:54.943Z"
   },
   {
    "duration": 12,
    "start_time": "2023-08-03T11:57:07.848Z"
   },
   {
    "duration": 10,
    "start_time": "2023-08-03T11:57:11.533Z"
   },
   {
    "duration": 78,
    "start_time": "2023-08-03T11:59:37.556Z"
   },
   {
    "duration": 11,
    "start_time": "2023-08-03T11:59:42.702Z"
   },
   {
    "duration": 14,
    "start_time": "2023-08-03T11:59:52.276Z"
   },
   {
    "duration": 7,
    "start_time": "2023-08-03T12:00:07.868Z"
   },
   {
    "duration": 8,
    "start_time": "2023-08-03T12:00:10.155Z"
   },
   {
    "duration": 8,
    "start_time": "2023-08-03T12:02:20.432Z"
   },
   {
    "duration": 5,
    "start_time": "2023-08-03T12:02:30.699Z"
   },
   {
    "duration": 5,
    "start_time": "2023-08-03T12:03:07.164Z"
   },
   {
    "duration": 6,
    "start_time": "2023-08-03T12:03:25.702Z"
   },
   {
    "duration": 5,
    "start_time": "2023-08-03T12:04:31.446Z"
   },
   {
    "duration": 4,
    "start_time": "2023-08-03T12:06:17.447Z"
   },
   {
    "duration": 7,
    "start_time": "2023-08-03T12:07:04.698Z"
   },
   {
    "duration": 61,
    "start_time": "2023-08-03T12:08:57.397Z"
   },
   {
    "duration": 6,
    "start_time": "2023-08-03T12:18:10.863Z"
   },
   {
    "duration": 22,
    "start_time": "2023-08-03T12:19:14.634Z"
   },
   {
    "duration": 6,
    "start_time": "2023-08-03T12:20:37.194Z"
   },
   {
    "duration": 6,
    "start_time": "2023-08-03T12:20:38.630Z"
   },
   {
    "duration": 5,
    "start_time": "2023-08-03T12:20:56.088Z"
   },
   {
    "duration": 5,
    "start_time": "2023-08-03T12:20:57.657Z"
   },
   {
    "duration": 5,
    "start_time": "2023-08-03T12:23:34.629Z"
   },
   {
    "duration": 5,
    "start_time": "2023-08-03T12:23:38.986Z"
   },
   {
    "duration": 4,
    "start_time": "2023-08-03T12:23:44.232Z"
   },
   {
    "duration": 5,
    "start_time": "2023-08-03T12:23:47.786Z"
   },
   {
    "duration": 5,
    "start_time": "2023-08-03T12:23:57.560Z"
   },
   {
    "duration": 5,
    "start_time": "2023-08-03T12:23:58.395Z"
   },
   {
    "duration": 14,
    "start_time": "2023-08-03T12:29:34.887Z"
   },
   {
    "duration": 10,
    "start_time": "2023-08-03T12:30:04.810Z"
   },
   {
    "duration": 14,
    "start_time": "2023-08-03T12:30:33.436Z"
   },
   {
    "duration": 142,
    "start_time": "2023-08-03T12:30:38.998Z"
   },
   {
    "duration": 706,
    "start_time": "2023-08-03T12:30:52.650Z"
   },
   {
    "duration": 10,
    "start_time": "2023-08-03T12:31:04.460Z"
   },
   {
    "duration": 15,
    "start_time": "2023-08-03T12:33:57.173Z"
   },
   {
    "duration": 5,
    "start_time": "2023-08-03T12:36:12.740Z"
   },
   {
    "duration": 7,
    "start_time": "2023-08-03T12:36:26.889Z"
   },
   {
    "duration": 7,
    "start_time": "2023-08-03T12:36:40.486Z"
   },
   {
    "duration": 5,
    "start_time": "2023-08-03T12:36:51.045Z"
   },
   {
    "duration": 8,
    "start_time": "2023-08-03T12:37:01.936Z"
   },
   {
    "duration": 7,
    "start_time": "2023-08-03T12:37:19.771Z"
   },
   {
    "duration": 7,
    "start_time": "2023-08-03T12:37:20.436Z"
   },
   {
    "duration": 5,
    "start_time": "2023-08-03T12:37:20.830Z"
   },
   {
    "duration": 6,
    "start_time": "2023-08-03T12:37:21.213Z"
   },
   {
    "duration": 113,
    "start_time": "2023-08-03T12:42:58.130Z"
   },
   {
    "duration": 36,
    "start_time": "2023-08-03T12:51:58.375Z"
   },
   {
    "duration": 11,
    "start_time": "2023-08-03T12:55:59.402Z"
   },
   {
    "duration": 2,
    "start_time": "2023-08-03T12:57:03.035Z"
   },
   {
    "duration": 117,
    "start_time": "2023-08-03T12:57:04.534Z"
   },
   {
    "duration": 9,
    "start_time": "2023-08-03T12:58:41.261Z"
   },
   {
    "duration": 9,
    "start_time": "2023-08-03T12:58:42.606Z"
   },
   {
    "duration": 18,
    "start_time": "2023-08-03T12:58:48.143Z"
   },
   {
    "duration": 16,
    "start_time": "2023-08-03T12:59:47.078Z"
   },
   {
    "duration": 15,
    "start_time": "2023-08-03T12:59:56.901Z"
   },
   {
    "duration": 1541,
    "start_time": "2023-08-03T13:00:04.570Z"
   },
   {
    "duration": 463,
    "start_time": "2023-08-03T13:00:06.113Z"
   },
   {
    "duration": 366,
    "start_time": "2023-08-03T13:00:06.578Z"
   },
   {
    "duration": 101,
    "start_time": "2023-08-03T13:00:06.946Z"
   },
   {
    "duration": 91,
    "start_time": "2023-08-03T13:00:07.049Z"
   },
   {
    "duration": 19,
    "start_time": "2023-08-03T13:00:07.142Z"
   },
   {
    "duration": 92,
    "start_time": "2023-08-03T13:00:07.162Z"
   },
   {
    "duration": 36,
    "start_time": "2023-08-03T13:00:07.256Z"
   },
   {
    "duration": 47,
    "start_time": "2023-08-03T13:00:07.294Z"
   },
   {
    "duration": 21,
    "start_time": "2023-08-03T13:00:07.343Z"
   },
   {
    "duration": 13,
    "start_time": "2023-08-03T13:00:07.365Z"
   },
   {
    "duration": 7,
    "start_time": "2023-08-03T13:00:07.380Z"
   },
   {
    "duration": 9,
    "start_time": "2023-08-03T13:00:07.389Z"
   },
   {
    "duration": 10,
    "start_time": "2023-08-03T13:00:07.401Z"
   },
   {
    "duration": 16,
    "start_time": "2023-08-03T13:00:07.413Z"
   },
   {
    "duration": 6,
    "start_time": "2023-08-03T13:00:07.431Z"
   },
   {
    "duration": 159,
    "start_time": "2023-08-03T13:00:07.438Z"
   },
   {
    "duration": 22,
    "start_time": "2023-08-03T13:00:07.599Z"
   },
   {
    "duration": 7,
    "start_time": "2023-08-03T13:00:07.623Z"
   },
   {
    "duration": 10,
    "start_time": "2023-08-03T13:00:07.631Z"
   },
   {
    "duration": 44,
    "start_time": "2023-08-03T13:00:07.642Z"
   },
   {
    "duration": 15,
    "start_time": "2023-08-03T13:00:07.694Z"
   },
   {
    "duration": 22,
    "start_time": "2023-08-03T13:00:07.711Z"
   },
   {
    "duration": 23,
    "start_time": "2023-08-03T13:00:07.735Z"
   },
   {
    "duration": 25,
    "start_time": "2023-08-03T13:00:07.760Z"
   },
   {
    "duration": 13,
    "start_time": "2023-08-03T13:00:07.787Z"
   },
   {
    "duration": 17,
    "start_time": "2023-08-03T13:00:07.801Z"
   },
   {
    "duration": 20,
    "start_time": "2023-08-03T13:00:07.819Z"
   },
   {
    "duration": 29,
    "start_time": "2023-08-03T13:00:07.840Z"
   },
   {
    "duration": 25,
    "start_time": "2023-08-03T13:00:07.871Z"
   },
   {
    "duration": 31,
    "start_time": "2023-08-03T13:00:07.898Z"
   },
   {
    "duration": 19,
    "start_time": "2023-08-03T13:00:07.930Z"
   },
   {
    "duration": 19,
    "start_time": "2023-08-03T13:00:07.951Z"
   },
   {
    "duration": 18,
    "start_time": "2023-08-03T13:00:07.972Z"
   },
   {
    "duration": 15,
    "start_time": "2023-08-03T13:00:07.992Z"
   },
   {
    "duration": 168,
    "start_time": "2023-08-03T13:00:08.009Z"
   },
   {
    "duration": 0,
    "start_time": "2023-08-03T13:00:08.179Z"
   },
   {
    "duration": 0,
    "start_time": "2023-08-03T13:00:08.180Z"
   },
   {
    "duration": 2,
    "start_time": "2023-08-03T13:00:12.130Z"
   },
   {
    "duration": 579,
    "start_time": "2023-08-03T13:00:13.300Z"
   },
   {
    "duration": 4,
    "start_time": "2023-08-03T13:01:30.398Z"
   },
   {
    "duration": 3,
    "start_time": "2023-08-03T13:01:32.949Z"
   },
   {
    "duration": 2972,
    "start_time": "2023-08-03T13:02:17.605Z"
   },
   {
    "duration": 28,
    "start_time": "2023-08-03T13:03:46.560Z"
   },
   {
    "duration": 3,
    "start_time": "2023-08-03T13:04:00.403Z"
   },
   {
    "duration": 1691,
    "start_time": "2023-08-03T13:04:10.991Z"
   },
   {
    "duration": 6485,
    "start_time": "2023-08-03T13:04:14.905Z"
   },
   {
    "duration": 3,
    "start_time": "2023-08-03T13:04:42.505Z"
   },
   {
    "duration": 90745,
    "start_time": "2023-08-03T13:04:43.052Z"
   },
   {
    "duration": 353161,
    "start_time": "2023-08-03T13:07:20.020Z"
   },
   {
    "duration": 12,
    "start_time": "2023-08-03T15:46:38.999Z"
   },
   {
    "duration": 111,
    "start_time": "2023-08-03T15:52:23.026Z"
   },
   {
    "duration": 4,
    "start_time": "2023-08-03T15:52:26.509Z"
   },
   {
    "duration": 293,
    "start_time": "2023-08-03T15:54:24.917Z"
   },
   {
    "duration": 13,
    "start_time": "2023-08-03T15:54:35.211Z"
   },
   {
    "duration": 3,
    "start_time": "2023-08-03T15:55:01.551Z"
   },
   {
    "duration": 12,
    "start_time": "2023-08-03T15:55:02.050Z"
   },
   {
    "duration": 3,
    "start_time": "2023-08-03T15:55:34.017Z"
   },
   {
    "duration": 14,
    "start_time": "2023-08-03T15:55:34.632Z"
   },
   {
    "duration": 9,
    "start_time": "2023-08-03T15:56:24.726Z"
   },
   {
    "duration": 3,
    "start_time": "2023-08-03T15:56:26.663Z"
   },
   {
    "duration": 21,
    "start_time": "2023-08-03T15:56:27.817Z"
   },
   {
    "duration": 3,
    "start_time": "2023-08-03T15:58:10.687Z"
   },
   {
    "duration": 12,
    "start_time": "2023-08-03T15:58:11.568Z"
   },
   {
    "duration": 3,
    "start_time": "2023-08-03T15:58:19.061Z"
   },
   {
    "duration": 21,
    "start_time": "2023-08-03T15:58:19.529Z"
   },
   {
    "duration": 9,
    "start_time": "2023-08-03T16:02:34.748Z"
   },
   {
    "duration": 147,
    "start_time": "2023-08-03T16:02:39.061Z"
   },
   {
    "duration": 99,
    "start_time": "2023-08-03T16:02:41.608Z"
   },
   {
    "duration": 134,
    "start_time": "2023-08-03T16:03:09.098Z"
   },
   {
    "duration": 110,
    "start_time": "2023-08-03T16:03:25.398Z"
   },
   {
    "duration": 113,
    "start_time": "2023-08-03T16:03:48.140Z"
   },
   {
    "duration": 1326,
    "start_time": "2023-08-03T16:03:53.819Z"
   },
   {
    "duration": 409,
    "start_time": "2023-08-03T16:03:55.147Z"
   },
   {
    "duration": 299,
    "start_time": "2023-08-03T16:03:55.558Z"
   },
   {
    "duration": 83,
    "start_time": "2023-08-03T16:03:55.859Z"
   },
   {
    "duration": 67,
    "start_time": "2023-08-03T16:03:55.944Z"
   },
   {
    "duration": 16,
    "start_time": "2023-08-03T16:03:56.013Z"
   },
   {
    "duration": 78,
    "start_time": "2023-08-03T16:03:56.030Z"
   },
   {
    "duration": 16,
    "start_time": "2023-08-03T16:03:56.110Z"
   },
   {
    "duration": 54,
    "start_time": "2023-08-03T16:03:56.128Z"
   },
   {
    "duration": 11,
    "start_time": "2023-08-03T16:03:56.184Z"
   },
   {
    "duration": 11,
    "start_time": "2023-08-03T16:03:56.196Z"
   },
   {
    "duration": 17,
    "start_time": "2023-08-03T16:03:56.208Z"
   },
   {
    "duration": 6,
    "start_time": "2023-08-03T16:03:56.227Z"
   },
   {
    "duration": 13,
    "start_time": "2023-08-03T16:03:56.234Z"
   },
   {
    "duration": 12,
    "start_time": "2023-08-03T16:03:56.248Z"
   },
   {
    "duration": 5,
    "start_time": "2023-08-03T16:03:56.261Z"
   },
   {
    "duration": 123,
    "start_time": "2023-08-03T16:03:56.267Z"
   },
   {
    "duration": 18,
    "start_time": "2023-08-03T16:03:56.392Z"
   },
   {
    "duration": 7,
    "start_time": "2023-08-03T16:03:56.411Z"
   },
   {
    "duration": 9,
    "start_time": "2023-08-03T16:03:56.420Z"
   },
   {
    "duration": 23,
    "start_time": "2023-08-03T16:03:56.430Z"
   },
   {
    "duration": 21,
    "start_time": "2023-08-03T16:03:56.454Z"
   },
   {
    "duration": 15,
    "start_time": "2023-08-03T16:03:56.477Z"
   },
   {
    "duration": 6,
    "start_time": "2023-08-03T16:03:56.494Z"
   },
   {
    "duration": 6,
    "start_time": "2023-08-03T16:03:56.501Z"
   },
   {
    "duration": 15,
    "start_time": "2023-08-03T16:03:56.509Z"
   },
   {
    "duration": 11,
    "start_time": "2023-08-03T16:03:56.526Z"
   },
   {
    "duration": 9,
    "start_time": "2023-08-03T16:03:56.540Z"
   },
   {
    "duration": 21,
    "start_time": "2023-08-03T16:03:56.550Z"
   },
   {
    "duration": 6,
    "start_time": "2023-08-03T16:03:56.572Z"
   },
   {
    "duration": 10,
    "start_time": "2023-08-03T16:03:56.579Z"
   },
   {
    "duration": 18,
    "start_time": "2023-08-03T16:03:56.590Z"
   },
   {
    "duration": 11,
    "start_time": "2023-08-03T16:03:56.609Z"
   },
   {
    "duration": 12,
    "start_time": "2023-08-03T16:03:56.622Z"
   },
   {
    "duration": 5,
    "start_time": "2023-08-03T16:03:56.636Z"
   },
   {
    "duration": 117,
    "start_time": "2023-08-03T16:03:56.643Z"
   },
   {
    "duration": 0,
    "start_time": "2023-08-03T16:03:56.762Z"
   },
   {
    "duration": 0,
    "start_time": "2023-08-03T16:03:56.764Z"
   },
   {
    "duration": 0,
    "start_time": "2023-08-03T16:03:56.765Z"
   },
   {
    "duration": 0,
    "start_time": "2023-08-03T16:03:56.766Z"
   },
   {
    "duration": 0,
    "start_time": "2023-08-03T16:03:56.768Z"
   },
   {
    "duration": 0,
    "start_time": "2023-08-03T16:03:56.769Z"
   },
   {
    "duration": 0,
    "start_time": "2023-08-03T16:03:56.770Z"
   },
   {
    "duration": 0,
    "start_time": "2023-08-03T16:03:56.772Z"
   },
   {
    "duration": 0,
    "start_time": "2023-08-03T16:03:56.773Z"
   },
   {
    "duration": 0,
    "start_time": "2023-08-03T16:03:56.774Z"
   },
   {
    "duration": 0,
    "start_time": "2023-08-03T16:03:56.776Z"
   },
   {
    "duration": 117,
    "start_time": "2023-08-03T16:04:38.298Z"
   },
   {
    "duration": 102,
    "start_time": "2023-08-03T16:04:57.198Z"
   },
   {
    "duration": 3,
    "start_time": "2023-08-03T16:06:51.550Z"
   },
   {
    "duration": 104,
    "start_time": "2023-08-03T16:06:54.105Z"
   },
   {
    "duration": 3,
    "start_time": "2023-08-03T16:07:03.279Z"
   },
   {
    "duration": 88561,
    "start_time": "2023-08-03T16:07:03.990Z"
   },
   {
    "duration": 344457,
    "start_time": "2023-08-03T16:08:32.552Z"
   },
   {
    "duration": 263,
    "start_time": "2023-08-03T16:14:17.011Z"
   },
   {
    "duration": 13,
    "start_time": "2023-08-03T16:15:15.340Z"
   },
   {
    "duration": 4,
    "start_time": "2023-08-03T16:15:51.507Z"
   },
   {
    "duration": 7,
    "start_time": "2023-08-03T16:15:55.315Z"
   },
   {
    "duration": 7,
    "start_time": "2023-08-03T16:19:01.467Z"
   },
   {
    "duration": 7,
    "start_time": "2023-08-03T16:20:20.144Z"
   },
   {
    "duration": 8,
    "start_time": "2023-08-03T16:20:22.436Z"
   },
   {
    "duration": 2,
    "start_time": "2023-08-03T16:24:56.758Z"
   },
   {
    "duration": 143,
    "start_time": "2023-08-03T16:24:57.933Z"
   },
   {
    "duration": 1915,
    "start_time": "2023-08-03T16:24:59.364Z"
   },
   {
    "duration": 7,
    "start_time": "2023-08-03T16:25:03.559Z"
   },
   {
    "duration": 7,
    "start_time": "2023-08-03T16:25:08.865Z"
   },
   {
    "duration": 8,
    "start_time": "2023-08-03T16:25:10.626Z"
   },
   {
    "duration": 2,
    "start_time": "2023-08-03T16:25:21.140Z"
   },
   {
    "duration": 129,
    "start_time": "2023-08-03T16:25:21.846Z"
   },
   {
    "duration": 1630,
    "start_time": "2023-08-03T16:25:22.655Z"
   },
   {
    "duration": 9,
    "start_time": "2023-08-03T16:25:25.204Z"
   },
   {
    "duration": 8,
    "start_time": "2023-08-03T16:25:27.499Z"
   },
   {
    "duration": 1377,
    "start_time": "2023-08-03T16:27:16.896Z"
   },
   {
    "duration": 427,
    "start_time": "2023-08-03T16:27:18.275Z"
   },
   {
    "duration": 307,
    "start_time": "2023-08-03T16:27:18.704Z"
   },
   {
    "duration": 89,
    "start_time": "2023-08-03T16:27:19.013Z"
   },
   {
    "duration": 71,
    "start_time": "2023-08-03T16:27:19.105Z"
   },
   {
    "duration": 19,
    "start_time": "2023-08-03T16:27:19.178Z"
   },
   {
    "duration": 87,
    "start_time": "2023-08-03T16:27:19.198Z"
   },
   {
    "duration": 16,
    "start_time": "2023-08-03T16:27:19.287Z"
   },
   {
    "duration": 49,
    "start_time": "2023-08-03T16:27:19.305Z"
   },
   {
    "duration": 13,
    "start_time": "2023-08-03T16:27:19.374Z"
   },
   {
    "duration": 6,
    "start_time": "2023-08-03T16:27:19.389Z"
   },
   {
    "duration": 7,
    "start_time": "2023-08-03T16:27:19.397Z"
   },
   {
    "duration": 3,
    "start_time": "2023-08-03T16:27:19.405Z"
   },
   {
    "duration": 16,
    "start_time": "2023-08-03T16:27:19.411Z"
   },
   {
    "duration": 21,
    "start_time": "2023-08-03T16:27:19.429Z"
   },
   {
    "duration": 24,
    "start_time": "2023-08-03T16:27:19.451Z"
   },
   {
    "duration": 132,
    "start_time": "2023-08-03T16:27:19.477Z"
   },
   {
    "duration": 19,
    "start_time": "2023-08-03T16:27:19.610Z"
   },
   {
    "duration": 7,
    "start_time": "2023-08-03T16:27:19.630Z"
   },
   {
    "duration": 15,
    "start_time": "2023-08-03T16:27:19.638Z"
   },
   {
    "duration": 21,
    "start_time": "2023-08-03T16:27:19.655Z"
   },
   {
    "duration": 8,
    "start_time": "2023-08-03T16:27:19.678Z"
   },
   {
    "duration": 18,
    "start_time": "2023-08-03T16:27:19.687Z"
   },
   {
    "duration": 20,
    "start_time": "2023-08-03T16:27:19.707Z"
   },
   {
    "duration": 13,
    "start_time": "2023-08-03T16:27:19.728Z"
   },
   {
    "duration": 14,
    "start_time": "2023-08-03T16:27:19.743Z"
   },
   {
    "duration": 6,
    "start_time": "2023-08-03T16:27:19.759Z"
   },
   {
    "duration": 9,
    "start_time": "2023-08-03T16:27:19.767Z"
   },
   {
    "duration": 8,
    "start_time": "2023-08-03T16:27:19.778Z"
   },
   {
    "duration": 18,
    "start_time": "2023-08-03T16:27:19.787Z"
   },
   {
    "duration": 7,
    "start_time": "2023-08-03T16:27:19.806Z"
   },
   {
    "duration": 6,
    "start_time": "2023-08-03T16:27:19.814Z"
   },
   {
    "duration": 4,
    "start_time": "2023-08-03T16:27:19.822Z"
   },
   {
    "duration": 19,
    "start_time": "2023-08-03T16:27:19.827Z"
   },
   {
    "duration": 3,
    "start_time": "2023-08-03T16:27:19.848Z"
   },
   {
    "duration": 7,
    "start_time": "2023-08-03T16:27:19.853Z"
   },
   {
    "duration": 124,
    "start_time": "2023-08-03T16:27:19.861Z"
   },
   {
    "duration": 0,
    "start_time": "2023-08-03T16:27:19.986Z"
   },
   {
    "duration": 0,
    "start_time": "2023-08-03T16:27:19.988Z"
   },
   {
    "duration": 0,
    "start_time": "2023-08-03T16:27:19.988Z"
   },
   {
    "duration": 0,
    "start_time": "2023-08-03T16:27:19.989Z"
   },
   {
    "duration": 0,
    "start_time": "2023-08-03T16:27:19.990Z"
   },
   {
    "duration": 0,
    "start_time": "2023-08-03T16:27:19.991Z"
   },
   {
    "duration": 0,
    "start_time": "2023-08-03T16:27:19.992Z"
   },
   {
    "duration": 0,
    "start_time": "2023-08-03T16:27:19.993Z"
   },
   {
    "duration": 0,
    "start_time": "2023-08-03T16:27:19.994Z"
   },
   {
    "duration": 0,
    "start_time": "2023-08-03T16:27:19.995Z"
   },
   {
    "duration": 0,
    "start_time": "2023-08-03T16:27:19.996Z"
   },
   {
    "duration": 3,
    "start_time": "2023-08-03T16:27:22.167Z"
   },
   {
    "duration": 181,
    "start_time": "2023-08-03T16:27:22.895Z"
   },
   {
    "duration": 2019,
    "start_time": "2023-08-03T16:27:23.662Z"
   },
   {
    "duration": 6,
    "start_time": "2023-08-03T16:27:26.572Z"
   },
   {
    "duration": 8,
    "start_time": "2023-08-03T16:27:28.015Z"
   },
   {
    "duration": 9,
    "start_time": "2023-08-03T16:29:01.704Z"
   },
   {
    "duration": 9,
    "start_time": "2023-08-03T16:29:53.127Z"
   },
   {
    "duration": 9,
    "start_time": "2023-08-03T16:29:54.414Z"
   },
   {
    "duration": 3,
    "start_time": "2023-08-03T16:31:05.360Z"
   },
   {
    "duration": 157,
    "start_time": "2023-08-03T16:31:05.932Z"
   },
   {
    "duration": 1964,
    "start_time": "2023-08-03T16:31:06.912Z"
   },
   {
    "duration": 5,
    "start_time": "2023-08-03T16:31:13.240Z"
   },
   {
    "duration": 8,
    "start_time": "2023-08-03T16:31:15.395Z"
   },
   {
    "duration": 7,
    "start_time": "2023-08-03T16:31:34.492Z"
   },
   {
    "duration": 2,
    "start_time": "2023-08-03T16:32:29.728Z"
   },
   {
    "duration": 184,
    "start_time": "2023-08-03T16:32:30.199Z"
   },
   {
    "duration": 1904,
    "start_time": "2023-08-03T16:32:31.072Z"
   },
   {
    "duration": 6,
    "start_time": "2023-08-03T16:32:34.688Z"
   },
   {
    "duration": 4,
    "start_time": "2023-08-03T16:32:45.442Z"
   },
   {
    "duration": 7,
    "start_time": "2023-08-03T16:32:48.562Z"
   },
   {
    "duration": 4,
    "start_time": "2023-08-03T16:33:08.203Z"
   },
   {
    "duration": 9,
    "start_time": "2023-08-03T16:34:02.571Z"
   },
   {
    "duration": 14,
    "start_time": "2023-08-03T16:37:19.115Z"
   },
   {
    "duration": 3,
    "start_time": "2023-08-03T16:37:19.810Z"
   },
   {
    "duration": 1281,
    "start_time": "2023-08-03T16:37:20.453Z"
   },
   {
    "duration": 5153,
    "start_time": "2023-08-03T16:37:23.223Z"
   },
   {
    "duration": 10,
    "start_time": "2023-08-03T16:37:30.552Z"
   },
   {
    "duration": 3,
    "start_time": "2023-08-03T16:37:35.997Z"
   },
   {
    "duration": 79757,
    "start_time": "2023-08-03T16:37:36.587Z"
   },
   {
    "duration": 1392,
    "start_time": "2023-08-03T16:40:27.482Z"
   },
   {
    "duration": 424,
    "start_time": "2023-08-03T16:40:28.876Z"
   },
   {
    "duration": 305,
    "start_time": "2023-08-03T16:40:29.301Z"
   },
   {
    "duration": 87,
    "start_time": "2023-08-03T16:40:29.608Z"
   },
   {
    "duration": 79,
    "start_time": "2023-08-03T16:40:29.697Z"
   },
   {
    "duration": 18,
    "start_time": "2023-08-03T16:40:29.777Z"
   },
   {
    "duration": 85,
    "start_time": "2023-08-03T16:40:29.797Z"
   },
   {
    "duration": 15,
    "start_time": "2023-08-03T16:40:29.884Z"
   },
   {
    "duration": 53,
    "start_time": "2023-08-03T16:40:29.901Z"
   },
   {
    "duration": 34,
    "start_time": "2023-08-03T16:40:29.956Z"
   },
   {
    "duration": 49,
    "start_time": "2023-08-03T16:40:29.992Z"
   },
   {
    "duration": 58,
    "start_time": "2023-08-03T16:40:30.044Z"
   },
   {
    "duration": 37,
    "start_time": "2023-08-03T16:40:30.104Z"
   },
   {
    "duration": 54,
    "start_time": "2023-08-03T16:40:30.146Z"
   },
   {
    "duration": 29,
    "start_time": "2023-08-03T16:40:30.202Z"
   },
   {
    "duration": 88,
    "start_time": "2023-08-03T16:40:30.233Z"
   },
   {
    "duration": 182,
    "start_time": "2023-08-03T16:40:30.323Z"
   },
   {
    "duration": 20,
    "start_time": "2023-08-03T16:40:30.508Z"
   },
   {
    "duration": 93,
    "start_time": "2023-08-03T16:40:30.529Z"
   },
   {
    "duration": 123,
    "start_time": "2023-08-03T16:40:30.624Z"
   },
   {
    "duration": 62,
    "start_time": "2023-08-03T16:40:30.749Z"
   },
   {
    "duration": 37,
    "start_time": "2023-08-03T16:40:30.813Z"
   },
   {
    "duration": 173,
    "start_time": "2023-08-03T16:40:30.852Z"
   },
   {
    "duration": 0,
    "start_time": "2023-08-03T16:40:31.027Z"
   },
   {
    "duration": 0,
    "start_time": "2023-08-03T16:40:31.028Z"
   },
   {
    "duration": 0,
    "start_time": "2023-08-03T16:40:31.029Z"
   },
   {
    "duration": 0,
    "start_time": "2023-08-03T16:40:31.030Z"
   },
   {
    "duration": 0,
    "start_time": "2023-08-03T16:40:31.031Z"
   },
   {
    "duration": 0,
    "start_time": "2023-08-03T16:40:31.032Z"
   },
   {
    "duration": 0,
    "start_time": "2023-08-03T16:40:31.034Z"
   },
   {
    "duration": 0,
    "start_time": "2023-08-03T16:40:31.034Z"
   },
   {
    "duration": 0,
    "start_time": "2023-08-03T16:40:31.036Z"
   },
   {
    "duration": 0,
    "start_time": "2023-08-03T16:40:31.036Z"
   },
   {
    "duration": 0,
    "start_time": "2023-08-03T16:40:31.038Z"
   },
   {
    "duration": 0,
    "start_time": "2023-08-03T16:40:31.038Z"
   },
   {
    "duration": 0,
    "start_time": "2023-08-03T16:40:31.039Z"
   },
   {
    "duration": 0,
    "start_time": "2023-08-03T16:40:31.040Z"
   },
   {
    "duration": 0,
    "start_time": "2023-08-03T16:40:31.041Z"
   },
   {
    "duration": 0,
    "start_time": "2023-08-03T16:40:31.042Z"
   },
   {
    "duration": 0,
    "start_time": "2023-08-03T16:40:31.043Z"
   },
   {
    "duration": 0,
    "start_time": "2023-08-03T16:40:31.075Z"
   },
   {
    "duration": 0,
    "start_time": "2023-08-03T16:40:31.075Z"
   },
   {
    "duration": 0,
    "start_time": "2023-08-03T16:40:31.076Z"
   },
   {
    "duration": 0,
    "start_time": "2023-08-03T16:40:31.078Z"
   },
   {
    "duration": 0,
    "start_time": "2023-08-03T16:40:31.080Z"
   },
   {
    "duration": 0,
    "start_time": "2023-08-03T16:40:31.081Z"
   },
   {
    "duration": 0,
    "start_time": "2023-08-03T16:40:31.082Z"
   },
   {
    "duration": 0,
    "start_time": "2023-08-03T16:40:31.084Z"
   },
   {
    "duration": 0,
    "start_time": "2023-08-03T16:40:31.085Z"
   },
   {
    "duration": 5,
    "start_time": "2023-08-03T16:56:00.472Z"
   },
   {
    "duration": 480,
    "start_time": "2023-08-03T16:56:00.479Z"
   },
   {
    "duration": 350,
    "start_time": "2023-08-03T16:56:00.960Z"
   },
   {
    "duration": 101,
    "start_time": "2023-08-03T16:56:01.312Z"
   },
   {
    "duration": 83,
    "start_time": "2023-08-03T16:56:01.415Z"
   },
   {
    "duration": 25,
    "start_time": "2023-08-03T16:56:01.500Z"
   },
   {
    "duration": 109,
    "start_time": "2023-08-03T16:56:01.526Z"
   },
   {
    "duration": 52,
    "start_time": "2023-08-03T16:56:01.637Z"
   },
   {
    "duration": 71,
    "start_time": "2023-08-03T16:56:01.693Z"
   },
   {
    "duration": 30,
    "start_time": "2023-08-03T16:56:01.766Z"
   },
   {
    "duration": 40,
    "start_time": "2023-08-03T16:56:01.798Z"
   },
   {
    "duration": 48,
    "start_time": "2023-08-03T16:56:01.840Z"
   },
   {
    "duration": 41,
    "start_time": "2023-08-03T16:56:01.890Z"
   },
   {
    "duration": 36,
    "start_time": "2023-08-03T16:56:01.935Z"
   },
   {
    "duration": 104,
    "start_time": "2023-08-03T16:56:01.973Z"
   },
   {
    "duration": 32,
    "start_time": "2023-08-03T16:56:02.079Z"
   },
   {
    "duration": 146,
    "start_time": "2023-08-03T16:56:02.113Z"
   },
   {
    "duration": 22,
    "start_time": "2023-08-03T16:56:02.261Z"
   },
   {
    "duration": 11,
    "start_time": "2023-08-03T16:56:02.285Z"
   },
   {
    "duration": 10,
    "start_time": "2023-08-03T16:56:02.298Z"
   },
   {
    "duration": 38,
    "start_time": "2023-08-03T16:56:02.310Z"
   },
   {
    "duration": 30,
    "start_time": "2023-08-03T16:56:02.349Z"
   },
   {
    "duration": 32,
    "start_time": "2023-08-03T16:56:02.381Z"
   },
   {
    "duration": 0,
    "start_time": "2023-08-03T16:56:02.415Z"
   },
   {
    "duration": 0,
    "start_time": "2023-08-03T16:56:02.417Z"
   },
   {
    "duration": 0,
    "start_time": "2023-08-03T16:56:02.418Z"
   },
   {
    "duration": 0,
    "start_time": "2023-08-03T16:56:02.419Z"
   },
   {
    "duration": 0,
    "start_time": "2023-08-03T16:56:02.421Z"
   },
   {
    "duration": 0,
    "start_time": "2023-08-03T16:56:02.422Z"
   },
   {
    "duration": 0,
    "start_time": "2023-08-03T16:56:02.423Z"
   },
   {
    "duration": 0,
    "start_time": "2023-08-03T16:56:02.424Z"
   },
   {
    "duration": 0,
    "start_time": "2023-08-03T16:56:02.425Z"
   },
   {
    "duration": 0,
    "start_time": "2023-08-03T16:56:02.426Z"
   },
   {
    "duration": 0,
    "start_time": "2023-08-03T16:56:02.427Z"
   },
   {
    "duration": 0,
    "start_time": "2023-08-03T16:56:02.428Z"
   },
   {
    "duration": 0,
    "start_time": "2023-08-03T16:56:02.429Z"
   },
   {
    "duration": 0,
    "start_time": "2023-08-03T16:56:02.430Z"
   },
   {
    "duration": 0,
    "start_time": "2023-08-03T16:56:02.431Z"
   },
   {
    "duration": 0,
    "start_time": "2023-08-03T16:56:02.433Z"
   },
   {
    "duration": 0,
    "start_time": "2023-08-03T16:56:02.434Z"
   },
   {
    "duration": 0,
    "start_time": "2023-08-03T16:56:02.435Z"
   },
   {
    "duration": 0,
    "start_time": "2023-08-03T16:56:02.436Z"
   },
   {
    "duration": 0,
    "start_time": "2023-08-03T16:56:02.437Z"
   },
   {
    "duration": 0,
    "start_time": "2023-08-03T16:56:02.438Z"
   },
   {
    "duration": 0,
    "start_time": "2023-08-03T16:56:02.439Z"
   },
   {
    "duration": 0,
    "start_time": "2023-08-03T16:56:02.440Z"
   },
   {
    "duration": 0,
    "start_time": "2023-08-03T16:56:02.475Z"
   },
   {
    "duration": 0,
    "start_time": "2023-08-03T16:56:02.476Z"
   },
   {
    "duration": 0,
    "start_time": "2023-08-03T16:56:02.477Z"
   },
   {
    "duration": 4,
    "start_time": "2023-08-03T16:56:27.600Z"
   },
   {
    "duration": 410,
    "start_time": "2023-08-03T16:56:27.606Z"
   },
   {
    "duration": 319,
    "start_time": "2023-08-03T16:56:28.018Z"
   },
   {
    "duration": 81,
    "start_time": "2023-08-03T16:56:28.339Z"
   },
   {
    "duration": 72,
    "start_time": "2023-08-03T16:56:28.422Z"
   },
   {
    "duration": 18,
    "start_time": "2023-08-03T16:56:28.496Z"
   },
   {
    "duration": 83,
    "start_time": "2023-08-03T16:56:28.516Z"
   },
   {
    "duration": 14,
    "start_time": "2023-08-03T16:56:28.601Z"
   },
   {
    "duration": 59,
    "start_time": "2023-08-03T16:56:28.617Z"
   },
   {
    "duration": 13,
    "start_time": "2023-08-03T16:56:28.678Z"
   },
   {
    "duration": 27,
    "start_time": "2023-08-03T16:56:28.693Z"
   },
   {
    "duration": 12,
    "start_time": "2023-08-03T16:56:28.722Z"
   },
   {
    "duration": 4,
    "start_time": "2023-08-03T16:56:28.736Z"
   },
   {
    "duration": 17,
    "start_time": "2023-08-03T16:56:28.744Z"
   },
   {
    "duration": 5,
    "start_time": "2023-08-03T16:56:28.763Z"
   },
   {
    "duration": 27,
    "start_time": "2023-08-03T16:56:28.774Z"
   },
   {
    "duration": 129,
    "start_time": "2023-08-03T16:56:28.803Z"
   },
   {
    "duration": 19,
    "start_time": "2023-08-03T16:56:28.934Z"
   },
   {
    "duration": 25,
    "start_time": "2023-08-03T16:56:28.954Z"
   },
   {
    "duration": 6,
    "start_time": "2023-08-03T16:56:28.981Z"
   },
   {
    "duration": 20,
    "start_time": "2023-08-03T16:56:28.988Z"
   },
   {
    "duration": 7,
    "start_time": "2023-08-03T16:56:29.009Z"
   },
   {
    "duration": 8,
    "start_time": "2023-08-03T16:56:29.018Z"
   },
   {
    "duration": 17,
    "start_time": "2023-08-03T16:56:29.028Z"
   },
   {
    "duration": 0,
    "start_time": "2023-08-03T16:56:29.047Z"
   },
   {
    "duration": 0,
    "start_time": "2023-08-03T16:56:29.076Z"
   },
   {
    "duration": 0,
    "start_time": "2023-08-03T16:56:29.077Z"
   },
   {
    "duration": 0,
    "start_time": "2023-08-03T16:56:29.079Z"
   },
   {
    "duration": 0,
    "start_time": "2023-08-03T16:56:29.080Z"
   },
   {
    "duration": 0,
    "start_time": "2023-08-03T16:56:29.082Z"
   },
   {
    "duration": 0,
    "start_time": "2023-08-03T16:56:29.083Z"
   },
   {
    "duration": 0,
    "start_time": "2023-08-03T16:56:29.084Z"
   },
   {
    "duration": 0,
    "start_time": "2023-08-03T16:56:29.085Z"
   },
   {
    "duration": 0,
    "start_time": "2023-08-03T16:56:29.087Z"
   },
   {
    "duration": 0,
    "start_time": "2023-08-03T16:56:29.088Z"
   },
   {
    "duration": 0,
    "start_time": "2023-08-03T16:56:29.090Z"
   },
   {
    "duration": 0,
    "start_time": "2023-08-03T16:56:29.091Z"
   },
   {
    "duration": 0,
    "start_time": "2023-08-03T16:56:29.093Z"
   },
   {
    "duration": 0,
    "start_time": "2023-08-03T16:56:29.095Z"
   },
   {
    "duration": 0,
    "start_time": "2023-08-03T16:56:29.096Z"
   },
   {
    "duration": 0,
    "start_time": "2023-08-03T16:56:29.097Z"
   },
   {
    "duration": 0,
    "start_time": "2023-08-03T16:56:29.099Z"
   },
   {
    "duration": 0,
    "start_time": "2023-08-03T16:56:29.100Z"
   },
   {
    "duration": 0,
    "start_time": "2023-08-03T16:56:29.101Z"
   },
   {
    "duration": 0,
    "start_time": "2023-08-03T16:56:29.102Z"
   },
   {
    "duration": 0,
    "start_time": "2023-08-03T16:56:29.103Z"
   },
   {
    "duration": 0,
    "start_time": "2023-08-03T16:56:29.104Z"
   },
   {
    "duration": 0,
    "start_time": "2023-08-03T16:56:29.105Z"
   },
   {
    "duration": 0,
    "start_time": "2023-08-03T16:56:29.106Z"
   },
   {
    "duration": 4,
    "start_time": "2023-08-03T16:56:42.949Z"
   },
   {
    "duration": 404,
    "start_time": "2023-08-03T16:56:42.955Z"
   },
   {
    "duration": 298,
    "start_time": "2023-08-03T16:56:43.361Z"
   },
   {
    "duration": 82,
    "start_time": "2023-08-03T16:56:43.660Z"
   },
   {
    "duration": 106,
    "start_time": "2023-08-03T16:56:43.744Z"
   },
   {
    "duration": 33,
    "start_time": "2023-08-03T16:56:43.852Z"
   },
   {
    "duration": 93,
    "start_time": "2023-08-03T16:56:43.887Z"
   },
   {
    "duration": 22,
    "start_time": "2023-08-03T16:56:43.982Z"
   },
   {
    "duration": 44,
    "start_time": "2023-08-03T16:56:44.006Z"
   },
   {
    "duration": 14,
    "start_time": "2023-08-03T16:56:44.074Z"
   },
   {
    "duration": 6,
    "start_time": "2023-08-03T16:56:44.090Z"
   },
   {
    "duration": 16,
    "start_time": "2023-08-03T16:56:44.098Z"
   },
   {
    "duration": 16,
    "start_time": "2023-08-03T16:56:44.116Z"
   },
   {
    "duration": 21,
    "start_time": "2023-08-03T16:56:44.136Z"
   },
   {
    "duration": 22,
    "start_time": "2023-08-03T16:56:44.159Z"
   },
   {
    "duration": 14,
    "start_time": "2023-08-03T16:56:44.183Z"
   },
   {
    "duration": 129,
    "start_time": "2023-08-03T16:56:44.199Z"
   },
   {
    "duration": 20,
    "start_time": "2023-08-03T16:56:44.330Z"
   },
   {
    "duration": 23,
    "start_time": "2023-08-03T16:56:44.352Z"
   },
   {
    "duration": 8,
    "start_time": "2023-08-03T16:56:44.377Z"
   },
   {
    "duration": 20,
    "start_time": "2023-08-03T16:56:44.387Z"
   },
   {
    "duration": 12,
    "start_time": "2023-08-03T16:56:44.409Z"
   },
   {
    "duration": 10,
    "start_time": "2023-08-03T16:56:44.422Z"
   },
   {
    "duration": 14,
    "start_time": "2023-08-03T16:56:44.434Z"
   },
   {
    "duration": 22,
    "start_time": "2023-08-03T16:56:44.449Z"
   },
   {
    "duration": 6,
    "start_time": "2023-08-03T16:56:44.473Z"
   },
   {
    "duration": 44,
    "start_time": "2023-08-03T16:56:44.481Z"
   },
   {
    "duration": 12,
    "start_time": "2023-08-03T16:56:44.526Z"
   },
   {
    "duration": 7,
    "start_time": "2023-08-03T16:56:44.539Z"
   },
   {
    "duration": 12,
    "start_time": "2023-08-03T16:56:44.547Z"
   },
   {
    "duration": 17,
    "start_time": "2023-08-03T16:56:44.560Z"
   },
   {
    "duration": 10,
    "start_time": "2023-08-03T16:56:44.579Z"
   },
   {
    "duration": 44,
    "start_time": "2023-08-03T16:56:44.591Z"
   },
   {
    "duration": 18,
    "start_time": "2023-08-03T16:56:44.637Z"
   },
   {
    "duration": 18,
    "start_time": "2023-08-03T16:56:44.657Z"
   },
   {
    "duration": 22,
    "start_time": "2023-08-03T16:56:44.677Z"
   },
   {
    "duration": 11,
    "start_time": "2023-08-03T16:56:44.702Z"
   },
   {
    "duration": 24,
    "start_time": "2023-08-03T16:56:44.715Z"
   },
   {
    "duration": 244,
    "start_time": "2023-08-03T16:56:44.741Z"
   },
   {
    "duration": 2090,
    "start_time": "2023-08-03T16:56:44.987Z"
   },
   {
    "duration": 99,
    "start_time": "2023-08-03T16:56:47.081Z"
   },
   {
    "duration": 0,
    "start_time": "2023-08-03T16:56:47.182Z"
   },
   {
    "duration": 0,
    "start_time": "2023-08-03T16:56:47.183Z"
   },
   {
    "duration": 0,
    "start_time": "2023-08-03T16:56:47.184Z"
   },
   {
    "duration": 0,
    "start_time": "2023-08-03T16:56:47.185Z"
   },
   {
    "duration": 0,
    "start_time": "2023-08-03T16:56:47.186Z"
   },
   {
    "duration": 0,
    "start_time": "2023-08-03T16:56:47.188Z"
   },
   {
    "duration": 0,
    "start_time": "2023-08-03T16:56:47.189Z"
   },
   {
    "duration": 0,
    "start_time": "2023-08-03T16:56:47.190Z"
   },
   {
    "duration": 28,
    "start_time": "2023-08-03T16:56:56.507Z"
   },
   {
    "duration": 14,
    "start_time": "2023-08-03T16:57:29.308Z"
   },
   {
    "duration": 1461,
    "start_time": "2023-08-03T16:57:40.212Z"
   },
   {
    "duration": 436,
    "start_time": "2023-08-03T16:57:41.675Z"
   },
   {
    "duration": 315,
    "start_time": "2023-08-03T16:57:42.113Z"
   },
   {
    "duration": 84,
    "start_time": "2023-08-03T16:57:42.430Z"
   },
   {
    "duration": 77,
    "start_time": "2023-08-03T16:57:42.516Z"
   },
   {
    "duration": 22,
    "start_time": "2023-08-03T16:57:42.595Z"
   },
   {
    "duration": 81,
    "start_time": "2023-08-03T16:57:42.619Z"
   },
   {
    "duration": 15,
    "start_time": "2023-08-03T16:57:42.701Z"
   },
   {
    "duration": 67,
    "start_time": "2023-08-03T16:57:42.718Z"
   },
   {
    "duration": 11,
    "start_time": "2023-08-03T16:57:42.787Z"
   },
   {
    "duration": 6,
    "start_time": "2023-08-03T16:57:42.800Z"
   },
   {
    "duration": 9,
    "start_time": "2023-08-03T16:57:42.808Z"
   },
   {
    "duration": 21,
    "start_time": "2023-08-03T16:57:42.819Z"
   },
   {
    "duration": 21,
    "start_time": "2023-08-03T16:57:42.842Z"
   },
   {
    "duration": 11,
    "start_time": "2023-08-03T16:57:42.865Z"
   },
   {
    "duration": 7,
    "start_time": "2023-08-03T16:57:42.877Z"
   },
   {
    "duration": 147,
    "start_time": "2023-08-03T16:57:42.886Z"
   },
   {
    "duration": 20,
    "start_time": "2023-08-03T16:57:43.035Z"
   },
   {
    "duration": 20,
    "start_time": "2023-08-03T16:57:43.057Z"
   },
   {
    "duration": 5,
    "start_time": "2023-08-03T16:57:43.079Z"
   },
   {
    "duration": 27,
    "start_time": "2023-08-03T16:57:43.086Z"
   },
   {
    "duration": 10,
    "start_time": "2023-08-03T16:57:43.114Z"
   },
   {
    "duration": 9,
    "start_time": "2023-08-03T16:57:43.126Z"
   },
   {
    "duration": 16,
    "start_time": "2023-08-03T16:57:43.137Z"
   },
   {
    "duration": 23,
    "start_time": "2023-08-03T16:57:43.154Z"
   },
   {
    "duration": 16,
    "start_time": "2023-08-03T16:57:43.179Z"
   },
   {
    "duration": 16,
    "start_time": "2023-08-03T16:57:43.197Z"
   },
   {
    "duration": 4,
    "start_time": "2023-08-03T16:57:43.217Z"
   },
   {
    "duration": 5,
    "start_time": "2023-08-03T16:57:43.223Z"
   },
   {
    "duration": 5,
    "start_time": "2023-08-03T16:57:43.230Z"
   },
   {
    "duration": 24,
    "start_time": "2023-08-03T16:57:43.237Z"
   },
   {
    "duration": 13,
    "start_time": "2023-08-03T16:57:43.262Z"
   },
   {
    "duration": 5,
    "start_time": "2023-08-03T16:57:43.276Z"
   },
   {
    "duration": 27,
    "start_time": "2023-08-03T16:57:43.283Z"
   },
   {
    "duration": 21,
    "start_time": "2023-08-03T16:57:43.312Z"
   },
   {
    "duration": 7,
    "start_time": "2023-08-03T16:57:43.335Z"
   },
   {
    "duration": 4,
    "start_time": "2023-08-03T16:57:43.343Z"
   },
   {
    "duration": 6,
    "start_time": "2023-08-03T16:57:43.348Z"
   },
   {
    "duration": 228,
    "start_time": "2023-08-03T16:57:43.355Z"
   },
   {
    "duration": 2201,
    "start_time": "2023-08-03T16:57:43.674Z"
   },
   {
    "duration": 205,
    "start_time": "2023-08-03T16:57:45.877Z"
   },
   {
    "duration": 0,
    "start_time": "2023-08-03T16:57:46.083Z"
   },
   {
    "duration": 0,
    "start_time": "2023-08-03T16:57:46.085Z"
   },
   {
    "duration": 0,
    "start_time": "2023-08-03T16:57:46.086Z"
   },
   {
    "duration": 0,
    "start_time": "2023-08-03T16:57:46.087Z"
   },
   {
    "duration": 0,
    "start_time": "2023-08-03T16:57:46.088Z"
   },
   {
    "duration": 0,
    "start_time": "2023-08-03T16:57:46.090Z"
   },
   {
    "duration": 0,
    "start_time": "2023-08-03T16:57:46.091Z"
   },
   {
    "duration": 0,
    "start_time": "2023-08-03T16:57:46.092Z"
   },
   {
    "duration": 8,
    "start_time": "2023-08-03T17:37:34.026Z"
   },
   {
    "duration": 1397,
    "start_time": "2023-08-03T17:37:43.232Z"
   },
   {
    "duration": 418,
    "start_time": "2023-08-03T17:37:44.631Z"
   },
   {
    "duration": 306,
    "start_time": "2023-08-03T17:37:45.051Z"
   },
   {
    "duration": 76,
    "start_time": "2023-08-03T17:37:45.359Z"
   },
   {
    "duration": 68,
    "start_time": "2023-08-03T17:37:45.437Z"
   },
   {
    "duration": 16,
    "start_time": "2023-08-03T17:37:45.506Z"
   },
   {
    "duration": 71,
    "start_time": "2023-08-03T17:37:45.524Z"
   },
   {
    "duration": 14,
    "start_time": "2023-08-03T17:37:45.597Z"
   },
   {
    "duration": 41,
    "start_time": "2023-08-03T17:37:45.613Z"
   },
   {
    "duration": 36,
    "start_time": "2023-08-03T17:37:45.656Z"
   },
   {
    "duration": 9,
    "start_time": "2023-08-03T17:37:45.693Z"
   },
   {
    "duration": 20,
    "start_time": "2023-08-03T17:37:45.703Z"
   },
   {
    "duration": 24,
    "start_time": "2023-08-03T17:37:45.724Z"
   },
   {
    "duration": 8,
    "start_time": "2023-08-03T17:37:45.750Z"
   },
   {
    "duration": 6,
    "start_time": "2023-08-03T17:37:45.759Z"
   },
   {
    "duration": 4,
    "start_time": "2023-08-03T17:37:45.767Z"
   },
   {
    "duration": 123,
    "start_time": "2023-08-03T17:37:45.772Z"
   },
   {
    "duration": 19,
    "start_time": "2023-08-03T17:37:45.896Z"
   },
   {
    "duration": 7,
    "start_time": "2023-08-03T17:37:45.917Z"
   },
   {
    "duration": 16,
    "start_time": "2023-08-03T17:37:45.925Z"
   },
   {
    "duration": 16,
    "start_time": "2023-08-03T17:37:45.943Z"
   },
   {
    "duration": 111,
    "start_time": "2023-08-03T17:38:15.539Z"
   },
   {
    "duration": 24,
    "start_time": "2023-08-03T17:38:20.260Z"
   },
   {
    "duration": 15,
    "start_time": "2023-08-03T17:38:33.100Z"
   },
   {
    "duration": 17,
    "start_time": "2023-08-03T17:52:47.521Z"
   },
   {
    "duration": 28,
    "start_time": "2023-08-03T17:52:53.574Z"
   },
   {
    "duration": 1655,
    "start_time": "2023-08-03T17:53:29.505Z"
   },
   {
    "duration": 455,
    "start_time": "2023-08-03T17:53:31.163Z"
   },
   {
    "duration": 333,
    "start_time": "2023-08-03T17:53:31.620Z"
   },
   {
    "duration": 154,
    "start_time": "2023-08-03T17:53:31.955Z"
   },
   {
    "duration": 195,
    "start_time": "2023-08-03T17:53:32.111Z"
   },
   {
    "duration": 19,
    "start_time": "2023-08-03T17:53:32.307Z"
   },
   {
    "duration": 139,
    "start_time": "2023-08-03T17:53:32.382Z"
   },
   {
    "duration": 79,
    "start_time": "2023-08-03T17:53:32.523Z"
   },
   {
    "duration": 113,
    "start_time": "2023-08-03T17:53:32.604Z"
   },
   {
    "duration": 77,
    "start_time": "2023-08-03T17:53:32.719Z"
   },
   {
    "duration": 7,
    "start_time": "2023-08-03T17:53:32.798Z"
   },
   {
    "duration": 12,
    "start_time": "2023-08-03T17:53:32.807Z"
   },
   {
    "duration": 12,
    "start_time": "2023-08-03T17:53:32.821Z"
   },
   {
    "duration": 17,
    "start_time": "2023-08-03T17:53:32.881Z"
   },
   {
    "duration": 5,
    "start_time": "2023-08-03T17:53:32.900Z"
   },
   {
    "duration": 19,
    "start_time": "2023-08-03T17:53:32.907Z"
   },
   {
    "duration": 360,
    "start_time": "2023-08-03T17:53:32.928Z"
   },
   {
    "duration": 23,
    "start_time": "2023-08-03T17:53:33.291Z"
   },
   {
    "duration": 62,
    "start_time": "2023-08-03T17:53:33.316Z"
   },
   {
    "duration": 11,
    "start_time": "2023-08-03T17:53:33.380Z"
   },
   {
    "duration": 131,
    "start_time": "2023-08-03T17:53:33.393Z"
   },
   {
    "duration": 5,
    "start_time": "2023-08-03T17:53:33.526Z"
   },
   {
    "duration": 2213,
    "start_time": "2023-08-03T17:53:33.577Z"
   },
   {
    "duration": 0,
    "start_time": "2023-08-03T17:53:35.793Z"
   },
   {
    "duration": 0,
    "start_time": "2023-08-03T17:53:35.794Z"
   },
   {
    "duration": 0,
    "start_time": "2023-08-03T17:53:35.795Z"
   },
   {
    "duration": 0,
    "start_time": "2023-08-03T17:53:35.796Z"
   },
   {
    "duration": 0,
    "start_time": "2023-08-03T17:53:35.797Z"
   },
   {
    "duration": 0,
    "start_time": "2023-08-03T17:53:35.799Z"
   },
   {
    "duration": 0,
    "start_time": "2023-08-03T17:53:35.800Z"
   },
   {
    "duration": 0,
    "start_time": "2023-08-03T17:53:35.801Z"
   },
   {
    "duration": 0,
    "start_time": "2023-08-03T17:53:35.802Z"
   },
   {
    "duration": 0,
    "start_time": "2023-08-03T17:53:35.803Z"
   },
   {
    "duration": 0,
    "start_time": "2023-08-03T17:53:35.804Z"
   },
   {
    "duration": 0,
    "start_time": "2023-08-03T17:53:35.805Z"
   },
   {
    "duration": 0,
    "start_time": "2023-08-03T17:53:35.806Z"
   },
   {
    "duration": 0,
    "start_time": "2023-08-03T17:53:35.807Z"
   },
   {
    "duration": 0,
    "start_time": "2023-08-03T17:53:35.808Z"
   },
   {
    "duration": 0,
    "start_time": "2023-08-03T17:53:35.813Z"
   },
   {
    "duration": 0,
    "start_time": "2023-08-03T17:53:35.815Z"
   },
   {
    "duration": 0,
    "start_time": "2023-08-03T17:53:35.816Z"
   },
   {
    "duration": 0,
    "start_time": "2023-08-03T17:53:35.817Z"
   },
   {
    "duration": 0,
    "start_time": "2023-08-03T17:53:35.819Z"
   },
   {
    "duration": 0,
    "start_time": "2023-08-03T17:53:35.820Z"
   },
   {
    "duration": 0,
    "start_time": "2023-08-03T17:53:35.822Z"
   },
   {
    "duration": 0,
    "start_time": "2023-08-03T17:53:35.823Z"
   },
   {
    "duration": 17,
    "start_time": "2023-08-03T17:55:16.224Z"
   },
   {
    "duration": 14,
    "start_time": "2023-08-03T17:55:21.458Z"
   },
   {
    "duration": 9,
    "start_time": "2023-08-03T17:55:36.928Z"
   },
   {
    "duration": 5,
    "start_time": "2023-08-03T17:55:40.012Z"
   },
   {
    "duration": 4,
    "start_time": "2023-08-03T17:55:49.928Z"
   },
   {
    "duration": 1595,
    "start_time": "2023-08-03T17:56:17.874Z"
   },
   {
    "duration": 478,
    "start_time": "2023-08-03T17:56:19.471Z"
   },
   {
    "duration": 377,
    "start_time": "2023-08-03T17:56:19.951Z"
   },
   {
    "duration": 103,
    "start_time": "2023-08-03T17:56:20.331Z"
   },
   {
    "duration": 121,
    "start_time": "2023-08-03T17:56:20.436Z"
   },
   {
    "duration": 37,
    "start_time": "2023-08-03T17:56:20.559Z"
   },
   {
    "duration": 93,
    "start_time": "2023-08-03T17:56:20.597Z"
   },
   {
    "duration": 17,
    "start_time": "2023-08-03T17:56:20.692Z"
   },
   {
    "duration": 47,
    "start_time": "2023-08-03T17:56:20.710Z"
   },
   {
    "duration": 33,
    "start_time": "2023-08-03T17:56:20.760Z"
   },
   {
    "duration": 43,
    "start_time": "2023-08-03T17:56:20.794Z"
   },
   {
    "duration": 19,
    "start_time": "2023-08-03T17:56:20.839Z"
   },
   {
    "duration": 13,
    "start_time": "2023-08-03T17:56:20.860Z"
   },
   {
    "duration": 22,
    "start_time": "2023-08-03T17:56:20.887Z"
   },
   {
    "duration": 8,
    "start_time": "2023-08-03T17:56:20.911Z"
   },
   {
    "duration": 9,
    "start_time": "2023-08-03T17:56:20.921Z"
   },
   {
    "duration": 163,
    "start_time": "2023-08-03T17:56:20.932Z"
   },
   {
    "duration": 21,
    "start_time": "2023-08-03T17:56:21.097Z"
   },
   {
    "duration": 29,
    "start_time": "2023-08-03T17:56:21.119Z"
   },
   {
    "duration": 8,
    "start_time": "2023-08-03T17:56:21.150Z"
   },
   {
    "duration": 26,
    "start_time": "2023-08-03T17:56:21.160Z"
   },
   {
    "duration": 31,
    "start_time": "2023-08-03T17:56:21.192Z"
   },
   {
    "duration": 31,
    "start_time": "2023-08-03T17:56:21.225Z"
   },
   {
    "duration": 109,
    "start_time": "2023-08-03T17:58:31.423Z"
   },
   {
    "duration": 108,
    "start_time": "2023-08-03T17:58:44.120Z"
   },
   {
    "duration": 131,
    "start_time": "2023-08-03T17:58:59.273Z"
   },
   {
    "duration": 15,
    "start_time": "2023-08-03T17:59:25.338Z"
   },
   {
    "duration": 2300,
    "start_time": "2023-08-03T18:02:01.363Z"
   },
   {
    "duration": 8,
    "start_time": "2023-08-03T18:02:24.415Z"
   },
   {
    "duration": 18,
    "start_time": "2023-08-03T18:02:30.962Z"
   },
   {
    "duration": 1510,
    "start_time": "2023-08-03T18:02:40.900Z"
   },
   {
    "duration": 441,
    "start_time": "2023-08-03T18:02:42.412Z"
   },
   {
    "duration": 319,
    "start_time": "2023-08-03T18:02:42.854Z"
   },
   {
    "duration": 80,
    "start_time": "2023-08-03T18:02:43.176Z"
   },
   {
    "duration": 79,
    "start_time": "2023-08-03T18:02:43.259Z"
   },
   {
    "duration": 18,
    "start_time": "2023-08-03T18:02:43.340Z"
   },
   {
    "duration": 74,
    "start_time": "2023-08-03T18:02:43.374Z"
   },
   {
    "duration": 34,
    "start_time": "2023-08-03T18:02:43.450Z"
   },
   {
    "duration": 47,
    "start_time": "2023-08-03T18:02:43.489Z"
   },
   {
    "duration": 15,
    "start_time": "2023-08-03T18:02:43.537Z"
   },
   {
    "duration": 23,
    "start_time": "2023-08-03T18:02:43.553Z"
   },
   {
    "duration": 8,
    "start_time": "2023-08-03T18:02:43.579Z"
   },
   {
    "duration": 9,
    "start_time": "2023-08-03T18:02:43.588Z"
   },
   {
    "duration": 11,
    "start_time": "2023-08-03T18:02:43.599Z"
   },
   {
    "duration": 4,
    "start_time": "2023-08-03T18:02:43.612Z"
   },
   {
    "duration": 19,
    "start_time": "2023-08-03T18:02:43.618Z"
   },
   {
    "duration": 136,
    "start_time": "2023-08-03T18:02:43.638Z"
   },
   {
    "duration": 33,
    "start_time": "2023-08-03T18:02:43.776Z"
   },
   {
    "duration": 8,
    "start_time": "2023-08-03T18:02:43.810Z"
   },
   {
    "duration": 15,
    "start_time": "2023-08-03T18:02:43.819Z"
   },
   {
    "duration": 11,
    "start_time": "2023-08-03T18:02:43.836Z"
   },
   {
    "duration": 12,
    "start_time": "2023-08-03T18:02:43.849Z"
   },
   {
    "duration": 17,
    "start_time": "2023-08-03T18:02:43.863Z"
   },
   {
    "duration": 10,
    "start_time": "2023-08-03T18:02:45.424Z"
   },
   {
    "duration": 4,
    "start_time": "2023-08-03T18:02:46.407Z"
   },
   {
    "duration": 1634,
    "start_time": "2023-08-03T18:04:30.001Z"
   },
   {
    "duration": 441,
    "start_time": "2023-08-03T18:04:31.637Z"
   },
   {
    "duration": 330,
    "start_time": "2023-08-03T18:04:32.080Z"
   },
   {
    "duration": 93,
    "start_time": "2023-08-03T18:04:32.412Z"
   },
   {
    "duration": 93,
    "start_time": "2023-08-03T18:04:32.508Z"
   },
   {
    "duration": 22,
    "start_time": "2023-08-03T18:04:32.602Z"
   },
   {
    "duration": 96,
    "start_time": "2023-08-03T18:04:32.626Z"
   },
   {
    "duration": 25,
    "start_time": "2023-08-03T18:04:32.724Z"
   },
   {
    "duration": 62,
    "start_time": "2023-08-03T18:04:32.751Z"
   },
   {
    "duration": 12,
    "start_time": "2023-08-03T18:04:32.815Z"
   },
   {
    "duration": 28,
    "start_time": "2023-08-03T18:04:32.829Z"
   },
   {
    "duration": 34,
    "start_time": "2023-08-03T18:04:32.859Z"
   },
   {
    "duration": 77,
    "start_time": "2023-08-03T18:04:32.894Z"
   },
   {
    "duration": 21,
    "start_time": "2023-08-03T18:04:32.974Z"
   },
   {
    "duration": 30,
    "start_time": "2023-08-03T18:04:32.996Z"
   },
   {
    "duration": 16,
    "start_time": "2023-08-03T18:04:33.028Z"
   },
   {
    "duration": 155,
    "start_time": "2023-08-03T18:04:33.046Z"
   },
   {
    "duration": 19,
    "start_time": "2023-08-03T18:04:33.203Z"
   },
   {
    "duration": 7,
    "start_time": "2023-08-03T18:04:33.223Z"
   },
   {
    "duration": 12,
    "start_time": "2023-08-03T18:04:33.232Z"
   },
   {
    "duration": 19,
    "start_time": "2023-08-03T18:04:33.246Z"
   },
   {
    "duration": 11,
    "start_time": "2023-08-03T18:04:33.274Z"
   },
   {
    "duration": 17,
    "start_time": "2023-08-03T18:04:33.287Z"
   },
   {
    "duration": 15,
    "start_time": "2023-08-03T18:04:35.199Z"
   },
   {
    "duration": 5,
    "start_time": "2023-08-03T18:04:35.907Z"
   },
   {
    "duration": 7,
    "start_time": "2023-08-03T18:05:08.259Z"
   },
   {
    "duration": 5,
    "start_time": "2023-08-03T18:05:08.872Z"
   },
   {
    "duration": 7,
    "start_time": "2023-08-03T18:05:46.564Z"
   },
   {
    "duration": 5,
    "start_time": "2023-08-03T18:05:47.203Z"
   },
   {
    "duration": 6,
    "start_time": "2023-08-03T18:05:47.670Z"
   },
   {
    "duration": 5,
    "start_time": "2023-08-03T18:05:48.523Z"
   },
   {
    "duration": 6,
    "start_time": "2023-08-03T18:06:07.423Z"
   },
   {
    "duration": 5,
    "start_time": "2023-08-03T18:06:08.256Z"
   },
   {
    "duration": 6,
    "start_time": "2023-08-03T18:06:08.766Z"
   },
   {
    "duration": 5,
    "start_time": "2023-08-03T18:06:09.231Z"
   },
   {
    "duration": 6,
    "start_time": "2023-08-03T18:08:40.261Z"
   },
   {
    "duration": 1982,
    "start_time": "2023-08-03T18:08:41.099Z"
   },
   {
    "duration": 5,
    "start_time": "2023-08-03T18:09:14.263Z"
   },
   {
    "duration": 4,
    "start_time": "2023-08-03T18:09:15.019Z"
   },
   {
    "duration": 6,
    "start_time": "2023-08-03T18:09:15.662Z"
   },
   {
    "duration": 4,
    "start_time": "2023-08-03T18:09:16.558Z"
   },
   {
    "duration": 3,
    "start_time": "2023-08-03T18:09:39.623Z"
   },
   {
    "duration": 3,
    "start_time": "2023-08-03T18:09:43.055Z"
   },
   {
    "duration": 1382,
    "start_time": "2023-08-03T18:14:31.735Z"
   },
   {
    "duration": 391,
    "start_time": "2023-08-03T18:14:33.119Z"
   },
   {
    "duration": 293,
    "start_time": "2023-08-03T18:14:33.512Z"
   },
   {
    "duration": 93,
    "start_time": "2023-08-03T18:14:33.806Z"
   },
   {
    "duration": 87,
    "start_time": "2023-08-03T18:14:33.902Z"
   },
   {
    "duration": 20,
    "start_time": "2023-08-03T18:14:33.991Z"
   },
   {
    "duration": 81,
    "start_time": "2023-08-03T18:14:34.012Z"
   },
   {
    "duration": 17,
    "start_time": "2023-08-03T18:14:34.095Z"
   },
   {
    "duration": 41,
    "start_time": "2023-08-03T18:14:34.113Z"
   },
   {
    "duration": 29,
    "start_time": "2023-08-03T18:14:34.155Z"
   },
   {
    "duration": 5,
    "start_time": "2023-08-03T18:14:34.185Z"
   },
   {
    "duration": 13,
    "start_time": "2023-08-03T18:14:34.191Z"
   },
   {
    "duration": 12,
    "start_time": "2023-08-03T18:14:34.206Z"
   },
   {
    "duration": 9,
    "start_time": "2023-08-03T18:14:34.220Z"
   },
   {
    "duration": 8,
    "start_time": "2023-08-03T18:14:34.230Z"
   },
   {
    "duration": 16,
    "start_time": "2023-08-03T18:14:34.239Z"
   },
   {
    "duration": 130,
    "start_time": "2023-08-03T18:14:34.257Z"
   },
   {
    "duration": 19,
    "start_time": "2023-08-03T18:14:34.388Z"
   },
   {
    "duration": 7,
    "start_time": "2023-08-03T18:14:34.408Z"
   },
   {
    "duration": 14,
    "start_time": "2023-08-03T18:14:34.417Z"
   },
   {
    "duration": 18,
    "start_time": "2023-08-03T18:14:34.432Z"
   },
   {
    "duration": 16,
    "start_time": "2023-08-03T18:14:34.451Z"
   },
   {
    "duration": 11,
    "start_time": "2023-08-03T18:14:34.468Z"
   },
   {
    "duration": 16,
    "start_time": "2023-08-03T18:16:05.943Z"
   },
   {
    "duration": 4,
    "start_time": "2023-08-03T18:16:07.014Z"
   },
   {
    "duration": 8,
    "start_time": "2023-08-03T18:16:07.543Z"
   },
   {
    "duration": 4,
    "start_time": "2023-08-03T18:16:09.526Z"
   },
   {
    "duration": 13,
    "start_time": "2023-08-03T18:16:18.163Z"
   },
   {
    "duration": 4,
    "start_time": "2023-08-03T18:16:18.695Z"
   },
   {
    "duration": 13,
    "start_time": "2023-08-03T18:18:57.335Z"
   },
   {
    "duration": 7,
    "start_time": "2023-08-03T18:20:42.794Z"
   },
   {
    "duration": 5,
    "start_time": "2023-08-03T18:22:10.102Z"
   },
   {
    "duration": 5,
    "start_time": "2023-08-03T18:22:30.038Z"
   },
   {
    "duration": 7,
    "start_time": "2023-08-03T18:22:30.406Z"
   },
   {
    "duration": 4,
    "start_time": "2023-08-03T18:22:30.827Z"
   },
   {
    "duration": 6,
    "start_time": "2023-08-03T18:22:31.227Z"
   },
   {
    "duration": 5,
    "start_time": "2023-08-03T18:22:32.660Z"
   },
   {
    "duration": 4,
    "start_time": "2023-08-03T18:22:33.055Z"
   },
   {
    "duration": 4,
    "start_time": "2023-08-03T18:22:33.460Z"
   },
   {
    "duration": 6,
    "start_time": "2023-08-03T18:22:33.846Z"
   },
   {
    "duration": 5,
    "start_time": "2023-08-03T18:22:35.919Z"
   },
   {
    "duration": 5,
    "start_time": "2023-08-03T18:22:36.402Z"
   },
   {
    "duration": 5,
    "start_time": "2023-08-03T18:22:36.798Z"
   },
   {
    "duration": 5,
    "start_time": "2023-08-03T18:22:37.226Z"
   },
   {
    "duration": 3,
    "start_time": "2023-08-03T18:22:39.152Z"
   },
   {
    "duration": 3,
    "start_time": "2023-08-03T18:22:40.063Z"
   },
   {
    "duration": 187,
    "start_time": "2023-08-03T18:22:48.802Z"
   },
   {
    "duration": 5,
    "start_time": "2023-08-03T18:23:54.818Z"
   },
   {
    "duration": 5,
    "start_time": "2023-08-03T18:24:01.935Z"
   },
   {
    "duration": 1509,
    "start_time": "2023-08-03T18:24:22.020Z"
   },
   {
    "duration": 463,
    "start_time": "2023-08-03T18:24:23.531Z"
   },
   {
    "duration": 299,
    "start_time": "2023-08-03T18:24:23.996Z"
   },
   {
    "duration": 76,
    "start_time": "2023-08-03T18:24:24.297Z"
   },
   {
    "duration": 70,
    "start_time": "2023-08-03T18:24:24.375Z"
   },
   {
    "duration": 45,
    "start_time": "2023-08-03T18:24:24.447Z"
   },
   {
    "duration": 80,
    "start_time": "2023-08-03T18:24:24.494Z"
   },
   {
    "duration": 19,
    "start_time": "2023-08-03T18:24:24.576Z"
   },
   {
    "duration": 50,
    "start_time": "2023-08-03T18:24:24.597Z"
   },
   {
    "duration": 17,
    "start_time": "2023-08-03T18:24:24.674Z"
   },
   {
    "duration": 6,
    "start_time": "2023-08-03T18:24:24.693Z"
   },
   {
    "duration": 6,
    "start_time": "2023-08-03T18:24:24.700Z"
   },
   {
    "duration": 3,
    "start_time": "2023-08-03T18:24:24.708Z"
   },
   {
    "duration": 13,
    "start_time": "2023-08-03T18:24:24.712Z"
   },
   {
    "duration": 6,
    "start_time": "2023-08-03T18:24:24.727Z"
   },
   {
    "duration": 21,
    "start_time": "2023-08-03T18:24:24.734Z"
   },
   {
    "duration": 143,
    "start_time": "2023-08-03T18:24:24.756Z"
   },
   {
    "duration": 21,
    "start_time": "2023-08-03T18:24:24.900Z"
   },
   {
    "duration": 8,
    "start_time": "2023-08-03T18:24:24.923Z"
   },
   {
    "duration": 8,
    "start_time": "2023-08-03T18:24:24.933Z"
   },
   {
    "duration": 31,
    "start_time": "2023-08-03T18:24:24.943Z"
   },
   {
    "duration": 16,
    "start_time": "2023-08-03T18:24:24.976Z"
   },
   {
    "duration": 17,
    "start_time": "2023-08-03T18:24:24.994Z"
   },
   {
    "duration": 21,
    "start_time": "2023-08-03T18:24:25.013Z"
   },
   {
    "duration": 12,
    "start_time": "2023-08-03T18:24:25.036Z"
   },
   {
    "duration": 15,
    "start_time": "2023-08-03T18:24:25.050Z"
   },
   {
    "duration": 5,
    "start_time": "2023-08-03T18:24:25.067Z"
   },
   {
    "duration": 32,
    "start_time": "2023-08-03T18:24:25.076Z"
   },
   {
    "duration": 5,
    "start_time": "2023-08-03T18:24:25.110Z"
   },
   {
    "duration": 12,
    "start_time": "2023-08-03T18:24:25.117Z"
   },
   {
    "duration": 8,
    "start_time": "2023-08-03T18:24:25.131Z"
   },
   {
    "duration": 6,
    "start_time": "2023-08-03T18:24:25.140Z"
   },
   {
    "duration": 11,
    "start_time": "2023-08-03T18:24:25.147Z"
   },
   {
    "duration": 4,
    "start_time": "2023-08-03T18:24:25.161Z"
   },
   {
    "duration": 7,
    "start_time": "2023-08-03T18:24:25.167Z"
   },
   {
    "duration": 5,
    "start_time": "2023-08-03T18:24:25.176Z"
   },
   {
    "duration": 5,
    "start_time": "2023-08-03T18:24:25.182Z"
   },
   {
    "duration": 5,
    "start_time": "2023-08-03T18:24:25.188Z"
   },
   {
    "duration": 6,
    "start_time": "2023-08-03T18:24:25.194Z"
   },
   {
    "duration": 4,
    "start_time": "2023-08-03T18:24:25.201Z"
   },
   {
    "duration": 6,
    "start_time": "2023-08-03T18:24:25.206Z"
   },
   {
    "duration": 6,
    "start_time": "2023-08-03T18:24:25.213Z"
   },
   {
    "duration": 5,
    "start_time": "2023-08-03T18:24:25.221Z"
   },
   {
    "duration": 47,
    "start_time": "2023-08-03T18:24:25.227Z"
   },
   {
    "duration": 3,
    "start_time": "2023-08-03T18:24:25.277Z"
   },
   {
    "duration": 6,
    "start_time": "2023-08-03T18:24:25.282Z"
   },
   {
    "duration": 133,
    "start_time": "2023-08-03T18:24:30.198Z"
   },
   {
    "duration": 10,
    "start_time": "2023-08-03T18:25:17.202Z"
   },
   {
    "duration": 5,
    "start_time": "2023-08-03T18:25:27.224Z"
   },
   {
    "duration": 4,
    "start_time": "2023-08-03T18:25:35.842Z"
   },
   {
    "duration": 4,
    "start_time": "2023-08-03T18:25:36.490Z"
   },
   {
    "duration": 1632,
    "start_time": "2023-08-03T18:26:32.033Z"
   },
   {
    "duration": 413,
    "start_time": "2023-08-03T18:26:33.667Z"
   },
   {
    "duration": 295,
    "start_time": "2023-08-03T18:26:34.082Z"
   },
   {
    "duration": 75,
    "start_time": "2023-08-03T18:26:34.379Z"
   },
   {
    "duration": 74,
    "start_time": "2023-08-03T18:26:34.456Z"
   },
   {
    "duration": 18,
    "start_time": "2023-08-03T18:26:34.532Z"
   },
   {
    "duration": 85,
    "start_time": "2023-08-03T18:26:34.552Z"
   },
   {
    "duration": 15,
    "start_time": "2023-08-03T18:26:34.639Z"
   },
   {
    "duration": 65,
    "start_time": "2023-08-03T18:26:34.656Z"
   },
   {
    "duration": 13,
    "start_time": "2023-08-03T18:26:34.722Z"
   },
   {
    "duration": 12,
    "start_time": "2023-08-03T18:26:34.737Z"
   },
   {
    "duration": 7,
    "start_time": "2023-08-03T18:26:34.775Z"
   },
   {
    "duration": 9,
    "start_time": "2023-08-03T18:26:34.783Z"
   },
   {
    "duration": 15,
    "start_time": "2023-08-03T18:26:34.795Z"
   },
   {
    "duration": 9,
    "start_time": "2023-08-03T18:26:34.811Z"
   },
   {
    "duration": 10,
    "start_time": "2023-08-03T18:26:34.821Z"
   },
   {
    "duration": 130,
    "start_time": "2023-08-03T18:26:34.833Z"
   },
   {
    "duration": 28,
    "start_time": "2023-08-03T18:26:34.965Z"
   },
   {
    "duration": 9,
    "start_time": "2023-08-03T18:26:34.995Z"
   },
   {
    "duration": 7,
    "start_time": "2023-08-03T18:26:35.006Z"
   },
   {
    "duration": 9,
    "start_time": "2023-08-03T18:26:35.015Z"
   },
   {
    "duration": 21,
    "start_time": "2023-08-03T18:26:35.026Z"
   },
   {
    "duration": 26,
    "start_time": "2023-08-03T18:26:35.049Z"
   },
   {
    "duration": 14,
    "start_time": "2023-08-03T18:26:35.077Z"
   },
   {
    "duration": 4,
    "start_time": "2023-08-03T18:26:35.093Z"
   },
   {
    "duration": 17,
    "start_time": "2023-08-03T18:26:35.099Z"
   },
   {
    "duration": 3,
    "start_time": "2023-08-03T18:26:35.118Z"
   },
   {
    "duration": 16,
    "start_time": "2023-08-03T18:26:35.122Z"
   },
   {
    "duration": 5,
    "start_time": "2023-08-03T18:26:35.140Z"
   },
   {
    "duration": 35,
    "start_time": "2023-08-03T18:26:35.147Z"
   },
   {
    "duration": 6,
    "start_time": "2023-08-03T18:26:35.184Z"
   },
   {
    "duration": 13,
    "start_time": "2023-08-03T18:26:35.192Z"
   },
   {
    "duration": 15,
    "start_time": "2023-08-03T18:26:35.207Z"
   },
   {
    "duration": 15,
    "start_time": "2023-08-03T18:26:35.224Z"
   },
   {
    "duration": 13,
    "start_time": "2023-08-03T18:26:35.241Z"
   },
   {
    "duration": 37,
    "start_time": "2023-08-03T18:26:35.256Z"
   },
   {
    "duration": 6,
    "start_time": "2023-08-03T18:26:35.295Z"
   },
   {
    "duration": 8,
    "start_time": "2023-08-03T18:26:35.303Z"
   },
   {
    "duration": 10,
    "start_time": "2023-08-03T18:26:35.313Z"
   },
   {
    "duration": 6,
    "start_time": "2023-08-03T18:26:35.325Z"
   },
   {
    "duration": 5,
    "start_time": "2023-08-03T18:26:35.336Z"
   },
   {
    "duration": 9,
    "start_time": "2023-08-03T18:26:35.343Z"
   },
   {
    "duration": 22,
    "start_time": "2023-08-03T18:26:35.354Z"
   },
   {
    "duration": 10,
    "start_time": "2023-08-03T18:26:35.377Z"
   },
   {
    "duration": 8,
    "start_time": "2023-08-03T18:26:35.388Z"
   },
   {
    "duration": 9,
    "start_time": "2023-08-03T18:26:35.397Z"
   },
   {
    "duration": 11,
    "start_time": "2023-08-03T18:26:35.408Z"
   },
   {
    "duration": 6,
    "start_time": "2023-08-03T18:26:35.420Z"
   },
   {
    "duration": 13,
    "start_time": "2023-08-03T18:26:35.427Z"
   },
   {
    "duration": 2,
    "start_time": "2023-08-03T18:26:37.903Z"
   },
   {
    "duration": 83,
    "start_time": "2023-08-03T18:26:38.394Z"
   },
   {
    "duration": 144,
    "start_time": "2023-08-03T18:26:40.294Z"
   },
   {
    "duration": 1423,
    "start_time": "2023-08-03T18:26:55.059Z"
   },
   {
    "duration": 15,
    "start_time": "2023-08-03T18:27:09.758Z"
   },
   {
    "duration": 12,
    "start_time": "2023-08-03T18:27:37.890Z"
   },
   {
    "duration": 3,
    "start_time": "2023-08-03T18:28:08.134Z"
   },
   {
    "duration": 1057,
    "start_time": "2023-08-03T18:28:24.054Z"
   },
   {
    "duration": 4114,
    "start_time": "2023-08-03T18:28:26.026Z"
   },
   {
    "duration": 3,
    "start_time": "2023-08-03T18:29:00.752Z"
   },
   {
    "duration": 62886,
    "start_time": "2023-08-03T18:29:01.540Z"
   },
   {
    "duration": 253814,
    "start_time": "2023-08-03T18:30:15.107Z"
   },
   {
    "duration": 112,
    "start_time": "2023-08-03T18:37:34.467Z"
   },
   {
    "duration": 9,
    "start_time": "2023-08-03T18:44:04.570Z"
   },
   {
    "duration": 9,
    "start_time": "2023-08-03T18:44:24.507Z"
   },
   {
    "duration": 9,
    "start_time": "2023-08-03T18:44:34.572Z"
   },
   {
    "duration": 4,
    "start_time": "2023-08-03T18:44:40.414Z"
   },
   {
    "duration": 9,
    "start_time": "2023-08-03T18:44:45.107Z"
   },
   {
    "duration": 1408,
    "start_time": "2023-08-03T18:45:04.941Z"
   },
   {
    "duration": 401,
    "start_time": "2023-08-03T18:45:06.351Z"
   },
   {
    "duration": 288,
    "start_time": "2023-08-03T18:45:06.754Z"
   },
   {
    "duration": 77,
    "start_time": "2023-08-03T18:45:07.044Z"
   },
   {
    "duration": 75,
    "start_time": "2023-08-03T18:45:07.122Z"
   },
   {
    "duration": 17,
    "start_time": "2023-08-03T18:45:07.198Z"
   },
   {
    "duration": 75,
    "start_time": "2023-08-03T18:45:07.216Z"
   },
   {
    "duration": 15,
    "start_time": "2023-08-03T18:45:07.292Z"
   },
   {
    "duration": 45,
    "start_time": "2023-08-03T18:45:07.309Z"
   },
   {
    "duration": 28,
    "start_time": "2023-08-03T18:45:07.356Z"
   },
   {
    "duration": 6,
    "start_time": "2023-08-03T18:45:07.386Z"
   },
   {
    "duration": 5,
    "start_time": "2023-08-03T18:45:07.393Z"
   },
   {
    "duration": 4,
    "start_time": "2023-08-03T18:45:07.399Z"
   },
   {
    "duration": 18,
    "start_time": "2023-08-03T18:45:07.404Z"
   },
   {
    "duration": 5,
    "start_time": "2023-08-03T18:45:07.424Z"
   },
   {
    "duration": 6,
    "start_time": "2023-08-03T18:45:07.430Z"
   },
   {
    "duration": 138,
    "start_time": "2023-08-03T18:45:07.437Z"
   },
   {
    "duration": 17,
    "start_time": "2023-08-03T18:45:07.577Z"
   },
   {
    "duration": 7,
    "start_time": "2023-08-03T18:45:07.595Z"
   },
   {
    "duration": 12,
    "start_time": "2023-08-03T18:45:07.604Z"
   },
   {
    "duration": 7,
    "start_time": "2023-08-03T18:45:07.617Z"
   },
   {
    "duration": 5,
    "start_time": "2023-08-03T18:45:07.625Z"
   },
   {
    "duration": 6,
    "start_time": "2023-08-03T18:45:07.631Z"
   },
   {
    "duration": 36,
    "start_time": "2023-08-03T18:45:07.638Z"
   },
   {
    "duration": 3,
    "start_time": "2023-08-03T18:45:07.676Z"
   },
   {
    "duration": 8,
    "start_time": "2023-08-03T18:45:07.680Z"
   },
   {
    "duration": 12,
    "start_time": "2023-08-03T18:45:07.690Z"
   },
   {
    "duration": 12,
    "start_time": "2023-08-03T18:45:07.705Z"
   },
   {
    "duration": 7,
    "start_time": "2023-08-03T18:45:07.718Z"
   },
   {
    "duration": 10,
    "start_time": "2023-08-03T18:45:07.726Z"
   },
   {
    "duration": 5,
    "start_time": "2023-08-03T18:45:07.737Z"
   },
   {
    "duration": 6,
    "start_time": "2023-08-03T18:45:07.743Z"
   },
   {
    "duration": 25,
    "start_time": "2023-08-03T18:45:07.751Z"
   },
   {
    "duration": 5,
    "start_time": "2023-08-03T18:45:07.778Z"
   },
   {
    "duration": 10,
    "start_time": "2023-08-03T18:45:07.785Z"
   },
   {
    "duration": 16,
    "start_time": "2023-08-03T18:45:07.796Z"
   },
   {
    "duration": 11,
    "start_time": "2023-08-03T18:45:07.813Z"
   },
   {
    "duration": 20,
    "start_time": "2023-08-03T18:45:07.826Z"
   },
   {
    "duration": 8,
    "start_time": "2023-08-03T18:45:07.848Z"
   },
   {
    "duration": 12,
    "start_time": "2023-08-03T18:45:07.857Z"
   },
   {
    "duration": 6,
    "start_time": "2023-08-03T18:45:07.870Z"
   },
   {
    "duration": 23,
    "start_time": "2023-08-03T18:45:07.877Z"
   },
   {
    "duration": 17,
    "start_time": "2023-08-03T18:45:07.902Z"
   },
   {
    "duration": 4,
    "start_time": "2023-08-03T18:45:07.921Z"
   },
   {
    "duration": 7,
    "start_time": "2023-08-03T18:45:07.926Z"
   },
   {
    "duration": 16,
    "start_time": "2023-08-03T18:45:07.934Z"
   },
   {
    "duration": 22,
    "start_time": "2023-08-03T18:45:07.951Z"
   },
   {
    "duration": 6,
    "start_time": "2023-08-03T18:45:07.974Z"
   },
   {
    "duration": 9,
    "start_time": "2023-08-03T18:45:07.981Z"
   },
   {
    "duration": 107,
    "start_time": "2023-08-03T18:45:09.542Z"
   },
   {
    "duration": 10,
    "start_time": "2023-08-03T18:45:17.127Z"
   },
   {
    "duration": 3,
    "start_time": "2023-08-03T18:45:39.719Z"
   },
   {
    "duration": 24,
    "start_time": "2023-08-03T18:45:42.923Z"
   },
   {
    "duration": 22,
    "start_time": "2023-08-03T18:45:53.509Z"
   },
   {
    "duration": 20,
    "start_time": "2023-08-03T18:46:51.839Z"
   },
   {
    "duration": 27836,
    "start_time": "2023-08-03T18:49:08.639Z"
   },
   {
    "duration": 3,
    "start_time": "2023-08-03T18:49:51.231Z"
   },
   {
    "duration": 14,
    "start_time": "2023-08-03T18:51:05.199Z"
   },
   {
    "duration": 215,
    "start_time": "2023-08-03T18:51:11.661Z"
   },
   {
    "duration": 1541,
    "start_time": "2023-08-03T18:51:14.034Z"
   },
   {
    "duration": 1106588,
    "start_time": "2023-08-03T18:52:58.651Z"
   },
   {
    "duration": 4,
    "start_time": "2023-08-03T19:14:15.709Z"
   },
   {
    "duration": 214,
    "start_time": "2023-08-03T19:15:09.961Z"
   },
   {
    "duration": 846,
    "start_time": "2023-08-03T19:15:18.444Z"
   },
   {
    "duration": 2,
    "start_time": "2023-08-03T19:16:17.404Z"
   },
   {
    "duration": 1474,
    "start_time": "2023-08-03T21:07:43.315Z"
   },
   {
    "duration": 403,
    "start_time": "2023-08-03T21:07:44.790Z"
   },
   {
    "duration": 299,
    "start_time": "2023-08-03T21:07:45.194Z"
   },
   {
    "duration": 80,
    "start_time": "2023-08-03T21:07:45.495Z"
   },
   {
    "duration": 73,
    "start_time": "2023-08-03T21:07:45.577Z"
   },
   {
    "duration": 26,
    "start_time": "2023-08-03T21:07:45.652Z"
   },
   {
    "duration": 68,
    "start_time": "2023-08-03T21:07:45.679Z"
   },
   {
    "duration": 33,
    "start_time": "2023-08-03T21:07:45.748Z"
   },
   {
    "duration": 43,
    "start_time": "2023-08-03T21:07:45.783Z"
   },
   {
    "duration": 12,
    "start_time": "2023-08-03T21:07:45.829Z"
   },
   {
    "duration": 31,
    "start_time": "2023-08-03T21:07:45.843Z"
   },
   {
    "duration": 6,
    "start_time": "2023-08-03T21:07:45.876Z"
   },
   {
    "duration": 9,
    "start_time": "2023-08-03T21:07:45.884Z"
   },
   {
    "duration": 15,
    "start_time": "2023-08-03T21:07:45.895Z"
   },
   {
    "duration": 28,
    "start_time": "2023-08-03T21:07:45.912Z"
   },
   {
    "duration": 17,
    "start_time": "2023-08-03T21:07:45.941Z"
   },
   {
    "duration": 123,
    "start_time": "2023-08-03T21:07:45.959Z"
   },
   {
    "duration": 22,
    "start_time": "2023-08-03T21:07:46.084Z"
   },
   {
    "duration": 8,
    "start_time": "2023-08-03T21:07:46.108Z"
   },
   {
    "duration": 6,
    "start_time": "2023-08-03T21:07:46.117Z"
   },
   {
    "duration": 22,
    "start_time": "2023-08-03T21:07:46.125Z"
   },
   {
    "duration": 25,
    "start_time": "2023-08-03T21:07:46.149Z"
   },
   {
    "duration": 33,
    "start_time": "2023-08-03T21:07:46.175Z"
   },
   {
    "duration": 26,
    "start_time": "2023-08-03T21:07:46.211Z"
   },
   {
    "duration": 4,
    "start_time": "2023-08-03T21:07:46.239Z"
   },
   {
    "duration": 23,
    "start_time": "2023-08-03T21:07:46.245Z"
   },
   {
    "duration": 6,
    "start_time": "2023-08-03T21:07:46.270Z"
   },
   {
    "duration": 21,
    "start_time": "2023-08-03T21:07:46.280Z"
   },
   {
    "duration": 14,
    "start_time": "2023-08-03T21:07:46.303Z"
   },
   {
    "duration": 15,
    "start_time": "2023-08-03T21:07:46.319Z"
   },
   {
    "duration": 10,
    "start_time": "2023-08-03T21:07:46.336Z"
   },
   {
    "duration": 9,
    "start_time": "2023-08-03T21:07:46.347Z"
   },
   {
    "duration": 14,
    "start_time": "2023-08-03T21:07:46.358Z"
   },
   {
    "duration": 7,
    "start_time": "2023-08-03T21:07:46.373Z"
   },
   {
    "duration": 12,
    "start_time": "2023-08-03T21:07:46.381Z"
   },
   {
    "duration": 14,
    "start_time": "2023-08-03T21:07:46.394Z"
   },
   {
    "duration": 13,
    "start_time": "2023-08-03T21:07:46.410Z"
   },
   {
    "duration": 6,
    "start_time": "2023-08-03T21:07:46.424Z"
   },
   {
    "duration": 8,
    "start_time": "2023-08-03T21:07:46.431Z"
   },
   {
    "duration": 5,
    "start_time": "2023-08-03T21:07:46.440Z"
   },
   {
    "duration": 10,
    "start_time": "2023-08-03T21:07:46.446Z"
   },
   {
    "duration": 18,
    "start_time": "2023-08-03T21:07:46.457Z"
   },
   {
    "duration": 6,
    "start_time": "2023-08-03T21:07:46.476Z"
   },
   {
    "duration": 25,
    "start_time": "2023-08-03T21:07:46.484Z"
   },
   {
    "duration": 17,
    "start_time": "2023-08-03T21:07:46.511Z"
   },
   {
    "duration": 11,
    "start_time": "2023-08-03T21:07:46.529Z"
   },
   {
    "duration": 6,
    "start_time": "2023-08-03T21:07:46.541Z"
   },
   {
    "duration": 6,
    "start_time": "2023-08-03T21:07:46.549Z"
   },
   {
    "duration": 10,
    "start_time": "2023-08-03T21:07:46.557Z"
   },
   {
    "duration": 4,
    "start_time": "2023-08-03T21:07:46.569Z"
   },
   {
    "duration": 4,
    "start_time": "2023-08-03T21:07:46.574Z"
   },
   {
    "duration": 98,
    "start_time": "2023-08-03T21:07:46.580Z"
   },
   {
    "duration": 1395,
    "start_time": "2023-08-03T21:07:46.680Z"
   },
   {
    "duration": 3,
    "start_time": "2023-08-03T21:07:48.077Z"
   },
   {
    "duration": 193,
    "start_time": "2023-08-03T21:07:48.082Z"
   },
   {
    "duration": 0,
    "start_time": "2023-08-03T21:07:48.277Z"
   },
   {
    "duration": 0,
    "start_time": "2023-08-03T21:07:48.279Z"
   },
   {
    "duration": 0,
    "start_time": "2023-08-03T21:07:48.280Z"
   },
   {
    "duration": 0,
    "start_time": "2023-08-03T21:07:48.281Z"
   },
   {
    "duration": 0,
    "start_time": "2023-08-03T21:07:48.282Z"
   },
   {
    "duration": 0,
    "start_time": "2023-08-03T21:07:48.283Z"
   },
   {
    "duration": 0,
    "start_time": "2023-08-03T21:07:48.284Z"
   },
   {
    "duration": 2,
    "start_time": "2023-08-03T21:07:55.504Z"
   },
   {
    "duration": 217,
    "start_time": "2023-08-03T21:07:56.497Z"
   },
   {
    "duration": 913,
    "start_time": "2023-08-03T21:07:57.467Z"
   },
   {
    "duration": 8,
    "start_time": "2023-08-03T21:08:00.305Z"
   },
   {
    "duration": 2,
    "start_time": "2023-08-03T21:08:01.419Z"
   },
   {
    "duration": 19656,
    "start_time": "2023-08-03T21:08:01.833Z"
   },
   {
    "duration": 76661,
    "start_time": "2023-08-03T21:08:37.601Z"
   },
   {
    "duration": 28,
    "start_time": "2023-08-03T21:09:57.629Z"
   },
   {
    "duration": 22,
    "start_time": "2023-08-03T21:10:43.276Z"
   },
   {
    "duration": 24,
    "start_time": "2023-08-03T21:10:47.426Z"
   },
   {
    "duration": 461,
    "start_time": "2023-08-03T21:11:09.405Z"
   },
   {
    "duration": 462,
    "start_time": "2023-08-03T21:11:28.358Z"
   },
   {
    "duration": 8,
    "start_time": "2023-08-03T21:12:16.027Z"
   },
   {
    "duration": 5,
    "start_time": "2023-08-03T21:12:23.405Z"
   },
   {
    "duration": 8,
    "start_time": "2023-08-03T21:13:11.104Z"
   },
   {
    "duration": 72,
    "start_time": "2023-08-03T21:13:53.604Z"
   },
   {
    "duration": 7,
    "start_time": "2023-08-03T21:13:55.705Z"
   },
   {
    "duration": 1018,
    "start_time": "2023-08-03T21:14:06.165Z"
   },
   {
    "duration": 12,
    "start_time": "2023-08-03T21:14:16.716Z"
   },
   {
    "duration": 6,
    "start_time": "2023-08-03T21:14:17.661Z"
   },
   {
    "duration": 6,
    "start_time": "2023-08-03T21:14:18.656Z"
   },
   {
    "duration": 7,
    "start_time": "2023-08-03T21:14:19.712Z"
   },
   {
    "duration": 1572,
    "start_time": "2023-08-03T21:17:20.000Z"
   },
   {
    "duration": 413,
    "start_time": "2023-08-03T21:17:21.574Z"
   },
   {
    "duration": 301,
    "start_time": "2023-08-03T21:17:21.989Z"
   },
   {
    "duration": 79,
    "start_time": "2023-08-03T21:17:22.292Z"
   },
   {
    "duration": 74,
    "start_time": "2023-08-03T21:17:22.373Z"
   },
   {
    "duration": 31,
    "start_time": "2023-08-03T21:17:22.448Z"
   },
   {
    "duration": 69,
    "start_time": "2023-08-03T21:17:22.480Z"
   },
   {
    "duration": 39,
    "start_time": "2023-08-03T21:17:22.551Z"
   },
   {
    "duration": 45,
    "start_time": "2023-08-03T21:17:22.592Z"
   },
   {
    "duration": 37,
    "start_time": "2023-08-03T21:17:22.638Z"
   },
   {
    "duration": 7,
    "start_time": "2023-08-03T21:17:22.677Z"
   },
   {
    "duration": 14,
    "start_time": "2023-08-03T21:17:22.685Z"
   },
   {
    "duration": 26,
    "start_time": "2023-08-03T21:17:22.701Z"
   },
   {
    "duration": 17,
    "start_time": "2023-08-03T21:17:22.731Z"
   },
   {
    "duration": 18,
    "start_time": "2023-08-03T21:17:22.750Z"
   },
   {
    "duration": 46,
    "start_time": "2023-08-03T21:17:22.770Z"
   },
   {
    "duration": 141,
    "start_time": "2023-08-03T21:17:22.818Z"
   },
   {
    "duration": 21,
    "start_time": "2023-08-03T21:17:22.962Z"
   },
   {
    "duration": 14,
    "start_time": "2023-08-03T21:17:22.985Z"
   },
   {
    "duration": 35,
    "start_time": "2023-08-03T21:17:23.001Z"
   },
   {
    "duration": 51,
    "start_time": "2023-08-03T21:17:23.038Z"
   },
   {
    "duration": 40,
    "start_time": "2023-08-03T21:17:23.091Z"
   },
   {
    "duration": 28,
    "start_time": "2023-08-03T21:17:23.133Z"
   },
   {
    "duration": 47,
    "start_time": "2023-08-03T21:17:23.163Z"
   },
   {
    "duration": 26,
    "start_time": "2023-08-03T21:17:23.212Z"
   },
   {
    "duration": 24,
    "start_time": "2023-08-03T21:17:23.239Z"
   },
   {
    "duration": 10,
    "start_time": "2023-08-03T21:17:23.265Z"
   },
   {
    "duration": 40,
    "start_time": "2023-08-03T21:17:23.277Z"
   },
   {
    "duration": 19,
    "start_time": "2023-08-03T21:17:23.319Z"
   },
   {
    "duration": 19,
    "start_time": "2023-08-03T21:17:23.340Z"
   },
   {
    "duration": 9,
    "start_time": "2023-08-03T21:17:23.360Z"
   },
   {
    "duration": 16,
    "start_time": "2023-08-03T21:17:23.371Z"
   },
   {
    "duration": 6,
    "start_time": "2023-08-03T21:17:23.389Z"
   },
   {
    "duration": 29,
    "start_time": "2023-08-03T21:17:23.397Z"
   },
   {
    "duration": 20,
    "start_time": "2023-08-03T21:17:23.427Z"
   },
   {
    "duration": 7,
    "start_time": "2023-08-03T21:17:23.448Z"
   },
   {
    "duration": 24,
    "start_time": "2023-08-03T21:17:23.457Z"
   },
   {
    "duration": 14,
    "start_time": "2023-08-03T21:17:23.483Z"
   },
   {
    "duration": 7,
    "start_time": "2023-08-03T21:17:23.498Z"
   },
   {
    "duration": 18,
    "start_time": "2023-08-03T21:17:23.506Z"
   },
   {
    "duration": 5,
    "start_time": "2023-08-03T21:17:23.528Z"
   },
   {
    "duration": 6,
    "start_time": "2023-08-03T21:17:23.535Z"
   },
   {
    "duration": 14,
    "start_time": "2023-08-03T21:17:23.542Z"
   },
   {
    "duration": 5,
    "start_time": "2023-08-03T21:17:23.558Z"
   },
   {
    "duration": 17,
    "start_time": "2023-08-03T21:17:23.564Z"
   },
   {
    "duration": 18,
    "start_time": "2023-08-03T21:17:23.582Z"
   },
   {
    "duration": 25,
    "start_time": "2023-08-03T21:17:23.601Z"
   },
   {
    "duration": 18,
    "start_time": "2023-08-03T21:17:23.628Z"
   },
   {
    "duration": 4,
    "start_time": "2023-08-03T21:17:23.647Z"
   },
   {
    "duration": 10,
    "start_time": "2023-08-03T21:17:23.652Z"
   },
   {
    "duration": 16,
    "start_time": "2023-08-03T21:17:23.664Z"
   },
   {
    "duration": 97,
    "start_time": "2023-08-03T21:17:23.682Z"
   },
   {
    "duration": 1394,
    "start_time": "2023-08-03T21:17:23.781Z"
   },
   {
    "duration": 95,
    "start_time": "2023-08-03T21:17:25.178Z"
   },
   {
    "duration": 5,
    "start_time": "2023-08-03T21:17:25.275Z"
   },
   {
    "duration": 304,
    "start_time": "2023-08-03T21:17:25.282Z"
   },
   {
    "duration": 889,
    "start_time": "2023-08-03T21:17:25.588Z"
   },
   {
    "duration": 3,
    "start_time": "2023-08-03T21:17:26.479Z"
   },
   {
    "duration": 8,
    "start_time": "2023-08-03T21:17:26.484Z"
   },
   {
    "duration": 19374,
    "start_time": "2023-08-03T21:17:26.493Z"
   },
   {
    "duration": 79522,
    "start_time": "2023-08-03T21:17:45.868Z"
   },
   {
    "duration": 88,
    "start_time": "2023-08-03T21:19:05.392Z"
   },
   {
    "duration": 193,
    "start_time": "2023-08-03T21:19:05.482Z"
   },
   {
    "duration": 10,
    "start_time": "2023-08-03T21:19:05.677Z"
   },
   {
    "duration": 2653,
    "start_time": "2023-08-04T13:44:53.628Z"
   },
   {
    "duration": 1066,
    "start_time": "2023-08-04T13:44:56.283Z"
   },
   {
    "duration": 804,
    "start_time": "2023-08-04T13:44:57.350Z"
   },
   {
    "duration": 115,
    "start_time": "2023-08-04T13:44:58.156Z"
   },
   {
    "duration": 61,
    "start_time": "2023-08-04T13:44:58.273Z"
   },
   {
    "duration": 15,
    "start_time": "2023-08-04T13:44:58.369Z"
   },
   {
    "duration": 53,
    "start_time": "2023-08-04T13:44:58.932Z"
   },
   {
    "duration": 14,
    "start_time": "2023-08-04T13:44:59.510Z"
   },
   {
    "duration": 34,
    "start_time": "2023-08-04T13:45:00.248Z"
   },
   {
    "duration": 9,
    "start_time": "2023-08-04T13:45:00.842Z"
   },
   {
    "duration": 7,
    "start_time": "2023-08-04T13:45:06.175Z"
   },
   {
    "duration": 6,
    "start_time": "2023-08-04T13:45:06.938Z"
   },
   {
    "duration": 3,
    "start_time": "2023-08-04T13:45:07.226Z"
   },
   {
    "duration": 7,
    "start_time": "2023-08-04T13:45:07.982Z"
   },
   {
    "duration": 5,
    "start_time": "2023-08-04T13:45:08.815Z"
   },
   {
    "duration": 3,
    "start_time": "2023-08-04T13:47:38.289Z"
   },
   {
    "duration": 4,
    "start_time": "2023-08-04T13:48:00.569Z"
   },
   {
    "duration": 62,
    "start_time": "2023-08-04T13:48:36.847Z"
   },
   {
    "duration": 18,
    "start_time": "2023-08-04T13:48:37.176Z"
   },
   {
    "duration": 6,
    "start_time": "2023-08-04T13:48:39.693Z"
   },
   {
    "duration": 4,
    "start_time": "2023-08-04T13:48:41.885Z"
   },
   {
    "duration": 10,
    "start_time": "2023-08-04T13:48:55.321Z"
   },
   {
    "duration": 3,
    "start_time": "2023-08-04T13:50:07.076Z"
   },
   {
    "duration": 4,
    "start_time": "2023-08-04T13:50:07.496Z"
   },
   {
    "duration": 19,
    "start_time": "2023-08-04T13:50:18.736Z"
   },
   {
    "duration": 3,
    "start_time": "2023-08-04T13:50:18.933Z"
   },
   {
    "duration": 8,
    "start_time": "2023-08-04T13:50:19.202Z"
   },
   {
    "duration": 3,
    "start_time": "2023-08-04T13:50:19.636Z"
   },
   {
    "duration": 7,
    "start_time": "2023-08-04T13:50:49.553Z"
   },
   {
    "duration": 120,
    "start_time": "2023-08-04T13:51:03.260Z"
   },
   {
    "duration": 8,
    "start_time": "2023-08-04T13:51:19.293Z"
   },
   {
    "duration": 8,
    "start_time": "2023-08-04T13:53:12.254Z"
   },
   {
    "duration": 4,
    "start_time": "2023-08-04T13:53:12.511Z"
   },
   {
    "duration": 5,
    "start_time": "2023-08-04T13:53:35.533Z"
   },
   {
    "duration": 5,
    "start_time": "2023-08-04T13:53:38.210Z"
   },
   {
    "duration": 5,
    "start_time": "2023-08-04T13:53:38.374Z"
   },
   {
    "duration": 3,
    "start_time": "2023-08-04T13:53:39.915Z"
   },
   {
    "duration": 4,
    "start_time": "2023-08-04T13:53:54.405Z"
   },
   {
    "duration": 3,
    "start_time": "2023-08-04T13:56:22.440Z"
   },
   {
    "duration": 9,
    "start_time": "2023-08-04T13:56:26.139Z"
   },
   {
    "duration": 5,
    "start_time": "2023-08-04T13:56:26.539Z"
   },
   {
    "duration": 5,
    "start_time": "2023-08-04T13:56:26.779Z"
   },
   {
    "duration": 5,
    "start_time": "2023-08-04T13:56:43.315Z"
   },
   {
    "duration": 5,
    "start_time": "2023-08-04T13:56:43.487Z"
   },
   {
    "duration": 5,
    "start_time": "2023-08-04T13:56:43.650Z"
   },
   {
    "duration": 5,
    "start_time": "2023-08-04T13:56:44.343Z"
   },
   {
    "duration": 1568,
    "start_time": "2023-08-04T16:44:21.589Z"
   },
   {
    "duration": 1082,
    "start_time": "2023-08-04T16:44:23.159Z"
   },
   {
    "duration": 827,
    "start_time": "2023-08-04T16:44:24.243Z"
   },
   {
    "duration": 129,
    "start_time": "2023-08-04T16:44:25.071Z"
   },
   {
    "duration": 65,
    "start_time": "2023-08-04T16:44:25.202Z"
   },
   {
    "duration": 17,
    "start_time": "2023-08-04T16:44:25.269Z"
   },
   {
    "duration": 72,
    "start_time": "2023-08-04T16:44:25.288Z"
   },
   {
    "duration": 29,
    "start_time": "2023-08-04T16:44:25.362Z"
   },
   {
    "duration": 41,
    "start_time": "2023-08-04T16:44:25.393Z"
   },
   {
    "duration": 11,
    "start_time": "2023-08-04T16:44:25.435Z"
   },
   {
    "duration": 6,
    "start_time": "2023-08-04T16:44:25.448Z"
   },
   {
    "duration": 5,
    "start_time": "2023-08-04T16:44:25.455Z"
   },
   {
    "duration": 3,
    "start_time": "2023-08-04T16:44:25.487Z"
   },
   {
    "duration": 9,
    "start_time": "2023-08-04T16:44:25.492Z"
   },
   {
    "duration": 4,
    "start_time": "2023-08-04T16:44:25.502Z"
   },
   {
    "duration": 4,
    "start_time": "2023-08-04T16:44:25.508Z"
   },
   {
    "duration": 4,
    "start_time": "2023-08-04T16:44:25.514Z"
   },
   {
    "duration": 144,
    "start_time": "2023-08-04T16:44:25.520Z"
   },
   {
    "duration": 28,
    "start_time": "2023-08-04T16:44:25.666Z"
   },
   {
    "duration": 7,
    "start_time": "2023-08-04T16:44:25.695Z"
   },
   {
    "duration": 4,
    "start_time": "2023-08-04T16:44:25.704Z"
   },
   {
    "duration": 115,
    "start_time": "2023-08-04T16:44:39.881Z"
   },
   {
    "duration": 7,
    "start_time": "2023-08-04T16:44:51.940Z"
   },
   {
    "duration": 7,
    "start_time": "2023-08-04T16:44:55.124Z"
   },
   {
    "duration": 3,
    "start_time": "2023-08-04T16:44:55.806Z"
   },
   {
    "duration": 100,
    "start_time": "2023-08-04T16:52:11.198Z"
   },
   {
    "duration": 95,
    "start_time": "2023-08-04T16:52:22.658Z"
   },
   {
    "duration": 19,
    "start_time": "2023-08-04T17:06:24.854Z"
   },
   {
    "duration": 3,
    "start_time": "2023-08-04T17:06:43.908Z"
   },
   {
    "duration": 4,
    "start_time": "2023-08-04T17:06:56.940Z"
   },
   {
    "duration": 107,
    "start_time": "2023-08-04T17:07:13.438Z"
   },
   {
    "duration": 15,
    "start_time": "2023-08-04T17:08:17.126Z"
   },
   {
    "duration": 22,
    "start_time": "2023-08-04T17:12:52.054Z"
   },
   {
    "duration": 26,
    "start_time": "2023-08-04T17:13:13.351Z"
   },
   {
    "duration": 13,
    "start_time": "2023-08-04T17:14:59.543Z"
   },
   {
    "duration": 158,
    "start_time": "2023-08-04T17:16:34.116Z"
   },
   {
    "duration": 14,
    "start_time": "2023-08-04T17:16:53.978Z"
   },
   {
    "duration": 17,
    "start_time": "2023-08-04T17:23:54.518Z"
   },
   {
    "duration": 14,
    "start_time": "2023-08-04T17:23:58.751Z"
   },
   {
    "duration": 103,
    "start_time": "2023-08-04T17:24:43.313Z"
   },
   {
    "duration": 18,
    "start_time": "2023-08-04T17:24:47.278Z"
   },
   {
    "duration": 1435,
    "start_time": "2023-08-04T17:25:04.633Z"
   },
   {
    "duration": 376,
    "start_time": "2023-08-04T17:25:06.069Z"
   },
   {
    "duration": 281,
    "start_time": "2023-08-04T17:25:06.447Z"
   },
   {
    "duration": 73,
    "start_time": "2023-08-04T17:25:06.730Z"
   },
   {
    "duration": 68,
    "start_time": "2023-08-04T17:25:06.804Z"
   },
   {
    "duration": 22,
    "start_time": "2023-08-04T17:25:06.874Z"
   },
   {
    "duration": 65,
    "start_time": "2023-08-04T17:25:06.898Z"
   },
   {
    "duration": 32,
    "start_time": "2023-08-04T17:25:06.965Z"
   },
   {
    "duration": 46,
    "start_time": "2023-08-04T17:25:06.998Z"
   },
   {
    "duration": 57,
    "start_time": "2023-08-04T17:25:07.046Z"
   },
   {
    "duration": 6,
    "start_time": "2023-08-04T17:25:07.104Z"
   },
   {
    "duration": 17,
    "start_time": "2023-08-04T17:25:07.112Z"
   },
   {
    "duration": 14,
    "start_time": "2023-08-04T17:25:07.130Z"
   },
   {
    "duration": 15,
    "start_time": "2023-08-04T17:25:07.146Z"
   },
   {
    "duration": 61,
    "start_time": "2023-08-04T17:25:07.163Z"
   },
   {
    "duration": 43,
    "start_time": "2023-08-04T17:25:07.226Z"
   },
   {
    "duration": 57,
    "start_time": "2023-08-04T17:25:07.270Z"
   },
   {
    "duration": 170,
    "start_time": "2023-08-04T17:25:07.329Z"
   },
   {
    "duration": 21,
    "start_time": "2023-08-04T17:25:07.500Z"
   },
   {
    "duration": 34,
    "start_time": "2023-08-04T17:25:07.523Z"
   },
   {
    "duration": 26,
    "start_time": "2023-08-04T17:25:07.559Z"
   },
   {
    "duration": 31,
    "start_time": "2023-08-04T17:25:07.587Z"
   },
   {
    "duration": 26,
    "start_time": "2023-08-04T17:25:07.620Z"
   },
   {
    "duration": 40,
    "start_time": "2023-08-04T17:25:07.647Z"
   },
   {
    "duration": 127,
    "start_time": "2023-08-04T17:25:09.727Z"
   },
   {
    "duration": 7,
    "start_time": "2023-08-04T17:25:12.601Z"
   },
   {
    "duration": 10,
    "start_time": "2023-08-04T17:25:16.789Z"
   },
   {
    "duration": 8,
    "start_time": "2023-08-04T17:25:18.599Z"
   },
   {
    "duration": 11,
    "start_time": "2023-08-04T17:28:06.712Z"
   },
   {
    "duration": 9,
    "start_time": "2023-08-04T17:36:10.279Z"
   },
   {
    "duration": 4,
    "start_time": "2023-08-04T17:36:16.639Z"
   },
   {
    "duration": 14,
    "start_time": "2023-08-04T17:41:45.335Z"
   },
   {
    "duration": 18,
    "start_time": "2023-08-04T17:42:28.678Z"
   },
   {
    "duration": 4,
    "start_time": "2023-08-04T17:42:37.080Z"
   },
   {
    "duration": 28,
    "start_time": "2023-08-04T17:42:57.750Z"
   },
   {
    "duration": 27,
    "start_time": "2023-08-04T17:43:43.976Z"
   },
   {
    "duration": 4,
    "start_time": "2023-08-04T17:43:47.229Z"
   },
   {
    "duration": 19,
    "start_time": "2023-08-04T17:43:59.216Z"
   },
   {
    "duration": 4,
    "start_time": "2023-08-04T17:43:59.783Z"
   },
   {
    "duration": 1471,
    "start_time": "2023-08-04T17:44:10.062Z"
   },
   {
    "duration": 345,
    "start_time": "2023-08-04T17:44:11.535Z"
   },
   {
    "duration": 277,
    "start_time": "2023-08-04T17:44:11.881Z"
   },
   {
    "duration": 79,
    "start_time": "2023-08-04T17:44:12.160Z"
   },
   {
    "duration": 77,
    "start_time": "2023-08-04T17:44:12.242Z"
   },
   {
    "duration": 17,
    "start_time": "2023-08-04T17:44:12.321Z"
   },
   {
    "duration": 85,
    "start_time": "2023-08-04T17:44:12.339Z"
   },
   {
    "duration": 17,
    "start_time": "2023-08-04T17:44:12.425Z"
   },
   {
    "duration": 83,
    "start_time": "2023-08-04T17:44:12.444Z"
   },
   {
    "duration": 18,
    "start_time": "2023-08-04T17:44:12.529Z"
   },
   {
    "duration": 7,
    "start_time": "2023-08-04T17:44:12.548Z"
   },
   {
    "duration": 38,
    "start_time": "2023-08-04T17:44:12.556Z"
   },
   {
    "duration": 4,
    "start_time": "2023-08-04T17:44:12.596Z"
   },
   {
    "duration": 9,
    "start_time": "2023-08-04T17:44:12.604Z"
   },
   {
    "duration": 6,
    "start_time": "2023-08-04T17:44:12.615Z"
   },
   {
    "duration": 6,
    "start_time": "2023-08-04T17:44:12.623Z"
   },
   {
    "duration": 15,
    "start_time": "2023-08-04T17:44:12.631Z"
   },
   {
    "duration": 155,
    "start_time": "2023-08-04T17:44:12.648Z"
   },
   {
    "duration": 23,
    "start_time": "2023-08-04T17:44:12.805Z"
   },
   {
    "duration": 9,
    "start_time": "2023-08-04T17:44:12.830Z"
   },
   {
    "duration": 7,
    "start_time": "2023-08-04T17:44:12.841Z"
   },
   {
    "duration": 7,
    "start_time": "2023-08-04T17:44:12.850Z"
   },
   {
    "duration": 4,
    "start_time": "2023-08-04T17:44:12.888Z"
   },
   {
    "duration": 10,
    "start_time": "2023-08-04T17:44:12.894Z"
   },
   {
    "duration": 29,
    "start_time": "2023-08-04T17:44:19.082Z"
   },
   {
    "duration": 4,
    "start_time": "2023-08-04T17:44:20.480Z"
   },
   {
    "duration": 20,
    "start_time": "2023-08-04T17:44:21.693Z"
   },
   {
    "duration": 5,
    "start_time": "2023-08-04T17:44:22.437Z"
   },
   {
    "duration": 10,
    "start_time": "2023-08-04T17:44:24.287Z"
   },
   {
    "duration": 9,
    "start_time": "2023-08-04T17:44:25.207Z"
   },
   {
    "duration": 12,
    "start_time": "2023-08-04T17:47:42.690Z"
   },
   {
    "duration": 4,
    "start_time": "2023-08-04T17:47:44.333Z"
   },
   {
    "duration": 8,
    "start_time": "2023-08-04T17:47:46.976Z"
   },
   {
    "duration": 3,
    "start_time": "2023-08-04T17:47:47.471Z"
   },
   {
    "duration": 3,
    "start_time": "2023-08-04T17:47:48.556Z"
   },
   {
    "duration": 4,
    "start_time": "2023-08-04T17:47:55.624Z"
   },
   {
    "duration": 7,
    "start_time": "2023-08-04T17:52:22.788Z"
   },
   {
    "duration": 6,
    "start_time": "2023-08-04T17:52:23.212Z"
   },
   {
    "duration": 4,
    "start_time": "2023-08-04T17:52:23.658Z"
   },
   {
    "duration": 104,
    "start_time": "2023-08-04T17:53:51.530Z"
   },
   {
    "duration": 9,
    "start_time": "2023-08-04T17:54:28.579Z"
   },
   {
    "duration": 8,
    "start_time": "2023-08-04T17:54:48.437Z"
   },
   {
    "duration": 217,
    "start_time": "2023-08-04T17:54:54.711Z"
   },
   {
    "duration": 214,
    "start_time": "2023-08-04T17:56:01.660Z"
   },
   {
    "duration": 125,
    "start_time": "2023-08-04T17:56:10.287Z"
   },
   {
    "duration": 189,
    "start_time": "2023-08-04T17:56:20.346Z"
   },
   {
    "duration": 6,
    "start_time": "2023-08-04T17:56:43.684Z"
   },
   {
    "duration": 156,
    "start_time": "2023-08-04T17:57:01.638Z"
   },
   {
    "duration": 139,
    "start_time": "2023-08-04T17:57:04.653Z"
   },
   {
    "duration": 230,
    "start_time": "2023-08-04T17:57:09.110Z"
   },
   {
    "duration": 220,
    "start_time": "2023-08-04T17:57:24.723Z"
   },
   {
    "duration": 212,
    "start_time": "2023-08-04T17:57:43.394Z"
   },
   {
    "duration": 228,
    "start_time": "2023-08-04T17:58:46.017Z"
   },
   {
    "duration": 343,
    "start_time": "2023-08-04T17:59:17.414Z"
   },
   {
    "duration": 237,
    "start_time": "2023-08-04T17:59:59.907Z"
   },
   {
    "duration": 232,
    "start_time": "2023-08-04T18:00:07.285Z"
   },
   {
    "duration": 220,
    "start_time": "2023-08-04T18:00:15.552Z"
   },
   {
    "duration": 229,
    "start_time": "2023-08-04T18:01:49.275Z"
   },
   {
    "duration": 343,
    "start_time": "2023-08-04T18:02:50.200Z"
   },
   {
    "duration": 231,
    "start_time": "2023-08-04T18:03:03.198Z"
   },
   {
    "duration": 115,
    "start_time": "2023-08-04T18:03:06.042Z"
   },
   {
    "duration": 83,
    "start_time": "2023-08-04T18:03:13.206Z"
   },
   {
    "duration": 99,
    "start_time": "2023-08-04T18:04:01.556Z"
   },
   {
    "duration": 217,
    "start_time": "2023-08-04T18:04:10.628Z"
   },
   {
    "duration": 258,
    "start_time": "2023-08-04T18:04:18.584Z"
   },
   {
    "duration": 97,
    "start_time": "2023-08-04T18:04:37.797Z"
   },
   {
    "duration": 90,
    "start_time": "2023-08-04T18:04:52.245Z"
   },
   {
    "duration": 331,
    "start_time": "2023-08-04T18:05:08.232Z"
   },
   {
    "duration": 78,
    "start_time": "2023-08-04T18:05:09.528Z"
   },
   {
    "duration": 75,
    "start_time": "2023-08-04T18:06:21.282Z"
   },
   {
    "duration": 80,
    "start_time": "2023-08-04T18:06:22.286Z"
   },
   {
    "duration": 1339,
    "start_time": "2023-08-04T18:06:33.310Z"
   },
   {
    "duration": 470,
    "start_time": "2023-08-04T18:06:34.652Z"
   },
   {
    "duration": 295,
    "start_time": "2023-08-04T18:06:35.124Z"
   },
   {
    "duration": 91,
    "start_time": "2023-08-04T18:06:35.422Z"
   },
   {
    "duration": 72,
    "start_time": "2023-08-04T18:06:35.515Z"
   },
   {
    "duration": 17,
    "start_time": "2023-08-04T18:06:35.588Z"
   },
   {
    "duration": 101,
    "start_time": "2023-08-04T18:06:35.607Z"
   },
   {
    "duration": 22,
    "start_time": "2023-08-04T18:06:35.710Z"
   },
   {
    "duration": 60,
    "start_time": "2023-08-04T18:06:35.735Z"
   },
   {
    "duration": 12,
    "start_time": "2023-08-04T18:06:35.796Z"
   },
   {
    "duration": 7,
    "start_time": "2023-08-04T18:06:35.809Z"
   },
   {
    "duration": 6,
    "start_time": "2023-08-04T18:06:35.817Z"
   },
   {
    "duration": 5,
    "start_time": "2023-08-04T18:06:35.825Z"
   },
   {
    "duration": 9,
    "start_time": "2023-08-04T18:06:35.833Z"
   },
   {
    "duration": 5,
    "start_time": "2023-08-04T18:06:35.843Z"
   },
   {
    "duration": 5,
    "start_time": "2023-08-04T18:06:35.887Z"
   },
   {
    "duration": 6,
    "start_time": "2023-08-04T18:06:35.893Z"
   },
   {
    "duration": 133,
    "start_time": "2023-08-04T18:06:35.900Z"
   },
   {
    "duration": 20,
    "start_time": "2023-08-04T18:06:36.035Z"
   },
   {
    "duration": 9,
    "start_time": "2023-08-04T18:06:36.057Z"
   },
   {
    "duration": 7,
    "start_time": "2023-08-04T18:06:36.088Z"
   },
   {
    "duration": 8,
    "start_time": "2023-08-04T18:06:36.096Z"
   },
   {
    "duration": 6,
    "start_time": "2023-08-04T18:06:36.106Z"
   },
   {
    "duration": 6,
    "start_time": "2023-08-04T18:06:36.114Z"
   },
   {
    "duration": 31,
    "start_time": "2023-08-04T18:06:36.121Z"
   },
   {
    "duration": 4,
    "start_time": "2023-08-04T18:06:36.153Z"
   },
   {
    "duration": 26,
    "start_time": "2023-08-04T18:06:36.188Z"
   },
   {
    "duration": 4,
    "start_time": "2023-08-04T18:06:36.215Z"
   },
   {
    "duration": 17,
    "start_time": "2023-08-04T18:06:36.220Z"
   },
   {
    "duration": 8,
    "start_time": "2023-08-04T18:06:36.238Z"
   },
   {
    "duration": 40,
    "start_time": "2023-08-04T18:06:36.247Z"
   },
   {
    "duration": 4,
    "start_time": "2023-08-04T18:06:36.289Z"
   },
   {
    "duration": 14,
    "start_time": "2023-08-04T18:06:36.294Z"
   },
   {
    "duration": 3,
    "start_time": "2023-08-04T18:06:36.310Z"
   },
   {
    "duration": 5,
    "start_time": "2023-08-04T18:06:36.314Z"
   },
   {
    "duration": 9,
    "start_time": "2023-08-04T18:06:36.320Z"
   },
   {
    "duration": 14,
    "start_time": "2023-08-04T18:06:36.330Z"
   },
   {
    "duration": 7,
    "start_time": "2023-08-04T18:06:36.346Z"
   },
   {
    "duration": 10,
    "start_time": "2023-08-04T18:06:36.354Z"
   },
   {
    "duration": 247,
    "start_time": "2023-08-04T18:06:36.365Z"
   },
   {
    "duration": 96,
    "start_time": "2023-08-04T18:06:36.615Z"
   },
   {
    "duration": 301,
    "start_time": "2023-08-04T18:06:36.713Z"
   },
   {
    "duration": 90,
    "start_time": "2023-08-04T18:06:37.016Z"
   },
   {
    "duration": 236,
    "start_time": "2023-08-04T18:06:37.107Z"
   },
   {
    "duration": 91,
    "start_time": "2023-08-04T18:06:37.344Z"
   },
   {
    "duration": 113,
    "start_time": "2023-08-04T18:15:48.526Z"
   },
   {
    "duration": 1684,
    "start_time": "2023-08-04T18:16:00.475Z"
   },
   {
    "duration": 418,
    "start_time": "2023-08-04T18:16:02.161Z"
   },
   {
    "duration": 272,
    "start_time": "2023-08-04T18:16:02.581Z"
   },
   {
    "duration": 70,
    "start_time": "2023-08-04T18:16:02.855Z"
   },
   {
    "duration": 110,
    "start_time": "2023-08-04T18:16:02.928Z"
   },
   {
    "duration": 24,
    "start_time": "2023-08-04T18:16:03.039Z"
   },
   {
    "duration": 116,
    "start_time": "2023-08-04T18:16:03.065Z"
   },
   {
    "duration": 44,
    "start_time": "2023-08-04T18:16:03.182Z"
   },
   {
    "duration": 106,
    "start_time": "2023-08-04T18:16:03.227Z"
   },
   {
    "duration": 33,
    "start_time": "2023-08-04T18:16:03.335Z"
   },
   {
    "duration": 37,
    "start_time": "2023-08-04T18:16:03.369Z"
   },
   {
    "duration": 28,
    "start_time": "2023-08-04T18:16:03.407Z"
   },
   {
    "duration": 32,
    "start_time": "2023-08-04T18:16:03.437Z"
   },
   {
    "duration": 45,
    "start_time": "2023-08-04T18:16:03.471Z"
   },
   {
    "duration": 25,
    "start_time": "2023-08-04T18:16:03.518Z"
   },
   {
    "duration": 35,
    "start_time": "2023-08-04T18:16:03.544Z"
   },
   {
    "duration": 43,
    "start_time": "2023-08-04T18:16:03.581Z"
   },
   {
    "duration": 149,
    "start_time": "2023-08-04T18:16:03.625Z"
   },
   {
    "duration": 19,
    "start_time": "2023-08-04T18:16:03.776Z"
   },
   {
    "duration": 42,
    "start_time": "2023-08-04T18:16:03.797Z"
   },
   {
    "duration": 35,
    "start_time": "2023-08-04T18:16:03.840Z"
   },
   {
    "duration": 42,
    "start_time": "2023-08-04T18:16:03.876Z"
   },
   {
    "duration": 38,
    "start_time": "2023-08-04T18:16:03.920Z"
   },
   {
    "duration": 45,
    "start_time": "2023-08-04T18:16:03.960Z"
   },
   {
    "duration": 121,
    "start_time": "2023-08-04T18:17:13.767Z"
   },
   {
    "duration": 4,
    "start_time": "2023-08-04T18:18:37.707Z"
   },
   {
    "duration": 397,
    "start_time": "2023-08-04T18:18:37.714Z"
   },
   {
    "duration": 282,
    "start_time": "2023-08-04T18:18:38.113Z"
   },
   {
    "duration": 74,
    "start_time": "2023-08-04T18:18:38.398Z"
   },
   {
    "duration": 76,
    "start_time": "2023-08-04T18:18:38.474Z"
   },
   {
    "duration": 16,
    "start_time": "2023-08-04T18:18:38.551Z"
   },
   {
    "duration": 107,
    "start_time": "2023-08-04T18:18:38.569Z"
   },
   {
    "duration": 28,
    "start_time": "2023-08-04T18:18:38.678Z"
   },
   {
    "duration": 45,
    "start_time": "2023-08-04T18:18:38.708Z"
   },
   {
    "duration": 13,
    "start_time": "2023-08-04T18:18:38.754Z"
   },
   {
    "duration": 27,
    "start_time": "2023-08-04T18:18:38.769Z"
   },
   {
    "duration": 10,
    "start_time": "2023-08-04T18:18:38.798Z"
   },
   {
    "duration": 3,
    "start_time": "2023-08-04T18:18:38.813Z"
   },
   {
    "duration": 6,
    "start_time": "2023-08-04T18:18:38.820Z"
   },
   {
    "duration": 6,
    "start_time": "2023-08-04T18:18:38.828Z"
   },
   {
    "duration": 4,
    "start_time": "2023-08-04T18:18:38.836Z"
   },
   {
    "duration": 10,
    "start_time": "2023-08-04T18:18:38.841Z"
   },
   {
    "duration": 163,
    "start_time": "2023-08-04T18:18:38.853Z"
   },
   {
    "duration": 20,
    "start_time": "2023-08-04T18:18:39.018Z"
   },
   {
    "duration": 7,
    "start_time": "2023-08-04T18:18:39.039Z"
   },
   {
    "duration": 6,
    "start_time": "2023-08-04T18:18:39.047Z"
   },
   {
    "duration": 33,
    "start_time": "2023-08-04T18:18:39.054Z"
   },
   {
    "duration": 6,
    "start_time": "2023-08-04T18:18:39.090Z"
   },
   {
    "duration": 10,
    "start_time": "2023-08-04T18:18:39.098Z"
   },
   {
    "duration": 26,
    "start_time": "2023-08-04T18:18:39.110Z"
   },
   {
    "duration": 3,
    "start_time": "2023-08-04T18:18:39.138Z"
   },
   {
    "duration": 45,
    "start_time": "2023-08-04T18:18:39.143Z"
   },
   {
    "duration": 6,
    "start_time": "2023-08-04T18:18:39.191Z"
   },
   {
    "duration": 12,
    "start_time": "2023-08-04T18:18:39.201Z"
   },
   {
    "duration": 17,
    "start_time": "2023-08-04T18:18:39.215Z"
   },
   {
    "duration": 16,
    "start_time": "2023-08-04T18:18:39.233Z"
   },
   {
    "duration": 3,
    "start_time": "2023-08-04T18:18:39.251Z"
   },
   {
    "duration": 11,
    "start_time": "2023-08-04T18:18:39.256Z"
   },
   {
    "duration": 18,
    "start_time": "2023-08-04T18:18:39.269Z"
   },
   {
    "duration": 7,
    "start_time": "2023-08-04T18:18:39.290Z"
   },
   {
    "duration": 11,
    "start_time": "2023-08-04T18:18:39.301Z"
   },
   {
    "duration": 17,
    "start_time": "2023-08-04T18:18:39.313Z"
   },
   {
    "duration": 25,
    "start_time": "2023-08-04T18:18:39.332Z"
   },
   {
    "duration": 21,
    "start_time": "2023-08-04T18:18:39.359Z"
   },
   {
    "duration": 266,
    "start_time": "2023-08-04T18:18:39.381Z"
   },
   {
    "duration": 110,
    "start_time": "2023-08-04T18:18:39.652Z"
   },
   {
    "duration": 348,
    "start_time": "2023-08-04T18:18:39.766Z"
   },
   {
    "duration": 103,
    "start_time": "2023-08-04T18:18:40.115Z"
   },
   {
    "duration": 249,
    "start_time": "2023-08-04T18:18:40.219Z"
   },
   {
    "duration": 96,
    "start_time": "2023-08-04T18:18:45.357Z"
   },
   {
    "duration": 232,
    "start_time": "2023-08-04T18:24:59.606Z"
   },
   {
    "duration": 92,
    "start_time": "2023-08-04T18:25:00.915Z"
   },
   {
    "duration": 234,
    "start_time": "2023-08-04T18:25:02.007Z"
   },
   {
    "duration": 165,
    "start_time": "2023-08-04T18:25:03.154Z"
   },
   {
    "duration": 220,
    "start_time": "2023-08-04T18:25:04.111Z"
   },
   {
    "duration": 87,
    "start_time": "2023-08-04T18:25:05.020Z"
   },
   {
    "duration": 7,
    "start_time": "2023-08-04T18:26:04.745Z"
   },
   {
    "duration": 9,
    "start_time": "2023-08-04T18:26:25.290Z"
   },
   {
    "duration": 111,
    "start_time": "2023-08-04T18:29:11.323Z"
   },
   {
    "duration": 89,
    "start_time": "2023-08-04T18:29:15.830Z"
   },
   {
    "duration": 11,
    "start_time": "2023-08-04T18:30:34.796Z"
   },
   {
    "duration": 4,
    "start_time": "2023-08-04T18:30:52.542Z"
   },
   {
    "duration": 124,
    "start_time": "2023-08-04T18:31:04.908Z"
   },
   {
    "duration": 249,
    "start_time": "2023-08-04T18:32:32.816Z"
   },
   {
    "duration": 103,
    "start_time": "2023-08-04T18:32:33.427Z"
   },
   {
    "duration": 332,
    "start_time": "2023-08-04T18:32:34.245Z"
   },
   {
    "duration": 120,
    "start_time": "2023-08-04T18:32:34.937Z"
   },
   {
    "duration": 274,
    "start_time": "2023-08-04T18:32:35.716Z"
   },
   {
    "duration": 97,
    "start_time": "2023-08-04T18:32:36.452Z"
   },
   {
    "duration": 11,
    "start_time": "2023-08-04T18:32:37.138Z"
   },
   {
    "duration": 259,
    "start_time": "2023-08-04T18:32:37.952Z"
   },
   {
    "duration": 133,
    "start_time": "2023-08-04T18:32:39.416Z"
   },
   {
    "duration": 241,
    "start_time": "2023-08-04T18:32:40.143Z"
   },
   {
    "duration": 116,
    "start_time": "2023-08-04T18:32:41.648Z"
   },
   {
    "duration": 4,
    "start_time": "2023-08-04T18:33:58.008Z"
   },
   {
    "duration": 81,
    "start_time": "2023-08-04T18:34:22.532Z"
   },
   {
    "duration": 100,
    "start_time": "2023-08-04T18:34:30.204Z"
   },
   {
    "duration": 185,
    "start_time": "2023-08-04T18:34:35.317Z"
   },
   {
    "duration": 101,
    "start_time": "2023-08-04T18:34:39.710Z"
   },
   {
    "duration": 189,
    "start_time": "2023-08-04T18:38:07.007Z"
   },
   {
    "duration": 224,
    "start_time": "2023-08-04T18:39:58.103Z"
   },
   {
    "duration": 298,
    "start_time": "2023-08-04T19:30:38.889Z"
   },
   {
    "duration": 10,
    "start_time": "2023-08-04T19:33:45.152Z"
   },
   {
    "duration": 184,
    "start_time": "2023-08-04T19:35:19.071Z"
   },
   {
    "duration": 99,
    "start_time": "2023-08-04T19:36:04.229Z"
   },
   {
    "duration": 4,
    "start_time": "2023-08-04T19:36:17.223Z"
   },
   {
    "duration": 457,
    "start_time": "2023-08-04T19:36:51.166Z"
   },
   {
    "duration": 377,
    "start_time": "2023-08-04T19:37:47.247Z"
   },
   {
    "duration": 384,
    "start_time": "2023-08-04T19:37:48.995Z"
   },
   {
    "duration": 8,
    "start_time": "2023-08-04T19:39:28.722Z"
   },
   {
    "duration": 6,
    "start_time": "2023-08-04T19:41:14.894Z"
   },
   {
    "duration": 10,
    "start_time": "2023-08-04T19:41:22.568Z"
   },
   {
    "duration": 3,
    "start_time": "2023-08-04T19:42:25.854Z"
   },
   {
    "duration": 318,
    "start_time": "2023-08-04T19:42:26.738Z"
   },
   {
    "duration": 5,
    "start_time": "2023-08-04T19:42:35.140Z"
   },
   {
    "duration": 405,
    "start_time": "2023-08-04T19:42:35.741Z"
   },
   {
    "duration": 322,
    "start_time": "2023-08-04T19:42:49.626Z"
   },
   {
    "duration": 309,
    "start_time": "2023-08-04T19:42:53.540Z"
   },
   {
    "duration": 405,
    "start_time": "2023-08-04T19:43:33.911Z"
   },
   {
    "duration": 332,
    "start_time": "2023-08-04T19:44:05.559Z"
   },
   {
    "duration": 308,
    "start_time": "2023-08-04T19:44:07.500Z"
   },
   {
    "duration": 302,
    "start_time": "2023-08-04T19:45:31.017Z"
   },
   {
    "duration": 416,
    "start_time": "2023-08-04T19:46:03.540Z"
   },
   {
    "duration": 321,
    "start_time": "2023-08-04T19:46:05.594Z"
   },
   {
    "duration": 325,
    "start_time": "2023-08-04T19:47:20.873Z"
   },
   {
    "duration": 311,
    "start_time": "2023-08-04T19:47:21.824Z"
   },
   {
    "duration": 408,
    "start_time": "2023-08-04T19:47:22.648Z"
   },
   {
    "duration": 4,
    "start_time": "2023-08-04T19:48:16.158Z"
   },
   {
    "duration": 12,
    "start_time": "2023-08-04T19:48:16.768Z"
   },
   {
    "duration": 4,
    "start_time": "2023-08-04T19:48:21.285Z"
   },
   {
    "duration": 352,
    "start_time": "2023-08-04T19:48:21.735Z"
   },
   {
    "duration": 1365,
    "start_time": "2023-08-04T19:49:16.267Z"
   },
   {
    "duration": 402,
    "start_time": "2023-08-04T19:49:17.633Z"
   },
   {
    "duration": 309,
    "start_time": "2023-08-04T19:49:18.037Z"
   },
   {
    "duration": 75,
    "start_time": "2023-08-04T19:49:18.348Z"
   },
   {
    "duration": 78,
    "start_time": "2023-08-04T19:49:18.425Z"
   },
   {
    "duration": 18,
    "start_time": "2023-08-04T19:49:18.504Z"
   },
   {
    "duration": 88,
    "start_time": "2023-08-04T19:49:18.524Z"
   },
   {
    "duration": 18,
    "start_time": "2023-08-04T19:49:18.614Z"
   },
   {
    "duration": 83,
    "start_time": "2023-08-04T19:49:18.634Z"
   },
   {
    "duration": 20,
    "start_time": "2023-08-04T19:49:18.718Z"
   },
   {
    "duration": 8,
    "start_time": "2023-08-04T19:49:18.740Z"
   },
   {
    "duration": 10,
    "start_time": "2023-08-04T19:49:18.750Z"
   },
   {
    "duration": 26,
    "start_time": "2023-08-04T19:49:18.762Z"
   },
   {
    "duration": 16,
    "start_time": "2023-08-04T19:49:18.792Z"
   },
   {
    "duration": 5,
    "start_time": "2023-08-04T19:49:18.810Z"
   },
   {
    "duration": 14,
    "start_time": "2023-08-04T19:49:18.817Z"
   },
   {
    "duration": 13,
    "start_time": "2023-08-04T19:49:18.833Z"
   },
   {
    "duration": 146,
    "start_time": "2023-08-04T19:49:18.847Z"
   },
   {
    "duration": 21,
    "start_time": "2023-08-04T19:49:18.995Z"
   },
   {
    "duration": 17,
    "start_time": "2023-08-04T19:49:19.017Z"
   },
   {
    "duration": 9,
    "start_time": "2023-08-04T19:49:19.035Z"
   },
   {
    "duration": 8,
    "start_time": "2023-08-04T19:49:19.046Z"
   },
   {
    "duration": 45,
    "start_time": "2023-08-04T19:49:19.055Z"
   },
   {
    "duration": 69,
    "start_time": "2023-08-04T19:49:19.101Z"
   },
   {
    "duration": 66,
    "start_time": "2023-08-04T19:49:19.171Z"
   },
   {
    "duration": 18,
    "start_time": "2023-08-04T19:49:19.240Z"
   },
   {
    "duration": 33,
    "start_time": "2023-08-04T19:49:19.259Z"
   },
   {
    "duration": 18,
    "start_time": "2023-08-04T19:49:19.293Z"
   },
   {
    "duration": 40,
    "start_time": "2023-08-04T19:49:19.313Z"
   },
   {
    "duration": 22,
    "start_time": "2023-08-04T19:49:19.355Z"
   },
   {
    "duration": 95,
    "start_time": "2023-08-04T19:49:19.378Z"
   },
   {
    "duration": 40,
    "start_time": "2023-08-04T19:49:19.475Z"
   },
   {
    "duration": 21,
    "start_time": "2023-08-04T19:49:19.517Z"
   },
   {
    "duration": 22,
    "start_time": "2023-08-04T19:49:19.540Z"
   },
   {
    "duration": 12,
    "start_time": "2023-08-04T19:49:19.564Z"
   },
   {
    "duration": 15,
    "start_time": "2023-08-04T19:49:19.577Z"
   },
   {
    "duration": 12,
    "start_time": "2023-08-04T19:49:19.593Z"
   },
   {
    "duration": 12,
    "start_time": "2023-08-04T19:49:19.606Z"
   },
   {
    "duration": 16,
    "start_time": "2023-08-04T19:49:19.620Z"
   },
   {
    "duration": 7,
    "start_time": "2023-08-04T19:49:19.637Z"
   },
   {
    "duration": 403,
    "start_time": "2023-08-04T19:49:19.647Z"
   },
   {
    "duration": 422,
    "start_time": "2023-08-04T19:49:20.052Z"
   },
   {
    "duration": 377,
    "start_time": "2023-08-04T19:49:20.475Z"
   },
   {
    "duration": 347,
    "start_time": "2023-08-04T19:49:20.854Z"
   },
   {
    "duration": 413,
    "start_time": "2023-08-04T19:49:21.203Z"
   },
   {
    "duration": 353,
    "start_time": "2023-08-04T19:49:21.618Z"
   },
   {
    "duration": 331,
    "start_time": "2023-08-04T19:49:21.973Z"
   },
   {
    "duration": 366,
    "start_time": "2023-08-04T19:49:22.306Z"
   },
   {
    "duration": 450,
    "start_time": "2023-08-04T19:49:22.674Z"
   },
   {
    "duration": 334,
    "start_time": "2023-08-04T19:49:23.125Z"
   },
   {
    "duration": 338,
    "start_time": "2023-08-04T19:49:23.461Z"
   },
   {
    "duration": 333,
    "start_time": "2023-08-04T19:49:23.800Z"
   },
   {
    "duration": 4,
    "start_time": "2023-08-04T19:50:56.248Z"
   },
   {
    "duration": 522,
    "start_time": "2023-08-04T19:50:57.347Z"
   },
   {
    "duration": 5,
    "start_time": "2023-08-04T20:00:10.190Z"
   },
   {
    "duration": 459,
    "start_time": "2023-08-04T20:00:13.792Z"
   },
   {
    "duration": 4,
    "start_time": "2023-08-04T20:00:29.386Z"
   },
   {
    "duration": 368,
    "start_time": "2023-08-04T20:00:30.320Z"
   },
   {
    "duration": 4,
    "start_time": "2023-08-04T20:01:50.359Z"
   },
   {
    "duration": 439,
    "start_time": "2023-08-04T20:01:51.024Z"
   },
   {
    "duration": 4,
    "start_time": "2023-08-04T20:02:17.406Z"
   },
   {
    "duration": 349,
    "start_time": "2023-08-04T20:02:18.390Z"
   },
   {
    "duration": 4,
    "start_time": "2023-08-04T20:02:34.337Z"
   },
   {
    "duration": 343,
    "start_time": "2023-08-04T20:02:34.955Z"
   },
   {
    "duration": 4,
    "start_time": "2023-08-04T20:02:59.591Z"
   },
   {
    "duration": 357,
    "start_time": "2023-08-04T20:03:00.299Z"
   },
   {
    "duration": 5,
    "start_time": "2023-08-04T20:03:37.691Z"
   },
   {
    "duration": 427,
    "start_time": "2023-08-04T20:03:38.163Z"
   },
   {
    "duration": 5,
    "start_time": "2023-08-04T20:04:08.226Z"
   },
   {
    "duration": 370,
    "start_time": "2023-08-04T20:04:08.979Z"
   },
   {
    "duration": 4,
    "start_time": "2023-08-04T20:04:25.146Z"
   },
   {
    "duration": 349,
    "start_time": "2023-08-04T20:04:25.881Z"
   },
   {
    "duration": 3,
    "start_time": "2023-08-04T20:06:06.992Z"
   },
   {
    "duration": 346,
    "start_time": "2023-08-04T20:06:09.186Z"
   },
   {
    "duration": 3,
    "start_time": "2023-08-04T20:09:30.200Z"
   },
   {
    "duration": 1411,
    "start_time": "2023-08-04T20:11:01.718Z"
   },
   {
    "duration": 377,
    "start_time": "2023-08-04T20:11:03.131Z"
   },
   {
    "duration": 275,
    "start_time": "2023-08-04T20:11:03.510Z"
   },
   {
    "duration": 72,
    "start_time": "2023-08-04T20:11:03.788Z"
   },
   {
    "duration": 69,
    "start_time": "2023-08-04T20:11:03.862Z"
   },
   {
    "duration": 18,
    "start_time": "2023-08-04T20:11:03.932Z"
   },
   {
    "duration": 80,
    "start_time": "2023-08-04T20:11:03.951Z"
   },
   {
    "duration": 16,
    "start_time": "2023-08-04T20:11:04.033Z"
   },
   {
    "duration": 62,
    "start_time": "2023-08-04T20:11:04.050Z"
   },
   {
    "duration": 12,
    "start_time": "2023-08-04T20:11:04.115Z"
   },
   {
    "duration": 5,
    "start_time": "2023-08-04T20:11:04.128Z"
   },
   {
    "duration": 5,
    "start_time": "2023-08-04T20:11:04.135Z"
   },
   {
    "duration": 4,
    "start_time": "2023-08-04T20:11:04.141Z"
   },
   {
    "duration": 20,
    "start_time": "2023-08-04T20:11:04.147Z"
   },
   {
    "duration": 21,
    "start_time": "2023-08-04T20:11:04.169Z"
   },
   {
    "duration": 10,
    "start_time": "2023-08-04T20:11:04.192Z"
   },
   {
    "duration": 9,
    "start_time": "2023-08-04T20:11:04.204Z"
   },
   {
    "duration": 122,
    "start_time": "2023-08-04T20:11:04.215Z"
   },
   {
    "duration": 21,
    "start_time": "2023-08-04T20:11:04.339Z"
   },
   {
    "duration": 29,
    "start_time": "2023-08-04T20:11:04.362Z"
   },
   {
    "duration": 4,
    "start_time": "2023-08-04T20:11:04.393Z"
   },
   {
    "duration": 12,
    "start_time": "2023-08-04T20:11:04.398Z"
   },
   {
    "duration": 16,
    "start_time": "2023-08-04T20:11:04.411Z"
   },
   {
    "duration": 5,
    "start_time": "2023-08-04T20:11:04.428Z"
   },
   {
    "duration": 29,
    "start_time": "2023-08-04T20:11:04.434Z"
   },
   {
    "duration": 4,
    "start_time": "2023-08-04T20:11:04.465Z"
   },
   {
    "duration": 33,
    "start_time": "2023-08-04T20:11:04.470Z"
   },
   {
    "duration": 4,
    "start_time": "2023-08-04T20:11:04.506Z"
   },
   {
    "duration": 11,
    "start_time": "2023-08-04T20:11:04.511Z"
   },
   {
    "duration": 8,
    "start_time": "2023-08-04T20:11:04.523Z"
   },
   {
    "duration": 12,
    "start_time": "2023-08-04T20:11:04.532Z"
   },
   {
    "duration": 3,
    "start_time": "2023-08-04T20:11:04.546Z"
   },
   {
    "duration": 37,
    "start_time": "2023-08-04T20:11:04.550Z"
   },
   {
    "duration": 4,
    "start_time": "2023-08-04T20:11:04.588Z"
   },
   {
    "duration": 4,
    "start_time": "2023-08-04T20:11:04.593Z"
   },
   {
    "duration": 5,
    "start_time": "2023-08-04T20:11:04.599Z"
   },
   {
    "duration": 12,
    "start_time": "2023-08-04T20:11:04.606Z"
   },
   {
    "duration": 9,
    "start_time": "2023-08-04T20:11:04.619Z"
   },
   {
    "duration": 6,
    "start_time": "2023-08-04T20:11:04.630Z"
   },
   {
    "duration": 5,
    "start_time": "2023-08-04T20:11:04.637Z"
   },
   {
    "duration": 17,
    "start_time": "2023-08-04T20:11:04.643Z"
   },
   {
    "duration": 1562,
    "start_time": "2023-08-04T20:11:40.390Z"
   },
   {
    "duration": 380,
    "start_time": "2023-08-04T20:11:41.954Z"
   },
   {
    "duration": 308,
    "start_time": "2023-08-04T20:11:42.335Z"
   },
   {
    "duration": 80,
    "start_time": "2023-08-04T20:11:42.645Z"
   },
   {
    "duration": 80,
    "start_time": "2023-08-04T20:11:42.727Z"
   },
   {
    "duration": 19,
    "start_time": "2023-08-04T20:11:42.809Z"
   },
   {
    "duration": 82,
    "start_time": "2023-08-04T20:11:42.830Z"
   },
   {
    "duration": 17,
    "start_time": "2023-08-04T20:11:42.914Z"
   },
   {
    "duration": 64,
    "start_time": "2023-08-04T20:11:42.935Z"
   },
   {
    "duration": 17,
    "start_time": "2023-08-04T20:11:43.000Z"
   },
   {
    "duration": 18,
    "start_time": "2023-08-04T20:11:43.018Z"
   },
   {
    "duration": 11,
    "start_time": "2023-08-04T20:11:43.038Z"
   },
   {
    "duration": 7,
    "start_time": "2023-08-04T20:11:43.050Z"
   },
   {
    "duration": 15,
    "start_time": "2023-08-04T20:11:43.059Z"
   },
   {
    "duration": 12,
    "start_time": "2023-08-04T20:11:43.075Z"
   },
   {
    "duration": 15,
    "start_time": "2023-08-04T20:11:43.089Z"
   },
   {
    "duration": 19,
    "start_time": "2023-08-04T20:11:43.106Z"
   },
   {
    "duration": 131,
    "start_time": "2023-08-04T20:11:43.126Z"
   },
   {
    "duration": 17,
    "start_time": "2023-08-04T20:11:43.259Z"
   },
   {
    "duration": 9,
    "start_time": "2023-08-04T20:11:43.286Z"
   },
   {
    "duration": 7,
    "start_time": "2023-08-04T20:11:43.297Z"
   },
   {
    "duration": 23,
    "start_time": "2023-08-04T20:11:43.306Z"
   },
   {
    "duration": 24,
    "start_time": "2023-08-04T20:11:43.330Z"
   },
   {
    "duration": 9,
    "start_time": "2023-08-04T20:11:43.355Z"
   },
   {
    "duration": 36,
    "start_time": "2023-08-04T20:11:43.366Z"
   },
   {
    "duration": 4,
    "start_time": "2023-08-04T20:11:43.403Z"
   },
   {
    "duration": 27,
    "start_time": "2023-08-04T20:11:43.409Z"
   },
   {
    "duration": 11,
    "start_time": "2023-08-04T20:11:43.438Z"
   },
   {
    "duration": 15,
    "start_time": "2023-08-04T20:11:43.451Z"
   },
   {
    "duration": 10,
    "start_time": "2023-08-04T20:11:43.467Z"
   },
   {
    "duration": 14,
    "start_time": "2023-08-04T20:11:43.487Z"
   },
   {
    "duration": 5,
    "start_time": "2023-08-04T20:11:43.502Z"
   },
   {
    "duration": 20,
    "start_time": "2023-08-04T20:11:43.508Z"
   },
   {
    "duration": 4,
    "start_time": "2023-08-04T20:11:43.530Z"
   },
   {
    "duration": 15,
    "start_time": "2023-08-04T20:11:43.535Z"
   },
   {
    "duration": 18,
    "start_time": "2023-08-04T20:11:43.552Z"
   },
   {
    "duration": 17,
    "start_time": "2023-08-04T20:11:43.572Z"
   },
   {
    "duration": 8,
    "start_time": "2023-08-04T20:11:43.591Z"
   },
   {
    "duration": 15,
    "start_time": "2023-08-04T20:11:43.601Z"
   },
   {
    "duration": 9,
    "start_time": "2023-08-04T20:11:43.617Z"
   },
   {
    "duration": 4,
    "start_time": "2023-08-04T20:11:43.630Z"
   },
   {
    "duration": 623,
    "start_time": "2023-08-04T20:11:44.703Z"
   },
   {
    "duration": 5,
    "start_time": "2023-08-04T20:12:02.211Z"
   },
   {
    "duration": 127,
    "start_time": "2023-08-04T20:12:02.895Z"
   },
   {
    "duration": 4,
    "start_time": "2023-08-04T20:12:59.962Z"
   },
   {
    "duration": 108,
    "start_time": "2023-08-04T20:13:00.724Z"
   },
   {
    "duration": 4,
    "start_time": "2023-08-04T20:14:03.218Z"
   },
   {
    "duration": 119,
    "start_time": "2023-08-04T20:14:03.899Z"
   },
   {
    "duration": 3,
    "start_time": "2023-08-04T20:14:28.356Z"
   },
   {
    "duration": 97,
    "start_time": "2023-08-04T20:14:28.867Z"
   },
   {
    "duration": 4,
    "start_time": "2023-08-04T20:15:16.376Z"
   },
   {
    "duration": 184,
    "start_time": "2023-08-04T20:15:16.823Z"
   },
   {
    "duration": 4,
    "start_time": "2023-08-04T20:15:24.533Z"
   },
   {
    "duration": 104,
    "start_time": "2023-08-04T20:15:25.024Z"
   },
   {
    "duration": 3,
    "start_time": "2023-08-04T20:15:28.237Z"
   },
   {
    "duration": 117,
    "start_time": "2023-08-04T20:15:28.623Z"
   },
   {
    "duration": 10,
    "start_time": "2023-08-04T20:15:53.490Z"
   },
   {
    "duration": 11,
    "start_time": "2023-08-04T20:16:05.806Z"
   },
   {
    "duration": 6,
    "start_time": "2023-08-04T20:16:11.656Z"
   },
   {
    "duration": 1438,
    "start_time": "2023-08-04T20:16:34.523Z"
   },
   {
    "duration": 391,
    "start_time": "2023-08-04T20:16:35.963Z"
   },
   {
    "duration": 285,
    "start_time": "2023-08-04T20:16:36.355Z"
   },
   {
    "duration": 88,
    "start_time": "2023-08-04T20:16:36.643Z"
   },
   {
    "duration": 77,
    "start_time": "2023-08-04T20:16:36.733Z"
   },
   {
    "duration": 22,
    "start_time": "2023-08-04T20:16:36.812Z"
   },
   {
    "duration": 79,
    "start_time": "2023-08-04T20:16:36.836Z"
   },
   {
    "duration": 15,
    "start_time": "2023-08-04T20:16:36.916Z"
   },
   {
    "duration": 65,
    "start_time": "2023-08-04T20:16:36.933Z"
   },
   {
    "duration": 12,
    "start_time": "2023-08-04T20:16:37.002Z"
   },
   {
    "duration": 15,
    "start_time": "2023-08-04T20:16:37.016Z"
   },
   {
    "duration": 31,
    "start_time": "2023-08-04T20:16:37.033Z"
   },
   {
    "duration": 7,
    "start_time": "2023-08-04T20:16:37.066Z"
   },
   {
    "duration": 9,
    "start_time": "2023-08-04T20:16:37.074Z"
   },
   {
    "duration": 5,
    "start_time": "2023-08-04T20:16:37.086Z"
   },
   {
    "duration": 9,
    "start_time": "2023-08-04T20:16:37.093Z"
   },
   {
    "duration": 5,
    "start_time": "2023-08-04T20:16:37.103Z"
   },
   {
    "duration": 130,
    "start_time": "2023-08-04T20:16:37.109Z"
   },
   {
    "duration": 19,
    "start_time": "2023-08-04T20:16:37.240Z"
   },
   {
    "duration": 9,
    "start_time": "2023-08-04T20:16:37.260Z"
   },
   {
    "duration": 6,
    "start_time": "2023-08-04T20:16:37.288Z"
   },
   {
    "duration": 20,
    "start_time": "2023-08-04T20:16:37.296Z"
   },
   {
    "duration": 6,
    "start_time": "2023-08-04T20:16:37.318Z"
   },
   {
    "duration": 9,
    "start_time": "2023-08-04T20:16:37.326Z"
   },
   {
    "duration": 38,
    "start_time": "2023-08-04T20:16:37.337Z"
   },
   {
    "duration": 4,
    "start_time": "2023-08-04T20:16:37.376Z"
   },
   {
    "duration": 24,
    "start_time": "2023-08-04T20:16:37.381Z"
   },
   {
    "duration": 3,
    "start_time": "2023-08-04T20:16:37.408Z"
   },
   {
    "duration": 11,
    "start_time": "2023-08-04T20:16:37.412Z"
   },
   {
    "duration": 9,
    "start_time": "2023-08-04T20:16:37.425Z"
   },
   {
    "duration": 12,
    "start_time": "2023-08-04T20:16:37.436Z"
   },
   {
    "duration": 4,
    "start_time": "2023-08-04T20:16:37.450Z"
   },
   {
    "duration": 39,
    "start_time": "2023-08-04T20:16:37.455Z"
   },
   {
    "duration": 3,
    "start_time": "2023-08-04T20:16:37.496Z"
   },
   {
    "duration": 4,
    "start_time": "2023-08-04T20:16:37.501Z"
   },
   {
    "duration": 5,
    "start_time": "2023-08-04T20:16:37.506Z"
   },
   {
    "duration": 10,
    "start_time": "2023-08-04T20:16:37.513Z"
   },
   {
    "duration": 6,
    "start_time": "2023-08-04T20:16:37.524Z"
   },
   {
    "duration": 6,
    "start_time": "2023-08-04T20:16:37.532Z"
   },
   {
    "duration": 9,
    "start_time": "2023-08-04T20:16:37.540Z"
   },
   {
    "duration": 39,
    "start_time": "2023-08-04T20:16:37.550Z"
   },
   {
    "duration": 6,
    "start_time": "2023-08-04T20:16:42.154Z"
   },
   {
    "duration": 4,
    "start_time": "2023-08-04T20:16:43.701Z"
   },
   {
    "duration": 425,
    "start_time": "2023-08-04T20:16:44.499Z"
   },
   {
    "duration": 4,
    "start_time": "2023-08-04T20:17:27.340Z"
   },
   {
    "duration": 428,
    "start_time": "2023-08-04T20:17:27.728Z"
   },
   {
    "duration": 6,
    "start_time": "2023-08-04T20:18:57.349Z"
   },
   {
    "duration": 1432,
    "start_time": "2023-08-04T20:19:12.099Z"
   },
   {
    "duration": 400,
    "start_time": "2023-08-04T20:19:13.533Z"
   },
   {
    "duration": 287,
    "start_time": "2023-08-04T20:19:13.935Z"
   },
   {
    "duration": 74,
    "start_time": "2023-08-04T20:19:14.223Z"
   },
   {
    "duration": 71,
    "start_time": "2023-08-04T20:19:14.300Z"
   },
   {
    "duration": 31,
    "start_time": "2023-08-04T20:19:14.372Z"
   },
   {
    "duration": 70,
    "start_time": "2023-08-04T20:19:14.405Z"
   },
   {
    "duration": 22,
    "start_time": "2023-08-04T20:19:14.477Z"
   },
   {
    "duration": 79,
    "start_time": "2023-08-04T20:19:14.501Z"
   },
   {
    "duration": 17,
    "start_time": "2023-08-04T20:19:14.582Z"
   },
   {
    "duration": 20,
    "start_time": "2023-08-04T20:19:14.601Z"
   },
   {
    "duration": 14,
    "start_time": "2023-08-04T20:19:14.624Z"
   },
   {
    "duration": 18,
    "start_time": "2023-08-04T20:19:14.640Z"
   },
   {
    "duration": 25,
    "start_time": "2023-08-04T20:19:14.662Z"
   },
   {
    "duration": 16,
    "start_time": "2023-08-04T20:19:14.689Z"
   },
   {
    "duration": 22,
    "start_time": "2023-08-04T20:19:14.707Z"
   },
   {
    "duration": 15,
    "start_time": "2023-08-04T20:19:14.730Z"
   },
   {
    "duration": 144,
    "start_time": "2023-08-04T20:19:14.747Z"
   },
   {
    "duration": 26,
    "start_time": "2023-08-04T20:19:14.894Z"
   },
   {
    "duration": 9,
    "start_time": "2023-08-04T20:19:14.922Z"
   },
   {
    "duration": 7,
    "start_time": "2023-08-04T20:19:14.933Z"
   },
   {
    "duration": 13,
    "start_time": "2023-08-04T20:19:14.941Z"
   },
   {
    "duration": 32,
    "start_time": "2023-08-04T20:19:14.956Z"
   },
   {
    "duration": 90,
    "start_time": "2023-08-04T20:19:14.990Z"
   },
   {
    "duration": 49,
    "start_time": "2023-08-04T20:19:15.082Z"
   },
   {
    "duration": 8,
    "start_time": "2023-08-04T20:19:15.132Z"
   },
   {
    "duration": 51,
    "start_time": "2023-08-04T20:19:15.142Z"
   },
   {
    "duration": 22,
    "start_time": "2023-08-04T20:19:15.194Z"
   },
   {
    "duration": 27,
    "start_time": "2023-08-04T20:19:15.217Z"
   },
   {
    "duration": 23,
    "start_time": "2023-08-04T20:19:15.245Z"
   },
   {
    "duration": 31,
    "start_time": "2023-08-04T20:19:15.269Z"
   },
   {
    "duration": 18,
    "start_time": "2023-08-04T20:19:15.302Z"
   },
   {
    "duration": 29,
    "start_time": "2023-08-04T20:19:15.322Z"
   },
   {
    "duration": 76,
    "start_time": "2023-08-04T20:19:15.352Z"
   },
   {
    "duration": 18,
    "start_time": "2023-08-04T20:19:15.429Z"
   },
   {
    "duration": 35,
    "start_time": "2023-08-04T20:19:15.448Z"
   },
   {
    "duration": 29,
    "start_time": "2023-08-04T20:19:15.484Z"
   },
   {
    "duration": 64,
    "start_time": "2023-08-04T20:19:15.515Z"
   },
   {
    "duration": 62,
    "start_time": "2023-08-04T20:19:15.581Z"
   },
   {
    "duration": 15,
    "start_time": "2023-08-04T20:19:15.644Z"
   },
   {
    "duration": 11,
    "start_time": "2023-08-04T20:19:15.663Z"
   },
   {
    "duration": 3,
    "start_time": "2023-08-04T20:19:17.905Z"
   },
   {
    "duration": 16,
    "start_time": "2023-08-04T20:19:20.838Z"
   },
   {
    "duration": 6,
    "start_time": "2023-08-04T20:19:22.445Z"
   },
   {
    "duration": 1311,
    "start_time": "2023-08-04T20:19:47.999Z"
   },
   {
    "duration": 390,
    "start_time": "2023-08-04T20:19:49.312Z"
   },
   {
    "duration": 288,
    "start_time": "2023-08-04T20:19:49.704Z"
   },
   {
    "duration": 73,
    "start_time": "2023-08-04T20:19:49.994Z"
   },
   {
    "duration": 74,
    "start_time": "2023-08-04T20:19:50.069Z"
   },
   {
    "duration": 16,
    "start_time": "2023-08-04T20:19:50.145Z"
   },
   {
    "duration": 80,
    "start_time": "2023-08-04T20:19:50.163Z"
   },
   {
    "duration": 15,
    "start_time": "2023-08-04T20:19:50.245Z"
   },
   {
    "duration": 63,
    "start_time": "2023-08-04T20:19:50.261Z"
   },
   {
    "duration": 11,
    "start_time": "2023-08-04T20:19:50.326Z"
   },
   {
    "duration": 17,
    "start_time": "2023-08-04T20:19:50.338Z"
   },
   {
    "duration": 6,
    "start_time": "2023-08-04T20:19:50.356Z"
   },
   {
    "duration": 25,
    "start_time": "2023-08-04T20:19:50.363Z"
   },
   {
    "duration": 14,
    "start_time": "2023-08-04T20:19:50.391Z"
   },
   {
    "duration": 5,
    "start_time": "2023-08-04T20:19:50.406Z"
   },
   {
    "duration": 11,
    "start_time": "2023-08-04T20:19:50.412Z"
   },
   {
    "duration": 17,
    "start_time": "2023-08-04T20:19:50.425Z"
   },
   {
    "duration": 148,
    "start_time": "2023-08-04T20:19:50.444Z"
   },
   {
    "duration": 22,
    "start_time": "2023-08-04T20:19:50.593Z"
   },
   {
    "duration": 8,
    "start_time": "2023-08-04T20:19:50.616Z"
   },
   {
    "duration": 6,
    "start_time": "2023-08-04T20:19:50.625Z"
   },
   {
    "duration": 8,
    "start_time": "2023-08-04T20:19:50.633Z"
   },
   {
    "duration": 11,
    "start_time": "2023-08-04T20:19:50.643Z"
   },
   {
    "duration": 33,
    "start_time": "2023-08-04T20:19:50.655Z"
   },
   {
    "duration": 36,
    "start_time": "2023-08-04T20:19:50.690Z"
   },
   {
    "duration": 17,
    "start_time": "2023-08-04T20:19:50.728Z"
   },
   {
    "duration": 42,
    "start_time": "2023-08-04T20:19:50.747Z"
   },
   {
    "duration": 6,
    "start_time": "2023-08-04T20:19:50.791Z"
   },
   {
    "duration": 21,
    "start_time": "2023-08-04T20:19:50.799Z"
   },
   {
    "duration": 21,
    "start_time": "2023-08-04T20:19:50.821Z"
   },
   {
    "duration": 33,
    "start_time": "2023-08-04T20:19:50.844Z"
   },
   {
    "duration": 5,
    "start_time": "2023-08-04T20:19:50.879Z"
   },
   {
    "duration": 19,
    "start_time": "2023-08-04T20:19:50.885Z"
   },
   {
    "duration": 14,
    "start_time": "2023-08-04T20:19:50.905Z"
   },
   {
    "duration": 21,
    "start_time": "2023-08-04T20:19:50.921Z"
   },
   {
    "duration": 23,
    "start_time": "2023-08-04T20:19:50.943Z"
   },
   {
    "duration": 22,
    "start_time": "2023-08-04T20:19:50.968Z"
   },
   {
    "duration": 14,
    "start_time": "2023-08-04T20:19:50.992Z"
   },
   {
    "duration": 11,
    "start_time": "2023-08-04T20:19:51.008Z"
   },
   {
    "duration": 12,
    "start_time": "2023-08-04T20:19:51.020Z"
   },
   {
    "duration": 4,
    "start_time": "2023-08-04T20:19:52.220Z"
   },
   {
    "duration": 3,
    "start_time": "2023-08-04T20:19:53.354Z"
   },
   {
    "duration": 14,
    "start_time": "2023-08-04T20:19:54.098Z"
   },
   {
    "duration": 5,
    "start_time": "2023-08-04T20:19:55.404Z"
   },
   {
    "duration": 83,
    "start_time": "2023-08-04T20:20:31.743Z"
   },
   {
    "duration": 3,
    "start_time": "2023-08-04T20:20:57.440Z"
   },
   {
    "duration": 4,
    "start_time": "2023-08-04T20:20:58.625Z"
   },
   {
    "duration": 17,
    "start_time": "2023-08-04T20:21:00.704Z"
   },
   {
    "duration": 4,
    "start_time": "2023-08-04T20:21:04.246Z"
   },
   {
    "duration": 3,
    "start_time": "2023-08-04T20:21:18.907Z"
   },
   {
    "duration": 141,
    "start_time": "2023-08-04T20:21:19.449Z"
   },
   {
    "duration": 4,
    "start_time": "2023-08-04T20:21:30.021Z"
   },
   {
    "duration": 3,
    "start_time": "2023-08-04T20:21:43.610Z"
   },
   {
    "duration": 228,
    "start_time": "2023-08-04T20:21:44.066Z"
   },
   {
    "duration": 1340,
    "start_time": "2023-08-04T20:21:50.482Z"
   },
   {
    "duration": 391,
    "start_time": "2023-08-04T20:21:51.824Z"
   },
   {
    "duration": 290,
    "start_time": "2023-08-04T20:21:52.216Z"
   },
   {
    "duration": 73,
    "start_time": "2023-08-04T20:21:52.508Z"
   },
   {
    "duration": 71,
    "start_time": "2023-08-04T20:21:52.582Z"
   },
   {
    "duration": 32,
    "start_time": "2023-08-04T20:21:52.655Z"
   },
   {
    "duration": 69,
    "start_time": "2023-08-04T20:21:52.689Z"
   },
   {
    "duration": 32,
    "start_time": "2023-08-04T20:21:52.759Z"
   },
   {
    "duration": 41,
    "start_time": "2023-08-04T20:21:52.793Z"
   },
   {
    "duration": 11,
    "start_time": "2023-08-04T20:21:52.836Z"
   },
   {
    "duration": 7,
    "start_time": "2023-08-04T20:21:52.848Z"
   },
   {
    "duration": 32,
    "start_time": "2023-08-04T20:21:52.856Z"
   },
   {
    "duration": 4,
    "start_time": "2023-08-04T20:21:52.890Z"
   },
   {
    "duration": 11,
    "start_time": "2023-08-04T20:21:52.896Z"
   },
   {
    "duration": 6,
    "start_time": "2023-08-04T20:21:52.909Z"
   },
   {
    "duration": 4,
    "start_time": "2023-08-04T20:21:52.917Z"
   },
   {
    "duration": 8,
    "start_time": "2023-08-04T20:21:52.923Z"
   },
   {
    "duration": 152,
    "start_time": "2023-08-04T20:21:52.933Z"
   },
   {
    "duration": 18,
    "start_time": "2023-08-04T20:21:53.087Z"
   },
   {
    "duration": 18,
    "start_time": "2023-08-04T20:21:53.107Z"
   },
   {
    "duration": 38,
    "start_time": "2023-08-04T20:21:53.127Z"
   },
   {
    "duration": 37,
    "start_time": "2023-08-04T20:21:53.167Z"
   },
   {
    "duration": 17,
    "start_time": "2023-08-04T20:21:53.206Z"
   },
   {
    "duration": 29,
    "start_time": "2023-08-04T20:21:53.224Z"
   },
   {
    "duration": 62,
    "start_time": "2023-08-04T20:21:53.254Z"
   },
   {
    "duration": 30,
    "start_time": "2023-08-04T20:21:53.318Z"
   },
   {
    "duration": 21,
    "start_time": "2023-08-04T20:21:53.350Z"
   },
   {
    "duration": 3,
    "start_time": "2023-08-04T20:21:53.374Z"
   },
   {
    "duration": 18,
    "start_time": "2023-08-04T20:21:53.378Z"
   },
   {
    "duration": 21,
    "start_time": "2023-08-04T20:21:53.397Z"
   },
   {
    "duration": 21,
    "start_time": "2023-08-04T20:21:53.419Z"
   },
   {
    "duration": 4,
    "start_time": "2023-08-04T20:21:53.442Z"
   },
   {
    "duration": 25,
    "start_time": "2023-08-04T20:21:53.447Z"
   },
   {
    "duration": 3,
    "start_time": "2023-08-04T20:21:53.474Z"
   },
   {
    "duration": 3,
    "start_time": "2023-08-04T20:21:53.479Z"
   },
   {
    "duration": 8,
    "start_time": "2023-08-04T20:21:53.483Z"
   },
   {
    "duration": 8,
    "start_time": "2023-08-04T20:21:53.492Z"
   },
   {
    "duration": 19,
    "start_time": "2023-08-04T20:21:53.502Z"
   },
   {
    "duration": 8,
    "start_time": "2023-08-04T20:21:53.522Z"
   },
   {
    "duration": 5,
    "start_time": "2023-08-04T20:21:53.531Z"
   },
   {
    "duration": 9,
    "start_time": "2023-08-04T20:21:53.538Z"
   },
   {
    "duration": 5,
    "start_time": "2023-08-04T20:21:53.549Z"
   },
   {
    "duration": 27,
    "start_time": "2023-08-04T20:21:53.555Z"
   },
   {
    "duration": 4,
    "start_time": "2023-08-04T20:21:58.205Z"
   },
   {
    "duration": 1333,
    "start_time": "2023-08-04T20:22:36.388Z"
   },
   {
    "duration": 367,
    "start_time": "2023-08-04T20:22:37.723Z"
   },
   {
    "duration": 262,
    "start_time": "2023-08-04T20:22:38.092Z"
   },
   {
    "duration": 72,
    "start_time": "2023-08-04T20:22:38.356Z"
   },
   {
    "duration": 82,
    "start_time": "2023-08-04T20:22:38.430Z"
   },
   {
    "duration": 16,
    "start_time": "2023-08-04T20:22:38.514Z"
   },
   {
    "duration": 79,
    "start_time": "2023-08-04T20:22:38.532Z"
   },
   {
    "duration": 15,
    "start_time": "2023-08-04T20:22:38.612Z"
   },
   {
    "duration": 62,
    "start_time": "2023-08-04T20:22:38.629Z"
   },
   {
    "duration": 12,
    "start_time": "2023-08-04T20:22:38.695Z"
   },
   {
    "duration": 5,
    "start_time": "2023-08-04T20:22:38.709Z"
   },
   {
    "duration": 7,
    "start_time": "2023-08-04T20:22:38.716Z"
   },
   {
    "duration": 3,
    "start_time": "2023-08-04T20:22:38.724Z"
   },
   {
    "duration": 12,
    "start_time": "2023-08-04T20:22:38.729Z"
   },
   {
    "duration": 10,
    "start_time": "2023-08-04T20:22:38.743Z"
   },
   {
    "duration": 10,
    "start_time": "2023-08-04T20:22:38.755Z"
   },
   {
    "duration": 4,
    "start_time": "2023-08-04T20:22:38.787Z"
   },
   {
    "duration": 126,
    "start_time": "2023-08-04T20:22:38.792Z"
   },
   {
    "duration": 18,
    "start_time": "2023-08-04T20:22:38.920Z"
   },
   {
    "duration": 7,
    "start_time": "2023-08-04T20:22:38.940Z"
   },
   {
    "duration": 5,
    "start_time": "2023-08-04T20:22:38.948Z"
   },
   {
    "duration": 7,
    "start_time": "2023-08-04T20:22:38.954Z"
   },
   {
    "duration": 27,
    "start_time": "2023-08-04T20:22:38.962Z"
   },
   {
    "duration": 5,
    "start_time": "2023-08-04T20:22:38.990Z"
   },
   {
    "duration": 28,
    "start_time": "2023-08-04T20:22:38.996Z"
   },
   {
    "duration": 3,
    "start_time": "2023-08-04T20:22:39.026Z"
   },
   {
    "duration": 18,
    "start_time": "2023-08-04T20:22:39.030Z"
   },
   {
    "duration": 3,
    "start_time": "2023-08-04T20:22:39.051Z"
   },
   {
    "duration": 36,
    "start_time": "2023-08-04T20:22:39.056Z"
   },
   {
    "duration": 9,
    "start_time": "2023-08-04T20:22:39.093Z"
   },
   {
    "duration": 13,
    "start_time": "2023-08-04T20:22:39.103Z"
   },
   {
    "duration": 4,
    "start_time": "2023-08-04T20:22:39.118Z"
   },
   {
    "duration": 12,
    "start_time": "2023-08-04T20:22:39.123Z"
   },
   {
    "duration": 3,
    "start_time": "2023-08-04T20:22:39.137Z"
   },
   {
    "duration": 4,
    "start_time": "2023-08-04T20:22:39.142Z"
   },
   {
    "duration": 40,
    "start_time": "2023-08-04T20:22:39.148Z"
   },
   {
    "duration": 7,
    "start_time": "2023-08-04T20:22:39.190Z"
   },
   {
    "duration": 6,
    "start_time": "2023-08-04T20:22:39.198Z"
   },
   {
    "duration": 7,
    "start_time": "2023-08-04T20:22:39.206Z"
   },
   {
    "duration": 4,
    "start_time": "2023-08-04T20:22:39.215Z"
   },
   {
    "duration": 5,
    "start_time": "2023-08-04T20:22:39.220Z"
   },
   {
    "duration": 4,
    "start_time": "2023-08-04T20:22:40.888Z"
   },
   {
    "duration": 114,
    "start_time": "2023-08-04T20:22:41.952Z"
   },
   {
    "duration": 4,
    "start_time": "2023-08-04T20:22:49.461Z"
   },
   {
    "duration": 14,
    "start_time": "2023-08-04T20:22:49.877Z"
   },
   {
    "duration": 4,
    "start_time": "2023-08-04T20:23:20.724Z"
   },
   {
    "duration": 15,
    "start_time": "2023-08-04T20:23:21.272Z"
   },
   {
    "duration": 3,
    "start_time": "2023-08-04T20:23:31.063Z"
   },
   {
    "duration": 18,
    "start_time": "2023-08-04T20:23:31.419Z"
   },
   {
    "duration": 4,
    "start_time": "2023-08-04T20:24:07.107Z"
   },
   {
    "duration": 153,
    "start_time": "2023-08-04T20:24:07.563Z"
   },
   {
    "duration": 1863,
    "start_time": "2023-08-04T20:24:19.043Z"
   },
   {
    "duration": 388,
    "start_time": "2023-08-04T20:24:20.908Z"
   },
   {
    "duration": 289,
    "start_time": "2023-08-04T20:24:21.297Z"
   },
   {
    "duration": 73,
    "start_time": "2023-08-04T20:24:21.587Z"
   },
   {
    "duration": 72,
    "start_time": "2023-08-04T20:24:21.662Z"
   },
   {
    "duration": 18,
    "start_time": "2023-08-04T20:24:21.735Z"
   },
   {
    "duration": 75,
    "start_time": "2023-08-04T20:24:21.755Z"
   },
   {
    "duration": 15,
    "start_time": "2023-08-04T20:24:21.832Z"
   },
   {
    "duration": 65,
    "start_time": "2023-08-04T20:24:21.848Z"
   },
   {
    "duration": 17,
    "start_time": "2023-08-04T20:24:21.915Z"
   },
   {
    "duration": 7,
    "start_time": "2023-08-04T20:24:21.933Z"
   },
   {
    "duration": 5,
    "start_time": "2023-08-04T20:24:21.941Z"
   },
   {
    "duration": 7,
    "start_time": "2023-08-04T20:24:21.948Z"
   },
   {
    "duration": 14,
    "start_time": "2023-08-04T20:24:21.956Z"
   },
   {
    "duration": 20,
    "start_time": "2023-08-04T20:24:21.972Z"
   },
   {
    "duration": 17,
    "start_time": "2023-08-04T20:24:21.994Z"
   },
   {
    "duration": 28,
    "start_time": "2023-08-04T20:24:22.013Z"
   },
   {
    "duration": 132,
    "start_time": "2023-08-04T20:24:22.042Z"
   },
   {
    "duration": 23,
    "start_time": "2023-08-04T20:24:22.176Z"
   },
   {
    "duration": 8,
    "start_time": "2023-08-04T20:24:22.200Z"
   },
   {
    "duration": 12,
    "start_time": "2023-08-04T20:24:22.209Z"
   },
   {
    "duration": 15,
    "start_time": "2023-08-04T20:24:22.222Z"
   },
   {
    "duration": 7,
    "start_time": "2023-08-04T20:24:22.239Z"
   },
   {
    "duration": 32,
    "start_time": "2023-08-04T20:24:22.247Z"
   },
   {
    "duration": 35,
    "start_time": "2023-08-04T20:24:22.280Z"
   },
   {
    "duration": 4,
    "start_time": "2023-08-04T20:24:22.317Z"
   },
   {
    "duration": 23,
    "start_time": "2023-08-04T20:24:22.323Z"
   },
   {
    "duration": 3,
    "start_time": "2023-08-04T20:24:22.350Z"
   },
   {
    "duration": 25,
    "start_time": "2023-08-04T20:24:22.354Z"
   },
   {
    "duration": 22,
    "start_time": "2023-08-04T20:24:22.380Z"
   },
   {
    "duration": 16,
    "start_time": "2023-08-04T20:24:22.404Z"
   },
   {
    "duration": 11,
    "start_time": "2023-08-04T20:24:22.422Z"
   },
   {
    "duration": 46,
    "start_time": "2023-08-04T20:24:22.434Z"
   },
   {
    "duration": 4,
    "start_time": "2023-08-04T20:24:22.482Z"
   },
   {
    "duration": 5,
    "start_time": "2023-08-04T20:24:22.488Z"
   },
   {
    "duration": 5,
    "start_time": "2023-08-04T20:24:22.495Z"
   },
   {
    "duration": 6,
    "start_time": "2023-08-04T20:24:22.502Z"
   },
   {
    "duration": 14,
    "start_time": "2023-08-04T20:24:22.510Z"
   },
   {
    "duration": 22,
    "start_time": "2023-08-04T20:24:22.526Z"
   },
   {
    "duration": 8,
    "start_time": "2023-08-04T20:24:22.549Z"
   },
   {
    "duration": 9,
    "start_time": "2023-08-04T20:24:22.559Z"
   },
   {
    "duration": 5,
    "start_time": "2023-08-04T20:24:22.570Z"
   },
   {
    "duration": 178,
    "start_time": "2023-08-04T20:24:22.576Z"
   },
   {
    "duration": 5,
    "start_time": "2023-08-04T20:24:24.799Z"
   },
   {
    "duration": 3,
    "start_time": "2023-08-04T20:24:53.144Z"
   },
   {
    "duration": 209,
    "start_time": "2023-08-04T20:24:53.447Z"
   },
   {
    "duration": 3,
    "start_time": "2023-08-04T20:26:40.823Z"
   },
   {
    "duration": 117,
    "start_time": "2023-08-04T20:26:43.291Z"
   },
   {
    "duration": 4,
    "start_time": "2023-08-04T20:26:57.656Z"
   },
   {
    "duration": 123,
    "start_time": "2023-08-04T20:26:58.204Z"
   },
   {
    "duration": 3,
    "start_time": "2023-08-04T20:27:06.365Z"
   },
   {
    "duration": 3,
    "start_time": "2023-08-04T20:27:12.524Z"
   },
   {
    "duration": 114,
    "start_time": "2023-08-04T20:27:12.849Z"
   },
   {
    "duration": 1331,
    "start_time": "2023-08-04T20:27:26.485Z"
   },
   {
    "duration": 373,
    "start_time": "2023-08-04T20:27:27.818Z"
   },
   {
    "duration": 275,
    "start_time": "2023-08-04T20:27:28.193Z"
   },
   {
    "duration": 75,
    "start_time": "2023-08-04T20:27:28.470Z"
   },
   {
    "duration": 70,
    "start_time": "2023-08-04T20:27:28.547Z"
   },
   {
    "duration": 22,
    "start_time": "2023-08-04T20:27:28.619Z"
   },
   {
    "duration": 96,
    "start_time": "2023-08-04T20:27:28.643Z"
   },
   {
    "duration": 15,
    "start_time": "2023-08-04T20:27:28.741Z"
   },
   {
    "duration": 60,
    "start_time": "2023-08-04T20:27:28.758Z"
   },
   {
    "duration": 16,
    "start_time": "2023-08-04T20:27:28.819Z"
   },
   {
    "duration": 6,
    "start_time": "2023-08-04T20:27:28.837Z"
   },
   {
    "duration": 9,
    "start_time": "2023-08-04T20:27:28.844Z"
   },
   {
    "duration": 5,
    "start_time": "2023-08-04T20:27:28.855Z"
   },
   {
    "duration": 28,
    "start_time": "2023-08-04T20:27:28.863Z"
   },
   {
    "duration": 4,
    "start_time": "2023-08-04T20:27:28.893Z"
   },
   {
    "duration": 3,
    "start_time": "2023-08-04T20:27:28.899Z"
   },
   {
    "duration": 4,
    "start_time": "2023-08-04T20:27:28.904Z"
   },
   {
    "duration": 131,
    "start_time": "2023-08-04T20:27:28.910Z"
   },
   {
    "duration": 20,
    "start_time": "2023-08-04T20:27:29.042Z"
   },
   {
    "duration": 24,
    "start_time": "2023-08-04T20:27:29.063Z"
   },
   {
    "duration": 6,
    "start_time": "2023-08-04T20:27:29.089Z"
   },
   {
    "duration": 8,
    "start_time": "2023-08-04T20:27:29.096Z"
   },
   {
    "duration": 14,
    "start_time": "2023-08-04T20:27:29.105Z"
   },
   {
    "duration": 9,
    "start_time": "2023-08-04T20:27:29.120Z"
   },
   {
    "duration": 31,
    "start_time": "2023-08-04T20:27:29.130Z"
   },
   {
    "duration": 4,
    "start_time": "2023-08-04T20:27:29.162Z"
   },
   {
    "duration": 34,
    "start_time": "2023-08-04T20:27:29.168Z"
   },
   {
    "duration": 6,
    "start_time": "2023-08-04T20:27:29.203Z"
   },
   {
    "duration": 10,
    "start_time": "2023-08-04T20:27:29.210Z"
   },
   {
    "duration": 9,
    "start_time": "2023-08-04T20:27:29.222Z"
   },
   {
    "duration": 14,
    "start_time": "2023-08-04T20:27:29.232Z"
   },
   {
    "duration": 4,
    "start_time": "2023-08-04T20:27:29.247Z"
   },
   {
    "duration": 39,
    "start_time": "2023-08-04T20:27:29.253Z"
   },
   {
    "duration": 4,
    "start_time": "2023-08-04T20:27:29.294Z"
   },
   {
    "duration": 5,
    "start_time": "2023-08-04T20:27:29.300Z"
   },
   {
    "duration": 8,
    "start_time": "2023-08-04T20:27:29.306Z"
   },
   {
    "duration": 6,
    "start_time": "2023-08-04T20:27:29.316Z"
   },
   {
    "duration": 8,
    "start_time": "2023-08-04T20:27:29.324Z"
   },
   {
    "duration": 10,
    "start_time": "2023-08-04T20:27:29.333Z"
   },
   {
    "duration": 4,
    "start_time": "2023-08-04T20:27:29.344Z"
   },
   {
    "duration": 37,
    "start_time": "2023-08-04T20:27:29.351Z"
   },
   {
    "duration": 4,
    "start_time": "2023-08-04T20:27:29.389Z"
   },
   {
    "duration": 121,
    "start_time": "2023-08-04T20:27:29.395Z"
   },
   {
    "duration": 3,
    "start_time": "2023-08-04T20:27:41.047Z"
   },
   {
    "duration": 15,
    "start_time": "2023-08-04T20:27:41.581Z"
   },
   {
    "duration": 3,
    "start_time": "2023-08-04T20:27:52.929Z"
   },
   {
    "duration": 16,
    "start_time": "2023-08-04T20:27:53.371Z"
   },
   {
    "duration": 4,
    "start_time": "2023-08-04T20:31:58.820Z"
   },
   {
    "duration": 15,
    "start_time": "2023-08-04T20:32:01.022Z"
   },
   {
    "duration": 1336,
    "start_time": "2023-08-04T20:32:11.734Z"
   },
   {
    "duration": 382,
    "start_time": "2023-08-04T20:32:13.072Z"
   },
   {
    "duration": 291,
    "start_time": "2023-08-04T20:32:13.456Z"
   },
   {
    "duration": 72,
    "start_time": "2023-08-04T20:32:13.749Z"
   },
   {
    "duration": 71,
    "start_time": "2023-08-04T20:32:13.822Z"
   },
   {
    "duration": 17,
    "start_time": "2023-08-04T20:32:13.895Z"
   },
   {
    "duration": 82,
    "start_time": "2023-08-04T20:32:13.913Z"
   },
   {
    "duration": 20,
    "start_time": "2023-08-04T20:32:13.996Z"
   },
   {
    "duration": 59,
    "start_time": "2023-08-04T20:32:14.017Z"
   },
   {
    "duration": 26,
    "start_time": "2023-08-04T20:32:14.079Z"
   },
   {
    "duration": 33,
    "start_time": "2023-08-04T20:32:14.107Z"
   },
   {
    "duration": 28,
    "start_time": "2023-08-04T20:32:14.142Z"
   },
   {
    "duration": 36,
    "start_time": "2023-08-04T20:32:14.172Z"
   },
   {
    "duration": 38,
    "start_time": "2023-08-04T20:32:14.210Z"
   },
   {
    "duration": 29,
    "start_time": "2023-08-04T20:32:14.250Z"
   },
   {
    "duration": 26,
    "start_time": "2023-08-04T20:32:14.281Z"
   },
   {
    "duration": 31,
    "start_time": "2023-08-04T20:32:14.309Z"
   },
   {
    "duration": 143,
    "start_time": "2023-08-04T20:32:14.343Z"
   },
   {
    "duration": 19,
    "start_time": "2023-08-04T20:32:14.487Z"
   },
   {
    "duration": 27,
    "start_time": "2023-08-04T20:32:14.507Z"
   },
   {
    "duration": 8,
    "start_time": "2023-08-04T20:32:14.536Z"
   },
   {
    "duration": 14,
    "start_time": "2023-08-04T20:32:14.545Z"
   },
   {
    "duration": 10,
    "start_time": "2023-08-04T20:32:14.560Z"
   },
   {
    "duration": 7,
    "start_time": "2023-08-04T20:32:14.572Z"
   },
   {
    "duration": 46,
    "start_time": "2023-08-04T20:32:14.581Z"
   },
   {
    "duration": 4,
    "start_time": "2023-08-04T20:32:14.629Z"
   },
   {
    "duration": 34,
    "start_time": "2023-08-04T20:32:14.635Z"
   },
   {
    "duration": 103,
    "start_time": "2023-08-04T20:32:14.673Z"
   },
   {
    "duration": 10,
    "start_time": "2023-08-04T20:32:14.778Z"
   },
   {
    "duration": 12,
    "start_time": "2023-08-04T20:32:14.790Z"
   },
   {
    "duration": 97,
    "start_time": "2023-08-04T20:32:14.804Z"
   },
   {
    "duration": 94,
    "start_time": "2023-08-04T20:32:14.903Z"
   },
   {
    "duration": 86,
    "start_time": "2023-08-04T20:32:14.998Z"
   },
   {
    "duration": 39,
    "start_time": "2023-08-04T20:32:15.086Z"
   },
   {
    "duration": 67,
    "start_time": "2023-08-04T20:32:15.127Z"
   },
   {
    "duration": 28,
    "start_time": "2023-08-04T20:32:15.196Z"
   },
   {
    "duration": 25,
    "start_time": "2023-08-04T20:32:15.226Z"
   },
   {
    "duration": 61,
    "start_time": "2023-08-04T20:32:15.253Z"
   },
   {
    "duration": 23,
    "start_time": "2023-08-04T20:32:15.316Z"
   },
   {
    "duration": 93,
    "start_time": "2023-08-04T20:32:15.341Z"
   },
   {
    "duration": 62,
    "start_time": "2023-08-04T20:32:15.435Z"
   },
   {
    "duration": 38,
    "start_time": "2023-08-04T20:32:15.499Z"
   },
   {
    "duration": 131,
    "start_time": "2023-08-04T20:32:15.538Z"
   },
   {
    "duration": 4,
    "start_time": "2023-08-04T20:32:39.055Z"
   },
   {
    "duration": 22,
    "start_time": "2023-08-04T20:32:39.512Z"
   },
   {
    "duration": 4,
    "start_time": "2023-08-04T20:32:44.577Z"
   },
   {
    "duration": 1433,
    "start_time": "2023-08-04T20:33:11.974Z"
   },
   {
    "duration": 361,
    "start_time": "2023-08-04T20:33:13.409Z"
   },
   {
    "duration": 274,
    "start_time": "2023-08-04T20:33:13.772Z"
   },
   {
    "duration": 74,
    "start_time": "2023-08-04T20:33:14.048Z"
   },
   {
    "duration": 72,
    "start_time": "2023-08-04T20:33:14.124Z"
   },
   {
    "duration": 17,
    "start_time": "2023-08-04T20:33:14.198Z"
   },
   {
    "duration": 85,
    "start_time": "2023-08-04T20:33:14.216Z"
   },
   {
    "duration": 14,
    "start_time": "2023-08-04T20:33:14.303Z"
   },
   {
    "duration": 43,
    "start_time": "2023-08-04T20:33:14.319Z"
   },
   {
    "duration": 38,
    "start_time": "2023-08-04T20:33:14.364Z"
   },
   {
    "duration": 26,
    "start_time": "2023-08-04T20:33:14.404Z"
   },
   {
    "duration": 26,
    "start_time": "2023-08-04T20:33:14.431Z"
   },
   {
    "duration": 22,
    "start_time": "2023-08-04T20:33:14.459Z"
   },
   {
    "duration": 37,
    "start_time": "2023-08-04T20:33:14.483Z"
   },
   {
    "duration": 29,
    "start_time": "2023-08-04T20:33:14.521Z"
   },
   {
    "duration": 25,
    "start_time": "2023-08-04T20:33:14.551Z"
   },
   {
    "duration": 29,
    "start_time": "2023-08-04T20:33:14.579Z"
   },
   {
    "duration": 162,
    "start_time": "2023-08-04T20:33:14.610Z"
   },
   {
    "duration": 30,
    "start_time": "2023-08-04T20:33:14.773Z"
   },
   {
    "duration": 12,
    "start_time": "2023-08-04T20:33:14.805Z"
   },
   {
    "duration": 40,
    "start_time": "2023-08-04T20:33:14.819Z"
   },
   {
    "duration": 28,
    "start_time": "2023-08-04T20:33:14.861Z"
   },
   {
    "duration": 19,
    "start_time": "2023-08-04T20:33:14.891Z"
   },
   {
    "duration": 28,
    "start_time": "2023-08-04T20:33:14.912Z"
   },
   {
    "duration": 55,
    "start_time": "2023-08-04T20:33:14.942Z"
   },
   {
    "duration": 5,
    "start_time": "2023-08-04T20:33:14.999Z"
   },
   {
    "duration": 53,
    "start_time": "2023-08-04T20:33:15.006Z"
   },
   {
    "duration": 4,
    "start_time": "2023-08-04T20:33:15.062Z"
   },
   {
    "duration": 44,
    "start_time": "2023-08-04T20:33:15.068Z"
   },
   {
    "duration": 31,
    "start_time": "2023-08-04T20:33:15.113Z"
   },
   {
    "duration": 59,
    "start_time": "2023-08-04T20:33:15.146Z"
   },
   {
    "duration": 27,
    "start_time": "2023-08-04T20:33:15.206Z"
   },
   {
    "duration": 85,
    "start_time": "2023-08-04T20:33:15.234Z"
   },
   {
    "duration": 29,
    "start_time": "2023-08-04T20:33:15.321Z"
   },
   {
    "duration": 53,
    "start_time": "2023-08-04T20:33:15.352Z"
   },
   {
    "duration": 40,
    "start_time": "2023-08-04T20:33:15.406Z"
   },
   {
    "duration": 57,
    "start_time": "2023-08-04T20:33:15.447Z"
   },
   {
    "duration": 48,
    "start_time": "2023-08-04T20:33:15.506Z"
   },
   {
    "duration": 26,
    "start_time": "2023-08-04T20:33:15.555Z"
   },
   {
    "duration": 40,
    "start_time": "2023-08-04T20:33:15.583Z"
   },
   {
    "duration": 44,
    "start_time": "2023-08-04T20:33:15.624Z"
   },
   {
    "duration": 5,
    "start_time": "2023-08-04T20:33:16.844Z"
   },
   {
    "duration": 23,
    "start_time": "2023-08-04T20:33:17.392Z"
   },
   {
    "duration": 5,
    "start_time": "2023-08-04T20:33:22.901Z"
   },
   {
    "duration": 3,
    "start_time": "2023-08-04T20:33:41.072Z"
   },
   {
    "duration": 18,
    "start_time": "2023-08-04T20:33:41.843Z"
   },
   {
    "duration": 110,
    "start_time": "2023-08-04T20:33:59.664Z"
   },
   {
    "duration": 96,
    "start_time": "2023-08-04T20:34:26.662Z"
   },
   {
    "duration": 5,
    "start_time": "2023-08-04T20:34:34.879Z"
   },
   {
    "duration": 27,
    "start_time": "2023-08-04T20:34:35.787Z"
   },
   {
    "duration": 1482,
    "start_time": "2023-08-04T20:34:47.703Z"
   },
   {
    "duration": 405,
    "start_time": "2023-08-04T20:34:49.188Z"
   },
   {
    "duration": 322,
    "start_time": "2023-08-04T20:34:49.594Z"
   },
   {
    "duration": 72,
    "start_time": "2023-08-04T20:34:49.918Z"
   },
   {
    "duration": 75,
    "start_time": "2023-08-04T20:34:49.994Z"
   },
   {
    "duration": 32,
    "start_time": "2023-08-04T20:34:50.070Z"
   },
   {
    "duration": 69,
    "start_time": "2023-08-04T20:34:50.104Z"
   },
   {
    "duration": 25,
    "start_time": "2023-08-04T20:34:50.174Z"
   },
   {
    "duration": 41,
    "start_time": "2023-08-04T20:34:50.200Z"
   },
   {
    "duration": 25,
    "start_time": "2023-08-04T20:34:50.243Z"
   },
   {
    "duration": 25,
    "start_time": "2023-08-04T20:34:50.270Z"
   },
   {
    "duration": 38,
    "start_time": "2023-08-04T20:34:50.297Z"
   },
   {
    "duration": 64,
    "start_time": "2023-08-04T20:34:50.337Z"
   },
   {
    "duration": 79,
    "start_time": "2023-08-04T20:34:50.405Z"
   },
   {
    "duration": 64,
    "start_time": "2023-08-04T20:34:50.486Z"
   },
   {
    "duration": 28,
    "start_time": "2023-08-04T20:34:50.551Z"
   },
   {
    "duration": 40,
    "start_time": "2023-08-04T20:34:50.580Z"
   },
   {
    "duration": 167,
    "start_time": "2023-08-04T20:34:50.622Z"
   },
   {
    "duration": 22,
    "start_time": "2023-08-04T20:34:50.791Z"
   },
   {
    "duration": 9,
    "start_time": "2023-08-04T20:34:50.815Z"
   },
   {
    "duration": 29,
    "start_time": "2023-08-04T20:34:50.826Z"
   },
   {
    "duration": 47,
    "start_time": "2023-08-04T20:34:50.857Z"
   },
   {
    "duration": 39,
    "start_time": "2023-08-04T20:34:50.906Z"
   },
   {
    "duration": 43,
    "start_time": "2023-08-04T20:34:50.947Z"
   },
   {
    "duration": 41,
    "start_time": "2023-08-04T20:34:50.992Z"
   },
   {
    "duration": 4,
    "start_time": "2023-08-04T20:34:51.035Z"
   },
   {
    "duration": 75,
    "start_time": "2023-08-04T20:34:51.040Z"
   },
   {
    "duration": 4,
    "start_time": "2023-08-04T20:34:51.117Z"
   },
   {
    "duration": 39,
    "start_time": "2023-08-04T20:34:51.123Z"
   },
   {
    "duration": 9,
    "start_time": "2023-08-04T20:34:51.163Z"
   },
   {
    "duration": 22,
    "start_time": "2023-08-04T20:34:51.174Z"
   },
   {
    "duration": 12,
    "start_time": "2023-08-04T20:34:51.201Z"
   },
   {
    "duration": 22,
    "start_time": "2023-08-04T20:34:51.216Z"
   },
   {
    "duration": 15,
    "start_time": "2023-08-04T20:34:51.239Z"
   },
   {
    "duration": 13,
    "start_time": "2023-08-04T20:34:51.256Z"
   },
   {
    "duration": 14,
    "start_time": "2023-08-04T20:34:51.270Z"
   },
   {
    "duration": 14,
    "start_time": "2023-08-04T20:34:51.286Z"
   },
   {
    "duration": 8,
    "start_time": "2023-08-04T20:34:51.301Z"
   },
   {
    "duration": 29,
    "start_time": "2023-08-04T20:34:51.311Z"
   },
   {
    "duration": 16,
    "start_time": "2023-08-04T20:34:51.341Z"
   },
   {
    "duration": 24,
    "start_time": "2023-08-04T20:34:51.361Z"
   },
   {
    "duration": 12,
    "start_time": "2023-08-04T20:34:51.386Z"
   },
   {
    "duration": 117,
    "start_time": "2023-08-04T20:34:51.399Z"
   },
   {
    "duration": 4,
    "start_time": "2023-08-04T20:36:20.903Z"
   },
   {
    "duration": 15,
    "start_time": "2023-08-04T20:36:21.611Z"
   },
   {
    "duration": 8,
    "start_time": "2023-08-04T20:36:24.800Z"
   },
   {
    "duration": 6,
    "start_time": "2023-08-04T20:36:39.085Z"
   },
   {
    "duration": 1406,
    "start_time": "2023-08-04T20:36:49.619Z"
   },
   {
    "duration": 393,
    "start_time": "2023-08-04T20:36:51.027Z"
   },
   {
    "duration": 289,
    "start_time": "2023-08-04T20:36:51.422Z"
   },
   {
    "duration": 73,
    "start_time": "2023-08-04T20:36:51.713Z"
   },
   {
    "duration": 74,
    "start_time": "2023-08-04T20:36:51.788Z"
   },
   {
    "duration": 31,
    "start_time": "2023-08-04T20:36:51.863Z"
   },
   {
    "duration": 75,
    "start_time": "2023-08-04T20:36:51.896Z"
   },
   {
    "duration": 33,
    "start_time": "2023-08-04T20:36:51.973Z"
   },
   {
    "duration": 42,
    "start_time": "2023-08-04T20:36:52.008Z"
   },
   {
    "duration": 41,
    "start_time": "2023-08-04T20:36:52.053Z"
   },
   {
    "duration": 16,
    "start_time": "2023-08-04T20:36:52.098Z"
   },
   {
    "duration": 25,
    "start_time": "2023-08-04T20:36:52.115Z"
   },
   {
    "duration": 66,
    "start_time": "2023-08-04T20:36:52.141Z"
   },
   {
    "duration": 20,
    "start_time": "2023-08-04T20:36:52.210Z"
   },
   {
    "duration": 43,
    "start_time": "2023-08-04T20:36:52.232Z"
   },
   {
    "duration": 42,
    "start_time": "2023-08-04T20:36:52.277Z"
   },
   {
    "duration": 25,
    "start_time": "2023-08-04T20:36:52.320Z"
   },
   {
    "duration": 135,
    "start_time": "2023-08-04T20:36:52.347Z"
   },
   {
    "duration": 18,
    "start_time": "2023-08-04T20:36:52.486Z"
   },
   {
    "duration": 7,
    "start_time": "2023-08-04T20:36:52.505Z"
   },
   {
    "duration": 20,
    "start_time": "2023-08-04T20:36:52.514Z"
   },
   {
    "duration": 11,
    "start_time": "2023-08-04T20:36:52.535Z"
   },
   {
    "duration": 41,
    "start_time": "2023-08-04T20:36:52.547Z"
   },
   {
    "duration": 23,
    "start_time": "2023-08-04T20:36:52.589Z"
   },
   {
    "duration": 45,
    "start_time": "2023-08-04T20:36:52.613Z"
   },
   {
    "duration": 4,
    "start_time": "2023-08-04T20:36:52.660Z"
   },
   {
    "duration": 23,
    "start_time": "2023-08-04T20:36:52.665Z"
   },
   {
    "duration": 3,
    "start_time": "2023-08-04T20:36:52.692Z"
   },
   {
    "duration": 17,
    "start_time": "2023-08-04T20:36:52.701Z"
   },
   {
    "duration": 9,
    "start_time": "2023-08-04T20:36:52.719Z"
   },
   {
    "duration": 16,
    "start_time": "2023-08-04T20:36:52.729Z"
   },
   {
    "duration": 4,
    "start_time": "2023-08-04T20:36:52.746Z"
   },
   {
    "duration": 8,
    "start_time": "2023-08-04T20:36:52.752Z"
   },
   {
    "duration": 9,
    "start_time": "2023-08-04T20:36:52.761Z"
   },
   {
    "duration": 27,
    "start_time": "2023-08-04T20:36:52.771Z"
   },
   {
    "duration": 10,
    "start_time": "2023-08-04T20:36:52.800Z"
   },
   {
    "duration": 10,
    "start_time": "2023-08-04T20:36:52.812Z"
   },
   {
    "duration": 8,
    "start_time": "2023-08-04T20:36:52.823Z"
   },
   {
    "duration": 30,
    "start_time": "2023-08-04T20:36:52.832Z"
   },
   {
    "duration": 16,
    "start_time": "2023-08-04T20:36:52.863Z"
   },
   {
    "duration": 19,
    "start_time": "2023-08-04T20:36:52.880Z"
   },
   {
    "duration": 19,
    "start_time": "2023-08-04T20:36:52.901Z"
   },
   {
    "duration": 4,
    "start_time": "2023-08-04T20:36:54.922Z"
   },
   {
    "duration": 15,
    "start_time": "2023-08-04T20:36:55.337Z"
   },
   {
    "duration": 4,
    "start_time": "2023-08-04T20:36:55.809Z"
   },
   {
    "duration": 4,
    "start_time": "2023-08-04T20:37:53.365Z"
   },
   {
    "duration": 4,
    "start_time": "2023-08-04T20:37:53.887Z"
   },
   {
    "duration": 15,
    "start_time": "2023-08-04T20:37:54.622Z"
   },
   {
    "duration": 4,
    "start_time": "2023-08-04T20:37:55.886Z"
   },
   {
    "duration": 5,
    "start_time": "2023-08-04T20:38:39.892Z"
   },
   {
    "duration": 4,
    "start_time": "2023-08-04T20:38:41.167Z"
   },
   {
    "duration": 4,
    "start_time": "2023-08-04T20:38:42.422Z"
   },
   {
    "duration": 123,
    "start_time": "2023-08-04T20:38:43.279Z"
   },
   {
    "duration": 4,
    "start_time": "2023-08-04T20:38:59.454Z"
   },
   {
    "duration": 1387,
    "start_time": "2023-08-04T20:39:09.030Z"
   },
   {
    "duration": 380,
    "start_time": "2023-08-04T20:39:10.419Z"
   },
   {
    "duration": 265,
    "start_time": "2023-08-04T20:39:10.801Z"
   },
   {
    "duration": 70,
    "start_time": "2023-08-04T20:39:11.069Z"
   },
   {
    "duration": 76,
    "start_time": "2023-08-04T20:39:11.141Z"
   },
   {
    "duration": 17,
    "start_time": "2023-08-04T20:39:11.219Z"
   },
   {
    "duration": 86,
    "start_time": "2023-08-04T20:39:11.237Z"
   },
   {
    "duration": 27,
    "start_time": "2023-08-04T20:39:11.325Z"
   },
   {
    "duration": 57,
    "start_time": "2023-08-04T20:39:11.354Z"
   },
   {
    "duration": 74,
    "start_time": "2023-08-04T20:39:11.414Z"
   },
   {
    "duration": 25,
    "start_time": "2023-08-04T20:39:11.490Z"
   },
   {
    "duration": 37,
    "start_time": "2023-08-04T20:39:11.517Z"
   },
   {
    "duration": 19,
    "start_time": "2023-08-04T20:39:11.556Z"
   },
   {
    "duration": 36,
    "start_time": "2023-08-04T20:39:11.577Z"
   },
   {
    "duration": 31,
    "start_time": "2023-08-04T20:39:11.614Z"
   },
   {
    "duration": 12,
    "start_time": "2023-08-04T20:39:11.647Z"
   },
   {
    "duration": 20,
    "start_time": "2023-08-04T20:39:11.660Z"
   },
   {
    "duration": 132,
    "start_time": "2023-08-04T20:39:11.682Z"
   },
   {
    "duration": 27,
    "start_time": "2023-08-04T20:39:11.816Z"
   },
   {
    "duration": 26,
    "start_time": "2023-08-04T20:39:11.845Z"
   },
   {
    "duration": 36,
    "start_time": "2023-08-04T20:39:11.873Z"
   },
   {
    "duration": 51,
    "start_time": "2023-08-04T20:39:11.911Z"
   },
   {
    "duration": 34,
    "start_time": "2023-08-04T20:39:11.963Z"
   },
   {
    "duration": 40,
    "start_time": "2023-08-04T20:39:11.999Z"
   },
   {
    "duration": 61,
    "start_time": "2023-08-04T20:39:12.040Z"
   },
   {
    "duration": 29,
    "start_time": "2023-08-04T20:39:12.103Z"
   },
   {
    "duration": 56,
    "start_time": "2023-08-04T20:39:12.134Z"
   },
   {
    "duration": 19,
    "start_time": "2023-08-04T20:39:12.193Z"
   },
   {
    "duration": 44,
    "start_time": "2023-08-04T20:39:12.214Z"
   },
   {
    "duration": 33,
    "start_time": "2023-08-04T20:39:12.260Z"
   },
   {
    "duration": 35,
    "start_time": "2023-08-04T20:39:12.295Z"
   },
   {
    "duration": 19,
    "start_time": "2023-08-04T20:39:12.332Z"
   },
   {
    "duration": 36,
    "start_time": "2023-08-04T20:39:12.352Z"
   },
   {
    "duration": 22,
    "start_time": "2023-08-04T20:39:12.390Z"
   },
   {
    "duration": 28,
    "start_time": "2023-08-04T20:39:12.413Z"
   },
   {
    "duration": 18,
    "start_time": "2023-08-04T20:39:12.443Z"
   },
   {
    "duration": 28,
    "start_time": "2023-08-04T20:39:12.463Z"
   },
   {
    "duration": 23,
    "start_time": "2023-08-04T20:39:12.492Z"
   },
   {
    "duration": 34,
    "start_time": "2023-08-04T20:39:12.517Z"
   },
   {
    "duration": 35,
    "start_time": "2023-08-04T20:39:12.553Z"
   },
   {
    "duration": 48,
    "start_time": "2023-08-04T20:39:12.591Z"
   },
   {
    "duration": 78,
    "start_time": "2023-08-04T20:39:12.641Z"
   },
   {
    "duration": 33,
    "start_time": "2023-08-04T20:39:12.721Z"
   },
   {
    "duration": 167,
    "start_time": "2023-08-04T20:39:12.756Z"
   },
   {
    "duration": 0,
    "start_time": "2023-08-04T20:39:12.924Z"
   },
   {
    "duration": 5,
    "start_time": "2023-08-04T20:39:49.432Z"
   },
   {
    "duration": 5,
    "start_time": "2023-08-04T20:39:49.892Z"
   },
   {
    "duration": 29,
    "start_time": "2023-08-04T20:39:50.688Z"
   },
   {
    "duration": 4,
    "start_time": "2023-08-04T20:40:01.356Z"
   },
   {
    "duration": 13,
    "start_time": "2023-08-04T20:40:01.777Z"
   },
   {
    "duration": 4,
    "start_time": "2023-08-04T20:41:55.626Z"
   },
   {
    "duration": 17,
    "start_time": "2023-08-04T20:41:57.147Z"
   },
   {
    "duration": 11,
    "start_time": "2023-08-04T20:42:17.386Z"
   },
   {
    "duration": 5,
    "start_time": "2023-08-04T20:43:57.527Z"
   },
   {
    "duration": 15,
    "start_time": "2023-08-04T20:44:22.522Z"
   },
   {
    "duration": 4,
    "start_time": "2023-08-04T20:44:53.286Z"
   },
   {
    "duration": 261,
    "start_time": "2023-08-04T20:44:53.753Z"
   },
   {
    "duration": 5,
    "start_time": "2023-08-04T20:45:08.663Z"
   },
   {
    "duration": 373,
    "start_time": "2023-08-04T20:45:09.147Z"
   },
   {
    "duration": 5,
    "start_time": "2023-08-04T20:46:29.602Z"
   },
   {
    "duration": 16,
    "start_time": "2023-08-04T20:46:30.026Z"
   },
   {
    "duration": 5,
    "start_time": "2023-08-04T20:46:39.561Z"
   },
   {
    "duration": 252,
    "start_time": "2023-08-04T20:46:40.078Z"
   },
   {
    "duration": 5,
    "start_time": "2023-08-04T20:49:36.907Z"
   },
   {
    "duration": 275,
    "start_time": "2023-08-04T20:49:37.279Z"
   },
   {
    "duration": 4,
    "start_time": "2023-08-04T20:51:28.708Z"
   },
   {
    "duration": 263,
    "start_time": "2023-08-04T20:51:29.144Z"
   },
   {
    "duration": 75,
    "start_time": "2023-08-04T20:52:26.877Z"
   },
   {
    "duration": 4,
    "start_time": "2023-08-04T20:52:46.690Z"
   },
   {
    "duration": 255,
    "start_time": "2023-08-04T20:52:47.396Z"
   },
   {
    "duration": 5,
    "start_time": "2023-08-04T20:53:34.274Z"
   },
   {
    "duration": 644,
    "start_time": "2023-08-04T20:53:34.752Z"
   },
   {
    "duration": 4,
    "start_time": "2023-08-04T20:53:46.128Z"
   },
   {
    "duration": 507,
    "start_time": "2023-08-04T20:53:46.563Z"
   },
   {
    "duration": 517,
    "start_time": "2023-08-04T20:54:42.644Z"
   },
   {
    "duration": 606,
    "start_time": "2023-08-04T20:54:43.890Z"
   },
   {
    "duration": 623,
    "start_time": "2023-08-04T20:54:44.724Z"
   },
   {
    "duration": 488,
    "start_time": "2023-08-04T20:54:45.575Z"
   },
   {
    "duration": 580,
    "start_time": "2023-08-04T20:54:46.256Z"
   },
   {
    "duration": 505,
    "start_time": "2023-08-04T20:54:46.861Z"
   },
   {
    "duration": 4,
    "start_time": "2023-08-04T20:54:52.622Z"
   },
   {
    "duration": 425,
    "start_time": "2023-08-04T20:54:52.628Z"
   },
   {
    "duration": 303,
    "start_time": "2023-08-04T20:54:53.055Z"
   },
   {
    "duration": 78,
    "start_time": "2023-08-04T20:54:53.360Z"
   },
   {
    "duration": 69,
    "start_time": "2023-08-04T20:54:53.439Z"
   },
   {
    "duration": 17,
    "start_time": "2023-08-04T20:54:53.510Z"
   },
   {
    "duration": 82,
    "start_time": "2023-08-04T20:54:53.529Z"
   },
   {
    "duration": 15,
    "start_time": "2023-08-04T20:54:53.612Z"
   },
   {
    "duration": 40,
    "start_time": "2023-08-04T20:54:53.628Z"
   },
   {
    "duration": 15,
    "start_time": "2023-08-04T20:54:53.689Z"
   },
   {
    "duration": 8,
    "start_time": "2023-08-04T20:54:53.706Z"
   },
   {
    "duration": 21,
    "start_time": "2023-08-04T20:54:53.716Z"
   },
   {
    "duration": 18,
    "start_time": "2023-08-04T20:54:53.739Z"
   },
   {
    "duration": 49,
    "start_time": "2023-08-04T20:54:53.759Z"
   },
   {
    "duration": 32,
    "start_time": "2023-08-04T20:54:53.810Z"
   },
   {
    "duration": 17,
    "start_time": "2023-08-04T20:54:53.843Z"
   },
   {
    "duration": 45,
    "start_time": "2023-08-04T20:54:53.861Z"
   },
   {
    "duration": 127,
    "start_time": "2023-08-04T20:54:53.908Z"
   },
   {
    "duration": 18,
    "start_time": "2023-08-04T20:54:54.037Z"
   },
   {
    "duration": 17,
    "start_time": "2023-08-04T20:54:54.057Z"
   },
   {
    "duration": 37,
    "start_time": "2023-08-04T20:54:54.076Z"
   },
   {
    "duration": 11,
    "start_time": "2023-08-04T20:54:54.115Z"
   },
   {
    "duration": 29,
    "start_time": "2023-08-04T20:54:54.127Z"
   },
   {
    "duration": 7,
    "start_time": "2023-08-04T20:54:54.158Z"
   },
   {
    "duration": 37,
    "start_time": "2023-08-04T20:54:54.167Z"
   },
   {
    "duration": 4,
    "start_time": "2023-08-04T20:54:54.205Z"
   },
   {
    "duration": 31,
    "start_time": "2023-08-04T20:54:54.211Z"
   },
   {
    "duration": 8,
    "start_time": "2023-08-04T20:54:54.246Z"
   },
   {
    "duration": 24,
    "start_time": "2023-08-04T20:54:54.255Z"
   },
   {
    "duration": 9,
    "start_time": "2023-08-04T20:54:54.280Z"
   },
   {
    "duration": 39,
    "start_time": "2023-08-04T20:54:54.291Z"
   },
   {
    "duration": 4,
    "start_time": "2023-08-04T20:54:54.332Z"
   },
   {
    "duration": 10,
    "start_time": "2023-08-04T20:54:54.338Z"
   },
   {
    "duration": 5,
    "start_time": "2023-08-04T20:54:54.350Z"
   },
   {
    "duration": 9,
    "start_time": "2023-08-04T20:54:54.357Z"
   },
   {
    "duration": 13,
    "start_time": "2023-08-04T20:54:54.367Z"
   },
   {
    "duration": 12,
    "start_time": "2023-08-04T20:54:54.382Z"
   },
   {
    "duration": 13,
    "start_time": "2023-08-04T20:54:54.395Z"
   },
   {
    "duration": 27,
    "start_time": "2023-08-04T20:54:54.409Z"
   },
   {
    "duration": 60,
    "start_time": "2023-08-04T20:54:54.438Z"
   },
   {
    "duration": 735,
    "start_time": "2023-08-04T20:54:54.499Z"
   },
   {
    "duration": 614,
    "start_time": "2023-08-04T20:54:55.237Z"
   },
   {
    "duration": 507,
    "start_time": "2023-08-04T20:54:55.853Z"
   },
   {
    "duration": 667,
    "start_time": "2023-08-04T20:54:56.361Z"
   },
   {
    "duration": 715,
    "start_time": "2023-08-04T20:54:57.030Z"
   },
   {
    "duration": 537,
    "start_time": "2023-08-04T20:54:57.746Z"
   },
   {
    "duration": 619,
    "start_time": "2023-08-04T20:54:58.287Z"
   },
   {
    "duration": 547,
    "start_time": "2023-08-04T20:54:58.909Z"
   },
   {
    "duration": 683,
    "start_time": "2023-08-04T20:54:59.458Z"
   },
   {
    "duration": 529,
    "start_time": "2023-08-04T20:55:00.143Z"
   },
   {
    "duration": 519,
    "start_time": "2023-08-04T20:55:00.674Z"
   },
   {
    "duration": 610,
    "start_time": "2023-08-04T20:55:01.195Z"
   },
   {
    "duration": 4,
    "start_time": "2023-08-04T20:55:27.917Z"
   },
   {
    "duration": 393,
    "start_time": "2023-08-04T20:55:27.922Z"
   },
   {
    "duration": 315,
    "start_time": "2023-08-04T20:55:28.317Z"
   },
   {
    "duration": 89,
    "start_time": "2023-08-04T20:55:28.635Z"
   },
   {
    "duration": 71,
    "start_time": "2023-08-04T20:55:28.726Z"
   },
   {
    "duration": 18,
    "start_time": "2023-08-04T20:55:28.798Z"
   },
   {
    "duration": 88,
    "start_time": "2023-08-04T20:55:28.818Z"
   },
   {
    "duration": 15,
    "start_time": "2023-08-04T20:55:28.908Z"
   },
   {
    "duration": 60,
    "start_time": "2023-08-04T20:55:28.927Z"
   },
   {
    "duration": 13,
    "start_time": "2023-08-04T20:55:28.988Z"
   },
   {
    "duration": 14,
    "start_time": "2023-08-04T20:55:29.002Z"
   },
   {
    "duration": 15,
    "start_time": "2023-08-04T20:55:29.018Z"
   },
   {
    "duration": 17,
    "start_time": "2023-08-04T20:55:29.034Z"
   },
   {
    "duration": 21,
    "start_time": "2023-08-04T20:55:29.053Z"
   },
   {
    "duration": 30,
    "start_time": "2023-08-04T20:55:29.075Z"
   },
   {
    "duration": 16,
    "start_time": "2023-08-04T20:55:29.106Z"
   },
   {
    "duration": 26,
    "start_time": "2023-08-04T20:55:29.123Z"
   },
   {
    "duration": 140,
    "start_time": "2023-08-04T20:55:29.151Z"
   },
   {
    "duration": 19,
    "start_time": "2023-08-04T20:55:29.294Z"
   },
   {
    "duration": 9,
    "start_time": "2023-08-04T20:55:29.314Z"
   },
   {
    "duration": 40,
    "start_time": "2023-08-04T20:55:29.324Z"
   },
   {
    "duration": 33,
    "start_time": "2023-08-04T20:55:29.365Z"
   },
   {
    "duration": 33,
    "start_time": "2023-08-04T20:55:29.400Z"
   },
   {
    "duration": 19,
    "start_time": "2023-08-04T20:55:29.437Z"
   },
   {
    "duration": 38,
    "start_time": "2023-08-04T20:55:29.458Z"
   },
   {
    "duration": 12,
    "start_time": "2023-08-04T20:55:29.498Z"
   },
   {
    "duration": 37,
    "start_time": "2023-08-04T20:55:29.512Z"
   },
   {
    "duration": 27,
    "start_time": "2023-08-04T20:55:29.550Z"
   },
   {
    "duration": 36,
    "start_time": "2023-08-04T20:55:29.579Z"
   },
   {
    "duration": 33,
    "start_time": "2023-08-04T20:55:29.616Z"
   },
   {
    "duration": 44,
    "start_time": "2023-08-04T20:55:29.651Z"
   },
   {
    "duration": 18,
    "start_time": "2023-08-04T20:55:29.697Z"
   },
   {
    "duration": 27,
    "start_time": "2023-08-04T20:55:29.717Z"
   },
   {
    "duration": 14,
    "start_time": "2023-08-04T20:55:29.746Z"
   },
   {
    "duration": 31,
    "start_time": "2023-08-04T20:55:29.762Z"
   },
   {
    "duration": 29,
    "start_time": "2023-08-04T20:55:29.795Z"
   },
   {
    "duration": 38,
    "start_time": "2023-08-04T20:55:29.826Z"
   },
   {
    "duration": 51,
    "start_time": "2023-08-04T20:55:29.866Z"
   },
   {
    "duration": 47,
    "start_time": "2023-08-04T20:55:29.919Z"
   },
   {
    "duration": 27,
    "start_time": "2023-08-04T20:55:29.968Z"
   },
   {
    "duration": 371,
    "start_time": "2023-08-04T20:55:29.997Z"
   },
   {
    "duration": 300,
    "start_time": "2023-08-04T20:55:30.370Z"
   },
   {
    "duration": 316,
    "start_time": "2023-08-04T20:55:30.672Z"
   },
   {
    "duration": 308,
    "start_time": "2023-08-04T20:55:30.990Z"
   },
   {
    "duration": 393,
    "start_time": "2023-08-04T20:55:31.300Z"
   },
   {
    "duration": 288,
    "start_time": "2023-08-04T20:55:31.695Z"
   },
   {
    "duration": 282,
    "start_time": "2023-08-04T20:55:31.988Z"
   },
   {
    "duration": 297,
    "start_time": "2023-08-04T20:55:32.272Z"
   },
   {
    "duration": 273,
    "start_time": "2023-08-04T20:55:32.571Z"
   },
   {
    "duration": 278,
    "start_time": "2023-08-04T20:55:32.845Z"
   },
   {
    "duration": 364,
    "start_time": "2023-08-04T20:55:33.126Z"
   },
   {
    "duration": 286,
    "start_time": "2023-08-04T20:55:33.491Z"
   },
   {
    "duration": 1592,
    "start_time": "2023-08-05T10:47:48.623Z"
   },
   {
    "duration": 1585,
    "start_time": "2023-08-05T10:47:50.217Z"
   },
   {
    "duration": 1200,
    "start_time": "2023-08-05T10:47:51.804Z"
   },
   {
    "duration": 378,
    "start_time": "2023-08-05T10:47:53.006Z"
   },
   {
    "duration": 79,
    "start_time": "2023-08-05T10:47:53.387Z"
   },
   {
    "duration": 21,
    "start_time": "2023-08-05T10:47:53.468Z"
   },
   {
    "duration": 92,
    "start_time": "2023-08-05T10:47:53.490Z"
   },
   {
    "duration": 19,
    "start_time": "2023-08-05T10:47:53.583Z"
   },
   {
    "duration": 74,
    "start_time": "2023-08-05T10:47:53.603Z"
   },
   {
    "duration": 18,
    "start_time": "2023-08-05T10:47:53.680Z"
   },
   {
    "duration": 7,
    "start_time": "2023-08-05T10:47:53.700Z"
   },
   {
    "duration": 7,
    "start_time": "2023-08-05T10:47:53.708Z"
   },
   {
    "duration": 57,
    "start_time": "2023-08-05T10:47:53.716Z"
   },
   {
    "duration": 40,
    "start_time": "2023-08-05T10:47:53.775Z"
   },
   {
    "duration": 21,
    "start_time": "2023-08-05T10:47:53.817Z"
   },
   {
    "duration": 47,
    "start_time": "2023-08-05T10:47:53.840Z"
   },
   {
    "duration": 22,
    "start_time": "2023-08-05T10:47:53.889Z"
   },
   {
    "duration": 190,
    "start_time": "2023-08-05T10:47:53.913Z"
   },
   {
    "duration": 29,
    "start_time": "2023-08-05T10:47:54.105Z"
   },
   {
    "duration": 31,
    "start_time": "2023-08-05T10:47:54.137Z"
   },
   {
    "duration": 9,
    "start_time": "2023-08-05T10:47:54.170Z"
   },
   {
    "duration": 9,
    "start_time": "2023-08-05T10:47:54.181Z"
   },
   {
    "duration": 9,
    "start_time": "2023-08-05T10:47:54.192Z"
   },
   {
    "duration": 35,
    "start_time": "2023-08-05T10:47:54.203Z"
   },
   {
    "duration": 67,
    "start_time": "2023-08-05T10:47:54.240Z"
   },
   {
    "duration": 4,
    "start_time": "2023-08-05T10:47:54.309Z"
   },
   {
    "duration": 26,
    "start_time": "2023-08-05T10:47:54.314Z"
   },
   {
    "duration": 16,
    "start_time": "2023-08-05T10:47:54.344Z"
   },
   {
    "duration": 18,
    "start_time": "2023-08-05T10:47:54.362Z"
   },
   {
    "duration": 10,
    "start_time": "2023-08-05T10:47:54.382Z"
   },
   {
    "duration": 26,
    "start_time": "2023-08-05T10:47:54.393Z"
   },
   {
    "duration": 4,
    "start_time": "2023-08-05T10:47:54.421Z"
   },
   {
    "duration": 18,
    "start_time": "2023-08-05T10:47:54.427Z"
   },
   {
    "duration": 10,
    "start_time": "2023-08-05T10:47:54.447Z"
   },
   {
    "duration": 12,
    "start_time": "2023-08-05T10:47:54.458Z"
   },
   {
    "duration": 10,
    "start_time": "2023-08-05T10:47:54.472Z"
   },
   {
    "duration": 7,
    "start_time": "2023-08-05T10:47:54.484Z"
   },
   {
    "duration": 21,
    "start_time": "2023-08-05T10:47:54.493Z"
   },
   {
    "duration": 19,
    "start_time": "2023-08-05T10:47:54.515Z"
   },
   {
    "duration": 21,
    "start_time": "2023-08-05T10:47:54.536Z"
   },
   {
    "duration": 358,
    "start_time": "2023-08-05T10:47:54.559Z"
   },
   {
    "duration": 399,
    "start_time": "2023-08-05T10:47:54.920Z"
   },
   {
    "duration": 329,
    "start_time": "2023-08-05T10:47:55.321Z"
   },
   {
    "duration": 304,
    "start_time": "2023-08-05T10:47:55.652Z"
   },
   {
    "duration": 309,
    "start_time": "2023-08-05T10:47:55.958Z"
   },
   {
    "duration": 305,
    "start_time": "2023-08-05T10:47:56.268Z"
   },
   {
    "duration": 305,
    "start_time": "2023-08-05T10:47:56.575Z"
   },
   {
    "duration": 438,
    "start_time": "2023-08-05T10:47:56.882Z"
   },
   {
    "duration": 309,
    "start_time": "2023-08-05T10:47:57.322Z"
   },
   {
    "duration": 329,
    "start_time": "2023-08-05T10:47:57.633Z"
   },
   {
    "duration": 312,
    "start_time": "2023-08-05T10:47:57.963Z"
   },
   {
    "duration": 325,
    "start_time": "2023-08-05T10:47:58.277Z"
   },
   {
    "duration": 460,
    "start_time": "2023-08-05T10:51:55.771Z"
   },
   {
    "duration": 291,
    "start_time": "2023-08-05T10:52:32.062Z"
   },
   {
    "duration": 189,
    "start_time": "2023-08-05T10:52:41.004Z"
   },
   {
    "duration": 177,
    "start_time": "2023-08-05T10:52:45.998Z"
   },
   {
    "duration": 196,
    "start_time": "2023-08-05T10:52:49.178Z"
   },
   {
    "duration": 223,
    "start_time": "2023-08-05T10:52:56.462Z"
   },
   {
    "duration": 192,
    "start_time": "2023-08-05T10:53:02.032Z"
   },
   {
    "duration": 201,
    "start_time": "2023-08-05T10:53:35.523Z"
   },
   {
    "duration": 519,
    "start_time": "2023-08-05T10:54:40.716Z"
   },
   {
    "duration": 266,
    "start_time": "2023-08-05T10:54:50.561Z"
   },
   {
    "duration": 235,
    "start_time": "2023-08-05T10:57:45.858Z"
   },
   {
    "duration": 197,
    "start_time": "2023-08-05T10:59:06.480Z"
   },
   {
    "duration": 310,
    "start_time": "2023-08-05T11:00:11.794Z"
   },
   {
    "duration": 212,
    "start_time": "2023-08-05T11:05:49.164Z"
   },
   {
    "duration": 188572,
    "start_time": "2023-08-05T11:07:41.104Z"
   },
   {
    "duration": 67558,
    "start_time": "2023-08-05T11:10:49.679Z"
   },
   {
    "duration": 1173,
    "start_time": "2023-08-05T11:18:42.760Z"
   },
   {
    "duration": 156,
    "start_time": "2023-08-05T11:18:48.513Z"
   },
   {
    "duration": 190,
    "start_time": "2023-08-05T11:18:53.480Z"
   },
   {
    "duration": 210,
    "start_time": "2023-08-05T11:20:44.974Z"
   },
   {
    "duration": 194,
    "start_time": "2023-08-05T11:21:39.541Z"
   },
   {
    "duration": 216,
    "start_time": "2023-08-05T11:26:19.686Z"
   },
   {
    "duration": 229,
    "start_time": "2023-08-05T11:26:25.715Z"
   },
   {
    "duration": 504,
    "start_time": "2023-08-05T11:28:14.118Z"
   },
   {
    "duration": 407,
    "start_time": "2023-08-05T11:31:16.495Z"
   },
   {
    "duration": 6,
    "start_time": "2023-08-05T11:39:11.330Z"
   },
   {
    "duration": 6,
    "start_time": "2023-08-05T11:39:13.088Z"
   },
   {
    "duration": 5,
    "start_time": "2023-08-05T11:39:13.600Z"
   },
   {
    "duration": 8,
    "start_time": "2023-08-05T11:39:14.015Z"
   },
   {
    "duration": 4,
    "start_time": "2023-08-05T11:53:15.133Z"
   },
   {
    "duration": 4,
    "start_time": "2023-08-05T11:53:33.239Z"
   },
   {
    "duration": 5,
    "start_time": "2023-08-05T11:54:47.710Z"
   },
   {
    "duration": 27146,
    "start_time": "2023-08-05T12:01:48.422Z"
   },
   {
    "duration": 47,
    "start_time": "2023-08-05T12:02:32.021Z"
   },
   {
    "duration": 1115,
    "start_time": "2023-08-05T12:02:35.154Z"
   },
   {
    "duration": 3,
    "start_time": "2023-08-05T12:18:49.311Z"
   },
   {
    "duration": 27903,
    "start_time": "2023-08-05T12:19:40.180Z"
   },
   {
    "duration": 3,
    "start_time": "2023-08-05T12:20:14.396Z"
   },
   {
    "duration": 3,
    "start_time": "2023-08-05T12:20:16.220Z"
   },
   {
    "duration": 28193,
    "start_time": "2023-08-05T12:20:17.177Z"
   },
   {
    "duration": 4,
    "start_time": "2023-08-05T12:21:31.526Z"
   },
   {
    "duration": 27574,
    "start_time": "2023-08-05T12:21:31.898Z"
   },
   {
    "duration": 4,
    "start_time": "2023-08-05T12:33:08.274Z"
   },
   {
    "duration": 30605,
    "start_time": "2023-08-05T12:33:09.175Z"
   },
   {
    "duration": 4,
    "start_time": "2023-08-05T12:34:07.591Z"
   },
   {
    "duration": 30334,
    "start_time": "2023-08-05T12:34:07.934Z"
   },
   {
    "duration": 3,
    "start_time": "2023-08-05T12:35:04.173Z"
   },
   {
    "duration": 30395,
    "start_time": "2023-08-05T12:35:04.572Z"
   },
   {
    "duration": 117,
    "start_time": "2023-08-05T12:37:25.861Z"
   },
   {
    "duration": 4,
    "start_time": "2023-08-05T12:37:33.843Z"
   },
   {
    "duration": 26693,
    "start_time": "2023-08-05T12:37:34.584Z"
   },
   {
    "duration": 128,
    "start_time": "2023-08-05T12:48:01.307Z"
   },
   {
    "duration": 1563,
    "start_time": "2023-08-05T12:48:19.682Z"
   },
   {
    "duration": 401,
    "start_time": "2023-08-05T12:48:21.247Z"
   },
   {
    "duration": 289,
    "start_time": "2023-08-05T12:48:21.649Z"
   },
   {
    "duration": 77,
    "start_time": "2023-08-05T12:48:21.941Z"
   },
   {
    "duration": 82,
    "start_time": "2023-08-05T12:48:22.020Z"
   },
   {
    "duration": 19,
    "start_time": "2023-08-05T12:48:22.103Z"
   },
   {
    "duration": 97,
    "start_time": "2023-08-05T12:48:22.123Z"
   },
   {
    "duration": 21,
    "start_time": "2023-08-05T12:48:22.222Z"
   },
   {
    "duration": 67,
    "start_time": "2023-08-05T12:48:22.245Z"
   },
   {
    "duration": 15,
    "start_time": "2023-08-05T12:48:22.314Z"
   },
   {
    "duration": 8,
    "start_time": "2023-08-05T12:48:22.331Z"
   },
   {
    "duration": 6,
    "start_time": "2023-08-05T12:48:22.367Z"
   },
   {
    "duration": 33,
    "start_time": "2023-08-05T12:48:22.375Z"
   },
   {
    "duration": 47,
    "start_time": "2023-08-05T12:48:22.410Z"
   },
   {
    "duration": 11,
    "start_time": "2023-08-05T12:48:22.459Z"
   },
   {
    "duration": 28,
    "start_time": "2023-08-05T12:48:22.471Z"
   },
   {
    "duration": 23,
    "start_time": "2023-08-05T12:48:22.501Z"
   },
   {
    "duration": 156,
    "start_time": "2023-08-05T12:48:22.526Z"
   },
   {
    "duration": 21,
    "start_time": "2023-08-05T12:48:22.683Z"
   },
   {
    "duration": 10,
    "start_time": "2023-08-05T12:48:22.706Z"
   },
   {
    "duration": 7,
    "start_time": "2023-08-05T12:48:22.717Z"
   },
   {
    "duration": 10,
    "start_time": "2023-08-05T12:48:22.725Z"
   },
   {
    "duration": 32,
    "start_time": "2023-08-05T12:48:22.737Z"
   },
   {
    "duration": 16,
    "start_time": "2023-08-05T12:48:22.770Z"
   },
   {
    "duration": 62,
    "start_time": "2023-08-05T12:48:22.788Z"
   },
   {
    "duration": 5,
    "start_time": "2023-08-05T12:48:22.852Z"
   },
   {
    "duration": 45,
    "start_time": "2023-08-05T12:48:22.858Z"
   },
   {
    "duration": 8,
    "start_time": "2023-08-05T12:48:22.907Z"
   },
   {
    "duration": 16,
    "start_time": "2023-08-05T12:48:22.917Z"
   },
   {
    "duration": 9,
    "start_time": "2023-08-05T12:48:22.935Z"
   },
   {
    "duration": 27,
    "start_time": "2023-08-05T12:48:22.946Z"
   },
   {
    "duration": 12,
    "start_time": "2023-08-05T12:48:22.975Z"
   },
   {
    "duration": 14,
    "start_time": "2023-08-05T12:48:22.989Z"
   },
   {
    "duration": 4,
    "start_time": "2023-08-05T12:48:23.005Z"
   },
   {
    "duration": 28,
    "start_time": "2023-08-05T12:48:23.010Z"
   },
   {
    "duration": 5,
    "start_time": "2023-08-05T12:48:23.040Z"
   },
   {
    "duration": 8,
    "start_time": "2023-08-05T12:48:23.047Z"
   },
   {
    "duration": 11,
    "start_time": "2023-08-05T12:48:23.057Z"
   },
   {
    "duration": 11,
    "start_time": "2023-08-05T12:48:23.069Z"
   },
   {
    "duration": 8,
    "start_time": "2023-08-05T12:48:23.082Z"
   },
   {
    "duration": 322,
    "start_time": "2023-08-05T12:48:23.091Z"
   },
   {
    "duration": 384,
    "start_time": "2023-08-05T12:48:23.415Z"
   },
   {
    "duration": 355,
    "start_time": "2023-08-05T12:48:23.801Z"
   },
   {
    "duration": 288,
    "start_time": "2023-08-05T12:48:24.167Z"
   },
   {
    "duration": 315,
    "start_time": "2023-08-05T12:48:24.457Z"
   },
   {
    "duration": 299,
    "start_time": "2023-08-05T12:48:24.774Z"
   },
   {
    "duration": 291,
    "start_time": "2023-08-05T12:48:25.076Z"
   },
   {
    "duration": 408,
    "start_time": "2023-08-05T12:48:25.369Z"
   },
   {
    "duration": 293,
    "start_time": "2023-08-05T12:48:25.779Z"
   },
   {
    "duration": 297,
    "start_time": "2023-08-05T12:48:26.074Z"
   },
   {
    "duration": 290,
    "start_time": "2023-08-05T12:48:26.374Z"
   },
   {
    "duration": 324,
    "start_time": "2023-08-05T12:48:26.668Z"
   },
   {
    "duration": 530,
    "start_time": "2023-08-05T12:48:26.994Z"
   },
   {
    "duration": 422,
    "start_time": "2023-08-05T12:48:27.526Z"
   },
   {
    "duration": 5,
    "start_time": "2023-08-05T12:48:27.950Z"
   },
   {
    "duration": 13,
    "start_time": "2023-08-05T12:48:27.957Z"
   },
   {
    "duration": 14,
    "start_time": "2023-08-05T12:48:27.971Z"
   },
   {
    "duration": 10,
    "start_time": "2023-08-05T12:48:27.987Z"
   },
   {
    "duration": 4,
    "start_time": "2023-08-05T12:48:27.999Z"
   },
   {
    "duration": 6,
    "start_time": "2023-08-05T12:48:28.005Z"
   },
   {
    "duration": 31407,
    "start_time": "2023-08-05T12:48:29.661Z"
   },
   {
    "duration": 15,
    "start_time": "2023-08-05T12:52:26.700Z"
   },
   {
    "duration": 11,
    "start_time": "2023-08-05T12:52:57.229Z"
   },
   {
    "duration": 4,
    "start_time": "2023-08-05T12:53:02.392Z"
   },
   {
    "duration": 5,
    "start_time": "2023-08-05T12:53:32.508Z"
   },
   {
    "duration": 1490,
    "start_time": "2023-08-05T12:53:47.919Z"
   },
   {
    "duration": 403,
    "start_time": "2023-08-05T12:53:49.411Z"
   },
   {
    "duration": 293,
    "start_time": "2023-08-05T12:53:49.816Z"
   },
   {
    "duration": 82,
    "start_time": "2023-08-05T12:53:50.111Z"
   },
   {
    "duration": 87,
    "start_time": "2023-08-05T12:53:50.194Z"
   },
   {
    "duration": 20,
    "start_time": "2023-08-05T12:53:50.283Z"
   },
   {
    "duration": 92,
    "start_time": "2023-08-05T12:53:50.304Z"
   },
   {
    "duration": 19,
    "start_time": "2023-08-05T12:53:50.398Z"
   },
   {
    "duration": 77,
    "start_time": "2023-08-05T12:53:50.418Z"
   },
   {
    "duration": 13,
    "start_time": "2023-08-05T12:53:50.498Z"
   },
   {
    "duration": 6,
    "start_time": "2023-08-05T12:53:50.513Z"
   },
   {
    "duration": 6,
    "start_time": "2023-08-05T12:53:50.521Z"
   },
   {
    "duration": 30,
    "start_time": "2023-08-05T12:53:50.529Z"
   },
   {
    "duration": 26,
    "start_time": "2023-08-05T12:53:50.566Z"
   },
   {
    "duration": 7,
    "start_time": "2023-08-05T12:53:50.593Z"
   },
   {
    "duration": 11,
    "start_time": "2023-08-05T12:53:50.601Z"
   },
   {
    "duration": 21,
    "start_time": "2023-08-05T12:53:50.614Z"
   },
   {
    "duration": 152,
    "start_time": "2023-08-05T12:53:50.637Z"
   },
   {
    "duration": 20,
    "start_time": "2023-08-05T12:53:50.791Z"
   },
   {
    "duration": 8,
    "start_time": "2023-08-05T12:53:50.813Z"
   },
   {
    "duration": 22,
    "start_time": "2023-08-05T12:53:50.822Z"
   },
   {
    "duration": 31,
    "start_time": "2023-08-05T12:53:50.846Z"
   },
   {
    "duration": 9,
    "start_time": "2023-08-05T12:53:50.879Z"
   },
   {
    "duration": 21,
    "start_time": "2023-08-05T12:53:50.890Z"
   },
   {
    "duration": 38,
    "start_time": "2023-08-05T12:53:50.913Z"
   },
   {
    "duration": 5,
    "start_time": "2023-08-05T12:53:50.952Z"
   },
   {
    "duration": 23,
    "start_time": "2023-08-05T12:53:50.958Z"
   },
   {
    "duration": 4,
    "start_time": "2023-08-05T12:53:50.986Z"
   },
   {
    "duration": 13,
    "start_time": "2023-08-05T12:53:50.992Z"
   },
   {
    "duration": 8,
    "start_time": "2023-08-05T12:53:51.007Z"
   },
   {
    "duration": 16,
    "start_time": "2023-08-05T12:53:51.017Z"
   },
   {
    "duration": 5,
    "start_time": "2023-08-05T12:53:51.034Z"
   },
   {
    "duration": 34,
    "start_time": "2023-08-05T12:53:51.040Z"
   },
   {
    "duration": 3,
    "start_time": "2023-08-05T12:53:51.076Z"
   },
   {
    "duration": 17,
    "start_time": "2023-08-05T12:53:51.081Z"
   },
   {
    "duration": 7,
    "start_time": "2023-08-05T12:53:51.099Z"
   },
   {
    "duration": 8,
    "start_time": "2023-08-05T12:53:51.108Z"
   },
   {
    "duration": 8,
    "start_time": "2023-08-05T12:53:51.118Z"
   },
   {
    "duration": 11,
    "start_time": "2023-08-05T12:53:51.128Z"
   },
   {
    "duration": 30,
    "start_time": "2023-08-05T12:53:51.141Z"
   },
   {
    "duration": 313,
    "start_time": "2023-08-05T12:53:51.173Z"
   },
   {
    "duration": 382,
    "start_time": "2023-08-05T12:53:51.488Z"
   },
   {
    "duration": 291,
    "start_time": "2023-08-05T12:53:51.872Z"
   },
   {
    "duration": 303,
    "start_time": "2023-08-05T12:53:52.167Z"
   },
   {
    "duration": 311,
    "start_time": "2023-08-05T12:53:52.471Z"
   },
   {
    "duration": 295,
    "start_time": "2023-08-05T12:53:52.784Z"
   },
   {
    "duration": 300,
    "start_time": "2023-08-05T12:53:53.081Z"
   },
   {
    "duration": 427,
    "start_time": "2023-08-05T12:53:53.383Z"
   },
   {
    "duration": 399,
    "start_time": "2023-08-05T12:53:53.812Z"
   },
   {
    "duration": 310,
    "start_time": "2023-08-05T12:53:54.213Z"
   },
   {
    "duration": 321,
    "start_time": "2023-08-05T12:53:54.526Z"
   },
   {
    "duration": 306,
    "start_time": "2023-08-05T12:53:54.849Z"
   },
   {
    "duration": 517,
    "start_time": "2023-08-05T12:53:55.157Z"
   },
   {
    "duration": 416,
    "start_time": "2023-08-05T12:53:55.676Z"
   },
   {
    "duration": 5,
    "start_time": "2023-08-05T12:53:56.093Z"
   },
   {
    "duration": 8,
    "start_time": "2023-08-05T12:53:56.100Z"
   },
   {
    "duration": 11,
    "start_time": "2023-08-05T12:53:56.110Z"
   },
   {
    "duration": 20,
    "start_time": "2023-08-05T12:53:56.123Z"
   },
   {
    "duration": 7,
    "start_time": "2023-08-05T12:53:56.145Z"
   },
   {
    "duration": 4,
    "start_time": "2023-08-05T12:54:22.304Z"
   },
   {
    "duration": 32484,
    "start_time": "2023-08-05T12:54:22.926Z"
   },
   {
    "duration": 10,
    "start_time": "2023-08-05T12:55:43.283Z"
   },
   {
    "duration": 4,
    "start_time": "2023-08-05T12:57:03.025Z"
   },
   {
    "duration": 35903,
    "start_time": "2023-08-05T12:57:03.870Z"
   },
   {
    "duration": 4,
    "start_time": "2023-08-05T12:58:34.497Z"
   },
   {
    "duration": 29807,
    "start_time": "2023-08-05T12:58:34.667Z"
   },
   {
    "duration": 4,
    "start_time": "2023-08-05T13:00:21.895Z"
   },
   {
    "duration": 33874,
    "start_time": "2023-08-05T13:00:22.302Z"
   },
   {
    "duration": 6,
    "start_time": "2023-08-05T13:08:17.030Z"
   },
   {
    "duration": 32077,
    "start_time": "2023-08-05T13:08:18.292Z"
   },
   {
    "duration": 2,
    "start_time": "2023-08-05T13:38:39.601Z"
   },
   {
    "duration": 5,
    "start_time": "2023-08-05T13:39:39.586Z"
   },
   {
    "duration": 3,
    "start_time": "2023-08-05T13:39:43.106Z"
   },
   {
    "duration": 4,
    "start_time": "2023-08-05T13:39:44.728Z"
   },
   {
    "duration": 50412,
    "start_time": "2023-08-05T13:39:46.483Z"
   },
   {
    "duration": 4,
    "start_time": "2023-08-05T13:44:17.480Z"
   },
   {
    "duration": 34528,
    "start_time": "2023-08-05T13:44:18.140Z"
   },
   {
    "duration": 36907,
    "start_time": "2023-08-05T13:49:16.162Z"
   },
   {
    "duration": 5,
    "start_time": "2023-08-05T13:53:30.858Z"
   },
   {
    "duration": 36017,
    "start_time": "2023-08-05T13:53:33.758Z"
   },
   {
    "duration": 35001,
    "start_time": "2023-08-05T13:54:09.778Z"
   },
   {
    "duration": 1599,
    "start_time": "2023-08-05T13:56:17.374Z"
   },
   {
    "duration": 426,
    "start_time": "2023-08-05T13:56:18.976Z"
   },
   {
    "duration": 313,
    "start_time": "2023-08-05T13:56:19.404Z"
   },
   {
    "duration": 89,
    "start_time": "2023-08-05T13:56:19.719Z"
   },
   {
    "duration": 91,
    "start_time": "2023-08-05T13:56:19.810Z"
   },
   {
    "duration": 22,
    "start_time": "2023-08-05T13:56:19.904Z"
   },
   {
    "duration": 100,
    "start_time": "2023-08-05T13:56:19.928Z"
   },
   {
    "duration": 18,
    "start_time": "2023-08-05T13:56:20.030Z"
   },
   {
    "duration": 84,
    "start_time": "2023-08-05T13:56:20.050Z"
   },
   {
    "duration": 15,
    "start_time": "2023-08-05T13:56:20.137Z"
   },
   {
    "duration": 18,
    "start_time": "2023-08-05T13:56:20.153Z"
   },
   {
    "duration": 9,
    "start_time": "2023-08-05T13:56:20.172Z"
   },
   {
    "duration": 12,
    "start_time": "2023-08-05T13:56:20.183Z"
   },
   {
    "duration": 28,
    "start_time": "2023-08-05T13:56:20.197Z"
   },
   {
    "duration": 6,
    "start_time": "2023-08-05T13:56:20.227Z"
   },
   {
    "duration": 9,
    "start_time": "2023-08-05T13:56:20.235Z"
   },
   {
    "duration": 22,
    "start_time": "2023-08-05T13:56:20.246Z"
   },
   {
    "duration": 139,
    "start_time": "2023-08-05T13:56:20.270Z"
   },
   {
    "duration": 21,
    "start_time": "2023-08-05T13:56:20.412Z"
   },
   {
    "duration": 34,
    "start_time": "2023-08-05T13:56:20.435Z"
   },
   {
    "duration": 8,
    "start_time": "2023-08-05T13:56:20.471Z"
   },
   {
    "duration": 21,
    "start_time": "2023-08-05T13:56:20.481Z"
   },
   {
    "duration": 60,
    "start_time": "2023-08-05T13:56:20.503Z"
   },
   {
    "duration": 82,
    "start_time": "2023-08-05T13:56:20.565Z"
   },
   {
    "duration": 85,
    "start_time": "2023-08-05T13:56:20.649Z"
   },
   {
    "duration": 6,
    "start_time": "2023-08-05T13:56:20.736Z"
   },
   {
    "duration": 56,
    "start_time": "2023-08-05T13:56:20.744Z"
   },
   {
    "duration": 6,
    "start_time": "2023-08-05T13:56:20.807Z"
   },
   {
    "duration": 25,
    "start_time": "2023-08-05T13:56:20.815Z"
   },
   {
    "duration": 41,
    "start_time": "2023-08-05T13:56:20.843Z"
   },
   {
    "duration": 38,
    "start_time": "2023-08-05T13:56:20.888Z"
   },
   {
    "duration": 4,
    "start_time": "2023-08-05T13:56:20.929Z"
   },
   {
    "duration": 13,
    "start_time": "2023-08-05T13:56:20.935Z"
   },
   {
    "duration": 22,
    "start_time": "2023-08-05T13:56:20.950Z"
   },
   {
    "duration": 15,
    "start_time": "2023-08-05T13:56:20.973Z"
   },
   {
    "duration": 19,
    "start_time": "2023-08-05T13:56:20.990Z"
   },
   {
    "duration": 9,
    "start_time": "2023-08-05T13:56:21.011Z"
   },
   {
    "duration": 21,
    "start_time": "2023-08-05T13:56:21.023Z"
   },
   {
    "duration": 27,
    "start_time": "2023-08-05T13:56:21.046Z"
   },
   {
    "duration": 26,
    "start_time": "2023-08-05T13:56:21.076Z"
   },
   {
    "duration": 350,
    "start_time": "2023-08-05T13:56:21.104Z"
   },
   {
    "duration": 406,
    "start_time": "2023-08-05T13:56:21.466Z"
   },
   {
    "duration": 303,
    "start_time": "2023-08-05T13:56:21.874Z"
   },
   {
    "duration": 342,
    "start_time": "2023-08-05T13:56:22.179Z"
   },
   {
    "duration": 321,
    "start_time": "2023-08-05T13:56:22.522Z"
   },
   {
    "duration": 336,
    "start_time": "2023-08-05T13:56:22.845Z"
   },
   {
    "duration": 318,
    "start_time": "2023-08-05T13:56:23.183Z"
   },
   {
    "duration": 450,
    "start_time": "2023-08-05T13:56:23.502Z"
   },
   {
    "duration": 386,
    "start_time": "2023-08-05T13:56:23.954Z"
   },
   {
    "duration": 304,
    "start_time": "2023-08-05T13:56:24.342Z"
   },
   {
    "duration": 315,
    "start_time": "2023-08-05T13:56:24.648Z"
   },
   {
    "duration": 322,
    "start_time": "2023-08-05T13:56:24.967Z"
   },
   {
    "duration": 6,
    "start_time": "2023-08-05T13:56:25.290Z"
   },
   {
    "duration": 552,
    "start_time": "2023-08-05T13:56:25.298Z"
   },
   {
    "duration": 445,
    "start_time": "2023-08-05T13:56:25.852Z"
   },
   {
    "duration": 214,
    "start_time": "2023-08-05T13:56:26.299Z"
   },
   {
    "duration": 5,
    "start_time": "2023-08-05T13:56:26.515Z"
   },
   {
    "duration": 7,
    "start_time": "2023-08-05T13:56:26.522Z"
   },
   {
    "duration": 6,
    "start_time": "2023-08-05T13:56:26.530Z"
   },
   {
    "duration": 32,
    "start_time": "2023-08-05T13:56:26.537Z"
   },
   {
    "duration": 7,
    "start_time": "2023-08-05T13:56:26.571Z"
   },
   {
    "duration": 7,
    "start_time": "2023-08-05T13:56:26.580Z"
   },
   {
    "duration": 3,
    "start_time": "2023-08-05T13:56:26.589Z"
   },
   {
    "duration": 6,
    "start_time": "2023-08-05T13:56:26.594Z"
   },
   {
    "duration": 4,
    "start_time": "2023-08-05T13:56:26.602Z"
   },
   {
    "duration": 34961,
    "start_time": "2023-08-05T13:56:26.608Z"
   },
   {
    "duration": 33582,
    "start_time": "2023-08-05T13:57:37.586Z"
   },
   {
    "duration": 135,
    "start_time": "2023-08-05T13:58:26.862Z"
   },
   {
    "duration": 54,
    "start_time": "2023-08-05T14:01:29.534Z"
   },
   {
    "duration": 2147,
    "start_time": "2023-08-05T14:01:40.993Z"
   },
   {
    "duration": 403,
    "start_time": "2023-08-05T14:01:43.143Z"
   },
   {
    "duration": 297,
    "start_time": "2023-08-05T14:01:43.549Z"
   },
   {
    "duration": 92,
    "start_time": "2023-08-05T14:01:43.849Z"
   },
   {
    "duration": 132,
    "start_time": "2023-08-05T14:01:43.943Z"
   },
   {
    "duration": 25,
    "start_time": "2023-08-05T14:01:44.077Z"
   },
   {
    "duration": 133,
    "start_time": "2023-08-05T14:01:44.105Z"
   },
   {
    "duration": 42,
    "start_time": "2023-08-05T14:01:44.240Z"
   },
   {
    "duration": 98,
    "start_time": "2023-08-05T14:01:44.284Z"
   },
   {
    "duration": 22,
    "start_time": "2023-08-05T14:01:44.386Z"
   },
   {
    "duration": 8,
    "start_time": "2023-08-05T14:01:44.411Z"
   },
   {
    "duration": 8,
    "start_time": "2023-08-05T14:01:44.421Z"
   },
   {
    "duration": 38,
    "start_time": "2023-08-05T14:01:44.431Z"
   },
   {
    "duration": 16,
    "start_time": "2023-08-05T14:01:44.472Z"
   },
   {
    "duration": 17,
    "start_time": "2023-08-05T14:01:44.490Z"
   },
   {
    "duration": 11,
    "start_time": "2023-08-05T14:01:44.509Z"
   },
   {
    "duration": 14,
    "start_time": "2023-08-05T14:01:44.522Z"
   },
   {
    "duration": 196,
    "start_time": "2023-08-05T14:01:44.538Z"
   },
   {
    "duration": 42,
    "start_time": "2023-08-05T14:01:44.736Z"
   },
   {
    "duration": 8,
    "start_time": "2023-08-05T14:01:44.780Z"
   },
   {
    "duration": 10,
    "start_time": "2023-08-05T14:01:44.790Z"
   },
   {
    "duration": 17,
    "start_time": "2023-08-05T14:01:44.802Z"
   },
   {
    "duration": 5,
    "start_time": "2023-08-05T14:01:44.822Z"
   },
   {
    "duration": 32,
    "start_time": "2023-08-05T14:01:44.829Z"
   },
   {
    "duration": 39,
    "start_time": "2023-08-05T14:01:44.868Z"
   },
   {
    "duration": 4,
    "start_time": "2023-08-05T14:01:44.910Z"
   },
   {
    "duration": 32,
    "start_time": "2023-08-05T14:01:44.916Z"
   },
   {
    "duration": 9,
    "start_time": "2023-08-05T14:01:44.968Z"
   },
   {
    "duration": 15,
    "start_time": "2023-08-05T14:01:44.979Z"
   },
   {
    "duration": 13,
    "start_time": "2023-08-05T14:01:44.997Z"
   },
   {
    "duration": 49,
    "start_time": "2023-08-05T14:01:45.013Z"
   },
   {
    "duration": 6,
    "start_time": "2023-08-05T14:01:45.064Z"
   },
   {
    "duration": 11,
    "start_time": "2023-08-05T14:01:45.073Z"
   },
   {
    "duration": 21,
    "start_time": "2023-08-05T14:01:45.087Z"
   },
   {
    "duration": 6,
    "start_time": "2023-08-05T14:01:45.110Z"
   },
   {
    "duration": 6,
    "start_time": "2023-08-05T14:01:45.117Z"
   },
   {
    "duration": 10,
    "start_time": "2023-08-05T14:01:45.125Z"
   },
   {
    "duration": 6,
    "start_time": "2023-08-05T14:01:45.137Z"
   },
   {
    "duration": 31,
    "start_time": "2023-08-05T14:01:45.145Z"
   },
   {
    "duration": 7,
    "start_time": "2023-08-05T14:01:45.178Z"
   },
   {
    "duration": 519,
    "start_time": "2023-08-05T14:01:45.186Z"
   },
   {
    "duration": 466,
    "start_time": "2023-08-05T14:01:45.709Z"
   },
   {
    "duration": 374,
    "start_time": "2023-08-05T14:01:46.177Z"
   },
   {
    "duration": 334,
    "start_time": "2023-08-05T14:01:46.553Z"
   },
   {
    "duration": 352,
    "start_time": "2023-08-05T14:01:46.889Z"
   },
   {
    "duration": 320,
    "start_time": "2023-08-05T14:01:47.243Z"
   },
   {
    "duration": 331,
    "start_time": "2023-08-05T14:01:47.567Z"
   },
   {
    "duration": 446,
    "start_time": "2023-08-05T14:01:47.900Z"
   },
   {
    "duration": 434,
    "start_time": "2023-08-05T14:01:48.348Z"
   },
   {
    "duration": 422,
    "start_time": "2023-08-05T14:01:48.784Z"
   },
   {
    "duration": 336,
    "start_time": "2023-08-05T14:01:49.208Z"
   },
   {
    "duration": 326,
    "start_time": "2023-08-05T14:01:49.545Z"
   },
   {
    "duration": 7,
    "start_time": "2023-08-05T14:01:49.873Z"
   },
   {
    "duration": 568,
    "start_time": "2023-08-05T14:01:49.882Z"
   },
   {
    "duration": 451,
    "start_time": "2023-08-05T14:01:50.452Z"
   },
   {
    "duration": 254,
    "start_time": "2023-08-05T14:01:50.906Z"
   },
   {
    "duration": 10,
    "start_time": "2023-08-05T14:01:51.162Z"
   },
   {
    "duration": 13,
    "start_time": "2023-08-05T14:01:51.173Z"
   },
   {
    "duration": 7,
    "start_time": "2023-08-05T14:01:51.189Z"
   },
   {
    "duration": 15,
    "start_time": "2023-08-05T14:01:51.199Z"
   },
   {
    "duration": 7,
    "start_time": "2023-08-05T14:01:51.217Z"
   },
   {
    "duration": 18,
    "start_time": "2023-08-05T14:01:51.226Z"
   },
   {
    "duration": 4,
    "start_time": "2023-08-05T14:01:51.268Z"
   },
   {
    "duration": 9,
    "start_time": "2023-08-05T14:01:51.274Z"
   },
   {
    "duration": 15,
    "start_time": "2023-08-05T14:01:51.284Z"
   },
   {
    "duration": 50576,
    "start_time": "2023-08-05T14:01:51.301Z"
   },
   {
    "duration": 41597,
    "start_time": "2023-08-05T14:02:41.883Z"
   },
   {
    "duration": 169,
    "start_time": "2023-08-05T14:03:23.485Z"
   },
   {
    "duration": 27,
    "start_time": "2023-08-05T14:07:55.919Z"
   },
   {
    "duration": 18,
    "start_time": "2023-08-05T14:07:59.838Z"
   },
   {
    "duration": 177,
    "start_time": "2023-08-05T14:09:21.355Z"
   },
   {
    "duration": 1535,
    "start_time": "2023-08-05T14:09:26.685Z"
   },
   {
    "duration": 421,
    "start_time": "2023-08-05T14:09:28.222Z"
   },
   {
    "duration": 325,
    "start_time": "2023-08-05T14:09:28.647Z"
   },
   {
    "duration": 112,
    "start_time": "2023-08-05T14:09:28.975Z"
   },
   {
    "duration": 111,
    "start_time": "2023-08-05T14:09:29.089Z"
   },
   {
    "duration": 20,
    "start_time": "2023-08-05T14:09:29.201Z"
   },
   {
    "duration": 96,
    "start_time": "2023-08-05T14:09:29.223Z"
   },
   {
    "duration": 18,
    "start_time": "2023-08-05T14:09:29.321Z"
   },
   {
    "duration": 66,
    "start_time": "2023-08-05T14:09:29.341Z"
   },
   {
    "duration": 79,
    "start_time": "2023-08-05T14:09:29.411Z"
   },
   {
    "duration": 122,
    "start_time": "2023-08-05T14:09:29.492Z"
   },
   {
    "duration": 50,
    "start_time": "2023-08-05T14:09:29.616Z"
   },
   {
    "duration": 6,
    "start_time": "2023-08-05T14:09:29.668Z"
   },
   {
    "duration": 87,
    "start_time": "2023-08-05T14:09:29.676Z"
   },
   {
    "duration": 68,
    "start_time": "2023-08-05T14:09:29.765Z"
   },
   {
    "duration": 10,
    "start_time": "2023-08-05T14:09:29.835Z"
   },
   {
    "duration": 27,
    "start_time": "2023-08-05T14:09:29.847Z"
   },
   {
    "duration": 168,
    "start_time": "2023-08-05T14:09:29.876Z"
   },
   {
    "duration": 29,
    "start_time": "2023-08-05T14:09:30.046Z"
   },
   {
    "duration": 23,
    "start_time": "2023-08-05T14:09:30.078Z"
   },
   {
    "duration": 29,
    "start_time": "2023-08-05T14:09:30.103Z"
   },
   {
    "duration": 27,
    "start_time": "2023-08-05T14:09:30.135Z"
   },
   {
    "duration": 34,
    "start_time": "2023-08-05T14:09:30.165Z"
   },
   {
    "duration": 49,
    "start_time": "2023-08-05T14:09:30.201Z"
   },
   {
    "duration": 74,
    "start_time": "2023-08-05T14:09:30.252Z"
   },
   {
    "duration": 18,
    "start_time": "2023-08-05T14:09:30.328Z"
   },
   {
    "duration": 78,
    "start_time": "2023-08-05T14:09:30.348Z"
   },
   {
    "duration": 38,
    "start_time": "2023-08-05T14:09:30.430Z"
   },
   {
    "duration": 35,
    "start_time": "2023-08-05T14:09:30.471Z"
   },
   {
    "duration": 31,
    "start_time": "2023-08-05T14:09:30.508Z"
   },
   {
    "duration": 48,
    "start_time": "2023-08-05T14:09:30.541Z"
   },
   {
    "duration": 27,
    "start_time": "2023-08-05T14:09:30.591Z"
   },
   {
    "duration": 37,
    "start_time": "2023-08-05T14:09:30.620Z"
   },
   {
    "duration": 49,
    "start_time": "2023-08-05T14:09:30.659Z"
   },
   {
    "duration": 46,
    "start_time": "2023-08-05T14:09:30.710Z"
   },
   {
    "duration": 44,
    "start_time": "2023-08-05T14:09:30.758Z"
   },
   {
    "duration": 39,
    "start_time": "2023-08-05T14:09:30.805Z"
   },
   {
    "duration": 49,
    "start_time": "2023-08-05T14:09:30.847Z"
   },
   {
    "duration": 19,
    "start_time": "2023-08-05T14:09:30.898Z"
   },
   {
    "duration": 44,
    "start_time": "2023-08-05T14:09:30.920Z"
   },
   {
    "duration": 542,
    "start_time": "2023-08-05T14:09:30.967Z"
   },
   {
    "duration": 460,
    "start_time": "2023-08-05T14:09:31.511Z"
   },
   {
    "duration": 334,
    "start_time": "2023-08-05T14:09:31.973Z"
   },
   {
    "duration": 383,
    "start_time": "2023-08-05T14:09:32.310Z"
   },
   {
    "duration": 328,
    "start_time": "2023-08-05T14:09:32.695Z"
   },
   {
    "duration": 345,
    "start_time": "2023-08-05T14:09:33.025Z"
   },
   {
    "duration": 295,
    "start_time": "2023-08-05T14:09:33.372Z"
   },
   {
    "duration": 501,
    "start_time": "2023-08-05T14:09:33.668Z"
   },
   {
    "duration": 326,
    "start_time": "2023-08-05T14:09:34.171Z"
   },
   {
    "duration": 306,
    "start_time": "2023-08-05T14:09:34.499Z"
   },
   {
    "duration": 327,
    "start_time": "2023-08-05T14:09:34.807Z"
   },
   {
    "duration": 341,
    "start_time": "2023-08-05T14:09:35.136Z"
   },
   {
    "duration": 7,
    "start_time": "2023-08-05T14:09:35.479Z"
   },
   {
    "duration": 565,
    "start_time": "2023-08-05T14:09:35.488Z"
   },
   {
    "duration": 424,
    "start_time": "2023-08-05T14:09:36.055Z"
   },
   {
    "duration": 215,
    "start_time": "2023-08-05T14:09:36.481Z"
   },
   {
    "duration": 5,
    "start_time": "2023-08-05T14:09:36.698Z"
   },
   {
    "duration": 18,
    "start_time": "2023-08-05T14:09:36.704Z"
   },
   {
    "duration": 21,
    "start_time": "2023-08-05T14:09:36.724Z"
   },
   {
    "duration": 11,
    "start_time": "2023-08-05T14:09:36.747Z"
   },
   {
    "duration": 7,
    "start_time": "2023-08-05T14:09:36.766Z"
   },
   {
    "duration": 10,
    "start_time": "2023-08-05T14:09:36.775Z"
   },
   {
    "duration": 4,
    "start_time": "2023-08-05T14:09:36.787Z"
   },
   {
    "duration": 14,
    "start_time": "2023-08-05T14:09:36.792Z"
   },
   {
    "duration": 5,
    "start_time": "2023-08-05T14:09:36.808Z"
   },
   {
    "duration": 35072,
    "start_time": "2023-08-05T14:09:36.815Z"
   },
   {
    "duration": 33183,
    "start_time": "2023-08-05T14:10:11.889Z"
   },
   {
    "duration": 836765,
    "start_time": "2023-08-05T14:10:45.074Z"
   },
   {
    "duration": 854468,
    "start_time": "2023-08-05T14:24:41.844Z"
   },
   {
    "duration": 96,
    "start_time": "2023-08-05T14:50:13.659Z"
   },
   {
    "duration": 225,
    "start_time": "2023-08-05T14:50:29.152Z"
   },
   {
    "duration": 1518,
    "start_time": "2023-08-05T18:35:11.032Z"
   },
   {
    "duration": 433,
    "start_time": "2023-08-05T18:35:12.554Z"
   },
   {
    "duration": 312,
    "start_time": "2023-08-05T18:35:12.989Z"
   },
   {
    "duration": 81,
    "start_time": "2023-08-05T18:35:13.303Z"
   },
   {
    "duration": 87,
    "start_time": "2023-08-05T18:35:13.386Z"
   },
   {
    "duration": 22,
    "start_time": "2023-08-05T18:35:13.474Z"
   },
   {
    "duration": 111,
    "start_time": "2023-08-05T18:35:13.498Z"
   },
   {
    "duration": 19,
    "start_time": "2023-08-05T18:35:13.610Z"
   },
   {
    "duration": 72,
    "start_time": "2023-08-05T18:35:13.631Z"
   },
   {
    "duration": 13,
    "start_time": "2023-08-05T18:35:13.707Z"
   },
   {
    "duration": 26,
    "start_time": "2023-08-05T18:35:13.722Z"
   },
   {
    "duration": 7,
    "start_time": "2023-08-05T18:35:13.750Z"
   },
   {
    "duration": 3,
    "start_time": "2023-08-05T18:35:13.767Z"
   },
   {
    "duration": 13,
    "start_time": "2023-08-05T18:35:13.772Z"
   },
   {
    "duration": 32,
    "start_time": "2023-08-05T18:35:13.787Z"
   },
   {
    "duration": 4,
    "start_time": "2023-08-05T18:35:13.822Z"
   },
   {
    "duration": 9,
    "start_time": "2023-08-05T18:35:13.828Z"
   },
   {
    "duration": 145,
    "start_time": "2023-08-05T18:35:13.839Z"
   },
   {
    "duration": 29,
    "start_time": "2023-08-05T18:35:13.986Z"
   },
   {
    "duration": 10,
    "start_time": "2023-08-05T18:35:14.017Z"
   },
   {
    "duration": 20,
    "start_time": "2023-08-05T18:35:14.029Z"
   },
   {
    "duration": 43,
    "start_time": "2023-08-05T18:35:14.051Z"
   },
   {
    "duration": 20,
    "start_time": "2023-08-05T18:35:14.097Z"
   },
   {
    "duration": 22,
    "start_time": "2023-08-05T18:35:14.119Z"
   },
   {
    "duration": 51,
    "start_time": "2023-08-05T18:35:14.143Z"
   },
   {
    "duration": 4,
    "start_time": "2023-08-05T18:35:14.197Z"
   },
   {
    "duration": 41,
    "start_time": "2023-08-05T18:35:14.203Z"
   },
   {
    "duration": 4,
    "start_time": "2023-08-05T18:35:14.249Z"
   },
   {
    "duration": 37,
    "start_time": "2023-08-05T18:35:14.255Z"
   },
   {
    "duration": 45,
    "start_time": "2023-08-05T18:35:14.293Z"
   },
   {
    "duration": 45,
    "start_time": "2023-08-05T18:35:14.339Z"
   },
   {
    "duration": 7,
    "start_time": "2023-08-05T18:35:14.385Z"
   },
   {
    "duration": 17,
    "start_time": "2023-08-05T18:35:14.394Z"
   },
   {
    "duration": 17,
    "start_time": "2023-08-05T18:35:14.413Z"
   },
   {
    "duration": 24,
    "start_time": "2023-08-05T18:35:14.432Z"
   },
   {
    "duration": 21,
    "start_time": "2023-08-05T18:35:14.458Z"
   },
   {
    "duration": 33,
    "start_time": "2023-08-05T18:35:14.481Z"
   },
   {
    "duration": 9,
    "start_time": "2023-08-05T18:35:14.516Z"
   },
   {
    "duration": 11,
    "start_time": "2023-08-05T18:35:14.527Z"
   },
   {
    "duration": 19,
    "start_time": "2023-08-05T18:35:14.539Z"
   },
   {
    "duration": 372,
    "start_time": "2023-08-05T18:35:14.559Z"
   },
   {
    "duration": 380,
    "start_time": "2023-08-05T18:35:14.933Z"
   },
   {
    "duration": 292,
    "start_time": "2023-08-05T18:35:15.315Z"
   },
   {
    "duration": 312,
    "start_time": "2023-08-05T18:35:15.609Z"
   },
   {
    "duration": 317,
    "start_time": "2023-08-05T18:35:15.923Z"
   },
   {
    "duration": 296,
    "start_time": "2023-08-05T18:35:16.242Z"
   },
   {
    "duration": 326,
    "start_time": "2023-08-05T18:35:16.541Z"
   },
   {
    "duration": 451,
    "start_time": "2023-08-05T18:35:16.869Z"
   },
   {
    "duration": 320,
    "start_time": "2023-08-05T18:35:17.322Z"
   },
   {
    "duration": 342,
    "start_time": "2023-08-05T18:35:17.644Z"
   },
   {
    "duration": 312,
    "start_time": "2023-08-05T18:35:17.988Z"
   },
   {
    "duration": 304,
    "start_time": "2023-08-05T18:35:18.301Z"
   },
   {
    "duration": 5,
    "start_time": "2023-08-05T18:35:18.607Z"
   },
   {
    "duration": 566,
    "start_time": "2023-08-05T18:35:18.614Z"
   },
   {
    "duration": 421,
    "start_time": "2023-08-05T18:35:19.181Z"
   },
   {
    "duration": 210,
    "start_time": "2023-08-05T18:35:19.603Z"
   },
   {
    "duration": 6,
    "start_time": "2023-08-05T18:35:19.814Z"
   },
   {
    "duration": 15,
    "start_time": "2023-08-05T18:35:19.822Z"
   },
   {
    "duration": 13,
    "start_time": "2023-08-05T18:35:19.839Z"
   },
   {
    "duration": 26,
    "start_time": "2023-08-05T18:35:19.854Z"
   },
   {
    "duration": 18,
    "start_time": "2023-08-05T18:35:19.881Z"
   },
   {
    "duration": 16,
    "start_time": "2023-08-05T18:35:19.901Z"
   },
   {
    "duration": 3,
    "start_time": "2023-08-05T18:35:19.919Z"
   },
   {
    "duration": 7,
    "start_time": "2023-08-05T18:35:19.924Z"
   },
   {
    "duration": 8,
    "start_time": "2023-08-05T18:35:19.932Z"
   },
   {
    "duration": 32229,
    "start_time": "2023-08-05T18:35:19.942Z"
   },
   {
    "duration": 0,
    "start_time": "2023-08-05T18:35:52.173Z"
   },
   {
    "duration": 0,
    "start_time": "2023-08-05T18:35:52.174Z"
   },
   {
    "duration": 0,
    "start_time": "2023-08-05T18:35:52.176Z"
   },
   {
    "duration": 0,
    "start_time": "2023-08-05T18:35:52.177Z"
   },
   {
    "duration": 36503,
    "start_time": "2023-08-05T18:51:00.266Z"
   },
   {
    "duration": 5,
    "start_time": "2023-08-05T18:51:38.584Z"
   },
   {
    "duration": 34815,
    "start_time": "2023-08-05T18:51:39.158Z"
   },
   {
    "duration": 33251,
    "start_time": "2023-08-05T18:52:38.917Z"
   },
   {
    "duration": 817410,
    "start_time": "2023-08-05T18:53:12.170Z"
   },
   {
    "duration": 797174,
    "start_time": "2023-08-05T19:06:49.583Z"
   },
   {
    "duration": 17,
    "start_time": "2023-08-05T19:20:06.759Z"
   },
   {
    "duration": 529,
    "start_time": "2023-08-05T19:44:05.540Z"
   },
   {
    "duration": 513,
    "start_time": "2023-08-05T19:44:31.047Z"
   },
   {
    "duration": 1514,
    "start_time": "2023-08-05T20:33:55.567Z"
   },
   {
    "duration": 397,
    "start_time": "2023-08-05T20:33:57.083Z"
   },
   {
    "duration": 305,
    "start_time": "2023-08-05T20:33:57.482Z"
   },
   {
    "duration": 83,
    "start_time": "2023-08-05T20:33:57.790Z"
   },
   {
    "duration": 79,
    "start_time": "2023-08-05T20:33:57.875Z"
   },
   {
    "duration": 28,
    "start_time": "2023-08-05T20:33:57.955Z"
   },
   {
    "duration": 83,
    "start_time": "2023-08-05T20:33:57.985Z"
   },
   {
    "duration": 17,
    "start_time": "2023-08-05T20:33:58.070Z"
   },
   {
    "duration": 46,
    "start_time": "2023-08-05T20:33:58.089Z"
   },
   {
    "duration": 40,
    "start_time": "2023-08-05T20:33:58.138Z"
   },
   {
    "duration": 8,
    "start_time": "2023-08-05T20:33:58.180Z"
   },
   {
    "duration": 7,
    "start_time": "2023-08-05T20:33:58.190Z"
   },
   {
    "duration": 3,
    "start_time": "2023-08-05T20:33:58.199Z"
   },
   {
    "duration": 15,
    "start_time": "2023-08-05T20:33:58.204Z"
   },
   {
    "duration": 6,
    "start_time": "2023-08-05T20:33:58.221Z"
   },
   {
    "duration": 40,
    "start_time": "2023-08-05T20:33:58.228Z"
   },
   {
    "duration": 4,
    "start_time": "2023-08-05T20:33:58.270Z"
   },
   {
    "duration": 133,
    "start_time": "2023-08-05T20:33:58.276Z"
   },
   {
    "duration": 22,
    "start_time": "2023-08-05T20:33:58.410Z"
   },
   {
    "duration": 8,
    "start_time": "2023-08-05T20:33:58.433Z"
   },
   {
    "duration": 25,
    "start_time": "2023-08-05T20:33:58.443Z"
   },
   {
    "duration": 11,
    "start_time": "2023-08-05T20:33:58.470Z"
   },
   {
    "duration": 9,
    "start_time": "2023-08-05T20:33:58.483Z"
   },
   {
    "duration": 17,
    "start_time": "2023-08-05T20:33:58.494Z"
   },
   {
    "duration": 35,
    "start_time": "2023-08-05T20:33:58.513Z"
   },
   {
    "duration": 4,
    "start_time": "2023-08-05T20:33:58.550Z"
   },
   {
    "duration": 34,
    "start_time": "2023-08-05T20:33:58.555Z"
   },
   {
    "duration": 4,
    "start_time": "2023-08-05T20:33:58.593Z"
   },
   {
    "duration": 12,
    "start_time": "2023-08-05T20:33:58.599Z"
   },
   {
    "duration": 9,
    "start_time": "2023-08-05T20:33:58.612Z"
   },
   {
    "duration": 15,
    "start_time": "2023-08-05T20:33:58.622Z"
   },
   {
    "duration": 5,
    "start_time": "2023-08-05T20:33:58.667Z"
   },
   {
    "duration": 10,
    "start_time": "2023-08-05T20:33:58.674Z"
   },
   {
    "duration": 3,
    "start_time": "2023-08-05T20:33:58.686Z"
   },
   {
    "duration": 11,
    "start_time": "2023-08-05T20:33:58.691Z"
   },
   {
    "duration": 4,
    "start_time": "2023-08-05T20:33:58.704Z"
   },
   {
    "duration": 7,
    "start_time": "2023-08-05T20:33:58.710Z"
   },
   {
    "duration": 6,
    "start_time": "2023-08-05T20:33:58.718Z"
   },
   {
    "duration": 6,
    "start_time": "2023-08-05T20:33:58.725Z"
   },
   {
    "duration": 33,
    "start_time": "2023-08-05T20:33:58.733Z"
   },
   {
    "duration": 306,
    "start_time": "2023-08-05T20:33:58.769Z"
   },
   {
    "duration": 381,
    "start_time": "2023-08-05T20:33:59.077Z"
   },
   {
    "duration": 275,
    "start_time": "2023-08-05T20:33:59.466Z"
   },
   {
    "duration": 298,
    "start_time": "2023-08-05T20:33:59.743Z"
   },
   {
    "duration": 310,
    "start_time": "2023-08-05T20:34:00.043Z"
   },
   {
    "duration": 305,
    "start_time": "2023-08-05T20:34:00.355Z"
   },
   {
    "duration": 304,
    "start_time": "2023-08-05T20:34:00.662Z"
   },
   {
    "duration": 431,
    "start_time": "2023-08-05T20:34:00.968Z"
   },
   {
    "duration": 315,
    "start_time": "2023-08-05T20:34:01.401Z"
   },
   {
    "duration": 305,
    "start_time": "2023-08-05T20:34:01.718Z"
   },
   {
    "duration": 305,
    "start_time": "2023-08-05T20:34:02.025Z"
   },
   {
    "duration": 317,
    "start_time": "2023-08-05T20:34:02.332Z"
   },
   {
    "duration": 6,
    "start_time": "2023-08-05T20:34:02.650Z"
   },
   {
    "duration": 530,
    "start_time": "2023-08-05T20:34:02.667Z"
   },
   {
    "duration": 416,
    "start_time": "2023-08-05T20:34:03.198Z"
   },
   {
    "duration": 202,
    "start_time": "2023-08-05T20:34:03.616Z"
   },
   {
    "duration": 6,
    "start_time": "2023-08-05T20:34:03.819Z"
   },
   {
    "duration": 12,
    "start_time": "2023-08-05T20:34:03.827Z"
   },
   {
    "duration": 8,
    "start_time": "2023-08-05T20:34:03.841Z"
   },
   {
    "duration": 22,
    "start_time": "2023-08-05T20:34:03.850Z"
   },
   {
    "duration": 10,
    "start_time": "2023-08-05T20:34:03.874Z"
   },
   {
    "duration": 7,
    "start_time": "2023-08-05T20:34:03.887Z"
   },
   {
    "duration": 5,
    "start_time": "2023-08-05T20:34:03.896Z"
   },
   {
    "duration": 5,
    "start_time": "2023-08-05T20:34:03.902Z"
   },
   {
    "duration": 5,
    "start_time": "2023-08-05T20:34:03.910Z"
   },
   {
    "duration": 29555,
    "start_time": "2023-08-05T20:34:03.917Z"
   },
   {
    "duration": 31500,
    "start_time": "2023-08-05T20:34:33.474Z"
   },
   {
    "duration": 4,
    "start_time": "2023-08-05T20:35:12.306Z"
   },
   {
    "duration": 108,
    "start_time": "2023-08-05T20:35:54.699Z"
   },
   {
    "duration": 2488219,
    "start_time": "2023-08-05T20:36:14.928Z"
   },
   {
    "duration": 2359280,
    "start_time": "2023-08-05T21:29:57.053Z"
   },
   {
    "duration": 1511,
    "start_time": "2023-08-05T22:36:14.268Z"
   },
   {
    "duration": 394,
    "start_time": "2023-08-05T22:36:15.781Z"
   },
   {
    "duration": 288,
    "start_time": "2023-08-05T22:36:16.177Z"
   },
   {
    "duration": 79,
    "start_time": "2023-08-05T22:36:16.467Z"
   },
   {
    "duration": 75,
    "start_time": "2023-08-05T22:36:16.548Z"
   },
   {
    "duration": 18,
    "start_time": "2023-08-05T22:36:16.625Z"
   },
   {
    "duration": 84,
    "start_time": "2023-08-05T22:36:16.645Z"
   },
   {
    "duration": 17,
    "start_time": "2023-08-05T22:36:16.731Z"
   },
   {
    "duration": 49,
    "start_time": "2023-08-05T22:36:16.767Z"
   },
   {
    "duration": 13,
    "start_time": "2023-08-05T22:36:16.818Z"
   },
   {
    "duration": 9,
    "start_time": "2023-08-05T22:36:16.833Z"
   },
   {
    "duration": 6,
    "start_time": "2023-08-05T22:36:16.868Z"
   },
   {
    "duration": 15,
    "start_time": "2023-08-05T22:36:16.875Z"
   },
   {
    "duration": 28,
    "start_time": "2023-08-05T22:36:16.893Z"
   },
   {
    "duration": 6,
    "start_time": "2023-08-05T22:36:16.922Z"
   },
   {
    "duration": 6,
    "start_time": "2023-08-05T22:36:16.929Z"
   },
   {
    "duration": 15,
    "start_time": "2023-08-05T22:36:16.936Z"
   },
   {
    "duration": 126,
    "start_time": "2023-08-05T22:36:16.952Z"
   },
   {
    "duration": 20,
    "start_time": "2023-08-05T22:36:17.079Z"
   },
   {
    "duration": 7,
    "start_time": "2023-08-05T22:36:17.101Z"
   },
   {
    "duration": 6,
    "start_time": "2023-08-05T22:36:17.110Z"
   },
   {
    "duration": 11,
    "start_time": "2023-08-05T22:36:17.117Z"
   },
   {
    "duration": 7,
    "start_time": "2023-08-05T22:36:17.130Z"
   },
   {
    "duration": 30,
    "start_time": "2023-08-05T22:36:17.138Z"
   },
   {
    "duration": 32,
    "start_time": "2023-08-05T22:36:17.170Z"
   },
   {
    "duration": 4,
    "start_time": "2023-08-05T22:36:17.204Z"
   },
   {
    "duration": 21,
    "start_time": "2023-08-05T22:36:17.210Z"
   },
   {
    "duration": 4,
    "start_time": "2023-08-05T22:36:17.233Z"
   },
   {
    "duration": 35,
    "start_time": "2023-08-05T22:36:17.238Z"
   },
   {
    "duration": 12,
    "start_time": "2023-08-05T22:36:17.275Z"
   },
   {
    "duration": 14,
    "start_time": "2023-08-05T22:36:17.289Z"
   },
   {
    "duration": 5,
    "start_time": "2023-08-05T22:36:17.305Z"
   },
   {
    "duration": 12,
    "start_time": "2023-08-05T22:36:17.311Z"
   },
   {
    "duration": 3,
    "start_time": "2023-08-05T22:36:17.324Z"
   },
   {
    "duration": 5,
    "start_time": "2023-08-05T22:36:17.329Z"
   },
   {
    "duration": 5,
    "start_time": "2023-08-05T22:36:17.366Z"
   },
   {
    "duration": 8,
    "start_time": "2023-08-05T22:36:17.372Z"
   },
   {
    "duration": 6,
    "start_time": "2023-08-05T22:36:17.381Z"
   },
   {
    "duration": 5,
    "start_time": "2023-08-05T22:36:17.389Z"
   },
   {
    "duration": 4,
    "start_time": "2023-08-05T22:36:17.396Z"
   },
   {
    "duration": 22590,
    "start_time": "2023-08-05T22:36:23.749Z"
   },
   {
    "duration": 4,
    "start_time": "2023-08-05T22:37:32.913Z"
   },
   {
    "duration": 276,
    "start_time": "2023-08-05T22:37:33.594Z"
   },
   {
    "duration": 5,
    "start_time": "2023-08-05T22:37:39.453Z"
   },
   {
    "duration": 274,
    "start_time": "2023-08-05T22:37:39.975Z"
   },
   {
    "duration": 5,
    "start_time": "2023-08-05T22:37:52.544Z"
   },
   {
    "duration": 122,
    "start_time": "2023-08-05T22:37:53.003Z"
   },
   {
    "duration": 5,
    "start_time": "2023-08-05T22:38:04.388Z"
   },
   {
    "duration": 23,
    "start_time": "2023-08-05T22:38:04.755Z"
   },
   {
    "duration": 6,
    "start_time": "2023-08-05T22:38:13.763Z"
   },
   {
    "duration": 23,
    "start_time": "2023-08-05T22:38:14.140Z"
   },
   {
    "duration": 5,
    "start_time": "2023-08-05T22:38:19.810Z"
   },
   {
    "duration": 279,
    "start_time": "2023-08-05T22:38:20.192Z"
   },
   {
    "duration": 279,
    "start_time": "2023-08-05T22:38:40.311Z"
   },
   {
    "duration": 1531,
    "start_time": "2023-08-05T22:39:37.750Z"
   },
   {
    "duration": 395,
    "start_time": "2023-08-05T22:39:39.283Z"
   },
   {
    "duration": 298,
    "start_time": "2023-08-05T22:39:39.680Z"
   },
   {
    "duration": 79,
    "start_time": "2023-08-05T22:39:39.980Z"
   },
   {
    "duration": 78,
    "start_time": "2023-08-05T22:39:40.060Z"
   },
   {
    "duration": 30,
    "start_time": "2023-08-05T22:39:40.139Z"
   },
   {
    "duration": 69,
    "start_time": "2023-08-05T22:39:40.170Z"
   },
   {
    "duration": 31,
    "start_time": "2023-08-05T22:39:40.240Z"
   },
   {
    "duration": 45,
    "start_time": "2023-08-05T22:39:40.273Z"
   },
   {
    "duration": 13,
    "start_time": "2023-08-05T22:39:40.321Z"
   },
   {
    "duration": 33,
    "start_time": "2023-08-05T22:39:40.335Z"
   },
   {
    "duration": 6,
    "start_time": "2023-08-05T22:39:40.370Z"
   },
   {
    "duration": 7,
    "start_time": "2023-08-05T22:39:40.377Z"
   },
   {
    "duration": 14,
    "start_time": "2023-08-05T22:39:40.385Z"
   },
   {
    "duration": 5,
    "start_time": "2023-08-05T22:39:40.400Z"
   },
   {
    "duration": 6,
    "start_time": "2023-08-05T22:39:40.407Z"
   },
   {
    "duration": 8,
    "start_time": "2023-08-05T22:39:40.414Z"
   },
   {
    "duration": 150,
    "start_time": "2023-08-05T22:39:40.424Z"
   },
   {
    "duration": 20,
    "start_time": "2023-08-05T22:39:40.575Z"
   },
   {
    "duration": 8,
    "start_time": "2023-08-05T22:39:40.597Z"
   },
   {
    "duration": 6,
    "start_time": "2023-08-05T22:39:40.606Z"
   },
   {
    "duration": 8,
    "start_time": "2023-08-05T22:39:40.613Z"
   },
   {
    "duration": 6,
    "start_time": "2023-08-05T22:39:40.622Z"
   },
   {
    "duration": 38,
    "start_time": "2023-08-05T22:39:40.630Z"
   },
   {
    "duration": 33,
    "start_time": "2023-08-05T22:39:40.670Z"
   },
   {
    "duration": 4,
    "start_time": "2023-08-05T22:39:40.705Z"
   },
   {
    "duration": 21,
    "start_time": "2023-08-05T22:39:40.711Z"
   },
   {
    "duration": 4,
    "start_time": "2023-08-05T22:39:40.737Z"
   },
   {
    "duration": 11,
    "start_time": "2023-08-05T22:39:40.766Z"
   },
   {
    "duration": 9,
    "start_time": "2023-08-05T22:39:40.779Z"
   },
   {
    "duration": 14,
    "start_time": "2023-08-05T22:39:40.790Z"
   },
   {
    "duration": 4,
    "start_time": "2023-08-05T22:39:40.806Z"
   },
   {
    "duration": 12,
    "start_time": "2023-08-05T22:39:40.812Z"
   },
   {
    "duration": 41,
    "start_time": "2023-08-05T22:39:40.826Z"
   },
   {
    "duration": 4,
    "start_time": "2023-08-05T22:39:40.869Z"
   },
   {
    "duration": 6,
    "start_time": "2023-08-05T22:39:40.874Z"
   },
   {
    "duration": 8,
    "start_time": "2023-08-05T22:39:40.881Z"
   },
   {
    "duration": 6,
    "start_time": "2023-08-05T22:39:40.890Z"
   },
   {
    "duration": 6,
    "start_time": "2023-08-05T22:39:40.897Z"
   },
   {
    "duration": 4,
    "start_time": "2023-08-05T22:39:40.905Z"
   },
   {
    "duration": 313,
    "start_time": "2023-08-05T22:39:40.911Z"
   },
   {
    "duration": 385,
    "start_time": "2023-08-05T22:39:41.225Z"
   },
   {
    "duration": 289,
    "start_time": "2023-08-05T22:39:47.214Z"
   },
   {
    "duration": 287,
    "start_time": "2023-08-05T22:39:48.750Z"
   },
   {
    "duration": 293,
    "start_time": "2023-08-05T22:39:50.073Z"
   },
   {
    "duration": 293,
    "start_time": "2023-08-05T22:39:51.702Z"
   },
   {
    "duration": 292,
    "start_time": "2023-08-05T22:39:52.878Z"
   },
   {
    "duration": 421,
    "start_time": "2023-08-05T22:39:53.798Z"
   },
   {
    "duration": 284,
    "start_time": "2023-08-05T22:40:11.671Z"
   },
   {
    "duration": 306,
    "start_time": "2023-08-05T22:40:13.926Z"
   },
   {
    "duration": 289,
    "start_time": "2023-08-05T22:40:15.750Z"
   },
   {
    "duration": 278,
    "start_time": "2023-08-05T22:40:16.972Z"
   },
   {
    "duration": 407,
    "start_time": "2023-08-05T22:40:18.215Z"
   },
   {
    "duration": 5,
    "start_time": "2023-08-05T22:40:34.408Z"
   },
   {
    "duration": 383,
    "start_time": "2023-08-05T22:40:36.025Z"
   },
   {
    "duration": 392,
    "start_time": "2023-08-05T22:40:41.933Z"
   },
   {
    "duration": 410,
    "start_time": "2023-08-05T22:40:45.195Z"
   },
   {
    "duration": 204,
    "start_time": "2023-08-05T22:40:48.944Z"
   },
   {
    "duration": 6,
    "start_time": "2023-08-05T22:41:03.849Z"
   },
   {
    "duration": 6,
    "start_time": "2023-08-05T22:41:11.564Z"
   },
   {
    "duration": 6,
    "start_time": "2023-08-05T22:41:12.144Z"
   },
   {
    "duration": 6,
    "start_time": "2023-08-05T22:41:12.772Z"
   },
   {
    "duration": 1511,
    "start_time": "2023-08-05T22:44:05.354Z"
   },
   {
    "duration": 413,
    "start_time": "2023-08-05T22:44:06.867Z"
   },
   {
    "duration": 304,
    "start_time": "2023-08-05T22:44:07.281Z"
   },
   {
    "duration": 81,
    "start_time": "2023-08-05T22:44:07.587Z"
   },
   {
    "duration": 79,
    "start_time": "2023-08-05T22:44:07.670Z"
   },
   {
    "duration": 30,
    "start_time": "2023-08-05T22:44:07.751Z"
   },
   {
    "duration": 97,
    "start_time": "2023-08-05T22:44:07.782Z"
   },
   {
    "duration": 17,
    "start_time": "2023-08-05T22:44:07.880Z"
   },
   {
    "duration": 47,
    "start_time": "2023-08-05T22:44:07.899Z"
   },
   {
    "duration": 28,
    "start_time": "2023-08-05T22:44:07.949Z"
   },
   {
    "duration": 7,
    "start_time": "2023-08-05T22:44:07.979Z"
   },
   {
    "duration": 18,
    "start_time": "2023-08-05T22:44:07.988Z"
   },
   {
    "duration": 12,
    "start_time": "2023-08-05T22:44:08.008Z"
   },
   {
    "duration": 27,
    "start_time": "2023-08-05T22:44:08.022Z"
   },
   {
    "duration": 15,
    "start_time": "2023-08-05T22:44:08.051Z"
   },
   {
    "duration": 24,
    "start_time": "2023-08-05T22:44:08.068Z"
   },
   {
    "duration": 29,
    "start_time": "2023-08-05T22:44:08.093Z"
   },
   {
    "duration": 130,
    "start_time": "2023-08-05T22:44:08.124Z"
   },
   {
    "duration": 31,
    "start_time": "2023-08-05T22:44:08.256Z"
   },
   {
    "duration": 23,
    "start_time": "2023-08-05T22:44:08.289Z"
   },
   {
    "duration": 7,
    "start_time": "2023-08-05T22:44:08.314Z"
   },
   {
    "duration": 9,
    "start_time": "2023-08-05T22:44:08.323Z"
   },
   {
    "duration": 6,
    "start_time": "2023-08-05T22:44:08.334Z"
   },
   {
    "duration": 26,
    "start_time": "2023-08-05T22:44:08.342Z"
   },
   {
    "duration": 36,
    "start_time": "2023-08-05T22:44:08.371Z"
   },
   {
    "duration": 5,
    "start_time": "2023-08-05T22:44:08.409Z"
   },
   {
    "duration": 29,
    "start_time": "2023-08-05T22:44:08.416Z"
   },
   {
    "duration": 4,
    "start_time": "2023-08-05T22:44:08.466Z"
   },
   {
    "duration": 13,
    "start_time": "2023-08-05T22:44:08.472Z"
   },
   {
    "duration": 9,
    "start_time": "2023-08-05T22:44:08.487Z"
   },
   {
    "duration": 28,
    "start_time": "2023-08-05T22:44:08.497Z"
   },
   {
    "duration": 4,
    "start_time": "2023-08-05T22:44:08.528Z"
   },
   {
    "duration": 65,
    "start_time": "2023-08-05T22:44:08.534Z"
   },
   {
    "duration": 4,
    "start_time": "2023-08-05T22:44:08.600Z"
   },
   {
    "duration": 7,
    "start_time": "2023-08-05T22:44:08.606Z"
   },
   {
    "duration": 6,
    "start_time": "2023-08-05T22:44:08.614Z"
   },
   {
    "duration": 7,
    "start_time": "2023-08-05T22:44:08.622Z"
   },
   {
    "duration": 5,
    "start_time": "2023-08-05T22:44:12.417Z"
   },
   {
    "duration": 294,
    "start_time": "2023-08-05T22:44:13.236Z"
   },
   {
    "duration": 371,
    "start_time": "2023-08-05T22:44:17.170Z"
   },
   {
    "duration": 293,
    "start_time": "2023-08-05T22:44:18.627Z"
   },
   {
    "duration": 297,
    "start_time": "2023-08-05T22:44:20.399Z"
   },
   {
    "duration": 295,
    "start_time": "2023-08-05T22:44:21.666Z"
   },
   {
    "duration": 307,
    "start_time": "2023-08-05T22:44:23.170Z"
   },
   {
    "duration": 284,
    "start_time": "2023-08-05T22:44:24.531Z"
   },
   {
    "duration": 411,
    "start_time": "2023-08-05T22:44:25.797Z"
   },
   {
    "duration": 290,
    "start_time": "2023-08-05T22:44:26.818Z"
   },
   {
    "duration": 294,
    "start_time": "2023-08-05T22:44:27.770Z"
   },
   {
    "duration": 284,
    "start_time": "2023-08-05T22:44:30.701Z"
   },
   {
    "duration": 287,
    "start_time": "2023-08-05T22:44:31.869Z"
   },
   {
    "duration": 522,
    "start_time": "2023-08-05T22:44:38.235Z"
   },
   {
    "duration": 398,
    "start_time": "2023-08-05T22:44:40.671Z"
   },
   {
    "duration": 6,
    "start_time": "2023-08-05T22:44:44.190Z"
   },
   {
    "duration": 6,
    "start_time": "2023-08-05T22:44:44.882Z"
   },
   {
    "duration": 6,
    "start_time": "2023-08-05T22:44:45.335Z"
   },
   {
    "duration": 6,
    "start_time": "2023-08-05T22:44:45.834Z"
   },
   {
    "duration": 3,
    "start_time": "2023-08-05T22:44:48.987Z"
   },
   {
    "duration": 3,
    "start_time": "2023-08-05T22:44:50.094Z"
   },
   {
    "duration": 4,
    "start_time": "2023-08-05T22:45:05.724Z"
   },
   {
    "duration": 28300,
    "start_time": "2023-08-05T22:45:06.770Z"
   },
   {
    "duration": 0,
    "start_time": "2023-08-05T22:45:35.072Z"
   },
   {
    "duration": 4,
    "start_time": "2023-08-05T22:46:01.305Z"
   },
   {
    "duration": 31508,
    "start_time": "2023-08-05T22:46:01.964Z"
   },
   {
    "duration": 10,
    "start_time": "2023-08-05T22:47:04.937Z"
   },
   {
    "duration": 31064,
    "start_time": "2023-08-05T22:48:21.509Z"
   },
   {
    "duration": 4,
    "start_time": "2023-08-05T22:48:52.576Z"
   },
   {
    "duration": 21176,
    "start_time": "2023-08-05T22:49:16.098Z"
   },
   {
    "duration": 21892,
    "start_time": "2023-08-05T22:49:37.276Z"
   },
   {
    "duration": 9,
    "start_time": "2023-08-05T22:50:05.180Z"
   },
   {
    "duration": 114,
    "start_time": "2023-08-05T22:51:36.171Z"
   },
   {
    "duration": 8,
    "start_time": "2023-08-05T22:51:41.339Z"
   },
   {
    "duration": 108,
    "start_time": "2023-08-05T22:52:01.898Z"
   },
   {
    "duration": 6,
    "start_time": "2023-08-05T22:52:08.417Z"
   },
   {
    "duration": 6,
    "start_time": "2023-08-05T22:52:31.060Z"
   },
   {
    "duration": 4,
    "start_time": "2023-08-05T22:55:32.760Z"
   },
   {
    "duration": 4,
    "start_time": "2023-08-05T23:00:19.180Z"
   },
   {
    "duration": 4,
    "start_time": "2023-08-05T23:00:20.052Z"
   },
   {
    "duration": 7,
    "start_time": "2023-08-05T23:00:21.222Z"
   },
   {
    "duration": 1513,
    "start_time": "2023-08-05T23:04:20.188Z"
   },
   {
    "duration": 397,
    "start_time": "2023-08-05T23:04:21.703Z"
   },
   {
    "duration": 298,
    "start_time": "2023-08-05T23:04:22.101Z"
   },
   {
    "duration": 76,
    "start_time": "2023-08-05T23:04:22.402Z"
   },
   {
    "duration": 75,
    "start_time": "2023-08-05T23:04:22.480Z"
   },
   {
    "duration": 26,
    "start_time": "2023-08-05T23:04:22.556Z"
   },
   {
    "duration": 87,
    "start_time": "2023-08-05T23:04:22.584Z"
   },
   {
    "duration": 18,
    "start_time": "2023-08-05T23:04:22.673Z"
   },
   {
    "duration": 45,
    "start_time": "2023-08-05T23:04:22.693Z"
   },
   {
    "duration": 37,
    "start_time": "2023-08-05T23:04:22.740Z"
   },
   {
    "duration": 7,
    "start_time": "2023-08-05T23:04:22.778Z"
   },
   {
    "duration": 7,
    "start_time": "2023-08-05T23:04:22.786Z"
   },
   {
    "duration": 6,
    "start_time": "2023-08-05T23:04:22.794Z"
   },
   {
    "duration": 11,
    "start_time": "2023-08-05T23:04:22.802Z"
   },
   {
    "duration": 9,
    "start_time": "2023-08-05T23:04:22.814Z"
   },
   {
    "duration": 8,
    "start_time": "2023-08-05T23:04:22.825Z"
   },
   {
    "duration": 35,
    "start_time": "2023-08-05T23:04:22.834Z"
   },
   {
    "duration": 132,
    "start_time": "2023-08-05T23:04:22.870Z"
   },
   {
    "duration": 20,
    "start_time": "2023-08-05T23:04:23.003Z"
   },
   {
    "duration": 7,
    "start_time": "2023-08-05T23:04:23.025Z"
   },
   {
    "duration": 5,
    "start_time": "2023-08-05T23:04:23.034Z"
   },
   {
    "duration": 31,
    "start_time": "2023-08-05T23:04:23.041Z"
   },
   {
    "duration": 11,
    "start_time": "2023-08-05T23:04:23.074Z"
   },
   {
    "duration": 21,
    "start_time": "2023-08-05T23:04:23.087Z"
   },
   {
    "duration": 38,
    "start_time": "2023-08-05T23:04:23.110Z"
   },
   {
    "duration": 4,
    "start_time": "2023-08-05T23:04:23.150Z"
   },
   {
    "duration": 25,
    "start_time": "2023-08-05T23:04:23.156Z"
   },
   {
    "duration": 4,
    "start_time": "2023-08-05T23:04:23.185Z"
   },
   {
    "duration": 11,
    "start_time": "2023-08-05T23:04:23.190Z"
   },
   {
    "duration": 11,
    "start_time": "2023-08-05T23:04:23.202Z"
   },
   {
    "duration": 29,
    "start_time": "2023-08-05T23:04:23.214Z"
   },
   {
    "duration": 4,
    "start_time": "2023-08-05T23:04:23.246Z"
   },
   {
    "duration": 16,
    "start_time": "2023-08-05T23:04:23.252Z"
   },
   {
    "duration": 4,
    "start_time": "2023-08-05T23:04:23.270Z"
   },
   {
    "duration": 7,
    "start_time": "2023-08-05T23:04:23.275Z"
   },
   {
    "duration": 20,
    "start_time": "2023-08-05T23:04:23.284Z"
   },
   {
    "duration": 11,
    "start_time": "2023-08-05T23:04:23.306Z"
   },
   {
    "duration": 5,
    "start_time": "2023-08-05T23:04:23.318Z"
   },
   {
    "duration": 306,
    "start_time": "2023-08-05T23:04:23.325Z"
   },
   {
    "duration": 663,
    "start_time": "2023-08-05T23:04:23.632Z"
   },
   {
    "duration": 603,
    "start_time": "2023-08-05T23:04:24.296Z"
   },
   {
    "duration": 601,
    "start_time": "2023-08-05T23:04:24.900Z"
   },
   {
    "duration": 600,
    "start_time": "2023-08-05T23:04:25.503Z"
   },
   {
    "duration": 595,
    "start_time": "2023-08-05T23:04:26.104Z"
   },
   {
    "duration": 598,
    "start_time": "2023-08-05T23:04:26.701Z"
   },
   {
    "duration": 525,
    "start_time": "2023-08-05T23:04:27.300Z"
   },
   {
    "duration": 285,
    "start_time": "2023-08-05T23:04:27.827Z"
   },
   {
    "duration": 300,
    "start_time": "2023-08-05T23:04:28.114Z"
   },
   {
    "duration": 288,
    "start_time": "2023-08-05T23:04:28.415Z"
   },
   {
    "duration": 293,
    "start_time": "2023-08-05T23:04:28.705Z"
   },
   {
    "duration": 508,
    "start_time": "2023-08-05T23:04:29.000Z"
   },
   {
    "duration": 402,
    "start_time": "2023-08-05T23:04:29.510Z"
   },
   {
    "duration": 6,
    "start_time": "2023-08-05T23:04:29.915Z"
   },
   {
    "duration": 5,
    "start_time": "2023-08-05T23:04:29.923Z"
   },
   {
    "duration": 6,
    "start_time": "2023-08-05T23:04:29.930Z"
   },
   {
    "duration": 33,
    "start_time": "2023-08-05T23:04:29.938Z"
   },
   {
    "duration": 4,
    "start_time": "2023-08-05T23:04:29.972Z"
   },
   {
    "duration": 5,
    "start_time": "2023-08-05T23:04:29.978Z"
   },
   {
    "duration": 13,
    "start_time": "2023-08-05T23:04:29.985Z"
   },
   {
    "duration": 30572,
    "start_time": "2023-08-05T23:04:30.000Z"
   },
   {
    "duration": 30294,
    "start_time": "2023-08-05T23:05:00.574Z"
   },
   {
    "duration": 783855,
    "start_time": "2023-08-05T23:05:30.871Z"
   },
   {
    "duration": 771939,
    "start_time": "2023-08-05T23:18:34.728Z"
   },
   {
    "duration": 2357226,
    "start_time": "2023-08-05T23:31:26.669Z"
   },
   {
    "duration": 2278197,
    "start_time": "2023-08-06T00:10:43.897Z"
   },
   {
    "duration": 16974,
    "start_time": "2023-08-06T00:48:42.096Z"
   },
   {
    "duration": 18896,
    "start_time": "2023-08-06T00:48:59.072Z"
   },
   {
    "duration": 96,
    "start_time": "2023-08-06T00:49:17.972Z"
   },
   {
    "duration": 9,
    "start_time": "2023-08-06T00:49:18.070Z"
   },
   {
    "duration": 87,
    "start_time": "2023-08-06T00:49:18.081Z"
   },
   {
    "duration": 8,
    "start_time": "2023-08-06T00:49:18.170Z"
   },
   {
    "duration": 4,
    "start_time": "2023-08-06T00:51:41.566Z"
   },
   {
    "duration": 1800,
    "start_time": "2023-08-06T16:06:14.570Z"
   },
   {
    "duration": 1886,
    "start_time": "2023-08-06T16:06:16.373Z"
   },
   {
    "duration": 1222,
    "start_time": "2023-08-06T16:06:18.261Z"
   },
   {
    "duration": 382,
    "start_time": "2023-08-06T16:06:19.485Z"
   },
   {
    "duration": 74,
    "start_time": "2023-08-06T16:06:19.869Z"
   },
   {
    "duration": 30,
    "start_time": "2023-08-06T16:06:19.945Z"
   },
   {
    "duration": 72,
    "start_time": "2023-08-06T16:06:19.977Z"
   },
   {
    "duration": 33,
    "start_time": "2023-08-06T16:06:20.051Z"
   },
   {
    "duration": 51,
    "start_time": "2023-08-06T16:06:20.086Z"
   },
   {
    "duration": 35,
    "start_time": "2023-08-06T16:06:20.140Z"
   },
   {
    "duration": 5,
    "start_time": "2023-08-06T16:06:20.177Z"
   },
   {
    "duration": 9,
    "start_time": "2023-08-06T16:06:20.184Z"
   },
   {
    "duration": 5,
    "start_time": "2023-08-06T16:06:20.194Z"
   },
   {
    "duration": 10,
    "start_time": "2023-08-06T16:06:20.200Z"
   },
   {
    "duration": 7,
    "start_time": "2023-08-06T16:06:20.211Z"
   },
   {
    "duration": 5,
    "start_time": "2023-08-06T16:06:20.220Z"
   },
   {
    "duration": 11,
    "start_time": "2023-08-06T16:06:20.226Z"
   },
   {
    "duration": 122,
    "start_time": "2023-08-06T16:06:21.136Z"
   },
   {
    "duration": 20,
    "start_time": "2023-08-06T16:06:21.333Z"
   },
   {
    "duration": 9,
    "start_time": "2023-08-06T16:06:21.663Z"
   },
   {
    "duration": 6,
    "start_time": "2023-08-06T16:06:22.513Z"
   },
   {
    "duration": 8,
    "start_time": "2023-08-06T16:06:22.701Z"
   },
   {
    "duration": 4,
    "start_time": "2023-08-06T16:06:25.190Z"
   },
   {
    "duration": 4,
    "start_time": "2023-08-06T16:06:25.529Z"
   },
   {
    "duration": 32,
    "start_time": "2023-08-06T16:06:27.110Z"
   },
   {
    "duration": 3,
    "start_time": "2023-08-06T16:06:27.481Z"
   },
   {
    "duration": 124,
    "start_time": "2023-08-06T16:06:29.350Z"
   },
   {
    "duration": 21,
    "start_time": "2023-08-06T16:06:51.888Z"
   },
   {
    "duration": 1713,
    "start_time": "2023-08-06T16:08:12.160Z"
   },
   {
    "duration": 441,
    "start_time": "2023-08-06T16:08:13.876Z"
   },
   {
    "duration": 276,
    "start_time": "2023-08-06T16:08:14.319Z"
   },
   {
    "duration": 74,
    "start_time": "2023-08-06T16:08:14.597Z"
   },
   {
    "duration": 78,
    "start_time": "2023-08-06T16:08:14.672Z"
   },
   {
    "duration": 34,
    "start_time": "2023-08-06T16:08:14.751Z"
   },
   {
    "duration": 92,
    "start_time": "2023-08-06T16:08:14.786Z"
   },
   {
    "duration": 18,
    "start_time": "2023-08-06T16:08:14.880Z"
   },
   {
    "duration": 68,
    "start_time": "2023-08-06T16:08:14.900Z"
   },
   {
    "duration": 13,
    "start_time": "2023-08-06T16:08:14.971Z"
   },
   {
    "duration": 6,
    "start_time": "2023-08-06T16:08:14.986Z"
   },
   {
    "duration": 9,
    "start_time": "2023-08-06T16:08:14.994Z"
   },
   {
    "duration": 50,
    "start_time": "2023-08-06T16:08:15.005Z"
   },
   {
    "duration": 33,
    "start_time": "2023-08-06T16:08:15.057Z"
   },
   {
    "duration": 17,
    "start_time": "2023-08-06T16:08:15.093Z"
   },
   {
    "duration": 4,
    "start_time": "2023-08-06T16:08:16.480Z"
   },
   {
    "duration": 4,
    "start_time": "2023-08-06T16:08:17.370Z"
   },
   {
    "duration": 123,
    "start_time": "2023-08-06T16:08:18.340Z"
   },
   {
    "duration": 20,
    "start_time": "2023-08-06T16:08:18.651Z"
   },
   {
    "duration": 10,
    "start_time": "2023-08-06T16:08:19.228Z"
   },
   {
    "duration": 7,
    "start_time": "2023-08-06T16:08:19.610Z"
   },
   {
    "duration": 8,
    "start_time": "2023-08-06T16:08:20.708Z"
   },
   {
    "duration": 5,
    "start_time": "2023-08-06T16:08:24.011Z"
   },
   {
    "duration": 4,
    "start_time": "2023-08-06T16:08:24.379Z"
   },
   {
    "duration": 120,
    "start_time": "2023-08-06T16:08:56.448Z"
   },
   {
    "duration": 1803,
    "start_time": "2023-08-06T18:52:09.303Z"
   },
   {
    "duration": 1690,
    "start_time": "2023-08-06T18:52:11.108Z"
   },
   {
    "duration": 1282,
    "start_time": "2023-08-06T18:52:12.800Z"
   },
   {
    "duration": 436,
    "start_time": "2023-08-06T18:52:14.084Z"
   },
   {
    "duration": 84,
    "start_time": "2023-08-06T18:52:14.521Z"
   },
   {
    "duration": 18,
    "start_time": "2023-08-06T18:52:14.607Z"
   },
   {
    "duration": 96,
    "start_time": "2023-08-06T18:52:14.627Z"
   },
   {
    "duration": 17,
    "start_time": "2023-08-06T18:52:14.725Z"
   },
   {
    "duration": 61,
    "start_time": "2023-08-06T18:52:14.775Z"
   },
   {
    "duration": 13,
    "start_time": "2023-08-06T18:52:14.838Z"
   },
   {
    "duration": 8,
    "start_time": "2023-08-06T18:52:14.853Z"
   },
   {
    "duration": 9,
    "start_time": "2023-08-06T18:52:14.864Z"
   },
   {
    "duration": 9,
    "start_time": "2023-08-06T18:52:14.876Z"
   },
   {
    "duration": 10,
    "start_time": "2023-08-06T18:52:14.886Z"
   },
   {
    "duration": 5,
    "start_time": "2023-08-06T18:52:14.897Z"
   },
   {
    "duration": 4,
    "start_time": "2023-08-06T18:52:14.904Z"
   },
   {
    "duration": 7,
    "start_time": "2023-08-06T18:52:14.910Z"
   },
   {
    "duration": 184,
    "start_time": "2023-08-06T18:52:14.918Z"
   },
   {
    "duration": 19,
    "start_time": "2023-08-06T18:52:15.104Z"
   },
   {
    "duration": 7,
    "start_time": "2023-08-06T18:52:15.125Z"
   },
   {
    "duration": 35,
    "start_time": "2023-08-06T18:52:15.134Z"
   },
   {
    "duration": 10,
    "start_time": "2023-08-06T18:52:15.172Z"
   },
   {
    "duration": 5,
    "start_time": "2023-08-06T18:52:15.185Z"
   },
   {
    "duration": 9,
    "start_time": "2023-08-06T18:52:15.192Z"
   },
   {
    "duration": 74,
    "start_time": "2023-08-06T18:52:15.203Z"
   },
   {
    "duration": 12,
    "start_time": "2023-08-06T18:52:15.282Z"
   },
   {
    "duration": 25,
    "start_time": "2023-08-06T18:52:15.296Z"
   },
   {
    "duration": 4,
    "start_time": "2023-08-06T18:52:15.324Z"
   },
   {
    "duration": 38,
    "start_time": "2023-08-06T18:52:15.330Z"
   },
   {
    "duration": 15,
    "start_time": "2023-08-06T18:52:15.374Z"
   },
   {
    "duration": 18,
    "start_time": "2023-08-06T18:52:15.391Z"
   },
   {
    "duration": 5,
    "start_time": "2023-08-06T18:52:15.412Z"
   },
   {
    "duration": 11,
    "start_time": "2023-08-06T18:52:15.418Z"
   },
   {
    "duration": 4,
    "start_time": "2023-08-06T18:52:15.469Z"
   },
   {
    "duration": 8,
    "start_time": "2023-08-06T18:52:15.475Z"
   },
   {
    "duration": 10,
    "start_time": "2023-08-06T18:52:15.485Z"
   },
   {
    "duration": 6,
    "start_time": "2023-08-06T18:52:15.498Z"
   },
   {
    "duration": 6,
    "start_time": "2023-08-06T18:52:18.291Z"
   },
   {
    "duration": 295,
    "start_time": "2023-08-06T18:52:19.232Z"
   },
   {
    "duration": 5,
    "start_time": "2023-08-06T18:52:42.337Z"
   },
   {
    "duration": 422,
    "start_time": "2023-08-06T18:52:42.727Z"
   },
   {
    "duration": 6,
    "start_time": "2023-08-06T18:52:59.628Z"
   },
   {
    "duration": 281,
    "start_time": "2023-08-06T18:53:07.140Z"
   },
   {
    "duration": 346,
    "start_time": "2023-08-06T18:53:10.652Z"
   },
   {
    "duration": 4,
    "start_time": "2023-08-06T19:00:16.529Z"
   },
   {
    "duration": 327,
    "start_time": "2023-08-06T19:00:17.270Z"
   },
   {
    "duration": 281,
    "start_time": "2023-08-06T19:00:19.023Z"
   },
   {
    "duration": 285,
    "start_time": "2023-08-06T19:00:19.877Z"
   },
   {
    "duration": 437,
    "start_time": "2023-08-06T19:00:20.741Z"
   },
   {
    "duration": 276,
    "start_time": "2023-08-06T19:00:21.566Z"
   },
   {
    "duration": 311,
    "start_time": "2023-08-06T19:00:22.870Z"
   },
   {
    "duration": 360,
    "start_time": "2023-08-06T19:00:23.887Z"
   },
   {
    "duration": 297,
    "start_time": "2023-08-06T19:00:24.841Z"
   },
   {
    "duration": 448,
    "start_time": "2023-08-06T19:00:27.777Z"
   },
   {
    "duration": 298,
    "start_time": "2023-08-06T19:00:28.566Z"
   },
   {
    "duration": 305,
    "start_time": "2023-08-06T19:00:29.520Z"
   },
   {
    "duration": 335,
    "start_time": "2023-08-06T19:00:31.806Z"
   },
   {
    "duration": 412,
    "start_time": "2023-08-06T19:01:17.104Z"
   },
   {
    "duration": 107,
    "start_time": "2023-08-06T19:01:43.919Z"
   },
   {
    "duration": 283,
    "start_time": "2023-08-06T19:01:53.089Z"
   },
   {
    "duration": 427,
    "start_time": "2023-08-06T19:02:48.512Z"
   },
   {
    "duration": 142,
    "start_time": "2023-08-06T19:02:55.580Z"
   },
   {
    "duration": 320,
    "start_time": "2023-08-06T19:05:11.904Z"
   },
   {
    "duration": 317,
    "start_time": "2023-08-06T19:05:50.153Z"
   },
   {
    "duration": 286,
    "start_time": "2023-08-06T19:06:12.734Z"
   },
   {
    "duration": 25,
    "start_time": "2023-08-06T19:07:54.373Z"
   },
   {
    "duration": 16,
    "start_time": "2023-08-06T19:08:06.487Z"
   },
   {
    "duration": 316,
    "start_time": "2023-08-06T19:08:45.766Z"
   },
   {
    "duration": 310,
    "start_time": "2023-08-06T19:09:15.779Z"
   },
   {
    "duration": 432,
    "start_time": "2023-08-06T19:09:34.262Z"
   },
   {
    "duration": 304,
    "start_time": "2023-08-06T19:09:46.384Z"
   },
   {
    "duration": 300,
    "start_time": "2023-08-06T19:11:05.120Z"
   },
   {
    "duration": 6,
    "start_time": "2023-08-06T19:11:23.294Z"
   },
   {
    "duration": 6,
    "start_time": "2023-08-06T19:11:23.737Z"
   },
   {
    "duration": 11,
    "start_time": "2023-08-06T19:11:24.164Z"
   },
   {
    "duration": 6,
    "start_time": "2023-08-06T19:11:24.539Z"
   },
   {
    "duration": 3,
    "start_time": "2023-08-06T19:11:27.970Z"
   },
   {
    "duration": 2,
    "start_time": "2023-08-06T19:11:28.612Z"
   },
   {
    "duration": 5,
    "start_time": "2023-08-06T19:12:29.784Z"
   },
   {
    "duration": 7437,
    "start_time": "2023-08-06T19:12:31.222Z"
   },
   {
    "duration": 9599,
    "start_time": "2023-08-06T19:12:47.265Z"
   },
   {
    "duration": 98379,
    "start_time": "2023-08-06T19:16:49.422Z"
   },
   {
    "duration": 100051,
    "start_time": "2023-08-06T19:18:27.803Z"
   },
   {
    "duration": 4,
    "start_time": "2023-08-06T19:20:07.859Z"
   },
   {
    "duration": 4,
    "start_time": "2023-08-06T19:25:50.806Z"
   },
   {
    "duration": 19,
    "start_time": "2023-08-06T19:25:52.422Z"
   },
   {
    "duration": 3,
    "start_time": "2023-08-06T19:26:50.192Z"
   },
   {
    "duration": 3125,
    "start_time": "2023-08-06T19:26:53.434Z"
   },
   {
    "duration": 3,
    "start_time": "2023-08-06T19:27:13.479Z"
   },
   {
    "duration": 2792,
    "start_time": "2023-08-06T19:27:15.169Z"
   },
   {
    "duration": 3,
    "start_time": "2023-08-06T19:27:32.782Z"
   },
   {
    "duration": 2934,
    "start_time": "2023-08-06T19:27:33.827Z"
   },
   {
    "duration": 2885,
    "start_time": "2023-08-06T19:28:20.578Z"
   },
   {
    "duration": 92790,
    "start_time": "2023-08-06T19:28:30.006Z"
   },
   {
    "duration": 94123,
    "start_time": "2023-08-06T19:30:02.798Z"
   },
   {
    "duration": 3,
    "start_time": "2023-08-06T19:32:16.471Z"
   },
   {
    "duration": 4101,
    "start_time": "2023-08-06T19:32:19.060Z"
   },
   {
    "duration": 101116,
    "start_time": "2023-08-06T19:32:33.064Z"
   },
   {
    "duration": 3,
    "start_time": "2023-08-06T19:35:15.873Z"
   },
   {
    "duration": 2802,
    "start_time": "2023-08-06T19:35:17.077Z"
   },
   {
    "duration": 2840,
    "start_time": "2023-08-06T19:35:31.920Z"
   },
   {
    "duration": 93248,
    "start_time": "2023-08-06T19:35:38.866Z"
   },
   {
    "duration": 4,
    "start_time": "2023-08-06T19:40:51.472Z"
   },
   {
    "duration": 1461,
    "start_time": "2023-08-06T20:02:37.724Z"
   },
   {
    "duration": 372,
    "start_time": "2023-08-06T20:02:39.187Z"
   },
   {
    "duration": 278,
    "start_time": "2023-08-06T20:02:39.561Z"
   },
   {
    "duration": 75,
    "start_time": "2023-08-06T20:02:39.841Z"
   },
   {
    "duration": 79,
    "start_time": "2023-08-06T20:02:39.918Z"
   },
   {
    "duration": 19,
    "start_time": "2023-08-06T20:02:39.999Z"
   },
   {
    "duration": 90,
    "start_time": "2023-08-06T20:02:40.019Z"
   },
   {
    "duration": 17,
    "start_time": "2023-08-06T20:02:40.111Z"
   },
   {
    "duration": 59,
    "start_time": "2023-08-06T20:02:40.129Z"
   },
   {
    "duration": 13,
    "start_time": "2023-08-06T20:02:40.190Z"
   },
   {
    "duration": 17,
    "start_time": "2023-08-06T20:02:40.204Z"
   },
   {
    "duration": 24,
    "start_time": "2023-08-06T20:02:40.223Z"
   },
   {
    "duration": 11,
    "start_time": "2023-08-06T20:02:40.249Z"
   },
   {
    "duration": 26,
    "start_time": "2023-08-06T20:02:40.262Z"
   },
   {
    "duration": 8,
    "start_time": "2023-08-06T20:02:40.289Z"
   },
   {
    "duration": 4,
    "start_time": "2023-08-06T20:02:40.298Z"
   },
   {
    "duration": 8,
    "start_time": "2023-08-06T20:02:40.303Z"
   },
   {
    "duration": 124,
    "start_time": "2023-08-06T20:02:40.312Z"
   },
   {
    "duration": 23,
    "start_time": "2023-08-06T20:02:40.437Z"
   },
   {
    "duration": 8,
    "start_time": "2023-08-06T20:02:40.462Z"
   },
   {
    "duration": 8,
    "start_time": "2023-08-06T20:02:40.471Z"
   },
   {
    "duration": 9,
    "start_time": "2023-08-06T20:02:40.481Z"
   },
   {
    "duration": 13,
    "start_time": "2023-08-06T20:02:40.491Z"
   },
   {
    "duration": 37,
    "start_time": "2023-08-06T20:02:40.505Z"
   },
   {
    "duration": 84,
    "start_time": "2023-08-06T20:02:40.543Z"
   },
   {
    "duration": 9,
    "start_time": "2023-08-06T20:02:40.629Z"
   },
   {
    "duration": 48,
    "start_time": "2023-08-06T20:02:40.640Z"
   },
   {
    "duration": 4,
    "start_time": "2023-08-06T20:02:40.691Z"
   },
   {
    "duration": 12,
    "start_time": "2023-08-06T20:02:40.696Z"
   },
   {
    "duration": 9,
    "start_time": "2023-08-06T20:02:40.709Z"
   },
   {
    "duration": 16,
    "start_time": "2023-08-06T20:02:40.719Z"
   },
   {
    "duration": 6,
    "start_time": "2023-08-06T20:02:40.736Z"
   },
   {
    "duration": 18,
    "start_time": "2023-08-06T20:02:40.744Z"
   },
   {
    "duration": 3,
    "start_time": "2023-08-06T20:02:40.764Z"
   },
   {
    "duration": 9,
    "start_time": "2023-08-06T20:02:40.769Z"
   },
   {
    "duration": 16,
    "start_time": "2023-08-06T20:02:40.779Z"
   },
   {
    "duration": 6,
    "start_time": "2023-08-06T20:02:40.796Z"
   },
   {
    "duration": 5,
    "start_time": "2023-08-06T20:02:40.803Z"
   },
   {
    "duration": 282,
    "start_time": "2023-08-06T20:02:40.809Z"
   },
   {
    "duration": 356,
    "start_time": "2023-08-06T20:02:41.093Z"
   },
   {
    "duration": 258,
    "start_time": "2023-08-06T20:02:41.451Z"
   },
   {
    "duration": 267,
    "start_time": "2023-08-06T20:02:41.711Z"
   },
   {
    "duration": 283,
    "start_time": "2023-08-06T20:02:41.980Z"
   },
   {
    "duration": 284,
    "start_time": "2023-08-06T20:02:42.265Z"
   },
   {
    "duration": 274,
    "start_time": "2023-08-06T20:02:42.551Z"
   },
   {
    "duration": 380,
    "start_time": "2023-08-06T20:02:42.827Z"
   },
   {
    "duration": 268,
    "start_time": "2023-08-06T20:02:43.209Z"
   },
   {
    "duration": 256,
    "start_time": "2023-08-06T20:02:43.479Z"
   },
   {
    "duration": 251,
    "start_time": "2023-08-06T20:02:43.737Z"
   },
   {
    "duration": 337,
    "start_time": "2023-08-06T20:02:43.990Z"
   },
   {
    "duration": 364,
    "start_time": "2023-08-06T20:02:44.328Z"
   },
   {
    "duration": 278,
    "start_time": "2023-08-06T20:02:44.694Z"
   },
   {
    "duration": 6,
    "start_time": "2023-08-06T20:02:44.973Z"
   },
   {
    "duration": 9,
    "start_time": "2023-08-06T20:02:44.980Z"
   },
   {
    "duration": 6,
    "start_time": "2023-08-06T20:02:44.990Z"
   },
   {
    "duration": 5,
    "start_time": "2023-08-06T20:02:44.997Z"
   },
   {
    "duration": 39,
    "start_time": "2023-08-06T20:02:45.004Z"
   },
   {
    "duration": 34,
    "start_time": "2023-08-06T20:02:45.045Z"
   },
   {
    "duration": 132,
    "start_time": "2023-08-06T20:02:45.081Z"
   },
   {
    "duration": 44,
    "start_time": "2023-08-06T20:02:45.215Z"
   },
   {
    "duration": 2702,
    "start_time": "2023-08-06T20:02:45.261Z"
   },
   {
    "duration": 3101,
    "start_time": "2023-08-06T20:02:47.965Z"
   },
   {
    "duration": 92429,
    "start_time": "2023-08-06T20:02:51.158Z"
   },
   {
    "duration": 91199,
    "start_time": "2023-08-06T20:04:23.589Z"
   },
   {
    "duration": 4,
    "start_time": "2023-08-06T20:05:54.789Z"
   },
   {
    "duration": 1439,
    "start_time": "2023-08-06T21:21:53.497Z"
   },
   {
    "duration": 394,
    "start_time": "2023-08-06T21:21:54.938Z"
   },
   {
    "duration": 284,
    "start_time": "2023-08-06T21:21:55.334Z"
   },
   {
    "duration": 73,
    "start_time": "2023-08-06T21:21:55.620Z"
   },
   {
    "duration": 80,
    "start_time": "2023-08-06T21:21:55.695Z"
   },
   {
    "duration": 17,
    "start_time": "2023-08-06T21:21:55.776Z"
   },
   {
    "duration": 85,
    "start_time": "2023-08-06T21:21:55.795Z"
   },
   {
    "duration": 15,
    "start_time": "2023-08-06T21:21:55.882Z"
   },
   {
    "duration": 65,
    "start_time": "2023-08-06T21:21:55.899Z"
   },
   {
    "duration": 14,
    "start_time": "2023-08-06T21:21:55.966Z"
   },
   {
    "duration": 6,
    "start_time": "2023-08-06T21:21:55.982Z"
   },
   {
    "duration": 17,
    "start_time": "2023-08-06T21:21:55.990Z"
   },
   {
    "duration": 12,
    "start_time": "2023-08-06T21:21:56.009Z"
   },
   {
    "duration": 28,
    "start_time": "2023-08-06T21:21:56.025Z"
   },
   {
    "duration": 18,
    "start_time": "2023-08-06T21:21:56.055Z"
   },
   {
    "duration": 11,
    "start_time": "2023-08-06T21:21:56.074Z"
   },
   {
    "duration": 7,
    "start_time": "2023-08-06T21:21:56.086Z"
   },
   {
    "duration": 126,
    "start_time": "2023-08-06T21:21:56.095Z"
   },
   {
    "duration": 19,
    "start_time": "2023-08-06T21:21:56.223Z"
   },
   {
    "duration": 19,
    "start_time": "2023-08-06T21:21:56.244Z"
   },
   {
    "duration": 6,
    "start_time": "2023-08-06T21:21:56.265Z"
   },
   {
    "duration": 15,
    "start_time": "2023-08-06T21:21:56.272Z"
   },
   {
    "duration": 11,
    "start_time": "2023-08-06T21:21:56.289Z"
   },
   {
    "duration": 6,
    "start_time": "2023-08-06T21:21:56.302Z"
   },
   {
    "duration": 41,
    "start_time": "2023-08-06T21:21:56.309Z"
   },
   {
    "duration": 9,
    "start_time": "2023-08-06T21:21:56.351Z"
   },
   {
    "duration": 21,
    "start_time": "2023-08-06T21:21:56.362Z"
   },
   {
    "duration": 3,
    "start_time": "2023-08-06T21:21:56.385Z"
   },
   {
    "duration": 21,
    "start_time": "2023-08-06T21:21:56.389Z"
   },
   {
    "duration": 9,
    "start_time": "2023-08-06T21:21:56.411Z"
   },
   {
    "duration": 14,
    "start_time": "2023-08-06T21:21:56.422Z"
   },
   {
    "duration": 22,
    "start_time": "2023-08-06T21:21:56.437Z"
   },
   {
    "duration": 7,
    "start_time": "2023-08-06T21:21:56.461Z"
   },
   {
    "duration": 20,
    "start_time": "2023-08-06T21:21:56.469Z"
   },
   {
    "duration": 18,
    "start_time": "2023-08-06T21:21:56.491Z"
   },
   {
    "duration": 15,
    "start_time": "2023-08-06T21:21:56.510Z"
   },
   {
    "duration": 11,
    "start_time": "2023-08-06T21:21:56.526Z"
   },
   {
    "duration": 22,
    "start_time": "2023-08-06T21:21:56.539Z"
   },
   {
    "duration": 280,
    "start_time": "2023-08-06T21:21:56.563Z"
   },
   {
    "duration": 348,
    "start_time": "2023-08-06T21:21:56.844Z"
   },
   {
    "duration": 274,
    "start_time": "2023-08-06T21:21:57.197Z"
   },
   {
    "duration": 261,
    "start_time": "2023-08-06T21:21:57.473Z"
   },
   {
    "duration": 267,
    "start_time": "2023-08-06T21:21:57.736Z"
   },
   {
    "duration": 279,
    "start_time": "2023-08-06T21:21:58.005Z"
   },
   {
    "duration": 273,
    "start_time": "2023-08-06T21:21:58.286Z"
   },
   {
    "duration": 375,
    "start_time": "2023-08-06T21:21:58.561Z"
   },
   {
    "duration": 264,
    "start_time": "2023-08-06T21:21:58.937Z"
   },
   {
    "duration": 265,
    "start_time": "2023-08-06T21:21:59.203Z"
   },
   {
    "duration": 254,
    "start_time": "2023-08-06T21:21:59.469Z"
   },
   {
    "duration": 267,
    "start_time": "2023-08-06T21:21:59.724Z"
   },
   {
    "duration": 401,
    "start_time": "2023-08-06T21:21:59.993Z"
   },
   {
    "duration": 283,
    "start_time": "2023-08-06T21:22:00.396Z"
   },
   {
    "duration": 6,
    "start_time": "2023-08-06T21:22:00.680Z"
   },
   {
    "duration": 47,
    "start_time": "2023-08-06T21:22:00.688Z"
   },
   {
    "duration": 34,
    "start_time": "2023-08-06T21:22:00.737Z"
   },
   {
    "duration": 30,
    "start_time": "2023-08-06T21:22:00.774Z"
   },
   {
    "duration": 27,
    "start_time": "2023-08-06T21:22:00.806Z"
   },
   {
    "duration": 26,
    "start_time": "2023-08-06T21:22:00.835Z"
   },
   {
    "duration": 24,
    "start_time": "2023-08-06T21:22:00.862Z"
   },
   {
    "duration": 65,
    "start_time": "2023-08-06T21:22:00.888Z"
   },
   {
    "duration": 3108,
    "start_time": "2023-08-06T21:22:00.955Z"
   },
   {
    "duration": 3194,
    "start_time": "2023-08-06T21:22:04.065Z"
   },
   {
    "duration": 92723,
    "start_time": "2023-08-06T21:22:07.264Z"
   },
   {
    "duration": 90710,
    "start_time": "2023-08-06T21:23:39.988Z"
   },
   {
    "duration": 3,
    "start_time": "2023-08-06T21:25:10.700Z"
   },
   {
    "duration": 1508,
    "start_time": "2023-08-06T22:28:31.042Z"
   },
   {
    "duration": 379,
    "start_time": "2023-08-06T22:28:32.552Z"
   },
   {
    "duration": 296,
    "start_time": "2023-08-06T22:28:32.932Z"
   },
   {
    "duration": 76,
    "start_time": "2023-08-06T22:28:33.230Z"
   },
   {
    "duration": 77,
    "start_time": "2023-08-06T22:28:33.308Z"
   },
   {
    "duration": 18,
    "start_time": "2023-08-06T22:28:33.386Z"
   },
   {
    "duration": 83,
    "start_time": "2023-08-06T22:28:33.406Z"
   },
   {
    "duration": 16,
    "start_time": "2023-08-06T22:28:33.491Z"
   },
   {
    "duration": 62,
    "start_time": "2023-08-06T22:28:33.508Z"
   },
   {
    "duration": 13,
    "start_time": "2023-08-06T22:28:33.572Z"
   },
   {
    "duration": 8,
    "start_time": "2023-08-06T22:28:33.587Z"
   },
   {
    "duration": 6,
    "start_time": "2023-08-06T22:28:33.597Z"
   },
   {
    "duration": 4,
    "start_time": "2023-08-06T22:28:33.604Z"
   },
   {
    "duration": 10,
    "start_time": "2023-08-06T22:28:33.611Z"
   },
   {
    "duration": 40,
    "start_time": "2023-08-06T22:28:33.623Z"
   },
   {
    "duration": 7,
    "start_time": "2023-08-06T22:28:33.664Z"
   },
   {
    "duration": 5,
    "start_time": "2023-08-06T22:28:33.672Z"
   },
   {
    "duration": 129,
    "start_time": "2023-08-06T22:28:33.678Z"
   },
   {
    "duration": 19,
    "start_time": "2023-08-06T22:28:33.808Z"
   },
   {
    "duration": 8,
    "start_time": "2023-08-06T22:28:33.828Z"
   },
   {
    "duration": 23,
    "start_time": "2023-08-06T22:28:33.837Z"
   },
   {
    "duration": 7,
    "start_time": "2023-08-06T22:28:33.861Z"
   },
   {
    "duration": 5,
    "start_time": "2023-08-06T22:28:33.870Z"
   },
   {
    "duration": 5,
    "start_time": "2023-08-06T22:28:33.876Z"
   },
   {
    "duration": 32,
    "start_time": "2023-08-06T22:28:33.882Z"
   },
   {
    "duration": 3,
    "start_time": "2023-08-06T22:28:33.916Z"
   },
   {
    "duration": 49,
    "start_time": "2023-08-06T22:28:33.921Z"
   },
   {
    "duration": 3,
    "start_time": "2023-08-06T22:28:33.972Z"
   },
   {
    "duration": 23,
    "start_time": "2023-08-06T22:28:33.976Z"
   },
   {
    "duration": 8,
    "start_time": "2023-08-06T22:28:34.001Z"
   },
   {
    "duration": 16,
    "start_time": "2023-08-06T22:28:34.011Z"
   },
   {
    "duration": 6,
    "start_time": "2023-08-06T22:28:34.029Z"
   },
   {
    "duration": 30,
    "start_time": "2023-08-06T22:28:34.037Z"
   },
   {
    "duration": 4,
    "start_time": "2023-08-06T22:28:34.070Z"
   },
   {
    "duration": 7,
    "start_time": "2023-08-06T22:28:34.076Z"
   },
   {
    "duration": 7,
    "start_time": "2023-08-06T22:28:34.086Z"
   },
   {
    "duration": 5,
    "start_time": "2023-08-06T22:28:34.095Z"
   },
   {
    "duration": 7,
    "start_time": "2023-08-06T22:28:34.102Z"
   },
   {
    "duration": 310,
    "start_time": "2023-08-06T22:28:34.111Z"
   },
   {
    "duration": 343,
    "start_time": "2023-08-06T22:28:34.423Z"
   },
   {
    "duration": 254,
    "start_time": "2023-08-06T22:28:34.770Z"
   },
   {
    "duration": 264,
    "start_time": "2023-08-06T22:28:35.025Z"
   },
   {
    "duration": 265,
    "start_time": "2023-08-06T22:28:35.291Z"
   },
   {
    "duration": 267,
    "start_time": "2023-08-06T22:28:35.559Z"
   },
   {
    "duration": 284,
    "start_time": "2023-08-06T22:28:35.827Z"
   },
   {
    "duration": 379,
    "start_time": "2023-08-06T22:28:36.113Z"
   },
   {
    "duration": 265,
    "start_time": "2023-08-06T22:28:36.494Z"
   },
   {
    "duration": 254,
    "start_time": "2023-08-06T22:28:36.760Z"
   },
   {
    "duration": 260,
    "start_time": "2023-08-06T22:28:37.015Z"
   },
   {
    "duration": 268,
    "start_time": "2023-08-06T22:28:37.277Z"
   },
   {
    "duration": 374,
    "start_time": "2023-08-06T22:28:37.547Z"
   },
   {
    "duration": 282,
    "start_time": "2023-08-06T22:28:37.923Z"
   },
   {
    "duration": 4,
    "start_time": "2023-08-06T22:28:38.207Z"
   },
   {
    "duration": 5,
    "start_time": "2023-08-06T22:28:38.213Z"
   },
   {
    "duration": 5,
    "start_time": "2023-08-06T22:28:38.219Z"
   },
   {
    "duration": 5,
    "start_time": "2023-08-06T22:28:38.225Z"
   },
   {
    "duration": 29,
    "start_time": "2023-08-06T22:28:38.231Z"
   },
   {
    "duration": 4,
    "start_time": "2023-08-06T22:28:38.262Z"
   },
   {
    "duration": 5,
    "start_time": "2023-08-06T22:28:38.268Z"
   },
   {
    "duration": 8,
    "start_time": "2023-08-06T22:28:38.274Z"
   },
   {
    "duration": 2986,
    "start_time": "2023-08-06T22:28:38.283Z"
   },
   {
    "duration": 3101,
    "start_time": "2023-08-06T22:28:41.271Z"
   },
   {
    "duration": 92140,
    "start_time": "2023-08-06T22:28:44.460Z"
   },
   {
    "duration": 90231,
    "start_time": "2023-08-06T22:30:16.602Z"
   },
   {
    "duration": 3,
    "start_time": "2023-08-06T22:56:21.296Z"
   },
   {
    "duration": 434201,
    "start_time": "2023-08-06T22:56:28.887Z"
   },
   {
    "duration": 4,
    "start_time": "2023-08-06T23:15:39.866Z"
   },
   {
    "duration": 362877,
    "start_time": "2023-08-06T23:15:40.249Z"
   },
   {
    "duration": 3,
    "start_time": "2023-08-06T23:21:57.592Z"
   },
   {
    "duration": 35571,
    "start_time": "2023-08-06T23:21:58.113Z"
   },
   {
    "duration": 4,
    "start_time": "2023-08-06T23:23:44.077Z"
   },
   {
    "duration": 75349,
    "start_time": "2023-08-06T23:23:44.520Z"
   },
   {
    "duration": 4,
    "start_time": "2023-08-06T23:25:49.885Z"
   },
   {
    "duration": 963333,
    "start_time": "2023-08-06T23:25:51.451Z"
   },
   {
    "duration": 1528,
    "start_time": "2023-08-07T00:16:52.662Z"
   },
   {
    "duration": 371,
    "start_time": "2023-08-07T00:16:54.191Z"
   },
   {
    "duration": 281,
    "start_time": "2023-08-07T00:16:54.564Z"
   },
   {
    "duration": 72,
    "start_time": "2023-08-07T00:16:54.846Z"
   },
   {
    "duration": 73,
    "start_time": "2023-08-07T00:16:54.920Z"
   },
   {
    "duration": 18,
    "start_time": "2023-08-07T00:16:54.994Z"
   },
   {
    "duration": 85,
    "start_time": "2023-08-07T00:16:55.013Z"
   },
   {
    "duration": 16,
    "start_time": "2023-08-07T00:16:55.099Z"
   },
   {
    "duration": 53,
    "start_time": "2023-08-07T00:16:55.116Z"
   },
   {
    "duration": 20,
    "start_time": "2023-08-07T00:16:55.171Z"
   },
   {
    "duration": 5,
    "start_time": "2023-08-07T00:16:55.192Z"
   },
   {
    "duration": 6,
    "start_time": "2023-08-07T00:16:55.199Z"
   },
   {
    "duration": 3,
    "start_time": "2023-08-07T00:16:55.206Z"
   },
   {
    "duration": 8,
    "start_time": "2023-08-07T00:16:55.212Z"
   },
   {
    "duration": 4,
    "start_time": "2023-08-07T00:16:55.221Z"
   },
   {
    "duration": 32,
    "start_time": "2023-08-07T00:16:55.227Z"
   },
   {
    "duration": 7,
    "start_time": "2023-08-07T00:16:55.261Z"
   },
   {
    "duration": 130,
    "start_time": "2023-08-07T00:16:55.270Z"
   },
   {
    "duration": 18,
    "start_time": "2023-08-07T00:16:55.402Z"
   },
   {
    "duration": 7,
    "start_time": "2023-08-07T00:16:55.422Z"
   },
   {
    "duration": 5,
    "start_time": "2023-08-07T00:16:55.430Z"
   },
   {
    "duration": 32,
    "start_time": "2023-08-07T00:16:55.436Z"
   },
   {
    "duration": 6,
    "start_time": "2023-08-07T00:16:55.470Z"
   },
   {
    "duration": 5,
    "start_time": "2023-08-07T00:16:55.477Z"
   },
   {
    "duration": 41,
    "start_time": "2023-08-07T00:16:55.483Z"
   },
   {
    "duration": 3,
    "start_time": "2023-08-07T00:16:55.526Z"
   },
   {
    "duration": 29,
    "start_time": "2023-08-07T00:16:55.530Z"
   },
   {
    "duration": 3,
    "start_time": "2023-08-07T00:16:55.560Z"
   },
   {
    "duration": 10,
    "start_time": "2023-08-07T00:16:55.565Z"
   },
   {
    "duration": 8,
    "start_time": "2023-08-07T00:16:55.576Z"
   },
   {
    "duration": 22,
    "start_time": "2023-08-07T00:16:55.585Z"
   },
   {
    "duration": 4,
    "start_time": "2023-08-07T00:16:55.608Z"
   },
   {
    "duration": 10,
    "start_time": "2023-08-07T00:16:55.613Z"
   },
   {
    "duration": 7,
    "start_time": "2023-08-07T00:16:55.624Z"
   },
   {
    "duration": 9,
    "start_time": "2023-08-07T00:16:55.632Z"
   },
   {
    "duration": 18,
    "start_time": "2023-08-07T00:16:55.642Z"
   },
   {
    "duration": 11,
    "start_time": "2023-08-07T00:16:55.661Z"
   },
   {
    "duration": 21,
    "start_time": "2023-08-07T00:16:55.673Z"
   },
   {
    "duration": 286,
    "start_time": "2023-08-07T00:16:55.695Z"
   },
   {
    "duration": 355,
    "start_time": "2023-08-07T00:16:55.983Z"
   },
   {
    "duration": 254,
    "start_time": "2023-08-07T00:16:56.341Z"
   },
   {
    "duration": 257,
    "start_time": "2023-08-07T00:16:56.597Z"
   },
   {
    "duration": 258,
    "start_time": "2023-08-07T00:16:56.856Z"
   },
   {
    "duration": 266,
    "start_time": "2023-08-07T00:16:57.116Z"
   },
   {
    "duration": 270,
    "start_time": "2023-08-07T00:16:57.385Z"
   },
   {
    "duration": 362,
    "start_time": "2023-08-07T00:16:57.658Z"
   },
   {
    "duration": 260,
    "start_time": "2023-08-07T00:16:58.022Z"
   },
   {
    "duration": 261,
    "start_time": "2023-08-07T00:16:58.284Z"
   },
   {
    "duration": 273,
    "start_time": "2023-08-07T00:16:58.547Z"
   },
   {
    "duration": 276,
    "start_time": "2023-08-07T00:16:58.821Z"
   },
   {
    "duration": 395,
    "start_time": "2023-08-07T00:16:59.099Z"
   },
   {
    "duration": 275,
    "start_time": "2023-08-07T00:16:59.495Z"
   },
   {
    "duration": 6,
    "start_time": "2023-08-07T00:16:59.772Z"
   },
   {
    "duration": 5,
    "start_time": "2023-08-07T00:16:59.779Z"
   },
   {
    "duration": 5,
    "start_time": "2023-08-07T00:16:59.786Z"
   },
   {
    "duration": 4,
    "start_time": "2023-08-07T00:16:59.792Z"
   },
   {
    "duration": 3,
    "start_time": "2023-08-07T00:16:59.798Z"
   },
   {
    "duration": 5,
    "start_time": "2023-08-07T00:16:59.802Z"
   },
   {
    "duration": 6,
    "start_time": "2023-08-07T00:16:59.808Z"
   },
   {
    "duration": 12,
    "start_time": "2023-08-07T00:16:59.815Z"
   },
   {
    "duration": 107,
    "start_time": "2023-08-07T00:17:44.473Z"
   },
   {
    "duration": 4,
    "start_time": "2023-08-07T00:17:51.330Z"
   },
   {
    "duration": 2864,
    "start_time": "2023-08-07T00:17:53.700Z"
   },
   {
    "duration": 92172,
    "start_time": "2023-08-07T00:18:08.418Z"
   },
   {
    "duration": 2882,
    "start_time": "2023-08-07T00:21:30.483Z"
   },
   {
    "duration": 90751,
    "start_time": "2023-08-07T00:21:46.755Z"
   },
   {
    "duration": 4,
    "start_time": "2023-08-07T00:23:17.508Z"
   },
   {
    "duration": 954762,
    "start_time": "2023-08-07T00:23:17.514Z"
   },
   {
    "duration": 932662,
    "start_time": "2023-08-07T00:39:12.278Z"
   },
   {
    "duration": 945594,
    "start_time": "2023-08-07T01:05:51.685Z"
   },
   {
    "duration": 1381,
    "start_time": "2023-08-07T01:27:36.564Z"
   },
   {
    "duration": 399,
    "start_time": "2023-08-07T01:27:37.947Z"
   },
   {
    "duration": 292,
    "start_time": "2023-08-07T01:27:38.348Z"
   },
   {
    "duration": 81,
    "start_time": "2023-08-07T01:27:38.642Z"
   },
   {
    "duration": 82,
    "start_time": "2023-08-07T01:27:38.727Z"
   },
   {
    "duration": 18,
    "start_time": "2023-08-07T01:27:38.810Z"
   },
   {
    "duration": 83,
    "start_time": "2023-08-07T01:27:38.830Z"
   },
   {
    "duration": 72,
    "start_time": "2023-08-07T01:27:38.914Z"
   },
   {
    "duration": 80,
    "start_time": "2023-08-07T01:27:38.988Z"
   },
   {
    "duration": 80,
    "start_time": "2023-08-07T01:27:39.070Z"
   },
   {
    "duration": 6,
    "start_time": "2023-08-07T01:27:39.152Z"
   },
   {
    "duration": 10,
    "start_time": "2023-08-07T01:27:39.160Z"
   },
   {
    "duration": 7,
    "start_time": "2023-08-07T01:27:39.171Z"
   },
   {
    "duration": 14,
    "start_time": "2023-08-07T01:27:39.180Z"
   },
   {
    "duration": 5,
    "start_time": "2023-08-07T01:27:39.195Z"
   },
   {
    "duration": 5,
    "start_time": "2023-08-07T01:27:39.202Z"
   },
   {
    "duration": 9,
    "start_time": "2023-08-07T01:27:39.209Z"
   },
   {
    "duration": 140,
    "start_time": "2023-08-07T01:27:39.220Z"
   },
   {
    "duration": 20,
    "start_time": "2023-08-07T01:27:39.361Z"
   },
   {
    "duration": 27,
    "start_time": "2023-08-07T01:27:39.383Z"
   },
   {
    "duration": 19,
    "start_time": "2023-08-07T01:27:39.412Z"
   },
   {
    "duration": 49,
    "start_time": "2023-08-07T01:27:39.432Z"
   },
   {
    "duration": 29,
    "start_time": "2023-08-07T01:27:39.482Z"
   },
   {
    "duration": 9,
    "start_time": "2023-08-07T01:27:39.512Z"
   },
   {
    "duration": 37,
    "start_time": "2023-08-07T01:27:39.522Z"
   },
   {
    "duration": 4,
    "start_time": "2023-08-07T01:27:39.560Z"
   },
   {
    "duration": 28,
    "start_time": "2023-08-07T01:27:39.565Z"
   },
   {
    "duration": 4,
    "start_time": "2023-08-07T01:27:39.594Z"
   },
   {
    "duration": 15,
    "start_time": "2023-08-07T01:27:39.599Z"
   },
   {
    "duration": 9,
    "start_time": "2023-08-07T01:27:39.615Z"
   },
   {
    "duration": 15,
    "start_time": "2023-08-07T01:27:39.625Z"
   },
   {
    "duration": 4,
    "start_time": "2023-08-07T01:27:39.660Z"
   },
   {
    "duration": 11,
    "start_time": "2023-08-07T01:27:39.666Z"
   },
   {
    "duration": 3,
    "start_time": "2023-08-07T01:27:39.679Z"
   },
   {
    "duration": 5,
    "start_time": "2023-08-07T01:27:39.684Z"
   },
   {
    "duration": 9,
    "start_time": "2023-08-07T01:27:39.691Z"
   },
   {
    "duration": 14,
    "start_time": "2023-08-07T01:27:39.701Z"
   },
   {
    "duration": 8,
    "start_time": "2023-08-07T01:27:39.716Z"
   },
   {
    "duration": 283,
    "start_time": "2023-08-07T01:27:39.725Z"
   },
   {
    "duration": 352,
    "start_time": "2023-08-07T01:27:40.010Z"
   },
   {
    "duration": 257,
    "start_time": "2023-08-07T01:27:40.366Z"
   },
   {
    "duration": 261,
    "start_time": "2023-08-07T01:27:40.625Z"
   },
   {
    "duration": 255,
    "start_time": "2023-08-07T01:27:40.888Z"
   },
   {
    "duration": 259,
    "start_time": "2023-08-07T01:27:41.145Z"
   },
   {
    "duration": 265,
    "start_time": "2023-08-07T01:27:41.406Z"
   },
   {
    "duration": 360,
    "start_time": "2023-08-07T01:27:41.672Z"
   },
   {
    "duration": 251,
    "start_time": "2023-08-07T01:27:42.033Z"
   },
   {
    "duration": 256,
    "start_time": "2023-08-07T01:27:42.286Z"
   },
   {
    "duration": 250,
    "start_time": "2023-08-07T01:27:42.544Z"
   },
   {
    "duration": 264,
    "start_time": "2023-08-07T01:27:42.796Z"
   },
   {
    "duration": 358,
    "start_time": "2023-08-07T01:27:43.061Z"
   },
   {
    "duration": 266,
    "start_time": "2023-08-07T01:27:43.420Z"
   },
   {
    "duration": 4,
    "start_time": "2023-08-07T01:27:43.688Z"
   },
   {
    "duration": 5,
    "start_time": "2023-08-07T01:27:43.694Z"
   },
   {
    "duration": 4,
    "start_time": "2023-08-07T01:27:43.701Z"
   },
   {
    "duration": 8,
    "start_time": "2023-08-07T01:27:43.707Z"
   },
   {
    "duration": 3,
    "start_time": "2023-08-07T01:27:43.716Z"
   },
   {
    "duration": 10,
    "start_time": "2023-08-07T01:27:43.720Z"
   },
   {
    "duration": 4,
    "start_time": "2023-08-07T01:27:43.731Z"
   },
   {
    "duration": 8,
    "start_time": "2023-08-07T01:27:43.760Z"
   },
   {
    "duration": 2901,
    "start_time": "2023-08-07T01:27:43.769Z"
   },
   {
    "duration": 2599,
    "start_time": "2023-08-07T01:27:46.760Z"
   },
   {
    "duration": 91187,
    "start_time": "2023-08-07T01:27:49.366Z"
   },
   {
    "duration": 89375,
    "start_time": "2023-08-07T01:29:20.558Z"
   },
   {
    "duration": 4,
    "start_time": "2023-08-07T01:30:49.935Z"
   },
   {
    "duration": 952503,
    "start_time": "2023-08-07T01:30:49.941Z"
   },
   {
    "duration": 934834,
    "start_time": "2023-08-07T01:46:42.447Z"
   },
   {
    "duration": 109,
    "start_time": "2023-08-07T02:04:34.612Z"
   },
   {
    "duration": 136,
    "start_time": "2023-08-07T02:05:01.913Z"
   },
   {
    "duration": 35,
    "start_time": "2023-08-07T02:05:17.084Z"
   },
   {
    "duration": 105,
    "start_time": "2023-08-07T02:05:44.486Z"
   },
   {
    "duration": 34,
    "start_time": "2023-08-07T02:05:46.000Z"
   },
   {
    "duration": 168,
    "start_time": "2023-08-07T02:06:22.498Z"
   },
   {
    "duration": 4759,
    "start_time": "2023-08-07T02:06:47.289Z"
   },
   {
    "duration": 103,
    "start_time": "2023-08-07T02:07:18.932Z"
   },
   {
    "duration": 35,
    "start_time": "2023-08-07T02:08:44.604Z"
   },
   {
    "duration": 4,
    "start_time": "2023-08-07T02:12:42.215Z"
   },
   {
    "duration": 6,
    "start_time": "2023-08-07T02:12:45.964Z"
   },
   {
    "duration": 5,
    "start_time": "2023-08-07T02:12:46.533Z"
   },
   {
    "duration": 5,
    "start_time": "2023-08-07T02:12:46.968Z"
   },
   {
    "duration": 32,
    "start_time": "2023-08-07T02:12:54.282Z"
   },
   {
    "duration": 32,
    "start_time": "2023-08-07T02:12:56.419Z"
   },
   {
    "duration": 32,
    "start_time": "2023-08-07T02:13:05.741Z"
   },
   {
    "duration": 36,
    "start_time": "2023-08-07T02:13:08.704Z"
   },
   {
    "duration": 60,
    "start_time": "2023-08-07T02:13:27.907Z"
   },
   {
    "duration": 7,
    "start_time": "2023-08-07T02:13:45.039Z"
   },
   {
    "duration": 4,
    "start_time": "2023-08-07T02:14:44.787Z"
   },
   {
    "duration": 6,
    "start_time": "2023-08-07T02:14:46.627Z"
   },
   {
    "duration": 5,
    "start_time": "2023-08-07T02:14:46.981Z"
   },
   {
    "duration": 5,
    "start_time": "2023-08-07T02:14:47.317Z"
   },
   {
    "duration": 4,
    "start_time": "2023-08-07T02:16:01.801Z"
   },
   {
    "duration": 4,
    "start_time": "2023-08-07T02:16:08.973Z"
   },
   {
    "duration": 292,
    "start_time": "2023-08-07T02:20:54.276Z"
   },
   {
    "duration": 114,
    "start_time": "2023-08-07T02:20:57.850Z"
   },
   {
    "duration": 32,
    "start_time": "2023-08-07T02:21:34.266Z"
   },
   {
    "duration": 35,
    "start_time": "2023-08-07T02:21:44.094Z"
   },
   {
    "duration": 32,
    "start_time": "2023-08-07T02:21:47.450Z"
   },
   {
    "duration": 34,
    "start_time": "2023-08-07T02:23:32.691Z"
   },
   {
    "duration": 33,
    "start_time": "2023-08-07T02:24:27.267Z"
   },
   {
    "duration": 113,
    "start_time": "2023-08-07T02:24:39.263Z"
   },
   {
    "duration": 33,
    "start_time": "2023-08-07T02:25:06.717Z"
   },
   {
    "duration": 7,
    "start_time": "2023-08-07T02:25:58.253Z"
   },
   {
    "duration": 7,
    "start_time": "2023-08-07T02:26:14.836Z"
   },
   {
    "duration": 34,
    "start_time": "2023-08-07T02:26:38.947Z"
   },
   {
    "duration": 114,
    "start_time": "2023-08-07T02:26:43.027Z"
   },
   {
    "duration": 34,
    "start_time": "2023-08-07T02:26:43.944Z"
   },
   {
    "duration": 6,
    "start_time": "2023-08-07T02:26:46.570Z"
   },
   {
    "duration": 7,
    "start_time": "2023-08-07T02:27:04.662Z"
   },
   {
    "duration": 7,
    "start_time": "2023-08-07T02:27:10.158Z"
   },
   {
    "duration": 7,
    "start_time": "2023-08-07T02:27:13.698Z"
   },
   {
    "duration": 7,
    "start_time": "2023-08-07T02:27:19.894Z"
   },
   {
    "duration": 103,
    "start_time": "2023-08-07T02:27:52.397Z"
   },
   {
    "duration": 32,
    "start_time": "2023-08-07T02:27:53.275Z"
   },
   {
    "duration": 7,
    "start_time": "2023-08-07T02:27:56.769Z"
   },
   {
    "duration": 32,
    "start_time": "2023-08-07T02:28:07.793Z"
   },
   {
    "duration": 7,
    "start_time": "2023-08-07T02:28:09.937Z"
   },
   {
    "duration": 32,
    "start_time": "2023-08-07T02:28:23.464Z"
   },
   {
    "duration": 6,
    "start_time": "2023-08-07T02:28:27.900Z"
   },
   {
    "duration": 7,
    "start_time": "2023-08-07T02:28:29.032Z"
   },
   {
    "duration": 7,
    "start_time": "2023-08-07T02:28:33.290Z"
   },
   {
    "duration": 6,
    "start_time": "2023-08-07T02:28:33.781Z"
   },
   {
    "duration": 5,
    "start_time": "2023-08-07T02:31:58.541Z"
   },
   {
    "duration": 7,
    "start_time": "2023-08-07T02:32:07.480Z"
   },
   {
    "duration": 108,
    "start_time": "2023-08-07T02:33:35.424Z"
   },
   {
    "duration": 34,
    "start_time": "2023-08-07T02:33:42.850Z"
   },
   {
    "duration": 33,
    "start_time": "2023-08-07T02:33:46.715Z"
   },
   {
    "duration": 114,
    "start_time": "2023-08-07T02:34:09.411Z"
   },
   {
    "duration": 33,
    "start_time": "2023-08-07T02:34:10.660Z"
   },
   {
    "duration": 1493,
    "start_time": "2023-08-07T02:36:19.047Z"
   },
   {
    "duration": 384,
    "start_time": "2023-08-07T02:36:20.542Z"
   },
   {
    "duration": 286,
    "start_time": "2023-08-07T02:36:20.927Z"
   },
   {
    "duration": 76,
    "start_time": "2023-08-07T02:36:21.215Z"
   },
   {
    "duration": 77,
    "start_time": "2023-08-07T02:36:21.293Z"
   },
   {
    "duration": 21,
    "start_time": "2023-08-07T02:36:21.372Z"
   },
   {
    "duration": 94,
    "start_time": "2023-08-07T02:36:21.394Z"
   },
   {
    "duration": 18,
    "start_time": "2023-08-07T02:36:21.490Z"
   },
   {
    "duration": 65,
    "start_time": "2023-08-07T02:36:21.510Z"
   },
   {
    "duration": 13,
    "start_time": "2023-08-07T02:36:21.578Z"
   },
   {
    "duration": 7,
    "start_time": "2023-08-07T02:36:21.593Z"
   },
   {
    "duration": 6,
    "start_time": "2023-08-07T02:36:21.602Z"
   },
   {
    "duration": 3,
    "start_time": "2023-08-07T02:36:21.610Z"
   },
   {
    "duration": 49,
    "start_time": "2023-08-07T02:36:21.615Z"
   },
   {
    "duration": 6,
    "start_time": "2023-08-07T02:36:21.666Z"
   },
   {
    "duration": 4,
    "start_time": "2023-08-07T02:36:21.674Z"
   },
   {
    "duration": 4,
    "start_time": "2023-08-07T02:36:21.680Z"
   },
   {
    "duration": 145,
    "start_time": "2023-08-07T02:36:21.686Z"
   },
   {
    "duration": 27,
    "start_time": "2023-08-07T02:36:21.833Z"
   },
   {
    "duration": 9,
    "start_time": "2023-08-07T02:36:21.862Z"
   },
   {
    "duration": 9,
    "start_time": "2023-08-07T02:36:21.873Z"
   },
   {
    "duration": 8,
    "start_time": "2023-08-07T02:36:21.884Z"
   },
   {
    "duration": 5,
    "start_time": "2023-08-07T02:36:21.893Z"
   },
   {
    "duration": 4,
    "start_time": "2023-08-07T02:36:21.900Z"
   },
   {
    "duration": 61,
    "start_time": "2023-08-07T02:36:21.905Z"
   },
   {
    "duration": 4,
    "start_time": "2023-08-07T02:36:21.968Z"
   },
   {
    "duration": 24,
    "start_time": "2023-08-07T02:36:21.974Z"
   },
   {
    "duration": 3,
    "start_time": "2023-08-07T02:36:22.003Z"
   },
   {
    "duration": 11,
    "start_time": "2023-08-07T02:36:22.008Z"
   },
   {
    "duration": 9,
    "start_time": "2023-08-07T02:36:22.021Z"
   },
   {
    "duration": 38,
    "start_time": "2023-08-07T02:36:22.032Z"
   },
   {
    "duration": 4,
    "start_time": "2023-08-07T02:36:22.072Z"
   },
   {
    "duration": 9,
    "start_time": "2023-08-07T02:36:22.077Z"
   },
   {
    "duration": 3,
    "start_time": "2023-08-07T02:36:22.088Z"
   },
   {
    "duration": 6,
    "start_time": "2023-08-07T02:36:22.092Z"
   },
   {
    "duration": 7,
    "start_time": "2023-08-07T02:36:22.099Z"
   },
   {
    "duration": 11,
    "start_time": "2023-08-07T02:36:22.108Z"
   },
   {
    "duration": 20,
    "start_time": "2023-08-07T02:36:22.120Z"
   },
   {
    "duration": 272,
    "start_time": "2023-08-07T02:36:22.159Z"
   },
   {
    "duration": 346,
    "start_time": "2023-08-07T02:36:22.432Z"
   },
   {
    "duration": 258,
    "start_time": "2023-08-07T02:36:22.779Z"
   },
   {
    "duration": 295,
    "start_time": "2023-08-07T02:36:23.038Z"
   },
   {
    "duration": 268,
    "start_time": "2023-08-07T02:36:23.334Z"
   },
   {
    "duration": 259,
    "start_time": "2023-08-07T02:36:23.603Z"
   },
   {
    "duration": 304,
    "start_time": "2023-08-07T02:36:23.863Z"
   },
   {
    "duration": 356,
    "start_time": "2023-08-07T02:36:24.169Z"
   },
   {
    "duration": 257,
    "start_time": "2023-08-07T02:36:24.527Z"
   },
   {
    "duration": 249,
    "start_time": "2023-08-07T02:36:24.786Z"
   },
   {
    "duration": 255,
    "start_time": "2023-08-07T02:36:25.037Z"
   },
   {
    "duration": 272,
    "start_time": "2023-08-07T02:36:25.294Z"
   },
   {
    "duration": 349,
    "start_time": "2023-08-07T02:36:25.567Z"
   },
   {
    "duration": 271,
    "start_time": "2023-08-07T02:36:25.917Z"
   },
   {
    "duration": 5,
    "start_time": "2023-08-07T02:36:26.189Z"
   },
   {
    "duration": 10,
    "start_time": "2023-08-07T02:36:26.195Z"
   },
   {
    "duration": 5,
    "start_time": "2023-08-07T02:36:26.206Z"
   },
   {
    "duration": 5,
    "start_time": "2023-08-07T02:36:26.212Z"
   },
   {
    "duration": 8,
    "start_time": "2023-08-07T02:36:26.219Z"
   },
   {
    "duration": 7,
    "start_time": "2023-08-07T02:36:26.228Z"
   },
   {
    "duration": 22,
    "start_time": "2023-08-07T02:36:26.237Z"
   },
   {
    "duration": 7,
    "start_time": "2023-08-07T02:36:26.261Z"
   },
   {
    "duration": 2600,
    "start_time": "2023-08-07T02:36:26.270Z"
   },
   {
    "duration": 3008,
    "start_time": "2023-08-07T02:36:28.960Z"
   },
   {
    "duration": 91400,
    "start_time": "2023-08-07T02:36:32.060Z"
   },
   {
    "duration": 90129,
    "start_time": "2023-08-07T02:38:03.462Z"
   },
   {
    "duration": 4,
    "start_time": "2023-08-07T02:39:33.593Z"
   },
   {
    "duration": 956651,
    "start_time": "2023-08-07T02:39:33.598Z"
   },
   {
    "duration": 933869,
    "start_time": "2023-08-07T02:55:30.251Z"
   },
   {
    "duration": 125,
    "start_time": "2023-08-07T03:11:04.122Z"
   },
   {
    "duration": 35,
    "start_time": "2023-08-07T03:11:04.249Z"
   },
   {
    "duration": 6,
    "start_time": "2023-08-07T03:11:04.285Z"
   },
   {
    "duration": 6,
    "start_time": "2023-08-07T03:11:04.293Z"
   },
   {
    "duration": 6,
    "start_time": "2023-08-07T03:11:04.301Z"
   },
   {
    "duration": 6,
    "start_time": "2023-08-07T03:11:04.308Z"
   },
   {
    "duration": 2293,
    "start_time": "2023-08-07T15:31:20.211Z"
   },
   {
    "duration": 1516,
    "start_time": "2023-08-07T15:31:22.507Z"
   },
   {
    "duration": 1210,
    "start_time": "2023-08-07T15:31:24.025Z"
   },
   {
    "duration": 281,
    "start_time": "2023-08-07T15:31:25.237Z"
   },
   {
    "duration": 213,
    "start_time": "2023-08-07T15:31:25.520Z"
   },
   {
    "duration": 33,
    "start_time": "2023-08-07T15:31:25.788Z"
   },
   {
    "duration": 288,
    "start_time": "2023-08-07T15:31:25.824Z"
   },
   {
    "duration": 76,
    "start_time": "2023-08-07T15:31:26.114Z"
   },
   {
    "duration": 106,
    "start_time": "2023-08-07T15:31:26.191Z"
   },
   {
    "duration": 17,
    "start_time": "2023-08-07T15:31:26.299Z"
   },
   {
    "duration": 75,
    "start_time": "2023-08-07T15:31:26.318Z"
   },
   {
    "duration": 47,
    "start_time": "2023-08-07T15:31:26.397Z"
   },
   {
    "duration": 13,
    "start_time": "2023-08-07T15:31:26.488Z"
   },
   {
    "duration": 24,
    "start_time": "2023-08-07T15:31:26.506Z"
   },
   {
    "duration": 59,
    "start_time": "2023-08-07T15:31:26.531Z"
   },
   {
    "duration": 10,
    "start_time": "2023-08-07T15:31:26.592Z"
   },
   {
    "duration": 34,
    "start_time": "2023-08-07T15:31:26.604Z"
   },
   {
    "duration": 286,
    "start_time": "2023-08-07T15:31:26.640Z"
   },
   {
    "duration": 29,
    "start_time": "2023-08-07T15:31:26.989Z"
   },
   {
    "duration": 11,
    "start_time": "2023-08-07T15:31:27.021Z"
   },
   {
    "duration": 8,
    "start_time": "2023-08-07T15:31:27.088Z"
   },
   {
    "duration": 8,
    "start_time": "2023-08-07T15:31:27.097Z"
   },
   {
    "duration": 80,
    "start_time": "2023-08-07T15:31:27.107Z"
   },
   {
    "duration": 4,
    "start_time": "2023-08-07T15:31:27.190Z"
   },
   {
    "duration": 107,
    "start_time": "2023-08-07T15:31:27.196Z"
   },
   {
    "duration": 4,
    "start_time": "2023-08-07T15:31:27.306Z"
   },
   {
    "duration": 95,
    "start_time": "2023-08-07T15:31:27.313Z"
   },
   {
    "duration": 6,
    "start_time": "2023-08-07T15:31:27.410Z"
   },
   {
    "duration": 71,
    "start_time": "2023-08-07T15:31:27.418Z"
   },
   {
    "duration": 14,
    "start_time": "2023-08-07T15:31:27.491Z"
   },
   {
    "duration": 107,
    "start_time": "2023-08-07T15:31:27.507Z"
   },
   {
    "duration": 6,
    "start_time": "2023-08-07T15:31:27.616Z"
   },
   {
    "duration": 17,
    "start_time": "2023-08-07T15:31:27.624Z"
   },
   {
    "duration": 5,
    "start_time": "2023-08-07T15:31:27.688Z"
   },
   {
    "duration": 17,
    "start_time": "2023-08-07T15:31:27.695Z"
   },
   {
    "duration": 18,
    "start_time": "2023-08-07T15:31:27.714Z"
   },
   {
    "duration": 63,
    "start_time": "2023-08-07T15:31:27.734Z"
   },
   {
    "duration": 14,
    "start_time": "2023-08-07T15:31:27.799Z"
   },
   {
    "duration": 616,
    "start_time": "2023-08-07T15:31:27.815Z"
   },
   {
    "duration": 884,
    "start_time": "2023-08-07T15:31:28.433Z"
   },
   {
    "duration": 692,
    "start_time": "2023-08-07T15:31:29.321Z"
   },
   {
    "duration": 626,
    "start_time": "2023-08-07T15:31:30.015Z"
   },
   {
    "duration": 579,
    "start_time": "2023-08-07T15:31:30.643Z"
   },
   {
    "duration": 682,
    "start_time": "2023-08-07T15:31:31.224Z"
   },
   {
    "duration": 612,
    "start_time": "2023-08-07T15:31:31.908Z"
   },
   {
    "duration": 705,
    "start_time": "2023-08-07T15:31:32.522Z"
   },
   {
    "duration": 526,
    "start_time": "2023-08-07T15:31:33.287Z"
   },
   {
    "duration": 579,
    "start_time": "2023-08-07T15:31:33.816Z"
   },
   {
    "duration": 606,
    "start_time": "2023-08-07T15:31:34.397Z"
   },
   {
    "duration": 600,
    "start_time": "2023-08-07T15:31:35.005Z"
   },
   {
    "duration": 781,
    "start_time": "2023-08-07T15:31:35.606Z"
   },
   {
    "duration": 627,
    "start_time": "2023-08-07T15:31:36.389Z"
   },
   {
    "duration": 7,
    "start_time": "2023-08-07T15:31:37.019Z"
   },
   {
    "duration": 6,
    "start_time": "2023-08-07T15:31:37.087Z"
   },
   {
    "duration": 24,
    "start_time": "2023-08-07T15:31:37.096Z"
   },
   {
    "duration": 68,
    "start_time": "2023-08-07T15:31:37.122Z"
   },
   {
    "duration": 41,
    "start_time": "2023-08-07T15:31:37.192Z"
   },
   {
    "duration": 51,
    "start_time": "2023-08-07T15:31:37.236Z"
   },
   {
    "duration": 18,
    "start_time": "2023-08-07T15:31:37.289Z"
   },
   {
    "duration": 39,
    "start_time": "2023-08-07T15:31:37.309Z"
   },
   {
    "duration": 4046,
    "start_time": "2023-08-07T15:31:37.349Z"
   },
   {
    "duration": 3904,
    "start_time": "2023-08-07T15:31:41.397Z"
   },
   {
    "duration": 35907,
    "start_time": "2023-08-07T15:31:45.388Z"
   },
   {
    "duration": 0,
    "start_time": "2023-08-07T15:32:21.297Z"
   },
   {
    "duration": 0,
    "start_time": "2023-08-07T15:32:21.299Z"
   },
   {
    "duration": 0,
    "start_time": "2023-08-07T15:32:21.300Z"
   },
   {
    "duration": 0,
    "start_time": "2023-08-07T15:32:21.301Z"
   },
   {
    "duration": 0,
    "start_time": "2023-08-07T15:32:21.302Z"
   },
   {
    "duration": 0,
    "start_time": "2023-08-07T15:32:21.303Z"
   },
   {
    "duration": 0,
    "start_time": "2023-08-07T15:32:21.305Z"
   },
   {
    "duration": 0,
    "start_time": "2023-08-07T15:32:21.306Z"
   },
   {
    "duration": 0,
    "start_time": "2023-08-07T15:32:21.307Z"
   },
   {
    "duration": 0,
    "start_time": "2023-08-07T15:32:21.308Z"
   },
   {
    "duration": 2329,
    "start_time": "2023-08-07T15:37:20.993Z"
   },
   {
    "duration": 881,
    "start_time": "2023-08-07T15:37:23.325Z"
   },
   {
    "duration": 699,
    "start_time": "2023-08-07T15:37:24.207Z"
   },
   {
    "duration": 198,
    "start_time": "2023-08-07T15:37:24.911Z"
   },
   {
    "duration": 205,
    "start_time": "2023-08-07T15:37:25.111Z"
   },
   {
    "duration": 84,
    "start_time": "2023-08-07T15:37:25.317Z"
   },
   {
    "duration": 184,
    "start_time": "2023-08-07T15:37:25.417Z"
   },
   {
    "duration": 21,
    "start_time": "2023-08-07T15:37:25.603Z"
   },
   {
    "duration": 183,
    "start_time": "2023-08-07T15:37:25.626Z"
   },
   {
    "duration": 17,
    "start_time": "2023-08-07T15:37:25.813Z"
   },
   {
    "duration": 72,
    "start_time": "2023-08-07T15:37:25.832Z"
   },
   {
    "duration": 8,
    "start_time": "2023-08-07T15:37:25.907Z"
   },
   {
    "duration": 7,
    "start_time": "2023-08-07T15:37:25.916Z"
   },
   {
    "duration": 69,
    "start_time": "2023-08-07T15:37:25.926Z"
   },
   {
    "duration": 7,
    "start_time": "2023-08-07T15:37:25.997Z"
   },
   {
    "duration": 30,
    "start_time": "2023-08-07T15:37:26.006Z"
   },
   {
    "duration": 62,
    "start_time": "2023-08-07T15:37:26.038Z"
   },
   {
    "duration": 319,
    "start_time": "2023-08-07T15:37:26.102Z"
   },
   {
    "duration": 83,
    "start_time": "2023-08-07T15:37:26.423Z"
   },
   {
    "duration": 8,
    "start_time": "2023-08-07T15:37:26.508Z"
   },
   {
    "duration": 19,
    "start_time": "2023-08-07T15:37:26.517Z"
   },
   {
    "duration": 10,
    "start_time": "2023-08-07T15:37:26.586Z"
   },
   {
    "duration": 9,
    "start_time": "2023-08-07T15:37:26.618Z"
   },
   {
    "duration": 9,
    "start_time": "2023-08-07T15:37:26.629Z"
   },
   {
    "duration": 39,
    "start_time": "2023-08-07T15:37:26.688Z"
   },
   {
    "duration": 98,
    "start_time": "2023-08-07T15:37:26.729Z"
   },
   {
    "duration": 84,
    "start_time": "2023-08-07T15:37:26.829Z"
   },
   {
    "duration": 5,
    "start_time": "2023-08-07T15:37:26.915Z"
   },
   {
    "duration": 67,
    "start_time": "2023-08-07T15:37:26.921Z"
   },
   {
    "duration": 23,
    "start_time": "2023-08-07T15:37:26.990Z"
   },
   {
    "duration": 85,
    "start_time": "2023-08-07T15:37:27.015Z"
   },
   {
    "duration": 16,
    "start_time": "2023-08-07T15:37:27.103Z"
   },
   {
    "duration": 68,
    "start_time": "2023-08-07T15:37:27.121Z"
   },
   {
    "duration": 23,
    "start_time": "2023-08-07T15:37:27.191Z"
   },
   {
    "duration": 31,
    "start_time": "2023-08-07T15:37:27.216Z"
   },
   {
    "duration": 6,
    "start_time": "2023-08-07T15:37:27.289Z"
   },
   {
    "duration": 36,
    "start_time": "2023-08-07T15:37:27.296Z"
   },
   {
    "duration": 56,
    "start_time": "2023-08-07T15:37:27.334Z"
   },
   {
    "duration": 695,
    "start_time": "2023-08-07T15:37:27.392Z"
   },
   {
    "duration": 734,
    "start_time": "2023-08-07T15:37:28.094Z"
   },
   {
    "duration": 600,
    "start_time": "2023-08-07T15:37:28.891Z"
   },
   {
    "duration": 719,
    "start_time": "2023-08-07T15:37:29.494Z"
   },
   {
    "duration": 715,
    "start_time": "2023-08-07T15:37:30.215Z"
   },
   {
    "duration": 673,
    "start_time": "2023-08-07T15:37:30.932Z"
   },
   {
    "duration": 519,
    "start_time": "2023-08-07T15:37:31.607Z"
   },
   {
    "duration": 993,
    "start_time": "2023-08-07T15:37:32.127Z"
   },
   {
    "duration": 604,
    "start_time": "2023-08-07T15:37:33.122Z"
   },
   {
    "duration": 581,
    "start_time": "2023-08-07T15:37:33.729Z"
   },
   {
    "duration": 600,
    "start_time": "2023-08-07T15:37:34.312Z"
   },
   {
    "duration": 590,
    "start_time": "2023-08-07T15:37:34.913Z"
   },
   {
    "duration": 709,
    "start_time": "2023-08-07T15:37:35.510Z"
   },
   {
    "duration": 370,
    "start_time": "2023-08-07T15:37:36.220Z"
   },
   {
    "duration": 6,
    "start_time": "2023-08-07T15:37:36.592Z"
   },
   {
    "duration": 30,
    "start_time": "2023-08-07T15:37:36.601Z"
   },
   {
    "duration": 17,
    "start_time": "2023-08-07T15:37:36.632Z"
   },
   {
    "duration": 34,
    "start_time": "2023-08-07T15:37:36.650Z"
   },
   {
    "duration": 33,
    "start_time": "2023-08-07T15:37:36.686Z"
   },
   {
    "duration": 34,
    "start_time": "2023-08-07T15:37:36.721Z"
   },
   {
    "duration": 43,
    "start_time": "2023-08-07T15:37:36.756Z"
   },
   {
    "duration": 33,
    "start_time": "2023-08-07T15:37:36.802Z"
   },
   {
    "duration": 8567,
    "start_time": "2023-08-07T15:37:36.836Z"
   },
   {
    "duration": 8394,
    "start_time": "2023-08-07T15:37:45.405Z"
   },
   {
    "duration": 291507,
    "start_time": "2023-08-07T15:37:53.804Z"
   },
   {
    "duration": 288492,
    "start_time": "2023-08-07T15:42:45.314Z"
   },
   {
    "duration": 5,
    "start_time": "2023-08-07T15:47:33.807Z"
   },
   {
    "duration": 1809,
    "start_time": "2023-08-07T16:17:59.129Z"
   },
   {
    "duration": 2033,
    "start_time": "2023-08-07T16:18:00.941Z"
   },
   {
    "duration": 1527,
    "start_time": "2023-08-07T16:18:02.980Z"
   },
   {
    "duration": 923,
    "start_time": "2023-08-07T16:18:04.510Z"
   },
   {
    "duration": 88,
    "start_time": "2023-08-07T16:18:05.435Z"
   },
   {
    "duration": 22,
    "start_time": "2023-08-07T16:18:05.525Z"
   },
   {
    "duration": 85,
    "start_time": "2023-08-07T16:18:05.549Z"
   },
   {
    "duration": 27,
    "start_time": "2023-08-07T16:18:05.635Z"
   },
   {
    "duration": 69,
    "start_time": "2023-08-07T16:18:05.664Z"
   },
   {
    "duration": 42,
    "start_time": "2023-08-07T16:18:05.737Z"
   },
   {
    "duration": 9,
    "start_time": "2023-08-07T16:18:05.786Z"
   },
   {
    "duration": 5,
    "start_time": "2023-08-07T16:18:05.798Z"
   },
   {
    "duration": 6,
    "start_time": "2023-08-07T16:18:05.805Z"
   },
   {
    "duration": 21,
    "start_time": "2023-08-07T16:18:05.812Z"
   },
   {
    "duration": 18,
    "start_time": "2023-08-07T16:18:05.834Z"
   },
   {
    "duration": 21,
    "start_time": "2023-08-07T16:18:05.853Z"
   },
   {
    "duration": 5,
    "start_time": "2023-08-07T16:18:05.886Z"
   },
   {
    "duration": 134,
    "start_time": "2023-08-07T16:18:05.893Z"
   },
   {
    "duration": 38,
    "start_time": "2023-08-07T16:18:06.029Z"
   },
   {
    "duration": 15,
    "start_time": "2023-08-07T16:18:06.071Z"
   },
   {
    "duration": 13,
    "start_time": "2023-08-07T16:18:06.089Z"
   },
   {
    "duration": 7,
    "start_time": "2023-08-07T16:18:06.104Z"
   },
   {
    "duration": 20,
    "start_time": "2023-08-07T16:18:06.113Z"
   },
   {
    "duration": 6,
    "start_time": "2023-08-07T16:18:06.135Z"
   },
   {
    "duration": 51,
    "start_time": "2023-08-07T16:18:06.142Z"
   },
   {
    "duration": 4,
    "start_time": "2023-08-07T16:18:06.194Z"
   },
   {
    "duration": 29,
    "start_time": "2023-08-07T16:18:06.200Z"
   },
   {
    "duration": 4,
    "start_time": "2023-08-07T16:18:06.233Z"
   },
   {
    "duration": 41,
    "start_time": "2023-08-07T16:18:06.238Z"
   },
   {
    "duration": 13,
    "start_time": "2023-08-07T16:18:06.283Z"
   },
   {
    "duration": 16,
    "start_time": "2023-08-07T16:18:06.298Z"
   },
   {
    "duration": 7,
    "start_time": "2023-08-07T16:18:06.316Z"
   },
   {
    "duration": 19,
    "start_time": "2023-08-07T16:18:06.325Z"
   },
   {
    "duration": 5,
    "start_time": "2023-08-07T16:18:06.346Z"
   },
   {
    "duration": 25,
    "start_time": "2023-08-07T16:18:06.353Z"
   },
   {
    "duration": 27,
    "start_time": "2023-08-07T16:18:06.382Z"
   },
   {
    "duration": 15,
    "start_time": "2023-08-07T16:18:06.410Z"
   },
   {
    "duration": 5,
    "start_time": "2023-08-07T16:18:06.426Z"
   },
   {
    "duration": 342,
    "start_time": "2023-08-07T16:18:06.433Z"
   },
   {
    "duration": 387,
    "start_time": "2023-08-07T16:18:06.778Z"
   },
   {
    "duration": 325,
    "start_time": "2023-08-07T16:18:07.169Z"
   },
   {
    "duration": 307,
    "start_time": "2023-08-07T16:18:07.497Z"
   },
   {
    "duration": 324,
    "start_time": "2023-08-07T16:18:07.806Z"
   },
   {
    "duration": 347,
    "start_time": "2023-08-07T16:18:08.133Z"
   },
   {
    "duration": 316,
    "start_time": "2023-08-07T16:18:08.483Z"
   },
   {
    "duration": 492,
    "start_time": "2023-08-07T16:18:08.800Z"
   },
   {
    "duration": 305,
    "start_time": "2023-08-07T16:18:09.294Z"
   },
   {
    "duration": 282,
    "start_time": "2023-08-07T16:18:09.601Z"
   },
   {
    "duration": 303,
    "start_time": "2023-08-07T16:18:09.885Z"
   },
   {
    "duration": 308,
    "start_time": "2023-08-07T16:18:10.190Z"
   },
   {
    "duration": 424,
    "start_time": "2023-08-07T16:18:10.500Z"
   },
   {
    "duration": 305,
    "start_time": "2023-08-07T16:18:10.926Z"
   },
   {
    "duration": 7,
    "start_time": "2023-08-07T16:18:11.233Z"
   },
   {
    "duration": 35,
    "start_time": "2023-08-07T16:18:11.241Z"
   },
   {
    "duration": 11,
    "start_time": "2023-08-07T16:18:11.281Z"
   },
   {
    "duration": 6,
    "start_time": "2023-08-07T16:18:11.294Z"
   },
   {
    "duration": 12,
    "start_time": "2023-08-07T16:18:11.302Z"
   },
   {
    "duration": 9,
    "start_time": "2023-08-07T16:18:11.316Z"
   },
   {
    "duration": 4,
    "start_time": "2023-08-07T16:18:11.328Z"
   },
   {
    "duration": 4,
    "start_time": "2023-08-07T16:18:17.942Z"
   },
   {
    "duration": 6567,
    "start_time": "2023-08-07T16:18:19.811Z"
   },
   {
    "duration": 7878,
    "start_time": "2023-08-07T16:18:40.985Z"
   },
   {
    "duration": 106709,
    "start_time": "2023-08-07T16:19:06.888Z"
   },
   {
    "duration": 6,
    "start_time": "2023-08-07T16:21:52.913Z"
   },
   {
    "duration": 1639,
    "start_time": "2023-08-07T16:26:23.883Z"
   },
   {
    "duration": 454,
    "start_time": "2023-08-07T16:26:25.524Z"
   },
   {
    "duration": 331,
    "start_time": "2023-08-07T16:26:25.981Z"
   },
   {
    "duration": 84,
    "start_time": "2023-08-07T16:26:26.314Z"
   },
   {
    "duration": 95,
    "start_time": "2023-08-07T16:26:26.400Z"
   },
   {
    "duration": 21,
    "start_time": "2023-08-07T16:26:26.497Z"
   },
   {
    "duration": 101,
    "start_time": "2023-08-07T16:26:26.520Z"
   },
   {
    "duration": 18,
    "start_time": "2023-08-07T16:26:26.623Z"
   },
   {
    "duration": 70,
    "start_time": "2023-08-07T16:26:26.643Z"
   },
   {
    "duration": 14,
    "start_time": "2023-08-07T16:26:26.715Z"
   },
   {
    "duration": 8,
    "start_time": "2023-08-07T16:26:26.731Z"
   },
   {
    "duration": 18,
    "start_time": "2023-08-07T16:26:26.761Z"
   },
   {
    "duration": 6,
    "start_time": "2023-08-07T16:26:26.783Z"
   },
   {
    "duration": 27,
    "start_time": "2023-08-07T16:26:26.793Z"
   },
   {
    "duration": 12,
    "start_time": "2023-08-07T16:26:26.822Z"
   },
   {
    "duration": 4,
    "start_time": "2023-08-07T16:26:26.835Z"
   },
   {
    "duration": 36,
    "start_time": "2023-08-07T16:26:26.841Z"
   },
   {
    "duration": 131,
    "start_time": "2023-08-07T16:26:26.883Z"
   },
   {
    "duration": 21,
    "start_time": "2023-08-07T16:26:27.016Z"
   },
   {
    "duration": 25,
    "start_time": "2023-08-07T16:26:27.039Z"
   },
   {
    "duration": 28,
    "start_time": "2023-08-07T16:26:27.065Z"
   },
   {
    "duration": 8,
    "start_time": "2023-08-07T16:26:27.097Z"
   },
   {
    "duration": 12,
    "start_time": "2023-08-07T16:26:27.107Z"
   },
   {
    "duration": 5,
    "start_time": "2023-08-07T16:26:27.121Z"
   },
   {
    "duration": 62,
    "start_time": "2023-08-07T16:26:27.128Z"
   },
   {
    "duration": 5,
    "start_time": "2023-08-07T16:26:27.193Z"
   },
   {
    "duration": 31,
    "start_time": "2023-08-07T16:26:27.200Z"
   },
   {
    "duration": 5,
    "start_time": "2023-08-07T16:26:27.233Z"
   },
   {
    "duration": 48,
    "start_time": "2023-08-07T16:26:27.240Z"
   },
   {
    "duration": 34,
    "start_time": "2023-08-07T16:26:27.290Z"
   },
   {
    "duration": 18,
    "start_time": "2023-08-07T16:26:27.326Z"
   },
   {
    "duration": 13,
    "start_time": "2023-08-07T16:26:27.346Z"
   },
   {
    "duration": 20,
    "start_time": "2023-08-07T16:26:27.365Z"
   },
   {
    "duration": 9,
    "start_time": "2023-08-07T16:26:27.387Z"
   },
   {
    "duration": 6,
    "start_time": "2023-08-07T16:26:27.398Z"
   },
   {
    "duration": 8,
    "start_time": "2023-08-07T16:26:27.406Z"
   },
   {
    "duration": 7,
    "start_time": "2023-08-07T16:26:27.415Z"
   },
   {
    "duration": 5,
    "start_time": "2023-08-07T16:26:27.423Z"
   },
   {
    "duration": 344,
    "start_time": "2023-08-07T16:26:27.430Z"
   },
   {
    "duration": 407,
    "start_time": "2023-08-07T16:26:27.782Z"
   },
   {
    "duration": 296,
    "start_time": "2023-08-07T16:26:28.193Z"
   },
   {
    "duration": 315,
    "start_time": "2023-08-07T16:26:28.492Z"
   },
   {
    "duration": 416,
    "start_time": "2023-08-07T16:26:28.811Z"
   },
   {
    "duration": 357,
    "start_time": "2023-08-07T16:26:29.229Z"
   },
   {
    "duration": 310,
    "start_time": "2023-08-07T16:26:29.589Z"
   },
   {
    "duration": 441,
    "start_time": "2023-08-07T16:26:29.901Z"
   },
   {
    "duration": 301,
    "start_time": "2023-08-07T16:26:30.344Z"
   },
   {
    "duration": 329,
    "start_time": "2023-08-07T16:26:30.647Z"
   },
   {
    "duration": 304,
    "start_time": "2023-08-07T16:26:30.981Z"
   },
   {
    "duration": 283,
    "start_time": "2023-08-07T16:26:31.286Z"
   },
   {
    "duration": 433,
    "start_time": "2023-08-07T16:26:31.571Z"
   },
   {
    "duration": 310,
    "start_time": "2023-08-07T16:27:10.382Z"
   },
   {
    "duration": 328,
    "start_time": "2023-08-07T16:28:28.020Z"
   },
   {
    "duration": 354,
    "start_time": "2023-08-07T16:28:38.995Z"
   },
   {
    "duration": 321,
    "start_time": "2023-08-07T16:30:37.892Z"
   },
   {
    "duration": 400,
    "start_time": "2023-08-07T16:30:44.336Z"
   },
   {
    "duration": 670,
    "start_time": "2023-08-07T16:30:53.632Z"
   },
   {
    "duration": 691,
    "start_time": "2023-08-07T16:30:58.784Z"
   },
   {
    "duration": 487,
    "start_time": "2023-08-07T16:31:06.358Z"
   },
   {
    "duration": 438,
    "start_time": "2023-08-07T16:31:12.138Z"
   },
   {
    "duration": 453,
    "start_time": "2023-08-07T16:31:29.275Z"
   },
   {
    "duration": 618,
    "start_time": "2023-08-07T16:31:38.334Z"
   },
   {
    "duration": 953,
    "start_time": "2023-08-07T16:31:41.691Z"
   },
   {
    "duration": 588,
    "start_time": "2023-08-07T16:31:48.088Z"
   },
   {
    "duration": 562,
    "start_time": "2023-08-07T16:31:57.129Z"
   },
   {
    "duration": 696,
    "start_time": "2023-08-07T16:32:02.540Z"
   },
   {
    "duration": 675,
    "start_time": "2023-08-07T16:32:09.599Z"
   },
   {
    "duration": 660,
    "start_time": "2023-08-07T16:32:14.141Z"
   },
   {
    "duration": 440,
    "start_time": "2023-08-07T16:32:21.053Z"
   },
   {
    "duration": 358,
    "start_time": "2023-08-07T16:32:26.682Z"
   },
   {
    "duration": 331,
    "start_time": "2023-08-07T16:32:29.725Z"
   },
   {
    "duration": 346,
    "start_time": "2023-08-07T16:32:36.181Z"
   },
   {
    "duration": 928,
    "start_time": "2023-08-07T16:33:20.998Z"
   },
   {
    "duration": 618,
    "start_time": "2023-08-07T16:33:26.589Z"
   },
   {
    "duration": 186,
    "start_time": "2023-08-07T16:33:57.542Z"
   },
   {
    "duration": 128,
    "start_time": "2023-08-07T16:34:02.495Z"
   },
   {
    "duration": 608,
    "start_time": "2023-08-07T16:35:40.002Z"
   },
   {
    "duration": 441,
    "start_time": "2023-08-07T16:35:57.802Z"
   },
   {
    "duration": 371,
    "start_time": "2023-08-07T16:36:10.964Z"
   },
   {
    "duration": 1731,
    "start_time": "2023-08-07T16:36:19.605Z"
   },
   {
    "duration": 460,
    "start_time": "2023-08-07T16:36:21.338Z"
   },
   {
    "duration": 310,
    "start_time": "2023-08-07T16:36:21.800Z"
   },
   {
    "duration": 86,
    "start_time": "2023-08-07T16:36:22.112Z"
   },
   {
    "duration": 94,
    "start_time": "2023-08-07T16:36:22.200Z"
   },
   {
    "duration": 21,
    "start_time": "2023-08-07T16:36:22.296Z"
   },
   {
    "duration": 100,
    "start_time": "2023-08-07T16:36:22.319Z"
   },
   {
    "duration": 18,
    "start_time": "2023-08-07T16:36:22.421Z"
   },
   {
    "duration": 73,
    "start_time": "2023-08-07T16:36:22.441Z"
   },
   {
    "duration": 15,
    "start_time": "2023-08-07T16:36:22.518Z"
   },
   {
    "duration": 29,
    "start_time": "2023-08-07T16:36:22.535Z"
   },
   {
    "duration": 17,
    "start_time": "2023-08-07T16:36:22.566Z"
   },
   {
    "duration": 3,
    "start_time": "2023-08-07T16:36:22.589Z"
   },
   {
    "duration": 28,
    "start_time": "2023-08-07T16:36:22.594Z"
   },
   {
    "duration": 6,
    "start_time": "2023-08-07T16:36:22.624Z"
   },
   {
    "duration": 5,
    "start_time": "2023-08-07T16:36:22.632Z"
   },
   {
    "duration": 32,
    "start_time": "2023-08-07T16:36:22.639Z"
   },
   {
    "duration": 141,
    "start_time": "2023-08-07T16:36:22.676Z"
   },
   {
    "duration": 22,
    "start_time": "2023-08-07T16:36:22.819Z"
   },
   {
    "duration": 20,
    "start_time": "2023-08-07T16:36:22.843Z"
   },
   {
    "duration": 15,
    "start_time": "2023-08-07T16:36:22.864Z"
   },
   {
    "duration": 8,
    "start_time": "2023-08-07T16:36:22.887Z"
   },
   {
    "duration": 7,
    "start_time": "2023-08-07T16:36:22.897Z"
   },
   {
    "duration": 5,
    "start_time": "2023-08-07T16:36:22.906Z"
   },
   {
    "duration": 48,
    "start_time": "2023-08-07T16:36:22.913Z"
   },
   {
    "duration": 7,
    "start_time": "2023-08-07T16:36:22.968Z"
   },
   {
    "duration": 40,
    "start_time": "2023-08-07T16:36:22.976Z"
   },
   {
    "duration": 4,
    "start_time": "2023-08-07T16:36:23.021Z"
   },
   {
    "duration": 23,
    "start_time": "2023-08-07T16:36:23.028Z"
   },
   {
    "duration": 34,
    "start_time": "2023-08-07T16:36:23.053Z"
   },
   {
    "duration": 14,
    "start_time": "2023-08-07T16:36:23.089Z"
   },
   {
    "duration": 6,
    "start_time": "2023-08-07T16:36:23.105Z"
   },
   {
    "duration": 10,
    "start_time": "2023-08-07T16:36:23.113Z"
   },
   {
    "duration": 4,
    "start_time": "2023-08-07T16:36:23.124Z"
   },
   {
    "duration": 6,
    "start_time": "2023-08-07T16:36:23.129Z"
   },
   {
    "duration": 7,
    "start_time": "2023-08-07T16:36:23.136Z"
   },
   {
    "duration": 38,
    "start_time": "2023-08-07T16:36:23.145Z"
   },
   {
    "duration": 5,
    "start_time": "2023-08-07T16:36:23.187Z"
   },
   {
    "duration": 332,
    "start_time": "2023-08-07T16:36:23.194Z"
   },
   {
    "duration": 413,
    "start_time": "2023-08-07T16:36:23.528Z"
   },
   {
    "duration": 348,
    "start_time": "2023-08-07T16:36:23.943Z"
   },
   {
    "duration": 322,
    "start_time": "2023-08-07T16:36:24.293Z"
   },
   {
    "duration": 353,
    "start_time": "2023-08-07T16:36:24.618Z"
   },
   {
    "duration": 330,
    "start_time": "2023-08-07T16:36:24.977Z"
   },
   {
    "duration": 326,
    "start_time": "2023-08-07T16:36:25.309Z"
   },
   {
    "duration": 471,
    "start_time": "2023-08-07T16:36:25.638Z"
   },
   {
    "duration": 320,
    "start_time": "2023-08-07T16:36:26.111Z"
   },
   {
    "duration": 326,
    "start_time": "2023-08-07T16:36:26.433Z"
   },
   {
    "duration": 346,
    "start_time": "2023-08-07T16:36:26.761Z"
   },
   {
    "duration": 350,
    "start_time": "2023-08-07T16:36:27.109Z"
   },
   {
    "duration": 485,
    "start_time": "2023-08-07T16:36:33.607Z"
   },
   {
    "duration": 384,
    "start_time": "2023-08-07T16:36:42.047Z"
   },
   {
    "duration": 351,
    "start_time": "2023-08-07T16:36:45.894Z"
   },
   {
    "duration": 375,
    "start_time": "2023-08-07T16:36:53.694Z"
   },
   {
    "duration": 347,
    "start_time": "2023-08-07T16:37:11.386Z"
   },
   {
    "duration": 378,
    "start_time": "2023-08-07T16:37:23.909Z"
   },
   {
    "duration": 458,
    "start_time": "2023-08-07T16:37:30.584Z"
   },
   {
    "duration": 355,
    "start_time": "2023-08-07T16:37:37.204Z"
   },
   {
    "duration": 369,
    "start_time": "2023-08-07T16:37:47.100Z"
   },
   {
    "duration": 333,
    "start_time": "2023-08-07T16:37:50.968Z"
   },
   {
    "duration": 328,
    "start_time": "2023-08-07T16:38:04.686Z"
   },
   {
    "duration": 442,
    "start_time": "2023-08-07T16:38:09.983Z"
   },
   {
    "duration": 321,
    "start_time": "2023-08-07T16:38:16.490Z"
   },
   {
    "duration": 299,
    "start_time": "2023-08-07T16:38:22.045Z"
   },
   {
    "duration": 328,
    "start_time": "2023-08-07T16:38:36.090Z"
   },
   {
    "duration": 390,
    "start_time": "2023-08-07T16:38:38.190Z"
   },
   {
    "duration": 367,
    "start_time": "2023-08-07T16:40:00.431Z"
   },
   {
    "duration": 1760,
    "start_time": "2023-08-07T16:40:26.298Z"
   },
   {
    "duration": 617,
    "start_time": "2023-08-07T16:40:28.061Z"
   },
   {
    "duration": 358,
    "start_time": "2023-08-07T16:40:28.681Z"
   },
   {
    "duration": 92,
    "start_time": "2023-08-07T16:40:29.041Z"
   },
   {
    "duration": 134,
    "start_time": "2023-08-07T16:40:29.136Z"
   },
   {
    "duration": 32,
    "start_time": "2023-08-07T16:40:29.273Z"
   },
   {
    "duration": 101,
    "start_time": "2023-08-07T16:40:29.309Z"
   },
   {
    "duration": 19,
    "start_time": "2023-08-07T16:40:29.412Z"
   },
   {
    "duration": 78,
    "start_time": "2023-08-07T16:40:29.434Z"
   },
   {
    "duration": 14,
    "start_time": "2023-08-07T16:40:29.514Z"
   },
   {
    "duration": 39,
    "start_time": "2023-08-07T16:40:29.530Z"
   },
   {
    "duration": 9,
    "start_time": "2023-08-07T16:40:29.570Z"
   },
   {
    "duration": 14,
    "start_time": "2023-08-07T16:40:29.581Z"
   },
   {
    "duration": 16,
    "start_time": "2023-08-07T16:40:29.598Z"
   },
   {
    "duration": 9,
    "start_time": "2023-08-07T16:40:29.616Z"
   },
   {
    "duration": 7,
    "start_time": "2023-08-07T16:40:29.626Z"
   },
   {
    "duration": 32,
    "start_time": "2023-08-07T16:40:29.635Z"
   },
   {
    "duration": 153,
    "start_time": "2023-08-07T16:40:29.669Z"
   },
   {
    "duration": 24,
    "start_time": "2023-08-07T16:40:29.825Z"
   },
   {
    "duration": 18,
    "start_time": "2023-08-07T16:40:29.850Z"
   },
   {
    "duration": 16,
    "start_time": "2023-08-07T16:40:29.874Z"
   },
   {
    "duration": 9,
    "start_time": "2023-08-07T16:40:29.892Z"
   },
   {
    "duration": 6,
    "start_time": "2023-08-07T16:40:29.903Z"
   },
   {
    "duration": 7,
    "start_time": "2023-08-07T16:40:29.911Z"
   },
   {
    "duration": 48,
    "start_time": "2023-08-07T16:40:29.919Z"
   },
   {
    "duration": 6,
    "start_time": "2023-08-07T16:40:29.971Z"
   },
   {
    "duration": 37,
    "start_time": "2023-08-07T16:40:29.979Z"
   },
   {
    "duration": 4,
    "start_time": "2023-08-07T16:40:30.020Z"
   },
   {
    "duration": 67,
    "start_time": "2023-08-07T16:40:30.026Z"
   },
   {
    "duration": 36,
    "start_time": "2023-08-07T16:40:30.095Z"
   },
   {
    "duration": 66,
    "start_time": "2023-08-07T16:40:30.133Z"
   },
   {
    "duration": 24,
    "start_time": "2023-08-07T16:40:30.201Z"
   },
   {
    "duration": 29,
    "start_time": "2023-08-07T16:40:30.227Z"
   },
   {
    "duration": 43,
    "start_time": "2023-08-07T16:40:30.261Z"
   },
   {
    "duration": 64,
    "start_time": "2023-08-07T16:40:30.306Z"
   },
   {
    "duration": 36,
    "start_time": "2023-08-07T16:40:30.372Z"
   },
   {
    "duration": 30,
    "start_time": "2023-08-07T16:40:30.410Z"
   },
   {
    "duration": 39,
    "start_time": "2023-08-07T16:40:30.442Z"
   },
   {
    "duration": 346,
    "start_time": "2023-08-07T16:40:30.485Z"
   },
   {
    "duration": 437,
    "start_time": "2023-08-07T16:40:30.833Z"
   },
   {
    "duration": 291,
    "start_time": "2023-08-07T16:40:31.272Z"
   },
   {
    "duration": 326,
    "start_time": "2023-08-07T16:40:31.568Z"
   },
   {
    "duration": 296,
    "start_time": "2023-08-07T16:40:31.896Z"
   },
   {
    "duration": 357,
    "start_time": "2023-08-07T16:40:32.194Z"
   },
   {
    "duration": 333,
    "start_time": "2023-08-07T16:40:32.555Z"
   },
   {
    "duration": 428,
    "start_time": "2023-08-07T16:40:32.889Z"
   },
   {
    "duration": 301,
    "start_time": "2023-08-07T16:40:33.319Z"
   },
   {
    "duration": 322,
    "start_time": "2023-08-07T16:40:33.622Z"
   },
   {
    "duration": 371,
    "start_time": "2023-08-07T16:40:33.946Z"
   },
   {
    "duration": 306,
    "start_time": "2023-08-07T16:40:34.319Z"
   },
   {
    "duration": 475,
    "start_time": "2023-08-07T16:40:34.626Z"
   },
   {
    "duration": 391,
    "start_time": "2023-08-07T16:40:35.102Z"
   },
   {
    "duration": 6,
    "start_time": "2023-08-07T16:40:35.496Z"
   },
   {
    "duration": 16,
    "start_time": "2023-08-07T16:40:35.505Z"
   },
   {
    "duration": 16,
    "start_time": "2023-08-07T16:40:35.522Z"
   },
   {
    "duration": 23,
    "start_time": "2023-08-07T16:40:35.540Z"
   },
   {
    "duration": 15,
    "start_time": "2023-08-07T16:40:35.564Z"
   },
   {
    "duration": 10,
    "start_time": "2023-08-07T16:40:35.584Z"
   },
   {
    "duration": 9,
    "start_time": "2023-08-07T16:40:35.597Z"
   },
   {
    "duration": 22,
    "start_time": "2023-08-07T16:40:35.608Z"
   },
   {
    "duration": 3828,
    "start_time": "2023-08-07T16:40:35.632Z"
   },
   {
    "duration": 6321,
    "start_time": "2023-08-07T16:40:39.462Z"
   },
   {
    "duration": 52499,
    "start_time": "2023-08-07T16:40:45.788Z"
   },
   {
    "duration": 50128,
    "start_time": "2023-08-07T16:41:38.289Z"
   },
   {
    "duration": 5,
    "start_time": "2023-08-07T16:42:28.420Z"
   },
   {
    "duration": 1123146,
    "start_time": "2023-08-07T16:42:28.433Z"
   },
   {
    "duration": 1128368,
    "start_time": "2023-08-07T17:01:11.585Z"
   },
   {
    "duration": 143,
    "start_time": "2023-08-07T17:19:59.955Z"
   },
   {
    "duration": 41,
    "start_time": "2023-08-07T17:20:00.105Z"
   },
   {
    "duration": 25,
    "start_time": "2023-08-07T17:20:00.148Z"
   },
   {
    "duration": 18,
    "start_time": "2023-08-07T17:20:00.185Z"
   },
   {
    "duration": 72,
    "start_time": "2023-08-07T17:20:00.207Z"
   },
   {
    "duration": 18,
    "start_time": "2023-08-07T17:20:00.288Z"
   }
  ],
  "kernelspec": {
   "display_name": "Python 3 (ipykernel)",
   "language": "python",
   "name": "python3"
  },
  "language_info": {
   "codemirror_mode": {
    "name": "ipython",
    "version": 3
   },
   "file_extension": ".py",
   "mimetype": "text/x-python",
   "name": "python",
   "nbconvert_exporter": "python",
   "pygments_lexer": "ipython3",
   "version": "3.10.9"
  },
  "toc": {
   "base_numbering": 1,
   "nav_menu": {},
   "number_sections": true,
   "sideBar": true,
   "skip_h1_title": true,
   "title_cell": "Содержание",
   "title_sidebar": "Contents",
   "toc_cell": true,
   "toc_position": {},
   "toc_section_display": true,
   "toc_window_display": true
  }
 },
 "nbformat": 4,
 "nbformat_minor": 2
}
