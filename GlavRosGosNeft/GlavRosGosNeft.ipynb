{
 "cells": [
  {
   "cell_type": "markdown",
   "metadata": {},
   "source": [
    "# Выбор локации для скважины"
   ]
  },
  {
   "cell_type": "markdown",
   "metadata": {},
   "source": [
    "Для добывающей компании «ГлавРосГосНефть» нужно решить, где бурить новую скважину.\n",
    "\n",
    "Нам предоставлены пробы нефти в трёх регионах: в каждом 10 000 месторождений, где измерили качество нефти и объём её запасов. Необходимо построить модель машинного обучения, которая поможет определить регион, где добыча принесёт наибольшую прибыль. А также проанализировать возможную прибыль и риски техникой *Bootstrap.*\n",
    "\n",
    "Шаги для выбора локации:\n",
    "\n",
    "- В избранном регионе ищут месторождения, для каждого определяют значения признаков;\n",
    "- Строят модель и оценивают объём запасов;\n",
    "- Выбирают месторождения с самым высокими оценками значений. Количество месторождений зависит от бюджета компании и стоимости разработки одной скважины;\n",
    "- Прибыль равна суммарной прибыли отобранных месторождений."
   ]
  },
  {
   "cell_type": "markdown",
   "metadata": {},
   "source": [
    "## Содержание"
   ]
  },
  {
   "cell_type": "markdown",
   "metadata": {},
   "source": [
    "1. Загрузка и подготовка данных \n",
    "2. Обучение и проверка модели\n",
    "3. Подготовка к расчёту прибыли\n",
    "4. Расчёт прибыли и рисков"
   ]
  },
  {
   "cell_type": "code",
   "execution_count": 1,
   "metadata": {},
   "outputs": [],
   "source": [
    "import pandas as pd\n",
    "import numpy as np\n",
    "import matplotlib.pyplot as plt\n",
    "import seaborn as sns\n",
    "from joblib import dump\n",
    "pd.options.mode.chained_assignment = None\n",
    "from scipy import stats as st\n",
    "from sklearn.model_selection import train_test_split\n",
    "from sklearn.linear_model import LinearRegression\n",
    "from sklearn.metrics import mean_squared_error\n",
    "from sklearn.metrics import r2_score"
   ]
  },
  {
   "cell_type": "markdown",
   "metadata": {},
   "source": [
    "## Загрузка и подготовка данных"
   ]
  },
  {
   "cell_type": "code",
   "execution_count": 2,
   "metadata": {},
   "outputs": [],
   "source": [
    "data1 = pd.read_csv('/datasets/geo_data_0.csv')\n",
    "data2 = pd.read_csv('/datasets/geo_data_1.csv')\n",
    "data3 = pd.read_csv('/datasets/geo_data_2.csv')"
   ]
  },
  {
   "cell_type": "code",
   "execution_count": 3,
   "metadata": {},
   "outputs": [
    {
     "data": {
      "text/html": [
       "<div>\n",
       "<style scoped>\n",
       "    .dataframe tbody tr th:only-of-type {\n",
       "        vertical-align: middle;\n",
       "    }\n",
       "\n",
       "    .dataframe tbody tr th {\n",
       "        vertical-align: top;\n",
       "    }\n",
       "\n",
       "    .dataframe thead th {\n",
       "        text-align: right;\n",
       "    }\n",
       "</style>\n",
       "<table border=\"1\" class=\"dataframe\">\n",
       "  <thead>\n",
       "    <tr style=\"text-align: right;\">\n",
       "      <th></th>\n",
       "      <th>id</th>\n",
       "      <th>f0</th>\n",
       "      <th>f1</th>\n",
       "      <th>f2</th>\n",
       "      <th>product</th>\n",
       "    </tr>\n",
       "  </thead>\n",
       "  <tbody>\n",
       "    <tr>\n",
       "      <th>0</th>\n",
       "      <td>txEyH</td>\n",
       "      <td>0.705745</td>\n",
       "      <td>-0.497823</td>\n",
       "      <td>1.221170</td>\n",
       "      <td>105.280062</td>\n",
       "    </tr>\n",
       "    <tr>\n",
       "      <th>1</th>\n",
       "      <td>2acmU</td>\n",
       "      <td>1.334711</td>\n",
       "      <td>-0.340164</td>\n",
       "      <td>4.365080</td>\n",
       "      <td>73.037750</td>\n",
       "    </tr>\n",
       "    <tr>\n",
       "      <th>2</th>\n",
       "      <td>409Wp</td>\n",
       "      <td>1.022732</td>\n",
       "      <td>0.151990</td>\n",
       "      <td>1.419926</td>\n",
       "      <td>85.265647</td>\n",
       "    </tr>\n",
       "    <tr>\n",
       "      <th>3</th>\n",
       "      <td>iJLyR</td>\n",
       "      <td>-0.032172</td>\n",
       "      <td>0.139033</td>\n",
       "      <td>2.978566</td>\n",
       "      <td>168.620776</td>\n",
       "    </tr>\n",
       "    <tr>\n",
       "      <th>4</th>\n",
       "      <td>Xdl7t</td>\n",
       "      <td>1.988431</td>\n",
       "      <td>0.155413</td>\n",
       "      <td>4.751769</td>\n",
       "      <td>154.036647</td>\n",
       "    </tr>\n",
       "    <tr>\n",
       "      <th>5</th>\n",
       "      <td>wX4Hy</td>\n",
       "      <td>0.969570</td>\n",
       "      <td>0.489775</td>\n",
       "      <td>-0.735383</td>\n",
       "      <td>64.741541</td>\n",
       "    </tr>\n",
       "    <tr>\n",
       "      <th>6</th>\n",
       "      <td>tL6pL</td>\n",
       "      <td>0.645075</td>\n",
       "      <td>0.530656</td>\n",
       "      <td>1.780266</td>\n",
       "      <td>49.055285</td>\n",
       "    </tr>\n",
       "    <tr>\n",
       "      <th>7</th>\n",
       "      <td>BYPU6</td>\n",
       "      <td>-0.400648</td>\n",
       "      <td>0.808337</td>\n",
       "      <td>-5.624670</td>\n",
       "      <td>72.943292</td>\n",
       "    </tr>\n",
       "    <tr>\n",
       "      <th>8</th>\n",
       "      <td>j9Oui</td>\n",
       "      <td>0.643105</td>\n",
       "      <td>-0.551583</td>\n",
       "      <td>2.372141</td>\n",
       "      <td>113.356160</td>\n",
       "    </tr>\n",
       "    <tr>\n",
       "      <th>9</th>\n",
       "      <td>OLuZU</td>\n",
       "      <td>2.173381</td>\n",
       "      <td>0.563698</td>\n",
       "      <td>9.441852</td>\n",
       "      <td>127.910945</td>\n",
       "    </tr>\n",
       "  </tbody>\n",
       "</table>\n",
       "</div>"
      ],
      "text/plain": [
       "      id        f0        f1        f2     product\n",
       "0  txEyH  0.705745 -0.497823  1.221170  105.280062\n",
       "1  2acmU  1.334711 -0.340164  4.365080   73.037750\n",
       "2  409Wp  1.022732  0.151990  1.419926   85.265647\n",
       "3  iJLyR -0.032172  0.139033  2.978566  168.620776\n",
       "4  Xdl7t  1.988431  0.155413  4.751769  154.036647\n",
       "5  wX4Hy  0.969570  0.489775 -0.735383   64.741541\n",
       "6  tL6pL  0.645075  0.530656  1.780266   49.055285\n",
       "7  BYPU6 -0.400648  0.808337 -5.624670   72.943292\n",
       "8  j9Oui  0.643105 -0.551583  2.372141  113.356160\n",
       "9  OLuZU  2.173381  0.563698  9.441852  127.910945"
      ]
     },
     "metadata": {},
     "output_type": "display_data"
    },
    {
     "name": "stdout",
     "output_type": "stream",
     "text": [
      "<class 'pandas.core.frame.DataFrame'>\n",
      "RangeIndex: 100000 entries, 0 to 99999\n",
      "Data columns (total 5 columns):\n",
      " #   Column   Non-Null Count   Dtype  \n",
      "---  ------   --------------   -----  \n",
      " 0   id       100000 non-null  object \n",
      " 1   f0       100000 non-null  float64\n",
      " 2   f1       100000 non-null  float64\n",
      " 3   f2       100000 non-null  float64\n",
      " 4   product  100000 non-null  float64\n",
      "dtypes: float64(4), object(1)\n",
      "memory usage: 3.8+ MB\n"
     ]
    }
   ],
   "source": [
    "display(data1.head(10))\n",
    "data1.info()"
   ]
  },
  {
   "cell_type": "code",
   "execution_count": 4,
   "metadata": {},
   "outputs": [
    {
     "data": {
      "text/html": [
       "<div>\n",
       "<style scoped>\n",
       "    .dataframe tbody tr th:only-of-type {\n",
       "        vertical-align: middle;\n",
       "    }\n",
       "\n",
       "    .dataframe tbody tr th {\n",
       "        vertical-align: top;\n",
       "    }\n",
       "\n",
       "    .dataframe thead th {\n",
       "        text-align: right;\n",
       "    }\n",
       "</style>\n",
       "<table border=\"1\" class=\"dataframe\">\n",
       "  <thead>\n",
       "    <tr style=\"text-align: right;\">\n",
       "      <th></th>\n",
       "      <th>f0</th>\n",
       "      <th>f1</th>\n",
       "      <th>f2</th>\n",
       "      <th>product</th>\n",
       "    </tr>\n",
       "  </thead>\n",
       "  <tbody>\n",
       "    <tr>\n",
       "      <th>count</th>\n",
       "      <td>100000.00</td>\n",
       "      <td>100000.00</td>\n",
       "      <td>100000.00</td>\n",
       "      <td>100000.00</td>\n",
       "    </tr>\n",
       "    <tr>\n",
       "      <th>mean</th>\n",
       "      <td>0.50</td>\n",
       "      <td>0.25</td>\n",
       "      <td>2.50</td>\n",
       "      <td>92.50</td>\n",
       "    </tr>\n",
       "    <tr>\n",
       "      <th>std</th>\n",
       "      <td>0.87</td>\n",
       "      <td>0.50</td>\n",
       "      <td>3.25</td>\n",
       "      <td>44.29</td>\n",
       "    </tr>\n",
       "    <tr>\n",
       "      <th>min</th>\n",
       "      <td>-1.41</td>\n",
       "      <td>-0.85</td>\n",
       "      <td>-12.09</td>\n",
       "      <td>0.00</td>\n",
       "    </tr>\n",
       "    <tr>\n",
       "      <th>25%</th>\n",
       "      <td>-0.07</td>\n",
       "      <td>-0.20</td>\n",
       "      <td>0.29</td>\n",
       "      <td>56.50</td>\n",
       "    </tr>\n",
       "    <tr>\n",
       "      <th>50%</th>\n",
       "      <td>0.50</td>\n",
       "      <td>0.25</td>\n",
       "      <td>2.52</td>\n",
       "      <td>91.85</td>\n",
       "    </tr>\n",
       "    <tr>\n",
       "      <th>75%</th>\n",
       "      <td>1.07</td>\n",
       "      <td>0.70</td>\n",
       "      <td>4.72</td>\n",
       "      <td>128.56</td>\n",
       "    </tr>\n",
       "    <tr>\n",
       "      <th>max</th>\n",
       "      <td>2.36</td>\n",
       "      <td>1.34</td>\n",
       "      <td>16.00</td>\n",
       "      <td>185.36</td>\n",
       "    </tr>\n",
       "  </tbody>\n",
       "</table>\n",
       "</div>"
      ],
      "text/plain": [
       "              f0         f1         f2    product\n",
       "count  100000.00  100000.00  100000.00  100000.00\n",
       "mean        0.50       0.25       2.50      92.50\n",
       "std         0.87       0.50       3.25      44.29\n",
       "min        -1.41      -0.85     -12.09       0.00\n",
       "25%        -0.07      -0.20       0.29      56.50\n",
       "50%         0.50       0.25       2.52      91.85\n",
       "75%         1.07       0.70       4.72     128.56\n",
       "max         2.36       1.34      16.00     185.36"
      ]
     },
     "execution_count": 4,
     "metadata": {},
     "output_type": "execute_result"
    }
   ],
   "source": [
    "# посмотрим на основные статистические показатели\n",
    "# с помощью метода .describe()\n",
    "data1.describe().round(2)"
   ]
  },
  {
   "cell_type": "code",
   "execution_count": 5,
   "metadata": {},
   "outputs": [
    {
     "data": {
      "text/html": [
       "<div>\n",
       "<style scoped>\n",
       "    .dataframe tbody tr th:only-of-type {\n",
       "        vertical-align: middle;\n",
       "    }\n",
       "\n",
       "    .dataframe tbody tr th {\n",
       "        vertical-align: top;\n",
       "    }\n",
       "\n",
       "    .dataframe thead th {\n",
       "        text-align: right;\n",
       "    }\n",
       "</style>\n",
       "<table border=\"1\" class=\"dataframe\">\n",
       "  <thead>\n",
       "    <tr style=\"text-align: right;\">\n",
       "      <th></th>\n",
       "      <th>id</th>\n",
       "      <th>f0</th>\n",
       "      <th>f1</th>\n",
       "      <th>f2</th>\n",
       "      <th>product</th>\n",
       "    </tr>\n",
       "  </thead>\n",
       "  <tbody>\n",
       "    <tr>\n",
       "      <th>0</th>\n",
       "      <td>kBEdx</td>\n",
       "      <td>-15.001348</td>\n",
       "      <td>-8.276000</td>\n",
       "      <td>-0.005876</td>\n",
       "      <td>3.179103</td>\n",
       "    </tr>\n",
       "    <tr>\n",
       "      <th>1</th>\n",
       "      <td>62mP7</td>\n",
       "      <td>14.272088</td>\n",
       "      <td>-3.475083</td>\n",
       "      <td>0.999183</td>\n",
       "      <td>26.953261</td>\n",
       "    </tr>\n",
       "    <tr>\n",
       "      <th>2</th>\n",
       "      <td>vyE1P</td>\n",
       "      <td>6.263187</td>\n",
       "      <td>-5.948386</td>\n",
       "      <td>5.001160</td>\n",
       "      <td>134.766305</td>\n",
       "    </tr>\n",
       "    <tr>\n",
       "      <th>3</th>\n",
       "      <td>KcrkZ</td>\n",
       "      <td>-13.081196</td>\n",
       "      <td>-11.506057</td>\n",
       "      <td>4.999415</td>\n",
       "      <td>137.945408</td>\n",
       "    </tr>\n",
       "    <tr>\n",
       "      <th>4</th>\n",
       "      <td>AHL4O</td>\n",
       "      <td>12.702195</td>\n",
       "      <td>-8.147433</td>\n",
       "      <td>5.004363</td>\n",
       "      <td>134.766305</td>\n",
       "    </tr>\n",
       "    <tr>\n",
       "      <th>5</th>\n",
       "      <td>HHckp</td>\n",
       "      <td>-3.327590</td>\n",
       "      <td>-2.205276</td>\n",
       "      <td>3.003647</td>\n",
       "      <td>84.038886</td>\n",
       "    </tr>\n",
       "    <tr>\n",
       "      <th>6</th>\n",
       "      <td>h5Ujo</td>\n",
       "      <td>-11.142655</td>\n",
       "      <td>-10.133399</td>\n",
       "      <td>4.002382</td>\n",
       "      <td>110.992147</td>\n",
       "    </tr>\n",
       "    <tr>\n",
       "      <th>7</th>\n",
       "      <td>muH9x</td>\n",
       "      <td>4.234715</td>\n",
       "      <td>-0.001354</td>\n",
       "      <td>2.004588</td>\n",
       "      <td>53.906522</td>\n",
       "    </tr>\n",
       "    <tr>\n",
       "      <th>8</th>\n",
       "      <td>YiRkx</td>\n",
       "      <td>13.355129</td>\n",
       "      <td>-0.332068</td>\n",
       "      <td>4.998647</td>\n",
       "      <td>134.766305</td>\n",
       "    </tr>\n",
       "    <tr>\n",
       "      <th>9</th>\n",
       "      <td>jG6Gi</td>\n",
       "      <td>1.069227</td>\n",
       "      <td>-11.025667</td>\n",
       "      <td>4.997844</td>\n",
       "      <td>137.945408</td>\n",
       "    </tr>\n",
       "  </tbody>\n",
       "</table>\n",
       "</div>"
      ],
      "text/plain": [
       "      id         f0         f1        f2     product\n",
       "0  kBEdx -15.001348  -8.276000 -0.005876    3.179103\n",
       "1  62mP7  14.272088  -3.475083  0.999183   26.953261\n",
       "2  vyE1P   6.263187  -5.948386  5.001160  134.766305\n",
       "3  KcrkZ -13.081196 -11.506057  4.999415  137.945408\n",
       "4  AHL4O  12.702195  -8.147433  5.004363  134.766305\n",
       "5  HHckp  -3.327590  -2.205276  3.003647   84.038886\n",
       "6  h5Ujo -11.142655 -10.133399  4.002382  110.992147\n",
       "7  muH9x   4.234715  -0.001354  2.004588   53.906522\n",
       "8  YiRkx  13.355129  -0.332068  4.998647  134.766305\n",
       "9  jG6Gi   1.069227 -11.025667  4.997844  137.945408"
      ]
     },
     "metadata": {},
     "output_type": "display_data"
    },
    {
     "name": "stdout",
     "output_type": "stream",
     "text": [
      "<class 'pandas.core.frame.DataFrame'>\n",
      "RangeIndex: 100000 entries, 0 to 99999\n",
      "Data columns (total 5 columns):\n",
      " #   Column   Non-Null Count   Dtype  \n",
      "---  ------   --------------   -----  \n",
      " 0   id       100000 non-null  object \n",
      " 1   f0       100000 non-null  float64\n",
      " 2   f1       100000 non-null  float64\n",
      " 3   f2       100000 non-null  float64\n",
      " 4   product  100000 non-null  float64\n",
      "dtypes: float64(4), object(1)\n",
      "memory usage: 3.8+ MB\n"
     ]
    }
   ],
   "source": [
    "display(data2.head(10))\n",
    "data2.info()"
   ]
  },
  {
   "cell_type": "code",
   "execution_count": 6,
   "metadata": {},
   "outputs": [
    {
     "data": {
      "text/html": [
       "<div>\n",
       "<style scoped>\n",
       "    .dataframe tbody tr th:only-of-type {\n",
       "        vertical-align: middle;\n",
       "    }\n",
       "\n",
       "    .dataframe tbody tr th {\n",
       "        vertical-align: top;\n",
       "    }\n",
       "\n",
       "    .dataframe thead th {\n",
       "        text-align: right;\n",
       "    }\n",
       "</style>\n",
       "<table border=\"1\" class=\"dataframe\">\n",
       "  <thead>\n",
       "    <tr style=\"text-align: right;\">\n",
       "      <th></th>\n",
       "      <th>f0</th>\n",
       "      <th>f1</th>\n",
       "      <th>f2</th>\n",
       "      <th>product</th>\n",
       "    </tr>\n",
       "  </thead>\n",
       "  <tbody>\n",
       "    <tr>\n",
       "      <th>count</th>\n",
       "      <td>100000.00</td>\n",
       "      <td>100000.00</td>\n",
       "      <td>100000.00</td>\n",
       "      <td>100000.00</td>\n",
       "    </tr>\n",
       "    <tr>\n",
       "      <th>mean</th>\n",
       "      <td>1.14</td>\n",
       "      <td>-4.80</td>\n",
       "      <td>2.49</td>\n",
       "      <td>68.83</td>\n",
       "    </tr>\n",
       "    <tr>\n",
       "      <th>std</th>\n",
       "      <td>8.97</td>\n",
       "      <td>5.12</td>\n",
       "      <td>1.70</td>\n",
       "      <td>45.94</td>\n",
       "    </tr>\n",
       "    <tr>\n",
       "      <th>min</th>\n",
       "      <td>-31.61</td>\n",
       "      <td>-26.36</td>\n",
       "      <td>-0.02</td>\n",
       "      <td>0.00</td>\n",
       "    </tr>\n",
       "    <tr>\n",
       "      <th>25%</th>\n",
       "      <td>-6.30</td>\n",
       "      <td>-8.27</td>\n",
       "      <td>1.00</td>\n",
       "      <td>26.95</td>\n",
       "    </tr>\n",
       "    <tr>\n",
       "      <th>50%</th>\n",
       "      <td>1.15</td>\n",
       "      <td>-4.81</td>\n",
       "      <td>2.01</td>\n",
       "      <td>57.09</td>\n",
       "    </tr>\n",
       "    <tr>\n",
       "      <th>75%</th>\n",
       "      <td>8.62</td>\n",
       "      <td>-1.33</td>\n",
       "      <td>4.00</td>\n",
       "      <td>107.81</td>\n",
       "    </tr>\n",
       "    <tr>\n",
       "      <th>max</th>\n",
       "      <td>29.42</td>\n",
       "      <td>18.73</td>\n",
       "      <td>5.02</td>\n",
       "      <td>137.95</td>\n",
       "    </tr>\n",
       "  </tbody>\n",
       "</table>\n",
       "</div>"
      ],
      "text/plain": [
       "              f0         f1         f2    product\n",
       "count  100000.00  100000.00  100000.00  100000.00\n",
       "mean        1.14      -4.80       2.49      68.83\n",
       "std         8.97       5.12       1.70      45.94\n",
       "min       -31.61     -26.36      -0.02       0.00\n",
       "25%        -6.30      -8.27       1.00      26.95\n",
       "50%         1.15      -4.81       2.01      57.09\n",
       "75%         8.62      -1.33       4.00     107.81\n",
       "max        29.42      18.73       5.02     137.95"
      ]
     },
     "execution_count": 6,
     "metadata": {},
     "output_type": "execute_result"
    }
   ],
   "source": [
    "# посмотрим на основные статистические показатели\n",
    "# с помощью метода .describe()\n",
    "data2.describe().round(2)"
   ]
  },
  {
   "cell_type": "code",
   "execution_count": 7,
   "metadata": {},
   "outputs": [
    {
     "data": {
      "text/html": [
       "<div>\n",
       "<style scoped>\n",
       "    .dataframe tbody tr th:only-of-type {\n",
       "        vertical-align: middle;\n",
       "    }\n",
       "\n",
       "    .dataframe tbody tr th {\n",
       "        vertical-align: top;\n",
       "    }\n",
       "\n",
       "    .dataframe thead th {\n",
       "        text-align: right;\n",
       "    }\n",
       "</style>\n",
       "<table border=\"1\" class=\"dataframe\">\n",
       "  <thead>\n",
       "    <tr style=\"text-align: right;\">\n",
       "      <th></th>\n",
       "      <th>id</th>\n",
       "      <th>f0</th>\n",
       "      <th>f1</th>\n",
       "      <th>f2</th>\n",
       "      <th>product</th>\n",
       "    </tr>\n",
       "  </thead>\n",
       "  <tbody>\n",
       "    <tr>\n",
       "      <th>0</th>\n",
       "      <td>fwXo0</td>\n",
       "      <td>-1.146987</td>\n",
       "      <td>0.963328</td>\n",
       "      <td>-0.828965</td>\n",
       "      <td>27.758673</td>\n",
       "    </tr>\n",
       "    <tr>\n",
       "      <th>1</th>\n",
       "      <td>WJtFt</td>\n",
       "      <td>0.262778</td>\n",
       "      <td>0.269839</td>\n",
       "      <td>-2.530187</td>\n",
       "      <td>56.069697</td>\n",
       "    </tr>\n",
       "    <tr>\n",
       "      <th>2</th>\n",
       "      <td>ovLUW</td>\n",
       "      <td>0.194587</td>\n",
       "      <td>0.289035</td>\n",
       "      <td>-5.586433</td>\n",
       "      <td>62.871910</td>\n",
       "    </tr>\n",
       "    <tr>\n",
       "      <th>3</th>\n",
       "      <td>q6cA6</td>\n",
       "      <td>2.236060</td>\n",
       "      <td>-0.553760</td>\n",
       "      <td>0.930038</td>\n",
       "      <td>114.572842</td>\n",
       "    </tr>\n",
       "    <tr>\n",
       "      <th>4</th>\n",
       "      <td>WPMUX</td>\n",
       "      <td>-0.515993</td>\n",
       "      <td>1.716266</td>\n",
       "      <td>5.899011</td>\n",
       "      <td>149.600746</td>\n",
       "    </tr>\n",
       "    <tr>\n",
       "      <th>5</th>\n",
       "      <td>LzZXx</td>\n",
       "      <td>-0.758092</td>\n",
       "      <td>0.710691</td>\n",
       "      <td>2.585887</td>\n",
       "      <td>90.222465</td>\n",
       "    </tr>\n",
       "    <tr>\n",
       "      <th>6</th>\n",
       "      <td>WBHRv</td>\n",
       "      <td>-0.574891</td>\n",
       "      <td>0.317727</td>\n",
       "      <td>1.773745</td>\n",
       "      <td>45.641478</td>\n",
       "    </tr>\n",
       "    <tr>\n",
       "      <th>7</th>\n",
       "      <td>XO8fn</td>\n",
       "      <td>-1.906649</td>\n",
       "      <td>-2.458350</td>\n",
       "      <td>-0.177097</td>\n",
       "      <td>72.480640</td>\n",
       "    </tr>\n",
       "    <tr>\n",
       "      <th>8</th>\n",
       "      <td>ybmQ5</td>\n",
       "      <td>1.776292</td>\n",
       "      <td>-0.279356</td>\n",
       "      <td>3.004156</td>\n",
       "      <td>106.616832</td>\n",
       "    </tr>\n",
       "    <tr>\n",
       "      <th>9</th>\n",
       "      <td>OilcN</td>\n",
       "      <td>-1.214452</td>\n",
       "      <td>-0.439314</td>\n",
       "      <td>5.922514</td>\n",
       "      <td>52.954532</td>\n",
       "    </tr>\n",
       "  </tbody>\n",
       "</table>\n",
       "</div>"
      ],
      "text/plain": [
       "      id        f0        f1        f2     product\n",
       "0  fwXo0 -1.146987  0.963328 -0.828965   27.758673\n",
       "1  WJtFt  0.262778  0.269839 -2.530187   56.069697\n",
       "2  ovLUW  0.194587  0.289035 -5.586433   62.871910\n",
       "3  q6cA6  2.236060 -0.553760  0.930038  114.572842\n",
       "4  WPMUX -0.515993  1.716266  5.899011  149.600746\n",
       "5  LzZXx -0.758092  0.710691  2.585887   90.222465\n",
       "6  WBHRv -0.574891  0.317727  1.773745   45.641478\n",
       "7  XO8fn -1.906649 -2.458350 -0.177097   72.480640\n",
       "8  ybmQ5  1.776292 -0.279356  3.004156  106.616832\n",
       "9  OilcN -1.214452 -0.439314  5.922514   52.954532"
      ]
     },
     "metadata": {},
     "output_type": "display_data"
    },
    {
     "name": "stdout",
     "output_type": "stream",
     "text": [
      "<class 'pandas.core.frame.DataFrame'>\n",
      "RangeIndex: 100000 entries, 0 to 99999\n",
      "Data columns (total 5 columns):\n",
      " #   Column   Non-Null Count   Dtype  \n",
      "---  ------   --------------   -----  \n",
      " 0   id       100000 non-null  object \n",
      " 1   f0       100000 non-null  float64\n",
      " 2   f1       100000 non-null  float64\n",
      " 3   f2       100000 non-null  float64\n",
      " 4   product  100000 non-null  float64\n",
      "dtypes: float64(4), object(1)\n",
      "memory usage: 3.8+ MB\n"
     ]
    }
   ],
   "source": [
    "display(data3.head(10))\n",
    "data3.info()"
   ]
  },
  {
   "cell_type": "code",
   "execution_count": 8,
   "metadata": {},
   "outputs": [
    {
     "data": {
      "text/html": [
       "<div>\n",
       "<style scoped>\n",
       "    .dataframe tbody tr th:only-of-type {\n",
       "        vertical-align: middle;\n",
       "    }\n",
       "\n",
       "    .dataframe tbody tr th {\n",
       "        vertical-align: top;\n",
       "    }\n",
       "\n",
       "    .dataframe thead th {\n",
       "        text-align: right;\n",
       "    }\n",
       "</style>\n",
       "<table border=\"1\" class=\"dataframe\">\n",
       "  <thead>\n",
       "    <tr style=\"text-align: right;\">\n",
       "      <th></th>\n",
       "      <th>f0</th>\n",
       "      <th>f1</th>\n",
       "      <th>f2</th>\n",
       "      <th>product</th>\n",
       "    </tr>\n",
       "  </thead>\n",
       "  <tbody>\n",
       "    <tr>\n",
       "      <th>count</th>\n",
       "      <td>100000.00</td>\n",
       "      <td>100000.00</td>\n",
       "      <td>100000.00</td>\n",
       "      <td>100000.00</td>\n",
       "    </tr>\n",
       "    <tr>\n",
       "      <th>mean</th>\n",
       "      <td>0.00</td>\n",
       "      <td>-0.00</td>\n",
       "      <td>2.50</td>\n",
       "      <td>95.00</td>\n",
       "    </tr>\n",
       "    <tr>\n",
       "      <th>std</th>\n",
       "      <td>1.73</td>\n",
       "      <td>1.73</td>\n",
       "      <td>3.47</td>\n",
       "      <td>44.75</td>\n",
       "    </tr>\n",
       "    <tr>\n",
       "      <th>min</th>\n",
       "      <td>-8.76</td>\n",
       "      <td>-7.08</td>\n",
       "      <td>-11.97</td>\n",
       "      <td>0.00</td>\n",
       "    </tr>\n",
       "    <tr>\n",
       "      <th>25%</th>\n",
       "      <td>-1.16</td>\n",
       "      <td>-1.17</td>\n",
       "      <td>0.13</td>\n",
       "      <td>59.45</td>\n",
       "    </tr>\n",
       "    <tr>\n",
       "      <th>50%</th>\n",
       "      <td>0.01</td>\n",
       "      <td>-0.01</td>\n",
       "      <td>2.48</td>\n",
       "      <td>94.93</td>\n",
       "    </tr>\n",
       "    <tr>\n",
       "      <th>75%</th>\n",
       "      <td>1.16</td>\n",
       "      <td>1.16</td>\n",
       "      <td>4.86</td>\n",
       "      <td>130.60</td>\n",
       "    </tr>\n",
       "    <tr>\n",
       "      <th>max</th>\n",
       "      <td>7.24</td>\n",
       "      <td>7.84</td>\n",
       "      <td>16.74</td>\n",
       "      <td>190.03</td>\n",
       "    </tr>\n",
       "  </tbody>\n",
       "</table>\n",
       "</div>"
      ],
      "text/plain": [
       "              f0         f1         f2    product\n",
       "count  100000.00  100000.00  100000.00  100000.00\n",
       "mean        0.00      -0.00       2.50      95.00\n",
       "std         1.73       1.73       3.47      44.75\n",
       "min        -8.76      -7.08     -11.97       0.00\n",
       "25%        -1.16      -1.17       0.13      59.45\n",
       "50%         0.01      -0.01       2.48      94.93\n",
       "75%         1.16       1.16       4.86     130.60\n",
       "max         7.24       7.84      16.74     190.03"
      ]
     },
     "execution_count": 8,
     "metadata": {},
     "output_type": "execute_result"
    }
   ],
   "source": [
    "# посмотрим на основные статистические показатели\n",
    "# с помощью метода .describe()\n",
    "data3.describe().round(2)"
   ]
  },
  {
   "cell_type": "markdown",
   "metadata": {},
   "source": [
    "Далее посчитаем коэффициент корреляции для датафреймов."
   ]
  },
  {
   "cell_type": "code",
   "execution_count": 9,
   "metadata": {},
   "outputs": [
    {
     "data": {
      "text/html": [
       "<div>\n",
       "<style scoped>\n",
       "    .dataframe tbody tr th:only-of-type {\n",
       "        vertical-align: middle;\n",
       "    }\n",
       "\n",
       "    .dataframe tbody tr th {\n",
       "        vertical-align: top;\n",
       "    }\n",
       "\n",
       "    .dataframe thead th {\n",
       "        text-align: right;\n",
       "    }\n",
       "</style>\n",
       "<table border=\"1\" class=\"dataframe\">\n",
       "  <thead>\n",
       "    <tr style=\"text-align: right;\">\n",
       "      <th></th>\n",
       "      <th>f0</th>\n",
       "      <th>f1</th>\n",
       "      <th>f2</th>\n",
       "      <th>product</th>\n",
       "    </tr>\n",
       "  </thead>\n",
       "  <tbody>\n",
       "    <tr>\n",
       "      <th>f0</th>\n",
       "      <td>1.00</td>\n",
       "      <td>-0.44</td>\n",
       "      <td>-0.00</td>\n",
       "      <td>0.14</td>\n",
       "    </tr>\n",
       "    <tr>\n",
       "      <th>f1</th>\n",
       "      <td>-0.44</td>\n",
       "      <td>1.00</td>\n",
       "      <td>0.00</td>\n",
       "      <td>-0.19</td>\n",
       "    </tr>\n",
       "    <tr>\n",
       "      <th>f2</th>\n",
       "      <td>-0.00</td>\n",
       "      <td>0.00</td>\n",
       "      <td>1.00</td>\n",
       "      <td>0.48</td>\n",
       "    </tr>\n",
       "    <tr>\n",
       "      <th>product</th>\n",
       "      <td>0.14</td>\n",
       "      <td>-0.19</td>\n",
       "      <td>0.48</td>\n",
       "      <td>1.00</td>\n",
       "    </tr>\n",
       "  </tbody>\n",
       "</table>\n",
       "</div>"
      ],
      "text/plain": [
       "           f0    f1    f2  product\n",
       "f0       1.00 -0.44 -0.00     0.14\n",
       "f1      -0.44  1.00  0.00    -0.19\n",
       "f2      -0.00  0.00  1.00     0.48\n",
       "product  0.14 -0.19  0.48     1.00"
      ]
     },
     "execution_count": 9,
     "metadata": {},
     "output_type": "execute_result"
    }
   ],
   "source": [
    "corr_matrix1 = data1.corr(numeric_only=True).round(2)\n",
    "corr_matrix1"
   ]
  },
  {
   "cell_type": "code",
   "execution_count": 10,
   "metadata": {},
   "outputs": [
    {
     "data": {
      "text/html": [
       "<div>\n",
       "<style scoped>\n",
       "    .dataframe tbody tr th:only-of-type {\n",
       "        vertical-align: middle;\n",
       "    }\n",
       "\n",
       "    .dataframe tbody tr th {\n",
       "        vertical-align: top;\n",
       "    }\n",
       "\n",
       "    .dataframe thead th {\n",
       "        text-align: right;\n",
       "    }\n",
       "</style>\n",
       "<table border=\"1\" class=\"dataframe\">\n",
       "  <thead>\n",
       "    <tr style=\"text-align: right;\">\n",
       "      <th></th>\n",
       "      <th>f0</th>\n",
       "      <th>f1</th>\n",
       "      <th>f2</th>\n",
       "      <th>product</th>\n",
       "    </tr>\n",
       "  </thead>\n",
       "  <tbody>\n",
       "    <tr>\n",
       "      <th>f0</th>\n",
       "      <td>1.00</td>\n",
       "      <td>0.18</td>\n",
       "      <td>-0.0</td>\n",
       "      <td>-0.03</td>\n",
       "    </tr>\n",
       "    <tr>\n",
       "      <th>f1</th>\n",
       "      <td>0.18</td>\n",
       "      <td>1.00</td>\n",
       "      <td>-0.0</td>\n",
       "      <td>-0.01</td>\n",
       "    </tr>\n",
       "    <tr>\n",
       "      <th>f2</th>\n",
       "      <td>-0.00</td>\n",
       "      <td>-0.00</td>\n",
       "      <td>1.0</td>\n",
       "      <td>1.00</td>\n",
       "    </tr>\n",
       "    <tr>\n",
       "      <th>product</th>\n",
       "      <td>-0.03</td>\n",
       "      <td>-0.01</td>\n",
       "      <td>1.0</td>\n",
       "      <td>1.00</td>\n",
       "    </tr>\n",
       "  </tbody>\n",
       "</table>\n",
       "</div>"
      ],
      "text/plain": [
       "           f0    f1   f2  product\n",
       "f0       1.00  0.18 -0.0    -0.03\n",
       "f1       0.18  1.00 -0.0    -0.01\n",
       "f2      -0.00 -0.00  1.0     1.00\n",
       "product -0.03 -0.01  1.0     1.00"
      ]
     },
     "execution_count": 10,
     "metadata": {},
     "output_type": "execute_result"
    }
   ],
   "source": [
    "corr_matrix2 = data2.corr(numeric_only=True).round(2)\n",
    "corr_matrix2"
   ]
  },
  {
   "cell_type": "code",
   "execution_count": 11,
   "metadata": {},
   "outputs": [
    {
     "data": {
      "text/html": [
       "<div>\n",
       "<style scoped>\n",
       "    .dataframe tbody tr th:only-of-type {\n",
       "        vertical-align: middle;\n",
       "    }\n",
       "\n",
       "    .dataframe tbody tr th {\n",
       "        vertical-align: top;\n",
       "    }\n",
       "\n",
       "    .dataframe thead th {\n",
       "        text-align: right;\n",
       "    }\n",
       "</style>\n",
       "<table border=\"1\" class=\"dataframe\">\n",
       "  <thead>\n",
       "    <tr style=\"text-align: right;\">\n",
       "      <th></th>\n",
       "      <th>f0</th>\n",
       "      <th>f1</th>\n",
       "      <th>f2</th>\n",
       "      <th>product</th>\n",
       "    </tr>\n",
       "  </thead>\n",
       "  <tbody>\n",
       "    <tr>\n",
       "      <th>f0</th>\n",
       "      <td>1.0</td>\n",
       "      <td>0.0</td>\n",
       "      <td>-0.00</td>\n",
       "      <td>-0.00</td>\n",
       "    </tr>\n",
       "    <tr>\n",
       "      <th>f1</th>\n",
       "      <td>0.0</td>\n",
       "      <td>1.0</td>\n",
       "      <td>0.00</td>\n",
       "      <td>-0.00</td>\n",
       "    </tr>\n",
       "    <tr>\n",
       "      <th>f2</th>\n",
       "      <td>-0.0</td>\n",
       "      <td>0.0</td>\n",
       "      <td>1.00</td>\n",
       "      <td>0.45</td>\n",
       "    </tr>\n",
       "    <tr>\n",
       "      <th>product</th>\n",
       "      <td>-0.0</td>\n",
       "      <td>-0.0</td>\n",
       "      <td>0.45</td>\n",
       "      <td>1.00</td>\n",
       "    </tr>\n",
       "  </tbody>\n",
       "</table>\n",
       "</div>"
      ],
      "text/plain": [
       "          f0   f1    f2  product\n",
       "f0       1.0  0.0 -0.00    -0.00\n",
       "f1       0.0  1.0  0.00    -0.00\n",
       "f2      -0.0  0.0  1.00     0.45\n",
       "product -0.0 -0.0  0.45     1.00"
      ]
     },
     "execution_count": 11,
     "metadata": {},
     "output_type": "execute_result"
    }
   ],
   "source": [
    "corr_matrix3 = data3.corr(numeric_only=True).round(2)\n",
    "corr_matrix3"
   ]
  },
  {
   "cell_type": "markdown",
   "metadata": {},
   "source": [
    "Первый вывод, который можно сделать после загрузки данных, что все 3 датафрейма по сути идентичны друг другу. Столбец `id` никак не поможет нам в исследовании, от него можно и нужно избавиться, но перед этим найдем явные дубликаты (если есть совпадение по ID, от них точно надо избавиться). "
   ]
  },
  {
   "cell_type": "code",
   "execution_count": 12,
   "metadata": {},
   "outputs": [],
   "source": [
    "data1['id'] = data1['id'].drop_duplicates()"
   ]
  },
  {
   "cell_type": "code",
   "execution_count": 13,
   "metadata": {},
   "outputs": [],
   "source": [
    "data1['id'] = data1['id'].drop_duplicates()"
   ]
  },
  {
   "cell_type": "code",
   "execution_count": 14,
   "metadata": {},
   "outputs": [],
   "source": [
    "data1['id'] = data1['id'].drop_duplicates()"
   ]
  },
  {
   "cell_type": "code",
   "execution_count": 15,
   "metadata": {},
   "outputs": [],
   "source": [
    "data1 = data1.drop(['id'], axis=1)"
   ]
  },
  {
   "cell_type": "code",
   "execution_count": 16,
   "metadata": {},
   "outputs": [],
   "source": [
    "data2 = data2.drop(['id'], axis=1)"
   ]
  },
  {
   "cell_type": "code",
   "execution_count": 17,
   "metadata": {},
   "outputs": [],
   "source": [
    "data3 = data3.drop(['id'], axis=1)"
   ]
  },
  {
   "cell_type": "markdown",
   "metadata": {},
   "source": [
    "Второе - интересно, что в первом датафрейме коэффициенты корреляции варьируются в значениях от -0.44 до 0.48. Во втором и третьем фрейме данных ситуация совсем другая. Во втором фрейме от f2 напрямую зависит добыча нефти. В третьем случае по нулям для f0 и f1, f2 же снова оказывает влияние на результаты добычи."
   ]
  },
  {
   "cell_type": "markdown",
   "metadata": {},
   "source": [
    "Теперь нужно разбить данные по 2 выборки\n",
    "\n",
    "- обучающая выборка\n",
    "- валидационная выборка"
   ]
  },
  {
   "cell_type": "code",
   "execution_count": 18,
   "metadata": {},
   "outputs": [
    {
     "name": "stdout",
     "output_type": "stream",
     "text": [
      "Размеры обучающей выборки:\n",
      "(75000, 3)\n",
      "(75000,)\n",
      "\n",
      "Размеры валидационной выборки:\n",
      "(25000, 3)\n",
      "(25000,)\n",
      "\n"
     ]
    }
   ],
   "source": [
    "features1 = data1.drop(['product'], axis=1)\n",
    "target1 = data1['product']\n",
    "\n",
    "features1_train, features1_valid, target1_train, target1_valid = train_test_split(features1, target1, \n",
    "                                                                          test_size=0.25, random_state=12345)\n",
    "print('Размеры обучающей выборки:')\n",
    "print(features1_train.shape)\n",
    "print(target1_train.shape)\n",
    "print()\n",
    "print('Размеры валидационной выборки:')\n",
    "print(features1_valid.shape)\n",
    "print(target1_valid.shape)\n",
    "print()"
   ]
  },
  {
   "cell_type": "code",
   "execution_count": 19,
   "metadata": {},
   "outputs": [
    {
     "name": "stdout",
     "output_type": "stream",
     "text": [
      "Размеры обучающей выборки:\n",
      "(75000, 3)\n",
      "(75000,)\n",
      "\n",
      "Размеры валидационной выборки:\n",
      "(25000, 3)\n",
      "(25000,)\n",
      "\n"
     ]
    }
   ],
   "source": [
    "features2 = data2.drop(['product'], axis=1)\n",
    "target2 = data2['product']\n",
    "\n",
    "features2_train, features2_valid, target2_train, target2_valid = train_test_split(features2, target2, \n",
    "                                                                          test_size=0.25, random_state=12345)\n",
    "print('Размеры обучающей выборки:')\n",
    "print(features2_train.shape)\n",
    "print(target2_train.shape)\n",
    "print()\n",
    "print('Размеры валидационной выборки:')\n",
    "print(features2_valid.shape)\n",
    "print(target2_valid.shape)\n",
    "print()"
   ]
  },
  {
   "cell_type": "code",
   "execution_count": 20,
   "metadata": {},
   "outputs": [
    {
     "name": "stdout",
     "output_type": "stream",
     "text": [
      "Размеры обучающей выборки:\n",
      "(75000, 3)\n",
      "(75000,)\n",
      "\n",
      "Размеры валидационной выборки:\n",
      "(25000, 3)\n",
      "(25000,)\n",
      "\n"
     ]
    }
   ],
   "source": [
    "features3 = data3.drop(['product'], axis=1)\n",
    "target3 = data3['product']\n",
    "\n",
    "features3_train, features3_valid, target3_train, target3_valid = train_test_split(features3, target3, \n",
    "                                                                          test_size=0.25, random_state=12345)\n",
    "print('Размеры обучающей выборки:')\n",
    "print(features3_train.shape)\n",
    "print(target3_train.shape)\n",
    "print()\n",
    "print('Размеры валидационной выборки:')\n",
    "print(features3_valid.shape)\n",
    "print(target3_valid.shape)\n",
    "print()"
   ]
  },
  {
   "cell_type": "markdown",
   "metadata": {},
   "source": [
    "Мы получили по 2 выборки для каждого фрейма данных в пропорциях 75/25. Обучающая выборка забрала 75% данных, валидационная заняла оставшиеся 25%."
   ]
  },
  {
   "cell_type": "markdown",
   "metadata": {},
   "source": [
    "Для начала создадим 2 списка, в которых сохраним предсказанные и правиьные ответы."
   ]
  },
  {
   "cell_type": "code",
   "execution_count": 21,
   "metadata": {},
   "outputs": [],
   "source": [
    "predicts = []\n",
    "answers = []"
   ]
  },
  {
   "cell_type": "code",
   "execution_count": 22,
   "metadata": {},
   "outputs": [
    {
     "data": {
      "text/html": [
       "<style>#sk-container-id-1 {color: black;}#sk-container-id-1 pre{padding: 0;}#sk-container-id-1 div.sk-toggleable {background-color: white;}#sk-container-id-1 label.sk-toggleable__label {cursor: pointer;display: block;width: 100%;margin-bottom: 0;padding: 0.3em;box-sizing: border-box;text-align: center;}#sk-container-id-1 label.sk-toggleable__label-arrow:before {content: \"▸\";float: left;margin-right: 0.25em;color: #696969;}#sk-container-id-1 label.sk-toggleable__label-arrow:hover:before {color: black;}#sk-container-id-1 div.sk-estimator:hover label.sk-toggleable__label-arrow:before {color: black;}#sk-container-id-1 div.sk-toggleable__content {max-height: 0;max-width: 0;overflow: hidden;text-align: left;background-color: #f0f8ff;}#sk-container-id-1 div.sk-toggleable__content pre {margin: 0.2em;color: black;border-radius: 0.25em;background-color: #f0f8ff;}#sk-container-id-1 input.sk-toggleable__control:checked~div.sk-toggleable__content {max-height: 200px;max-width: 100%;overflow: auto;}#sk-container-id-1 input.sk-toggleable__control:checked~label.sk-toggleable__label-arrow:before {content: \"▾\";}#sk-container-id-1 div.sk-estimator input.sk-toggleable__control:checked~label.sk-toggleable__label {background-color: #d4ebff;}#sk-container-id-1 div.sk-label input.sk-toggleable__control:checked~label.sk-toggleable__label {background-color: #d4ebff;}#sk-container-id-1 input.sk-hidden--visually {border: 0;clip: rect(1px 1px 1px 1px);clip: rect(1px, 1px, 1px, 1px);height: 1px;margin: -1px;overflow: hidden;padding: 0;position: absolute;width: 1px;}#sk-container-id-1 div.sk-estimator {font-family: monospace;background-color: #f0f8ff;border: 1px dotted black;border-radius: 0.25em;box-sizing: border-box;margin-bottom: 0.5em;}#sk-container-id-1 div.sk-estimator:hover {background-color: #d4ebff;}#sk-container-id-1 div.sk-parallel-item::after {content: \"\";width: 100%;border-bottom: 1px solid gray;flex-grow: 1;}#sk-container-id-1 div.sk-label:hover label.sk-toggleable__label {background-color: #d4ebff;}#sk-container-id-1 div.sk-serial::before {content: \"\";position: absolute;border-left: 1px solid gray;box-sizing: border-box;top: 0;bottom: 0;left: 50%;z-index: 0;}#sk-container-id-1 div.sk-serial {display: flex;flex-direction: column;align-items: center;background-color: white;padding-right: 0.2em;padding-left: 0.2em;position: relative;}#sk-container-id-1 div.sk-item {position: relative;z-index: 1;}#sk-container-id-1 div.sk-parallel {display: flex;align-items: stretch;justify-content: center;background-color: white;position: relative;}#sk-container-id-1 div.sk-item::before, #sk-container-id-1 div.sk-parallel-item::before {content: \"\";position: absolute;border-left: 1px solid gray;box-sizing: border-box;top: 0;bottom: 0;left: 50%;z-index: -1;}#sk-container-id-1 div.sk-parallel-item {display: flex;flex-direction: column;z-index: 1;position: relative;background-color: white;}#sk-container-id-1 div.sk-parallel-item:first-child::after {align-self: flex-end;width: 50%;}#sk-container-id-1 div.sk-parallel-item:last-child::after {align-self: flex-start;width: 50%;}#sk-container-id-1 div.sk-parallel-item:only-child::after {width: 0;}#sk-container-id-1 div.sk-dashed-wrapped {border: 1px dashed gray;margin: 0 0.4em 0.5em 0.4em;box-sizing: border-box;padding-bottom: 0.4em;background-color: white;}#sk-container-id-1 div.sk-label label {font-family: monospace;font-weight: bold;display: inline-block;line-height: 1.2em;}#sk-container-id-1 div.sk-label-container {text-align: center;}#sk-container-id-1 div.sk-container {/* jupyter's `normalize.less` sets `[hidden] { display: none; }` but bootstrap.min.css set `[hidden] { display: none !important; }` so we also need the `!important` here to be able to override the default hidden behavior on the sphinx rendered scikit-learn.org. See: https://github.com/scikit-learn/scikit-learn/issues/21755 */display: inline-block !important;position: relative;}#sk-container-id-1 div.sk-text-repr-fallback {display: none;}</style><div id=\"sk-container-id-1\" class=\"sk-top-container\"><div class=\"sk-text-repr-fallback\"><pre>LinearRegression()</pre><b>In a Jupyter environment, please rerun this cell to show the HTML representation or trust the notebook. <br />On GitHub, the HTML representation is unable to render, please try loading this page with nbviewer.org.</b></div><div class=\"sk-container\" hidden><div class=\"sk-item\"><div class=\"sk-estimator sk-toggleable\"><input class=\"sk-toggleable__control sk-hidden--visually\" id=\"sk-estimator-id-1\" type=\"checkbox\" checked><label for=\"sk-estimator-id-1\" class=\"sk-toggleable__label sk-toggleable__label-arrow\">LinearRegression</label><div class=\"sk-toggleable__content\"><pre>LinearRegression()</pre></div></div></div></div></div>"
      ],
      "text/plain": [
       "LinearRegression()"
      ]
     },
     "execution_count": 22,
     "metadata": {},
     "output_type": "execute_result"
    }
   ],
   "source": [
    "# создаем объект класса LinearRegression и запишем в переменную model\n",
    "model = LinearRegression()\n",
    "\n",
    "#обучим нашу модель\n",
    "model.fit(features1_train, target1_train)"
   ]
  },
  {
   "cell_type": "code",
   "execution_count": 23,
   "metadata": {},
   "outputs": [
    {
     "data": {
      "text/plain": [
       "array([95.89495185, 77.57258261, 77.89263965, 90.17513418, 70.51008829])"
      ]
     },
     "execution_count": 23,
     "metadata": {},
     "output_type": "execute_result"
    }
   ],
   "source": [
    "# на основе независимых переменных предскажем добычу нефти\n",
    "predict1 = model.predict(features1_valid)\n",
    "\n",
    "# выведем первые 5 значения с помощью диапазона индексов\n",
    "predict1[:5]"
   ]
  },
  {
   "cell_type": "code",
   "execution_count": 24,
   "metadata": {},
   "outputs": [
    {
     "name": "stdout",
     "output_type": "stream",
     "text": [
      "RMSE: 37.5794217150813\n"
     ]
    },
    {
     "data": {
      "text/plain": [
       "92.59"
      ]
     },
     "execution_count": 24,
     "metadata": {},
     "output_type": "execute_result"
    }
   ],
   "source": [
    "# выведем корень среднеквадратической ошибки\n",
    "# сравним тестовые и прогнозные значения\n",
    "print('RMSE:', np.sqrt(mean_squared_error(target1_valid, predict1)))\n",
    "\n",
    "# выведем средний запас предсказанного сырья \n",
    "predict1.mean().round(2)"
   ]
  },
  {
   "cell_type": "code",
   "execution_count": 25,
   "metadata": {},
   "outputs": [
    {
     "name": "stdout",
     "output_type": "stream",
     "text": [
      "R2: 0.28\n"
     ]
    }
   ],
   "source": [
    "# посмотрим на еще одну метрику, R2\n",
    "print('R2:', np.round(r2_score(target1_valid, predict1), 2))"
   ]
  },
  {
   "cell_type": "code",
   "execution_count": 26,
   "metadata": {},
   "outputs": [],
   "source": [
    "predicts.append(predict1)\n",
    "answers.append(target1_valid)"
   ]
  },
  {
   "cell_type": "markdown",
   "metadata": {},
   "source": [
    "Повторим работу на других датафреймах."
   ]
  },
  {
   "cell_type": "code",
   "execution_count": 27,
   "metadata": {},
   "outputs": [
    {
     "data": {
      "text/html": [
       "<style>#sk-container-id-2 {color: black;}#sk-container-id-2 pre{padding: 0;}#sk-container-id-2 div.sk-toggleable {background-color: white;}#sk-container-id-2 label.sk-toggleable__label {cursor: pointer;display: block;width: 100%;margin-bottom: 0;padding: 0.3em;box-sizing: border-box;text-align: center;}#sk-container-id-2 label.sk-toggleable__label-arrow:before {content: \"▸\";float: left;margin-right: 0.25em;color: #696969;}#sk-container-id-2 label.sk-toggleable__label-arrow:hover:before {color: black;}#sk-container-id-2 div.sk-estimator:hover label.sk-toggleable__label-arrow:before {color: black;}#sk-container-id-2 div.sk-toggleable__content {max-height: 0;max-width: 0;overflow: hidden;text-align: left;background-color: #f0f8ff;}#sk-container-id-2 div.sk-toggleable__content pre {margin: 0.2em;color: black;border-radius: 0.25em;background-color: #f0f8ff;}#sk-container-id-2 input.sk-toggleable__control:checked~div.sk-toggleable__content {max-height: 200px;max-width: 100%;overflow: auto;}#sk-container-id-2 input.sk-toggleable__control:checked~label.sk-toggleable__label-arrow:before {content: \"▾\";}#sk-container-id-2 div.sk-estimator input.sk-toggleable__control:checked~label.sk-toggleable__label {background-color: #d4ebff;}#sk-container-id-2 div.sk-label input.sk-toggleable__control:checked~label.sk-toggleable__label {background-color: #d4ebff;}#sk-container-id-2 input.sk-hidden--visually {border: 0;clip: rect(1px 1px 1px 1px);clip: rect(1px, 1px, 1px, 1px);height: 1px;margin: -1px;overflow: hidden;padding: 0;position: absolute;width: 1px;}#sk-container-id-2 div.sk-estimator {font-family: monospace;background-color: #f0f8ff;border: 1px dotted black;border-radius: 0.25em;box-sizing: border-box;margin-bottom: 0.5em;}#sk-container-id-2 div.sk-estimator:hover {background-color: #d4ebff;}#sk-container-id-2 div.sk-parallel-item::after {content: \"\";width: 100%;border-bottom: 1px solid gray;flex-grow: 1;}#sk-container-id-2 div.sk-label:hover label.sk-toggleable__label {background-color: #d4ebff;}#sk-container-id-2 div.sk-serial::before {content: \"\";position: absolute;border-left: 1px solid gray;box-sizing: border-box;top: 0;bottom: 0;left: 50%;z-index: 0;}#sk-container-id-2 div.sk-serial {display: flex;flex-direction: column;align-items: center;background-color: white;padding-right: 0.2em;padding-left: 0.2em;position: relative;}#sk-container-id-2 div.sk-item {position: relative;z-index: 1;}#sk-container-id-2 div.sk-parallel {display: flex;align-items: stretch;justify-content: center;background-color: white;position: relative;}#sk-container-id-2 div.sk-item::before, #sk-container-id-2 div.sk-parallel-item::before {content: \"\";position: absolute;border-left: 1px solid gray;box-sizing: border-box;top: 0;bottom: 0;left: 50%;z-index: -1;}#sk-container-id-2 div.sk-parallel-item {display: flex;flex-direction: column;z-index: 1;position: relative;background-color: white;}#sk-container-id-2 div.sk-parallel-item:first-child::after {align-self: flex-end;width: 50%;}#sk-container-id-2 div.sk-parallel-item:last-child::after {align-self: flex-start;width: 50%;}#sk-container-id-2 div.sk-parallel-item:only-child::after {width: 0;}#sk-container-id-2 div.sk-dashed-wrapped {border: 1px dashed gray;margin: 0 0.4em 0.5em 0.4em;box-sizing: border-box;padding-bottom: 0.4em;background-color: white;}#sk-container-id-2 div.sk-label label {font-family: monospace;font-weight: bold;display: inline-block;line-height: 1.2em;}#sk-container-id-2 div.sk-label-container {text-align: center;}#sk-container-id-2 div.sk-container {/* jupyter's `normalize.less` sets `[hidden] { display: none; }` but bootstrap.min.css set `[hidden] { display: none !important; }` so we also need the `!important` here to be able to override the default hidden behavior on the sphinx rendered scikit-learn.org. See: https://github.com/scikit-learn/scikit-learn/issues/21755 */display: inline-block !important;position: relative;}#sk-container-id-2 div.sk-text-repr-fallback {display: none;}</style><div id=\"sk-container-id-2\" class=\"sk-top-container\"><div class=\"sk-text-repr-fallback\"><pre>LinearRegression()</pre><b>In a Jupyter environment, please rerun this cell to show the HTML representation or trust the notebook. <br />On GitHub, the HTML representation is unable to render, please try loading this page with nbviewer.org.</b></div><div class=\"sk-container\" hidden><div class=\"sk-item\"><div class=\"sk-estimator sk-toggleable\"><input class=\"sk-toggleable__control sk-hidden--visually\" id=\"sk-estimator-id-2\" type=\"checkbox\" checked><label for=\"sk-estimator-id-2\" class=\"sk-toggleable__label sk-toggleable__label-arrow\">LinearRegression</label><div class=\"sk-toggleable__content\"><pre>LinearRegression()</pre></div></div></div></div></div>"
      ],
      "text/plain": [
       "LinearRegression()"
      ]
     },
     "execution_count": 27,
     "metadata": {},
     "output_type": "execute_result"
    }
   ],
   "source": [
    "# создаем объект класса LinearRegression и запишем в переменную model\n",
    "model = LinearRegression()\n",
    "\n",
    "#обучим нашу модель\n",
    "model.fit(features2_train, target2_train)"
   ]
  },
  {
   "cell_type": "code",
   "execution_count": 28,
   "metadata": {},
   "outputs": [
    {
     "data": {
      "text/plain": [
       "array([95.89495185, 77.57258261, 77.89263965, 90.17513418, 70.51008829])"
      ]
     },
     "execution_count": 28,
     "metadata": {},
     "output_type": "execute_result"
    }
   ],
   "source": [
    "# на основе независимых переменных предскажем добычу нефти\n",
    "predict2 = model.predict(features2_valid)\n",
    "\n",
    "# выведем первые 5 значения с помощью диапазона индексов\n",
    "predict1[:5]"
   ]
  },
  {
   "cell_type": "code",
   "execution_count": 29,
   "metadata": {},
   "outputs": [
    {
     "name": "stdout",
     "output_type": "stream",
     "text": [
      "RMSE: 0.8930992867756168\n"
     ]
    },
    {
     "data": {
      "text/plain": [
       "68.73"
      ]
     },
     "execution_count": 29,
     "metadata": {},
     "output_type": "execute_result"
    }
   ],
   "source": [
    "# выведем корень среднеквадратической ошибки\n",
    "# сравним тестовые и прогнозные значения\n",
    "print('RMSE:', np.sqrt(mean_squared_error(target2_valid, predict2)))\n",
    "\n",
    "# выведем средний запас предсказанного сырья \n",
    "predict2.mean().round(2)"
   ]
  },
  {
   "cell_type": "code",
   "execution_count": 30,
   "metadata": {},
   "outputs": [
    {
     "name": "stdout",
     "output_type": "stream",
     "text": [
      "R2: 1.0\n"
     ]
    }
   ],
   "source": [
    "# посмотрим на еще одну метрику, R2\n",
    "print('R2:', np.round(r2_score(target2_valid, predict2), 2))"
   ]
  },
  {
   "cell_type": "code",
   "execution_count": 31,
   "metadata": {},
   "outputs": [],
   "source": [
    "predicts.append(predict2)\n",
    "answers.append(target2_valid)"
   ]
  },
  {
   "cell_type": "markdown",
   "metadata": {},
   "source": [
    "Вторая модель практически идеально предсказывает, это можно объяснить максимальной корреляцией между f2 и добычей."
   ]
  },
  {
   "cell_type": "code",
   "execution_count": 32,
   "metadata": {},
   "outputs": [
    {
     "data": {
      "text/html": [
       "<style>#sk-container-id-3 {color: black;}#sk-container-id-3 pre{padding: 0;}#sk-container-id-3 div.sk-toggleable {background-color: white;}#sk-container-id-3 label.sk-toggleable__label {cursor: pointer;display: block;width: 100%;margin-bottom: 0;padding: 0.3em;box-sizing: border-box;text-align: center;}#sk-container-id-3 label.sk-toggleable__label-arrow:before {content: \"▸\";float: left;margin-right: 0.25em;color: #696969;}#sk-container-id-3 label.sk-toggleable__label-arrow:hover:before {color: black;}#sk-container-id-3 div.sk-estimator:hover label.sk-toggleable__label-arrow:before {color: black;}#sk-container-id-3 div.sk-toggleable__content {max-height: 0;max-width: 0;overflow: hidden;text-align: left;background-color: #f0f8ff;}#sk-container-id-3 div.sk-toggleable__content pre {margin: 0.2em;color: black;border-radius: 0.25em;background-color: #f0f8ff;}#sk-container-id-3 input.sk-toggleable__control:checked~div.sk-toggleable__content {max-height: 200px;max-width: 100%;overflow: auto;}#sk-container-id-3 input.sk-toggleable__control:checked~label.sk-toggleable__label-arrow:before {content: \"▾\";}#sk-container-id-3 div.sk-estimator input.sk-toggleable__control:checked~label.sk-toggleable__label {background-color: #d4ebff;}#sk-container-id-3 div.sk-label input.sk-toggleable__control:checked~label.sk-toggleable__label {background-color: #d4ebff;}#sk-container-id-3 input.sk-hidden--visually {border: 0;clip: rect(1px 1px 1px 1px);clip: rect(1px, 1px, 1px, 1px);height: 1px;margin: -1px;overflow: hidden;padding: 0;position: absolute;width: 1px;}#sk-container-id-3 div.sk-estimator {font-family: monospace;background-color: #f0f8ff;border: 1px dotted black;border-radius: 0.25em;box-sizing: border-box;margin-bottom: 0.5em;}#sk-container-id-3 div.sk-estimator:hover {background-color: #d4ebff;}#sk-container-id-3 div.sk-parallel-item::after {content: \"\";width: 100%;border-bottom: 1px solid gray;flex-grow: 1;}#sk-container-id-3 div.sk-label:hover label.sk-toggleable__label {background-color: #d4ebff;}#sk-container-id-3 div.sk-serial::before {content: \"\";position: absolute;border-left: 1px solid gray;box-sizing: border-box;top: 0;bottom: 0;left: 50%;z-index: 0;}#sk-container-id-3 div.sk-serial {display: flex;flex-direction: column;align-items: center;background-color: white;padding-right: 0.2em;padding-left: 0.2em;position: relative;}#sk-container-id-3 div.sk-item {position: relative;z-index: 1;}#sk-container-id-3 div.sk-parallel {display: flex;align-items: stretch;justify-content: center;background-color: white;position: relative;}#sk-container-id-3 div.sk-item::before, #sk-container-id-3 div.sk-parallel-item::before {content: \"\";position: absolute;border-left: 1px solid gray;box-sizing: border-box;top: 0;bottom: 0;left: 50%;z-index: -1;}#sk-container-id-3 div.sk-parallel-item {display: flex;flex-direction: column;z-index: 1;position: relative;background-color: white;}#sk-container-id-3 div.sk-parallel-item:first-child::after {align-self: flex-end;width: 50%;}#sk-container-id-3 div.sk-parallel-item:last-child::after {align-self: flex-start;width: 50%;}#sk-container-id-3 div.sk-parallel-item:only-child::after {width: 0;}#sk-container-id-3 div.sk-dashed-wrapped {border: 1px dashed gray;margin: 0 0.4em 0.5em 0.4em;box-sizing: border-box;padding-bottom: 0.4em;background-color: white;}#sk-container-id-3 div.sk-label label {font-family: monospace;font-weight: bold;display: inline-block;line-height: 1.2em;}#sk-container-id-3 div.sk-label-container {text-align: center;}#sk-container-id-3 div.sk-container {/* jupyter's `normalize.less` sets `[hidden] { display: none; }` but bootstrap.min.css set `[hidden] { display: none !important; }` so we also need the `!important` here to be able to override the default hidden behavior on the sphinx rendered scikit-learn.org. See: https://github.com/scikit-learn/scikit-learn/issues/21755 */display: inline-block !important;position: relative;}#sk-container-id-3 div.sk-text-repr-fallback {display: none;}</style><div id=\"sk-container-id-3\" class=\"sk-top-container\"><div class=\"sk-text-repr-fallback\"><pre>LinearRegression()</pre><b>In a Jupyter environment, please rerun this cell to show the HTML representation or trust the notebook. <br />On GitHub, the HTML representation is unable to render, please try loading this page with nbviewer.org.</b></div><div class=\"sk-container\" hidden><div class=\"sk-item\"><div class=\"sk-estimator sk-toggleable\"><input class=\"sk-toggleable__control sk-hidden--visually\" id=\"sk-estimator-id-3\" type=\"checkbox\" checked><label for=\"sk-estimator-id-3\" class=\"sk-toggleable__label sk-toggleable__label-arrow\">LinearRegression</label><div class=\"sk-toggleable__content\"><pre>LinearRegression()</pre></div></div></div></div></div>"
      ],
      "text/plain": [
       "LinearRegression()"
      ]
     },
     "execution_count": 32,
     "metadata": {},
     "output_type": "execute_result"
    }
   ],
   "source": [
    "# создаем объект класса LinearRegression и запишем в переменную model\n",
    "model = LinearRegression()\n",
    "\n",
    "#обучим нашу модель\n",
    "model.fit(features3_train, target3_train)"
   ]
  },
  {
   "cell_type": "code",
   "execution_count": 33,
   "metadata": {},
   "outputs": [
    {
     "data": {
      "text/plain": [
       "array([95.89495185, 77.57258261, 77.89263965, 90.17513418, 70.51008829])"
      ]
     },
     "execution_count": 33,
     "metadata": {},
     "output_type": "execute_result"
    }
   ],
   "source": [
    "# на основе независимых переменных предскажем добычу нефти\n",
    "predict3 = model.predict(features3_valid)\n",
    "\n",
    "# выведем первые 5 значения с помощью диапазона индексов\n",
    "predict1[:5]"
   ]
  },
  {
   "cell_type": "code",
   "execution_count": 34,
   "metadata": {},
   "outputs": [
    {
     "name": "stdout",
     "output_type": "stream",
     "text": [
      "RMSE: 40.02970873393434\n"
     ]
    },
    {
     "data": {
      "text/plain": [
       "94.97"
      ]
     },
     "execution_count": 34,
     "metadata": {},
     "output_type": "execute_result"
    }
   ],
   "source": [
    "# выведем корень среднеквадратической ошибки\n",
    "# сравним тестовые и прогнозные значения\n",
    "print('RMSE:', np.sqrt(mean_squared_error(target3_valid, predict3)))\n",
    "\n",
    "# выведем средний запас предсказанного сырья \n",
    "predict3.mean().round(2)"
   ]
  },
  {
   "cell_type": "code",
   "execution_count": 35,
   "metadata": {},
   "outputs": [
    {
     "name": "stdout",
     "output_type": "stream",
     "text": [
      "R2: 0.21\n"
     ]
    }
   ],
   "source": [
    "# посмотрим на еще одну метрику, R2\n",
    "print('R2:', np.round(r2_score(target3_valid, predict3), 2))"
   ]
  },
  {
   "cell_type": "code",
   "execution_count": 36,
   "metadata": {},
   "outputs": [],
   "source": [
    "predicts.append(predict3)\n",
    "answers.append(target3_valid)"
   ]
  },
  {
   "cell_type": "markdown",
   "metadata": {},
   "source": [
    "Третья модель предсказывает еще чуть хуже чем первая."
   ]
  },
  {
   "cell_type": "markdown",
   "metadata": {},
   "source": [
    "Можно подметить, что несмотря на высокую точность предсказания второй модели, средний запас добываемого сырья (предсказанного) у нее гораздо ниже (68.73 против 92.59 и 94.97)."
   ]
  },
  {
   "cell_type": "code",
   "execution_count": 37,
   "metadata": {},
   "outputs": [],
   "source": [
    "predict1 = pd.Series(predict1)\n",
    "predict2 = pd.Series(predict2)\n",
    "predict3 = pd.Series(predict3)"
   ]
  },
  {
   "cell_type": "code",
   "execution_count": 38,
   "metadata": {},
   "outputs": [],
   "source": [
    "#target1_valid = target1_valid.reset_index(drop=True)\n",
    "#target2_valid = target2_valid.reset_index(drop=True)\n",
    "#target3_valid = target3_valid.reset_index(drop=True)"
   ]
  },
  {
   "cell_type": "markdown",
   "metadata": {},
   "source": [
    "Все ключевые значения для расчётов сохраним в отдельных переменных."
   ]
  },
  {
   "cell_type": "markdown",
   "metadata": {},
   "source": [
    "## Подготовка к расчёту прибыли"
   ]
  },
  {
   "cell_type": "markdown",
   "metadata": {},
   "source": [
    "Посчитаем минимальное среднее количество продукта в месторождениях региона, достаточное для разработки.\n",
    "\n",
    "При разведке региона исследуют 500 точек, из которых с помощью машинного обучения выбирают 200 лучших для разработки.\n",
    "\n",
    "По условию задачи бюджет на разработку скважин в регионе — 10 млрд рублей. Доход с каждой единицы продукта составляет 450 тыс. рублей, поскольку объём указан в тысячах баррелей."
   ]
  },
  {
   "cell_type": "code",
   "execution_count": 39,
   "metadata": {},
   "outputs": [
    {
     "data": {
      "text/plain": [
       "22222.222222222223"
      ]
     },
     "execution_count": 39,
     "metadata": {},
     "output_type": "execute_result"
    }
   ],
   "source": [
    "#сначала для ключевых значений создадим константы\n",
    "PRICE_FOR_1000B = 450000\n",
    "EXPENSES = 10_000_000_000\n",
    "LOSS_THRESHOLD = 2.5\n",
    "\n",
    "# для рассчета минимального среднего разделим финансирование \n",
    "# на \"выхлоп\" с 1 добытой единицы\n",
    "\n",
    "min_production = 10000000000 / 450000\n",
    "min_production"
   ]
  },
  {
   "cell_type": "code",
   "execution_count": 40,
   "metadata": {},
   "outputs": [
    {
     "data": {
      "text/plain": [
       "111.11111111111111"
      ]
     },
     "execution_count": 40,
     "metadata": {},
     "output_type": "execute_result"
    }
   ],
   "source": [
    "# теперь полученное значение разделим на количество скважин\n",
    "# это 200 скважин, лучших для разработки\n",
    "min_production / 200"
   ]
  },
  {
   "cell_type": "markdown",
   "metadata": {},
   "source": [
    "Теперь сравним это значение со средним количеством сырья в скважине каждого региона."
   ]
  },
  {
   "cell_type": "code",
   "execution_count": 41,
   "metadata": {},
   "outputs": [
    {
     "data": {
      "text/plain": [
       "92.5"
      ]
     },
     "execution_count": 41,
     "metadata": {},
     "output_type": "execute_result"
    }
   ],
   "source": [
    "data1['product'].mean().round(2)"
   ]
  },
  {
   "cell_type": "code",
   "execution_count": 42,
   "metadata": {},
   "outputs": [
    {
     "data": {
      "text/plain": [
       "68.83"
      ]
     },
     "execution_count": 42,
     "metadata": {},
     "output_type": "execute_result"
    }
   ],
   "source": [
    "data2['product'].mean().round(2)"
   ]
  },
  {
   "cell_type": "code",
   "execution_count": 43,
   "metadata": {},
   "outputs": [
    {
     "data": {
      "text/plain": [
       "95.0"
      ]
     },
     "execution_count": 43,
     "metadata": {},
     "output_type": "execute_result"
    }
   ],
   "source": [
    "data3['product'].mean().round(2)"
   ]
  },
  {
   "cell_type": "markdown",
   "metadata": {},
   "source": [
    "Подытожим: для того, чтобы разработка новых скважин была безубыточна, среднее количество сырья в скважине должно превышать 111 единиц. Ни в одном регионе среднее количество сырья не превышает необходимое значение. Значит из 100000 вариантов нужно выбрать лучшие скважины, количество сырья в которых будет превышать среднее значение для безубыточной добычи."
   ]
  },
  {
   "cell_type": "markdown",
   "metadata": {},
   "source": [
    "## Расчёт прибыли и рисков "
   ]
  },
  {
   "cell_type": "markdown",
   "metadata": {},
   "source": [
    "Напишем функцию расчета прибыли. Она будет:\n",
    "1. Выбирать скважины с максимальными значениями предсказаний. \n",
    "2. Суммировать целевое значение объёма сырья, соответствующее этим предсказаниям.\n",
    "3. Рассчитывать прибыль для полученного объёма сырья."
   ]
  },
  {
   "cell_type": "code",
   "execution_count": 44,
   "metadata": {},
   "outputs": [],
   "source": [
    "def income(predictions, target):\n",
    "    preds_sorted = predictions.sort_values(ascending=False)[:200]       \n",
    "    selected = target[preds_sorted.index]   \n",
    "    return PRICE_FOR_1000B * selected.sum() - EXPENSES"
   ]
  },
  {
   "cell_type": "markdown",
   "metadata": {},
   "source": [
    "Далее посчитаем риски и прибыль для каждого региона."
   ]
  },
  {
   "cell_type": "code",
   "execution_count": 46,
   "metadata": {},
   "outputs": [],
   "source": [
    "# создадим функцию чтобы далее не пришлось дублировать весь этот код\n",
    "# в функции применим технику Bootstrap с 1000 выборок\n",
    "\n",
    "def calculations (target, predict):    \n",
    "    state = np.random.RandomState(12345)\n",
    "    values = []\n",
    "    lost = 0  \n",
    "    target = target.reset_index(drop=True)\n",
    "    for i in range(1000):\n",
    "        target_subsample = target.sample(n=500, replace=True, random_state=state)\n",
    "        preds_subsample = predict[target_subsample.index]\n",
    "        values.append(income(preds_subsample, target))\n",
    "        \n",
    "    values = pd.Series(values)    \n",
    "    \n",
    "    # узнаем риски\n",
    "    risk = (values < 0).mean() * 100        \n",
    "        \n",
    "    # найдем среднюю прибыль       \n",
    "    mean = values.mean()  \n",
    "    print(\"Средняя прибыль:\", mean.round(2))\n",
    "    \n",
    "    # узнаем 95% доверительный интервал\n",
    "    conf_interval = st.t.interval(0.95, len(values)-1, values.mean(), values.sem())\n",
    "    print(\"95%-ый доверительный интервал:\", conf_interval)\n",
    "    \n",
    "    if risk < LOSS_THRESHOLD:\n",
    "        print(f'Вероятность убытков - {risk}%, меньше допустимой вероятности {LOSS_THRESHOLD}%')\n",
    "    else:\n",
    "        print(f'Вероятность убытков - {risk}%, больше допустимой вероятности {LOSS_THRESHOLD}%')    \n",
    "    "
   ]
  },
  {
   "cell_type": "code",
   "execution_count": 47,
   "metadata": {},
   "outputs": [
    {
     "name": "stdout",
     "output_type": "stream",
     "text": [
      "Средняя прибыль: 396164984.8\n",
      "95%-ый доверительный интервал: (379620315.1479725, 412709654.45676965)\n",
      "Вероятность убытков - 6.9%, больше допустимой вероятности 2.5%\n"
     ]
    }
   ],
   "source": [
    "calculations (target1_valid, predict1)"
   ]
  },
  {
   "cell_type": "markdown",
   "metadata": {},
   "source": [
    "Средняя прибыль в регионе планируется в 396.164.984,8 рублей. С 95% вероятностью разброс выручки составляет 33млн рублей. Вероятность убытков - 6.9%, больше допустимой вероятности 2.5%"
   ]
  },
  {
   "cell_type": "code",
   "execution_count": 48,
   "metadata": {},
   "outputs": [
    {
     "name": "stdout",
     "output_type": "stream",
     "text": [
      "Средняя прибыль: 456045105.79\n",
      "95%-ый доверительный интервал: (443147248.66390055, 468942962.909421)\n",
      "Вероятность убытков - 1.5%, меньше допустимой вероятности 2.5%\n"
     ]
    }
   ],
   "source": [
    "calculations (target2_valid, predict2)"
   ]
  },
  {
   "cell_type": "markdown",
   "metadata": {},
   "source": [
    "Средняя прибыль в регионе планируется в 456.045.105,79 рублей. С 95% вероятностью разброс выручки составляет 25млн рублей. Вероятность убытков - 1.5%, меньше допустимой вероятности 2.5%"
   ]
  },
  {
   "cell_type": "code",
   "execution_count": 49,
   "metadata": {},
   "outputs": [
    {
     "name": "stdout",
     "output_type": "stream",
     "text": [
      "Средняя прибыль: 404403866.57\n",
      "95%-ый доверительный интервал: (387445797.4712804, 421361935.6654332)\n",
      "Вероятность убытков - 7.6%, больше допустимой вероятности 2.5%\n"
     ]
    }
   ],
   "source": [
    "calculations (target3_valid, predict3)"
   ]
  },
  {
   "cell_type": "markdown",
   "metadata": {},
   "source": [
    "Средняя прибыль в регионе планируется в 404.403.866,57 рублей. С 95% вероятностью разброс выручки составляет 34млн рублей. Вероятность убытков - 7.6%, больше допустимой вероятности 2.5%"
   ]
  },
  {
   "cell_type": "markdown",
   "metadata": {},
   "source": [
    "**Вывод**: Во втором регионе, судя по результатам исследования, ожидается самая высокая выручка со скважин, а также с вероятностью 95% самая высокая минимальная прибыль."
   ]
  },
  {
   "cell_type": "markdown",
   "metadata": {},
   "source": [
    "## Общий вывод"
   ]
  },
  {
   "cell_type": "markdown",
   "metadata": {},
   "source": [
    "**Мне была поставлена задача от добывающей компании «ГлавРосГосНефть». Нужно решить, где бурить новую скважину.**\n",
    "\n",
    "В результате ознакомления с данными было выявлено,  что в первом датафрейме коэффициенты корреляции варьируются в значениях от -0.44 до 0.48. Во втором и третьем фрейме данных ситуация совсем другая. Во втором фрейме от f2 напрямую зависит добыча нефти. В третьем случае по нулям для f0 и f1, f2 же снова оказывает влияние на результаты добычи. Это интересный факт.\n",
    "\n",
    "\n",
    "Первым этапом, после ознакомления с данными, была проведена подготовка данных.\n",
    "1. Из фреймов был удален столбец `id(уникальный идентификатор скважины)`, который никак не поможет исследованию и никак не влияет на целевой признак.\n",
    "\n",
    "3. Выборки были разбиты на 2 части:\n",
    " - обучающая выборка\n",
    " - валидационная выборка\n",
    "\n",
    "\n",
    "Далее, вторым этапом, было проведено обучение и проверка моделей.\n",
    "\n",
    "\n",
    "    В результате исследования задачи, были получены результаты среднего запас предсказанного сырья 92.59, 68.73 и 94.97 единиц добычи для 1, 2 и 3 региона соответственно. \n",
    "    \n",
    "На этапе подготовки к расчёту прибыли, было вычисленно, что минимальное среднее количество продукта в месторождениях региона, достаточное для разработки должно быть не менее 111.1 единиц продукта на скважину. **Очевидно, что для того, чтобы разработка новых скважин была безубыточна, среднее количество сырья в скважине должно превышать 111 единиц. Ни в одном регионе среднее количество сырья не превышает необходимое значение. Значит из 100000 вариантов нужно выбрать лучшие скважины (200 скважин), количество сырья в которых будет превышать среднее значение для безубыточной добычи.**\n",
    "\n",
    "\n",
    "    После расчёта прибыли и рисков для 200 лучших скважин каждого региона, мы получили следующие значения: \n",
    "- Для первого региона:\n",
    "1. Средняя прибыль: 396 млн\n",
    "2. 95%-ый доверительный интервал: (379, 412)\n",
    "3. Вероятность убытков - 6.9%, больше допустимой вероятности 2.5%\n",
    "\n",
    "Средняя прибыль в регионе планируется в 396.164.984,8 рублей. С 95% вероятностью разброс выручки составляет 33млн рублей. Вероятность убытков - 6.9%, больше допустимой вероятности 2.5%\n",
    "\n",
    "\n",
    "- Для второго региона:\n",
    "1. Средняя прибыль: 456 млн\n",
    "2. 95%-ый доверительный интервал: (443, 468)\n",
    "3. Вероятность убытков - 1.5%, меньше допустимой вероятности 2.5%\n",
    "\n",
    "\n",
    "Средняя прибыль в регионе планируется в 456.045.105,79 рублей. С 95% вероятностью разброс выручки составляет 25млн рублей. Вероятность убытков - 1.5%, меньше допустимой вероятности 2.5%\n",
    "\n",
    "\n",
    "- Для третьего региона:\n",
    "1. Средняя прибыль: 404 млн\n",
    "2. 95%-ый доверительный интервал: (387, 421)\n",
    "3. Вероятность убытков - 7.6%, больше допустимой вероятности 2.5%\n",
    "\n",
    "Средняя прибыль в регионе планируется в 404.403.866,57 рублей. С 95% вероятностью разброс выручки составляет 34млн рублей. Вероятность убытков - 7.6%, больше допустимой вероятности 2.5%\n",
    "\n",
    "**Во втором регионе, судя по результатам исследования, ожидается самая высокая средняя выручка со скважин, а также самые меньшие риски убытков. Менее всего рекомендуется третий регион, вероятность убытков в нем 7.6%, что больше допустимой вероятности в 2.5%**"
   ]
  }
 ],
 "metadata": {
  "ExecuteTimeLog": [
   {
    "duration": 1647,
    "start_time": "2023-07-27T10:34:02.065Z"
   },
   {
    "duration": 1999,
    "start_time": "2023-07-27T10:37:37.098Z"
   },
   {
    "duration": 25,
    "start_time": "2023-07-27T10:38:19.254Z"
   },
   {
    "duration": 22,
    "start_time": "2023-07-27T10:39:14.999Z"
   },
   {
    "duration": 56,
    "start_time": "2023-07-27T10:39:35.608Z"
   },
   {
    "duration": 22,
    "start_time": "2023-07-27T10:40:10.886Z"
   },
   {
    "duration": 22,
    "start_time": "2023-07-27T10:40:12.687Z"
   },
   {
    "duration": 23,
    "start_time": "2023-07-27T10:40:14.108Z"
   },
   {
    "duration": 171,
    "start_time": "2023-07-27T10:44:32.958Z"
   },
   {
    "duration": 123,
    "start_time": "2023-07-27T10:44:42.091Z"
   },
   {
    "duration": 7,
    "start_time": "2023-07-27T10:45:12.914Z"
   },
   {
    "duration": 13,
    "start_time": "2023-07-27T10:45:34.449Z"
   },
   {
    "duration": 8,
    "start_time": "2023-07-27T10:45:36.668Z"
   },
   {
    "duration": 8,
    "start_time": "2023-07-27T10:45:38.456Z"
   },
   {
    "duration": 1704,
    "start_time": "2023-07-27T10:48:27.463Z"
   },
   {
    "duration": 367,
    "start_time": "2023-07-27T10:48:29.169Z"
   },
   {
    "duration": 27,
    "start_time": "2023-07-27T10:48:29.538Z"
   },
   {
    "duration": 23,
    "start_time": "2023-07-27T10:48:29.566Z"
   },
   {
    "duration": 19,
    "start_time": "2023-07-27T10:48:29.591Z"
   },
   {
    "duration": 6,
    "start_time": "2023-07-27T10:48:29.611Z"
   },
   {
    "duration": 21,
    "start_time": "2023-07-27T10:48:29.618Z"
   },
   {
    "duration": 17,
    "start_time": "2023-07-27T10:48:29.640Z"
   },
   {
    "duration": 125,
    "start_time": "2023-07-27T10:58:33.504Z"
   },
   {
    "duration": 27,
    "start_time": "2023-07-27T10:58:42.934Z"
   },
   {
    "duration": 19,
    "start_time": "2023-07-27T10:59:00.804Z"
   },
   {
    "duration": 29,
    "start_time": "2023-07-27T10:59:56.367Z"
   },
   {
    "duration": 29,
    "start_time": "2023-07-27T11:00:41.169Z"
   },
   {
    "duration": 67,
    "start_time": "2023-07-27T18:29:01.945Z"
   },
   {
    "duration": 2020,
    "start_time": "2023-07-27T18:29:10.281Z"
   },
   {
    "duration": 1013,
    "start_time": "2023-07-27T18:29:12.303Z"
   },
   {
    "duration": 43,
    "start_time": "2023-07-27T18:29:13.318Z"
   },
   {
    "duration": 49,
    "start_time": "2023-07-27T18:29:13.370Z"
   },
   {
    "duration": 21,
    "start_time": "2023-07-27T18:29:13.422Z"
   },
   {
    "duration": 10,
    "start_time": "2023-07-27T18:29:13.444Z"
   },
   {
    "duration": 54,
    "start_time": "2023-07-27T18:29:13.465Z"
   },
   {
    "duration": 84,
    "start_time": "2023-07-27T18:29:13.521Z"
   },
   {
    "duration": 28,
    "start_time": "2023-07-27T18:29:13.607Z"
   },
   {
    "duration": 34,
    "start_time": "2023-07-27T18:29:13.637Z"
   },
   {
    "duration": 72,
    "start_time": "2023-07-27T18:29:13.672Z"
   },
   {
    "duration": 3,
    "start_time": "2023-07-27T18:29:13.745Z"
   },
   {
    "duration": 159,
    "start_time": "2023-07-27T18:29:47.121Z"
   },
   {
    "duration": 515834,
    "start_time": "2023-07-27T18:29:55.005Z"
   },
   {
    "duration": 15,
    "start_time": "2023-07-27T18:38:35.170Z"
   },
   {
    "duration": 10,
    "start_time": "2023-07-27T18:38:50.007Z"
   },
   {
    "duration": 262,
    "start_time": "2023-07-27T18:39:09.302Z"
   },
   {
    "duration": 231,
    "start_time": "2023-07-27T18:41:25.704Z"
   },
   {
    "duration": 261,
    "start_time": "2023-07-27T18:41:31.878Z"
   },
   {
    "duration": 262,
    "start_time": "2023-07-27T18:42:17.350Z"
   },
   {
    "duration": 247,
    "start_time": "2023-07-27T18:44:29.685Z"
   },
   {
    "duration": 5,
    "start_time": "2023-07-27T18:44:43.094Z"
   },
   {
    "duration": 261,
    "start_time": "2023-07-27T18:44:58.946Z"
   },
   {
    "duration": 254,
    "start_time": "2023-07-27T18:45:18.850Z"
   },
   {
    "duration": 246,
    "start_time": "2023-07-27T18:45:30.371Z"
   },
   {
    "duration": 250,
    "start_time": "2023-07-27T18:46:05.199Z"
   },
   {
    "duration": 252,
    "start_time": "2023-07-27T18:47:04.507Z"
   },
   {
    "duration": 265,
    "start_time": "2023-07-27T18:55:58.202Z"
   },
   {
    "duration": 234,
    "start_time": "2023-07-27T18:56:20.591Z"
   },
   {
    "duration": 241,
    "start_time": "2023-07-27T18:57:05.497Z"
   },
   {
    "duration": 266,
    "start_time": "2023-07-27T18:57:28.659Z"
   },
   {
    "duration": 286,
    "start_time": "2023-07-27T18:58:21.921Z"
   },
   {
    "duration": 1752,
    "start_time": "2023-07-27T18:58:34.682Z"
   },
   {
    "duration": 472,
    "start_time": "2023-07-27T18:58:36.436Z"
   },
   {
    "duration": 28,
    "start_time": "2023-07-27T18:58:36.910Z"
   },
   {
    "duration": 39,
    "start_time": "2023-07-27T18:58:36.958Z"
   },
   {
    "duration": 28,
    "start_time": "2023-07-27T18:58:37.000Z"
   },
   {
    "duration": 9,
    "start_time": "2023-07-27T18:58:37.030Z"
   },
   {
    "duration": 21,
    "start_time": "2023-07-27T18:58:37.041Z"
   },
   {
    "duration": 54,
    "start_time": "2023-07-27T18:58:37.064Z"
   },
   {
    "duration": 89,
    "start_time": "2023-07-27T18:58:37.120Z"
   },
   {
    "duration": 20,
    "start_time": "2023-07-27T18:58:37.211Z"
   },
   {
    "duration": 83,
    "start_time": "2023-07-27T18:58:37.233Z"
   },
   {
    "duration": 11,
    "start_time": "2023-07-27T18:58:37.319Z"
   },
   {
    "duration": 18,
    "start_time": "2023-07-27T18:58:37.332Z"
   },
   {
    "duration": 305,
    "start_time": "2023-07-27T18:58:37.357Z"
   },
   {
    "duration": 242,
    "start_time": "2023-07-27T18:58:37.664Z"
   },
   {
    "duration": 247,
    "start_time": "2023-07-27T18:58:37.908Z"
   },
   {
    "duration": 1667,
    "start_time": "2023-07-27T20:09:19.703Z"
   },
   {
    "duration": 453,
    "start_time": "2023-07-27T20:09:21.373Z"
   },
   {
    "duration": 42,
    "start_time": "2023-07-27T20:09:21.828Z"
   },
   {
    "duration": 39,
    "start_time": "2023-07-27T20:09:21.877Z"
   },
   {
    "duration": 20,
    "start_time": "2023-07-27T20:09:21.918Z"
   },
   {
    "duration": 49,
    "start_time": "2023-07-27T20:09:21.940Z"
   },
   {
    "duration": 16,
    "start_time": "2023-07-27T20:09:21.991Z"
   },
   {
    "duration": 31,
    "start_time": "2023-07-27T20:09:22.008Z"
   },
   {
    "duration": 57,
    "start_time": "2023-07-27T20:09:22.041Z"
   },
   {
    "duration": 26,
    "start_time": "2023-07-27T20:09:22.099Z"
   },
   {
    "duration": 43,
    "start_time": "2023-07-27T20:09:22.127Z"
   },
   {
    "duration": 169,
    "start_time": "2023-07-27T20:09:22.173Z"
   },
   {
    "duration": 33,
    "start_time": "2023-07-27T20:09:22.344Z"
   },
   {
    "duration": 244,
    "start_time": "2023-07-27T20:09:22.379Z"
   },
   {
    "duration": 145,
    "start_time": "2023-07-27T20:09:22.624Z"
   },
   {
    "duration": 0,
    "start_time": "2023-07-27T20:09:22.778Z"
   },
   {
    "duration": 1626,
    "start_time": "2023-07-27T20:11:23.874Z"
   },
   {
    "duration": 442,
    "start_time": "2023-07-27T20:11:25.502Z"
   },
   {
    "duration": 45,
    "start_time": "2023-07-27T20:11:25.946Z"
   },
   {
    "duration": 39,
    "start_time": "2023-07-27T20:11:25.993Z"
   },
   {
    "duration": 30,
    "start_time": "2023-07-27T20:11:26.034Z"
   },
   {
    "duration": 27,
    "start_time": "2023-07-27T20:11:26.070Z"
   },
   {
    "duration": 32,
    "start_time": "2023-07-27T20:11:26.099Z"
   },
   {
    "duration": 36,
    "start_time": "2023-07-27T20:11:26.133Z"
   },
   {
    "duration": 41,
    "start_time": "2023-07-27T20:11:26.176Z"
   },
   {
    "duration": 49,
    "start_time": "2023-07-27T20:11:26.220Z"
   },
   {
    "duration": 44,
    "start_time": "2023-07-27T20:11:26.278Z"
   },
   {
    "duration": 11,
    "start_time": "2023-07-27T20:11:26.324Z"
   },
   {
    "duration": 44,
    "start_time": "2023-07-27T20:11:26.337Z"
   },
   {
    "duration": 240,
    "start_time": "2023-07-27T20:11:26.383Z"
   },
   {
    "duration": 200,
    "start_time": "2023-07-27T20:11:26.625Z"
   },
   {
    "duration": 12,
    "start_time": "2023-07-27T20:12:28.823Z"
   },
   {
    "duration": 13,
    "start_time": "2023-07-27T20:12:32.583Z"
   },
   {
    "duration": 222,
    "start_time": "2023-07-27T20:19:19.806Z"
   },
   {
    "duration": 229,
    "start_time": "2023-07-27T20:19:21.074Z"
   },
   {
    "duration": 225,
    "start_time": "2023-07-27T20:19:23.795Z"
   },
   {
    "duration": 231,
    "start_time": "2023-07-27T20:19:27.817Z"
   },
   {
    "duration": 140,
    "start_time": "2023-07-27T20:22:15.563Z"
   },
   {
    "duration": 17,
    "start_time": "2023-07-27T20:22:29.203Z"
   },
   {
    "duration": 302327,
    "start_time": "2023-07-27T20:22:41.510Z"
   },
   {
    "duration": 10064,
    "start_time": "2023-07-27T20:34:00.777Z"
   },
   {
    "duration": 9972,
    "start_time": "2023-07-27T20:36:12.274Z"
   },
   {
    "duration": 17,
    "start_time": "2023-07-27T20:40:42.599Z"
   },
   {
    "duration": 18,
    "start_time": "2023-07-27T20:41:55.393Z"
   },
   {
    "duration": 9585,
    "start_time": "2023-07-27T20:42:46.942Z"
   },
   {
    "duration": 8873,
    "start_time": "2023-07-27T20:43:43.739Z"
   },
   {
    "duration": 226,
    "start_time": "2023-07-27T20:47:15.794Z"
   },
   {
    "duration": 240,
    "start_time": "2023-07-27T20:47:17.503Z"
   },
   {
    "duration": 8662,
    "start_time": "2023-07-27T20:47:36.097Z"
   },
   {
    "duration": 9066,
    "start_time": "2023-07-27T20:47:44.761Z"
   },
   {
    "duration": 5,
    "start_time": "2023-07-27T20:49:06.498Z"
   },
   {
    "duration": 4,
    "start_time": "2023-07-27T20:49:15.781Z"
   },
   {
    "duration": 4,
    "start_time": "2023-07-27T20:51:41.344Z"
   },
   {
    "duration": 12,
    "start_time": "2023-07-27T20:56:17.848Z"
   },
   {
    "duration": 16,
    "start_time": "2023-07-27T20:56:29.440Z"
   },
   {
    "duration": 15,
    "start_time": "2023-07-27T20:57:39.212Z"
   },
   {
    "duration": 22,
    "start_time": "2023-07-27T20:57:41.844Z"
   },
   {
    "duration": 5,
    "start_time": "2023-07-27T20:58:18.703Z"
   },
   {
    "duration": 13,
    "start_time": "2023-07-27T20:58:23.605Z"
   },
   {
    "duration": 20,
    "start_time": "2023-07-27T20:58:25.313Z"
   },
   {
    "duration": 13,
    "start_time": "2023-07-27T20:58:25.877Z"
   },
   {
    "duration": 15,
    "start_time": "2023-07-27T20:58:42.504Z"
   },
   {
    "duration": 14,
    "start_time": "2023-07-27T20:58:48.676Z"
   },
   {
    "duration": 13,
    "start_time": "2023-07-27T20:58:50.376Z"
   },
   {
    "duration": 3,
    "start_time": "2023-07-27T21:09:21.408Z"
   },
   {
    "duration": 3,
    "start_time": "2023-07-27T21:09:22.480Z"
   },
   {
    "duration": 3,
    "start_time": "2023-07-27T21:09:23.088Z"
   },
   {
    "duration": 9,
    "start_time": "2023-07-27T21:11:29.756Z"
   },
   {
    "duration": 6,
    "start_time": "2023-07-27T21:11:31.705Z"
   },
   {
    "duration": 5,
    "start_time": "2023-07-27T21:11:47.307Z"
   },
   {
    "duration": 7,
    "start_time": "2023-07-27T21:11:48.505Z"
   },
   {
    "duration": 4369,
    "start_time": "2023-07-27T21:13:10.586Z"
   },
   {
    "duration": 16,
    "start_time": "2023-07-27T21:17:16.845Z"
   },
   {
    "duration": 13,
    "start_time": "2023-07-27T21:17:53.915Z"
   },
   {
    "duration": 11,
    "start_time": "2023-07-27T21:18:36.679Z"
   },
   {
    "duration": 5,
    "start_time": "2023-07-27T21:18:42.964Z"
   },
   {
    "duration": 1740,
    "start_time": "2023-07-27T21:18:46.864Z"
   },
   {
    "duration": 87,
    "start_time": "2023-07-28T10:03:42.547Z"
   },
   {
    "duration": 1846,
    "start_time": "2023-07-28T10:03:55.090Z"
   },
   {
    "duration": 1864,
    "start_time": "2023-07-28T10:03:56.938Z"
   },
   {
    "duration": 52,
    "start_time": "2023-07-28T10:03:58.804Z"
   },
   {
    "duration": 59,
    "start_time": "2023-07-28T10:03:58.859Z"
   },
   {
    "duration": 44,
    "start_time": "2023-07-28T10:05:01.430Z"
   },
   {
    "duration": 26,
    "start_time": "2023-07-28T10:05:06.395Z"
   },
   {
    "duration": 38,
    "start_time": "2023-07-28T10:05:14.337Z"
   },
   {
    "duration": 27,
    "start_time": "2023-07-28T10:05:20.869Z"
   },
   {
    "duration": 38,
    "start_time": "2023-07-28T10:05:26.883Z"
   },
   {
    "duration": 26,
    "start_time": "2023-07-28T10:07:26.902Z"
   },
   {
    "duration": 24,
    "start_time": "2023-07-28T10:07:42.853Z"
   },
   {
    "duration": 21,
    "start_time": "2023-07-28T10:07:45.246Z"
   },
   {
    "duration": 1607,
    "start_time": "2023-07-28T10:08:22.096Z"
   },
   {
    "duration": 437,
    "start_time": "2023-07-28T10:08:23.705Z"
   },
   {
    "duration": 53,
    "start_time": "2023-07-28T10:08:24.145Z"
   },
   {
    "duration": 40,
    "start_time": "2023-07-28T10:08:24.201Z"
   },
   {
    "duration": 38,
    "start_time": "2023-07-28T10:08:24.243Z"
   },
   {
    "duration": 40,
    "start_time": "2023-07-28T10:08:24.283Z"
   },
   {
    "duration": 46,
    "start_time": "2023-07-28T10:08:24.325Z"
   },
   {
    "duration": 39,
    "start_time": "2023-07-28T10:08:24.373Z"
   },
   {
    "duration": 27,
    "start_time": "2023-07-28T10:08:30.864Z"
   },
   {
    "duration": 38,
    "start_time": "2023-07-28T10:09:00.453Z"
   },
   {
    "duration": 19,
    "start_time": "2023-07-28T10:09:59.928Z"
   },
   {
    "duration": 24,
    "start_time": "2023-07-28T10:10:03.929Z"
   },
   {
    "duration": 18,
    "start_time": "2023-07-28T10:10:06.156Z"
   },
   {
    "duration": 7,
    "start_time": "2023-07-28T10:10:40.950Z"
   },
   {
    "duration": 9,
    "start_time": "2023-07-28T10:10:41.391Z"
   },
   {
    "duration": 9,
    "start_time": "2023-07-28T10:10:41.880Z"
   },
   {
    "duration": 20,
    "start_time": "2023-07-28T10:15:00.423Z"
   },
   {
    "duration": 21,
    "start_time": "2023-07-28T10:15:01.607Z"
   },
   {
    "duration": 25,
    "start_time": "2023-07-28T10:15:02.412Z"
   },
   {
    "duration": 16,
    "start_time": "2023-07-28T10:16:58.205Z"
   },
   {
    "duration": 18,
    "start_time": "2023-07-28T10:18:57.228Z"
   },
   {
    "duration": 7,
    "start_time": "2023-07-28T10:20:48.572Z"
   },
   {
    "duration": 6,
    "start_time": "2023-07-28T10:21:47.383Z"
   },
   {
    "duration": 128,
    "start_time": "2023-07-28T10:22:23.263Z"
   },
   {
    "duration": 7,
    "start_time": "2023-07-28T10:22:55.143Z"
   },
   {
    "duration": 6,
    "start_time": "2023-07-28T10:22:59.439Z"
   },
   {
    "duration": 11,
    "start_time": "2023-07-28T10:24:39.852Z"
   },
   {
    "duration": 11,
    "start_time": "2023-07-28T10:24:40.909Z"
   },
   {
    "duration": 5,
    "start_time": "2023-07-28T10:24:41.698Z"
   },
   {
    "duration": 6,
    "start_time": "2023-07-28T10:24:42.284Z"
   },
   {
    "duration": 14,
    "start_time": "2023-07-28T10:26:03.397Z"
   },
   {
    "duration": 60,
    "start_time": "2023-07-28T10:26:03.911Z"
   },
   {
    "duration": 6,
    "start_time": "2023-07-28T10:26:05.186Z"
   },
   {
    "duration": 6,
    "start_time": "2023-07-28T10:26:05.792Z"
   },
   {
    "duration": 7,
    "start_time": "2023-07-28T10:29:47.542Z"
   },
   {
    "duration": 9,
    "start_time": "2023-07-28T10:29:56.470Z"
   },
   {
    "duration": 9,
    "start_time": "2023-07-28T10:30:18.332Z"
   },
   {
    "duration": 7,
    "start_time": "2023-07-28T10:30:20.954Z"
   },
   {
    "duration": 10,
    "start_time": "2023-07-28T10:34:14.737Z"
   },
   {
    "duration": 6,
    "start_time": "2023-07-28T10:34:18.767Z"
   },
   {
    "duration": 3,
    "start_time": "2023-07-28T10:34:20.390Z"
   },
   {
    "duration": 3,
    "start_time": "2023-07-28T10:34:37.180Z"
   },
   {
    "duration": 6,
    "start_time": "2023-07-28T10:34:53.996Z"
   },
   {
    "duration": 4,
    "start_time": "2023-07-28T10:35:03.118Z"
   },
   {
    "duration": 1633,
    "start_time": "2023-07-28T10:35:12.212Z"
   },
   {
    "duration": 467,
    "start_time": "2023-07-28T10:35:13.848Z"
   },
   {
    "duration": 31,
    "start_time": "2023-07-28T10:35:14.317Z"
   },
   {
    "duration": 57,
    "start_time": "2023-07-28T10:35:14.350Z"
   },
   {
    "duration": 38,
    "start_time": "2023-07-28T10:35:14.410Z"
   },
   {
    "duration": 46,
    "start_time": "2023-07-28T10:35:14.467Z"
   },
   {
    "duration": 23,
    "start_time": "2023-07-28T10:35:14.515Z"
   },
   {
    "duration": 80,
    "start_time": "2023-07-28T10:35:14.540Z"
   },
   {
    "duration": 19,
    "start_time": "2023-07-28T10:35:14.621Z"
   },
   {
    "duration": 44,
    "start_time": "2023-07-28T10:35:14.642Z"
   },
   {
    "duration": 18,
    "start_time": "2023-07-28T10:35:14.688Z"
   },
   {
    "duration": 19,
    "start_time": "2023-07-28T10:35:14.708Z"
   },
   {
    "duration": 11,
    "start_time": "2023-07-28T10:35:14.729Z"
   },
   {
    "duration": 33,
    "start_time": "2023-07-28T10:35:14.743Z"
   },
   {
    "duration": 29,
    "start_time": "2023-07-28T10:35:14.781Z"
   },
   {
    "duration": 21,
    "start_time": "2023-07-28T10:35:14.812Z"
   },
   {
    "duration": 55,
    "start_time": "2023-07-28T10:35:14.835Z"
   },
   {
    "duration": 4,
    "start_time": "2023-07-28T10:35:14.893Z"
   },
   {
    "duration": 45,
    "start_time": "2023-07-28T10:35:14.900Z"
   },
   {
    "duration": 23,
    "start_time": "2023-07-28T10:35:14.947Z"
   },
   {
    "duration": 15,
    "start_time": "2023-07-28T10:35:14.972Z"
   },
   {
    "duration": 13,
    "start_time": "2023-07-28T10:35:15.069Z"
   },
   {
    "duration": 9,
    "start_time": "2023-07-28T10:35:15.087Z"
   },
   {
    "duration": 19,
    "start_time": "2023-07-28T10:35:15.098Z"
   },
   {
    "duration": 54,
    "start_time": "2023-07-28T10:35:15.119Z"
   },
   {
    "duration": 97,
    "start_time": "2023-07-28T10:35:15.178Z"
   },
   {
    "duration": 6,
    "start_time": "2023-07-28T10:35:15.278Z"
   },
   {
    "duration": 7,
    "start_time": "2023-07-28T10:35:15.286Z"
   },
   {
    "duration": 19,
    "start_time": "2023-07-28T10:35:15.295Z"
   },
   {
    "duration": 83,
    "start_time": "2023-07-28T10:35:15.316Z"
   },
   {
    "duration": 78,
    "start_time": "2023-07-28T10:35:15.402Z"
   },
   {
    "duration": 21,
    "start_time": "2023-07-28T10:35:15.485Z"
   },
   {
    "duration": 63,
    "start_time": "2023-07-28T10:35:15.509Z"
   },
   {
    "duration": 1652,
    "start_time": "2023-07-28T10:35:33.402Z"
   },
   {
    "duration": 436,
    "start_time": "2023-07-28T10:35:35.056Z"
   },
   {
    "duration": 31,
    "start_time": "2023-07-28T10:35:35.494Z"
   },
   {
    "duration": 63,
    "start_time": "2023-07-28T10:35:35.527Z"
   },
   {
    "duration": 25,
    "start_time": "2023-07-28T10:35:35.593Z"
   },
   {
    "duration": 69,
    "start_time": "2023-07-28T10:35:35.620Z"
   },
   {
    "duration": 26,
    "start_time": "2023-07-28T10:35:35.692Z"
   },
   {
    "duration": 81,
    "start_time": "2023-07-28T10:35:35.720Z"
   },
   {
    "duration": 18,
    "start_time": "2023-07-28T10:35:35.804Z"
   },
   {
    "duration": 23,
    "start_time": "2023-07-28T10:35:35.824Z"
   },
   {
    "duration": 36,
    "start_time": "2023-07-28T10:35:35.848Z"
   },
   {
    "duration": 8,
    "start_time": "2023-07-28T10:35:35.888Z"
   },
   {
    "duration": 34,
    "start_time": "2023-07-28T10:35:35.899Z"
   },
   {
    "duration": 55,
    "start_time": "2023-07-28T10:35:35.937Z"
   },
   {
    "duration": 80,
    "start_time": "2023-07-28T10:35:35.994Z"
   },
   {
    "duration": 102,
    "start_time": "2023-07-28T10:35:36.076Z"
   },
   {
    "duration": 79,
    "start_time": "2023-07-28T10:35:36.181Z"
   },
   {
    "duration": 3,
    "start_time": "2023-07-28T10:35:36.263Z"
   },
   {
    "duration": 29,
    "start_time": "2023-07-28T10:35:36.268Z"
   },
   {
    "duration": 26,
    "start_time": "2023-07-28T10:35:36.299Z"
   },
   {
    "duration": 147,
    "start_time": "2023-07-28T10:35:36.327Z"
   },
   {
    "duration": 19,
    "start_time": "2023-07-28T10:35:36.476Z"
   },
   {
    "duration": 55,
    "start_time": "2023-07-28T10:35:36.497Z"
   },
   {
    "duration": 34,
    "start_time": "2023-07-28T10:35:36.553Z"
   },
   {
    "duration": 28,
    "start_time": "2023-07-28T10:35:36.589Z"
   },
   {
    "duration": 65,
    "start_time": "2023-07-28T10:35:36.620Z"
   },
   {
    "duration": 103,
    "start_time": "2023-07-28T10:35:36.687Z"
   },
   {
    "duration": 31,
    "start_time": "2023-07-28T10:35:36.792Z"
   },
   {
    "duration": 14,
    "start_time": "2023-07-28T10:35:36.825Z"
   },
   {
    "duration": 127,
    "start_time": "2023-07-28T10:35:36.841Z"
   },
   {
    "duration": 9,
    "start_time": "2023-07-28T10:35:36.970Z"
   },
   {
    "duration": 89,
    "start_time": "2023-07-28T10:35:36.981Z"
   },
   {
    "duration": 27,
    "start_time": "2023-07-28T10:35:37.073Z"
   },
   {
    "duration": 143,
    "start_time": "2023-07-28T10:35:37.102Z"
   },
   {
    "duration": 0,
    "start_time": "2023-07-28T10:35:37.247Z"
   },
   {
    "duration": 0,
    "start_time": "2023-07-28T10:35:37.249Z"
   },
   {
    "duration": 0,
    "start_time": "2023-07-28T10:35:37.250Z"
   },
   {
    "duration": 0,
    "start_time": "2023-07-28T10:35:37.252Z"
   },
   {
    "duration": 18,
    "start_time": "2023-07-28T10:40:38.247Z"
   },
   {
    "duration": 20,
    "start_time": "2023-07-28T10:41:09.504Z"
   },
   {
    "duration": 13,
    "start_time": "2023-07-28T10:41:44.138Z"
   },
   {
    "duration": 7,
    "start_time": "2023-07-28T10:43:32.600Z"
   },
   {
    "duration": 7,
    "start_time": "2023-07-28T10:43:37.060Z"
   },
   {
    "duration": 9,
    "start_time": "2023-07-28T10:43:52.636Z"
   },
   {
    "duration": 9,
    "start_time": "2023-07-28T10:44:04.598Z"
   },
   {
    "duration": 3,
    "start_time": "2023-07-28T10:47:41.348Z"
   },
   {
    "duration": 6,
    "start_time": "2023-07-28T10:47:44.145Z"
   },
   {
    "duration": 7,
    "start_time": "2023-07-28T10:49:37.945Z"
   },
   {
    "duration": 9,
    "start_time": "2023-07-28T10:49:50.897Z"
   },
   {
    "duration": 7,
    "start_time": "2023-07-28T10:49:58.099Z"
   },
   {
    "duration": 14,
    "start_time": "2023-07-28T10:51:16.698Z"
   },
   {
    "duration": 10,
    "start_time": "2023-07-28T10:51:24.465Z"
   },
   {
    "duration": 14,
    "start_time": "2023-07-28T10:51:30.310Z"
   },
   {
    "duration": 12,
    "start_time": "2023-07-28T10:51:38.347Z"
   },
   {
    "duration": 7,
    "start_time": "2023-07-28T10:53:10.006Z"
   },
   {
    "duration": 10,
    "start_time": "2023-07-28T10:53:50.845Z"
   },
   {
    "duration": 6,
    "start_time": "2023-07-28T10:54:51.658Z"
   },
   {
    "duration": 4,
    "start_time": "2023-07-28T10:55:14.016Z"
   },
   {
    "duration": 5,
    "start_time": "2023-07-28T10:55:19.150Z"
   },
   {
    "duration": 5,
    "start_time": "2023-07-28T10:55:35.850Z"
   },
   {
    "duration": 12,
    "start_time": "2023-07-28T10:59:31.807Z"
   },
   {
    "duration": 6,
    "start_time": "2023-07-28T11:03:20.111Z"
   },
   {
    "duration": 10,
    "start_time": "2023-07-28T11:03:25.719Z"
   },
   {
    "duration": 5,
    "start_time": "2023-07-28T11:03:30.452Z"
   },
   {
    "duration": 5,
    "start_time": "2023-07-28T11:05:05.515Z"
   },
   {
    "duration": 7,
    "start_time": "2023-07-28T11:11:00.007Z"
   },
   {
    "duration": 6,
    "start_time": "2023-07-28T11:18:14.455Z"
   },
   {
    "duration": 7,
    "start_time": "2023-07-28T11:19:03.393Z"
   },
   {
    "duration": 6,
    "start_time": "2023-07-28T11:22:04.065Z"
   },
   {
    "duration": 4,
    "start_time": "2023-07-28T11:24:45.656Z"
   },
   {
    "duration": 4,
    "start_time": "2023-07-28T11:28:08.718Z"
   },
   {
    "duration": 7,
    "start_time": "2023-07-28T11:28:27.040Z"
   },
   {
    "duration": 8,
    "start_time": "2023-07-28T11:28:41.600Z"
   },
   {
    "duration": 5,
    "start_time": "2023-07-28T11:28:42.924Z"
   },
   {
    "duration": 4,
    "start_time": "2023-07-28T11:48:18.247Z"
   },
   {
    "duration": 16,
    "start_time": "2023-07-28T11:51:11.821Z"
   },
   {
    "duration": 15,
    "start_time": "2023-07-28T11:51:43.840Z"
   },
   {
    "duration": 14,
    "start_time": "2023-07-28T11:54:07.223Z"
   },
   {
    "duration": 13,
    "start_time": "2023-07-28T11:54:38.218Z"
   },
   {
    "duration": 5,
    "start_time": "2023-07-28T11:54:48.793Z"
   },
   {
    "duration": 15,
    "start_time": "2023-07-28T11:55:03.034Z"
   },
   {
    "duration": 6,
    "start_time": "2023-07-28T11:55:16.439Z"
   },
   {
    "duration": 15,
    "start_time": "2023-07-28T11:55:29.058Z"
   },
   {
    "duration": 12,
    "start_time": "2023-07-28T11:55:36.430Z"
   },
   {
    "duration": 17,
    "start_time": "2023-07-28T11:55:40.969Z"
   },
   {
    "duration": 6,
    "start_time": "2023-07-28T11:55:51.413Z"
   },
   {
    "duration": 19,
    "start_time": "2023-07-28T11:55:53.410Z"
   },
   {
    "duration": 4,
    "start_time": "2023-07-28T11:56:02.802Z"
   },
   {
    "duration": 6,
    "start_time": "2023-07-28T11:56:05.242Z"
   },
   {
    "duration": 23,
    "start_time": "2023-07-28T11:56:06.118Z"
   },
   {
    "duration": 1827,
    "start_time": "2023-07-28T11:58:15.712Z"
   },
   {
    "duration": 571,
    "start_time": "2023-07-28T11:58:17.542Z"
   },
   {
    "duration": 38,
    "start_time": "2023-07-28T11:58:18.117Z"
   },
   {
    "duration": 74,
    "start_time": "2023-07-28T11:58:18.172Z"
   },
   {
    "duration": 25,
    "start_time": "2023-07-28T11:58:18.249Z"
   },
   {
    "duration": 55,
    "start_time": "2023-07-28T11:58:18.276Z"
   },
   {
    "duration": 37,
    "start_time": "2023-07-28T11:58:18.333Z"
   },
   {
    "duration": 54,
    "start_time": "2023-07-28T11:58:18.372Z"
   },
   {
    "duration": 19,
    "start_time": "2023-07-28T11:58:18.429Z"
   },
   {
    "duration": 35,
    "start_time": "2023-07-28T11:58:18.450Z"
   },
   {
    "duration": 42,
    "start_time": "2023-07-28T11:58:18.487Z"
   },
   {
    "duration": 8,
    "start_time": "2023-07-28T11:58:18.532Z"
   },
   {
    "duration": 19,
    "start_time": "2023-07-28T11:58:18.543Z"
   },
   {
    "duration": 27,
    "start_time": "2023-07-28T11:58:18.565Z"
   },
   {
    "duration": 96,
    "start_time": "2023-07-28T11:58:18.594Z"
   },
   {
    "duration": 50,
    "start_time": "2023-07-28T11:58:18.693Z"
   },
   {
    "duration": 43,
    "start_time": "2023-07-28T11:58:18.746Z"
   },
   {
    "duration": 16,
    "start_time": "2023-07-28T11:58:18.792Z"
   },
   {
    "duration": 27,
    "start_time": "2023-07-28T11:58:18.812Z"
   },
   {
    "duration": 92,
    "start_time": "2023-07-28T11:58:18.842Z"
   },
   {
    "duration": 92,
    "start_time": "2023-07-28T11:58:18.976Z"
   },
   {
    "duration": 6,
    "start_time": "2023-07-28T11:58:19.070Z"
   },
   {
    "duration": 15,
    "start_time": "2023-07-28T11:58:19.078Z"
   },
   {
    "duration": 44,
    "start_time": "2023-07-28T11:58:19.096Z"
   },
   {
    "duration": 53,
    "start_time": "2023-07-28T11:58:19.142Z"
   },
   {
    "duration": 86,
    "start_time": "2023-07-28T11:58:19.198Z"
   },
   {
    "duration": 15,
    "start_time": "2023-07-28T11:58:19.292Z"
   },
   {
    "duration": 6,
    "start_time": "2023-07-28T11:58:19.312Z"
   },
   {
    "duration": 31,
    "start_time": "2023-07-28T11:58:19.321Z"
   },
   {
    "duration": 24,
    "start_time": "2023-07-28T11:58:19.354Z"
   },
   {
    "duration": 18,
    "start_time": "2023-07-28T11:58:19.379Z"
   },
   {
    "duration": 75,
    "start_time": "2023-07-28T11:58:19.399Z"
   },
   {
    "duration": 7,
    "start_time": "2023-07-28T11:58:19.478Z"
   },
   {
    "duration": 20,
    "start_time": "2023-07-28T11:58:19.489Z"
   },
   {
    "duration": 16,
    "start_time": "2023-07-28T11:58:19.511Z"
   },
   {
    "duration": 26,
    "start_time": "2023-07-28T11:58:19.530Z"
   },
   {
    "duration": 27,
    "start_time": "2023-07-28T11:58:19.558Z"
   },
   {
    "duration": 16,
    "start_time": "2023-07-28T11:58:19.587Z"
   },
   {
    "duration": 171,
    "start_time": "2023-07-28T11:58:32.332Z"
   },
   {
    "duration": 45,
    "start_time": "2023-07-28T11:58:48.808Z"
   },
   {
    "duration": 4,
    "start_time": "2023-07-28T11:59:53.716Z"
   },
   {
    "duration": 7,
    "start_time": "2023-07-28T12:00:17.798Z"
   },
   {
    "duration": 14,
    "start_time": "2023-07-28T12:00:53.764Z"
   },
   {
    "duration": 9,
    "start_time": "2023-07-28T12:01:05.239Z"
   },
   {
    "duration": 12,
    "start_time": "2023-07-28T12:02:47.815Z"
   },
   {
    "duration": 3,
    "start_time": "2023-07-28T12:04:12.107Z"
   },
   {
    "duration": 17,
    "start_time": "2023-07-28T12:05:03.612Z"
   },
   {
    "duration": 3,
    "start_time": "2023-07-28T12:08:03.628Z"
   },
   {
    "duration": 26,
    "start_time": "2023-07-28T12:08:05.858Z"
   },
   {
    "duration": 5076,
    "start_time": "2023-07-28T12:09:13.851Z"
   },
   {
    "duration": 5194,
    "start_time": "2023-07-28T12:09:26.168Z"
   },
   {
    "duration": 4036,
    "start_time": "2023-07-28T12:10:15.118Z"
   },
   {
    "duration": 5144,
    "start_time": "2023-07-28T12:11:00.100Z"
   },
   {
    "duration": 4002,
    "start_time": "2023-07-28T12:11:22.358Z"
   },
   {
    "duration": 1390,
    "start_time": "2023-07-28T12:11:43.831Z"
   },
   {
    "duration": 1106,
    "start_time": "2023-07-28T12:11:51.212Z"
   },
   {
    "duration": 1086,
    "start_time": "2023-07-28T12:12:18.811Z"
   },
   {
    "duration": 1009,
    "start_time": "2023-07-28T12:13:56.159Z"
   },
   {
    "duration": 1022,
    "start_time": "2023-07-28T12:14:00.015Z"
   },
   {
    "duration": 1128,
    "start_time": "2023-07-28T12:14:03.705Z"
   },
   {
    "duration": 983,
    "start_time": "2023-07-28T12:14:08.590Z"
   },
   {
    "duration": 1041,
    "start_time": "2023-07-28T12:14:12.584Z"
   },
   {
    "duration": 1658,
    "start_time": "2023-07-28T12:38:16.091Z"
   },
   {
    "duration": 477,
    "start_time": "2023-07-28T12:38:17.751Z"
   },
   {
    "duration": 43,
    "start_time": "2023-07-28T12:38:18.230Z"
   },
   {
    "duration": 48,
    "start_time": "2023-07-28T12:38:18.277Z"
   },
   {
    "duration": 42,
    "start_time": "2023-07-28T12:38:18.329Z"
   },
   {
    "duration": 53,
    "start_time": "2023-07-28T12:38:18.373Z"
   },
   {
    "duration": 54,
    "start_time": "2023-07-28T12:38:18.429Z"
   },
   {
    "duration": 45,
    "start_time": "2023-07-28T12:38:18.488Z"
   },
   {
    "duration": 42,
    "start_time": "2023-07-28T12:38:18.536Z"
   },
   {
    "duration": 24,
    "start_time": "2023-07-28T12:38:18.580Z"
   },
   {
    "duration": 21,
    "start_time": "2023-07-28T12:38:18.606Z"
   },
   {
    "duration": 9,
    "start_time": "2023-07-28T12:38:18.629Z"
   },
   {
    "duration": 15,
    "start_time": "2023-07-28T12:38:18.669Z"
   },
   {
    "duration": 27,
    "start_time": "2023-07-28T12:38:18.689Z"
   },
   {
    "duration": 38,
    "start_time": "2023-07-28T12:38:18.718Z"
   },
   {
    "duration": 31,
    "start_time": "2023-07-28T12:38:18.757Z"
   },
   {
    "duration": 23,
    "start_time": "2023-07-28T12:38:18.790Z"
   },
   {
    "duration": 3,
    "start_time": "2023-07-28T12:38:18.815Z"
   },
   {
    "duration": 34,
    "start_time": "2023-07-28T12:38:18.820Z"
   },
   {
    "duration": 56,
    "start_time": "2023-07-28T12:38:18.856Z"
   },
   {
    "duration": 12,
    "start_time": "2023-07-28T12:38:18.970Z"
   },
   {
    "duration": 79,
    "start_time": "2023-07-28T12:38:18.989Z"
   },
   {
    "duration": 4,
    "start_time": "2023-07-28T12:38:19.073Z"
   },
   {
    "duration": 21,
    "start_time": "2023-07-28T12:38:19.079Z"
   },
   {
    "duration": 9,
    "start_time": "2023-07-28T12:38:19.103Z"
   },
   {
    "duration": 61,
    "start_time": "2023-07-28T12:38:19.115Z"
   },
   {
    "duration": 11,
    "start_time": "2023-07-28T12:38:19.182Z"
   },
   {
    "duration": 71,
    "start_time": "2023-07-28T12:38:19.198Z"
   },
   {
    "duration": 22,
    "start_time": "2023-07-28T12:38:19.272Z"
   },
   {
    "duration": 8,
    "start_time": "2023-07-28T12:38:19.297Z"
   },
   {
    "duration": 66,
    "start_time": "2023-07-28T12:38:19.307Z"
   },
   {
    "duration": 7,
    "start_time": "2023-07-28T12:38:19.375Z"
   },
   {
    "duration": 85,
    "start_time": "2023-07-28T12:38:19.384Z"
   },
   {
    "duration": 16,
    "start_time": "2023-07-28T12:38:19.471Z"
   },
   {
    "duration": 21,
    "start_time": "2023-07-28T12:38:19.490Z"
   },
   {
    "duration": 20,
    "start_time": "2023-07-28T12:38:19.514Z"
   },
   {
    "duration": 14,
    "start_time": "2023-07-28T12:38:19.536Z"
   },
   {
    "duration": 8,
    "start_time": "2023-07-28T12:38:19.552Z"
   },
   {
    "duration": 42,
    "start_time": "2023-07-28T12:38:19.573Z"
   },
   {
    "duration": 7,
    "start_time": "2023-07-28T12:38:19.618Z"
   },
   {
    "duration": 4,
    "start_time": "2023-07-28T12:38:19.629Z"
   },
   {
    "duration": 1007,
    "start_time": "2023-07-28T12:38:19.635Z"
   },
   {
    "duration": 917,
    "start_time": "2023-07-28T12:38:20.644Z"
   },
   {
    "duration": 962,
    "start_time": "2023-07-28T12:38:21.563Z"
   },
   {
    "duration": 1106,
    "start_time": "2023-07-28T12:38:42.620Z"
   },
   {
    "duration": 951,
    "start_time": "2023-07-28T12:38:50.900Z"
   },
   {
    "duration": 1800,
    "start_time": "2023-07-30T10:30:31.381Z"
   },
   {
    "duration": 1649,
    "start_time": "2023-07-30T10:30:33.183Z"
   },
   {
    "duration": 31,
    "start_time": "2023-07-30T10:30:34.834Z"
   },
   {
    "duration": 39,
    "start_time": "2023-07-30T10:30:34.868Z"
   },
   {
    "duration": 22,
    "start_time": "2023-07-30T10:30:34.909Z"
   },
   {
    "duration": 65,
    "start_time": "2023-07-30T10:30:34.933Z"
   },
   {
    "duration": 21,
    "start_time": "2023-07-30T10:30:35.000Z"
   },
   {
    "duration": 62,
    "start_time": "2023-07-30T10:30:35.022Z"
   },
   {
    "duration": 19,
    "start_time": "2023-07-30T10:30:35.086Z"
   },
   {
    "duration": 17,
    "start_time": "2023-07-30T10:30:35.108Z"
   },
   {
    "duration": 40,
    "start_time": "2023-07-30T10:30:35.127Z"
   },
   {
    "duration": 9,
    "start_time": "2023-07-30T10:30:35.171Z"
   },
   {
    "duration": 10,
    "start_time": "2023-07-30T10:30:35.182Z"
   },
   {
    "duration": 11,
    "start_time": "2023-07-30T10:30:35.193Z"
   },
   {
    "duration": 25,
    "start_time": "2023-07-30T10:30:35.205Z"
   },
   {
    "duration": 40,
    "start_time": "2023-07-30T10:30:35.232Z"
   },
   {
    "duration": 23,
    "start_time": "2023-07-30T10:30:35.275Z"
   },
   {
    "duration": 3,
    "start_time": "2023-07-30T10:30:35.300Z"
   },
   {
    "duration": 17,
    "start_time": "2023-07-30T10:30:35.305Z"
   },
   {
    "duration": 38,
    "start_time": "2023-07-30T10:30:35.324Z"
   },
   {
    "duration": 96,
    "start_time": "2023-07-30T10:30:35.364Z"
   },
   {
    "duration": 5,
    "start_time": "2023-07-30T10:30:35.462Z"
   },
   {
    "duration": 4,
    "start_time": "2023-07-30T10:30:35.469Z"
   },
   {
    "duration": 20,
    "start_time": "2023-07-30T10:30:35.474Z"
   },
   {
    "duration": 67,
    "start_time": "2023-07-30T10:30:35.496Z"
   },
   {
    "duration": 7,
    "start_time": "2023-07-30T10:30:35.566Z"
   },
   {
    "duration": 87,
    "start_time": "2023-07-30T10:30:35.575Z"
   },
   {
    "duration": 10,
    "start_time": "2023-07-30T10:30:35.666Z"
   },
   {
    "duration": 27,
    "start_time": "2023-07-30T10:30:35.678Z"
   },
   {
    "duration": 58,
    "start_time": "2023-07-30T10:30:35.707Z"
   },
   {
    "duration": 93,
    "start_time": "2023-07-30T10:30:35.768Z"
   },
   {
    "duration": 5,
    "start_time": "2023-07-30T10:30:35.863Z"
   },
   {
    "duration": 21,
    "start_time": "2023-07-30T10:30:35.870Z"
   },
   {
    "duration": 8,
    "start_time": "2023-07-30T10:30:35.893Z"
   },
   {
    "duration": 12,
    "start_time": "2023-07-30T10:30:35.902Z"
   },
   {
    "duration": 6,
    "start_time": "2023-07-30T10:30:35.915Z"
   },
   {
    "duration": 4,
    "start_time": "2023-07-30T10:30:35.960Z"
   },
   {
    "duration": 28,
    "start_time": "2023-07-30T10:30:35.967Z"
   },
   {
    "duration": 20,
    "start_time": "2023-07-30T10:30:35.997Z"
   },
   {
    "duration": 7,
    "start_time": "2023-07-30T10:30:36.020Z"
   },
   {
    "duration": 5,
    "start_time": "2023-07-30T10:30:36.028Z"
   },
   {
    "duration": 932,
    "start_time": "2023-07-30T10:30:36.035Z"
   },
   {
    "duration": 868,
    "start_time": "2023-07-30T10:30:36.969Z"
   },
   {
    "duration": 124,
    "start_time": "2023-07-30T10:30:37.839Z"
   },
   {
    "duration": 5,
    "start_time": "2023-07-30T10:31:06.096Z"
   },
   {
    "duration": 957,
    "start_time": "2023-07-30T10:31:07.298Z"
   },
   {
    "duration": 909,
    "start_time": "2023-07-30T10:31:10.064Z"
   },
   {
    "duration": 891,
    "start_time": "2023-07-30T10:31:15.457Z"
   },
   {
    "duration": 5,
    "start_time": "2023-07-30T10:35:27.315Z"
   },
   {
    "duration": 3,
    "start_time": "2023-07-30T10:35:47.896Z"
   },
   {
    "duration": 832,
    "start_time": "2023-07-30T10:37:09.238Z"
   },
   {
    "duration": 5,
    "start_time": "2023-07-30T10:37:27.299Z"
   },
   {
    "duration": 930,
    "start_time": "2023-07-30T10:37:32.514Z"
   },
   {
    "duration": 917,
    "start_time": "2023-07-30T10:38:08.415Z"
   },
   {
    "duration": 897,
    "start_time": "2023-07-30T10:39:12.389Z"
   },
   {
    "duration": 819,
    "start_time": "2023-07-30T10:41:10.116Z"
   },
   {
    "duration": 914,
    "start_time": "2023-07-30T10:41:28.405Z"
   },
   {
    "duration": 825,
    "start_time": "2023-07-30T10:43:46.086Z"
   },
   {
    "duration": 148,
    "start_time": "2023-07-30T10:44:06.293Z"
   },
   {
    "duration": 145,
    "start_time": "2023-07-30T10:44:18.761Z"
   },
   {
    "duration": 162,
    "start_time": "2023-07-30T10:44:43.657Z"
   },
   {
    "duration": 141,
    "start_time": "2023-07-30T10:44:49.888Z"
   },
   {
    "duration": 119,
    "start_time": "2023-07-30T10:45:07.299Z"
   },
   {
    "duration": 129,
    "start_time": "2023-07-30T10:45:22.597Z"
   },
   {
    "duration": 133,
    "start_time": "2023-07-30T10:45:40.362Z"
   },
   {
    "duration": 1589,
    "start_time": "2023-07-30T10:46:12.068Z"
   },
   {
    "duration": 408,
    "start_time": "2023-07-30T10:46:13.660Z"
   },
   {
    "duration": 47,
    "start_time": "2023-07-30T10:46:14.073Z"
   },
   {
    "duration": 68,
    "start_time": "2023-07-30T10:46:14.124Z"
   },
   {
    "duration": 26,
    "start_time": "2023-07-30T10:46:14.194Z"
   },
   {
    "duration": 77,
    "start_time": "2023-07-30T10:46:14.221Z"
   },
   {
    "duration": 29,
    "start_time": "2023-07-30T10:46:14.300Z"
   },
   {
    "duration": 69,
    "start_time": "2023-07-30T10:46:14.332Z"
   },
   {
    "duration": 23,
    "start_time": "2023-07-30T10:46:14.403Z"
   },
   {
    "duration": 47,
    "start_time": "2023-07-30T10:46:14.429Z"
   },
   {
    "duration": 24,
    "start_time": "2023-07-30T10:46:14.478Z"
   },
   {
    "duration": 8,
    "start_time": "2023-07-30T10:46:14.504Z"
   },
   {
    "duration": 15,
    "start_time": "2023-07-30T10:46:14.513Z"
   },
   {
    "duration": 30,
    "start_time": "2023-07-30T10:46:14.530Z"
   },
   {
    "duration": 22,
    "start_time": "2023-07-30T10:46:14.562Z"
   },
   {
    "duration": 20,
    "start_time": "2023-07-30T10:46:14.586Z"
   },
   {
    "duration": 21,
    "start_time": "2023-07-30T10:46:14.607Z"
   },
   {
    "duration": 31,
    "start_time": "2023-07-30T10:46:14.630Z"
   },
   {
    "duration": 21,
    "start_time": "2023-07-30T10:46:14.663Z"
   },
   {
    "duration": 10,
    "start_time": "2023-07-30T10:46:14.687Z"
   },
   {
    "duration": 161,
    "start_time": "2023-07-30T10:46:14.699Z"
   },
   {
    "duration": 7,
    "start_time": "2023-07-30T10:46:14.863Z"
   },
   {
    "duration": 13,
    "start_time": "2023-07-30T10:46:14.872Z"
   },
   {
    "duration": 18,
    "start_time": "2023-07-30T10:46:14.887Z"
   },
   {
    "duration": 61,
    "start_time": "2023-07-30T10:46:14.907Z"
   },
   {
    "duration": 12,
    "start_time": "2023-07-30T10:46:14.970Z"
   },
   {
    "duration": 82,
    "start_time": "2023-07-30T10:46:14.984Z"
   },
   {
    "duration": 19,
    "start_time": "2023-07-30T10:46:15.072Z"
   },
   {
    "duration": 15,
    "start_time": "2023-07-30T10:46:15.093Z"
   },
   {
    "duration": 154,
    "start_time": "2023-07-30T10:46:15.110Z"
   },
   {
    "duration": 8,
    "start_time": "2023-07-30T10:46:15.267Z"
   },
   {
    "duration": 9,
    "start_time": "2023-07-30T10:46:15.277Z"
   },
   {
    "duration": 3,
    "start_time": "2023-07-30T10:46:15.288Z"
   },
   {
    "duration": 7,
    "start_time": "2023-07-30T10:46:15.293Z"
   },
   {
    "duration": 15,
    "start_time": "2023-07-30T10:46:15.360Z"
   },
   {
    "duration": 8,
    "start_time": "2023-07-30T10:46:15.377Z"
   },
   {
    "duration": 8,
    "start_time": "2023-07-30T10:46:15.388Z"
   },
   {
    "duration": 8,
    "start_time": "2023-07-30T10:46:15.398Z"
   },
   {
    "duration": 20,
    "start_time": "2023-07-30T10:46:15.407Z"
   },
   {
    "duration": 10,
    "start_time": "2023-07-30T10:46:15.460Z"
   },
   {
    "duration": 23,
    "start_time": "2023-07-30T10:46:15.472Z"
   },
   {
    "duration": 199,
    "start_time": "2023-07-30T10:46:15.497Z"
   },
   {
    "duration": 0,
    "start_time": "2023-07-30T10:46:15.698Z"
   },
   {
    "duration": 0,
    "start_time": "2023-07-30T10:46:15.699Z"
   },
   {
    "duration": 904,
    "start_time": "2023-07-30T10:46:26.125Z"
   },
   {
    "duration": 10,
    "start_time": "2023-07-30T10:46:34.724Z"
   },
   {
    "duration": 20,
    "start_time": "2023-07-30T10:47:02.757Z"
   },
   {
    "duration": 13,
    "start_time": "2023-07-30T10:47:08.519Z"
   },
   {
    "duration": 114,
    "start_time": "2023-07-30T10:47:25.915Z"
   },
   {
    "duration": 11,
    "start_time": "2023-07-30T10:47:30.078Z"
   },
   {
    "duration": 7,
    "start_time": "2023-07-30T10:47:41.957Z"
   },
   {
    "duration": 7,
    "start_time": "2023-07-30T10:47:44.774Z"
   },
   {
    "duration": 108,
    "start_time": "2023-07-30T10:47:55.954Z"
   },
   {
    "duration": 7,
    "start_time": "2023-07-30T10:47:58.445Z"
   },
   {
    "duration": 18,
    "start_time": "2023-07-30T10:48:31.058Z"
   },
   {
    "duration": 15,
    "start_time": "2023-07-30T10:48:46.101Z"
   },
   {
    "duration": 1561,
    "start_time": "2023-07-30T10:48:55.878Z"
   },
   {
    "duration": 445,
    "start_time": "2023-07-30T10:48:57.441Z"
   },
   {
    "duration": 30,
    "start_time": "2023-07-30T10:48:57.889Z"
   },
   {
    "duration": 62,
    "start_time": "2023-07-30T10:48:57.921Z"
   },
   {
    "duration": 22,
    "start_time": "2023-07-30T10:48:57.986Z"
   },
   {
    "duration": 58,
    "start_time": "2023-07-30T10:48:58.010Z"
   },
   {
    "duration": 26,
    "start_time": "2023-07-30T10:48:58.070Z"
   },
   {
    "duration": 38,
    "start_time": "2023-07-30T10:48:58.098Z"
   },
   {
    "duration": 24,
    "start_time": "2023-07-30T10:48:58.158Z"
   },
   {
    "duration": 18,
    "start_time": "2023-07-30T10:48:58.184Z"
   },
   {
    "duration": 19,
    "start_time": "2023-07-30T10:48:58.204Z"
   },
   {
    "duration": 46,
    "start_time": "2023-07-30T10:48:58.226Z"
   },
   {
    "duration": 8,
    "start_time": "2023-07-30T10:48:58.275Z"
   },
   {
    "duration": 9,
    "start_time": "2023-07-30T10:48:58.288Z"
   },
   {
    "duration": 20,
    "start_time": "2023-07-30T10:48:58.299Z"
   },
   {
    "duration": 47,
    "start_time": "2023-07-30T10:48:58.321Z"
   },
   {
    "duration": 21,
    "start_time": "2023-07-30T10:48:58.370Z"
   },
   {
    "duration": 2,
    "start_time": "2023-07-30T10:48:58.393Z"
   },
   {
    "duration": 22,
    "start_time": "2023-07-30T10:48:58.397Z"
   },
   {
    "duration": 54,
    "start_time": "2023-07-30T10:48:58.421Z"
   },
   {
    "duration": 88,
    "start_time": "2023-07-30T10:48:58.477Z"
   },
   {
    "duration": 9,
    "start_time": "2023-07-30T10:48:58.566Z"
   },
   {
    "duration": 5,
    "start_time": "2023-07-30T10:48:58.577Z"
   },
   {
    "duration": 12,
    "start_time": "2023-07-30T10:48:58.584Z"
   },
   {
    "duration": 63,
    "start_time": "2023-07-30T10:48:58.598Z"
   },
   {
    "duration": 10,
    "start_time": "2023-07-30T10:48:58.663Z"
   },
   {
    "duration": 84,
    "start_time": "2023-07-30T10:48:58.675Z"
   },
   {
    "duration": 4,
    "start_time": "2023-07-30T10:48:58.761Z"
   },
   {
    "duration": 17,
    "start_time": "2023-07-30T10:48:58.767Z"
   },
   {
    "duration": 76,
    "start_time": "2023-07-30T10:48:58.786Z"
   },
   {
    "duration": 13,
    "start_time": "2023-07-30T10:48:58.864Z"
   },
   {
    "duration": 85,
    "start_time": "2023-07-30T10:48:58.880Z"
   },
   {
    "duration": 7,
    "start_time": "2023-07-30T10:48:58.967Z"
   },
   {
    "duration": 27,
    "start_time": "2023-07-30T10:48:58.978Z"
   },
   {
    "duration": 12,
    "start_time": "2023-07-30T10:48:59.007Z"
   },
   {
    "duration": 8,
    "start_time": "2023-07-30T10:48:59.021Z"
   },
   {
    "duration": 5,
    "start_time": "2023-07-30T10:48:59.031Z"
   },
   {
    "duration": 7,
    "start_time": "2023-07-30T10:48:59.037Z"
   },
   {
    "duration": 13,
    "start_time": "2023-07-30T10:48:59.046Z"
   },
   {
    "duration": 8,
    "start_time": "2023-07-30T10:48:59.061Z"
   },
   {
    "duration": 4,
    "start_time": "2023-07-30T10:48:59.073Z"
   },
   {
    "duration": 933,
    "start_time": "2023-07-30T10:48:59.078Z"
   },
   {
    "duration": 896,
    "start_time": "2023-07-30T10:49:00.013Z"
   },
   {
    "duration": 915,
    "start_time": "2023-07-30T10:49:00.912Z"
   },
   {
    "duration": 6,
    "start_time": "2023-07-30T10:49:19.254Z"
   },
   {
    "duration": 898,
    "start_time": "2023-07-30T10:49:21.291Z"
   },
   {
    "duration": 929,
    "start_time": "2023-07-30T10:52:10.971Z"
   },
   {
    "duration": 7,
    "start_time": "2023-07-30T10:52:20.860Z"
   },
   {
    "duration": 841,
    "start_time": "2023-07-30T10:52:23.097Z"
   },
   {
    "duration": 808,
    "start_time": "2023-07-30T10:55:31.402Z"
   },
   {
    "duration": 946,
    "start_time": "2023-07-30T11:01:03.871Z"
   },
   {
    "duration": 988,
    "start_time": "2023-07-30T11:01:13.487Z"
   },
   {
    "duration": 851,
    "start_time": "2023-07-30T11:01:20.999Z"
   },
   {
    "duration": 120,
    "start_time": "2023-07-30T11:05:52.206Z"
   },
   {
    "duration": 4,
    "start_time": "2023-07-30T11:06:10.697Z"
   },
   {
    "duration": 783,
    "start_time": "2023-07-30T11:06:35.369Z"
   },
   {
    "duration": 4,
    "start_time": "2023-07-30T11:07:56.505Z"
   },
   {
    "duration": 781,
    "start_time": "2023-07-30T11:08:10.304Z"
   },
   {
    "duration": 5,
    "start_time": "2023-07-30T11:09:00.856Z"
   },
   {
    "duration": 868,
    "start_time": "2023-07-30T11:09:01.626Z"
   },
   {
    "duration": 784,
    "start_time": "2023-07-30T11:09:23.121Z"
   },
   {
    "duration": 811,
    "start_time": "2023-07-30T11:09:38.976Z"
   },
   {
    "duration": 5,
    "start_time": "2023-07-30T11:10:04.685Z"
   },
   {
    "duration": 5,
    "start_time": "2023-07-30T11:10:17.092Z"
   },
   {
    "duration": 833,
    "start_time": "2023-07-30T11:10:18.671Z"
   },
   {
    "duration": 9,
    "start_time": "2023-07-30T11:10:34.806Z"
   },
   {
    "duration": 10,
    "start_time": "2023-07-30T11:10:57.052Z"
   },
   {
    "duration": 5,
    "start_time": "2023-07-30T11:11:12.695Z"
   },
   {
    "duration": 737,
    "start_time": "2023-07-30T11:11:17.155Z"
   },
   {
    "duration": 17,
    "start_time": "2023-07-30T11:11:32.595Z"
   },
   {
    "duration": 13,
    "start_time": "2023-07-30T11:11:53.151Z"
   },
   {
    "duration": 1398,
    "start_time": "2023-07-30T11:12:06.999Z"
   },
   {
    "duration": 369,
    "start_time": "2023-07-30T11:12:08.399Z"
   },
   {
    "duration": 26,
    "start_time": "2023-07-30T11:12:08.770Z"
   },
   {
    "duration": 39,
    "start_time": "2023-07-30T11:12:08.798Z"
   },
   {
    "duration": 37,
    "start_time": "2023-07-30T11:12:08.839Z"
   },
   {
    "duration": 37,
    "start_time": "2023-07-30T11:12:08.878Z"
   },
   {
    "duration": 45,
    "start_time": "2023-07-30T11:12:08.917Z"
   },
   {
    "duration": 36,
    "start_time": "2023-07-30T11:12:08.964Z"
   },
   {
    "duration": 17,
    "start_time": "2023-07-30T11:12:09.002Z"
   },
   {
    "duration": 41,
    "start_time": "2023-07-30T11:12:09.021Z"
   },
   {
    "duration": 16,
    "start_time": "2023-07-30T11:12:09.064Z"
   },
   {
    "duration": 7,
    "start_time": "2023-07-30T11:12:09.082Z"
   },
   {
    "duration": 8,
    "start_time": "2023-07-30T11:12:09.091Z"
   },
   {
    "duration": 11,
    "start_time": "2023-07-30T11:12:09.101Z"
   },
   {
    "duration": 18,
    "start_time": "2023-07-30T11:12:09.114Z"
   },
   {
    "duration": 19,
    "start_time": "2023-07-30T11:12:09.160Z"
   },
   {
    "duration": 19,
    "start_time": "2023-07-30T11:12:09.181Z"
   },
   {
    "duration": 3,
    "start_time": "2023-07-30T11:12:09.201Z"
   },
   {
    "duration": 16,
    "start_time": "2023-07-30T11:12:09.205Z"
   },
   {
    "duration": 40,
    "start_time": "2023-07-30T11:12:09.222Z"
   },
   {
    "duration": 96,
    "start_time": "2023-07-30T11:12:09.264Z"
   },
   {
    "duration": 4,
    "start_time": "2023-07-30T11:12:09.362Z"
   },
   {
    "duration": 12,
    "start_time": "2023-07-30T11:12:09.368Z"
   },
   {
    "duration": 16,
    "start_time": "2023-07-30T11:12:09.381Z"
   },
   {
    "duration": 59,
    "start_time": "2023-07-30T11:12:09.399Z"
   },
   {
    "duration": 99,
    "start_time": "2023-07-30T11:12:09.461Z"
   },
   {
    "duration": 4,
    "start_time": "2023-07-30T11:12:09.562Z"
   },
   {
    "duration": 6,
    "start_time": "2023-07-30T11:12:09.569Z"
   },
   {
    "duration": 13,
    "start_time": "2023-07-30T11:12:09.577Z"
   },
   {
    "duration": 13,
    "start_time": "2023-07-30T11:12:09.592Z"
   },
   {
    "duration": 154,
    "start_time": "2023-07-30T11:12:09.606Z"
   },
   {
    "duration": 5,
    "start_time": "2023-07-30T11:12:09.762Z"
   },
   {
    "duration": 4,
    "start_time": "2023-07-30T11:12:09.769Z"
   },
   {
    "duration": 5,
    "start_time": "2023-07-30T11:12:09.774Z"
   },
   {
    "duration": 8,
    "start_time": "2023-07-30T11:12:09.780Z"
   },
   {
    "duration": 9,
    "start_time": "2023-07-30T11:12:09.790Z"
   },
   {
    "duration": 13,
    "start_time": "2023-07-30T11:12:09.800Z"
   },
   {
    "duration": 6,
    "start_time": "2023-07-30T11:12:09.815Z"
   },
   {
    "duration": 4,
    "start_time": "2023-07-30T11:12:09.822Z"
   },
   {
    "duration": 33,
    "start_time": "2023-07-30T11:12:09.827Z"
   },
   {
    "duration": 3,
    "start_time": "2023-07-30T11:12:09.862Z"
   },
   {
    "duration": 7,
    "start_time": "2023-07-30T11:12:09.866Z"
   },
   {
    "duration": 121,
    "start_time": "2023-07-30T11:12:09.875Z"
   },
   {
    "duration": 0,
    "start_time": "2023-07-30T11:12:09.998Z"
   },
   {
    "duration": 0,
    "start_time": "2023-07-30T11:12:09.999Z"
   },
   {
    "duration": 0,
    "start_time": "2023-07-30T11:12:10.000Z"
   },
   {
    "duration": 0,
    "start_time": "2023-07-30T11:12:10.002Z"
   },
   {
    "duration": 9,
    "start_time": "2023-07-30T11:12:23.076Z"
   },
   {
    "duration": 5,
    "start_time": "2023-07-30T11:12:36.364Z"
   },
   {
    "duration": 800,
    "start_time": "2023-07-30T11:12:37.970Z"
   },
   {
    "duration": 5,
    "start_time": "2023-07-30T11:14:20.035Z"
   },
   {
    "duration": 2537,
    "start_time": "2023-07-30T11:14:21.471Z"
   },
   {
    "duration": 4,
    "start_time": "2023-07-30T11:15:09.299Z"
   },
   {
    "duration": 774,
    "start_time": "2023-07-30T11:15:11.475Z"
   },
   {
    "duration": 5,
    "start_time": "2023-07-30T11:16:28.266Z"
   },
   {
    "duration": 797,
    "start_time": "2023-07-30T11:16:29.374Z"
   },
   {
    "duration": 5,
    "start_time": "2023-07-30T11:18:08.089Z"
   },
   {
    "duration": 790,
    "start_time": "2023-07-30T11:18:08.904Z"
   },
   {
    "duration": 845,
    "start_time": "2023-07-30T11:18:31.274Z"
   },
   {
    "duration": 825,
    "start_time": "2023-07-30T11:18:36.364Z"
   },
   {
    "duration": 11,
    "start_time": "2023-07-30T11:19:15.461Z"
   },
   {
    "duration": 15,
    "start_time": "2023-07-30T11:19:58.874Z"
   },
   {
    "duration": 1464,
    "start_time": "2023-07-30T11:20:15.690Z"
   },
   {
    "duration": 388,
    "start_time": "2023-07-30T11:20:17.156Z"
   },
   {
    "duration": 29,
    "start_time": "2023-07-30T11:20:17.546Z"
   },
   {
    "duration": 36,
    "start_time": "2023-07-30T11:20:17.576Z"
   },
   {
    "duration": 20,
    "start_time": "2023-07-30T11:20:17.614Z"
   },
   {
    "duration": 37,
    "start_time": "2023-07-30T11:20:17.658Z"
   },
   {
    "duration": 20,
    "start_time": "2023-07-30T11:20:17.697Z"
   },
   {
    "duration": 62,
    "start_time": "2023-07-30T11:20:17.719Z"
   },
   {
    "duration": 15,
    "start_time": "2023-07-30T11:20:17.783Z"
   },
   {
    "duration": 17,
    "start_time": "2023-07-30T11:20:17.801Z"
   },
   {
    "duration": 41,
    "start_time": "2023-07-30T11:20:17.819Z"
   },
   {
    "duration": 9,
    "start_time": "2023-07-30T11:20:17.862Z"
   },
   {
    "duration": 10,
    "start_time": "2023-07-30T11:20:17.872Z"
   },
   {
    "duration": 13,
    "start_time": "2023-07-30T11:20:17.885Z"
   },
   {
    "duration": 23,
    "start_time": "2023-07-30T11:20:17.900Z"
   },
   {
    "duration": 18,
    "start_time": "2023-07-30T11:20:17.925Z"
   },
   {
    "duration": 20,
    "start_time": "2023-07-30T11:20:17.960Z"
   },
   {
    "duration": 3,
    "start_time": "2023-07-30T11:20:17.983Z"
   },
   {
    "duration": 25,
    "start_time": "2023-07-30T11:20:17.987Z"
   },
   {
    "duration": 9,
    "start_time": "2023-07-30T11:20:18.014Z"
   },
   {
    "duration": 93,
    "start_time": "2023-07-30T11:20:18.071Z"
   },
   {
    "duration": 25,
    "start_time": "2023-07-30T11:20:18.165Z"
   },
   {
    "duration": 14,
    "start_time": "2023-07-30T11:20:18.192Z"
   },
   {
    "duration": 37,
    "start_time": "2023-07-30T11:20:18.207Z"
   },
   {
    "duration": 9,
    "start_time": "2023-07-30T11:20:18.246Z"
   },
   {
    "duration": 106,
    "start_time": "2023-07-30T11:20:18.258Z"
   },
   {
    "duration": 95,
    "start_time": "2023-07-30T11:20:18.366Z"
   },
   {
    "duration": 3,
    "start_time": "2023-07-30T11:20:18.462Z"
   },
   {
    "duration": 21,
    "start_time": "2023-07-30T11:20:18.466Z"
   },
   {
    "duration": 9,
    "start_time": "2023-07-30T11:20:18.489Z"
   },
   {
    "duration": 73,
    "start_time": "2023-07-30T11:20:18.500Z"
   },
   {
    "duration": 6,
    "start_time": "2023-07-30T11:20:18.660Z"
   },
   {
    "duration": 4,
    "start_time": "2023-07-30T11:20:18.667Z"
   },
   {
    "duration": 5,
    "start_time": "2023-07-30T11:20:18.672Z"
   },
   {
    "duration": 10,
    "start_time": "2023-07-30T11:20:18.679Z"
   },
   {
    "duration": 10,
    "start_time": "2023-07-30T11:20:18.691Z"
   },
   {
    "duration": 11,
    "start_time": "2023-07-30T11:20:18.702Z"
   },
   {
    "duration": 10,
    "start_time": "2023-07-30T11:20:18.714Z"
   },
   {
    "duration": 8,
    "start_time": "2023-07-30T11:20:18.726Z"
   },
   {
    "duration": 28,
    "start_time": "2023-07-30T11:20:18.736Z"
   },
   {
    "duration": 4,
    "start_time": "2023-07-30T11:20:18.768Z"
   },
   {
    "duration": 9,
    "start_time": "2023-07-30T11:20:18.773Z"
   },
   {
    "duration": 5,
    "start_time": "2023-07-30T11:20:18.784Z"
   },
   {
    "duration": 802,
    "start_time": "2023-07-30T11:20:18.790Z"
   },
   {
    "duration": 777,
    "start_time": "2023-07-30T11:20:19.594Z"
   },
   {
    "duration": 793,
    "start_time": "2023-07-30T11:20:20.373Z"
   },
   {
    "duration": 6,
    "start_time": "2023-07-30T11:21:53.295Z"
   },
   {
    "duration": 769,
    "start_time": "2023-07-30T11:21:54.673Z"
   },
   {
    "duration": 5,
    "start_time": "2023-07-30T11:22:05.466Z"
   },
   {
    "duration": 758,
    "start_time": "2023-07-30T11:22:05.861Z"
   },
   {
    "duration": 5,
    "start_time": "2023-07-30T11:23:02.174Z"
   },
   {
    "duration": 846,
    "start_time": "2023-07-30T11:23:03.069Z"
   },
   {
    "duration": 5,
    "start_time": "2023-07-30T11:23:28.677Z"
   },
   {
    "duration": 729,
    "start_time": "2023-07-30T11:23:29.279Z"
   },
   {
    "duration": 782,
    "start_time": "2023-07-30T11:23:35.216Z"
   },
   {
    "duration": 743,
    "start_time": "2023-07-30T11:23:39.081Z"
   },
   {
    "duration": 7,
    "start_time": "2023-07-30T11:24:32.921Z"
   },
   {
    "duration": 1024,
    "start_time": "2023-07-30T11:24:33.915Z"
   },
   {
    "duration": 739,
    "start_time": "2023-07-30T11:24:47.317Z"
   },
   {
    "duration": 805,
    "start_time": "2023-07-30T11:24:49.712Z"
   },
   {
    "duration": 7,
    "start_time": "2023-07-30T11:42:57.290Z"
   },
   {
    "duration": 743,
    "start_time": "2023-07-30T11:42:58.170Z"
   },
   {
    "duration": 5,
    "start_time": "2023-07-30T11:43:03.778Z"
   },
   {
    "duration": 741,
    "start_time": "2023-07-30T11:43:07.762Z"
   },
   {
    "duration": 747,
    "start_time": "2023-07-30T11:43:28.290Z"
   },
   {
    "duration": 743,
    "start_time": "2023-07-30T11:43:32.958Z"
   },
   {
    "duration": 7,
    "start_time": "2023-07-30T11:45:32.298Z"
   },
   {
    "duration": 866,
    "start_time": "2023-07-30T11:45:33.693Z"
   },
   {
    "duration": 805,
    "start_time": "2023-07-30T11:45:39.898Z"
   },
   {
    "duration": 819,
    "start_time": "2023-07-30T11:45:42.661Z"
   },
   {
    "duration": 8,
    "start_time": "2023-07-30T11:52:24.173Z"
   },
   {
    "duration": 818,
    "start_time": "2023-07-30T11:52:25.133Z"
   },
   {
    "duration": 6,
    "start_time": "2023-07-30T11:52:36.968Z"
   },
   {
    "duration": 746,
    "start_time": "2023-07-30T11:52:37.921Z"
   },
   {
    "duration": 5,
    "start_time": "2023-07-30T11:52:55.524Z"
   },
   {
    "duration": 778,
    "start_time": "2023-07-30T11:52:57.192Z"
   },
   {
    "duration": 5,
    "start_time": "2023-07-30T11:53:20.629Z"
   },
   {
    "duration": 772,
    "start_time": "2023-07-30T11:53:21.249Z"
   },
   {
    "duration": 120,
    "start_time": "2023-07-30T11:54:53.272Z"
   },
   {
    "duration": 6,
    "start_time": "2023-07-30T11:55:11.132Z"
   },
   {
    "duration": 16,
    "start_time": "2023-07-30T11:55:11.832Z"
   },
   {
    "duration": 6,
    "start_time": "2023-07-30T11:56:25.276Z"
   },
   {
    "duration": 6,
    "start_time": "2023-07-30T11:56:39.472Z"
   },
   {
    "duration": 929,
    "start_time": "2023-07-30T11:56:40.919Z"
   },
   {
    "duration": 7,
    "start_time": "2023-07-30T11:58:46.003Z"
   },
   {
    "duration": 6,
    "start_time": "2023-07-30T11:58:50.615Z"
   },
   {
    "duration": 782,
    "start_time": "2023-07-30T11:58:51.769Z"
   },
   {
    "duration": 8,
    "start_time": "2023-07-30T11:59:37.376Z"
   },
   {
    "duration": 756,
    "start_time": "2023-07-30T11:59:37.943Z"
   },
   {
    "duration": 778,
    "start_time": "2023-07-30T11:59:42.247Z"
   },
   {
    "duration": 743,
    "start_time": "2023-07-30T11:59:48.518Z"
   },
   {
    "duration": 6,
    "start_time": "2023-07-30T12:00:09.463Z"
   },
   {
    "duration": 820,
    "start_time": "2023-07-30T12:00:10.203Z"
   },
   {
    "duration": 6,
    "start_time": "2023-07-30T12:00:23.918Z"
   },
   {
    "duration": 818,
    "start_time": "2023-07-30T12:00:24.743Z"
   },
   {
    "duration": 755,
    "start_time": "2023-07-30T12:00:47.647Z"
   },
   {
    "duration": 821,
    "start_time": "2023-07-30T12:00:52.604Z"
   },
   {
    "duration": 5,
    "start_time": "2023-07-30T12:04:29.011Z"
   },
   {
    "duration": 843,
    "start_time": "2023-07-30T12:04:29.659Z"
   },
   {
    "duration": 830,
    "start_time": "2023-07-30T12:04:34.364Z"
   },
   {
    "duration": 791,
    "start_time": "2023-07-30T12:04:37.003Z"
   },
   {
    "duration": 11,
    "start_time": "2023-07-30T12:05:11.963Z"
   },
   {
    "duration": 898,
    "start_time": "2023-07-30T12:05:13.112Z"
   },
   {
    "duration": 9,
    "start_time": "2023-07-30T12:06:14.555Z"
   },
   {
    "duration": 912,
    "start_time": "2023-07-30T12:06:16.275Z"
   },
   {
    "duration": 5,
    "start_time": "2023-07-30T12:06:59.802Z"
   },
   {
    "duration": 903,
    "start_time": "2023-07-30T12:07:06.763Z"
   },
   {
    "duration": 6,
    "start_time": "2023-07-30T12:08:08.018Z"
   },
   {
    "duration": 807,
    "start_time": "2023-07-30T12:08:08.905Z"
   },
   {
    "duration": 9,
    "start_time": "2023-07-30T12:08:40.064Z"
   },
   {
    "duration": 775,
    "start_time": "2023-07-30T12:08:41.251Z"
   },
   {
    "duration": 8,
    "start_time": "2023-07-30T12:08:50.112Z"
   },
   {
    "duration": 777,
    "start_time": "2023-07-30T12:08:51.558Z"
   },
   {
    "duration": 791,
    "start_time": "2023-07-30T12:08:56.701Z"
   },
   {
    "duration": 853,
    "start_time": "2023-07-30T12:09:00.559Z"
   },
   {
    "duration": 6,
    "start_time": "2023-07-30T12:09:47.962Z"
   },
   {
    "duration": 787,
    "start_time": "2023-07-30T12:09:48.403Z"
   },
   {
    "duration": 843,
    "start_time": "2023-07-30T12:09:53.347Z"
   },
   {
    "duration": 758,
    "start_time": "2023-07-30T12:14:09.615Z"
   },
   {
    "duration": 6,
    "start_time": "2023-07-30T12:16:25.049Z"
   },
   {
    "duration": 831,
    "start_time": "2023-07-30T12:16:25.723Z"
   },
   {
    "duration": 853,
    "start_time": "2023-07-30T12:16:30.636Z"
   },
   {
    "duration": 822,
    "start_time": "2023-07-30T12:16:36.564Z"
   },
   {
    "duration": 5,
    "start_time": "2023-07-30T12:16:46.492Z"
   },
   {
    "duration": 822,
    "start_time": "2023-07-30T12:16:47.192Z"
   },
   {
    "duration": 784,
    "start_time": "2023-07-30T12:16:49.816Z"
   },
   {
    "duration": 803,
    "start_time": "2023-07-30T12:16:54.816Z"
   },
   {
    "duration": 809,
    "start_time": "2023-07-30T12:16:58.596Z"
   },
   {
    "duration": 6,
    "start_time": "2023-07-30T12:17:12.603Z"
   },
   {
    "duration": 886,
    "start_time": "2023-07-30T12:17:13.820Z"
   },
   {
    "duration": 807,
    "start_time": "2023-07-30T12:17:16.512Z"
   },
   {
    "duration": 790,
    "start_time": "2023-07-30T12:17:20.200Z"
   },
   {
    "duration": 5,
    "start_time": "2023-07-30T12:17:27.944Z"
   },
   {
    "duration": 817,
    "start_time": "2023-07-30T12:17:28.524Z"
   },
   {
    "duration": 837,
    "start_time": "2023-07-30T12:17:32.360Z"
   },
   {
    "duration": 803,
    "start_time": "2023-07-30T12:17:37.352Z"
   },
   {
    "duration": 110,
    "start_time": "2023-07-30T12:20:14.498Z"
   },
   {
    "duration": 1795,
    "start_time": "2023-07-30T21:57:39.647Z"
   },
   {
    "duration": 986,
    "start_time": "2023-07-30T21:57:41.444Z"
   },
   {
    "duration": 37,
    "start_time": "2023-07-30T21:57:42.432Z"
   },
   {
    "duration": 41,
    "start_time": "2023-07-30T21:57:42.472Z"
   },
   {
    "duration": 48,
    "start_time": "2023-07-30T21:57:42.514Z"
   },
   {
    "duration": 39,
    "start_time": "2023-07-30T21:57:42.566Z"
   },
   {
    "duration": 32,
    "start_time": "2023-07-30T21:57:42.607Z"
   },
   {
    "duration": 55,
    "start_time": "2023-07-30T21:57:42.641Z"
   },
   {
    "duration": 17,
    "start_time": "2023-07-30T21:57:42.698Z"
   },
   {
    "duration": 39,
    "start_time": "2023-07-30T21:57:42.718Z"
   },
   {
    "duration": 25,
    "start_time": "2023-07-30T21:57:42.759Z"
   },
   {
    "duration": 7,
    "start_time": "2023-07-30T21:57:42.786Z"
   },
   {
    "duration": 13,
    "start_time": "2023-07-30T21:57:42.795Z"
   },
   {
    "duration": 14,
    "start_time": "2023-07-30T21:57:42.811Z"
   },
   {
    "duration": 37,
    "start_time": "2023-07-30T21:57:42.827Z"
   },
   {
    "duration": 22,
    "start_time": "2023-07-30T21:57:42.867Z"
   },
   {
    "duration": 20,
    "start_time": "2023-07-30T21:57:42.890Z"
   },
   {
    "duration": 4,
    "start_time": "2023-07-30T21:57:42.912Z"
   },
   {
    "duration": 43,
    "start_time": "2023-07-30T21:57:42.917Z"
   },
   {
    "duration": 15,
    "start_time": "2023-07-30T21:57:42.962Z"
   },
   {
    "duration": 196,
    "start_time": "2023-07-30T21:57:42.979Z"
   },
   {
    "duration": 6,
    "start_time": "2023-07-30T21:57:43.177Z"
   },
   {
    "duration": 4,
    "start_time": "2023-07-30T21:57:43.186Z"
   },
   {
    "duration": 18,
    "start_time": "2023-07-30T21:57:43.192Z"
   },
   {
    "duration": 44,
    "start_time": "2023-07-30T21:57:43.211Z"
   },
   {
    "duration": 120,
    "start_time": "2023-07-30T21:57:43.257Z"
   },
   {
    "duration": 6,
    "start_time": "2023-07-30T21:57:43.379Z"
   },
   {
    "duration": 5,
    "start_time": "2023-07-30T21:57:43.391Z"
   },
   {
    "duration": 15,
    "start_time": "2023-07-30T21:57:43.398Z"
   },
   {
    "duration": 9,
    "start_time": "2023-07-30T21:57:43.415Z"
   },
   {
    "duration": 17,
    "start_time": "2023-07-30T21:57:43.451Z"
   },
   {
    "duration": 102,
    "start_time": "2023-07-30T21:57:43.471Z"
   },
   {
    "duration": 6,
    "start_time": "2023-07-30T21:57:43.574Z"
   },
   {
    "duration": 7,
    "start_time": "2023-07-30T21:57:43.581Z"
   },
   {
    "duration": 8,
    "start_time": "2023-07-30T21:57:43.589Z"
   },
   {
    "duration": 6,
    "start_time": "2023-07-30T21:57:43.599Z"
   },
   {
    "duration": 8,
    "start_time": "2023-07-30T21:57:43.607Z"
   },
   {
    "duration": 7,
    "start_time": "2023-07-30T21:57:43.617Z"
   },
   {
    "duration": 7,
    "start_time": "2023-07-30T21:57:43.626Z"
   },
   {
    "duration": 22,
    "start_time": "2023-07-30T21:57:43.635Z"
   },
   {
    "duration": 21,
    "start_time": "2023-07-30T21:57:43.658Z"
   },
   {
    "duration": 7,
    "start_time": "2023-07-30T21:57:43.681Z"
   },
   {
    "duration": 8,
    "start_time": "2023-07-30T21:57:43.689Z"
   },
   {
    "duration": 129,
    "start_time": "2023-07-30T21:57:43.698Z"
   },
   {
    "duration": 0,
    "start_time": "2023-07-30T21:57:43.829Z"
   },
   {
    "duration": 0,
    "start_time": "2023-07-30T21:57:43.831Z"
   },
   {
    "duration": 6,
    "start_time": "2023-07-30T21:58:16.440Z"
   },
   {
    "duration": 25,
    "start_time": "2023-07-30T21:58:17.503Z"
   },
   {
    "duration": 4,
    "start_time": "2023-07-30T21:58:35.100Z"
   },
   {
    "duration": 6,
    "start_time": "2023-07-30T21:58:36.485Z"
   },
   {
    "duration": 27,
    "start_time": "2023-07-30T21:58:38.182Z"
   },
   {
    "duration": 17,
    "start_time": "2023-07-30T21:58:50.820Z"
   },
   {
    "duration": 1543,
    "start_time": "2023-07-30T21:59:42.738Z"
   },
   {
    "duration": 404,
    "start_time": "2023-07-30T21:59:44.284Z"
   },
   {
    "duration": 33,
    "start_time": "2023-07-30T21:59:44.690Z"
   },
   {
    "duration": 65,
    "start_time": "2023-07-30T21:59:44.726Z"
   },
   {
    "duration": 24,
    "start_time": "2023-07-30T21:59:44.794Z"
   },
   {
    "duration": 71,
    "start_time": "2023-07-30T21:59:44.820Z"
   },
   {
    "duration": 26,
    "start_time": "2023-07-30T21:59:44.894Z"
   },
   {
    "duration": 63,
    "start_time": "2023-07-30T21:59:44.921Z"
   },
   {
    "duration": 17,
    "start_time": "2023-07-30T21:59:44.986Z"
   },
   {
    "duration": 18,
    "start_time": "2023-07-30T21:59:45.005Z"
   },
   {
    "duration": 73,
    "start_time": "2023-07-30T21:59:45.025Z"
   },
   {
    "duration": 55,
    "start_time": "2023-07-30T22:00:13.443Z"
   },
   {
    "duration": 52,
    "start_time": "2023-07-30T22:00:19.764Z"
   },
   {
    "duration": 60,
    "start_time": "2023-07-30T22:00:29.136Z"
   },
   {
    "duration": 61,
    "start_time": "2023-07-30T22:00:48.272Z"
   },
   {
    "duration": 71,
    "start_time": "2023-07-30T22:00:49.472Z"
   },
   {
    "duration": 83,
    "start_time": "2023-07-30T22:00:54.337Z"
   },
   {
    "duration": 49,
    "start_time": "2023-07-30T22:01:00.787Z"
   },
   {
    "duration": 37,
    "start_time": "2023-07-30T22:01:43.346Z"
   },
   {
    "duration": 33,
    "start_time": "2023-07-30T22:01:54.838Z"
   },
   {
    "duration": 33,
    "start_time": "2023-07-30T22:01:56.232Z"
   },
   {
    "duration": 33,
    "start_time": "2023-07-30T22:02:39.766Z"
   },
   {
    "duration": 25,
    "start_time": "2023-07-30T22:02:40.267Z"
   },
   {
    "duration": 24,
    "start_time": "2023-07-30T22:02:40.819Z"
   },
   {
    "duration": 11,
    "start_time": "2023-07-30T22:03:31.405Z"
   },
   {
    "duration": 9,
    "start_time": "2023-07-30T22:03:31.915Z"
   },
   {
    "duration": 12,
    "start_time": "2023-07-30T22:03:32.440Z"
   },
   {
    "duration": 20,
    "start_time": "2023-07-30T22:03:35.262Z"
   },
   {
    "duration": 27,
    "start_time": "2023-07-30T22:03:36.133Z"
   },
   {
    "duration": 28,
    "start_time": "2023-07-30T22:03:36.362Z"
   },
   {
    "duration": 3,
    "start_time": "2023-07-30T22:03:38.834Z"
   },
   {
    "duration": 31,
    "start_time": "2023-07-30T22:03:39.237Z"
   },
   {
    "duration": 62,
    "start_time": "2023-07-30T22:03:39.717Z"
   },
   {
    "duration": 8,
    "start_time": "2023-07-30T22:03:40.185Z"
   },
   {
    "duration": 6,
    "start_time": "2023-07-30T22:03:40.690Z"
   },
   {
    "duration": 5,
    "start_time": "2023-07-30T22:03:41.141Z"
   },
   {
    "duration": 15,
    "start_time": "2023-07-30T22:03:41.987Z"
   },
   {
    "duration": 15,
    "start_time": "2023-07-30T22:03:42.391Z"
   },
   {
    "duration": 9,
    "start_time": "2023-07-30T22:03:43.050Z"
   },
   {
    "duration": 6,
    "start_time": "2023-07-30T22:03:43.544Z"
   },
   {
    "duration": 6,
    "start_time": "2023-07-30T22:03:43.966Z"
   },
   {
    "duration": 12,
    "start_time": "2023-07-30T22:03:44.882Z"
   },
   {
    "duration": 46,
    "start_time": "2023-07-30T22:03:45.338Z"
   },
   {
    "duration": 8,
    "start_time": "2023-07-30T22:03:45.787Z"
   },
   {
    "duration": 6,
    "start_time": "2023-07-30T22:03:46.231Z"
   },
   {
    "duration": 3,
    "start_time": "2023-07-30T22:03:46.640Z"
   },
   {
    "duration": 5,
    "start_time": "2023-07-30T22:03:48.390Z"
   },
   {
    "duration": 7,
    "start_time": "2023-07-30T22:03:48.836Z"
   },
   {
    "duration": 10,
    "start_time": "2023-07-30T22:03:49.650Z"
   },
   {
    "duration": 5,
    "start_time": "2023-07-30T22:03:53.236Z"
   },
   {
    "duration": 9,
    "start_time": "2023-07-30T22:03:54.758Z"
   },
   {
    "duration": 6,
    "start_time": "2023-07-30T22:03:55.835Z"
   },
   {
    "duration": 5,
    "start_time": "2023-07-30T22:03:56.286Z"
   },
   {
    "duration": 5,
    "start_time": "2023-07-30T22:03:56.671Z"
   },
   {
    "duration": 5,
    "start_time": "2023-07-30T22:04:08.906Z"
   },
   {
    "duration": 6,
    "start_time": "2023-07-30T22:04:11.416Z"
   },
   {
    "duration": 144,
    "start_time": "2023-07-30T22:04:12.858Z"
   },
   {
    "duration": 1688,
    "start_time": "2023-07-30T22:04:57.711Z"
   },
   {
    "duration": 445,
    "start_time": "2023-07-30T22:04:59.401Z"
   },
   {
    "duration": 39,
    "start_time": "2023-07-30T22:04:59.849Z"
   },
   {
    "duration": 47,
    "start_time": "2023-07-30T22:04:59.890Z"
   },
   {
    "duration": 37,
    "start_time": "2023-07-30T22:04:59.952Z"
   },
   {
    "duration": 64,
    "start_time": "2023-07-30T22:04:59.991Z"
   },
   {
    "duration": 30,
    "start_time": "2023-07-30T22:05:00.062Z"
   },
   {
    "duration": 70,
    "start_time": "2023-07-30T22:05:00.094Z"
   },
   {
    "duration": 27,
    "start_time": "2023-07-30T22:05:00.171Z"
   },
   {
    "duration": 27,
    "start_time": "2023-07-30T22:05:00.200Z"
   },
   {
    "duration": 30,
    "start_time": "2023-07-30T22:05:00.229Z"
   },
   {
    "duration": 36,
    "start_time": "2023-07-30T22:05:00.261Z"
   },
   {
    "duration": 43,
    "start_time": "2023-07-30T22:05:00.298Z"
   },
   {
    "duration": 89,
    "start_time": "2023-07-30T22:05:00.344Z"
   },
   {
    "duration": 63,
    "start_time": "2023-07-30T22:05:00.435Z"
   },
   {
    "duration": 70,
    "start_time": "2023-07-30T22:05:00.502Z"
   },
   {
    "duration": 58,
    "start_time": "2023-07-30T22:05:00.574Z"
   },
   {
    "duration": 68,
    "start_time": "2023-07-30T22:05:00.635Z"
   },
   {
    "duration": 105,
    "start_time": "2023-07-30T22:05:00.706Z"
   },
   {
    "duration": 185,
    "start_time": "2023-07-30T22:05:00.813Z"
   },
   {
    "duration": 33,
    "start_time": "2023-07-30T22:05:01.001Z"
   },
   {
    "duration": 607,
    "start_time": "2023-07-30T22:05:01.036Z"
   },
   {
    "duration": 192,
    "start_time": "2023-07-30T22:05:01.645Z"
   },
   {
    "duration": 166,
    "start_time": "2023-07-30T22:05:01.840Z"
   },
   {
    "duration": 25,
    "start_time": "2023-07-30T22:05:02.008Z"
   },
   {
    "duration": 38,
    "start_time": "2023-07-30T22:05:02.035Z"
   },
   {
    "duration": 52,
    "start_time": "2023-07-30T22:05:02.075Z"
   },
   {
    "duration": 132,
    "start_time": "2023-07-30T22:05:02.129Z"
   },
   {
    "duration": 96,
    "start_time": "2023-07-30T22:05:02.263Z"
   },
   {
    "duration": 43,
    "start_time": "2023-07-30T22:05:02.360Z"
   },
   {
    "duration": 32,
    "start_time": "2023-07-30T22:05:02.405Z"
   },
   {
    "duration": 65,
    "start_time": "2023-07-30T22:05:02.440Z"
   },
   {
    "duration": 32,
    "start_time": "2023-07-30T22:05:02.507Z"
   },
   {
    "duration": 128,
    "start_time": "2023-07-30T22:05:02.541Z"
   },
   {
    "duration": 10,
    "start_time": "2023-07-30T22:05:02.674Z"
   },
   {
    "duration": 22,
    "start_time": "2023-07-30T22:05:02.686Z"
   },
   {
    "duration": 33,
    "start_time": "2023-07-30T22:05:02.710Z"
   },
   {
    "duration": 31,
    "start_time": "2023-07-30T22:05:02.744Z"
   },
   {
    "duration": 34,
    "start_time": "2023-07-30T22:05:02.777Z"
   },
   {
    "duration": 8,
    "start_time": "2023-07-30T22:05:02.813Z"
   },
   {
    "duration": 17,
    "start_time": "2023-07-30T22:05:02.824Z"
   },
   {
    "duration": 30,
    "start_time": "2023-07-30T22:05:02.843Z"
   },
   {
    "duration": 21,
    "start_time": "2023-07-30T22:05:02.875Z"
   },
   {
    "duration": 22,
    "start_time": "2023-07-30T22:05:02.898Z"
   },
   {
    "duration": 5,
    "start_time": "2023-07-30T22:05:02.922Z"
   },
   {
    "duration": 18,
    "start_time": "2023-07-30T22:05:02.929Z"
   },
   {
    "duration": 146,
    "start_time": "2023-07-30T22:05:02.948Z"
   },
   {
    "duration": 0,
    "start_time": "2023-07-30T22:05:03.096Z"
   },
   {
    "duration": 0,
    "start_time": "2023-07-30T22:05:03.097Z"
   },
   {
    "duration": 15,
    "start_time": "2023-07-30T22:05:58.310Z"
   },
   {
    "duration": 10,
    "start_time": "2023-07-30T22:06:03.006Z"
   },
   {
    "duration": 4,
    "start_time": "2023-07-30T22:06:20.086Z"
   },
   {
    "duration": 5,
    "start_time": "2023-07-30T22:06:24.433Z"
   },
   {
    "duration": 3,
    "start_time": "2023-07-30T22:06:33.768Z"
   },
   {
    "duration": 14,
    "start_time": "2023-07-30T22:06:38.949Z"
   },
   {
    "duration": 22,
    "start_time": "2023-07-30T22:06:39.671Z"
   },
   {
    "duration": 6,
    "start_time": "2023-07-30T22:07:12.040Z"
   },
   {
    "duration": 7,
    "start_time": "2023-07-30T22:07:21.068Z"
   },
   {
    "duration": 4,
    "start_time": "2023-07-30T22:07:29.569Z"
   },
   {
    "duration": 11,
    "start_time": "2023-07-30T22:07:31.090Z"
   },
   {
    "duration": 5,
    "start_time": "2023-07-30T22:07:46.251Z"
   },
   {
    "duration": 10,
    "start_time": "2023-07-30T22:07:48.803Z"
   },
   {
    "duration": 3,
    "start_time": "2023-07-30T22:08:04.269Z"
   },
   {
    "duration": 11,
    "start_time": "2023-07-30T22:08:05.140Z"
   },
   {
    "duration": 3,
    "start_time": "2023-07-30T22:08:59.701Z"
   },
   {
    "duration": 4,
    "start_time": "2023-07-30T22:09:01.372Z"
   },
   {
    "duration": 3,
    "start_time": "2023-07-30T22:09:03.068Z"
   },
   {
    "duration": 4,
    "start_time": "2023-07-30T22:09:13.067Z"
   },
   {
    "duration": 1548,
    "start_time": "2023-07-30T22:09:23.769Z"
   },
   {
    "duration": 442,
    "start_time": "2023-07-30T22:09:25.319Z"
   },
   {
    "duration": 30,
    "start_time": "2023-07-30T22:09:25.767Z"
   },
   {
    "duration": 67,
    "start_time": "2023-07-30T22:09:25.799Z"
   },
   {
    "duration": 24,
    "start_time": "2023-07-30T22:09:25.868Z"
   },
   {
    "duration": 40,
    "start_time": "2023-07-30T22:09:25.893Z"
   },
   {
    "duration": 46,
    "start_time": "2023-07-30T22:09:25.935Z"
   },
   {
    "duration": 38,
    "start_time": "2023-07-30T22:09:25.983Z"
   },
   {
    "duration": 42,
    "start_time": "2023-07-30T22:09:26.023Z"
   },
   {
    "duration": 18,
    "start_time": "2023-07-30T22:09:26.068Z"
   },
   {
    "duration": 18,
    "start_time": "2023-07-30T22:09:26.088Z"
   },
   {
    "duration": 49,
    "start_time": "2023-07-30T22:09:26.107Z"
   },
   {
    "duration": 30,
    "start_time": "2023-07-30T22:09:26.166Z"
   },
   {
    "duration": 22,
    "start_time": "2023-07-30T22:09:26.198Z"
   },
   {
    "duration": 9,
    "start_time": "2023-07-30T22:09:26.222Z"
   },
   {
    "duration": 27,
    "start_time": "2023-07-30T22:09:26.233Z"
   },
   {
    "duration": 11,
    "start_time": "2023-07-30T22:09:26.266Z"
   },
   {
    "duration": 22,
    "start_time": "2023-07-30T22:09:26.278Z"
   },
   {
    "duration": 20,
    "start_time": "2023-07-30T22:09:26.302Z"
   },
   {
    "duration": 32,
    "start_time": "2023-07-30T22:09:26.323Z"
   },
   {
    "duration": 3,
    "start_time": "2023-07-30T22:09:26.368Z"
   },
   {
    "duration": 18,
    "start_time": "2023-07-30T22:09:26.372Z"
   },
   {
    "duration": 75,
    "start_time": "2023-07-30T22:09:26.392Z"
   },
   {
    "duration": 85,
    "start_time": "2023-07-30T22:09:26.470Z"
   },
   {
    "duration": 6,
    "start_time": "2023-07-30T22:09:26.561Z"
   },
   {
    "duration": 4,
    "start_time": "2023-07-30T22:09:26.569Z"
   },
   {
    "duration": 17,
    "start_time": "2023-07-30T22:09:26.575Z"
   },
   {
    "duration": 70,
    "start_time": "2023-07-30T22:09:26.595Z"
   },
   {
    "duration": 108,
    "start_time": "2023-07-30T22:09:26.669Z"
   },
   {
    "duration": 6,
    "start_time": "2023-07-30T22:09:26.779Z"
   },
   {
    "duration": 5,
    "start_time": "2023-07-30T22:09:26.786Z"
   },
   {
    "duration": 13,
    "start_time": "2023-07-30T22:09:26.793Z"
   },
   {
    "duration": 52,
    "start_time": "2023-07-30T22:09:26.808Z"
   },
   {
    "duration": 113,
    "start_time": "2023-07-30T22:09:26.862Z"
   },
   {
    "duration": 6,
    "start_time": "2023-07-30T22:09:26.977Z"
   },
   {
    "duration": 4,
    "start_time": "2023-07-30T22:09:26.984Z"
   },
   {
    "duration": 9,
    "start_time": "2023-07-30T22:09:26.990Z"
   },
   {
    "duration": 5,
    "start_time": "2023-07-30T22:09:27.002Z"
   },
   {
    "duration": 4,
    "start_time": "2023-07-30T22:09:32.668Z"
   },
   {
    "duration": 4,
    "start_time": "2023-07-30T22:09:33.432Z"
   },
   {
    "duration": 1777,
    "start_time": "2023-07-30T22:09:56.873Z"
   },
   {
    "duration": 413,
    "start_time": "2023-07-30T22:09:58.655Z"
   },
   {
    "duration": 29,
    "start_time": "2023-07-30T22:09:59.072Z"
   },
   {
    "duration": 64,
    "start_time": "2023-07-30T22:09:59.104Z"
   },
   {
    "duration": 22,
    "start_time": "2023-07-30T22:09:59.171Z"
   },
   {
    "duration": 38,
    "start_time": "2023-07-30T22:09:59.194Z"
   },
   {
    "duration": 28,
    "start_time": "2023-07-30T22:09:59.253Z"
   },
   {
    "duration": 38,
    "start_time": "2023-07-30T22:09:59.283Z"
   },
   {
    "duration": 51,
    "start_time": "2023-07-30T22:09:59.323Z"
   },
   {
    "duration": 17,
    "start_time": "2023-07-30T22:09:59.377Z"
   },
   {
    "duration": 17,
    "start_time": "2023-07-30T22:09:59.396Z"
   },
   {
    "duration": 55,
    "start_time": "2023-07-30T22:09:59.415Z"
   },
   {
    "duration": 30,
    "start_time": "2023-07-30T22:09:59.472Z"
   },
   {
    "duration": 25,
    "start_time": "2023-07-30T22:09:59.504Z"
   },
   {
    "duration": 31,
    "start_time": "2023-07-30T22:09:59.531Z"
   },
   {
    "duration": 15,
    "start_time": "2023-07-30T22:09:59.565Z"
   },
   {
    "duration": 14,
    "start_time": "2023-07-30T22:09:59.581Z"
   },
   {
    "duration": 24,
    "start_time": "2023-07-30T22:09:59.598Z"
   },
   {
    "duration": 41,
    "start_time": "2023-07-30T22:09:59.624Z"
   },
   {
    "duration": 27,
    "start_time": "2023-07-30T22:09:59.674Z"
   },
   {
    "duration": 3,
    "start_time": "2023-07-30T22:09:59.703Z"
   },
   {
    "duration": 30,
    "start_time": "2023-07-30T22:09:59.707Z"
   },
   {
    "duration": 14,
    "start_time": "2023-07-30T22:09:59.739Z"
   },
   {
    "duration": 129,
    "start_time": "2023-07-30T22:09:59.757Z"
   },
   {
    "duration": 5,
    "start_time": "2023-07-30T22:09:59.888Z"
   },
   {
    "duration": 66,
    "start_time": "2023-07-30T22:09:59.895Z"
   },
   {
    "duration": 18,
    "start_time": "2023-07-30T22:09:59.966Z"
   },
   {
    "duration": 91,
    "start_time": "2023-07-30T22:09:59.987Z"
   },
   {
    "duration": 108,
    "start_time": "2023-07-30T22:10:00.084Z"
   },
   {
    "duration": 14,
    "start_time": "2023-07-30T22:10:00.194Z"
   },
   {
    "duration": 19,
    "start_time": "2023-07-30T22:10:00.210Z"
   },
   {
    "duration": 74,
    "start_time": "2023-07-30T22:10:00.231Z"
   },
   {
    "duration": 19,
    "start_time": "2023-07-30T22:10:00.307Z"
   },
   {
    "duration": 156,
    "start_time": "2023-07-30T22:10:00.328Z"
   },
   {
    "duration": 19,
    "start_time": "2023-07-30T22:10:00.486Z"
   },
   {
    "duration": 18,
    "start_time": "2023-07-30T22:10:00.508Z"
   },
   {
    "duration": 27,
    "start_time": "2023-07-30T22:10:00.528Z"
   },
   {
    "duration": 44,
    "start_time": "2023-07-30T22:10:00.557Z"
   },
   {
    "duration": 135,
    "start_time": "2023-07-30T22:10:04.541Z"
   },
   {
    "duration": 4,
    "start_time": "2023-07-30T22:12:19.588Z"
   },
   {
    "duration": 4,
    "start_time": "2023-07-30T22:12:21.417Z"
   },
   {
    "duration": 5,
    "start_time": "2023-07-30T22:12:35.801Z"
   },
   {
    "duration": 5,
    "start_time": "2023-07-30T22:12:37.407Z"
   },
   {
    "duration": 5,
    "start_time": "2023-07-30T22:12:40.482Z"
   },
   {
    "duration": 5,
    "start_time": "2023-07-30T22:12:43.432Z"
   },
   {
    "duration": 1610,
    "start_time": "2023-07-30T22:12:54.587Z"
   },
   {
    "duration": 420,
    "start_time": "2023-07-30T22:12:56.199Z"
   },
   {
    "duration": 33,
    "start_time": "2023-07-30T22:12:56.621Z"
   },
   {
    "duration": 44,
    "start_time": "2023-07-30T22:12:56.655Z"
   },
   {
    "duration": 24,
    "start_time": "2023-07-30T22:12:56.702Z"
   },
   {
    "duration": 63,
    "start_time": "2023-07-30T22:12:56.728Z"
   },
   {
    "duration": 25,
    "start_time": "2023-07-30T22:12:56.793Z"
   },
   {
    "duration": 67,
    "start_time": "2023-07-30T22:12:56.820Z"
   },
   {
    "duration": 18,
    "start_time": "2023-07-30T22:12:56.889Z"
   },
   {
    "duration": 18,
    "start_time": "2023-07-30T22:12:56.910Z"
   },
   {
    "duration": 47,
    "start_time": "2023-07-30T22:12:56.929Z"
   },
   {
    "duration": 28,
    "start_time": "2023-07-30T22:12:56.978Z"
   },
   {
    "duration": 25,
    "start_time": "2023-07-30T22:12:57.007Z"
   },
   {
    "duration": 30,
    "start_time": "2023-07-30T22:12:57.051Z"
   },
   {
    "duration": 10,
    "start_time": "2023-07-30T22:12:57.083Z"
   },
   {
    "duration": 14,
    "start_time": "2023-07-30T22:12:57.095Z"
   },
   {
    "duration": 19,
    "start_time": "2023-07-30T22:12:57.111Z"
   },
   {
    "duration": 36,
    "start_time": "2023-07-30T22:12:57.132Z"
   },
   {
    "duration": 21,
    "start_time": "2023-07-30T22:12:57.171Z"
   },
   {
    "duration": 22,
    "start_time": "2023-07-30T22:12:57.194Z"
   },
   {
    "duration": 7,
    "start_time": "2023-07-30T22:12:57.218Z"
   },
   {
    "duration": 56,
    "start_time": "2023-07-30T22:12:57.227Z"
   },
   {
    "duration": 77,
    "start_time": "2023-07-30T22:12:57.286Z"
   },
   {
    "duration": 107,
    "start_time": "2023-07-30T22:12:57.371Z"
   },
   {
    "duration": 5,
    "start_time": "2023-07-30T22:12:57.480Z"
   },
   {
    "duration": 5,
    "start_time": "2023-07-30T22:12:57.487Z"
   },
   {
    "duration": 17,
    "start_time": "2023-07-30T22:12:57.494Z"
   },
   {
    "duration": 8,
    "start_time": "2023-07-30T22:12:57.513Z"
   },
   {
    "duration": 18,
    "start_time": "2023-07-30T22:12:57.553Z"
   },
   {
    "duration": 102,
    "start_time": "2023-07-30T22:12:57.573Z"
   },
   {
    "duration": 10,
    "start_time": "2023-07-30T22:12:57.676Z"
   },
   {
    "duration": 26,
    "start_time": "2023-07-30T22:12:57.687Z"
   },
   {
    "duration": 7,
    "start_time": "2023-07-30T22:12:57.715Z"
   },
   {
    "duration": 38,
    "start_time": "2023-07-30T22:12:57.724Z"
   },
   {
    "duration": 107,
    "start_time": "2023-07-30T22:12:57.764Z"
   },
   {
    "duration": 7,
    "start_time": "2023-07-30T22:12:57.873Z"
   },
   {
    "duration": 6,
    "start_time": "2023-07-30T22:13:01.068Z"
   },
   {
    "duration": 5,
    "start_time": "2023-07-30T22:13:08.702Z"
   },
   {
    "duration": 7,
    "start_time": "2023-07-30T22:13:10.141Z"
   },
   {
    "duration": 5,
    "start_time": "2023-07-30T22:13:20.845Z"
   },
   {
    "duration": 4,
    "start_time": "2023-07-30T22:13:23.450Z"
   },
   {
    "duration": 5,
    "start_time": "2023-07-30T22:13:24.567Z"
   },
   {
    "duration": 5,
    "start_time": "2023-07-30T22:13:25.032Z"
   },
   {
    "duration": 7,
    "start_time": "2023-07-30T22:13:25.397Z"
   },
   {
    "duration": 5,
    "start_time": "2023-07-30T22:13:27.943Z"
   },
   {
    "duration": 7,
    "start_time": "2023-07-30T22:13:30.568Z"
   },
   {
    "duration": 131,
    "start_time": "2023-07-30T22:13:31.736Z"
   },
   {
    "duration": 5,
    "start_time": "2023-07-30T22:14:05.638Z"
   },
   {
    "duration": 4,
    "start_time": "2023-07-30T22:14:17.086Z"
   },
   {
    "duration": 11,
    "start_time": "2023-07-30T22:14:22.089Z"
   },
   {
    "duration": 6,
    "start_time": "2023-07-30T22:14:24.767Z"
   },
   {
    "duration": 25,
    "start_time": "2023-07-30T22:14:30.144Z"
   },
   {
    "duration": 4,
    "start_time": "2023-07-30T22:14:36.114Z"
   },
   {
    "duration": 1087,
    "start_time": "2023-07-30T22:14:48.054Z"
   },
   {
    "duration": 95,
    "start_time": "2023-07-30T22:15:15.587Z"
   },
   {
    "duration": 18,
    "start_time": "2023-07-30T22:15:22.080Z"
   },
   {
    "duration": 988,
    "start_time": "2023-07-30T22:15:22.648Z"
   },
   {
    "duration": 1019,
    "start_time": "2023-07-30T22:15:26.303Z"
   },
   {
    "duration": 1052,
    "start_time": "2023-07-30T22:15:29.765Z"
   },
   {
    "duration": 8,
    "start_time": "2023-07-30T22:16:00.461Z"
   },
   {
    "duration": 1012,
    "start_time": "2023-07-30T22:16:01.068Z"
   },
   {
    "duration": 12,
    "start_time": "2023-07-30T22:16:16.945Z"
   },
   {
    "duration": 1080,
    "start_time": "2023-07-30T22:16:18.041Z"
   },
   {
    "duration": 6,
    "start_time": "2023-07-30T22:17:07.916Z"
   },
   {
    "duration": 1047,
    "start_time": "2023-07-30T22:17:08.459Z"
   },
   {
    "duration": 6,
    "start_time": "2023-07-30T22:17:44.984Z"
   },
   {
    "duration": 16,
    "start_time": "2023-07-30T22:17:45.931Z"
   },
   {
    "duration": 5,
    "start_time": "2023-07-30T22:19:03.117Z"
   },
   {
    "duration": 998,
    "start_time": "2023-07-30T22:19:03.952Z"
   },
   {
    "duration": 4,
    "start_time": "2023-07-30T22:21:05.486Z"
   },
   {
    "duration": 8,
    "start_time": "2023-07-30T22:21:12.648Z"
   },
   {
    "duration": 15,
    "start_time": "2023-07-30T22:21:14.169Z"
   },
   {
    "duration": 6,
    "start_time": "2023-07-30T22:21:28.736Z"
   },
   {
    "duration": 22,
    "start_time": "2023-07-30T22:21:29.644Z"
   },
   {
    "duration": 7,
    "start_time": "2023-07-30T22:21:40.471Z"
   },
   {
    "duration": 21,
    "start_time": "2023-07-30T22:21:41.067Z"
   },
   {
    "duration": 5,
    "start_time": "2023-07-30T22:21:53.845Z"
   },
   {
    "duration": 6,
    "start_time": "2023-07-30T22:21:54.986Z"
   },
   {
    "duration": 32,
    "start_time": "2023-07-30T22:21:56.542Z"
   },
   {
    "duration": 20,
    "start_time": "2023-07-30T22:22:52.645Z"
   },
   {
    "duration": 7,
    "start_time": "2023-07-30T22:22:53.571Z"
   },
   {
    "duration": 25,
    "start_time": "2023-07-30T22:23:36.383Z"
   },
   {
    "duration": 11,
    "start_time": "2023-07-30T22:25:21.734Z"
   },
   {
    "duration": 120,
    "start_time": "2023-07-30T22:25:22.936Z"
   },
   {
    "duration": 106,
    "start_time": "2023-07-30T22:25:37.498Z"
   },
   {
    "duration": 9,
    "start_time": "2023-07-30T22:25:45.550Z"
   },
   {
    "duration": 15,
    "start_time": "2023-07-30T22:25:46.240Z"
   },
   {
    "duration": 5,
    "start_time": "2023-07-30T22:26:08.160Z"
   },
   {
    "duration": 34,
    "start_time": "2023-07-30T22:26:09.204Z"
   },
   {
    "duration": 4,
    "start_time": "2023-07-30T22:26:34.543Z"
   },
   {
    "duration": 12,
    "start_time": "2023-07-30T22:26:35.942Z"
   },
   {
    "duration": 6,
    "start_time": "2023-07-30T22:26:44.391Z"
   },
   {
    "duration": 15,
    "start_time": "2023-07-30T22:26:45.636Z"
   },
   {
    "duration": 6,
    "start_time": "2023-07-30T22:26:55.421Z"
   },
   {
    "duration": 1498,
    "start_time": "2023-07-30T22:26:56.091Z"
   },
   {
    "duration": 6,
    "start_time": "2023-07-30T22:27:06.705Z"
   },
   {
    "duration": 1592,
    "start_time": "2023-07-30T22:27:07.794Z"
   },
   {
    "duration": 1453,
    "start_time": "2023-07-30T22:27:11.502Z"
   },
   {
    "duration": 1584,
    "start_time": "2023-07-30T22:27:17.257Z"
   },
   {
    "duration": 1732,
    "start_time": "2023-07-31T13:50:00.242Z"
   },
   {
    "duration": 400,
    "start_time": "2023-07-31T13:50:01.976Z"
   },
   {
    "duration": 31,
    "start_time": "2023-07-31T13:50:02.379Z"
   },
   {
    "duration": 96,
    "start_time": "2023-07-31T13:50:02.412Z"
   },
   {
    "duration": 33,
    "start_time": "2023-07-31T13:50:02.511Z"
   },
   {
    "duration": 51,
    "start_time": "2023-07-31T13:50:02.545Z"
   },
   {
    "duration": 20,
    "start_time": "2023-07-31T13:50:02.598Z"
   },
   {
    "duration": 129,
    "start_time": "2023-07-31T13:50:02.619Z"
   },
   {
    "duration": 19,
    "start_time": "2023-07-31T13:50:02.749Z"
   },
   {
    "duration": 63,
    "start_time": "2023-07-31T13:50:02.769Z"
   },
   {
    "duration": 57,
    "start_time": "2023-07-31T13:50:02.834Z"
   },
   {
    "duration": 57,
    "start_time": "2023-07-31T13:50:02.893Z"
   },
   {
    "duration": 56,
    "start_time": "2023-07-31T13:50:02.952Z"
   },
   {
    "duration": 81,
    "start_time": "2023-07-31T13:50:03.011Z"
   },
   {
    "duration": 56,
    "start_time": "2023-07-31T13:50:03.094Z"
   },
   {
    "duration": 28,
    "start_time": "2023-07-31T13:50:03.151Z"
   },
   {
    "duration": 30,
    "start_time": "2023-07-31T13:50:03.180Z"
   },
   {
    "duration": 57,
    "start_time": "2023-07-31T13:50:03.212Z"
   },
   {
    "duration": 120,
    "start_time": "2023-07-31T13:50:03.271Z"
   },
   {
    "duration": 186,
    "start_time": "2023-07-31T13:50:03.392Z"
   },
   {
    "duration": 9,
    "start_time": "2023-07-31T13:50:03.580Z"
   },
   {
    "duration": 47,
    "start_time": "2023-07-31T13:50:03.590Z"
   },
   {
    "duration": 26,
    "start_time": "2023-07-31T13:50:03.638Z"
   },
   {
    "duration": 161,
    "start_time": "2023-07-31T13:50:03.666Z"
   },
   {
    "duration": 27,
    "start_time": "2023-07-31T13:50:03.828Z"
   },
   {
    "duration": 17,
    "start_time": "2023-07-31T13:50:03.857Z"
   },
   {
    "duration": 37,
    "start_time": "2023-07-31T13:50:03.876Z"
   },
   {
    "duration": 41,
    "start_time": "2023-07-31T13:50:03.915Z"
   },
   {
    "duration": 93,
    "start_time": "2023-07-31T13:50:03.958Z"
   },
   {
    "duration": 78,
    "start_time": "2023-07-31T13:50:04.052Z"
   },
   {
    "duration": 40,
    "start_time": "2023-07-31T13:50:04.132Z"
   },
   {
    "duration": 37,
    "start_time": "2023-07-31T13:50:04.173Z"
   },
   {
    "duration": 21,
    "start_time": "2023-07-31T13:50:04.211Z"
   },
   {
    "duration": 129,
    "start_time": "2023-07-31T13:50:04.233Z"
   },
   {
    "duration": 69,
    "start_time": "2023-07-31T13:50:04.364Z"
   },
   {
    "duration": 43,
    "start_time": "2023-07-31T13:50:04.434Z"
   },
   {
    "duration": 19,
    "start_time": "2023-07-31T13:50:04.478Z"
   },
   {
    "duration": 26,
    "start_time": "2023-07-31T13:50:04.499Z"
   },
   {
    "duration": 41,
    "start_time": "2023-07-31T13:50:04.527Z"
   },
   {
    "duration": 36,
    "start_time": "2023-07-31T13:50:04.570Z"
   },
   {
    "duration": 43,
    "start_time": "2023-07-31T13:50:04.610Z"
   },
   {
    "duration": 46,
    "start_time": "2023-07-31T13:50:04.654Z"
   },
   {
    "duration": 44,
    "start_time": "2023-07-31T13:50:04.701Z"
   },
   {
    "duration": 20,
    "start_time": "2023-07-31T13:50:04.747Z"
   },
   {
    "duration": 17,
    "start_time": "2023-07-31T13:50:04.769Z"
   },
   {
    "duration": 20,
    "start_time": "2023-07-31T13:50:04.787Z"
   },
   {
    "duration": 1216,
    "start_time": "2023-07-31T13:50:04.809Z"
   },
   {
    "duration": 1078,
    "start_time": "2023-07-31T13:50:06.026Z"
   },
   {
    "duration": 1079,
    "start_time": "2023-07-31T13:50:07.106Z"
   },
   {
    "duration": 5,
    "start_time": "2023-07-31T13:50:24.079Z"
   },
   {
    "duration": 1338,
    "start_time": "2023-07-31T13:50:24.542Z"
   },
   {
    "duration": 7,
    "start_time": "2023-07-31T13:50:41.352Z"
   },
   {
    "duration": 1351,
    "start_time": "2023-07-31T13:50:41.852Z"
   },
   {
    "duration": 252,
    "start_time": "2023-07-31T13:50:51.075Z"
   },
   {
    "duration": 7,
    "start_time": "2023-07-31T13:50:53.557Z"
   },
   {
    "duration": 1317,
    "start_time": "2023-07-31T13:50:57.879Z"
   },
   {
    "duration": 6,
    "start_time": "2023-07-31T13:51:25.171Z"
   },
   {
    "duration": 1073,
    "start_time": "2023-07-31T13:51:25.547Z"
   },
   {
    "duration": 3,
    "start_time": "2023-07-31T13:51:43.379Z"
   },
   {
    "duration": 5,
    "start_time": "2023-07-31T13:51:44.581Z"
   },
   {
    "duration": 144,
    "start_time": "2023-07-31T13:51:45.113Z"
   },
   {
    "duration": 5,
    "start_time": "2023-07-31T13:51:51.760Z"
   },
   {
    "duration": 1079,
    "start_time": "2023-07-31T13:51:52.574Z"
   },
   {
    "duration": 10,
    "start_time": "2023-07-31T13:53:38.638Z"
   },
   {
    "duration": 1179,
    "start_time": "2023-07-31T13:53:38.903Z"
   },
   {
    "duration": 3,
    "start_time": "2023-07-31T13:57:34.314Z"
   },
   {
    "duration": 5,
    "start_time": "2023-07-31T13:57:35.581Z"
   },
   {
    "duration": 25,
    "start_time": "2023-07-31T13:57:36.218Z"
   },
   {
    "duration": 5,
    "start_time": "2023-07-31T13:57:48.742Z"
   },
   {
    "duration": 9,
    "start_time": "2023-07-31T13:57:50.642Z"
   },
   {
    "duration": 21,
    "start_time": "2023-07-31T13:57:51.150Z"
   },
   {
    "duration": 1535,
    "start_time": "2023-07-31T13:57:56.165Z"
   },
   {
    "duration": 385,
    "start_time": "2023-07-31T13:57:57.702Z"
   },
   {
    "duration": 45,
    "start_time": "2023-07-31T13:57:58.089Z"
   },
   {
    "duration": 50,
    "start_time": "2023-07-31T13:57:58.143Z"
   },
   {
    "duration": 42,
    "start_time": "2023-07-31T13:57:58.195Z"
   },
   {
    "duration": 56,
    "start_time": "2023-07-31T13:57:58.247Z"
   },
   {
    "duration": 24,
    "start_time": "2023-07-31T13:57:58.304Z"
   },
   {
    "duration": 76,
    "start_time": "2023-07-31T13:57:58.329Z"
   },
   {
    "duration": 40,
    "start_time": "2023-07-31T13:57:58.406Z"
   },
   {
    "duration": 19,
    "start_time": "2023-07-31T13:57:58.449Z"
   },
   {
    "duration": 19,
    "start_time": "2023-07-31T13:57:58.470Z"
   },
   {
    "duration": 49,
    "start_time": "2023-07-31T13:57:58.491Z"
   },
   {
    "duration": 21,
    "start_time": "2023-07-31T13:57:58.548Z"
   },
   {
    "duration": 31,
    "start_time": "2023-07-31T13:57:58.571Z"
   },
   {
    "duration": 10,
    "start_time": "2023-07-31T13:57:58.604Z"
   },
   {
    "duration": 42,
    "start_time": "2023-07-31T13:57:58.615Z"
   },
   {
    "duration": 24,
    "start_time": "2023-07-31T13:57:58.658Z"
   },
   {
    "duration": 22,
    "start_time": "2023-07-31T13:57:58.683Z"
   },
   {
    "duration": 47,
    "start_time": "2023-07-31T13:57:58.707Z"
   },
   {
    "duration": 24,
    "start_time": "2023-07-31T13:57:58.755Z"
   },
   {
    "duration": 2,
    "start_time": "2023-07-31T13:57:58.781Z"
   },
   {
    "duration": 76,
    "start_time": "2023-07-31T13:57:58.785Z"
   },
   {
    "duration": 24,
    "start_time": "2023-07-31T13:57:58.862Z"
   },
   {
    "duration": 164,
    "start_time": "2023-07-31T13:57:58.888Z"
   },
   {
    "duration": 24,
    "start_time": "2023-07-31T13:57:59.054Z"
   },
   {
    "duration": 11,
    "start_time": "2023-07-31T13:57:59.080Z"
   },
   {
    "duration": 41,
    "start_time": "2023-07-31T13:57:59.093Z"
   },
   {
    "duration": 34,
    "start_time": "2023-07-31T13:57:59.137Z"
   },
   {
    "duration": 180,
    "start_time": "2023-07-31T13:57:59.172Z"
   },
   {
    "duration": 12,
    "start_time": "2023-07-31T13:57:59.353Z"
   },
   {
    "duration": 22,
    "start_time": "2023-07-31T13:57:59.366Z"
   },
   {
    "duration": 71,
    "start_time": "2023-07-31T13:57:59.389Z"
   },
   {
    "duration": 36,
    "start_time": "2023-07-31T13:57:59.462Z"
   },
   {
    "duration": 33,
    "start_time": "2023-07-31T13:57:59.499Z"
   },
   {
    "duration": 91,
    "start_time": "2023-07-31T13:57:59.534Z"
   },
   {
    "duration": 46,
    "start_time": "2023-07-31T13:57:59.630Z"
   },
   {
    "duration": 21,
    "start_time": "2023-07-31T13:57:59.677Z"
   },
   {
    "duration": 14,
    "start_time": "2023-07-31T13:57:59.699Z"
   },
   {
    "duration": 71,
    "start_time": "2023-07-31T13:57:59.714Z"
   },
   {
    "duration": 10,
    "start_time": "2023-07-31T13:57:59.787Z"
   },
   {
    "duration": 12,
    "start_time": "2023-07-31T13:57:59.798Z"
   },
   {
    "duration": 49,
    "start_time": "2023-07-31T13:57:59.812Z"
   },
   {
    "duration": 26,
    "start_time": "2023-07-31T13:57:59.862Z"
   },
   {
    "duration": 14,
    "start_time": "2023-07-31T13:57:59.889Z"
   },
   {
    "duration": 9,
    "start_time": "2023-07-31T13:57:59.905Z"
   },
   {
    "duration": 43,
    "start_time": "2023-07-31T13:57:59.915Z"
   },
   {
    "duration": 26,
    "start_time": "2023-07-31T13:57:59.959Z"
   },
   {
    "duration": 208,
    "start_time": "2023-07-31T13:57:59.987Z"
   },
   {
    "duration": 0,
    "start_time": "2023-07-31T13:58:00.197Z"
   },
   {
    "duration": 0,
    "start_time": "2023-07-31T13:58:00.198Z"
   },
   {
    "duration": 3,
    "start_time": "2023-07-31T13:58:20.901Z"
   },
   {
    "duration": 9,
    "start_time": "2023-07-31T13:58:22.143Z"
   },
   {
    "duration": 17,
    "start_time": "2023-07-31T13:58:26.697Z"
   },
   {
    "duration": 12,
    "start_time": "2023-07-31T13:58:33.019Z"
   },
   {
    "duration": 5,
    "start_time": "2023-07-31T13:58:34.508Z"
   },
   {
    "duration": 16,
    "start_time": "2023-07-31T13:58:34.902Z"
   },
   {
    "duration": 4,
    "start_time": "2023-07-31T14:02:28.600Z"
   },
   {
    "duration": 5,
    "start_time": "2023-07-31T14:02:30.967Z"
   },
   {
    "duration": 13,
    "start_time": "2023-07-31T14:02:31.573Z"
   },
   {
    "duration": 26,
    "start_time": "2023-07-31T14:02:39.114Z"
   },
   {
    "duration": 1182,
    "start_time": "2023-07-31T14:02:40.221Z"
   },
   {
    "duration": 5,
    "start_time": "2023-07-31T14:02:50.110Z"
   },
   {
    "duration": 1113,
    "start_time": "2023-07-31T14:02:50.796Z"
   },
   {
    "duration": 6,
    "start_time": "2023-07-31T14:03:53.862Z"
   },
   {
    "duration": 1291,
    "start_time": "2023-07-31T14:03:55.403Z"
   },
   {
    "duration": 6,
    "start_time": "2023-07-31T14:04:45.668Z"
   },
   {
    "duration": 1224,
    "start_time": "2023-07-31T14:04:46.043Z"
   },
   {
    "duration": 1134,
    "start_time": "2023-07-31T14:05:18.357Z"
   },
   {
    "duration": 5,
    "start_time": "2023-07-31T14:05:24.181Z"
   },
   {
    "duration": 1250,
    "start_time": "2023-07-31T14:05:24.835Z"
   },
   {
    "duration": 1759,
    "start_time": "2023-07-31T14:07:12.744Z"
   },
   {
    "duration": 422,
    "start_time": "2023-07-31T14:07:14.505Z"
   },
   {
    "duration": 33,
    "start_time": "2023-07-31T14:07:14.928Z"
   },
   {
    "duration": 42,
    "start_time": "2023-07-31T14:07:14.963Z"
   },
   {
    "duration": 35,
    "start_time": "2023-07-31T14:07:15.008Z"
   },
   {
    "duration": 62,
    "start_time": "2023-07-31T14:07:15.045Z"
   },
   {
    "duration": 23,
    "start_time": "2023-07-31T14:07:15.111Z"
   },
   {
    "duration": 81,
    "start_time": "2023-07-31T14:07:15.135Z"
   },
   {
    "duration": 22,
    "start_time": "2023-07-31T14:07:15.218Z"
   },
   {
    "duration": 53,
    "start_time": "2023-07-31T14:07:15.243Z"
   },
   {
    "duration": 50,
    "start_time": "2023-07-31T14:07:15.298Z"
   },
   {
    "duration": 69,
    "start_time": "2023-07-31T14:07:15.349Z"
   },
   {
    "duration": 67,
    "start_time": "2023-07-31T14:07:15.419Z"
   },
   {
    "duration": 87,
    "start_time": "2023-07-31T14:07:15.490Z"
   },
   {
    "duration": 36,
    "start_time": "2023-07-31T14:07:15.579Z"
   },
   {
    "duration": 67,
    "start_time": "2023-07-31T14:07:15.616Z"
   },
   {
    "duration": 22,
    "start_time": "2023-07-31T14:07:15.684Z"
   },
   {
    "duration": 50,
    "start_time": "2023-07-31T14:07:15.707Z"
   },
   {
    "duration": 32,
    "start_time": "2023-07-31T14:07:15.759Z"
   },
   {
    "duration": 33,
    "start_time": "2023-07-31T14:07:15.793Z"
   },
   {
    "duration": 73,
    "start_time": "2023-07-31T14:07:15.828Z"
   },
   {
    "duration": 109,
    "start_time": "2023-07-31T14:07:15.903Z"
   },
   {
    "duration": 150,
    "start_time": "2023-07-31T14:07:16.014Z"
   },
   {
    "duration": 161,
    "start_time": "2023-07-31T14:07:16.165Z"
   },
   {
    "duration": 47,
    "start_time": "2023-07-31T14:07:16.327Z"
   },
   {
    "duration": 14,
    "start_time": "2023-07-31T14:07:16.376Z"
   },
   {
    "duration": 24,
    "start_time": "2023-07-31T14:07:16.391Z"
   },
   {
    "duration": 53,
    "start_time": "2023-07-31T14:07:16.416Z"
   },
   {
    "duration": 160,
    "start_time": "2023-07-31T14:07:16.471Z"
   },
   {
    "duration": 48,
    "start_time": "2023-07-31T14:07:16.632Z"
   },
   {
    "duration": 29,
    "start_time": "2023-07-31T14:07:16.682Z"
   },
   {
    "duration": 23,
    "start_time": "2023-07-31T14:07:16.712Z"
   },
   {
    "duration": 35,
    "start_time": "2023-07-31T14:07:16.736Z"
   },
   {
    "duration": 56,
    "start_time": "2023-07-31T14:07:16.773Z"
   },
   {
    "duration": 131,
    "start_time": "2023-07-31T14:07:16.831Z"
   },
   {
    "duration": 9,
    "start_time": "2023-07-31T14:07:16.963Z"
   },
   {
    "duration": 16,
    "start_time": "2023-07-31T14:07:16.973Z"
   },
   {
    "duration": 6,
    "start_time": "2023-07-31T14:07:16.991Z"
   },
   {
    "duration": 9,
    "start_time": "2023-07-31T14:07:16.998Z"
   },
   {
    "duration": 22,
    "start_time": "2023-07-31T14:07:17.009Z"
   },
   {
    "duration": 46,
    "start_time": "2023-07-31T14:07:17.034Z"
   },
   {
    "duration": 18,
    "start_time": "2023-07-31T14:07:17.081Z"
   },
   {
    "duration": 8,
    "start_time": "2023-07-31T14:07:17.101Z"
   },
   {
    "duration": 18,
    "start_time": "2023-07-31T14:07:17.111Z"
   },
   {
    "duration": 36,
    "start_time": "2023-07-31T14:07:17.131Z"
   },
   {
    "duration": 12,
    "start_time": "2023-07-31T14:07:17.169Z"
   },
   {
    "duration": 185,
    "start_time": "2023-07-31T14:07:17.182Z"
   },
   {
    "duration": 0,
    "start_time": "2023-07-31T14:07:17.369Z"
   },
   {
    "duration": 0,
    "start_time": "2023-07-31T14:07:17.370Z"
   },
   {
    "duration": 3,
    "start_time": "2023-07-31T14:07:35.088Z"
   },
   {
    "duration": 5,
    "start_time": "2023-07-31T14:07:36.568Z"
   },
   {
    "duration": 17,
    "start_time": "2023-07-31T14:07:37.870Z"
   },
   {
    "duration": 4,
    "start_time": "2023-07-31T14:07:48.780Z"
   },
   {
    "duration": 6,
    "start_time": "2023-07-31T14:07:50.468Z"
   },
   {
    "duration": 21,
    "start_time": "2023-07-31T14:07:51.036Z"
   },
   {
    "duration": 5,
    "start_time": "2023-07-31T14:08:14.398Z"
   },
   {
    "duration": 1314,
    "start_time": "2023-07-31T14:08:15.255Z"
   },
   {
    "duration": 14,
    "start_time": "2023-07-31T14:08:43.346Z"
   },
   {
    "duration": 22,
    "start_time": "2023-07-31T14:08:44.572Z"
   },
   {
    "duration": 1672,
    "start_time": "2023-07-31T14:09:11.498Z"
   },
   {
    "duration": 405,
    "start_time": "2023-07-31T14:09:13.172Z"
   },
   {
    "duration": 24,
    "start_time": "2023-07-31T14:09:13.579Z"
   },
   {
    "duration": 51,
    "start_time": "2023-07-31T14:09:13.605Z"
   },
   {
    "duration": 23,
    "start_time": "2023-07-31T14:09:13.662Z"
   },
   {
    "duration": 48,
    "start_time": "2023-07-31T14:09:13.687Z"
   },
   {
    "duration": 33,
    "start_time": "2023-07-31T14:09:13.736Z"
   },
   {
    "duration": 60,
    "start_time": "2023-07-31T14:09:13.771Z"
   },
   {
    "duration": 20,
    "start_time": "2023-07-31T14:09:13.832Z"
   },
   {
    "duration": 25,
    "start_time": "2023-07-31T14:09:13.860Z"
   },
   {
    "duration": 15,
    "start_time": "2023-07-31T14:09:13.887Z"
   },
   {
    "duration": 30,
    "start_time": "2023-07-31T14:09:13.903Z"
   },
   {
    "duration": 44,
    "start_time": "2023-07-31T14:09:13.938Z"
   },
   {
    "duration": 14,
    "start_time": "2023-07-31T14:09:13.983Z"
   },
   {
    "duration": 7,
    "start_time": "2023-07-31T14:09:13.998Z"
   },
   {
    "duration": 9,
    "start_time": "2023-07-31T14:09:14.007Z"
   },
   {
    "duration": 54,
    "start_time": "2023-07-31T14:09:14.018Z"
   },
   {
    "duration": 23,
    "start_time": "2023-07-31T14:09:14.073Z"
   },
   {
    "duration": 17,
    "start_time": "2023-07-31T14:09:14.097Z"
   },
   {
    "duration": 21,
    "start_time": "2023-07-31T14:09:14.116Z"
   },
   {
    "duration": 120,
    "start_time": "2023-07-31T14:09:14.139Z"
   },
   {
    "duration": 107,
    "start_time": "2023-07-31T14:09:14.261Z"
   },
   {
    "duration": 29,
    "start_time": "2023-07-31T14:09:14.370Z"
   },
   {
    "duration": 51,
    "start_time": "2023-07-31T14:09:14.402Z"
   },
   {
    "duration": 117,
    "start_time": "2023-07-31T14:09:14.455Z"
   },
   {
    "duration": 25,
    "start_time": "2023-07-31T14:09:14.573Z"
   },
   {
    "duration": 31,
    "start_time": "2023-07-31T14:09:14.599Z"
   },
   {
    "duration": 90,
    "start_time": "2023-07-31T14:09:14.634Z"
   },
   {
    "duration": 104,
    "start_time": "2023-07-31T14:09:14.729Z"
   },
   {
    "duration": 52,
    "start_time": "2023-07-31T14:09:14.835Z"
   },
   {
    "duration": 13,
    "start_time": "2023-07-31T14:09:14.889Z"
   },
   {
    "duration": 23,
    "start_time": "2023-07-31T14:09:14.904Z"
   },
   {
    "duration": 53,
    "start_time": "2023-07-31T14:09:14.928Z"
   },
   {
    "duration": 204,
    "start_time": "2023-07-31T14:09:14.983Z"
   },
   {
    "duration": 21,
    "start_time": "2023-07-31T14:09:15.188Z"
   },
   {
    "duration": 9,
    "start_time": "2023-07-31T14:09:15.210Z"
   },
   {
    "duration": 58,
    "start_time": "2023-07-31T14:09:15.221Z"
   },
   {
    "duration": 21,
    "start_time": "2023-07-31T14:09:15.281Z"
   },
   {
    "duration": 11,
    "start_time": "2023-07-31T14:09:15.303Z"
   },
   {
    "duration": 75,
    "start_time": "2023-07-31T14:09:15.316Z"
   },
   {
    "duration": 18,
    "start_time": "2023-07-31T14:09:15.393Z"
   },
   {
    "duration": 100,
    "start_time": "2023-07-31T14:09:15.413Z"
   },
   {
    "duration": 58,
    "start_time": "2023-07-31T14:09:15.515Z"
   },
   {
    "duration": 17,
    "start_time": "2023-07-31T14:09:15.575Z"
   },
   {
    "duration": 26,
    "start_time": "2023-07-31T14:09:15.594Z"
   },
   {
    "duration": 61,
    "start_time": "2023-07-31T14:09:15.622Z"
   },
   {
    "duration": 196,
    "start_time": "2023-07-31T14:09:15.684Z"
   },
   {
    "duration": 0,
    "start_time": "2023-07-31T14:09:15.882Z"
   },
   {
    "duration": 0,
    "start_time": "2023-07-31T14:09:15.883Z"
   },
   {
    "duration": 8,
    "start_time": "2023-07-31T14:09:32.379Z"
   },
   {
    "duration": 1294,
    "start_time": "2023-07-31T14:09:32.774Z"
   },
   {
    "duration": 8,
    "start_time": "2023-07-31T14:39:42.747Z"
   },
   {
    "duration": 1279,
    "start_time": "2023-07-31T14:39:43.577Z"
   },
   {
    "duration": 6,
    "start_time": "2023-07-31T14:56:11.665Z"
   },
   {
    "duration": 1051,
    "start_time": "2023-07-31T14:56:12.059Z"
   },
   {
    "duration": 21,
    "start_time": "2023-07-31T15:06:57.993Z"
   },
   {
    "duration": 1410,
    "start_time": "2023-07-31T15:07:09.774Z"
   },
   {
    "duration": 404,
    "start_time": "2023-07-31T15:07:11.186Z"
   },
   {
    "duration": 23,
    "start_time": "2023-07-31T15:07:11.592Z"
   },
   {
    "duration": 36,
    "start_time": "2023-07-31T15:07:11.620Z"
   },
   {
    "duration": 17,
    "start_time": "2023-07-31T15:07:11.658Z"
   },
   {
    "duration": 55,
    "start_time": "2023-07-31T15:07:11.676Z"
   },
   {
    "duration": 18,
    "start_time": "2023-07-31T15:07:11.734Z"
   },
   {
    "duration": 34,
    "start_time": "2023-07-31T15:07:11.753Z"
   },
   {
    "duration": 42,
    "start_time": "2023-07-31T15:07:11.789Z"
   },
   {
    "duration": 15,
    "start_time": "2023-07-31T15:07:11.834Z"
   },
   {
    "duration": 14,
    "start_time": "2023-07-31T15:07:11.850Z"
   },
   {
    "duration": 20,
    "start_time": "2023-07-31T15:07:11.865Z"
   },
   {
    "duration": 39,
    "start_time": "2023-07-31T15:07:11.886Z"
   },
   {
    "duration": 17,
    "start_time": "2023-07-31T15:07:11.926Z"
   },
   {
    "duration": 6,
    "start_time": "2023-07-31T15:07:11.945Z"
   },
   {
    "duration": 10,
    "start_time": "2023-07-31T15:07:11.953Z"
   },
   {
    "duration": 13,
    "start_time": "2023-07-31T15:07:11.964Z"
   },
   {
    "duration": 21,
    "start_time": "2023-07-31T15:07:11.978Z"
   },
   {
    "duration": 29,
    "start_time": "2023-07-31T15:07:12.001Z"
   },
   {
    "duration": 15,
    "start_time": "2023-07-31T15:07:12.035Z"
   },
   {
    "duration": 2,
    "start_time": "2023-07-31T15:07:12.051Z"
   },
   {
    "duration": 14,
    "start_time": "2023-07-31T15:07:12.055Z"
   },
   {
    "duration": 68,
    "start_time": "2023-07-31T15:07:12.070Z"
   },
   {
    "duration": 100,
    "start_time": "2023-07-31T15:07:12.139Z"
   },
   {
    "duration": 5,
    "start_time": "2023-07-31T15:07:12.241Z"
   },
   {
    "duration": 3,
    "start_time": "2023-07-31T15:07:12.247Z"
   },
   {
    "duration": 14,
    "start_time": "2023-07-31T15:07:12.252Z"
   },
   {
    "duration": 5,
    "start_time": "2023-07-31T15:07:12.270Z"
   },
   {
    "duration": 150,
    "start_time": "2023-07-31T15:07:12.277Z"
   },
   {
    "duration": 5,
    "start_time": "2023-07-31T15:07:12.428Z"
   },
   {
    "duration": 8,
    "start_time": "2023-07-31T15:07:12.435Z"
   },
   {
    "duration": 16,
    "start_time": "2023-07-31T15:07:12.444Z"
   },
   {
    "duration": 6,
    "start_time": "2023-07-31T15:07:12.461Z"
   },
   {
    "duration": 164,
    "start_time": "2023-07-31T15:07:12.469Z"
   },
   {
    "duration": 25,
    "start_time": "2023-07-31T15:07:12.635Z"
   },
   {
    "duration": 10,
    "start_time": "2023-07-31T15:07:12.661Z"
   },
   {
    "duration": 13,
    "start_time": "2023-07-31T15:07:12.672Z"
   },
   {
    "duration": 26,
    "start_time": "2023-07-31T15:07:12.686Z"
   },
   {
    "duration": 30,
    "start_time": "2023-07-31T15:07:12.714Z"
   },
   {
    "duration": 15,
    "start_time": "2023-07-31T15:07:12.746Z"
   },
   {
    "duration": 12,
    "start_time": "2023-07-31T15:07:12.763Z"
   },
   {
    "duration": 9,
    "start_time": "2023-07-31T15:07:12.777Z"
   },
   {
    "duration": 49,
    "start_time": "2023-07-31T15:07:12.788Z"
   },
   {
    "duration": 39,
    "start_time": "2023-07-31T15:07:12.839Z"
   },
   {
    "duration": 138,
    "start_time": "2023-07-31T15:07:12.880Z"
   },
   {
    "duration": 0,
    "start_time": "2023-07-31T15:07:13.020Z"
   },
   {
    "duration": 0,
    "start_time": "2023-07-31T15:07:13.021Z"
   },
   {
    "duration": 0,
    "start_time": "2023-07-31T15:07:13.022Z"
   },
   {
    "duration": 0,
    "start_time": "2023-07-31T15:07:13.022Z"
   },
   {
    "duration": 0,
    "start_time": "2023-07-31T15:07:13.023Z"
   },
   {
    "duration": 5,
    "start_time": "2023-07-31T15:07:33.598Z"
   },
   {
    "duration": 1958,
    "start_time": "2023-07-31T15:07:34.379Z"
   },
   {
    "duration": 3,
    "start_time": "2023-07-31T15:09:43.492Z"
   },
   {
    "duration": 5,
    "start_time": "2023-07-31T15:09:45.567Z"
   },
   {
    "duration": 1549,
    "start_time": "2023-07-31T15:09:46.543Z"
   },
   {
    "duration": 1546,
    "start_time": "2023-07-31T15:10:01.353Z"
   },
   {
    "duration": 1547,
    "start_time": "2023-07-31T15:10:08.034Z"
   },
   {
    "duration": 5,
    "start_time": "2023-07-31T15:11:50.545Z"
   },
   {
    "duration": 1718,
    "start_time": "2023-07-31T15:11:51.055Z"
   },
   {
    "duration": 1717,
    "start_time": "2023-07-31T15:11:59.351Z"
   },
   {
    "duration": 1747,
    "start_time": "2023-07-31T15:12:09.135Z"
   },
   {
    "duration": 3,
    "start_time": "2023-07-31T15:12:19.437Z"
   },
   {
    "duration": 5,
    "start_time": "2023-07-31T15:12:21.314Z"
   },
   {
    "duration": 881,
    "start_time": "2023-07-31T15:12:21.900Z"
   },
   {
    "duration": 5,
    "start_time": "2023-07-31T15:12:28.871Z"
   },
   {
    "duration": 698,
    "start_time": "2023-07-31T15:12:29.636Z"
   },
   {
    "duration": 668,
    "start_time": "2023-07-31T15:12:32.981Z"
   },
   {
    "duration": 689,
    "start_time": "2023-07-31T15:12:35.895Z"
   },
   {
    "duration": 1401,
    "start_time": "2023-07-31T15:15:30.441Z"
   },
   {
    "duration": 327,
    "start_time": "2023-07-31T15:15:31.844Z"
   },
   {
    "duration": 24,
    "start_time": "2023-07-31T15:15:32.172Z"
   },
   {
    "duration": 66,
    "start_time": "2023-07-31T15:15:32.198Z"
   },
   {
    "duration": 19,
    "start_time": "2023-07-31T15:15:32.265Z"
   },
   {
    "duration": 46,
    "start_time": "2023-07-31T15:15:32.286Z"
   },
   {
    "duration": 19,
    "start_time": "2023-07-31T15:15:32.334Z"
   },
   {
    "duration": 76,
    "start_time": "2023-07-31T15:15:32.355Z"
   },
   {
    "duration": 21,
    "start_time": "2023-07-31T15:15:32.433Z"
   },
   {
    "duration": 57,
    "start_time": "2023-07-31T15:15:32.457Z"
   },
   {
    "duration": 67,
    "start_time": "2023-07-31T15:15:32.516Z"
   },
   {
    "duration": 154,
    "start_time": "2023-07-31T15:15:32.584Z"
   },
   {
    "duration": 42,
    "start_time": "2023-07-31T15:15:32.740Z"
   },
   {
    "duration": 101,
    "start_time": "2023-07-31T15:15:32.783Z"
   },
   {
    "duration": 16,
    "start_time": "2023-07-31T15:15:32.885Z"
   },
   {
    "duration": 11,
    "start_time": "2023-07-31T15:15:32.902Z"
   },
   {
    "duration": 35,
    "start_time": "2023-07-31T15:15:32.914Z"
   },
   {
    "duration": 22,
    "start_time": "2023-07-31T15:15:32.951Z"
   },
   {
    "duration": 15,
    "start_time": "2023-07-31T15:15:32.974Z"
   },
   {
    "duration": 16,
    "start_time": "2023-07-31T15:15:32.990Z"
   },
   {
    "duration": 4,
    "start_time": "2023-07-31T15:15:33.008Z"
   },
   {
    "duration": 34,
    "start_time": "2023-07-31T15:15:33.014Z"
   },
   {
    "duration": 76,
    "start_time": "2023-07-31T15:15:33.049Z"
   },
   {
    "duration": 107,
    "start_time": "2023-07-31T15:15:33.132Z"
   },
   {
    "duration": 6,
    "start_time": "2023-07-31T15:15:33.241Z"
   },
   {
    "duration": 4,
    "start_time": "2023-07-31T15:15:33.248Z"
   },
   {
    "duration": 10,
    "start_time": "2023-07-31T15:15:33.254Z"
   },
   {
    "duration": 9,
    "start_time": "2023-07-31T15:15:33.267Z"
   },
   {
    "duration": 97,
    "start_time": "2023-07-31T15:15:33.334Z"
   },
   {
    "duration": 15,
    "start_time": "2023-07-31T15:15:33.433Z"
   },
   {
    "duration": 6,
    "start_time": "2023-07-31T15:15:33.449Z"
   },
   {
    "duration": 18,
    "start_time": "2023-07-31T15:15:33.457Z"
   },
   {
    "duration": 9,
    "start_time": "2023-07-31T15:15:33.476Z"
   },
   {
    "duration": 43,
    "start_time": "2023-07-31T15:15:33.486Z"
   },
   {
    "duration": 9,
    "start_time": "2023-07-31T15:15:33.531Z"
   },
   {
    "duration": 108,
    "start_time": "2023-07-31T15:15:33.541Z"
   },
   {
    "duration": 10,
    "start_time": "2023-07-31T15:15:33.651Z"
   },
   {
    "duration": 4,
    "start_time": "2023-07-31T15:15:33.662Z"
   },
   {
    "duration": 6,
    "start_time": "2023-07-31T15:15:33.667Z"
   },
   {
    "duration": 17,
    "start_time": "2023-07-31T15:15:33.674Z"
   },
   {
    "duration": 6,
    "start_time": "2023-07-31T15:15:33.692Z"
   },
   {
    "duration": 16,
    "start_time": "2023-07-31T15:15:33.699Z"
   },
   {
    "duration": 17,
    "start_time": "2023-07-31T15:15:33.716Z"
   },
   {
    "duration": 22,
    "start_time": "2023-07-31T15:15:33.734Z"
   },
   {
    "duration": 8,
    "start_time": "2023-07-31T15:15:33.757Z"
   },
   {
    "duration": 701,
    "start_time": "2023-07-31T15:15:33.766Z"
   },
   {
    "duration": 777,
    "start_time": "2023-07-31T15:15:34.468Z"
   },
   {
    "duration": 718,
    "start_time": "2023-07-31T15:15:35.247Z"
   },
   {
    "duration": 6,
    "start_time": "2023-07-31T15:20:18.907Z"
   },
   {
    "duration": 659,
    "start_time": "2023-07-31T15:20:19.671Z"
   },
   {
    "duration": 2,
    "start_time": "2023-07-31T15:23:03.901Z"
   }
  ],
  "kernelspec": {
   "display_name": "Python 3 (ipykernel)",
   "language": "python",
   "name": "python3"
  },
  "language_info": {
   "codemirror_mode": {
    "name": "ipython",
    "version": 3
   },
   "file_extension": ".py",
   "mimetype": "text/x-python",
   "name": "python",
   "nbconvert_exporter": "python",
   "pygments_lexer": "ipython3",
   "version": "3.10.9"
  },
  "toc": {
   "base_numbering": 1,
   "nav_menu": {},
   "number_sections": true,
   "sideBar": true,
   "skip_h1_title": true,
   "title_cell": "Table of Contents",
   "title_sidebar": "Contents",
   "toc_cell": false,
   "toc_position": {
    "height": "calc(100% - 180px)",
    "left": "10px",
    "top": "150px",
    "width": "359px"
   },
   "toc_section_display": true,
   "toc_window_display": true
  }
 },
 "nbformat": 4,
 "nbformat_minor": 2
}
