{
 "cells": [
  {
   "cell_type": "markdown",
   "id": "1ffc991e",
   "metadata": {},
   "source": [
    "# Исследование для сервиса аренды самокатов GoFast"
   ]
  },
  {
   "cell_type": "markdown",
   "id": "3a9c2e4c",
   "metadata": {},
   "source": [
    "Нам передали данные о некоторых пользователях из нескольких городов, а также об их поездках. Нужно проанализировать данные и провеить некоторые гипотезы, которые могут помочь бизнесу вырасти. Чтобы совершать поездки по городу, пользователи сервиса GoFast пользуются мобильным приложением. Сервисом можно пользоваться: \n",
    "1. без подписки - абонентская плата отсутствует;\n",
    "стоимость одной минуты поездки — 8 рублей;\n",
    "стоимость старта (начала поездки) — 50 рублей;\n",
    "2. с подпиской Ultra - абонентская плата — 199 рублей в месяц;\n",
    "стоимость одной минуты поездки — 6 рублей;\n",
    "стоимость старта — бесплатно."
   ]
  },
  {
   "cell_type": "markdown",
   "id": "3fd95e61",
   "metadata": {},
   "source": [
    "## Описание данных\n",
    "В основных данных есть информация о пользователях, их поездках и подписках."
   ]
  },
  {
   "cell_type": "markdown",
   "id": "434eccd9",
   "metadata": {},
   "source": [
    "### Пользователи — users_go.csv\n",
    "- user_id\t- уникальный идентификатор пользователя\n",
    "- name - имя пользователя\n",
    "- age - возраст\n",
    "- city - город\n",
    "- subscription_type - тип подписки (free, ultra)\n",
    "\n",
    "### Поездки — rides_go.csv\n",
    "- user_id -\tуникальный идентификатор пользователя\n",
    "- distance - расстояние, которое пользователь проехал в текущей сессии (в метрах)\n",
    "- duration - продолжительность сессии (в минутах) — время с того момента, как пользователь нажал кнопку «Начать поездку» до момента, как он нажал кнопку «Завершить поездку»\n",
    "- date - дата совершения поездки\n",
    "\n",
    "### Подписки — subscriptions_go.csv\n",
    "- subscription_type - тип подписки\n",
    "- minute_price - стоимость одной минуты поездки по данной подписке\n",
    "- start_ride_price - стоимость начала поездки\n",
    "- subscription_fee - стоимость ежемесячного платежа"
   ]
  },
  {
   "cell_type": "markdown",
   "id": "4a55a0d4",
   "metadata": {},
   "source": [
    "## План работы\n",
    "Всего будет 6 шагов:\n",
    "1. Загрузка данных\n",
    "2. Предобработка данных\n",
    "3. Исследовательский анализ данных\n",
    "4. Объединение данных\n",
    "5. Подсчёт выручки\n",
    "6. Проверка гипотез"
   ]
  },
  {
   "cell_type": "code",
   "execution_count": 1,
   "id": "72576667",
   "metadata": {},
   "outputs": [],
   "source": [
    "from scipy import stats as st\n",
    "from matplotlib import pyplot as plt\n",
    "from math import factorial\n",
    "import pandas as pd\n",
    "import warnings\n",
    "import numpy as np\n",
    "from scipy.stats import binom\n",
    "pd.options.mode.chained_assignment = None"
   ]
  },
  {
   "cell_type": "markdown",
   "id": "c42cbe00",
   "metadata": {},
   "source": [
    "## Шаг 1. Загрузка данных"
   ]
  },
  {
   "cell_type": "code",
   "execution_count": 2,
   "id": "eff9f206",
   "metadata": {},
   "outputs": [],
   "source": [
    "pd.set_option('display.max_columns', None)\n",
    "users = pd.read_csv('/datasets/users_go.csv')\n",
    "rides = pd.read_csv('/datasets/rides_go.csv')\n",
    "subs = pd.read_csv('/datasets/subscriptions_go.csv')"
   ]
  },
  {
   "cell_type": "code",
   "execution_count": 3,
   "id": "287ba2cb",
   "metadata": {},
   "outputs": [
    {
     "data": {
      "text/html": [
       "<div>\n",
       "<style scoped>\n",
       "    .dataframe tbody tr th:only-of-type {\n",
       "        vertical-align: middle;\n",
       "    }\n",
       "\n",
       "    .dataframe tbody tr th {\n",
       "        vertical-align: top;\n",
       "    }\n",
       "\n",
       "    .dataframe thead th {\n",
       "        text-align: right;\n",
       "    }\n",
       "</style>\n",
       "<table border=\"1\" class=\"dataframe\">\n",
       "  <thead>\n",
       "    <tr style=\"text-align: right;\">\n",
       "      <th></th>\n",
       "      <th>user_id</th>\n",
       "      <th>name</th>\n",
       "      <th>age</th>\n",
       "      <th>city</th>\n",
       "      <th>subscription_type</th>\n",
       "    </tr>\n",
       "  </thead>\n",
       "  <tbody>\n",
       "    <tr>\n",
       "      <th>0</th>\n",
       "      <td>1</td>\n",
       "      <td>Кира</td>\n",
       "      <td>22</td>\n",
       "      <td>Тюмень</td>\n",
       "      <td>ultra</td>\n",
       "    </tr>\n",
       "    <tr>\n",
       "      <th>1</th>\n",
       "      <td>2</td>\n",
       "      <td>Станислав</td>\n",
       "      <td>31</td>\n",
       "      <td>Омск</td>\n",
       "      <td>ultra</td>\n",
       "    </tr>\n",
       "    <tr>\n",
       "      <th>2</th>\n",
       "      <td>3</td>\n",
       "      <td>Алексей</td>\n",
       "      <td>20</td>\n",
       "      <td>Москва</td>\n",
       "      <td>ultra</td>\n",
       "    </tr>\n",
       "    <tr>\n",
       "      <th>3</th>\n",
       "      <td>4</td>\n",
       "      <td>Константин</td>\n",
       "      <td>26</td>\n",
       "      <td>Ростов-на-Дону</td>\n",
       "      <td>ultra</td>\n",
       "    </tr>\n",
       "    <tr>\n",
       "      <th>4</th>\n",
       "      <td>5</td>\n",
       "      <td>Адель</td>\n",
       "      <td>28</td>\n",
       "      <td>Омск</td>\n",
       "      <td>ultra</td>\n",
       "    </tr>\n",
       "    <tr>\n",
       "      <th>5</th>\n",
       "      <td>6</td>\n",
       "      <td>Регина</td>\n",
       "      <td>25</td>\n",
       "      <td>Краснодар</td>\n",
       "      <td>ultra</td>\n",
       "    </tr>\n",
       "    <tr>\n",
       "      <th>6</th>\n",
       "      <td>7</td>\n",
       "      <td>Игорь</td>\n",
       "      <td>23</td>\n",
       "      <td>Омск</td>\n",
       "      <td>ultra</td>\n",
       "    </tr>\n",
       "    <tr>\n",
       "      <th>7</th>\n",
       "      <td>8</td>\n",
       "      <td>Юрий</td>\n",
       "      <td>23</td>\n",
       "      <td>Краснодар</td>\n",
       "      <td>ultra</td>\n",
       "    </tr>\n",
       "    <tr>\n",
       "      <th>8</th>\n",
       "      <td>9</td>\n",
       "      <td>Ян</td>\n",
       "      <td>21</td>\n",
       "      <td>Пятигорск</td>\n",
       "      <td>ultra</td>\n",
       "    </tr>\n",
       "    <tr>\n",
       "      <th>9</th>\n",
       "      <td>10</td>\n",
       "      <td>Валерий</td>\n",
       "      <td>18</td>\n",
       "      <td>Екатеринбург</td>\n",
       "      <td>ultra</td>\n",
       "    </tr>\n",
       "  </tbody>\n",
       "</table>\n",
       "</div>"
      ],
      "text/plain": [
       "   user_id        name  age            city subscription_type\n",
       "0        1        Кира   22          Тюмень             ultra\n",
       "1        2   Станислав   31            Омск             ultra\n",
       "2        3     Алексей   20          Москва             ultra\n",
       "3        4  Константин   26  Ростов-на-Дону             ultra\n",
       "4        5       Адель   28            Омск             ultra\n",
       "5        6      Регина   25       Краснодар             ultra\n",
       "6        7       Игорь   23            Омск             ultra\n",
       "7        8        Юрий   23       Краснодар             ultra\n",
       "8        9          Ян   21       Пятигорск             ultra\n",
       "9       10     Валерий   18    Екатеринбург             ultra"
      ]
     },
     "metadata": {},
     "output_type": "display_data"
    },
    {
     "name": "stdout",
     "output_type": "stream",
     "text": [
      "<class 'pandas.core.frame.DataFrame'>\n",
      "RangeIndex: 1565 entries, 0 to 1564\n",
      "Data columns (total 5 columns):\n",
      " #   Column             Non-Null Count  Dtype \n",
      "---  ------             --------------  ----- \n",
      " 0   user_id            1565 non-null   int64 \n",
      " 1   name               1565 non-null   object\n",
      " 2   age                1565 non-null   int64 \n",
      " 3   city               1565 non-null   object\n",
      " 4   subscription_type  1565 non-null   object\n",
      "dtypes: int64(2), object(3)\n",
      "memory usage: 61.3+ KB\n"
     ]
    }
   ],
   "source": [
    "display(users.head(10))\n",
    "users.info()"
   ]
  },
  {
   "cell_type": "code",
   "execution_count": 4,
   "id": "f71c20fc",
   "metadata": {},
   "outputs": [
    {
     "data": {
      "text/html": [
       "<div>\n",
       "<style scoped>\n",
       "    .dataframe tbody tr th:only-of-type {\n",
       "        vertical-align: middle;\n",
       "    }\n",
       "\n",
       "    .dataframe tbody tr th {\n",
       "        vertical-align: top;\n",
       "    }\n",
       "\n",
       "    .dataframe thead th {\n",
       "        text-align: right;\n",
       "    }\n",
       "</style>\n",
       "<table border=\"1\" class=\"dataframe\">\n",
       "  <thead>\n",
       "    <tr style=\"text-align: right;\">\n",
       "      <th></th>\n",
       "      <th>user_id</th>\n",
       "      <th>distance</th>\n",
       "      <th>duration</th>\n",
       "      <th>date</th>\n",
       "    </tr>\n",
       "  </thead>\n",
       "  <tbody>\n",
       "    <tr>\n",
       "      <th>0</th>\n",
       "      <td>1</td>\n",
       "      <td>4409.919140</td>\n",
       "      <td>25.599769</td>\n",
       "      <td>2021-01-01</td>\n",
       "    </tr>\n",
       "    <tr>\n",
       "      <th>1</th>\n",
       "      <td>1</td>\n",
       "      <td>2617.592153</td>\n",
       "      <td>15.816871</td>\n",
       "      <td>2021-01-18</td>\n",
       "    </tr>\n",
       "    <tr>\n",
       "      <th>2</th>\n",
       "      <td>1</td>\n",
       "      <td>754.159807</td>\n",
       "      <td>6.232113</td>\n",
       "      <td>2021-04-20</td>\n",
       "    </tr>\n",
       "    <tr>\n",
       "      <th>3</th>\n",
       "      <td>1</td>\n",
       "      <td>2694.783254</td>\n",
       "      <td>18.511000</td>\n",
       "      <td>2021-08-11</td>\n",
       "    </tr>\n",
       "    <tr>\n",
       "      <th>4</th>\n",
       "      <td>1</td>\n",
       "      <td>4028.687306</td>\n",
       "      <td>26.265803</td>\n",
       "      <td>2021-08-28</td>\n",
       "    </tr>\n",
       "    <tr>\n",
       "      <th>5</th>\n",
       "      <td>1</td>\n",
       "      <td>2770.890808</td>\n",
       "      <td>16.650138</td>\n",
       "      <td>2021-10-09</td>\n",
       "    </tr>\n",
       "    <tr>\n",
       "      <th>6</th>\n",
       "      <td>1</td>\n",
       "      <td>3039.020292</td>\n",
       "      <td>14.927879</td>\n",
       "      <td>2021-10-19</td>\n",
       "    </tr>\n",
       "    <tr>\n",
       "      <th>7</th>\n",
       "      <td>1</td>\n",
       "      <td>2842.118050</td>\n",
       "      <td>23.117468</td>\n",
       "      <td>2021-11-06</td>\n",
       "    </tr>\n",
       "    <tr>\n",
       "      <th>8</th>\n",
       "      <td>1</td>\n",
       "      <td>3412.690668</td>\n",
       "      <td>15.238072</td>\n",
       "      <td>2021-11-14</td>\n",
       "    </tr>\n",
       "    <tr>\n",
       "      <th>9</th>\n",
       "      <td>1</td>\n",
       "      <td>748.690645</td>\n",
       "      <td>15.041884</td>\n",
       "      <td>2021-11-22</td>\n",
       "    </tr>\n",
       "  </tbody>\n",
       "</table>\n",
       "</div>"
      ],
      "text/plain": [
       "   user_id     distance   duration        date\n",
       "0        1  4409.919140  25.599769  2021-01-01\n",
       "1        1  2617.592153  15.816871  2021-01-18\n",
       "2        1   754.159807   6.232113  2021-04-20\n",
       "3        1  2694.783254  18.511000  2021-08-11\n",
       "4        1  4028.687306  26.265803  2021-08-28\n",
       "5        1  2770.890808  16.650138  2021-10-09\n",
       "6        1  3039.020292  14.927879  2021-10-19\n",
       "7        1  2842.118050  23.117468  2021-11-06\n",
       "8        1  3412.690668  15.238072  2021-11-14\n",
       "9        1   748.690645  15.041884  2021-11-22"
      ]
     },
     "metadata": {},
     "output_type": "display_data"
    },
    {
     "name": "stdout",
     "output_type": "stream",
     "text": [
      "<class 'pandas.core.frame.DataFrame'>\n",
      "RangeIndex: 18068 entries, 0 to 18067\n",
      "Data columns (total 4 columns):\n",
      " #   Column    Non-Null Count  Dtype  \n",
      "---  ------    --------------  -----  \n",
      " 0   user_id   18068 non-null  int64  \n",
      " 1   distance  18068 non-null  float64\n",
      " 2   duration  18068 non-null  float64\n",
      " 3   date      18068 non-null  object \n",
      "dtypes: float64(2), int64(1), object(1)\n",
      "memory usage: 564.8+ KB\n"
     ]
    }
   ],
   "source": [
    "display(rides.head(10))\n",
    "rides.info()"
   ]
  },
  {
   "cell_type": "code",
   "execution_count": 5,
   "id": "6ded18ea",
   "metadata": {},
   "outputs": [
    {
     "data": {
      "text/html": [
       "<div>\n",
       "<style scoped>\n",
       "    .dataframe tbody tr th:only-of-type {\n",
       "        vertical-align: middle;\n",
       "    }\n",
       "\n",
       "    .dataframe tbody tr th {\n",
       "        vertical-align: top;\n",
       "    }\n",
       "\n",
       "    .dataframe thead th {\n",
       "        text-align: right;\n",
       "    }\n",
       "</style>\n",
       "<table border=\"1\" class=\"dataframe\">\n",
       "  <thead>\n",
       "    <tr style=\"text-align: right;\">\n",
       "      <th></th>\n",
       "      <th>subscription_type</th>\n",
       "      <th>minute_price</th>\n",
       "      <th>start_ride_price</th>\n",
       "      <th>subscription_fee</th>\n",
       "    </tr>\n",
       "  </thead>\n",
       "  <tbody>\n",
       "    <tr>\n",
       "      <th>0</th>\n",
       "      <td>free</td>\n",
       "      <td>8</td>\n",
       "      <td>50</td>\n",
       "      <td>0</td>\n",
       "    </tr>\n",
       "    <tr>\n",
       "      <th>1</th>\n",
       "      <td>ultra</td>\n",
       "      <td>6</td>\n",
       "      <td>0</td>\n",
       "      <td>199</td>\n",
       "    </tr>\n",
       "  </tbody>\n",
       "</table>\n",
       "</div>"
      ],
      "text/plain": [
       "  subscription_type  minute_price  start_ride_price  subscription_fee\n",
       "0              free             8                50                 0\n",
       "1             ultra             6                 0               199"
      ]
     },
     "metadata": {},
     "output_type": "display_data"
    },
    {
     "name": "stdout",
     "output_type": "stream",
     "text": [
      "<class 'pandas.core.frame.DataFrame'>\n",
      "RangeIndex: 2 entries, 0 to 1\n",
      "Data columns (total 4 columns):\n",
      " #   Column             Non-Null Count  Dtype \n",
      "---  ------             --------------  ----- \n",
      " 0   subscription_type  2 non-null      object\n",
      " 1   minute_price       2 non-null      int64 \n",
      " 2   start_ride_price   2 non-null      int64 \n",
      " 3   subscription_fee   2 non-null      int64 \n",
      "dtypes: int64(3), object(1)\n",
      "memory usage: 192.0+ bytes\n"
     ]
    }
   ],
   "source": [
    "display(subs.head(10))\n",
    "subs.info()"
   ]
  },
  {
   "cell_type": "markdown",
   "id": "d7925e6f",
   "metadata": {},
   "source": [
    "**Вывод:** Загрузив и изучив информацию о данных, мы понимаем, что будем иметь дело с 1565 пользователями сервиса. В результате предобработки в следующем шаге, это число может измениться, но уже понятно, что данных не слишком много. Также можно заметить, что даты в датафрейме `rides` имеют тип данных `object`. Данное замечание так же исправим в следующем шаге."
   ]
  },
  {
   "cell_type": "markdown",
   "id": "e95ebca7",
   "metadata": {},
   "source": [
    "## Шаг 2. Предобработка данных"
   ]
  },
  {
   "cell_type": "markdown",
   "id": "a138745e",
   "metadata": {},
   "source": [
    "Начнем предобработку с преобразования столбца `date` датафрейма `rides` в формат **datatime**."
   ]
  },
  {
   "cell_type": "code",
   "execution_count": 6,
   "id": "af6d202c",
   "metadata": {},
   "outputs": [],
   "source": [
    "rides['date'] = pd.to_datetime(rides['date'], format='%Y-%m-%d')"
   ]
  },
  {
   "cell_type": "markdown",
   "id": "66944a87",
   "metadata": {},
   "source": [
    "Далее добавим столбец `month` в датафрейм `rides` для будущей работы с месяцами."
   ]
  },
  {
   "cell_type": "code",
   "execution_count": 7,
   "id": "fa54bbf8",
   "metadata": {},
   "outputs": [],
   "source": [
    "rides['month'] = pd.DatetimeIndex(rides['date']).month"
   ]
  },
  {
   "cell_type": "code",
   "execution_count": 8,
   "id": "4a4345e0",
   "metadata": {},
   "outputs": [
    {
     "data": {
      "text/html": [
       "<div>\n",
       "<style scoped>\n",
       "    .dataframe tbody tr th:only-of-type {\n",
       "        vertical-align: middle;\n",
       "    }\n",
       "\n",
       "    .dataframe tbody tr th {\n",
       "        vertical-align: top;\n",
       "    }\n",
       "\n",
       "    .dataframe thead th {\n",
       "        text-align: right;\n",
       "    }\n",
       "</style>\n",
       "<table border=\"1\" class=\"dataframe\">\n",
       "  <thead>\n",
       "    <tr style=\"text-align: right;\">\n",
       "      <th></th>\n",
       "      <th>user_id</th>\n",
       "      <th>distance</th>\n",
       "      <th>duration</th>\n",
       "      <th>date</th>\n",
       "      <th>month</th>\n",
       "    </tr>\n",
       "  </thead>\n",
       "  <tbody>\n",
       "    <tr>\n",
       "      <th>0</th>\n",
       "      <td>1</td>\n",
       "      <td>4409.919140</td>\n",
       "      <td>25.599769</td>\n",
       "      <td>2021-01-01</td>\n",
       "      <td>1</td>\n",
       "    </tr>\n",
       "    <tr>\n",
       "      <th>1</th>\n",
       "      <td>1</td>\n",
       "      <td>2617.592153</td>\n",
       "      <td>15.816871</td>\n",
       "      <td>2021-01-18</td>\n",
       "      <td>1</td>\n",
       "    </tr>\n",
       "    <tr>\n",
       "      <th>2</th>\n",
       "      <td>1</td>\n",
       "      <td>754.159807</td>\n",
       "      <td>6.232113</td>\n",
       "      <td>2021-04-20</td>\n",
       "      <td>4</td>\n",
       "    </tr>\n",
       "    <tr>\n",
       "      <th>3</th>\n",
       "      <td>1</td>\n",
       "      <td>2694.783254</td>\n",
       "      <td>18.511000</td>\n",
       "      <td>2021-08-11</td>\n",
       "      <td>8</td>\n",
       "    </tr>\n",
       "    <tr>\n",
       "      <th>4</th>\n",
       "      <td>1</td>\n",
       "      <td>4028.687306</td>\n",
       "      <td>26.265803</td>\n",
       "      <td>2021-08-28</td>\n",
       "      <td>8</td>\n",
       "    </tr>\n",
       "    <tr>\n",
       "      <th>5</th>\n",
       "      <td>1</td>\n",
       "      <td>2770.890808</td>\n",
       "      <td>16.650138</td>\n",
       "      <td>2021-10-09</td>\n",
       "      <td>10</td>\n",
       "    </tr>\n",
       "    <tr>\n",
       "      <th>6</th>\n",
       "      <td>1</td>\n",
       "      <td>3039.020292</td>\n",
       "      <td>14.927879</td>\n",
       "      <td>2021-10-19</td>\n",
       "      <td>10</td>\n",
       "    </tr>\n",
       "    <tr>\n",
       "      <th>7</th>\n",
       "      <td>1</td>\n",
       "      <td>2842.118050</td>\n",
       "      <td>23.117468</td>\n",
       "      <td>2021-11-06</td>\n",
       "      <td>11</td>\n",
       "    </tr>\n",
       "    <tr>\n",
       "      <th>8</th>\n",
       "      <td>1</td>\n",
       "      <td>3412.690668</td>\n",
       "      <td>15.238072</td>\n",
       "      <td>2021-11-14</td>\n",
       "      <td>11</td>\n",
       "    </tr>\n",
       "    <tr>\n",
       "      <th>9</th>\n",
       "      <td>1</td>\n",
       "      <td>748.690645</td>\n",
       "      <td>15.041884</td>\n",
       "      <td>2021-11-22</td>\n",
       "      <td>11</td>\n",
       "    </tr>\n",
       "  </tbody>\n",
       "</table>\n",
       "</div>"
      ],
      "text/plain": [
       "   user_id     distance   duration       date  month\n",
       "0        1  4409.919140  25.599769 2021-01-01      1\n",
       "1        1  2617.592153  15.816871 2021-01-18      1\n",
       "2        1   754.159807   6.232113 2021-04-20      4\n",
       "3        1  2694.783254  18.511000 2021-08-11      8\n",
       "4        1  4028.687306  26.265803 2021-08-28      8\n",
       "5        1  2770.890808  16.650138 2021-10-09     10\n",
       "6        1  3039.020292  14.927879 2021-10-19     10\n",
       "7        1  2842.118050  23.117468 2021-11-06     11\n",
       "8        1  3412.690668  15.238072 2021-11-14     11\n",
       "9        1   748.690645  15.041884 2021-11-22     11"
      ]
     },
     "metadata": {},
     "output_type": "display_data"
    },
    {
     "data": {
      "text/plain": [
       "<PeriodArray>\n",
       "['2021']\n",
       "Length: 1, dtype: period[A-DEC]"
      ]
     },
     "execution_count": 8,
     "metadata": {},
     "output_type": "execute_result"
    }
   ],
   "source": [
    "display(rides.head(10))\n",
    "rides[\"date\"].dt.to_period(\"Y\").unique()"
   ]
  },
  {
   "cell_type": "markdown",
   "id": "e08dbdcc",
   "metadata": {},
   "source": [
    "Мы добавили столбец, в который вынесли номер месяца поездки. А также узнали, что работаем с данными только за 2021 год."
   ]
  },
  {
   "cell_type": "markdown",
   "id": "cd7777da",
   "metadata": {},
   "source": [
    "Проверим датафреймы на наличие пропусков и дубликатов. Обработаем данные."
   ]
  },
  {
   "cell_type": "code",
   "execution_count": 9,
   "id": "0d39b65e",
   "metadata": {},
   "outputs": [
    {
     "name": "stdout",
     "output_type": "stream",
     "text": [
      "user_id              0\n",
      "name                 0\n",
      "age                  0\n",
      "city                 0\n",
      "subscription_type    0\n",
      "dtype: int64\n",
      "\n",
      "user_id     0\n",
      "distance    0\n",
      "duration    0\n",
      "date        0\n",
      "month       0\n",
      "dtype: int64\n",
      "\n",
      "subscription_type    0\n",
      "minute_price         0\n",
      "start_ride_price     0\n",
      "subscription_fee     0\n",
      "dtype: int64\n"
     ]
    }
   ],
   "source": [
    "print(users.isna().sum())\n",
    "print()\n",
    "print(rides.isna().sum())\n",
    "print()\n",
    "print(subs.isna().sum())"
   ]
  },
  {
   "cell_type": "markdown",
   "id": "374c9086",
   "metadata": {},
   "source": [
    "Отлично! В изучаемых данных отсутствуют пропуски."
   ]
  },
  {
   "cell_type": "markdown",
   "id": "96647a9e",
   "metadata": {},
   "source": [
    "Далее, приступим к поиску дубликатов. Чаще всего неявные дубликаты встречаются в названиях объектов(именах). Из столбцов, описывающих названия(имена), у нас `city` и `name` датафрейма `users`."
   ]
  },
  {
   "cell_type": "code",
   "execution_count": 10,
   "id": "42d62536",
   "metadata": {},
   "outputs": [
    {
     "name": "stdout",
     "output_type": "stream",
     "text": [
      "['Тюмень' 'Омск' 'Москва' 'Ростов-на-Дону' 'Краснодар' 'Пятигорск'\n",
      " 'Екатеринбург' 'Сочи']\n",
      "\n",
      "['Агата' 'Аделина' 'Адель' 'Айдар' 'Александр' 'Александра' 'Алексей'\n",
      " 'Алина' 'Алиса' 'Алия' 'Алла' 'Альберт' 'Альбина' 'Алёна' 'Амалия'\n",
      " 'Амина' 'Амир' 'Анастасия' 'Анатолий' 'Ангелина' 'Андрей' 'Анжелика'\n",
      " 'Анна' 'Антон' 'Антонина' 'Ариана' 'Арина' 'Арсен' 'Арсений' 'Артемий'\n",
      " 'Артур' 'Артём' 'Богдан' 'Борис' 'Вадим' 'Валентина' 'Валерий' 'Валерия'\n",
      " 'Варвара' 'Василий' 'Василина' 'Василиса' 'Вера' 'Вероника' 'Виктор'\n",
      " 'Виктория' 'Виолетта' 'Виталий' 'Виталина' 'Влад' 'Влада' 'Владимир'\n",
      " 'Владислав' 'Владислава' 'Всеволод' 'Вячеслав' 'Галина' 'Георгий'\n",
      " 'Герман' 'Глеб' 'Гордей' 'Григорий' 'Давид' 'Дамир' 'Даниил' 'Данил'\n",
      " 'Данила' 'Даниэль' 'Дарина' 'Дарья' 'Демид' 'Денис' 'Диана' 'Дмитрий'\n",
      " 'Ева' 'Евгений' 'Евгения' 'Егор' 'Екатерина' 'Елена' 'Елизавета' 'Елисей'\n",
      " 'Есения' 'Жанна' 'Зарина' 'Захар' 'Злата' 'Иван' 'Игнат' 'Игорь' 'Ильдар'\n",
      " 'Илья' 'Инна' 'Ирина' 'Камилла' 'Карина' 'Каролина' 'Кира' 'Кирилл'\n",
      " 'Константин' 'Кристина' 'Ксения' 'Лариса' 'Лев' 'Леонид' 'Лиана' 'Лидия'\n",
      " 'Лилия' 'Любовь' 'Людмила' 'Мадина' 'Майя' 'Макар' 'Максим' 'Марат'\n",
      " 'Маргарита' 'Марина' 'Мария' 'Марк' 'Марсель' 'Матвей' 'Мелания' 'Милана'\n",
      " 'Милена' 'Мирон' 'Мирослав' 'Мирослава' 'Михаил' 'Назар' 'Наталия'\n",
      " 'Наталья' 'Наташа' 'Нелли' 'Ника' 'Никита' 'Николай' 'Нина' 'Одиссей'\n",
      " 'Оксана' 'Олег' 'Олеся' 'Ольга' 'Павел' 'Петр' 'Платон' 'Полина' 'Радмир'\n",
      " 'Рамиль' 'Регина' 'Роберт' 'Родион' 'Роман' 'Ростислав' 'Руслан' 'Рустам'\n",
      " 'Савелий' 'Самир' 'Самира' 'Светлана' 'Святогор' 'Святослав' 'Семен'\n",
      " 'Сергей' 'Снежана' 'София' 'Софья' 'Станислав' 'Степан' 'Стефания'\n",
      " 'Таисия' 'Тамара' 'Тамерлан' 'Татьяна' 'Тимофей' 'Тимур' 'Тихон' 'Ульяна'\n",
      " 'Федор' 'Эвелина' 'Эдуард' 'Элина' 'Эльвира' 'Эльмира' 'Эмилия' 'Эмиль'\n",
      " 'Юлиана' 'Юлия' 'Юрий' 'Ян' 'Яна' 'Яромир' 'Ярослав' 'Ярослава' 'Ясмина']\n"
     ]
    }
   ],
   "source": [
    "print(users['city'].unique())\n",
    "print()\n",
    "print(users['name'].sort_values().unique())"
   ]
  },
  {
   "cell_type": "markdown",
   "id": "8ef4e69a",
   "metadata": {},
   "source": [
    "Дубликатов в данных столбцах не выявлено. "
   ]
  },
  {
   "cell_type": "markdown",
   "id": "c0b86211",
   "metadata": {},
   "source": [
    "У каждого пользователя есть свой собственный `user_id`. Посмотрим есть ли дубликаты в этом стобце и удалим их, если они присутствуют."
   ]
  },
  {
   "cell_type": "code",
   "execution_count": 11,
   "id": "2467f6de",
   "metadata": {},
   "outputs": [
    {
     "data": {
      "text/plain": [
       "209     2\n",
       "807     2\n",
       "611     2\n",
       "43      2\n",
       "737     2\n",
       "       ..\n",
       "520     1\n",
       "519     1\n",
       "518     1\n",
       "517     1\n",
       "1534    1\n",
       "Name: user_id, Length: 1534, dtype: int64"
      ]
     },
     "execution_count": 11,
     "metadata": {},
     "output_type": "execute_result"
    }
   ],
   "source": [
    "users['user_id'].value_counts()"
   ]
  },
  {
   "cell_type": "code",
   "execution_count": 12,
   "id": "a06c69bf",
   "metadata": {},
   "outputs": [],
   "source": [
    "users = users.drop_duplicates().reset_index(drop = True)"
   ]
  },
  {
   "cell_type": "markdown",
   "id": "b618450b",
   "metadata": {},
   "source": [
    "Готово. Явные дубликаты в датафрейме `users` удалены. "
   ]
  },
  {
   "cell_type": "markdown",
   "id": "1b738c5b",
   "metadata": {},
   "source": [
    "**Вывод:** На данным этапе мы выявили явные дубликаты в датафрейме `users` по айди пользователя (теперь мы знаем точное количество пользователей - **1534**). Возможно, это связано с неполадками приложения сервиса и данные дублируются."
   ]
  },
  {
   "cell_type": "markdown",
   "id": "212593c7",
   "metadata": {},
   "source": [
    "## Шаг 3. Исследовательский анализ данных"
   ]
  },
  {
   "cell_type": "code",
   "execution_count": 13,
   "id": "6a5bf801",
   "metadata": {},
   "outputs": [
    {
     "data": {
      "text/plain": [
       "city\n",
       "Екатеринбург      204\n",
       "Краснодар         193\n",
       "Москва            168\n",
       "Омск              183\n",
       "Пятигорск         219\n",
       "Ростов-на-Дону    198\n",
       "Сочи              189\n",
       "Тюмень            180\n",
       "Name: user_id, dtype: int64"
      ]
     },
     "metadata": {},
     "output_type": "display_data"
    },
    {
     "data": {
      "image/png": "[encoded data removed]",
      "text/plain": [
       "<Figure size 1080x504 with 1 Axes>"
      ]
     },
     "metadata": {
      "needs_background": "light"
     },
     "output_type": "display_data"
    }
   ],
   "source": [
    "users.groupby(\"city\")[\"user_id\"].count().sort_values(ascending=False).plot(kind='bar', figsize=(15,7), title='частота встречаемости городов');\n",
    "plt.xlabel('город');\n",
    "plt.ylabel('Количество пользователей');\n",
    "display(users.groupby(\"city\")[\"user_id\"].count())"
   ]
  },
  {
   "cell_type": "markdown",
   "id": "a09ce9a1",
   "metadata": {},
   "source": [
    "По данном графике наглядно показано количество пользователей в городах. Больше всего пользователей в Пятигорске (219), меньше всего в Москве(168)."
   ]
  },
  {
   "cell_type": "code",
   "execution_count": 14,
   "id": "cc17eb83",
   "metadata": {},
   "outputs": [
    {
     "name": "stdout",
     "output_type": "stream",
     "text": [
      "Соотношение пользователей:\n",
      "Без подписки: 0.5443285528031291\n",
      "С подпиской: 0.4556714471968709\n"
     ]
    },
    {
     "data": {
      "image/png": "[encoded data removed]",
      "text/plain": [
       "<Figure size 720x576 with 1 Axes>"
      ]
     },
     "metadata": {},
     "output_type": "display_data"
    }
   ],
   "source": [
    "users.groupby(\"subscription_type\")[\"user_id\"].count().plot(kind='pie', figsize=(10,8), title='соотношение пользователей с подпиской и без подписки');\n",
    "plt.ylabel('Доля от общего числа пользователей');\n",
    "\n",
    "print('Соотношение пользователей:')\n",
    "print('Без подписки:', len(users.loc[users['subscription_type'] == 'free']) / 1534)\n",
    "print('С подпиской:', len(users.loc[users['subscription_type'] == 'ultra']) / 1534)"
   ]
  },
  {
   "cell_type": "markdown",
   "id": "95422c3c",
   "metadata": {},
   "source": [
    "Пользователей с подпиской 45.6% от общего числа пользователей, без подписки 54.4%, соответственно. Пользователей без подписки больше, чем с подпиской."
   ]
  },
  {
   "cell_type": "code",
   "execution_count": 15,
   "id": "1c4929bc",
   "metadata": {},
   "outputs": [
    {
     "data": {
      "image/png": "[encoded data removed]",
      "text/plain": [
       "<Figure size 720x360 with 1 Axes>"
      ]
     },
     "metadata": {
      "needs_background": "light"
     },
     "output_type": "display_data"
    }
   ],
   "source": [
    "users['age'].sort_values().hist(bins=30, figsize=(10, 5));\n",
    "plt.xlabel('Возраст');\n",
    "plt.ylabel('Количество пользователей');"
   ]
  },
  {
   "cell_type": "markdown",
   "id": "32695afc",
   "metadata": {},
   "source": [
    "Основная масса пользователей в возрасте от 20 до 30 лет. Больше всего пользователей возрастом около 25 лет. "
   ]
  },
  {
   "cell_type": "code",
   "execution_count": 16,
   "id": "bc8ab186",
   "metadata": {},
   "outputs": [
    {
     "data": {
      "image/png": "[encoded data removed]",
      "text/plain": [
       "<Figure size 720x360 with 1 Axes>"
      ]
     },
     "metadata": {
      "needs_background": "light"
     },
     "output_type": "display_data"
    }
   ],
   "source": [
    "rides['distance'].sort_values().hist(bins=100, figsize=(10, 5));\n",
    "plt.xlabel('Дистанция поездки');\n",
    "plt.ylabel('Количество пользователей');"
   ]
  },
  {
   "cell_type": "markdown",
   "id": "e028bde1",
   "metadata": {},
   "source": [
    "Чаще всего пользователи совершают поездки от 2000м до 4500м. Также можно наблюдать небольшой пик в области 0-1500. Можно предположить:\n",
    "- некоторые пользователи были недовольны поездкой и прекратили ее не добравшись до пунка \"B\"\n",
    "- некоторые пользователи пользуются самокатами для быстрого преодоления небольшого расстояния, когда опаздывают\n",
    "- некоторые пользователи не имеют достаточно финансов для продолжительной поездки (предположительно дети, которые просто решили покататься) \n",
    "- некоторые пользователи передумали пользоваться самокатом"
   ]
  },
  {
   "cell_type": "code",
   "execution_count": 17,
   "id": "74bf13df",
   "metadata": {},
   "outputs": [
    {
     "data": {
      "image/png": "[encoded data removed]",
      "text/plain": [
       "<Figure size 720x360 with 1 Axes>"
      ]
     },
     "metadata": {
      "needs_background": "light"
     },
     "output_type": "display_data"
    }
   ],
   "source": [
    "rides['duration'].sort_values().hist(bins=100, figsize=(10, 5));\n",
    "plt.xlabel('Продолжительность поездки');\n",
    "plt.ylabel('Количество пользователей');"
   ]
  },
  {
   "cell_type": "markdown",
   "id": "d3675e5a",
   "metadata": {},
   "source": [
    "По данной гистограмме также видим нормальное распределение с пиком около 17-18 минут. Наблюдается выброс, около 100 пользователей прекратили поездку в первую же минуту. Это может быть связано:\n",
    "- с неисправностью самоката\n",
    "- пользователь передумал пользоваться самокатом\n",
    "- у пользователя отсутствовали финансы на дальнейшее использование самоката после бесплатного старта"
   ]
  },
  {
   "cell_type": "markdown",
   "id": "ed6e475c",
   "metadata": {},
   "source": [
    "**Вывод:** Можно сделать следующие выводы:\n",
    "- Больше всего пользователей в Пятигорске, менее всего в Москве\n",
    "- Пользователей без подписки больше, чем с подпиской\n",
    "- Основная масса пользователей в возрасте от 20 до 30 лет\n",
    "- Чаще всего пользователи совершают поездки от 2000м до 4500м"
   ]
  },
  {
   "cell_type": "markdown",
   "id": "4ef51331",
   "metadata": {},
   "source": [
    "## Шаг 4. Объединение данных"
   ]
  },
  {
   "cell_type": "markdown",
   "id": "294e0ff8",
   "metadata": {},
   "source": [
    "Объединим данные о пользователях, поездках и подписках в один датафрейм. "
   ]
  },
  {
   "cell_type": "code",
   "execution_count": 18,
   "id": "5ab587ad",
   "metadata": {},
   "outputs": [
    {
     "data": {
      "text/html": [
       "<div>\n",
       "<style scoped>\n",
       "    .dataframe tbody tr th:only-of-type {\n",
       "        vertical-align: middle;\n",
       "    }\n",
       "\n",
       "    .dataframe tbody tr th {\n",
       "        vertical-align: top;\n",
       "    }\n",
       "\n",
       "    .dataframe thead th {\n",
       "        text-align: right;\n",
       "    }\n",
       "</style>\n",
       "<table border=\"1\" class=\"dataframe\">\n",
       "  <thead>\n",
       "    <tr style=\"text-align: right;\">\n",
       "      <th></th>\n",
       "      <th>user_id</th>\n",
       "      <th>name</th>\n",
       "      <th>age</th>\n",
       "      <th>city</th>\n",
       "      <th>subscription_type</th>\n",
       "      <th>distance</th>\n",
       "      <th>duration</th>\n",
       "      <th>date</th>\n",
       "      <th>month</th>\n",
       "      <th>minute_price</th>\n",
       "      <th>start_ride_price</th>\n",
       "      <th>subscription_fee</th>\n",
       "    </tr>\n",
       "  </thead>\n",
       "  <tbody>\n",
       "    <tr>\n",
       "      <th>0</th>\n",
       "      <td>1</td>\n",
       "      <td>Кира</td>\n",
       "      <td>22</td>\n",
       "      <td>Тюмень</td>\n",
       "      <td>ultra</td>\n",
       "      <td>4409.919140</td>\n",
       "      <td>25.599769</td>\n",
       "      <td>2021-01-01</td>\n",
       "      <td>1</td>\n",
       "      <td>6</td>\n",
       "      <td>0</td>\n",
       "      <td>199</td>\n",
       "    </tr>\n",
       "    <tr>\n",
       "      <th>1</th>\n",
       "      <td>1</td>\n",
       "      <td>Кира</td>\n",
       "      <td>22</td>\n",
       "      <td>Тюмень</td>\n",
       "      <td>ultra</td>\n",
       "      <td>2617.592153</td>\n",
       "      <td>15.816871</td>\n",
       "      <td>2021-01-18</td>\n",
       "      <td>1</td>\n",
       "      <td>6</td>\n",
       "      <td>0</td>\n",
       "      <td>199</td>\n",
       "    </tr>\n",
       "    <tr>\n",
       "      <th>2</th>\n",
       "      <td>1</td>\n",
       "      <td>Кира</td>\n",
       "      <td>22</td>\n",
       "      <td>Тюмень</td>\n",
       "      <td>ultra</td>\n",
       "      <td>754.159807</td>\n",
       "      <td>6.232113</td>\n",
       "      <td>2021-04-20</td>\n",
       "      <td>4</td>\n",
       "      <td>6</td>\n",
       "      <td>0</td>\n",
       "      <td>199</td>\n",
       "    </tr>\n",
       "    <tr>\n",
       "      <th>3</th>\n",
       "      <td>1</td>\n",
       "      <td>Кира</td>\n",
       "      <td>22</td>\n",
       "      <td>Тюмень</td>\n",
       "      <td>ultra</td>\n",
       "      <td>2694.783254</td>\n",
       "      <td>18.511000</td>\n",
       "      <td>2021-08-11</td>\n",
       "      <td>8</td>\n",
       "      <td>6</td>\n",
       "      <td>0</td>\n",
       "      <td>199</td>\n",
       "    </tr>\n",
       "    <tr>\n",
       "      <th>4</th>\n",
       "      <td>1</td>\n",
       "      <td>Кира</td>\n",
       "      <td>22</td>\n",
       "      <td>Тюмень</td>\n",
       "      <td>ultra</td>\n",
       "      <td>4028.687306</td>\n",
       "      <td>26.265803</td>\n",
       "      <td>2021-08-28</td>\n",
       "      <td>8</td>\n",
       "      <td>6</td>\n",
       "      <td>0</td>\n",
       "      <td>199</td>\n",
       "    </tr>\n",
       "    <tr>\n",
       "      <th>...</th>\n",
       "      <td>...</td>\n",
       "      <td>...</td>\n",
       "      <td>...</td>\n",
       "      <td>...</td>\n",
       "      <td>...</td>\n",
       "      <td>...</td>\n",
       "      <td>...</td>\n",
       "      <td>...</td>\n",
       "      <td>...</td>\n",
       "      <td>...</td>\n",
       "      <td>...</td>\n",
       "      <td>...</td>\n",
       "    </tr>\n",
       "    <tr>\n",
       "      <th>18063</th>\n",
       "      <td>1534</td>\n",
       "      <td>Альберт</td>\n",
       "      <td>25</td>\n",
       "      <td>Краснодар</td>\n",
       "      <td>free</td>\n",
       "      <td>3781.098080</td>\n",
       "      <td>19.822962</td>\n",
       "      <td>2021-11-04</td>\n",
       "      <td>11</td>\n",
       "      <td>8</td>\n",
       "      <td>50</td>\n",
       "      <td>0</td>\n",
       "    </tr>\n",
       "    <tr>\n",
       "      <th>18064</th>\n",
       "      <td>1534</td>\n",
       "      <td>Альберт</td>\n",
       "      <td>25</td>\n",
       "      <td>Краснодар</td>\n",
       "      <td>free</td>\n",
       "      <td>2840.423057</td>\n",
       "      <td>21.409799</td>\n",
       "      <td>2021-11-16</td>\n",
       "      <td>11</td>\n",
       "      <td>8</td>\n",
       "      <td>50</td>\n",
       "      <td>0</td>\n",
       "    </tr>\n",
       "    <tr>\n",
       "      <th>18065</th>\n",
       "      <td>1534</td>\n",
       "      <td>Альберт</td>\n",
       "      <td>25</td>\n",
       "      <td>Краснодар</td>\n",
       "      <td>free</td>\n",
       "      <td>3826.185507</td>\n",
       "      <td>18.435051</td>\n",
       "      <td>2021-11-18</td>\n",
       "      <td>11</td>\n",
       "      <td>8</td>\n",
       "      <td>50</td>\n",
       "      <td>0</td>\n",
       "    </tr>\n",
       "    <tr>\n",
       "      <th>18066</th>\n",
       "      <td>1534</td>\n",
       "      <td>Альберт</td>\n",
       "      <td>25</td>\n",
       "      <td>Краснодар</td>\n",
       "      <td>free</td>\n",
       "      <td>2902.308661</td>\n",
       "      <td>16.674362</td>\n",
       "      <td>2021-11-27</td>\n",
       "      <td>11</td>\n",
       "      <td>8</td>\n",
       "      <td>50</td>\n",
       "      <td>0</td>\n",
       "    </tr>\n",
       "    <tr>\n",
       "      <th>18067</th>\n",
       "      <td>1534</td>\n",
       "      <td>Альберт</td>\n",
       "      <td>25</td>\n",
       "      <td>Краснодар</td>\n",
       "      <td>free</td>\n",
       "      <td>2371.711192</td>\n",
       "      <td>15.893917</td>\n",
       "      <td>2021-12-29</td>\n",
       "      <td>12</td>\n",
       "      <td>8</td>\n",
       "      <td>50</td>\n",
       "      <td>0</td>\n",
       "    </tr>\n",
       "  </tbody>\n",
       "</table>\n",
       "<p>18068 rows × 12 columns</p>\n",
       "</div>"
      ],
      "text/plain": [
       "       user_id     name  age       city subscription_type     distance  \\\n",
       "0            1     Кира   22     Тюмень             ultra  4409.919140   \n",
       "1            1     Кира   22     Тюмень             ultra  2617.592153   \n",
       "2            1     Кира   22     Тюмень             ultra   754.159807   \n",
       "3            1     Кира   22     Тюмень             ultra  2694.783254   \n",
       "4            1     Кира   22     Тюмень             ultra  4028.687306   \n",
       "...        ...      ...  ...        ...               ...          ...   \n",
       "18063     1534  Альберт   25  Краснодар              free  3781.098080   \n",
       "18064     1534  Альберт   25  Краснодар              free  2840.423057   \n",
       "18065     1534  Альберт   25  Краснодар              free  3826.185507   \n",
       "18066     1534  Альберт   25  Краснодар              free  2902.308661   \n",
       "18067     1534  Альберт   25  Краснодар              free  2371.711192   \n",
       "\n",
       "        duration       date  month  minute_price  start_ride_price  \\\n",
       "0      25.599769 2021-01-01      1             6                 0   \n",
       "1      15.816871 2021-01-18      1             6                 0   \n",
       "2       6.232113 2021-04-20      4             6                 0   \n",
       "3      18.511000 2021-08-11      8             6                 0   \n",
       "4      26.265803 2021-08-28      8             6                 0   \n",
       "...          ...        ...    ...           ...               ...   \n",
       "18063  19.822962 2021-11-04     11             8                50   \n",
       "18064  21.409799 2021-11-16     11             8                50   \n",
       "18065  18.435051 2021-11-18     11             8                50   \n",
       "18066  16.674362 2021-11-27     11             8                50   \n",
       "18067  15.893917 2021-12-29     12             8                50   \n",
       "\n",
       "       subscription_fee  \n",
       "0                   199  \n",
       "1                   199  \n",
       "2                   199  \n",
       "3                   199  \n",
       "4                   199  \n",
       "...                 ...  \n",
       "18063                 0  \n",
       "18064                 0  \n",
       "18065                 0  \n",
       "18066                 0  \n",
       "18067                 0  \n",
       "\n",
       "[18068 rows x 12 columns]"
      ]
     },
     "execution_count": 18,
     "metadata": {},
     "output_type": "execute_result"
    }
   ],
   "source": [
    "all_info = users.merge(\n",
    "rides,\n",
    "on='user_id', \n",
    ")\n",
    "\n",
    "all_info = all_info.merge(\n",
    "subs,\n",
    "on='subscription_type',\n",
    ")\n",
    "\n",
    "all_info"
   ]
  },
  {
   "cell_type": "markdown",
   "id": "7ab9eeaa",
   "metadata": {},
   "source": [
    "Создадим из полученной таблицы еще 2 датафрейма, в которых разделим пользователей с подпиской и без нее."
   ]
  },
  {
   "cell_type": "code",
   "execution_count": 19,
   "id": "c8aae233",
   "metadata": {},
   "outputs": [
    {
     "data": {
      "text/html": [
       "<div>\n",
       "<style scoped>\n",
       "    .dataframe tbody tr th:only-of-type {\n",
       "        vertical-align: middle;\n",
       "    }\n",
       "\n",
       "    .dataframe tbody tr th {\n",
       "        vertical-align: top;\n",
       "    }\n",
       "\n",
       "    .dataframe thead th {\n",
       "        text-align: right;\n",
       "    }\n",
       "</style>\n",
       "<table border=\"1\" class=\"dataframe\">\n",
       "  <thead>\n",
       "    <tr style=\"text-align: right;\">\n",
       "      <th></th>\n",
       "      <th>user_id</th>\n",
       "      <th>name</th>\n",
       "      <th>age</th>\n",
       "      <th>city</th>\n",
       "      <th>subscription_type</th>\n",
       "      <th>distance</th>\n",
       "      <th>duration</th>\n",
       "      <th>date</th>\n",
       "      <th>month</th>\n",
       "      <th>minute_price</th>\n",
       "      <th>start_ride_price</th>\n",
       "      <th>subscription_fee</th>\n",
       "    </tr>\n",
       "  </thead>\n",
       "  <tbody>\n",
       "    <tr>\n",
       "      <th>0</th>\n",
       "      <td>1</td>\n",
       "      <td>Кира</td>\n",
       "      <td>22</td>\n",
       "      <td>Тюмень</td>\n",
       "      <td>ultra</td>\n",
       "      <td>4409.919140</td>\n",
       "      <td>26.0</td>\n",
       "      <td>2021-01-01</td>\n",
       "      <td>1</td>\n",
       "      <td>6</td>\n",
       "      <td>0</td>\n",
       "      <td>199</td>\n",
       "    </tr>\n",
       "    <tr>\n",
       "      <th>1</th>\n",
       "      <td>1</td>\n",
       "      <td>Кира</td>\n",
       "      <td>22</td>\n",
       "      <td>Тюмень</td>\n",
       "      <td>ultra</td>\n",
       "      <td>2617.592153</td>\n",
       "      <td>16.0</td>\n",
       "      <td>2021-01-18</td>\n",
       "      <td>1</td>\n",
       "      <td>6</td>\n",
       "      <td>0</td>\n",
       "      <td>199</td>\n",
       "    </tr>\n",
       "    <tr>\n",
       "      <th>2</th>\n",
       "      <td>1</td>\n",
       "      <td>Кира</td>\n",
       "      <td>22</td>\n",
       "      <td>Тюмень</td>\n",
       "      <td>ultra</td>\n",
       "      <td>754.159807</td>\n",
       "      <td>7.0</td>\n",
       "      <td>2021-04-20</td>\n",
       "      <td>4</td>\n",
       "      <td>6</td>\n",
       "      <td>0</td>\n",
       "      <td>199</td>\n",
       "    </tr>\n",
       "    <tr>\n",
       "      <th>3</th>\n",
       "      <td>1</td>\n",
       "      <td>Кира</td>\n",
       "      <td>22</td>\n",
       "      <td>Тюмень</td>\n",
       "      <td>ultra</td>\n",
       "      <td>2694.783254</td>\n",
       "      <td>19.0</td>\n",
       "      <td>2021-08-11</td>\n",
       "      <td>8</td>\n",
       "      <td>6</td>\n",
       "      <td>0</td>\n",
       "      <td>199</td>\n",
       "    </tr>\n",
       "    <tr>\n",
       "      <th>4</th>\n",
       "      <td>1</td>\n",
       "      <td>Кира</td>\n",
       "      <td>22</td>\n",
       "      <td>Тюмень</td>\n",
       "      <td>ultra</td>\n",
       "      <td>4028.687306</td>\n",
       "      <td>27.0</td>\n",
       "      <td>2021-08-28</td>\n",
       "      <td>8</td>\n",
       "      <td>6</td>\n",
       "      <td>0</td>\n",
       "      <td>199</td>\n",
       "    </tr>\n",
       "    <tr>\n",
       "      <th>5</th>\n",
       "      <td>1</td>\n",
       "      <td>Кира</td>\n",
       "      <td>22</td>\n",
       "      <td>Тюмень</td>\n",
       "      <td>ultra</td>\n",
       "      <td>2770.890808</td>\n",
       "      <td>17.0</td>\n",
       "      <td>2021-10-09</td>\n",
       "      <td>10</td>\n",
       "      <td>6</td>\n",
       "      <td>0</td>\n",
       "      <td>199</td>\n",
       "    </tr>\n",
       "    <tr>\n",
       "      <th>6</th>\n",
       "      <td>1</td>\n",
       "      <td>Кира</td>\n",
       "      <td>22</td>\n",
       "      <td>Тюмень</td>\n",
       "      <td>ultra</td>\n",
       "      <td>3039.020292</td>\n",
       "      <td>15.0</td>\n",
       "      <td>2021-10-19</td>\n",
       "      <td>10</td>\n",
       "      <td>6</td>\n",
       "      <td>0</td>\n",
       "      <td>199</td>\n",
       "    </tr>\n",
       "    <tr>\n",
       "      <th>7</th>\n",
       "      <td>1</td>\n",
       "      <td>Кира</td>\n",
       "      <td>22</td>\n",
       "      <td>Тюмень</td>\n",
       "      <td>ultra</td>\n",
       "      <td>2842.118050</td>\n",
       "      <td>24.0</td>\n",
       "      <td>2021-11-06</td>\n",
       "      <td>11</td>\n",
       "      <td>6</td>\n",
       "      <td>0</td>\n",
       "      <td>199</td>\n",
       "    </tr>\n",
       "    <tr>\n",
       "      <th>8</th>\n",
       "      <td>1</td>\n",
       "      <td>Кира</td>\n",
       "      <td>22</td>\n",
       "      <td>Тюмень</td>\n",
       "      <td>ultra</td>\n",
       "      <td>3412.690668</td>\n",
       "      <td>16.0</td>\n",
       "      <td>2021-11-14</td>\n",
       "      <td>11</td>\n",
       "      <td>6</td>\n",
       "      <td>0</td>\n",
       "      <td>199</td>\n",
       "    </tr>\n",
       "    <tr>\n",
       "      <th>9</th>\n",
       "      <td>1</td>\n",
       "      <td>Кира</td>\n",
       "      <td>22</td>\n",
       "      <td>Тюмень</td>\n",
       "      <td>ultra</td>\n",
       "      <td>748.690645</td>\n",
       "      <td>16.0</td>\n",
       "      <td>2021-11-22</td>\n",
       "      <td>11</td>\n",
       "      <td>6</td>\n",
       "      <td>0</td>\n",
       "      <td>199</td>\n",
       "    </tr>\n",
       "  </tbody>\n",
       "</table>\n",
       "</div>"
      ],
      "text/plain": [
       "   user_id  name  age    city subscription_type     distance  duration  \\\n",
       "0        1  Кира   22  Тюмень             ultra  4409.919140      26.0   \n",
       "1        1  Кира   22  Тюмень             ultra  2617.592153      16.0   \n",
       "2        1  Кира   22  Тюмень             ultra   754.159807       7.0   \n",
       "3        1  Кира   22  Тюмень             ultra  2694.783254      19.0   \n",
       "4        1  Кира   22  Тюмень             ultra  4028.687306      27.0   \n",
       "5        1  Кира   22  Тюмень             ultra  2770.890808      17.0   \n",
       "6        1  Кира   22  Тюмень             ultra  3039.020292      15.0   \n",
       "7        1  Кира   22  Тюмень             ultra  2842.118050      24.0   \n",
       "8        1  Кира   22  Тюмень             ultra  3412.690668      16.0   \n",
       "9        1  Кира   22  Тюмень             ultra   748.690645      16.0   \n",
       "\n",
       "        date  month  minute_price  start_ride_price  subscription_fee  \n",
       "0 2021-01-01      1             6                 0               199  \n",
       "1 2021-01-18      1             6                 0               199  \n",
       "2 2021-04-20      4             6                 0               199  \n",
       "3 2021-08-11      8             6                 0               199  \n",
       "4 2021-08-28      8             6                 0               199  \n",
       "5 2021-10-09     10             6                 0               199  \n",
       "6 2021-10-19     10             6                 0               199  \n",
       "7 2021-11-06     11             6                 0               199  \n",
       "8 2021-11-14     11             6                 0               199  \n",
       "9 2021-11-22     11             6                 0               199  "
      ]
     },
     "metadata": {},
     "output_type": "display_data"
    },
    {
     "data": {
      "text/html": [
       "<div>\n",
       "<style scoped>\n",
       "    .dataframe tbody tr th:only-of-type {\n",
       "        vertical-align: middle;\n",
       "    }\n",
       "\n",
       "    .dataframe tbody tr th {\n",
       "        vertical-align: top;\n",
       "    }\n",
       "\n",
       "    .dataframe thead th {\n",
       "        text-align: right;\n",
       "    }\n",
       "</style>\n",
       "<table border=\"1\" class=\"dataframe\">\n",
       "  <thead>\n",
       "    <tr style=\"text-align: right;\">\n",
       "      <th></th>\n",
       "      <th>user_id</th>\n",
       "      <th>name</th>\n",
       "      <th>age</th>\n",
       "      <th>city</th>\n",
       "      <th>subscription_type</th>\n",
       "      <th>distance</th>\n",
       "      <th>duration</th>\n",
       "      <th>date</th>\n",
       "      <th>month</th>\n",
       "      <th>minute_price</th>\n",
       "      <th>start_ride_price</th>\n",
       "      <th>subscription_fee</th>\n",
       "    </tr>\n",
       "  </thead>\n",
       "  <tbody>\n",
       "    <tr>\n",
       "      <th>6500</th>\n",
       "      <td>700</td>\n",
       "      <td>Айдар</td>\n",
       "      <td>22</td>\n",
       "      <td>Омск</td>\n",
       "      <td>free</td>\n",
       "      <td>2515.690719</td>\n",
       "      <td>15.0</td>\n",
       "      <td>2021-01-02</td>\n",
       "      <td>1</td>\n",
       "      <td>8</td>\n",
       "      <td>50</td>\n",
       "      <td>0</td>\n",
       "    </tr>\n",
       "    <tr>\n",
       "      <th>6501</th>\n",
       "      <td>700</td>\n",
       "      <td>Айдар</td>\n",
       "      <td>22</td>\n",
       "      <td>Омск</td>\n",
       "      <td>free</td>\n",
       "      <td>846.932642</td>\n",
       "      <td>17.0</td>\n",
       "      <td>2021-02-01</td>\n",
       "      <td>2</td>\n",
       "      <td>8</td>\n",
       "      <td>50</td>\n",
       "      <td>0</td>\n",
       "    </tr>\n",
       "    <tr>\n",
       "      <th>6502</th>\n",
       "      <td>700</td>\n",
       "      <td>Айдар</td>\n",
       "      <td>22</td>\n",
       "      <td>Омск</td>\n",
       "      <td>free</td>\n",
       "      <td>4004.434142</td>\n",
       "      <td>21.0</td>\n",
       "      <td>2021-02-04</td>\n",
       "      <td>2</td>\n",
       "      <td>8</td>\n",
       "      <td>50</td>\n",
       "      <td>0</td>\n",
       "    </tr>\n",
       "    <tr>\n",
       "      <th>6503</th>\n",
       "      <td>700</td>\n",
       "      <td>Айдар</td>\n",
       "      <td>22</td>\n",
       "      <td>Омск</td>\n",
       "      <td>free</td>\n",
       "      <td>1205.911290</td>\n",
       "      <td>10.0</td>\n",
       "      <td>2021-02-10</td>\n",
       "      <td>2</td>\n",
       "      <td>8</td>\n",
       "      <td>50</td>\n",
       "      <td>0</td>\n",
       "    </tr>\n",
       "    <tr>\n",
       "      <th>6504</th>\n",
       "      <td>700</td>\n",
       "      <td>Айдар</td>\n",
       "      <td>22</td>\n",
       "      <td>Омск</td>\n",
       "      <td>free</td>\n",
       "      <td>3047.379435</td>\n",
       "      <td>18.0</td>\n",
       "      <td>2021-02-14</td>\n",
       "      <td>2</td>\n",
       "      <td>8</td>\n",
       "      <td>50</td>\n",
       "      <td>0</td>\n",
       "    </tr>\n",
       "    <tr>\n",
       "      <th>6505</th>\n",
       "      <td>700</td>\n",
       "      <td>Айдар</td>\n",
       "      <td>22</td>\n",
       "      <td>Омск</td>\n",
       "      <td>free</td>\n",
       "      <td>4342.002254</td>\n",
       "      <td>23.0</td>\n",
       "      <td>2021-02-23</td>\n",
       "      <td>2</td>\n",
       "      <td>8</td>\n",
       "      <td>50</td>\n",
       "      <td>0</td>\n",
       "    </tr>\n",
       "    <tr>\n",
       "      <th>6506</th>\n",
       "      <td>700</td>\n",
       "      <td>Айдар</td>\n",
       "      <td>22</td>\n",
       "      <td>Омск</td>\n",
       "      <td>free</td>\n",
       "      <td>3798.334905</td>\n",
       "      <td>19.0</td>\n",
       "      <td>2021-03-03</td>\n",
       "      <td>3</td>\n",
       "      <td>8</td>\n",
       "      <td>50</td>\n",
       "      <td>0</td>\n",
       "    </tr>\n",
       "    <tr>\n",
       "      <th>6507</th>\n",
       "      <td>700</td>\n",
       "      <td>Айдар</td>\n",
       "      <td>22</td>\n",
       "      <td>Омск</td>\n",
       "      <td>free</td>\n",
       "      <td>2984.551206</td>\n",
       "      <td>16.0</td>\n",
       "      <td>2021-04-09</td>\n",
       "      <td>4</td>\n",
       "      <td>8</td>\n",
       "      <td>50</td>\n",
       "      <td>0</td>\n",
       "    </tr>\n",
       "    <tr>\n",
       "      <th>6508</th>\n",
       "      <td>700</td>\n",
       "      <td>Айдар</td>\n",
       "      <td>22</td>\n",
       "      <td>Омск</td>\n",
       "      <td>free</td>\n",
       "      <td>3360.107141</td>\n",
       "      <td>17.0</td>\n",
       "      <td>2021-06-12</td>\n",
       "      <td>6</td>\n",
       "      <td>8</td>\n",
       "      <td>50</td>\n",
       "      <td>0</td>\n",
       "    </tr>\n",
       "    <tr>\n",
       "      <th>6509</th>\n",
       "      <td>700</td>\n",
       "      <td>Айдар</td>\n",
       "      <td>22</td>\n",
       "      <td>Омск</td>\n",
       "      <td>free</td>\n",
       "      <td>2567.543847</td>\n",
       "      <td>12.0</td>\n",
       "      <td>2021-06-23</td>\n",
       "      <td>6</td>\n",
       "      <td>8</td>\n",
       "      <td>50</td>\n",
       "      <td>0</td>\n",
       "    </tr>\n",
       "  </tbody>\n",
       "</table>\n",
       "</div>"
      ],
      "text/plain": [
       "      user_id   name  age  city subscription_type     distance  duration  \\\n",
       "6500      700  Айдар   22  Омск              free  2515.690719      15.0   \n",
       "6501      700  Айдар   22  Омск              free   846.932642      17.0   \n",
       "6502      700  Айдар   22  Омск              free  4004.434142      21.0   \n",
       "6503      700  Айдар   22  Омск              free  1205.911290      10.0   \n",
       "6504      700  Айдар   22  Омск              free  3047.379435      18.0   \n",
       "6505      700  Айдар   22  Омск              free  4342.002254      23.0   \n",
       "6506      700  Айдар   22  Омск              free  3798.334905      19.0   \n",
       "6507      700  Айдар   22  Омск              free  2984.551206      16.0   \n",
       "6508      700  Айдар   22  Омск              free  3360.107141      17.0   \n",
       "6509      700  Айдар   22  Омск              free  2567.543847      12.0   \n",
       "\n",
       "           date  month  minute_price  start_ride_price  subscription_fee  \n",
       "6500 2021-01-02      1             8                50                 0  \n",
       "6501 2021-02-01      2             8                50                 0  \n",
       "6502 2021-02-04      2             8                50                 0  \n",
       "6503 2021-02-10      2             8                50                 0  \n",
       "6504 2021-02-14      2             8                50                 0  \n",
       "6505 2021-02-23      2             8                50                 0  \n",
       "6506 2021-03-03      3             8                50                 0  \n",
       "6507 2021-04-09      4             8                50                 0  \n",
       "6508 2021-06-12      6             8                50                 0  \n",
       "6509 2021-06-23      6             8                50                 0  "
      ]
     },
     "metadata": {},
     "output_type": "display_data"
    }
   ],
   "source": [
    "ultra_subs = all_info.loc[all_info['subscription_type'] == 'ultra']\n",
    "free_subs = all_info.loc[all_info['subscription_type'] == 'free']\n",
    "ultra_subs['duration'] = np.ceil(ultra_subs['duration'])\n",
    "free_subs['duration'] = np.ceil(free_subs['duration'])\n",
    "\n",
    "display(ultra_subs.head(10))\n",
    "display(free_subs.head(10))"
   ]
  },
  {
   "cell_type": "markdown",
   "id": "84546af3",
   "metadata": {},
   "source": [
    "Изучим информацию о расстоянии и времени поездок для каждой группы пользователей."
   ]
  },
  {
   "cell_type": "code",
   "execution_count": 20,
   "id": "feca4863",
   "metadata": {},
   "outputs": [
    {
     "data": {
      "image/png": "[encoded data removed]",
      "text/plain": [
       "<Figure size 720x360 with 1 Axes>"
      ]
     },
     "metadata": {
      "needs_background": "light"
     },
     "output_type": "display_data"
    }
   ],
   "source": [
    "ultra_subs['distance'].sort_values().hist(bins=100, figsize=(10, 5));\n",
    "plt.xlabel('Дистанция поездки');\n",
    "plt.ylabel('Количество пользователей');"
   ]
  },
  {
   "cell_type": "code",
   "execution_count": 21,
   "id": "c18623c2",
   "metadata": {},
   "outputs": [
    {
     "data": {
      "image/png": "[encoded data removed]",
      "text/plain": [
       "<Figure size 720x360 with 1 Axes>"
      ]
     },
     "metadata": {
      "needs_background": "light"
     },
     "output_type": "display_data"
    }
   ],
   "source": [
    "ultra_subs['duration'].sort_values().hist(bins=100, figsize=(10, 5));\n",
    "plt.xlabel('Длительность поездки');\n",
    "plt.ylabel('Количество пользователей');"
   ]
  },
  {
   "cell_type": "markdown",
   "id": "4f6ab9e5",
   "metadata": {},
   "source": [
    "Дистанция поездок у пользователей с подпиской в основном варьируется между значениями 2500-4000 метров. Время же поездок для этих пользователей от 10 до 25 минут. неплохие показатели для GoFast!"
   ]
  },
  {
   "cell_type": "code",
   "execution_count": 22,
   "id": "254d3925",
   "metadata": {},
   "outputs": [
    {
     "data": {
      "image/png": "[encoded data removed]",
      "text/plain": [
       "<Figure size 720x360 with 1 Axes>"
      ]
     },
     "metadata": {
      "needs_background": "light"
     },
     "output_type": "display_data"
    }
   ],
   "source": [
    "free_subs['distance'].sort_values().hist(bins=100, figsize=(10, 5));\n",
    "plt.xlabel('Дистанция поездки');\n",
    "plt.ylabel('Количество пользователей');"
   ]
  },
  {
   "cell_type": "code",
   "execution_count": 23,
   "id": "bd99cabc",
   "metadata": {},
   "outputs": [
    {
     "data": {
      "image/png": "[encoded data removed]",
      "text/plain": [
       "<Figure size 720x360 with 1 Axes>"
      ]
     },
     "metadata": {
      "needs_background": "light"
     },
     "output_type": "display_data"
    }
   ],
   "source": [
    "free_subs['duration'].sort_values().hist(bins=100, figsize=(10, 5));\n",
    "plt.xlabel('Длительность поездки');\n",
    "plt.ylabel('Количество пользователей');"
   ]
  },
  {
   "cell_type": "markdown",
   "id": "3d030a8b",
   "metadata": {},
   "source": [
    "Для пользователей без подписки дистанция поездок варьируется между 2000-4.500м. Длительность поездок данных пользователей от 10 до 25 минут. По этим гистограммам заметно, что многие пользователи без подписки намного чаще проедолевают расстояние до 1000м и виден выброс в длительности поездки в 1 минуту. Можно предположить, что это новые пользователи, которые не ознакомились со стоимостью поездки и после первой же минуты при отсутствии финансов поездка завершалась.   "
   ]
  },
  {
   "cell_type": "markdown",
   "id": "17c894b5",
   "metadata": {},
   "source": [
    "Также можно сделать вывод, что пользователи с подпиской часто пользуются самокатами чтобы добраться до определенной точки \"B\", соответственно знают зачем начинают поездку. Пользователи же без подписки, скорее всего гуляют, либо пользуются самокатом в случае необходимости, поэтому расстояние и длительсность поездок варьируется в большом диапазоне."
   ]
  },
  {
   "cell_type": "markdown",
   "id": "402d620f",
   "metadata": {},
   "source": [
    "## Шаг 5. Подсчёт выручки"
   ]
  },
  {
   "cell_type": "markdown",
   "id": "f9b46956",
   "metadata": {},
   "source": [
    "**Узнаем помесячную выручку, которую принес каждый пользователь.**"
   ]
  },
  {
   "cell_type": "markdown",
   "id": "b4fefd4b",
   "metadata": {},
   "source": [
    "Для этого сгруппируем данные датафрейма `all_info` по пользователям и месяцу их поездки. Далее добавим функции к столбцам `date`, `distance` и `duration`. Для удобства переименуем получившийся столбец `date` в `rides_total` (указанный месяц у нас в колонке `month`. Добавим столбцы, необходимые для подсчета выручки и посчитаем ее. Добавим столбец с получившимися результатами. "
   ]
  },
  {
   "cell_type": "code",
   "execution_count": 24,
   "id": "d9e450db",
   "metadata": {},
   "outputs": [
    {
     "data": {
      "text/html": [
       "<div>\n",
       "<style scoped>\n",
       "    .dataframe tbody tr th:only-of-type {\n",
       "        vertical-align: middle;\n",
       "    }\n",
       "\n",
       "    .dataframe tbody tr th {\n",
       "        vertical-align: top;\n",
       "    }\n",
       "\n",
       "    .dataframe thead tr th {\n",
       "        text-align: left;\n",
       "    }\n",
       "</style>\n",
       "<table border=\"1\" class=\"dataframe\">\n",
       "  <thead>\n",
       "    <tr>\n",
       "      <th></th>\n",
       "      <th>user_id</th>\n",
       "      <th>month</th>\n",
       "      <th>rides_total</th>\n",
       "      <th>distance</th>\n",
       "      <th>duration</th>\n",
       "      <th>minute_price</th>\n",
       "      <th>start_ride_price</th>\n",
       "      <th>subscription_fee</th>\n",
       "      <th>income</th>\n",
       "    </tr>\n",
       "    <tr>\n",
       "      <th></th>\n",
       "      <th></th>\n",
       "      <th></th>\n",
       "      <th>count</th>\n",
       "      <th>sum</th>\n",
       "      <th>sum</th>\n",
       "      <th></th>\n",
       "      <th></th>\n",
       "      <th></th>\n",
       "      <th></th>\n",
       "    </tr>\n",
       "  </thead>\n",
       "  <tbody>\n",
       "    <tr>\n",
       "      <th>0</th>\n",
       "      <td>1</td>\n",
       "      <td>1</td>\n",
       "      <td>2</td>\n",
       "      <td>7027.511294</td>\n",
       "      <td>42.0</td>\n",
       "      <td>6</td>\n",
       "      <td>0</td>\n",
       "      <td>199</td>\n",
       "      <td>451.0</td>\n",
       "    </tr>\n",
       "    <tr>\n",
       "      <th>1</th>\n",
       "      <td>1</td>\n",
       "      <td>4</td>\n",
       "      <td>1</td>\n",
       "      <td>754.159807</td>\n",
       "      <td>7.0</td>\n",
       "      <td>6</td>\n",
       "      <td>0</td>\n",
       "      <td>199</td>\n",
       "      <td>241.0</td>\n",
       "    </tr>\n",
       "    <tr>\n",
       "      <th>2</th>\n",
       "      <td>1</td>\n",
       "      <td>8</td>\n",
       "      <td>2</td>\n",
       "      <td>6723.470560</td>\n",
       "      <td>46.0</td>\n",
       "      <td>6</td>\n",
       "      <td>0</td>\n",
       "      <td>199</td>\n",
       "      <td>475.0</td>\n",
       "    </tr>\n",
       "    <tr>\n",
       "      <th>3</th>\n",
       "      <td>1</td>\n",
       "      <td>10</td>\n",
       "      <td>2</td>\n",
       "      <td>5809.911100</td>\n",
       "      <td>32.0</td>\n",
       "      <td>6</td>\n",
       "      <td>0</td>\n",
       "      <td>199</td>\n",
       "      <td>391.0</td>\n",
       "    </tr>\n",
       "    <tr>\n",
       "      <th>4</th>\n",
       "      <td>1</td>\n",
       "      <td>11</td>\n",
       "      <td>3</td>\n",
       "      <td>7003.499363</td>\n",
       "      <td>56.0</td>\n",
       "      <td>6</td>\n",
       "      <td>0</td>\n",
       "      <td>199</td>\n",
       "      <td>535.0</td>\n",
       "    </tr>\n",
       "    <tr>\n",
       "      <th>...</th>\n",
       "      <td>...</td>\n",
       "      <td>...</td>\n",
       "      <td>...</td>\n",
       "      <td>...</td>\n",
       "      <td>...</td>\n",
       "      <td>...</td>\n",
       "      <td>...</td>\n",
       "      <td>...</td>\n",
       "      <td>...</td>\n",
       "    </tr>\n",
       "    <tr>\n",
       "      <th>11326</th>\n",
       "      <td>1534</td>\n",
       "      <td>6</td>\n",
       "      <td>2</td>\n",
       "      <td>3409.468534</td>\n",
       "      <td>26.0</td>\n",
       "      <td>8</td>\n",
       "      <td>50</td>\n",
       "      <td>0</td>\n",
       "      <td>308.0</td>\n",
       "    </tr>\n",
       "    <tr>\n",
       "      <th>11327</th>\n",
       "      <td>1534</td>\n",
       "      <td>8</td>\n",
       "      <td>2</td>\n",
       "      <td>7622.453034</td>\n",
       "      <td>48.0</td>\n",
       "      <td>8</td>\n",
       "      <td>50</td>\n",
       "      <td>0</td>\n",
       "      <td>484.0</td>\n",
       "    </tr>\n",
       "    <tr>\n",
       "      <th>11328</th>\n",
       "      <td>1534</td>\n",
       "      <td>9</td>\n",
       "      <td>1</td>\n",
       "      <td>4928.173852</td>\n",
       "      <td>23.0</td>\n",
       "      <td>8</td>\n",
       "      <td>50</td>\n",
       "      <td>0</td>\n",
       "      <td>234.0</td>\n",
       "    </tr>\n",
       "    <tr>\n",
       "      <th>11329</th>\n",
       "      <td>1534</td>\n",
       "      <td>11</td>\n",
       "      <td>4</td>\n",
       "      <td>13350.015305</td>\n",
       "      <td>78.0</td>\n",
       "      <td>8</td>\n",
       "      <td>50</td>\n",
       "      <td>0</td>\n",
       "      <td>824.0</td>\n",
       "    </tr>\n",
       "    <tr>\n",
       "      <th>11330</th>\n",
       "      <td>1534</td>\n",
       "      <td>12</td>\n",
       "      <td>1</td>\n",
       "      <td>2371.711192</td>\n",
       "      <td>16.0</td>\n",
       "      <td>8</td>\n",
       "      <td>50</td>\n",
       "      <td>0</td>\n",
       "      <td>178.0</td>\n",
       "    </tr>\n",
       "  </tbody>\n",
       "</table>\n",
       "<p>11331 rows × 9 columns</p>\n",
       "</div>"
      ],
      "text/plain": [
       "      user_id month rides_total      distance duration minute_price  \\\n",
       "                          count           sum      sum                \n",
       "0           1     1           2   7027.511294     42.0            6   \n",
       "1           1     4           1    754.159807      7.0            6   \n",
       "2           1     8           2   6723.470560     46.0            6   \n",
       "3           1    10           2   5809.911100     32.0            6   \n",
       "4           1    11           3   7003.499363     56.0            6   \n",
       "...       ...   ...         ...           ...      ...          ...   \n",
       "11326    1534     6           2   3409.468534     26.0            8   \n",
       "11327    1534     8           2   7622.453034     48.0            8   \n",
       "11328    1534     9           1   4928.173852     23.0            8   \n",
       "11329    1534    11           4  13350.015305     78.0            8   \n",
       "11330    1534    12           1   2371.711192     16.0            8   \n",
       "\n",
       "      start_ride_price subscription_fee income  \n",
       "                                                \n",
       "0                    0              199  451.0  \n",
       "1                    0              199  241.0  \n",
       "2                    0              199  475.0  \n",
       "3                    0              199  391.0  \n",
       "4                    0              199  535.0  \n",
       "...                ...              ...    ...  \n",
       "11326               50                0  308.0  \n",
       "11327               50                0  484.0  \n",
       "11328               50                0  234.0  \n",
       "11329               50                0  824.0  \n",
       "11330               50                0  178.0  \n",
       "\n",
       "[11331 rows x 9 columns]"
      ]
     },
     "execution_count": 24,
     "metadata": {},
     "output_type": "execute_result"
    }
   ],
   "source": [
    "all_info['duration'] = np.ceil(all_info['duration'])\n",
    "\n",
    "grouped = all_info.groupby(['user_id','month'], as_index=False).agg({'date':['count'], 'distance':['sum'], 'duration':['sum']})\n",
    "grouped['minute_price'] = all_info['minute_price']\n",
    "grouped['start_ride_price'] = all_info['start_ride_price']\n",
    "grouped['subscription_fee'] = all_info['subscription_fee']\n",
    "grouped.rename(columns = {'date':'rides_total'}, inplace = True)\n",
    "grouped['income'] = (grouped['start_ride_price'] * grouped['rides_total']['count']) + (grouped['minute_price'] * grouped['duration']['sum']) + grouped['subscription_fee']\n",
    "grouped"
   ]
  },
  {
   "cell_type": "code",
   "execution_count": 25,
   "id": "ef577369",
   "metadata": {},
   "outputs": [
    {
     "data": {
      "text/plain": [
       "subscription_fee\n",
       "0      328.345270\n",
       "199    368.676308\n",
       "Name: income, dtype: float64"
      ]
     },
     "execution_count": 25,
     "metadata": {},
     "output_type": "execute_result"
    }
   ],
   "source": [
    "grouped.groupby('subscription_fee')['income'].mean()"
   ]
  },
  {
   "cell_type": "markdown",
   "id": "622e649b",
   "metadata": {},
   "source": [
    "**Вывод**: Помесячная выручка с каждого пользователя посчитана, в датафрейм добавлен соответствующий столбец. Средняя выручка в месяц:\n",
    "- для пользователей с подпиской: 368.6\n",
    "- для пользователей без подписки: 328.3"
   ]
  },
  {
   "cell_type": "markdown",
   "id": "41545ac0",
   "metadata": {},
   "source": [
    "## Шаг 6. Проверка гипотез"
   ]
  },
  {
   "cell_type": "markdown",
   "id": "431b159a",
   "metadata": {},
   "source": [
    "Приступим к проверке гипотез, результаты которой помогут продакт-менеджерам сервиса улучшить свои показатели."
   ]
  },
  {
   "cell_type": "markdown",
   "id": "72506ea4",
   "metadata": {},
   "source": [
    "### Первая гипотеза \n",
    "**Нулевая гипотеза**:Пользователи с подпиской тратят столько же времени на поездки, сколько пользователи без подписки.\n",
    "**Альтернативная гипотеза**: Пользователи с подпиской тратят больше времени на поездки, чем пользователи без подписки."
   ]
  },
  {
   "cell_type": "code",
   "execution_count": 26,
   "id": "92fbf571",
   "metadata": {},
   "outputs": [
    {
     "name": "stdout",
     "output_type": "stream",
     "text": [
      "p-значение: 1.1814679253701353e-36\n",
      "Отвергаем нулевую гипотезу\n"
     ]
    }
   ],
   "source": [
    "alpha=0.05\n",
    "\n",
    "results = st.ttest_ind(ultra_subs['duration'], free_subs['duration'], equal_var=False, alternative = 'greater')\n",
    "\n",
    "print('p-значение:', results.pvalue)\n",
    "\n",
    "if results.pvalue < alpha:\n",
    "    print('Отвергаем нулевую гипотезу')\n",
    "else:\n",
    "    print('Не получилось отвергнуть нулевую гипотезу')"
   ]
  },
  {
   "cell_type": "markdown",
   "id": "bc0443ba",
   "metadata": {},
   "source": [
    "**Вывод**: Отвергаем нулевую гипотезу. Пользователи с подпиской тратят больше времени на поездки, чем пользователи без подписки. Соответственно, они могут быть \"выгоднее\" для компании!"
   ]
  },
  {
   "cell_type": "markdown",
   "id": "407ee87b",
   "metadata": {},
   "source": [
    "### Вторая гипотеза: \n",
    "**Нулевая гипотеза:** Расстояние, которое проезжают пользователи с подпиской за одну поездку, равно 3130 метров. **Альтернативная гипотеза**: В основном расстояние, которое проезжают пользователи с подпиской за одну поездку, превышает оптимальное в 3130 метров."
   ]
  },
  {
   "cell_type": "code",
   "execution_count": 27,
   "id": "9770127a",
   "metadata": {},
   "outputs": [
    {
     "name": "stdout",
     "output_type": "stream",
     "text": [
      "p-значение: 0.9195368847849785\n",
      "Не получилось отвергнуть нулевую гипотезу\n"
     ]
    }
   ],
   "source": [
    "optimal_value = 3130\n",
    "alpha=0.1\n",
    "\n",
    "results = st.ttest_1samp(ultra_subs['distance'], optimal_value, alternative='greater')\n",
    "\n",
    "print('p-значение:', results.pvalue)\n",
    "\n",
    "if results.pvalue < alpha:\n",
    "    print('Отвергаем нулевую гипотезу')\n",
    "else:\n",
    "    print('Не получилось отвергнуть нулевую гипотезу')"
   ]
  },
  {
   "cell_type": "markdown",
   "id": "608e55ac",
   "metadata": {},
   "source": [
    "**Вывод:** Не получилось отвергнуть нулевую гипотезу. Расстояние, которое проезжают пользователи с подпиской за одну поездку, равно 3130 метров."
   ]
  },
  {
   "cell_type": "markdown",
   "id": "75667330",
   "metadata": {},
   "source": [
    "### Третья гипотеза:\n",
    "**Нулевая гипотеза**: Помесячная выручка пользователей с подпиской и без подписки равны. **Альтернативная гипотеза**: Помесячная выручка от пользователей c с подпиской выше, чем выручка от пользователей без подписки."
   ]
  },
  {
   "cell_type": "code",
   "execution_count": 28,
   "id": "45ffae1f",
   "metadata": {},
   "outputs": [],
   "source": [
    "ultra_subs['income'] = grouped['income']\n",
    "free_subs['income'] = grouped['income']\n",
    "ultra_subs_income = ultra_subs.pivot_table(index = 'user_id', values='income')\n",
    "free_subs_income = free_subs.pivot_table(index = 'user_id', values='income')"
   ]
  },
  {
   "cell_type": "code",
   "execution_count": 29,
   "id": "9dabf8c6",
   "metadata": {},
   "outputs": [
    {
     "name": "stdout",
     "output_type": "stream",
     "text": [
      "p-значение: [9.30995279e-36]\n",
      "Отвергаем нулевую гипотезу\n"
     ]
    }
   ],
   "source": [
    "alpha = 0.05\n",
    "\n",
    "results = st.ttest_ind(ultra_subs_income, free_subs_income, equal_var=False, alternative='greater')\n",
    "print('p-значение:', results.pvalue)\n",
    "\n",
    "if results.pvalue < alpha:\n",
    "    print('Отвергаем нулевую гипотезу')\n",
    "else:\n",
    "    print('Не получилось отвергнуть нулевую гипотезу')"
   ]
  },
  {
   "cell_type": "markdown",
   "id": "86920e90",
   "metadata": {},
   "source": [
    "**Вывод:** Отвергаем нулевую гипотезу. Помесячная выручка от пользователей c с подпиской выше, чем выручка от пользователей без подписки."
   ]
  },
  {
   "cell_type": "markdown",
   "id": "73981e1c",
   "metadata": {},
   "source": [
    "## Общий вывод"
   ]
  },
  {
   "cell_type": "markdown",
   "id": "bfafd15b",
   "metadata": {},
   "source": [
    "В результате проведенного нами исследования можно подытожить:\n",
    "- Больше всего пользователей в Пятигорске, менее всего в Москве\n",
    "- Пользователей без подписки больше, чем с подпиской\n",
    "- Основная масса пользователей в возрасте от 20 до 30 лет\n",
    "- Чаще всего пользователи совершают поездки от 2000м до 4500м\n",
    "\n",
    "    Можно сделать вывод, что пользователи с подпиской часто пользуются самокатами чтобы добраться до определенной точки \"B\", соответственно знают зачем начинают поездку. Пользователи же без подписки, скорее всего гуляют, либо пользуются самокатом в случае необходимости, поэтому расстояние и длительсность поездок варьируется в большом диапазоне. Но в целом, профили пользователей обеих подписок похожи.\n",
    "    \n",
    "Средняя выручка в месяц по пользователям:\n",
    "- для пользователей с подпиской: 368.6\n",
    "- для пользователей без подписки: 328.3\n",
    "\n",
    "Пользователи с подпиской тратят больше времени на поездки, чем пользователи без подписки. Соответственно, они могут быть \"выгоднее\" для компании.\n",
    "    \n",
    "В основном среднее расстояние, которое проезжают пользователи с подпиской за одну поездку, равно 3130 метров. Это не превосходит расстояние, оптимальное с точки зрения износа самоката.\n",
    "    \n",
    "Пользователи с подпиской ежемесячно приносят больше выручки компании, чем пользователи без подписки. При чем стабильно! По результатам каждого месяца выручка с пользователей-подписчиков выше, чем у пользователей без подписки.\n",
    "\n",
    "**Исходя из вышенаписанного, пользователи с подпиской приносят больше прибыли компании. Большее количество промоакций, направленных на приобретение пользователем подписки, позитивно скажутся на общей выручке сервиса**. "
   ]
  }
 ],
 "metadata": {
  "ExecuteTimeLog": [
   {
    "duration": 56,
    "start_time": "2023-06-24T20:26:31.903Z"
   },
   {
    "duration": 422,
    "start_time": "2023-06-24T20:26:37.304Z"
   },
   {
    "duration": 179,
    "start_time": "2023-06-24T20:26:38.097Z"
   },
   {
    "duration": 66,
    "start_time": "2023-06-24T20:27:10.759Z"
   },
   {
    "duration": 82,
    "start_time": "2023-06-24T20:27:17.858Z"
   },
   {
    "duration": 9,
    "start_time": "2023-06-24T20:27:52.658Z"
   },
   {
    "duration": 9,
    "start_time": "2023-06-24T20:27:54.064Z"
   },
   {
    "duration": 7,
    "start_time": "2023-06-24T20:27:55.465Z"
   },
   {
    "duration": 70,
    "start_time": "2023-06-24T20:27:56.784Z"
   },
   {
    "duration": 27,
    "start_time": "2023-06-24T22:58:28.252Z"
   },
   {
    "duration": 8,
    "start_time": "2023-06-24T22:58:37.353Z"
   },
   {
    "duration": 10,
    "start_time": "2023-06-24T23:00:07.455Z"
   },
   {
    "duration": 11,
    "start_time": "2023-06-24T23:00:23.275Z"
   },
   {
    "duration": 16,
    "start_time": "2023-06-24T23:01:14.497Z"
   },
   {
    "duration": 18,
    "start_time": "2023-06-24T23:01:32.957Z"
   },
   {
    "duration": 14,
    "start_time": "2023-06-24T23:01:49.770Z"
   },
   {
    "duration": 397,
    "start_time": "2023-06-24T23:02:14.509Z"
   },
   {
    "duration": 78,
    "start_time": "2023-06-24T23:02:14.908Z"
   },
   {
    "duration": 24,
    "start_time": "2023-06-24T23:02:14.988Z"
   },
   {
    "duration": 65,
    "start_time": "2023-06-24T23:02:15.014Z"
   },
   {
    "duration": 102,
    "start_time": "2023-06-24T23:02:15.081Z"
   },
   {
    "duration": 31,
    "start_time": "2023-06-24T23:02:15.185Z"
   },
   {
    "duration": 6,
    "start_time": "2023-06-24T23:02:56.498Z"
   },
   {
    "duration": 5,
    "start_time": "2023-06-24T23:03:45.118Z"
   },
   {
    "duration": 11,
    "start_time": "2023-06-24T23:04:04.024Z"
   },
   {
    "duration": 47,
    "start_time": "2023-06-25T10:52:06.520Z"
   },
   {
    "duration": 368,
    "start_time": "2023-06-25T10:52:11.001Z"
   },
   {
    "duration": 287,
    "start_time": "2023-06-25T10:52:11.371Z"
   },
   {
    "duration": 24,
    "start_time": "2023-06-25T10:52:11.660Z"
   },
   {
    "duration": 16,
    "start_time": "2023-06-25T10:52:11.686Z"
   },
   {
    "duration": 13,
    "start_time": "2023-06-25T10:52:11.704Z"
   },
   {
    "duration": 7,
    "start_time": "2023-06-25T10:52:11.719Z"
   },
   {
    "duration": 6,
    "start_time": "2023-06-25T10:52:11.756Z"
   },
   {
    "duration": 12,
    "start_time": "2023-06-25T10:52:11.764Z"
   },
   {
    "duration": 28,
    "start_time": "2023-06-25T10:52:11.777Z"
   },
   {
    "duration": 7,
    "start_time": "2023-06-25T10:52:24.326Z"
   },
   {
    "duration": 6,
    "start_time": "2023-06-25T10:52:27.852Z"
   },
   {
    "duration": 6,
    "start_time": "2023-06-25T10:52:33.824Z"
   },
   {
    "duration": 7,
    "start_time": "2023-06-25T10:52:38.397Z"
   },
   {
    "duration": 10,
    "start_time": "2023-06-25T10:53:13.368Z"
   },
   {
    "duration": 12,
    "start_time": "2023-06-25T10:53:21.237Z"
   },
   {
    "duration": 8,
    "start_time": "2023-06-25T10:57:31.628Z"
   },
   {
    "duration": 5,
    "start_time": "2023-06-25T10:57:55.813Z"
   },
   {
    "duration": 4,
    "start_time": "2023-06-25T10:58:00.015Z"
   },
   {
    "duration": 3,
    "start_time": "2023-06-25T10:58:35.953Z"
   },
   {
    "duration": 6,
    "start_time": "2023-06-25T10:58:38.867Z"
   },
   {
    "duration": 6,
    "start_time": "2023-06-25T10:58:53.022Z"
   },
   {
    "duration": 5,
    "start_time": "2023-06-25T10:58:56.421Z"
   },
   {
    "duration": 9,
    "start_time": "2023-06-25T10:59:22.335Z"
   },
   {
    "duration": 10,
    "start_time": "2023-06-25T10:59:33.189Z"
   },
   {
    "duration": 6,
    "start_time": "2023-06-25T10:59:40.438Z"
   },
   {
    "duration": 8,
    "start_time": "2023-06-25T11:06:45.826Z"
   },
   {
    "duration": 8,
    "start_time": "2023-06-25T11:06:50.548Z"
   },
   {
    "duration": 10,
    "start_time": "2023-06-25T11:06:54.117Z"
   },
   {
    "duration": 1014,
    "start_time": "2023-06-25T11:07:43.823Z"
   },
   {
    "duration": 5,
    "start_time": "2023-06-25T11:07:57.857Z"
   },
   {
    "duration": 6,
    "start_time": "2023-06-25T11:09:44.320Z"
   },
   {
    "duration": 7,
    "start_time": "2023-06-25T11:10:01.747Z"
   },
   {
    "duration": 3,
    "start_time": "2023-06-25T11:10:22.794Z"
   },
   {
    "duration": 763,
    "start_time": "2023-06-25T11:10:36.819Z"
   },
   {
    "duration": 5,
    "start_time": "2023-06-25T11:10:53.298Z"
   },
   {
    "duration": 896,
    "start_time": "2023-06-25T11:11:32.320Z"
   },
   {
    "duration": 6,
    "start_time": "2023-06-25T11:11:33.367Z"
   },
   {
    "duration": 1047,
    "start_time": "2023-06-25T11:13:01.149Z"
   },
   {
    "duration": 434,
    "start_time": "2023-06-25T11:13:08.424Z"
   },
   {
    "duration": 71,
    "start_time": "2023-06-25T11:13:08.861Z"
   },
   {
    "duration": 34,
    "start_time": "2023-06-25T11:13:08.934Z"
   },
   {
    "duration": 23,
    "start_time": "2023-06-25T11:13:08.970Z"
   },
   {
    "duration": 21,
    "start_time": "2023-06-25T11:13:08.996Z"
   },
   {
    "duration": 38,
    "start_time": "2023-06-25T11:13:09.019Z"
   },
   {
    "duration": 9,
    "start_time": "2023-06-25T11:13:09.059Z"
   },
   {
    "duration": 16,
    "start_time": "2023-06-25T11:13:09.070Z"
   },
   {
    "duration": 21,
    "start_time": "2023-06-25T11:13:09.088Z"
   },
   {
    "duration": 7,
    "start_time": "2023-06-25T11:13:09.111Z"
   },
   {
    "duration": 8,
    "start_time": "2023-06-25T11:13:09.120Z"
   },
   {
    "duration": 151,
    "start_time": "2023-06-25T11:22:05.633Z"
   },
   {
    "duration": 447,
    "start_time": "2023-06-25T11:22:30.068Z"
   },
   {
    "duration": 70,
    "start_time": "2023-06-25T11:22:30.518Z"
   },
   {
    "duration": 32,
    "start_time": "2023-06-25T11:22:30.591Z"
   },
   {
    "duration": 26,
    "start_time": "2023-06-25T11:22:30.625Z"
   },
   {
    "duration": 49,
    "start_time": "2023-06-25T11:22:30.658Z"
   },
   {
    "duration": 15,
    "start_time": "2023-06-25T11:22:30.708Z"
   },
   {
    "duration": 34,
    "start_time": "2023-06-25T11:22:30.725Z"
   },
   {
    "duration": 40,
    "start_time": "2023-06-25T11:22:30.761Z"
   },
   {
    "duration": 43,
    "start_time": "2023-06-25T11:22:30.804Z"
   },
   {
    "duration": 73,
    "start_time": "2023-06-25T11:22:30.849Z"
   },
   {
    "duration": 65,
    "start_time": "2023-06-25T11:22:30.924Z"
   },
   {
    "duration": 127,
    "start_time": "2023-06-25T11:22:30.991Z"
   },
   {
    "duration": 4,
    "start_time": "2023-06-25T11:23:33.429Z"
   },
   {
    "duration": 34,
    "start_time": "2023-06-25T11:24:27.061Z"
   },
   {
    "duration": 399,
    "start_time": "2023-06-25T11:25:12.076Z"
   },
   {
    "duration": 70,
    "start_time": "2023-06-25T11:25:12.900Z"
   },
   {
    "duration": 26,
    "start_time": "2023-06-25T11:25:14.096Z"
   },
   {
    "duration": 7,
    "start_time": "2023-06-25T11:25:34.894Z"
   },
   {
    "duration": 4,
    "start_time": "2023-06-25T11:25:39.501Z"
   },
   {
    "duration": 71,
    "start_time": "2023-06-25T11:25:53.177Z"
   },
   {
    "duration": 8,
    "start_time": "2023-06-25T11:26:07.690Z"
   },
   {
    "duration": 9,
    "start_time": "2023-06-25T11:26:13.576Z"
   },
   {
    "duration": 8,
    "start_time": "2023-06-25T11:26:25.680Z"
   },
   {
    "duration": 2,
    "start_time": "2023-06-25T11:26:43.379Z"
   },
   {
    "duration": 68,
    "start_time": "2023-06-25T11:26:43.383Z"
   },
   {
    "duration": 17,
    "start_time": "2023-06-25T11:26:43.453Z"
   },
   {
    "duration": 19,
    "start_time": "2023-06-25T11:26:43.472Z"
   },
   {
    "duration": 18,
    "start_time": "2023-06-25T11:26:43.493Z"
   },
   {
    "duration": 48,
    "start_time": "2023-06-25T11:26:43.513Z"
   },
   {
    "duration": 8,
    "start_time": "2023-06-25T11:26:43.562Z"
   },
   {
    "duration": 10,
    "start_time": "2023-06-25T11:26:43.572Z"
   },
   {
    "duration": 11,
    "start_time": "2023-06-25T11:26:43.584Z"
   },
   {
    "duration": 6,
    "start_time": "2023-06-25T11:26:43.597Z"
   },
   {
    "duration": 9,
    "start_time": "2023-06-25T11:26:43.605Z"
   },
   {
    "duration": 59,
    "start_time": "2023-06-25T11:26:43.616Z"
   },
   {
    "duration": 0,
    "start_time": "2023-06-25T11:26:43.678Z"
   },
   {
    "duration": 452,
    "start_time": "2023-06-25T11:33:17.044Z"
   },
   {
    "duration": 66,
    "start_time": "2023-06-25T11:33:17.498Z"
   },
   {
    "duration": 25,
    "start_time": "2023-06-25T11:33:17.566Z"
   },
   {
    "duration": 18,
    "start_time": "2023-06-25T11:33:17.592Z"
   },
   {
    "duration": 15,
    "start_time": "2023-06-25T11:33:17.612Z"
   },
   {
    "duration": 8,
    "start_time": "2023-06-25T11:33:17.657Z"
   },
   {
    "duration": 8,
    "start_time": "2023-06-25T11:33:17.666Z"
   },
   {
    "duration": 17,
    "start_time": "2023-06-25T11:33:17.675Z"
   },
   {
    "duration": 10,
    "start_time": "2023-06-25T11:33:17.694Z"
   },
   {
    "duration": 5,
    "start_time": "2023-06-25T11:33:17.706Z"
   },
   {
    "duration": 9,
    "start_time": "2023-06-25T11:33:17.713Z"
   },
   {
    "duration": 6,
    "start_time": "2023-06-25T11:33:37.161Z"
   },
   {
    "duration": 8,
    "start_time": "2023-06-25T11:33:51.651Z"
   },
   {
    "duration": 19,
    "start_time": "2023-06-25T11:35:07.584Z"
   },
   {
    "duration": 20,
    "start_time": "2023-06-25T11:35:20.527Z"
   },
   {
    "duration": 17,
    "start_time": "2023-06-25T11:35:37.104Z"
   },
   {
    "duration": 4,
    "start_time": "2023-06-25T11:35:56.152Z"
   },
   {
    "duration": 73,
    "start_time": "2023-06-25T11:35:58.194Z"
   },
   {
    "duration": 14,
    "start_time": "2023-06-25T11:36:27.218Z"
   },
   {
    "duration": 6,
    "start_time": "2023-06-25T11:36:29.063Z"
   },
   {
    "duration": 11,
    "start_time": "2023-06-25T11:36:29.852Z"
   },
   {
    "duration": 421,
    "start_time": "2023-06-25T11:37:01.784Z"
   },
   {
    "duration": 72,
    "start_time": "2023-06-25T11:37:02.207Z"
   },
   {
    "duration": 32,
    "start_time": "2023-06-25T11:37:02.282Z"
   },
   {
    "duration": 22,
    "start_time": "2023-06-25T11:37:02.316Z"
   },
   {
    "duration": 41,
    "start_time": "2023-06-25T11:37:02.342Z"
   },
   {
    "duration": 18,
    "start_time": "2023-06-25T11:37:02.385Z"
   },
   {
    "duration": 13,
    "start_time": "2023-06-25T11:37:02.405Z"
   },
   {
    "duration": 30,
    "start_time": "2023-06-25T11:37:02.421Z"
   },
   {
    "duration": 46,
    "start_time": "2023-06-25T11:37:02.453Z"
   },
   {
    "duration": 18,
    "start_time": "2023-06-25T11:37:02.502Z"
   },
   {
    "duration": 26,
    "start_time": "2023-06-25T11:37:02.523Z"
   },
   {
    "duration": 29,
    "start_time": "2023-06-25T11:37:02.551Z"
   },
   {
    "duration": 84,
    "start_time": "2023-06-25T11:37:02.583Z"
   },
   {
    "duration": 7,
    "start_time": "2023-06-25T11:38:44.505Z"
   },
   {
    "duration": 456,
    "start_time": "2023-06-25T11:40:59.210Z"
   },
   {
    "duration": 205,
    "start_time": "2023-06-25T11:41:15.111Z"
   },
   {
    "duration": 192,
    "start_time": "2023-06-25T11:41:20.376Z"
   },
   {
    "duration": 268,
    "start_time": "2023-06-25T11:41:25.513Z"
   },
   {
    "duration": 215,
    "start_time": "2023-06-25T11:41:28.044Z"
   },
   {
    "duration": 193,
    "start_time": "2023-06-25T11:41:31.011Z"
   },
   {
    "duration": 317,
    "start_time": "2023-06-25T11:42:33.528Z"
   },
   {
    "duration": 299,
    "start_time": "2023-06-25T11:43:27.557Z"
   },
   {
    "duration": 259,
    "start_time": "2023-06-25T11:43:35.677Z"
   },
   {
    "duration": 9,
    "start_time": "2023-06-25T11:45:24.390Z"
   },
   {
    "duration": 152,
    "start_time": "2023-06-25T11:45:33.190Z"
   },
   {
    "duration": 197,
    "start_time": "2023-06-25T11:45:38.217Z"
   },
   {
    "duration": 172,
    "start_time": "2023-06-25T11:45:55.846Z"
   },
   {
    "duration": 169,
    "start_time": "2023-06-25T11:46:02.562Z"
   },
   {
    "duration": 199,
    "start_time": "2023-06-25T11:46:07.285Z"
   },
   {
    "duration": 208,
    "start_time": "2023-06-25T11:46:10.756Z"
   },
   {
    "duration": 176,
    "start_time": "2023-06-25T11:46:15.106Z"
   },
   {
    "duration": 168,
    "start_time": "2023-06-25T11:50:16.729Z"
   },
   {
    "duration": 217,
    "start_time": "2023-06-25T11:50:51.118Z"
   },
   {
    "duration": 103,
    "start_time": "2023-06-25T11:50:54.638Z"
   },
   {
    "duration": 109,
    "start_time": "2023-06-25T11:51:06.732Z"
   },
   {
    "duration": 20,
    "start_time": "2023-06-25T11:51:45.020Z"
   },
   {
    "duration": 145,
    "start_time": "2023-06-25T11:52:06.047Z"
   },
   {
    "duration": 143,
    "start_time": "2023-06-25T11:52:10.460Z"
   },
   {
    "duration": 121,
    "start_time": "2023-06-25T11:52:16.837Z"
   },
   {
    "duration": 12,
    "start_time": "2023-06-25T11:52:51.280Z"
   },
   {
    "duration": 11,
    "start_time": "2023-06-25T11:52:59.475Z"
   },
   {
    "duration": 11,
    "start_time": "2023-06-25T11:53:03.724Z"
   },
   {
    "duration": 12,
    "start_time": "2023-06-25T11:53:28.207Z"
   },
   {
    "duration": 13,
    "start_time": "2023-06-25T11:53:38.891Z"
   },
   {
    "duration": 7,
    "start_time": "2023-06-25T11:54:34.276Z"
   },
   {
    "duration": 7,
    "start_time": "2023-06-25T11:54:40.678Z"
   },
   {
    "duration": 12,
    "start_time": "2023-06-25T11:55:11.304Z"
   },
   {
    "duration": 1023,
    "start_time": "2023-06-25T11:55:25.290Z"
   },
   {
    "duration": 11,
    "start_time": "2023-06-25T11:59:05.028Z"
   },
   {
    "duration": 106,
    "start_time": "2023-06-25T11:59:14.819Z"
   },
   {
    "duration": 148,
    "start_time": "2023-06-25T12:00:47.038Z"
   },
   {
    "duration": 127,
    "start_time": "2023-06-25T12:00:57.693Z"
   },
   {
    "duration": 122,
    "start_time": "2023-06-25T12:01:00.825Z"
   },
   {
    "duration": 113,
    "start_time": "2023-06-25T12:01:09.573Z"
   },
   {
    "duration": 160,
    "start_time": "2023-06-25T12:02:28.111Z"
   },
   {
    "duration": 163,
    "start_time": "2023-06-25T12:02:37.020Z"
   },
   {
    "duration": 268,
    "start_time": "2023-06-25T12:02:42.751Z"
   },
   {
    "duration": 152,
    "start_time": "2023-06-25T12:02:45.538Z"
   },
   {
    "duration": 170,
    "start_time": "2023-06-25T12:02:52.366Z"
   },
   {
    "duration": 154,
    "start_time": "2023-06-25T12:02:57.556Z"
   },
   {
    "duration": 161,
    "start_time": "2023-06-25T12:03:01.969Z"
   },
   {
    "duration": 219,
    "start_time": "2023-06-25T12:03:08.916Z"
   },
   {
    "duration": 237,
    "start_time": "2023-06-25T12:04:48.204Z"
   },
   {
    "duration": 435,
    "start_time": "2023-06-25T12:05:07.137Z"
   },
   {
    "duration": 449,
    "start_time": "2023-06-25T12:05:11.331Z"
   },
   {
    "duration": 357,
    "start_time": "2023-06-25T12:11:08.776Z"
   },
   {
    "duration": 18,
    "start_time": "2023-06-25T12:19:34.450Z"
   },
   {
    "duration": 26,
    "start_time": "2023-06-25T12:19:47.282Z"
   },
   {
    "duration": 33,
    "start_time": "2023-06-25T12:20:38.367Z"
   },
   {
    "duration": 435,
    "start_time": "2023-06-25T12:21:33.639Z"
   },
   {
    "duration": 68,
    "start_time": "2023-06-25T12:21:34.076Z"
   },
   {
    "duration": 25,
    "start_time": "2023-06-25T12:21:34.145Z"
   },
   {
    "duration": 17,
    "start_time": "2023-06-25T12:21:34.172Z"
   },
   {
    "duration": 21,
    "start_time": "2023-06-25T12:21:34.191Z"
   },
   {
    "duration": 9,
    "start_time": "2023-06-25T12:21:34.215Z"
   },
   {
    "duration": 30,
    "start_time": "2023-06-25T12:21:34.226Z"
   },
   {
    "duration": 9,
    "start_time": "2023-06-25T12:21:34.258Z"
   },
   {
    "duration": 11,
    "start_time": "2023-06-25T12:21:34.269Z"
   },
   {
    "duration": 8,
    "start_time": "2023-06-25T12:21:34.282Z"
   },
   {
    "duration": 5,
    "start_time": "2023-06-25T12:21:34.292Z"
   },
   {
    "duration": 8,
    "start_time": "2023-06-25T12:21:34.299Z"
   },
   {
    "duration": 443,
    "start_time": "2023-06-25T12:21:34.309Z"
   },
   {
    "duration": 123,
    "start_time": "2023-06-25T12:21:34.755Z"
   },
   {
    "duration": 191,
    "start_time": "2023-06-25T12:21:34.880Z"
   },
   {
    "duration": 298,
    "start_time": "2023-06-25T12:21:35.073Z"
   },
   {
    "duration": 324,
    "start_time": "2023-06-25T12:21:35.373Z"
   },
   {
    "duration": 25,
    "start_time": "2023-06-25T12:21:35.700Z"
   },
   {
    "duration": 17,
    "start_time": "2023-06-25T12:22:24.699Z"
   },
   {
    "duration": 44,
    "start_time": "2023-06-25T12:22:30.601Z"
   },
   {
    "duration": 128,
    "start_time": "2023-06-25T12:28:21.083Z"
   },
   {
    "duration": 10,
    "start_time": "2023-06-25T12:28:30.215Z"
   },
   {
    "duration": 9,
    "start_time": "2023-06-25T12:28:44.285Z"
   },
   {
    "duration": 52,
    "start_time": "2023-06-25T12:29:19.060Z"
   },
   {
    "duration": 424,
    "start_time": "2023-06-25T12:32:32.321Z"
   },
   {
    "duration": 341,
    "start_time": "2023-06-25T12:32:38.295Z"
   },
   {
    "duration": 333,
    "start_time": "2023-06-25T12:33:20.397Z"
   },
   {
    "duration": 414,
    "start_time": "2023-06-25T12:35:53.788Z"
   },
   {
    "duration": 557,
    "start_time": "2023-06-25T12:35:55.606Z"
   },
   {
    "duration": 460,
    "start_time": "2023-06-25T17:06:02.799Z"
   },
   {
    "duration": 441,
    "start_time": "2023-06-25T17:06:03.261Z"
   },
   {
    "duration": 35,
    "start_time": "2023-06-25T17:06:03.704Z"
   },
   {
    "duration": 29,
    "start_time": "2023-06-25T17:06:03.742Z"
   },
   {
    "duration": 33,
    "start_time": "2023-06-25T17:06:03.774Z"
   },
   {
    "duration": 8,
    "start_time": "2023-06-25T17:06:03.809Z"
   },
   {
    "duration": 6,
    "start_time": "2023-06-25T17:06:03.819Z"
   },
   {
    "duration": 12,
    "start_time": "2023-06-25T17:06:03.826Z"
   },
   {
    "duration": 31,
    "start_time": "2023-06-25T17:06:03.840Z"
   },
   {
    "duration": 8,
    "start_time": "2023-06-25T17:06:03.872Z"
   },
   {
    "duration": 8,
    "start_time": "2023-06-25T17:06:03.882Z"
   },
   {
    "duration": 9,
    "start_time": "2023-06-25T17:06:03.892Z"
   },
   {
    "duration": 805,
    "start_time": "2023-06-25T17:06:03.903Z"
   },
   {
    "duration": 190,
    "start_time": "2023-06-25T17:06:04.714Z"
   },
   {
    "duration": 224,
    "start_time": "2023-06-25T17:06:04.906Z"
   },
   {
    "duration": 412,
    "start_time": "2023-06-25T17:06:05.131Z"
   },
   {
    "duration": 364,
    "start_time": "2023-06-25T17:06:05.545Z"
   },
   {
    "duration": 59,
    "start_time": "2023-06-25T17:06:05.912Z"
   },
   {
    "duration": 45,
    "start_time": "2023-06-25T17:06:05.977Z"
   },
   {
    "duration": 302,
    "start_time": "2023-06-25T17:06:06.024Z"
   },
   {
    "duration": 443,
    "start_time": "2023-06-25T17:06:06.328Z"
   },
   {
    "duration": 351,
    "start_time": "2023-06-25T17:06:06.773Z"
   },
   {
    "duration": 305,
    "start_time": "2023-06-25T17:06:07.126Z"
   },
   {
    "duration": 4,
    "start_time": "2023-06-25T17:07:47.688Z"
   },
   {
    "duration": 7,
    "start_time": "2023-06-25T17:08:01.854Z"
   },
   {
    "duration": 5,
    "start_time": "2023-06-25T17:08:29.391Z"
   },
   {
    "duration": 82,
    "start_time": "2023-06-25T17:12:35.899Z"
   },
   {
    "duration": 91,
    "start_time": "2023-06-25T17:12:40.994Z"
   },
   {
    "duration": 69,
    "start_time": "2023-06-25T17:12:48.880Z"
   },
   {
    "duration": 63,
    "start_time": "2023-06-25T17:13:29.880Z"
   },
   {
    "duration": 78,
    "start_time": "2023-06-25T17:13:40.431Z"
   },
   {
    "duration": 405,
    "start_time": "2023-06-25T17:14:11.307Z"
   },
   {
    "duration": 79,
    "start_time": "2023-06-25T17:14:11.714Z"
   },
   {
    "duration": 31,
    "start_time": "2023-06-25T17:14:11.795Z"
   },
   {
    "duration": 28,
    "start_time": "2023-06-25T17:14:11.828Z"
   },
   {
    "duration": 25,
    "start_time": "2023-06-25T17:14:11.859Z"
   },
   {
    "duration": 11,
    "start_time": "2023-06-25T17:14:11.892Z"
   },
   {
    "duration": 10,
    "start_time": "2023-06-25T17:14:11.904Z"
   },
   {
    "duration": 14,
    "start_time": "2023-06-25T17:14:11.916Z"
   },
   {
    "duration": 30,
    "start_time": "2023-06-25T17:14:11.932Z"
   },
   {
    "duration": 11,
    "start_time": "2023-06-25T17:14:11.971Z"
   },
   {
    "duration": 11,
    "start_time": "2023-06-25T17:14:11.985Z"
   },
   {
    "duration": 10,
    "start_time": "2023-06-25T17:14:11.998Z"
   },
   {
    "duration": 514,
    "start_time": "2023-06-25T17:14:12.010Z"
   },
   {
    "duration": 146,
    "start_time": "2023-06-25T17:14:12.525Z"
   },
   {
    "duration": 216,
    "start_time": "2023-06-25T17:14:12.673Z"
   },
   {
    "duration": 318,
    "start_time": "2023-06-25T17:14:12.893Z"
   },
   {
    "duration": 335,
    "start_time": "2023-06-25T17:14:13.213Z"
   },
   {
    "duration": 46,
    "start_time": "2023-06-25T17:14:13.556Z"
   },
   {
    "duration": 31,
    "start_time": "2023-06-25T17:14:13.604Z"
   },
   {
    "duration": 303,
    "start_time": "2023-06-25T17:14:13.636Z"
   },
   {
    "duration": 305,
    "start_time": "2023-06-25T17:14:13.941Z"
   },
   {
    "duration": 365,
    "start_time": "2023-06-25T17:14:14.248Z"
   },
   {
    "duration": 310,
    "start_time": "2023-06-25T17:14:14.615Z"
   },
   {
    "duration": 2,
    "start_time": "2023-06-25T17:14:14.927Z"
   },
   {
    "duration": 6,
    "start_time": "2023-06-25T17:14:14.930Z"
   },
   {
    "duration": 97,
    "start_time": "2023-06-25T17:14:14.937Z"
   },
   {
    "duration": 21,
    "start_time": "2023-06-25T17:14:50.180Z"
   },
   {
    "duration": 94,
    "start_time": "2023-06-25T17:18:20.269Z"
   },
   {
    "duration": 15,
    "start_time": "2023-06-25T17:19:18.803Z"
   },
   {
    "duration": 24,
    "start_time": "2023-06-25T17:19:24.603Z"
   },
   {
    "duration": 18,
    "start_time": "2023-06-25T17:20:46.230Z"
   },
   {
    "duration": 21,
    "start_time": "2023-06-25T17:20:58.626Z"
   },
   {
    "duration": 1706,
    "start_time": "2023-06-25T17:22:49.793Z"
   },
   {
    "duration": 427,
    "start_time": "2023-06-25T17:23:15.592Z"
   },
   {
    "duration": 86,
    "start_time": "2023-06-25T17:23:16.022Z"
   },
   {
    "duration": 49,
    "start_time": "2023-06-25T17:23:16.111Z"
   },
   {
    "duration": 38,
    "start_time": "2023-06-25T17:23:16.172Z"
   },
   {
    "duration": 17,
    "start_time": "2023-06-25T17:23:16.212Z"
   },
   {
    "duration": 7,
    "start_time": "2023-06-25T17:23:16.230Z"
   },
   {
    "duration": 10,
    "start_time": "2023-06-25T17:23:16.239Z"
   },
   {
    "duration": 17,
    "start_time": "2023-06-25T17:23:16.251Z"
   },
   {
    "duration": 21,
    "start_time": "2023-06-25T17:23:16.270Z"
   },
   {
    "duration": 20,
    "start_time": "2023-06-25T17:23:16.293Z"
   },
   {
    "duration": 8,
    "start_time": "2023-06-25T17:23:16.315Z"
   },
   {
    "duration": 7,
    "start_time": "2023-06-25T17:23:16.325Z"
   },
   {
    "duration": 577,
    "start_time": "2023-06-25T17:23:16.334Z"
   },
   {
    "duration": 179,
    "start_time": "2023-06-25T17:23:16.915Z"
   },
   {
    "duration": 241,
    "start_time": "2023-06-25T17:23:17.096Z"
   },
   {
    "duration": 384,
    "start_time": "2023-06-25T17:23:17.339Z"
   },
   {
    "duration": 384,
    "start_time": "2023-06-25T17:23:17.725Z"
   },
   {
    "duration": 54,
    "start_time": "2023-06-25T17:23:18.111Z"
   },
   {
    "duration": 51,
    "start_time": "2023-06-25T17:23:18.167Z"
   },
   {
    "duration": 287,
    "start_time": "2023-06-25T17:23:18.219Z"
   },
   {
    "duration": 288,
    "start_time": "2023-06-25T17:23:18.507Z"
   },
   {
    "duration": 284,
    "start_time": "2023-06-25T17:23:18.797Z"
   },
   {
    "duration": 318,
    "start_time": "2023-06-25T17:23:19.083Z"
   },
   {
    "duration": 3,
    "start_time": "2023-06-25T17:23:19.403Z"
   },
   {
    "duration": 1370,
    "start_time": "2023-06-25T17:23:19.408Z"
   },
   {
    "duration": 1709,
    "start_time": "2023-06-25T17:24:32.219Z"
   },
   {
    "duration": 2486,
    "start_time": "2023-06-25T17:25:25.727Z"
   },
   {
    "duration": 10,
    "start_time": "2023-06-25T17:25:42.877Z"
   },
   {
    "duration": 408,
    "start_time": "2023-06-25T17:26:00.210Z"
   },
   {
    "duration": 81,
    "start_time": "2023-06-25T17:26:00.620Z"
   },
   {
    "duration": 27,
    "start_time": "2023-06-25T17:26:00.703Z"
   },
   {
    "duration": 60,
    "start_time": "2023-06-25T17:26:00.732Z"
   },
   {
    "duration": 75,
    "start_time": "2023-06-25T17:26:00.795Z"
   },
   {
    "duration": 60,
    "start_time": "2023-06-25T17:26:00.873Z"
   },
   {
    "duration": 29,
    "start_time": "2023-06-25T17:26:00.935Z"
   },
   {
    "duration": 24,
    "start_time": "2023-06-25T17:26:00.966Z"
   },
   {
    "duration": 32,
    "start_time": "2023-06-25T17:26:00.993Z"
   },
   {
    "duration": 25,
    "start_time": "2023-06-25T17:26:01.027Z"
   },
   {
    "duration": 41,
    "start_time": "2023-06-25T17:26:01.054Z"
   },
   {
    "duration": 23,
    "start_time": "2023-06-25T17:26:01.098Z"
   },
   {
    "duration": 479,
    "start_time": "2023-06-25T17:26:01.124Z"
   },
   {
    "duration": 131,
    "start_time": "2023-06-25T17:26:01.606Z"
   },
   {
    "duration": 188,
    "start_time": "2023-06-25T17:26:01.739Z"
   },
   {
    "duration": 288,
    "start_time": "2023-06-25T17:26:01.928Z"
   },
   {
    "duration": 372,
    "start_time": "2023-06-25T17:26:02.217Z"
   },
   {
    "duration": 34,
    "start_time": "2023-06-25T17:26:02.591Z"
   },
   {
    "duration": 59,
    "start_time": "2023-06-25T17:26:02.627Z"
   },
   {
    "duration": 279,
    "start_time": "2023-06-25T17:26:02.688Z"
   },
   {
    "duration": 278,
    "start_time": "2023-06-25T17:26:02.970Z"
   },
   {
    "duration": 262,
    "start_time": "2023-06-25T17:26:03.249Z"
   },
   {
    "duration": 273,
    "start_time": "2023-06-25T17:26:03.512Z"
   },
   {
    "duration": 28,
    "start_time": "2023-06-25T17:26:07.952Z"
   },
   {
    "duration": 112,
    "start_time": "2023-06-25T17:26:24.769Z"
   },
   {
    "duration": 3,
    "start_time": "2023-06-25T17:26:30.101Z"
   },
   {
    "duration": 18,
    "start_time": "2023-06-25T17:26:30.905Z"
   },
   {
    "duration": 21,
    "start_time": "2023-06-25T17:26:32.717Z"
   },
   {
    "duration": 9,
    "start_time": "2023-06-25T17:32:07.332Z"
   },
   {
    "duration": 18,
    "start_time": "2023-06-25T17:32:16.368Z"
   },
   {
    "duration": 16,
    "start_time": "2023-06-25T17:33:31.802Z"
   },
   {
    "duration": 5,
    "start_time": "2023-06-25T17:36:41.648Z"
   },
   {
    "duration": 21,
    "start_time": "2023-06-25T17:36:46.631Z"
   },
   {
    "duration": 25,
    "start_time": "2023-06-25T17:39:00.374Z"
   },
   {
    "duration": 31,
    "start_time": "2023-06-25T17:39:26.556Z"
   },
   {
    "duration": 25,
    "start_time": "2023-06-25T17:40:03.268Z"
   },
   {
    "duration": 449,
    "start_time": "2023-06-25T17:40:22.052Z"
   },
   {
    "duration": 77,
    "start_time": "2023-06-25T17:40:22.502Z"
   },
   {
    "duration": 24,
    "start_time": "2023-06-25T17:40:22.581Z"
   },
   {
    "duration": 16,
    "start_time": "2023-06-25T17:40:22.606Z"
   },
   {
    "duration": 14,
    "start_time": "2023-06-25T17:40:22.624Z"
   },
   {
    "duration": 14,
    "start_time": "2023-06-25T17:40:22.640Z"
   },
   {
    "duration": 8,
    "start_time": "2023-06-25T17:40:22.656Z"
   },
   {
    "duration": 12,
    "start_time": "2023-06-25T17:40:22.666Z"
   },
   {
    "duration": 9,
    "start_time": "2023-06-25T17:40:22.680Z"
   },
   {
    "duration": 5,
    "start_time": "2023-06-25T17:40:22.691Z"
   },
   {
    "duration": 6,
    "start_time": "2023-06-25T17:40:22.698Z"
   },
   {
    "duration": 48,
    "start_time": "2023-06-25T17:40:22.706Z"
   },
   {
    "duration": 443,
    "start_time": "2023-06-25T17:40:22.765Z"
   },
   {
    "duration": 126,
    "start_time": "2023-06-25T17:40:23.211Z"
   },
   {
    "duration": 193,
    "start_time": "2023-06-25T17:40:23.338Z"
   },
   {
    "duration": 295,
    "start_time": "2023-06-25T17:40:23.533Z"
   },
   {
    "duration": 327,
    "start_time": "2023-06-25T17:40:23.830Z"
   },
   {
    "duration": 35,
    "start_time": "2023-06-25T17:40:24.159Z"
   },
   {
    "duration": 74,
    "start_time": "2023-06-25T17:40:24.196Z"
   },
   {
    "duration": 277,
    "start_time": "2023-06-25T17:40:24.272Z"
   },
   {
    "duration": 297,
    "start_time": "2023-06-25T17:40:24.551Z"
   },
   {
    "duration": 288,
    "start_time": "2023-06-25T17:40:24.850Z"
   },
   {
    "duration": 269,
    "start_time": "2023-06-25T17:40:25.140Z"
   },
   {
    "duration": 4,
    "start_time": "2023-06-25T17:40:25.411Z"
   },
   {
    "duration": 24,
    "start_time": "2023-06-25T17:40:25.417Z"
   },
   {
    "duration": 34,
    "start_time": "2023-06-25T17:40:25.455Z"
   },
   {
    "duration": 25,
    "start_time": "2023-06-25T17:40:25.490Z"
   },
   {
    "duration": 19,
    "start_time": "2023-06-25T17:40:47.101Z"
   },
   {
    "duration": 12,
    "start_time": "2023-06-25T17:41:29.728Z"
   },
   {
    "duration": 12,
    "start_time": "2023-06-25T17:41:35.604Z"
   },
   {
    "duration": 12,
    "start_time": "2023-06-25T17:41:42.719Z"
   },
   {
    "duration": 19,
    "start_time": "2023-06-25T17:41:52.170Z"
   },
   {
    "duration": 24,
    "start_time": "2023-06-25T17:41:57.400Z"
   },
   {
    "duration": 36,
    "start_time": "2023-06-25T17:42:01.740Z"
   },
   {
    "duration": 39,
    "start_time": "2023-06-25T17:42:37.317Z"
   },
   {
    "duration": 23,
    "start_time": "2023-06-25T17:42:53.180Z"
   },
   {
    "duration": 26,
    "start_time": "2023-06-25T17:44:17.175Z"
   },
   {
    "duration": 35,
    "start_time": "2023-06-25T17:44:25.248Z"
   },
   {
    "duration": 26,
    "start_time": "2023-06-25T17:44:29.514Z"
   },
   {
    "duration": 25,
    "start_time": "2023-06-25T17:45:27.716Z"
   },
   {
    "duration": 25,
    "start_time": "2023-06-25T17:45:52.482Z"
   },
   {
    "duration": 521,
    "start_time": "2023-06-25T19:09:12.892Z"
   },
   {
    "duration": 98,
    "start_time": "2023-06-25T19:09:13.420Z"
   },
   {
    "duration": 24,
    "start_time": "2023-06-25T19:09:13.520Z"
   },
   {
    "duration": 32,
    "start_time": "2023-06-25T19:09:13.545Z"
   },
   {
    "duration": 20,
    "start_time": "2023-06-25T19:09:13.580Z"
   },
   {
    "duration": 9,
    "start_time": "2023-06-25T19:09:13.607Z"
   },
   {
    "duration": 9,
    "start_time": "2023-06-25T19:09:13.619Z"
   },
   {
    "duration": 10,
    "start_time": "2023-06-25T19:09:13.630Z"
   },
   {
    "duration": 33,
    "start_time": "2023-06-25T19:09:13.641Z"
   },
   {
    "duration": 12,
    "start_time": "2023-06-25T19:09:13.677Z"
   },
   {
    "duration": 11,
    "start_time": "2023-06-25T19:09:13.693Z"
   },
   {
    "duration": 10,
    "start_time": "2023-06-25T19:09:13.707Z"
   },
   {
    "duration": 613,
    "start_time": "2023-06-25T19:09:13.723Z"
   },
   {
    "duration": 194,
    "start_time": "2023-06-25T19:09:14.339Z"
   },
   {
    "duration": 246,
    "start_time": "2023-06-25T19:09:14.535Z"
   },
   {
    "duration": 344,
    "start_time": "2023-06-25T19:09:14.783Z"
   },
   {
    "duration": 410,
    "start_time": "2023-06-25T19:09:15.129Z"
   },
   {
    "duration": 52,
    "start_time": "2023-06-25T19:09:15.541Z"
   },
   {
    "duration": 46,
    "start_time": "2023-06-25T19:09:15.595Z"
   },
   {
    "duration": 349,
    "start_time": "2023-06-25T19:09:15.643Z"
   },
   {
    "duration": 358,
    "start_time": "2023-06-25T19:09:15.994Z"
   },
   {
    "duration": 392,
    "start_time": "2023-06-25T19:09:16.354Z"
   },
   {
    "duration": 367,
    "start_time": "2023-06-25T19:09:16.749Z"
   },
   {
    "duration": 3,
    "start_time": "2023-06-25T19:09:17.118Z"
   },
   {
    "duration": 53,
    "start_time": "2023-06-25T19:09:17.123Z"
   },
   {
    "duration": 44,
    "start_time": "2023-06-25T19:09:17.178Z"
   },
   {
    "duration": 25,
    "start_time": "2023-06-25T19:09:26.210Z"
   },
   {
    "duration": 47,
    "start_time": "2023-06-25T19:09:30.872Z"
   },
   {
    "duration": 65,
    "start_time": "2023-06-25T19:10:31.163Z"
   },
   {
    "duration": 20,
    "start_time": "2023-06-25T19:13:41.292Z"
   },
   {
    "duration": 13,
    "start_time": "2023-06-25T19:13:54.612Z"
   },
   {
    "duration": 547,
    "start_time": "2023-06-25T19:16:07.597Z"
   },
   {
    "duration": 96,
    "start_time": "2023-06-25T19:16:08.147Z"
   },
   {
    "duration": 43,
    "start_time": "2023-06-25T19:16:08.245Z"
   },
   {
    "duration": 31,
    "start_time": "2023-06-25T19:16:08.291Z"
   },
   {
    "duration": 15,
    "start_time": "2023-06-25T19:16:08.324Z"
   },
   {
    "duration": 19,
    "start_time": "2023-06-25T19:16:08.341Z"
   },
   {
    "duration": 9,
    "start_time": "2023-06-25T19:16:08.363Z"
   },
   {
    "duration": 31,
    "start_time": "2023-06-25T19:16:08.374Z"
   },
   {
    "duration": 18,
    "start_time": "2023-06-25T19:16:08.407Z"
   },
   {
    "duration": 6,
    "start_time": "2023-06-25T19:16:08.430Z"
   },
   {
    "duration": 5,
    "start_time": "2023-06-25T19:16:08.438Z"
   },
   {
    "duration": 8,
    "start_time": "2023-06-25T19:16:08.454Z"
   },
   {
    "duration": 574,
    "start_time": "2023-06-25T19:16:08.467Z"
   },
   {
    "duration": 169,
    "start_time": "2023-06-25T19:16:09.042Z"
   },
   {
    "duration": 224,
    "start_time": "2023-06-25T19:16:09.215Z"
   },
   {
    "duration": 380,
    "start_time": "2023-06-25T19:16:09.441Z"
   },
   {
    "duration": 410,
    "start_time": "2023-06-25T19:16:09.824Z"
   },
   {
    "duration": 56,
    "start_time": "2023-06-25T19:16:10.235Z"
   },
   {
    "duration": 4,
    "start_time": "2023-06-25T19:16:10.292Z"
   },
   {
    "duration": 65,
    "start_time": "2023-06-25T19:16:10.297Z"
   },
   {
    "duration": 360,
    "start_time": "2023-06-25T19:16:10.364Z"
   },
   {
    "duration": 417,
    "start_time": "2023-06-25T19:16:10.726Z"
   },
   {
    "duration": 356,
    "start_time": "2023-06-25T19:16:11.146Z"
   },
   {
    "duration": 341,
    "start_time": "2023-06-25T19:16:11.504Z"
   },
   {
    "duration": 33,
    "start_time": "2023-06-25T19:16:11.846Z"
   },
   {
    "duration": 37,
    "start_time": "2023-06-25T19:16:11.881Z"
   },
   {
    "duration": 37,
    "start_time": "2023-06-25T19:17:48.900Z"
   },
   {
    "duration": 23,
    "start_time": "2023-06-25T19:18:04.987Z"
   },
   {
    "duration": 32,
    "start_time": "2023-06-25T19:18:16.743Z"
   },
   {
    "duration": 29,
    "start_time": "2023-06-25T19:19:05.873Z"
   },
   {
    "duration": 33,
    "start_time": "2023-06-25T19:19:07.292Z"
   },
   {
    "duration": 459,
    "start_time": "2023-06-25T19:19:19.749Z"
   },
   {
    "duration": 78,
    "start_time": "2023-06-25T19:19:20.210Z"
   },
   {
    "duration": 25,
    "start_time": "2023-06-25T19:19:20.290Z"
   },
   {
    "duration": 17,
    "start_time": "2023-06-25T19:19:20.317Z"
   },
   {
    "duration": 26,
    "start_time": "2023-06-25T19:19:20.336Z"
   },
   {
    "duration": 10,
    "start_time": "2023-06-25T19:19:20.365Z"
   },
   {
    "duration": 10,
    "start_time": "2023-06-25T19:19:20.377Z"
   },
   {
    "duration": 16,
    "start_time": "2023-06-25T19:19:20.390Z"
   },
   {
    "duration": 12,
    "start_time": "2023-06-25T19:19:20.408Z"
   },
   {
    "duration": 6,
    "start_time": "2023-06-25T19:19:20.421Z"
   },
   {
    "duration": 32,
    "start_time": "2023-06-25T19:19:20.429Z"
   },
   {
    "duration": 9,
    "start_time": "2023-06-25T19:19:20.463Z"
   },
   {
    "duration": 480,
    "start_time": "2023-06-25T19:19:20.477Z"
   },
   {
    "duration": 126,
    "start_time": "2023-06-25T19:19:20.969Z"
   },
   {
    "duration": 206,
    "start_time": "2023-06-25T19:19:21.097Z"
   },
   {
    "duration": 318,
    "start_time": "2023-06-25T19:19:21.304Z"
   },
   {
    "duration": 353,
    "start_time": "2023-06-25T19:19:21.624Z"
   },
   {
    "duration": 34,
    "start_time": "2023-06-25T19:19:21.982Z"
   },
   {
    "duration": 3,
    "start_time": "2023-06-25T19:19:22.018Z"
   },
   {
    "duration": 70,
    "start_time": "2023-06-25T19:19:22.022Z"
   },
   {
    "duration": 297,
    "start_time": "2023-06-25T19:19:22.094Z"
   },
   {
    "duration": 305,
    "start_time": "2023-06-25T19:19:22.393Z"
   },
   {
    "duration": 295,
    "start_time": "2023-06-25T19:19:22.700Z"
   },
   {
    "duration": 297,
    "start_time": "2023-06-25T19:19:22.997Z"
   },
   {
    "duration": 33,
    "start_time": "2023-06-25T19:19:23.296Z"
   },
   {
    "duration": 47,
    "start_time": "2023-06-25T19:19:23.331Z"
   },
   {
    "duration": 454,
    "start_time": "2023-06-25T19:19:47.498Z"
   },
   {
    "duration": 99,
    "start_time": "2023-06-25T19:19:47.954Z"
   },
   {
    "duration": 34,
    "start_time": "2023-06-25T19:19:48.056Z"
   },
   {
    "duration": 18,
    "start_time": "2023-06-25T19:19:48.092Z"
   },
   {
    "duration": 14,
    "start_time": "2023-06-25T19:19:48.112Z"
   },
   {
    "duration": 38,
    "start_time": "2023-06-25T19:19:48.128Z"
   },
   {
    "duration": 10,
    "start_time": "2023-06-25T19:19:48.168Z"
   },
   {
    "duration": 11,
    "start_time": "2023-06-25T19:19:48.180Z"
   },
   {
    "duration": 11,
    "start_time": "2023-06-25T19:19:48.192Z"
   },
   {
    "duration": 5,
    "start_time": "2023-06-25T19:19:48.204Z"
   },
   {
    "duration": 6,
    "start_time": "2023-06-25T19:19:48.211Z"
   },
   {
    "duration": 40,
    "start_time": "2023-06-25T19:19:48.219Z"
   },
   {
    "duration": 475,
    "start_time": "2023-06-25T19:19:48.261Z"
   },
   {
    "duration": 135,
    "start_time": "2023-06-25T19:19:48.739Z"
   },
   {
    "duration": 211,
    "start_time": "2023-06-25T19:19:48.877Z"
   },
   {
    "duration": 323,
    "start_time": "2023-06-25T19:19:49.090Z"
   },
   {
    "duration": 354,
    "start_time": "2023-06-25T19:19:49.415Z"
   },
   {
    "duration": 38,
    "start_time": "2023-06-25T19:19:49.771Z"
   },
   {
    "duration": 2,
    "start_time": "2023-06-25T19:19:49.811Z"
   },
   {
    "duration": 59,
    "start_time": "2023-06-25T19:19:49.814Z"
   },
   {
    "duration": 275,
    "start_time": "2023-06-25T19:19:49.875Z"
   },
   {
    "duration": 299,
    "start_time": "2023-06-25T19:19:50.155Z"
   },
   {
    "duration": 299,
    "start_time": "2023-06-25T19:19:50.456Z"
   },
   {
    "duration": 336,
    "start_time": "2023-06-25T19:19:50.756Z"
   },
   {
    "duration": 38,
    "start_time": "2023-06-25T19:19:51.095Z"
   },
   {
    "duration": 61,
    "start_time": "2023-06-25T19:19:51.135Z"
   },
   {
    "duration": 23,
    "start_time": "2023-06-25T19:20:54.530Z"
   },
   {
    "duration": 429,
    "start_time": "2023-06-25T19:33:36.674Z"
   },
   {
    "duration": 82,
    "start_time": "2023-06-25T19:33:37.105Z"
   },
   {
    "duration": 26,
    "start_time": "2023-06-25T19:33:37.189Z"
   },
   {
    "duration": 25,
    "start_time": "2023-06-25T19:33:37.216Z"
   },
   {
    "duration": 21,
    "start_time": "2023-06-25T19:33:37.244Z"
   },
   {
    "duration": 10,
    "start_time": "2023-06-25T19:33:37.267Z"
   },
   {
    "duration": 6,
    "start_time": "2023-06-25T19:33:37.279Z"
   },
   {
    "duration": 15,
    "start_time": "2023-06-25T19:33:37.288Z"
   },
   {
    "duration": 15,
    "start_time": "2023-06-25T19:33:37.305Z"
   },
   {
    "duration": 8,
    "start_time": "2023-06-25T19:33:37.323Z"
   },
   {
    "duration": 21,
    "start_time": "2023-06-25T19:33:37.334Z"
   },
   {
    "duration": 7,
    "start_time": "2023-06-25T19:33:37.358Z"
   },
   {
    "duration": 585,
    "start_time": "2023-06-25T19:33:37.367Z"
   },
   {
    "duration": 165,
    "start_time": "2023-06-25T19:33:37.956Z"
   },
   {
    "duration": 217,
    "start_time": "2023-06-25T19:33:38.123Z"
   },
   {
    "duration": 354,
    "start_time": "2023-06-25T19:33:38.342Z"
   },
   {
    "duration": 378,
    "start_time": "2023-06-25T19:33:38.698Z"
   },
   {
    "duration": 36,
    "start_time": "2023-06-25T19:33:39.079Z"
   },
   {
    "duration": 3,
    "start_time": "2023-06-25T19:33:39.117Z"
   },
   {
    "duration": 72,
    "start_time": "2023-06-25T19:33:39.123Z"
   },
   {
    "duration": 308,
    "start_time": "2023-06-25T19:33:39.197Z"
   },
   {
    "duration": 293,
    "start_time": "2023-06-25T19:33:39.507Z"
   },
   {
    "duration": 302,
    "start_time": "2023-06-25T19:33:39.802Z"
   },
   {
    "duration": 334,
    "start_time": "2023-06-25T19:33:40.106Z"
   },
   {
    "duration": 42,
    "start_time": "2023-06-25T19:33:40.442Z"
   },
   {
    "duration": 26,
    "start_time": "2023-06-25T19:33:40.486Z"
   },
   {
    "duration": 28,
    "start_time": "2023-06-25T19:36:16.708Z"
   },
   {
    "duration": 33,
    "start_time": "2023-06-25T19:36:26.840Z"
   },
   {
    "duration": 26,
    "start_time": "2023-06-25T19:36:30.891Z"
   },
   {
    "duration": 26,
    "start_time": "2023-06-25T19:38:42.685Z"
   },
   {
    "duration": 106,
    "start_time": "2023-06-25T19:41:23.490Z"
   },
   {
    "duration": 5,
    "start_time": "2023-06-25T19:41:31.438Z"
   },
   {
    "duration": 16,
    "start_time": "2023-06-25T19:43:08.250Z"
   },
   {
    "duration": 6,
    "start_time": "2023-06-25T19:45:04.296Z"
   },
   {
    "duration": 19,
    "start_time": "2023-06-25T19:45:14.059Z"
   },
   {
    "duration": 19,
    "start_time": "2023-06-25T19:45:57.989Z"
   },
   {
    "duration": 9,
    "start_time": "2023-06-25T19:47:02.451Z"
   },
   {
    "duration": 4,
    "start_time": "2023-06-25T19:47:11.623Z"
   },
   {
    "duration": 28,
    "start_time": "2023-06-25T19:47:15.452Z"
   },
   {
    "duration": 33,
    "start_time": "2023-06-25T19:47:25.632Z"
   },
   {
    "duration": 24,
    "start_time": "2023-06-25T19:49:02.327Z"
   },
   {
    "duration": 26,
    "start_time": "2023-06-25T19:49:09.099Z"
   },
   {
    "duration": 138,
    "start_time": "2023-06-25T19:50:58.087Z"
   },
   {
    "duration": 404,
    "start_time": "2023-06-25T19:51:45.785Z"
   },
   {
    "duration": 79,
    "start_time": "2023-06-25T19:51:46.191Z"
   },
   {
    "duration": 24,
    "start_time": "2023-06-25T19:51:46.272Z"
   },
   {
    "duration": 17,
    "start_time": "2023-06-25T19:51:46.298Z"
   },
   {
    "duration": 14,
    "start_time": "2023-06-25T19:51:46.317Z"
   },
   {
    "duration": 30,
    "start_time": "2023-06-25T19:51:46.333Z"
   },
   {
    "duration": 8,
    "start_time": "2023-06-25T19:51:46.365Z"
   },
   {
    "duration": 11,
    "start_time": "2023-06-25T19:51:46.376Z"
   },
   {
    "duration": 15,
    "start_time": "2023-06-25T19:51:46.388Z"
   },
   {
    "duration": 8,
    "start_time": "2023-06-25T19:51:46.408Z"
   },
   {
    "duration": 37,
    "start_time": "2023-06-25T19:51:46.418Z"
   },
   {
    "duration": 10,
    "start_time": "2023-06-25T19:51:46.461Z"
   },
   {
    "duration": 506,
    "start_time": "2023-06-25T19:51:46.474Z"
   },
   {
    "duration": 138,
    "start_time": "2023-06-25T19:51:46.984Z"
   },
   {
    "duration": 189,
    "start_time": "2023-06-25T19:51:47.124Z"
   },
   {
    "duration": 356,
    "start_time": "2023-06-25T19:51:47.315Z"
   },
   {
    "duration": 321,
    "start_time": "2023-06-25T19:51:47.673Z"
   },
   {
    "duration": 43,
    "start_time": "2023-06-25T19:51:47.996Z"
   },
   {
    "duration": 9,
    "start_time": "2023-06-25T19:51:48.053Z"
   },
   {
    "duration": 56,
    "start_time": "2023-06-25T19:51:48.066Z"
   },
   {
    "duration": 321,
    "start_time": "2023-06-25T19:51:48.124Z"
   },
   {
    "duration": 285,
    "start_time": "2023-06-25T19:51:48.447Z"
   },
   {
    "duration": 290,
    "start_time": "2023-06-25T19:51:48.734Z"
   },
   {
    "duration": 278,
    "start_time": "2023-06-25T19:51:49.026Z"
   },
   {
    "duration": 26,
    "start_time": "2023-06-25T19:51:49.305Z"
   },
   {
    "duration": 140,
    "start_time": "2023-06-25T19:51:49.333Z"
   },
   {
    "duration": 114,
    "start_time": "2023-06-25T19:53:20.575Z"
   },
   {
    "duration": 25,
    "start_time": "2023-06-25T19:53:49.124Z"
   },
   {
    "duration": 47,
    "start_time": "2023-06-25T19:54:00.122Z"
   },
   {
    "duration": 40,
    "start_time": "2023-06-25T19:55:08.534Z"
   },
   {
    "duration": 74,
    "start_time": "2023-06-25T19:57:37.594Z"
   },
   {
    "duration": 65,
    "start_time": "2023-06-25T19:59:25.883Z"
   },
   {
    "duration": 75,
    "start_time": "2023-06-25T19:59:48.884Z"
   },
   {
    "duration": 43,
    "start_time": "2023-06-25T20:00:37.028Z"
   },
   {
    "duration": 25,
    "start_time": "2023-06-25T20:02:18.744Z"
   },
   {
    "duration": 38,
    "start_time": "2023-06-25T20:02:23.853Z"
   },
   {
    "duration": 4,
    "start_time": "2023-06-25T20:08:51.390Z"
   },
   {
    "duration": 40,
    "start_time": "2023-06-25T20:09:01.344Z"
   },
   {
    "duration": 47,
    "start_time": "2023-06-25T20:11:56.794Z"
   },
   {
    "duration": 70,
    "start_time": "2023-06-25T20:16:25.345Z"
   },
   {
    "duration": 947,
    "start_time": "2023-06-25T20:16:36.712Z"
   },
   {
    "duration": 369,
    "start_time": "2023-06-25T20:16:37.662Z"
   },
   {
    "duration": 36,
    "start_time": "2023-06-25T20:16:38.033Z"
   },
   {
    "duration": 26,
    "start_time": "2023-06-25T20:16:38.072Z"
   },
   {
    "duration": 13,
    "start_time": "2023-06-25T20:16:38.100Z"
   },
   {
    "duration": 13,
    "start_time": "2023-06-25T20:16:38.115Z"
   },
   {
    "duration": 28,
    "start_time": "2023-06-25T20:16:38.129Z"
   },
   {
    "duration": 26,
    "start_time": "2023-06-25T20:16:38.159Z"
   },
   {
    "duration": 11,
    "start_time": "2023-06-25T20:16:38.187Z"
   },
   {
    "duration": 7,
    "start_time": "2023-06-25T20:16:38.200Z"
   },
   {
    "duration": 5,
    "start_time": "2023-06-25T20:16:38.209Z"
   },
   {
    "duration": 4,
    "start_time": "2023-06-25T20:16:38.216Z"
   },
   {
    "duration": 817,
    "start_time": "2023-06-25T20:16:38.222Z"
   },
   {
    "duration": 144,
    "start_time": "2023-06-25T20:16:39.042Z"
   },
   {
    "duration": 196,
    "start_time": "2023-06-25T20:16:39.189Z"
   },
   {
    "duration": 302,
    "start_time": "2023-06-25T20:16:39.387Z"
   },
   {
    "duration": 394,
    "start_time": "2023-06-25T20:16:39.691Z"
   },
   {
    "duration": 34,
    "start_time": "2023-06-25T20:16:40.088Z"
   },
   {
    "duration": 3,
    "start_time": "2023-06-25T20:16:40.124Z"
   },
   {
    "duration": 54,
    "start_time": "2023-06-25T20:16:40.128Z"
   },
   {
    "duration": 291,
    "start_time": "2023-06-25T20:16:40.186Z"
   },
   {
    "duration": 287,
    "start_time": "2023-06-25T20:16:40.480Z"
   },
   {
    "duration": 264,
    "start_time": "2023-06-25T20:16:40.771Z"
   },
   {
    "duration": 310,
    "start_time": "2023-06-25T20:16:41.036Z"
   },
   {
    "duration": 62,
    "start_time": "2023-06-25T20:17:12.500Z"
   },
   {
    "duration": 862,
    "start_time": "2023-06-25T20:17:36.115Z"
   },
   {
    "duration": 353,
    "start_time": "2023-06-25T20:17:36.980Z"
   },
   {
    "duration": 36,
    "start_time": "2023-06-25T20:17:37.336Z"
   },
   {
    "duration": 33,
    "start_time": "2023-06-25T20:17:37.376Z"
   },
   {
    "duration": 21,
    "start_time": "2023-06-25T20:17:37.412Z"
   },
   {
    "duration": 38,
    "start_time": "2023-06-25T20:17:37.435Z"
   },
   {
    "duration": 8,
    "start_time": "2023-06-25T20:17:37.479Z"
   },
   {
    "duration": 17,
    "start_time": "2023-06-25T20:17:37.489Z"
   },
   {
    "duration": 19,
    "start_time": "2023-06-25T20:17:37.508Z"
   },
   {
    "duration": 42,
    "start_time": "2023-06-25T20:17:37.529Z"
   },
   {
    "duration": 15,
    "start_time": "2023-06-25T20:17:37.574Z"
   },
   {
    "duration": 10,
    "start_time": "2023-06-25T20:17:37.591Z"
   },
   {
    "duration": 884,
    "start_time": "2023-06-25T20:17:37.604Z"
   },
   {
    "duration": 130,
    "start_time": "2023-06-25T20:17:38.491Z"
   },
   {
    "duration": 182,
    "start_time": "2023-06-25T20:17:38.623Z"
   },
   {
    "duration": 287,
    "start_time": "2023-06-25T20:17:38.806Z"
   },
   {
    "duration": 341,
    "start_time": "2023-06-25T20:17:39.095Z"
   },
   {
    "duration": 52,
    "start_time": "2023-06-25T20:17:39.438Z"
   },
   {
    "duration": 3,
    "start_time": "2023-06-25T20:17:39.491Z"
   },
   {
    "duration": 48,
    "start_time": "2023-06-25T20:17:39.495Z"
   },
   {
    "duration": 260,
    "start_time": "2023-06-25T20:17:39.544Z"
   },
   {
    "duration": 272,
    "start_time": "2023-06-25T20:17:39.806Z"
   },
   {
    "duration": 262,
    "start_time": "2023-06-25T20:17:40.087Z"
   },
   {
    "duration": 286,
    "start_time": "2023-06-25T20:17:40.354Z"
   },
   {
    "duration": 48,
    "start_time": "2023-06-25T20:17:40.642Z"
   },
   {
    "duration": 109,
    "start_time": "2023-06-25T20:18:31.276Z"
   },
   {
    "duration": 62,
    "start_time": "2023-06-25T20:21:12.201Z"
   },
   {
    "duration": 415,
    "start_time": "2023-06-25T20:21:26.398Z"
   },
   {
    "duration": 329,
    "start_time": "2023-06-25T20:21:26.815Z"
   },
   {
    "duration": 32,
    "start_time": "2023-06-25T20:21:27.146Z"
   },
   {
    "duration": 40,
    "start_time": "2023-06-25T20:21:27.181Z"
   },
   {
    "duration": 16,
    "start_time": "2023-06-25T20:21:27.224Z"
   },
   {
    "duration": 30,
    "start_time": "2023-06-25T20:21:27.242Z"
   },
   {
    "duration": 22,
    "start_time": "2023-06-25T20:21:27.274Z"
   },
   {
    "duration": 20,
    "start_time": "2023-06-25T20:21:27.302Z"
   },
   {
    "duration": 37,
    "start_time": "2023-06-25T20:21:27.324Z"
   },
   {
    "duration": 12,
    "start_time": "2023-06-25T20:21:27.365Z"
   },
   {
    "duration": 13,
    "start_time": "2023-06-25T20:21:27.380Z"
   },
   {
    "duration": 5,
    "start_time": "2023-06-25T20:21:27.396Z"
   },
   {
    "duration": 476,
    "start_time": "2023-06-25T20:21:27.403Z"
   },
   {
    "duration": 119,
    "start_time": "2023-06-25T20:21:27.882Z"
   },
   {
    "duration": 173,
    "start_time": "2023-06-25T20:21:28.003Z"
   },
   {
    "duration": 280,
    "start_time": "2023-06-25T20:21:28.178Z"
   },
   {
    "duration": 316,
    "start_time": "2023-06-25T20:21:28.463Z"
   },
   {
    "duration": 48,
    "start_time": "2023-06-25T20:21:28.781Z"
   },
   {
    "duration": 2,
    "start_time": "2023-06-25T20:21:28.831Z"
   },
   {
    "duration": 55,
    "start_time": "2023-06-25T20:21:28.835Z"
   },
   {
    "duration": 268,
    "start_time": "2023-06-25T20:21:28.891Z"
   },
   {
    "duration": 248,
    "start_time": "2023-06-25T20:21:29.162Z"
   },
   {
    "duration": 266,
    "start_time": "2023-06-25T20:21:29.412Z"
   },
   {
    "duration": 245,
    "start_time": "2023-06-25T20:21:29.680Z"
   },
   {
    "duration": 48,
    "start_time": "2023-06-25T20:21:29.926Z"
   },
   {
    "duration": 1128,
    "start_time": "2023-06-25T20:21:50.141Z"
   },
   {
    "duration": 59,
    "start_time": "2023-06-25T20:22:23.389Z"
   },
   {
    "duration": 1353,
    "start_time": "2023-06-25T20:22:28.604Z"
   },
   {
    "duration": 359,
    "start_time": "2023-06-25T20:22:29.959Z"
   },
   {
    "duration": 48,
    "start_time": "2023-06-25T20:22:30.320Z"
   },
   {
    "duration": 20,
    "start_time": "2023-06-25T20:22:30.370Z"
   },
   {
    "duration": 32,
    "start_time": "2023-06-25T20:22:30.393Z"
   },
   {
    "duration": 48,
    "start_time": "2023-06-25T20:22:30.427Z"
   },
   {
    "duration": 25,
    "start_time": "2023-06-25T20:22:30.477Z"
   },
   {
    "duration": 37,
    "start_time": "2023-06-25T20:22:30.504Z"
   },
   {
    "duration": 46,
    "start_time": "2023-06-25T20:22:30.543Z"
   },
   {
    "duration": 59,
    "start_time": "2023-06-25T20:22:30.591Z"
   },
   {
    "duration": 62,
    "start_time": "2023-06-25T20:22:30.651Z"
   },
   {
    "duration": 66,
    "start_time": "2023-06-25T20:22:30.714Z"
   },
   {
    "duration": 1348,
    "start_time": "2023-06-25T20:22:30.782Z"
   },
   {
    "duration": 111,
    "start_time": "2023-06-25T20:22:32.133Z"
   },
   {
    "duration": 230,
    "start_time": "2023-06-25T20:22:32.246Z"
   },
   {
    "duration": 284,
    "start_time": "2023-06-25T20:22:32.478Z"
   },
   {
    "duration": 323,
    "start_time": "2023-06-25T20:22:32.764Z"
   },
   {
    "duration": 33,
    "start_time": "2023-06-25T20:22:33.089Z"
   },
   {
    "duration": 3,
    "start_time": "2023-06-25T20:22:33.124Z"
   },
   {
    "duration": 65,
    "start_time": "2023-06-25T20:22:33.129Z"
   },
   {
    "duration": 282,
    "start_time": "2023-06-25T20:22:33.196Z"
   },
   {
    "duration": 263,
    "start_time": "2023-06-25T20:22:33.479Z"
   },
   {
    "duration": 264,
    "start_time": "2023-06-25T20:22:33.744Z"
   },
   {
    "duration": 269,
    "start_time": "2023-06-25T20:22:34.010Z"
   },
   {
    "duration": 22,
    "start_time": "2023-06-25T20:22:34.281Z"
   },
   {
    "duration": 403,
    "start_time": "2023-06-25T20:23:02.282Z"
   },
   {
    "duration": 321,
    "start_time": "2023-06-25T20:23:02.687Z"
   },
   {
    "duration": 24,
    "start_time": "2023-06-25T20:23:03.009Z"
   },
   {
    "duration": 21,
    "start_time": "2023-06-25T20:23:03.035Z"
   },
   {
    "duration": 18,
    "start_time": "2023-06-25T20:23:03.070Z"
   },
   {
    "duration": 8,
    "start_time": "2023-06-25T20:23:03.090Z"
   },
   {
    "duration": 6,
    "start_time": "2023-06-25T20:23:03.100Z"
   },
   {
    "duration": 19,
    "start_time": "2023-06-25T20:23:03.108Z"
   },
   {
    "duration": 38,
    "start_time": "2023-06-25T20:23:03.129Z"
   },
   {
    "duration": 9,
    "start_time": "2023-06-25T20:23:03.169Z"
   },
   {
    "duration": 8,
    "start_time": "2023-06-25T20:23:03.180Z"
   },
   {
    "duration": 6,
    "start_time": "2023-06-25T20:23:03.189Z"
   },
   {
    "duration": 414,
    "start_time": "2023-06-25T20:23:03.197Z"
   },
   {
    "duration": 129,
    "start_time": "2023-06-25T20:23:03.614Z"
   },
   {
    "duration": 180,
    "start_time": "2023-06-25T20:23:03.745Z"
   },
   {
    "duration": 281,
    "start_time": "2023-06-25T20:23:03.927Z"
   },
   {
    "duration": 330,
    "start_time": "2023-06-25T20:23:04.210Z"
   },
   {
    "duration": 38,
    "start_time": "2023-06-25T20:23:04.541Z"
   },
   {
    "duration": 3,
    "start_time": "2023-06-25T20:23:04.580Z"
   },
   {
    "duration": 33,
    "start_time": "2023-06-25T20:23:04.584Z"
   },
   {
    "duration": 274,
    "start_time": "2023-06-25T20:23:04.618Z"
   },
   {
    "duration": 253,
    "start_time": "2023-06-25T20:23:04.894Z"
   },
   {
    "duration": 262,
    "start_time": "2023-06-25T20:23:05.153Z"
   },
   {
    "duration": 257,
    "start_time": "2023-06-25T20:23:05.417Z"
   },
   {
    "duration": 31,
    "start_time": "2023-06-25T20:23:05.676Z"
   },
   {
    "duration": 51,
    "start_time": "2023-06-25T20:23:10.861Z"
   },
   {
    "duration": 41,
    "start_time": "2023-06-25T20:29:25.570Z"
   },
   {
    "duration": 48,
    "start_time": "2023-06-25T20:29:36.855Z"
   },
   {
    "duration": 48,
    "start_time": "2023-06-26T11:18:42.403Z"
   },
   {
    "duration": 392,
    "start_time": "2023-06-26T11:18:50.857Z"
   },
   {
    "duration": 302,
    "start_time": "2023-06-26T11:18:51.251Z"
   },
   {
    "duration": 33,
    "start_time": "2023-06-26T11:18:51.554Z"
   },
   {
    "duration": 15,
    "start_time": "2023-06-26T11:18:51.589Z"
   },
   {
    "duration": 24,
    "start_time": "2023-06-26T11:18:51.606Z"
   },
   {
    "duration": 8,
    "start_time": "2023-06-26T11:18:51.631Z"
   },
   {
    "duration": 5,
    "start_time": "2023-06-26T11:18:51.640Z"
   },
   {
    "duration": 33,
    "start_time": "2023-06-26T11:18:51.646Z"
   },
   {
    "duration": 24,
    "start_time": "2023-06-26T11:18:51.680Z"
   },
   {
    "duration": 24,
    "start_time": "2023-06-26T11:18:51.708Z"
   },
   {
    "duration": 26,
    "start_time": "2023-06-26T11:18:51.734Z"
   },
   {
    "duration": 36,
    "start_time": "2023-06-26T11:18:51.761Z"
   },
   {
    "duration": 544,
    "start_time": "2023-06-26T11:18:51.799Z"
   },
   {
    "duration": 110,
    "start_time": "2023-06-26T11:18:52.345Z"
   },
   {
    "duration": 154,
    "start_time": "2023-06-26T11:18:52.456Z"
   },
   {
    "duration": 307,
    "start_time": "2023-06-26T11:18:52.611Z"
   },
   {
    "duration": 255,
    "start_time": "2023-06-26T11:18:52.919Z"
   },
   {
    "duration": 31,
    "start_time": "2023-06-26T11:18:53.176Z"
   },
   {
    "duration": 3,
    "start_time": "2023-06-26T11:18:53.208Z"
   },
   {
    "duration": 40,
    "start_time": "2023-06-26T11:18:53.212Z"
   },
   {
    "duration": 252,
    "start_time": "2023-06-26T11:18:53.259Z"
   },
   {
    "duration": 230,
    "start_time": "2023-06-26T11:18:53.513Z"
   },
   {
    "duration": 230,
    "start_time": "2023-06-26T11:18:53.745Z"
   },
   {
    "duration": 294,
    "start_time": "2023-06-26T11:18:53.977Z"
   },
   {
    "duration": 159,
    "start_time": "2023-06-26T11:18:54.273Z"
   },
   {
    "duration": 4,
    "start_time": "2023-06-26T11:18:54.434Z"
   },
   {
    "duration": 6,
    "start_time": "2023-06-26T11:19:02.344Z"
   },
   {
    "duration": 6,
    "start_time": "2023-06-26T11:19:25.973Z"
   },
   {
    "duration": 65,
    "start_time": "2023-06-26T11:19:52.874Z"
   },
   {
    "duration": 13,
    "start_time": "2023-06-26T11:20:02.256Z"
   },
   {
    "duration": 68,
    "start_time": "2023-06-26T11:20:07.578Z"
   },
   {
    "duration": 7,
    "start_time": "2023-06-26T11:20:12.269Z"
   },
   {
    "duration": 81,
    "start_time": "2023-06-26T11:22:48.630Z"
   },
   {
    "duration": 6,
    "start_time": "2023-06-26T11:22:52.978Z"
   },
   {
    "duration": 6,
    "start_time": "2023-06-26T11:23:42.669Z"
   },
   {
    "duration": 8,
    "start_time": "2023-06-26T11:27:50.554Z"
   },
   {
    "duration": 897,
    "start_time": "2023-06-26T11:28:12.958Z"
   },
   {
    "duration": 65,
    "start_time": "2023-06-26T11:28:13.857Z"
   },
   {
    "duration": 32,
    "start_time": "2023-06-26T11:28:13.923Z"
   },
   {
    "duration": 20,
    "start_time": "2023-06-26T11:28:13.958Z"
   },
   {
    "duration": 17,
    "start_time": "2023-06-26T11:28:13.980Z"
   },
   {
    "duration": 17,
    "start_time": "2023-06-26T11:28:13.998Z"
   },
   {
    "duration": 43,
    "start_time": "2023-06-26T11:28:14.016Z"
   },
   {
    "duration": 29,
    "start_time": "2023-06-26T11:28:14.061Z"
   },
   {
    "duration": 27,
    "start_time": "2023-06-26T11:28:14.092Z"
   },
   {
    "duration": 12,
    "start_time": "2023-06-26T11:28:14.123Z"
   },
   {
    "duration": 12,
    "start_time": "2023-06-26T11:28:14.137Z"
   },
   {
    "duration": 37,
    "start_time": "2023-06-26T11:28:14.152Z"
   },
   {
    "duration": 451,
    "start_time": "2023-06-26T11:28:14.191Z"
   },
   {
    "duration": 117,
    "start_time": "2023-06-26T11:28:14.644Z"
   },
   {
    "duration": 161,
    "start_time": "2023-06-26T11:28:14.763Z"
   },
   {
    "duration": 240,
    "start_time": "2023-06-26T11:28:14.925Z"
   },
   {
    "duration": 242,
    "start_time": "2023-06-26T11:28:15.167Z"
   },
   {
    "duration": 33,
    "start_time": "2023-06-26T11:28:15.411Z"
   },
   {
    "duration": 14,
    "start_time": "2023-06-26T11:28:15.446Z"
   },
   {
    "duration": 41,
    "start_time": "2023-06-26T11:28:15.461Z"
   },
   {
    "duration": 282,
    "start_time": "2023-06-26T11:28:15.504Z"
   },
   {
    "duration": 224,
    "start_time": "2023-06-26T11:28:15.788Z"
   },
   {
    "duration": 331,
    "start_time": "2023-06-26T11:28:16.014Z"
   },
   {
    "duration": 238,
    "start_time": "2023-06-26T11:28:16.346Z"
   },
   {
    "duration": 44,
    "start_time": "2023-06-26T11:28:16.585Z"
   },
   {
    "duration": 5,
    "start_time": "2023-06-26T11:28:16.631Z"
   },
   {
    "duration": 33,
    "start_time": "2023-06-26T11:28:16.638Z"
   },
   {
    "duration": 6,
    "start_time": "2023-06-26T11:30:41.361Z"
   },
   {
    "duration": 237,
    "start_time": "2023-06-26T11:31:57.703Z"
   },
   {
    "duration": 345,
    "start_time": "2023-06-26T11:32:01.933Z"
   },
   {
    "duration": 256,
    "start_time": "2023-06-26T11:32:20.202Z"
   },
   {
    "duration": 10,
    "start_time": "2023-06-26T11:36:33.009Z"
   },
   {
    "duration": 17,
    "start_time": "2023-06-26T11:36:38.268Z"
   },
   {
    "duration": 19,
    "start_time": "2023-06-26T11:36:56.742Z"
   },
   {
    "duration": 5,
    "start_time": "2023-06-26T11:42:22.212Z"
   },
   {
    "duration": 125,
    "start_time": "2023-06-26T11:42:54.301Z"
   },
   {
    "duration": 907,
    "start_time": "2023-06-26T11:43:03.565Z"
   },
   {
    "duration": 758,
    "start_time": "2023-06-26T11:43:20.010Z"
   },
   {
    "duration": 66,
    "start_time": "2023-06-26T11:43:20.770Z"
   },
   {
    "duration": 21,
    "start_time": "2023-06-26T11:43:20.837Z"
   },
   {
    "duration": 23,
    "start_time": "2023-06-26T11:43:20.859Z"
   },
   {
    "duration": 15,
    "start_time": "2023-06-26T11:43:20.885Z"
   },
   {
    "duration": 17,
    "start_time": "2023-06-26T11:43:20.902Z"
   },
   {
    "duration": 17,
    "start_time": "2023-06-26T11:43:20.921Z"
   },
   {
    "duration": 21,
    "start_time": "2023-06-26T11:43:20.939Z"
   },
   {
    "duration": 25,
    "start_time": "2023-06-26T11:43:20.962Z"
   },
   {
    "duration": 18,
    "start_time": "2023-06-26T11:43:20.988Z"
   },
   {
    "duration": 22,
    "start_time": "2023-06-26T11:43:21.008Z"
   },
   {
    "duration": 33,
    "start_time": "2023-06-26T11:43:21.031Z"
   },
   {
    "duration": 451,
    "start_time": "2023-06-26T11:43:21.066Z"
   },
   {
    "duration": 109,
    "start_time": "2023-06-26T11:43:21.519Z"
   },
   {
    "duration": 153,
    "start_time": "2023-06-26T11:43:21.629Z"
   },
   {
    "duration": 245,
    "start_time": "2023-06-26T11:43:21.783Z"
   },
   {
    "duration": 236,
    "start_time": "2023-06-26T11:43:22.029Z"
   },
   {
    "duration": 28,
    "start_time": "2023-06-26T11:43:22.267Z"
   },
   {
    "duration": 3,
    "start_time": "2023-06-26T11:43:22.296Z"
   },
   {
    "duration": 58,
    "start_time": "2023-06-26T11:43:22.300Z"
   },
   {
    "duration": 222,
    "start_time": "2023-06-26T11:43:22.360Z"
   },
   {
    "duration": 223,
    "start_time": "2023-06-26T11:43:22.583Z"
   },
   {
    "duration": 327,
    "start_time": "2023-06-26T11:43:22.808Z"
   },
   {
    "duration": 238,
    "start_time": "2023-06-26T11:43:23.137Z"
   },
   {
    "duration": 44,
    "start_time": "2023-06-26T11:43:23.376Z"
   },
   {
    "duration": 7,
    "start_time": "2023-06-26T11:43:23.423Z"
   },
   {
    "duration": 27,
    "start_time": "2023-06-26T11:43:23.432Z"
   },
   {
    "duration": 1055,
    "start_time": "2023-06-26T11:43:23.461Z"
   },
   {
    "duration": 130,
    "start_time": "2023-06-26T11:43:46.020Z"
   },
   {
    "duration": 118,
    "start_time": "2023-06-26T11:43:59.050Z"
   },
   {
    "duration": 294,
    "start_time": "2023-06-26T11:45:54.101Z"
   },
   {
    "duration": 865,
    "start_time": "2023-06-26T11:48:52.315Z"
   },
   {
    "duration": 0,
    "start_time": "2023-06-26T11:48:53.182Z"
   },
   {
    "duration": 0,
    "start_time": "2023-06-26T11:48:53.184Z"
   },
   {
    "duration": 0,
    "start_time": "2023-06-26T11:48:53.185Z"
   },
   {
    "duration": 0,
    "start_time": "2023-06-26T11:48:53.186Z"
   },
   {
    "duration": 0,
    "start_time": "2023-06-26T11:48:53.187Z"
   },
   {
    "duration": 0,
    "start_time": "2023-06-26T11:48:53.188Z"
   },
   {
    "duration": 0,
    "start_time": "2023-06-26T11:48:53.189Z"
   },
   {
    "duration": 0,
    "start_time": "2023-06-26T11:48:53.190Z"
   },
   {
    "duration": 0,
    "start_time": "2023-06-26T11:48:53.192Z"
   },
   {
    "duration": 0,
    "start_time": "2023-06-26T11:48:53.192Z"
   },
   {
    "duration": 0,
    "start_time": "2023-06-26T11:48:53.193Z"
   },
   {
    "duration": 0,
    "start_time": "2023-06-26T11:48:53.194Z"
   },
   {
    "duration": 0,
    "start_time": "2023-06-26T11:48:53.195Z"
   },
   {
    "duration": 0,
    "start_time": "2023-06-26T11:48:53.196Z"
   },
   {
    "duration": 0,
    "start_time": "2023-06-26T11:48:53.197Z"
   },
   {
    "duration": 0,
    "start_time": "2023-06-26T11:48:53.198Z"
   },
   {
    "duration": 0,
    "start_time": "2023-06-26T11:48:53.199Z"
   },
   {
    "duration": 0,
    "start_time": "2023-06-26T11:48:53.200Z"
   },
   {
    "duration": 0,
    "start_time": "2023-06-26T11:48:53.202Z"
   },
   {
    "duration": 0,
    "start_time": "2023-06-26T11:48:53.203Z"
   },
   {
    "duration": 0,
    "start_time": "2023-06-26T11:48:53.204Z"
   },
   {
    "duration": 0,
    "start_time": "2023-06-26T11:48:53.206Z"
   },
   {
    "duration": 1,
    "start_time": "2023-06-26T11:48:53.207Z"
   },
   {
    "duration": 0,
    "start_time": "2023-06-26T11:48:53.209Z"
   },
   {
    "duration": 0,
    "start_time": "2023-06-26T11:48:53.210Z"
   },
   {
    "duration": 0,
    "start_time": "2023-06-26T11:48:53.212Z"
   },
   {
    "duration": 0,
    "start_time": "2023-06-26T11:48:53.260Z"
   },
   {
    "duration": 9,
    "start_time": "2023-06-26T11:49:03.960Z"
   },
   {
    "duration": 0,
    "start_time": "2023-06-26T11:49:03.971Z"
   },
   {
    "duration": 0,
    "start_time": "2023-06-26T11:49:03.972Z"
   },
   {
    "duration": 0,
    "start_time": "2023-06-26T11:49:03.973Z"
   },
   {
    "duration": 0,
    "start_time": "2023-06-26T11:49:03.975Z"
   },
   {
    "duration": 0,
    "start_time": "2023-06-26T11:49:03.976Z"
   },
   {
    "duration": 0,
    "start_time": "2023-06-26T11:49:03.977Z"
   },
   {
    "duration": 0,
    "start_time": "2023-06-26T11:49:03.978Z"
   },
   {
    "duration": 0,
    "start_time": "2023-06-26T11:49:03.979Z"
   },
   {
    "duration": 0,
    "start_time": "2023-06-26T11:49:03.980Z"
   },
   {
    "duration": 0,
    "start_time": "2023-06-26T11:49:03.982Z"
   },
   {
    "duration": 0,
    "start_time": "2023-06-26T11:49:03.983Z"
   },
   {
    "duration": 0,
    "start_time": "2023-06-26T11:49:03.984Z"
   },
   {
    "duration": 0,
    "start_time": "2023-06-26T11:49:03.985Z"
   },
   {
    "duration": 0,
    "start_time": "2023-06-26T11:49:03.986Z"
   },
   {
    "duration": 18,
    "start_time": "2023-06-26T11:49:03.988Z"
   },
   {
    "duration": 0,
    "start_time": "2023-06-26T11:49:04.059Z"
   },
   {
    "duration": 0,
    "start_time": "2023-06-26T11:49:04.061Z"
   },
   {
    "duration": 0,
    "start_time": "2023-06-26T11:49:04.062Z"
   },
   {
    "duration": 0,
    "start_time": "2023-06-26T11:49:04.063Z"
   },
   {
    "duration": 0,
    "start_time": "2023-06-26T11:49:04.064Z"
   },
   {
    "duration": 0,
    "start_time": "2023-06-26T11:49:04.066Z"
   },
   {
    "duration": 0,
    "start_time": "2023-06-26T11:49:04.067Z"
   },
   {
    "duration": 0,
    "start_time": "2023-06-26T11:49:04.069Z"
   },
   {
    "duration": 0,
    "start_time": "2023-06-26T11:49:04.070Z"
   },
   {
    "duration": 0,
    "start_time": "2023-06-26T11:49:04.072Z"
   },
   {
    "duration": 0,
    "start_time": "2023-06-26T11:49:04.073Z"
   },
   {
    "duration": 11,
    "start_time": "2023-06-26T11:49:04.075Z"
   },
   {
    "duration": 11,
    "start_time": "2023-06-26T11:49:09.615Z"
   },
   {
    "duration": 0,
    "start_time": "2023-06-26T11:49:09.628Z"
   },
   {
    "duration": 0,
    "start_time": "2023-06-26T11:49:09.629Z"
   },
   {
    "duration": 0,
    "start_time": "2023-06-26T11:49:09.630Z"
   },
   {
    "duration": 0,
    "start_time": "2023-06-26T11:49:09.631Z"
   },
   {
    "duration": 0,
    "start_time": "2023-06-26T11:49:09.633Z"
   },
   {
    "duration": 0,
    "start_time": "2023-06-26T11:49:09.634Z"
   },
   {
    "duration": 0,
    "start_time": "2023-06-26T11:49:09.635Z"
   },
   {
    "duration": 0,
    "start_time": "2023-06-26T11:49:09.637Z"
   },
   {
    "duration": 0,
    "start_time": "2023-06-26T11:49:09.638Z"
   },
   {
    "duration": 0,
    "start_time": "2023-06-26T11:49:09.640Z"
   },
   {
    "duration": 0,
    "start_time": "2023-06-26T11:49:09.641Z"
   },
   {
    "duration": 0,
    "start_time": "2023-06-26T11:49:09.642Z"
   },
   {
    "duration": 0,
    "start_time": "2023-06-26T11:49:09.643Z"
   },
   {
    "duration": 0,
    "start_time": "2023-06-26T11:49:09.645Z"
   },
   {
    "duration": 0,
    "start_time": "2023-06-26T11:49:09.646Z"
   },
   {
    "duration": 0,
    "start_time": "2023-06-26T11:49:09.648Z"
   },
   {
    "duration": 0,
    "start_time": "2023-06-26T11:49:09.648Z"
   },
   {
    "duration": 0,
    "start_time": "2023-06-26T11:49:09.650Z"
   },
   {
    "duration": 0,
    "start_time": "2023-06-26T11:49:09.651Z"
   },
   {
    "duration": 0,
    "start_time": "2023-06-26T11:49:09.652Z"
   },
   {
    "duration": 0,
    "start_time": "2023-06-26T11:49:09.653Z"
   },
   {
    "duration": 0,
    "start_time": "2023-06-26T11:49:09.654Z"
   },
   {
    "duration": 0,
    "start_time": "2023-06-26T11:49:09.655Z"
   },
   {
    "duration": 0,
    "start_time": "2023-06-26T11:49:09.658Z"
   },
   {
    "duration": 0,
    "start_time": "2023-06-26T11:49:09.659Z"
   },
   {
    "duration": 0,
    "start_time": "2023-06-26T11:49:09.660Z"
   },
   {
    "duration": 0,
    "start_time": "2023-06-26T11:49:09.664Z"
   },
   {
    "duration": 8,
    "start_time": "2023-06-26T11:49:36.534Z"
   },
   {
    "duration": 830,
    "start_time": "2023-06-26T11:49:46.709Z"
   },
   {
    "duration": 64,
    "start_time": "2023-06-26T11:49:47.541Z"
   },
   {
    "duration": 22,
    "start_time": "2023-06-26T11:49:47.606Z"
   },
   {
    "duration": 20,
    "start_time": "2023-06-26T11:49:47.629Z"
   },
   {
    "duration": 13,
    "start_time": "2023-06-26T11:49:47.651Z"
   },
   {
    "duration": 8,
    "start_time": "2023-06-26T11:49:47.666Z"
   },
   {
    "duration": 14,
    "start_time": "2023-06-26T11:49:47.676Z"
   },
   {
    "duration": 22,
    "start_time": "2023-06-26T11:49:47.692Z"
   },
   {
    "duration": 33,
    "start_time": "2023-06-26T11:49:47.716Z"
   },
   {
    "duration": 28,
    "start_time": "2023-06-26T11:49:47.751Z"
   },
   {
    "duration": 13,
    "start_time": "2023-06-26T11:49:47.781Z"
   },
   {
    "duration": 16,
    "start_time": "2023-06-26T11:49:47.796Z"
   },
   {
    "duration": 469,
    "start_time": "2023-06-26T11:49:47.814Z"
   },
   {
    "duration": 112,
    "start_time": "2023-06-26T11:49:48.285Z"
   },
   {
    "duration": 157,
    "start_time": "2023-06-26T11:49:48.398Z"
   },
   {
    "duration": 237,
    "start_time": "2023-06-26T11:49:48.558Z"
   },
   {
    "duration": 233,
    "start_time": "2023-06-26T11:49:48.796Z"
   },
   {
    "duration": 44,
    "start_time": "2023-06-26T11:49:49.031Z"
   },
   {
    "duration": 7,
    "start_time": "2023-06-26T11:49:49.077Z"
   },
   {
    "duration": 64,
    "start_time": "2023-06-26T11:49:49.086Z"
   },
   {
    "duration": 247,
    "start_time": "2023-06-26T11:49:49.152Z"
   },
   {
    "duration": 245,
    "start_time": "2023-06-26T11:49:49.401Z"
   },
   {
    "duration": 369,
    "start_time": "2023-06-26T11:49:49.648Z"
   },
   {
    "duration": 244,
    "start_time": "2023-06-26T11:49:50.018Z"
   },
   {
    "duration": 44,
    "start_time": "2023-06-26T11:49:50.264Z"
   },
   {
    "duration": 6,
    "start_time": "2023-06-26T11:49:50.309Z"
   },
   {
    "duration": 22,
    "start_time": "2023-06-26T11:49:50.316Z"
   },
   {
    "duration": 271,
    "start_time": "2023-06-26T11:49:50.340Z"
   },
   {
    "duration": 239,
    "start_time": "2023-06-26T11:51:51.132Z"
   },
   {
    "duration": 251,
    "start_time": "2023-06-26T11:52:02.493Z"
   },
   {
    "duration": 255,
    "start_time": "2023-06-26T11:52:08.360Z"
   },
   {
    "duration": 1160,
    "start_time": "2023-06-26T12:06:59.972Z"
   },
   {
    "duration": 65,
    "start_time": "2023-06-26T12:07:01.134Z"
   },
   {
    "duration": 24,
    "start_time": "2023-06-26T12:07:01.201Z"
   },
   {
    "duration": 83,
    "start_time": "2023-06-26T12:07:01.229Z"
   },
   {
    "duration": 28,
    "start_time": "2023-06-26T12:07:01.315Z"
   },
   {
    "duration": 44,
    "start_time": "2023-06-26T12:07:01.344Z"
   },
   {
    "duration": 61,
    "start_time": "2023-06-26T12:07:01.390Z"
   },
   {
    "duration": 48,
    "start_time": "2023-06-26T12:07:01.453Z"
   },
   {
    "duration": 48,
    "start_time": "2023-06-26T12:07:01.503Z"
   },
   {
    "duration": 66,
    "start_time": "2023-06-26T12:07:01.554Z"
   },
   {
    "duration": 34,
    "start_time": "2023-06-26T12:07:01.622Z"
   },
   {
    "duration": 31,
    "start_time": "2023-06-26T12:07:01.658Z"
   },
   {
    "duration": 193,
    "start_time": "2023-06-26T12:07:01.691Z"
   },
   {
    "duration": 131,
    "start_time": "2023-06-26T12:07:01.886Z"
   },
   {
    "duration": 198,
    "start_time": "2023-06-26T12:07:02.019Z"
   },
   {
    "duration": 272,
    "start_time": "2023-06-26T12:07:02.219Z"
   },
   {
    "duration": 246,
    "start_time": "2023-06-26T12:07:02.493Z"
   },
   {
    "duration": 36,
    "start_time": "2023-06-26T12:07:02.741Z"
   },
   {
    "duration": 2,
    "start_time": "2023-06-26T12:07:02.779Z"
   },
   {
    "duration": 60,
    "start_time": "2023-06-26T12:07:02.783Z"
   },
   {
    "duration": 225,
    "start_time": "2023-06-26T12:07:02.844Z"
   },
   {
    "duration": 308,
    "start_time": "2023-06-26T12:07:03.071Z"
   },
   {
    "duration": 259,
    "start_time": "2023-06-26T12:07:03.380Z"
   },
   {
    "duration": 238,
    "start_time": "2023-06-26T12:07:03.641Z"
   },
   {
    "duration": 43,
    "start_time": "2023-06-26T12:07:03.881Z"
   },
   {
    "duration": 5,
    "start_time": "2023-06-26T12:07:03.925Z"
   },
   {
    "duration": 28,
    "start_time": "2023-06-26T12:07:03.931Z"
   },
   {
    "duration": 309,
    "start_time": "2023-06-26T12:07:03.963Z"
   },
   {
    "duration": 244,
    "start_time": "2023-06-26T12:07:04.274Z"
   },
   {
    "duration": 305,
    "start_time": "2023-06-26T12:08:18.900Z"
   },
   {
    "duration": 90,
    "start_time": "2023-06-26T12:14:53.137Z"
   },
   {
    "duration": 3,
    "start_time": "2023-06-26T12:15:10.023Z"
   },
   {
    "duration": 6,
    "start_time": "2023-06-26T12:15:11.878Z"
   },
   {
    "duration": 5,
    "start_time": "2023-06-26T12:15:34.945Z"
   },
   {
    "duration": 6,
    "start_time": "2023-06-26T12:16:19.710Z"
   },
   {
    "duration": 6,
    "start_time": "2023-06-26T12:16:23.717Z"
   },
   {
    "duration": 7,
    "start_time": "2023-06-26T12:16:27.421Z"
   },
   {
    "duration": 6,
    "start_time": "2023-06-26T12:16:34.144Z"
   },
   {
    "duration": 5,
    "start_time": "2023-06-26T12:16:39.653Z"
   },
   {
    "duration": 6,
    "start_time": "2023-06-26T12:16:43.121Z"
   },
   {
    "duration": 6,
    "start_time": "2023-06-26T12:16:47.595Z"
   },
   {
    "duration": 5,
    "start_time": "2023-06-26T12:16:52.623Z"
   },
   {
    "duration": 6,
    "start_time": "2023-06-26T12:16:56.123Z"
   },
   {
    "duration": 6,
    "start_time": "2023-06-26T12:16:58.911Z"
   },
   {
    "duration": 115,
    "start_time": "2023-06-26T12:19:49.514Z"
   },
   {
    "duration": 10,
    "start_time": "2023-06-26T12:19:55.435Z"
   },
   {
    "duration": 218,
    "start_time": "2023-06-26T12:20:08.612Z"
   },
   {
    "duration": 109,
    "start_time": "2023-06-26T12:20:22.803Z"
   },
   {
    "duration": 225,
    "start_time": "2023-06-26T12:20:38.430Z"
   },
   {
    "duration": 116,
    "start_time": "2023-06-26T12:20:50.549Z"
   },
   {
    "duration": 128,
    "start_time": "2023-06-26T12:21:05.024Z"
   },
   {
    "duration": 236,
    "start_time": "2023-06-26T12:21:10.603Z"
   },
   {
    "duration": 7,
    "start_time": "2023-06-26T12:22:07.006Z"
   },
   {
    "duration": 6,
    "start_time": "2023-06-26T12:22:22.584Z"
   },
   {
    "duration": 6,
    "start_time": "2023-06-26T12:22:30.114Z"
   },
   {
    "duration": 7,
    "start_time": "2023-06-26T12:22:33.704Z"
   },
   {
    "duration": 6,
    "start_time": "2023-06-26T12:22:39.623Z"
   },
   {
    "duration": 12,
    "start_time": "2023-06-26T12:22:43.483Z"
   },
   {
    "duration": 5,
    "start_time": "2023-06-26T12:22:47.294Z"
   },
   {
    "duration": 6,
    "start_time": "2023-06-26T12:22:53.088Z"
   },
   {
    "duration": 5,
    "start_time": "2023-06-26T12:24:37.051Z"
   },
   {
    "duration": 6,
    "start_time": "2023-06-26T12:28:08.413Z"
   },
   {
    "duration": 5,
    "start_time": "2023-06-26T12:29:55.709Z"
   },
   {
    "duration": 3,
    "start_time": "2023-06-26T12:30:56.027Z"
   },
   {
    "duration": 402,
    "start_time": "2023-06-26T12:31:43.906Z"
   },
   {
    "duration": 227,
    "start_time": "2023-06-26T12:31:46.755Z"
   },
   {
    "duration": 110,
    "start_time": "2023-06-26T12:32:09.558Z"
   },
   {
    "duration": 102,
    "start_time": "2023-06-26T12:32:15.338Z"
   },
   {
    "duration": 215,
    "start_time": "2023-06-26T12:32:26.815Z"
   },
   {
    "duration": 144,
    "start_time": "2023-06-26T12:33:24.004Z"
   },
   {
    "duration": 227,
    "start_time": "2023-06-26T12:33:27.214Z"
   },
   {
    "duration": 376,
    "start_time": "2023-06-26T12:36:10.118Z"
   },
   {
    "duration": 276,
    "start_time": "2023-06-26T12:38:24.228Z"
   },
   {
    "duration": 1583,
    "start_time": "2023-06-26T12:38:39.614Z"
   },
   {
    "duration": 1300,
    "start_time": "2023-06-26T12:40:01.819Z"
   },
   {
    "duration": 340,
    "start_time": "2023-06-26T12:40:06.945Z"
   },
   {
    "duration": 1058,
    "start_time": "2023-06-26T12:40:58.631Z"
   },
   {
    "duration": 63,
    "start_time": "2023-06-26T12:40:59.691Z"
   },
   {
    "duration": 22,
    "start_time": "2023-06-26T12:40:59.756Z"
   },
   {
    "duration": 16,
    "start_time": "2023-06-26T12:40:59.780Z"
   },
   {
    "duration": 17,
    "start_time": "2023-06-26T12:40:59.798Z"
   },
   {
    "duration": 21,
    "start_time": "2023-06-26T12:40:59.817Z"
   },
   {
    "duration": 28,
    "start_time": "2023-06-26T12:40:59.840Z"
   },
   {
    "duration": 12,
    "start_time": "2023-06-26T12:40:59.870Z"
   },
   {
    "duration": 11,
    "start_time": "2023-06-26T12:40:59.884Z"
   },
   {
    "duration": 6,
    "start_time": "2023-06-26T12:40:59.897Z"
   },
   {
    "duration": 15,
    "start_time": "2023-06-26T12:40:59.904Z"
   },
   {
    "duration": 4,
    "start_time": "2023-06-26T12:40:59.921Z"
   },
   {
    "duration": 161,
    "start_time": "2023-06-26T12:40:59.927Z"
   },
   {
    "duration": 112,
    "start_time": "2023-06-26T12:41:00.090Z"
   },
   {
    "duration": 161,
    "start_time": "2023-06-26T12:41:00.203Z"
   },
   {
    "duration": 236,
    "start_time": "2023-06-26T12:41:00.366Z"
   },
   {
    "duration": 230,
    "start_time": "2023-06-26T12:41:00.603Z"
   },
   {
    "duration": 36,
    "start_time": "2023-06-26T12:41:00.835Z"
   },
   {
    "duration": 252,
    "start_time": "2023-06-26T12:41:00.873Z"
   },
   {
    "duration": 95,
    "start_time": "2023-06-26T12:41:01.126Z"
   },
   {
    "duration": 274,
    "start_time": "2023-06-26T12:41:01.224Z"
   },
   {
    "duration": 324,
    "start_time": "2023-06-26T12:41:01.500Z"
   },
   {
    "duration": 228,
    "start_time": "2023-06-26T12:41:01.826Z"
   },
   {
    "duration": 259,
    "start_time": "2023-06-26T12:41:02.058Z"
   },
   {
    "duration": 51,
    "start_time": "2023-06-26T12:41:02.319Z"
   },
   {
    "duration": 6,
    "start_time": "2023-06-26T12:41:02.372Z"
   },
   {
    "duration": 37,
    "start_time": "2023-06-26T12:41:02.381Z"
   },
   {
    "duration": 303,
    "start_time": "2023-06-26T12:41:02.421Z"
   },
   {
    "duration": 217,
    "start_time": "2023-06-26T12:41:02.725Z"
   },
   {
    "duration": 3,
    "start_time": "2023-06-26T12:41:02.945Z"
   },
   {
    "duration": 16,
    "start_time": "2023-06-26T12:41:02.949Z"
   },
   {
    "duration": 2260,
    "start_time": "2023-06-26T16:23:13.354Z"
   },
   {
    "duration": 255,
    "start_time": "2023-06-26T16:23:15.617Z"
   },
   {
    "duration": 51,
    "start_time": "2023-06-26T16:23:15.875Z"
   },
   {
    "duration": 44,
    "start_time": "2023-06-26T16:23:15.931Z"
   },
   {
    "duration": 105,
    "start_time": "2023-06-26T16:23:15.979Z"
   },
   {
    "duration": 49,
    "start_time": "2023-06-26T16:23:16.087Z"
   },
   {
    "duration": 45,
    "start_time": "2023-06-26T16:23:16.138Z"
   },
   {
    "duration": 72,
    "start_time": "2023-06-26T16:23:16.186Z"
   },
   {
    "duration": 53,
    "start_time": "2023-06-26T16:23:16.261Z"
   },
   {
    "duration": 50,
    "start_time": "2023-06-26T16:23:16.317Z"
   },
   {
    "duration": 25,
    "start_time": "2023-06-26T16:23:16.370Z"
   },
   {
    "duration": 90,
    "start_time": "2023-06-26T16:23:16.397Z"
   },
   {
    "duration": 333,
    "start_time": "2023-06-26T16:23:16.490Z"
   },
   {
    "duration": 155,
    "start_time": "2023-06-26T16:23:16.828Z"
   },
   {
    "duration": 235,
    "start_time": "2023-06-26T16:23:16.985Z"
   },
   {
    "duration": 364,
    "start_time": "2023-06-26T16:23:17.229Z"
   },
   {
    "duration": 474,
    "start_time": "2023-06-26T16:23:17.595Z"
   },
   {
    "duration": 72,
    "start_time": "2023-06-26T16:23:18.072Z"
   },
   {
    "duration": 5,
    "start_time": "2023-06-26T16:23:18.148Z"
   },
   {
    "duration": 116,
    "start_time": "2023-06-26T16:23:18.156Z"
   },
   {
    "duration": 384,
    "start_time": "2023-06-26T16:23:18.279Z"
   },
   {
    "duration": 466,
    "start_time": "2023-06-26T16:23:18.665Z"
   },
   {
    "duration": 364,
    "start_time": "2023-06-26T16:23:19.134Z"
   },
   {
    "duration": 362,
    "start_time": "2023-06-26T16:23:19.501Z"
   },
   {
    "duration": 71,
    "start_time": "2023-06-26T16:23:19.865Z"
   },
   {
    "duration": 8,
    "start_time": "2023-06-26T16:23:19.938Z"
   },
   {
    "duration": 8,
    "start_time": "2023-06-26T16:23:19.949Z"
   },
   {
    "duration": 433,
    "start_time": "2023-06-26T16:23:19.960Z"
   },
   {
    "duration": 312,
    "start_time": "2023-06-26T16:23:20.395Z"
   },
   {
    "duration": 4,
    "start_time": "2023-06-26T16:23:20.709Z"
   },
   {
    "duration": 38,
    "start_time": "2023-06-26T16:23:20.715Z"
   },
   {
    "duration": 128,
    "start_time": "2023-06-26T16:31:01.298Z"
   },
   {
    "duration": 15,
    "start_time": "2023-06-26T16:35:36.887Z"
   },
   {
    "duration": 9,
    "start_time": "2023-06-26T19:32:12.740Z"
   },
   {
    "duration": 22986,
    "start_time": "2023-06-26T19:43:46.508Z"
   },
   {
    "duration": 69,
    "start_time": "2023-06-26T19:45:42.858Z"
   },
   {
    "duration": 92,
    "start_time": "2023-06-26T19:45:51.130Z"
   },
   {
    "duration": 16,
    "start_time": "2023-06-26T19:45:56.568Z"
   },
   {
    "duration": 328,
    "start_time": "2023-06-26T19:48:07.540Z"
   },
   {
    "duration": 17,
    "start_time": "2023-06-26T19:50:13.430Z"
   },
   {
    "duration": 181,
    "start_time": "2023-06-26T19:52:27.749Z"
   },
   {
    "duration": 159,
    "start_time": "2023-06-26T19:52:34.360Z"
   },
   {
    "duration": 153,
    "start_time": "2023-06-26T19:52:57.757Z"
   },
   {
    "duration": 56,
    "start_time": "2023-06-26T19:53:27.737Z"
   },
   {
    "duration": 65,
    "start_time": "2023-06-26T19:53:44.762Z"
   },
   {
    "duration": 151,
    "start_time": "2023-06-26T19:53:50.940Z"
   },
   {
    "duration": 389,
    "start_time": "2023-06-26T19:55:01.933Z"
   },
   {
    "duration": 158,
    "start_time": "2023-06-26T19:55:12.208Z"
   },
   {
    "duration": 165,
    "start_time": "2023-06-26T19:56:19.941Z"
   },
   {
    "duration": 173,
    "start_time": "2023-06-26T19:56:44.856Z"
   },
   {
    "duration": 160,
    "start_time": "2023-06-26T19:59:16.622Z"
   },
   {
    "duration": 80,
    "start_time": "2023-06-26T20:01:55.854Z"
   },
   {
    "duration": 89,
    "start_time": "2023-06-26T20:02:22.329Z"
   },
   {
    "duration": 79,
    "start_time": "2023-06-26T20:02:42.072Z"
   },
   {
    "duration": 71,
    "start_time": "2023-06-26T20:04:16.884Z"
   },
   {
    "duration": 74,
    "start_time": "2023-06-26T20:04:35.712Z"
   },
   {
    "duration": 104,
    "start_time": "2023-06-26T20:04:39.356Z"
   },
   {
    "duration": 81,
    "start_time": "2023-06-26T20:04:45.000Z"
   },
   {
    "duration": 84,
    "start_time": "2023-06-26T20:04:49.621Z"
   },
   {
    "duration": 120,
    "start_time": "2023-06-26T20:08:48.241Z"
   },
   {
    "duration": 94,
    "start_time": "2023-06-26T20:09:26.301Z"
   },
   {
    "duration": 97,
    "start_time": "2023-06-26T20:09:44.728Z"
   },
   {
    "duration": 98,
    "start_time": "2023-06-26T20:09:55.522Z"
   },
   {
    "duration": 104,
    "start_time": "2023-06-26T20:12:08.357Z"
   },
   {
    "duration": 98,
    "start_time": "2023-06-26T20:12:12.053Z"
   },
   {
    "duration": 104,
    "start_time": "2023-06-26T20:13:46.557Z"
   },
   {
    "duration": 85,
    "start_time": "2023-06-26T20:13:50.624Z"
   },
   {
    "duration": 96,
    "start_time": "2023-06-26T20:14:38.616Z"
   },
   {
    "duration": 96,
    "start_time": "2023-06-26T20:14:50.704Z"
   },
   {
    "duration": 88,
    "start_time": "2023-06-26T20:18:35.012Z"
   },
   {
    "duration": 99,
    "start_time": "2023-06-26T20:19:31.461Z"
   },
   {
    "duration": 89,
    "start_time": "2023-06-26T20:19:35.532Z"
   },
   {
    "duration": 99,
    "start_time": "2023-06-26T20:19:56.254Z"
   },
   {
    "duration": 90,
    "start_time": "2023-06-26T20:20:25.336Z"
   },
   {
    "duration": 88,
    "start_time": "2023-06-26T20:21:02.710Z"
   },
   {
    "duration": 110,
    "start_time": "2023-06-26T20:21:20.455Z"
   },
   {
    "duration": 106,
    "start_time": "2023-06-26T20:21:54.628Z"
   },
   {
    "duration": 97,
    "start_time": "2023-06-26T20:23:04.108Z"
   },
   {
    "duration": 88,
    "start_time": "2023-06-26T20:23:10.892Z"
   },
   {
    "duration": 93,
    "start_time": "2023-06-26T20:23:33.804Z"
   },
   {
    "duration": 91,
    "start_time": "2023-06-26T20:26:26.742Z"
   },
   {
    "duration": 95,
    "start_time": "2023-06-26T20:26:45.630Z"
   },
   {
    "duration": 100,
    "start_time": "2023-06-26T20:26:54.612Z"
   },
   {
    "duration": 28,
    "start_time": "2023-06-26T20:29:58.558Z"
   },
   {
    "duration": 31,
    "start_time": "2023-06-26T20:30:02.809Z"
   },
   {
    "duration": 3,
    "start_time": "2023-06-26T20:30:50.047Z"
   },
   {
    "duration": 40,
    "start_time": "2023-06-26T20:33:13.548Z"
   },
   {
    "duration": 46,
    "start_time": "2023-06-26T20:36:23.251Z"
   },
   {
    "duration": 10,
    "start_time": "2023-06-26T20:36:26.297Z"
   },
   {
    "duration": 5,
    "start_time": "2023-06-26T20:53:49.105Z"
   },
   {
    "duration": 183,
    "start_time": "2023-06-26T21:02:43.350Z"
   },
   {
    "duration": 149,
    "start_time": "2023-06-26T21:03:16.326Z"
   },
   {
    "duration": 165,
    "start_time": "2023-06-26T21:03:27.442Z"
   },
   {
    "duration": 241,
    "start_time": "2023-06-26T21:03:53.493Z"
   },
   {
    "duration": 528,
    "start_time": "2023-06-26T21:04:08.603Z"
   },
   {
    "duration": 242,
    "start_time": "2023-06-26T21:04:11.840Z"
   },
   {
    "duration": 235,
    "start_time": "2023-06-26T21:04:37.701Z"
   },
   {
    "duration": 232,
    "start_time": "2023-06-26T21:04:53.501Z"
   },
   {
    "duration": 237,
    "start_time": "2023-06-26T21:05:02.514Z"
   },
   {
    "duration": 237,
    "start_time": "2023-06-26T21:05:10.522Z"
   },
   {
    "duration": 14,
    "start_time": "2023-06-26T21:22:15.228Z"
   },
   {
    "duration": 5,
    "start_time": "2023-06-26T21:22:23.721Z"
   },
   {
    "duration": 8,
    "start_time": "2023-06-26T23:06:44.104Z"
   },
   {
    "duration": 5,
    "start_time": "2023-06-26T23:07:23.688Z"
   },
   {
    "duration": 5,
    "start_time": "2023-06-26T23:09:03.728Z"
   },
   {
    "duration": 10,
    "start_time": "2023-06-26T23:14:00.582Z"
   },
   {
    "duration": 6,
    "start_time": "2023-06-26T23:14:13.104Z"
   },
   {
    "duration": 6,
    "start_time": "2023-06-26T23:14:52.854Z"
   },
   {
    "duration": 6,
    "start_time": "2023-06-26T23:15:39.194Z"
   },
   {
    "duration": 6,
    "start_time": "2023-06-26T23:16:04.910Z"
   },
   {
    "duration": 6,
    "start_time": "2023-06-26T23:16:41.162Z"
   },
   {
    "duration": 6,
    "start_time": "2023-06-26T23:17:07.661Z"
   },
   {
    "duration": 218,
    "start_time": "2023-06-26T23:22:03.116Z"
   },
   {
    "duration": 10,
    "start_time": "2023-06-26T23:24:39.086Z"
   },
   {
    "duration": 10,
    "start_time": "2023-06-26T23:27:38.289Z"
   },
   {
    "duration": 11,
    "start_time": "2023-06-26T23:29:24.284Z"
   },
   {
    "duration": 209,
    "start_time": "2023-06-26T23:29:28.682Z"
   },
   {
    "duration": 1560,
    "start_time": "2023-06-26T23:29:41.163Z"
   },
   {
    "duration": 219,
    "start_time": "2023-06-26T23:29:45.582Z"
   },
   {
    "duration": 5,
    "start_time": "2023-06-26T23:50:27.023Z"
   },
   {
    "duration": 6,
    "start_time": "2023-06-26T23:51:14.262Z"
   },
   {
    "duration": 6,
    "start_time": "2023-06-26T23:51:42.073Z"
   },
   {
    "duration": 5,
    "start_time": "2023-06-26T23:52:21.244Z"
   },
   {
    "duration": 6,
    "start_time": "2023-06-26T23:53:20.325Z"
   },
   {
    "duration": 6,
    "start_time": "2023-06-26T23:57:06.902Z"
   },
   {
    "duration": 6,
    "start_time": "2023-06-26T23:57:15.034Z"
   },
   {
    "duration": 5,
    "start_time": "2023-06-26T23:57:26.622Z"
   },
   {
    "duration": 12,
    "start_time": "2023-06-26T23:59:38.882Z"
   },
   {
    "duration": 10,
    "start_time": "2023-06-27T00:00:04.293Z"
   },
   {
    "duration": 11,
    "start_time": "2023-06-27T00:00:14.914Z"
   },
   {
    "duration": 982,
    "start_time": "2023-06-27T00:00:25.914Z"
   },
   {
    "duration": 68,
    "start_time": "2023-06-27T00:00:26.898Z"
   },
   {
    "duration": 23,
    "start_time": "2023-06-27T00:00:26.967Z"
   },
   {
    "duration": 157,
    "start_time": "2023-06-27T00:00:26.992Z"
   },
   {
    "duration": 19,
    "start_time": "2023-06-27T00:00:27.151Z"
   },
   {
    "duration": 18,
    "start_time": "2023-06-27T00:00:27.171Z"
   },
   {
    "duration": 8,
    "start_time": "2023-06-27T00:00:27.191Z"
   },
   {
    "duration": 90,
    "start_time": "2023-06-27T00:00:27.201Z"
   },
   {
    "duration": 0,
    "start_time": "2023-06-27T00:00:27.292Z"
   },
   {
    "duration": 0,
    "start_time": "2023-06-27T00:00:27.294Z"
   },
   {
    "duration": 0,
    "start_time": "2023-06-27T00:00:27.295Z"
   },
   {
    "duration": 0,
    "start_time": "2023-06-27T00:00:27.295Z"
   },
   {
    "duration": 0,
    "start_time": "2023-06-27T00:00:27.296Z"
   },
   {
    "duration": 0,
    "start_time": "2023-06-27T00:00:27.298Z"
   },
   {
    "duration": 0,
    "start_time": "2023-06-27T00:00:27.299Z"
   },
   {
    "duration": 0,
    "start_time": "2023-06-27T00:00:27.300Z"
   },
   {
    "duration": 0,
    "start_time": "2023-06-27T00:00:27.301Z"
   },
   {
    "duration": 0,
    "start_time": "2023-06-27T00:00:27.302Z"
   },
   {
    "duration": 0,
    "start_time": "2023-06-27T00:00:27.303Z"
   },
   {
    "duration": 0,
    "start_time": "2023-06-27T00:00:27.304Z"
   },
   {
    "duration": 0,
    "start_time": "2023-06-27T00:00:27.305Z"
   },
   {
    "duration": 0,
    "start_time": "2023-06-27T00:00:27.306Z"
   },
   {
    "duration": 0,
    "start_time": "2023-06-27T00:00:27.308Z"
   },
   {
    "duration": 0,
    "start_time": "2023-06-27T00:00:27.309Z"
   },
   {
    "duration": 0,
    "start_time": "2023-06-27T00:00:27.310Z"
   },
   {
    "duration": 0,
    "start_time": "2023-06-27T00:00:27.311Z"
   },
   {
    "duration": 0,
    "start_time": "2023-06-27T00:00:27.312Z"
   },
   {
    "duration": 0,
    "start_time": "2023-06-27T00:00:27.313Z"
   },
   {
    "duration": 0,
    "start_time": "2023-06-27T00:00:27.314Z"
   },
   {
    "duration": 0,
    "start_time": "2023-06-27T00:00:27.314Z"
   },
   {
    "duration": 0,
    "start_time": "2023-06-27T00:00:27.315Z"
   },
   {
    "duration": 10,
    "start_time": "2023-06-27T00:00:39.381Z"
   },
   {
    "duration": 1019,
    "start_time": "2023-06-27T00:00:45.750Z"
   },
   {
    "duration": 65,
    "start_time": "2023-06-27T00:00:46.771Z"
   },
   {
    "duration": 20,
    "start_time": "2023-06-27T00:00:46.838Z"
   },
   {
    "duration": 15,
    "start_time": "2023-06-27T00:00:46.860Z"
   },
   {
    "duration": 13,
    "start_time": "2023-06-27T00:00:46.876Z"
   },
   {
    "duration": 6,
    "start_time": "2023-06-27T00:00:46.890Z"
   },
   {
    "duration": 11,
    "start_time": "2023-06-27T00:00:46.898Z"
   },
   {
    "duration": 15,
    "start_time": "2023-06-27T00:00:46.910Z"
   },
   {
    "duration": 23,
    "start_time": "2023-06-27T00:00:46.926Z"
   },
   {
    "duration": 5,
    "start_time": "2023-06-27T00:00:46.959Z"
   },
   {
    "duration": 7,
    "start_time": "2023-06-27T00:00:46.966Z"
   },
   {
    "duration": 6,
    "start_time": "2023-06-27T00:00:46.975Z"
   },
   {
    "duration": 189,
    "start_time": "2023-06-27T00:00:46.983Z"
   },
   {
    "duration": 95,
    "start_time": "2023-06-27T00:00:47.174Z"
   },
   {
    "duration": 156,
    "start_time": "2023-06-27T00:00:47.271Z"
   },
   {
    "duration": 254,
    "start_time": "2023-06-27T00:00:47.430Z"
   },
   {
    "duration": 246,
    "start_time": "2023-06-27T00:00:47.686Z"
   },
   {
    "duration": 32,
    "start_time": "2023-06-27T00:00:47.933Z"
   },
   {
    "duration": 90,
    "start_time": "2023-06-27T00:00:47.967Z"
   },
   {
    "duration": 233,
    "start_time": "2023-06-27T00:00:48.059Z"
   },
   {
    "duration": 329,
    "start_time": "2023-06-27T00:00:48.293Z"
   },
   {
    "duration": 238,
    "start_time": "2023-06-27T00:00:48.623Z"
   },
   {
    "duration": 263,
    "start_time": "2023-06-27T00:00:48.863Z"
   },
   {
    "duration": 47,
    "start_time": "2023-06-27T00:00:49.128Z"
   },
   {
    "duration": 9,
    "start_time": "2023-06-27T00:00:49.176Z"
   },
   {
    "duration": 4,
    "start_time": "2023-06-27T00:00:49.187Z"
   },
   {
    "duration": 20,
    "start_time": "2023-06-27T00:00:49.193Z"
   },
   {
    "duration": 7,
    "start_time": "2023-06-27T00:00:49.216Z"
   },
   {
    "duration": 242,
    "start_time": "2023-06-27T00:00:49.225Z"
   },
   {
    "duration": 3,
    "start_time": "2023-06-27T00:00:49.468Z"
   },
   {
    "duration": 16,
    "start_time": "2023-06-27T00:00:49.473Z"
   },
   {
    "duration": 92,
    "start_time": "2023-06-27T00:02:57.029Z"
   },
   {
    "duration": 8,
    "start_time": "2023-06-27T00:03:22.388Z"
   },
   {
    "duration": 7,
    "start_time": "2023-06-27T00:03:33.263Z"
   },
   {
    "duration": 13,
    "start_time": "2023-06-27T00:03:46.123Z"
   },
   {
    "duration": 12,
    "start_time": "2023-06-27T00:03:49.998Z"
   },
   {
    "duration": 13,
    "start_time": "2023-06-27T00:04:04.156Z"
   },
   {
    "duration": 92,
    "start_time": "2023-06-27T00:04:09.164Z"
   },
   {
    "duration": 13,
    "start_time": "2023-06-27T00:04:15.857Z"
   },
   {
    "duration": 309,
    "start_time": "2023-06-27T00:05:02.123Z"
   },
   {
    "duration": 12,
    "start_time": "2023-06-27T00:05:07.330Z"
   },
   {
    "duration": 13,
    "start_time": "2023-06-27T00:05:15.164Z"
   },
   {
    "duration": 1334,
    "start_time": "2023-06-27T16:04:53.238Z"
   },
   {
    "duration": 195,
    "start_time": "2023-06-27T16:04:54.574Z"
   },
   {
    "duration": 24,
    "start_time": "2023-06-27T16:04:54.771Z"
   },
   {
    "duration": 17,
    "start_time": "2023-06-27T16:04:54.797Z"
   },
   {
    "duration": 21,
    "start_time": "2023-06-27T16:04:54.816Z"
   },
   {
    "duration": 14,
    "start_time": "2023-06-27T16:04:54.839Z"
   },
   {
    "duration": 8,
    "start_time": "2023-06-27T16:04:54.855Z"
   },
   {
    "duration": 15,
    "start_time": "2023-06-27T16:04:54.865Z"
   },
   {
    "duration": 15,
    "start_time": "2023-06-27T16:04:54.882Z"
   },
   {
    "duration": 6,
    "start_time": "2023-06-27T16:04:54.900Z"
   },
   {
    "duration": 9,
    "start_time": "2023-06-27T16:04:54.908Z"
   },
   {
    "duration": 33,
    "start_time": "2023-06-27T16:04:54.919Z"
   },
   {
    "duration": 213,
    "start_time": "2023-06-27T16:04:54.954Z"
   },
   {
    "duration": 111,
    "start_time": "2023-06-27T16:04:55.168Z"
   },
   {
    "duration": 212,
    "start_time": "2023-06-27T16:04:55.281Z"
   },
   {
    "duration": 287,
    "start_time": "2023-06-27T16:04:55.495Z"
   },
   {
    "duration": 275,
    "start_time": "2023-06-27T16:04:55.784Z"
   },
   {
    "duration": 31,
    "start_time": "2023-06-27T16:04:56.061Z"
   },
   {
    "duration": 31,
    "start_time": "2023-06-27T16:04:56.094Z"
   },
   {
    "duration": 364,
    "start_time": "2023-06-27T16:04:56.126Z"
   },
   {
    "duration": 283,
    "start_time": "2023-06-27T16:04:56.492Z"
   },
   {
    "duration": 294,
    "start_time": "2023-06-27T16:04:56.776Z"
   },
   {
    "duration": 283,
    "start_time": "2023-06-27T16:04:57.071Z"
   },
   {
    "duration": 48,
    "start_time": "2023-06-27T16:04:57.356Z"
   },
   {
    "duration": 10,
    "start_time": "2023-06-27T16:04:57.406Z"
   },
   {
    "duration": 5,
    "start_time": "2023-06-27T16:04:57.418Z"
   },
   {
    "duration": 31,
    "start_time": "2023-06-27T16:04:57.425Z"
   },
   {
    "duration": 16,
    "start_time": "2023-06-27T16:04:57.459Z"
   },
   {
    "duration": 253,
    "start_time": "2023-06-27T16:04:57.477Z"
   },
   {
    "duration": 3,
    "start_time": "2023-06-27T16:04:57.732Z"
   },
   {
    "duration": 48,
    "start_time": "2023-06-27T16:04:57.736Z"
   },
   {
    "duration": 47,
    "start_time": "2023-06-27T16:29:06.414Z"
   },
   {
    "duration": 7,
    "start_time": "2023-06-27T16:51:31.992Z"
   },
   {
    "duration": 1200,
    "start_time": "2023-06-27T16:51:37.691Z"
   },
   {
    "duration": 297,
    "start_time": "2023-06-27T16:51:38.893Z"
   },
   {
    "duration": 24,
    "start_time": "2023-06-27T16:51:39.192Z"
   },
   {
    "duration": 27,
    "start_time": "2023-06-27T16:51:39.218Z"
   },
   {
    "duration": 21,
    "start_time": "2023-06-27T16:51:39.247Z"
   },
   {
    "duration": 23,
    "start_time": "2023-06-27T16:51:39.270Z"
   },
   {
    "duration": 21,
    "start_time": "2023-06-27T16:51:39.295Z"
   },
   {
    "duration": 45,
    "start_time": "2023-06-27T16:51:39.318Z"
   },
   {
    "duration": 10,
    "start_time": "2023-06-27T16:51:39.365Z"
   },
   {
    "duration": 9,
    "start_time": "2023-06-27T16:51:39.376Z"
   },
   {
    "duration": 10,
    "start_time": "2023-06-27T16:51:39.387Z"
   },
   {
    "duration": 6,
    "start_time": "2023-06-27T16:51:39.398Z"
   },
   {
    "duration": 225,
    "start_time": "2023-06-27T16:51:39.406Z"
   },
   {
    "duration": 115,
    "start_time": "2023-06-27T16:51:39.634Z"
   },
   {
    "duration": 194,
    "start_time": "2023-06-27T16:51:39.751Z"
   },
   {
    "duration": 308,
    "start_time": "2023-06-27T16:51:39.947Z"
   },
   {
    "duration": 286,
    "start_time": "2023-06-27T16:51:40.256Z"
   },
   {
    "duration": 41,
    "start_time": "2023-06-27T16:51:40.544Z"
   },
   {
    "duration": 31,
    "start_time": "2023-06-27T16:51:40.586Z"
   },
   {
    "duration": 349,
    "start_time": "2023-06-27T16:51:40.619Z"
   },
   {
    "duration": 280,
    "start_time": "2023-06-27T16:51:40.970Z"
   },
   {
    "duration": 279,
    "start_time": "2023-06-27T16:51:41.252Z"
   },
   {
    "duration": 275,
    "start_time": "2023-06-27T16:51:41.533Z"
   },
   {
    "duration": 46,
    "start_time": "2023-06-27T16:51:41.810Z"
   },
   {
    "duration": 19,
    "start_time": "2023-06-27T16:51:41.857Z"
   },
   {
    "duration": 109,
    "start_time": "2023-06-27T16:51:41.878Z"
   },
   {
    "duration": 0,
    "start_time": "2023-06-27T16:51:41.989Z"
   },
   {
    "duration": 0,
    "start_time": "2023-06-27T16:51:41.990Z"
   },
   {
    "duration": 1,
    "start_time": "2023-06-27T16:51:41.991Z"
   },
   {
    "duration": 1,
    "start_time": "2023-06-27T16:51:41.992Z"
   },
   {
    "duration": 0,
    "start_time": "2023-06-27T16:51:41.993Z"
   },
   {
    "duration": 11,
    "start_time": "2023-06-27T16:52:07.730Z"
   },
   {
    "duration": 6,
    "start_time": "2023-06-27T16:52:16.494Z"
   },
   {
    "duration": 5,
    "start_time": "2023-06-27T16:53:41.660Z"
   },
   {
    "duration": 6,
    "start_time": "2023-06-27T16:53:45.501Z"
   },
   {
    "duration": 6,
    "start_time": "2023-06-27T16:55:12.965Z"
   },
   {
    "duration": 7,
    "start_time": "2023-06-27T16:55:14.290Z"
   },
   {
    "duration": 6,
    "start_time": "2023-06-27T17:01:46.343Z"
   },
   {
    "duration": 1379,
    "start_time": "2023-06-27T17:05:25.370Z"
   },
   {
    "duration": 15,
    "start_time": "2023-06-27T17:09:23.019Z"
   },
   {
    "duration": 8,
    "start_time": "2023-06-27T17:14:05.527Z"
   },
   {
    "duration": 20,
    "start_time": "2023-06-27T17:21:13.950Z"
   },
   {
    "duration": 13,
    "start_time": "2023-06-27T17:21:38.412Z"
   },
   {
    "duration": 9,
    "start_time": "2023-06-27T17:22:13.323Z"
   },
   {
    "duration": 15,
    "start_time": "2023-06-27T17:22:26.161Z"
   },
   {
    "duration": 16,
    "start_time": "2023-06-27T17:26:40.481Z"
   },
   {
    "duration": 11,
    "start_time": "2023-06-27T17:28:36.874Z"
   },
   {
    "duration": 8,
    "start_time": "2023-06-27T17:35:03.901Z"
   },
   {
    "duration": 13,
    "start_time": "2023-06-27T17:35:07.907Z"
   },
   {
    "duration": 20,
    "start_time": "2023-06-27T17:35:12.473Z"
   },
   {
    "duration": 11,
    "start_time": "2023-06-27T17:41:47.034Z"
   },
   {
    "duration": 17,
    "start_time": "2023-06-27T17:45:41.945Z"
   },
   {
    "duration": 15,
    "start_time": "2023-06-27T17:47:01.342Z"
   },
   {
    "duration": 19,
    "start_time": "2023-06-27T17:48:26.415Z"
   },
   {
    "duration": 18,
    "start_time": "2023-06-27T17:52:28.325Z"
   },
   {
    "duration": 28,
    "start_time": "2023-06-27T17:52:33.035Z"
   },
   {
    "duration": 26,
    "start_time": "2023-06-27T17:54:58.198Z"
   },
   {
    "duration": 20,
    "start_time": "2023-06-27T17:55:05.328Z"
   },
   {
    "duration": 140,
    "start_time": "2023-06-27T17:55:15.801Z"
   },
   {
    "duration": 71,
    "start_time": "2023-06-27T17:56:14.310Z"
   },
   {
    "duration": 72,
    "start_time": "2023-06-27T17:56:47.292Z"
   },
   {
    "duration": 771,
    "start_time": "2023-06-27T17:56:53.610Z"
   },
   {
    "duration": 47,
    "start_time": "2023-06-27T17:57:19.499Z"
   },
   {
    "duration": 1142,
    "start_time": "2023-06-27T17:57:30.396Z"
   },
   {
    "duration": 293,
    "start_time": "2023-06-27T17:57:31.541Z"
   },
   {
    "duration": 21,
    "start_time": "2023-06-27T17:57:31.835Z"
   },
   {
    "duration": 60,
    "start_time": "2023-06-27T17:57:31.859Z"
   },
   {
    "duration": 32,
    "start_time": "2023-06-27T17:57:31.921Z"
   },
   {
    "duration": 24,
    "start_time": "2023-06-27T17:57:31.955Z"
   },
   {
    "duration": 19,
    "start_time": "2023-06-27T17:57:31.981Z"
   },
   {
    "duration": 29,
    "start_time": "2023-06-27T17:57:32.002Z"
   },
   {
    "duration": 23,
    "start_time": "2023-06-27T17:57:32.032Z"
   },
   {
    "duration": 21,
    "start_time": "2023-06-27T17:57:32.058Z"
   },
   {
    "duration": 32,
    "start_time": "2023-06-27T17:57:32.081Z"
   },
   {
    "duration": 24,
    "start_time": "2023-06-27T17:57:32.115Z"
   },
   {
    "duration": 202,
    "start_time": "2023-06-27T17:57:32.140Z"
   },
   {
    "duration": 112,
    "start_time": "2023-06-27T17:57:32.344Z"
   },
   {
    "duration": 179,
    "start_time": "2023-06-27T17:57:32.468Z"
   },
   {
    "duration": 265,
    "start_time": "2023-06-27T17:57:32.648Z"
   },
   {
    "duration": 283,
    "start_time": "2023-06-27T17:57:32.914Z"
   },
   {
    "duration": 29,
    "start_time": "2023-06-27T17:57:33.199Z"
   },
   {
    "duration": 49,
    "start_time": "2023-06-27T17:57:33.229Z"
   },
   {
    "duration": 251,
    "start_time": "2023-06-27T17:57:33.280Z"
   },
   {
    "duration": 314,
    "start_time": "2023-06-27T17:57:33.533Z"
   },
   {
    "duration": 299,
    "start_time": "2023-06-27T17:57:33.848Z"
   },
   {
    "duration": 259,
    "start_time": "2023-06-27T17:57:34.150Z"
   },
   {
    "duration": 43,
    "start_time": "2023-06-27T17:57:34.411Z"
   },
   {
    "duration": 19,
    "start_time": "2023-06-27T17:57:34.456Z"
   },
   {
    "duration": 6,
    "start_time": "2023-06-27T17:57:34.477Z"
   },
   {
    "duration": 5,
    "start_time": "2023-06-27T17:57:34.485Z"
   },
   {
    "duration": 75,
    "start_time": "2023-06-27T17:57:34.494Z"
   },
   {
    "duration": 104,
    "start_time": "2023-06-27T17:57:34.571Z"
   },
   {
    "duration": 0,
    "start_time": "2023-06-27T17:57:34.677Z"
   },
   {
    "duration": 0,
    "start_time": "2023-06-27T17:57:34.678Z"
   },
   {
    "duration": 0,
    "start_time": "2023-06-27T17:57:34.680Z"
   },
   {
    "duration": 1037,
    "start_time": "2023-06-27T17:58:09.993Z"
   },
   {
    "duration": 67,
    "start_time": "2023-06-27T17:58:11.032Z"
   },
   {
    "duration": 21,
    "start_time": "2023-06-27T17:58:11.100Z"
   },
   {
    "duration": 17,
    "start_time": "2023-06-27T17:58:11.122Z"
   },
   {
    "duration": 14,
    "start_time": "2023-06-27T17:58:11.141Z"
   },
   {
    "duration": 14,
    "start_time": "2023-06-27T17:58:11.157Z"
   },
   {
    "duration": 6,
    "start_time": "2023-06-27T17:58:11.172Z"
   },
   {
    "duration": 13,
    "start_time": "2023-06-27T17:58:11.180Z"
   },
   {
    "duration": 9,
    "start_time": "2023-06-27T17:58:11.194Z"
   },
   {
    "duration": 6,
    "start_time": "2023-06-27T17:58:11.204Z"
   },
   {
    "duration": 6,
    "start_time": "2023-06-27T17:58:11.211Z"
   },
   {
    "duration": 5,
    "start_time": "2023-06-27T17:58:11.218Z"
   },
   {
    "duration": 228,
    "start_time": "2023-06-27T17:58:11.225Z"
   },
   {
    "duration": 96,
    "start_time": "2023-06-27T17:58:11.455Z"
   },
   {
    "duration": 174,
    "start_time": "2023-06-27T17:58:11.553Z"
   },
   {
    "duration": 256,
    "start_time": "2023-06-27T17:58:11.729Z"
   },
   {
    "duration": 250,
    "start_time": "2023-06-27T17:58:11.986Z"
   },
   {
    "duration": 33,
    "start_time": "2023-06-27T17:58:12.238Z"
   },
   {
    "duration": 26,
    "start_time": "2023-06-27T17:58:12.273Z"
   },
   {
    "duration": 245,
    "start_time": "2023-06-27T17:58:12.301Z"
   },
   {
    "duration": 313,
    "start_time": "2023-06-27T17:58:12.548Z"
   },
   {
    "duration": 255,
    "start_time": "2023-06-27T17:58:12.862Z"
   },
   {
    "duration": 239,
    "start_time": "2023-06-27T17:58:13.119Z"
   },
   {
    "duration": 43,
    "start_time": "2023-06-27T17:58:13.359Z"
   },
   {
    "duration": 10,
    "start_time": "2023-06-27T17:58:13.403Z"
   },
   {
    "duration": 17,
    "start_time": "2023-06-27T17:58:13.415Z"
   },
   {
    "duration": 15,
    "start_time": "2023-06-27T17:58:13.434Z"
   },
   {
    "duration": 28,
    "start_time": "2023-06-27T17:58:13.451Z"
   },
   {
    "duration": 94,
    "start_time": "2023-06-27T17:58:13.481Z"
   },
   {
    "duration": 0,
    "start_time": "2023-06-27T17:58:13.577Z"
   },
   {
    "duration": 0,
    "start_time": "2023-06-27T17:58:13.578Z"
   },
   {
    "duration": 0,
    "start_time": "2023-06-27T17:58:13.580Z"
   },
   {
    "duration": 62,
    "start_time": "2023-06-27T17:59:16.919Z"
   },
   {
    "duration": 40,
    "start_time": "2023-06-27T17:59:28.746Z"
   },
   {
    "duration": 38,
    "start_time": "2023-06-27T17:59:53.677Z"
   },
   {
    "duration": 56,
    "start_time": "2023-06-27T18:00:53.018Z"
   },
   {
    "duration": 102,
    "start_time": "2023-06-27T18:00:57.653Z"
   },
   {
    "duration": 125,
    "start_time": "2023-06-27T18:01:14.788Z"
   },
   {
    "duration": 20,
    "start_time": "2023-06-27T18:01:56.115Z"
   },
   {
    "duration": 19,
    "start_time": "2023-06-27T18:02:04.958Z"
   },
   {
    "duration": 28,
    "start_time": "2023-06-27T18:02:18.790Z"
   },
   {
    "duration": 47,
    "start_time": "2023-06-27T18:02:56.870Z"
   },
   {
    "duration": 1145,
    "start_time": "2023-06-27T18:03:27.200Z"
   },
   {
    "duration": 67,
    "start_time": "2023-06-27T18:03:28.347Z"
   },
   {
    "duration": 23,
    "start_time": "2023-06-27T18:03:28.416Z"
   },
   {
    "duration": 17,
    "start_time": "2023-06-27T18:03:28.441Z"
   },
   {
    "duration": 16,
    "start_time": "2023-06-27T18:03:28.460Z"
   },
   {
    "duration": 14,
    "start_time": "2023-06-27T18:03:28.477Z"
   },
   {
    "duration": 5,
    "start_time": "2023-06-27T18:03:28.493Z"
   },
   {
    "duration": 21,
    "start_time": "2023-06-27T18:03:28.499Z"
   },
   {
    "duration": 9,
    "start_time": "2023-06-27T18:03:28.523Z"
   },
   {
    "duration": 6,
    "start_time": "2023-06-27T18:03:28.536Z"
   },
   {
    "duration": 30,
    "start_time": "2023-06-27T18:03:28.544Z"
   },
   {
    "duration": 9,
    "start_time": "2023-06-27T18:03:28.575Z"
   },
   {
    "duration": 223,
    "start_time": "2023-06-27T18:03:28.586Z"
   },
   {
    "duration": 114,
    "start_time": "2023-06-27T18:03:28.812Z"
   },
   {
    "duration": 208,
    "start_time": "2023-06-27T18:03:28.928Z"
   },
   {
    "duration": 294,
    "start_time": "2023-06-27T18:03:29.138Z"
   },
   {
    "duration": 294,
    "start_time": "2023-06-27T18:03:29.433Z"
   },
   {
    "duration": 40,
    "start_time": "2023-06-27T18:03:29.729Z"
   },
   {
    "duration": 33,
    "start_time": "2023-06-27T18:03:29.771Z"
   },
   {
    "duration": 285,
    "start_time": "2023-06-27T18:03:29.805Z"
   },
   {
    "duration": 615,
    "start_time": "2023-06-27T18:03:30.091Z"
   },
   {
    "duration": 571,
    "start_time": "2023-06-27T18:03:30.708Z"
   },
   {
    "duration": 515,
    "start_time": "2023-06-27T18:03:31.281Z"
   },
   {
    "duration": 44,
    "start_time": "2023-06-27T18:03:31.797Z"
   },
   {
    "duration": 28,
    "start_time": "2023-06-27T18:03:31.842Z"
   },
   {
    "duration": 8,
    "start_time": "2023-06-27T18:03:31.872Z"
   },
   {
    "duration": 13,
    "start_time": "2023-06-27T18:03:31.882Z"
   },
   {
    "duration": 34,
    "start_time": "2023-06-27T18:03:31.899Z"
   },
   {
    "duration": 102,
    "start_time": "2023-06-27T18:03:31.935Z"
   },
   {
    "duration": 0,
    "start_time": "2023-06-27T18:03:32.039Z"
   },
   {
    "duration": 0,
    "start_time": "2023-06-27T18:03:32.040Z"
   },
   {
    "duration": 0,
    "start_time": "2023-06-27T18:03:32.042Z"
   },
   {
    "duration": 19,
    "start_time": "2023-06-27T18:03:49.362Z"
   },
   {
    "duration": 1034,
    "start_time": "2023-06-27T18:04:10.940Z"
   },
   {
    "duration": 68,
    "start_time": "2023-06-27T18:04:11.976Z"
   },
   {
    "duration": 20,
    "start_time": "2023-06-27T18:04:12.046Z"
   },
   {
    "duration": 16,
    "start_time": "2023-06-27T18:04:12.068Z"
   },
   {
    "duration": 12,
    "start_time": "2023-06-27T18:04:12.085Z"
   },
   {
    "duration": 7,
    "start_time": "2023-06-27T18:04:12.099Z"
   },
   {
    "duration": 6,
    "start_time": "2023-06-27T18:04:12.107Z"
   },
   {
    "duration": 12,
    "start_time": "2023-06-27T18:04:12.115Z"
   },
   {
    "duration": 42,
    "start_time": "2023-06-27T18:04:12.129Z"
   },
   {
    "duration": 5,
    "start_time": "2023-06-27T18:04:12.173Z"
   },
   {
    "duration": 7,
    "start_time": "2023-06-27T18:04:12.179Z"
   },
   {
    "duration": 6,
    "start_time": "2023-06-27T18:04:12.187Z"
   },
   {
    "duration": 375,
    "start_time": "2023-06-27T18:04:12.194Z"
   },
   {
    "duration": 197,
    "start_time": "2023-06-27T18:04:12.571Z"
   },
   {
    "duration": 311,
    "start_time": "2023-06-27T18:04:12.770Z"
   },
   {
    "duration": 503,
    "start_time": "2023-06-27T18:04:13.082Z"
   },
   {
    "duration": 483,
    "start_time": "2023-06-27T18:04:13.587Z"
   },
   {
    "duration": 37,
    "start_time": "2023-06-27T18:04:14.072Z"
   },
   {
    "duration": 56,
    "start_time": "2023-06-27T18:04:14.112Z"
   },
   {
    "duration": 252,
    "start_time": "2023-06-27T18:04:14.170Z"
   },
   {
    "duration": 304,
    "start_time": "2023-06-27T18:04:14.423Z"
   },
   {
    "duration": 240,
    "start_time": "2023-06-27T18:04:14.728Z"
   },
   {
    "duration": 255,
    "start_time": "2023-06-27T18:04:14.969Z"
   },
   {
    "duration": 47,
    "start_time": "2023-06-27T18:04:15.225Z"
   },
   {
    "duration": 8,
    "start_time": "2023-06-27T18:04:15.274Z"
   },
   {
    "duration": 7,
    "start_time": "2023-06-27T18:04:15.284Z"
   },
   {
    "duration": 6,
    "start_time": "2023-06-27T18:04:15.292Z"
   },
   {
    "duration": 29,
    "start_time": "2023-06-27T18:04:15.300Z"
   },
   {
    "duration": 120,
    "start_time": "2023-06-27T18:04:15.330Z"
   },
   {
    "duration": 0,
    "start_time": "2023-06-27T18:04:15.452Z"
   },
   {
    "duration": 0,
    "start_time": "2023-06-27T18:04:15.453Z"
   },
   {
    "duration": 0,
    "start_time": "2023-06-27T18:04:15.454Z"
   },
   {
    "duration": 19,
    "start_time": "2023-06-27T18:05:11.691Z"
   },
   {
    "duration": 1056,
    "start_time": "2023-06-27T18:05:24.532Z"
   },
   {
    "duration": 65,
    "start_time": "2023-06-27T18:05:25.590Z"
   },
   {
    "duration": 20,
    "start_time": "2023-06-27T18:05:25.657Z"
   },
   {
    "duration": 14,
    "start_time": "2023-06-27T18:05:25.679Z"
   },
   {
    "duration": 11,
    "start_time": "2023-06-27T18:05:25.695Z"
   },
   {
    "duration": 7,
    "start_time": "2023-06-27T18:05:25.707Z"
   },
   {
    "duration": 5,
    "start_time": "2023-06-27T18:05:25.715Z"
   },
   {
    "duration": 18,
    "start_time": "2023-06-27T18:05:25.721Z"
   },
   {
    "duration": 9,
    "start_time": "2023-06-27T18:05:25.767Z"
   },
   {
    "duration": 5,
    "start_time": "2023-06-27T18:05:25.778Z"
   },
   {
    "duration": 7,
    "start_time": "2023-06-27T18:05:25.784Z"
   },
   {
    "duration": 6,
    "start_time": "2023-06-27T18:05:25.793Z"
   },
   {
    "duration": 207,
    "start_time": "2023-06-27T18:05:25.800Z"
   },
   {
    "duration": 100,
    "start_time": "2023-06-27T18:05:26.008Z"
   },
   {
    "duration": 165,
    "start_time": "2023-06-27T18:05:26.109Z"
   },
   {
    "duration": 263,
    "start_time": "2023-06-27T18:05:26.275Z"
   },
   {
    "duration": 261,
    "start_time": "2023-06-27T18:05:26.539Z"
   },
   {
    "duration": 28,
    "start_time": "2023-06-27T18:05:26.802Z"
   },
   {
    "duration": 42,
    "start_time": "2023-06-27T18:05:26.831Z"
   },
   {
    "duration": 315,
    "start_time": "2023-06-27T18:05:26.875Z"
   },
   {
    "duration": 718,
    "start_time": "2023-06-27T18:05:27.192Z"
   },
   {
    "duration": 574,
    "start_time": "2023-06-27T18:05:27.912Z"
   },
   {
    "duration": 522,
    "start_time": "2023-06-27T18:05:28.488Z"
   },
   {
    "duration": 46,
    "start_time": "2023-06-27T18:05:29.012Z"
   },
   {
    "duration": 10,
    "start_time": "2023-06-27T18:05:29.069Z"
   },
   {
    "duration": 6,
    "start_time": "2023-06-27T18:05:29.081Z"
   },
   {
    "duration": 20,
    "start_time": "2023-06-27T18:05:29.088Z"
   },
   {
    "duration": 88,
    "start_time": "2023-06-27T18:05:29.111Z"
   },
   {
    "duration": 114,
    "start_time": "2023-06-27T18:05:29.200Z"
   },
   {
    "duration": 0,
    "start_time": "2023-06-27T18:05:29.316Z"
   },
   {
    "duration": 0,
    "start_time": "2023-06-27T18:05:29.317Z"
   },
   {
    "duration": 0,
    "start_time": "2023-06-27T18:05:29.318Z"
   },
   {
    "duration": 66,
    "start_time": "2023-06-27T18:06:05.119Z"
   },
   {
    "duration": 17,
    "start_time": "2023-06-27T18:06:14.265Z"
   },
   {
    "duration": 1101,
    "start_time": "2023-06-27T18:06:23.513Z"
   },
   {
    "duration": 64,
    "start_time": "2023-06-27T18:06:24.615Z"
   },
   {
    "duration": 19,
    "start_time": "2023-06-27T18:06:24.681Z"
   },
   {
    "duration": 15,
    "start_time": "2023-06-27T18:06:24.702Z"
   },
   {
    "duration": 17,
    "start_time": "2023-06-27T18:06:24.719Z"
   },
   {
    "duration": 7,
    "start_time": "2023-06-27T18:06:24.737Z"
   },
   {
    "duration": 6,
    "start_time": "2023-06-27T18:06:24.745Z"
   },
   {
    "duration": 25,
    "start_time": "2023-06-27T18:06:24.752Z"
   },
   {
    "duration": 9,
    "start_time": "2023-06-27T18:06:24.778Z"
   },
   {
    "duration": 6,
    "start_time": "2023-06-27T18:06:24.789Z"
   },
   {
    "duration": 5,
    "start_time": "2023-06-27T18:06:24.796Z"
   },
   {
    "duration": 5,
    "start_time": "2023-06-27T18:06:24.803Z"
   },
   {
    "duration": 214,
    "start_time": "2023-06-27T18:06:24.809Z"
   },
   {
    "duration": 107,
    "start_time": "2023-06-27T18:06:25.025Z"
   },
   {
    "duration": 163,
    "start_time": "2023-06-27T18:06:25.134Z"
   },
   {
    "duration": 255,
    "start_time": "2023-06-27T18:06:25.298Z"
   },
   {
    "duration": 247,
    "start_time": "2023-06-27T18:06:25.555Z"
   },
   {
    "duration": 32,
    "start_time": "2023-06-27T18:06:25.803Z"
   },
   {
    "duration": 50,
    "start_time": "2023-06-27T18:06:25.837Z"
   },
   {
    "duration": 237,
    "start_time": "2023-06-27T18:06:25.888Z"
   },
   {
    "duration": 303,
    "start_time": "2023-06-27T18:06:26.127Z"
   },
   {
    "duration": 242,
    "start_time": "2023-06-27T18:06:26.432Z"
   },
   {
    "duration": 245,
    "start_time": "2023-06-27T18:06:26.676Z"
   },
   {
    "duration": 46,
    "start_time": "2023-06-27T18:06:26.923Z"
   },
   {
    "duration": 8,
    "start_time": "2023-06-27T18:06:26.971Z"
   },
   {
    "duration": 5,
    "start_time": "2023-06-27T18:06:26.980Z"
   },
   {
    "duration": 4,
    "start_time": "2023-06-27T18:06:26.986Z"
   },
   {
    "duration": 96,
    "start_time": "2023-06-27T18:06:26.993Z"
   },
   {
    "duration": 121,
    "start_time": "2023-06-27T18:06:27.091Z"
   },
   {
    "duration": 0,
    "start_time": "2023-06-27T18:06:27.214Z"
   },
   {
    "duration": 0,
    "start_time": "2023-06-27T18:06:27.215Z"
   },
   {
    "duration": 0,
    "start_time": "2023-06-27T18:06:27.216Z"
   },
   {
    "duration": 19,
    "start_time": "2023-06-27T18:06:53.576Z"
   },
   {
    "duration": 27,
    "start_time": "2023-06-27T18:07:22.314Z"
   },
   {
    "duration": 1211,
    "start_time": "2023-06-27T18:07:35.540Z"
   },
   {
    "duration": 68,
    "start_time": "2023-06-27T18:07:36.753Z"
   },
   {
    "duration": 31,
    "start_time": "2023-06-27T18:07:36.823Z"
   },
   {
    "duration": 18,
    "start_time": "2023-06-27T18:07:36.856Z"
   },
   {
    "duration": 16,
    "start_time": "2023-06-27T18:07:36.875Z"
   },
   {
    "duration": 7,
    "start_time": "2023-06-27T18:07:36.892Z"
   },
   {
    "duration": 9,
    "start_time": "2023-06-27T18:07:36.900Z"
   },
   {
    "duration": 13,
    "start_time": "2023-06-27T18:07:36.910Z"
   },
   {
    "duration": 11,
    "start_time": "2023-06-27T18:07:36.924Z"
   },
   {
    "duration": 31,
    "start_time": "2023-06-27T18:07:36.937Z"
   },
   {
    "duration": 6,
    "start_time": "2023-06-27T18:07:36.970Z"
   },
   {
    "duration": 4,
    "start_time": "2023-06-27T18:07:36.978Z"
   },
   {
    "duration": 211,
    "start_time": "2023-06-27T18:07:36.983Z"
   },
   {
    "duration": 120,
    "start_time": "2023-06-27T18:07:37.196Z"
   },
   {
    "duration": 169,
    "start_time": "2023-06-27T18:07:37.318Z"
   },
   {
    "duration": 254,
    "start_time": "2023-06-27T18:07:37.488Z"
   },
   {
    "duration": 272,
    "start_time": "2023-06-27T18:07:37.743Z"
   },
   {
    "duration": 30,
    "start_time": "2023-06-27T18:07:38.017Z"
   },
   {
    "duration": 43,
    "start_time": "2023-06-27T18:07:38.049Z"
   },
   {
    "duration": 247,
    "start_time": "2023-06-27T18:07:38.093Z"
   },
   {
    "duration": 313,
    "start_time": "2023-06-27T18:07:38.342Z"
   },
   {
    "duration": 246,
    "start_time": "2023-06-27T18:07:38.656Z"
   },
   {
    "duration": 288,
    "start_time": "2023-06-27T18:07:38.904Z"
   },
   {
    "duration": 47,
    "start_time": "2023-06-27T18:07:39.193Z"
   },
   {
    "duration": 27,
    "start_time": "2023-06-27T18:07:39.241Z"
   },
   {
    "duration": 6,
    "start_time": "2023-06-27T18:07:39.270Z"
   },
   {
    "duration": 20,
    "start_time": "2023-06-27T18:07:39.277Z"
   },
   {
    "duration": 72,
    "start_time": "2023-06-27T18:07:39.300Z"
   },
   {
    "duration": 100,
    "start_time": "2023-06-27T18:07:39.373Z"
   },
   {
    "duration": 0,
    "start_time": "2023-06-27T18:07:39.475Z"
   },
   {
    "duration": 0,
    "start_time": "2023-06-27T18:07:39.476Z"
   },
   {
    "duration": 0,
    "start_time": "2023-06-27T18:07:39.477Z"
   },
   {
    "duration": 14,
    "start_time": "2023-06-27T18:10:03.063Z"
   },
   {
    "duration": 2,
    "start_time": "2023-06-27T18:10:21.989Z"
   },
   {
    "duration": 14,
    "start_time": "2023-06-27T18:10:26.622Z"
   },
   {
    "duration": 1060,
    "start_time": "2023-06-27T18:10:39.537Z"
   },
   {
    "duration": 65,
    "start_time": "2023-06-27T18:10:40.598Z"
   },
   {
    "duration": 19,
    "start_time": "2023-06-27T18:10:40.665Z"
   },
   {
    "duration": 17,
    "start_time": "2023-06-27T18:10:40.687Z"
   },
   {
    "duration": 14,
    "start_time": "2023-06-27T18:10:40.706Z"
   },
   {
    "duration": 8,
    "start_time": "2023-06-27T18:10:40.721Z"
   },
   {
    "duration": 37,
    "start_time": "2023-06-27T18:10:40.731Z"
   },
   {
    "duration": 15,
    "start_time": "2023-06-27T18:10:40.770Z"
   },
   {
    "duration": 9,
    "start_time": "2023-06-27T18:10:40.786Z"
   },
   {
    "duration": 6,
    "start_time": "2023-06-27T18:10:40.797Z"
   },
   {
    "duration": 11,
    "start_time": "2023-06-27T18:10:40.804Z"
   },
   {
    "duration": 7,
    "start_time": "2023-06-27T18:10:40.816Z"
   },
   {
    "duration": 209,
    "start_time": "2023-06-27T18:10:40.825Z"
   },
   {
    "duration": 120,
    "start_time": "2023-06-27T18:10:41.036Z"
   },
   {
    "duration": 163,
    "start_time": "2023-06-27T18:10:41.157Z"
   },
   {
    "duration": 247,
    "start_time": "2023-06-27T18:10:41.322Z"
   },
   {
    "duration": 254,
    "start_time": "2023-06-27T18:10:41.571Z"
   },
   {
    "duration": 42,
    "start_time": "2023-06-27T18:10:41.827Z"
   },
   {
    "duration": 34,
    "start_time": "2023-06-27T18:10:41.871Z"
   },
   {
    "duration": 498,
    "start_time": "2023-06-27T18:10:41.907Z"
   },
   {
    "duration": 664,
    "start_time": "2023-06-27T18:10:42.407Z"
   },
   {
    "duration": 452,
    "start_time": "2023-06-27T18:10:43.072Z"
   },
   {
    "duration": 273,
    "start_time": "2023-06-27T18:10:43.526Z"
   },
   {
    "duration": 41,
    "start_time": "2023-06-27T18:10:43.801Z"
   },
   {
    "duration": 26,
    "start_time": "2023-06-27T18:10:43.843Z"
   },
   {
    "duration": 5,
    "start_time": "2023-06-27T18:10:43.871Z"
   },
   {
    "duration": 7,
    "start_time": "2023-06-27T18:10:43.877Z"
   },
   {
    "duration": 57,
    "start_time": "2023-06-27T18:10:43.887Z"
   },
   {
    "duration": 1188,
    "start_time": "2023-06-27T18:10:43.947Z"
   },
   {
    "duration": 0,
    "start_time": "2023-06-27T18:10:45.136Z"
   },
   {
    "duration": 0,
    "start_time": "2023-06-27T18:10:45.137Z"
   },
   {
    "duration": 0,
    "start_time": "2023-06-27T18:10:45.138Z"
   },
   {
    "duration": 1035,
    "start_time": "2023-06-27T18:11:42.558Z"
   },
   {
    "duration": 1161,
    "start_time": "2023-06-27T18:11:53.934Z"
   },
   {
    "duration": 27,
    "start_time": "2023-06-27T18:13:30.532Z"
   },
   {
    "duration": 1059,
    "start_time": "2023-06-27T18:13:34.945Z"
   },
   {
    "duration": 76,
    "start_time": "2023-06-27T18:13:36.006Z"
   },
   {
    "duration": 19,
    "start_time": "2023-06-27T18:13:36.084Z"
   },
   {
    "duration": 27,
    "start_time": "2023-06-27T18:13:36.105Z"
   },
   {
    "duration": 20,
    "start_time": "2023-06-27T18:13:36.134Z"
   },
   {
    "duration": 11,
    "start_time": "2023-06-27T18:13:36.156Z"
   },
   {
    "duration": 4,
    "start_time": "2023-06-27T18:13:36.169Z"
   },
   {
    "duration": 22,
    "start_time": "2023-06-27T18:13:36.175Z"
   },
   {
    "duration": 16,
    "start_time": "2023-06-27T18:13:36.198Z"
   },
   {
    "duration": 6,
    "start_time": "2023-06-27T18:13:36.216Z"
   },
   {
    "duration": 9,
    "start_time": "2023-06-27T18:13:36.223Z"
   },
   {
    "duration": 5,
    "start_time": "2023-06-27T18:13:36.233Z"
   },
   {
    "duration": 269,
    "start_time": "2023-06-27T18:13:36.240Z"
   },
   {
    "duration": 117,
    "start_time": "2023-06-27T18:13:36.511Z"
   },
   {
    "duration": 168,
    "start_time": "2023-06-27T18:13:36.630Z"
   },
   {
    "duration": 260,
    "start_time": "2023-06-27T18:13:36.800Z"
   },
   {
    "duration": 271,
    "start_time": "2023-06-27T18:13:37.062Z"
   },
   {
    "duration": 36,
    "start_time": "2023-06-27T18:13:37.335Z"
   },
   {
    "duration": 30,
    "start_time": "2023-06-27T18:13:37.373Z"
   },
   {
    "duration": 248,
    "start_time": "2023-06-27T18:13:37.404Z"
   },
   {
    "duration": 311,
    "start_time": "2023-06-27T18:13:37.653Z"
   },
   {
    "duration": 242,
    "start_time": "2023-06-27T18:13:37.967Z"
   },
   {
    "duration": 233,
    "start_time": "2023-06-27T18:13:38.211Z"
   },
   {
    "duration": 47,
    "start_time": "2023-06-27T18:13:38.445Z"
   },
   {
    "duration": 8,
    "start_time": "2023-06-27T18:13:38.494Z"
   },
   {
    "duration": 5,
    "start_time": "2023-06-27T18:13:38.503Z"
   },
   {
    "duration": 4,
    "start_time": "2023-06-27T18:13:38.510Z"
   },
   {
    "duration": 51,
    "start_time": "2023-06-27T18:13:38.517Z"
   },
   {
    "duration": 1104,
    "start_time": "2023-06-27T18:13:38.570Z"
   },
   {
    "duration": 0,
    "start_time": "2023-06-27T18:13:39.676Z"
   },
   {
    "duration": 0,
    "start_time": "2023-06-27T18:13:39.677Z"
   },
   {
    "duration": 0,
    "start_time": "2023-06-27T18:13:39.678Z"
   },
   {
    "duration": 7,
    "start_time": "2023-06-27T18:14:04.231Z"
   },
   {
    "duration": 6,
    "start_time": "2023-06-27T18:14:11.592Z"
   },
   {
    "duration": 1028,
    "start_time": "2023-06-27T18:14:30.603Z"
   },
   {
    "duration": 66,
    "start_time": "2023-06-27T18:14:31.633Z"
   },
   {
    "duration": 22,
    "start_time": "2023-06-27T18:14:31.701Z"
   },
   {
    "duration": 16,
    "start_time": "2023-06-27T18:14:31.725Z"
   },
   {
    "duration": 30,
    "start_time": "2023-06-27T18:14:31.743Z"
   },
   {
    "duration": 16,
    "start_time": "2023-06-27T18:14:31.774Z"
   },
   {
    "duration": 5,
    "start_time": "2023-06-27T18:14:31.791Z"
   },
   {
    "duration": 14,
    "start_time": "2023-06-27T18:14:31.798Z"
   },
   {
    "duration": 15,
    "start_time": "2023-06-27T18:14:31.814Z"
   },
   {
    "duration": 27,
    "start_time": "2023-06-27T18:14:31.832Z"
   },
   {
    "duration": 18,
    "start_time": "2023-06-27T18:14:31.861Z"
   },
   {
    "duration": 22,
    "start_time": "2023-06-27T18:14:31.881Z"
   },
   {
    "duration": 192,
    "start_time": "2023-06-27T18:14:31.905Z"
   },
   {
    "duration": 99,
    "start_time": "2023-06-27T18:14:32.099Z"
   },
   {
    "duration": 177,
    "start_time": "2023-06-27T18:14:32.199Z"
   },
   {
    "duration": 251,
    "start_time": "2023-06-27T18:14:32.378Z"
   },
   {
    "duration": 241,
    "start_time": "2023-06-27T18:14:32.631Z"
   },
   {
    "duration": 28,
    "start_time": "2023-06-27T18:14:32.874Z"
   },
   {
    "duration": 26,
    "start_time": "2023-06-27T18:14:32.904Z"
   },
   {
    "duration": 265,
    "start_time": "2023-06-27T18:14:32.932Z"
   },
   {
    "duration": 310,
    "start_time": "2023-06-27T18:14:33.198Z"
   },
   {
    "duration": 236,
    "start_time": "2023-06-27T18:14:33.509Z"
   },
   {
    "duration": 251,
    "start_time": "2023-06-27T18:14:33.747Z"
   },
   {
    "duration": 55,
    "start_time": "2023-06-27T18:14:34.001Z"
   },
   {
    "duration": 12,
    "start_time": "2023-06-27T18:14:34.069Z"
   },
   {
    "duration": 6,
    "start_time": "2023-06-27T18:14:34.083Z"
   },
   {
    "duration": 21,
    "start_time": "2023-06-27T18:14:34.091Z"
   },
   {
    "duration": 10,
    "start_time": "2023-06-27T18:14:34.115Z"
   },
   {
    "duration": 6,
    "start_time": "2023-06-27T18:14:34.127Z"
   },
   {
    "duration": 240,
    "start_time": "2023-06-27T18:14:34.135Z"
   },
   {
    "duration": 2,
    "start_time": "2023-06-27T18:14:34.377Z"
   },
   {
    "duration": 14,
    "start_time": "2023-06-27T18:14:34.381Z"
   },
   {
    "duration": 37,
    "start_time": "2023-06-27T18:15:45.242Z"
   },
   {
    "duration": 6,
    "start_time": "2023-06-27T18:16:01.639Z"
   },
   {
    "duration": 5,
    "start_time": "2023-06-27T18:16:20.506Z"
   },
   {
    "duration": 21,
    "start_time": "2023-06-27T18:17:41.961Z"
   },
   {
    "duration": 17,
    "start_time": "2023-06-27T18:17:46.522Z"
   },
   {
    "duration": 18,
    "start_time": "2023-06-27T18:18:05.416Z"
   },
   {
    "duration": 5,
    "start_time": "2023-06-27T18:18:18.445Z"
   },
   {
    "duration": 9,
    "start_time": "2023-06-27T18:18:37.067Z"
   },
   {
    "duration": 115,
    "start_time": "2023-06-27T18:20:28.257Z"
   },
   {
    "duration": 3,
    "start_time": "2023-06-27T18:20:47.763Z"
   },
   {
    "duration": 249,
    "start_time": "2023-06-27T18:20:53.108Z"
   },
   {
    "duration": 358,
    "start_time": "2023-06-27T18:21:38.874Z"
   },
   {
    "duration": 1424,
    "start_time": "2023-06-27T18:22:17.013Z"
   },
   {
    "duration": 235,
    "start_time": "2023-06-27T18:23:08.962Z"
   },
   {
    "duration": 135,
    "start_time": "2023-06-27T18:23:12.314Z"
   },
   {
    "duration": 1560,
    "start_time": "2023-06-27T18:23:30.713Z"
   },
   {
    "duration": 1485,
    "start_time": "2023-06-27T18:23:37.359Z"
   },
   {
    "duration": 14829,
    "start_time": "2023-06-27T18:23:42.848Z"
   },
   {
    "duration": 8491,
    "start_time": "2023-06-27T18:24:05.290Z"
   },
   {
    "duration": 4940,
    "start_time": "2023-06-27T18:24:21.046Z"
   },
   {
    "duration": 3101,
    "start_time": "2023-06-27T18:24:31.172Z"
   },
   {
    "duration": 2333,
    "start_time": "2023-06-27T18:24:39.214Z"
   },
   {
    "duration": 1753,
    "start_time": "2023-06-27T18:24:47.275Z"
   },
   {
    "duration": 1547,
    "start_time": "2023-06-27T18:24:52.864Z"
   },
   {
    "duration": 1455,
    "start_time": "2023-06-27T18:24:58.266Z"
   },
   {
    "duration": 1692,
    "start_time": "2023-06-27T18:25:04.622Z"
   },
   {
    "duration": 1766,
    "start_time": "2023-06-27T18:25:10.028Z"
   },
   {
    "duration": 1660,
    "start_time": "2023-06-27T18:26:33.460Z"
   },
   {
    "duration": 998,
    "start_time": "2023-06-27T18:26:40.281Z"
   },
   {
    "duration": 309,
    "start_time": "2023-06-27T18:26:43.979Z"
   },
   {
    "duration": 1439,
    "start_time": "2023-06-27T18:26:48.292Z"
   },
   {
    "duration": 3036,
    "start_time": "2023-06-27T18:26:52.646Z"
   },
   {
    "duration": 7561,
    "start_time": "2023-06-27T18:26:59.252Z"
   },
   {
    "duration": 7609,
    "start_time": "2023-06-27T18:28:59.983Z"
   },
   {
    "duration": 1886,
    "start_time": "2023-06-27T18:29:08.953Z"
   },
   {
    "duration": 1592,
    "start_time": "2023-06-27T18:29:25.513Z"
   },
   {
    "duration": 22,
    "start_time": "2023-06-27T18:30:39.420Z"
   },
   {
    "duration": 11,
    "start_time": "2023-06-27T18:30:40.235Z"
   },
   {
    "duration": 18,
    "start_time": "2023-06-27T18:30:55.980Z"
   },
   {
    "duration": 20,
    "start_time": "2023-06-27T18:30:56.646Z"
   },
   {
    "duration": 5,
    "start_time": "2023-06-27T18:30:57.247Z"
   },
   {
    "duration": 15,
    "start_time": "2023-06-27T18:34:44.282Z"
   },
   {
    "duration": 9,
    "start_time": "2023-06-27T18:36:11.510Z"
   },
   {
    "duration": 17,
    "start_time": "2023-06-27T18:37:11.628Z"
   },
   {
    "duration": 23,
    "start_time": "2023-06-27T18:37:12.463Z"
   },
   {
    "duration": 5,
    "start_time": "2023-06-27T18:37:13.480Z"
   },
   {
    "duration": 73,
    "start_time": "2023-06-27T18:37:19.840Z"
   },
   {
    "duration": 18,
    "start_time": "2023-06-27T18:37:26.066Z"
   },
   {
    "duration": 15,
    "start_time": "2023-06-27T18:37:39.020Z"
   },
   {
    "duration": 27,
    "start_time": "2023-06-27T18:42:01.868Z"
   },
   {
    "duration": 1540,
    "start_time": "2023-06-28T08:18:01.267Z"
   },
   {
    "duration": 92,
    "start_time": "2023-06-28T08:18:02.810Z"
   },
   {
    "duration": 23,
    "start_time": "2023-06-28T08:18:02.904Z"
   },
   {
    "duration": 18,
    "start_time": "2023-06-28T08:18:02.929Z"
   },
   {
    "duration": 48,
    "start_time": "2023-06-28T08:18:02.950Z"
   },
   {
    "duration": 69,
    "start_time": "2023-06-28T08:18:03.001Z"
   },
   {
    "duration": 24,
    "start_time": "2023-06-28T08:18:03.076Z"
   },
   {
    "duration": 48,
    "start_time": "2023-06-28T08:18:03.102Z"
   },
   {
    "duration": 25,
    "start_time": "2023-06-28T08:18:03.152Z"
   },
   {
    "duration": 35,
    "start_time": "2023-06-28T08:18:03.179Z"
   },
   {
    "duration": 19,
    "start_time": "2023-06-28T08:18:03.216Z"
   },
   {
    "duration": 31,
    "start_time": "2023-06-28T08:18:03.237Z"
   },
   {
    "duration": 262,
    "start_time": "2023-06-28T08:18:03.270Z"
   },
   {
    "duration": 125,
    "start_time": "2023-06-28T08:18:03.535Z"
   },
   {
    "duration": 251,
    "start_time": "2023-06-28T08:18:03.662Z"
   },
   {
    "duration": 381,
    "start_time": "2023-06-28T08:18:03.915Z"
   },
   {
    "duration": 392,
    "start_time": "2023-06-28T08:18:04.302Z"
   },
   {
    "duration": 38,
    "start_time": "2023-06-28T08:18:04.696Z"
   },
   {
    "duration": 66,
    "start_time": "2023-06-28T08:18:04.736Z"
   },
   {
    "duration": 340,
    "start_time": "2023-06-28T08:18:04.804Z"
   },
   {
    "duration": 429,
    "start_time": "2023-06-28T08:18:05.146Z"
   },
   {
    "duration": 352,
    "start_time": "2023-06-28T08:18:05.578Z"
   },
   {
    "duration": 373,
    "start_time": "2023-06-28T08:18:05.932Z"
   },
   {
    "duration": 57,
    "start_time": "2023-06-28T08:18:06.307Z"
   },
   {
    "duration": 15,
    "start_time": "2023-06-28T08:18:06.367Z"
   },
   {
    "duration": 14,
    "start_time": "2023-06-28T08:18:06.384Z"
   },
   {
    "duration": 25,
    "start_time": "2023-06-28T08:18:06.401Z"
   },
   {
    "duration": 47,
    "start_time": "2023-06-28T08:18:06.428Z"
   },
   {
    "duration": 14,
    "start_time": "2023-06-28T08:18:06.478Z"
   },
   {
    "duration": 64,
    "start_time": "2023-06-28T08:18:06.495Z"
   },
   {
    "duration": 171,
    "start_time": "2023-06-28T08:18:06.562Z"
   },
   {
    "duration": 0,
    "start_time": "2023-06-28T08:18:06.735Z"
   },
   {
    "duration": 0,
    "start_time": "2023-06-28T08:18:06.737Z"
   },
   {
    "duration": 1,
    "start_time": "2023-06-28T08:18:06.738Z"
   },
   {
    "duration": 0,
    "start_time": "2023-06-28T08:18:06.740Z"
   },
   {
    "duration": 15,
    "start_time": "2023-06-28T08:28:39.413Z"
   },
   {
    "duration": 1949,
    "start_time": "2023-06-28T08:29:47.082Z"
   },
   {
    "duration": 2,
    "start_time": "2023-06-28T08:29:54.851Z"
   },
   {
    "duration": 10,
    "start_time": "2023-06-28T08:29:56.851Z"
   },
   {
    "duration": 49,
    "start_time": "2023-06-28T09:42:00.641Z"
   },
   {
    "duration": 1393,
    "start_time": "2023-06-28T09:46:56.174Z"
   },
   {
    "duration": 201,
    "start_time": "2023-06-28T09:46:57.570Z"
   },
   {
    "duration": 23,
    "start_time": "2023-06-28T09:46:57.773Z"
   },
   {
    "duration": 17,
    "start_time": "2023-06-28T09:46:57.798Z"
   },
   {
    "duration": 22,
    "start_time": "2023-06-28T09:46:57.816Z"
   },
   {
    "duration": 8,
    "start_time": "2023-06-28T09:46:57.853Z"
   },
   {
    "duration": 21,
    "start_time": "2023-06-28T09:46:57.863Z"
   },
   {
    "duration": 25,
    "start_time": "2023-06-28T09:46:57.886Z"
   },
   {
    "duration": 12,
    "start_time": "2023-06-28T09:46:57.913Z"
   },
   {
    "duration": 15,
    "start_time": "2023-06-28T09:46:57.927Z"
   },
   {
    "duration": 12,
    "start_time": "2023-06-28T09:46:57.944Z"
   },
   {
    "duration": 46,
    "start_time": "2023-06-28T09:46:57.957Z"
   },
   {
    "duration": 218,
    "start_time": "2023-06-28T09:46:58.005Z"
   },
   {
    "duration": 110,
    "start_time": "2023-06-28T09:46:58.225Z"
   },
   {
    "duration": 188,
    "start_time": "2023-06-28T09:46:58.337Z"
   },
   {
    "duration": 287,
    "start_time": "2023-06-28T09:46:58.526Z"
   },
   {
    "duration": 281,
    "start_time": "2023-06-28T09:46:58.815Z"
   },
   {
    "duration": 31,
    "start_time": "2023-06-28T09:46:59.098Z"
   },
   {
    "duration": 48,
    "start_time": "2023-06-28T09:46:59.131Z"
   },
   {
    "duration": 261,
    "start_time": "2023-06-28T09:46:59.181Z"
   },
   {
    "duration": 350,
    "start_time": "2023-06-28T09:46:59.443Z"
   },
   {
    "duration": 280,
    "start_time": "2023-06-28T09:46:59.795Z"
   },
   {
    "duration": 281,
    "start_time": "2023-06-28T09:47:00.076Z"
   },
   {
    "duration": 50,
    "start_time": "2023-06-28T09:47:00.360Z"
   },
   {
    "duration": 12,
    "start_time": "2023-06-28T09:47:00.412Z"
   },
   {
    "duration": 60,
    "start_time": "2023-06-28T09:47:00.426Z"
   },
   {
    "duration": 49,
    "start_time": "2023-06-28T09:47:00.488Z"
   },
   {
    "duration": 48,
    "start_time": "2023-06-28T09:47:00.540Z"
   },
   {
    "duration": 26,
    "start_time": "2023-06-28T09:47:00.589Z"
   },
   {
    "duration": 1646,
    "start_time": "2023-06-28T09:47:00.616Z"
   },
   {
    "duration": 3,
    "start_time": "2023-06-28T09:47:02.263Z"
   },
   {
    "duration": 34,
    "start_time": "2023-06-28T09:47:02.268Z"
   },
   {
    "duration": 1180,
    "start_time": "2023-06-28T10:18:57.592Z"
   },
   {
    "duration": 306,
    "start_time": "2023-06-28T10:18:58.774Z"
   },
   {
    "duration": 27,
    "start_time": "2023-06-28T10:18:59.082Z"
   },
   {
    "duration": 18,
    "start_time": "2023-06-28T10:18:59.112Z"
   },
   {
    "duration": 21,
    "start_time": "2023-06-28T10:18:59.131Z"
   },
   {
    "duration": 20,
    "start_time": "2023-06-28T10:18:59.154Z"
   },
   {
    "duration": 6,
    "start_time": "2023-06-28T10:18:59.176Z"
   },
   {
    "duration": 17,
    "start_time": "2023-06-28T10:18:59.184Z"
   },
   {
    "duration": 11,
    "start_time": "2023-06-28T10:18:59.202Z"
   },
   {
    "duration": 6,
    "start_time": "2023-06-28T10:18:59.216Z"
   },
   {
    "duration": 7,
    "start_time": "2023-06-28T10:18:59.224Z"
   },
   {
    "duration": 39,
    "start_time": "2023-06-28T10:18:59.233Z"
   },
   {
    "duration": 243,
    "start_time": "2023-06-28T10:18:59.274Z"
   },
   {
    "duration": 120,
    "start_time": "2023-06-28T10:18:59.519Z"
   },
   {
    "duration": 162,
    "start_time": "2023-06-28T10:18:59.641Z"
   },
   {
    "duration": 258,
    "start_time": "2023-06-28T10:18:59.804Z"
   },
   {
    "duration": 245,
    "start_time": "2023-06-28T10:19:00.064Z"
   },
   {
    "duration": 29,
    "start_time": "2023-06-28T10:19:00.311Z"
   },
   {
    "duration": 44,
    "start_time": "2023-06-28T10:19:00.342Z"
   },
   {
    "duration": 325,
    "start_time": "2023-06-28T10:19:00.388Z"
   },
   {
    "duration": 247,
    "start_time": "2023-06-28T10:19:00.714Z"
   },
   {
    "duration": 255,
    "start_time": "2023-06-28T10:19:00.967Z"
   },
   {
    "duration": 254,
    "start_time": "2023-06-28T10:19:01.224Z"
   },
   {
    "duration": 44,
    "start_time": "2023-06-28T10:19:01.481Z"
   },
   {
    "duration": 27,
    "start_time": "2023-06-28T10:19:01.528Z"
   },
   {
    "duration": 26,
    "start_time": "2023-06-28T10:19:01.557Z"
   },
   {
    "duration": 27,
    "start_time": "2023-06-28T10:19:01.586Z"
   },
   {
    "duration": 29,
    "start_time": "2023-06-28T10:19:01.617Z"
   },
   {
    "duration": 14,
    "start_time": "2023-06-28T10:19:01.648Z"
   },
   {
    "duration": 1442,
    "start_time": "2023-06-28T10:19:01.664Z"
   },
   {
    "duration": 2,
    "start_time": "2023-06-28T10:19:03.108Z"
   },
   {
    "duration": 44,
    "start_time": "2023-06-28T10:19:03.112Z"
   }
  ],
  "kernelspec": {
   "display_name": "Python 3 (ipykernel)",
   "language": "python",
   "name": "python3"
  },
  "language_info": {
   "codemirror_mode": {
    "name": "ipython",
    "version": 3
   },
   "file_extension": ".py",
   "mimetype": "text/x-python",
   "name": "python",
   "nbconvert_exporter": "python",
   "pygments_lexer": "ipython3",
   "version": "3.10.9"
  },
  "toc": {
   "base_numbering": 1,
   "nav_menu": {},
   "number_sections": true,
   "sideBar": true,
   "skip_h1_title": true,
   "title_cell": "Table of Contents",
   "title_sidebar": "Contents",
   "toc_cell": false,
   "toc_position": {
    "height": "calc(100% - 180px)",
    "left": "10px",
    "top": "150px",
    "width": "276.45px"
   },
   "toc_section_display": true,
   "toc_window_display": true
  }
 },
 "nbformat": 4,
 "nbformat_minor": 5
}
