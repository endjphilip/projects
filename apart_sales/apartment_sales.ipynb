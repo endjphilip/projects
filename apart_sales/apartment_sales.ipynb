{
 "cells": [
  {
   "cell_type": "markdown",
   "metadata": {},
   "source": [
    "# Исследование объявлений о продаже квартир\n",
    "\n",
    "В вашем распоряжении данные сервиса Яндекс.Недвижимость — архив объявлений о продаже квартир в Санкт-Петербурге и соседних населённых пунктов за несколько лет. Нужно научиться определять рыночную стоимость объектов недвижимости. Ваша задача — установить параметры. Это позволит построить автоматизированную систему: она отследит аномалии и мошенническую деятельность. \n",
    "\n",
    "По каждой квартире на продажу доступны два вида данных. Первые вписаны пользователем, вторые — получены автоматически на основе картографических данных. Например, расстояние до центра, аэропорта, ближайшего парка и водоёма. "
   ]
  },
  {
   "cell_type": "markdown",
   "metadata": {},
   "source": [
    "### Откройте файл с данными и изучите общую информацию. "
   ]
  },
  {
   "cell_type": "code",
   "execution_count": 1,
   "metadata": {},
   "outputs": [],
   "source": [
    "import pandas as pd\n",
    "import matplotlib.pyplot as plt\n",
    "pd.options.mode.chained_assignment = None"
   ]
  },
  {
   "cell_type": "code",
   "execution_count": 2,
   "metadata": {},
   "outputs": [
    {
     "data": {
      "text/html": [
       "<div>\n",
       "<style scoped>\n",
       "    .dataframe tbody tr th:only-of-type {\n",
       "        vertical-align: middle;\n",
       "    }\n",
       "\n",
       "    .dataframe tbody tr th {\n",
       "        vertical-align: top;\n",
       "    }\n",
       "\n",
       "    .dataframe thead th {\n",
       "        text-align: right;\n",
       "    }\n",
       "</style>\n",
       "<table border=\"1\" class=\"dataframe\">\n",
       "  <thead>\n",
       "    <tr style=\"text-align: right;\">\n",
       "      <th></th>\n",
       "      <th>total_images</th>\n",
       "      <th>last_price</th>\n",
       "      <th>total_area</th>\n",
       "      <th>first_day_exposition</th>\n",
       "      <th>rooms</th>\n",
       "      <th>ceiling_height</th>\n",
       "      <th>floors_total</th>\n",
       "      <th>living_area</th>\n",
       "      <th>floor</th>\n",
       "      <th>is_apartment</th>\n",
       "      <th>studio</th>\n",
       "      <th>open_plan</th>\n",
       "      <th>kitchen_area</th>\n",
       "      <th>balcony</th>\n",
       "      <th>locality_name</th>\n",
       "      <th>airports_nearest</th>\n",
       "      <th>cityCenters_nearest</th>\n",
       "      <th>parks_around3000</th>\n",
       "      <th>parks_nearest</th>\n",
       "      <th>ponds_around3000</th>\n",
       "      <th>ponds_nearest</th>\n",
       "      <th>days_exposition</th>\n",
       "    </tr>\n",
       "  </thead>\n",
       "  <tbody>\n",
       "    <tr>\n",
       "      <th>0</th>\n",
       "      <td>20</td>\n",
       "      <td>13000000.0</td>\n",
       "      <td>108.00</td>\n",
       "      <td>2019-03-07T00:00:00</td>\n",
       "      <td>3</td>\n",
       "      <td>2.70</td>\n",
       "      <td>16.0</td>\n",
       "      <td>51.00</td>\n",
       "      <td>8</td>\n",
       "      <td>NaN</td>\n",
       "      <td>False</td>\n",
       "      <td>False</td>\n",
       "      <td>25.00</td>\n",
       "      <td>NaN</td>\n",
       "      <td>Санкт-Петербург</td>\n",
       "      <td>18863.0</td>\n",
       "      <td>16028.0</td>\n",
       "      <td>1.0</td>\n",
       "      <td>482.0</td>\n",
       "      <td>2.0</td>\n",
       "      <td>755.0</td>\n",
       "      <td>NaN</td>\n",
       "    </tr>\n",
       "    <tr>\n",
       "      <th>1</th>\n",
       "      <td>7</td>\n",
       "      <td>3350000.0</td>\n",
       "      <td>40.40</td>\n",
       "      <td>2018-12-04T00:00:00</td>\n",
       "      <td>1</td>\n",
       "      <td>NaN</td>\n",
       "      <td>11.0</td>\n",
       "      <td>18.60</td>\n",
       "      <td>1</td>\n",
       "      <td>NaN</td>\n",
       "      <td>False</td>\n",
       "      <td>False</td>\n",
       "      <td>11.00</td>\n",
       "      <td>2.0</td>\n",
       "      <td>посёлок Шушары</td>\n",
       "      <td>12817.0</td>\n",
       "      <td>18603.0</td>\n",
       "      <td>0.0</td>\n",
       "      <td>NaN</td>\n",
       "      <td>0.0</td>\n",
       "      <td>NaN</td>\n",
       "      <td>81.0</td>\n",
       "    </tr>\n",
       "    <tr>\n",
       "      <th>2</th>\n",
       "      <td>10</td>\n",
       "      <td>5196000.0</td>\n",
       "      <td>56.00</td>\n",
       "      <td>2015-08-20T00:00:00</td>\n",
       "      <td>2</td>\n",
       "      <td>NaN</td>\n",
       "      <td>5.0</td>\n",
       "      <td>34.30</td>\n",
       "      <td>4</td>\n",
       "      <td>NaN</td>\n",
       "      <td>False</td>\n",
       "      <td>False</td>\n",
       "      <td>8.30</td>\n",
       "      <td>0.0</td>\n",
       "      <td>Санкт-Петербург</td>\n",
       "      <td>21741.0</td>\n",
       "      <td>13933.0</td>\n",
       "      <td>1.0</td>\n",
       "      <td>90.0</td>\n",
       "      <td>2.0</td>\n",
       "      <td>574.0</td>\n",
       "      <td>558.0</td>\n",
       "    </tr>\n",
       "    <tr>\n",
       "      <th>3</th>\n",
       "      <td>0</td>\n",
       "      <td>64900000.0</td>\n",
       "      <td>159.00</td>\n",
       "      <td>2015-07-24T00:00:00</td>\n",
       "      <td>3</td>\n",
       "      <td>NaN</td>\n",
       "      <td>14.0</td>\n",
       "      <td>NaN</td>\n",
       "      <td>9</td>\n",
       "      <td>NaN</td>\n",
       "      <td>False</td>\n",
       "      <td>False</td>\n",
       "      <td>NaN</td>\n",
       "      <td>0.0</td>\n",
       "      <td>Санкт-Петербург</td>\n",
       "      <td>28098.0</td>\n",
       "      <td>6800.0</td>\n",
       "      <td>2.0</td>\n",
       "      <td>84.0</td>\n",
       "      <td>3.0</td>\n",
       "      <td>234.0</td>\n",
       "      <td>424.0</td>\n",
       "    </tr>\n",
       "    <tr>\n",
       "      <th>4</th>\n",
       "      <td>2</td>\n",
       "      <td>10000000.0</td>\n",
       "      <td>100.00</td>\n",
       "      <td>2018-06-19T00:00:00</td>\n",
       "      <td>2</td>\n",
       "      <td>3.03</td>\n",
       "      <td>14.0</td>\n",
       "      <td>32.00</td>\n",
       "      <td>13</td>\n",
       "      <td>NaN</td>\n",
       "      <td>False</td>\n",
       "      <td>False</td>\n",
       "      <td>41.00</td>\n",
       "      <td>NaN</td>\n",
       "      <td>Санкт-Петербург</td>\n",
       "      <td>31856.0</td>\n",
       "      <td>8098.0</td>\n",
       "      <td>2.0</td>\n",
       "      <td>112.0</td>\n",
       "      <td>1.0</td>\n",
       "      <td>48.0</td>\n",
       "      <td>121.0</td>\n",
       "    </tr>\n",
       "    <tr>\n",
       "      <th>5</th>\n",
       "      <td>10</td>\n",
       "      <td>2890000.0</td>\n",
       "      <td>30.40</td>\n",
       "      <td>2018-09-10T00:00:00</td>\n",
       "      <td>1</td>\n",
       "      <td>NaN</td>\n",
       "      <td>12.0</td>\n",
       "      <td>14.40</td>\n",
       "      <td>5</td>\n",
       "      <td>NaN</td>\n",
       "      <td>False</td>\n",
       "      <td>False</td>\n",
       "      <td>9.10</td>\n",
       "      <td>NaN</td>\n",
       "      <td>городской посёлок Янино-1</td>\n",
       "      <td>NaN</td>\n",
       "      <td>NaN</td>\n",
       "      <td>NaN</td>\n",
       "      <td>NaN</td>\n",
       "      <td>NaN</td>\n",
       "      <td>NaN</td>\n",
       "      <td>55.0</td>\n",
       "    </tr>\n",
       "    <tr>\n",
       "      <th>6</th>\n",
       "      <td>6</td>\n",
       "      <td>3700000.0</td>\n",
       "      <td>37.30</td>\n",
       "      <td>2017-11-02T00:00:00</td>\n",
       "      <td>1</td>\n",
       "      <td>NaN</td>\n",
       "      <td>26.0</td>\n",
       "      <td>10.60</td>\n",
       "      <td>6</td>\n",
       "      <td>NaN</td>\n",
       "      <td>False</td>\n",
       "      <td>False</td>\n",
       "      <td>14.40</td>\n",
       "      <td>1.0</td>\n",
       "      <td>посёлок Парголово</td>\n",
       "      <td>52996.0</td>\n",
       "      <td>19143.0</td>\n",
       "      <td>0.0</td>\n",
       "      <td>NaN</td>\n",
       "      <td>0.0</td>\n",
       "      <td>NaN</td>\n",
       "      <td>155.0</td>\n",
       "    </tr>\n",
       "    <tr>\n",
       "      <th>7</th>\n",
       "      <td>5</td>\n",
       "      <td>7915000.0</td>\n",
       "      <td>71.60</td>\n",
       "      <td>2019-04-18T00:00:00</td>\n",
       "      <td>2</td>\n",
       "      <td>NaN</td>\n",
       "      <td>24.0</td>\n",
       "      <td>NaN</td>\n",
       "      <td>22</td>\n",
       "      <td>NaN</td>\n",
       "      <td>False</td>\n",
       "      <td>False</td>\n",
       "      <td>18.90</td>\n",
       "      <td>2.0</td>\n",
       "      <td>Санкт-Петербург</td>\n",
       "      <td>23982.0</td>\n",
       "      <td>11634.0</td>\n",
       "      <td>0.0</td>\n",
       "      <td>NaN</td>\n",
       "      <td>0.0</td>\n",
       "      <td>NaN</td>\n",
       "      <td>NaN</td>\n",
       "    </tr>\n",
       "    <tr>\n",
       "      <th>8</th>\n",
       "      <td>20</td>\n",
       "      <td>2900000.0</td>\n",
       "      <td>33.16</td>\n",
       "      <td>2018-05-23T00:00:00</td>\n",
       "      <td>1</td>\n",
       "      <td>NaN</td>\n",
       "      <td>27.0</td>\n",
       "      <td>15.43</td>\n",
       "      <td>26</td>\n",
       "      <td>NaN</td>\n",
       "      <td>False</td>\n",
       "      <td>False</td>\n",
       "      <td>8.81</td>\n",
       "      <td>NaN</td>\n",
       "      <td>посёлок Мурино</td>\n",
       "      <td>NaN</td>\n",
       "      <td>NaN</td>\n",
       "      <td>NaN</td>\n",
       "      <td>NaN</td>\n",
       "      <td>NaN</td>\n",
       "      <td>NaN</td>\n",
       "      <td>189.0</td>\n",
       "    </tr>\n",
       "    <tr>\n",
       "      <th>9</th>\n",
       "      <td>18</td>\n",
       "      <td>5400000.0</td>\n",
       "      <td>61.00</td>\n",
       "      <td>2017-02-26T00:00:00</td>\n",
       "      <td>3</td>\n",
       "      <td>2.50</td>\n",
       "      <td>9.0</td>\n",
       "      <td>43.60</td>\n",
       "      <td>7</td>\n",
       "      <td>NaN</td>\n",
       "      <td>False</td>\n",
       "      <td>False</td>\n",
       "      <td>6.50</td>\n",
       "      <td>2.0</td>\n",
       "      <td>Санкт-Петербург</td>\n",
       "      <td>50898.0</td>\n",
       "      <td>15008.0</td>\n",
       "      <td>0.0</td>\n",
       "      <td>NaN</td>\n",
       "      <td>0.0</td>\n",
       "      <td>NaN</td>\n",
       "      <td>289.0</td>\n",
       "    </tr>\n",
       "    <tr>\n",
       "      <th>10</th>\n",
       "      <td>5</td>\n",
       "      <td>5050000.0</td>\n",
       "      <td>39.60</td>\n",
       "      <td>2017-11-16T00:00:00</td>\n",
       "      <td>1</td>\n",
       "      <td>2.67</td>\n",
       "      <td>12.0</td>\n",
       "      <td>20.30</td>\n",
       "      <td>3</td>\n",
       "      <td>NaN</td>\n",
       "      <td>False</td>\n",
       "      <td>False</td>\n",
       "      <td>8.50</td>\n",
       "      <td>NaN</td>\n",
       "      <td>Санкт-Петербург</td>\n",
       "      <td>38357.0</td>\n",
       "      <td>13878.0</td>\n",
       "      <td>1.0</td>\n",
       "      <td>310.0</td>\n",
       "      <td>2.0</td>\n",
       "      <td>553.0</td>\n",
       "      <td>137.0</td>\n",
       "    </tr>\n",
       "    <tr>\n",
       "      <th>11</th>\n",
       "      <td>9</td>\n",
       "      <td>3300000.0</td>\n",
       "      <td>44.00</td>\n",
       "      <td>2018-08-27T00:00:00</td>\n",
       "      <td>2</td>\n",
       "      <td>NaN</td>\n",
       "      <td>5.0</td>\n",
       "      <td>31.00</td>\n",
       "      <td>4</td>\n",
       "      <td>False</td>\n",
       "      <td>False</td>\n",
       "      <td>False</td>\n",
       "      <td>6.00</td>\n",
       "      <td>1.0</td>\n",
       "      <td>Ломоносов</td>\n",
       "      <td>48252.0</td>\n",
       "      <td>51677.0</td>\n",
       "      <td>0.0</td>\n",
       "      <td>NaN</td>\n",
       "      <td>0.0</td>\n",
       "      <td>NaN</td>\n",
       "      <td>7.0</td>\n",
       "    </tr>\n",
       "    <tr>\n",
       "      <th>12</th>\n",
       "      <td>10</td>\n",
       "      <td>3890000.0</td>\n",
       "      <td>54.00</td>\n",
       "      <td>2016-06-30T00:00:00</td>\n",
       "      <td>2</td>\n",
       "      <td>NaN</td>\n",
       "      <td>5.0</td>\n",
       "      <td>30.00</td>\n",
       "      <td>5</td>\n",
       "      <td>NaN</td>\n",
       "      <td>False</td>\n",
       "      <td>False</td>\n",
       "      <td>9.00</td>\n",
       "      <td>0.0</td>\n",
       "      <td>Сертолово</td>\n",
       "      <td>NaN</td>\n",
       "      <td>NaN</td>\n",
       "      <td>NaN</td>\n",
       "      <td>NaN</td>\n",
       "      <td>NaN</td>\n",
       "      <td>NaN</td>\n",
       "      <td>90.0</td>\n",
       "    </tr>\n",
       "    <tr>\n",
       "      <th>13</th>\n",
       "      <td>20</td>\n",
       "      <td>3550000.0</td>\n",
       "      <td>42.80</td>\n",
       "      <td>2017-07-01T00:00:00</td>\n",
       "      <td>2</td>\n",
       "      <td>2.56</td>\n",
       "      <td>5.0</td>\n",
       "      <td>27.00</td>\n",
       "      <td>5</td>\n",
       "      <td>NaN</td>\n",
       "      <td>False</td>\n",
       "      <td>False</td>\n",
       "      <td>5.20</td>\n",
       "      <td>1.0</td>\n",
       "      <td>Петергоф</td>\n",
       "      <td>37868.0</td>\n",
       "      <td>33058.0</td>\n",
       "      <td>1.0</td>\n",
       "      <td>294.0</td>\n",
       "      <td>3.0</td>\n",
       "      <td>298.0</td>\n",
       "      <td>366.0</td>\n",
       "    </tr>\n",
       "    <tr>\n",
       "      <th>14</th>\n",
       "      <td>1</td>\n",
       "      <td>4400000.0</td>\n",
       "      <td>36.00</td>\n",
       "      <td>2016-06-23T00:00:00</td>\n",
       "      <td>1</td>\n",
       "      <td>NaN</td>\n",
       "      <td>6.0</td>\n",
       "      <td>17.00</td>\n",
       "      <td>1</td>\n",
       "      <td>NaN</td>\n",
       "      <td>False</td>\n",
       "      <td>False</td>\n",
       "      <td>8.00</td>\n",
       "      <td>0.0</td>\n",
       "      <td>Пушкин</td>\n",
       "      <td>20782.0</td>\n",
       "      <td>30759.0</td>\n",
       "      <td>0.0</td>\n",
       "      <td>NaN</td>\n",
       "      <td>1.0</td>\n",
       "      <td>96.0</td>\n",
       "      <td>203.0</td>\n",
       "    </tr>\n",
       "    <tr>\n",
       "      <th>15</th>\n",
       "      <td>16</td>\n",
       "      <td>4650000.0</td>\n",
       "      <td>39.00</td>\n",
       "      <td>2017-11-18T00:00:00</td>\n",
       "      <td>1</td>\n",
       "      <td>NaN</td>\n",
       "      <td>14.0</td>\n",
       "      <td>20.50</td>\n",
       "      <td>5</td>\n",
       "      <td>NaN</td>\n",
       "      <td>False</td>\n",
       "      <td>False</td>\n",
       "      <td>7.60</td>\n",
       "      <td>1.0</td>\n",
       "      <td>Санкт-Петербург</td>\n",
       "      <td>12900.0</td>\n",
       "      <td>14259.0</td>\n",
       "      <td>1.0</td>\n",
       "      <td>590.0</td>\n",
       "      <td>1.0</td>\n",
       "      <td>296.0</td>\n",
       "      <td>19.0</td>\n",
       "    </tr>\n",
       "    <tr>\n",
       "      <th>16</th>\n",
       "      <td>11</td>\n",
       "      <td>6700000.0</td>\n",
       "      <td>82.00</td>\n",
       "      <td>2017-11-23T00:00:00</td>\n",
       "      <td>3</td>\n",
       "      <td>3.05</td>\n",
       "      <td>5.0</td>\n",
       "      <td>55.60</td>\n",
       "      <td>1</td>\n",
       "      <td>NaN</td>\n",
       "      <td>False</td>\n",
       "      <td>False</td>\n",
       "      <td>9.00</td>\n",
       "      <td>NaN</td>\n",
       "      <td>Санкт-Петербург</td>\n",
       "      <td>22108.0</td>\n",
       "      <td>10698.0</td>\n",
       "      <td>3.0</td>\n",
       "      <td>420.0</td>\n",
       "      <td>0.0</td>\n",
       "      <td>NaN</td>\n",
       "      <td>397.0</td>\n",
       "    </tr>\n",
       "    <tr>\n",
       "      <th>17</th>\n",
       "      <td>6</td>\n",
       "      <td>4180000.0</td>\n",
       "      <td>36.00</td>\n",
       "      <td>2016-09-09T00:00:00</td>\n",
       "      <td>1</td>\n",
       "      <td>NaN</td>\n",
       "      <td>17.0</td>\n",
       "      <td>16.50</td>\n",
       "      <td>7</td>\n",
       "      <td>NaN</td>\n",
       "      <td>False</td>\n",
       "      <td>False</td>\n",
       "      <td>11.00</td>\n",
       "      <td>1.0</td>\n",
       "      <td>Санкт-Петербург</td>\n",
       "      <td>33564.0</td>\n",
       "      <td>14616.0</td>\n",
       "      <td>0.0</td>\n",
       "      <td>NaN</td>\n",
       "      <td>1.0</td>\n",
       "      <td>859.0</td>\n",
       "      <td>571.0</td>\n",
       "    </tr>\n",
       "    <tr>\n",
       "      <th>18</th>\n",
       "      <td>8</td>\n",
       "      <td>3250000.0</td>\n",
       "      <td>31.00</td>\n",
       "      <td>2017-01-27T00:00:00</td>\n",
       "      <td>1</td>\n",
       "      <td>2.50</td>\n",
       "      <td>5.0</td>\n",
       "      <td>19.40</td>\n",
       "      <td>2</td>\n",
       "      <td>NaN</td>\n",
       "      <td>False</td>\n",
       "      <td>False</td>\n",
       "      <td>5.60</td>\n",
       "      <td>1.0</td>\n",
       "      <td>Санкт-Петербург</td>\n",
       "      <td>44060.0</td>\n",
       "      <td>10842.0</td>\n",
       "      <td>1.0</td>\n",
       "      <td>759.0</td>\n",
       "      <td>0.0</td>\n",
       "      <td>NaN</td>\n",
       "      <td>168.0</td>\n",
       "    </tr>\n",
       "    <tr>\n",
       "      <th>19</th>\n",
       "      <td>16</td>\n",
       "      <td>14200000.0</td>\n",
       "      <td>121.00</td>\n",
       "      <td>2019-01-09T00:00:00</td>\n",
       "      <td>3</td>\n",
       "      <td>2.75</td>\n",
       "      <td>16.0</td>\n",
       "      <td>76.00</td>\n",
       "      <td>8</td>\n",
       "      <td>NaN</td>\n",
       "      <td>False</td>\n",
       "      <td>False</td>\n",
       "      <td>12.00</td>\n",
       "      <td>NaN</td>\n",
       "      <td>Санкт-Петербург</td>\n",
       "      <td>38900.0</td>\n",
       "      <td>12843.0</td>\n",
       "      <td>0.0</td>\n",
       "      <td>NaN</td>\n",
       "      <td>0.0</td>\n",
       "      <td>NaN</td>\n",
       "      <td>97.0</td>\n",
       "    </tr>\n",
       "  </tbody>\n",
       "</table>\n",
       "</div>"
      ],
      "text/plain": [
       "    total_images  last_price  total_area first_day_exposition  rooms  \\\n",
       "0             20  13000000.0      108.00  2019-03-07T00:00:00      3   \n",
       "1              7   3350000.0       40.40  2018-12-04T00:00:00      1   \n",
       "2             10   5196000.0       56.00  2015-08-20T00:00:00      2   \n",
       "3              0  64900000.0      159.00  2015-07-24T00:00:00      3   \n",
       "4              2  10000000.0      100.00  2018-06-19T00:00:00      2   \n",
       "5             10   2890000.0       30.40  2018-09-10T00:00:00      1   \n",
       "6              6   3700000.0       37.30  2017-11-02T00:00:00      1   \n",
       "7              5   7915000.0       71.60  2019-04-18T00:00:00      2   \n",
       "8             20   2900000.0       33.16  2018-05-23T00:00:00      1   \n",
       "9             18   5400000.0       61.00  2017-02-26T00:00:00      3   \n",
       "10             5   5050000.0       39.60  2017-11-16T00:00:00      1   \n",
       "11             9   3300000.0       44.00  2018-08-27T00:00:00      2   \n",
       "12            10   3890000.0       54.00  2016-06-30T00:00:00      2   \n",
       "13            20   3550000.0       42.80  2017-07-01T00:00:00      2   \n",
       "14             1   4400000.0       36.00  2016-06-23T00:00:00      1   \n",
       "15            16   4650000.0       39.00  2017-11-18T00:00:00      1   \n",
       "16            11   6700000.0       82.00  2017-11-23T00:00:00      3   \n",
       "17             6   4180000.0       36.00  2016-09-09T00:00:00      1   \n",
       "18             8   3250000.0       31.00  2017-01-27T00:00:00      1   \n",
       "19            16  14200000.0      121.00  2019-01-09T00:00:00      3   \n",
       "\n",
       "    ceiling_height  floors_total  living_area  floor is_apartment  studio  \\\n",
       "0             2.70          16.0        51.00      8          NaN   False   \n",
       "1              NaN          11.0        18.60      1          NaN   False   \n",
       "2              NaN           5.0        34.30      4          NaN   False   \n",
       "3              NaN          14.0          NaN      9          NaN   False   \n",
       "4             3.03          14.0        32.00     13          NaN   False   \n",
       "5              NaN          12.0        14.40      5          NaN   False   \n",
       "6              NaN          26.0        10.60      6          NaN   False   \n",
       "7              NaN          24.0          NaN     22          NaN   False   \n",
       "8              NaN          27.0        15.43     26          NaN   False   \n",
       "9             2.50           9.0        43.60      7          NaN   False   \n",
       "10            2.67          12.0        20.30      3          NaN   False   \n",
       "11             NaN           5.0        31.00      4        False   False   \n",
       "12             NaN           5.0        30.00      5          NaN   False   \n",
       "13            2.56           5.0        27.00      5          NaN   False   \n",
       "14             NaN           6.0        17.00      1          NaN   False   \n",
       "15             NaN          14.0        20.50      5          NaN   False   \n",
       "16            3.05           5.0        55.60      1          NaN   False   \n",
       "17             NaN          17.0        16.50      7          NaN   False   \n",
       "18            2.50           5.0        19.40      2          NaN   False   \n",
       "19            2.75          16.0        76.00      8          NaN   False   \n",
       "\n",
       "    open_plan  kitchen_area  balcony              locality_name  \\\n",
       "0       False         25.00      NaN            Санкт-Петербург   \n",
       "1       False         11.00      2.0             посёлок Шушары   \n",
       "2       False          8.30      0.0            Санкт-Петербург   \n",
       "3       False           NaN      0.0            Санкт-Петербург   \n",
       "4       False         41.00      NaN            Санкт-Петербург   \n",
       "5       False          9.10      NaN  городской посёлок Янино-1   \n",
       "6       False         14.40      1.0          посёлок Парголово   \n",
       "7       False         18.90      2.0            Санкт-Петербург   \n",
       "8       False          8.81      NaN             посёлок Мурино   \n",
       "9       False          6.50      2.0            Санкт-Петербург   \n",
       "10      False          8.50      NaN            Санкт-Петербург   \n",
       "11      False          6.00      1.0                  Ломоносов   \n",
       "12      False          9.00      0.0                  Сертолово   \n",
       "13      False          5.20      1.0                   Петергоф   \n",
       "14      False          8.00      0.0                     Пушкин   \n",
       "15      False          7.60      1.0            Санкт-Петербург   \n",
       "16      False          9.00      NaN            Санкт-Петербург   \n",
       "17      False         11.00      1.0            Санкт-Петербург   \n",
       "18      False          5.60      1.0            Санкт-Петербург   \n",
       "19      False         12.00      NaN            Санкт-Петербург   \n",
       "\n",
       "    airports_nearest  cityCenters_nearest  parks_around3000  parks_nearest  \\\n",
       "0            18863.0              16028.0               1.0          482.0   \n",
       "1            12817.0              18603.0               0.0            NaN   \n",
       "2            21741.0              13933.0               1.0           90.0   \n",
       "3            28098.0               6800.0               2.0           84.0   \n",
       "4            31856.0               8098.0               2.0          112.0   \n",
       "5                NaN                  NaN               NaN            NaN   \n",
       "6            52996.0              19143.0               0.0            NaN   \n",
       "7            23982.0              11634.0               0.0            NaN   \n",
       "8                NaN                  NaN               NaN            NaN   \n",
       "9            50898.0              15008.0               0.0            NaN   \n",
       "10           38357.0              13878.0               1.0          310.0   \n",
       "11           48252.0              51677.0               0.0            NaN   \n",
       "12               NaN                  NaN               NaN            NaN   \n",
       "13           37868.0              33058.0               1.0          294.0   \n",
       "14           20782.0              30759.0               0.0            NaN   \n",
       "15           12900.0              14259.0               1.0          590.0   \n",
       "16           22108.0              10698.0               3.0          420.0   \n",
       "17           33564.0              14616.0               0.0            NaN   \n",
       "18           44060.0              10842.0               1.0          759.0   \n",
       "19           38900.0              12843.0               0.0            NaN   \n",
       "\n",
       "    ponds_around3000  ponds_nearest  days_exposition  \n",
       "0                2.0          755.0              NaN  \n",
       "1                0.0            NaN             81.0  \n",
       "2                2.0          574.0            558.0  \n",
       "3                3.0          234.0            424.0  \n",
       "4                1.0           48.0            121.0  \n",
       "5                NaN            NaN             55.0  \n",
       "6                0.0            NaN            155.0  \n",
       "7                0.0            NaN              NaN  \n",
       "8                NaN            NaN            189.0  \n",
       "9                0.0            NaN            289.0  \n",
       "10               2.0          553.0            137.0  \n",
       "11               0.0            NaN              7.0  \n",
       "12               NaN            NaN             90.0  \n",
       "13               3.0          298.0            366.0  \n",
       "14               1.0           96.0            203.0  \n",
       "15               1.0          296.0             19.0  \n",
       "16               0.0            NaN            397.0  \n",
       "17               1.0          859.0            571.0  \n",
       "18               0.0            NaN            168.0  \n",
       "19               0.0            NaN             97.0  "
      ]
     },
     "execution_count": 2,
     "metadata": {},
     "output_type": "execute_result"
    }
   ],
   "source": [
    "pd.set_option('display.max_columns', None)\n",
    "data = pd.read_csv('/datasets/real_estate_data.csv', sep='\\t')\n",
    "data.head(20)"
   ]
  },
  {
   "cell_type": "code",
   "execution_count": 3,
   "metadata": {},
   "outputs": [
    {
     "name": "stdout",
     "output_type": "stream",
     "text": [
      "<class 'pandas.core.frame.DataFrame'>\n",
      "RangeIndex: 23699 entries, 0 to 23698\n",
      "Data columns (total 22 columns):\n",
      " #   Column                Non-Null Count  Dtype  \n",
      "---  ------                --------------  -----  \n",
      " 0   total_images          23699 non-null  int64  \n",
      " 1   last_price            23699 non-null  float64\n",
      " 2   total_area            23699 non-null  float64\n",
      " 3   first_day_exposition  23699 non-null  object \n",
      " 4   rooms                 23699 non-null  int64  \n",
      " 5   ceiling_height        14504 non-null  float64\n",
      " 6   floors_total          23613 non-null  float64\n",
      " 7   living_area           21796 non-null  float64\n",
      " 8   floor                 23699 non-null  int64  \n",
      " 9   is_apartment          2775 non-null   object \n",
      " 10  studio                23699 non-null  bool   \n",
      " 11  open_plan             23699 non-null  bool   \n",
      " 12  kitchen_area          21421 non-null  float64\n",
      " 13  balcony               12180 non-null  float64\n",
      " 14  locality_name         23650 non-null  object \n",
      " 15  airports_nearest      18157 non-null  float64\n",
      " 16  cityCenters_nearest   18180 non-null  float64\n",
      " 17  parks_around3000      18181 non-null  float64\n",
      " 18  parks_nearest         8079 non-null   float64\n",
      " 19  ponds_around3000      18181 non-null  float64\n",
      " 20  ponds_nearest         9110 non-null   float64\n",
      " 21  days_exposition       20518 non-null  float64\n",
      "dtypes: bool(2), float64(14), int64(3), object(3)\n",
      "memory usage: 3.7+ MB\n"
     ]
    }
   ],
   "source": [
    "data.info()"
   ]
  },
  {
   "cell_type": "code",
   "execution_count": 4,
   "metadata": {},
   "outputs": [
    {
     "data": {
      "image/png": "[encoded data removed]",
      "text/plain": [
       "<Figure size 1080x1440 with 20 Axes>"
      ]
     },
     "metadata": {
      "needs_background": "light"
     },
     "output_type": "display_data"
    }
   ],
   "source": [
    "data.hist(figsize=(15, 20));"
   ]
  },
  {
   "cell_type": "code",
   "execution_count": 5,
   "metadata": {},
   "outputs": [
    {
     "data": {
      "text/html": [
       "<div>\n",
       "<style scoped>\n",
       "    .dataframe tbody tr th:only-of-type {\n",
       "        vertical-align: middle;\n",
       "    }\n",
       "\n",
       "    .dataframe tbody tr th {\n",
       "        vertical-align: top;\n",
       "    }\n",
       "\n",
       "    .dataframe thead th {\n",
       "        text-align: right;\n",
       "    }\n",
       "</style>\n",
       "<table border=\"1\" class=\"dataframe\">\n",
       "  <thead>\n",
       "    <tr style=\"text-align: right;\">\n",
       "      <th></th>\n",
       "      <th>total_images</th>\n",
       "      <th>last_price</th>\n",
       "      <th>total_area</th>\n",
       "      <th>rooms</th>\n",
       "      <th>ceiling_height</th>\n",
       "      <th>floors_total</th>\n",
       "      <th>living_area</th>\n",
       "      <th>floor</th>\n",
       "      <th>kitchen_area</th>\n",
       "      <th>balcony</th>\n",
       "      <th>airports_nearest</th>\n",
       "      <th>cityCenters_nearest</th>\n",
       "      <th>parks_around3000</th>\n",
       "      <th>parks_nearest</th>\n",
       "      <th>ponds_around3000</th>\n",
       "      <th>ponds_nearest</th>\n",
       "      <th>days_exposition</th>\n",
       "    </tr>\n",
       "  </thead>\n",
       "  <tbody>\n",
       "    <tr>\n",
       "      <th>count</th>\n",
       "      <td>23699.000000</td>\n",
       "      <td>2.369900e+04</td>\n",
       "      <td>23699.000000</td>\n",
       "      <td>23699.000000</td>\n",
       "      <td>14504.000000</td>\n",
       "      <td>23613.000000</td>\n",
       "      <td>21796.000000</td>\n",
       "      <td>23699.000000</td>\n",
       "      <td>21421.000000</td>\n",
       "      <td>12180.000000</td>\n",
       "      <td>18157.000000</td>\n",
       "      <td>18180.000000</td>\n",
       "      <td>18181.000000</td>\n",
       "      <td>8079.000000</td>\n",
       "      <td>18181.000000</td>\n",
       "      <td>9110.000000</td>\n",
       "      <td>20518.000000</td>\n",
       "    </tr>\n",
       "    <tr>\n",
       "      <th>mean</th>\n",
       "      <td>9.858475</td>\n",
       "      <td>6.541549e+06</td>\n",
       "      <td>60.348651</td>\n",
       "      <td>2.070636</td>\n",
       "      <td>2.771499</td>\n",
       "      <td>10.673824</td>\n",
       "      <td>34.457852</td>\n",
       "      <td>5.892358</td>\n",
       "      <td>10.569807</td>\n",
       "      <td>1.150082</td>\n",
       "      <td>28793.672193</td>\n",
       "      <td>14191.277833</td>\n",
       "      <td>0.611408</td>\n",
       "      <td>490.804555</td>\n",
       "      <td>0.770255</td>\n",
       "      <td>517.980900</td>\n",
       "      <td>180.888634</td>\n",
       "    </tr>\n",
       "    <tr>\n",
       "      <th>std</th>\n",
       "      <td>5.682529</td>\n",
       "      <td>1.088701e+07</td>\n",
       "      <td>35.654083</td>\n",
       "      <td>1.078405</td>\n",
       "      <td>1.261056</td>\n",
       "      <td>6.597173</td>\n",
       "      <td>22.030445</td>\n",
       "      <td>4.885249</td>\n",
       "      <td>5.905438</td>\n",
       "      <td>1.071300</td>\n",
       "      <td>12630.880622</td>\n",
       "      <td>8608.386210</td>\n",
       "      <td>0.802074</td>\n",
       "      <td>342.317995</td>\n",
       "      <td>0.938346</td>\n",
       "      <td>277.720643</td>\n",
       "      <td>219.727988</td>\n",
       "    </tr>\n",
       "    <tr>\n",
       "      <th>min</th>\n",
       "      <td>0.000000</td>\n",
       "      <td>1.219000e+04</td>\n",
       "      <td>12.000000</td>\n",
       "      <td>0.000000</td>\n",
       "      <td>1.000000</td>\n",
       "      <td>1.000000</td>\n",
       "      <td>2.000000</td>\n",
       "      <td>1.000000</td>\n",
       "      <td>1.300000</td>\n",
       "      <td>0.000000</td>\n",
       "      <td>0.000000</td>\n",
       "      <td>181.000000</td>\n",
       "      <td>0.000000</td>\n",
       "      <td>1.000000</td>\n",
       "      <td>0.000000</td>\n",
       "      <td>13.000000</td>\n",
       "      <td>1.000000</td>\n",
       "    </tr>\n",
       "    <tr>\n",
       "      <th>25%</th>\n",
       "      <td>6.000000</td>\n",
       "      <td>3.400000e+06</td>\n",
       "      <td>40.000000</td>\n",
       "      <td>1.000000</td>\n",
       "      <td>2.520000</td>\n",
       "      <td>5.000000</td>\n",
       "      <td>18.600000</td>\n",
       "      <td>2.000000</td>\n",
       "      <td>7.000000</td>\n",
       "      <td>0.000000</td>\n",
       "      <td>18585.000000</td>\n",
       "      <td>9238.000000</td>\n",
       "      <td>0.000000</td>\n",
       "      <td>288.000000</td>\n",
       "      <td>0.000000</td>\n",
       "      <td>294.000000</td>\n",
       "      <td>45.000000</td>\n",
       "    </tr>\n",
       "    <tr>\n",
       "      <th>50%</th>\n",
       "      <td>9.000000</td>\n",
       "      <td>4.650000e+06</td>\n",
       "      <td>52.000000</td>\n",
       "      <td>2.000000</td>\n",
       "      <td>2.650000</td>\n",
       "      <td>9.000000</td>\n",
       "      <td>30.000000</td>\n",
       "      <td>4.000000</td>\n",
       "      <td>9.100000</td>\n",
       "      <td>1.000000</td>\n",
       "      <td>26726.000000</td>\n",
       "      <td>13098.500000</td>\n",
       "      <td>0.000000</td>\n",
       "      <td>455.000000</td>\n",
       "      <td>1.000000</td>\n",
       "      <td>502.000000</td>\n",
       "      <td>95.000000</td>\n",
       "    </tr>\n",
       "    <tr>\n",
       "      <th>75%</th>\n",
       "      <td>14.000000</td>\n",
       "      <td>6.800000e+06</td>\n",
       "      <td>69.900000</td>\n",
       "      <td>3.000000</td>\n",
       "      <td>2.800000</td>\n",
       "      <td>16.000000</td>\n",
       "      <td>42.300000</td>\n",
       "      <td>8.000000</td>\n",
       "      <td>12.000000</td>\n",
       "      <td>2.000000</td>\n",
       "      <td>37273.000000</td>\n",
       "      <td>16293.000000</td>\n",
       "      <td>1.000000</td>\n",
       "      <td>612.000000</td>\n",
       "      <td>1.000000</td>\n",
       "      <td>729.000000</td>\n",
       "      <td>232.000000</td>\n",
       "    </tr>\n",
       "    <tr>\n",
       "      <th>max</th>\n",
       "      <td>50.000000</td>\n",
       "      <td>7.630000e+08</td>\n",
       "      <td>900.000000</td>\n",
       "      <td>19.000000</td>\n",
       "      <td>100.000000</td>\n",
       "      <td>60.000000</td>\n",
       "      <td>409.700000</td>\n",
       "      <td>33.000000</td>\n",
       "      <td>112.000000</td>\n",
       "      <td>5.000000</td>\n",
       "      <td>84869.000000</td>\n",
       "      <td>65968.000000</td>\n",
       "      <td>3.000000</td>\n",
       "      <td>3190.000000</td>\n",
       "      <td>3.000000</td>\n",
       "      <td>1344.000000</td>\n",
       "      <td>1580.000000</td>\n",
       "    </tr>\n",
       "  </tbody>\n",
       "</table>\n",
       "</div>"
      ],
      "text/plain": [
       "       total_images    last_price    total_area         rooms  ceiling_height  \\\n",
       "count  23699.000000  2.369900e+04  23699.000000  23699.000000    14504.000000   \n",
       "mean       9.858475  6.541549e+06     60.348651      2.070636        2.771499   \n",
       "std        5.682529  1.088701e+07     35.654083      1.078405        1.261056   \n",
       "min        0.000000  1.219000e+04     12.000000      0.000000        1.000000   \n",
       "25%        6.000000  3.400000e+06     40.000000      1.000000        2.520000   \n",
       "50%        9.000000  4.650000e+06     52.000000      2.000000        2.650000   \n",
       "75%       14.000000  6.800000e+06     69.900000      3.000000        2.800000   \n",
       "max       50.000000  7.630000e+08    900.000000     19.000000      100.000000   \n",
       "\n",
       "       floors_total   living_area         floor  kitchen_area       balcony  \\\n",
       "count  23613.000000  21796.000000  23699.000000  21421.000000  12180.000000   \n",
       "mean      10.673824     34.457852      5.892358     10.569807      1.150082   \n",
       "std        6.597173     22.030445      4.885249      5.905438      1.071300   \n",
       "min        1.000000      2.000000      1.000000      1.300000      0.000000   \n",
       "25%        5.000000     18.600000      2.000000      7.000000      0.000000   \n",
       "50%        9.000000     30.000000      4.000000      9.100000      1.000000   \n",
       "75%       16.000000     42.300000      8.000000     12.000000      2.000000   \n",
       "max       60.000000    409.700000     33.000000    112.000000      5.000000   \n",
       "\n",
       "       airports_nearest  cityCenters_nearest  parks_around3000  parks_nearest  \\\n",
       "count      18157.000000         18180.000000      18181.000000    8079.000000   \n",
       "mean       28793.672193         14191.277833          0.611408     490.804555   \n",
       "std        12630.880622          8608.386210          0.802074     342.317995   \n",
       "min            0.000000           181.000000          0.000000       1.000000   \n",
       "25%        18585.000000          9238.000000          0.000000     288.000000   \n",
       "50%        26726.000000         13098.500000          0.000000     455.000000   \n",
       "75%        37273.000000         16293.000000          1.000000     612.000000   \n",
       "max        84869.000000         65968.000000          3.000000    3190.000000   \n",
       "\n",
       "       ponds_around3000  ponds_nearest  days_exposition  \n",
       "count      18181.000000    9110.000000     20518.000000  \n",
       "mean           0.770255     517.980900       180.888634  \n",
       "std            0.938346     277.720643       219.727988  \n",
       "min            0.000000      13.000000         1.000000  \n",
       "25%            0.000000     294.000000        45.000000  \n",
       "50%            1.000000     502.000000        95.000000  \n",
       "75%            1.000000     729.000000       232.000000  \n",
       "max            3.000000    1344.000000      1580.000000  "
      ]
     },
     "execution_count": 5,
     "metadata": {},
     "output_type": "execute_result"
    }
   ],
   "source": [
    "data.describe()"
   ]
  },
  {
   "cell_type": "markdown",
   "metadata": {},
   "source": [
    "### Предобработка данных"
   ]
  },
  {
   "cell_type": "markdown",
   "metadata": {},
   "source": [
    "При изучении информации из выгрузки можно заметить, что во многих столбцах по той или иной причине присутствуют пропуски. Начнем по порядку с ними знакомиться и исправлять."
   ]
  },
  {
   "cell_type": "code",
   "execution_count": 6,
   "metadata": {},
   "outputs": [
    {
     "data": {
      "text/plain": [
       "total_images                0\n",
       "last_price                  0\n",
       "total_area                  0\n",
       "first_day_exposition        0\n",
       "rooms                       0\n",
       "ceiling_height           9195\n",
       "floors_total               86\n",
       "living_area              1903\n",
       "floor                       0\n",
       "is_apartment            20924\n",
       "studio                      0\n",
       "open_plan                   0\n",
       "kitchen_area             2278\n",
       "balcony                 11519\n",
       "locality_name              49\n",
       "airports_nearest         5542\n",
       "cityCenters_nearest      5519\n",
       "parks_around3000         5518\n",
       "parks_nearest           15620\n",
       "ponds_around3000         5518\n",
       "ponds_nearest           14589\n",
       "days_exposition          3181\n",
       "dtype: int64"
      ]
     },
     "execution_count": 6,
     "metadata": {},
     "output_type": "execute_result"
    }
   ],
   "source": [
    "data.isna().sum()"
   ]
  },
  {
   "cell_type": "markdown",
   "metadata": {},
   "source": [
    "    Мы видим пропуски в стобцах:\n",
    "- высота потолков\n",
    "- всего этажей в доме\n",
    "- жилая площадь в квадратных метрах\n",
    "- апартаменты\n",
    "- площадь кухни в квадратных метрах\n",
    "- число балконов\n",
    "- название населённого пункта\n",
    "- расстояние до ближайшего аэропорта в метрах\n",
    "- расстояние до центра города\n",
    "- число парков в радиусе 3 км\n",
    "- расстояние до ближайшего парка\n",
    "- число водоёмов в радиусе 3 км\n",
    "- расстояние до ближайшего водоёма\n",
    "- сколько дней было размещено объявление (от публикации до снятия)     "
   ]
  },
  {
   "cell_type": "markdown",
   "metadata": {},
   "source": [
    "    Больше всего пропусков в информации об апартаментах, наличии балконов, ближайших парков и водоемов.      \n",
    "Можно предположить, что пропуски в столбцах о балконах и аппартаментах означают отсутствие балконов и то, что квартира не является апартаментами. Правильнее будет эти пропуски заменить на значение 0. \n",
    "Проверим верна ли наша догадка."
   ]
  },
  {
   "cell_type": "markdown",
   "metadata": {},
   "source": [
    "В столбце с информацией об аппартаментах присутствуют значения и False, и True. То есть это булев тип, но почему-то тип данного столбца `Object`. Исправим это, а заодно избавимся от пропущенных значений, которые превратятся в False."
   ]
  },
  {
   "cell_type": "code",
   "execution_count": 7,
   "metadata": {},
   "outputs": [],
   "source": [
    "data['is_apartment'] = data['is_apartment'].astype('bool')"
   ]
  },
  {
   "cell_type": "markdown",
   "metadata": {},
   "source": [
    "В столбце с информацией о количестве балконов пропущенные значения, вероятнее всего, означают отсутствие балкона в квартире. Заменим пропуски на `0`."
   ]
  },
  {
   "cell_type": "code",
   "execution_count": 8,
   "metadata": {},
   "outputs": [],
   "source": [
    "data['balcony'] = data['balcony'].fillna(value = 0)"
   ]
  },
  {
   "cell_type": "markdown",
   "metadata": {},
   "source": [
    "Теперь о столбцах про расстояние до ближайшего парка или водоёма.\n",
    "Скорее всего пропуски означают не отсутствие объектов возле квартир, а отстутвие информации об этом.\n",
    "Чтобы убедиться в этой догадке, сравним столбцы о наличии парков и водоёмов в радиусе 3.000м с расстоянием до ближайшего парка/водоёма.\n"
   ]
  },
  {
   "cell_type": "code",
   "execution_count": 9,
   "metadata": {},
   "outputs": [
    {
     "data": {
      "text/plain": [
       "0.0    10106\n",
       "1.0     5681\n",
       "2.0     1747\n",
       "3.0      647\n",
       "Name: parks_around3000, dtype: int64"
      ]
     },
     "execution_count": 9,
     "metadata": {},
     "output_type": "execute_result"
    }
   ],
   "source": [
    "data['parks_around3000'].value_counts()"
   ]
  },
  {
   "cell_type": "code",
   "execution_count": 10,
   "metadata": {},
   "outputs": [
    {
     "data": {
      "text/plain": [
       "0.0    9071\n",
       "1.0    5717\n",
       "2.0    1892\n",
       "3.0    1501\n",
       "Name: ponds_around3000, dtype: int64"
      ]
     },
     "execution_count": 10,
     "metadata": {},
     "output_type": "execute_result"
    }
   ],
   "source": [
    "data['ponds_around3000'].value_counts()"
   ]
  },
  {
   "cell_type": "markdown",
   "metadata": {},
   "source": [
    "Для удобства заменим пропуски в столбцах с информацией о парках/водоёмах в радиусе 3.000м значениями 0 по той же логике, по какой избавлялись от пропусков в столбцах о балконах и аппартаментах. Пропусков в данных значениях немного, а основную массу значений составляют нули."
   ]
  },
  {
   "cell_type": "code",
   "execution_count": 11,
   "metadata": {},
   "outputs": [],
   "source": [
    "data['parks_around3000'] = data['parks_around3000'].fillna(value=0)"
   ]
  },
  {
   "cell_type": "code",
   "execution_count": 12,
   "metadata": {},
   "outputs": [],
   "source": [
    "data['ponds_around3000'] = data['ponds_around3000'].fillna(value=0)"
   ]
  },
  {
   "cell_type": "markdown",
   "metadata": {},
   "source": [
    "Теперь, когда у нас нет пропусков в информации о водоёмах и парках в радиусе 3.000м мы можем проверить гипотезу о том, что причина пропусков в колонках **parks_nearest** и **ponds_nearest** именно в отсутствии ближайших водоёмов или парков."
   ]
  },
  {
   "cell_type": "code",
   "execution_count": 13,
   "metadata": {},
   "outputs": [
    {
     "name": "stdout",
     "output_type": "stream",
     "text": [
      "    parks_around3000  parks_nearest\n",
      "0                1.0          482.0\n",
      "1                0.0            NaN\n",
      "2                1.0           90.0\n",
      "3                2.0           84.0\n",
      "4                2.0          112.0\n",
      "5                0.0            NaN\n",
      "6                0.0            NaN\n",
      "7                0.0            NaN\n",
      "8                0.0            NaN\n",
      "9                0.0            NaN\n",
      "10               1.0          310.0\n",
      "11               0.0            NaN\n",
      "12               0.0            NaN\n",
      "13               1.0          294.0\n",
      "14               0.0            NaN\n",
      "15               1.0          590.0\n",
      "16               3.0          420.0\n",
      "17               0.0            NaN\n",
      "18               1.0          759.0\n",
      "19               0.0            NaN\n",
      "\n",
      "    ponds_around3000  ponds_nearest\n",
      "0                2.0          755.0\n",
      "1                0.0            NaN\n",
      "2                2.0          574.0\n",
      "3                3.0          234.0\n",
      "4                1.0           48.0\n",
      "5                0.0            NaN\n",
      "6                0.0            NaN\n",
      "7                0.0            NaN\n",
      "8                0.0            NaN\n",
      "9                0.0            NaN\n",
      "10               2.0          553.0\n",
      "11               0.0            NaN\n",
      "12               0.0            NaN\n",
      "13               3.0          298.0\n",
      "14               1.0           96.0\n",
      "15               1.0          296.0\n",
      "16               0.0            NaN\n",
      "17               1.0          859.0\n",
      "18               0.0            NaN\n",
      "19               0.0            NaN\n"
     ]
    }
   ],
   "source": [
    "parks = data[['parks_around3000', 'parks_nearest']]\n",
    "ponds = data[['ponds_around3000', 'ponds_nearest']]\n",
    "print(parks.head(20))\n",
    "print()\n",
    "print(ponds.head(20))\n"
   ]
  },
  {
   "cell_type": "markdown",
   "metadata": {},
   "source": [
    "Наши предположения подтвердились, можно заметить, что на каждое значение 0.0 в столбце **..._around3000** приходится значение NaN в столбце **..._nearest**\n",
    "\n",
    "Для удобства заменим NaN на 0, который будет означать отсутствие ближайших парков парков/водоемов.  "
   ]
  },
  {
   "cell_type": "code",
   "execution_count": 14,
   "metadata": {},
   "outputs": [],
   "source": [
    "data['parks_nearest'] = data['parks_nearest'].fillna(value=-1)\n",
    "data['ponds_nearest'] = data['ponds_nearest'].fillna(value=-1)"
   ]
  },
  {
   "cell_type": "code",
   "execution_count": 15,
   "metadata": {},
   "outputs": [
    {
     "data": {
      "text/plain": [
       "total_images               0\n",
       "last_price                 0\n",
       "total_area                 0\n",
       "first_day_exposition       0\n",
       "rooms                      0\n",
       "ceiling_height          9195\n",
       "floors_total              86\n",
       "living_area             1903\n",
       "floor                      0\n",
       "is_apartment               0\n",
       "studio                     0\n",
       "open_plan                  0\n",
       "kitchen_area            2278\n",
       "balcony                    0\n",
       "locality_name             49\n",
       "airports_nearest        5542\n",
       "cityCenters_nearest     5519\n",
       "parks_around3000           0\n",
       "parks_nearest              0\n",
       "ponds_around3000           0\n",
       "ponds_nearest              0\n",
       "days_exposition         3181\n",
       "dtype: int64"
      ]
     },
     "execution_count": 15,
     "metadata": {},
     "output_type": "execute_result"
    }
   ],
   "source": [
    "data.isna().sum()"
   ]
  },
  {
   "cell_type": "markdown",
   "metadata": {},
   "source": [
    "Проведем предобработку по столбцам, в которых она возможна. Картографические данные затрагивать не будем, так как это может негативно повлиять на дальнейшие рассчеты. "
   ]
  },
  {
   "cell_type": "markdown",
   "metadata": {},
   "source": [
    "Нужно разобраться с пропусками в столбцах с информацией о:\n",
    "- высоте потолков в квартире \n",
    "- этажей в доме \n",
    "- жилой площади квартиры \n",
    "- площади кухни \n",
    "- названия населенного пункта "
   ]
  },
  {
   "cell_type": "markdown",
   "metadata": {},
   "source": [
    "Высота потолков, как мы знаем из жизненного опыта, обычно разнится в пределах 2.5-3.5м. Медианное значение по высоте потолков всех квартир в выборке отлично подойдет для заполнения пропусков данных в этом столбце. "
   ]
  },
  {
   "cell_type": "code",
   "execution_count": 16,
   "metadata": {},
   "outputs": [],
   "source": [
    "data['ceiling_height']=data['ceiling_height'].fillna(value=data['ceiling_height'].median())"
   ]
  },
  {
   "cell_type": "markdown",
   "metadata": {},
   "source": [
    "С пропусками в столбце с информацией о количестве этажей в доме можно поступить точно так же. Тем более, что их совсем немного."
   ]
  },
  {
   "cell_type": "code",
   "execution_count": 17,
   "metadata": {},
   "outputs": [],
   "source": [
    "data['floors_total']=data['floors_total'].fillna(value=data['floors_total'].median())"
   ]
  },
  {
   "cell_type": "markdown",
   "metadata": {},
   "source": [
    "Далее разберемся с пропусками в столбцах с информацией о жилой и кухонной площадях квартир."
   ]
  },
  {
   "cell_type": "code",
   "execution_count": 18,
   "metadata": {},
   "outputs": [
    {
     "data": {
      "text/plain": [
       "<AxesSubplot:>"
      ]
     },
     "execution_count": 18,
     "metadata": {},
     "output_type": "execute_result"
    },
    {
     "data": {
      "image/png": "[encoded data removed]",
      "text/plain": [
       "<Figure size 432x288 with 1 Axes>"
      ]
     },
     "metadata": {
      "needs_background": "light"
     },
     "output_type": "display_data"
    }
   ],
   "source": [
    "data['living_area'].sort_values(ascending=False).hist(bins=50)\n",
    "\n",
    "data['kitchen_area'].sort_values(ascending=False).hist(bins=50)"
   ]
  },
  {
   "cell_type": "markdown",
   "metadata": {},
   "source": [
    "Видим, что оба типа площади ведут себя примерно одинаково, а кухонная зона, как и положено, по площади гораздо меньше жилой зоны. Заменим пропуски в данных медианными значениями по столбцам. "
   ]
  },
  {
   "cell_type": "code",
   "execution_count": 19,
   "metadata": {},
   "outputs": [
    {
     "data": {
      "text/html": [
       "<div>\n",
       "<style scoped>\n",
       "    .dataframe tbody tr th:only-of-type {\n",
       "        vertical-align: middle;\n",
       "    }\n",
       "\n",
       "    .dataframe tbody tr th {\n",
       "        vertical-align: top;\n",
       "    }\n",
       "\n",
       "    .dataframe thead th {\n",
       "        text-align: right;\n",
       "    }\n",
       "</style>\n",
       "<table border=\"1\" class=\"dataframe\">\n",
       "  <thead>\n",
       "    <tr style=\"text-align: right;\">\n",
       "      <th></th>\n",
       "      <th>total_images</th>\n",
       "      <th>last_price</th>\n",
       "      <th>total_area</th>\n",
       "      <th>first_day_exposition</th>\n",
       "      <th>rooms</th>\n",
       "      <th>ceiling_height</th>\n",
       "      <th>floors_total</th>\n",
       "      <th>living_area</th>\n",
       "      <th>floor</th>\n",
       "      <th>is_apartment</th>\n",
       "      <th>studio</th>\n",
       "      <th>open_plan</th>\n",
       "      <th>kitchen_area</th>\n",
       "      <th>balcony</th>\n",
       "      <th>locality_name</th>\n",
       "      <th>airports_nearest</th>\n",
       "      <th>cityCenters_nearest</th>\n",
       "      <th>parks_around3000</th>\n",
       "      <th>parks_nearest</th>\n",
       "      <th>ponds_around3000</th>\n",
       "      <th>ponds_nearest</th>\n",
       "      <th>days_exposition</th>\n",
       "    </tr>\n",
       "  </thead>\n",
       "  <tbody>\n",
       "    <tr>\n",
       "      <th>0</th>\n",
       "      <td>20</td>\n",
       "      <td>13000000.0</td>\n",
       "      <td>108.00</td>\n",
       "      <td>2019-03-07T00:00:00</td>\n",
       "      <td>3</td>\n",
       "      <td>2.70</td>\n",
       "      <td>16.0</td>\n",
       "      <td>51.0</td>\n",
       "      <td>8</td>\n",
       "      <td>True</td>\n",
       "      <td>False</td>\n",
       "      <td>False</td>\n",
       "      <td>25.00</td>\n",
       "      <td>0.0</td>\n",
       "      <td>Санкт-Петербург</td>\n",
       "      <td>18863.0</td>\n",
       "      <td>16028.0</td>\n",
       "      <td>1.0</td>\n",
       "      <td>482.0</td>\n",
       "      <td>2.0</td>\n",
       "      <td>755.0</td>\n",
       "      <td>NaN</td>\n",
       "    </tr>\n",
       "    <tr>\n",
       "      <th>1</th>\n",
       "      <td>7</td>\n",
       "      <td>3350000.0</td>\n",
       "      <td>40.40</td>\n",
       "      <td>2018-12-04T00:00:00</td>\n",
       "      <td>1</td>\n",
       "      <td>2.65</td>\n",
       "      <td>11.0</td>\n",
       "      <td>18.6</td>\n",
       "      <td>1</td>\n",
       "      <td>True</td>\n",
       "      <td>False</td>\n",
       "      <td>False</td>\n",
       "      <td>11.00</td>\n",
       "      <td>2.0</td>\n",
       "      <td>посёлок Шушары</td>\n",
       "      <td>12817.0</td>\n",
       "      <td>18603.0</td>\n",
       "      <td>0.0</td>\n",
       "      <td>-1.0</td>\n",
       "      <td>0.0</td>\n",
       "      <td>-1.0</td>\n",
       "      <td>81.0</td>\n",
       "    </tr>\n",
       "    <tr>\n",
       "      <th>2</th>\n",
       "      <td>10</td>\n",
       "      <td>5196000.0</td>\n",
       "      <td>56.00</td>\n",
       "      <td>2015-08-20T00:00:00</td>\n",
       "      <td>2</td>\n",
       "      <td>2.65</td>\n",
       "      <td>5.0</td>\n",
       "      <td>34.3</td>\n",
       "      <td>4</td>\n",
       "      <td>True</td>\n",
       "      <td>False</td>\n",
       "      <td>False</td>\n",
       "      <td>8.30</td>\n",
       "      <td>0.0</td>\n",
       "      <td>Санкт-Петербург</td>\n",
       "      <td>21741.0</td>\n",
       "      <td>13933.0</td>\n",
       "      <td>1.0</td>\n",
       "      <td>90.0</td>\n",
       "      <td>2.0</td>\n",
       "      <td>574.0</td>\n",
       "      <td>558.0</td>\n",
       "    </tr>\n",
       "    <tr>\n",
       "      <th>3</th>\n",
       "      <td>0</td>\n",
       "      <td>64900000.0</td>\n",
       "      <td>159.00</td>\n",
       "      <td>2015-07-24T00:00:00</td>\n",
       "      <td>3</td>\n",
       "      <td>2.65</td>\n",
       "      <td>14.0</td>\n",
       "      <td>30.0</td>\n",
       "      <td>9</td>\n",
       "      <td>True</td>\n",
       "      <td>False</td>\n",
       "      <td>False</td>\n",
       "      <td>9.10</td>\n",
       "      <td>0.0</td>\n",
       "      <td>Санкт-Петербург</td>\n",
       "      <td>28098.0</td>\n",
       "      <td>6800.0</td>\n",
       "      <td>2.0</td>\n",
       "      <td>84.0</td>\n",
       "      <td>3.0</td>\n",
       "      <td>234.0</td>\n",
       "      <td>424.0</td>\n",
       "    </tr>\n",
       "    <tr>\n",
       "      <th>4</th>\n",
       "      <td>2</td>\n",
       "      <td>10000000.0</td>\n",
       "      <td>100.00</td>\n",
       "      <td>2018-06-19T00:00:00</td>\n",
       "      <td>2</td>\n",
       "      <td>3.03</td>\n",
       "      <td>14.0</td>\n",
       "      <td>32.0</td>\n",
       "      <td>13</td>\n",
       "      <td>True</td>\n",
       "      <td>False</td>\n",
       "      <td>False</td>\n",
       "      <td>41.00</td>\n",
       "      <td>0.0</td>\n",
       "      <td>Санкт-Петербург</td>\n",
       "      <td>31856.0</td>\n",
       "      <td>8098.0</td>\n",
       "      <td>2.0</td>\n",
       "      <td>112.0</td>\n",
       "      <td>1.0</td>\n",
       "      <td>48.0</td>\n",
       "      <td>121.0</td>\n",
       "    </tr>\n",
       "    <tr>\n",
       "      <th>...</th>\n",
       "      <td>...</td>\n",
       "      <td>...</td>\n",
       "      <td>...</td>\n",
       "      <td>...</td>\n",
       "      <td>...</td>\n",
       "      <td>...</td>\n",
       "      <td>...</td>\n",
       "      <td>...</td>\n",
       "      <td>...</td>\n",
       "      <td>...</td>\n",
       "      <td>...</td>\n",
       "      <td>...</td>\n",
       "      <td>...</td>\n",
       "      <td>...</td>\n",
       "      <td>...</td>\n",
       "      <td>...</td>\n",
       "      <td>...</td>\n",
       "      <td>...</td>\n",
       "      <td>...</td>\n",
       "      <td>...</td>\n",
       "      <td>...</td>\n",
       "      <td>...</td>\n",
       "    </tr>\n",
       "    <tr>\n",
       "      <th>23694</th>\n",
       "      <td>9</td>\n",
       "      <td>9700000.0</td>\n",
       "      <td>133.81</td>\n",
       "      <td>2017-03-21T00:00:00</td>\n",
       "      <td>3</td>\n",
       "      <td>3.70</td>\n",
       "      <td>5.0</td>\n",
       "      <td>73.3</td>\n",
       "      <td>3</td>\n",
       "      <td>True</td>\n",
       "      <td>False</td>\n",
       "      <td>False</td>\n",
       "      <td>13.83</td>\n",
       "      <td>0.0</td>\n",
       "      <td>Санкт-Петербург</td>\n",
       "      <td>24665.0</td>\n",
       "      <td>4232.0</td>\n",
       "      <td>1.0</td>\n",
       "      <td>796.0</td>\n",
       "      <td>3.0</td>\n",
       "      <td>381.0</td>\n",
       "      <td>NaN</td>\n",
       "    </tr>\n",
       "    <tr>\n",
       "      <th>23695</th>\n",
       "      <td>14</td>\n",
       "      <td>3100000.0</td>\n",
       "      <td>59.00</td>\n",
       "      <td>2018-01-15T00:00:00</td>\n",
       "      <td>3</td>\n",
       "      <td>2.65</td>\n",
       "      <td>5.0</td>\n",
       "      <td>38.0</td>\n",
       "      <td>4</td>\n",
       "      <td>True</td>\n",
       "      <td>False</td>\n",
       "      <td>False</td>\n",
       "      <td>8.50</td>\n",
       "      <td>0.0</td>\n",
       "      <td>Тосно</td>\n",
       "      <td>NaN</td>\n",
       "      <td>NaN</td>\n",
       "      <td>0.0</td>\n",
       "      <td>-1.0</td>\n",
       "      <td>0.0</td>\n",
       "      <td>-1.0</td>\n",
       "      <td>45.0</td>\n",
       "    </tr>\n",
       "    <tr>\n",
       "      <th>23696</th>\n",
       "      <td>18</td>\n",
       "      <td>2500000.0</td>\n",
       "      <td>56.70</td>\n",
       "      <td>2018-02-11T00:00:00</td>\n",
       "      <td>2</td>\n",
       "      <td>2.65</td>\n",
       "      <td>3.0</td>\n",
       "      <td>29.7</td>\n",
       "      <td>1</td>\n",
       "      <td>True</td>\n",
       "      <td>False</td>\n",
       "      <td>False</td>\n",
       "      <td>9.10</td>\n",
       "      <td>0.0</td>\n",
       "      <td>село Рождествено</td>\n",
       "      <td>NaN</td>\n",
       "      <td>NaN</td>\n",
       "      <td>0.0</td>\n",
       "      <td>-1.0</td>\n",
       "      <td>0.0</td>\n",
       "      <td>-1.0</td>\n",
       "      <td>NaN</td>\n",
       "    </tr>\n",
       "    <tr>\n",
       "      <th>23697</th>\n",
       "      <td>13</td>\n",
       "      <td>11475000.0</td>\n",
       "      <td>76.75</td>\n",
       "      <td>2017-03-28T00:00:00</td>\n",
       "      <td>2</td>\n",
       "      <td>3.00</td>\n",
       "      <td>17.0</td>\n",
       "      <td>30.0</td>\n",
       "      <td>12</td>\n",
       "      <td>True</td>\n",
       "      <td>False</td>\n",
       "      <td>False</td>\n",
       "      <td>23.30</td>\n",
       "      <td>2.0</td>\n",
       "      <td>Санкт-Петербург</td>\n",
       "      <td>39140.0</td>\n",
       "      <td>10364.0</td>\n",
       "      <td>2.0</td>\n",
       "      <td>173.0</td>\n",
       "      <td>3.0</td>\n",
       "      <td>196.0</td>\n",
       "      <td>602.0</td>\n",
       "    </tr>\n",
       "    <tr>\n",
       "      <th>23698</th>\n",
       "      <td>4</td>\n",
       "      <td>1350000.0</td>\n",
       "      <td>32.30</td>\n",
       "      <td>2017-07-21T00:00:00</td>\n",
       "      <td>1</td>\n",
       "      <td>2.50</td>\n",
       "      <td>5.0</td>\n",
       "      <td>12.3</td>\n",
       "      <td>1</td>\n",
       "      <td>True</td>\n",
       "      <td>False</td>\n",
       "      <td>False</td>\n",
       "      <td>9.00</td>\n",
       "      <td>0.0</td>\n",
       "      <td>поселок Новый Учхоз</td>\n",
       "      <td>NaN</td>\n",
       "      <td>NaN</td>\n",
       "      <td>0.0</td>\n",
       "      <td>-1.0</td>\n",
       "      <td>0.0</td>\n",
       "      <td>-1.0</td>\n",
       "      <td>NaN</td>\n",
       "    </tr>\n",
       "  </tbody>\n",
       "</table>\n",
       "<p>23699 rows × 22 columns</p>\n",
       "</div>"
      ],
      "text/plain": [
       "       total_images  last_price  total_area first_day_exposition  rooms  \\\n",
       "0                20  13000000.0      108.00  2019-03-07T00:00:00      3   \n",
       "1                 7   3350000.0       40.40  2018-12-04T00:00:00      1   \n",
       "2                10   5196000.0       56.00  2015-08-20T00:00:00      2   \n",
       "3                 0  64900000.0      159.00  2015-07-24T00:00:00      3   \n",
       "4                 2  10000000.0      100.00  2018-06-19T00:00:00      2   \n",
       "...             ...         ...         ...                  ...    ...   \n",
       "23694             9   9700000.0      133.81  2017-03-21T00:00:00      3   \n",
       "23695            14   3100000.0       59.00  2018-01-15T00:00:00      3   \n",
       "23696            18   2500000.0       56.70  2018-02-11T00:00:00      2   \n",
       "23697            13  11475000.0       76.75  2017-03-28T00:00:00      2   \n",
       "23698             4   1350000.0       32.30  2017-07-21T00:00:00      1   \n",
       "\n",
       "       ceiling_height  floors_total  living_area  floor  is_apartment  studio  \\\n",
       "0                2.70          16.0         51.0      8          True   False   \n",
       "1                2.65          11.0         18.6      1          True   False   \n",
       "2                2.65           5.0         34.3      4          True   False   \n",
       "3                2.65          14.0         30.0      9          True   False   \n",
       "4                3.03          14.0         32.0     13          True   False   \n",
       "...               ...           ...          ...    ...           ...     ...   \n",
       "23694            3.70           5.0         73.3      3          True   False   \n",
       "23695            2.65           5.0         38.0      4          True   False   \n",
       "23696            2.65           3.0         29.7      1          True   False   \n",
       "23697            3.00          17.0         30.0     12          True   False   \n",
       "23698            2.50           5.0         12.3      1          True   False   \n",
       "\n",
       "       open_plan  kitchen_area  balcony        locality_name  \\\n",
       "0          False         25.00      0.0      Санкт-Петербург   \n",
       "1          False         11.00      2.0       посёлок Шушары   \n",
       "2          False          8.30      0.0      Санкт-Петербург   \n",
       "3          False          9.10      0.0      Санкт-Петербург   \n",
       "4          False         41.00      0.0      Санкт-Петербург   \n",
       "...          ...           ...      ...                  ...   \n",
       "23694      False         13.83      0.0      Санкт-Петербург   \n",
       "23695      False          8.50      0.0                Тосно   \n",
       "23696      False          9.10      0.0     село Рождествено   \n",
       "23697      False         23.30      2.0      Санкт-Петербург   \n",
       "23698      False          9.00      0.0  поселок Новый Учхоз   \n",
       "\n",
       "       airports_nearest  cityCenters_nearest  parks_around3000  parks_nearest  \\\n",
       "0               18863.0              16028.0               1.0          482.0   \n",
       "1               12817.0              18603.0               0.0           -1.0   \n",
       "2               21741.0              13933.0               1.0           90.0   \n",
       "3               28098.0               6800.0               2.0           84.0   \n",
       "4               31856.0               8098.0               2.0          112.0   \n",
       "...                 ...                  ...               ...            ...   \n",
       "23694           24665.0               4232.0               1.0          796.0   \n",
       "23695               NaN                  NaN               0.0           -1.0   \n",
       "23696               NaN                  NaN               0.0           -1.0   \n",
       "23697           39140.0              10364.0               2.0          173.0   \n",
       "23698               NaN                  NaN               0.0           -1.0   \n",
       "\n",
       "       ponds_around3000  ponds_nearest  days_exposition  \n",
       "0                   2.0          755.0              NaN  \n",
       "1                   0.0           -1.0             81.0  \n",
       "2                   2.0          574.0            558.0  \n",
       "3                   3.0          234.0            424.0  \n",
       "4                   1.0           48.0            121.0  \n",
       "...                 ...            ...              ...  \n",
       "23694               3.0          381.0              NaN  \n",
       "23695               0.0           -1.0             45.0  \n",
       "23696               0.0           -1.0              NaN  \n",
       "23697               3.0          196.0            602.0  \n",
       "23698               0.0           -1.0              NaN  \n",
       "\n",
       "[23699 rows x 22 columns]"
      ]
     },
     "execution_count": 19,
     "metadata": {},
     "output_type": "execute_result"
    }
   ],
   "source": [
    "data['living_area']=data['living_area'].fillna(value=data['living_area'].median())\n",
    "data['kitchen_area']=data['kitchen_area'].fillna(value=data['kitchen_area'].median())\n",
    "data.isna().sum()\n",
    "data"
   ]
  },
  {
   "cell_type": "markdown",
   "metadata": {},
   "source": [
    "Осталось устранить пропуски в информации о названиях населенных пунктов.\n",
    "Мы не можем взять \"среднее название\" или \"медианное название\" населенного пункта. Так же как и не можем быть уверены, что если населенного пункта для квартиры в выборке нет, то квартира вообще находится в Санкт-Петербурге и соседних населенных пунктах.\n",
    "**Строки с пропущенными значениями в данном столбце мы удаляем, тем более их количество не является вещественным и никак не отразится на результатах анализа.**"
   ]
  },
  {
   "cell_type": "code",
   "execution_count": 20,
   "metadata": {},
   "outputs": [
    {
     "data": {
      "text/plain": [
       "total_images            0\n",
       "last_price              0\n",
       "total_area              0\n",
       "first_day_exposition    0\n",
       "rooms                   0\n",
       "ceiling_height          0\n",
       "floors_total            0\n",
       "living_area             0\n",
       "floor                   0\n",
       "is_apartment            0\n",
       "studio                  0\n",
       "open_plan               0\n",
       "kitchen_area            0\n",
       "balcony                 0\n",
       "locality_name           0\n",
       "airports_nearest        0\n",
       "cityCenters_nearest     0\n",
       "parks_around3000        0\n",
       "parks_nearest           0\n",
       "ponds_around3000        0\n",
       "ponds_nearest           0\n",
       "days_exposition         0\n",
       "dtype: int64"
      ]
     },
     "execution_count": 20,
     "metadata": {},
     "output_type": "execute_result"
    }
   ],
   "source": [
    "data = data.dropna()\n",
    "data.isna().sum()"
   ]
  },
  {
   "cell_type": "markdown",
   "metadata": {},
   "source": [
    "**Мы избавились от пропущенных значений в таблице. В некоторых случаях мы присваилвали пропускам медианное значение, где-то приняли, что пропущенное значение передает отсутствие объекта, описываемого в объявлении. От строк с пропущенными названиями населенных пунктов мы избавились. К счастью, их было совсем немного.** "
   ]
  },
  {
   "cell_type": "markdown",
   "metadata": {},
   "source": [
    "Далее, приступим к поиску дубликатов. Чаще всего неявные дубликаты встречаются в названиях объектов. Из столбцов, описывающих названия, у нас `locality_name`."
   ]
  },
  {
   "cell_type": "code",
   "execution_count": 21,
   "metadata": {},
   "outputs": [
    {
     "name": "stdout",
     "output_type": "stream",
     "text": [
      "28\n",
      "\n",
      "['Зеленогорск' 'Колпино' 'Красное Село' 'Кронштадт' 'Ломоносов' 'Павловск'\n",
      " 'Петергоф' 'Пушкин' 'Санкт-Петербург' 'Сестрорецк' 'поселок Лисий Нос'\n",
      " 'поселок Мурино' 'посёлок Александровская' 'посёлок Белоостров'\n",
      " 'посёлок Левашово' 'посёлок Лисий Нос' 'посёлок Металлострой'\n",
      " 'посёлок Молодёжное' 'посёлок Парголово' 'посёлок Песочный'\n",
      " 'посёлок Петро-Славянка' 'посёлок Понтонный' 'посёлок Репино'\n",
      " 'посёлок Сапёрный' 'посёлок Стрельна' 'посёлок Усть-Ижора'\n",
      " 'посёлок Шушары' 'посёлок Щеглово']\n"
     ]
    }
   ],
   "source": [
    "print(data['locality_name'].nunique())\n",
    "print()\n",
    "print(data['locality_name'].sort_values().unique())"
   ]
  },
  {
   "cell_type": "markdown",
   "metadata": {},
   "source": [
    "Можно заметить, что некоторые названия наслененных пунктов записаны по разному (пос**ё**лок и пос**е**лок). Также встречаются одинаковые названия населенных пунктов с разными обозначениями (поселок Рябово, ПГТ Рябово)."
   ]
  },
  {
   "cell_type": "code",
   "execution_count": 22,
   "metadata": {},
   "outputs": [],
   "source": [
    "def short_name(row):\n",
    "    split=row.split()\n",
    "    new_name=[]\n",
    "    name=[]\n",
    "    for word in split:\n",
    "        if word[0].isupper():\n",
    "            name.append(word)\n",
    "            new_name=''.join(word for word in name)\n",
    "    return new_name"
   ]
  },
  {
   "cell_type": "markdown",
   "metadata": {},
   "source": [
    "Мы создали функцию, которая возвращает сами названия населенных пунктов, без их типа. Тем самым мы отсеяли неявные дубликаты, которые, как мы успели заметить, появлялись как раз из-за ошибок в типе населенных пунктов. Проверим сколько неявных дубликатов таким способом отсеяли."
   ]
  },
  {
   "cell_type": "code",
   "execution_count": 23,
   "metadata": {},
   "outputs": [
    {
     "name": "stdout",
     "output_type": "stream",
     "text": [
      "27\n"
     ]
    }
   ],
   "source": [
    "data['locality_name'] = data['locality_name'].apply(short_name)\n",
    "\n",
    "print(data['locality_name'].nunique())"
   ]
  },
  {
   "cell_type": "markdown",
   "metadata": {},
   "source": [
    "**59** неявных дубликатов в названиях населенных пунктов были устранены. \n",
    "Двигаемся дальше.\n",
    "Теперь нам нужно найти выбивающиеся значения(аномалии) в столбцах."
   ]
  },
  {
   "cell_type": "code",
   "execution_count": 24,
   "metadata": {},
   "outputs": [
    {
     "data": {
      "text/plain": [
       "17"
      ]
     },
     "execution_count": 24,
     "metadata": {},
     "output_type": "execute_result"
    }
   ],
   "source": [
    "len(data[(data['ceiling_height'] > 6) | (data['ceiling_height'] < 2)])"
   ]
  },
  {
   "cell_type": "markdown",
   "metadata": {},
   "source": [
    "Всего 32 объявления, где высота потолков более 5м либо менее 2м. Посмотрим на эти объявления."
   ]
  },
  {
   "cell_type": "code",
   "execution_count": 25,
   "metadata": {},
   "outputs": [
    {
     "data": {
      "text/html": [
       "<div>\n",
       "<style scoped>\n",
       "    .dataframe tbody tr th:only-of-type {\n",
       "        vertical-align: middle;\n",
       "    }\n",
       "\n",
       "    .dataframe tbody tr th {\n",
       "        vertical-align: top;\n",
       "    }\n",
       "\n",
       "    .dataframe thead th {\n",
       "        text-align: right;\n",
       "    }\n",
       "</style>\n",
       "<table border=\"1\" class=\"dataframe\">\n",
       "  <thead>\n",
       "    <tr style=\"text-align: right;\">\n",
       "      <th></th>\n",
       "      <th>total_images</th>\n",
       "      <th>last_price</th>\n",
       "      <th>total_area</th>\n",
       "      <th>first_day_exposition</th>\n",
       "      <th>rooms</th>\n",
       "      <th>ceiling_height</th>\n",
       "      <th>floors_total</th>\n",
       "      <th>living_area</th>\n",
       "      <th>floor</th>\n",
       "      <th>is_apartment</th>\n",
       "      <th>studio</th>\n",
       "      <th>open_plan</th>\n",
       "      <th>kitchen_area</th>\n",
       "      <th>balcony</th>\n",
       "      <th>locality_name</th>\n",
       "      <th>airports_nearest</th>\n",
       "      <th>cityCenters_nearest</th>\n",
       "      <th>parks_around3000</th>\n",
       "      <th>parks_nearest</th>\n",
       "      <th>ponds_around3000</th>\n",
       "      <th>ponds_nearest</th>\n",
       "      <th>days_exposition</th>\n",
       "    </tr>\n",
       "  </thead>\n",
       "  <tbody>\n",
       "    <tr>\n",
       "      <th>4643</th>\n",
       "      <td>0</td>\n",
       "      <td>4300000.0</td>\n",
       "      <td>45.0</td>\n",
       "      <td>2018-02-01T00:00:00</td>\n",
       "      <td>2</td>\n",
       "      <td>25.00</td>\n",
       "      <td>9.0</td>\n",
       "      <td>30.0</td>\n",
       "      <td>2</td>\n",
       "      <td>True</td>\n",
       "      <td>False</td>\n",
       "      <td>False</td>\n",
       "      <td>7.00</td>\n",
       "      <td>1.0</td>\n",
       "      <td>Санкт-Петербург</td>\n",
       "      <td>12016.0</td>\n",
       "      <td>13256.0</td>\n",
       "      <td>1.0</td>\n",
       "      <td>658.0</td>\n",
       "      <td>1.0</td>\n",
       "      <td>331.0</td>\n",
       "      <td>181.0</td>\n",
       "    </tr>\n",
       "    <tr>\n",
       "      <th>5076</th>\n",
       "      <td>0</td>\n",
       "      <td>3850000.0</td>\n",
       "      <td>30.5</td>\n",
       "      <td>2018-10-03T00:00:00</td>\n",
       "      <td>1</td>\n",
       "      <td>24.00</td>\n",
       "      <td>5.0</td>\n",
       "      <td>19.5</td>\n",
       "      <td>1</td>\n",
       "      <td>True</td>\n",
       "      <td>False</td>\n",
       "      <td>False</td>\n",
       "      <td>5.50</td>\n",
       "      <td>0.0</td>\n",
       "      <td>Санкт-Петербург</td>\n",
       "      <td>29686.0</td>\n",
       "      <td>8389.0</td>\n",
       "      <td>3.0</td>\n",
       "      <td>397.0</td>\n",
       "      <td>1.0</td>\n",
       "      <td>578.0</td>\n",
       "      <td>7.0</td>\n",
       "    </tr>\n",
       "    <tr>\n",
       "      <th>5669</th>\n",
       "      <td>4</td>\n",
       "      <td>4400000.0</td>\n",
       "      <td>50.0</td>\n",
       "      <td>2017-08-08T00:00:00</td>\n",
       "      <td>2</td>\n",
       "      <td>26.00</td>\n",
       "      <td>9.0</td>\n",
       "      <td>21.3</td>\n",
       "      <td>3</td>\n",
       "      <td>True</td>\n",
       "      <td>False</td>\n",
       "      <td>False</td>\n",
       "      <td>7.00</td>\n",
       "      <td>2.0</td>\n",
       "      <td>Санкт-Петербург</td>\n",
       "      <td>28981.0</td>\n",
       "      <td>10912.0</td>\n",
       "      <td>1.0</td>\n",
       "      <td>305.0</td>\n",
       "      <td>0.0</td>\n",
       "      <td>-1.0</td>\n",
       "      <td>267.0</td>\n",
       "    </tr>\n",
       "    <tr>\n",
       "      <th>5807</th>\n",
       "      <td>17</td>\n",
       "      <td>8150000.0</td>\n",
       "      <td>80.0</td>\n",
       "      <td>2019-01-09T00:00:00</td>\n",
       "      <td>2</td>\n",
       "      <td>27.00</td>\n",
       "      <td>36.0</td>\n",
       "      <td>41.0</td>\n",
       "      <td>13</td>\n",
       "      <td>True</td>\n",
       "      <td>False</td>\n",
       "      <td>False</td>\n",
       "      <td>12.00</td>\n",
       "      <td>5.0</td>\n",
       "      <td>Санкт-Петербург</td>\n",
       "      <td>18732.0</td>\n",
       "      <td>20444.0</td>\n",
       "      <td>0.0</td>\n",
       "      <td>-1.0</td>\n",
       "      <td>3.0</td>\n",
       "      <td>80.0</td>\n",
       "      <td>38.0</td>\n",
       "    </tr>\n",
       "    <tr>\n",
       "      <th>5863</th>\n",
       "      <td>20</td>\n",
       "      <td>5650000.0</td>\n",
       "      <td>45.0</td>\n",
       "      <td>2018-08-15T00:00:00</td>\n",
       "      <td>1</td>\n",
       "      <td>8.30</td>\n",
       "      <td>16.0</td>\n",
       "      <td>19.3</td>\n",
       "      <td>14</td>\n",
       "      <td>True</td>\n",
       "      <td>False</td>\n",
       "      <td>False</td>\n",
       "      <td>8.30</td>\n",
       "      <td>1.0</td>\n",
       "      <td>Санкт-Петербург</td>\n",
       "      <td>13069.0</td>\n",
       "      <td>10763.0</td>\n",
       "      <td>0.0</td>\n",
       "      <td>-1.0</td>\n",
       "      <td>1.0</td>\n",
       "      <td>613.0</td>\n",
       "      <td>14.0</td>\n",
       "    </tr>\n",
       "    <tr>\n",
       "      <th>15061</th>\n",
       "      <td>19</td>\n",
       "      <td>5600000.0</td>\n",
       "      <td>56.4</td>\n",
       "      <td>2018-05-11T00:00:00</td>\n",
       "      <td>2</td>\n",
       "      <td>14.00</td>\n",
       "      <td>14.0</td>\n",
       "      <td>32.4</td>\n",
       "      <td>5</td>\n",
       "      <td>True</td>\n",
       "      <td>False</td>\n",
       "      <td>False</td>\n",
       "      <td>9.10</td>\n",
       "      <td>2.0</td>\n",
       "      <td>Санкт-Петербург</td>\n",
       "      <td>14814.0</td>\n",
       "      <td>13610.0</td>\n",
       "      <td>0.0</td>\n",
       "      <td>-1.0</td>\n",
       "      <td>0.0</td>\n",
       "      <td>-1.0</td>\n",
       "      <td>315.0</td>\n",
       "    </tr>\n",
       "    <tr>\n",
       "      <th>15743</th>\n",
       "      <td>14</td>\n",
       "      <td>5600000.0</td>\n",
       "      <td>67.0</td>\n",
       "      <td>2016-11-11T00:00:00</td>\n",
       "      <td>3</td>\n",
       "      <td>8.00</td>\n",
       "      <td>16.0</td>\n",
       "      <td>41.0</td>\n",
       "      <td>1</td>\n",
       "      <td>True</td>\n",
       "      <td>False</td>\n",
       "      <td>False</td>\n",
       "      <td>8.00</td>\n",
       "      <td>0.0</td>\n",
       "      <td>Санкт-Петербург</td>\n",
       "      <td>32691.0</td>\n",
       "      <td>11035.0</td>\n",
       "      <td>1.0</td>\n",
       "      <td>723.0</td>\n",
       "      <td>0.0</td>\n",
       "      <td>-1.0</td>\n",
       "      <td>474.0</td>\n",
       "    </tr>\n",
       "    <tr>\n",
       "      <th>16934</th>\n",
       "      <td>5</td>\n",
       "      <td>4100000.0</td>\n",
       "      <td>40.0</td>\n",
       "      <td>2017-10-17T00:00:00</td>\n",
       "      <td>1</td>\n",
       "      <td>1.75</td>\n",
       "      <td>37.0</td>\n",
       "      <td>17.4</td>\n",
       "      <td>5</td>\n",
       "      <td>True</td>\n",
       "      <td>False</td>\n",
       "      <td>False</td>\n",
       "      <td>8.34</td>\n",
       "      <td>0.0</td>\n",
       "      <td>Санкт-Петербург</td>\n",
       "      <td>18732.0</td>\n",
       "      <td>20444.0</td>\n",
       "      <td>0.0</td>\n",
       "      <td>-1.0</td>\n",
       "      <td>3.0</td>\n",
       "      <td>80.0</td>\n",
       "      <td>71.0</td>\n",
       "    </tr>\n",
       "    <tr>\n",
       "      <th>17442</th>\n",
       "      <td>0</td>\n",
       "      <td>5350000.0</td>\n",
       "      <td>54.0</td>\n",
       "      <td>2015-06-16T00:00:00</td>\n",
       "      <td>2</td>\n",
       "      <td>8.00</td>\n",
       "      <td>5.0</td>\n",
       "      <td>29.0</td>\n",
       "      <td>2</td>\n",
       "      <td>True</td>\n",
       "      <td>False</td>\n",
       "      <td>False</td>\n",
       "      <td>9.10</td>\n",
       "      <td>1.0</td>\n",
       "      <td>КрасноеСело</td>\n",
       "      <td>24638.0</td>\n",
       "      <td>28062.0</td>\n",
       "      <td>0.0</td>\n",
       "      <td>-1.0</td>\n",
       "      <td>0.0</td>\n",
       "      <td>-1.0</td>\n",
       "      <td>469.0</td>\n",
       "    </tr>\n",
       "    <tr>\n",
       "      <th>17857</th>\n",
       "      <td>1</td>\n",
       "      <td>3900000.0</td>\n",
       "      <td>56.0</td>\n",
       "      <td>2017-12-22T00:00:00</td>\n",
       "      <td>3</td>\n",
       "      <td>27.00</td>\n",
       "      <td>5.0</td>\n",
       "      <td>33.0</td>\n",
       "      <td>4</td>\n",
       "      <td>False</td>\n",
       "      <td>False</td>\n",
       "      <td>False</td>\n",
       "      <td>9.10</td>\n",
       "      <td>0.0</td>\n",
       "      <td>Санкт-Петербург</td>\n",
       "      <td>41030.0</td>\n",
       "      <td>15543.0</td>\n",
       "      <td>0.0</td>\n",
       "      <td>-1.0</td>\n",
       "      <td>0.0</td>\n",
       "      <td>-1.0</td>\n",
       "      <td>73.0</td>\n",
       "    </tr>\n",
       "    <tr>\n",
       "      <th>18545</th>\n",
       "      <td>6</td>\n",
       "      <td>3750000.0</td>\n",
       "      <td>43.0</td>\n",
       "      <td>2019-03-18T00:00:00</td>\n",
       "      <td>2</td>\n",
       "      <td>25.00</td>\n",
       "      <td>5.0</td>\n",
       "      <td>29.0</td>\n",
       "      <td>3</td>\n",
       "      <td>False</td>\n",
       "      <td>False</td>\n",
       "      <td>False</td>\n",
       "      <td>9.10</td>\n",
       "      <td>0.0</td>\n",
       "      <td>Санкт-Петербург</td>\n",
       "      <td>27054.0</td>\n",
       "      <td>8033.0</td>\n",
       "      <td>1.0</td>\n",
       "      <td>540.0</td>\n",
       "      <td>0.0</td>\n",
       "      <td>-1.0</td>\n",
       "      <td>12.0</td>\n",
       "    </tr>\n",
       "    <tr>\n",
       "      <th>20478</th>\n",
       "      <td>11</td>\n",
       "      <td>8000000.0</td>\n",
       "      <td>45.0</td>\n",
       "      <td>2017-07-18T00:00:00</td>\n",
       "      <td>1</td>\n",
       "      <td>27.00</td>\n",
       "      <td>4.0</td>\n",
       "      <td>22.0</td>\n",
       "      <td>2</td>\n",
       "      <td>True</td>\n",
       "      <td>False</td>\n",
       "      <td>False</td>\n",
       "      <td>10.00</td>\n",
       "      <td>1.0</td>\n",
       "      <td>Санкт-Петербург</td>\n",
       "      <td>18975.0</td>\n",
       "      <td>3246.0</td>\n",
       "      <td>0.0</td>\n",
       "      <td>-1.0</td>\n",
       "      <td>3.0</td>\n",
       "      <td>449.0</td>\n",
       "      <td>429.0</td>\n",
       "    </tr>\n",
       "    <tr>\n",
       "      <th>20507</th>\n",
       "      <td>12</td>\n",
       "      <td>5950000.0</td>\n",
       "      <td>60.0</td>\n",
       "      <td>2018-02-19T00:00:00</td>\n",
       "      <td>2</td>\n",
       "      <td>22.60</td>\n",
       "      <td>14.0</td>\n",
       "      <td>35.0</td>\n",
       "      <td>11</td>\n",
       "      <td>True</td>\n",
       "      <td>False</td>\n",
       "      <td>False</td>\n",
       "      <td>13.00</td>\n",
       "      <td>1.0</td>\n",
       "      <td>Санкт-Петербург</td>\n",
       "      <td>27028.0</td>\n",
       "      <td>12570.0</td>\n",
       "      <td>0.0</td>\n",
       "      <td>-1.0</td>\n",
       "      <td>0.0</td>\n",
       "      <td>-1.0</td>\n",
       "      <td>40.0</td>\n",
       "    </tr>\n",
       "    <tr>\n",
       "      <th>21377</th>\n",
       "      <td>19</td>\n",
       "      <td>4900000.0</td>\n",
       "      <td>42.0</td>\n",
       "      <td>2017-04-18T00:00:00</td>\n",
       "      <td>1</td>\n",
       "      <td>27.50</td>\n",
       "      <td>24.0</td>\n",
       "      <td>37.7</td>\n",
       "      <td>19</td>\n",
       "      <td>False</td>\n",
       "      <td>False</td>\n",
       "      <td>False</td>\n",
       "      <td>11.00</td>\n",
       "      <td>2.0</td>\n",
       "      <td>Санкт-Петербург</td>\n",
       "      <td>42742.0</td>\n",
       "      <td>9760.0</td>\n",
       "      <td>0.0</td>\n",
       "      <td>-1.0</td>\n",
       "      <td>0.0</td>\n",
       "      <td>-1.0</td>\n",
       "      <td>61.0</td>\n",
       "    </tr>\n",
       "    <tr>\n",
       "      <th>22309</th>\n",
       "      <td>20</td>\n",
       "      <td>5300000.0</td>\n",
       "      <td>45.0</td>\n",
       "      <td>2017-09-30T00:00:00</td>\n",
       "      <td>1</td>\n",
       "      <td>10.30</td>\n",
       "      <td>16.0</td>\n",
       "      <td>15.5</td>\n",
       "      <td>15</td>\n",
       "      <td>True</td>\n",
       "      <td>False</td>\n",
       "      <td>False</td>\n",
       "      <td>9.10</td>\n",
       "      <td>0.0</td>\n",
       "      <td>Санкт-Петербург</td>\n",
       "      <td>36353.0</td>\n",
       "      <td>11936.0</td>\n",
       "      <td>2.0</td>\n",
       "      <td>440.0</td>\n",
       "      <td>2.0</td>\n",
       "      <td>450.0</td>\n",
       "      <td>136.0</td>\n",
       "    </tr>\n",
       "    <tr>\n",
       "      <th>22590</th>\n",
       "      <td>16</td>\n",
       "      <td>6000000.0</td>\n",
       "      <td>55.0</td>\n",
       "      <td>2018-10-31T00:00:00</td>\n",
       "      <td>2</td>\n",
       "      <td>1.00</td>\n",
       "      <td>12.0</td>\n",
       "      <td>32.4</td>\n",
       "      <td>7</td>\n",
       "      <td>True</td>\n",
       "      <td>False</td>\n",
       "      <td>False</td>\n",
       "      <td>10.00</td>\n",
       "      <td>0.0</td>\n",
       "      <td>Санкт-Петербург</td>\n",
       "      <td>33053.0</td>\n",
       "      <td>14217.0</td>\n",
       "      <td>2.0</td>\n",
       "      <td>293.0</td>\n",
       "      <td>2.0</td>\n",
       "      <td>289.0</td>\n",
       "      <td>13.0</td>\n",
       "    </tr>\n",
       "    <tr>\n",
       "      <th>22869</th>\n",
       "      <td>0</td>\n",
       "      <td>15000000.0</td>\n",
       "      <td>25.0</td>\n",
       "      <td>2018-07-25T00:00:00</td>\n",
       "      <td>1</td>\n",
       "      <td>100.00</td>\n",
       "      <td>5.0</td>\n",
       "      <td>14.0</td>\n",
       "      <td>5</td>\n",
       "      <td>True</td>\n",
       "      <td>False</td>\n",
       "      <td>False</td>\n",
       "      <td>11.00</td>\n",
       "      <td>5.0</td>\n",
       "      <td>Санкт-Петербург</td>\n",
       "      <td>34963.0</td>\n",
       "      <td>8283.0</td>\n",
       "      <td>1.0</td>\n",
       "      <td>223.0</td>\n",
       "      <td>3.0</td>\n",
       "      <td>30.0</td>\n",
       "      <td>19.0</td>\n",
       "    </tr>\n",
       "  </tbody>\n",
       "</table>\n",
       "</div>"
      ],
      "text/plain": [
       "       total_images  last_price  total_area first_day_exposition  rooms  \\\n",
       "4643              0   4300000.0        45.0  2018-02-01T00:00:00      2   \n",
       "5076              0   3850000.0        30.5  2018-10-03T00:00:00      1   \n",
       "5669              4   4400000.0        50.0  2017-08-08T00:00:00      2   \n",
       "5807             17   8150000.0        80.0  2019-01-09T00:00:00      2   \n",
       "5863             20   5650000.0        45.0  2018-08-15T00:00:00      1   \n",
       "15061            19   5600000.0        56.4  2018-05-11T00:00:00      2   \n",
       "15743            14   5600000.0        67.0  2016-11-11T00:00:00      3   \n",
       "16934             5   4100000.0        40.0  2017-10-17T00:00:00      1   \n",
       "17442             0   5350000.0        54.0  2015-06-16T00:00:00      2   \n",
       "17857             1   3900000.0        56.0  2017-12-22T00:00:00      3   \n",
       "18545             6   3750000.0        43.0  2019-03-18T00:00:00      2   \n",
       "20478            11   8000000.0        45.0  2017-07-18T00:00:00      1   \n",
       "20507            12   5950000.0        60.0  2018-02-19T00:00:00      2   \n",
       "21377            19   4900000.0        42.0  2017-04-18T00:00:00      1   \n",
       "22309            20   5300000.0        45.0  2017-09-30T00:00:00      1   \n",
       "22590            16   6000000.0        55.0  2018-10-31T00:00:00      2   \n",
       "22869             0  15000000.0        25.0  2018-07-25T00:00:00      1   \n",
       "\n",
       "       ceiling_height  floors_total  living_area  floor  is_apartment  studio  \\\n",
       "4643            25.00           9.0         30.0      2          True   False   \n",
       "5076            24.00           5.0         19.5      1          True   False   \n",
       "5669            26.00           9.0         21.3      3          True   False   \n",
       "5807            27.00          36.0         41.0     13          True   False   \n",
       "5863             8.30          16.0         19.3     14          True   False   \n",
       "15061           14.00          14.0         32.4      5          True   False   \n",
       "15743            8.00          16.0         41.0      1          True   False   \n",
       "16934            1.75          37.0         17.4      5          True   False   \n",
       "17442            8.00           5.0         29.0      2          True   False   \n",
       "17857           27.00           5.0         33.0      4         False   False   \n",
       "18545           25.00           5.0         29.0      3         False   False   \n",
       "20478           27.00           4.0         22.0      2          True   False   \n",
       "20507           22.60          14.0         35.0     11          True   False   \n",
       "21377           27.50          24.0         37.7     19         False   False   \n",
       "22309           10.30          16.0         15.5     15          True   False   \n",
       "22590            1.00          12.0         32.4      7          True   False   \n",
       "22869          100.00           5.0         14.0      5          True   False   \n",
       "\n",
       "       open_plan  kitchen_area  balcony    locality_name  airports_nearest  \\\n",
       "4643       False          7.00      1.0  Санкт-Петербург           12016.0   \n",
       "5076       False          5.50      0.0  Санкт-Петербург           29686.0   \n",
       "5669       False          7.00      2.0  Санкт-Петербург           28981.0   \n",
       "5807       False         12.00      5.0  Санкт-Петербург           18732.0   \n",
       "5863       False          8.30      1.0  Санкт-Петербург           13069.0   \n",
       "15061      False          9.10      2.0  Санкт-Петербург           14814.0   \n",
       "15743      False          8.00      0.0  Санкт-Петербург           32691.0   \n",
       "16934      False          8.34      0.0  Санкт-Петербург           18732.0   \n",
       "17442      False          9.10      1.0      КрасноеСело           24638.0   \n",
       "17857      False          9.10      0.0  Санкт-Петербург           41030.0   \n",
       "18545      False          9.10      0.0  Санкт-Петербург           27054.0   \n",
       "20478      False         10.00      1.0  Санкт-Петербург           18975.0   \n",
       "20507      False         13.00      1.0  Санкт-Петербург           27028.0   \n",
       "21377      False         11.00      2.0  Санкт-Петербург           42742.0   \n",
       "22309      False          9.10      0.0  Санкт-Петербург           36353.0   \n",
       "22590      False         10.00      0.0  Санкт-Петербург           33053.0   \n",
       "22869      False         11.00      5.0  Санкт-Петербург           34963.0   \n",
       "\n",
       "       cityCenters_nearest  parks_around3000  parks_nearest  ponds_around3000  \\\n",
       "4643               13256.0               1.0          658.0               1.0   \n",
       "5076                8389.0               3.0          397.0               1.0   \n",
       "5669               10912.0               1.0          305.0               0.0   \n",
       "5807               20444.0               0.0           -1.0               3.0   \n",
       "5863               10763.0               0.0           -1.0               1.0   \n",
       "15061              13610.0               0.0           -1.0               0.0   \n",
       "15743              11035.0               1.0          723.0               0.0   \n",
       "16934              20444.0               0.0           -1.0               3.0   \n",
       "17442              28062.0               0.0           -1.0               0.0   \n",
       "17857              15543.0               0.0           -1.0               0.0   \n",
       "18545               8033.0               1.0          540.0               0.0   \n",
       "20478               3246.0               0.0           -1.0               3.0   \n",
       "20507              12570.0               0.0           -1.0               0.0   \n",
       "21377               9760.0               0.0           -1.0               0.0   \n",
       "22309              11936.0               2.0          440.0               2.0   \n",
       "22590              14217.0               2.0          293.0               2.0   \n",
       "22869               8283.0               1.0          223.0               3.0   \n",
       "\n",
       "       ponds_nearest  days_exposition  \n",
       "4643           331.0            181.0  \n",
       "5076           578.0              7.0  \n",
       "5669            -1.0            267.0  \n",
       "5807            80.0             38.0  \n",
       "5863           613.0             14.0  \n",
       "15061           -1.0            315.0  \n",
       "15743           -1.0            474.0  \n",
       "16934           80.0             71.0  \n",
       "17442           -1.0            469.0  \n",
       "17857           -1.0             73.0  \n",
       "18545           -1.0             12.0  \n",
       "20478          449.0            429.0  \n",
       "20507           -1.0             40.0  \n",
       "21377           -1.0             61.0  \n",
       "22309          450.0            136.0  \n",
       "22590          289.0             13.0  \n",
       "22869           30.0             19.0  "
      ]
     },
     "execution_count": 25,
     "metadata": {},
     "output_type": "execute_result"
    }
   ],
   "source": [
    "height_anomal = data.query('ceiling_height > 6 or ceiling_height < 2')\n",
    "height_anomal"
   ]
  },
  {
   "cell_type": "markdown",
   "metadata": {},
   "source": [
    "Приведем все значения в норму. Переместим запятую в значениях на свое место и заменим слишком низкие и слишком высокие значения на медиану по столбцу. "
   ]
  },
  {
   "cell_type": "code",
   "execution_count": 26,
   "metadata": {},
   "outputs": [
    {
     "data": {
      "text/html": [
       "<div>\n",
       "<style scoped>\n",
       "    .dataframe tbody tr th:only-of-type {\n",
       "        vertical-align: middle;\n",
       "    }\n",
       "\n",
       "    .dataframe tbody tr th {\n",
       "        vertical-align: top;\n",
       "    }\n",
       "\n",
       "    .dataframe thead th {\n",
       "        text-align: right;\n",
       "    }\n",
       "</style>\n",
       "<table border=\"1\" class=\"dataframe\">\n",
       "  <thead>\n",
       "    <tr style=\"text-align: right;\">\n",
       "      <th></th>\n",
       "      <th>total_images</th>\n",
       "      <th>last_price</th>\n",
       "      <th>total_area</th>\n",
       "      <th>first_day_exposition</th>\n",
       "      <th>rooms</th>\n",
       "      <th>ceiling_height</th>\n",
       "      <th>floors_total</th>\n",
       "      <th>living_area</th>\n",
       "      <th>floor</th>\n",
       "      <th>is_apartment</th>\n",
       "      <th>studio</th>\n",
       "      <th>open_plan</th>\n",
       "      <th>kitchen_area</th>\n",
       "      <th>balcony</th>\n",
       "      <th>locality_name</th>\n",
       "      <th>airports_nearest</th>\n",
       "      <th>cityCenters_nearest</th>\n",
       "      <th>parks_around3000</th>\n",
       "      <th>parks_nearest</th>\n",
       "      <th>ponds_around3000</th>\n",
       "      <th>ponds_nearest</th>\n",
       "      <th>days_exposition</th>\n",
       "    </tr>\n",
       "  </thead>\n",
       "  <tbody>\n",
       "    <tr>\n",
       "      <th>4643</th>\n",
       "      <td>0</td>\n",
       "      <td>4300000.0</td>\n",
       "      <td>45.0</td>\n",
       "      <td>2018-02-01T00:00:00</td>\n",
       "      <td>2</td>\n",
       "      <td>2.50</td>\n",
       "      <td>9.0</td>\n",
       "      <td>30.0</td>\n",
       "      <td>2</td>\n",
       "      <td>True</td>\n",
       "      <td>False</td>\n",
       "      <td>False</td>\n",
       "      <td>7.00</td>\n",
       "      <td>1.0</td>\n",
       "      <td>Санкт-Петербург</td>\n",
       "      <td>12016.0</td>\n",
       "      <td>13256.0</td>\n",
       "      <td>1.0</td>\n",
       "      <td>658.0</td>\n",
       "      <td>1.0</td>\n",
       "      <td>331.0</td>\n",
       "      <td>181.0</td>\n",
       "    </tr>\n",
       "    <tr>\n",
       "      <th>5076</th>\n",
       "      <td>0</td>\n",
       "      <td>3850000.0</td>\n",
       "      <td>30.5</td>\n",
       "      <td>2018-10-03T00:00:00</td>\n",
       "      <td>1</td>\n",
       "      <td>2.40</td>\n",
       "      <td>5.0</td>\n",
       "      <td>19.5</td>\n",
       "      <td>1</td>\n",
       "      <td>True</td>\n",
       "      <td>False</td>\n",
       "      <td>False</td>\n",
       "      <td>5.50</td>\n",
       "      <td>0.0</td>\n",
       "      <td>Санкт-Петербург</td>\n",
       "      <td>29686.0</td>\n",
       "      <td>8389.0</td>\n",
       "      <td>3.0</td>\n",
       "      <td>397.0</td>\n",
       "      <td>1.0</td>\n",
       "      <td>578.0</td>\n",
       "      <td>7.0</td>\n",
       "    </tr>\n",
       "    <tr>\n",
       "      <th>5669</th>\n",
       "      <td>4</td>\n",
       "      <td>4400000.0</td>\n",
       "      <td>50.0</td>\n",
       "      <td>2017-08-08T00:00:00</td>\n",
       "      <td>2</td>\n",
       "      <td>2.60</td>\n",
       "      <td>9.0</td>\n",
       "      <td>21.3</td>\n",
       "      <td>3</td>\n",
       "      <td>True</td>\n",
       "      <td>False</td>\n",
       "      <td>False</td>\n",
       "      <td>7.00</td>\n",
       "      <td>2.0</td>\n",
       "      <td>Санкт-Петербург</td>\n",
       "      <td>28981.0</td>\n",
       "      <td>10912.0</td>\n",
       "      <td>1.0</td>\n",
       "      <td>305.0</td>\n",
       "      <td>0.0</td>\n",
       "      <td>-1.0</td>\n",
       "      <td>267.0</td>\n",
       "    </tr>\n",
       "    <tr>\n",
       "      <th>5807</th>\n",
       "      <td>17</td>\n",
       "      <td>8150000.0</td>\n",
       "      <td>80.0</td>\n",
       "      <td>2019-01-09T00:00:00</td>\n",
       "      <td>2</td>\n",
       "      <td>2.70</td>\n",
       "      <td>36.0</td>\n",
       "      <td>41.0</td>\n",
       "      <td>13</td>\n",
       "      <td>True</td>\n",
       "      <td>False</td>\n",
       "      <td>False</td>\n",
       "      <td>12.00</td>\n",
       "      <td>5.0</td>\n",
       "      <td>Санкт-Петербург</td>\n",
       "      <td>18732.0</td>\n",
       "      <td>20444.0</td>\n",
       "      <td>0.0</td>\n",
       "      <td>-1.0</td>\n",
       "      <td>3.0</td>\n",
       "      <td>80.0</td>\n",
       "      <td>38.0</td>\n",
       "    </tr>\n",
       "    <tr>\n",
       "      <th>5863</th>\n",
       "      <td>20</td>\n",
       "      <td>5650000.0</td>\n",
       "      <td>45.0</td>\n",
       "      <td>2018-08-15T00:00:00</td>\n",
       "      <td>1</td>\n",
       "      <td>2.65</td>\n",
       "      <td>16.0</td>\n",
       "      <td>19.3</td>\n",
       "      <td>14</td>\n",
       "      <td>True</td>\n",
       "      <td>False</td>\n",
       "      <td>False</td>\n",
       "      <td>8.30</td>\n",
       "      <td>1.0</td>\n",
       "      <td>Санкт-Петербург</td>\n",
       "      <td>13069.0</td>\n",
       "      <td>10763.0</td>\n",
       "      <td>0.0</td>\n",
       "      <td>-1.0</td>\n",
       "      <td>1.0</td>\n",
       "      <td>613.0</td>\n",
       "      <td>14.0</td>\n",
       "    </tr>\n",
       "    <tr>\n",
       "      <th>15061</th>\n",
       "      <td>19</td>\n",
       "      <td>5600000.0</td>\n",
       "      <td>56.4</td>\n",
       "      <td>2018-05-11T00:00:00</td>\n",
       "      <td>2</td>\n",
       "      <td>2.65</td>\n",
       "      <td>14.0</td>\n",
       "      <td>32.4</td>\n",
       "      <td>5</td>\n",
       "      <td>True</td>\n",
       "      <td>False</td>\n",
       "      <td>False</td>\n",
       "      <td>9.10</td>\n",
       "      <td>2.0</td>\n",
       "      <td>Санкт-Петербург</td>\n",
       "      <td>14814.0</td>\n",
       "      <td>13610.0</td>\n",
       "      <td>0.0</td>\n",
       "      <td>-1.0</td>\n",
       "      <td>0.0</td>\n",
       "      <td>-1.0</td>\n",
       "      <td>315.0</td>\n",
       "    </tr>\n",
       "    <tr>\n",
       "      <th>15743</th>\n",
       "      <td>14</td>\n",
       "      <td>5600000.0</td>\n",
       "      <td>67.0</td>\n",
       "      <td>2016-11-11T00:00:00</td>\n",
       "      <td>3</td>\n",
       "      <td>2.65</td>\n",
       "      <td>16.0</td>\n",
       "      <td>41.0</td>\n",
       "      <td>1</td>\n",
       "      <td>True</td>\n",
       "      <td>False</td>\n",
       "      <td>False</td>\n",
       "      <td>8.00</td>\n",
       "      <td>0.0</td>\n",
       "      <td>Санкт-Петербург</td>\n",
       "      <td>32691.0</td>\n",
       "      <td>11035.0</td>\n",
       "      <td>1.0</td>\n",
       "      <td>723.0</td>\n",
       "      <td>0.0</td>\n",
       "      <td>-1.0</td>\n",
       "      <td>474.0</td>\n",
       "    </tr>\n",
       "    <tr>\n",
       "      <th>16934</th>\n",
       "      <td>5</td>\n",
       "      <td>4100000.0</td>\n",
       "      <td>40.0</td>\n",
       "      <td>2017-10-17T00:00:00</td>\n",
       "      <td>1</td>\n",
       "      <td>2.65</td>\n",
       "      <td>37.0</td>\n",
       "      <td>17.4</td>\n",
       "      <td>5</td>\n",
       "      <td>True</td>\n",
       "      <td>False</td>\n",
       "      <td>False</td>\n",
       "      <td>8.34</td>\n",
       "      <td>0.0</td>\n",
       "      <td>Санкт-Петербург</td>\n",
       "      <td>18732.0</td>\n",
       "      <td>20444.0</td>\n",
       "      <td>0.0</td>\n",
       "      <td>-1.0</td>\n",
       "      <td>3.0</td>\n",
       "      <td>80.0</td>\n",
       "      <td>71.0</td>\n",
       "    </tr>\n",
       "    <tr>\n",
       "      <th>17442</th>\n",
       "      <td>0</td>\n",
       "      <td>5350000.0</td>\n",
       "      <td>54.0</td>\n",
       "      <td>2015-06-16T00:00:00</td>\n",
       "      <td>2</td>\n",
       "      <td>2.65</td>\n",
       "      <td>5.0</td>\n",
       "      <td>29.0</td>\n",
       "      <td>2</td>\n",
       "      <td>True</td>\n",
       "      <td>False</td>\n",
       "      <td>False</td>\n",
       "      <td>9.10</td>\n",
       "      <td>1.0</td>\n",
       "      <td>КрасноеСело</td>\n",
       "      <td>24638.0</td>\n",
       "      <td>28062.0</td>\n",
       "      <td>0.0</td>\n",
       "      <td>-1.0</td>\n",
       "      <td>0.0</td>\n",
       "      <td>-1.0</td>\n",
       "      <td>469.0</td>\n",
       "    </tr>\n",
       "    <tr>\n",
       "      <th>17857</th>\n",
       "      <td>1</td>\n",
       "      <td>3900000.0</td>\n",
       "      <td>56.0</td>\n",
       "      <td>2017-12-22T00:00:00</td>\n",
       "      <td>3</td>\n",
       "      <td>2.70</td>\n",
       "      <td>5.0</td>\n",
       "      <td>33.0</td>\n",
       "      <td>4</td>\n",
       "      <td>False</td>\n",
       "      <td>False</td>\n",
       "      <td>False</td>\n",
       "      <td>9.10</td>\n",
       "      <td>0.0</td>\n",
       "      <td>Санкт-Петербург</td>\n",
       "      <td>41030.0</td>\n",
       "      <td>15543.0</td>\n",
       "      <td>0.0</td>\n",
       "      <td>-1.0</td>\n",
       "      <td>0.0</td>\n",
       "      <td>-1.0</td>\n",
       "      <td>73.0</td>\n",
       "    </tr>\n",
       "    <tr>\n",
       "      <th>18545</th>\n",
       "      <td>6</td>\n",
       "      <td>3750000.0</td>\n",
       "      <td>43.0</td>\n",
       "      <td>2019-03-18T00:00:00</td>\n",
       "      <td>2</td>\n",
       "      <td>2.50</td>\n",
       "      <td>5.0</td>\n",
       "      <td>29.0</td>\n",
       "      <td>3</td>\n",
       "      <td>False</td>\n",
       "      <td>False</td>\n",
       "      <td>False</td>\n",
       "      <td>9.10</td>\n",
       "      <td>0.0</td>\n",
       "      <td>Санкт-Петербург</td>\n",
       "      <td>27054.0</td>\n",
       "      <td>8033.0</td>\n",
       "      <td>1.0</td>\n",
       "      <td>540.0</td>\n",
       "      <td>0.0</td>\n",
       "      <td>-1.0</td>\n",
       "      <td>12.0</td>\n",
       "    </tr>\n",
       "    <tr>\n",
       "      <th>20478</th>\n",
       "      <td>11</td>\n",
       "      <td>8000000.0</td>\n",
       "      <td>45.0</td>\n",
       "      <td>2017-07-18T00:00:00</td>\n",
       "      <td>1</td>\n",
       "      <td>2.70</td>\n",
       "      <td>4.0</td>\n",
       "      <td>22.0</td>\n",
       "      <td>2</td>\n",
       "      <td>True</td>\n",
       "      <td>False</td>\n",
       "      <td>False</td>\n",
       "      <td>10.00</td>\n",
       "      <td>1.0</td>\n",
       "      <td>Санкт-Петербург</td>\n",
       "      <td>18975.0</td>\n",
       "      <td>3246.0</td>\n",
       "      <td>0.0</td>\n",
       "      <td>-1.0</td>\n",
       "      <td>3.0</td>\n",
       "      <td>449.0</td>\n",
       "      <td>429.0</td>\n",
       "    </tr>\n",
       "    <tr>\n",
       "      <th>20507</th>\n",
       "      <td>12</td>\n",
       "      <td>5950000.0</td>\n",
       "      <td>60.0</td>\n",
       "      <td>2018-02-19T00:00:00</td>\n",
       "      <td>2</td>\n",
       "      <td>2.26</td>\n",
       "      <td>14.0</td>\n",
       "      <td>35.0</td>\n",
       "      <td>11</td>\n",
       "      <td>True</td>\n",
       "      <td>False</td>\n",
       "      <td>False</td>\n",
       "      <td>13.00</td>\n",
       "      <td>1.0</td>\n",
       "      <td>Санкт-Петербург</td>\n",
       "      <td>27028.0</td>\n",
       "      <td>12570.0</td>\n",
       "      <td>0.0</td>\n",
       "      <td>-1.0</td>\n",
       "      <td>0.0</td>\n",
       "      <td>-1.0</td>\n",
       "      <td>40.0</td>\n",
       "    </tr>\n",
       "    <tr>\n",
       "      <th>21377</th>\n",
       "      <td>19</td>\n",
       "      <td>4900000.0</td>\n",
       "      <td>42.0</td>\n",
       "      <td>2017-04-18T00:00:00</td>\n",
       "      <td>1</td>\n",
       "      <td>2.75</td>\n",
       "      <td>24.0</td>\n",
       "      <td>37.7</td>\n",
       "      <td>19</td>\n",
       "      <td>False</td>\n",
       "      <td>False</td>\n",
       "      <td>False</td>\n",
       "      <td>11.00</td>\n",
       "      <td>2.0</td>\n",
       "      <td>Санкт-Петербург</td>\n",
       "      <td>42742.0</td>\n",
       "      <td>9760.0</td>\n",
       "      <td>0.0</td>\n",
       "      <td>-1.0</td>\n",
       "      <td>0.0</td>\n",
       "      <td>-1.0</td>\n",
       "      <td>61.0</td>\n",
       "    </tr>\n",
       "    <tr>\n",
       "      <th>22309</th>\n",
       "      <td>20</td>\n",
       "      <td>5300000.0</td>\n",
       "      <td>45.0</td>\n",
       "      <td>2017-09-30T00:00:00</td>\n",
       "      <td>1</td>\n",
       "      <td>2.65</td>\n",
       "      <td>16.0</td>\n",
       "      <td>15.5</td>\n",
       "      <td>15</td>\n",
       "      <td>True</td>\n",
       "      <td>False</td>\n",
       "      <td>False</td>\n",
       "      <td>9.10</td>\n",
       "      <td>0.0</td>\n",
       "      <td>Санкт-Петербург</td>\n",
       "      <td>36353.0</td>\n",
       "      <td>11936.0</td>\n",
       "      <td>2.0</td>\n",
       "      <td>440.0</td>\n",
       "      <td>2.0</td>\n",
       "      <td>450.0</td>\n",
       "      <td>136.0</td>\n",
       "    </tr>\n",
       "    <tr>\n",
       "      <th>22590</th>\n",
       "      <td>16</td>\n",
       "      <td>6000000.0</td>\n",
       "      <td>55.0</td>\n",
       "      <td>2018-10-31T00:00:00</td>\n",
       "      <td>2</td>\n",
       "      <td>2.65</td>\n",
       "      <td>12.0</td>\n",
       "      <td>32.4</td>\n",
       "      <td>7</td>\n",
       "      <td>True</td>\n",
       "      <td>False</td>\n",
       "      <td>False</td>\n",
       "      <td>10.00</td>\n",
       "      <td>0.0</td>\n",
       "      <td>Санкт-Петербург</td>\n",
       "      <td>33053.0</td>\n",
       "      <td>14217.0</td>\n",
       "      <td>2.0</td>\n",
       "      <td>293.0</td>\n",
       "      <td>2.0</td>\n",
       "      <td>289.0</td>\n",
       "      <td>13.0</td>\n",
       "    </tr>\n",
       "    <tr>\n",
       "      <th>22869</th>\n",
       "      <td>0</td>\n",
       "      <td>15000000.0</td>\n",
       "      <td>25.0</td>\n",
       "      <td>2018-07-25T00:00:00</td>\n",
       "      <td>1</td>\n",
       "      <td>2.65</td>\n",
       "      <td>5.0</td>\n",
       "      <td>14.0</td>\n",
       "      <td>5</td>\n",
       "      <td>True</td>\n",
       "      <td>False</td>\n",
       "      <td>False</td>\n",
       "      <td>11.00</td>\n",
       "      <td>5.0</td>\n",
       "      <td>Санкт-Петербург</td>\n",
       "      <td>34963.0</td>\n",
       "      <td>8283.0</td>\n",
       "      <td>1.0</td>\n",
       "      <td>223.0</td>\n",
       "      <td>3.0</td>\n",
       "      <td>30.0</td>\n",
       "      <td>19.0</td>\n",
       "    </tr>\n",
       "  </tbody>\n",
       "</table>\n",
       "</div>"
      ],
      "text/plain": [
       "       total_images  last_price  total_area first_day_exposition  rooms  \\\n",
       "4643              0   4300000.0        45.0  2018-02-01T00:00:00      2   \n",
       "5076              0   3850000.0        30.5  2018-10-03T00:00:00      1   \n",
       "5669              4   4400000.0        50.0  2017-08-08T00:00:00      2   \n",
       "5807             17   8150000.0        80.0  2019-01-09T00:00:00      2   \n",
       "5863             20   5650000.0        45.0  2018-08-15T00:00:00      1   \n",
       "15061            19   5600000.0        56.4  2018-05-11T00:00:00      2   \n",
       "15743            14   5600000.0        67.0  2016-11-11T00:00:00      3   \n",
       "16934             5   4100000.0        40.0  2017-10-17T00:00:00      1   \n",
       "17442             0   5350000.0        54.0  2015-06-16T00:00:00      2   \n",
       "17857             1   3900000.0        56.0  2017-12-22T00:00:00      3   \n",
       "18545             6   3750000.0        43.0  2019-03-18T00:00:00      2   \n",
       "20478            11   8000000.0        45.0  2017-07-18T00:00:00      1   \n",
       "20507            12   5950000.0        60.0  2018-02-19T00:00:00      2   \n",
       "21377            19   4900000.0        42.0  2017-04-18T00:00:00      1   \n",
       "22309            20   5300000.0        45.0  2017-09-30T00:00:00      1   \n",
       "22590            16   6000000.0        55.0  2018-10-31T00:00:00      2   \n",
       "22869             0  15000000.0        25.0  2018-07-25T00:00:00      1   \n",
       "\n",
       "       ceiling_height  floors_total  living_area  floor  is_apartment  studio  \\\n",
       "4643             2.50           9.0         30.0      2          True   False   \n",
       "5076             2.40           5.0         19.5      1          True   False   \n",
       "5669             2.60           9.0         21.3      3          True   False   \n",
       "5807             2.70          36.0         41.0     13          True   False   \n",
       "5863             2.65          16.0         19.3     14          True   False   \n",
       "15061            2.65          14.0         32.4      5          True   False   \n",
       "15743            2.65          16.0         41.0      1          True   False   \n",
       "16934            2.65          37.0         17.4      5          True   False   \n",
       "17442            2.65           5.0         29.0      2          True   False   \n",
       "17857            2.70           5.0         33.0      4         False   False   \n",
       "18545            2.50           5.0         29.0      3         False   False   \n",
       "20478            2.70           4.0         22.0      2          True   False   \n",
       "20507            2.26          14.0         35.0     11          True   False   \n",
       "21377            2.75          24.0         37.7     19         False   False   \n",
       "22309            2.65          16.0         15.5     15          True   False   \n",
       "22590            2.65          12.0         32.4      7          True   False   \n",
       "22869            2.65           5.0         14.0      5          True   False   \n",
       "\n",
       "       open_plan  kitchen_area  balcony    locality_name  airports_nearest  \\\n",
       "4643       False          7.00      1.0  Санкт-Петербург           12016.0   \n",
       "5076       False          5.50      0.0  Санкт-Петербург           29686.0   \n",
       "5669       False          7.00      2.0  Санкт-Петербург           28981.0   \n",
       "5807       False         12.00      5.0  Санкт-Петербург           18732.0   \n",
       "5863       False          8.30      1.0  Санкт-Петербург           13069.0   \n",
       "15061      False          9.10      2.0  Санкт-Петербург           14814.0   \n",
       "15743      False          8.00      0.0  Санкт-Петербург           32691.0   \n",
       "16934      False          8.34      0.0  Санкт-Петербург           18732.0   \n",
       "17442      False          9.10      1.0      КрасноеСело           24638.0   \n",
       "17857      False          9.10      0.0  Санкт-Петербург           41030.0   \n",
       "18545      False          9.10      0.0  Санкт-Петербург           27054.0   \n",
       "20478      False         10.00      1.0  Санкт-Петербург           18975.0   \n",
       "20507      False         13.00      1.0  Санкт-Петербург           27028.0   \n",
       "21377      False         11.00      2.0  Санкт-Петербург           42742.0   \n",
       "22309      False          9.10      0.0  Санкт-Петербург           36353.0   \n",
       "22590      False         10.00      0.0  Санкт-Петербург           33053.0   \n",
       "22869      False         11.00      5.0  Санкт-Петербург           34963.0   \n",
       "\n",
       "       cityCenters_nearest  parks_around3000  parks_nearest  ponds_around3000  \\\n",
       "4643               13256.0               1.0          658.0               1.0   \n",
       "5076                8389.0               3.0          397.0               1.0   \n",
       "5669               10912.0               1.0          305.0               0.0   \n",
       "5807               20444.0               0.0           -1.0               3.0   \n",
       "5863               10763.0               0.0           -1.0               1.0   \n",
       "15061              13610.0               0.0           -1.0               0.0   \n",
       "15743              11035.0               1.0          723.0               0.0   \n",
       "16934              20444.0               0.0           -1.0               3.0   \n",
       "17442              28062.0               0.0           -1.0               0.0   \n",
       "17857              15543.0               0.0           -1.0               0.0   \n",
       "18545               8033.0               1.0          540.0               0.0   \n",
       "20478               3246.0               0.0           -1.0               3.0   \n",
       "20507              12570.0               0.0           -1.0               0.0   \n",
       "21377               9760.0               0.0           -1.0               0.0   \n",
       "22309              11936.0               2.0          440.0               2.0   \n",
       "22590              14217.0               2.0          293.0               2.0   \n",
       "22869               8283.0               1.0          223.0               3.0   \n",
       "\n",
       "       ponds_nearest  days_exposition  \n",
       "4643           331.0            181.0  \n",
       "5076           578.0              7.0  \n",
       "5669            -1.0            267.0  \n",
       "5807            80.0             38.0  \n",
       "5863           613.0             14.0  \n",
       "15061           -1.0            315.0  \n",
       "15743           -1.0            474.0  \n",
       "16934           80.0             71.0  \n",
       "17442           -1.0            469.0  \n",
       "17857           -1.0             73.0  \n",
       "18545           -1.0             12.0  \n",
       "20478          449.0            429.0  \n",
       "20507           -1.0             40.0  \n",
       "21377           -1.0             61.0  \n",
       "22309          450.0            136.0  \n",
       "22590          289.0             13.0  \n",
       "22869           30.0             19.0  "
      ]
     },
     "execution_count": 26,
     "metadata": {},
     "output_type": "execute_result"
    }
   ],
   "source": [
    "height_anomal = data.query('ceiling_height > 6 or ceiling_height < 2')\n",
    "def norm_height(row):    \n",
    "    if row > 10:\n",
    "        row = row/10        \n",
    "    elif row < 2:\n",
    "        row = data['ceiling_height'].median()        \n",
    "    else:\n",
    "        row = 0\n",
    "    return row\n",
    "\n",
    "height_anomal['ceiling_height'] = height_anomal['ceiling_height'].apply(norm_height)\n",
    "\n",
    "def norm_height2(row):\n",
    "    if row <2 or row >6: \n",
    "        row = data['ceiling_height'].median()\n",
    "    return row\n",
    "\n",
    "height_anomal['ceiling_height'] = height_anomal['ceiling_height'].apply(norm_height2)\n",
    "height_anomal"
   ]
  },
  {
   "cell_type": "code",
   "execution_count": 27,
   "metadata": {},
   "outputs": [],
   "source": [
    "data[(data['ceiling_height'] > 6) | (data['ceiling_height'] < 2)] = height_anomal"
   ]
  },
  {
   "cell_type": "markdown",
   "metadata": {},
   "source": [
    "Предположим, что жилая площадь квартиры может достигать 300кв м. Менее 10м жилой площади встречается крайне редко. \n",
    "Посмотрим на результаты среза по этим данным."
   ]
  },
  {
   "cell_type": "code",
   "execution_count": 28,
   "metadata": {},
   "outputs": [
    {
     "data": {
      "text/html": [
       "<div>\n",
       "<style scoped>\n",
       "    .dataframe tbody tr th:only-of-type {\n",
       "        vertical-align: middle;\n",
       "    }\n",
       "\n",
       "    .dataframe tbody tr th {\n",
       "        vertical-align: top;\n",
       "    }\n",
       "\n",
       "    .dataframe thead th {\n",
       "        text-align: right;\n",
       "    }\n",
       "</style>\n",
       "<table border=\"1\" class=\"dataframe\">\n",
       "  <thead>\n",
       "    <tr style=\"text-align: right;\">\n",
       "      <th></th>\n",
       "      <th>total_images</th>\n",
       "      <th>last_price</th>\n",
       "      <th>total_area</th>\n",
       "      <th>first_day_exposition</th>\n",
       "      <th>rooms</th>\n",
       "      <th>ceiling_height</th>\n",
       "      <th>floors_total</th>\n",
       "      <th>living_area</th>\n",
       "      <th>floor</th>\n",
       "      <th>is_apartment</th>\n",
       "      <th>studio</th>\n",
       "      <th>open_plan</th>\n",
       "      <th>kitchen_area</th>\n",
       "      <th>balcony</th>\n",
       "      <th>locality_name</th>\n",
       "      <th>airports_nearest</th>\n",
       "      <th>cityCenters_nearest</th>\n",
       "      <th>parks_around3000</th>\n",
       "      <th>parks_nearest</th>\n",
       "      <th>ponds_around3000</th>\n",
       "      <th>ponds_nearest</th>\n",
       "      <th>days_exposition</th>\n",
       "    </tr>\n",
       "  </thead>\n",
       "  <tbody>\n",
       "    <tr>\n",
       "      <th>660</th>\n",
       "      <td>3</td>\n",
       "      <td>49950000.0</td>\n",
       "      <td>483.90</td>\n",
       "      <td>2017-10-04T00:00:00</td>\n",
       "      <td>7</td>\n",
       "      <td>3.20</td>\n",
       "      <td>6.0</td>\n",
       "      <td>312.5</td>\n",
       "      <td>4</td>\n",
       "      <td>True</td>\n",
       "      <td>False</td>\n",
       "      <td>False</td>\n",
       "      <td>26.4</td>\n",
       "      <td>0.0</td>\n",
       "      <td>Санкт-Петербург</td>\n",
       "      <td>23079.0</td>\n",
       "      <td>945.0</td>\n",
       "      <td>3.0</td>\n",
       "      <td>461.0</td>\n",
       "      <td>3.0</td>\n",
       "      <td>22.0</td>\n",
       "      <td>391.0</td>\n",
       "    </tr>\n",
       "    <tr>\n",
       "      <th>680</th>\n",
       "      <td>14</td>\n",
       "      <td>7200000.0</td>\n",
       "      <td>43.00</td>\n",
       "      <td>2017-10-31T00:00:00</td>\n",
       "      <td>1</td>\n",
       "      <td>2.65</td>\n",
       "      <td>8.0</td>\n",
       "      <td>9.0</td>\n",
       "      <td>2</td>\n",
       "      <td>True</td>\n",
       "      <td>False</td>\n",
       "      <td>False</td>\n",
       "      <td>23.0</td>\n",
       "      <td>0.0</td>\n",
       "      <td>Санкт-Петербург</td>\n",
       "      <td>23900.0</td>\n",
       "      <td>5232.0</td>\n",
       "      <td>1.0</td>\n",
       "      <td>2137.0</td>\n",
       "      <td>1.0</td>\n",
       "      <td>933.0</td>\n",
       "      <td>296.0</td>\n",
       "    </tr>\n",
       "    <tr>\n",
       "      <th>1326</th>\n",
       "      <td>8</td>\n",
       "      <td>8100000.0</td>\n",
       "      <td>52.00</td>\n",
       "      <td>2017-01-29T00:00:00</td>\n",
       "      <td>2</td>\n",
       "      <td>2.70</td>\n",
       "      <td>25.0</td>\n",
       "      <td>9.0</td>\n",
       "      <td>15</td>\n",
       "      <td>True</td>\n",
       "      <td>False</td>\n",
       "      <td>False</td>\n",
       "      <td>32.0</td>\n",
       "      <td>2.0</td>\n",
       "      <td>Санкт-Петербург</td>\n",
       "      <td>35555.0</td>\n",
       "      <td>15561.0</td>\n",
       "      <td>0.0</td>\n",
       "      <td>-1.0</td>\n",
       "      <td>1.0</td>\n",
       "      <td>1180.0</td>\n",
       "      <td>337.0</td>\n",
       "    </tr>\n",
       "    <tr>\n",
       "      <th>2309</th>\n",
       "      <td>10</td>\n",
       "      <td>4200000.0</td>\n",
       "      <td>62.40</td>\n",
       "      <td>2017-06-15T00:00:00</td>\n",
       "      <td>2</td>\n",
       "      <td>2.60</td>\n",
       "      <td>9.0</td>\n",
       "      <td>8.4</td>\n",
       "      <td>6</td>\n",
       "      <td>True</td>\n",
       "      <td>False</td>\n",
       "      <td>False</td>\n",
       "      <td>41.0</td>\n",
       "      <td>2.0</td>\n",
       "      <td>Шушары</td>\n",
       "      <td>23662.0</td>\n",
       "      <td>29448.0</td>\n",
       "      <td>0.0</td>\n",
       "      <td>-1.0</td>\n",
       "      <td>0.0</td>\n",
       "      <td>-1.0</td>\n",
       "      <td>111.0</td>\n",
       "    </tr>\n",
       "    <tr>\n",
       "      <th>3242</th>\n",
       "      <td>7</td>\n",
       "      <td>4440000.0</td>\n",
       "      <td>41.00</td>\n",
       "      <td>2017-07-02T00:00:00</td>\n",
       "      <td>1</td>\n",
       "      <td>2.65</td>\n",
       "      <td>17.0</td>\n",
       "      <td>3.0</td>\n",
       "      <td>17</td>\n",
       "      <td>True</td>\n",
       "      <td>False</td>\n",
       "      <td>False</td>\n",
       "      <td>11.0</td>\n",
       "      <td>0.0</td>\n",
       "      <td>Санкт-Петербург</td>\n",
       "      <td>19272.0</td>\n",
       "      <td>13073.0</td>\n",
       "      <td>0.0</td>\n",
       "      <td>-1.0</td>\n",
       "      <td>0.0</td>\n",
       "      <td>-1.0</td>\n",
       "      <td>216.0</td>\n",
       "    </tr>\n",
       "    <tr>\n",
       "      <th>4100</th>\n",
       "      <td>17</td>\n",
       "      <td>5300000.0</td>\n",
       "      <td>34.80</td>\n",
       "      <td>2017-06-19T00:00:00</td>\n",
       "      <td>1</td>\n",
       "      <td>2.70</td>\n",
       "      <td>23.0</td>\n",
       "      <td>9.0</td>\n",
       "      <td>15</td>\n",
       "      <td>True</td>\n",
       "      <td>False</td>\n",
       "      <td>False</td>\n",
       "      <td>17.1</td>\n",
       "      <td>0.0</td>\n",
       "      <td>Санкт-Петербург</td>\n",
       "      <td>33626.0</td>\n",
       "      <td>13495.0</td>\n",
       "      <td>0.0</td>\n",
       "      <td>-1.0</td>\n",
       "      <td>0.0</td>\n",
       "      <td>-1.0</td>\n",
       "      <td>30.0</td>\n",
       "    </tr>\n",
       "    <tr>\n",
       "      <th>4542</th>\n",
       "      <td>12</td>\n",
       "      <td>3300000.0</td>\n",
       "      <td>18.00</td>\n",
       "      <td>2018-11-07T00:00:00</td>\n",
       "      <td>1</td>\n",
       "      <td>3.50</td>\n",
       "      <td>5.0</td>\n",
       "      <td>9.0</td>\n",
       "      <td>2</td>\n",
       "      <td>True</td>\n",
       "      <td>False</td>\n",
       "      <td>False</td>\n",
       "      <td>9.1</td>\n",
       "      <td>0.0</td>\n",
       "      <td>Санкт-Петербург</td>\n",
       "      <td>25157.0</td>\n",
       "      <td>4948.0</td>\n",
       "      <td>2.0</td>\n",
       "      <td>349.0</td>\n",
       "      <td>1.0</td>\n",
       "      <td>963.0</td>\n",
       "      <td>9.0</td>\n",
       "    </tr>\n",
       "    <tr>\n",
       "      <th>5358</th>\n",
       "      <td>20</td>\n",
       "      <td>65000000.0</td>\n",
       "      <td>590.00</td>\n",
       "      <td>2019-02-14T00:00:00</td>\n",
       "      <td>15</td>\n",
       "      <td>3.50</td>\n",
       "      <td>6.0</td>\n",
       "      <td>409.0</td>\n",
       "      <td>3</td>\n",
       "      <td>True</td>\n",
       "      <td>False</td>\n",
       "      <td>False</td>\n",
       "      <td>100.0</td>\n",
       "      <td>0.0</td>\n",
       "      <td>Санкт-Петербург</td>\n",
       "      <td>24447.0</td>\n",
       "      <td>4666.0</td>\n",
       "      <td>1.0</td>\n",
       "      <td>767.0</td>\n",
       "      <td>0.0</td>\n",
       "      <td>-1.0</td>\n",
       "      <td>14.0</td>\n",
       "    </tr>\n",
       "    <tr>\n",
       "      <th>8325</th>\n",
       "      <td>9</td>\n",
       "      <td>4800000.0</td>\n",
       "      <td>52.00</td>\n",
       "      <td>2017-10-25T00:00:00</td>\n",
       "      <td>2</td>\n",
       "      <td>2.65</td>\n",
       "      <td>5.0</td>\n",
       "      <td>9.0</td>\n",
       "      <td>2</td>\n",
       "      <td>True</td>\n",
       "      <td>False</td>\n",
       "      <td>False</td>\n",
       "      <td>6.0</td>\n",
       "      <td>1.0</td>\n",
       "      <td>Санкт-Петербург</td>\n",
       "      <td>33358.0</td>\n",
       "      <td>13171.0</td>\n",
       "      <td>0.0</td>\n",
       "      <td>-1.0</td>\n",
       "      <td>2.0</td>\n",
       "      <td>118.0</td>\n",
       "      <td>119.0</td>\n",
       "    </tr>\n",
       "    <tr>\n",
       "      <th>13915</th>\n",
       "      <td>20</td>\n",
       "      <td>6350000.0</td>\n",
       "      <td>52.00</td>\n",
       "      <td>2018-02-06T00:00:00</td>\n",
       "      <td>2</td>\n",
       "      <td>3.00</td>\n",
       "      <td>6.0</td>\n",
       "      <td>2.0</td>\n",
       "      <td>2</td>\n",
       "      <td>True</td>\n",
       "      <td>False</td>\n",
       "      <td>False</td>\n",
       "      <td>9.0</td>\n",
       "      <td>0.0</td>\n",
       "      <td>Санкт-Петербург</td>\n",
       "      <td>32453.0</td>\n",
       "      <td>6521.0</td>\n",
       "      <td>0.0</td>\n",
       "      <td>-1.0</td>\n",
       "      <td>1.0</td>\n",
       "      <td>1012.0</td>\n",
       "      <td>91.0</td>\n",
       "    </tr>\n",
       "    <tr>\n",
       "      <th>15833</th>\n",
       "      <td>20</td>\n",
       "      <td>4600000.0</td>\n",
       "      <td>33.00</td>\n",
       "      <td>2017-01-01T00:00:00</td>\n",
       "      <td>1</td>\n",
       "      <td>2.70</td>\n",
       "      <td>22.0</td>\n",
       "      <td>9.0</td>\n",
       "      <td>12</td>\n",
       "      <td>True</td>\n",
       "      <td>False</td>\n",
       "      <td>False</td>\n",
       "      <td>14.3</td>\n",
       "      <td>1.0</td>\n",
       "      <td>Санкт-Петербург</td>\n",
       "      <td>33803.0</td>\n",
       "      <td>13671.0</td>\n",
       "      <td>0.0</td>\n",
       "      <td>-1.0</td>\n",
       "      <td>0.0</td>\n",
       "      <td>-1.0</td>\n",
       "      <td>511.0</td>\n",
       "    </tr>\n",
       "    <tr>\n",
       "      <th>16431</th>\n",
       "      <td>13</td>\n",
       "      <td>3799000.0</td>\n",
       "      <td>31.00</td>\n",
       "      <td>2018-04-12T00:00:00</td>\n",
       "      <td>1</td>\n",
       "      <td>2.60</td>\n",
       "      <td>5.0</td>\n",
       "      <td>6.0</td>\n",
       "      <td>1</td>\n",
       "      <td>True</td>\n",
       "      <td>False</td>\n",
       "      <td>False</td>\n",
       "      <td>17.0</td>\n",
       "      <td>0.0</td>\n",
       "      <td>Санкт-Петербург</td>\n",
       "      <td>32177.0</td>\n",
       "      <td>4826.0</td>\n",
       "      <td>1.0</td>\n",
       "      <td>430.0</td>\n",
       "      <td>0.0</td>\n",
       "      <td>-1.0</td>\n",
       "      <td>168.0</td>\n",
       "    </tr>\n",
       "    <tr>\n",
       "      <th>17248</th>\n",
       "      <td>20</td>\n",
       "      <td>5300000.0</td>\n",
       "      <td>33.00</td>\n",
       "      <td>2017-04-14T00:00:00</td>\n",
       "      <td>1</td>\n",
       "      <td>2.70</td>\n",
       "      <td>22.0</td>\n",
       "      <td>8.9</td>\n",
       "      <td>16</td>\n",
       "      <td>True</td>\n",
       "      <td>False</td>\n",
       "      <td>False</td>\n",
       "      <td>16.1</td>\n",
       "      <td>1.0</td>\n",
       "      <td>Санкт-Петербург</td>\n",
       "      <td>33803.0</td>\n",
       "      <td>13671.0</td>\n",
       "      <td>0.0</td>\n",
       "      <td>-1.0</td>\n",
       "      <td>0.0</td>\n",
       "      <td>-1.0</td>\n",
       "      <td>216.0</td>\n",
       "    </tr>\n",
       "    <tr>\n",
       "      <th>17582</th>\n",
       "      <td>11</td>\n",
       "      <td>2680000.0</td>\n",
       "      <td>22.00</td>\n",
       "      <td>2018-08-11T00:00:00</td>\n",
       "      <td>0</td>\n",
       "      <td>2.65</td>\n",
       "      <td>25.0</td>\n",
       "      <td>5.0</td>\n",
       "      <td>8</td>\n",
       "      <td>True</td>\n",
       "      <td>True</td>\n",
       "      <td>False</td>\n",
       "      <td>9.1</td>\n",
       "      <td>2.0</td>\n",
       "      <td>Санкт-Петербург</td>\n",
       "      <td>22735.0</td>\n",
       "      <td>11618.0</td>\n",
       "      <td>1.0</td>\n",
       "      <td>835.0</td>\n",
       "      <td>1.0</td>\n",
       "      <td>652.0</td>\n",
       "      <td>70.0</td>\n",
       "    </tr>\n",
       "    <tr>\n",
       "      <th>19251</th>\n",
       "      <td>19</td>\n",
       "      <td>4050000.0</td>\n",
       "      <td>33.00</td>\n",
       "      <td>2018-10-15T00:00:00</td>\n",
       "      <td>1</td>\n",
       "      <td>2.50</td>\n",
       "      <td>22.0</td>\n",
       "      <td>6.5</td>\n",
       "      <td>21</td>\n",
       "      <td>True</td>\n",
       "      <td>False</td>\n",
       "      <td>False</td>\n",
       "      <td>18.0</td>\n",
       "      <td>0.0</td>\n",
       "      <td>Санкт-Петербург</td>\n",
       "      <td>9258.0</td>\n",
       "      <td>10592.0</td>\n",
       "      <td>1.0</td>\n",
       "      <td>458.0</td>\n",
       "      <td>0.0</td>\n",
       "      <td>-1.0</td>\n",
       "      <td>44.0</td>\n",
       "    </tr>\n",
       "    <tr>\n",
       "      <th>19540</th>\n",
       "      <td>8</td>\n",
       "      <td>420000000.0</td>\n",
       "      <td>900.00</td>\n",
       "      <td>2017-12-06T00:00:00</td>\n",
       "      <td>12</td>\n",
       "      <td>2.80</td>\n",
       "      <td>25.0</td>\n",
       "      <td>409.7</td>\n",
       "      <td>25</td>\n",
       "      <td>True</td>\n",
       "      <td>False</td>\n",
       "      <td>False</td>\n",
       "      <td>112.0</td>\n",
       "      <td>0.0</td>\n",
       "      <td>Санкт-Петербург</td>\n",
       "      <td>30706.0</td>\n",
       "      <td>7877.0</td>\n",
       "      <td>0.0</td>\n",
       "      <td>-1.0</td>\n",
       "      <td>2.0</td>\n",
       "      <td>318.0</td>\n",
       "      <td>106.0</td>\n",
       "    </tr>\n",
       "    <tr>\n",
       "      <th>19620</th>\n",
       "      <td>10</td>\n",
       "      <td>4300000.0</td>\n",
       "      <td>33.00</td>\n",
       "      <td>2018-02-01T00:00:00</td>\n",
       "      <td>1</td>\n",
       "      <td>2.65</td>\n",
       "      <td>5.0</td>\n",
       "      <td>9.0</td>\n",
       "      <td>1</td>\n",
       "      <td>True</td>\n",
       "      <td>False</td>\n",
       "      <td>False</td>\n",
       "      <td>17.0</td>\n",
       "      <td>0.0</td>\n",
       "      <td>Санкт-Петербург</td>\n",
       "      <td>22525.0</td>\n",
       "      <td>2976.0</td>\n",
       "      <td>2.0</td>\n",
       "      <td>251.0</td>\n",
       "      <td>3.0</td>\n",
       "      <td>220.0</td>\n",
       "      <td>86.0</td>\n",
       "    </tr>\n",
       "    <tr>\n",
       "      <th>21505</th>\n",
       "      <td>9</td>\n",
       "      <td>4100000.0</td>\n",
       "      <td>35.30</td>\n",
       "      <td>2018-01-10T00:00:00</td>\n",
       "      <td>1</td>\n",
       "      <td>2.75</td>\n",
       "      <td>27.0</td>\n",
       "      <td>8.5</td>\n",
       "      <td>11</td>\n",
       "      <td>True</td>\n",
       "      <td>False</td>\n",
       "      <td>False</td>\n",
       "      <td>16.1</td>\n",
       "      <td>2.0</td>\n",
       "      <td>Санкт-Петербург</td>\n",
       "      <td>33977.0</td>\n",
       "      <td>15076.0</td>\n",
       "      <td>0.0</td>\n",
       "      <td>-1.0</td>\n",
       "      <td>0.0</td>\n",
       "      <td>-1.0</td>\n",
       "      <td>60.0</td>\n",
       "    </tr>\n",
       "    <tr>\n",
       "      <th>21908</th>\n",
       "      <td>9</td>\n",
       "      <td>5300000.0</td>\n",
       "      <td>46.30</td>\n",
       "      <td>2018-03-20T00:00:00</td>\n",
       "      <td>1</td>\n",
       "      <td>2.75</td>\n",
       "      <td>7.0</td>\n",
       "      <td>9.8</td>\n",
       "      <td>3</td>\n",
       "      <td>True</td>\n",
       "      <td>False</td>\n",
       "      <td>False</td>\n",
       "      <td>26.0</td>\n",
       "      <td>0.0</td>\n",
       "      <td>Сестрорецк</td>\n",
       "      <td>55422.0</td>\n",
       "      <td>32352.0</td>\n",
       "      <td>0.0</td>\n",
       "      <td>-1.0</td>\n",
       "      <td>1.0</td>\n",
       "      <td>1144.0</td>\n",
       "      <td>36.0</td>\n",
       "    </tr>\n",
       "    <tr>\n",
       "      <th>21943</th>\n",
       "      <td>15</td>\n",
       "      <td>6100000.0</td>\n",
       "      <td>77.60</td>\n",
       "      <td>2019-02-28T00:00:00</td>\n",
       "      <td>4</td>\n",
       "      <td>2.50</td>\n",
       "      <td>9.0</td>\n",
       "      <td>5.4</td>\n",
       "      <td>1</td>\n",
       "      <td>True</td>\n",
       "      <td>False</td>\n",
       "      <td>False</td>\n",
       "      <td>9.8</td>\n",
       "      <td>0.0</td>\n",
       "      <td>Санкт-Петербург</td>\n",
       "      <td>29338.0</td>\n",
       "      <td>11270.0</td>\n",
       "      <td>1.0</td>\n",
       "      <td>584.0</td>\n",
       "      <td>0.0</td>\n",
       "      <td>-1.0</td>\n",
       "      <td>33.0</td>\n",
       "    </tr>\n",
       "    <tr>\n",
       "      <th>22252</th>\n",
       "      <td>4</td>\n",
       "      <td>3340000.0</td>\n",
       "      <td>37.40</td>\n",
       "      <td>2018-02-08T00:00:00</td>\n",
       "      <td>1</td>\n",
       "      <td>2.80</td>\n",
       "      <td>8.0</td>\n",
       "      <td>9.0</td>\n",
       "      <td>4</td>\n",
       "      <td>True</td>\n",
       "      <td>False</td>\n",
       "      <td>False</td>\n",
       "      <td>19.0</td>\n",
       "      <td>2.0</td>\n",
       "      <td>Санкт-Петербург</td>\n",
       "      <td>19523.0</td>\n",
       "      <td>18525.0</td>\n",
       "      <td>1.0</td>\n",
       "      <td>365.0</td>\n",
       "      <td>0.0</td>\n",
       "      <td>-1.0</td>\n",
       "      <td>233.0</td>\n",
       "    </tr>\n",
       "    <tr>\n",
       "      <th>22473</th>\n",
       "      <td>0</td>\n",
       "      <td>3490304.0</td>\n",
       "      <td>33.26</td>\n",
       "      <td>2015-12-22T00:00:00</td>\n",
       "      <td>2</td>\n",
       "      <td>2.65</td>\n",
       "      <td>13.0</td>\n",
       "      <td>9.1</td>\n",
       "      <td>9</td>\n",
       "      <td>True</td>\n",
       "      <td>False</td>\n",
       "      <td>False</td>\n",
       "      <td>16.4</td>\n",
       "      <td>0.0</td>\n",
       "      <td>Санкт-Петербург</td>\n",
       "      <td>33626.0</td>\n",
       "      <td>13495.0</td>\n",
       "      <td>0.0</td>\n",
       "      <td>-1.0</td>\n",
       "      <td>0.0</td>\n",
       "      <td>-1.0</td>\n",
       "      <td>199.0</td>\n",
       "    </tr>\n",
       "    <tr>\n",
       "      <th>23208</th>\n",
       "      <td>12</td>\n",
       "      <td>4800000.0</td>\n",
       "      <td>37.00</td>\n",
       "      <td>2016-02-24T00:00:00</td>\n",
       "      <td>1</td>\n",
       "      <td>2.65</td>\n",
       "      <td>14.0</td>\n",
       "      <td>8.0</td>\n",
       "      <td>11</td>\n",
       "      <td>True</td>\n",
       "      <td>False</td>\n",
       "      <td>False</td>\n",
       "      <td>22.0</td>\n",
       "      <td>0.0</td>\n",
       "      <td>Санкт-Петербург</td>\n",
       "      <td>27838.0</td>\n",
       "      <td>12387.0</td>\n",
       "      <td>2.0</td>\n",
       "      <td>358.0</td>\n",
       "      <td>1.0</td>\n",
       "      <td>950.0</td>\n",
       "      <td>139.0</td>\n",
       "    </tr>\n",
       "    <tr>\n",
       "      <th>23574</th>\n",
       "      <td>14</td>\n",
       "      <td>64990000.0</td>\n",
       "      <td>139.00</td>\n",
       "      <td>2015-11-24T00:00:00</td>\n",
       "      <td>3</td>\n",
       "      <td>3.00</td>\n",
       "      <td>8.0</td>\n",
       "      <td>3.0</td>\n",
       "      <td>8</td>\n",
       "      <td>True</td>\n",
       "      <td>False</td>\n",
       "      <td>False</td>\n",
       "      <td>16.0</td>\n",
       "      <td>1.0</td>\n",
       "      <td>Санкт-Петербург</td>\n",
       "      <td>33255.0</td>\n",
       "      <td>5975.0</td>\n",
       "      <td>1.0</td>\n",
       "      <td>630.0</td>\n",
       "      <td>3.0</td>\n",
       "      <td>100.0</td>\n",
       "      <td>280.0</td>\n",
       "    </tr>\n",
       "  </tbody>\n",
       "</table>\n",
       "</div>"
      ],
      "text/plain": [
       "       total_images   last_price  total_area first_day_exposition  rooms  \\\n",
       "660               3   49950000.0      483.90  2017-10-04T00:00:00      7   \n",
       "680              14    7200000.0       43.00  2017-10-31T00:00:00      1   \n",
       "1326              8    8100000.0       52.00  2017-01-29T00:00:00      2   \n",
       "2309             10    4200000.0       62.40  2017-06-15T00:00:00      2   \n",
       "3242              7    4440000.0       41.00  2017-07-02T00:00:00      1   \n",
       "4100             17    5300000.0       34.80  2017-06-19T00:00:00      1   \n",
       "4542             12    3300000.0       18.00  2018-11-07T00:00:00      1   \n",
       "5358             20   65000000.0      590.00  2019-02-14T00:00:00     15   \n",
       "8325              9    4800000.0       52.00  2017-10-25T00:00:00      2   \n",
       "13915            20    6350000.0       52.00  2018-02-06T00:00:00      2   \n",
       "15833            20    4600000.0       33.00  2017-01-01T00:00:00      1   \n",
       "16431            13    3799000.0       31.00  2018-04-12T00:00:00      1   \n",
       "17248            20    5300000.0       33.00  2017-04-14T00:00:00      1   \n",
       "17582            11    2680000.0       22.00  2018-08-11T00:00:00      0   \n",
       "19251            19    4050000.0       33.00  2018-10-15T00:00:00      1   \n",
       "19540             8  420000000.0      900.00  2017-12-06T00:00:00     12   \n",
       "19620            10    4300000.0       33.00  2018-02-01T00:00:00      1   \n",
       "21505             9    4100000.0       35.30  2018-01-10T00:00:00      1   \n",
       "21908             9    5300000.0       46.30  2018-03-20T00:00:00      1   \n",
       "21943            15    6100000.0       77.60  2019-02-28T00:00:00      4   \n",
       "22252             4    3340000.0       37.40  2018-02-08T00:00:00      1   \n",
       "22473             0    3490304.0       33.26  2015-12-22T00:00:00      2   \n",
       "23208            12    4800000.0       37.00  2016-02-24T00:00:00      1   \n",
       "23574            14   64990000.0      139.00  2015-11-24T00:00:00      3   \n",
       "\n",
       "       ceiling_height  floors_total  living_area  floor  is_apartment  studio  \\\n",
       "660              3.20           6.0        312.5      4          True   False   \n",
       "680              2.65           8.0          9.0      2          True   False   \n",
       "1326             2.70          25.0          9.0     15          True   False   \n",
       "2309             2.60           9.0          8.4      6          True   False   \n",
       "3242             2.65          17.0          3.0     17          True   False   \n",
       "4100             2.70          23.0          9.0     15          True   False   \n",
       "4542             3.50           5.0          9.0      2          True   False   \n",
       "5358             3.50           6.0        409.0      3          True   False   \n",
       "8325             2.65           5.0          9.0      2          True   False   \n",
       "13915            3.00           6.0          2.0      2          True   False   \n",
       "15833            2.70          22.0          9.0     12          True   False   \n",
       "16431            2.60           5.0          6.0      1          True   False   \n",
       "17248            2.70          22.0          8.9     16          True   False   \n",
       "17582            2.65          25.0          5.0      8          True    True   \n",
       "19251            2.50          22.0          6.5     21          True   False   \n",
       "19540            2.80          25.0        409.7     25          True   False   \n",
       "19620            2.65           5.0          9.0      1          True   False   \n",
       "21505            2.75          27.0          8.5     11          True   False   \n",
       "21908            2.75           7.0          9.8      3          True   False   \n",
       "21943            2.50           9.0          5.4      1          True   False   \n",
       "22252            2.80           8.0          9.0      4          True   False   \n",
       "22473            2.65          13.0          9.1      9          True   False   \n",
       "23208            2.65          14.0          8.0     11          True   False   \n",
       "23574            3.00           8.0          3.0      8          True   False   \n",
       "\n",
       "       open_plan  kitchen_area  balcony    locality_name  airports_nearest  \\\n",
       "660        False          26.4      0.0  Санкт-Петербург           23079.0   \n",
       "680        False          23.0      0.0  Санкт-Петербург           23900.0   \n",
       "1326       False          32.0      2.0  Санкт-Петербург           35555.0   \n",
       "2309       False          41.0      2.0           Шушары           23662.0   \n",
       "3242       False          11.0      0.0  Санкт-Петербург           19272.0   \n",
       "4100       False          17.1      0.0  Санкт-Петербург           33626.0   \n",
       "4542       False           9.1      0.0  Санкт-Петербург           25157.0   \n",
       "5358       False         100.0      0.0  Санкт-Петербург           24447.0   \n",
       "8325       False           6.0      1.0  Санкт-Петербург           33358.0   \n",
       "13915      False           9.0      0.0  Санкт-Петербург           32453.0   \n",
       "15833      False          14.3      1.0  Санкт-Петербург           33803.0   \n",
       "16431      False          17.0      0.0  Санкт-Петербург           32177.0   \n",
       "17248      False          16.1      1.0  Санкт-Петербург           33803.0   \n",
       "17582      False           9.1      2.0  Санкт-Петербург           22735.0   \n",
       "19251      False          18.0      0.0  Санкт-Петербург            9258.0   \n",
       "19540      False         112.0      0.0  Санкт-Петербург           30706.0   \n",
       "19620      False          17.0      0.0  Санкт-Петербург           22525.0   \n",
       "21505      False          16.1      2.0  Санкт-Петербург           33977.0   \n",
       "21908      False          26.0      0.0       Сестрорецк           55422.0   \n",
       "21943      False           9.8      0.0  Санкт-Петербург           29338.0   \n",
       "22252      False          19.0      2.0  Санкт-Петербург           19523.0   \n",
       "22473      False          16.4      0.0  Санкт-Петербург           33626.0   \n",
       "23208      False          22.0      0.0  Санкт-Петербург           27838.0   \n",
       "23574      False          16.0      1.0  Санкт-Петербург           33255.0   \n",
       "\n",
       "       cityCenters_nearest  parks_around3000  parks_nearest  ponds_around3000  \\\n",
       "660                  945.0               3.0          461.0               3.0   \n",
       "680                 5232.0               1.0         2137.0               1.0   \n",
       "1326               15561.0               0.0           -1.0               1.0   \n",
       "2309               29448.0               0.0           -1.0               0.0   \n",
       "3242               13073.0               0.0           -1.0               0.0   \n",
       "4100               13495.0               0.0           -1.0               0.0   \n",
       "4542                4948.0               2.0          349.0               1.0   \n",
       "5358                4666.0               1.0          767.0               0.0   \n",
       "8325               13171.0               0.0           -1.0               2.0   \n",
       "13915               6521.0               0.0           -1.0               1.0   \n",
       "15833              13671.0               0.0           -1.0               0.0   \n",
       "16431               4826.0               1.0          430.0               0.0   \n",
       "17248              13671.0               0.0           -1.0               0.0   \n",
       "17582              11618.0               1.0          835.0               1.0   \n",
       "19251              10592.0               1.0          458.0               0.0   \n",
       "19540               7877.0               0.0           -1.0               2.0   \n",
       "19620               2976.0               2.0          251.0               3.0   \n",
       "21505              15076.0               0.0           -1.0               0.0   \n",
       "21908              32352.0               0.0           -1.0               1.0   \n",
       "21943              11270.0               1.0          584.0               0.0   \n",
       "22252              18525.0               1.0          365.0               0.0   \n",
       "22473              13495.0               0.0           -1.0               0.0   \n",
       "23208              12387.0               2.0          358.0               1.0   \n",
       "23574               5975.0               1.0          630.0               3.0   \n",
       "\n",
       "       ponds_nearest  days_exposition  \n",
       "660             22.0            391.0  \n",
       "680            933.0            296.0  \n",
       "1326          1180.0            337.0  \n",
       "2309            -1.0            111.0  \n",
       "3242            -1.0            216.0  \n",
       "4100            -1.0             30.0  \n",
       "4542           963.0              9.0  \n",
       "5358            -1.0             14.0  \n",
       "8325           118.0            119.0  \n",
       "13915         1012.0             91.0  \n",
       "15833           -1.0            511.0  \n",
       "16431           -1.0            168.0  \n",
       "17248           -1.0            216.0  \n",
       "17582          652.0             70.0  \n",
       "19251           -1.0             44.0  \n",
       "19540          318.0            106.0  \n",
       "19620          220.0             86.0  \n",
       "21505           -1.0             60.0  \n",
       "21908         1144.0             36.0  \n",
       "21943           -1.0             33.0  \n",
       "22252           -1.0            233.0  \n",
       "22473           -1.0            199.0  \n",
       "23208          950.0            139.0  \n",
       "23574          100.0            280.0  "
      ]
     },
     "execution_count": 28,
     "metadata": {},
     "output_type": "execute_result"
    }
   ],
   "source": [
    "living_area_anomal = data.query('living_area > 300 or living_area < 10')\n",
    "living_area_anomal"
   ]
  },
  {
   "cell_type": "markdown",
   "metadata": {},
   "source": [
    "Очень большие площади жилого пространства встречаются только в аппартаментах за приличную цену с большим количеством комнат. Это похоже на правду. Но вот 2 жилых квадратных метра и 9 кухонных - на правду не похоже. Заменим слишком низкие значения медианными."
   ]
  },
  {
   "cell_type": "code",
   "execution_count": 29,
   "metadata": {},
   "outputs": [],
   "source": [
    "def norm_living_area(row):\n",
    "    if row <10: \n",
    "        row = data['living_area'].median()  \n",
    "    return row\n",
    "living_area_anomal['living_area'] = living_area_anomal['living_area'].apply(norm_living_area)\n",
    "\n",
    "data[(data['living_area'] > 300) | (data['living_area'] < 10)] = living_area_anomal"
   ]
  },
  {
   "cell_type": "markdown",
   "metadata": {},
   "source": [
    "Аналогичную операцию проделаем с площадью кухни. Кухни площадью менее 4 квадратных метров обычно не встречаются, ведь меньше могут быть только ванная комната и туалет. Также как и кухни площадью более 50 квадратных метров - тоже редкость."
   ]
  },
  {
   "cell_type": "code",
   "execution_count": 30,
   "metadata": {},
   "outputs": [],
   "source": [
    "kitchen_area_anomal = data.query('kitchen_area > 50 or kitchen_area < 4')\n",
    "def norm_kitchen_area(row):\n",
    "    if row >50: \n",
    "        row = data['kitchen_area'].median()\n",
    "    elif row < 4:\n",
    "        row = data['kitchen_area'].median()    \n",
    "    return row\n",
    "kitchen_area_anomal['kitchen_area'] = kitchen_area_anomal['kitchen_area'].apply(norm_kitchen_area)\n",
    "\n",
    "data[(data['kitchen_area'] > 50) | (data['kitchen_area'] < 4)] = kitchen_area_anomal"
   ]
  },
  {
   "cell_type": "markdown",
   "metadata": {},
   "source": [
    "Осталось исключить аномальные значения в выборках, дабы избежать некорректного отображения информации."
   ]
  },
  {
   "cell_type": "code",
   "execution_count": 31,
   "metadata": {},
   "outputs": [
    {
     "data": {
      "text/html": [
       "<div>\n",
       "<style scoped>\n",
       "    .dataframe tbody tr th:only-of-type {\n",
       "        vertical-align: middle;\n",
       "    }\n",
       "\n",
       "    .dataframe tbody tr th {\n",
       "        vertical-align: top;\n",
       "    }\n",
       "\n",
       "    .dataframe thead th {\n",
       "        text-align: right;\n",
       "    }\n",
       "</style>\n",
       "<table border=\"1\" class=\"dataframe\">\n",
       "  <thead>\n",
       "    <tr style=\"text-align: right;\">\n",
       "      <th></th>\n",
       "      <th>total_images</th>\n",
       "      <th>last_price</th>\n",
       "      <th>total_area</th>\n",
       "      <th>rooms</th>\n",
       "      <th>ceiling_height</th>\n",
       "      <th>floors_total</th>\n",
       "      <th>living_area</th>\n",
       "      <th>floor</th>\n",
       "      <th>kitchen_area</th>\n",
       "      <th>balcony</th>\n",
       "      <th>airports_nearest</th>\n",
       "      <th>cityCenters_nearest</th>\n",
       "      <th>parks_around3000</th>\n",
       "      <th>parks_nearest</th>\n",
       "      <th>ponds_around3000</th>\n",
       "      <th>ponds_nearest</th>\n",
       "      <th>days_exposition</th>\n",
       "    </tr>\n",
       "  </thead>\n",
       "  <tbody>\n",
       "    <tr>\n",
       "      <th>count</th>\n",
       "      <td>15802.000000</td>\n",
       "      <td>1.445700e+04</td>\n",
       "      <td>14960.000000</td>\n",
       "      <td>15669.000000</td>\n",
       "      <td>13698.000000</td>\n",
       "      <td>15802.000000</td>\n",
       "      <td>15200.000000</td>\n",
       "      <td>15802.000000</td>\n",
       "      <td>14890.000000</td>\n",
       "      <td>15802.000000</td>\n",
       "      <td>15802.000000</td>\n",
       "      <td>15802.000000</td>\n",
       "      <td>15802.000000</td>\n",
       "      <td>15802.000000</td>\n",
       "      <td>15802.000000</td>\n",
       "      <td>15802.000000</td>\n",
       "      <td>14496.000000</td>\n",
       "    </tr>\n",
       "    <tr>\n",
       "      <th>mean</th>\n",
       "      <td>9.777180</td>\n",
       "      <td>5.419840e+06</td>\n",
       "      <td>55.273024</td>\n",
       "      <td>2.046716</td>\n",
       "      <td>2.633371</td>\n",
       "      <td>11.276294</td>\n",
       "      <td>31.611449</td>\n",
       "      <td>6.197317</td>\n",
       "      <td>9.527195</td>\n",
       "      <td>0.586255</td>\n",
       "      <td>28851.409822</td>\n",
       "      <td>14305.558917</td>\n",
       "      <td>0.599924</td>\n",
       "      <td>213.911087</td>\n",
       "      <td>0.760284</td>\n",
       "      <td>258.429186</td>\n",
       "      <td>128.757450</td>\n",
       "    </tr>\n",
       "    <tr>\n",
       "      <th>std</th>\n",
       "      <td>5.716741</td>\n",
       "      <td>2.145017e+06</td>\n",
       "      <td>20.002269</td>\n",
       "      <td>0.984621</td>\n",
       "      <td>0.080744</td>\n",
       "      <td>6.564320</td>\n",
       "      <td>13.377142</td>\n",
       "      <td>4.982996</td>\n",
       "      <td>2.925524</td>\n",
       "      <td>0.954272</td>\n",
       "      <td>12714.190423</td>\n",
       "      <td>8561.112040</td>\n",
       "      <td>0.797468</td>\n",
       "      <td>334.459714</td>\n",
       "      <td>0.931077</td>\n",
       "      <td>325.901654</td>\n",
       "      <td>122.081807</td>\n",
       "    </tr>\n",
       "    <tr>\n",
       "      <th>min</th>\n",
       "      <td>0.000000</td>\n",
       "      <td>1.219000e+04</td>\n",
       "      <td>12.000000</td>\n",
       "      <td>0.000000</td>\n",
       "      <td>2.460000</td>\n",
       "      <td>1.000000</td>\n",
       "      <td>10.000000</td>\n",
       "      <td>1.000000</td>\n",
       "      <td>4.000000</td>\n",
       "      <td>0.000000</td>\n",
       "      <td>0.000000</td>\n",
       "      <td>208.000000</td>\n",
       "      <td>0.000000</td>\n",
       "      <td>-1.000000</td>\n",
       "      <td>0.000000</td>\n",
       "      <td>-1.000000</td>\n",
       "      <td>1.000000</td>\n",
       "    </tr>\n",
       "    <tr>\n",
       "      <th>25%</th>\n",
       "      <td>6.000000</td>\n",
       "      <td>3.850000e+06</td>\n",
       "      <td>40.000000</td>\n",
       "      <td>1.000000</td>\n",
       "      <td>2.600000</td>\n",
       "      <td>5.000000</td>\n",
       "      <td>19.000000</td>\n",
       "      <td>3.000000</td>\n",
       "      <td>7.100000</td>\n",
       "      <td>0.000000</td>\n",
       "      <td>18496.000000</td>\n",
       "      <td>9488.000000</td>\n",
       "      <td>0.000000</td>\n",
       "      <td>-1.000000</td>\n",
       "      <td>0.000000</td>\n",
       "      <td>-1.000000</td>\n",
       "      <td>38.000000</td>\n",
       "    </tr>\n",
       "    <tr>\n",
       "      <th>50%</th>\n",
       "      <td>9.000000</td>\n",
       "      <td>4.850000e+06</td>\n",
       "      <td>50.800000</td>\n",
       "      <td>2.000000</td>\n",
       "      <td>2.650000</td>\n",
       "      <td>9.000000</td>\n",
       "      <td>30.000000</td>\n",
       "      <td>5.000000</td>\n",
       "      <td>9.100000</td>\n",
       "      <td>0.000000</td>\n",
       "      <td>26786.000000</td>\n",
       "      <td>13170.500000</td>\n",
       "      <td>0.000000</td>\n",
       "      <td>-1.000000</td>\n",
       "      <td>0.000000</td>\n",
       "      <td>-1.000000</td>\n",
       "      <td>86.000000</td>\n",
       "    </tr>\n",
       "    <tr>\n",
       "      <th>75%</th>\n",
       "      <td>14.000000</td>\n",
       "      <td>6.500000e+06</td>\n",
       "      <td>67.000000</td>\n",
       "      <td>3.000000</td>\n",
       "      <td>2.650000</td>\n",
       "      <td>16.000000</td>\n",
       "      <td>40.000000</td>\n",
       "      <td>8.000000</td>\n",
       "      <td>11.000000</td>\n",
       "      <td>1.000000</td>\n",
       "      <td>37407.000000</td>\n",
       "      <td>16395.000000</td>\n",
       "      <td>1.000000</td>\n",
       "      <td>405.000000</td>\n",
       "      <td>1.000000</td>\n",
       "      <td>503.000000</td>\n",
       "      <td>183.000000</td>\n",
       "    </tr>\n",
       "    <tr>\n",
       "      <th>max</th>\n",
       "      <td>50.000000</td>\n",
       "      <td>1.230398e+07</td>\n",
       "      <td>116.300000</td>\n",
       "      <td>5.000000</td>\n",
       "      <td>2.850000</td>\n",
       "      <td>60.000000</td>\n",
       "      <td>75.500000</td>\n",
       "      <td>33.000000</td>\n",
       "      <td>18.600000</td>\n",
       "      <td>5.000000</td>\n",
       "      <td>84869.000000</td>\n",
       "      <td>65968.000000</td>\n",
       "      <td>3.000000</td>\n",
       "      <td>3190.000000</td>\n",
       "      <td>3.000000</td>\n",
       "      <td>1344.000000</td>\n",
       "      <td>515.000000</td>\n",
       "    </tr>\n",
       "  </tbody>\n",
       "</table>\n",
       "</div>"
      ],
      "text/plain": [
       "       total_images    last_price    total_area         rooms  ceiling_height  \\\n",
       "count  15802.000000  1.445700e+04  14960.000000  15669.000000    13698.000000   \n",
       "mean       9.777180  5.419840e+06     55.273024      2.046716        2.633371   \n",
       "std        5.716741  2.145017e+06     20.002269      0.984621        0.080744   \n",
       "min        0.000000  1.219000e+04     12.000000      0.000000        2.460000   \n",
       "25%        6.000000  3.850000e+06     40.000000      1.000000        2.600000   \n",
       "50%        9.000000  4.850000e+06     50.800000      2.000000        2.650000   \n",
       "75%       14.000000  6.500000e+06     67.000000      3.000000        2.650000   \n",
       "max       50.000000  1.230398e+07    116.300000      5.000000        2.850000   \n",
       "\n",
       "       floors_total   living_area         floor  kitchen_area       balcony  \\\n",
       "count  15802.000000  15200.000000  15802.000000  14890.000000  15802.000000   \n",
       "mean      11.276294     31.611449      6.197317      9.527195      0.586255   \n",
       "std        6.564320     13.377142      4.982996      2.925524      0.954272   \n",
       "min        1.000000     10.000000      1.000000      4.000000      0.000000   \n",
       "25%        5.000000     19.000000      3.000000      7.100000      0.000000   \n",
       "50%        9.000000     30.000000      5.000000      9.100000      0.000000   \n",
       "75%       16.000000     40.000000      8.000000     11.000000      1.000000   \n",
       "max       60.000000     75.500000     33.000000     18.600000      5.000000   \n",
       "\n",
       "       airports_nearest  cityCenters_nearest  parks_around3000  parks_nearest  \\\n",
       "count      15802.000000         15802.000000      15802.000000   15802.000000   \n",
       "mean       28851.409822         14305.558917          0.599924     213.911087   \n",
       "std        12714.190423          8561.112040          0.797468     334.459714   \n",
       "min            0.000000           208.000000          0.000000      -1.000000   \n",
       "25%        18496.000000          9488.000000          0.000000      -1.000000   \n",
       "50%        26786.000000         13170.500000          0.000000      -1.000000   \n",
       "75%        37407.000000         16395.000000          1.000000     405.000000   \n",
       "max        84869.000000         65968.000000          3.000000    3190.000000   \n",
       "\n",
       "       ponds_around3000  ponds_nearest  days_exposition  \n",
       "count      15802.000000   15802.000000     14496.000000  \n",
       "mean           0.760284     258.429186       128.757450  \n",
       "std            0.931077     325.901654       122.081807  \n",
       "min            0.000000      -1.000000         1.000000  \n",
       "25%            0.000000      -1.000000        38.000000  \n",
       "50%            0.000000      -1.000000        86.000000  \n",
       "75%            1.000000     503.000000       183.000000  \n",
       "max            3.000000    1344.000000       515.000000  "
      ]
     },
     "execution_count": 31,
     "metadata": {},
     "output_type": "execute_result"
    }
   ],
   "source": [
    "def quartile_range(data, column):\n",
    "    q1 = data[column].quantile(0.25)\n",
    "    q3 = data[column].quantile(0.75)\n",
    "    iqr = q3 - q1\n",
    "    dataq = data.loc[(data[column] < q3 +1.5*iqr) & (data[column] > q1 - 1.5*iqr), column]\n",
    "    return dataq\n",
    "need_help = ['last_price', 'total_area', 'kitchen_area', 'living_area', 'rooms', 'days_exposition', 'ceiling_height']\n",
    "for col in need_help:\n",
    "    data[col] = quartile_range(data, col)\n",
    "data.dropna()  \n",
    "data.reset_index(drop=True)\n",
    "data.describe()    "
   ]
  },
  {
   "cell_type": "markdown",
   "metadata": {},
   "source": [
    "**Вывод**: Предобработка завершена. Мы постарались исключить все аномальные или отсутствующие данные, исправили то, что возможно исправить и удалили данные, потенциально искривляющие результаты нашего исследования. Теперь с таблицей `data` можно продолжать работу. "
   ]
  },
  {
   "cell_type": "markdown",
   "metadata": {},
   "source": [
    "### Посчитайте и добавьте в таблицу новые столбцы"
   ]
  },
  {
   "cell_type": "markdown",
   "metadata": {},
   "source": [
    "Рассчитаем цену одного квадратного метра для каждого объявления. Добавим в таблицу соответствующий столбец."
   ]
  },
  {
   "cell_type": "code",
   "execution_count": 32,
   "metadata": {},
   "outputs": [],
   "source": [
    "data['square_price'] = data['last_price'] / data['total_area']"
   ]
  },
  {
   "cell_type": "markdown",
   "metadata": {},
   "source": [
    "Добавим в таблицу столбцы, в которых будут отображены:\n",
    "- День публикации объявления (где 0 - понедельник, 1 - вторник...)\n",
    "- Месяц публикации объявления\n",
    "- Год публикации объявления"
   ]
  },
  {
   "cell_type": "code",
   "execution_count": 33,
   "metadata": {},
   "outputs": [],
   "source": [
    "data['first_day_exposition'] = pd.to_datetime(data['first_day_exposition'], format='%Y-%m-%dT%H:%M:%S')\n",
    "data['weekday_exposition'] = data['first_day_exposition'].dt.weekday\n",
    "data['month_exposition'] = pd.DatetimeIndex(data['first_day_exposition']).month\n",
    "data['year_exposition'] = data['first_day_exposition'].dt.to_period(\"Y\")"
   ]
  },
  {
   "cell_type": "markdown",
   "metadata": {},
   "source": [
    "Далее добавим столбец, в котором будет указан тип этажа квартиры:\n",
    "- Первый\n",
    "- Последний\n",
    "- Другой"
   ]
  },
  {
   "cell_type": "code",
   "execution_count": 34,
   "metadata": {},
   "outputs": [],
   "source": [
    "def type_floor(data):\n",
    "    if (data['floors_total'] == data['floor']) & (data['floor'] != 1):\n",
    "        return 'последний'\n",
    "    elif data['floor'] == 1:\n",
    "        return 'первый'\n",
    "    elif (data['floors_total'] != data['floor']):\n",
    "        return 'другой'\n",
    "\n",
    "\n",
    "data['floor_type'] = data.apply(type_floor, axis=1)"
   ]
  },
  {
   "cell_type": "markdown",
   "metadata": {},
   "source": [
    "И, последним столбцом, добавим расстояние до центра города в км.\n",
    "Посмотрим на получившуюся таблицу."
   ]
  },
  {
   "cell_type": "code",
   "execution_count": 35,
   "metadata": {
    "scrolled": true
   },
   "outputs": [
    {
     "data": {
      "text/html": [
       "<div>\n",
       "<style scoped>\n",
       "    .dataframe tbody tr th:only-of-type {\n",
       "        vertical-align: middle;\n",
       "    }\n",
       "\n",
       "    .dataframe tbody tr th {\n",
       "        vertical-align: top;\n",
       "    }\n",
       "\n",
       "    .dataframe thead th {\n",
       "        text-align: right;\n",
       "    }\n",
       "</style>\n",
       "<table border=\"1\" class=\"dataframe\">\n",
       "  <thead>\n",
       "    <tr style=\"text-align: right;\">\n",
       "      <th></th>\n",
       "      <th>total_images</th>\n",
       "      <th>last_price</th>\n",
       "      <th>total_area</th>\n",
       "      <th>first_day_exposition</th>\n",
       "      <th>rooms</th>\n",
       "      <th>ceiling_height</th>\n",
       "      <th>floors_total</th>\n",
       "      <th>living_area</th>\n",
       "      <th>floor</th>\n",
       "      <th>is_apartment</th>\n",
       "      <th>studio</th>\n",
       "      <th>open_plan</th>\n",
       "      <th>kitchen_area</th>\n",
       "      <th>balcony</th>\n",
       "      <th>locality_name</th>\n",
       "      <th>airports_nearest</th>\n",
       "      <th>cityCenters_nearest</th>\n",
       "      <th>parks_around3000</th>\n",
       "      <th>parks_nearest</th>\n",
       "      <th>ponds_around3000</th>\n",
       "      <th>ponds_nearest</th>\n",
       "      <th>days_exposition</th>\n",
       "      <th>square_price</th>\n",
       "      <th>weekday_exposition</th>\n",
       "      <th>month_exposition</th>\n",
       "      <th>year_exposition</th>\n",
       "      <th>floor_type</th>\n",
       "      <th>cityCenters_nearest_km</th>\n",
       "    </tr>\n",
       "  </thead>\n",
       "  <tbody>\n",
       "    <tr>\n",
       "      <th>1</th>\n",
       "      <td>7</td>\n",
       "      <td>3350000.0</td>\n",
       "      <td>40.4</td>\n",
       "      <td>2018-12-04</td>\n",
       "      <td>1.0</td>\n",
       "      <td>2.65</td>\n",
       "      <td>11.0</td>\n",
       "      <td>18.6</td>\n",
       "      <td>1</td>\n",
       "      <td>True</td>\n",
       "      <td>False</td>\n",
       "      <td>False</td>\n",
       "      <td>11.0</td>\n",
       "      <td>2.0</td>\n",
       "      <td>Шушары</td>\n",
       "      <td>12817.0</td>\n",
       "      <td>18603.0</td>\n",
       "      <td>0.0</td>\n",
       "      <td>-1.0</td>\n",
       "      <td>0.0</td>\n",
       "      <td>-1.0</td>\n",
       "      <td>81.0</td>\n",
       "      <td>82920.792079</td>\n",
       "      <td>1</td>\n",
       "      <td>12</td>\n",
       "      <td>2018</td>\n",
       "      <td>первый</td>\n",
       "      <td>19.0</td>\n",
       "    </tr>\n",
       "    <tr>\n",
       "      <th>2</th>\n",
       "      <td>10</td>\n",
       "      <td>5196000.0</td>\n",
       "      <td>56.0</td>\n",
       "      <td>2015-08-20</td>\n",
       "      <td>2.0</td>\n",
       "      <td>2.65</td>\n",
       "      <td>5.0</td>\n",
       "      <td>34.3</td>\n",
       "      <td>4</td>\n",
       "      <td>True</td>\n",
       "      <td>False</td>\n",
       "      <td>False</td>\n",
       "      <td>8.3</td>\n",
       "      <td>0.0</td>\n",
       "      <td>Санкт-Петербург</td>\n",
       "      <td>21741.0</td>\n",
       "      <td>13933.0</td>\n",
       "      <td>1.0</td>\n",
       "      <td>90.0</td>\n",
       "      <td>2.0</td>\n",
       "      <td>574.0</td>\n",
       "      <td>NaN</td>\n",
       "      <td>92785.714286</td>\n",
       "      <td>3</td>\n",
       "      <td>8</td>\n",
       "      <td>2015</td>\n",
       "      <td>другой</td>\n",
       "      <td>14.0</td>\n",
       "    </tr>\n",
       "    <tr>\n",
       "      <th>3</th>\n",
       "      <td>0</td>\n",
       "      <td>NaN</td>\n",
       "      <td>NaN</td>\n",
       "      <td>2015-07-24</td>\n",
       "      <td>3.0</td>\n",
       "      <td>2.65</td>\n",
       "      <td>14.0</td>\n",
       "      <td>30.0</td>\n",
       "      <td>9</td>\n",
       "      <td>True</td>\n",
       "      <td>False</td>\n",
       "      <td>False</td>\n",
       "      <td>9.1</td>\n",
       "      <td>0.0</td>\n",
       "      <td>Санкт-Петербург</td>\n",
       "      <td>28098.0</td>\n",
       "      <td>6800.0</td>\n",
       "      <td>2.0</td>\n",
       "      <td>84.0</td>\n",
       "      <td>3.0</td>\n",
       "      <td>234.0</td>\n",
       "      <td>424.0</td>\n",
       "      <td>NaN</td>\n",
       "      <td>4</td>\n",
       "      <td>7</td>\n",
       "      <td>2015</td>\n",
       "      <td>другой</td>\n",
       "      <td>7.0</td>\n",
       "    </tr>\n",
       "    <tr>\n",
       "      <th>4</th>\n",
       "      <td>2</td>\n",
       "      <td>10000000.0</td>\n",
       "      <td>100.0</td>\n",
       "      <td>2018-06-19</td>\n",
       "      <td>2.0</td>\n",
       "      <td>NaN</td>\n",
       "      <td>14.0</td>\n",
       "      <td>32.0</td>\n",
       "      <td>13</td>\n",
       "      <td>True</td>\n",
       "      <td>False</td>\n",
       "      <td>False</td>\n",
       "      <td>NaN</td>\n",
       "      <td>0.0</td>\n",
       "      <td>Санкт-Петербург</td>\n",
       "      <td>31856.0</td>\n",
       "      <td>8098.0</td>\n",
       "      <td>2.0</td>\n",
       "      <td>112.0</td>\n",
       "      <td>1.0</td>\n",
       "      <td>48.0</td>\n",
       "      <td>121.0</td>\n",
       "      <td>100000.000000</td>\n",
       "      <td>1</td>\n",
       "      <td>6</td>\n",
       "      <td>2018</td>\n",
       "      <td>другой</td>\n",
       "      <td>8.0</td>\n",
       "    </tr>\n",
       "    <tr>\n",
       "      <th>6</th>\n",
       "      <td>6</td>\n",
       "      <td>3700000.0</td>\n",
       "      <td>37.3</td>\n",
       "      <td>2017-11-02</td>\n",
       "      <td>1.0</td>\n",
       "      <td>2.65</td>\n",
       "      <td>26.0</td>\n",
       "      <td>10.6</td>\n",
       "      <td>6</td>\n",
       "      <td>True</td>\n",
       "      <td>False</td>\n",
       "      <td>False</td>\n",
       "      <td>14.4</td>\n",
       "      <td>1.0</td>\n",
       "      <td>Парголово</td>\n",
       "      <td>52996.0</td>\n",
       "      <td>19143.0</td>\n",
       "      <td>0.0</td>\n",
       "      <td>-1.0</td>\n",
       "      <td>0.0</td>\n",
       "      <td>-1.0</td>\n",
       "      <td>155.0</td>\n",
       "      <td>99195.710456</td>\n",
       "      <td>3</td>\n",
       "      <td>11</td>\n",
       "      <td>2017</td>\n",
       "      <td>другой</td>\n",
       "      <td>19.0</td>\n",
       "    </tr>\n",
       "    <tr>\n",
       "      <th>9</th>\n",
       "      <td>18</td>\n",
       "      <td>5400000.0</td>\n",
       "      <td>61.0</td>\n",
       "      <td>2017-02-26</td>\n",
       "      <td>3.0</td>\n",
       "      <td>2.50</td>\n",
       "      <td>9.0</td>\n",
       "      <td>43.6</td>\n",
       "      <td>7</td>\n",
       "      <td>True</td>\n",
       "      <td>False</td>\n",
       "      <td>False</td>\n",
       "      <td>6.5</td>\n",
       "      <td>2.0</td>\n",
       "      <td>Санкт-Петербург</td>\n",
       "      <td>50898.0</td>\n",
       "      <td>15008.0</td>\n",
       "      <td>0.0</td>\n",
       "      <td>-1.0</td>\n",
       "      <td>0.0</td>\n",
       "      <td>-1.0</td>\n",
       "      <td>289.0</td>\n",
       "      <td>88524.590164</td>\n",
       "      <td>6</td>\n",
       "      <td>2</td>\n",
       "      <td>2017</td>\n",
       "      <td>другой</td>\n",
       "      <td>15.0</td>\n",
       "    </tr>\n",
       "    <tr>\n",
       "      <th>10</th>\n",
       "      <td>5</td>\n",
       "      <td>5050000.0</td>\n",
       "      <td>39.6</td>\n",
       "      <td>2017-11-16</td>\n",
       "      <td>1.0</td>\n",
       "      <td>2.67</td>\n",
       "      <td>12.0</td>\n",
       "      <td>20.3</td>\n",
       "      <td>3</td>\n",
       "      <td>True</td>\n",
       "      <td>False</td>\n",
       "      <td>False</td>\n",
       "      <td>8.5</td>\n",
       "      <td>0.0</td>\n",
       "      <td>Санкт-Петербург</td>\n",
       "      <td>38357.0</td>\n",
       "      <td>13878.0</td>\n",
       "      <td>1.0</td>\n",
       "      <td>310.0</td>\n",
       "      <td>2.0</td>\n",
       "      <td>553.0</td>\n",
       "      <td>137.0</td>\n",
       "      <td>127525.252525</td>\n",
       "      <td>3</td>\n",
       "      <td>11</td>\n",
       "      <td>2017</td>\n",
       "      <td>другой</td>\n",
       "      <td>14.0</td>\n",
       "    </tr>\n",
       "    <tr>\n",
       "      <th>11</th>\n",
       "      <td>9</td>\n",
       "      <td>3300000.0</td>\n",
       "      <td>44.0</td>\n",
       "      <td>2018-08-27</td>\n",
       "      <td>2.0</td>\n",
       "      <td>2.65</td>\n",
       "      <td>5.0</td>\n",
       "      <td>31.0</td>\n",
       "      <td>4</td>\n",
       "      <td>False</td>\n",
       "      <td>False</td>\n",
       "      <td>False</td>\n",
       "      <td>6.0</td>\n",
       "      <td>1.0</td>\n",
       "      <td>Ломоносов</td>\n",
       "      <td>48252.0</td>\n",
       "      <td>51677.0</td>\n",
       "      <td>0.0</td>\n",
       "      <td>-1.0</td>\n",
       "      <td>0.0</td>\n",
       "      <td>-1.0</td>\n",
       "      <td>7.0</td>\n",
       "      <td>75000.000000</td>\n",
       "      <td>0</td>\n",
       "      <td>8</td>\n",
       "      <td>2018</td>\n",
       "      <td>другой</td>\n",
       "      <td>52.0</td>\n",
       "    </tr>\n",
       "    <tr>\n",
       "      <th>13</th>\n",
       "      <td>20</td>\n",
       "      <td>3550000.0</td>\n",
       "      <td>42.8</td>\n",
       "      <td>2017-07-01</td>\n",
       "      <td>2.0</td>\n",
       "      <td>2.56</td>\n",
       "      <td>5.0</td>\n",
       "      <td>27.0</td>\n",
       "      <td>5</td>\n",
       "      <td>True</td>\n",
       "      <td>False</td>\n",
       "      <td>False</td>\n",
       "      <td>5.2</td>\n",
       "      <td>1.0</td>\n",
       "      <td>Петергоф</td>\n",
       "      <td>37868.0</td>\n",
       "      <td>33058.0</td>\n",
       "      <td>1.0</td>\n",
       "      <td>294.0</td>\n",
       "      <td>3.0</td>\n",
       "      <td>298.0</td>\n",
       "      <td>366.0</td>\n",
       "      <td>82943.925234</td>\n",
       "      <td>5</td>\n",
       "      <td>7</td>\n",
       "      <td>2017</td>\n",
       "      <td>последний</td>\n",
       "      <td>33.0</td>\n",
       "    </tr>\n",
       "    <tr>\n",
       "      <th>14</th>\n",
       "      <td>1</td>\n",
       "      <td>4400000.0</td>\n",
       "      <td>36.0</td>\n",
       "      <td>2016-06-23</td>\n",
       "      <td>1.0</td>\n",
       "      <td>2.65</td>\n",
       "      <td>6.0</td>\n",
       "      <td>17.0</td>\n",
       "      <td>1</td>\n",
       "      <td>True</td>\n",
       "      <td>False</td>\n",
       "      <td>False</td>\n",
       "      <td>8.0</td>\n",
       "      <td>0.0</td>\n",
       "      <td>Пушкин</td>\n",
       "      <td>20782.0</td>\n",
       "      <td>30759.0</td>\n",
       "      <td>0.0</td>\n",
       "      <td>-1.0</td>\n",
       "      <td>1.0</td>\n",
       "      <td>96.0</td>\n",
       "      <td>203.0</td>\n",
       "      <td>122222.222222</td>\n",
       "      <td>3</td>\n",
       "      <td>6</td>\n",
       "      <td>2016</td>\n",
       "      <td>первый</td>\n",
       "      <td>31.0</td>\n",
       "    </tr>\n",
       "    <tr>\n",
       "      <th>15</th>\n",
       "      <td>16</td>\n",
       "      <td>4650000.0</td>\n",
       "      <td>39.0</td>\n",
       "      <td>2017-11-18</td>\n",
       "      <td>1.0</td>\n",
       "      <td>2.65</td>\n",
       "      <td>14.0</td>\n",
       "      <td>20.5</td>\n",
       "      <td>5</td>\n",
       "      <td>True</td>\n",
       "      <td>False</td>\n",
       "      <td>False</td>\n",
       "      <td>7.6</td>\n",
       "      <td>1.0</td>\n",
       "      <td>Санкт-Петербург</td>\n",
       "      <td>12900.0</td>\n",
       "      <td>14259.0</td>\n",
       "      <td>1.0</td>\n",
       "      <td>590.0</td>\n",
       "      <td>1.0</td>\n",
       "      <td>296.0</td>\n",
       "      <td>19.0</td>\n",
       "      <td>119230.769231</td>\n",
       "      <td>5</td>\n",
       "      <td>11</td>\n",
       "      <td>2017</td>\n",
       "      <td>другой</td>\n",
       "      <td>14.0</td>\n",
       "    </tr>\n",
       "    <tr>\n",
       "      <th>16</th>\n",
       "      <td>11</td>\n",
       "      <td>6700000.0</td>\n",
       "      <td>82.0</td>\n",
       "      <td>2017-11-23</td>\n",
       "      <td>3.0</td>\n",
       "      <td>NaN</td>\n",
       "      <td>5.0</td>\n",
       "      <td>55.6</td>\n",
       "      <td>1</td>\n",
       "      <td>True</td>\n",
       "      <td>False</td>\n",
       "      <td>False</td>\n",
       "      <td>9.0</td>\n",
       "      <td>0.0</td>\n",
       "      <td>Санкт-Петербург</td>\n",
       "      <td>22108.0</td>\n",
       "      <td>10698.0</td>\n",
       "      <td>3.0</td>\n",
       "      <td>420.0</td>\n",
       "      <td>0.0</td>\n",
       "      <td>-1.0</td>\n",
       "      <td>397.0</td>\n",
       "      <td>81707.317073</td>\n",
       "      <td>3</td>\n",
       "      <td>11</td>\n",
       "      <td>2017</td>\n",
       "      <td>первый</td>\n",
       "      <td>11.0</td>\n",
       "    </tr>\n",
       "    <tr>\n",
       "      <th>17</th>\n",
       "      <td>6</td>\n",
       "      <td>4180000.0</td>\n",
       "      <td>36.0</td>\n",
       "      <td>2016-09-09</td>\n",
       "      <td>1.0</td>\n",
       "      <td>2.65</td>\n",
       "      <td>17.0</td>\n",
       "      <td>16.5</td>\n",
       "      <td>7</td>\n",
       "      <td>True</td>\n",
       "      <td>False</td>\n",
       "      <td>False</td>\n",
       "      <td>11.0</td>\n",
       "      <td>1.0</td>\n",
       "      <td>Санкт-Петербург</td>\n",
       "      <td>33564.0</td>\n",
       "      <td>14616.0</td>\n",
       "      <td>0.0</td>\n",
       "      <td>-1.0</td>\n",
       "      <td>1.0</td>\n",
       "      <td>859.0</td>\n",
       "      <td>NaN</td>\n",
       "      <td>116111.111111</td>\n",
       "      <td>4</td>\n",
       "      <td>9</td>\n",
       "      <td>2016</td>\n",
       "      <td>другой</td>\n",
       "      <td>15.0</td>\n",
       "    </tr>\n",
       "    <tr>\n",
       "      <th>18</th>\n",
       "      <td>8</td>\n",
       "      <td>3250000.0</td>\n",
       "      <td>31.0</td>\n",
       "      <td>2017-01-27</td>\n",
       "      <td>1.0</td>\n",
       "      <td>2.50</td>\n",
       "      <td>5.0</td>\n",
       "      <td>19.4</td>\n",
       "      <td>2</td>\n",
       "      <td>True</td>\n",
       "      <td>False</td>\n",
       "      <td>False</td>\n",
       "      <td>5.6</td>\n",
       "      <td>1.0</td>\n",
       "      <td>Санкт-Петербург</td>\n",
       "      <td>44060.0</td>\n",
       "      <td>10842.0</td>\n",
       "      <td>1.0</td>\n",
       "      <td>759.0</td>\n",
       "      <td>0.0</td>\n",
       "      <td>-1.0</td>\n",
       "      <td>168.0</td>\n",
       "      <td>104838.709677</td>\n",
       "      <td>4</td>\n",
       "      <td>1</td>\n",
       "      <td>2017</td>\n",
       "      <td>другой</td>\n",
       "      <td>11.0</td>\n",
       "    </tr>\n",
       "    <tr>\n",
       "      <th>19</th>\n",
       "      <td>16</td>\n",
       "      <td>NaN</td>\n",
       "      <td>NaN</td>\n",
       "      <td>2019-01-09</td>\n",
       "      <td>3.0</td>\n",
       "      <td>2.75</td>\n",
       "      <td>16.0</td>\n",
       "      <td>NaN</td>\n",
       "      <td>8</td>\n",
       "      <td>True</td>\n",
       "      <td>False</td>\n",
       "      <td>False</td>\n",
       "      <td>12.0</td>\n",
       "      <td>0.0</td>\n",
       "      <td>Санкт-Петербург</td>\n",
       "      <td>38900.0</td>\n",
       "      <td>12843.0</td>\n",
       "      <td>0.0</td>\n",
       "      <td>-1.0</td>\n",
       "      <td>0.0</td>\n",
       "      <td>-1.0</td>\n",
       "      <td>97.0</td>\n",
       "      <td>NaN</td>\n",
       "      <td>2</td>\n",
       "      <td>1</td>\n",
       "      <td>2019</td>\n",
       "      <td>другой</td>\n",
       "      <td>13.0</td>\n",
       "    </tr>\n",
       "    <tr>\n",
       "      <th>20</th>\n",
       "      <td>12</td>\n",
       "      <td>6120000.0</td>\n",
       "      <td>80.0</td>\n",
       "      <td>2017-09-28</td>\n",
       "      <td>3.0</td>\n",
       "      <td>2.70</td>\n",
       "      <td>27.0</td>\n",
       "      <td>48.0</td>\n",
       "      <td>11</td>\n",
       "      <td>True</td>\n",
       "      <td>False</td>\n",
       "      <td>False</td>\n",
       "      <td>12.0</td>\n",
       "      <td>2.0</td>\n",
       "      <td>Парголово</td>\n",
       "      <td>53134.0</td>\n",
       "      <td>19311.0</td>\n",
       "      <td>0.0</td>\n",
       "      <td>-1.0</td>\n",
       "      <td>0.0</td>\n",
       "      <td>-1.0</td>\n",
       "      <td>74.0</td>\n",
       "      <td>76500.000000</td>\n",
       "      <td>3</td>\n",
       "      <td>9</td>\n",
       "      <td>2017</td>\n",
       "      <td>другой</td>\n",
       "      <td>19.0</td>\n",
       "    </tr>\n",
       "    <tr>\n",
       "      <th>21</th>\n",
       "      <td>13</td>\n",
       "      <td>3200000.0</td>\n",
       "      <td>31.6</td>\n",
       "      <td>2018-03-14</td>\n",
       "      <td>1.0</td>\n",
       "      <td>2.65</td>\n",
       "      <td>5.0</td>\n",
       "      <td>16.9</td>\n",
       "      <td>2</td>\n",
       "      <td>True</td>\n",
       "      <td>False</td>\n",
       "      <td>False</td>\n",
       "      <td>5.7</td>\n",
       "      <td>1.0</td>\n",
       "      <td>Санкт-Петербург</td>\n",
       "      <td>36064.0</td>\n",
       "      <td>9722.0</td>\n",
       "      <td>1.0</td>\n",
       "      <td>248.0</td>\n",
       "      <td>0.0</td>\n",
       "      <td>-1.0</td>\n",
       "      <td>310.0</td>\n",
       "      <td>101265.822785</td>\n",
       "      <td>2</td>\n",
       "      <td>3</td>\n",
       "      <td>2018</td>\n",
       "      <td>другой</td>\n",
       "      <td>10.0</td>\n",
       "    </tr>\n",
       "    <tr>\n",
       "      <th>23</th>\n",
       "      <td>11</td>\n",
       "      <td>2950000.0</td>\n",
       "      <td>32.0</td>\n",
       "      <td>2016-10-29</td>\n",
       "      <td>1.0</td>\n",
       "      <td>2.60</td>\n",
       "      <td>9.0</td>\n",
       "      <td>17.7</td>\n",
       "      <td>9</td>\n",
       "      <td>True</td>\n",
       "      <td>False</td>\n",
       "      <td>False</td>\n",
       "      <td>6.1</td>\n",
       "      <td>0.0</td>\n",
       "      <td>Санкт-Петербург</td>\n",
       "      <td>15414.0</td>\n",
       "      <td>14211.0</td>\n",
       "      <td>2.0</td>\n",
       "      <td>517.0</td>\n",
       "      <td>1.0</td>\n",
       "      <td>190.0</td>\n",
       "      <td>NaN</td>\n",
       "      <td>92187.500000</td>\n",
       "      <td>5</td>\n",
       "      <td>10</td>\n",
       "      <td>2016</td>\n",
       "      <td>последний</td>\n",
       "      <td>14.0</td>\n",
       "    </tr>\n",
       "    <tr>\n",
       "      <th>24</th>\n",
       "      <td>8</td>\n",
       "      <td>6500000.0</td>\n",
       "      <td>97.2</td>\n",
       "      <td>2015-10-31</td>\n",
       "      <td>2.0</td>\n",
       "      <td>2.65</td>\n",
       "      <td>3.0</td>\n",
       "      <td>46.5</td>\n",
       "      <td>1</td>\n",
       "      <td>True</td>\n",
       "      <td>False</td>\n",
       "      <td>False</td>\n",
       "      <td>NaN</td>\n",
       "      <td>0.0</td>\n",
       "      <td>Санкт-Петербург</td>\n",
       "      <td>20052.0</td>\n",
       "      <td>2336.0</td>\n",
       "      <td>3.0</td>\n",
       "      <td>411.0</td>\n",
       "      <td>3.0</td>\n",
       "      <td>124.0</td>\n",
       "      <td>265.0</td>\n",
       "      <td>66872.427984</td>\n",
       "      <td>5</td>\n",
       "      <td>10</td>\n",
       "      <td>2015</td>\n",
       "      <td>первый</td>\n",
       "      <td>2.0</td>\n",
       "    </tr>\n",
       "    <tr>\n",
       "      <th>25</th>\n",
       "      <td>3</td>\n",
       "      <td>6800000.0</td>\n",
       "      <td>76.0</td>\n",
       "      <td>2015-10-01</td>\n",
       "      <td>2.0</td>\n",
       "      <td>2.75</td>\n",
       "      <td>23.0</td>\n",
       "      <td>39.0</td>\n",
       "      <td>18</td>\n",
       "      <td>False</td>\n",
       "      <td>False</td>\n",
       "      <td>False</td>\n",
       "      <td>15.0</td>\n",
       "      <td>2.0</td>\n",
       "      <td>Санкт-Петербург</td>\n",
       "      <td>34967.0</td>\n",
       "      <td>14640.0</td>\n",
       "      <td>0.0</td>\n",
       "      <td>-1.0</td>\n",
       "      <td>1.0</td>\n",
       "      <td>564.0</td>\n",
       "      <td>300.0</td>\n",
       "      <td>89473.684211</td>\n",
       "      <td>3</td>\n",
       "      <td>10</td>\n",
       "      <td>2015</td>\n",
       "      <td>другой</td>\n",
       "      <td>15.0</td>\n",
       "    </tr>\n",
       "  </tbody>\n",
       "</table>\n",
       "</div>"
      ],
      "text/plain": [
       "    total_images  last_price  total_area first_day_exposition  rooms  \\\n",
       "1              7   3350000.0        40.4           2018-12-04    1.0   \n",
       "2             10   5196000.0        56.0           2015-08-20    2.0   \n",
       "3              0         NaN         NaN           2015-07-24    3.0   \n",
       "4              2  10000000.0       100.0           2018-06-19    2.0   \n",
       "6              6   3700000.0        37.3           2017-11-02    1.0   \n",
       "9             18   5400000.0        61.0           2017-02-26    3.0   \n",
       "10             5   5050000.0        39.6           2017-11-16    1.0   \n",
       "11             9   3300000.0        44.0           2018-08-27    2.0   \n",
       "13            20   3550000.0        42.8           2017-07-01    2.0   \n",
       "14             1   4400000.0        36.0           2016-06-23    1.0   \n",
       "15            16   4650000.0        39.0           2017-11-18    1.0   \n",
       "16            11   6700000.0        82.0           2017-11-23    3.0   \n",
       "17             6   4180000.0        36.0           2016-09-09    1.0   \n",
       "18             8   3250000.0        31.0           2017-01-27    1.0   \n",
       "19            16         NaN         NaN           2019-01-09    3.0   \n",
       "20            12   6120000.0        80.0           2017-09-28    3.0   \n",
       "21            13   3200000.0        31.6           2018-03-14    1.0   \n",
       "23            11   2950000.0        32.0           2016-10-29    1.0   \n",
       "24             8   6500000.0        97.2           2015-10-31    2.0   \n",
       "25             3   6800000.0        76.0           2015-10-01    2.0   \n",
       "\n",
       "    ceiling_height  floors_total  living_area  floor  is_apartment  studio  \\\n",
       "1             2.65          11.0         18.6      1          True   False   \n",
       "2             2.65           5.0         34.3      4          True   False   \n",
       "3             2.65          14.0         30.0      9          True   False   \n",
       "4              NaN          14.0         32.0     13          True   False   \n",
       "6             2.65          26.0         10.6      6          True   False   \n",
       "9             2.50           9.0         43.6      7          True   False   \n",
       "10            2.67          12.0         20.3      3          True   False   \n",
       "11            2.65           5.0         31.0      4         False   False   \n",
       "13            2.56           5.0         27.0      5          True   False   \n",
       "14            2.65           6.0         17.0      1          True   False   \n",
       "15            2.65          14.0         20.5      5          True   False   \n",
       "16             NaN           5.0         55.6      1          True   False   \n",
       "17            2.65          17.0         16.5      7          True   False   \n",
       "18            2.50           5.0         19.4      2          True   False   \n",
       "19            2.75          16.0          NaN      8          True   False   \n",
       "20            2.70          27.0         48.0     11          True   False   \n",
       "21            2.65           5.0         16.9      2          True   False   \n",
       "23            2.60           9.0         17.7      9          True   False   \n",
       "24            2.65           3.0         46.5      1          True   False   \n",
       "25            2.75          23.0         39.0     18         False   False   \n",
       "\n",
       "    open_plan  kitchen_area  balcony    locality_name  airports_nearest  \\\n",
       "1       False          11.0      2.0           Шушары           12817.0   \n",
       "2       False           8.3      0.0  Санкт-Петербург           21741.0   \n",
       "3       False           9.1      0.0  Санкт-Петербург           28098.0   \n",
       "4       False           NaN      0.0  Санкт-Петербург           31856.0   \n",
       "6       False          14.4      1.0        Парголово           52996.0   \n",
       "9       False           6.5      2.0  Санкт-Петербург           50898.0   \n",
       "10      False           8.5      0.0  Санкт-Петербург           38357.0   \n",
       "11      False           6.0      1.0        Ломоносов           48252.0   \n",
       "13      False           5.2      1.0         Петергоф           37868.0   \n",
       "14      False           8.0      0.0           Пушкин           20782.0   \n",
       "15      False           7.6      1.0  Санкт-Петербург           12900.0   \n",
       "16      False           9.0      0.0  Санкт-Петербург           22108.0   \n",
       "17      False          11.0      1.0  Санкт-Петербург           33564.0   \n",
       "18      False           5.6      1.0  Санкт-Петербург           44060.0   \n",
       "19      False          12.0      0.0  Санкт-Петербург           38900.0   \n",
       "20      False          12.0      2.0        Парголово           53134.0   \n",
       "21      False           5.7      1.0  Санкт-Петербург           36064.0   \n",
       "23      False           6.1      0.0  Санкт-Петербург           15414.0   \n",
       "24      False           NaN      0.0  Санкт-Петербург           20052.0   \n",
       "25      False          15.0      2.0  Санкт-Петербург           34967.0   \n",
       "\n",
       "    cityCenters_nearest  parks_around3000  parks_nearest  ponds_around3000  \\\n",
       "1               18603.0               0.0           -1.0               0.0   \n",
       "2               13933.0               1.0           90.0               2.0   \n",
       "3                6800.0               2.0           84.0               3.0   \n",
       "4                8098.0               2.0          112.0               1.0   \n",
       "6               19143.0               0.0           -1.0               0.0   \n",
       "9               15008.0               0.0           -1.0               0.0   \n",
       "10              13878.0               1.0          310.0               2.0   \n",
       "11              51677.0               0.0           -1.0               0.0   \n",
       "13              33058.0               1.0          294.0               3.0   \n",
       "14              30759.0               0.0           -1.0               1.0   \n",
       "15              14259.0               1.0          590.0               1.0   \n",
       "16              10698.0               3.0          420.0               0.0   \n",
       "17              14616.0               0.0           -1.0               1.0   \n",
       "18              10842.0               1.0          759.0               0.0   \n",
       "19              12843.0               0.0           -1.0               0.0   \n",
       "20              19311.0               0.0           -1.0               0.0   \n",
       "21               9722.0               1.0          248.0               0.0   \n",
       "23              14211.0               2.0          517.0               1.0   \n",
       "24               2336.0               3.0          411.0               3.0   \n",
       "25              14640.0               0.0           -1.0               1.0   \n",
       "\n",
       "    ponds_nearest  days_exposition   square_price  weekday_exposition  \\\n",
       "1            -1.0             81.0   82920.792079                   1   \n",
       "2           574.0              NaN   92785.714286                   3   \n",
       "3           234.0            424.0            NaN                   4   \n",
       "4            48.0            121.0  100000.000000                   1   \n",
       "6            -1.0            155.0   99195.710456                   3   \n",
       "9            -1.0            289.0   88524.590164                   6   \n",
       "10          553.0            137.0  127525.252525                   3   \n",
       "11           -1.0              7.0   75000.000000                   0   \n",
       "13          298.0            366.0   82943.925234                   5   \n",
       "14           96.0            203.0  122222.222222                   3   \n",
       "15          296.0             19.0  119230.769231                   5   \n",
       "16           -1.0            397.0   81707.317073                   3   \n",
       "17          859.0              NaN  116111.111111                   4   \n",
       "18           -1.0            168.0  104838.709677                   4   \n",
       "19           -1.0             97.0            NaN                   2   \n",
       "20           -1.0             74.0   76500.000000                   3   \n",
       "21           -1.0            310.0  101265.822785                   2   \n",
       "23          190.0              NaN   92187.500000                   5   \n",
       "24          124.0            265.0   66872.427984                   5   \n",
       "25          564.0            300.0   89473.684211                   3   \n",
       "\n",
       "    month_exposition year_exposition floor_type  cityCenters_nearest_km  \n",
       "1                 12            2018     первый                    19.0  \n",
       "2                  8            2015     другой                    14.0  \n",
       "3                  7            2015     другой                     7.0  \n",
       "4                  6            2018     другой                     8.0  \n",
       "6                 11            2017     другой                    19.0  \n",
       "9                  2            2017     другой                    15.0  \n",
       "10                11            2017     другой                    14.0  \n",
       "11                 8            2018     другой                    52.0  \n",
       "13                 7            2017  последний                    33.0  \n",
       "14                 6            2016     первый                    31.0  \n",
       "15                11            2017     другой                    14.0  \n",
       "16                11            2017     первый                    11.0  \n",
       "17                 9            2016     другой                    15.0  \n",
       "18                 1            2017     другой                    11.0  \n",
       "19                 1            2019     другой                    13.0  \n",
       "20                 9            2017     другой                    19.0  \n",
       "21                 3            2018     другой                    10.0  \n",
       "23                10            2016  последний                    14.0  \n",
       "24                10            2015     первый                     2.0  \n",
       "25                10            2015     другой                    15.0  "
      ]
     },
     "execution_count": 35,
     "metadata": {},
     "output_type": "execute_result"
    }
   ],
   "source": [
    "data['cityCenters_nearest_km'] = (data['cityCenters_nearest'].astype(int) / 1000).round()\n",
    "data.head(20)"
   ]
  },
  {
   "cell_type": "markdown",
   "metadata": {},
   "source": [
    "**Вывод**: Мы добавили в таблицу столбцы, которые помогут нам в исследовательском анализе данных."
   ]
  },
  {
   "cell_type": "markdown",
   "metadata": {},
   "source": [
    "### Проведите исследовательский анализ данных"
   ]
  },
  {
   "cell_type": "code",
   "execution_count": 36,
   "metadata": {},
   "outputs": [
    {
     "data": {
      "text/plain": [
       "<AxesSubplot:>"
      ]
     },
     "execution_count": 36,
     "metadata": {},
     "output_type": "execute_result"
    },
    {
     "data": {
      "image/png": "[encoded data removed]",
      "text/plain": [
       "<Figure size 432x288 with 1 Axes>"
      ]
     },
     "metadata": {
      "needs_background": "light"
     },
     "output_type": "display_data"
    }
   ],
   "source": [
    "data['total_area'].sort_values().hist(bins=50)"
   ]
  },
  {
   "cell_type": "code",
   "execution_count": 37,
   "metadata": {},
   "outputs": [
    {
     "data": {
      "text/plain": [
       "<AxesSubplot:>"
      ]
     },
     "execution_count": 37,
     "metadata": {},
     "output_type": "execute_result"
    },
    {
     "data": {
      "image/png": "[encoded data removed]",
      "text/plain": [
       "<Figure size 432x288 with 1 Axes>"
      ]
     },
     "metadata": {
      "needs_background": "light"
     },
     "output_type": "display_data"
    }
   ],
   "source": [
    "data['total_area'].sort_values().hist(bins=100, range=(0, 200))"
   ]
  },
  {
   "cell_type": "markdown",
   "metadata": {},
   "source": [
    "Распределение квартир по общей площади выглядит нормальным. Среди объявлений есть аппартаменты с большой общей площадью и маленькие квартиры, общей площадью менее 25кв м. Основная масса квартир имеет общую площадь от 35 до 70 квадратных метров. Это нормальная площадь для 2-ух и 3-ех комнатных квартир. Далее увидим насколько график по количеству комнат похож на этот."
   ]
  },
  {
   "cell_type": "code",
   "execution_count": 38,
   "metadata": {},
   "outputs": [
    {
     "data": {
      "text/plain": [
       "<AxesSubplot:>"
      ]
     },
     "execution_count": 38,
     "metadata": {},
     "output_type": "execute_result"
    },
    {
     "data": {
      "image/png": "[encoded data removed]",
      "text/plain": [
       "<Figure size 432x288 with 1 Axes>"
      ]
     },
     "metadata": {
      "needs_background": "light"
     },
     "output_type": "display_data"
    }
   ],
   "source": [
    "data['living_area'].sort_values().hist(bins=50, range=(0, 200))"
   ]
  },
  {
   "cell_type": "markdown",
   "metadata": {},
   "source": [
    "На гистограмме по жилой площади квартир наблюдаются 2 пика - около 20кв м и около 30кв м. Логично предположить, что разница в значении данных пиков в одну комнату. То есть мы наблюдаем пики, которые подтверждают большое количество объявлений для 2-ух и 3-ех комнатных квартир. "
   ]
  },
  {
   "cell_type": "code",
   "execution_count": 39,
   "metadata": {},
   "outputs": [
    {
     "data": {
      "text/plain": [
       "<AxesSubplot:>"
      ]
     },
     "execution_count": 39,
     "metadata": {},
     "output_type": "execute_result"
    },
    {
     "data": {
      "image/png": "[encoded data removed]",
      "text/plain": [
       "<Figure size 432x288 with 1 Axes>"
      ]
     },
     "metadata": {
      "needs_background": "light"
     },
     "output_type": "display_data"
    }
   ],
   "source": [
    "data['kitchen_area'].sort_values().hist(bins=50)"
   ]
  },
  {
   "cell_type": "markdown",
   "metadata": {},
   "source": [
    "Основная масса квартир продавалась с площадью кухни от 6 до 10 квадратных метров. Пик наблюдается по кухням площаью 9кв м. Это достаточно неплохая по размеру кухня, данные выглядят правдоподобно."
   ]
  },
  {
   "cell_type": "code",
   "execution_count": 40,
   "metadata": {},
   "outputs": [
    {
     "data": {
      "text/plain": [
       "<AxesSubplot:>"
      ]
     },
     "execution_count": 40,
     "metadata": {},
     "output_type": "execute_result"
    },
    {
     "data": {
      "image/png": "[encoded data removed]",
      "text/plain": [
       "<Figure size 432x288 with 1 Axes>"
      ]
     },
     "metadata": {
      "needs_background": "light"
     },
     "output_type": "display_data"
    }
   ],
   "source": [
    "data['last_price'] = data['last_price'] / 1000000\n",
    "data['last_price'].sort_values().hist(bins=50)"
   ]
  },
  {
   "cell_type": "markdown",
   "metadata": {},
   "source": [
    "Данное распределение выглядит правильным. Основная масса квартир из выборки имеют цену от 3млн до 6млн рублей. \n",
    "Видно повышение числа квартир стоимостью 10млн и более. для Санкт-Петербурга это нормально. У больших квартир, а тем более в черте города, средняя цена значительно выше. "
   ]
  },
  {
   "cell_type": "code",
   "execution_count": 41,
   "metadata": {},
   "outputs": [
    {
     "data": {
      "text/plain": [
       "<AxesSubplot:>"
      ]
     },
     "execution_count": 41,
     "metadata": {},
     "output_type": "execute_result"
    },
    {
     "data": {
      "image/png": "[encoded data removed]",
      "text/plain": [
       "<Figure size 432x288 with 1 Axes>"
      ]
     },
     "metadata": {
      "needs_background": "light"
     },
     "output_type": "display_data"
    }
   ],
   "source": [
    "data['rooms'].sort_values().hist(bins=10, range=(0, 10))"
   ]
  },
  {
   "cell_type": "markdown",
   "metadata": {},
   "source": [
    "Как и предполагалось, основная часть объявлений по 2-ух и 3-ех комнатным квартирам. 4-ехкомнатных квартир также немало, около 5800 объявлений.  "
   ]
  },
  {
   "cell_type": "code",
   "execution_count": 42,
   "metadata": {},
   "outputs": [
    {
     "data": {
      "text/plain": [
       "<AxesSubplot:>"
      ]
     },
     "execution_count": 42,
     "metadata": {},
     "output_type": "execute_result"
    },
    {
     "data": {
      "image/png": "[encoded data removed]",
      "text/plain": [
       "<Figure size 432x288 with 1 Axes>"
      ]
     },
     "metadata": {
      "needs_background": "light"
     },
     "output_type": "display_data"
    }
   ],
   "source": [
    "data['ceiling_height'].sort_values().hist(bins=5, range=(0,6))"
   ]
  },
  {
   "cell_type": "markdown",
   "metadata": {},
   "source": [
    "Нормальная высота потолков в квартирах обычно около 3-4 метров. На гистограмме именно такие данные и отображены."
   ]
  },
  {
   "cell_type": "code",
   "execution_count": 43,
   "metadata": {},
   "outputs": [
    {
     "data": {
      "text/plain": [
       "<AxesSubplot:>"
      ]
     },
     "execution_count": 43,
     "metadata": {},
     "output_type": "execute_result"
    },
    {
     "data": {
      "image/png": "[encoded data removed]",
      "text/plain": [
       "<Figure size 432x288 with 1 Axes>"
      ]
     },
     "metadata": {
      "needs_background": "light"
     },
     "output_type": "display_data"
    }
   ],
   "source": [
    "data['floor'].sort_values().hist(bins=25, range=(0, 30))"
   ]
  },
  {
   "cell_type": "markdown",
   "metadata": {},
   "source": [
    "Основная масса квартир находится в пределах первых 7-ти этажей здания. "
   ]
  },
  {
   "cell_type": "code",
   "execution_count": 44,
   "metadata": {},
   "outputs": [
    {
     "data": {
      "text/plain": [
       "<AxesSubplot:>"
      ]
     },
     "execution_count": 44,
     "metadata": {},
     "output_type": "execute_result"
    },
    {
     "data": {
      "image/png": "[encoded data removed]",
      "text/plain": [
       "<Figure size 432x288 with 1 Axes>"
      ]
     },
     "metadata": {
      "needs_background": "light"
     },
     "output_type": "display_data"
    }
   ],
   "source": [
    "data['floor_type'].sort_values().hist()"
   ]
  },
  {
   "cell_type": "markdown",
   "metadata": {},
   "source": [
    "Если вернуться к предыдущей гистограмме, можно заметить, что удивительно много квартир продается на первом этаже.\n",
    "Но глядя на эти данные, оказывается, квартиры на последнем этаже продаются чаще, чем на первом.\n",
    "Примем к сведению эти данные."
   ]
  },
  {
   "cell_type": "code",
   "execution_count": 45,
   "metadata": {},
   "outputs": [
    {
     "data": {
      "text/plain": [
       "<AxesSubplot:>"
      ]
     },
     "execution_count": 45,
     "metadata": {},
     "output_type": "execute_result"
    },
    {
     "data": {
      "image/png": "[encoded data removed]",
      "text/plain": [
       "<Figure size 432x288 with 1 Axes>"
      ]
     },
     "metadata": {
      "needs_background": "light"
     },
     "output_type": "display_data"
    }
   ],
   "source": [
    "data['floors_total'].sort_values().hist(bins=40, range=(0, 40))"
   ]
  },
  {
   "cell_type": "markdown",
   "metadata": {},
   "source": [
    "В основном квартиры продаются в 5-ти и 9-ти этажных домах. Это логично, так как соответствует типичной застройке городов России. Можно заметить, 3 небольших пика по 13-ти, 17-ти и 26-ти этажным домам. Тоже интересно. Возможно, это последний этаж здания. "
   ]
  },
  {
   "cell_type": "code",
   "execution_count": 46,
   "metadata": {},
   "outputs": [
    {
     "data": {
      "text/plain": [
       "<AxesSubplot:>"
      ]
     },
     "execution_count": 46,
     "metadata": {},
     "output_type": "execute_result"
    },
    {
     "data": {
      "image/png": "[encoded data removed]",
      "text/plain": [
       "<Figure size 432x288 with 1 Axes>"
      ]
     },
     "metadata": {
      "needs_background": "light"
     },
     "output_type": "display_data"
    }
   ],
   "source": [
    "data['cityCenters_nearest'].sort_values().hist(bins=60, range=(0, 60000))"
   ]
  },
  {
   "cell_type": "markdown",
   "metadata": {},
   "source": [
    "Большая часть кватртир находится в 13-14 км от центра города. Также наблдается небольшой пик, где видно, что объявлений о продаже квартир в 5-6км от центра тоже немало.   "
   ]
  },
  {
   "cell_type": "code",
   "execution_count": 47,
   "metadata": {},
   "outputs": [
    {
     "data": {
      "text/plain": [
       "<AxesSubplot:>"
      ]
     },
     "execution_count": 47,
     "metadata": {},
     "output_type": "execute_result"
    },
    {
     "data": {
      "image/png": "[encoded data removed]",
      "text/plain": [
       "<Figure size 432x288 with 1 Axes>"
      ]
     },
     "metadata": {
      "needs_background": "light"
     },
     "output_type": "display_data"
    }
   ],
   "source": [
    "data['airports_nearest'].sort_values().hist(bins=60, range=(0, 60000))"
   ]
  },
  {
   "cell_type": "markdown",
   "metadata": {},
   "source": [
    "Самое частое расстояние до аэропорта в 2 раза превышает расстояние до центра. В выборке более 6000 квартир находится в 25-26 км от ближайшего аэропорта."
   ]
  },
  {
   "cell_type": "code",
   "execution_count": 48,
   "metadata": {},
   "outputs": [
    {
     "data": {
      "text/plain": [
       "<AxesSubplot:>"
      ]
     },
     "execution_count": 48,
     "metadata": {},
     "output_type": "execute_result"
    },
    {
     "data": {
      "image/png": "[encoded data removed]",
      "text/plain": [
       "<Figure size 432x288 with 1 Axes>"
      ]
     },
     "metadata": {
      "needs_background": "light"
     },
     "output_type": "display_data"
    }
   ],
   "source": [
    "data['parks_nearest'].sort_values().hist(bins=50, range=(0, 2700))"
   ]
  },
  {
   "cell_type": "markdown",
   "metadata": {},
   "source": [
    "Если в объявлении и указано расстояние до ближайшего парка, чаще всего до него менее 1 км.\n",
    "При предобработке данных по ближайшим паркам мы указали, что квартиры, в близости которых нет парков, имеют значение в данном столбце **-1**. Посмотрим какое количество от общей массы квартир не имеет парков поблизости."
   ]
  },
  {
   "cell_type": "code",
   "execution_count": 49,
   "metadata": {},
   "outputs": [
    {
     "data": {
      "text/plain": [
       "<AxesSubplot:>"
      ]
     },
     "execution_count": 49,
     "metadata": {},
     "output_type": "execute_result"
    },
    {
     "data": {
      "image/png": "[encoded data removed]",
      "text/plain": [
       "<Figure size 432x288 with 1 Axes>"
      ]
     },
     "metadata": {
      "needs_background": "light"
     },
     "output_type": "display_data"
    }
   ],
   "source": [
    "data['parks_nearest'].sort_values().hist(bins=50, range=(-1, 2700))"
   ]
  },
  {
   "cell_type": "markdown",
   "metadata": {},
   "source": [
    "Почти 16 тысяч объявлений! Вероятно, квартиры с наличием парка поблизости продаются активнее. "
   ]
  },
  {
   "cell_type": "code",
   "execution_count": 50,
   "metadata": {},
   "outputs": [
    {
     "data": {
      "text/plain": [
       "<AxesSubplot:>"
      ]
     },
     "execution_count": 50,
     "metadata": {},
     "output_type": "execute_result"
    },
    {
     "data": {
      "image/png": "[encoded data removed]",
      "text/plain": [
       "<Figure size 432x288 with 1 Axes>"
      ]
     },
     "metadata": {
      "needs_background": "light"
     },
     "output_type": "display_data"
    }
   ],
   "source": [
    "data['weekday_exposition'].sort_values().hist(bins=7, range=(0, 6))"
   ]
  },
  {
   "cell_type": "markdown",
   "metadata": {},
   "source": [
    "По будням объявления выставляются со стабильной частотой. В выходные же резкое понижение - возможно это связано с тем, что у риелторов тоже бывают выходные."
   ]
  },
  {
   "cell_type": "code",
   "execution_count": 51,
   "metadata": {},
   "outputs": [
    {
     "data": {
      "text/plain": [
       "<AxesSubplot:xlabel='month_exposition'>"
      ]
     },
     "execution_count": 51,
     "metadata": {},
     "output_type": "execute_result"
    },
    {
     "data": {
      "image/png": "[encoded data removed]",
      "text/plain": [
       "<Figure size 864x432 with 1 Axes>"
      ]
     },
     "metadata": {
      "needs_background": "light"
     },
     "output_type": "display_data"
    }
   ],
   "source": [
    "data.pivot_table(index='month_exposition', values='first_day_exposition', aggfunc='count').plot(kind=\"bar\", figsize = (12, 6))  "
   ]
  },
  {
   "cell_type": "markdown",
   "metadata": {},
   "source": [
    "В 2017 году сервис Яндекс.Недвижимость стал значительно набирать обороты. \n",
    "Проводя анализ, можно подметить следующее:\n",
    "- в январе и мае наблюдается спад количества объявлений\n",
    "- в феврале и ноябре выставляется больше всего объявлений\n",
    "\n",
    "**Вывод**: Судя по графику, активнее всего объявления выставляются в феврале(спад до мая, затем снова рост) и ноябре(спад до января)."
   ]
  },
  {
   "cell_type": "markdown",
   "metadata": {},
   "source": [
    "**Изучим, как быстро продавались квартиры, а также узнаем какие продажи являются слишком быстрыми, а какие слишком долгими.**"
   ]
  },
  {
   "cell_type": "code",
   "execution_count": 52,
   "metadata": {},
   "outputs": [
    {
     "name": "stdout",
     "output_type": "stream",
     "text": [
      "\n",
      "Медиана активности объявления: 86.0\n",
      "\n",
      "Среднее время активности объявления: 128.75745033112582\n"
     ]
    },
    {
     "data": {
      "image/png": "[encoded data removed]",
      "text/plain": [
       "<Figure size 432x288 with 1 Axes>"
      ]
     },
     "metadata": {
      "needs_background": "light"
     },
     "output_type": "display_data"
    }
   ],
   "source": [
    "data['days_exposition'].sort_values().hist(bins=60, range=(0, 1000))\n",
    "print()\n",
    "print('Медиана активности объявления:', data['days_exposition'].median())\n",
    "print()\n",
    "print('Среднее время активности объявления:',data['days_exposition'].mean())"
   ]
  },
  {
   "cell_type": "markdown",
   "metadata": {},
   "source": [
    "В среднем, продажа квартиры занимает 112 дней. Но это среднее значение, которое нельзя считать объективным показателем.\n",
    "По медиане продажа квартиры занимает 95 дней. В сопоставлении с гистограммой всё сходится.\n",
    "\n",
    "Основная часть объявлений остаются активными на протяжении 200 дней. Объявления, находящиеся активными дольше, встречаются все реже.\n",
    "\n",
    "Изучим поподробнее отдельно быстрые продажи и долгие."
   ]
  },
  {
   "cell_type": "code",
   "execution_count": 53,
   "metadata": {},
   "outputs": [
    {
     "data": {
      "text/plain": [
       "<AxesSubplot:>"
      ]
     },
     "execution_count": 53,
     "metadata": {},
     "output_type": "execute_result"
    },
    {
     "data": {
      "image/png": "[encoded data removed]",
      "text/plain": [
       "<Figure size 432x288 with 1 Axes>"
      ]
     },
     "metadata": {
      "needs_background": "light"
     },
     "output_type": "display_data"
    }
   ],
   "source": [
    "data['days_exposition'].sort_values().hist(bins=50, range=(0, 150))"
   ]
  },
  {
   "cell_type": "markdown",
   "metadata": {},
   "source": [
    "По данной гистограмме стало понятно, что большое количество продаж происходит на 95-ом дне активности объявления.\n",
    "Есть небольшие пики на 45-ом и 62-ом днях.\n",
    "\n",
    "**Вывод:** Значения ниже 45 дней можно считать слишком быстрыми продажами.\n",
    "Продажи до 20 дней, предположительно, могут быть фейковыми. То есть объявление было снято без продажи объекта, либо по другим причинам.\n",
    "Продажи дольше 200 дней можно считать долгими, так как выбиваются из общей массы времени продаж. "
   ]
  },
  {
   "cell_type": "markdown",
   "metadata": {},
   "source": [
    "**Узнаем какие факторы больше всего влияют на общую (полную) стоимость объекта**"
   ]
  },
  {
   "cell_type": "code",
   "execution_count": 54,
   "metadata": {},
   "outputs": [
    {
     "data": {
      "image/png": "[encoded data removed]",
      "text/plain": [
       "<Figure size 720x360 with 1 Axes>"
      ]
     },
     "metadata": {
      "needs_background": "light"
     },
     "output_type": "display_data"
    },
    {
     "name": "stdout",
     "output_type": "stream",
     "text": [
      "0.7835202462310925\n"
     ]
    }
   ],
   "source": [
    "data.pivot_table(index='total_area', values='last_price').plot(grid=True, style='o', figsize=(10,5), alpha=0.5)\n",
    "plt.title('Корреляция')\n",
    "plt.xlabel('Общ. площадь')\n",
    "plt.ylabel('Цена')\n",
    "plt.show()\n",
    "print(data['last_price'].corr(data['total_area']))"
   ]
  },
  {
   "cell_type": "markdown",
   "metadata": {},
   "source": [
    "Корреляция цены и общей площади 0.69"
   ]
  },
  {
   "cell_type": "code",
   "execution_count": 55,
   "metadata": {},
   "outputs": [
    {
     "data": {
      "image/png": "[encoded data removed]",
      "text/plain": [
       "<Figure size 720x360 with 1 Axes>"
      ]
     },
     "metadata": {
      "needs_background": "light"
     },
     "output_type": "display_data"
    },
    {
     "name": "stdout",
     "output_type": "stream",
     "text": [
      "0.6239259952183015\n"
     ]
    }
   ],
   "source": [
    "data.pivot_table(index='living_area', values='last_price').plot(grid=True, style='o', figsize=(10,5), alpha=0.5)\n",
    "plt.title('Корреляция')\n",
    "plt.xlabel('Жил. площадь')\n",
    "plt.ylabel('Цена')\n",
    "plt.show()\n",
    "print(data['last_price'].corr(data['living_area']))"
   ]
  },
  {
   "cell_type": "markdown",
   "metadata": {},
   "source": [
    "Корреляция цены и жилой площади 0.53"
   ]
  },
  {
   "cell_type": "code",
   "execution_count": 56,
   "metadata": {},
   "outputs": [
    {
     "data": {
      "image/png": "[encoded data removed]",
      "text/plain": [
       "<Figure size 720x360 with 1 Axes>"
      ]
     },
     "metadata": {
      "needs_background": "light"
     },
     "output_type": "display_data"
    },
    {
     "name": "stdout",
     "output_type": "stream",
     "text": [
      "0.49215358063513726\n"
     ]
    }
   ],
   "source": [
    "data.pivot_table(index='kitchen_area', values='last_price').plot(grid=True, style='o', figsize=(10,5), alpha=0.5)\n",
    "plt.title('Корреляция')\n",
    "plt.xlabel('Площадь кухни')\n",
    "plt.ylabel('Цена')\n",
    "plt.show()\n",
    "print(data['last_price'].corr(data['kitchen_area']))"
   ]
  },
  {
   "cell_type": "markdown",
   "metadata": {},
   "source": [
    "Корреляция цены и площади кухни 0.44"
   ]
  },
  {
   "cell_type": "code",
   "execution_count": 57,
   "metadata": {},
   "outputs": [
    {
     "data": {
      "image/png": "[encoded data removed]",
      "text/plain": [
       "<Figure size 720x360 with 1 Axes>"
      ]
     },
     "metadata": {
      "needs_background": "light"
     },
     "output_type": "display_data"
    },
    {
     "name": "stdout",
     "output_type": "stream",
     "text": [
      "0.5256393370067798\n"
     ]
    }
   ],
   "source": [
    "data.pivot_table(index='rooms', values='last_price').plot(grid=True, style='o', figsize=(10,5), alpha=0.5)\n",
    "plt.title('Корреляция')\n",
    "plt.xlabel('Кол-во комнат')\n",
    "plt.ylabel('Цена')\n",
    "plt.show()\n",
    "print(data['last_price'].corr(data['rooms']))"
   ]
  },
  {
   "cell_type": "markdown",
   "metadata": {},
   "source": [
    "Корреляция цены и количества комнат 0.44"
   ]
  },
  {
   "cell_type": "code",
   "execution_count": 58,
   "metadata": {},
   "outputs": [
    {
     "data": {
      "image/png": "[encoded data removed]",
      "text/plain": [
       "<Figure size 720x360 with 1 Axes>"
      ]
     },
     "metadata": {
      "needs_background": "light"
     },
     "output_type": "display_data"
    }
   ],
   "source": [
    "data.pivot_table(index='floor_type', values='last_price', aggfunc='mean').plot(grid=True, style='o', figsize=(10,5), alpha=0.5)\n",
    "plt.title('Корреляция')\n",
    "plt.xlabel('Тип этажа')\n",
    "plt.ylabel('Цена')\n",
    "plt.show()"
   ]
  },
  {
   "cell_type": "markdown",
   "metadata": {},
   "source": [
    "Квартиры на первом этаже самые дешевые. На последнем имеют среднюю стоимость, на других же этажах квартиры дороже."
   ]
  },
  {
   "cell_type": "code",
   "execution_count": 59,
   "metadata": {},
   "outputs": [
    {
     "data": {
      "image/png": "[encoded data removed]",
      "text/plain": [
       "<Figure size 720x360 with 1 Axes>"
      ]
     },
     "metadata": {
      "needs_background": "light"
     },
     "output_type": "display_data"
    },
    {
     "name": "stdout",
     "output_type": "stream",
     "text": [
      "-0.008070357983095796\n"
     ]
    }
   ],
   "source": [
    "data.pivot_table(index='weekday_exposition', values='last_price').plot(grid=True, style='o', figsize=(10,5), alpha=0.5)\n",
    "plt.title('Корреляция')\n",
    "plt.xlabel('День недели')\n",
    "plt.ylabel('Цена')\n",
    "plt.show() \n",
    "print(data['last_price'].corr(data['weekday_exposition']))"
   ]
  },
  {
   "cell_type": "markdown",
   "metadata": {},
   "source": [
    "Корреляция цены и дня недели выставления объявления о продаже 0.\n",
    "Продажа квартиры никак не зависит от дня, когда было выставлено объявление."
   ]
  },
  {
   "cell_type": "code",
   "execution_count": 60,
   "metadata": {},
   "outputs": [
    {
     "data": {
      "image/png": "[encoded data removed]",
      "text/plain": [
       "<Figure size 1800x432 with 1 Axes>"
      ]
     },
     "metadata": {
      "needs_background": "light"
     },
     "output_type": "display_data"
    }
   ],
   "source": [
    "data.pivot_table(index='month_exposition', values='last_price').plot(grid=True, style='o', figsize=(25,6))\n",
    "plt.title('Корреляция')\n",
    "plt.xlabel('Месяц')\n",
    "plt.ylabel('Цена')\n",
    "plt.show() "
   ]
  },
  {
   "cell_type": "markdown",
   "metadata": {},
   "source": [
    "Самые низкие цены на квартиры можно наблюдать в июне и октябре. Самые же дорогие месяцы для покупки квартиры - сентябрь и декабрь."
   ]
  },
  {
   "cell_type": "code",
   "execution_count": 61,
   "metadata": {},
   "outputs": [
    {
     "data": {
      "image/png": "[encoded data removed]",
      "text/plain": [
       "<Figure size 720x432 with 1 Axes>"
      ]
     },
     "metadata": {
      "needs_background": "light"
     },
     "output_type": "display_data"
    }
   ],
   "source": [
    "data.pivot_table(index='year_exposition', values='last_price').plot(grid=True, style='o', figsize=(10,6))\n",
    "plt.title('Корреляция')\n",
    "plt.xlabel('Год')\n",
    "plt.ylabel('Цена')\n",
    "plt.show() "
   ]
  },
  {
   "cell_type": "markdown",
   "metadata": {},
   "source": [
    "С 2015 до 2017 года заметен спад в стоимости квартир.\n",
    "После 2017 года недвижимость снова начала дорожать."
   ]
  },
  {
   "cell_type": "markdown",
   "metadata": {},
   "source": [
    "**Вывод:** Общая площадь объекта месяц продажи квартиры и тип этажа больше всего влияют на полную стоимость. "
   ]
  },
  {
   "cell_type": "markdown",
   "metadata": {},
   "source": [
    "**Посчитаем среднюю цену одного квадратного метра в 10 населённых пунктах с наибольшим числом объявлений.**"
   ]
  },
  {
   "cell_type": "code",
   "execution_count": 62,
   "metadata": {},
   "outputs": [
    {
     "data": {
      "text/plain": [
       "Санкт-Петербург    13591\n",
       "Шушары               404\n",
       "Колпино              307\n",
       "Пушкин               307\n",
       "Парголово            302\n",
       "Петергоф             176\n",
       "Сестрорецк           163\n",
       "КрасноеСело          157\n",
       "Ломоносов            113\n",
       "Кронштадт             86\n",
       "Name: locality_name, dtype: int64"
      ]
     },
     "execution_count": 62,
     "metadata": {},
     "output_type": "execute_result"
    }
   ],
   "source": [
    "data['locality_name'].value_counts().head(10)"
   ]
  },
  {
   "cell_type": "code",
   "execution_count": 63,
   "metadata": {},
   "outputs": [
    {
     "name": "stdout",
     "output_type": "stream",
     "text": [
      "Средняя цена одного квадратного метра в 10 насиленных пунктах с наибольшим числом объявлений:\n"
     ]
    },
    {
     "data": {
      "text/html": [
       "<div>\n",
       "<style scoped>\n",
       "    .dataframe tbody tr th:only-of-type {\n",
       "        vertical-align: middle;\n",
       "    }\n",
       "\n",
       "    .dataframe tbody tr th {\n",
       "        vertical-align: top;\n",
       "    }\n",
       "\n",
       "    .dataframe thead th {\n",
       "        text-align: right;\n",
       "    }\n",
       "</style>\n",
       "<table border=\"1\" class=\"dataframe\">\n",
       "  <thead>\n",
       "    <tr style=\"text-align: right;\">\n",
       "      <th></th>\n",
       "      <th>square_price</th>\n",
       "    </tr>\n",
       "    <tr>\n",
       "      <th>locality_name</th>\n",
       "      <th></th>\n",
       "    </tr>\n",
       "  </thead>\n",
       "  <tbody>\n",
       "    <tr>\n",
       "      <th>Колпино</th>\n",
       "      <td>74610.157480</td>\n",
       "    </tr>\n",
       "    <tr>\n",
       "      <th>Мурино</th>\n",
       "      <td>79495.249451</td>\n",
       "    </tr>\n",
       "    <tr>\n",
       "      <th>Парголово</th>\n",
       "      <td>89672.150523</td>\n",
       "    </tr>\n",
       "    <tr>\n",
       "      <th>Пушкин</th>\n",
       "      <td>100223.451606</td>\n",
       "    </tr>\n",
       "    <tr>\n",
       "      <th>Санкт-Петербург</th>\n",
       "      <td>104792.455187</td>\n",
       "    </tr>\n",
       "    <tr>\n",
       "      <th>Шушары</th>\n",
       "      <td>77753.276552</td>\n",
       "    </tr>\n",
       "  </tbody>\n",
       "</table>\n",
       "</div>"
      ],
      "text/plain": [
       "                  square_price\n",
       "locality_name                 \n",
       "Колпино           74610.157480\n",
       "Мурино            79495.249451\n",
       "Парголово         89672.150523\n",
       "Пушкин           100223.451606\n",
       "Санкт-Петербург  104792.455187\n",
       "Шушары            77753.276552"
      ]
     },
     "execution_count": 63,
     "metadata": {},
     "output_type": "execute_result"
    }
   ],
   "source": [
    "locality_name_top10 = data.query('locality_name in [\"Санкт-Петербург\", \"Мурино\", \"Кудрово\", \"Шушары\", \"Всеволожск\", \"Пушкин\", \"Колпино\", \"Парголово\", \"Гатчина\", \"Выборг\"]')\n",
    "square_price_top10 = locality_name_top10[['locality_name', 'square_price']]\n",
    "square_price_top10.dropna()\n",
    "print('Средняя цена одного квадратного метра в 10 насиленных пунктах с наибольшим числом объявлений:')\n",
    "(square_price_top10.groupby('locality_name').sum()) / (square_price_top10.groupby('locality_name').count())"
   ]
  },
  {
   "cell_type": "markdown",
   "metadata": {},
   "source": [
    "**Вывод:** Самые дорогие квадратные метры в Санкт-Петербурге и Пушкине. Из топ-10 городов, дешевле всего обходится жилье в Выборге."
   ]
  },
  {
   "cell_type": "markdown",
   "metadata": {},
   "source": [
    "**Узнаем, зависит ли стоимость объектов в Санкт-Петербурге от расстояния до центра города.**"
   ]
  },
  {
   "cell_type": "code",
   "execution_count": 64,
   "metadata": {},
   "outputs": [
    {
     "data": {
      "image/png": "[encoded data removed]",
      "text/plain": [
       "<Figure size 1080x504 with 1 Axes>"
      ]
     },
     "metadata": {
      "needs_background": "light"
     },
     "output_type": "display_data"
    }
   ],
   "source": [
    "st_petersburg = data[data['locality_name'] == 'Санкт-Петербург']\n",
    "#cityCenters_nearest_km_price = (st_petersburg['square_price']) / (st_petersburg ['cityCenters_nearest_km'])\n",
    "#st_petersburg['cityCenters_nearest_km_price'] = cityCenters_nearest_km_price\n",
    "#st_petersburg_pivot = st_petersburg.pivot_table(index='cityCenters_nearest_km', values='cityCenters_nearest_km_price', aggfunc='mean')\n",
    "#st_petersburg_pivot.plot(grid=True, style='o', kind='bar', figsize=(15,7))\n",
    "#plt.xlabel('Расстояние до центра (в км)')\n",
    "#plt.ylabel('Цена за кв м')\n",
    "\n",
    "st_petersburg.pivot_table(index='cityCenters_nearest_km', values='square_price').plot(grid=True, style='o', kind='bar', figsize=(15,7))\n",
    "plt.xlabel('Расстояние до центра (в км)');\n",
    "plt.ylabel('Цена за кв м');"
   ]
  },
  {
   "cell_type": "code",
   "execution_count": 65,
   "metadata": {},
   "outputs": [
    {
     "name": "stdout",
     "output_type": "stream",
     "text": [
      "<class 'pandas.core.frame.DataFrame'>\n",
      "Int64Index: 15802 entries, 1 to 23697\n",
      "Data columns (total 28 columns):\n",
      " #   Column                  Non-Null Count  Dtype         \n",
      "---  ------                  --------------  -----         \n",
      " 0   total_images            15802 non-null  int64         \n",
      " 1   last_price              14457 non-null  float64       \n",
      " 2   total_area              14960 non-null  float64       \n",
      " 3   first_day_exposition    15802 non-null  datetime64[ns]\n",
      " 4   rooms                   15669 non-null  float64       \n",
      " 5   ceiling_height          13698 non-null  float64       \n",
      " 6   floors_total            15802 non-null  float64       \n",
      " 7   living_area             15200 non-null  float64       \n",
      " 8   floor                   15802 non-null  int64         \n",
      " 9   is_apartment            15802 non-null  bool          \n",
      " 10  studio                  15802 non-null  bool          \n",
      " 11  open_plan               15802 non-null  bool          \n",
      " 12  kitchen_area            14890 non-null  float64       \n",
      " 13  balcony                 15802 non-null  float64       \n",
      " 14  locality_name           15802 non-null  object        \n",
      " 15  airports_nearest        15802 non-null  float64       \n",
      " 16  cityCenters_nearest     15802 non-null  float64       \n",
      " 17  parks_around3000        15802 non-null  float64       \n",
      " 18  parks_nearest           15802 non-null  float64       \n",
      " 19  ponds_around3000        15802 non-null  float64       \n",
      " 20  ponds_nearest           15802 non-null  float64       \n",
      " 21  days_exposition         14496 non-null  float64       \n",
      " 22  square_price            14314 non-null  float64       \n",
      " 23  weekday_exposition      15802 non-null  int64         \n",
      " 24  month_exposition        15802 non-null  int64         \n",
      " 25  year_exposition         15802 non-null  period[A-DEC] \n",
      " 26  floor_type              15802 non-null  object        \n",
      " 27  cityCenters_nearest_km  15802 non-null  float64       \n",
      "dtypes: bool(3), datetime64[ns](1), float64(17), int64(4), object(2), period[A-DEC](1)\n",
      "memory usage: 3.2+ MB\n"
     ]
    }
   ],
   "source": [
    "data.info()"
   ]
  },
  {
   "cell_type": "markdown",
   "metadata": {},
   "source": [
    "**Вывод:** Да, стоимость объектов в Санкт-Петербунге зависит от расстояния до центра. Объекты в радиусе 1км от центра имеют самую высокую цену (более 120 тыс за 1 кв м). "
   ]
  },
  {
   "cell_type": "markdown",
   "metadata": {},
   "source": [
    "### Общий вывод"
   ]
  },
  {
   "cell_type": "markdown",
   "metadata": {},
   "source": [
    "Мы провели предобработку данных и изучили таблицу.\n",
    "Можно выделить следующие особенности и зависимости, которые существуют на рынки недвижимости:\n",
    "\n",
    "1. По будням объявления выставляются со стабильной частотой. В выходные показатели падают в 2 раза. Скорее всего это связано с выходными днями у риелторов.\n",
    "\n",
    "2. Большинство квартир продаются в 5-ти и 9-ти этажных домах и являются 2-ух и 3-ех комнатными. \n",
    "\n",
    "3. Обычно квартиры продаются в течение 100 дней. Значения ниже 45 дней можно считать слишком быстрыми продажами. Продажи до 20 дней, предположительно, могут быть фейковыми. То есть объявление было снято без продажи объекта, либо по другим причинам. Продажи дольше 200 дней можно считать долгими, так как выбиваются из общей массы времени продаж.\n",
    "\n",
    "4. Общая площадь объекта и тип этажа больше всего влияют на полную стоимость. Если с общей площадью все логично и понятно (чем больше, тем дороже объект), то по поводу типа этажа данные следующие:\n",
    "- Квартиры на первом этаже самые дешевые (4.1млн - среднее значение стоимости)\n",
    "- На последнем имеют среднюю стоимость  (4.5 - среднее значение стоимости)\n",
    "- На других же этажах квартиры дороже (5.0 - среднее значение стоимости)\n",
    "\n",
    "5. Самые дорогие квадратные метры в Санкт-Петербурге и Пушкине. Из топ-10 городов, дешевле всего обходится жилье в Выборге.\n",
    "- Средняя стоимость квадратного метра в Санкт-Петербурге: 105684\n",
    "- Средняя стоимость квадратного метра в Пушкине: 100462\n",
    "- Средняя стоимость квадратного метра в Выборге: 58225\n",
    "\n",
    "6. Стоимость объектов в Санкт-Петербунге зависит от расстояния до центра. Объекты в радиусе 1км от центра имеют самую высокую цену (более 120 тыс за 1 кв м). \n",
    "\n",
    "7. Продажа квартиры никак не зависит от дня, когда было выставлено объявление. Самые низкие цены на квартиры можно наблюдать в июне и октябре. Самые же дорогие месяцы для покупки квартиры - сентябрь и декабрь. С 2015 до 2017 года заметен спад в стоимости квартир. После 2017 года недвижимость снова начала дорожать, цены на рынке недвижимости плавно растут со временем."
   ]
  }
 ],
 "metadata": {
  "ExecuteTimeLog": [
   {
    "duration": 1804,
    "start_time": "2023-06-17T12:51:16.986Z"
   },
   {
    "duration": 237,
    "start_time": "2023-06-17T12:51:28.116Z"
   },
   {
    "duration": 215,
    "start_time": "2023-06-17T12:51:52.738Z"
   },
   {
    "duration": 203,
    "start_time": "2023-06-17T12:52:36.102Z"
   },
   {
    "duration": 218,
    "start_time": "2023-06-17T12:56:33.401Z"
   },
   {
    "duration": 35,
    "start_time": "2023-06-17T12:56:44.604Z"
   },
   {
    "duration": 3290,
    "start_time": "2023-06-17T12:59:19.209Z"
   },
   {
    "duration": 20,
    "start_time": "2023-06-17T13:07:10.939Z"
   },
   {
    "duration": 222,
    "start_time": "2023-06-17T13:07:25.924Z"
   },
   {
    "duration": 28,
    "start_time": "2023-06-17T13:07:35.813Z"
   },
   {
    "duration": 36,
    "start_time": "2023-06-17T13:12:14.132Z"
   },
   {
    "duration": 80,
    "start_time": "2023-06-17T13:12:41.813Z"
   },
   {
    "duration": 66,
    "start_time": "2023-06-17T13:12:53.135Z"
   },
   {
    "duration": 36,
    "start_time": "2023-06-17T13:13:11.441Z"
   },
   {
    "duration": 59,
    "start_time": "2023-06-17T13:13:18.908Z"
   },
   {
    "duration": 1588,
    "start_time": "2023-06-17T13:14:55.453Z"
   },
   {
    "duration": 92,
    "start_time": "2023-06-17T13:16:40.487Z"
   },
   {
    "duration": 1442,
    "start_time": "2023-06-17T13:18:08.635Z"
   },
   {
    "duration": 69,
    "start_time": "2023-06-17T13:18:10.084Z"
   },
   {
    "duration": 4825,
    "start_time": "2023-06-17T13:18:10.160Z"
   },
   {
    "duration": 33,
    "start_time": "2023-06-17T13:18:15.002Z"
   },
   {
    "duration": 36,
    "start_time": "2023-06-17T13:18:15.045Z"
   },
   {
    "duration": 33,
    "start_time": "2023-06-17T13:18:38.944Z"
   },
   {
    "duration": 87,
    "start_time": "2023-06-17T13:20:34.025Z"
   },
   {
    "duration": 32,
    "start_time": "2023-06-17T13:20:55.525Z"
   },
   {
    "duration": 14,
    "start_time": "2023-06-17T13:22:40.335Z"
   },
   {
    "duration": 55,
    "start_time": "2023-06-17T13:22:46.243Z"
   },
   {
    "duration": 910,
    "start_time": "2023-06-17T13:23:04.430Z"
   },
   {
    "duration": 100,
    "start_time": "2023-06-17T13:23:05.349Z"
   },
   {
    "duration": 4338,
    "start_time": "2023-06-17T13:23:05.455Z"
   },
   {
    "duration": 41,
    "start_time": "2023-06-17T13:23:09.816Z"
   },
   {
    "duration": 44,
    "start_time": "2023-06-17T13:23:09.865Z"
   },
   {
    "duration": 127,
    "start_time": "2023-06-17T13:27:59.741Z"
   },
   {
    "duration": 24,
    "start_time": "2023-06-17T13:28:31.925Z"
   },
   {
    "duration": 25,
    "start_time": "2023-06-17T13:29:16.440Z"
   },
   {
    "duration": 7,
    "start_time": "2023-06-17T13:29:59.509Z"
   },
   {
    "duration": 14,
    "start_time": "2023-06-17T13:30:33.636Z"
   },
   {
    "duration": 19,
    "start_time": "2023-06-17T13:35:35.026Z"
   },
   {
    "duration": 17,
    "start_time": "2023-06-17T13:36:00.464Z"
   },
   {
    "duration": 15,
    "start_time": "2023-06-17T13:37:28.371Z"
   },
   {
    "duration": 5,
    "start_time": "2023-06-17T13:38:12.928Z"
   },
   {
    "duration": 1287,
    "start_time": "2023-06-17T13:38:35.456Z"
   },
   {
    "duration": 42,
    "start_time": "2023-06-17T13:38:36.744Z"
   },
   {
    "duration": 19,
    "start_time": "2023-06-17T13:38:36.789Z"
   },
   {
    "duration": 22,
    "start_time": "2023-06-17T13:38:39.831Z"
   },
   {
    "duration": 29,
    "start_time": "2023-06-17T13:38:57.960Z"
   },
   {
    "duration": 258,
    "start_time": "2023-06-17T13:43:45.911Z"
   },
   {
    "duration": 17,
    "start_time": "2023-06-17T13:46:16.910Z"
   },
   {
    "duration": 60,
    "start_time": "2023-06-17T13:46:30.972Z"
   },
   {
    "duration": 66,
    "start_time": "2023-06-17T13:46:40.535Z"
   },
   {
    "duration": 63,
    "start_time": "2023-06-17T13:48:06.844Z"
   },
   {
    "duration": 35,
    "start_time": "2023-06-17T13:48:51.226Z"
   },
   {
    "duration": 864,
    "start_time": "2023-06-17T13:49:04.928Z"
   },
   {
    "duration": 54,
    "start_time": "2023-06-17T13:49:05.795Z"
   },
   {
    "duration": 6,
    "start_time": "2023-06-17T13:49:05.855Z"
   },
   {
    "duration": 168,
    "start_time": "2023-06-17T13:49:05.866Z"
   },
   {
    "duration": 30,
    "start_time": "2023-06-17T13:49:26.483Z"
   },
   {
    "duration": 50,
    "start_time": "2023-06-17T13:49:58.968Z"
   },
   {
    "duration": 157,
    "start_time": "2023-06-17T13:50:35.335Z"
   },
   {
    "duration": 32,
    "start_time": "2023-06-17T13:50:57.112Z"
   },
   {
    "duration": 20,
    "start_time": "2023-06-17T13:51:09.571Z"
   },
   {
    "duration": 22,
    "start_time": "2023-06-17T13:54:49.651Z"
   },
   {
    "duration": 8,
    "start_time": "2023-06-17T13:55:49.949Z"
   },
   {
    "duration": 20,
    "start_time": "2023-06-17T13:56:52.282Z"
   },
   {
    "duration": 21,
    "start_time": "2023-06-17T13:57:05.508Z"
   },
   {
    "duration": 27,
    "start_time": "2023-06-17T13:57:11.911Z"
   },
   {
    "duration": 17,
    "start_time": "2023-06-17T13:57:50.443Z"
   },
   {
    "duration": 87,
    "start_time": "2023-06-17T13:57:54.068Z"
   },
   {
    "duration": 62,
    "start_time": "2023-06-17T13:58:03.811Z"
   },
   {
    "duration": 16,
    "start_time": "2023-06-17T13:58:37.480Z"
   },
   {
    "duration": 15,
    "start_time": "2023-06-17T13:58:48.369Z"
   },
   {
    "duration": 1027,
    "start_time": "2023-06-17T14:00:13.682Z"
   },
   {
    "duration": 36,
    "start_time": "2023-06-17T14:00:14.725Z"
   },
   {
    "duration": 92,
    "start_time": "2023-06-17T14:00:14.777Z"
   },
   {
    "duration": 77,
    "start_time": "2023-06-17T14:00:14.880Z"
   },
   {
    "duration": 55,
    "start_time": "2023-06-17T14:00:14.966Z"
   },
   {
    "duration": 109,
    "start_time": "2023-06-17T14:00:15.024Z"
   },
   {
    "duration": 33,
    "start_time": "2023-06-17T14:13:04.160Z"
   },
   {
    "duration": 292,
    "start_time": "2023-06-17T14:13:16.037Z"
   },
   {
    "duration": 1133,
    "start_time": "2023-06-17T14:13:52.924Z"
   },
   {
    "duration": 29,
    "start_time": "2023-06-17T14:13:54.063Z"
   },
   {
    "duration": 10,
    "start_time": "2023-06-17T14:13:54.103Z"
   },
   {
    "duration": 22,
    "start_time": "2023-06-17T14:13:54.119Z"
   },
   {
    "duration": 48,
    "start_time": "2023-06-17T14:13:57.872Z"
   },
   {
    "duration": 480,
    "start_time": "2023-06-17T14:14:12.008Z"
   },
   {
    "duration": 16,
    "start_time": "2023-06-17T14:15:06.675Z"
   },
   {
    "duration": 11,
    "start_time": "2023-06-17T14:17:29.314Z"
   },
   {
    "duration": 205,
    "start_time": "2023-06-17T14:20:29.229Z"
   },
   {
    "duration": 29,
    "start_time": "2023-06-17T14:20:34.124Z"
   },
   {
    "duration": 33,
    "start_time": "2023-06-17T14:20:54.272Z"
   },
   {
    "duration": 22,
    "start_time": "2023-06-17T14:21:22.851Z"
   },
   {
    "duration": 31,
    "start_time": "2023-06-17T14:24:00.874Z"
   },
   {
    "duration": 30,
    "start_time": "2023-06-17T14:24:13.715Z"
   },
   {
    "duration": 1225,
    "start_time": "2023-06-17T14:24:33.210Z"
   },
   {
    "duration": 58,
    "start_time": "2023-06-17T14:24:34.437Z"
   },
   {
    "duration": 5,
    "start_time": "2023-06-17T14:24:34.497Z"
   },
   {
    "duration": 73,
    "start_time": "2023-06-17T14:24:34.504Z"
   },
   {
    "duration": 33,
    "start_time": "2023-06-17T14:24:34.580Z"
   },
   {
    "duration": 344,
    "start_time": "2023-06-17T14:24:34.615Z"
   },
   {
    "duration": 42,
    "start_time": "2023-06-17T14:24:50.051Z"
   },
   {
    "duration": 59,
    "start_time": "2023-06-17T14:25:14.015Z"
   },
   {
    "duration": 30,
    "start_time": "2023-06-17T14:25:52.607Z"
   },
   {
    "duration": 1527,
    "start_time": "2023-06-17T14:26:02.772Z"
   },
   {
    "duration": 39,
    "start_time": "2023-06-17T14:26:04.306Z"
   },
   {
    "duration": 6,
    "start_time": "2023-06-17T14:26:04.349Z"
   },
   {
    "duration": 16,
    "start_time": "2023-06-17T14:26:04.358Z"
   },
   {
    "duration": 61,
    "start_time": "2023-06-17T14:26:04.376Z"
   },
   {
    "duration": 224,
    "start_time": "2023-06-17T14:26:41.501Z"
   },
   {
    "duration": 15,
    "start_time": "2023-06-17T14:28:07.000Z"
   },
   {
    "duration": 15,
    "start_time": "2023-06-17T14:28:26.306Z"
   },
   {
    "duration": 1158,
    "start_time": "2023-06-17T14:28:37.219Z"
   },
   {
    "duration": 58,
    "start_time": "2023-06-17T14:28:38.379Z"
   },
   {
    "duration": 6,
    "start_time": "2023-06-17T14:28:38.439Z"
   },
   {
    "duration": 54,
    "start_time": "2023-06-17T14:28:38.447Z"
   },
   {
    "duration": 29,
    "start_time": "2023-06-17T14:28:38.504Z"
   },
   {
    "duration": 22,
    "start_time": "2023-06-17T14:28:52.131Z"
   },
   {
    "duration": 15,
    "start_time": "2023-06-17T14:29:03.919Z"
   },
   {
    "duration": 7,
    "start_time": "2023-06-17T14:30:19.814Z"
   },
   {
    "duration": 18,
    "start_time": "2023-06-17T14:30:25.363Z"
   },
   {
    "duration": 16,
    "start_time": "2023-06-17T14:30:45.256Z"
   },
   {
    "duration": 17,
    "start_time": "2023-06-17T14:36:15.694Z"
   },
   {
    "duration": 23,
    "start_time": "2023-06-17T14:36:25.575Z"
   },
   {
    "duration": 4783,
    "start_time": "2023-06-17T14:38:25.514Z"
   },
   {
    "duration": 174,
    "start_time": "2023-06-17T14:46:40.086Z"
   },
   {
    "duration": 119,
    "start_time": "2023-06-17T14:46:47.866Z"
   },
   {
    "duration": 38,
    "start_time": "2023-06-17T14:47:10.815Z"
   },
   {
    "duration": 44,
    "start_time": "2023-06-17T14:47:20.207Z"
   },
   {
    "duration": 94,
    "start_time": "2023-06-17T14:47:24.538Z"
   },
   {
    "duration": 16,
    "start_time": "2023-06-17T14:49:10.785Z"
   },
   {
    "duration": 8,
    "start_time": "2023-06-17T14:51:45.902Z"
   },
   {
    "duration": 5,
    "start_time": "2023-06-17T14:52:21.247Z"
   },
   {
    "duration": 180,
    "start_time": "2023-06-17T14:53:46.307Z"
   },
   {
    "duration": 29,
    "start_time": "2023-06-17T14:54:00.716Z"
   },
   {
    "duration": 30,
    "start_time": "2023-06-17T14:54:23.663Z"
   },
   {
    "duration": 863,
    "start_time": "2023-06-17T14:54:49.014Z"
   },
   {
    "duration": 57,
    "start_time": "2023-06-17T14:54:49.889Z"
   },
   {
    "duration": 3630,
    "start_time": "2023-06-17T14:54:49.958Z"
   },
   {
    "duration": 17,
    "start_time": "2023-06-17T14:54:53.594Z"
   },
   {
    "duration": 19,
    "start_time": "2023-06-17T14:54:53.622Z"
   },
   {
    "duration": 10,
    "start_time": "2023-06-17T14:54:53.650Z"
   },
   {
    "duration": 53,
    "start_time": "2023-06-17T14:54:53.665Z"
   },
   {
    "duration": 169,
    "start_time": "2023-06-17T14:54:53.727Z"
   },
   {
    "duration": 31,
    "start_time": "2023-06-17T14:55:27.086Z"
   },
   {
    "duration": 19,
    "start_time": "2023-06-17T14:55:44.218Z"
   },
   {
    "duration": 6,
    "start_time": "2023-06-17T14:55:49.792Z"
   },
   {
    "duration": 11,
    "start_time": "2023-06-17T14:55:53.958Z"
   },
   {
    "duration": 11,
    "start_time": "2023-06-17T14:56:35.747Z"
   },
   {
    "duration": 7,
    "start_time": "2023-06-17T14:56:55.485Z"
   },
   {
    "duration": 5,
    "start_time": "2023-06-17T14:57:11.868Z"
   },
   {
    "duration": 11,
    "start_time": "2023-06-17T14:57:13.854Z"
   },
   {
    "duration": 30,
    "start_time": "2023-06-17T14:57:22.787Z"
   },
   {
    "duration": 47,
    "start_time": "2023-06-17T15:03:47.103Z"
   },
   {
    "duration": 108,
    "start_time": "2023-06-17T15:05:07.207Z"
   },
   {
    "duration": 205,
    "start_time": "2023-06-17T15:07:46.959Z"
   },
   {
    "duration": 0,
    "start_time": "2023-06-17T15:08:02.911Z"
   },
   {
    "duration": 9,
    "start_time": "2023-06-17T15:09:02.548Z"
   },
   {
    "duration": 17,
    "start_time": "2023-06-17T15:09:06.458Z"
   },
   {
    "duration": 11,
    "start_time": "2023-06-17T15:09:44.229Z"
   },
   {
    "duration": 8,
    "start_time": "2023-06-17T15:09:47.076Z"
   },
   {
    "duration": 17,
    "start_time": "2023-06-17T15:10:37.056Z"
   },
   {
    "duration": 20,
    "start_time": "2023-06-17T15:10:58.247Z"
   },
   {
    "duration": 6,
    "start_time": "2023-06-17T16:14:37.425Z"
   },
   {
    "duration": 20,
    "start_time": "2023-06-17T16:14:46.362Z"
   },
   {
    "duration": 8,
    "start_time": "2023-06-17T16:22:34.665Z"
   },
   {
    "duration": 17,
    "start_time": "2023-06-17T16:22:44.405Z"
   },
   {
    "duration": 9,
    "start_time": "2023-06-17T16:29:48.770Z"
   },
   {
    "duration": 55,
    "start_time": "2023-06-17T16:31:49.710Z"
   },
   {
    "duration": 35,
    "start_time": "2023-06-17T16:32:13.140Z"
   },
   {
    "duration": 22,
    "start_time": "2023-06-17T16:32:23.239Z"
   },
   {
    "duration": 23,
    "start_time": "2023-06-17T16:36:38.546Z"
   },
   {
    "duration": 23,
    "start_time": "2023-06-17T16:36:51.556Z"
   },
   {
    "duration": 6,
    "start_time": "2023-06-17T16:38:56.585Z"
   },
   {
    "duration": 27,
    "start_time": "2023-06-17T16:40:39.770Z"
   },
   {
    "duration": 955,
    "start_time": "2023-06-17T16:41:00.759Z"
   },
   {
    "duration": 27,
    "start_time": "2023-06-17T16:41:01.722Z"
   },
   {
    "duration": 3923,
    "start_time": "2023-06-17T16:41:01.756Z"
   },
   {
    "duration": 38,
    "start_time": "2023-06-17T16:41:05.681Z"
   },
   {
    "duration": 29,
    "start_time": "2023-06-17T16:41:05.735Z"
   },
   {
    "duration": 14,
    "start_time": "2023-06-17T16:41:05.778Z"
   },
   {
    "duration": 35,
    "start_time": "2023-06-17T16:41:05.800Z"
   },
   {
    "duration": 66,
    "start_time": "2023-06-17T16:41:05.846Z"
   },
   {
    "duration": 11,
    "start_time": "2023-06-17T16:41:05.919Z"
   },
   {
    "duration": 26,
    "start_time": "2023-06-17T16:41:05.944Z"
   },
   {
    "duration": 33,
    "start_time": "2023-06-17T16:41:05.977Z"
   },
   {
    "duration": 11,
    "start_time": "2023-06-17T16:41:06.019Z"
   },
   {
    "duration": 61,
    "start_time": "2023-06-17T16:41:06.040Z"
   },
   {
    "duration": 28,
    "start_time": "2023-06-17T16:41:06.115Z"
   },
   {
    "duration": 11,
    "start_time": "2023-06-17T16:41:06.149Z"
   },
   {
    "duration": 11,
    "start_time": "2023-06-17T16:41:33.253Z"
   },
   {
    "duration": 11,
    "start_time": "2023-06-17T16:42:27.466Z"
   },
   {
    "duration": 42,
    "start_time": "2023-06-17T16:43:49.621Z"
   },
   {
    "duration": 24,
    "start_time": "2023-06-17T16:43:54.511Z"
   },
   {
    "duration": 8,
    "start_time": "2023-06-17T16:44:02.251Z"
   },
   {
    "duration": 8,
    "start_time": "2023-06-17T16:44:11.483Z"
   },
   {
    "duration": 5,
    "start_time": "2023-06-17T16:44:16.906Z"
   },
   {
    "duration": 13,
    "start_time": "2023-06-17T16:45:04.048Z"
   },
   {
    "duration": 6,
    "start_time": "2023-06-17T16:45:08.266Z"
   },
   {
    "duration": 9,
    "start_time": "2023-06-17T16:46:45.740Z"
   },
   {
    "duration": 5,
    "start_time": "2023-06-17T16:47:16.999Z"
   },
   {
    "duration": 7,
    "start_time": "2023-06-17T17:08:17.704Z"
   },
   {
    "duration": 4,
    "start_time": "2023-06-17T17:11:56.690Z"
   },
   {
    "duration": 93,
    "start_time": "2023-06-17T17:12:07.997Z"
   },
   {
    "duration": 31,
    "start_time": "2023-06-17T17:12:40.927Z"
   },
   {
    "duration": 16,
    "start_time": "2023-06-17T17:12:56.768Z"
   },
   {
    "duration": 700,
    "start_time": "2023-06-17T17:16:37.538Z"
   },
   {
    "duration": 37,
    "start_time": "2023-06-17T17:16:38.241Z"
   },
   {
    "duration": 2983,
    "start_time": "2023-06-17T17:16:38.280Z"
   },
   {
    "duration": 18,
    "start_time": "2023-06-17T17:16:41.266Z"
   },
   {
    "duration": 21,
    "start_time": "2023-06-17T17:16:41.289Z"
   },
   {
    "duration": 12,
    "start_time": "2023-06-17T17:16:41.315Z"
   },
   {
    "duration": 11,
    "start_time": "2023-06-17T17:16:41.332Z"
   },
   {
    "duration": 22,
    "start_time": "2023-06-17T17:16:41.346Z"
   },
   {
    "duration": 5,
    "start_time": "2023-06-17T17:16:41.371Z"
   },
   {
    "duration": 11,
    "start_time": "2023-06-17T17:16:41.378Z"
   },
   {
    "duration": 33,
    "start_time": "2023-06-17T17:16:41.391Z"
   },
   {
    "duration": 13,
    "start_time": "2023-06-17T17:16:41.426Z"
   },
   {
    "duration": 28,
    "start_time": "2023-06-17T17:16:41.442Z"
   },
   {
    "duration": 32,
    "start_time": "2023-06-17T17:16:41.474Z"
   },
   {
    "duration": 19,
    "start_time": "2023-06-17T17:16:41.510Z"
   },
   {
    "duration": 12,
    "start_time": "2023-06-17T17:16:41.531Z"
   },
   {
    "duration": 15,
    "start_time": "2023-06-17T17:17:11.296Z"
   },
   {
    "duration": 8,
    "start_time": "2023-06-17T17:22:39.669Z"
   },
   {
    "duration": 7,
    "start_time": "2023-06-17T17:22:44.973Z"
   },
   {
    "duration": 6,
    "start_time": "2023-06-17T17:24:12.488Z"
   },
   {
    "duration": 10,
    "start_time": "2023-06-17T17:31:21.507Z"
   },
   {
    "duration": 6,
    "start_time": "2023-06-17T17:32:18.082Z"
   },
   {
    "duration": 8,
    "start_time": "2023-06-17T17:32:27.076Z"
   },
   {
    "duration": 8,
    "start_time": "2023-06-17T17:32:41.756Z"
   },
   {
    "duration": 10,
    "start_time": "2023-06-17T17:33:16.341Z"
   },
   {
    "duration": 9,
    "start_time": "2023-06-17T17:33:20.942Z"
   },
   {
    "duration": 190,
    "start_time": "2023-06-17T17:35:19.112Z"
   },
   {
    "duration": 240,
    "start_time": "2023-06-17T17:35:35.641Z"
   },
   {
    "duration": 181,
    "start_time": "2023-06-17T17:35:47.654Z"
   },
   {
    "duration": 154,
    "start_time": "2023-06-17T17:35:53.517Z"
   },
   {
    "duration": 294,
    "start_time": "2023-06-17T17:35:57.455Z"
   },
   {
    "duration": 290,
    "start_time": "2023-06-17T17:36:12.159Z"
   },
   {
    "duration": 309,
    "start_time": "2023-06-17T17:41:12.382Z"
   },
   {
    "duration": 344,
    "start_time": "2023-06-17T17:41:34.684Z"
   },
   {
    "duration": 318,
    "start_time": "2023-06-17T17:41:41.412Z"
   },
   {
    "duration": 330,
    "start_time": "2023-06-17T17:41:47.405Z"
   },
   {
    "duration": 315,
    "start_time": "2023-06-17T17:41:59.143Z"
   },
   {
    "duration": 9,
    "start_time": "2023-06-17T17:44:36.298Z"
   },
   {
    "duration": 13,
    "start_time": "2023-06-17T17:47:06.215Z"
   },
   {
    "duration": 10,
    "start_time": "2023-06-17T17:47:39.238Z"
   },
   {
    "duration": 9,
    "start_time": "2023-06-17T17:47:48.785Z"
   },
   {
    "duration": 11,
    "start_time": "2023-06-17T17:47:57.733Z"
   },
   {
    "duration": 8,
    "start_time": "2023-06-17T17:52:15.463Z"
   },
   {
    "duration": 22,
    "start_time": "2023-06-17T17:52:39.807Z"
   },
   {
    "duration": 6,
    "start_time": "2023-06-17T17:52:46.772Z"
   },
   {
    "duration": 12,
    "start_time": "2023-06-17T17:52:47.688Z"
   },
   {
    "duration": 598,
    "start_time": "2023-06-17T17:53:42.842Z"
   },
   {
    "duration": 23,
    "start_time": "2023-06-17T17:53:43.445Z"
   },
   {
    "duration": 2822,
    "start_time": "2023-06-17T17:53:43.473Z"
   },
   {
    "duration": 12,
    "start_time": "2023-06-17T17:53:46.298Z"
   },
   {
    "duration": 8,
    "start_time": "2023-06-17T17:53:46.313Z"
   },
   {
    "duration": 17,
    "start_time": "2023-06-17T17:53:46.324Z"
   },
   {
    "duration": 23,
    "start_time": "2023-06-17T17:53:46.344Z"
   },
   {
    "duration": 7,
    "start_time": "2023-06-17T17:53:46.369Z"
   },
   {
    "duration": 5,
    "start_time": "2023-06-17T17:53:46.380Z"
   },
   {
    "duration": 5,
    "start_time": "2023-06-17T17:53:46.389Z"
   },
   {
    "duration": 27,
    "start_time": "2023-06-17T17:53:46.396Z"
   },
   {
    "duration": 7,
    "start_time": "2023-06-17T17:53:46.426Z"
   },
   {
    "duration": 28,
    "start_time": "2023-06-17T17:53:46.435Z"
   },
   {
    "duration": 24,
    "start_time": "2023-06-17T17:53:46.467Z"
   },
   {
    "duration": 9,
    "start_time": "2023-06-17T17:53:46.493Z"
   },
   {
    "duration": 8,
    "start_time": "2023-06-17T17:53:46.504Z"
   },
   {
    "duration": 20,
    "start_time": "2023-06-17T17:53:46.521Z"
   },
   {
    "duration": 7,
    "start_time": "2023-06-17T17:53:46.550Z"
   },
   {
    "duration": 383,
    "start_time": "2023-06-17T17:53:46.559Z"
   },
   {
    "duration": 12,
    "start_time": "2023-06-17T17:53:46.947Z"
   },
   {
    "duration": 11,
    "start_time": "2023-06-17T17:53:46.961Z"
   },
   {
    "duration": 11,
    "start_time": "2023-06-17T17:53:46.975Z"
   },
   {
    "duration": 13,
    "start_time": "2023-06-17T17:54:48.495Z"
   },
   {
    "duration": 9,
    "start_time": "2023-06-17T17:54:50.249Z"
   },
   {
    "duration": 27,
    "start_time": "2023-06-17T17:55:06.563Z"
   },
   {
    "duration": 769,
    "start_time": "2023-06-17T17:55:19.818Z"
   },
   {
    "duration": 18,
    "start_time": "2023-06-17T17:55:20.589Z"
   },
   {
    "duration": 2658,
    "start_time": "2023-06-17T17:55:20.609Z"
   },
   {
    "duration": 12,
    "start_time": "2023-06-17T17:55:23.270Z"
   },
   {
    "duration": 6,
    "start_time": "2023-06-17T17:55:23.285Z"
   },
   {
    "duration": 7,
    "start_time": "2023-06-17T17:55:23.293Z"
   },
   {
    "duration": 13,
    "start_time": "2023-06-17T17:55:23.302Z"
   },
   {
    "duration": 41,
    "start_time": "2023-06-17T17:55:23.325Z"
   },
   {
    "duration": 4,
    "start_time": "2023-06-17T17:55:23.367Z"
   },
   {
    "duration": 26,
    "start_time": "2023-06-17T17:55:23.373Z"
   },
   {
    "duration": 19,
    "start_time": "2023-06-17T17:55:23.401Z"
   },
   {
    "duration": 29,
    "start_time": "2023-06-17T17:55:23.422Z"
   },
   {
    "duration": 16,
    "start_time": "2023-06-17T17:55:23.453Z"
   },
   {
    "duration": 12,
    "start_time": "2023-06-17T17:55:23.472Z"
   },
   {
    "duration": 25,
    "start_time": "2023-06-17T17:55:23.486Z"
   },
   {
    "duration": 21,
    "start_time": "2023-06-17T17:55:23.512Z"
   },
   {
    "duration": 23,
    "start_time": "2023-06-17T17:55:23.538Z"
   },
   {
    "duration": 27,
    "start_time": "2023-06-17T17:55:23.569Z"
   },
   {
    "duration": 378,
    "start_time": "2023-06-17T17:55:23.598Z"
   },
   {
    "duration": 19,
    "start_time": "2023-06-17T17:55:23.979Z"
   },
   {
    "duration": 11,
    "start_time": "2023-06-17T17:56:00.542Z"
   },
   {
    "duration": 7,
    "start_time": "2023-06-17T17:56:02.400Z"
   },
   {
    "duration": 0,
    "start_time": "2023-06-17T17:56:53.411Z"
   },
   {
    "duration": 0,
    "start_time": "2023-06-17T17:56:59.647Z"
   },
   {
    "duration": 2010,
    "start_time": "2023-06-17T17:57:00.966Z"
   },
   {
    "duration": 670,
    "start_time": "2023-06-17T17:57:18.277Z"
   },
   {
    "duration": 21,
    "start_time": "2023-06-17T17:57:18.949Z"
   },
   {
    "duration": 3193,
    "start_time": "2023-06-17T17:57:18.971Z"
   },
   {
    "duration": 13,
    "start_time": "2023-06-17T17:57:22.178Z"
   },
   {
    "duration": 4,
    "start_time": "2023-06-17T17:57:22.193Z"
   },
   {
    "duration": 12,
    "start_time": "2023-06-17T17:57:22.199Z"
   },
   {
    "duration": 38,
    "start_time": "2023-06-17T17:57:22.212Z"
   },
   {
    "duration": 34,
    "start_time": "2023-06-17T17:57:22.252Z"
   },
   {
    "duration": 4,
    "start_time": "2023-06-17T17:57:22.288Z"
   },
   {
    "duration": 11,
    "start_time": "2023-06-17T17:57:22.294Z"
   },
   {
    "duration": 52,
    "start_time": "2023-06-17T17:57:22.307Z"
   },
   {
    "duration": 24,
    "start_time": "2023-06-17T17:57:22.361Z"
   },
   {
    "duration": 67,
    "start_time": "2023-06-17T17:57:22.387Z"
   },
   {
    "duration": 35,
    "start_time": "2023-06-17T17:57:22.457Z"
   },
   {
    "duration": 23,
    "start_time": "2023-06-17T17:57:22.494Z"
   },
   {
    "duration": 16,
    "start_time": "2023-06-17T17:57:22.519Z"
   },
   {
    "duration": 34,
    "start_time": "2023-06-17T17:57:22.539Z"
   },
   {
    "duration": 18,
    "start_time": "2023-06-17T17:57:22.575Z"
   },
   {
    "duration": 434,
    "start_time": "2023-06-17T17:57:22.595Z"
   },
   {
    "duration": 18,
    "start_time": "2023-06-17T17:57:23.031Z"
   },
   {
    "duration": 56,
    "start_time": "2023-06-17T17:57:23.051Z"
   },
   {
    "duration": 85,
    "start_time": "2023-06-18T12:31:49.349Z"
   },
   {
    "duration": 683,
    "start_time": "2023-06-18T12:32:14.045Z"
   },
   {
    "duration": 16,
    "start_time": "2023-06-18T12:32:14.729Z"
   },
   {
    "duration": 2621,
    "start_time": "2023-06-18T12:32:14.747Z"
   },
   {
    "duration": 12,
    "start_time": "2023-06-18T12:32:17.369Z"
   },
   {
    "duration": 4,
    "start_time": "2023-06-18T12:32:17.383Z"
   },
   {
    "duration": 4,
    "start_time": "2023-06-18T12:32:17.389Z"
   },
   {
    "duration": 12,
    "start_time": "2023-06-18T12:32:17.395Z"
   },
   {
    "duration": 6,
    "start_time": "2023-06-18T12:32:17.408Z"
   },
   {
    "duration": 3,
    "start_time": "2023-06-18T12:32:17.416Z"
   },
   {
    "duration": 4,
    "start_time": "2023-06-18T12:32:17.420Z"
   },
   {
    "duration": 38,
    "start_time": "2023-06-18T12:32:17.426Z"
   },
   {
    "duration": 13,
    "start_time": "2023-06-18T12:32:17.469Z"
   },
   {
    "duration": 9,
    "start_time": "2023-06-18T12:32:17.484Z"
   },
   {
    "duration": 10,
    "start_time": "2023-06-18T12:32:17.495Z"
   },
   {
    "duration": 8,
    "start_time": "2023-06-18T12:32:17.507Z"
   },
   {
    "duration": 4,
    "start_time": "2023-06-18T12:32:17.517Z"
   },
   {
    "duration": 5,
    "start_time": "2023-06-18T12:32:17.522Z"
   },
   {
    "duration": 4,
    "start_time": "2023-06-18T12:32:17.528Z"
   },
   {
    "duration": 283,
    "start_time": "2023-06-18T12:32:17.549Z"
   },
   {
    "duration": 27,
    "start_time": "2023-06-18T12:32:17.834Z"
   },
   {
    "duration": 15,
    "start_time": "2023-06-18T12:32:17.867Z"
   },
   {
    "duration": 1014,
    "start_time": "2023-06-18T12:32:17.884Z"
   },
   {
    "duration": 967,
    "start_time": "2023-06-18T12:32:41.423Z"
   },
   {
    "duration": 0,
    "start_time": "2023-06-18T12:33:01.614Z"
   },
   {
    "duration": 1033,
    "start_time": "2023-06-18T12:33:05.411Z"
   },
   {
    "duration": 1004,
    "start_time": "2023-06-18T12:33:07.405Z"
   },
   {
    "duration": 8,
    "start_time": "2023-06-18T12:34:52.725Z"
   },
   {
    "duration": 9,
    "start_time": "2023-06-18T12:35:05.801Z"
   },
   {
    "duration": 612,
    "start_time": "2023-06-18T12:35:37.973Z"
   },
   {
    "duration": 25,
    "start_time": "2023-06-18T12:35:38.587Z"
   },
   {
    "duration": 2602,
    "start_time": "2023-06-18T12:35:38.614Z"
   },
   {
    "duration": 15,
    "start_time": "2023-06-18T12:35:41.218Z"
   },
   {
    "duration": 19,
    "start_time": "2023-06-18T12:35:41.237Z"
   },
   {
    "duration": 22,
    "start_time": "2023-06-18T12:35:41.258Z"
   },
   {
    "duration": 11,
    "start_time": "2023-06-18T12:35:41.283Z"
   },
   {
    "duration": 10,
    "start_time": "2023-06-18T12:35:41.295Z"
   },
   {
    "duration": 23,
    "start_time": "2023-06-18T12:35:41.307Z"
   },
   {
    "duration": 21,
    "start_time": "2023-06-18T12:35:41.332Z"
   },
   {
    "duration": 31,
    "start_time": "2023-06-18T12:35:41.355Z"
   },
   {
    "duration": 6,
    "start_time": "2023-06-18T12:35:41.388Z"
   },
   {
    "duration": 10,
    "start_time": "2023-06-18T12:35:41.395Z"
   },
   {
    "duration": 11,
    "start_time": "2023-06-18T12:35:41.408Z"
   },
   {
    "duration": 15,
    "start_time": "2023-06-18T12:35:41.421Z"
   },
   {
    "duration": 16,
    "start_time": "2023-06-18T12:35:41.438Z"
   },
   {
    "duration": 15,
    "start_time": "2023-06-18T12:35:41.456Z"
   },
   {
    "duration": 10,
    "start_time": "2023-06-18T12:35:41.473Z"
   },
   {
    "duration": 306,
    "start_time": "2023-06-18T12:35:41.485Z"
   },
   {
    "duration": 11,
    "start_time": "2023-06-18T12:35:41.793Z"
   },
   {
    "duration": 5,
    "start_time": "2023-06-18T12:36:04.655Z"
   },
   {
    "duration": 1253,
    "start_time": "2023-06-18T12:36:10.728Z"
   },
   {
    "duration": 8,
    "start_time": "2023-06-18T12:36:52.080Z"
   },
   {
    "duration": 11,
    "start_time": "2023-06-18T12:36:56.848Z"
   },
   {
    "duration": 1025,
    "start_time": "2023-06-18T12:37:16.908Z"
   },
   {
    "duration": 9,
    "start_time": "2023-06-18T12:37:44.108Z"
   },
   {
    "duration": 630,
    "start_time": "2023-06-18T12:38:01.812Z"
   },
   {
    "duration": 29,
    "start_time": "2023-06-18T12:38:02.446Z"
   },
   {
    "duration": 3047,
    "start_time": "2023-06-18T12:38:02.477Z"
   },
   {
    "duration": 13,
    "start_time": "2023-06-18T12:38:05.527Z"
   },
   {
    "duration": 6,
    "start_time": "2023-06-18T12:38:05.542Z"
   },
   {
    "duration": 14,
    "start_time": "2023-06-18T12:38:05.557Z"
   },
   {
    "duration": 23,
    "start_time": "2023-06-18T12:38:05.577Z"
   },
   {
    "duration": 8,
    "start_time": "2023-06-18T12:38:05.602Z"
   },
   {
    "duration": 4,
    "start_time": "2023-06-18T12:38:05.615Z"
   },
   {
    "duration": 22,
    "start_time": "2023-06-18T12:38:05.623Z"
   },
   {
    "duration": 41,
    "start_time": "2023-06-18T12:38:05.647Z"
   },
   {
    "duration": 43,
    "start_time": "2023-06-18T12:38:05.691Z"
   },
   {
    "duration": 25,
    "start_time": "2023-06-18T12:38:05.736Z"
   },
   {
    "duration": 26,
    "start_time": "2023-06-18T12:38:05.763Z"
   },
   {
    "duration": 16,
    "start_time": "2023-06-18T12:38:05.791Z"
   },
   {
    "duration": 5,
    "start_time": "2023-06-18T12:38:05.809Z"
   },
   {
    "duration": 5,
    "start_time": "2023-06-18T12:38:05.816Z"
   },
   {
    "duration": 5,
    "start_time": "2023-06-18T12:38:05.822Z"
   },
   {
    "duration": 448,
    "start_time": "2023-06-18T12:38:05.829Z"
   },
   {
    "duration": 19,
    "start_time": "2023-06-18T12:38:06.278Z"
   },
   {
    "duration": 60,
    "start_time": "2023-06-18T12:38:11.277Z"
   },
   {
    "duration": 71,
    "start_time": "2023-06-18T12:38:16.495Z"
   },
   {
    "duration": 23,
    "start_time": "2023-06-18T12:38:23.701Z"
   },
   {
    "duration": 9,
    "start_time": "2023-06-18T12:38:26.003Z"
   },
   {
    "duration": 21,
    "start_time": "2023-06-18T12:39:42.848Z"
   },
   {
    "duration": 5,
    "start_time": "2023-06-18T12:39:52.741Z"
   },
   {
    "duration": 11,
    "start_time": "2023-06-18T12:40:21.999Z"
   },
   {
    "duration": 7,
    "start_time": "2023-06-18T12:42:36.195Z"
   },
   {
    "duration": 108,
    "start_time": "2023-06-18T13:01:01.203Z"
   },
   {
    "duration": 306,
    "start_time": "2023-06-18T13:09:42.224Z"
   },
   {
    "duration": 25,
    "start_time": "2023-06-18T13:10:08.716Z"
   },
   {
    "duration": 26,
    "start_time": "2023-06-18T13:10:22.984Z"
   },
   {
    "duration": 7,
    "start_time": "2023-06-18T13:10:36.917Z"
   },
   {
    "duration": 40,
    "start_time": "2023-06-18T13:11:02.082Z"
   },
   {
    "duration": 5,
    "start_time": "2023-06-18T13:12:02.291Z"
   },
   {
    "duration": 12,
    "start_time": "2023-06-18T13:16:35.445Z"
   },
   {
    "duration": 35,
    "start_time": "2023-06-18T13:17:35.994Z"
   },
   {
    "duration": 21,
    "start_time": "2023-06-18T13:18:09.507Z"
   },
   {
    "duration": 76,
    "start_time": "2023-06-18T13:18:47.929Z"
   },
   {
    "duration": 543,
    "start_time": "2023-06-18T13:19:00.174Z"
   },
   {
    "duration": 16,
    "start_time": "2023-06-18T13:19:00.719Z"
   },
   {
    "duration": 2563,
    "start_time": "2023-06-18T13:19:00.737Z"
   },
   {
    "duration": 9,
    "start_time": "2023-06-18T13:19:03.302Z"
   },
   {
    "duration": 4,
    "start_time": "2023-06-18T13:19:03.313Z"
   },
   {
    "duration": 10,
    "start_time": "2023-06-18T13:19:03.319Z"
   },
   {
    "duration": 10,
    "start_time": "2023-06-18T13:19:03.330Z"
   },
   {
    "duration": 10,
    "start_time": "2023-06-18T13:19:03.342Z"
   },
   {
    "duration": 20,
    "start_time": "2023-06-18T13:19:03.353Z"
   },
   {
    "duration": 7,
    "start_time": "2023-06-18T13:19:03.377Z"
   },
   {
    "duration": 20,
    "start_time": "2023-06-18T13:19:03.386Z"
   },
   {
    "duration": 16,
    "start_time": "2023-06-18T13:19:03.408Z"
   },
   {
    "duration": 8,
    "start_time": "2023-06-18T13:19:03.425Z"
   },
   {
    "duration": 11,
    "start_time": "2023-06-18T13:19:03.436Z"
   },
   {
    "duration": 12,
    "start_time": "2023-06-18T13:19:03.449Z"
   },
   {
    "duration": 13,
    "start_time": "2023-06-18T13:19:03.463Z"
   },
   {
    "duration": 4,
    "start_time": "2023-06-18T13:19:03.478Z"
   },
   {
    "duration": 4,
    "start_time": "2023-06-18T13:19:03.486Z"
   },
   {
    "duration": 292,
    "start_time": "2023-06-18T13:19:03.491Z"
   },
   {
    "duration": 50,
    "start_time": "2023-06-18T13:19:03.785Z"
   },
   {
    "duration": 44,
    "start_time": "2023-06-18T13:19:03.837Z"
   },
   {
    "duration": 21,
    "start_time": "2023-06-18T13:19:03.883Z"
   },
   {
    "duration": 4,
    "start_time": "2023-06-18T13:19:03.906Z"
   },
   {
    "duration": 76,
    "start_time": "2023-06-18T13:19:03.912Z"
   },
   {
    "duration": 37,
    "start_time": "2023-06-18T13:19:57.183Z"
   },
   {
    "duration": 571,
    "start_time": "2023-06-18T13:20:44.723Z"
   },
   {
    "duration": 15,
    "start_time": "2023-06-18T13:20:45.296Z"
   },
   {
    "duration": 2560,
    "start_time": "2023-06-18T13:20:45.312Z"
   },
   {
    "duration": 13,
    "start_time": "2023-06-18T13:20:47.880Z"
   },
   {
    "duration": 12,
    "start_time": "2023-06-18T13:20:47.896Z"
   },
   {
    "duration": 36,
    "start_time": "2023-06-18T13:20:47.910Z"
   },
   {
    "duration": 57,
    "start_time": "2023-06-18T13:20:47.948Z"
   },
   {
    "duration": 20,
    "start_time": "2023-06-18T13:20:48.006Z"
   },
   {
    "duration": 4,
    "start_time": "2023-06-18T13:20:48.028Z"
   },
   {
    "duration": 48,
    "start_time": "2023-06-18T13:20:48.033Z"
   },
   {
    "duration": 14,
    "start_time": "2023-06-18T13:20:48.083Z"
   },
   {
    "duration": 4,
    "start_time": "2023-06-18T13:20:48.099Z"
   },
   {
    "duration": 14,
    "start_time": "2023-06-18T13:20:48.105Z"
   },
   {
    "duration": 19,
    "start_time": "2023-06-18T13:20:48.121Z"
   },
   {
    "duration": 20,
    "start_time": "2023-06-18T13:20:48.142Z"
   },
   {
    "duration": 34,
    "start_time": "2023-06-18T13:20:48.164Z"
   },
   {
    "duration": 10,
    "start_time": "2023-06-18T13:20:48.200Z"
   },
   {
    "duration": 17,
    "start_time": "2023-06-18T13:20:48.212Z"
   },
   {
    "duration": 330,
    "start_time": "2023-06-18T13:20:48.231Z"
   },
   {
    "duration": 54,
    "start_time": "2023-06-18T13:20:48.563Z"
   },
   {
    "duration": 15,
    "start_time": "2023-06-18T13:20:48.619Z"
   },
   {
    "duration": 32,
    "start_time": "2023-06-18T13:20:48.651Z"
   },
   {
    "duration": 3,
    "start_time": "2023-06-18T13:20:48.686Z"
   },
   {
    "duration": 73,
    "start_time": "2023-06-18T13:20:48.692Z"
   },
   {
    "duration": 71,
    "start_time": "2023-06-18T13:27:56.383Z"
   },
   {
    "duration": 147,
    "start_time": "2023-06-18T13:28:12.546Z"
   },
   {
    "duration": 284,
    "start_time": "2023-06-18T13:28:22.103Z"
   },
   {
    "duration": 1679,
    "start_time": "2023-06-18T13:28:33.111Z"
   },
   {
    "duration": 332,
    "start_time": "2023-06-18T13:28:39.514Z"
   },
   {
    "duration": 150,
    "start_time": "2023-06-18T13:28:42.848Z"
   },
   {
    "duration": 139,
    "start_time": "2023-06-18T13:28:46.084Z"
   },
   {
    "duration": 166,
    "start_time": "2023-06-18T13:28:49.719Z"
   },
   {
    "duration": 227,
    "start_time": "2023-06-18T13:28:54.720Z"
   },
   {
    "duration": 57,
    "start_time": "2023-06-18T13:30:17.986Z"
   },
   {
    "duration": 101,
    "start_time": "2023-06-18T13:31:04.515Z"
   },
   {
    "duration": 217,
    "start_time": "2023-06-18T13:31:18.618Z"
   },
   {
    "duration": 221,
    "start_time": "2023-06-18T13:31:26.393Z"
   },
   {
    "duration": 30,
    "start_time": "2023-06-18T13:32:16.592Z"
   },
   {
    "duration": 9,
    "start_time": "2023-06-18T13:32:19.795Z"
   },
   {
    "duration": 13,
    "start_time": "2023-06-18T13:33:02.246Z"
   },
   {
    "duration": 8,
    "start_time": "2023-06-18T13:33:08.675Z"
   },
   {
    "duration": 82,
    "start_time": "2023-06-18T13:33:20.833Z"
   },
   {
    "duration": 6,
    "start_time": "2023-06-18T13:33:23.742Z"
   },
   {
    "duration": 7,
    "start_time": "2023-06-18T13:33:33.016Z"
   },
   {
    "duration": 8,
    "start_time": "2023-06-18T13:33:39.093Z"
   },
   {
    "duration": 3,
    "start_time": "2023-06-18T13:41:57.189Z"
   },
   {
    "duration": 5,
    "start_time": "2023-06-18T13:42:35.562Z"
   },
   {
    "duration": 400,
    "start_time": "2023-06-18T13:42:38.913Z"
   },
   {
    "duration": 73,
    "start_time": "2023-06-18T13:42:47.523Z"
   },
   {
    "duration": 4,
    "start_time": "2023-06-18T13:42:51.346Z"
   },
   {
    "duration": 4,
    "start_time": "2023-06-18T13:43:05.291Z"
   },
   {
    "duration": 12,
    "start_time": "2023-06-18T13:47:41.738Z"
   },
   {
    "duration": 212,
    "start_time": "2023-06-18T13:48:07.315Z"
   },
   {
    "duration": 62,
    "start_time": "2023-06-18T13:49:19.485Z"
   },
   {
    "duration": 77,
    "start_time": "2023-06-18T13:49:23.683Z"
   },
   {
    "duration": 70,
    "start_time": "2023-06-18T13:49:26.627Z"
   },
   {
    "duration": 62,
    "start_time": "2023-06-18T13:49:33.847Z"
   },
   {
    "duration": 183,
    "start_time": "2023-06-18T13:49:36.741Z"
   },
   {
    "duration": 9,
    "start_time": "2023-06-18T13:55:05.831Z"
   },
   {
    "duration": 13,
    "start_time": "2023-06-18T13:55:18.690Z"
   },
   {
    "duration": 6,
    "start_time": "2023-06-18T13:55:41.327Z"
   },
   {
    "duration": 104,
    "start_time": "2023-06-18T13:56:32.107Z"
   },
   {
    "duration": 4,
    "start_time": "2023-06-18T13:56:36.873Z"
   },
   {
    "duration": 21,
    "start_time": "2023-06-18T13:56:57.048Z"
   },
   {
    "duration": 20,
    "start_time": "2023-06-18T13:57:03.908Z"
   },
   {
    "duration": 8,
    "start_time": "2023-06-18T13:57:09.104Z"
   },
   {
    "duration": 111,
    "start_time": "2023-06-18T13:59:01.275Z"
   },
   {
    "duration": 71,
    "start_time": "2023-06-18T14:09:23.250Z"
   },
   {
    "duration": 68,
    "start_time": "2023-06-18T14:09:35.818Z"
   },
   {
    "duration": 67,
    "start_time": "2023-06-18T14:12:54.876Z"
   },
   {
    "duration": 69,
    "start_time": "2023-06-18T14:13:00.352Z"
   },
   {
    "duration": 51,
    "start_time": "2023-06-18T14:13:36.874Z"
   },
   {
    "duration": 66,
    "start_time": "2023-06-18T14:15:06.896Z"
   },
   {
    "duration": 60,
    "start_time": "2023-06-18T14:15:10.442Z"
   },
   {
    "duration": 95,
    "start_time": "2023-06-18T14:15:18.986Z"
   },
   {
    "duration": 53,
    "start_time": "2023-06-18T14:15:22.838Z"
   },
   {
    "duration": 21,
    "start_time": "2023-06-18T14:17:51.468Z"
   },
   {
    "duration": 89,
    "start_time": "2023-06-18T14:25:45.435Z"
   },
   {
    "duration": 494,
    "start_time": "2023-06-18T14:26:05.175Z"
   },
   {
    "duration": 333,
    "start_time": "2023-06-18T14:27:04.511Z"
   },
   {
    "duration": 10,
    "start_time": "2023-06-18T14:27:33.479Z"
   },
   {
    "duration": 11,
    "start_time": "2023-06-18T14:27:46.290Z"
   },
   {
    "duration": 527,
    "start_time": "2023-06-18T14:28:10.005Z"
   },
   {
    "duration": 26,
    "start_time": "2023-06-18T14:28:10.534Z"
   },
   {
    "duration": 2368,
    "start_time": "2023-06-18T14:28:10.568Z"
   },
   {
    "duration": 10,
    "start_time": "2023-06-18T14:28:12.938Z"
   },
   {
    "duration": 11,
    "start_time": "2023-06-18T14:28:12.950Z"
   },
   {
    "duration": 6,
    "start_time": "2023-06-18T14:28:12.963Z"
   },
   {
    "duration": 28,
    "start_time": "2023-06-18T14:28:12.971Z"
   },
   {
    "duration": 7,
    "start_time": "2023-06-18T14:28:13.001Z"
   },
   {
    "duration": 10,
    "start_time": "2023-06-18T14:28:13.009Z"
   },
   {
    "duration": 9,
    "start_time": "2023-06-18T14:28:13.021Z"
   },
   {
    "duration": 15,
    "start_time": "2023-06-18T14:28:13.032Z"
   },
   {
    "duration": 13,
    "start_time": "2023-06-18T14:28:13.048Z"
   },
   {
    "duration": 10,
    "start_time": "2023-06-18T14:28:13.065Z"
   },
   {
    "duration": 14,
    "start_time": "2023-06-18T14:28:13.077Z"
   },
   {
    "duration": 9,
    "start_time": "2023-06-18T14:28:13.093Z"
   },
   {
    "duration": 4,
    "start_time": "2023-06-18T14:28:13.104Z"
   },
   {
    "duration": 5,
    "start_time": "2023-06-18T14:28:13.109Z"
   },
   {
    "duration": 5,
    "start_time": "2023-06-18T14:28:13.116Z"
   },
   {
    "duration": 321,
    "start_time": "2023-06-18T14:28:13.122Z"
   },
   {
    "duration": 61,
    "start_time": "2023-06-18T14:28:13.445Z"
   },
   {
    "duration": 15,
    "start_time": "2023-06-18T14:28:13.508Z"
   },
   {
    "duration": 42,
    "start_time": "2023-06-18T14:28:13.525Z"
   },
   {
    "duration": 9,
    "start_time": "2023-06-18T14:28:13.573Z"
   },
   {
    "duration": 28,
    "start_time": "2023-06-18T14:28:13.584Z"
   },
   {
    "duration": 6,
    "start_time": "2023-06-18T14:28:13.613Z"
   },
   {
    "duration": 89,
    "start_time": "2023-06-18T14:28:13.621Z"
   },
   {
    "duration": 418,
    "start_time": "2023-06-18T14:28:13.712Z"
   },
   {
    "duration": 10,
    "start_time": "2023-06-18T14:28:21.594Z"
   },
   {
    "duration": 10,
    "start_time": "2023-06-18T14:28:29.602Z"
   },
   {
    "duration": 11,
    "start_time": "2023-06-18T14:28:32.109Z"
   },
   {
    "duration": 10,
    "start_time": "2023-06-18T14:28:32.887Z"
   },
   {
    "duration": 11,
    "start_time": "2023-06-18T14:28:38.290Z"
   },
   {
    "duration": 573,
    "start_time": "2023-06-18T14:28:51.239Z"
   },
   {
    "duration": 17,
    "start_time": "2023-06-18T14:28:51.815Z"
   },
   {
    "duration": 2586,
    "start_time": "2023-06-18T14:28:51.834Z"
   },
   {
    "duration": 11,
    "start_time": "2023-06-18T14:28:54.422Z"
   },
   {
    "duration": 5,
    "start_time": "2023-06-18T14:28:54.436Z"
   },
   {
    "duration": 19,
    "start_time": "2023-06-18T14:28:54.444Z"
   },
   {
    "duration": 22,
    "start_time": "2023-06-18T14:28:54.465Z"
   },
   {
    "duration": 10,
    "start_time": "2023-06-18T14:28:54.489Z"
   },
   {
    "duration": 4,
    "start_time": "2023-06-18T14:28:54.500Z"
   },
   {
    "duration": 6,
    "start_time": "2023-06-18T14:28:54.507Z"
   },
   {
    "duration": 16,
    "start_time": "2023-06-18T14:28:54.515Z"
   },
   {
    "duration": 6,
    "start_time": "2023-06-18T14:28:54.533Z"
   },
   {
    "duration": 17,
    "start_time": "2023-06-18T14:28:54.540Z"
   },
   {
    "duration": 18,
    "start_time": "2023-06-18T14:28:54.560Z"
   },
   {
    "duration": 8,
    "start_time": "2023-06-18T14:28:54.580Z"
   },
   {
    "duration": 5,
    "start_time": "2023-06-18T14:28:54.590Z"
   },
   {
    "duration": 5,
    "start_time": "2023-06-18T14:28:54.597Z"
   },
   {
    "duration": 5,
    "start_time": "2023-06-18T14:28:54.604Z"
   },
   {
    "duration": 328,
    "start_time": "2023-06-18T14:28:54.611Z"
   },
   {
    "duration": 75,
    "start_time": "2023-06-18T14:28:54.941Z"
   },
   {
    "duration": 16,
    "start_time": "2023-06-18T14:28:55.018Z"
   },
   {
    "duration": 40,
    "start_time": "2023-06-18T14:28:55.036Z"
   },
   {
    "duration": 5,
    "start_time": "2023-06-18T14:28:55.084Z"
   },
   {
    "duration": 33,
    "start_time": "2023-06-18T14:28:55.091Z"
   },
   {
    "duration": 6,
    "start_time": "2023-06-18T14:28:55.126Z"
   },
   {
    "duration": 72,
    "start_time": "2023-06-18T14:28:55.133Z"
   },
   {
    "duration": 12,
    "start_time": "2023-06-18T14:28:55.207Z"
   },
   {
    "duration": 76,
    "start_time": "2023-06-18T14:29:08.692Z"
   },
   {
    "duration": 7,
    "start_time": "2023-06-18T14:30:36.126Z"
   },
   {
    "duration": 50,
    "start_time": "2023-06-18T14:30:46.792Z"
   },
   {
    "duration": 9,
    "start_time": "2023-06-18T14:31:16.873Z"
   },
   {
    "duration": 77,
    "start_time": "2023-06-18T14:31:22.026Z"
   },
   {
    "duration": 71,
    "start_time": "2023-06-18T14:31:33.022Z"
   },
   {
    "duration": 69,
    "start_time": "2023-06-18T14:34:09.970Z"
   },
   {
    "duration": 388,
    "start_time": "2023-06-18T14:34:25.537Z"
   },
   {
    "duration": 79,
    "start_time": "2023-06-18T14:34:45.949Z"
   },
   {
    "duration": 69,
    "start_time": "2023-06-18T14:35:02.036Z"
   },
   {
    "duration": 337,
    "start_time": "2023-06-18T14:35:08.837Z"
   },
   {
    "duration": 67,
    "start_time": "2023-06-18T14:35:13.242Z"
   },
   {
    "duration": 97,
    "start_time": "2023-06-18T15:33:00.795Z"
   },
   {
    "duration": 90,
    "start_time": "2023-06-18T15:33:03.491Z"
   },
   {
    "duration": 70,
    "start_time": "2023-06-18T15:33:56.472Z"
   },
   {
    "duration": 78,
    "start_time": "2023-06-18T15:34:44.059Z"
   },
   {
    "duration": 71,
    "start_time": "2023-06-18T15:34:53.903Z"
   },
   {
    "duration": 524,
    "start_time": "2023-06-18T15:35:24.693Z"
   },
   {
    "duration": 15,
    "start_time": "2023-06-18T15:35:25.219Z"
   },
   {
    "duration": 2431,
    "start_time": "2023-06-18T15:35:25.236Z"
   },
   {
    "duration": 10,
    "start_time": "2023-06-18T15:35:27.669Z"
   },
   {
    "duration": 5,
    "start_time": "2023-06-18T15:35:27.681Z"
   },
   {
    "duration": 5,
    "start_time": "2023-06-18T15:35:27.687Z"
   },
   {
    "duration": 8,
    "start_time": "2023-06-18T15:35:27.694Z"
   },
   {
    "duration": 6,
    "start_time": "2023-06-18T15:35:27.703Z"
   },
   {
    "duration": 10,
    "start_time": "2023-06-18T15:35:27.710Z"
   },
   {
    "duration": 7,
    "start_time": "2023-06-18T15:35:27.722Z"
   },
   {
    "duration": 32,
    "start_time": "2023-06-18T15:35:27.730Z"
   },
   {
    "duration": 7,
    "start_time": "2023-06-18T15:35:27.764Z"
   },
   {
    "duration": 20,
    "start_time": "2023-06-18T15:35:27.773Z"
   },
   {
    "duration": 11,
    "start_time": "2023-06-18T15:35:27.796Z"
   },
   {
    "duration": 8,
    "start_time": "2023-06-18T15:35:27.809Z"
   },
   {
    "duration": 10,
    "start_time": "2023-06-18T15:35:27.819Z"
   },
   {
    "duration": 24,
    "start_time": "2023-06-18T15:35:27.831Z"
   },
   {
    "duration": 7,
    "start_time": "2023-06-18T15:35:27.857Z"
   },
   {
    "duration": 304,
    "start_time": "2023-06-18T15:35:27.865Z"
   },
   {
    "duration": 59,
    "start_time": "2023-06-18T15:35:28.174Z"
   },
   {
    "duration": 35,
    "start_time": "2023-06-18T15:35:28.235Z"
   },
   {
    "duration": 38,
    "start_time": "2023-06-18T15:35:28.277Z"
   },
   {
    "duration": 5,
    "start_time": "2023-06-18T15:35:28.317Z"
   },
   {
    "duration": 63,
    "start_time": "2023-06-18T15:35:28.325Z"
   },
   {
    "duration": 7,
    "start_time": "2023-06-18T15:35:28.390Z"
   },
   {
    "duration": 98,
    "start_time": "2023-06-18T15:35:28.398Z"
   },
   {
    "duration": 66,
    "start_time": "2023-06-18T15:35:36.411Z"
   },
   {
    "duration": 55,
    "start_time": "2023-06-18T15:36:17.692Z"
   },
   {
    "duration": 87,
    "start_time": "2023-06-18T15:37:06.221Z"
   },
   {
    "duration": 61,
    "start_time": "2023-06-18T15:37:25.716Z"
   },
   {
    "duration": 589,
    "start_time": "2023-06-18T15:38:14.746Z"
   },
   {
    "duration": 35,
    "start_time": "2023-06-18T15:38:15.337Z"
   },
   {
    "duration": 2486,
    "start_time": "2023-06-18T15:38:15.383Z"
   },
   {
    "duration": 14,
    "start_time": "2023-06-18T15:38:17.872Z"
   },
   {
    "duration": 4,
    "start_time": "2023-06-18T15:38:17.889Z"
   },
   {
    "duration": 7,
    "start_time": "2023-06-18T15:38:17.895Z"
   },
   {
    "duration": 14,
    "start_time": "2023-06-18T15:38:17.904Z"
   },
   {
    "duration": 12,
    "start_time": "2023-06-18T15:38:17.921Z"
   },
   {
    "duration": 7,
    "start_time": "2023-06-18T15:38:17.935Z"
   },
   {
    "duration": 25,
    "start_time": "2023-06-18T15:38:17.944Z"
   },
   {
    "duration": 15,
    "start_time": "2023-06-18T15:38:17.972Z"
   },
   {
    "duration": 10,
    "start_time": "2023-06-18T15:38:17.989Z"
   },
   {
    "duration": 14,
    "start_time": "2023-06-18T15:38:18.001Z"
   },
   {
    "duration": 13,
    "start_time": "2023-06-18T15:38:18.018Z"
   },
   {
    "duration": 20,
    "start_time": "2023-06-18T15:38:18.033Z"
   },
   {
    "duration": 10,
    "start_time": "2023-06-18T15:38:18.055Z"
   },
   {
    "duration": 7,
    "start_time": "2023-06-18T15:38:18.066Z"
   },
   {
    "duration": 11,
    "start_time": "2023-06-18T15:38:18.075Z"
   },
   {
    "duration": 312,
    "start_time": "2023-06-18T15:38:18.089Z"
   },
   {
    "duration": 71,
    "start_time": "2023-06-18T15:38:18.403Z"
   },
   {
    "duration": 25,
    "start_time": "2023-06-18T15:38:18.478Z"
   },
   {
    "duration": 31,
    "start_time": "2023-06-18T15:38:18.505Z"
   },
   {
    "duration": 17,
    "start_time": "2023-06-18T15:38:18.538Z"
   },
   {
    "duration": 46,
    "start_time": "2023-06-18T15:38:18.558Z"
   },
   {
    "duration": 7,
    "start_time": "2023-06-18T15:38:18.606Z"
   },
   {
    "duration": 81,
    "start_time": "2023-06-18T15:38:18.615Z"
   },
   {
    "duration": 83,
    "start_time": "2023-06-18T15:38:31.098Z"
   },
   {
    "duration": 63,
    "start_time": "2023-06-18T15:41:31.168Z"
   },
   {
    "duration": 19,
    "start_time": "2023-06-18T15:43:56.528Z"
   },
   {
    "duration": 18,
    "start_time": "2023-06-18T15:44:14.498Z"
   },
   {
    "duration": 7,
    "start_time": "2023-06-18T15:47:51.064Z"
   },
   {
    "duration": 75,
    "start_time": "2023-06-18T15:50:00.335Z"
   },
   {
    "duration": 6,
    "start_time": "2023-06-18T15:50:04.690Z"
   },
   {
    "duration": 7,
    "start_time": "2023-06-18T15:50:09.597Z"
   },
   {
    "duration": 11,
    "start_time": "2023-06-18T15:50:33.290Z"
   },
   {
    "duration": 9,
    "start_time": "2023-06-18T15:50:35.320Z"
   },
   {
    "duration": 9,
    "start_time": "2023-06-18T15:50:42.685Z"
   },
   {
    "duration": 8,
    "start_time": "2023-06-18T15:50:44.366Z"
   },
   {
    "duration": 10,
    "start_time": "2023-06-18T15:50:55.058Z"
   },
   {
    "duration": 8,
    "start_time": "2023-06-18T15:51:02.228Z"
   },
   {
    "duration": 13,
    "start_time": "2023-06-18T15:53:22.947Z"
   },
   {
    "duration": 55,
    "start_time": "2023-06-18T15:53:28.941Z"
   },
   {
    "duration": 43,
    "start_time": "2023-06-18T16:35:11.705Z"
   },
   {
    "duration": 5,
    "start_time": "2023-06-18T16:37:05.825Z"
   },
   {
    "duration": 43,
    "start_time": "2023-06-18T16:37:18.442Z"
   },
   {
    "duration": 39,
    "start_time": "2023-06-18T16:37:42.992Z"
   },
   {
    "duration": 68,
    "start_time": "2023-06-18T16:38:03.409Z"
   },
   {
    "duration": 51,
    "start_time": "2023-06-18T16:40:21.996Z"
   },
   {
    "duration": 68,
    "start_time": "2023-06-18T16:47:42.002Z"
   },
   {
    "duration": 14,
    "start_time": "2023-06-18T16:49:45.710Z"
   },
   {
    "duration": 9,
    "start_time": "2023-06-18T16:50:37.988Z"
   },
   {
    "duration": 9,
    "start_time": "2023-06-18T16:50:47.566Z"
   },
   {
    "duration": 10,
    "start_time": "2023-06-18T16:51:25.725Z"
   },
   {
    "duration": 7,
    "start_time": "2023-06-18T16:52:28.326Z"
   },
   {
    "duration": 8,
    "start_time": "2023-06-18T16:56:08.686Z"
   },
   {
    "duration": 161,
    "start_time": "2023-06-18T16:56:14.386Z"
   },
   {
    "duration": 7,
    "start_time": "2023-06-18T16:56:27.033Z"
   },
   {
    "duration": 135,
    "start_time": "2023-06-18T16:56:32.793Z"
   },
   {
    "duration": 181,
    "start_time": "2023-06-18T16:56:50.888Z"
   },
   {
    "duration": 13,
    "start_time": "2023-06-18T16:57:06.765Z"
   },
   {
    "duration": 121,
    "start_time": "2023-06-18T16:57:33.284Z"
   },
   {
    "duration": 247,
    "start_time": "2023-06-18T16:57:39.487Z"
   },
   {
    "duration": 194,
    "start_time": "2023-06-18T16:57:53.225Z"
   },
   {
    "duration": 215,
    "start_time": "2023-06-18T16:59:39.986Z"
   },
   {
    "duration": 199,
    "start_time": "2023-06-18T17:01:01.487Z"
   },
   {
    "duration": 260,
    "start_time": "2023-06-18T17:02:04.258Z"
   },
   {
    "duration": 53,
    "start_time": "2023-06-18T17:03:13.040Z"
   },
   {
    "duration": 44,
    "start_time": "2023-06-18T17:03:22.989Z"
   },
   {
    "duration": 44,
    "start_time": "2023-06-18T17:03:36.136Z"
   },
   {
    "duration": 78,
    "start_time": "2023-06-18T17:04:24.209Z"
   },
   {
    "duration": 38,
    "start_time": "2023-06-18T17:05:37.187Z"
   },
   {
    "duration": 80,
    "start_time": "2023-06-18T17:08:28.215Z"
   },
   {
    "duration": 177,
    "start_time": "2023-06-18T17:08:45.590Z"
   },
   {
    "duration": 190,
    "start_time": "2023-06-18T17:09:09.085Z"
   },
   {
    "duration": 199,
    "start_time": "2023-06-18T17:09:53.899Z"
   },
   {
    "duration": 234,
    "start_time": "2023-06-18T17:10:35.942Z"
   },
   {
    "duration": 6,
    "start_time": "2023-06-18T21:41:17.793Z"
   },
   {
    "duration": 60,
    "start_time": "2023-06-18T21:41:21.745Z"
   },
   {
    "duration": 59,
    "start_time": "2023-06-18T21:41:48.224Z"
   },
   {
    "duration": 13,
    "start_time": "2023-06-18T21:42:35.889Z"
   },
   {
    "duration": 10,
    "start_time": "2023-06-18T21:42:55.475Z"
   },
   {
    "duration": 5,
    "start_time": "2023-06-18T21:43:30.793Z"
   },
   {
    "duration": 17,
    "start_time": "2023-06-18T21:48:17.648Z"
   },
   {
    "duration": 14,
    "start_time": "2023-06-18T21:48:24.181Z"
   },
   {
    "duration": 117,
    "start_time": "2023-06-18T21:49:52.085Z"
   },
   {
    "duration": 53,
    "start_time": "2023-06-18T21:49:56.272Z"
   },
   {
    "duration": 19,
    "start_time": "2023-06-18T21:50:07.410Z"
   },
   {
    "duration": 26,
    "start_time": "2023-06-18T21:54:11.208Z"
   },
   {
    "duration": 25,
    "start_time": "2023-06-18T21:54:44.506Z"
   },
   {
    "duration": 82,
    "start_time": "2023-06-18T21:54:47.112Z"
   },
   {
    "duration": 49,
    "start_time": "2023-06-18T21:55:38.674Z"
   },
   {
    "duration": 592,
    "start_time": "2023-06-18T21:56:40.633Z"
   },
   {
    "duration": 16,
    "start_time": "2023-06-18T21:56:41.227Z"
   },
   {
    "duration": 2397,
    "start_time": "2023-06-18T21:56:41.244Z"
   },
   {
    "duration": 17,
    "start_time": "2023-06-18T21:56:43.644Z"
   },
   {
    "duration": 6,
    "start_time": "2023-06-18T21:56:43.667Z"
   },
   {
    "duration": 5,
    "start_time": "2023-06-18T21:56:43.675Z"
   },
   {
    "duration": 7,
    "start_time": "2023-06-18T21:56:43.682Z"
   },
   {
    "duration": 6,
    "start_time": "2023-06-18T21:56:43.691Z"
   },
   {
    "duration": 9,
    "start_time": "2023-06-18T21:56:43.699Z"
   },
   {
    "duration": 4,
    "start_time": "2023-06-18T21:56:43.711Z"
   },
   {
    "duration": 45,
    "start_time": "2023-06-18T21:56:43.716Z"
   },
   {
    "duration": 6,
    "start_time": "2023-06-18T21:56:43.763Z"
   },
   {
    "duration": 9,
    "start_time": "2023-06-18T21:56:43.770Z"
   },
   {
    "duration": 10,
    "start_time": "2023-06-18T21:56:43.780Z"
   },
   {
    "duration": 8,
    "start_time": "2023-06-18T21:56:43.792Z"
   },
   {
    "duration": 4,
    "start_time": "2023-06-18T21:56:43.802Z"
   },
   {
    "duration": 7,
    "start_time": "2023-06-18T21:56:43.807Z"
   },
   {
    "duration": 5,
    "start_time": "2023-06-18T21:56:43.815Z"
   },
   {
    "duration": 329,
    "start_time": "2023-06-18T21:56:43.821Z"
   },
   {
    "duration": 62,
    "start_time": "2023-06-18T21:56:44.151Z"
   },
   {
    "duration": 48,
    "start_time": "2023-06-18T21:56:44.215Z"
   },
   {
    "duration": 22,
    "start_time": "2023-06-18T21:56:44.265Z"
   },
   {
    "duration": 5,
    "start_time": "2023-06-18T21:56:44.289Z"
   },
   {
    "duration": 27,
    "start_time": "2023-06-18T21:56:44.295Z"
   },
   {
    "duration": 6,
    "start_time": "2023-06-18T21:56:44.323Z"
   },
   {
    "duration": 56,
    "start_time": "2023-06-18T21:56:44.352Z"
   },
   {
    "duration": 91,
    "start_time": "2023-06-18T21:56:44.410Z"
   },
   {
    "duration": 19,
    "start_time": "2023-06-18T21:56:44.505Z"
   },
   {
    "duration": 85,
    "start_time": "2023-06-18T21:56:44.526Z"
   },
   {
    "duration": 55,
    "start_time": "2023-06-18T21:56:44.613Z"
   },
   {
    "duration": 63,
    "start_time": "2023-06-18T21:56:44.670Z"
   },
   {
    "duration": 208,
    "start_time": "2023-06-18T21:56:44.735Z"
   },
   {
    "duration": 192,
    "start_time": "2023-06-18T21:56:44.950Z"
   },
   {
    "duration": 223,
    "start_time": "2023-06-18T21:56:45.143Z"
   },
   {
    "duration": 296,
    "start_time": "2023-06-18T21:56:45.368Z"
   },
   {
    "duration": 197,
    "start_time": "2023-06-18T21:56:45.666Z"
   },
   {
    "duration": 178,
    "start_time": "2023-06-18T21:56:45.865Z"
   },
   {
    "duration": 212,
    "start_time": "2023-06-18T21:56:46.045Z"
   },
   {
    "duration": 5,
    "start_time": "2023-06-18T21:56:46.259Z"
   },
   {
    "duration": 53,
    "start_time": "2023-06-18T21:56:46.265Z"
   },
   {
    "duration": 364,
    "start_time": "2023-06-18T22:00:29.457Z"
   },
   {
    "duration": 179,
    "start_time": "2023-06-18T22:00:41.837Z"
   },
   {
    "duration": 690,
    "start_time": "2023-06-18T22:01:00.795Z"
   },
   {
    "duration": 798,
    "start_time": "2023-06-18T22:01:19.601Z"
   },
   {
    "duration": 674,
    "start_time": "2023-06-18T22:01:33.195Z"
   },
   {
    "duration": 650,
    "start_time": "2023-06-18T22:02:25.758Z"
   },
   {
    "duration": 601,
    "start_time": "2023-06-18T22:02:34.693Z"
   },
   {
    "duration": 636,
    "start_time": "2023-06-18T22:03:39.108Z"
   },
   {
    "duration": 73,
    "start_time": "2023-06-18T22:04:48.193Z"
   },
   {
    "duration": 277,
    "start_time": "2023-06-18T22:11:37.548Z"
   },
   {
    "duration": 297,
    "start_time": "2023-06-18T22:12:41.682Z"
   },
   {
    "duration": 4,
    "start_time": "2023-06-18T22:12:49.398Z"
   },
   {
    "duration": 8,
    "start_time": "2023-06-18T22:12:59.991Z"
   },
   {
    "duration": 15,
    "start_time": "2023-06-18T22:13:11.738Z"
   },
   {
    "duration": 34,
    "start_time": "2023-06-18T22:13:28.601Z"
   },
   {
    "duration": 8,
    "start_time": "2023-06-18T22:13:59.111Z"
   },
   {
    "duration": 6,
    "start_time": "2023-06-18T22:14:05.303Z"
   },
   {
    "duration": 5,
    "start_time": "2023-06-18T22:15:00.727Z"
   },
   {
    "duration": 52,
    "start_time": "2023-06-18T22:15:16.771Z"
   },
   {
    "duration": 38,
    "start_time": "2023-06-18T22:15:27.806Z"
   },
   {
    "duration": 534,
    "start_time": "2023-06-18T22:15:49.454Z"
   },
   {
    "duration": 14,
    "start_time": "2023-06-18T22:15:49.989Z"
   },
   {
    "duration": 2119,
    "start_time": "2023-06-18T22:15:50.005Z"
   },
   {
    "duration": 9,
    "start_time": "2023-06-18T22:15:52.126Z"
   },
   {
    "duration": 4,
    "start_time": "2023-06-18T22:15:52.137Z"
   },
   {
    "duration": 21,
    "start_time": "2023-06-18T22:15:52.142Z"
   },
   {
    "duration": 6,
    "start_time": "2023-06-18T22:15:52.165Z"
   },
   {
    "duration": 6,
    "start_time": "2023-06-18T22:15:52.173Z"
   },
   {
    "duration": 4,
    "start_time": "2023-06-18T22:15:52.181Z"
   },
   {
    "duration": 8,
    "start_time": "2023-06-18T22:15:52.189Z"
   },
   {
    "duration": 15,
    "start_time": "2023-06-18T22:15:52.198Z"
   },
   {
    "duration": 20,
    "start_time": "2023-06-18T22:15:52.215Z"
   },
   {
    "duration": 16,
    "start_time": "2023-06-18T22:15:52.238Z"
   },
   {
    "duration": 15,
    "start_time": "2023-06-18T22:15:52.256Z"
   },
   {
    "duration": 8,
    "start_time": "2023-06-18T22:15:52.272Z"
   },
   {
    "duration": 13,
    "start_time": "2023-06-18T22:15:52.282Z"
   },
   {
    "duration": 11,
    "start_time": "2023-06-18T22:15:52.297Z"
   },
   {
    "duration": 7,
    "start_time": "2023-06-18T22:15:52.310Z"
   },
   {
    "duration": 266,
    "start_time": "2023-06-18T22:15:52.319Z"
   },
   {
    "duration": 50,
    "start_time": "2023-06-18T22:15:52.586Z"
   },
   {
    "duration": 25,
    "start_time": "2023-06-18T22:15:52.638Z"
   },
   {
    "duration": 20,
    "start_time": "2023-06-18T22:15:52.665Z"
   },
   {
    "duration": 5,
    "start_time": "2023-06-18T22:15:52.687Z"
   },
   {
    "duration": 59,
    "start_time": "2023-06-18T22:15:52.694Z"
   },
   {
    "duration": 6,
    "start_time": "2023-06-18T22:15:52.755Z"
   },
   {
    "duration": 48,
    "start_time": "2023-06-18T22:15:52.763Z"
   },
   {
    "duration": 77,
    "start_time": "2023-06-18T22:15:52.812Z"
   },
   {
    "duration": 11,
    "start_time": "2023-06-18T22:15:52.892Z"
   },
   {
    "duration": 58,
    "start_time": "2023-06-18T22:15:52.905Z"
   },
   {
    "duration": 27,
    "start_time": "2023-06-18T22:15:52.965Z"
   },
   {
    "duration": 72,
    "start_time": "2023-06-18T22:15:52.993Z"
   },
   {
    "duration": 183,
    "start_time": "2023-06-18T22:15:53.067Z"
   },
   {
    "duration": 162,
    "start_time": "2023-06-18T22:15:53.252Z"
   },
   {
    "duration": 199,
    "start_time": "2023-06-18T22:15:53.415Z"
   },
   {
    "duration": 269,
    "start_time": "2023-06-18T22:15:53.615Z"
   },
   {
    "duration": 201,
    "start_time": "2023-06-18T22:15:53.886Z"
   },
   {
    "duration": 223,
    "start_time": "2023-06-18T22:15:54.088Z"
   },
   {
    "duration": 214,
    "start_time": "2023-06-18T22:15:54.312Z"
   },
   {
    "duration": 4,
    "start_time": "2023-06-18T22:15:54.528Z"
   },
   {
    "duration": 62,
    "start_time": "2023-06-18T22:15:54.533Z"
   },
   {
    "duration": 672,
    "start_time": "2023-06-18T22:15:54.597Z"
   },
   {
    "duration": 36,
    "start_time": "2023-06-18T22:15:55.270Z"
   },
   {
    "duration": 9,
    "start_time": "2023-06-18T22:16:23.197Z"
   },
   {
    "duration": 8,
    "start_time": "2023-06-18T22:16:32.847Z"
   },
   {
    "duration": 76,
    "start_time": "2023-06-18T22:19:16.451Z"
   },
   {
    "duration": 10,
    "start_time": "2023-06-18T22:19:22.694Z"
   },
   {
    "duration": 7,
    "start_time": "2023-06-18T22:19:33.458Z"
   },
   {
    "duration": 46,
    "start_time": "2023-06-18T22:20:08.167Z"
   },
   {
    "duration": 564,
    "start_time": "2023-06-18T22:22:05.318Z"
   },
   {
    "duration": 14,
    "start_time": "2023-06-18T22:22:05.884Z"
   },
   {
    "duration": 2108,
    "start_time": "2023-06-18T22:22:05.900Z"
   },
   {
    "duration": 12,
    "start_time": "2023-06-18T22:22:08.010Z"
   },
   {
    "duration": 7,
    "start_time": "2023-06-18T22:22:08.025Z"
   },
   {
    "duration": 6,
    "start_time": "2023-06-18T22:22:08.034Z"
   },
   {
    "duration": 6,
    "start_time": "2023-06-18T22:22:08.042Z"
   },
   {
    "duration": 6,
    "start_time": "2023-06-18T22:22:08.050Z"
   },
   {
    "duration": 3,
    "start_time": "2023-06-18T22:22:08.057Z"
   },
   {
    "duration": 12,
    "start_time": "2023-06-18T22:22:08.062Z"
   },
   {
    "duration": 19,
    "start_time": "2023-06-18T22:22:08.075Z"
   },
   {
    "duration": 5,
    "start_time": "2023-06-18T22:22:08.095Z"
   },
   {
    "duration": 12,
    "start_time": "2023-06-18T22:22:08.101Z"
   },
   {
    "duration": 12,
    "start_time": "2023-06-18T22:22:08.116Z"
   },
   {
    "duration": 22,
    "start_time": "2023-06-18T22:22:08.129Z"
   },
   {
    "duration": 9,
    "start_time": "2023-06-18T22:22:08.153Z"
   },
   {
    "duration": 24,
    "start_time": "2023-06-18T22:22:08.163Z"
   },
   {
    "duration": 4,
    "start_time": "2023-06-18T22:22:08.189Z"
   },
   {
    "duration": 268,
    "start_time": "2023-06-18T22:22:08.194Z"
   },
   {
    "duration": 50,
    "start_time": "2023-06-18T22:22:08.464Z"
   },
   {
    "duration": 16,
    "start_time": "2023-06-18T22:22:08.516Z"
   },
   {
    "duration": 45,
    "start_time": "2023-06-18T22:22:08.533Z"
   },
   {
    "duration": 4,
    "start_time": "2023-06-18T22:22:08.580Z"
   },
   {
    "duration": 36,
    "start_time": "2023-06-18T22:22:08.586Z"
   },
   {
    "duration": 30,
    "start_time": "2023-06-18T22:22:08.624Z"
   },
   {
    "duration": 56,
    "start_time": "2023-06-18T22:22:08.656Z"
   },
   {
    "duration": 75,
    "start_time": "2023-06-18T22:22:08.714Z"
   },
   {
    "duration": 13,
    "start_time": "2023-06-18T22:22:08.792Z"
   },
   {
    "duration": 81,
    "start_time": "2023-06-18T22:22:08.807Z"
   },
   {
    "duration": 26,
    "start_time": "2023-06-18T22:22:08.889Z"
   },
   {
    "duration": 71,
    "start_time": "2023-06-18T22:22:08.916Z"
   },
   {
    "duration": 192,
    "start_time": "2023-06-18T22:22:08.989Z"
   },
   {
    "duration": 169,
    "start_time": "2023-06-18T22:22:09.183Z"
   },
   {
    "duration": 233,
    "start_time": "2023-06-18T22:22:09.354Z"
   },
   {
    "duration": 265,
    "start_time": "2023-06-18T22:22:09.589Z"
   },
   {
    "duration": 183,
    "start_time": "2023-06-18T22:22:09.855Z"
   },
   {
    "duration": 177,
    "start_time": "2023-06-18T22:22:10.040Z"
   },
   {
    "duration": 193,
    "start_time": "2023-06-18T22:22:10.218Z"
   },
   {
    "duration": 4,
    "start_time": "2023-06-18T22:22:10.413Z"
   },
   {
    "duration": 31,
    "start_time": "2023-06-18T22:22:10.419Z"
   },
   {
    "duration": 680,
    "start_time": "2023-06-18T22:22:10.453Z"
   },
   {
    "duration": 35,
    "start_time": "2023-06-18T22:22:16.209Z"
   },
   {
    "duration": 8,
    "start_time": "2023-06-18T22:22:39.090Z"
   },
   {
    "duration": 42,
    "start_time": "2023-06-18T22:22:44.392Z"
   },
   {
    "duration": 50,
    "start_time": "2023-06-19T13:56:47.348Z"
   },
   {
    "duration": 583,
    "start_time": "2023-06-19T13:57:02.882Z"
   },
   {
    "duration": 17,
    "start_time": "2023-06-19T13:57:03.467Z"
   },
   {
    "duration": 2293,
    "start_time": "2023-06-19T13:57:03.486Z"
   },
   {
    "duration": 9,
    "start_time": "2023-06-19T13:57:05.781Z"
   },
   {
    "duration": 7,
    "start_time": "2023-06-19T13:57:05.793Z"
   },
   {
    "duration": 25,
    "start_time": "2023-06-19T13:57:05.801Z"
   },
   {
    "duration": 40,
    "start_time": "2023-06-19T13:57:05.828Z"
   },
   {
    "duration": 6,
    "start_time": "2023-06-19T13:57:05.870Z"
   },
   {
    "duration": 3,
    "start_time": "2023-06-19T13:57:05.878Z"
   },
   {
    "duration": 7,
    "start_time": "2023-06-19T13:57:05.883Z"
   },
   {
    "duration": 23,
    "start_time": "2023-06-19T13:57:05.892Z"
   },
   {
    "duration": 29,
    "start_time": "2023-06-19T13:57:05.917Z"
   },
   {
    "duration": 12,
    "start_time": "2023-06-19T13:57:05.948Z"
   },
   {
    "duration": 13,
    "start_time": "2023-06-19T13:57:05.963Z"
   },
   {
    "duration": 8,
    "start_time": "2023-06-19T13:57:05.978Z"
   },
   {
    "duration": 6,
    "start_time": "2023-06-19T13:57:05.987Z"
   },
   {
    "duration": 4,
    "start_time": "2023-06-19T13:57:05.995Z"
   },
   {
    "duration": 12,
    "start_time": "2023-06-19T13:57:06.001Z"
   },
   {
    "duration": 254,
    "start_time": "2023-06-19T13:57:06.015Z"
   },
   {
    "duration": 44,
    "start_time": "2023-06-19T13:57:06.270Z"
   },
   {
    "duration": 13,
    "start_time": "2023-06-19T13:57:06.316Z"
   },
   {
    "duration": 38,
    "start_time": "2023-06-19T13:57:06.331Z"
   },
   {
    "duration": 3,
    "start_time": "2023-06-19T13:57:06.371Z"
   },
   {
    "duration": 36,
    "start_time": "2023-06-19T13:57:06.375Z"
   },
   {
    "duration": 6,
    "start_time": "2023-06-19T13:57:06.413Z"
   },
   {
    "duration": 79,
    "start_time": "2023-06-19T13:57:06.421Z"
   },
   {
    "duration": 63,
    "start_time": "2023-06-19T13:57:06.502Z"
   },
   {
    "duration": 13,
    "start_time": "2023-06-19T13:57:06.567Z"
   },
   {
    "duration": 46,
    "start_time": "2023-06-19T13:57:06.582Z"
   },
   {
    "duration": 29,
    "start_time": "2023-06-19T13:57:06.654Z"
   },
   {
    "duration": 69,
    "start_time": "2023-06-19T13:57:06.685Z"
   },
   {
    "duration": 4,
    "start_time": "2023-06-19T13:57:06.755Z"
   },
   {
    "duration": 33,
    "start_time": "2023-06-19T13:57:06.761Z"
   },
   {
    "duration": 619,
    "start_time": "2023-06-19T13:57:06.795Z"
   },
   {
    "duration": 44,
    "start_time": "2023-06-19T13:57:07.416Z"
   },
   {
    "duration": 151,
    "start_time": "2023-06-19T13:57:07.462Z"
   },
   {
    "duration": 137,
    "start_time": "2023-06-19T14:03:57.639Z"
   },
   {
    "duration": 107,
    "start_time": "2023-06-19T14:03:59.237Z"
   },
   {
    "duration": 129,
    "start_time": "2023-06-19T14:04:00.336Z"
   },
   {
    "duration": 144,
    "start_time": "2023-06-19T14:04:02.033Z"
   },
   {
    "duration": 202,
    "start_time": "2023-06-19T14:04:03.268Z"
   },
   {
    "duration": 120,
    "start_time": "2023-06-19T14:04:04.662Z"
   },
   {
    "duration": 114,
    "start_time": "2023-06-19T14:04:05.778Z"
   },
   {
    "duration": 108,
    "start_time": "2023-06-19T14:04:06.968Z"
   },
   {
    "duration": 117,
    "start_time": "2023-06-19T14:04:08.095Z"
   },
   {
    "duration": 99,
    "start_time": "2023-06-19T14:04:09.203Z"
   },
   {
    "duration": 125,
    "start_time": "2023-06-19T14:04:10.457Z"
   },
   {
    "duration": 116,
    "start_time": "2023-06-19T14:04:11.542Z"
   },
   {
    "duration": 311,
    "start_time": "2023-06-19T14:04:12.654Z"
   },
   {
    "duration": 128,
    "start_time": "2023-06-19T14:04:33.415Z"
   },
   {
    "duration": 114,
    "start_time": "2023-06-19T14:07:28.505Z"
   },
   {
    "duration": 153,
    "start_time": "2023-06-19T14:07:59.333Z"
   },
   {
    "duration": 276,
    "start_time": "2023-06-19T14:10:18.022Z"
   },
   {
    "duration": 231,
    "start_time": "2023-06-19T14:11:08.508Z"
   },
   {
    "duration": 409,
    "start_time": "2023-06-19T14:12:51.558Z"
   },
   {
    "duration": 149,
    "start_time": "2023-06-19T14:14:04.308Z"
   },
   {
    "duration": 261,
    "start_time": "2023-06-19T14:14:10.114Z"
   },
   {
    "duration": 156,
    "start_time": "2023-06-19T14:15:50.240Z"
   },
   {
    "duration": 165,
    "start_time": "2023-06-19T14:15:56.169Z"
   },
   {
    "duration": 113,
    "start_time": "2023-06-19T14:18:41.267Z"
   },
   {
    "duration": 104,
    "start_time": "2023-06-19T14:18:45.497Z"
   },
   {
    "duration": 142,
    "start_time": "2023-06-19T14:18:48.328Z"
   },
   {
    "duration": 335,
    "start_time": "2023-06-19T14:18:56.512Z"
   },
   {
    "duration": 151,
    "start_time": "2023-06-19T14:19:01.016Z"
   },
   {
    "duration": 252,
    "start_time": "2023-06-19T14:21:59.535Z"
   },
   {
    "duration": 126,
    "start_time": "2023-06-19T14:22:03.852Z"
   },
   {
    "duration": 184,
    "start_time": "2023-06-19T14:22:06.974Z"
   },
   {
    "duration": 205,
    "start_time": "2023-06-19T14:22:28.255Z"
   },
   {
    "duration": 155,
    "start_time": "2023-06-19T14:22:35.643Z"
   },
   {
    "duration": 172,
    "start_time": "2023-06-19T14:22:39.556Z"
   },
   {
    "duration": 153,
    "start_time": "2023-06-19T14:22:50.082Z"
   },
   {
    "duration": 128,
    "start_time": "2023-06-19T14:26:45.458Z"
   },
   {
    "duration": 122,
    "start_time": "2023-06-19T14:26:59.135Z"
   },
   {
    "duration": 175,
    "start_time": "2023-06-19T14:29:45.651Z"
   },
   {
    "duration": 167,
    "start_time": "2023-06-19T14:29:59.520Z"
   },
   {
    "duration": 103,
    "start_time": "2023-06-19T14:30:05.278Z"
   },
   {
    "duration": 127,
    "start_time": "2023-06-19T14:31:14.228Z"
   },
   {
    "duration": 267,
    "start_time": "2023-06-19T14:31:18.847Z"
   },
   {
    "duration": 98,
    "start_time": "2023-06-19T14:31:23.988Z"
   },
   {
    "duration": 149,
    "start_time": "2023-06-19T14:31:28.264Z"
   },
   {
    "duration": 107,
    "start_time": "2023-06-19T14:31:33.668Z"
   },
   {
    "duration": 169,
    "start_time": "2023-06-19T14:32:35.131Z"
   },
   {
    "duration": 126,
    "start_time": "2023-06-19T14:32:42.608Z"
   },
   {
    "duration": 118,
    "start_time": "2023-06-19T14:32:48.244Z"
   },
   {
    "duration": 142,
    "start_time": "2023-06-19T14:32:51.089Z"
   },
   {
    "duration": 157,
    "start_time": "2023-06-19T14:32:57.520Z"
   },
   {
    "duration": 132,
    "start_time": "2023-06-19T14:34:20.686Z"
   },
   {
    "duration": 150,
    "start_time": "2023-06-19T14:34:26.715Z"
   },
   {
    "duration": 144,
    "start_time": "2023-06-19T14:34:36.143Z"
   },
   {
    "duration": 137,
    "start_time": "2023-06-19T14:34:42.243Z"
   },
   {
    "duration": 138,
    "start_time": "2023-06-19T14:38:00.249Z"
   },
   {
    "duration": 139,
    "start_time": "2023-06-19T14:38:15.069Z"
   },
   {
    "duration": 120,
    "start_time": "2023-06-19T14:38:18.691Z"
   },
   {
    "duration": 136,
    "start_time": "2023-06-19T14:38:23.025Z"
   },
   {
    "duration": 169,
    "start_time": "2023-06-19T14:38:51.065Z"
   },
   {
    "duration": 186,
    "start_time": "2023-06-19T14:41:25.006Z"
   },
   {
    "duration": 227,
    "start_time": "2023-06-19T14:41:30.931Z"
   },
   {
    "duration": 195,
    "start_time": "2023-06-19T14:42:06.639Z"
   },
   {
    "duration": 356,
    "start_time": "2023-06-19T14:42:12.649Z"
   },
   {
    "duration": 8,
    "start_time": "2023-06-19T14:43:26.456Z"
   },
   {
    "duration": 157,
    "start_time": "2023-06-19T14:43:37.453Z"
   },
   {
    "duration": 60,
    "start_time": "2023-06-19T14:43:54.060Z"
   },
   {
    "duration": 169,
    "start_time": "2023-06-19T14:43:59.229Z"
   },
   {
    "duration": 118,
    "start_time": "2023-06-19T14:44:09.311Z"
   },
   {
    "duration": 240,
    "start_time": "2023-06-19T14:44:13.842Z"
   },
   {
    "duration": 178,
    "start_time": "2023-06-19T14:44:19.974Z"
   },
   {
    "duration": 168,
    "start_time": "2023-06-19T14:46:26.911Z"
   },
   {
    "duration": 130,
    "start_time": "2023-06-19T14:48:30.371Z"
   },
   {
    "duration": 200,
    "start_time": "2023-06-19T14:48:38.305Z"
   },
   {
    "duration": 165,
    "start_time": "2023-06-19T14:48:49.818Z"
   },
   {
    "duration": 104,
    "start_time": "2023-06-19T14:49:04.377Z"
   },
   {
    "duration": 165,
    "start_time": "2023-06-19T14:49:08.768Z"
   },
   {
    "duration": 124,
    "start_time": "2023-06-19T14:51:08.730Z"
   },
   {
    "duration": 115,
    "start_time": "2023-06-19T14:51:23.775Z"
   },
   {
    "duration": 243,
    "start_time": "2023-06-19T14:51:26.524Z"
   },
   {
    "duration": 166,
    "start_time": "2023-06-19T14:51:36.309Z"
   },
   {
    "duration": 110,
    "start_time": "2023-06-19T14:54:24.826Z"
   },
   {
    "duration": 105,
    "start_time": "2023-06-19T14:54:44.019Z"
   },
   {
    "duration": 100,
    "start_time": "2023-06-19T14:54:53.462Z"
   },
   {
    "duration": 6,
    "start_time": "2023-06-19T14:55:18.696Z"
   },
   {
    "duration": 107,
    "start_time": "2023-06-19T14:55:28.704Z"
   },
   {
    "duration": 107,
    "start_time": "2023-06-19T14:55:40.471Z"
   },
   {
    "duration": 107,
    "start_time": "2023-06-19T14:55:58.978Z"
   },
   {
    "duration": 117,
    "start_time": "2023-06-19T14:56:03.641Z"
   },
   {
    "duration": 550,
    "start_time": "2023-06-19T15:09:33.428Z"
   },
   {
    "duration": 116,
    "start_time": "2023-06-19T15:10:05.223Z"
   },
   {
    "duration": 14,
    "start_time": "2023-06-19T15:10:05.353Z"
   },
   {
    "duration": 2067,
    "start_time": "2023-06-19T15:10:05.368Z"
   },
   {
    "duration": 10,
    "start_time": "2023-06-19T15:10:07.437Z"
   },
   {
    "duration": 8,
    "start_time": "2023-06-19T15:10:07.450Z"
   },
   {
    "duration": 5,
    "start_time": "2023-06-19T15:10:07.459Z"
   },
   {
    "duration": 10,
    "start_time": "2023-06-19T15:10:07.466Z"
   },
   {
    "duration": 21,
    "start_time": "2023-06-19T15:10:07.478Z"
   },
   {
    "duration": 16,
    "start_time": "2023-06-19T15:10:07.501Z"
   },
   {
    "duration": 19,
    "start_time": "2023-06-19T15:10:07.519Z"
   },
   {
    "duration": 22,
    "start_time": "2023-06-19T15:10:07.539Z"
   },
   {
    "duration": 7,
    "start_time": "2023-06-19T15:10:07.563Z"
   },
   {
    "duration": 19,
    "start_time": "2023-06-19T15:10:07.571Z"
   },
   {
    "duration": 14,
    "start_time": "2023-06-19T15:10:07.593Z"
   },
   {
    "duration": 17,
    "start_time": "2023-06-19T15:10:07.608Z"
   },
   {
    "duration": 22,
    "start_time": "2023-06-19T15:10:07.626Z"
   },
   {
    "duration": 11,
    "start_time": "2023-06-19T15:10:07.650Z"
   },
   {
    "duration": 9,
    "start_time": "2023-06-19T15:10:07.662Z"
   },
   {
    "duration": 232,
    "start_time": "2023-06-19T15:10:07.672Z"
   },
   {
    "duration": 52,
    "start_time": "2023-06-19T15:10:07.905Z"
   },
   {
    "duration": 15,
    "start_time": "2023-06-19T15:10:07.958Z"
   },
   {
    "duration": 33,
    "start_time": "2023-06-19T15:10:07.974Z"
   },
   {
    "duration": 3,
    "start_time": "2023-06-19T15:10:08.009Z"
   },
   {
    "duration": 37,
    "start_time": "2023-06-19T15:10:08.014Z"
   },
   {
    "duration": 5,
    "start_time": "2023-06-19T15:10:08.053Z"
   },
   {
    "duration": 64,
    "start_time": "2023-06-19T15:10:08.059Z"
   },
   {
    "duration": 54,
    "start_time": "2023-06-19T15:10:08.124Z"
   },
   {
    "duration": 12,
    "start_time": "2023-06-19T15:10:08.179Z"
   },
   {
    "duration": 46,
    "start_time": "2023-06-19T15:10:08.193Z"
   },
   {
    "duration": 27,
    "start_time": "2023-06-19T15:10:08.254Z"
   },
   {
    "duration": 117,
    "start_time": "2023-06-19T15:10:08.283Z"
   },
   {
    "duration": 5,
    "start_time": "2023-06-19T15:10:08.402Z"
   },
   {
    "duration": 23,
    "start_time": "2023-06-19T15:10:08.408Z"
   },
   {
    "duration": 611,
    "start_time": "2023-06-19T15:10:08.433Z"
   },
   {
    "duration": 39,
    "start_time": "2023-06-19T15:10:09.046Z"
   },
   {
    "duration": 161,
    "start_time": "2023-06-19T15:10:09.086Z"
   },
   {
    "duration": 232,
    "start_time": "2023-06-19T15:10:09.253Z"
   },
   {
    "duration": 173,
    "start_time": "2023-06-19T15:10:09.487Z"
   },
   {
    "duration": 157,
    "start_time": "2023-06-19T15:10:09.661Z"
   },
   {
    "duration": 164,
    "start_time": "2023-06-19T15:10:09.820Z"
   },
   {
    "duration": 207,
    "start_time": "2023-06-19T15:10:09.987Z"
   },
   {
    "duration": 116,
    "start_time": "2023-06-19T15:10:10.196Z"
   },
   {
    "duration": 150,
    "start_time": "2023-06-19T15:10:10.314Z"
   },
   {
    "duration": 123,
    "start_time": "2023-06-19T15:10:10.465Z"
   },
   {
    "duration": 162,
    "start_time": "2023-06-19T15:10:10.590Z"
   },
   {
    "duration": 185,
    "start_time": "2023-06-19T15:10:10.754Z"
   },
   {
    "duration": 182,
    "start_time": "2023-06-19T15:10:10.940Z"
   },
   {
    "duration": 164,
    "start_time": "2023-06-19T15:10:11.124Z"
   },
   {
    "duration": 165,
    "start_time": "2023-06-19T15:10:11.290Z"
   },
   {
    "duration": 107,
    "start_time": "2023-06-19T15:10:11.456Z"
   },
   {
    "duration": 341,
    "start_time": "2023-06-19T15:38:39.783Z"
   },
   {
    "duration": 152,
    "start_time": "2023-06-19T15:38:45.312Z"
   },
   {
    "duration": 149,
    "start_time": "2023-06-19T15:38:55.454Z"
   },
   {
    "duration": 9,
    "start_time": "2023-06-19T17:54:37.089Z"
   },
   {
    "duration": 8,
    "start_time": "2023-06-19T17:55:15.723Z"
   },
   {
    "duration": 11,
    "start_time": "2023-06-19T17:56:32.046Z"
   },
   {
    "duration": 151,
    "start_time": "2023-06-19T17:59:43.590Z"
   },
   {
    "duration": 185,
    "start_time": "2023-06-19T17:59:56.745Z"
   },
   {
    "duration": 182,
    "start_time": "2023-06-19T18:00:16.431Z"
   },
   {
    "duration": 250,
    "start_time": "2023-06-19T18:00:20.067Z"
   },
   {
    "duration": 204,
    "start_time": "2023-06-19T18:00:24.324Z"
   },
   {
    "duration": 187,
    "start_time": "2023-06-19T18:04:59.842Z"
   },
   {
    "duration": 267,
    "start_time": "2023-06-19T18:05:20.766Z"
   },
   {
    "duration": 171,
    "start_time": "2023-06-19T18:05:25.925Z"
   },
   {
    "duration": 172,
    "start_time": "2023-06-19T18:05:40.830Z"
   },
   {
    "duration": 196,
    "start_time": "2023-06-19T18:06:04.226Z"
   },
   {
    "duration": 169,
    "start_time": "2023-06-19T18:10:49.968Z"
   },
   {
    "duration": 29,
    "start_time": "2023-06-19T18:21:06.645Z"
   },
   {
    "duration": 168,
    "start_time": "2023-06-19T18:22:01.799Z"
   },
   {
    "duration": 15,
    "start_time": "2023-06-19T18:22:19.099Z"
   },
   {
    "duration": 175,
    "start_time": "2023-06-19T18:22:23.491Z"
   },
   {
    "duration": 1113,
    "start_time": "2023-06-19T18:23:40.452Z"
   },
   {
    "duration": 34,
    "start_time": "2023-06-19T18:24:08.838Z"
   },
   {
    "duration": 22,
    "start_time": "2023-06-19T18:24:24.716Z"
   },
   {
    "duration": 165,
    "start_time": "2023-06-19T18:24:32.965Z"
   },
   {
    "duration": 50,
    "start_time": "2023-06-19T18:25:15.648Z"
   },
   {
    "duration": 203,
    "start_time": "2023-06-19T18:26:34.376Z"
   },
   {
    "duration": 239,
    "start_time": "2023-06-19T18:26:36.374Z"
   },
   {
    "duration": 184,
    "start_time": "2023-06-19T18:26:38.369Z"
   },
   {
    "duration": 232,
    "start_time": "2023-06-19T18:26:41.147Z"
   },
   {
    "duration": 36,
    "start_time": "2023-06-19T18:26:43.144Z"
   },
   {
    "duration": 41,
    "start_time": "2023-06-19T18:27:01.047Z"
   },
   {
    "duration": 15,
    "start_time": "2023-06-19T18:27:21.018Z"
   },
   {
    "duration": 60,
    "start_time": "2023-06-19T18:41:18.496Z"
   },
   {
    "duration": 60,
    "start_time": "2023-06-19T18:41:23.866Z"
   },
   {
    "duration": 349,
    "start_time": "2023-06-19T18:41:33.195Z"
   },
   {
    "duration": 21,
    "start_time": "2023-06-19T18:42:33.111Z"
   },
   {
    "duration": 49,
    "start_time": "2023-06-20T08:32:03.990Z"
   },
   {
    "duration": 628,
    "start_time": "2023-06-20T08:32:14.734Z"
   },
   {
    "duration": 16,
    "start_time": "2023-06-20T08:32:15.365Z"
   },
   {
    "duration": 2417,
    "start_time": "2023-06-20T08:32:15.384Z"
   },
   {
    "duration": 12,
    "start_time": "2023-06-20T08:32:17.803Z"
   },
   {
    "duration": 19,
    "start_time": "2023-06-20T08:32:17.818Z"
   },
   {
    "duration": 20,
    "start_time": "2023-06-20T08:32:17.838Z"
   },
   {
    "duration": 17,
    "start_time": "2023-06-20T08:32:17.860Z"
   },
   {
    "duration": 33,
    "start_time": "2023-06-20T08:32:17.879Z"
   },
   {
    "duration": 9,
    "start_time": "2023-06-20T08:32:17.914Z"
   },
   {
    "duration": 8,
    "start_time": "2023-06-20T08:32:17.925Z"
   },
   {
    "duration": 21,
    "start_time": "2023-06-20T08:32:17.935Z"
   },
   {
    "duration": 11,
    "start_time": "2023-06-20T08:32:17.958Z"
   },
   {
    "duration": 34,
    "start_time": "2023-06-20T08:32:17.970Z"
   },
   {
    "duration": 12,
    "start_time": "2023-06-20T08:32:18.007Z"
   },
   {
    "duration": 37,
    "start_time": "2023-06-20T08:32:18.021Z"
   },
   {
    "duration": 6,
    "start_time": "2023-06-20T08:32:18.060Z"
   },
   {
    "duration": 32,
    "start_time": "2023-06-20T08:32:18.068Z"
   },
   {
    "duration": 5,
    "start_time": "2023-06-20T08:32:18.101Z"
   },
   {
    "duration": 257,
    "start_time": "2023-06-20T08:32:18.108Z"
   },
   {
    "duration": 58,
    "start_time": "2023-06-20T08:32:18.367Z"
   },
   {
    "duration": 34,
    "start_time": "2023-06-20T08:32:18.427Z"
   },
   {
    "duration": 20,
    "start_time": "2023-06-20T08:32:18.462Z"
   },
   {
    "duration": 3,
    "start_time": "2023-06-20T08:32:18.484Z"
   },
   {
    "duration": 27,
    "start_time": "2023-06-20T08:32:18.489Z"
   },
   {
    "duration": 5,
    "start_time": "2023-06-20T08:32:18.518Z"
   },
   {
    "duration": 55,
    "start_time": "2023-06-20T08:32:18.557Z"
   },
   {
    "duration": 71,
    "start_time": "2023-06-20T08:32:18.614Z"
   },
   {
    "duration": 12,
    "start_time": "2023-06-20T08:32:18.687Z"
   },
   {
    "duration": 62,
    "start_time": "2023-06-20T08:32:18.700Z"
   },
   {
    "duration": 28,
    "start_time": "2023-06-20T08:32:18.763Z"
   },
   {
    "duration": 76,
    "start_time": "2023-06-20T08:32:18.793Z"
   },
   {
    "duration": 5,
    "start_time": "2023-06-20T08:32:18.871Z"
   },
   {
    "duration": 25,
    "start_time": "2023-06-20T08:32:18.878Z"
   },
   {
    "duration": 681,
    "start_time": "2023-06-20T08:32:18.905Z"
   },
   {
    "duration": 40,
    "start_time": "2023-06-20T08:32:19.588Z"
   },
   {
    "duration": 189,
    "start_time": "2023-06-20T08:32:19.630Z"
   },
   {
    "duration": 265,
    "start_time": "2023-06-20T08:32:19.821Z"
   },
   {
    "duration": 200,
    "start_time": "2023-06-20T08:32:20.088Z"
   },
   {
    "duration": 169,
    "start_time": "2023-06-20T08:32:20.290Z"
   },
   {
    "duration": 282,
    "start_time": "2023-06-20T08:32:20.460Z"
   },
   {
    "duration": 149,
    "start_time": "2023-06-20T08:32:20.746Z"
   },
   {
    "duration": 128,
    "start_time": "2023-06-20T08:32:20.897Z"
   },
   {
    "duration": 163,
    "start_time": "2023-06-20T08:32:21.027Z"
   },
   {
    "duration": 138,
    "start_time": "2023-06-20T08:32:21.192Z"
   },
   {
    "duration": 186,
    "start_time": "2023-06-20T08:32:21.332Z"
   },
   {
    "duration": 205,
    "start_time": "2023-06-20T08:32:21.520Z"
   },
   {
    "duration": 197,
    "start_time": "2023-06-20T08:32:21.727Z"
   },
   {
    "duration": 183,
    "start_time": "2023-06-20T08:32:21.926Z"
   },
   {
    "duration": 308,
    "start_time": "2023-06-20T08:32:22.111Z"
   },
   {
    "duration": 124,
    "start_time": "2023-06-20T08:32:22.421Z"
   },
   {
    "duration": 198,
    "start_time": "2023-06-20T08:32:22.547Z"
   },
   {
    "duration": 199,
    "start_time": "2023-06-20T08:32:22.746Z"
   },
   {
    "duration": 203,
    "start_time": "2023-06-20T08:32:22.946Z"
   },
   {
    "duration": 186,
    "start_time": "2023-06-20T08:32:23.151Z"
   },
   {
    "duration": 182,
    "start_time": "2023-06-20T08:32:23.339Z"
   },
   {
    "duration": 207,
    "start_time": "2023-06-20T08:32:23.523Z"
   },
   {
    "duration": 194,
    "start_time": "2023-06-20T08:32:23.732Z"
   },
   {
    "duration": 198,
    "start_time": "2023-06-20T08:32:23.928Z"
   },
   {
    "duration": 129,
    "start_time": "2023-06-20T08:32:24.128Z"
   },
   {
    "duration": 542,
    "start_time": "2023-06-20T08:37:21.957Z"
   },
   {
    "duration": 15,
    "start_time": "2023-06-20T08:37:22.501Z"
   },
   {
    "duration": 2303,
    "start_time": "2023-06-20T08:37:22.518Z"
   },
   {
    "duration": 11,
    "start_time": "2023-06-20T08:37:24.823Z"
   },
   {
    "duration": 4,
    "start_time": "2023-06-20T08:37:24.837Z"
   },
   {
    "duration": 15,
    "start_time": "2023-06-20T08:37:24.843Z"
   },
   {
    "duration": 28,
    "start_time": "2023-06-20T08:37:24.860Z"
   },
   {
    "duration": 24,
    "start_time": "2023-06-20T08:37:24.890Z"
   },
   {
    "duration": 19,
    "start_time": "2023-06-20T08:37:24.916Z"
   },
   {
    "duration": 36,
    "start_time": "2023-06-20T08:37:24.937Z"
   },
   {
    "duration": 25,
    "start_time": "2023-06-20T08:37:24.975Z"
   },
   {
    "duration": 32,
    "start_time": "2023-06-20T08:37:25.002Z"
   },
   {
    "duration": 26,
    "start_time": "2023-06-20T08:37:25.037Z"
   },
   {
    "duration": 29,
    "start_time": "2023-06-20T08:37:25.067Z"
   },
   {
    "duration": 14,
    "start_time": "2023-06-20T08:37:25.098Z"
   },
   {
    "duration": 11,
    "start_time": "2023-06-20T08:37:25.114Z"
   },
   {
    "duration": 12,
    "start_time": "2023-06-20T08:37:25.127Z"
   },
   {
    "duration": 15,
    "start_time": "2023-06-20T08:37:25.141Z"
   },
   {
    "duration": 276,
    "start_time": "2023-06-20T08:37:25.158Z"
   },
   {
    "duration": 65,
    "start_time": "2023-06-20T08:37:25.436Z"
   },
   {
    "duration": 18,
    "start_time": "2023-06-20T08:37:25.503Z"
   },
   {
    "duration": 37,
    "start_time": "2023-06-20T08:37:25.523Z"
   },
   {
    "duration": 4,
    "start_time": "2023-06-20T08:37:25.562Z"
   },
   {
    "duration": 40,
    "start_time": "2023-06-20T08:37:25.568Z"
   },
   {
    "duration": 6,
    "start_time": "2023-06-20T08:37:25.610Z"
   },
   {
    "duration": 69,
    "start_time": "2023-06-20T08:37:25.618Z"
   },
   {
    "duration": 77,
    "start_time": "2023-06-20T08:37:25.688Z"
   },
   {
    "duration": 14,
    "start_time": "2023-06-20T08:37:25.767Z"
   },
   {
    "duration": 55,
    "start_time": "2023-06-20T08:37:25.783Z"
   },
   {
    "duration": 32,
    "start_time": "2023-06-20T08:37:25.857Z"
   },
   {
    "duration": 78,
    "start_time": "2023-06-20T08:37:25.891Z"
   },
   {
    "duration": 5,
    "start_time": "2023-06-20T08:37:25.970Z"
   },
   {
    "duration": 27,
    "start_time": "2023-06-20T08:37:25.977Z"
   },
   {
    "duration": 680,
    "start_time": "2023-06-20T08:37:26.007Z"
   },
   {
    "duration": 42,
    "start_time": "2023-06-20T08:37:26.689Z"
   },
   {
    "duration": 194,
    "start_time": "2023-06-20T08:37:26.732Z"
   },
   {
    "duration": 262,
    "start_time": "2023-06-20T08:37:26.928Z"
   },
   {
    "duration": 206,
    "start_time": "2023-06-20T08:37:27.191Z"
   },
   {
    "duration": 184,
    "start_time": "2023-06-20T08:37:27.399Z"
   },
   {
    "duration": 186,
    "start_time": "2023-06-20T08:37:27.585Z"
   },
   {
    "duration": 250,
    "start_time": "2023-06-20T08:37:27.775Z"
   },
   {
    "duration": 133,
    "start_time": "2023-06-20T08:37:28.027Z"
   },
   {
    "duration": 170,
    "start_time": "2023-06-20T08:37:28.162Z"
   },
   {
    "duration": 170,
    "start_time": "2023-06-20T08:37:28.333Z"
   },
   {
    "duration": 199,
    "start_time": "2023-06-20T08:37:28.505Z"
   },
   {
    "duration": 238,
    "start_time": "2023-06-20T08:37:28.705Z"
   },
   {
    "duration": 206,
    "start_time": "2023-06-20T08:37:28.945Z"
   },
   {
    "duration": 210,
    "start_time": "2023-06-20T08:37:29.153Z"
   },
   {
    "duration": 201,
    "start_time": "2023-06-20T08:37:29.365Z"
   },
   {
    "duration": 133,
    "start_time": "2023-06-20T08:37:29.568Z"
   },
   {
    "duration": 324,
    "start_time": "2023-06-20T08:37:29.703Z"
   },
   {
    "duration": 215,
    "start_time": "2023-06-20T08:37:30.030Z"
   },
   {
    "duration": 193,
    "start_time": "2023-06-20T08:37:30.247Z"
   },
   {
    "duration": 196,
    "start_time": "2023-06-20T08:37:30.442Z"
   },
   {
    "duration": 199,
    "start_time": "2023-06-20T08:37:30.640Z"
   },
   {
    "duration": 210,
    "start_time": "2023-06-20T08:37:30.841Z"
   },
   {
    "duration": 199,
    "start_time": "2023-06-20T08:37:31.053Z"
   },
   {
    "duration": 222,
    "start_time": "2023-06-20T08:37:31.257Z"
   },
   {
    "duration": 48,
    "start_time": "2023-06-20T08:39:50.049Z"
   },
   {
    "duration": 595,
    "start_time": "2023-06-20T08:39:53.761Z"
   },
   {
    "duration": 26,
    "start_time": "2023-06-20T08:39:54.360Z"
   },
   {
    "duration": 2229,
    "start_time": "2023-06-20T08:39:54.388Z"
   },
   {
    "duration": 10,
    "start_time": "2023-06-20T08:39:56.619Z"
   },
   {
    "duration": 17,
    "start_time": "2023-06-20T08:39:56.631Z"
   },
   {
    "duration": 11,
    "start_time": "2023-06-20T08:39:56.650Z"
   },
   {
    "duration": 18,
    "start_time": "2023-06-20T08:39:56.663Z"
   },
   {
    "duration": 14,
    "start_time": "2023-06-20T08:39:56.683Z"
   },
   {
    "duration": 24,
    "start_time": "2023-06-20T08:39:56.699Z"
   },
   {
    "duration": 30,
    "start_time": "2023-06-20T08:39:56.725Z"
   },
   {
    "duration": 30,
    "start_time": "2023-06-20T08:39:56.757Z"
   },
   {
    "duration": 21,
    "start_time": "2023-06-20T08:39:56.789Z"
   },
   {
    "duration": 27,
    "start_time": "2023-06-20T08:39:56.812Z"
   },
   {
    "duration": 12,
    "start_time": "2023-06-20T08:39:56.843Z"
   },
   {
    "duration": 23,
    "start_time": "2023-06-20T08:39:56.857Z"
   },
   {
    "duration": 5,
    "start_time": "2023-06-20T08:39:56.882Z"
   },
   {
    "duration": 10,
    "start_time": "2023-06-20T08:39:56.889Z"
   },
   {
    "duration": 8,
    "start_time": "2023-06-20T08:39:56.901Z"
   },
   {
    "duration": 270,
    "start_time": "2023-06-20T08:39:56.911Z"
   },
   {
    "duration": 52,
    "start_time": "2023-06-20T08:39:57.182Z"
   },
   {
    "duration": 33,
    "start_time": "2023-06-20T08:39:57.236Z"
   },
   {
    "duration": 18,
    "start_time": "2023-06-20T08:39:57.270Z"
   },
   {
    "duration": 5,
    "start_time": "2023-06-20T08:39:57.290Z"
   },
   {
    "duration": 27,
    "start_time": "2023-06-20T08:39:57.297Z"
   },
   {
    "duration": 30,
    "start_time": "2023-06-20T08:39:57.326Z"
   },
   {
    "duration": 57,
    "start_time": "2023-06-20T08:39:57.359Z"
   },
   {
    "duration": 76,
    "start_time": "2023-06-20T08:39:57.419Z"
   },
   {
    "duration": 13,
    "start_time": "2023-06-20T08:39:57.497Z"
   },
   {
    "duration": 69,
    "start_time": "2023-06-20T08:39:57.511Z"
   },
   {
    "duration": 28,
    "start_time": "2023-06-20T08:39:57.581Z"
   },
   {
    "duration": 72,
    "start_time": "2023-06-20T08:39:57.611Z"
   },
   {
    "duration": 4,
    "start_time": "2023-06-20T08:39:57.685Z"
   },
   {
    "duration": 24,
    "start_time": "2023-06-20T08:39:57.691Z"
   },
   {
    "duration": 686,
    "start_time": "2023-06-20T08:39:57.717Z"
   },
   {
    "duration": 40,
    "start_time": "2023-06-20T08:39:58.405Z"
   },
   {
    "duration": 196,
    "start_time": "2023-06-20T08:39:58.446Z"
   },
   {
    "duration": 318,
    "start_time": "2023-06-20T08:39:58.645Z"
   },
   {
    "duration": 217,
    "start_time": "2023-06-20T08:39:58.966Z"
   },
   {
    "duration": 200,
    "start_time": "2023-06-20T08:39:59.185Z"
   },
   {
    "duration": 191,
    "start_time": "2023-06-20T08:39:59.387Z"
   },
   {
    "duration": 254,
    "start_time": "2023-06-20T08:39:59.583Z"
   },
   {
    "duration": 128,
    "start_time": "2023-06-20T08:39:59.839Z"
   },
   {
    "duration": 177,
    "start_time": "2023-06-20T08:39:59.969Z"
   },
   {
    "duration": 142,
    "start_time": "2023-06-20T08:40:00.147Z"
   },
   {
    "duration": 237,
    "start_time": "2023-06-20T08:40:00.291Z"
   },
   {
    "duration": 213,
    "start_time": "2023-06-20T08:40:00.530Z"
   },
   {
    "duration": 210,
    "start_time": "2023-06-20T08:40:00.744Z"
   },
   {
    "duration": 214,
    "start_time": "2023-06-20T08:40:00.957Z"
   },
   {
    "duration": 227,
    "start_time": "2023-06-20T08:40:01.174Z"
   },
   {
    "duration": 363,
    "start_time": "2023-06-20T08:40:01.402Z"
   },
   {
    "duration": 404,
    "start_time": "2023-06-20T08:40:01.766Z"
   },
   {
    "duration": 234,
    "start_time": "2023-06-20T08:40:02.171Z"
   },
   {
    "duration": 228,
    "start_time": "2023-06-20T08:40:02.407Z"
   },
   {
    "duration": 213,
    "start_time": "2023-06-20T08:40:02.638Z"
   },
   {
    "duration": 184,
    "start_time": "2023-06-20T08:40:02.856Z"
   },
   {
    "duration": 219,
    "start_time": "2023-06-20T08:40:03.042Z"
   },
   {
    "duration": 195,
    "start_time": "2023-06-20T08:40:03.263Z"
   },
   {
    "duration": 201,
    "start_time": "2023-06-20T08:40:03.460Z"
   },
   {
    "duration": 37,
    "start_time": "2023-06-20T08:40:03.663Z"
   },
   {
    "duration": 8,
    "start_time": "2023-06-20T08:40:07.949Z"
   },
   {
    "duration": 19,
    "start_time": "2023-06-20T08:40:15.660Z"
   },
   {
    "duration": 28,
    "start_time": "2023-06-20T08:40:37.542Z"
   },
   {
    "duration": 32,
    "start_time": "2023-06-20T08:41:32.684Z"
   },
   {
    "duration": 1128,
    "start_time": "2023-06-20T08:42:13.476Z"
   },
   {
    "duration": 990,
    "start_time": "2023-06-20T08:42:20.578Z"
   },
   {
    "duration": 31,
    "start_time": "2023-06-20T08:42:54.778Z"
   },
   {
    "duration": 28,
    "start_time": "2023-06-20T08:46:47.672Z"
   },
   {
    "duration": 14,
    "start_time": "2023-06-20T08:48:17.899Z"
   },
   {
    "duration": 35,
    "start_time": "2023-06-20T09:04:54.380Z"
   },
   {
    "duration": 37,
    "start_time": "2023-06-20T09:05:14.211Z"
   },
   {
    "duration": 95,
    "start_time": "2023-06-20T09:05:21.375Z"
   },
   {
    "duration": 55,
    "start_time": "2023-06-20T09:07:34.704Z"
   },
   {
    "duration": 9,
    "start_time": "2023-06-20T09:07:53.545Z"
   },
   {
    "duration": 24,
    "start_time": "2023-06-20T09:08:27.780Z"
   },
   {
    "duration": 55,
    "start_time": "2023-06-20T09:08:41.336Z"
   },
   {
    "duration": 24,
    "start_time": "2023-06-20T09:08:56.336Z"
   },
   {
    "duration": 30,
    "start_time": "2023-06-20T09:09:16.996Z"
   },
   {
    "duration": 232,
    "start_time": "2023-06-20T09:09:29.260Z"
   },
   {
    "duration": 179,
    "start_time": "2023-06-20T09:10:12.977Z"
   },
   {
    "duration": 283,
    "start_time": "2023-06-20T09:10:43.104Z"
   },
   {
    "duration": 804,
    "start_time": "2023-06-20T09:12:37.986Z"
   },
   {
    "duration": 21,
    "start_time": "2023-06-20T09:12:38.793Z"
   },
   {
    "duration": 2185,
    "start_time": "2023-06-20T09:12:38.817Z"
   },
   {
    "duration": 13,
    "start_time": "2023-06-20T09:12:41.004Z"
   },
   {
    "duration": 5,
    "start_time": "2023-06-20T09:12:41.020Z"
   },
   {
    "duration": 10,
    "start_time": "2023-06-20T09:12:41.027Z"
   },
   {
    "duration": 21,
    "start_time": "2023-06-20T09:12:41.039Z"
   },
   {
    "duration": 8,
    "start_time": "2023-06-20T09:12:41.062Z"
   },
   {
    "duration": 4,
    "start_time": "2023-06-20T09:12:41.073Z"
   },
   {
    "duration": 6,
    "start_time": "2023-06-20T09:12:41.079Z"
   },
   {
    "duration": 13,
    "start_time": "2023-06-20T09:12:41.086Z"
   },
   {
    "duration": 8,
    "start_time": "2023-06-20T09:12:41.101Z"
   },
   {
    "duration": 47,
    "start_time": "2023-06-20T09:12:41.111Z"
   },
   {
    "duration": 17,
    "start_time": "2023-06-20T09:12:41.163Z"
   },
   {
    "duration": 9,
    "start_time": "2023-06-20T09:12:41.183Z"
   },
   {
    "duration": 5,
    "start_time": "2023-06-20T09:12:41.194Z"
   },
   {
    "duration": 14,
    "start_time": "2023-06-20T09:12:41.201Z"
   },
   {
    "duration": 7,
    "start_time": "2023-06-20T09:12:41.217Z"
   },
   {
    "duration": 323,
    "start_time": "2023-06-20T09:12:41.228Z"
   },
   {
    "duration": 79,
    "start_time": "2023-06-20T09:12:41.557Z"
   },
   {
    "duration": 41,
    "start_time": "2023-06-20T09:12:41.638Z"
   },
   {
    "duration": 32,
    "start_time": "2023-06-20T09:12:41.682Z"
   },
   {
    "duration": 6,
    "start_time": "2023-06-20T09:12:41.716Z"
   },
   {
    "duration": 61,
    "start_time": "2023-06-20T09:12:41.725Z"
   },
   {
    "duration": 7,
    "start_time": "2023-06-20T09:12:41.788Z"
   },
   {
    "duration": 81,
    "start_time": "2023-06-20T09:12:41.797Z"
   },
   {
    "duration": 112,
    "start_time": "2023-06-20T09:12:41.881Z"
   },
   {
    "duration": 23,
    "start_time": "2023-06-20T09:12:41.996Z"
   },
   {
    "duration": 83,
    "start_time": "2023-06-20T09:12:42.022Z"
   },
   {
    "duration": 33,
    "start_time": "2023-06-20T09:12:42.107Z"
   },
   {
    "duration": 98,
    "start_time": "2023-06-20T09:12:42.142Z"
   },
   {
    "duration": 17,
    "start_time": "2023-06-20T09:12:42.242Z"
   },
   {
    "duration": 28,
    "start_time": "2023-06-20T09:12:42.261Z"
   },
   {
    "duration": 739,
    "start_time": "2023-06-20T09:12:42.291Z"
   },
   {
    "duration": 52,
    "start_time": "2023-06-20T09:12:43.032Z"
   },
   {
    "duration": 224,
    "start_time": "2023-06-20T09:12:43.086Z"
   },
   {
    "duration": 303,
    "start_time": "2023-06-20T09:12:43.313Z"
   },
   {
    "duration": 268,
    "start_time": "2023-06-20T09:12:43.619Z"
   },
   {
    "duration": 229,
    "start_time": "2023-06-20T09:12:43.890Z"
   },
   {
    "duration": 262,
    "start_time": "2023-06-20T09:12:44.121Z"
   },
   {
    "duration": 264,
    "start_time": "2023-06-20T09:12:44.387Z"
   },
   {
    "duration": 138,
    "start_time": "2023-06-20T09:12:44.657Z"
   },
   {
    "duration": 191,
    "start_time": "2023-06-20T09:12:44.797Z"
   },
   {
    "duration": 166,
    "start_time": "2023-06-20T09:12:44.990Z"
   },
   {
    "duration": 211,
    "start_time": "2023-06-20T09:12:45.159Z"
   },
   {
    "duration": 250,
    "start_time": "2023-06-20T09:12:45.372Z"
   },
   {
    "duration": 253,
    "start_time": "2023-06-20T09:12:45.624Z"
   },
   {
    "duration": 228,
    "start_time": "2023-06-20T09:12:45.880Z"
   },
   {
    "duration": 212,
    "start_time": "2023-06-20T09:12:46.110Z"
   },
   {
    "duration": 160,
    "start_time": "2023-06-20T09:12:46.324Z"
   },
   {
    "duration": 347,
    "start_time": "2023-06-20T09:12:46.486Z"
   },
   {
    "duration": 231,
    "start_time": "2023-06-20T09:12:46.835Z"
   },
   {
    "duration": 249,
    "start_time": "2023-06-20T09:12:47.068Z"
   },
   {
    "duration": 275,
    "start_time": "2023-06-20T09:12:47.320Z"
   },
   {
    "duration": 214,
    "start_time": "2023-06-20T09:12:47.598Z"
   },
   {
    "duration": 233,
    "start_time": "2023-06-20T09:12:47.814Z"
   },
   {
    "duration": 219,
    "start_time": "2023-06-20T09:12:48.050Z"
   },
   {
    "duration": 271,
    "start_time": "2023-06-20T09:12:48.272Z"
   },
   {
    "duration": 946,
    "start_time": "2023-06-20T09:14:18.178Z"
   },
   {
    "duration": 30,
    "start_time": "2023-06-20T09:14:19.126Z"
   },
   {
    "duration": 2183,
    "start_time": "2023-06-20T09:14:19.158Z"
   },
   {
    "duration": 13,
    "start_time": "2023-06-20T09:14:21.344Z"
   },
   {
    "duration": 6,
    "start_time": "2023-06-20T09:14:21.360Z"
   },
   {
    "duration": 5,
    "start_time": "2023-06-20T09:14:21.368Z"
   },
   {
    "duration": 8,
    "start_time": "2023-06-20T09:14:21.376Z"
   },
   {
    "duration": 6,
    "start_time": "2023-06-20T09:14:21.386Z"
   },
   {
    "duration": 12,
    "start_time": "2023-06-20T09:14:21.394Z"
   },
   {
    "duration": 4,
    "start_time": "2023-06-20T09:14:21.408Z"
   },
   {
    "duration": 51,
    "start_time": "2023-06-20T09:14:21.414Z"
   },
   {
    "duration": 4,
    "start_time": "2023-06-20T09:14:21.468Z"
   },
   {
    "duration": 20,
    "start_time": "2023-06-20T09:14:21.474Z"
   },
   {
    "duration": 11,
    "start_time": "2023-06-20T09:14:21.498Z"
   },
   {
    "duration": 9,
    "start_time": "2023-06-20T09:14:21.511Z"
   },
   {
    "duration": 35,
    "start_time": "2023-06-20T09:14:21.523Z"
   },
   {
    "duration": 7,
    "start_time": "2023-06-20T09:14:21.561Z"
   },
   {
    "duration": 15,
    "start_time": "2023-06-20T09:14:21.571Z"
   },
   {
    "duration": 331,
    "start_time": "2023-06-20T09:14:21.591Z"
   },
   {
    "duration": 60,
    "start_time": "2023-06-20T09:14:21.924Z"
   },
   {
    "duration": 22,
    "start_time": "2023-06-20T09:14:21.986Z"
   },
   {
    "duration": 55,
    "start_time": "2023-06-20T09:14:22.011Z"
   },
   {
    "duration": 5,
    "start_time": "2023-06-20T09:14:22.069Z"
   },
   {
    "duration": 46,
    "start_time": "2023-06-20T09:14:22.076Z"
   },
   {
    "duration": 7,
    "start_time": "2023-06-20T09:14:22.124Z"
   },
   {
    "duration": 91,
    "start_time": "2023-06-20T09:14:22.134Z"
   },
   {
    "duration": 83,
    "start_time": "2023-06-20T09:14:22.227Z"
   },
   {
    "duration": 14,
    "start_time": "2023-06-20T09:14:22.313Z"
   },
   {
    "duration": 70,
    "start_time": "2023-06-20T09:14:22.329Z"
   },
   {
    "duration": 35,
    "start_time": "2023-06-20T09:14:22.401Z"
   },
   {
    "duration": 73,
    "start_time": "2023-06-20T09:14:22.439Z"
   },
   {
    "duration": 5,
    "start_time": "2023-06-20T09:14:22.515Z"
   },
   {
    "duration": 43,
    "start_time": "2023-06-20T09:14:22.522Z"
   },
   {
    "duration": 748,
    "start_time": "2023-06-20T09:14:22.567Z"
   },
   {
    "duration": 51,
    "start_time": "2023-06-20T09:14:23.317Z"
   },
   {
    "duration": 208,
    "start_time": "2023-06-20T09:14:23.370Z"
   },
   {
    "duration": 307,
    "start_time": "2023-06-20T09:14:23.580Z"
   },
   {
    "duration": 214,
    "start_time": "2023-06-20T09:14:23.889Z"
   },
   {
    "duration": 181,
    "start_time": "2023-06-20T09:14:24.105Z"
   },
   {
    "duration": 225,
    "start_time": "2023-06-20T09:14:24.288Z"
   },
   {
    "duration": 253,
    "start_time": "2023-06-20T09:14:24.517Z"
   },
   {
    "duration": 137,
    "start_time": "2023-06-20T09:14:24.772Z"
   },
   {
    "duration": 192,
    "start_time": "2023-06-20T09:14:24.911Z"
   },
   {
    "duration": 141,
    "start_time": "2023-06-20T09:14:25.105Z"
   },
   {
    "duration": 192,
    "start_time": "2023-06-20T09:14:25.257Z"
   },
   {
    "duration": 210,
    "start_time": "2023-06-20T09:14:25.452Z"
   },
   {
    "duration": 211,
    "start_time": "2023-06-20T09:14:25.664Z"
   },
   {
    "duration": 264,
    "start_time": "2023-06-20T09:14:25.877Z"
   },
   {
    "duration": 242,
    "start_time": "2023-06-20T09:14:26.143Z"
   },
   {
    "duration": 153,
    "start_time": "2023-06-20T09:14:26.388Z"
   },
   {
    "duration": 322,
    "start_time": "2023-06-20T09:14:26.542Z"
   },
   {
    "duration": 207,
    "start_time": "2023-06-20T09:14:26.866Z"
   },
   {
    "duration": 233,
    "start_time": "2023-06-20T09:14:27.076Z"
   },
   {
    "duration": 234,
    "start_time": "2023-06-20T09:14:27.311Z"
   },
   {
    "duration": 203,
    "start_time": "2023-06-20T09:14:27.547Z"
   },
   {
    "duration": 216,
    "start_time": "2023-06-20T09:14:27.756Z"
   },
   {
    "duration": 194,
    "start_time": "2023-06-20T09:14:27.974Z"
   },
   {
    "duration": 215,
    "start_time": "2023-06-20T09:14:28.169Z"
   },
   {
    "duration": 289,
    "start_time": "2023-06-20T09:14:28.386Z"
   },
   {
    "duration": 245,
    "start_time": "2023-06-20T09:15:41.669Z"
   },
   {
    "duration": 321,
    "start_time": "2023-06-20T09:23:59.021Z"
   },
   {
    "duration": 68,
    "start_time": "2023-06-20T09:24:08.823Z"
   },
   {
    "duration": 36,
    "start_time": "2023-06-20T09:25:04.586Z"
   },
   {
    "duration": 49,
    "start_time": "2023-06-20T09:25:12.270Z"
   },
   {
    "duration": 44,
    "start_time": "2023-06-20T09:25:38.987Z"
   },
   {
    "duration": 35,
    "start_time": "2023-06-20T09:28:32.305Z"
   },
   {
    "duration": 37,
    "start_time": "2023-06-20T09:28:57.659Z"
   },
   {
    "duration": 34,
    "start_time": "2023-06-20T09:29:34.855Z"
   },
   {
    "duration": 48,
    "start_time": "2023-06-20T09:30:45.109Z"
   },
   {
    "duration": 55,
    "start_time": "2023-06-20T09:32:18.996Z"
   },
   {
    "duration": 52,
    "start_time": "2023-06-20T09:32:27.643Z"
   },
   {
    "duration": 42,
    "start_time": "2023-06-20T09:32:40.574Z"
   },
   {
    "duration": 1725,
    "start_time": "2023-06-20T09:33:20.203Z"
   },
   {
    "duration": 271,
    "start_time": "2023-06-20T09:33:32.605Z"
   },
   {
    "duration": 262,
    "start_time": "2023-06-20T09:34:20.878Z"
   },
   {
    "duration": 282,
    "start_time": "2023-06-20T09:34:26.548Z"
   },
   {
    "duration": 1500,
    "start_time": "2023-06-20T09:35:08.683Z"
   },
   {
    "duration": 1241,
    "start_time": "2023-06-20T09:35:18.179Z"
   },
   {
    "duration": 1428,
    "start_time": "2023-06-20T09:35:28.372Z"
   },
   {
    "duration": 1128,
    "start_time": "2023-06-20T09:36:52.938Z"
   },
   {
    "duration": 1505,
    "start_time": "2023-06-20T09:38:41.480Z"
   },
   {
    "duration": 69,
    "start_time": "2023-06-20T09:56:25.597Z"
   },
   {
    "duration": 192,
    "start_time": "2023-06-20T09:56:52.299Z"
   },
   {
    "duration": 10,
    "start_time": "2023-06-20T10:00:51.221Z"
   },
   {
    "duration": 240,
    "start_time": "2023-06-20T10:02:12.821Z"
   },
   {
    "duration": 146,
    "start_time": "2023-06-20T10:04:21.547Z"
   },
   {
    "duration": 153,
    "start_time": "2023-06-20T10:12:54.992Z"
   },
   {
    "duration": 196,
    "start_time": "2023-06-20T10:13:24.745Z"
   },
   {
    "duration": 1003,
    "start_time": "2023-06-20T10:14:56.473Z"
   },
   {
    "duration": 33,
    "start_time": "2023-06-20T10:14:57.482Z"
   },
   {
    "duration": 2752,
    "start_time": "2023-06-20T10:14:57.517Z"
   },
   {
    "duration": 165,
    "start_time": "2023-06-20T10:15:00.272Z"
   },
   {
    "duration": 32,
    "start_time": "2023-06-20T10:15:00.446Z"
   },
   {
    "duration": 62,
    "start_time": "2023-06-20T10:15:00.490Z"
   },
   {
    "duration": 35,
    "start_time": "2023-06-20T10:15:00.562Z"
   },
   {
    "duration": 64,
    "start_time": "2023-06-20T10:15:00.611Z"
   },
   {
    "duration": 39,
    "start_time": "2023-06-20T10:15:00.683Z"
   },
   {
    "duration": 29,
    "start_time": "2023-06-20T10:15:00.725Z"
   },
   {
    "duration": 57,
    "start_time": "2023-06-20T10:15:00.760Z"
   },
   {
    "duration": 67,
    "start_time": "2023-06-20T10:15:00.820Z"
   },
   {
    "duration": 35,
    "start_time": "2023-06-20T10:15:00.891Z"
   },
   {
    "duration": 92,
    "start_time": "2023-06-20T10:15:00.938Z"
   },
   {
    "duration": 104,
    "start_time": "2023-06-20T10:15:01.039Z"
   },
   {
    "duration": 64,
    "start_time": "2023-06-20T10:15:01.146Z"
   },
   {
    "duration": 53,
    "start_time": "2023-06-20T10:15:01.213Z"
   },
   {
    "duration": 43,
    "start_time": "2023-06-20T10:15:01.268Z"
   },
   {
    "duration": 64,
    "start_time": "2023-06-20T10:15:01.319Z"
   },
   {
    "duration": 481,
    "start_time": "2023-06-20T10:15:01.389Z"
   },
   {
    "duration": 65,
    "start_time": "2023-06-20T10:15:01.876Z"
   },
   {
    "duration": 45,
    "start_time": "2023-06-20T10:15:01.944Z"
   },
   {
    "duration": 56,
    "start_time": "2023-06-20T10:15:01.993Z"
   },
   {
    "duration": 56,
    "start_time": "2023-06-20T10:15:02.052Z"
   },
   {
    "duration": 114,
    "start_time": "2023-06-20T10:15:02.113Z"
   },
   {
    "duration": 9,
    "start_time": "2023-06-20T10:15:02.230Z"
   },
   {
    "duration": 91,
    "start_time": "2023-06-20T10:15:02.242Z"
   },
   {
    "duration": 97,
    "start_time": "2023-06-20T10:15:02.336Z"
   },
   {
    "duration": 26,
    "start_time": "2023-06-20T10:15:02.435Z"
   },
   {
    "duration": 130,
    "start_time": "2023-06-20T10:15:02.467Z"
   },
   {
    "duration": 33,
    "start_time": "2023-06-20T10:15:02.601Z"
   },
   {
    "duration": 90,
    "start_time": "2023-06-20T10:15:02.636Z"
   },
   {
    "duration": 5,
    "start_time": "2023-06-20T10:15:02.729Z"
   },
   {
    "duration": 70,
    "start_time": "2023-06-20T10:15:02.737Z"
   },
   {
    "duration": 870,
    "start_time": "2023-06-20T10:15:02.809Z"
   },
   {
    "duration": 47,
    "start_time": "2023-06-20T10:15:03.689Z"
   },
   {
    "duration": 177,
    "start_time": "2023-06-20T10:15:03.739Z"
   },
   {
    "duration": 269,
    "start_time": "2023-06-20T10:15:03.919Z"
   },
   {
    "duration": 424,
    "start_time": "2023-06-20T10:15:04.199Z"
   },
   {
    "duration": 290,
    "start_time": "2023-06-20T10:15:04.625Z"
   },
   {
    "duration": 314,
    "start_time": "2023-06-20T10:15:04.920Z"
   },
   {
    "duration": 237,
    "start_time": "2023-06-20T10:15:05.236Z"
   },
   {
    "duration": 359,
    "start_time": "2023-06-20T10:15:05.478Z"
   },
   {
    "duration": 254,
    "start_time": "2023-06-20T10:15:05.842Z"
   },
   {
    "duration": 296,
    "start_time": "2023-06-20T10:15:06.101Z"
   },
   {
    "duration": 214,
    "start_time": "2023-06-20T10:15:06.404Z"
   },
   {
    "duration": 255,
    "start_time": "2023-06-20T10:15:06.620Z"
   },
   {
    "duration": 251,
    "start_time": "2023-06-20T10:15:06.880Z"
   },
   {
    "duration": 287,
    "start_time": "2023-06-20T10:15:07.134Z"
   },
   {
    "duration": 319,
    "start_time": "2023-06-20T10:15:07.425Z"
   },
   {
    "duration": 254,
    "start_time": "2023-06-20T10:15:07.747Z"
   },
   {
    "duration": 182,
    "start_time": "2023-06-20T10:15:08.003Z"
   },
   {
    "duration": 412,
    "start_time": "2023-06-20T10:15:08.200Z"
   },
   {
    "duration": 283,
    "start_time": "2023-06-20T10:15:08.615Z"
   },
   {
    "duration": 314,
    "start_time": "2023-06-20T10:15:08.900Z"
   },
   {
    "duration": 264,
    "start_time": "2023-06-20T10:15:09.221Z"
   },
   {
    "duration": 1879,
    "start_time": "2023-06-20T10:15:09.491Z"
   },
   {
    "duration": 207,
    "start_time": "2023-06-20T10:19:18.710Z"
   },
   {
    "duration": 198,
    "start_time": "2023-06-20T10:20:13.837Z"
   },
   {
    "duration": 226,
    "start_time": "2023-06-20T10:20:45.345Z"
   },
   {
    "duration": 219,
    "start_time": "2023-06-20T10:23:00.474Z"
   },
   {
    "duration": 65,
    "start_time": "2023-06-20T10:24:46.010Z"
   },
   {
    "duration": 766,
    "start_time": "2023-06-20T10:24:58.415Z"
   },
   {
    "duration": 215,
    "start_time": "2023-06-20T10:26:25.608Z"
   },
   {
    "duration": 338,
    "start_time": "2023-06-20T10:27:44.390Z"
   },
   {
    "duration": 389,
    "start_time": "2023-06-20T10:28:23.546Z"
   },
   {
    "duration": 382,
    "start_time": "2023-06-20T10:28:40.027Z"
   },
   {
    "duration": 409,
    "start_time": "2023-06-20T10:28:56.691Z"
   },
   {
    "duration": 384,
    "start_time": "2023-06-20T10:29:24.623Z"
   },
   {
    "duration": 188,
    "start_time": "2023-06-20T10:31:22.428Z"
   },
   {
    "duration": 1155,
    "start_time": "2023-06-20T10:31:33.528Z"
   },
   {
    "duration": 23,
    "start_time": "2023-06-20T10:31:34.685Z"
   },
   {
    "duration": 3131,
    "start_time": "2023-06-20T10:31:34.714Z"
   },
   {
    "duration": 114,
    "start_time": "2023-06-20T10:31:37.848Z"
   },
   {
    "duration": 20,
    "start_time": "2023-06-20T10:31:37.966Z"
   },
   {
    "duration": 28,
    "start_time": "2023-06-20T10:31:37.988Z"
   },
   {
    "duration": 12,
    "start_time": "2023-06-20T10:31:38.018Z"
   },
   {
    "duration": 15,
    "start_time": "2023-06-20T10:31:38.033Z"
   },
   {
    "duration": 15,
    "start_time": "2023-06-20T10:31:38.050Z"
   },
   {
    "duration": 5,
    "start_time": "2023-06-20T10:31:38.068Z"
   },
   {
    "duration": 12,
    "start_time": "2023-06-20T10:31:38.075Z"
   },
   {
    "duration": 19,
    "start_time": "2023-06-20T10:31:38.090Z"
   },
   {
    "duration": 10,
    "start_time": "2023-06-20T10:31:38.111Z"
   },
   {
    "duration": 37,
    "start_time": "2023-06-20T10:31:38.126Z"
   },
   {
    "duration": 19,
    "start_time": "2023-06-20T10:31:38.168Z"
   },
   {
    "duration": 26,
    "start_time": "2023-06-20T10:31:38.191Z"
   },
   {
    "duration": 22,
    "start_time": "2023-06-20T10:31:38.219Z"
   },
   {
    "duration": 16,
    "start_time": "2023-06-20T10:31:38.244Z"
   },
   {
    "duration": 9,
    "start_time": "2023-06-20T10:31:38.262Z"
   },
   {
    "duration": 394,
    "start_time": "2023-06-20T10:31:38.273Z"
   },
   {
    "duration": 91,
    "start_time": "2023-06-20T10:31:38.670Z"
   },
   {
    "duration": 30,
    "start_time": "2023-06-20T10:31:38.768Z"
   },
   {
    "duration": 30,
    "start_time": "2023-06-20T10:31:38.801Z"
   },
   {
    "duration": 8,
    "start_time": "2023-06-20T10:31:38.834Z"
   },
   {
    "duration": 80,
    "start_time": "2023-06-20T10:31:38.844Z"
   },
   {
    "duration": 11,
    "start_time": "2023-06-20T10:31:38.926Z"
   },
   {
    "duration": 92,
    "start_time": "2023-06-20T10:31:38.940Z"
   },
   {
    "duration": 117,
    "start_time": "2023-06-20T10:31:39.035Z"
   },
   {
    "duration": 21,
    "start_time": "2023-06-20T10:31:39.158Z"
   },
   {
    "duration": 119,
    "start_time": "2023-06-20T10:31:39.182Z"
   },
   {
    "duration": 46,
    "start_time": "2023-06-20T10:31:39.304Z"
   },
   {
    "duration": 91,
    "start_time": "2023-06-20T10:31:39.352Z"
   },
   {
    "duration": 178,
    "start_time": "2023-06-20T10:31:39.447Z"
   },
   {
    "duration": 7,
    "start_time": "2023-06-20T10:31:39.628Z"
   },
   {
    "duration": 49,
    "start_time": "2023-06-20T10:31:39.641Z"
   },
   {
    "duration": 1007,
    "start_time": "2023-06-20T10:31:39.695Z"
   },
   {
    "duration": 64,
    "start_time": "2023-06-20T10:31:40.704Z"
   },
   {
    "duration": 203,
    "start_time": "2023-06-20T10:31:40.770Z"
   },
   {
    "duration": 398,
    "start_time": "2023-06-20T10:31:40.975Z"
   },
   {
    "duration": 250,
    "start_time": "2023-06-20T10:31:41.375Z"
   },
   {
    "duration": 220,
    "start_time": "2023-06-20T10:31:41.631Z"
   },
   {
    "duration": 200,
    "start_time": "2023-06-20T10:31:41.861Z"
   },
   {
    "duration": 275,
    "start_time": "2023-06-20T10:31:42.063Z"
   },
   {
    "duration": 172,
    "start_time": "2023-06-20T10:31:42.341Z"
   },
   {
    "duration": 202,
    "start_time": "2023-06-20T10:31:42.515Z"
   },
   {
    "duration": 200,
    "start_time": "2023-06-20T10:31:42.719Z"
   },
   {
    "duration": 275,
    "start_time": "2023-06-20T10:31:42.921Z"
   },
   {
    "duration": 250,
    "start_time": "2023-06-20T10:31:43.198Z"
   },
   {
    "duration": 356,
    "start_time": "2023-06-20T10:31:43.450Z"
   },
   {
    "duration": 288,
    "start_time": "2023-06-20T10:31:43.809Z"
   },
   {
    "duration": 292,
    "start_time": "2023-06-20T10:31:44.100Z"
   },
   {
    "duration": 188,
    "start_time": "2023-06-20T10:31:44.397Z"
   },
   {
    "duration": 486,
    "start_time": "2023-06-20T10:31:44.588Z"
   },
   {
    "duration": 345,
    "start_time": "2023-06-20T10:31:45.081Z"
   },
   {
    "duration": 302,
    "start_time": "2023-06-20T10:31:45.430Z"
   },
   {
    "duration": 273,
    "start_time": "2023-06-20T10:31:45.734Z"
   },
   {
    "duration": 278,
    "start_time": "2023-06-20T10:31:46.009Z"
   },
   {
    "duration": 270,
    "start_time": "2023-06-20T10:31:46.289Z"
   },
   {
    "duration": 262,
    "start_time": "2023-06-20T10:31:46.569Z"
   },
   {
    "duration": 512,
    "start_time": "2023-06-20T10:31:46.833Z"
   },
   {
    "duration": 74,
    "start_time": "2023-06-20T10:31:57.143Z"
   },
   {
    "duration": 167,
    "start_time": "2023-06-20T10:33:00.895Z"
   },
   {
    "duration": 18,
    "start_time": "2023-06-20T10:35:52.474Z"
   },
   {
    "duration": 21,
    "start_time": "2023-06-20T10:35:59.065Z"
   },
   {
    "duration": 83,
    "start_time": "2023-06-20T10:41:13.252Z"
   },
   {
    "duration": 188,
    "start_time": "2023-06-20T10:42:11.616Z"
   },
   {
    "duration": 73,
    "start_time": "2023-06-20T10:42:18.163Z"
   },
   {
    "duration": 53,
    "start_time": "2023-06-20T10:44:05.991Z"
   },
   {
    "duration": 1128,
    "start_time": "2023-06-20T10:44:10.068Z"
   },
   {
    "duration": 23,
    "start_time": "2023-06-20T10:44:11.206Z"
   },
   {
    "duration": 2455,
    "start_time": "2023-06-20T10:44:11.231Z"
   },
   {
    "duration": 118,
    "start_time": "2023-06-20T10:44:13.689Z"
   },
   {
    "duration": 14,
    "start_time": "2023-06-20T10:44:13.810Z"
   },
   {
    "duration": 9,
    "start_time": "2023-06-20T10:44:13.826Z"
   },
   {
    "duration": 14,
    "start_time": "2023-06-20T10:44:13.857Z"
   },
   {
    "duration": 18,
    "start_time": "2023-06-20T10:44:13.873Z"
   },
   {
    "duration": 13,
    "start_time": "2023-06-20T10:44:13.894Z"
   },
   {
    "duration": 6,
    "start_time": "2023-06-20T10:44:13.911Z"
   },
   {
    "duration": 24,
    "start_time": "2023-06-20T10:44:13.922Z"
   },
   {
    "duration": 48,
    "start_time": "2023-06-20T10:44:13.949Z"
   },
   {
    "duration": 7,
    "start_time": "2023-06-20T10:44:14.008Z"
   },
   {
    "duration": 15,
    "start_time": "2023-06-20T10:44:14.021Z"
   },
   {
    "duration": 22,
    "start_time": "2023-06-20T10:44:14.039Z"
   },
   {
    "duration": 16,
    "start_time": "2023-06-20T10:44:14.073Z"
   },
   {
    "duration": 8,
    "start_time": "2023-06-20T10:44:14.096Z"
   },
   {
    "duration": 10,
    "start_time": "2023-06-20T10:44:14.109Z"
   },
   {
    "duration": 14,
    "start_time": "2023-06-20T10:44:14.121Z"
   },
   {
    "duration": 399,
    "start_time": "2023-06-20T10:44:14.138Z"
   },
   {
    "duration": 101,
    "start_time": "2023-06-20T10:44:14.540Z"
   },
   {
    "duration": 32,
    "start_time": "2023-06-20T10:44:14.643Z"
   },
   {
    "duration": 31,
    "start_time": "2023-06-20T10:44:14.679Z"
   },
   {
    "duration": 4,
    "start_time": "2023-06-20T10:44:14.713Z"
   },
   {
    "duration": 58,
    "start_time": "2023-06-20T10:44:14.718Z"
   },
   {
    "duration": 9,
    "start_time": "2023-06-20T10:44:14.778Z"
   },
   {
    "duration": 73,
    "start_time": "2023-06-20T10:44:14.789Z"
   },
   {
    "duration": 98,
    "start_time": "2023-06-20T10:44:14.864Z"
   },
   {
    "duration": 27,
    "start_time": "2023-06-20T10:44:14.964Z"
   },
   {
    "duration": 99,
    "start_time": "2023-06-20T10:44:14.996Z"
   },
   {
    "duration": 44,
    "start_time": "2023-06-20T10:44:15.097Z"
   },
   {
    "duration": 123,
    "start_time": "2023-06-20T10:44:15.144Z"
   },
   {
    "duration": 203,
    "start_time": "2023-06-20T10:44:15.269Z"
   },
   {
    "duration": 5,
    "start_time": "2023-06-20T10:44:15.474Z"
   },
   {
    "duration": 105,
    "start_time": "2023-06-20T10:44:15.482Z"
   },
   {
    "duration": 1177,
    "start_time": "2023-06-20T10:44:15.590Z"
   },
   {
    "duration": 64,
    "start_time": "2023-06-20T10:44:16.770Z"
   },
   {
    "duration": 337,
    "start_time": "2023-06-20T10:44:16.837Z"
   },
   {
    "duration": 451,
    "start_time": "2023-06-20T10:44:17.179Z"
   },
   {
    "duration": 320,
    "start_time": "2023-06-20T10:44:17.637Z"
   },
   {
    "duration": 305,
    "start_time": "2023-06-20T10:44:17.969Z"
   },
   {
    "duration": 253,
    "start_time": "2023-06-20T10:44:18.282Z"
   },
   {
    "duration": 308,
    "start_time": "2023-06-20T10:44:18.537Z"
   },
   {
    "duration": 203,
    "start_time": "2023-06-20T10:44:18.847Z"
   },
   {
    "duration": 247,
    "start_time": "2023-06-20T10:44:19.057Z"
   },
   {
    "duration": 220,
    "start_time": "2023-06-20T10:44:19.306Z"
   },
   {
    "duration": 263,
    "start_time": "2023-06-20T10:44:19.529Z"
   },
   {
    "duration": 330,
    "start_time": "2023-06-20T10:44:19.797Z"
   },
   {
    "duration": 340,
    "start_time": "2023-06-20T10:44:20.130Z"
   },
   {
    "duration": 277,
    "start_time": "2023-06-20T10:44:20.475Z"
   },
   {
    "duration": 259,
    "start_time": "2023-06-20T10:44:20.753Z"
   },
   {
    "duration": 160,
    "start_time": "2023-06-20T10:44:21.014Z"
   },
   {
    "duration": 414,
    "start_time": "2023-06-20T10:44:21.178Z"
   },
   {
    "duration": 238,
    "start_time": "2023-06-20T10:44:21.595Z"
   },
   {
    "duration": 210,
    "start_time": "2023-06-20T10:44:21.836Z"
   },
   {
    "duration": 300,
    "start_time": "2023-06-20T10:44:22.049Z"
   },
   {
    "duration": 288,
    "start_time": "2023-06-20T10:44:22.356Z"
   },
   {
    "duration": 195,
    "start_time": "2023-06-20T10:44:22.646Z"
   },
   {
    "duration": 183,
    "start_time": "2023-06-20T10:44:22.843Z"
   },
   {
    "duration": 504,
    "start_time": "2023-06-20T10:44:23.028Z"
   },
   {
    "duration": 29,
    "start_time": "2023-06-20T10:44:23.535Z"
   },
   {
    "duration": 79,
    "start_time": "2023-06-20T10:44:23.569Z"
   },
   {
    "duration": 61,
    "start_time": "2023-06-20T10:44:23.650Z"
   },
   {
    "duration": 6,
    "start_time": "2023-06-20T10:46:41.309Z"
   },
   {
    "duration": 6,
    "start_time": "2023-06-20T10:46:43.856Z"
   },
   {
    "duration": 18,
    "start_time": "2023-06-20T10:46:46.800Z"
   },
   {
    "duration": 133,
    "start_time": "2023-06-20T10:49:41.935Z"
   },
   {
    "duration": 34,
    "start_time": "2023-06-20T10:50:49.902Z"
   },
   {
    "duration": 36,
    "start_time": "2023-06-20T10:51:01.215Z"
   },
   {
    "duration": 116,
    "start_time": "2023-06-20T10:54:26.382Z"
   },
   {
    "duration": 43,
    "start_time": "2023-06-20T10:54:34.884Z"
   },
   {
    "duration": 78,
    "start_time": "2023-06-20T10:54:53.697Z"
   },
   {
    "duration": 5,
    "start_time": "2023-06-20T10:56:01.942Z"
   },
   {
    "duration": 62,
    "start_time": "2023-06-20T10:56:05.137Z"
   },
   {
    "duration": 124,
    "start_time": "2023-06-20T10:57:19.113Z"
   },
   {
    "duration": 42,
    "start_time": "2023-06-20T10:57:27.701Z"
   },
   {
    "duration": 56,
    "start_time": "2023-06-20T10:57:43.517Z"
   },
   {
    "duration": 1886,
    "start_time": "2023-06-20T11:00:59.069Z"
   },
   {
    "duration": 107,
    "start_time": "2023-06-20T11:08:28.797Z"
   },
   {
    "duration": 21,
    "start_time": "2023-06-20T11:08:56.396Z"
   },
   {
    "duration": 19,
    "start_time": "2023-06-20T11:09:04.279Z"
   },
   {
    "duration": 17,
    "start_time": "2023-06-20T11:11:39.905Z"
   },
   {
    "duration": 15,
    "start_time": "2023-06-20T11:11:44.157Z"
   },
   {
    "duration": 82,
    "start_time": "2023-06-20T11:11:48.592Z"
   },
   {
    "duration": 16,
    "start_time": "2023-06-20T11:13:26.431Z"
   },
   {
    "duration": 15,
    "start_time": "2023-06-20T11:13:45.196Z"
   },
   {
    "duration": 69,
    "start_time": "2023-06-20T11:13:50.100Z"
   },
   {
    "duration": 27,
    "start_time": "2023-06-20T11:14:27.677Z"
   },
   {
    "duration": 29,
    "start_time": "2023-06-20T11:15:28.011Z"
   },
   {
    "duration": 39,
    "start_time": "2023-06-20T11:15:44.975Z"
   },
   {
    "duration": 24,
    "start_time": "2023-06-20T11:17:06.110Z"
   },
   {
    "duration": 43,
    "start_time": "2023-06-20T11:17:59.278Z"
   },
   {
    "duration": 24,
    "start_time": "2023-06-20T11:18:05.397Z"
   },
   {
    "duration": 26,
    "start_time": "2023-06-20T11:18:11.804Z"
   },
   {
    "duration": 47,
    "start_time": "2023-06-20T11:18:36.145Z"
   },
   {
    "duration": 252,
    "start_time": "2023-06-20T11:18:47.598Z"
   },
   {
    "duration": 40,
    "start_time": "2023-06-20T11:19:48.841Z"
   },
   {
    "duration": 28,
    "start_time": "2023-06-20T11:19:53.739Z"
   },
   {
    "duration": 47,
    "start_time": "2023-06-20T11:19:58.501Z"
   },
   {
    "duration": 308,
    "start_time": "2023-06-20T11:20:29.510Z"
   },
   {
    "duration": 266,
    "start_time": "2023-06-20T11:20:46.775Z"
   },
   {
    "duration": 326,
    "start_time": "2023-06-20T11:21:41.504Z"
   },
   {
    "duration": 335,
    "start_time": "2023-06-20T11:21:49.251Z"
   },
   {
    "duration": 329,
    "start_time": "2023-06-20T11:22:30.283Z"
   },
   {
    "duration": 477,
    "start_time": "2023-06-20T11:22:45.804Z"
   },
   {
    "duration": 337,
    "start_time": "2023-06-20T11:42:35.604Z"
   },
   {
    "duration": 943,
    "start_time": "2023-06-20T11:50:01.200Z"
   },
   {
    "duration": 39,
    "start_time": "2023-06-20T11:50:02.146Z"
   },
   {
    "duration": 2416,
    "start_time": "2023-06-20T11:50:02.197Z"
   },
   {
    "duration": 103,
    "start_time": "2023-06-20T11:50:04.616Z"
   },
   {
    "duration": 12,
    "start_time": "2023-06-20T11:50:04.722Z"
   },
   {
    "duration": 27,
    "start_time": "2023-06-20T11:50:04.736Z"
   },
   {
    "duration": 12,
    "start_time": "2023-06-20T11:50:04.772Z"
   },
   {
    "duration": 12,
    "start_time": "2023-06-20T11:50:04.786Z"
   },
   {
    "duration": 55,
    "start_time": "2023-06-20T11:50:04.800Z"
   },
   {
    "duration": 14,
    "start_time": "2023-06-20T11:50:04.861Z"
   },
   {
    "duration": 6,
    "start_time": "2023-06-20T11:50:04.882Z"
   },
   {
    "duration": 13,
    "start_time": "2023-06-20T11:50:04.894Z"
   },
   {
    "duration": 5,
    "start_time": "2023-06-20T11:50:04.909Z"
   },
   {
    "duration": 12,
    "start_time": "2023-06-20T11:50:04.918Z"
   },
   {
    "duration": 26,
    "start_time": "2023-06-20T11:50:04.932Z"
   },
   {
    "duration": 19,
    "start_time": "2023-06-20T11:50:04.961Z"
   },
   {
    "duration": 17,
    "start_time": "2023-06-20T11:50:04.982Z"
   },
   {
    "duration": 13,
    "start_time": "2023-06-20T11:50:05.002Z"
   },
   {
    "duration": 17,
    "start_time": "2023-06-20T11:50:05.017Z"
   },
   {
    "duration": 298,
    "start_time": "2023-06-20T11:50:05.036Z"
   },
   {
    "duration": 71,
    "start_time": "2023-06-20T11:50:05.336Z"
   },
   {
    "duration": 20,
    "start_time": "2023-06-20T11:50:05.409Z"
   },
   {
    "duration": 59,
    "start_time": "2023-06-20T11:50:05.432Z"
   },
   {
    "duration": 6,
    "start_time": "2023-06-20T11:50:05.497Z"
   },
   {
    "duration": 42,
    "start_time": "2023-06-20T11:50:05.505Z"
   },
   {
    "duration": 14,
    "start_time": "2023-06-20T11:50:05.549Z"
   },
   {
    "duration": 89,
    "start_time": "2023-06-20T11:50:05.565Z"
   },
   {
    "duration": 70,
    "start_time": "2023-06-20T11:50:05.656Z"
   },
   {
    "duration": 14,
    "start_time": "2023-06-20T11:50:05.728Z"
   },
   {
    "duration": 61,
    "start_time": "2023-06-20T11:50:05.758Z"
   },
   {
    "duration": 43,
    "start_time": "2023-06-20T11:50:05.821Z"
   },
   {
    "duration": 81,
    "start_time": "2023-06-20T11:50:05.866Z"
   },
   {
    "duration": 114,
    "start_time": "2023-06-20T11:50:05.949Z"
   },
   {
    "duration": 6,
    "start_time": "2023-06-20T11:50:06.064Z"
   },
   {
    "duration": 45,
    "start_time": "2023-06-20T11:50:06.074Z"
   },
   {
    "duration": 774,
    "start_time": "2023-06-20T11:50:06.121Z"
   },
   {
    "duration": 39,
    "start_time": "2023-06-20T11:50:06.897Z"
   },
   {
    "duration": 212,
    "start_time": "2023-06-20T11:50:06.939Z"
   },
   {
    "duration": 383,
    "start_time": "2023-06-20T11:50:07.154Z"
   },
   {
    "duration": 268,
    "start_time": "2023-06-20T11:50:07.539Z"
   },
   {
    "duration": 198,
    "start_time": "2023-06-20T11:50:07.812Z"
   },
   {
    "duration": 209,
    "start_time": "2023-06-20T11:50:08.012Z"
   },
   {
    "duration": 292,
    "start_time": "2023-06-20T11:50:08.222Z"
   },
   {
    "duration": 218,
    "start_time": "2023-06-20T11:50:08.517Z"
   },
   {
    "duration": 240,
    "start_time": "2023-06-20T11:50:08.737Z"
   },
   {
    "duration": 206,
    "start_time": "2023-06-20T11:50:08.987Z"
   },
   {
    "duration": 266,
    "start_time": "2023-06-20T11:50:09.205Z"
   },
   {
    "duration": 242,
    "start_time": "2023-06-20T11:50:09.473Z"
   },
   {
    "duration": 231,
    "start_time": "2023-06-20T11:50:09.717Z"
   },
   {
    "duration": 220,
    "start_time": "2023-06-20T11:50:09.950Z"
   },
   {
    "duration": 215,
    "start_time": "2023-06-20T11:50:10.172Z"
   },
   {
    "duration": 206,
    "start_time": "2023-06-20T11:50:10.395Z"
   },
   {
    "duration": 336,
    "start_time": "2023-06-20T11:50:10.604Z"
   },
   {
    "duration": 243,
    "start_time": "2023-06-20T11:50:10.942Z"
   },
   {
    "duration": 215,
    "start_time": "2023-06-20T11:50:11.187Z"
   },
   {
    "duration": 220,
    "start_time": "2023-06-20T11:50:11.403Z"
   },
   {
    "duration": 226,
    "start_time": "2023-06-20T11:50:11.626Z"
   },
   {
    "duration": 185,
    "start_time": "2023-06-20T11:50:11.856Z"
   },
   {
    "duration": 182,
    "start_time": "2023-06-20T11:50:12.043Z"
   },
   {
    "duration": 377,
    "start_time": "2023-06-20T11:50:12.227Z"
   },
   {
    "duration": 9,
    "start_time": "2023-06-20T11:50:12.606Z"
   },
   {
    "duration": 58,
    "start_time": "2023-06-20T11:50:12.617Z"
   },
   {
    "duration": 391,
    "start_time": "2023-06-20T11:50:12.676Z"
   },
   {
    "duration": 942,
    "start_time": "2023-06-20T13:14:53.656Z"
   },
   {
    "duration": 15,
    "start_time": "2023-06-20T13:14:54.600Z"
   },
   {
    "duration": 2358,
    "start_time": "2023-06-20T13:14:54.617Z"
   },
   {
    "duration": 157,
    "start_time": "2023-06-20T13:14:56.977Z"
   },
   {
    "duration": 11,
    "start_time": "2023-06-20T13:14:57.137Z"
   },
   {
    "duration": 13,
    "start_time": "2023-06-20T13:14:57.149Z"
   },
   {
    "duration": 51,
    "start_time": "2023-06-20T13:14:57.164Z"
   },
   {
    "duration": 16,
    "start_time": "2023-06-20T13:14:57.218Z"
   },
   {
    "duration": 9,
    "start_time": "2023-06-20T13:14:57.237Z"
   },
   {
    "duration": 4,
    "start_time": "2023-06-20T13:14:57.248Z"
   },
   {
    "duration": 17,
    "start_time": "2023-06-20T13:14:57.318Z"
   },
   {
    "duration": 16,
    "start_time": "2023-06-20T13:14:57.337Z"
   },
   {
    "duration": 60,
    "start_time": "2023-06-20T13:14:57.355Z"
   },
   {
    "duration": 22,
    "start_time": "2023-06-20T13:14:57.419Z"
   },
   {
    "duration": 17,
    "start_time": "2023-06-20T13:14:57.443Z"
   },
   {
    "duration": 16,
    "start_time": "2023-06-20T13:14:57.519Z"
   },
   {
    "duration": 6,
    "start_time": "2023-06-20T13:14:57.538Z"
   },
   {
    "duration": 69,
    "start_time": "2023-06-20T13:14:57.546Z"
   },
   {
    "duration": 17,
    "start_time": "2023-06-20T13:14:57.617Z"
   },
   {
    "duration": 495,
    "start_time": "2023-06-20T13:14:57.635Z"
   },
   {
    "duration": 133,
    "start_time": "2023-06-20T13:14:58.133Z"
   },
   {
    "duration": 73,
    "start_time": "2023-06-20T13:14:58.268Z"
   },
   {
    "duration": 21,
    "start_time": "2023-06-20T13:14:58.343Z"
   },
   {
    "duration": 9,
    "start_time": "2023-06-20T13:14:58.367Z"
   },
   {
    "duration": 74,
    "start_time": "2023-06-20T13:14:58.378Z"
   },
   {
    "duration": 9,
    "start_time": "2023-06-20T13:14:58.454Z"
   },
   {
    "duration": 84,
    "start_time": "2023-06-20T13:14:58.465Z"
   },
   {
    "duration": 96,
    "start_time": "2023-06-20T13:14:58.551Z"
   },
   {
    "duration": 13,
    "start_time": "2023-06-20T13:14:58.649Z"
   },
   {
    "duration": 72,
    "start_time": "2023-06-20T13:14:58.663Z"
   },
   {
    "duration": 28,
    "start_time": "2023-06-20T13:14:58.736Z"
   },
   {
    "duration": 81,
    "start_time": "2023-06-20T13:14:58.766Z"
   },
   {
    "duration": 126,
    "start_time": "2023-06-20T13:14:58.849Z"
   },
   {
    "duration": 4,
    "start_time": "2023-06-20T13:14:58.977Z"
   },
   {
    "duration": 33,
    "start_time": "2023-06-20T13:14:58.983Z"
   },
   {
    "duration": 826,
    "start_time": "2023-06-20T13:14:59.018Z"
   },
   {
    "duration": 71,
    "start_time": "2023-06-20T13:14:59.848Z"
   },
   {
    "duration": 263,
    "start_time": "2023-06-20T13:14:59.921Z"
   },
   {
    "duration": 327,
    "start_time": "2023-06-20T13:15:00.186Z"
   },
   {
    "duration": 228,
    "start_time": "2023-06-20T13:15:00.515Z"
   },
   {
    "duration": 211,
    "start_time": "2023-06-20T13:15:00.747Z"
   },
   {
    "duration": 207,
    "start_time": "2023-06-20T13:15:00.960Z"
   },
   {
    "duration": 310,
    "start_time": "2023-06-20T13:15:01.168Z"
   },
   {
    "duration": 265,
    "start_time": "2023-06-20T13:15:01.480Z"
   },
   {
    "duration": 221,
    "start_time": "2023-06-20T13:15:01.758Z"
   },
   {
    "duration": 180,
    "start_time": "2023-06-20T13:15:01.981Z"
   },
   {
    "duration": 470,
    "start_time": "2023-06-20T13:15:02.163Z"
   },
   {
    "duration": 266,
    "start_time": "2023-06-20T13:15:02.635Z"
   },
   {
    "duration": 276,
    "start_time": "2023-06-20T13:15:02.903Z"
   },
   {
    "duration": 281,
    "start_time": "2023-06-20T13:15:03.181Z"
   },
   {
    "duration": 225,
    "start_time": "2023-06-20T13:15:03.464Z"
   },
   {
    "duration": 170,
    "start_time": "2023-06-20T13:15:03.692Z"
   },
   {
    "duration": 369,
    "start_time": "2023-06-20T13:15:03.864Z"
   },
   {
    "duration": 227,
    "start_time": "2023-06-20T13:15:04.235Z"
   },
   {
    "duration": 192,
    "start_time": "2023-06-20T13:15:04.463Z"
   },
   {
    "duration": 261,
    "start_time": "2023-06-20T13:15:04.657Z"
   },
   {
    "duration": 198,
    "start_time": "2023-06-20T13:15:04.920Z"
   },
   {
    "duration": 176,
    "start_time": "2023-06-20T13:15:05.120Z"
   },
   {
    "duration": 190,
    "start_time": "2023-06-20T13:15:05.298Z"
   },
   {
    "duration": 380,
    "start_time": "2023-06-20T13:15:05.490Z"
   },
   {
    "duration": 12,
    "start_time": "2023-06-20T13:15:05.872Z"
   },
   {
    "duration": 63,
    "start_time": "2023-06-20T13:15:05.886Z"
   },
   {
    "duration": 415,
    "start_time": "2023-06-20T13:15:05.950Z"
   },
   {
    "duration": 259,
    "start_time": "2023-06-20T13:15:21.956Z"
   },
   {
    "duration": 8,
    "start_time": "2023-06-20T13:16:53.206Z"
   },
   {
    "duration": 1485,
    "start_time": "2023-06-20T13:17:52.081Z"
   },
   {
    "duration": 47,
    "start_time": "2023-06-20T13:17:53.568Z"
   },
   {
    "duration": 2445,
    "start_time": "2023-06-20T13:17:53.617Z"
   },
   {
    "duration": 104,
    "start_time": "2023-06-20T13:17:56.065Z"
   },
   {
    "duration": 10,
    "start_time": "2023-06-20T13:17:56.172Z"
   },
   {
    "duration": 8,
    "start_time": "2023-06-20T13:17:56.184Z"
   },
   {
    "duration": 32,
    "start_time": "2023-06-20T13:17:56.193Z"
   },
   {
    "duration": 10,
    "start_time": "2023-06-20T13:17:56.234Z"
   },
   {
    "duration": 15,
    "start_time": "2023-06-20T13:17:56.246Z"
   },
   {
    "duration": 5,
    "start_time": "2023-06-20T13:17:56.263Z"
   },
   {
    "duration": 10,
    "start_time": "2023-06-20T13:17:56.270Z"
   },
   {
    "duration": 22,
    "start_time": "2023-06-20T13:17:56.282Z"
   },
   {
    "duration": 7,
    "start_time": "2023-06-20T13:17:56.314Z"
   },
   {
    "duration": 15,
    "start_time": "2023-06-20T13:17:56.325Z"
   },
   {
    "duration": 16,
    "start_time": "2023-06-20T13:17:56.343Z"
   },
   {
    "duration": 12,
    "start_time": "2023-06-20T13:17:56.361Z"
   },
   {
    "duration": 8,
    "start_time": "2023-06-20T13:17:56.375Z"
   },
   {
    "duration": 33,
    "start_time": "2023-06-20T13:17:56.385Z"
   },
   {
    "duration": 6,
    "start_time": "2023-06-20T13:17:56.421Z"
   },
   {
    "duration": 370,
    "start_time": "2023-06-20T13:17:56.428Z"
   },
   {
    "duration": 93,
    "start_time": "2023-06-20T13:17:56.800Z"
   },
   {
    "duration": 25,
    "start_time": "2023-06-20T13:17:56.904Z"
   },
   {
    "duration": 45,
    "start_time": "2023-06-20T13:17:56.936Z"
   },
   {
    "duration": 31,
    "start_time": "2023-06-20T13:17:56.983Z"
   },
   {
    "duration": 55,
    "start_time": "2023-06-20T13:17:57.016Z"
   },
   {
    "duration": 26,
    "start_time": "2023-06-20T13:17:57.072Z"
   },
   {
    "duration": 34,
    "start_time": "2023-06-20T13:17:57.100Z"
   },
   {
    "duration": 104,
    "start_time": "2023-06-20T13:17:57.136Z"
   },
   {
    "duration": 65,
    "start_time": "2023-06-20T13:17:57.241Z"
   },
   {
    "duration": 17,
    "start_time": "2023-06-20T13:17:57.308Z"
   },
   {
    "duration": 79,
    "start_time": "2023-06-20T13:17:57.327Z"
   },
   {
    "duration": 41,
    "start_time": "2023-06-20T13:17:57.407Z"
   },
   {
    "duration": 112,
    "start_time": "2023-06-20T13:17:57.451Z"
   },
   {
    "duration": 124,
    "start_time": "2023-06-20T13:17:57.565Z"
   },
   {
    "duration": 4,
    "start_time": "2023-06-20T13:17:57.691Z"
   },
   {
    "duration": 53,
    "start_time": "2023-06-20T13:17:57.697Z"
   },
   {
    "duration": 890,
    "start_time": "2023-06-20T13:17:57.752Z"
   },
   {
    "duration": 44,
    "start_time": "2023-06-20T13:17:58.644Z"
   },
   {
    "duration": 288,
    "start_time": "2023-06-20T13:17:58.690Z"
   },
   {
    "duration": 317,
    "start_time": "2023-06-20T13:17:58.982Z"
   },
   {
    "duration": 251,
    "start_time": "2023-06-20T13:17:59.305Z"
   },
   {
    "duration": 289,
    "start_time": "2023-06-20T13:17:59.558Z"
   },
   {
    "duration": 299,
    "start_time": "2023-06-20T13:17:59.849Z"
   },
   {
    "duration": 295,
    "start_time": "2023-06-20T13:18:00.151Z"
   },
   {
    "duration": 220,
    "start_time": "2023-06-20T13:18:00.448Z"
   },
   {
    "duration": 184,
    "start_time": "2023-06-20T13:18:00.670Z"
   },
   {
    "duration": 211,
    "start_time": "2023-06-20T13:18:00.857Z"
   },
   {
    "duration": 249,
    "start_time": "2023-06-20T13:18:01.071Z"
   },
   {
    "duration": 248,
    "start_time": "2023-06-20T13:18:01.322Z"
   },
   {
    "duration": 290,
    "start_time": "2023-06-20T13:18:01.572Z"
   },
   {
    "duration": 227,
    "start_time": "2023-06-20T13:18:01.864Z"
   },
   {
    "duration": 296,
    "start_time": "2023-06-20T13:18:02.094Z"
   },
   {
    "duration": 176,
    "start_time": "2023-06-20T13:18:02.392Z"
   },
   {
    "duration": 331,
    "start_time": "2023-06-20T13:18:02.570Z"
   },
   {
    "duration": 247,
    "start_time": "2023-06-20T13:18:02.903Z"
   },
   {
    "duration": 268,
    "start_time": "2023-06-20T13:18:03.152Z"
   },
   {
    "duration": 234,
    "start_time": "2023-06-20T13:18:03.423Z"
   },
   {
    "duration": 223,
    "start_time": "2023-06-20T13:18:03.659Z"
   },
   {
    "duration": 241,
    "start_time": "2023-06-20T13:18:03.885Z"
   },
   {
    "duration": 182,
    "start_time": "2023-06-20T13:18:04.128Z"
   },
   {
    "duration": 371,
    "start_time": "2023-06-20T13:18:04.312Z"
   },
   {
    "duration": 28,
    "start_time": "2023-06-20T13:18:04.685Z"
   },
   {
    "duration": 52,
    "start_time": "2023-06-20T13:18:04.716Z"
   },
   {
    "duration": 383,
    "start_time": "2023-06-20T13:18:04.770Z"
   },
   {
    "duration": 19,
    "start_time": "2023-06-20T13:18:11.528Z"
   },
   {
    "duration": 116,
    "start_time": "2023-06-20T13:18:14.601Z"
   },
   {
    "duration": 17,
    "start_time": "2023-06-20T13:18:26.906Z"
   },
   {
    "duration": 909,
    "start_time": "2023-06-20T17:13:49.510Z"
   },
   {
    "duration": 452,
    "start_time": "2023-06-20T17:13:51.084Z"
   },
   {
    "duration": 2614,
    "start_time": "2023-06-20T17:15:31.556Z"
   },
   {
    "duration": 10,
    "start_time": "2023-06-20T17:22:23.686Z"
   },
   {
    "duration": 25,
    "start_time": "2023-06-20T17:22:27.988Z"
   },
   {
    "duration": 97,
    "start_time": "2023-06-20T17:23:40.224Z"
   },
   {
    "duration": 26,
    "start_time": "2023-06-20T17:24:43.136Z"
   },
   {
    "duration": 13,
    "start_time": "2023-06-20T17:24:58.397Z"
   },
   {
    "duration": 21,
    "start_time": "2023-06-20T17:27:19.331Z"
   },
   {
    "duration": 27,
    "start_time": "2023-06-20T17:31:32.695Z"
   },
   {
    "duration": 20,
    "start_time": "2023-06-20T17:31:51.294Z"
   },
   {
    "duration": 39,
    "start_time": "2023-06-20T17:32:11.840Z"
   },
   {
    "duration": 16,
    "start_time": "2023-06-20T17:33:28.236Z"
   },
   {
    "duration": 52,
    "start_time": "2023-06-20T17:36:29.894Z"
   },
   {
    "duration": 25,
    "start_time": "2023-06-20T17:36:42.391Z"
   },
   {
    "duration": 1544,
    "start_time": "2023-06-20T17:37:07.840Z"
   },
   {
    "duration": 485,
    "start_time": "2023-06-20T17:37:09.385Z"
   },
   {
    "duration": 29,
    "start_time": "2023-06-20T17:37:09.876Z"
   },
   {
    "duration": 3483,
    "start_time": "2023-06-20T17:37:09.913Z"
   },
   {
    "duration": 137,
    "start_time": "2023-06-20T17:37:13.405Z"
   },
   {
    "duration": 26,
    "start_time": "2023-06-20T17:37:13.544Z"
   },
   {
    "duration": 68,
    "start_time": "2023-06-20T17:37:13.584Z"
   },
   {
    "duration": 78,
    "start_time": "2023-06-20T17:37:13.657Z"
   },
   {
    "duration": 67,
    "start_time": "2023-06-20T17:37:13.737Z"
   },
   {
    "duration": 29,
    "start_time": "2023-06-20T17:37:13.808Z"
   },
   {
    "duration": 58,
    "start_time": "2023-06-20T17:37:13.838Z"
   },
   {
    "duration": 49,
    "start_time": "2023-06-20T17:37:13.898Z"
   },
   {
    "duration": 94,
    "start_time": "2023-06-20T17:37:13.949Z"
   },
   {
    "duration": 95,
    "start_time": "2023-06-20T17:37:14.045Z"
   },
   {
    "duration": 91,
    "start_time": "2023-06-20T17:37:14.142Z"
   },
   {
    "duration": 7,
    "start_time": "2023-06-20T17:37:14.235Z"
   },
   {
    "duration": 243,
    "start_time": "2023-06-20T17:37:14.243Z"
   },
   {
    "duration": 0,
    "start_time": "2023-06-20T17:37:14.501Z"
   },
   {
    "duration": 0,
    "start_time": "2023-06-20T17:37:14.508Z"
   },
   {
    "duration": 0,
    "start_time": "2023-06-20T17:37:14.510Z"
   },
   {
    "duration": 0,
    "start_time": "2023-06-20T17:37:14.512Z"
   },
   {
    "duration": 0,
    "start_time": "2023-06-20T17:37:14.515Z"
   },
   {
    "duration": 0,
    "start_time": "2023-06-20T17:37:14.516Z"
   },
   {
    "duration": 0,
    "start_time": "2023-06-20T17:37:14.519Z"
   },
   {
    "duration": 0,
    "start_time": "2023-06-20T17:37:14.520Z"
   },
   {
    "duration": 0,
    "start_time": "2023-06-20T17:37:14.522Z"
   },
   {
    "duration": 0,
    "start_time": "2023-06-20T17:37:14.525Z"
   },
   {
    "duration": 0,
    "start_time": "2023-06-20T17:37:14.527Z"
   },
   {
    "duration": 0,
    "start_time": "2023-06-20T17:37:14.528Z"
   },
   {
    "duration": 0,
    "start_time": "2023-06-20T17:37:14.529Z"
   },
   {
    "duration": 0,
    "start_time": "2023-06-20T17:37:14.531Z"
   },
   {
    "duration": 0,
    "start_time": "2023-06-20T17:37:14.533Z"
   },
   {
    "duration": 0,
    "start_time": "2023-06-20T17:37:14.535Z"
   },
   {
    "duration": 0,
    "start_time": "2023-06-20T17:37:14.537Z"
   },
   {
    "duration": 0,
    "start_time": "2023-06-20T17:37:14.538Z"
   },
   {
    "duration": 0,
    "start_time": "2023-06-20T17:37:14.556Z"
   },
   {
    "duration": 0,
    "start_time": "2023-06-20T17:37:14.557Z"
   },
   {
    "duration": 0,
    "start_time": "2023-06-20T17:37:14.559Z"
   },
   {
    "duration": 0,
    "start_time": "2023-06-20T17:37:14.560Z"
   },
   {
    "duration": 0,
    "start_time": "2023-06-20T17:37:14.561Z"
   },
   {
    "duration": 0,
    "start_time": "2023-06-20T17:37:14.562Z"
   },
   {
    "duration": 0,
    "start_time": "2023-06-20T17:37:14.563Z"
   },
   {
    "duration": 0,
    "start_time": "2023-06-20T17:37:14.569Z"
   },
   {
    "duration": 0,
    "start_time": "2023-06-20T17:37:14.570Z"
   },
   {
    "duration": 0,
    "start_time": "2023-06-20T17:37:14.571Z"
   },
   {
    "duration": 0,
    "start_time": "2023-06-20T17:37:14.572Z"
   },
   {
    "duration": 0,
    "start_time": "2023-06-20T17:37:14.574Z"
   },
   {
    "duration": 0,
    "start_time": "2023-06-20T17:37:14.575Z"
   },
   {
    "duration": 0,
    "start_time": "2023-06-20T17:37:14.576Z"
   },
   {
    "duration": 0,
    "start_time": "2023-06-20T17:37:14.577Z"
   },
   {
    "duration": 1,
    "start_time": "2023-06-20T17:37:14.578Z"
   },
   {
    "duration": 0,
    "start_time": "2023-06-20T17:37:14.579Z"
   },
   {
    "duration": 0,
    "start_time": "2023-06-20T17:37:14.580Z"
   },
   {
    "duration": 0,
    "start_time": "2023-06-20T17:37:14.581Z"
   },
   {
    "duration": 0,
    "start_time": "2023-06-20T17:37:14.585Z"
   },
   {
    "duration": 0,
    "start_time": "2023-06-20T17:37:14.586Z"
   },
   {
    "duration": 0,
    "start_time": "2023-06-20T17:37:14.587Z"
   },
   {
    "duration": 0,
    "start_time": "2023-06-20T17:37:14.589Z"
   },
   {
    "duration": 0,
    "start_time": "2023-06-20T17:37:14.594Z"
   },
   {
    "duration": 0,
    "start_time": "2023-06-20T17:37:14.595Z"
   },
   {
    "duration": 0,
    "start_time": "2023-06-20T17:37:14.596Z"
   },
   {
    "duration": 27,
    "start_time": "2023-06-20T17:37:51.977Z"
   },
   {
    "duration": 36,
    "start_time": "2023-06-20T17:41:24.579Z"
   },
   {
    "duration": 19,
    "start_time": "2023-06-20T17:43:36.222Z"
   },
   {
    "duration": 235,
    "start_time": "2023-06-20T17:44:48.477Z"
   },
   {
    "duration": 736,
    "start_time": "2023-06-20T17:45:01.580Z"
   },
   {
    "duration": 182,
    "start_time": "2023-06-20T17:45:16.852Z"
   },
   {
    "duration": 40,
    "start_time": "2023-06-20T17:46:59.872Z"
   },
   {
    "duration": 20,
    "start_time": "2023-06-20T17:47:13.810Z"
   },
   {
    "duration": 39,
    "start_time": "2023-06-20T17:49:09.495Z"
   },
   {
    "duration": 48,
    "start_time": "2023-06-20T17:49:29.386Z"
   },
   {
    "duration": 30,
    "start_time": "2023-06-20T17:49:43.019Z"
   },
   {
    "duration": 21,
    "start_time": "2023-06-20T17:49:58.801Z"
   },
   {
    "duration": 40,
    "start_time": "2023-06-20T17:50:04.584Z"
   },
   {
    "duration": 34,
    "start_time": "2023-06-20T17:51:42.695Z"
   },
   {
    "duration": 2033,
    "start_time": "2023-06-20T17:52:16.249Z"
   },
   {
    "duration": 1636,
    "start_time": "2023-06-20T17:53:05.714Z"
   },
   {
    "duration": 1467,
    "start_time": "2023-06-20T17:53:19.840Z"
   },
   {
    "duration": 892,
    "start_time": "2023-06-20T17:53:51.296Z"
   },
   {
    "duration": 374,
    "start_time": "2023-06-20T17:53:52.190Z"
   },
   {
    "duration": 42,
    "start_time": "2023-06-20T17:53:52.567Z"
   },
   {
    "duration": 2768,
    "start_time": "2023-06-20T17:53:52.614Z"
   },
   {
    "duration": 111,
    "start_time": "2023-06-20T17:53:55.385Z"
   },
   {
    "duration": 28,
    "start_time": "2023-06-20T17:53:55.502Z"
   },
   {
    "duration": 8,
    "start_time": "2023-06-20T17:53:55.532Z"
   },
   {
    "duration": 9,
    "start_time": "2023-06-20T17:53:55.542Z"
   },
   {
    "duration": 65,
    "start_time": "2023-06-20T17:53:55.552Z"
   },
   {
    "duration": 14,
    "start_time": "2023-06-20T17:53:55.619Z"
   },
   {
    "duration": 9,
    "start_time": "2023-06-20T17:53:55.634Z"
   },
   {
    "duration": 11,
    "start_time": "2023-06-20T17:53:55.645Z"
   },
   {
    "duration": 84,
    "start_time": "2023-06-20T17:53:55.658Z"
   },
   {
    "duration": 5,
    "start_time": "2023-06-20T17:53:55.746Z"
   },
   {
    "duration": 65,
    "start_time": "2023-06-20T17:53:55.753Z"
   },
   {
    "duration": 7,
    "start_time": "2023-06-20T17:53:55.821Z"
   },
   {
    "duration": 117,
    "start_time": "2023-06-20T17:53:55.829Z"
   },
   {
    "duration": 12,
    "start_time": "2023-06-20T17:54:09.320Z"
   },
   {
    "duration": 42,
    "start_time": "2023-06-20T17:54:49.548Z"
   },
   {
    "duration": 11,
    "start_time": "2023-06-20T17:55:04.941Z"
   },
   {
    "duration": 754,
    "start_time": "2023-06-20T17:55:14.601Z"
   },
   {
    "duration": 180,
    "start_time": "2023-06-20T17:55:15.358Z"
   },
   {
    "duration": 40,
    "start_time": "2023-06-20T17:55:15.541Z"
   },
   {
    "duration": 2547,
    "start_time": "2023-06-20T17:55:15.593Z"
   },
   {
    "duration": 102,
    "start_time": "2023-06-20T17:55:18.143Z"
   },
   {
    "duration": 14,
    "start_time": "2023-06-20T17:55:18.247Z"
   },
   {
    "duration": 66,
    "start_time": "2023-06-20T17:55:18.263Z"
   },
   {
    "duration": 77,
    "start_time": "2023-06-20T17:55:18.331Z"
   },
   {
    "duration": 28,
    "start_time": "2023-06-20T17:55:18.410Z"
   },
   {
    "duration": 24,
    "start_time": "2023-06-20T17:55:18.440Z"
   },
   {
    "duration": 57,
    "start_time": "2023-06-20T17:55:18.466Z"
   },
   {
    "duration": 18,
    "start_time": "2023-06-20T17:55:18.525Z"
   },
   {
    "duration": 68,
    "start_time": "2023-06-20T17:55:18.546Z"
   },
   {
    "duration": 14,
    "start_time": "2023-06-20T17:55:18.617Z"
   },
   {
    "duration": 25,
    "start_time": "2023-06-20T17:55:18.633Z"
   },
   {
    "duration": 9,
    "start_time": "2023-06-20T17:55:18.660Z"
   },
   {
    "duration": 47,
    "start_time": "2023-06-20T17:55:18.671Z"
   },
   {
    "duration": 14,
    "start_time": "2023-06-20T17:55:22.672Z"
   },
   {
    "duration": 113,
    "start_time": "2023-06-20T17:55:31.281Z"
   },
   {
    "duration": 43,
    "start_time": "2023-06-20T17:55:38.974Z"
   },
   {
    "duration": 2087,
    "start_time": "2023-06-20T17:59:52.649Z"
   },
   {
    "duration": 4431,
    "start_time": "2023-06-20T18:00:03.678Z"
   },
   {
    "duration": 4424,
    "start_time": "2023-06-20T18:00:31.613Z"
   },
   {
    "duration": 87,
    "start_time": "2023-06-20T18:00:46.831Z"
   },
   {
    "duration": 5,
    "start_time": "2023-06-20T18:01:28.444Z"
   },
   {
    "duration": 20,
    "start_time": "2023-06-20T18:02:30.771Z"
   },
   {
    "duration": 882,
    "start_time": "2023-06-20T18:03:00.288Z"
   },
   {
    "duration": 204,
    "start_time": "2023-06-20T18:03:01.172Z"
   },
   {
    "duration": 31,
    "start_time": "2023-06-20T18:03:01.391Z"
   },
   {
    "duration": 2685,
    "start_time": "2023-06-20T18:03:01.424Z"
   },
   {
    "duration": 108,
    "start_time": "2023-06-20T18:03:04.113Z"
   },
   {
    "duration": 11,
    "start_time": "2023-06-20T18:03:04.223Z"
   },
   {
    "duration": 176,
    "start_time": "2023-06-20T18:03:04.236Z"
   },
   {
    "duration": 34,
    "start_time": "2023-06-20T18:03:04.414Z"
   },
   {
    "duration": 72,
    "start_time": "2023-06-20T18:03:04.450Z"
   },
   {
    "duration": 12,
    "start_time": "2023-06-20T18:03:04.524Z"
   },
   {
    "duration": 31,
    "start_time": "2023-06-20T18:03:04.538Z"
   },
   {
    "duration": 45,
    "start_time": "2023-06-20T18:03:04.577Z"
   },
   {
    "duration": 21,
    "start_time": "2023-06-20T18:03:04.624Z"
   },
   {
    "duration": 57,
    "start_time": "2023-06-20T18:03:04.648Z"
   },
   {
    "duration": 28,
    "start_time": "2023-06-20T18:03:04.707Z"
   },
   {
    "duration": 14,
    "start_time": "2023-06-20T18:03:04.737Z"
   },
   {
    "duration": 78,
    "start_time": "2023-06-20T18:03:04.753Z"
   },
   {
    "duration": 305,
    "start_time": "2023-06-20T18:03:04.833Z"
   },
   {
    "duration": 72,
    "start_time": "2023-06-20T18:03:05.140Z"
   },
   {
    "duration": 30,
    "start_time": "2023-06-20T18:03:05.215Z"
   },
   {
    "duration": 38,
    "start_time": "2023-06-20T18:03:05.246Z"
   },
   {
    "duration": 36,
    "start_time": "2023-06-20T18:03:05.286Z"
   },
   {
    "duration": 58,
    "start_time": "2023-06-20T18:03:05.324Z"
   },
   {
    "duration": 20,
    "start_time": "2023-06-20T18:03:05.391Z"
   },
   {
    "duration": 66,
    "start_time": "2023-06-20T18:03:05.413Z"
   },
   {
    "duration": 54,
    "start_time": "2023-06-20T18:03:05.481Z"
   },
   {
    "duration": 43,
    "start_time": "2023-06-20T18:03:05.539Z"
   },
   {
    "duration": 105,
    "start_time": "2023-06-20T18:03:05.585Z"
   },
   {
    "duration": 36,
    "start_time": "2023-06-20T18:03:05.692Z"
   },
   {
    "duration": 86,
    "start_time": "2023-06-20T18:03:05.732Z"
   },
   {
    "duration": 127,
    "start_time": "2023-06-20T18:03:05.821Z"
   },
   {
    "duration": 8,
    "start_time": "2023-06-20T18:03:05.950Z"
   },
   {
    "duration": 83,
    "start_time": "2023-06-20T18:03:05.959Z"
   },
   {
    "duration": 783,
    "start_time": "2023-06-20T18:03:06.044Z"
   },
   {
    "duration": 88,
    "start_time": "2023-06-20T18:03:06.829Z"
   },
   {
    "duration": 275,
    "start_time": "2023-06-20T18:03:06.920Z"
   },
   {
    "duration": 321,
    "start_time": "2023-06-20T18:03:07.197Z"
   },
   {
    "duration": 281,
    "start_time": "2023-06-20T18:03:07.523Z"
   },
   {
    "duration": 236,
    "start_time": "2023-06-20T18:03:07.810Z"
   },
   {
    "duration": 250,
    "start_time": "2023-06-20T18:03:08.048Z"
   },
   {
    "duration": 170,
    "start_time": "2023-06-20T18:03:08.302Z"
   },
   {
    "duration": 165,
    "start_time": "2023-06-20T18:03:08.483Z"
   },
   {
    "duration": 289,
    "start_time": "2023-06-20T18:03:08.653Z"
   },
   {
    "duration": 185,
    "start_time": "2023-06-20T18:03:08.944Z"
   },
   {
    "duration": 268,
    "start_time": "2023-06-20T18:03:09.132Z"
   },
   {
    "duration": 275,
    "start_time": "2023-06-20T18:03:09.402Z"
   },
   {
    "duration": 280,
    "start_time": "2023-06-20T18:03:09.681Z"
   },
   {
    "duration": 364,
    "start_time": "2023-06-20T18:03:09.971Z"
   },
   {
    "duration": 235,
    "start_time": "2023-06-20T18:03:10.337Z"
   },
   {
    "duration": 163,
    "start_time": "2023-06-20T18:03:10.573Z"
   },
   {
    "duration": 366,
    "start_time": "2023-06-20T18:03:10.739Z"
   },
   {
    "duration": 330,
    "start_time": "2023-06-20T18:03:11.110Z"
   },
   {
    "duration": 248,
    "start_time": "2023-06-20T18:03:11.443Z"
   },
   {
    "duration": 231,
    "start_time": "2023-06-20T18:03:11.693Z"
   },
   {
    "duration": 484,
    "start_time": "2023-06-20T18:03:11.926Z"
   },
   {
    "duration": 352,
    "start_time": "2023-06-20T18:03:12.417Z"
   },
   {
    "duration": 348,
    "start_time": "2023-06-20T18:03:12.779Z"
   },
   {
    "duration": 541,
    "start_time": "2023-06-20T18:03:13.130Z"
   },
   {
    "duration": 13,
    "start_time": "2023-06-20T18:03:13.673Z"
   },
   {
    "duration": 110,
    "start_time": "2023-06-20T18:03:13.690Z"
   },
   {
    "duration": 536,
    "start_time": "2023-06-20T18:03:13.811Z"
   },
   {
    "duration": 12,
    "start_time": "2023-06-20T18:04:45.788Z"
   },
   {
    "duration": 118,
    "start_time": "2023-06-20T18:04:56.534Z"
   },
   {
    "duration": 2800,
    "start_time": "2023-06-20T18:05:03.488Z"
   },
   {
    "duration": 1984,
    "start_time": "2023-06-20T18:05:07.650Z"
   },
   {
    "duration": 1003,
    "start_time": "2023-06-20T18:05:27.017Z"
   },
   {
    "duration": 281,
    "start_time": "2023-06-20T18:05:28.029Z"
   },
   {
    "duration": 32,
    "start_time": "2023-06-20T18:05:28.314Z"
   },
   {
    "duration": 3118,
    "start_time": "2023-06-20T18:05:28.349Z"
   },
   {
    "duration": 132,
    "start_time": "2023-06-20T18:05:31.471Z"
   },
   {
    "duration": 23,
    "start_time": "2023-06-20T18:05:31.605Z"
   },
   {
    "duration": 85,
    "start_time": "2023-06-20T18:05:31.631Z"
   },
   {
    "duration": 75,
    "start_time": "2023-06-20T18:05:31.719Z"
   },
   {
    "duration": 121,
    "start_time": "2023-06-20T18:05:31.796Z"
   },
   {
    "duration": 101,
    "start_time": "2023-06-20T18:05:31.920Z"
   },
   {
    "duration": 198,
    "start_time": "2023-06-20T18:05:32.023Z"
   },
   {
    "duration": 26,
    "start_time": "2023-06-20T18:05:32.223Z"
   },
   {
    "duration": 115,
    "start_time": "2023-06-20T18:05:32.251Z"
   },
   {
    "duration": 68,
    "start_time": "2023-06-20T18:05:32.369Z"
   },
   {
    "duration": 119,
    "start_time": "2023-06-20T18:05:32.439Z"
   },
   {
    "duration": 95,
    "start_time": "2023-06-20T18:05:32.560Z"
   },
   {
    "duration": 273,
    "start_time": "2023-06-20T18:05:32.669Z"
   },
   {
    "duration": 30,
    "start_time": "2023-06-20T18:05:51.734Z"
   },
   {
    "duration": 154,
    "start_time": "2023-06-20T18:06:10.792Z"
   },
   {
    "duration": 124,
    "start_time": "2023-06-20T18:06:36.544Z"
   },
   {
    "duration": 24,
    "start_time": "2023-06-20T18:07:23.644Z"
   },
   {
    "duration": 51,
    "start_time": "2023-06-20T18:07:40.879Z"
   },
   {
    "duration": 36,
    "start_time": "2023-06-20T18:08:12.475Z"
   },
   {
    "duration": 30,
    "start_time": "2023-06-20T18:11:07.248Z"
   },
   {
    "duration": 910,
    "start_time": "2023-06-20T18:11:22.383Z"
   },
   {
    "duration": 193,
    "start_time": "2023-06-20T18:11:23.298Z"
   },
   {
    "duration": 26,
    "start_time": "2023-06-20T18:11:23.493Z"
   },
   {
    "duration": 2593,
    "start_time": "2023-06-20T18:11:23.531Z"
   },
   {
    "duration": 135,
    "start_time": "2023-06-20T18:11:26.128Z"
   },
   {
    "duration": 16,
    "start_time": "2023-06-20T18:11:26.265Z"
   },
   {
    "duration": 50,
    "start_time": "2023-06-20T18:11:26.283Z"
   },
   {
    "duration": 11,
    "start_time": "2023-06-20T18:11:26.335Z"
   },
   {
    "duration": 76,
    "start_time": "2023-06-20T18:11:26.347Z"
   },
   {
    "duration": 91,
    "start_time": "2023-06-20T18:11:26.425Z"
   },
   {
    "duration": 7,
    "start_time": "2023-06-20T18:11:26.518Z"
   },
   {
    "duration": 56,
    "start_time": "2023-06-20T18:11:26.527Z"
   },
   {
    "duration": 43,
    "start_time": "2023-06-20T18:11:26.585Z"
   },
   {
    "duration": 7,
    "start_time": "2023-06-20T18:11:26.630Z"
   },
   {
    "duration": 28,
    "start_time": "2023-06-20T18:11:26.639Z"
   },
   {
    "duration": 62,
    "start_time": "2023-06-20T18:11:26.669Z"
   },
   {
    "duration": 165,
    "start_time": "2023-06-20T18:11:26.733Z"
   },
   {
    "duration": 65,
    "start_time": "2023-06-20T18:11:58.155Z"
   },
   {
    "duration": 31,
    "start_time": "2023-06-20T18:12:29.347Z"
   },
   {
    "duration": 23,
    "start_time": "2023-06-20T18:12:32.602Z"
   },
   {
    "duration": 1106,
    "start_time": "2023-06-20T18:12:45.907Z"
   },
   {
    "duration": 217,
    "start_time": "2023-06-20T18:12:47.015Z"
   },
   {
    "duration": 36,
    "start_time": "2023-06-20T18:12:47.234Z"
   },
   {
    "duration": 2614,
    "start_time": "2023-06-20T18:12:47.284Z"
   },
   {
    "duration": 118,
    "start_time": "2023-06-20T18:12:49.902Z"
   },
   {
    "duration": 11,
    "start_time": "2023-06-20T18:12:50.022Z"
   },
   {
    "duration": 76,
    "start_time": "2023-06-20T18:12:50.035Z"
   },
   {
    "duration": 19,
    "start_time": "2023-06-20T18:12:50.113Z"
   },
   {
    "duration": 63,
    "start_time": "2023-06-20T18:12:50.134Z"
   },
   {
    "duration": 41,
    "start_time": "2023-06-20T18:12:50.199Z"
   },
   {
    "duration": 9,
    "start_time": "2023-06-20T18:12:50.243Z"
   },
   {
    "duration": 71,
    "start_time": "2023-06-20T18:12:50.256Z"
   },
   {
    "duration": 45,
    "start_time": "2023-06-20T18:12:50.328Z"
   },
   {
    "duration": 129,
    "start_time": "2023-06-20T18:12:50.376Z"
   },
   {
    "duration": 27,
    "start_time": "2023-06-20T18:12:50.506Z"
   },
   {
    "duration": 9,
    "start_time": "2023-06-20T18:12:50.535Z"
   },
   {
    "duration": 66,
    "start_time": "2023-06-20T18:12:56.846Z"
   },
   {
    "duration": 9,
    "start_time": "2023-06-20T18:13:34.374Z"
   },
   {
    "duration": 4,
    "start_time": "2023-06-20T18:20:33.330Z"
   },
   {
    "duration": 274,
    "start_time": "2023-06-20T18:20:33.336Z"
   },
   {
    "duration": 16,
    "start_time": "2023-06-20T18:20:33.612Z"
   },
   {
    "duration": 2401,
    "start_time": "2023-06-20T18:20:33.631Z"
   },
   {
    "duration": 113,
    "start_time": "2023-06-20T18:20:36.034Z"
   },
   {
    "duration": 23,
    "start_time": "2023-06-20T18:20:36.149Z"
   },
   {
    "duration": 40,
    "start_time": "2023-06-20T18:20:36.175Z"
   },
   {
    "duration": 33,
    "start_time": "2023-06-20T18:20:36.217Z"
   },
   {
    "duration": 54,
    "start_time": "2023-06-20T18:20:36.252Z"
   },
   {
    "duration": 96,
    "start_time": "2023-06-20T18:20:36.308Z"
   },
   {
    "duration": 9,
    "start_time": "2023-06-20T18:20:36.406Z"
   },
   {
    "duration": 16,
    "start_time": "2023-06-20T18:20:36.417Z"
   },
   {
    "duration": 36,
    "start_time": "2023-06-20T18:20:36.435Z"
   },
   {
    "duration": 35,
    "start_time": "2023-06-20T18:20:36.473Z"
   },
   {
    "duration": 17,
    "start_time": "2023-06-20T18:20:36.509Z"
   },
   {
    "duration": 18,
    "start_time": "2023-06-20T18:20:36.528Z"
   },
   {
    "duration": 52,
    "start_time": "2023-06-20T18:20:36.548Z"
   },
   {
    "duration": 376,
    "start_time": "2023-06-20T18:20:36.603Z"
   },
   {
    "duration": 49,
    "start_time": "2023-06-20T18:20:36.980Z"
   },
   {
    "duration": 51,
    "start_time": "2023-06-20T18:20:37.031Z"
   },
   {
    "duration": 81,
    "start_time": "2023-06-20T18:20:37.087Z"
   },
   {
    "duration": 61,
    "start_time": "2023-06-20T18:20:37.176Z"
   },
   {
    "duration": 80,
    "start_time": "2023-06-20T18:20:37.239Z"
   },
   {
    "duration": 80,
    "start_time": "2023-06-20T18:20:37.321Z"
   },
   {
    "duration": 48,
    "start_time": "2023-06-20T18:20:37.403Z"
   },
   {
    "duration": 60,
    "start_time": "2023-06-20T18:20:37.453Z"
   },
   {
    "duration": 15,
    "start_time": "2023-06-20T18:20:37.515Z"
   },
   {
    "duration": 113,
    "start_time": "2023-06-20T18:20:37.533Z"
   },
   {
    "duration": 37,
    "start_time": "2023-06-20T18:20:37.647Z"
   },
   {
    "duration": 77,
    "start_time": "2023-06-20T18:20:37.686Z"
   },
   {
    "duration": 244,
    "start_time": "2023-06-20T18:20:37.765Z"
   },
   {
    "duration": 6,
    "start_time": "2023-06-20T18:20:38.011Z"
   },
   {
    "duration": 36,
    "start_time": "2023-06-20T18:20:38.020Z"
   },
   {
    "duration": 541,
    "start_time": "2023-06-20T18:20:38.059Z"
   },
   {
    "duration": 45,
    "start_time": "2023-06-20T18:20:38.602Z"
   },
   {
    "duration": 296,
    "start_time": "2023-06-20T18:20:38.654Z"
   },
   {
    "duration": 308,
    "start_time": "2023-06-20T18:20:38.953Z"
   },
   {
    "duration": 226,
    "start_time": "2023-06-20T18:20:39.262Z"
   },
   {
    "duration": 221,
    "start_time": "2023-06-20T18:20:39.490Z"
   },
   {
    "duration": 251,
    "start_time": "2023-06-20T18:20:39.713Z"
   },
   {
    "duration": 163,
    "start_time": "2023-06-20T18:20:39.968Z"
   },
   {
    "duration": 196,
    "start_time": "2023-06-20T18:20:40.133Z"
   },
   {
    "duration": 203,
    "start_time": "2023-06-20T18:20:40.330Z"
   },
   {
    "duration": 158,
    "start_time": "2023-06-20T18:20:40.535Z"
   },
   {
    "duration": 312,
    "start_time": "2023-06-20T18:20:40.694Z"
   },
   {
    "duration": 268,
    "start_time": "2023-06-20T18:20:41.011Z"
   },
   {
    "duration": 248,
    "start_time": "2023-06-20T18:20:41.281Z"
   },
   {
    "duration": 205,
    "start_time": "2023-06-20T18:20:41.531Z"
   },
   {
    "duration": 210,
    "start_time": "2023-06-20T18:20:41.738Z"
   },
   {
    "duration": 187,
    "start_time": "2023-06-20T18:20:41.950Z"
   },
   {
    "duration": 264,
    "start_time": "2023-06-20T18:20:42.139Z"
   },
   {
    "duration": 265,
    "start_time": "2023-06-20T18:20:42.407Z"
   },
   {
    "duration": 346,
    "start_time": "2023-06-20T18:20:42.674Z"
   },
   {
    "duration": 220,
    "start_time": "2023-06-20T18:20:43.022Z"
   },
   {
    "duration": 239,
    "start_time": "2023-06-20T18:20:43.257Z"
   },
   {
    "duration": 207,
    "start_time": "2023-06-20T18:20:43.500Z"
   },
   {
    "duration": 210,
    "start_time": "2023-06-20T18:20:43.709Z"
   },
   {
    "duration": 451,
    "start_time": "2023-06-20T18:20:43.921Z"
   },
   {
    "duration": 11,
    "start_time": "2023-06-20T18:20:44.374Z"
   },
   {
    "duration": 59,
    "start_time": "2023-06-20T18:20:44.386Z"
   },
   {
    "duration": 426,
    "start_time": "2023-06-20T18:20:44.447Z"
   },
   {
    "duration": 263,
    "start_time": "2023-06-20T18:21:39.135Z"
   },
   {
    "duration": 216,
    "start_time": "2023-06-20T18:21:49.615Z"
   },
   {
    "duration": 594,
    "start_time": "2023-06-20T18:23:53.392Z"
   },
   {
    "duration": 200,
    "start_time": "2023-06-20T18:24:06.486Z"
   },
   {
    "duration": 247,
    "start_time": "2023-06-20T18:24:18.809Z"
   },
   {
    "duration": 35,
    "start_time": "2023-06-20T18:27:00.606Z"
   },
   {
    "duration": 17,
    "start_time": "2023-06-20T18:27:20.176Z"
   },
   {
    "duration": 14,
    "start_time": "2023-06-20T18:27:29.134Z"
   },
   {
    "duration": 16,
    "start_time": "2023-06-20T18:28:50.705Z"
   },
   {
    "duration": 638,
    "start_time": "2023-06-20T18:28:58.533Z"
   },
   {
    "duration": 617,
    "start_time": "2023-06-20T18:29:06.591Z"
   },
   {
    "duration": 414,
    "start_time": "2023-06-20T18:32:58.006Z"
   },
   {
    "duration": 1418,
    "start_time": "2023-06-20T18:33:04.811Z"
   },
   {
    "duration": 19,
    "start_time": "2023-06-20T18:33:36.107Z"
   },
   {
    "duration": 60,
    "start_time": "2023-06-20T18:33:43.051Z"
   },
   {
    "duration": 24,
    "start_time": "2023-06-20T18:34:56.700Z"
   },
   {
    "duration": 5318,
    "start_time": "2023-06-20T18:35:01.311Z"
   },
   {
    "duration": 4905,
    "start_time": "2023-06-20T18:37:36.824Z"
   },
   {
    "duration": 10,
    "start_time": "2023-06-20T18:38:58.622Z"
   },
   {
    "duration": 1050,
    "start_time": "2023-06-20T18:39:19.527Z"
   },
   {
    "duration": 193,
    "start_time": "2023-06-20T18:39:37.140Z"
   },
   {
    "duration": 139,
    "start_time": "2023-06-20T18:39:44.215Z"
   },
   {
    "duration": 1125,
    "start_time": "2023-06-20T18:39:49.518Z"
   },
   {
    "duration": 1480,
    "start_time": "2023-06-20T18:40:02.844Z"
   },
   {
    "duration": 12,
    "start_time": "2023-06-20T18:40:26.924Z"
   },
   {
    "duration": 35,
    "start_time": "2023-06-20T18:40:39.693Z"
   },
   {
    "duration": 35,
    "start_time": "2023-06-20T18:40:45.775Z"
   },
   {
    "duration": 20,
    "start_time": "2023-06-20T18:40:53.015Z"
   },
   {
    "duration": 21,
    "start_time": "2023-06-20T18:41:07.579Z"
   },
   {
    "duration": 7,
    "start_time": "2023-06-20T18:41:23.039Z"
   },
   {
    "duration": 9,
    "start_time": "2023-06-20T18:41:41.011Z"
   },
   {
    "duration": 16,
    "start_time": "2023-06-20T18:43:24.090Z"
   },
   {
    "duration": 19,
    "start_time": "2023-06-20T18:43:28.275Z"
   },
   {
    "duration": 18,
    "start_time": "2023-06-20T18:43:34.902Z"
   },
   {
    "duration": 122,
    "start_time": "2023-06-20T18:43:48.836Z"
   },
   {
    "duration": 10,
    "start_time": "2023-06-20T18:43:52.325Z"
   },
   {
    "duration": 1184,
    "start_time": "2023-06-20T18:44:15.930Z"
   },
   {
    "duration": 25,
    "start_time": "2023-06-20T18:49:50.296Z"
   },
   {
    "duration": 33,
    "start_time": "2023-06-20T18:49:58.149Z"
   },
   {
    "duration": 7,
    "start_time": "2023-06-20T18:50:02.099Z"
   },
   {
    "duration": 36,
    "start_time": "2023-06-20T18:51:43.573Z"
   },
   {
    "duration": 24,
    "start_time": "2023-06-20T18:52:39.596Z"
   },
   {
    "duration": 23,
    "start_time": "2023-06-20T18:53:04.640Z"
   },
   {
    "duration": 19,
    "start_time": "2023-06-20T18:53:32.432Z"
   },
   {
    "duration": 22,
    "start_time": "2023-06-20T18:55:38.736Z"
   },
   {
    "duration": 2313,
    "start_time": "2023-06-20T18:56:19.706Z"
   },
   {
    "duration": 2503,
    "start_time": "2023-06-20T18:56:32.123Z"
   },
   {
    "duration": 2205,
    "start_time": "2023-06-20T18:56:42.020Z"
   },
   {
    "duration": 17,
    "start_time": "2023-06-20T18:57:30.635Z"
   },
   {
    "duration": 2165,
    "start_time": "2023-06-20T18:57:40.982Z"
   },
   {
    "duration": 42,
    "start_time": "2023-06-20T18:58:03.747Z"
   },
   {
    "duration": 33,
    "start_time": "2023-06-20T18:58:36.476Z"
   },
   {
    "duration": 25,
    "start_time": "2023-06-20T18:59:10.908Z"
   },
   {
    "duration": 31,
    "start_time": "2023-06-20T18:59:14.587Z"
   },
   {
    "duration": 22,
    "start_time": "2023-06-20T19:00:28.229Z"
   },
   {
    "duration": 18,
    "start_time": "2023-06-20T19:00:32.112Z"
   },
   {
    "duration": 33,
    "start_time": "2023-06-20T19:01:44.597Z"
   },
   {
    "duration": 1107,
    "start_time": "2023-06-20T19:02:17.915Z"
   },
   {
    "duration": 39,
    "start_time": "2023-06-20T19:22:28.019Z"
   },
   {
    "duration": 213,
    "start_time": "2023-06-20T19:22:57.856Z"
   },
   {
    "duration": 217,
    "start_time": "2023-06-20T19:23:21.876Z"
   },
   {
    "duration": 1201,
    "start_time": "2023-06-20T19:25:50.602Z"
   },
   {
    "duration": 1053,
    "start_time": "2023-06-20T19:26:11.073Z"
   },
   {
    "duration": 1497,
    "start_time": "2023-06-20T19:26:24.717Z"
   },
   {
    "duration": 1157,
    "start_time": "2023-06-20T19:26:32.358Z"
   },
   {
    "duration": 1153,
    "start_time": "2023-06-20T19:26:39.592Z"
   },
   {
    "duration": 1414,
    "start_time": "2023-06-20T19:26:43.434Z"
   },
   {
    "duration": 1270,
    "start_time": "2023-06-20T19:26:49.217Z"
   },
   {
    "duration": 320,
    "start_time": "2023-06-20T19:27:05.107Z"
   },
   {
    "duration": 320,
    "start_time": "2023-06-20T19:28:01.524Z"
   },
   {
    "duration": 304,
    "start_time": "2023-06-20T19:28:13.711Z"
   },
   {
    "duration": 262,
    "start_time": "2023-06-20T19:30:25.605Z"
   },
   {
    "duration": 203,
    "start_time": "2023-06-20T19:30:36.820Z"
   },
   {
    "duration": 228,
    "start_time": "2023-06-20T19:30:45.143Z"
   },
   {
    "duration": 274,
    "start_time": "2023-06-20T19:30:50.447Z"
   },
   {
    "duration": 1241,
    "start_time": "2023-06-20T19:33:22.173Z"
   },
   {
    "duration": 207,
    "start_time": "2023-06-20T19:33:29.319Z"
   },
   {
    "duration": 1791,
    "start_time": "2023-06-20T19:40:23.544Z"
   },
   {
    "duration": 1191,
    "start_time": "2023-06-20T19:42:30.688Z"
   },
   {
    "duration": 911,
    "start_time": "2023-06-21T06:22:14.832Z"
   },
   {
    "duration": 222,
    "start_time": "2023-06-21T06:22:15.745Z"
   },
   {
    "duration": 29,
    "start_time": "2023-06-21T06:22:15.969Z"
   },
   {
    "duration": 8403,
    "start_time": "2023-06-21T06:22:16.000Z"
   },
   {
    "duration": 372,
    "start_time": "2023-06-21T06:22:24.405Z"
   },
   {
    "duration": 90,
    "start_time": "2023-06-21T06:22:24.779Z"
   },
   {
    "duration": 5,
    "start_time": "2023-06-21T06:22:24.871Z"
   },
   {
    "duration": 86,
    "start_time": "2023-06-21T06:22:24.877Z"
   },
   {
    "duration": 14,
    "start_time": "2023-06-21T06:22:24.969Z"
   },
   {
    "duration": 82,
    "start_time": "2023-06-21T06:22:24.986Z"
   },
   {
    "duration": 5,
    "start_time": "2023-06-21T06:22:25.075Z"
   },
   {
    "duration": 79,
    "start_time": "2023-06-21T06:22:25.083Z"
   },
   {
    "duration": 96,
    "start_time": "2023-06-21T06:22:25.165Z"
   },
   {
    "duration": 24,
    "start_time": "2023-06-21T06:22:25.266Z"
   },
   {
    "duration": 69,
    "start_time": "2023-06-21T06:22:25.292Z"
   },
   {
    "duration": 23,
    "start_time": "2023-06-21T06:22:25.364Z"
   },
   {
    "duration": 14,
    "start_time": "2023-06-21T06:22:25.389Z"
   },
   {
    "duration": 1670,
    "start_time": "2023-06-21T06:22:25.405Z"
   },
   {
    "duration": 278,
    "start_time": "2023-06-21T06:22:27.086Z"
   },
   {
    "duration": 101,
    "start_time": "2023-06-21T06:22:27.366Z"
   },
   {
    "duration": 96,
    "start_time": "2023-06-21T06:22:27.474Z"
   },
   {
    "duration": 9,
    "start_time": "2023-06-21T06:22:27.572Z"
   },
   {
    "duration": 104,
    "start_time": "2023-06-21T06:22:27.585Z"
   },
   {
    "duration": 8,
    "start_time": "2023-06-21T06:22:27.692Z"
   },
   {
    "duration": 181,
    "start_time": "2023-06-21T06:22:27.702Z"
   },
   {
    "duration": 134,
    "start_time": "2023-06-21T06:22:27.961Z"
   },
   {
    "duration": 24,
    "start_time": "2023-06-21T06:22:28.163Z"
   },
   {
    "duration": 225,
    "start_time": "2023-06-21T06:22:28.262Z"
   },
   {
    "duration": 170,
    "start_time": "2023-06-21T06:22:28.490Z"
   },
   {
    "duration": 204,
    "start_time": "2023-06-21T06:22:28.669Z"
   },
   {
    "duration": 397,
    "start_time": "2023-06-21T06:22:28.875Z"
   },
   {
    "duration": 7,
    "start_time": "2023-06-21T06:22:29.277Z"
   },
   {
    "duration": 95,
    "start_time": "2023-06-21T06:22:29.286Z"
   },
   {
    "duration": 2403,
    "start_time": "2023-06-21T06:22:29.384Z"
   },
   {
    "duration": 277,
    "start_time": "2023-06-21T06:22:31.789Z"
   },
   {
    "duration": 1210,
    "start_time": "2023-06-21T06:22:32.073Z"
   },
   {
    "duration": 1579,
    "start_time": "2023-06-21T06:22:33.293Z"
   },
   {
    "duration": 1313,
    "start_time": "2023-06-21T06:22:34.874Z"
   },
   {
    "duration": 1194,
    "start_time": "2023-06-21T06:22:36.190Z"
   },
   {
    "duration": 1108,
    "start_time": "2023-06-21T06:22:37.387Z"
   },
   {
    "duration": 999,
    "start_time": "2023-06-21T06:22:38.562Z"
   },
   {
    "duration": 1004,
    "start_time": "2023-06-21T06:22:39.563Z"
   },
   {
    "duration": 900,
    "start_time": "2023-06-21T06:22:40.579Z"
   },
   {
    "duration": 979,
    "start_time": "2023-06-21T06:22:41.486Z"
   },
   {
    "duration": 1409,
    "start_time": "2023-06-21T06:22:42.471Z"
   },
   {
    "duration": 1387,
    "start_time": "2023-06-21T06:22:43.887Z"
   },
   {
    "duration": 1401,
    "start_time": "2023-06-21T06:22:45.278Z"
   },
   {
    "duration": 1179,
    "start_time": "2023-06-21T06:22:46.688Z"
   },
   {
    "duration": 1210,
    "start_time": "2023-06-21T06:22:47.870Z"
   },
   {
    "duration": 1077,
    "start_time": "2023-06-21T06:22:49.083Z"
   },
   {
    "duration": 2802,
    "start_time": "2023-06-21T06:22:50.166Z"
   },
   {
    "duration": 1306,
    "start_time": "2023-06-21T06:22:52.971Z"
   },
   {
    "duration": 1206,
    "start_time": "2023-06-21T06:22:54.281Z"
   },
   {
    "duration": 1199,
    "start_time": "2023-06-21T06:22:55.490Z"
   },
   {
    "duration": 1131,
    "start_time": "2023-06-21T06:22:56.761Z"
   },
   {
    "duration": 1121,
    "start_time": "2023-06-21T06:22:57.963Z"
   },
   {
    "duration": 1504,
    "start_time": "2023-06-21T06:22:59.086Z"
   },
   {
    "duration": 1195,
    "start_time": "2023-06-21T06:23:00.673Z"
   },
   {
    "duration": 1197,
    "start_time": "2023-06-21T06:23:01.877Z"
   },
   {
    "duration": 1410,
    "start_time": "2023-06-21T06:23:03.076Z"
   },
   {
    "duration": 1307,
    "start_time": "2023-06-21T06:23:04.561Z"
   },
   {
    "duration": 12,
    "start_time": "2023-06-21T06:23:05.878Z"
   },
   {
    "duration": 129,
    "start_time": "2023-06-21T06:23:05.962Z"
   },
   {
    "duration": 3099,
    "start_time": "2023-06-21T06:23:06.162Z"
   },
   {
    "duration": 99,
    "start_time": "2023-06-21T07:37:27.817Z"
   },
   {
    "duration": 17,
    "start_time": "2023-06-21T07:39:48.681Z"
   },
   {
    "duration": 1429,
    "start_time": "2023-06-21T07:39:53.948Z"
   },
   {
    "duration": 1230,
    "start_time": "2023-06-21T07:39:55.381Z"
   },
   {
    "duration": 48,
    "start_time": "2023-06-21T07:39:56.627Z"
   },
   {
    "duration": 2895,
    "start_time": "2023-06-21T07:39:56.682Z"
   },
   {
    "duration": 118,
    "start_time": "2023-06-21T07:39:59.580Z"
   },
   {
    "duration": 64,
    "start_time": "2023-06-21T07:39:59.702Z"
   },
   {
    "duration": 61,
    "start_time": "2023-06-21T07:39:59.771Z"
   },
   {
    "duration": 13,
    "start_time": "2023-06-21T07:39:59.837Z"
   },
   {
    "duration": 68,
    "start_time": "2023-06-21T07:39:59.863Z"
   },
   {
    "duration": 29,
    "start_time": "2023-06-21T07:39:59.935Z"
   },
   {
    "duration": 39,
    "start_time": "2023-06-21T07:39:59.972Z"
   },
   {
    "duration": 112,
    "start_time": "2023-06-21T07:40:00.019Z"
   },
   {
    "duration": 89,
    "start_time": "2023-06-21T07:40:00.133Z"
   },
   {
    "duration": 63,
    "start_time": "2023-06-21T07:40:00.224Z"
   },
   {
    "duration": 45,
    "start_time": "2023-06-21T07:40:00.289Z"
   },
   {
    "duration": 50,
    "start_time": "2023-06-21T07:40:00.336Z"
   },
   {
    "duration": 224,
    "start_time": "2023-06-21T07:40:00.390Z"
   },
   {
    "duration": 432,
    "start_time": "2023-06-21T07:40:00.616Z"
   },
   {
    "duration": 89,
    "start_time": "2023-06-21T07:40:01.056Z"
   },
   {
    "duration": 32,
    "start_time": "2023-06-21T07:40:01.156Z"
   },
   {
    "duration": 127,
    "start_time": "2023-06-21T07:40:01.196Z"
   },
   {
    "duration": 85,
    "start_time": "2023-06-21T07:40:01.330Z"
   },
   {
    "duration": 89,
    "start_time": "2023-06-21T07:40:01.418Z"
   },
   {
    "duration": 120,
    "start_time": "2023-06-21T07:40:01.518Z"
   },
   {
    "duration": 207,
    "start_time": "2023-06-21T07:40:01.641Z"
   },
   {
    "duration": 89,
    "start_time": "2023-06-21T07:40:01.851Z"
   },
   {
    "duration": 78,
    "start_time": "2023-06-21T07:40:01.942Z"
   },
   {
    "duration": 125,
    "start_time": "2023-06-21T07:40:02.024Z"
   },
   {
    "duration": 45,
    "start_time": "2023-06-21T07:40:02.151Z"
   },
   {
    "duration": 97,
    "start_time": "2023-06-21T07:40:02.210Z"
   },
   {
    "duration": 213,
    "start_time": "2023-06-21T07:40:02.314Z"
   },
   {
    "duration": 77,
    "start_time": "2023-06-21T07:40:02.535Z"
   },
   {
    "duration": 84,
    "start_time": "2023-06-21T07:40:02.616Z"
   },
   {
    "duration": 756,
    "start_time": "2023-06-21T07:40:02.702Z"
   },
   {
    "duration": 67,
    "start_time": "2023-06-21T07:40:03.461Z"
   },
   {
    "duration": 266,
    "start_time": "2023-06-21T07:40:03.530Z"
   },
   {
    "duration": 443,
    "start_time": "2023-06-21T07:40:03.801Z"
   },
   {
    "duration": 294,
    "start_time": "2023-06-21T07:40:04.246Z"
   },
   {
    "duration": 324,
    "start_time": "2023-06-21T07:40:04.543Z"
   },
   {
    "duration": 339,
    "start_time": "2023-06-21T07:40:04.874Z"
   },
   {
    "duration": 225,
    "start_time": "2023-06-21T07:40:05.220Z"
   },
   {
    "duration": 242,
    "start_time": "2023-06-21T07:40:05.447Z"
   },
   {
    "duration": 399,
    "start_time": "2023-06-21T07:40:05.696Z"
   },
   {
    "duration": 214,
    "start_time": "2023-06-21T07:40:06.107Z"
   },
   {
    "duration": 298,
    "start_time": "2023-06-21T07:40:06.323Z"
   },
   {
    "duration": 329,
    "start_time": "2023-06-21T07:40:06.624Z"
   },
   {
    "duration": 318,
    "start_time": "2023-06-21T07:40:06.955Z"
   },
   {
    "duration": 272,
    "start_time": "2023-06-21T07:40:07.275Z"
   },
   {
    "duration": 295,
    "start_time": "2023-06-21T07:40:07.549Z"
   },
   {
    "duration": 217,
    "start_time": "2023-06-21T07:40:07.853Z"
   },
   {
    "duration": 1504,
    "start_time": "2023-06-21T07:40:08.072Z"
   },
   {
    "duration": 327,
    "start_time": "2023-06-21T07:40:09.584Z"
   },
   {
    "duration": 376,
    "start_time": "2023-06-21T07:40:09.918Z"
   },
   {
    "duration": 298,
    "start_time": "2023-06-21T07:40:10.301Z"
   },
   {
    "duration": 296,
    "start_time": "2023-06-21T07:40:10.604Z"
   },
   {
    "duration": 296,
    "start_time": "2023-06-21T07:40:10.909Z"
   },
   {
    "duration": 268,
    "start_time": "2023-06-21T07:40:11.212Z"
   },
   {
    "duration": 249,
    "start_time": "2023-06-21T07:40:11.486Z"
   },
   {
    "duration": 277,
    "start_time": "2023-06-21T07:40:11.738Z"
   },
   {
    "duration": 300,
    "start_time": "2023-06-21T07:40:12.023Z"
   },
   {
    "duration": 260,
    "start_time": "2023-06-21T07:40:12.325Z"
   },
   {
    "duration": 28,
    "start_time": "2023-06-21T07:40:12.596Z"
   },
   {
    "duration": 73,
    "start_time": "2023-06-21T07:40:12.630Z"
   },
   {
    "duration": 627,
    "start_time": "2023-06-21T07:40:12.705Z"
   },
   {
    "duration": 165,
    "start_time": "2023-06-21T07:44:59.027Z"
   },
   {
    "duration": 68,
    "start_time": "2023-06-21T07:45:08.380Z"
   },
   {
    "duration": 743,
    "start_time": "2023-06-21T07:45:14.486Z"
   },
   {
    "duration": 115,
    "start_time": "2023-06-21T07:45:16.042Z"
   },
   {
    "duration": 330,
    "start_time": "2023-06-21T07:47:43.431Z"
   },
   {
    "duration": 419,
    "start_time": "2023-06-21T07:50:01.786Z"
   },
   {
    "duration": 903,
    "start_time": "2023-06-21T08:00:24.914Z"
   },
   {
    "duration": 154,
    "start_time": "2023-06-21T08:00:25.819Z"
   },
   {
    "duration": 19,
    "start_time": "2023-06-21T08:00:25.975Z"
   },
   {
    "duration": 2639,
    "start_time": "2023-06-21T08:00:25.996Z"
   },
   {
    "duration": 122,
    "start_time": "2023-06-21T08:00:28.637Z"
   },
   {
    "duration": 19,
    "start_time": "2023-06-21T08:00:28.760Z"
   },
   {
    "duration": 54,
    "start_time": "2023-06-21T08:00:28.781Z"
   },
   {
    "duration": 42,
    "start_time": "2023-06-21T08:00:28.837Z"
   },
   {
    "duration": 53,
    "start_time": "2023-06-21T08:00:28.881Z"
   },
   {
    "duration": 9,
    "start_time": "2023-06-21T08:00:28.938Z"
   },
   {
    "duration": 34,
    "start_time": "2023-06-21T08:00:28.949Z"
   },
   {
    "duration": 29,
    "start_time": "2023-06-21T08:00:28.985Z"
   },
   {
    "duration": 15,
    "start_time": "2023-06-21T08:00:29.016Z"
   },
   {
    "duration": 48,
    "start_time": "2023-06-21T08:00:29.033Z"
   },
   {
    "duration": 36,
    "start_time": "2023-06-21T08:00:29.083Z"
   },
   {
    "duration": 21,
    "start_time": "2023-06-21T08:00:29.121Z"
   },
   {
    "duration": 58,
    "start_time": "2023-06-21T08:00:29.144Z"
   },
   {
    "duration": 381,
    "start_time": "2023-06-21T08:00:29.204Z"
   },
   {
    "duration": 51,
    "start_time": "2023-06-21T08:00:29.587Z"
   },
   {
    "duration": 25,
    "start_time": "2023-06-21T08:00:29.640Z"
   },
   {
    "duration": 55,
    "start_time": "2023-06-21T08:00:29.667Z"
   },
   {
    "duration": 5,
    "start_time": "2023-06-21T08:00:29.724Z"
   },
   {
    "duration": 28,
    "start_time": "2023-06-21T08:00:29.730Z"
   },
   {
    "duration": 10,
    "start_time": "2023-06-21T08:00:29.763Z"
   },
   {
    "duration": 69,
    "start_time": "2023-06-21T08:00:29.775Z"
   },
   {
    "duration": 83,
    "start_time": "2023-06-21T08:00:29.847Z"
   },
   {
    "duration": 13,
    "start_time": "2023-06-21T08:00:29.931Z"
   },
   {
    "duration": 74,
    "start_time": "2023-06-21T08:00:29.947Z"
   },
   {
    "duration": 122,
    "start_time": "2023-06-21T08:00:30.023Z"
   },
   {
    "duration": 102,
    "start_time": "2023-06-21T08:00:30.147Z"
   },
   {
    "duration": 131,
    "start_time": "2023-06-21T08:00:30.251Z"
   },
   {
    "duration": 5,
    "start_time": "2023-06-21T08:00:30.383Z"
   },
   {
    "duration": 73,
    "start_time": "2023-06-21T08:00:30.394Z"
   },
   {
    "duration": 717,
    "start_time": "2023-06-21T08:00:30.469Z"
   },
   {
    "duration": 56,
    "start_time": "2023-06-21T08:00:31.193Z"
   },
   {
    "duration": 480,
    "start_time": "2023-06-21T08:00:31.252Z"
   },
   {
    "duration": 368,
    "start_time": "2023-06-21T08:00:31.734Z"
   },
   {
    "duration": 259,
    "start_time": "2023-06-21T08:00:32.104Z"
   },
   {
    "duration": 248,
    "start_time": "2023-06-21T08:00:32.365Z"
   },
   {
    "duration": 224,
    "start_time": "2023-06-21T08:00:32.618Z"
   },
   {
    "duration": 205,
    "start_time": "2023-06-21T08:00:32.844Z"
   },
   {
    "duration": 213,
    "start_time": "2023-06-21T08:00:33.051Z"
   },
   {
    "duration": 250,
    "start_time": "2023-06-21T08:00:33.266Z"
   },
   {
    "duration": 310,
    "start_time": "2023-06-21T08:00:33.518Z"
   },
   {
    "duration": 294,
    "start_time": "2023-06-21T08:00:33.830Z"
   },
   {
    "duration": 313,
    "start_time": "2023-06-21T08:00:34.127Z"
   },
   {
    "duration": 283,
    "start_time": "2023-06-21T08:00:34.442Z"
   },
   {
    "duration": 287,
    "start_time": "2023-06-21T08:00:34.727Z"
   },
   {
    "duration": 235,
    "start_time": "2023-06-21T08:00:35.016Z"
   },
   {
    "duration": 200,
    "start_time": "2023-06-21T08:00:35.260Z"
   },
   {
    "duration": 279,
    "start_time": "2023-06-21T08:00:35.462Z"
   },
   {
    "duration": 280,
    "start_time": "2023-06-21T08:00:35.743Z"
   },
   {
    "duration": 410,
    "start_time": "2023-06-21T08:00:36.025Z"
   },
   {
    "duration": 227,
    "start_time": "2023-06-21T08:00:36.437Z"
   },
   {
    "duration": 250,
    "start_time": "2023-06-21T08:00:36.666Z"
   },
   {
    "duration": 224,
    "start_time": "2023-06-21T08:00:36.918Z"
   },
   {
    "duration": 235,
    "start_time": "2023-06-21T08:00:37.144Z"
   },
   {
    "duration": 230,
    "start_time": "2023-06-21T08:00:37.386Z"
   },
   {
    "duration": 208,
    "start_time": "2023-06-21T08:00:37.618Z"
   },
   {
    "duration": 282,
    "start_time": "2023-06-21T08:00:37.829Z"
   },
   {
    "duration": 235,
    "start_time": "2023-06-21T08:00:38.114Z"
   },
   {
    "duration": 13,
    "start_time": "2023-06-21T08:00:38.355Z"
   },
   {
    "duration": 76,
    "start_time": "2023-06-21T08:00:38.374Z"
   },
   {
    "duration": 537,
    "start_time": "2023-06-21T08:00:38.452Z"
   },
   {
    "duration": 803,
    "start_time": "2023-06-21T11:36:41.838Z"
   },
   {
    "duration": 176,
    "start_time": "2023-06-21T11:36:42.643Z"
   },
   {
    "duration": 14,
    "start_time": "2023-06-21T11:36:42.820Z"
   },
   {
    "duration": 2107,
    "start_time": "2023-06-21T11:36:42.836Z"
   },
   {
    "duration": 80,
    "start_time": "2023-06-21T11:36:44.945Z"
   },
   {
    "duration": 9,
    "start_time": "2023-06-21T11:36:45.027Z"
   },
   {
    "duration": 10,
    "start_time": "2023-06-21T11:36:45.038Z"
   },
   {
    "duration": 14,
    "start_time": "2023-06-21T11:36:45.049Z"
   },
   {
    "duration": 28,
    "start_time": "2023-06-21T11:36:45.065Z"
   },
   {
    "duration": 29,
    "start_time": "2023-06-21T11:36:45.097Z"
   },
   {
    "duration": 16,
    "start_time": "2023-06-21T11:36:45.127Z"
   },
   {
    "duration": 14,
    "start_time": "2023-06-21T11:36:45.145Z"
   },
   {
    "duration": 19,
    "start_time": "2023-06-21T11:36:45.160Z"
   },
   {
    "duration": 6,
    "start_time": "2023-06-21T11:36:45.181Z"
   },
   {
    "duration": 12,
    "start_time": "2023-06-21T11:36:45.190Z"
   },
   {
    "duration": 15,
    "start_time": "2023-06-21T11:36:45.203Z"
   },
   {
    "duration": 6,
    "start_time": "2023-06-21T11:36:45.219Z"
   },
   {
    "duration": 279,
    "start_time": "2023-06-21T11:36:45.226Z"
   },
   {
    "duration": 38,
    "start_time": "2023-06-21T11:36:45.506Z"
   },
   {
    "duration": 34,
    "start_time": "2023-06-21T11:36:45.546Z"
   },
   {
    "duration": 17,
    "start_time": "2023-06-21T11:36:45.583Z"
   },
   {
    "duration": 3,
    "start_time": "2023-06-21T11:36:45.602Z"
   },
   {
    "duration": 28,
    "start_time": "2023-06-21T11:36:45.606Z"
   },
   {
    "duration": 17,
    "start_time": "2023-06-21T11:36:45.636Z"
   },
   {
    "duration": 52,
    "start_time": "2023-06-21T11:36:45.655Z"
   },
   {
    "duration": 38,
    "start_time": "2023-06-21T11:36:45.709Z"
   },
   {
    "duration": 19,
    "start_time": "2023-06-21T11:36:45.749Z"
   },
   {
    "duration": 44,
    "start_time": "2023-06-21T11:36:45.772Z"
   },
   {
    "duration": 45,
    "start_time": "2023-06-21T11:36:45.818Z"
   },
   {
    "duration": 52,
    "start_time": "2023-06-21T11:36:45.865Z"
   },
   {
    "duration": 118,
    "start_time": "2023-06-21T11:36:45.919Z"
   },
   {
    "duration": 4,
    "start_time": "2023-06-21T11:36:46.039Z"
   },
   {
    "duration": 36,
    "start_time": "2023-06-21T11:36:46.044Z"
   },
   {
    "duration": 450,
    "start_time": "2023-06-21T11:36:46.083Z"
   },
   {
    "duration": 54,
    "start_time": "2023-06-21T11:36:46.535Z"
   },
   {
    "duration": 179,
    "start_time": "2023-06-21T11:36:46.591Z"
   },
   {
    "duration": 233,
    "start_time": "2023-06-21T11:36:46.772Z"
   },
   {
    "duration": 204,
    "start_time": "2023-06-21T11:36:47.007Z"
   },
   {
    "duration": 188,
    "start_time": "2023-06-21T11:36:47.213Z"
   },
   {
    "duration": 193,
    "start_time": "2023-06-21T11:36:47.402Z"
   },
   {
    "duration": 131,
    "start_time": "2023-06-21T11:36:47.597Z"
   },
   {
    "duration": 144,
    "start_time": "2023-06-21T11:36:47.730Z"
   },
   {
    "duration": 171,
    "start_time": "2023-06-21T11:36:47.876Z"
   },
   {
    "duration": 192,
    "start_time": "2023-06-21T11:36:48.048Z"
   },
   {
    "duration": 179,
    "start_time": "2023-06-21T11:36:48.242Z"
   },
   {
    "duration": 208,
    "start_time": "2023-06-21T11:36:48.423Z"
   },
   {
    "duration": 203,
    "start_time": "2023-06-21T11:36:48.633Z"
   },
   {
    "duration": 189,
    "start_time": "2023-06-21T11:36:48.837Z"
   },
   {
    "duration": 189,
    "start_time": "2023-06-21T11:36:49.028Z"
   },
   {
    "duration": 131,
    "start_time": "2023-06-21T11:36:49.219Z"
   },
   {
    "duration": 207,
    "start_time": "2023-06-21T11:36:49.352Z"
   },
   {
    "duration": 203,
    "start_time": "2023-06-21T11:36:49.561Z"
   },
   {
    "duration": 261,
    "start_time": "2023-06-21T11:36:49.775Z"
   },
   {
    "duration": 180,
    "start_time": "2023-06-21T11:36:50.038Z"
   },
   {
    "duration": 183,
    "start_time": "2023-06-21T11:36:50.220Z"
   },
   {
    "duration": 173,
    "start_time": "2023-06-21T11:36:50.405Z"
   },
   {
    "duration": 161,
    "start_time": "2023-06-21T11:36:50.580Z"
   },
   {
    "duration": 172,
    "start_time": "2023-06-21T11:36:50.742Z"
   },
   {
    "duration": 162,
    "start_time": "2023-06-21T11:36:50.916Z"
   },
   {
    "duration": 216,
    "start_time": "2023-06-21T11:36:51.080Z"
   },
   {
    "duration": 174,
    "start_time": "2023-06-21T11:36:51.297Z"
   },
   {
    "duration": 7,
    "start_time": "2023-06-21T11:36:51.474Z"
   },
   {
    "duration": 46,
    "start_time": "2023-06-21T11:36:51.484Z"
   },
   {
    "duration": 296,
    "start_time": "2023-06-21T11:36:51.532Z"
   },
   {
    "duration": 875,
    "start_time": "2023-06-21T17:38:38.438Z"
   },
   {
    "duration": 714,
    "start_time": "2023-06-21T17:38:39.315Z"
   },
   {
    "duration": 16,
    "start_time": "2023-06-21T17:38:40.030Z"
   },
   {
    "duration": 2087,
    "start_time": "2023-06-21T17:38:40.048Z"
   },
   {
    "duration": 83,
    "start_time": "2023-06-21T17:38:42.138Z"
   },
   {
    "duration": 9,
    "start_time": "2023-06-21T17:38:42.223Z"
   },
   {
    "duration": 21,
    "start_time": "2023-06-21T17:38:42.233Z"
   },
   {
    "duration": 29,
    "start_time": "2023-06-21T17:38:42.255Z"
   },
   {
    "duration": 9,
    "start_time": "2023-06-21T17:38:42.286Z"
   },
   {
    "duration": 13,
    "start_time": "2023-06-21T17:38:42.297Z"
   },
   {
    "duration": 15,
    "start_time": "2023-06-21T17:38:42.312Z"
   },
   {
    "duration": 12,
    "start_time": "2023-06-21T17:38:42.328Z"
   },
   {
    "duration": 28,
    "start_time": "2023-06-21T17:38:42.342Z"
   },
   {
    "duration": 22,
    "start_time": "2023-06-21T17:38:42.373Z"
   },
   {
    "duration": 23,
    "start_time": "2023-06-21T17:38:42.396Z"
   },
   {
    "duration": 6,
    "start_time": "2023-06-21T17:38:42.420Z"
   },
   {
    "duration": 18,
    "start_time": "2023-06-21T17:38:42.428Z"
   },
   {
    "duration": 293,
    "start_time": "2023-06-21T17:38:42.448Z"
   },
   {
    "duration": 46,
    "start_time": "2023-06-21T17:38:42.742Z"
   },
   {
    "duration": 8,
    "start_time": "2023-06-21T17:38:42.790Z"
   },
   {
    "duration": 19,
    "start_time": "2023-06-21T17:46:40.392Z"
   },
   {
    "duration": 6,
    "start_time": "2023-06-21T17:46:49.586Z"
   },
   {
    "duration": 195,
    "start_time": "2023-06-21T17:46:49.594Z"
   },
   {
    "duration": 24,
    "start_time": "2023-06-21T17:46:49.791Z"
   },
   {
    "duration": 2311,
    "start_time": "2023-06-21T17:46:49.817Z"
   },
   {
    "duration": 102,
    "start_time": "2023-06-21T17:46:52.131Z"
   },
   {
    "duration": 34,
    "start_time": "2023-06-21T17:46:52.235Z"
   },
   {
    "duration": 7,
    "start_time": "2023-06-21T17:46:52.274Z"
   },
   {
    "duration": 5,
    "start_time": "2023-06-21T17:46:52.283Z"
   },
   {
    "duration": 18,
    "start_time": "2023-06-21T17:46:52.290Z"
   },
   {
    "duration": 6,
    "start_time": "2023-06-21T17:46:52.310Z"
   },
   {
    "duration": 9,
    "start_time": "2023-06-21T17:46:52.319Z"
   },
   {
    "duration": 12,
    "start_time": "2023-06-21T17:46:52.330Z"
   },
   {
    "duration": 18,
    "start_time": "2023-06-21T17:46:52.344Z"
   },
   {
    "duration": 42,
    "start_time": "2023-06-21T17:46:52.364Z"
   },
   {
    "duration": 21,
    "start_time": "2023-06-21T17:46:52.407Z"
   },
   {
    "duration": 46,
    "start_time": "2023-06-21T17:46:52.431Z"
   },
   {
    "duration": 12,
    "start_time": "2023-06-21T17:46:52.483Z"
   },
   {
    "duration": 296,
    "start_time": "2023-06-21T17:46:52.497Z"
   },
   {
    "duration": 43,
    "start_time": "2023-06-21T17:46:52.796Z"
   },
   {
    "duration": 28,
    "start_time": "2023-06-21T17:46:52.860Z"
   },
   {
    "duration": 39,
    "start_time": "2023-06-21T17:46:52.890Z"
   },
   {
    "duration": 11,
    "start_time": "2023-06-21T17:46:52.931Z"
   },
   {
    "duration": 52,
    "start_time": "2023-06-21T17:46:52.944Z"
   },
   {
    "duration": 17,
    "start_time": "2023-06-21T17:46:52.998Z"
   },
   {
    "duration": 53,
    "start_time": "2023-06-21T17:46:53.017Z"
   },
   {
    "duration": 49,
    "start_time": "2023-06-21T17:46:53.072Z"
   },
   {
    "duration": 15,
    "start_time": "2023-06-21T17:46:53.124Z"
   },
   {
    "duration": 68,
    "start_time": "2023-06-21T17:46:53.153Z"
   },
   {
    "duration": 29,
    "start_time": "2023-06-21T17:46:53.226Z"
   },
   {
    "duration": 67,
    "start_time": "2023-06-21T17:46:53.256Z"
   },
   {
    "duration": 113,
    "start_time": "2023-06-21T17:46:53.325Z"
   },
   {
    "duration": 4,
    "start_time": "2023-06-21T17:46:53.440Z"
   },
   {
    "duration": 57,
    "start_time": "2023-06-21T17:46:53.451Z"
   },
   {
    "duration": 576,
    "start_time": "2023-06-21T17:46:53.510Z"
   },
   {
    "duration": 48,
    "start_time": "2023-06-21T17:46:54.091Z"
   },
   {
    "duration": 235,
    "start_time": "2023-06-21T17:46:54.141Z"
   },
   {
    "duration": 307,
    "start_time": "2023-06-21T17:46:54.377Z"
   },
   {
    "duration": 233,
    "start_time": "2023-06-21T17:46:54.685Z"
   },
   {
    "duration": 217,
    "start_time": "2023-06-21T17:46:54.921Z"
   },
   {
    "duration": 260,
    "start_time": "2023-06-21T17:46:55.140Z"
   },
   {
    "duration": 163,
    "start_time": "2023-06-21T17:46:55.404Z"
   },
   {
    "duration": 168,
    "start_time": "2023-06-21T17:46:55.569Z"
   },
   {
    "duration": 205,
    "start_time": "2023-06-21T17:46:55.739Z"
   },
   {
    "duration": 298,
    "start_time": "2023-06-21T17:46:55.946Z"
   },
   {
    "duration": 250,
    "start_time": "2023-06-21T17:46:56.251Z"
   },
   {
    "duration": 262,
    "start_time": "2023-06-21T17:46:56.503Z"
   },
   {
    "duration": 265,
    "start_time": "2023-06-21T17:46:56.767Z"
   },
   {
    "duration": 236,
    "start_time": "2023-06-21T17:46:57.035Z"
   },
   {
    "duration": 286,
    "start_time": "2023-06-21T17:46:57.274Z"
   },
   {
    "duration": 159,
    "start_time": "2023-06-21T17:46:57.566Z"
   },
   {
    "duration": 241,
    "start_time": "2023-06-21T17:46:57.727Z"
   },
   {
    "duration": 271,
    "start_time": "2023-06-21T17:46:57.969Z"
   },
   {
    "duration": 440,
    "start_time": "2023-06-21T17:46:58.242Z"
   },
   {
    "duration": 258,
    "start_time": "2023-06-21T17:46:58.684Z"
   },
   {
    "duration": 260,
    "start_time": "2023-06-21T17:46:58.951Z"
   },
   {
    "duration": 224,
    "start_time": "2023-06-21T17:46:59.214Z"
   },
   {
    "duration": 200,
    "start_time": "2023-06-21T17:46:59.440Z"
   },
   {
    "duration": 204,
    "start_time": "2023-06-21T17:46:59.642Z"
   },
   {
    "duration": 242,
    "start_time": "2023-06-21T17:46:59.848Z"
   },
   {
    "duration": 257,
    "start_time": "2023-06-21T17:47:00.092Z"
   },
   {
    "duration": 258,
    "start_time": "2023-06-21T17:47:00.353Z"
   },
   {
    "duration": 9,
    "start_time": "2023-06-21T17:47:00.613Z"
   },
   {
    "duration": 142,
    "start_time": "2023-06-21T17:47:00.624Z"
   },
   {
    "duration": 519,
    "start_time": "2023-06-21T17:47:00.768Z"
   },
   {
    "duration": 18,
    "start_time": "2023-06-21T17:47:01.290Z"
   },
   {
    "duration": 858,
    "start_time": "2023-06-21T17:48:14.342Z"
   },
   {
    "duration": 224,
    "start_time": "2023-06-21T17:48:15.246Z"
   },
   {
    "duration": 24,
    "start_time": "2023-06-21T17:48:18.122Z"
   },
   {
    "duration": 15,
    "start_time": "2023-06-21T17:50:59.668Z"
   },
   {
    "duration": 201,
    "start_time": "2023-06-21T17:50:59.685Z"
   },
   {
    "duration": 28,
    "start_time": "2023-06-21T17:50:59.889Z"
   },
   {
    "duration": 2743,
    "start_time": "2023-06-21T17:50:59.919Z"
   },
   {
    "duration": 106,
    "start_time": "2023-06-21T17:51:02.665Z"
   },
   {
    "duration": 12,
    "start_time": "2023-06-21T17:51:02.774Z"
   },
   {
    "duration": 49,
    "start_time": "2023-06-21T17:51:02.788Z"
   },
   {
    "duration": 55,
    "start_time": "2023-06-21T17:51:02.840Z"
   },
   {
    "duration": 27,
    "start_time": "2023-06-21T17:51:02.898Z"
   },
   {
    "duration": 68,
    "start_time": "2023-06-21T17:51:02.927Z"
   },
   {
    "duration": 20,
    "start_time": "2023-06-21T17:51:02.998Z"
   },
   {
    "duration": 32,
    "start_time": "2023-06-21T17:51:03.020Z"
   },
   {
    "duration": 68,
    "start_time": "2023-06-21T17:51:03.062Z"
   },
   {
    "duration": 19,
    "start_time": "2023-06-21T17:51:03.133Z"
   },
   {
    "duration": 63,
    "start_time": "2023-06-21T17:51:03.154Z"
   },
   {
    "duration": 28,
    "start_time": "2023-06-21T17:51:03.219Z"
   },
   {
    "duration": 54,
    "start_time": "2023-06-21T17:51:03.250Z"
   },
   {
    "duration": 399,
    "start_time": "2023-06-21T17:51:03.306Z"
   },
   {
    "duration": 54,
    "start_time": "2023-06-21T17:51:03.707Z"
   },
   {
    "duration": 27,
    "start_time": "2023-06-21T17:51:03.764Z"
   },
   {
    "duration": 29,
    "start_time": "2023-06-21T17:51:03.801Z"
   },
   {
    "duration": 6,
    "start_time": "2023-06-21T17:51:03.833Z"
   },
   {
    "duration": 92,
    "start_time": "2023-06-21T17:51:03.840Z"
   },
   {
    "duration": 11,
    "start_time": "2023-06-21T17:51:03.934Z"
   },
   {
    "duration": 67,
    "start_time": "2023-06-21T17:51:03.947Z"
   },
   {
    "duration": 59,
    "start_time": "2023-06-21T17:51:04.017Z"
   },
   {
    "duration": 27,
    "start_time": "2023-06-21T17:51:04.084Z"
   },
   {
    "duration": 85,
    "start_time": "2023-06-21T17:51:04.113Z"
   },
   {
    "duration": 29,
    "start_time": "2023-06-21T17:51:04.203Z"
   },
   {
    "duration": 55,
    "start_time": "2023-06-21T17:51:04.234Z"
   },
   {
    "duration": 135,
    "start_time": "2023-06-21T17:51:04.290Z"
   },
   {
    "duration": 5,
    "start_time": "2023-06-21T17:51:04.427Z"
   },
   {
    "duration": 83,
    "start_time": "2023-06-21T17:51:04.437Z"
   },
   {
    "duration": 682,
    "start_time": "2023-06-21T17:51:04.522Z"
   },
   {
    "duration": 55,
    "start_time": "2023-06-21T17:51:05.207Z"
   },
   {
    "duration": 300,
    "start_time": "2023-06-21T17:51:05.264Z"
   },
   {
    "duration": 325,
    "start_time": "2023-06-21T17:51:05.576Z"
   },
   {
    "duration": 228,
    "start_time": "2023-06-21T17:51:05.903Z"
   },
   {
    "duration": 239,
    "start_time": "2023-06-21T17:51:06.133Z"
   },
   {
    "duration": 220,
    "start_time": "2023-06-21T17:51:06.377Z"
   },
   {
    "duration": 160,
    "start_time": "2023-06-21T17:51:06.599Z"
   },
   {
    "duration": 181,
    "start_time": "2023-06-21T17:51:06.763Z"
   },
   {
    "duration": 205,
    "start_time": "2023-06-21T17:51:06.946Z"
   },
   {
    "duration": 255,
    "start_time": "2023-06-21T17:51:07.166Z"
   },
   {
    "duration": 219,
    "start_time": "2023-06-21T17:51:07.423Z"
   },
   {
    "duration": 261,
    "start_time": "2023-06-21T17:51:07.644Z"
   },
   {
    "duration": 278,
    "start_time": "2023-06-21T17:51:07.907Z"
   },
   {
    "duration": 293,
    "start_time": "2023-06-21T17:51:08.187Z"
   },
   {
    "duration": 282,
    "start_time": "2023-06-21T17:51:08.482Z"
   },
   {
    "duration": 178,
    "start_time": "2023-06-21T17:51:08.766Z"
   },
   {
    "duration": 270,
    "start_time": "2023-06-21T17:51:08.947Z"
   },
   {
    "duration": 286,
    "start_time": "2023-06-21T17:51:09.219Z"
   },
   {
    "duration": 337,
    "start_time": "2023-06-21T17:51:09.507Z"
   },
   {
    "duration": 237,
    "start_time": "2023-06-21T17:51:09.846Z"
   },
   {
    "duration": 217,
    "start_time": "2023-06-21T17:51:10.089Z"
   },
   {
    "duration": 254,
    "start_time": "2023-06-21T17:51:10.308Z"
   },
   {
    "duration": 229,
    "start_time": "2023-06-21T17:51:10.566Z"
   },
   {
    "duration": 197,
    "start_time": "2023-06-21T17:51:10.804Z"
   },
   {
    "duration": 216,
    "start_time": "2023-06-21T17:51:11.003Z"
   },
   {
    "duration": 264,
    "start_time": "2023-06-21T17:51:11.221Z"
   },
   {
    "duration": 217,
    "start_time": "2023-06-21T17:51:11.488Z"
   },
   {
    "duration": 10,
    "start_time": "2023-06-21T17:51:11.710Z"
   },
   {
    "duration": 103,
    "start_time": "2023-06-21T17:51:11.722Z"
   },
   {
    "duration": 479,
    "start_time": "2023-06-21T17:51:11.827Z"
   },
   {
    "duration": 34,
    "start_time": "2023-06-21T17:51:20.476Z"
   },
   {
    "duration": 97,
    "start_time": "2023-06-21T17:57:27.916Z"
   },
   {
    "duration": 7,
    "start_time": "2023-06-21T17:57:46.898Z"
   },
   {
    "duration": 17,
    "start_time": "2023-06-21T18:00:34.672Z"
   },
   {
    "duration": 6,
    "start_time": "2023-06-21T18:01:05.274Z"
   },
   {
    "duration": 11,
    "start_time": "2023-06-21T18:01:29.833Z"
   },
   {
    "duration": 17,
    "start_time": "2023-06-21T18:01:40.261Z"
   },
   {
    "duration": 4,
    "start_time": "2023-06-21T18:02:43.537Z"
   },
   {
    "duration": 5,
    "start_time": "2023-06-21T18:02:46.467Z"
   },
   {
    "duration": 1049,
    "start_time": "2023-06-21T18:03:30.945Z"
   },
   {
    "duration": 8,
    "start_time": "2023-06-21T18:03:32.215Z"
   },
   {
    "duration": 93,
    "start_time": "2023-06-21T18:04:25.899Z"
   },
   {
    "duration": 4,
    "start_time": "2023-06-21T18:04:29.632Z"
   },
   {
    "duration": 33,
    "start_time": "2023-06-21T18:04:35.858Z"
   },
   {
    "duration": 5,
    "start_time": "2023-06-21T18:05:38.292Z"
   },
   {
    "duration": 8,
    "start_time": "2023-06-21T18:06:06.731Z"
   },
   {
    "duration": 11,
    "start_time": "2023-06-21T18:06:25.807Z"
   },
   {
    "duration": 8,
    "start_time": "2023-06-21T18:06:36.991Z"
   },
   {
    "duration": 15,
    "start_time": "2023-06-21T18:06:43.533Z"
   },
   {
    "duration": 4,
    "start_time": "2023-06-21T18:06:53.033Z"
   },
   {
    "duration": 11,
    "start_time": "2023-06-21T18:06:56.336Z"
   },
   {
    "duration": 6,
    "start_time": "2023-06-21T18:07:06.510Z"
   },
   {
    "duration": 7,
    "start_time": "2023-06-21T18:09:43.336Z"
   },
   {
    "duration": 7,
    "start_time": "2023-06-21T18:09:45.500Z"
   },
   {
    "duration": 5,
    "start_time": "2023-06-21T18:10:31.296Z"
   },
   {
    "duration": 4,
    "start_time": "2023-06-21T18:10:56.924Z"
   },
   {
    "duration": 841,
    "start_time": "2023-06-25T11:39:47.506Z"
   },
   {
    "duration": 190,
    "start_time": "2023-06-25T11:39:48.349Z"
   },
   {
    "duration": 16,
    "start_time": "2023-06-25T11:39:48.541Z"
   },
   {
    "duration": 2099,
    "start_time": "2023-06-25T11:39:48.558Z"
   },
   {
    "duration": 77,
    "start_time": "2023-06-25T11:39:50.660Z"
   },
   {
    "duration": 22,
    "start_time": "2023-06-25T11:39:50.739Z"
   },
   {
    "duration": 4,
    "start_time": "2023-06-25T11:39:50.763Z"
   },
   {
    "duration": 11,
    "start_time": "2023-06-25T11:39:50.769Z"
   },
   {
    "duration": 13,
    "start_time": "2023-06-25T11:39:50.782Z"
   },
   {
    "duration": 6,
    "start_time": "2023-06-25T11:39:50.797Z"
   },
   {
    "duration": 9,
    "start_time": "2023-06-25T11:39:50.805Z"
   },
   {
    "duration": 6,
    "start_time": "2023-06-25T11:39:50.815Z"
   },
   {
    "duration": 15,
    "start_time": "2023-06-25T11:39:50.823Z"
   },
   {
    "duration": 8,
    "start_time": "2023-06-25T11:39:50.858Z"
   },
   {
    "duration": 24,
    "start_time": "2023-06-25T11:39:50.868Z"
   },
   {
    "duration": 10,
    "start_time": "2023-06-25T11:39:50.894Z"
   },
   {
    "duration": 7,
    "start_time": "2023-06-25T11:39:50.905Z"
   },
   {
    "duration": 272,
    "start_time": "2023-06-25T11:39:50.913Z"
   },
   {
    "duration": 39,
    "start_time": "2023-06-25T11:39:51.187Z"
   },
   {
    "duration": 40,
    "start_time": "2023-06-25T11:39:51.228Z"
   },
   {
    "duration": 13,
    "start_time": "2023-06-25T11:39:51.270Z"
   },
   {
    "duration": 10,
    "start_time": "2023-06-25T11:39:51.284Z"
   },
   {
    "duration": 44,
    "start_time": "2023-06-25T11:39:51.295Z"
   },
   {
    "duration": 12,
    "start_time": "2023-06-25T11:39:51.340Z"
   },
   {
    "duration": 150,
    "start_time": "2023-06-25T11:39:51.353Z"
   },
   {
    "duration": 60,
    "start_time": "2023-06-25T11:39:51.505Z"
   },
   {
    "duration": 33,
    "start_time": "2023-06-25T11:39:51.567Z"
   },
   {
    "duration": 54,
    "start_time": "2023-06-25T11:39:51.602Z"
   },
   {
    "duration": 21,
    "start_time": "2023-06-25T11:39:51.659Z"
   },
   {
    "duration": 60,
    "start_time": "2023-06-25T11:39:51.682Z"
   },
   {
    "duration": 102,
    "start_time": "2023-06-25T11:39:51.744Z"
   },
   {
    "duration": 4,
    "start_time": "2023-06-25T11:39:51.848Z"
   },
   {
    "duration": 54,
    "start_time": "2023-06-25T11:39:51.853Z"
   },
   {
    "duration": 648,
    "start_time": "2023-06-25T11:39:51.908Z"
   },
   {
    "duration": 43,
    "start_time": "2023-06-25T11:39:52.558Z"
   },
   {
    "duration": 191,
    "start_time": "2023-06-25T11:39:52.602Z"
   },
   {
    "duration": 243,
    "start_time": "2023-06-25T11:39:52.795Z"
   },
   {
    "duration": 197,
    "start_time": "2023-06-25T11:39:53.040Z"
   },
   {
    "duration": 192,
    "start_time": "2023-06-25T11:39:53.239Z"
   },
   {
    "duration": 186,
    "start_time": "2023-06-25T11:39:53.433Z"
   },
   {
    "duration": 137,
    "start_time": "2023-06-25T11:39:53.623Z"
   },
   {
    "duration": 147,
    "start_time": "2023-06-25T11:39:53.762Z"
   },
   {
    "duration": 182,
    "start_time": "2023-06-25T11:39:53.911Z"
   },
   {
    "duration": 215,
    "start_time": "2023-06-25T11:39:54.096Z"
   },
   {
    "duration": 188,
    "start_time": "2023-06-25T11:39:54.313Z"
   },
   {
    "duration": 211,
    "start_time": "2023-06-25T11:39:54.503Z"
   },
   {
    "duration": 203,
    "start_time": "2023-06-25T11:39:54.716Z"
   },
   {
    "duration": 186,
    "start_time": "2023-06-25T11:39:54.921Z"
   },
   {
    "duration": 189,
    "start_time": "2023-06-25T11:39:55.108Z"
   },
   {
    "duration": 139,
    "start_time": "2023-06-25T11:39:55.298Z"
   },
   {
    "duration": 206,
    "start_time": "2023-06-25T11:39:55.438Z"
   },
   {
    "duration": 197,
    "start_time": "2023-06-25T11:39:55.645Z"
   },
   {
    "duration": 300,
    "start_time": "2023-06-25T11:39:55.844Z"
   },
   {
    "duration": 180,
    "start_time": "2023-06-25T11:39:56.145Z"
   },
   {
    "duration": 171,
    "start_time": "2023-06-25T11:39:56.326Z"
   },
   {
    "duration": 176,
    "start_time": "2023-06-25T11:39:56.499Z"
   },
   {
    "duration": 174,
    "start_time": "2023-06-25T11:39:56.677Z"
   },
   {
    "duration": 167,
    "start_time": "2023-06-25T11:39:56.857Z"
   },
   {
    "duration": 163,
    "start_time": "2023-06-25T11:39:57.026Z"
   },
   {
    "duration": 219,
    "start_time": "2023-06-25T11:39:57.191Z"
   },
   {
    "duration": 174,
    "start_time": "2023-06-25T11:39:57.413Z"
   },
   {
    "duration": 7,
    "start_time": "2023-06-25T11:39:57.589Z"
   },
   {
    "duration": 26,
    "start_time": "2023-06-25T11:39:57.597Z"
   },
   {
    "duration": 341,
    "start_time": "2023-06-25T11:39:57.625Z"
   },
   {
    "duration": 12,
    "start_time": "2023-06-25T11:39:57.968Z"
   }
  ],
  "kernelspec": {
   "display_name": "Python 3 (ipykernel)",
   "language": "python",
   "name": "python3"
  },
  "language_info": {
   "codemirror_mode": {
    "name": "ipython",
    "version": 3
   },
   "file_extension": ".py",
   "mimetype": "text/x-python",
   "name": "python",
   "nbconvert_exporter": "python",
   "pygments_lexer": "ipython3",
   "version": "3.10.9"
  },
  "toc": {
   "base_numbering": 1,
   "nav_menu": {},
   "number_sections": true,
   "sideBar": true,
   "skip_h1_title": true,
   "title_cell": "Table of Contents",
   "title_sidebar": "Contents",
   "toc_cell": false,
   "toc_position": {},
   "toc_section_display": true,
   "toc_window_display": false
  }
 },
 "nbformat": 4,
 "nbformat_minor": 2
}
