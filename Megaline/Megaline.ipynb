{
 "cells": [
  {
   "cell_type": "markdown",
   "metadata": {},
   "source": [
    "# Рекомендация тарифов"
   ]
  },
  {
   "cell_type": "code",
   "execution_count": 1,
   "metadata": {},
   "outputs": [],
   "source": [
    "import pandas as pd\n",
    "from sklearn.model_selection import train_test_split\n",
    "from sklearn.tree import DecisionTreeClassifier\n",
    "from sklearn.metrics import accuracy_score\n",
    "from sklearn.ensemble import RandomForestClassifier\n",
    "from joblib import dump\n",
    "from sklearn.linear_model import LogisticRegression\n",
    "from sklearn.model_selection import GridSearchCV\n"    
   ]
  },
  {
   "cell_type": "markdown",
   "metadata": {},
   "source": [
    "## Откроем и изучим данные"
   ]
  },
  {
   "cell_type": "code",
   "execution_count": 2,
   "metadata": {},
   "outputs": [],
   "source": [
    "df = pd.read_csv('/datasets/users_behavior.csv')"
   ]
  },
  {
   "cell_type": "code",
   "execution_count": 3,
   "metadata": {},
   "outputs": [
    {
     "data": {
      "text/html": [
       "<div>\n",
       "<style scoped>\n",
       "    .dataframe tbody tr th:only-of-type {\n",
       "        vertical-align: middle;\n",
       "    }\n",
       "\n",
       "    .dataframe tbody tr th {\n",
       "        vertical-align: top;\n",
       "    }\n",
       "\n",
       "    .dataframe thead th {\n",
       "        text-align: right;\n",
       "    }\n",
       "</style>\n",
       "<table border=\"1\" class=\"dataframe\">\n",
       "  <thead>\n",
       "    <tr style=\"text-align: right;\">\n",
       "      <th></th>\n",
       "      <th>calls</th>\n",
       "      <th>minutes</th>\n",
       "      <th>messages</th>\n",
       "      <th>mb_used</th>\n",
       "      <th>is_ultra</th>\n",
       "    </tr>\n",
       "  </thead>\n",
       "  <tbody>\n",
       "    <tr>\n",
       "      <th>0</th>\n",
       "      <td>40.0</td>\n",
       "      <td>311.90</td>\n",
       "      <td>83.0</td>\n",
       "      <td>19915.42</td>\n",
       "      <td>0</td>\n",
       "    </tr>\n",
       "    <tr>\n",
       "      <th>1</th>\n",
       "      <td>85.0</td>\n",
       "      <td>516.75</td>\n",
       "      <td>56.0</td>\n",
       "      <td>22696.96</td>\n",
       "      <td>0</td>\n",
       "    </tr>\n",
       "    <tr>\n",
       "      <th>2</th>\n",
       "      <td>77.0</td>\n",
       "      <td>467.66</td>\n",
       "      <td>86.0</td>\n",
       "      <td>21060.45</td>\n",
       "      <td>0</td>\n",
       "    </tr>\n",
       "    <tr>\n",
       "      <th>3</th>\n",
       "      <td>106.0</td>\n",
       "      <td>745.53</td>\n",
       "      <td>81.0</td>\n",
       "      <td>8437.39</td>\n",
       "      <td>1</td>\n",
       "    </tr>\n",
       "    <tr>\n",
       "      <th>4</th>\n",
       "      <td>66.0</td>\n",
       "      <td>418.74</td>\n",
       "      <td>1.0</td>\n",
       "      <td>14502.75</td>\n",
       "      <td>0</td>\n",
       "    </tr>\n",
       "    <tr>\n",
       "      <th>5</th>\n",
       "      <td>58.0</td>\n",
       "      <td>344.56</td>\n",
       "      <td>21.0</td>\n",
       "      <td>15823.37</td>\n",
       "      <td>0</td>\n",
       "    </tr>\n",
       "    <tr>\n",
       "      <th>6</th>\n",
       "      <td>57.0</td>\n",
       "      <td>431.64</td>\n",
       "      <td>20.0</td>\n",
       "      <td>3738.90</td>\n",
       "      <td>1</td>\n",
       "    </tr>\n",
       "    <tr>\n",
       "      <th>7</th>\n",
       "      <td>15.0</td>\n",
       "      <td>132.40</td>\n",
       "      <td>6.0</td>\n",
       "      <td>21911.60</td>\n",
       "      <td>0</td>\n",
       "    </tr>\n",
       "    <tr>\n",
       "      <th>8</th>\n",
       "      <td>7.0</td>\n",
       "      <td>43.39</td>\n",
       "      <td>3.0</td>\n",
       "      <td>2538.67</td>\n",
       "      <td>1</td>\n",
       "    </tr>\n",
       "    <tr>\n",
       "      <th>9</th>\n",
       "      <td>90.0</td>\n",
       "      <td>665.41</td>\n",
       "      <td>38.0</td>\n",
       "      <td>17358.61</td>\n",
       "      <td>0</td>\n",
       "    </tr>\n",
       "  </tbody>\n",
       "</table>\n",
       "</div>"
      ],
      "text/plain": [
       "   calls  minutes  messages   mb_used  is_ultra\n",
       "0   40.0   311.90      83.0  19915.42         0\n",
       "1   85.0   516.75      56.0  22696.96         0\n",
       "2   77.0   467.66      86.0  21060.45         0\n",
       "3  106.0   745.53      81.0   8437.39         1\n",
       "4   66.0   418.74       1.0  14502.75         0\n",
       "5   58.0   344.56      21.0  15823.37         0\n",
       "6   57.0   431.64      20.0   3738.90         1\n",
       "7   15.0   132.40       6.0  21911.60         0\n",
       "8    7.0    43.39       3.0   2538.67         1\n",
       "9   90.0   665.41      38.0  17358.61         0"
      ]
     },
     "metadata": {},
     "output_type": "display_data"
    },
    {
     "name": "stdout",
     "output_type": "stream",
     "text": [
      "<class 'pandas.core.frame.DataFrame'>\n",
      "RangeIndex: 3214 entries, 0 to 3213\n",
      "Data columns (total 5 columns):\n",
      " #   Column    Non-Null Count  Dtype  \n",
      "---  ------    --------------  -----  \n",
      " 0   calls     3214 non-null   float64\n",
      " 1   minutes   3214 non-null   float64\n",
      " 2   messages  3214 non-null   float64\n",
      " 3   mb_used   3214 non-null   float64\n",
      " 4   is_ultra  3214 non-null   int64  \n",
      "dtypes: float64(4), int64(1)\n",
      "memory usage: 125.7 KB\n"
     ]
    }
   ],
   "source": [
    "display(df.head(10));\n",
    "df.info()"
   ]
  },
  {
   "cell_type": "markdown",
   "metadata": {},
   "source": [
    "**ВЫВОД:** Мы будем иметь дело с 3214 клиентами. Судя по данным датасета, все необходимые признаки для определения подписки присутствуют. Также, уже добавлен столбец с видом подписки, который является целью классификации, что облегчает нам задачу. "
   ]
  },
  {
   "cell_type": "markdown",
   "metadata": {},
   "source": [
    "## Разбиение данных на выборки"
   ]
  },
  {
   "cell_type": "markdown",
   "metadata": {},
   "source": [
    "Нужно разбить данные на 3 выборки\n",
    "- обучающая выборка\n",
    "- валидационная выборка\n",
    "- тестовая выборка"
   ]
  },
  {
   "cell_type": "code",
   "execution_count": 4,
   "metadata": {},
   "outputs": [
    {
     "name": "stdout",
     "output_type": "stream",
     "text": [
      "(3214, 4)\n",
      "(3214,)\n",
      "\n",
      "Размеры обучающей выборки:\n",
      "(1285, 4)\n",
      "(1285,)\n",
      "\n",
      "Размеры валидационной выборки:\n",
      "(964, 4)\n",
      "(964,)\n",
      "\n",
      "Размеры тестовой выборки:\n",
      "(965, 4)\n",
      "(965,)\n"
     ]
    }
   ],
   "source": [
    "features = df.drop(['is_ultra'], axis=1)\n",
    "target = df['is_ultra']\n",
    "\n",
    "df_train, df_valid_and_test = train_test_split(df, test_size=0.6, random_state=12345)\n",
    "df_valid, df_test = train_test_split(df_valid_and_test, test_size=0.50, random_state=12345)\n",
    "\n",
    "features_train = df_train.drop(['is_ultra'], axis=1)\n",
    "target_train = df_train['is_ultra']\n",
    "\n",
    "features_valid = df_valid.drop(['is_ultra'], axis=1)\n",
    "target_valid = df_valid['is_ultra']\n",
    "\n",
    "features_test = df_test.drop(['is_ultra'], axis=1)\n",
    "target_test = df_test['is_ultra']\n",
    "\n",
    "print(features.shape)\n",
    "print(target.shape)\n",
    "print()\n",
    "print('Размеры обучающей выборки:')\n",
    "print(features_train.shape)\n",
    "print(target_train.shape)\n",
    "print()\n",
    "print('Размеры валидационной выборки:')\n",
    "print(features_valid.shape)\n",
    "print(target_valid.shape)\n",
    "print()\n",
    "print('Размеры тестовой выборки:')\n",
    "print(features_test.shape)\n",
    "print(target_test.shape)"
   ]
  },
  {
   "cell_type": "markdown",
   "metadata": {},
   "source": []
  },
  {
   "cell_type": "markdown",
   "metadata": {},
   "source": [
    "**ВЫВОД**: Мы получили 3 выборки в пропорциях 60/20/20. Обучающая выборка забрала 60% данных, тестовая и валидационная поделили оставшиеся 40%."
   ]
  },
  {
   "cell_type": "markdown",
   "metadata": {},
   "source": [
    "## Исследование моделей"
   ]
  },
  {
   "cell_type": "markdown",
   "metadata": {},
   "source": [
    "Первой рассмотрим модель дерева решений. Воспользуемся модулем GridSearchCV для поиска лучших гиперпараметров."
   ]
  },
  {
   "cell_type": "code",
   "execution_count": 5,
   "metadata": {},
   "outputs": [],
   "source": [
    "model = DecisionTreeClassifier()\n",
    "parametrs = { 'max_depth': range (1, 11),\n",
    "             'min_samples_leaf': range (1, 11),\n",
    "             'min_samples_split': range (2, 10) }\n",
    "\n",
    "grid = GridSearchCV(model, parametrs);\n",
    "grid.fit(features_train, target_train);"
   ]
  },
  {
   "cell_type": "code",
   "execution_count": 6,
   "metadata": {},
   "outputs": [
    {
     "data": {
      "text/plain": [
       "{'max_depth': 8, 'min_samples_leaf': 10, 'min_samples_split': 6}"
      ]
     },
     "execution_count": 6,
     "metadata": {},
     "output_type": "execute_result"
    }
   ],
   "source": [
    "grid.best_params_"
   ]
  },
  {
   "cell_type": "markdown",
   "metadata": {},
   "source": [
    "Укажем полученные значения в параметрах классификатора `DecisionTreeClassifier`."
   ]
  },
  {
   "cell_type": "code",
   "execution_count": 7,
   "metadata": {},
   "outputs": [
    {
     "name": "stdout",
     "output_type": "stream",
     "text": [
      "Accuracy лучшей модели: 0.8101659751037344\n"
     ]
    }
   ],
   "source": [
    "model = DecisionTreeClassifier(random_state=12345, max_depth=7, min_samples_leaf=10, min_samples_split=4 )\n",
    "model.fit(features_train, target_train)\n",
    "predictions_valid = model.predict(features_valid)\n",
    "result = accuracy_score(target_valid, predictions_valid)\n",
    "print(f\"Accuracy лучшей модели: {result}\")"
   ]
  },
  {
   "cell_type": "markdown",
   "metadata": {},
   "source": [
    "Точность предсказания с помощью дерева решений составляет 0.81"
   ]
  },
  {
   "cell_type": "markdown",
   "metadata": {},
   "source": [
    "Далее рассмотрим модель случайного леса."
   ]
  },
  {
   "cell_type": "code",
   "execution_count": 8,
   "metadata": {},
   "outputs": [
    {
     "name": "stdout",
     "output_type": "stream",
     "text": [
      "Accuracy наилучшей модели на валидационной выборке: 0.8215767634854771, Количество деревьев: 34, Максимальная глубина: 10\n"
     ]
    }
   ],
   "source": [
    "best_model = None\n",
    "best_result = 0\n",
    "for est in range(1, 51):\n",
    "    for depth in range (1, 11):\n",
    "        model = RandomForestClassifier(random_state=12345, n_estimators=est, max_depth = depth) \n",
    "        model.fit(features_train, target_train) \n",
    "        result = model.score(features_valid, target_valid) \n",
    "        if result > best_result:\n",
    "            best_model = model\n",
    "            best_result = result\n",
    "            best_est = est\n",
    "            best_depth = depth\n",
    "print(f\"Accuracy наилучшей модели на валидационной выборке: {best_result}, Количество деревьев: {best_est}, Максимальная глубина: {depth}\")"
   ]
  },
  {
   "cell_type": "markdown",
   "metadata": {},
   "source": [
    "При `n_estimators = 34` и `max_depth = 10`, точность предсказания составляет 0.82"
   ]
  },
  {
   "cell_type": "markdown",
   "metadata": {},
   "source": [
    "Теперь снова обратимся к модулю GridSearchCV для поиска лучших гиперпараметров."
   ]
  },
  {
   "cell_type": "code",
   "execution_count": 9,
   "metadata": {},
   "outputs": [],
   "source": [
    "model = RandomForestClassifier()\n",
    "parametrs = { 'max_depth': range (1, 13, 2),\n",
    "             'n_estimators': range (10, 51, 10),\n",
    "             'min_samples_leaf': range (1, 11),\n",
    "             'min_samples_split': range (2, 10, 2) }\n",
    "grid = GridSearchCV(model, parametrs);\n",
    "grid.fit(features_train, target_train);"
   ]
  },
  {
   "cell_type": "code",
   "execution_count": 10,
   "metadata": {},
   "outputs": [
    {
     "data": {
      "text/plain": [
       "{'max_depth': 11,\n",
       " 'min_samples_leaf': 2,\n",
       " 'min_samples_split': 8,\n",
       " 'n_estimators': 50}"
      ]
     },
     "execution_count": 10,
     "metadata": {},
     "output_type": "execute_result"
    }
   ],
   "source": [
    "grid.best_params_"
   ]
  },
  {
   "cell_type": "code",
   "execution_count": 11,
   "metadata": {},
   "outputs": [
    {
     "name": "stdout",
     "output_type": "stream",
     "text": [
      "Accuracy лучшей модели: 0.8132780082987552\n"
     ]
    }
   ],
   "source": [
    "model = RandomForestClassifier(random_state=12345, max_depth=9, min_samples_leaf=3, min_samples_split=4, n_estimators=20 )\n",
    "model.fit(features_train, target_train)\n",
    "predictions_valid = model.predict(features_valid)\n",
    "result = accuracy_score(target_valid, predictions_valid)\n",
    "print(f\"Accuracy лучшей модели: {result}\")"
   ]
  },
  {
   "cell_type": "markdown",
   "metadata": {},
   "source": [
    "И, проверим модель логистической регрессии."
   ]
  },
  {
   "cell_type": "code",
   "execution_count": 12,
   "metadata": {},
   "outputs": [
    {
     "name": "stdout",
     "output_type": "stream",
     "text": [
      "Accuracy лучшей модели: 0.766597510373444 при количестве итераций 100\n"
     ]
    }
   ],
   "source": [
    "best_result = 0\n",
    "best_iter = 0\n",
    "for iters in range(100, 1500):\n",
    "    model = LogisticRegression(random_state=12345, solver='liblinear', max_iter = iters) \n",
    "    model.fit(features_train, target_train) \n",
    "    result = model.score(features_valid, target_valid) \n",
    "    if result > best_result:        \n",
    "        best_result = result   \n",
    "        best_iter = iters\n",
    "print(f\"Accuracy лучшей модели: {best_result} при количестве итераций {best_iter}\")        "
   ]
  },
  {
   "cell_type": "code",
   "execution_count": 13,
   "metadata": {},
   "outputs": [
    {
     "name": "stdout",
     "output_type": "stream",
     "text": [
      "Accuracy лучшей модели: 0.7686721991701245 при количестве итераций 100\n"
     ]
    }
   ],
   "source": [
    "best_result = 0\n",
    "for iters in range(100, 1500):\n",
    "    model = LogisticRegression(random_state=12345, solver='lbfgs', max_iter = iters) \n",
    "    model.fit(features_train, target_train) \n",
    "    result = model.score(features_valid, target_valid) \n",
    "    if result > best_result:        \n",
    "        best_result = result   \n",
    "print(f\"Accuracy лучшей модели: {best_result} при количестве итераций {best_iter}\") "
   ]
  },
  {
   "cell_type": "markdown",
   "metadata": {},
   "source": [
    "**ВЫВОД:** Как мы видим, самая высокая доля правильных ответов у модели случайного леса. Её и будем использовать для проверки на тестовой выборке."
   ]
  },
  {
   "cell_type": "markdown",
   "metadata": {},
   "source": [
    "## Проверка модели на тестовой выборке"
   ]
  },
  {
   "cell_type": "code",
   "execution_count": 14,
   "metadata": {},
   "outputs": [
    {
     "name": "stdout",
     "output_type": "stream",
     "text": [
      "Ошибок в тестовой выборке относительно общего объема данных выборки: 20.8%\n",
      "Ошибок в обучающей выборке относительно общего объема данных выборки: 17.2%\n"
     ]
    }
   ],
   "source": [
    "model = RandomForestClassifier(random_state=12345, max_depth=9, min_samples_leaf=3, min_samples_split=4, n_estimators= 34)\n",
    "model.fit(features_train, target_train)\n",
    "\n",
    "predictions_train = model.predict(features)\n",
    "predictions_test = model.predict(features_test)\n",
    "\n",
    "def error_count(answers, predictions):\n",
    "    errors = 0\n",
    "    for i, k in zip(answers, predictions):\n",
    "        if i != k:\n",
    "            errors += 1\n",
    "    return errors  \n",
    "print(f\"Ошибок в тестовой выборке относительно общего объема данных выборки: {error_count(target_test, predictions_test) / len(target_test):.1%}\")\n",
    "print(f\"Ошибок в обучающей выборке относительно общего объема данных выборки: {error_count(target, predictions_train)/ len(target):.1%}\")"
   ]
  },
  {
   "cell_type": "code",
   "execution_count": 15,
   "metadata": {},
   "outputs": [
    {
     "name": "stdout",
     "output_type": "stream",
     "text": [
      "Accuracy\n",
      "Обучающая выборка: 0.8276291225886746\n",
      "Тестовая выборка: 0.7917098445595855\n"
     ]
    }
   ],
   "source": [
    "accuracy1 = accuracy_score(target, predictions_train)\n",
    "accuracy2 = accuracy_score(target_test, predictions_test)\n",
    "print(\"Accuracy\")\n",
    "print(\"Обучающая выборка:\", accuracy1)\n",
    "print(\"Тестовая выборка:\", accuracy2)"
   ]
  },
  {
   "cell_type": "markdown",
   "metadata": {},
   "source": [
    "**ОБЩИЙ ВЫВОД**: Нам удалось достичь `Accuracy` выше 0.75. Наша модель может предсказывать правильные ответы с точностью до 79%."
   ]
  },
  {
   "cell_type": "markdown",
   "metadata": {},
   "source": [
    "## Проверка модели на адекватность"
   ]
  },
  {
   "cell_type": "code",
   "execution_count": 34,
   "metadata": {},
   "outputs": [
    {
     "data": {
      "text/plain": [
       "0.30647168637212197"
      ]
     },
     "metadata": {},
     "output_type": "display_data"
    },
    {
     "data": {
      "text/plain": [
       "0.693528313627878"
      ]
     },
     "metadata": {},
     "output_type": "display_data"
    }
   ],
   "source": [
    "display(df['is_ultra'].loc[df['is_ultra'] == 1].count() / len(df))\n",
    "display(df['is_ultra'].loc[df['is_ultra'] == 0].count() / len(df))"
   ]
  },
  {
   "cell_type": "markdown",
   "metadata": {},
   "source": [
    "**Вывод**: Ни одна из моделей не выдает качество ниже 70%. Соответственно, модели нельзя считать неадекватными."
   ]
  }
 ],
 "metadata": {
  "ExecuteTimeLog": [
   {
    "duration": 76,
    "start_time": "2023-07-13T16:14:01.628Z"
   },
   {
    "duration": 383,
    "start_time": "2023-07-13T16:14:27.645Z"
   },
   {
    "duration": 249,
    "start_time": "2023-07-13T16:14:29.759Z"
   },
   {
    "duration": 48,
    "start_time": "2023-07-13T16:15:29.257Z"
   },
   {
    "duration": 24,
    "start_time": "2023-07-13T16:15:47.793Z"
   },
   {
    "duration": 8,
    "start_time": "2023-07-13T16:15:56.923Z"
   },
   {
    "duration": 8,
    "start_time": "2023-07-13T16:15:59.000Z"
   },
   {
    "duration": 25,
    "start_time": "2023-07-13T16:16:13.189Z"
   },
   {
    "duration": 17,
    "start_time": "2023-07-13T16:16:29.748Z"
   },
   {
    "duration": 4,
    "start_time": "2023-07-13T16:21:24.035Z"
   },
   {
    "duration": 42,
    "start_time": "2023-07-13T16:23:42.903Z"
   },
   {
    "duration": 809,
    "start_time": "2023-07-13T16:23:56.718Z"
   },
   {
    "duration": 31,
    "start_time": "2023-07-13T16:23:58.323Z"
   },
   {
    "duration": 20,
    "start_time": "2023-07-13T16:23:58.737Z"
   },
   {
    "duration": 7,
    "start_time": "2023-07-13T16:24:00.663Z"
   },
   {
    "duration": 41,
    "start_time": "2023-07-13T16:25:20.500Z"
   },
   {
    "duration": 47,
    "start_time": "2023-07-13T16:25:40.026Z"
   },
   {
    "duration": 18,
    "start_time": "2023-07-13T16:27:10.264Z"
   },
   {
    "duration": 320,
    "start_time": "2023-07-13T16:27:52.006Z"
   },
   {
    "duration": 5,
    "start_time": "2023-07-13T16:28:40.120Z"
   },
   {
    "duration": 54,
    "start_time": "2023-07-13T16:28:44.140Z"
   },
   {
    "duration": 4,
    "start_time": "2023-07-13T16:28:55.148Z"
   },
   {
    "duration": 2710,
    "start_time": "2023-07-13T16:28:58.031Z"
   },
   {
    "duration": 1703,
    "start_time": "2023-07-13T16:30:53.971Z"
   },
   {
    "duration": 1944,
    "start_time": "2023-07-13T16:31:58.534Z"
   },
   {
    "duration": 12,
    "start_time": "2023-07-13T16:51:02.459Z"
   },
   {
    "duration": 1122,
    "start_time": "2023-07-13T16:51:12.635Z"
   },
   {
    "duration": 43,
    "start_time": "2023-07-13T16:51:13.759Z"
   },
   {
    "duration": 41,
    "start_time": "2023-07-13T16:51:13.804Z"
   },
   {
    "duration": 174,
    "start_time": "2023-07-13T16:51:13.848Z"
   },
   {
    "duration": 0,
    "start_time": "2023-07-13T16:51:14.024Z"
   },
   {
    "duration": 0,
    "start_time": "2023-07-13T16:51:14.025Z"
   },
   {
    "duration": 0,
    "start_time": "2023-07-13T16:51:14.026Z"
   },
   {
    "duration": 12,
    "start_time": "2023-07-13T16:51:43.415Z"
   },
   {
    "duration": 12,
    "start_time": "2023-07-13T16:51:46.756Z"
   },
   {
    "duration": 7,
    "start_time": "2023-07-13T16:52:25.798Z"
   },
   {
    "duration": 10,
    "start_time": "2023-07-13T16:53:12.008Z"
   },
   {
    "duration": 77,
    "start_time": "2023-07-13T16:55:28.418Z"
   },
   {
    "duration": 8,
    "start_time": "2023-07-13T16:56:54.643Z"
   },
   {
    "duration": 18,
    "start_time": "2023-07-13T16:57:57.753Z"
   },
   {
    "duration": 10,
    "start_time": "2023-07-13T16:58:02.136Z"
   },
   {
    "duration": 30,
    "start_time": "2023-07-13T16:58:30.337Z"
   },
   {
    "duration": 221,
    "start_time": "2023-07-13T16:59:22.069Z"
   },
   {
    "duration": 3282,
    "start_time": "2023-07-13T16:59:29.207Z"
   },
   {
    "duration": 26961,
    "start_time": "2023-07-13T17:01:57.623Z"
   },
   {
    "duration": 28430,
    "start_time": "2023-07-13T17:03:20.474Z"
   },
   {
    "duration": 29007,
    "start_time": "2023-07-13T17:04:59.264Z"
   },
   {
    "duration": 103,
    "start_time": "2023-07-13T17:08:35.303Z"
   },
   {
    "duration": 111,
    "start_time": "2023-07-13T17:08:53.033Z"
   },
   {
    "duration": 149,
    "start_time": "2023-07-13T17:09:13.691Z"
   },
   {
    "duration": 14,
    "start_time": "2023-07-13T17:11:06.285Z"
   },
   {
    "duration": 114,
    "start_time": "2023-07-13T17:11:36.057Z"
   },
   {
    "duration": 5,
    "start_time": "2023-07-13T17:11:39.365Z"
   },
   {
    "duration": 6,
    "start_time": "2023-07-13T17:11:50.911Z"
   },
   {
    "duration": 981,
    "start_time": "2023-07-13T17:13:05.121Z"
   },
   {
    "duration": 2365,
    "start_time": "2023-07-13T17:13:11.316Z"
   },
   {
    "duration": 230,
    "start_time": "2023-07-13T17:13:13.700Z"
   },
   {
    "duration": 7,
    "start_time": "2023-07-13T17:13:15.532Z"
   },
   {
    "duration": 22,
    "start_time": "2023-07-13T17:13:28.349Z"
   },
   {
    "duration": 33359,
    "start_time": "2023-07-13T17:13:36.705Z"
   },
   {
    "duration": 19,
    "start_time": "2023-07-13T17:14:17.230Z"
   },
   {
    "duration": 145,
    "start_time": "2023-07-13T17:14:43.660Z"
   },
   {
    "duration": 13,
    "start_time": "2023-07-13T17:14:45.638Z"
   },
   {
    "duration": 10,
    "start_time": "2023-07-13T17:14:54.703Z"
   },
   {
    "duration": 110,
    "start_time": "2023-07-13T17:15:59.440Z"
   },
   {
    "duration": 7,
    "start_time": "2023-07-13T17:16:10.649Z"
   },
   {
    "duration": 92,
    "start_time": "2023-07-13T17:30:18.342Z"
   },
   {
    "duration": 6,
    "start_time": "2023-07-13T17:30:20.015Z"
   },
   {
    "duration": 86,
    "start_time": "2023-07-13T17:30:23.435Z"
   },
   {
    "duration": 7,
    "start_time": "2023-07-13T17:30:24.946Z"
   },
   {
    "duration": 156,
    "start_time": "2023-07-13T17:30:33.145Z"
   },
   {
    "duration": 6,
    "start_time": "2023-07-13T17:30:34.842Z"
   },
   {
    "duration": 122,
    "start_time": "2023-07-13T17:30:40.138Z"
   },
   {
    "duration": 5,
    "start_time": "2023-07-13T17:30:41.228Z"
   },
   {
    "duration": 107,
    "start_time": "2023-07-13T17:30:44.669Z"
   },
   {
    "duration": 6,
    "start_time": "2023-07-13T17:30:45.812Z"
   },
   {
    "duration": 127,
    "start_time": "2023-07-13T17:30:50.088Z"
   },
   {
    "duration": 5,
    "start_time": "2023-07-13T17:30:51.343Z"
   },
   {
    "duration": 96,
    "start_time": "2023-07-13T17:30:55.140Z"
   },
   {
    "duration": 6,
    "start_time": "2023-07-13T17:30:56.380Z"
   },
   {
    "duration": 113,
    "start_time": "2023-07-13T17:31:04.993Z"
   },
   {
    "duration": 7,
    "start_time": "2023-07-13T17:31:06.030Z"
   },
   {
    "duration": 126,
    "start_time": "2023-07-13T17:31:10.364Z"
   },
   {
    "duration": 5,
    "start_time": "2023-07-13T17:31:11.183Z"
   },
   {
    "duration": 122,
    "start_time": "2023-07-13T17:31:13.933Z"
   },
   {
    "duration": 108,
    "start_time": "2023-07-13T17:31:18.688Z"
   },
   {
    "duration": 5,
    "start_time": "2023-07-13T17:31:19.334Z"
   },
   {
    "duration": 85,
    "start_time": "2023-07-13T17:31:24.079Z"
   },
   {
    "duration": 6,
    "start_time": "2023-07-13T17:31:24.743Z"
   },
   {
    "duration": 124,
    "start_time": "2023-07-13T17:31:28.169Z"
   },
   {
    "duration": 7,
    "start_time": "2023-07-13T17:31:28.785Z"
   },
   {
    "duration": 146,
    "start_time": "2023-07-13T17:31:34.905Z"
   },
   {
    "duration": 4,
    "start_time": "2023-07-13T17:31:35.470Z"
   },
   {
    "duration": 114,
    "start_time": "2023-07-13T17:31:40.735Z"
   },
   {
    "duration": 5,
    "start_time": "2023-07-13T17:31:41.277Z"
   },
   {
    "duration": 50,
    "start_time": "2023-07-14T14:20:18.125Z"
   },
   {
    "duration": 1267,
    "start_time": "2023-07-14T14:20:23.739Z"
   },
   {
    "duration": 64,
    "start_time": "2023-07-14T14:20:25.008Z"
   },
   {
    "duration": 29,
    "start_time": "2023-07-14T14:20:25.073Z"
   },
   {
    "duration": 108,
    "start_time": "2023-07-14T14:20:25.104Z"
   },
   {
    "duration": 0,
    "start_time": "2023-07-14T14:20:25.214Z"
   },
   {
    "duration": 0,
    "start_time": "2023-07-14T14:20:25.216Z"
   },
   {
    "duration": 0,
    "start_time": "2023-07-14T14:20:25.217Z"
   },
   {
    "duration": 0,
    "start_time": "2023-07-14T14:20:25.219Z"
   },
   {
    "duration": 0,
    "start_time": "2023-07-14T14:20:25.220Z"
   },
   {
    "duration": 11,
    "start_time": "2023-07-14T14:20:48.734Z"
   },
   {
    "duration": 12,
    "start_time": "2023-07-14T14:21:53.771Z"
   },
   {
    "duration": 13,
    "start_time": "2023-07-14T14:22:54.911Z"
   },
   {
    "duration": 15,
    "start_time": "2023-07-14T14:23:07.556Z"
   },
   {
    "duration": 31,
    "start_time": "2023-07-14T14:27:25.942Z"
   },
   {
    "duration": 29,
    "start_time": "2023-07-14T14:29:42.636Z"
   },
   {
    "duration": 27,
    "start_time": "2023-07-14T14:30:21.035Z"
   },
   {
    "duration": 32,
    "start_time": "2023-07-14T14:30:27.315Z"
   },
   {
    "duration": 68,
    "start_time": "2023-07-14T14:32:22.914Z"
   },
   {
    "duration": 34,
    "start_time": "2023-07-14T14:32:39.299Z"
   },
   {
    "duration": 19,
    "start_time": "2023-07-14T14:34:47.671Z"
   },
   {
    "duration": 28,
    "start_time": "2023-07-14T14:34:55.085Z"
   },
   {
    "duration": 56,
    "start_time": "2023-07-14T14:35:25.870Z"
   },
   {
    "duration": 139,
    "start_time": "2023-07-14T14:35:32.399Z"
   },
   {
    "duration": 344,
    "start_time": "2023-07-14T14:35:54.915Z"
   },
   {
    "duration": 28,
    "start_time": "2023-07-14T14:40:09.156Z"
   },
   {
    "duration": 26,
    "start_time": "2023-07-14T14:40:29.346Z"
   },
   {
    "duration": 1130,
    "start_time": "2023-07-14T14:40:34.677Z"
   },
   {
    "duration": 39,
    "start_time": "2023-07-14T14:40:35.809Z"
   },
   {
    "duration": 28,
    "start_time": "2023-07-14T14:40:35.850Z"
   },
   {
    "duration": 14,
    "start_time": "2023-07-14T14:40:35.880Z"
   },
   {
    "duration": 123,
    "start_time": "2023-07-14T14:40:35.896Z"
   },
   {
    "duration": 0,
    "start_time": "2023-07-14T14:40:36.021Z"
   },
   {
    "duration": 0,
    "start_time": "2023-07-14T14:40:36.023Z"
   },
   {
    "duration": 0,
    "start_time": "2023-07-14T14:40:36.024Z"
   },
   {
    "duration": 0,
    "start_time": "2023-07-14T14:40:36.026Z"
   },
   {
    "duration": 32,
    "start_time": "2023-07-14T14:40:56.905Z"
   },
   {
    "duration": 55,
    "start_time": "2023-07-14T14:41:24.696Z"
   },
   {
    "duration": 507,
    "start_time": "2023-07-14T14:44:10.155Z"
   },
   {
    "duration": 342,
    "start_time": "2023-07-14T14:45:54.619Z"
   },
   {
    "duration": 329,
    "start_time": "2023-07-14T14:46:00.533Z"
   },
   {
    "duration": 50,
    "start_time": "2023-07-14T14:46:22.974Z"
   },
   {
    "duration": 51,
    "start_time": "2023-07-14T14:49:16.873Z"
   },
   {
    "duration": 52,
    "start_time": "2023-07-14T14:49:41.660Z"
   },
   {
    "duration": 52,
    "start_time": "2023-07-14T14:49:59.771Z"
   },
   {
    "duration": 51,
    "start_time": "2023-07-14T14:50:07.232Z"
   },
   {
    "duration": 4,
    "start_time": "2023-07-14T15:03:26.870Z"
   },
   {
    "duration": 1163,
    "start_time": "2023-07-14T15:09:49.653Z"
   },
   {
    "duration": 29,
    "start_time": "2023-07-14T15:09:50.818Z"
   },
   {
    "duration": 27,
    "start_time": "2023-07-14T15:09:50.849Z"
   },
   {
    "duration": 13,
    "start_time": "2023-07-14T15:09:50.877Z"
   },
   {
    "duration": 10502,
    "start_time": "2023-07-14T15:09:55.637Z"
   },
   {
    "duration": 4,
    "start_time": "2023-07-14T15:10:30.826Z"
   },
   {
    "duration": 98,
    "start_time": "2023-07-14T15:10:42.843Z"
   },
   {
    "duration": 5,
    "start_time": "2023-07-14T15:10:45.300Z"
   },
   {
    "duration": 2817,
    "start_time": "2023-07-14T15:11:59.772Z"
   },
   {
    "duration": 10382,
    "start_time": "2023-07-14T15:12:13.742Z"
   },
   {
    "duration": 4,
    "start_time": "2023-07-14T15:12:28.589Z"
   },
   {
    "duration": 62,
    "start_time": "2023-07-14T15:13:05.952Z"
   },
   {
    "duration": 16,
    "start_time": "2023-07-14T15:13:11.982Z"
   },
   {
    "duration": 12,
    "start_time": "2023-07-14T15:13:21.800Z"
   },
   {
    "duration": 1136,
    "start_time": "2023-07-14T15:13:53.190Z"
   },
   {
    "duration": 29,
    "start_time": "2023-07-14T15:13:54.328Z"
   },
   {
    "duration": 24,
    "start_time": "2023-07-14T15:13:54.359Z"
   },
   {
    "duration": 23,
    "start_time": "2023-07-14T15:13:54.384Z"
   },
   {
    "duration": 14,
    "start_time": "2023-07-14T15:13:54.409Z"
   },
   {
    "duration": 10343,
    "start_time": "2023-07-14T15:15:19.136Z"
   },
   {
    "duration": 10474,
    "start_time": "2023-07-14T15:15:37.790Z"
   },
   {
    "duration": 4,
    "start_time": "2023-07-14T15:15:51.354Z"
   },
   {
    "duration": 12,
    "start_time": "2023-07-14T15:17:27.859Z"
   },
   {
    "duration": 46084,
    "start_time": "2023-07-14T15:18:08.253Z"
   },
   {
    "duration": 4,
    "start_time": "2023-07-14T15:18:57.831Z"
   },
   {
    "duration": 10,
    "start_time": "2023-07-14T15:19:11.450Z"
   },
   {
    "duration": 20126,
    "start_time": "2023-07-14T15:19:36.582Z"
   },
   {
    "duration": 5,
    "start_time": "2023-07-14T15:19:58.651Z"
   },
   {
    "duration": 11,
    "start_time": "2023-07-14T15:20:11.307Z"
   },
   {
    "duration": 11,
    "start_time": "2023-07-14T15:20:14.877Z"
   },
   {
    "duration": 27657,
    "start_time": "2023-07-14T15:21:39.606Z"
   },
   {
    "duration": 61,
    "start_time": "2023-07-14T15:27:36.937Z"
   },
   {
    "duration": 109,
    "start_time": "2023-07-14T15:27:45.347Z"
   },
   {
    "duration": 1155,
    "start_time": "2023-07-14T15:29:26.361Z"
   },
   {
    "duration": 30,
    "start_time": "2023-07-14T15:29:27.518Z"
   },
   {
    "duration": 34,
    "start_time": "2023-07-14T15:29:27.549Z"
   },
   {
    "duration": 14,
    "start_time": "2023-07-14T15:29:27.584Z"
   },
   {
    "duration": 1145,
    "start_time": "2023-07-14T15:30:05.553Z"
   },
   {
    "duration": 29,
    "start_time": "2023-07-14T15:30:06.701Z"
   },
   {
    "duration": 26,
    "start_time": "2023-07-14T15:30:06.732Z"
   },
   {
    "duration": 15,
    "start_time": "2023-07-14T15:30:06.760Z"
   },
   {
    "duration": 21041,
    "start_time": "2023-07-14T15:30:09.079Z"
   },
   {
    "duration": 4,
    "start_time": "2023-07-14T15:30:33.620Z"
   },
   {
    "duration": 12,
    "start_time": "2023-07-14T15:30:35.445Z"
   },
   {
    "duration": 27719,
    "start_time": "2023-07-14T15:30:44.564Z"
   },
   {
    "duration": 63,
    "start_time": "2023-07-14T15:31:14.489Z"
   },
   {
    "duration": 1112,
    "start_time": "2023-07-14T15:37:27.395Z"
   },
   {
    "duration": 31,
    "start_time": "2023-07-14T15:37:28.509Z"
   },
   {
    "duration": 27,
    "start_time": "2023-07-14T15:37:28.542Z"
   },
   {
    "duration": 14,
    "start_time": "2023-07-14T15:37:28.570Z"
   },
   {
    "duration": 21947,
    "start_time": "2023-07-14T15:37:28.586Z"
   },
   {
    "duration": 5,
    "start_time": "2023-07-14T15:37:50.534Z"
   },
   {
    "duration": 24,
    "start_time": "2023-07-14T15:37:50.540Z"
   },
   {
    "duration": 28261,
    "start_time": "2023-07-14T15:37:50.565Z"
   },
   {
    "duration": 11,
    "start_time": "2023-07-14T15:38:18.828Z"
   },
   {
    "duration": 28498,
    "start_time": "2023-07-14T15:38:34.476Z"
   },
   {
    "duration": 359181,
    "start_time": "2023-07-14T15:39:34.245Z"
   },
   {
    "duration": 4,
    "start_time": "2023-07-14T15:45:38.553Z"
   },
   {
    "duration": 60,
    "start_time": "2023-07-14T15:49:00.482Z"
   },
   {
    "duration": 91,
    "start_time": "2023-07-14T15:49:11.809Z"
   },
   {
    "duration": 62,
    "start_time": "2023-07-14T15:49:23.340Z"
   },
   {
    "duration": 72,
    "start_time": "2023-07-14T15:50:43.342Z"
   },
   {
    "duration": 6,
    "start_time": "2023-07-14T15:50:46.158Z"
   },
   {
    "duration": 111,
    "start_time": "2023-07-14T15:50:52.348Z"
   },
   {
    "duration": 6,
    "start_time": "2023-07-14T15:50:55.092Z"
   },
   {
    "duration": 57,
    "start_time": "2023-07-14T15:52:54.319Z"
   },
   {
    "duration": 115,
    "start_time": "2023-07-14T15:54:03.158Z"
   },
   {
    "duration": 109,
    "start_time": "2023-07-14T15:54:53.407Z"
   },
   {
    "duration": 60,
    "start_time": "2023-07-14T15:55:50.088Z"
   },
   {
    "duration": 63,
    "start_time": "2023-07-14T15:56:57.136Z"
   },
   {
    "duration": 73,
    "start_time": "2023-07-14T15:57:17.125Z"
   },
   {
    "duration": 110,
    "start_time": "2023-07-14T15:59:11.890Z"
   },
   {
    "duration": 113,
    "start_time": "2023-07-14T15:59:30.706Z"
   },
   {
    "duration": 120,
    "start_time": "2023-07-14T15:59:34.661Z"
   },
   {
    "duration": 5,
    "start_time": "2023-07-14T16:00:34.717Z"
   },
   {
    "duration": 116,
    "start_time": "2023-07-14T16:00:40.140Z"
   },
   {
    "duration": 6,
    "start_time": "2023-07-14T16:00:41.881Z"
   },
   {
    "duration": 28590,
    "start_time": "2023-07-14T16:02:12.044Z"
   },
   {
    "duration": 351,
    "start_time": "2023-07-14T16:11:24.811Z"
   },
   {
    "duration": 1128,
    "start_time": "2023-07-14T16:21:17.677Z"
   },
   {
    "duration": 30,
    "start_time": "2023-07-14T16:21:18.806Z"
   },
   {
    "duration": 28,
    "start_time": "2023-07-14T16:21:19.150Z"
   },
   {
    "duration": 14,
    "start_time": "2023-07-14T16:21:22.772Z"
   },
   {
    "duration": 1181,
    "start_time": "2023-07-14T16:23:31.056Z"
   },
   {
    "duration": 30,
    "start_time": "2023-07-14T16:23:32.239Z"
   },
   {
    "duration": 27,
    "start_time": "2023-07-14T16:23:32.271Z"
   },
   {
    "duration": 75,
    "start_time": "2023-07-14T16:23:32.300Z"
   },
   {
    "duration": 1107,
    "start_time": "2023-07-14T16:24:22.800Z"
   },
   {
    "duration": 30,
    "start_time": "2023-07-14T16:24:23.909Z"
   },
   {
    "duration": 27,
    "start_time": "2023-07-14T16:24:23.941Z"
   },
   {
    "duration": 13,
    "start_time": "2023-07-14T16:24:23.969Z"
   },
   {
    "duration": 1160,
    "start_time": "2023-07-14T16:25:17.826Z"
   },
   {
    "duration": 30,
    "start_time": "2023-07-14T16:25:18.988Z"
   },
   {
    "duration": 27,
    "start_time": "2023-07-14T16:25:19.019Z"
   },
   {
    "duration": 14,
    "start_time": "2023-07-14T16:25:19.048Z"
   },
   {
    "duration": 526,
    "start_time": "2023-07-14T16:25:24.834Z"
   },
   {
    "duration": 770,
    "start_time": "2023-07-14T16:26:00.189Z"
   },
   {
    "duration": 421,
    "start_time": "2023-07-14T16:26:04.750Z"
   },
   {
    "duration": 777,
    "start_time": "2023-07-14T16:26:08.983Z"
   },
   {
    "duration": 414,
    "start_time": "2023-07-14T16:26:15.556Z"
   },
   {
    "duration": 266,
    "start_time": "2023-07-14T16:26:19.295Z"
   },
   {
    "duration": 485,
    "start_time": "2023-07-14T16:26:22.475Z"
   },
   {
    "duration": 317,
    "start_time": "2023-07-14T16:26:37.194Z"
   },
   {
    "duration": 276,
    "start_time": "2023-07-14T16:26:42.044Z"
   },
   {
    "duration": 2624,
    "start_time": "2023-07-14T16:26:58.839Z"
   },
   {
    "duration": 18,
    "start_time": "2023-07-14T16:27:15.153Z"
   },
   {
    "duration": 13,
    "start_time": "2023-07-14T16:29:21.639Z"
   },
   {
    "duration": 15,
    "start_time": "2023-07-14T16:29:24.202Z"
   },
   {
    "duration": 106,
    "start_time": "2023-07-14T16:29:25.855Z"
   },
   {
    "duration": 9122,
    "start_time": "2023-07-14T16:29:35.811Z"
   },
   {
    "duration": 9222,
    "start_time": "2023-07-14T16:29:49.216Z"
   },
   {
    "duration": 9554,
    "start_time": "2023-07-14T16:30:23.788Z"
   },
   {
    "duration": 39658,
    "start_time": "2023-07-14T16:30:47.016Z"
   },
   {
    "duration": 117154,
    "start_time": "2023-07-14T16:31:29.059Z"
   },
   {
    "duration": 14,
    "start_time": "2023-07-14T16:33:26.215Z"
   },
   {
    "duration": 9447,
    "start_time": "2023-07-14T16:34:04.962Z"
   },
   {
    "duration": 39489,
    "start_time": "2023-07-14T16:34:23.016Z"
   },
   {
    "duration": 247,
    "start_time": "2023-07-14T16:36:57.970Z"
   },
   {
    "duration": 1511,
    "start_time": "2023-07-14T16:39:14.668Z"
   },
   {
    "duration": 31,
    "start_time": "2023-07-14T16:39:16.181Z"
   },
   {
    "duration": 24,
    "start_time": "2023-07-14T16:39:16.213Z"
   },
   {
    "duration": 14,
    "start_time": "2023-07-14T16:39:16.239Z"
   },
   {
    "duration": 20865,
    "start_time": "2023-07-14T16:39:16.255Z"
   },
   {
    "duration": 3,
    "start_time": "2023-07-14T16:39:37.122Z"
   },
   {
    "duration": 13,
    "start_time": "2023-07-14T16:39:37.127Z"
   },
   {
    "duration": 27661,
    "start_time": "2023-07-14T16:39:37.141Z"
   },
   {
    "duration": 358263,
    "start_time": "2023-07-14T16:40:04.803Z"
   },
   {
    "duration": 5,
    "start_time": "2023-07-14T16:46:03.068Z"
   },
   {
    "duration": 88,
    "start_time": "2023-07-14T16:46:03.075Z"
   },
   {
    "duration": 9787,
    "start_time": "2023-07-14T16:46:03.165Z"
   },
   {
    "duration": 41697,
    "start_time": "2023-07-14T16:46:12.954Z"
   },
   {
    "duration": 124,
    "start_time": "2023-07-14T16:46:54.653Z"
   },
   {
    "duration": 7,
    "start_time": "2023-07-14T16:46:54.778Z"
   },
   {
    "duration": 6,
    "start_time": "2023-07-14T16:47:01.401Z"
   },
   {
    "duration": 5,
    "start_time": "2023-07-14T16:47:05.283Z"
   },
   {
    "duration": 113,
    "start_time": "2023-07-14T16:47:33.142Z"
   },
   {
    "duration": 5,
    "start_time": "2023-07-14T16:48:14.490Z"
   },
   {
    "duration": 14,
    "start_time": "2023-07-14T16:49:17.250Z"
   },
   {
    "duration": 12,
    "start_time": "2023-07-14T16:49:26.397Z"
   },
   {
    "duration": 14,
    "start_time": "2023-07-14T16:49:48.218Z"
   },
   {
    "duration": 6,
    "start_time": "2023-07-14T16:50:04.764Z"
   },
   {
    "duration": 8,
    "start_time": "2023-07-14T16:50:39.949Z"
   },
   {
    "duration": 8,
    "start_time": "2023-07-14T16:50:45.514Z"
   },
   {
    "duration": 6,
    "start_time": "2023-07-14T16:50:51.069Z"
   },
   {
    "duration": 6,
    "start_time": "2023-07-14T16:50:55.903Z"
   },
   {
    "duration": 10,
    "start_time": "2023-07-14T16:50:58.966Z"
   },
   {
    "duration": 13,
    "start_time": "2023-07-14T16:51:18.972Z"
   },
   {
    "duration": 14,
    "start_time": "2023-07-14T16:52:13.374Z"
   },
   {
    "duration": 12,
    "start_time": "2023-07-14T16:52:24.468Z"
   },
   {
    "duration": 13,
    "start_time": "2023-07-14T16:52:55.602Z"
   },
   {
    "duration": 11,
    "start_time": "2023-07-14T16:53:20.686Z"
   },
   {
    "duration": 9,
    "start_time": "2023-07-14T16:53:32.462Z"
   }
  ],
  "kernelspec": {
   "display_name": "Python 3 (ipykernel)",
   "language": "python",
   "name": "python3"
  },
  "language_info": {
   "codemirror_mode": {
    "name": "ipython",
    "version": 3
   },
   "file_extension": ".py",
   "mimetype": "text/x-python",
   "name": "python",
   "nbconvert_exporter": "python",
   "pygments_lexer": "ipython3",
   "version": "3.10.9"
  },
  "toc": {
   "base_numbering": 1,
   "nav_menu": {},
   "number_sections": true,
   "sideBar": true,
   "skip_h1_title": true,
   "title_cell": "Table of Contents",
   "title_sidebar": "Contents",
   "toc_cell": false,
   "toc_position": {},
   "toc_section_display": true,
   "toc_window_display": false
  }
 },
 "nbformat": 4,
 "nbformat_minor": 2
}
